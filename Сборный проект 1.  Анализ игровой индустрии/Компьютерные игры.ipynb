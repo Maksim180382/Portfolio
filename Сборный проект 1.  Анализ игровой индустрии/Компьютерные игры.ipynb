{
 "cells": [
  {
   "cell_type": "markdown",
   "metadata": {},
   "source": [
    "# Исследование компьютерных игр\n",
    "\n",
    "Мы работаем в интернет-магазине «Стримчик», который продаёт по всему миру компьютерные игры. Из открытых источников доступны исторические данные о продажах игр, оценки пользователей и экспертов, жанры и платформы (например, Xbox или PlayStation). Нам нужно выявить определяющие успешность игры закономерности. Это позволит сделать ставку на потенциально популярный продукт и спланировать рекламные кампании.\n",
    "Перед нами данные до 2016 года. Сейчас декабрь 2016 г., и мы планируем кампанию на 2017-й. Нужно отработать принцип работы с данными. \n",
    "В наборе данных попадается аббревиатура ESRB (Entertainment Software Rating Board) — это ассоциация, определяющая возрастной рейтинг компьютерных игр. ESRB оценивает игровой контент и присваивает ему подходящую возрастную категорию, например, «Для взрослых», «Для детей младшего возраста» или «Для подростков»."
   ]
  },
  {
   "cell_type": "markdown",
   "metadata": {},
   "source": [
    "# Описание данных\n",
    "Name — название игры\n",
    "\n",
    "Platform — платформа\n",
    "\n",
    "Year_of_Release — год выпуска\n",
    "\n",
    "Genre — жанр игры\n",
    "\n",
    "NA_sales — продажи в Северной Америке (миллионы проданных копий)\n",
    "\n",
    "EU_sales — продажи в Европе (миллионы проданных копий)\n",
    "\n",
    "JP_sales — продажи в Японии (миллионы проданных копий)\n",
    "\n",
    "Other_sales — продажи в других странах (миллионы проданных копий)\n",
    "\n",
    "Critic_Score — оценка критиков (максимум 100)\n",
    "\n",
    "User_Score — оценка пользователей (максимум 10)\n",
    "\n",
    "Rating — рейтинг от организации ESRB (англ. Entertainment Software Rating Board). Эта ассоциация определяет рейтинг компьютерных игр и присваивает им подходящую возрастную категорию."
   ]
  },
  {
   "cell_type": "markdown",
   "metadata": {},
   "source": [
    "## Откройте файл с данными и изучите общую информацию. "
   ]
  },
  {
   "cell_type": "code",
   "execution_count": 1,
   "metadata": {},
   "outputs": [],
   "source": [
    "import pandas as pd\n",
    "import numpy as np\n",
    "import scipy.stats as st\n",
    "import seaborn as sns\n",
    "from matplotlib import pyplot as plt \n",
    "from math import factorial\n",
    "from scipy import stats as st\n",
    "\n",
    "\n",
    "# импортируем необходимые для проекта библиотеки"
   ]
  },
  {
   "cell_type": "code",
   "execution_count": 2,
   "metadata": {},
   "outputs": [],
   "source": [
    "data = pd.read_csv(\"/datasets/games.csv\") # открываем файл, дав название таблице"
   ]
  },
  {
   "cell_type": "code",
   "execution_count": 3,
   "metadata": {},
   "outputs": [
    {
     "data": {
      "text/html": [
       "<div>\n",
       "<style scoped>\n",
       "    .dataframe tbody tr th:only-of-type {\n",
       "        vertical-align: middle;\n",
       "    }\n",
       "\n",
       "    .dataframe tbody tr th {\n",
       "        vertical-align: top;\n",
       "    }\n",
       "\n",
       "    .dataframe thead th {\n",
       "        text-align: right;\n",
       "    }\n",
       "</style>\n",
       "<table border=\"1\" class=\"dataframe\">\n",
       "  <thead>\n",
       "    <tr style=\"text-align: right;\">\n",
       "      <th></th>\n",
       "      <th>Name</th>\n",
       "      <th>Platform</th>\n",
       "      <th>Year_of_Release</th>\n",
       "      <th>Genre</th>\n",
       "      <th>NA_sales</th>\n",
       "      <th>EU_sales</th>\n",
       "      <th>JP_sales</th>\n",
       "      <th>Other_sales</th>\n",
       "      <th>Critic_Score</th>\n",
       "      <th>User_Score</th>\n",
       "      <th>Rating</th>\n",
       "    </tr>\n",
       "  </thead>\n",
       "  <tbody>\n",
       "    <tr>\n",
       "      <th>0</th>\n",
       "      <td>Wii Sports</td>\n",
       "      <td>Wii</td>\n",
       "      <td>2006.0</td>\n",
       "      <td>Sports</td>\n",
       "      <td>41.36</td>\n",
       "      <td>28.96</td>\n",
       "      <td>3.77</td>\n",
       "      <td>8.45</td>\n",
       "      <td>76.0</td>\n",
       "      <td>8</td>\n",
       "      <td>E</td>\n",
       "    </tr>\n",
       "    <tr>\n",
       "      <th>1</th>\n",
       "      <td>Super Mario Bros.</td>\n",
       "      <td>NES</td>\n",
       "      <td>1985.0</td>\n",
       "      <td>Platform</td>\n",
       "      <td>29.08</td>\n",
       "      <td>3.58</td>\n",
       "      <td>6.81</td>\n",
       "      <td>0.77</td>\n",
       "      <td>NaN</td>\n",
       "      <td>NaN</td>\n",
       "      <td>NaN</td>\n",
       "    </tr>\n",
       "    <tr>\n",
       "      <th>2</th>\n",
       "      <td>Mario Kart Wii</td>\n",
       "      <td>Wii</td>\n",
       "      <td>2008.0</td>\n",
       "      <td>Racing</td>\n",
       "      <td>15.68</td>\n",
       "      <td>12.76</td>\n",
       "      <td>3.79</td>\n",
       "      <td>3.29</td>\n",
       "      <td>82.0</td>\n",
       "      <td>8.3</td>\n",
       "      <td>E</td>\n",
       "    </tr>\n",
       "    <tr>\n",
       "      <th>3</th>\n",
       "      <td>Wii Sports Resort</td>\n",
       "      <td>Wii</td>\n",
       "      <td>2009.0</td>\n",
       "      <td>Sports</td>\n",
       "      <td>15.61</td>\n",
       "      <td>10.93</td>\n",
       "      <td>3.28</td>\n",
       "      <td>2.95</td>\n",
       "      <td>80.0</td>\n",
       "      <td>8</td>\n",
       "      <td>E</td>\n",
       "    </tr>\n",
       "    <tr>\n",
       "      <th>4</th>\n",
       "      <td>Pokemon Red/Pokemon Blue</td>\n",
       "      <td>GB</td>\n",
       "      <td>1996.0</td>\n",
       "      <td>Role-Playing</td>\n",
       "      <td>11.27</td>\n",
       "      <td>8.89</td>\n",
       "      <td>10.22</td>\n",
       "      <td>1.00</td>\n",
       "      <td>NaN</td>\n",
       "      <td>NaN</td>\n",
       "      <td>NaN</td>\n",
       "    </tr>\n",
       "  </tbody>\n",
       "</table>\n",
       "</div>"
      ],
      "text/plain": [
       "                       Name Platform  Year_of_Release         Genre  NA_sales  \\\n",
       "0                Wii Sports      Wii           2006.0        Sports     41.36   \n",
       "1         Super Mario Bros.      NES           1985.0      Platform     29.08   \n",
       "2            Mario Kart Wii      Wii           2008.0        Racing     15.68   \n",
       "3         Wii Sports Resort      Wii           2009.0        Sports     15.61   \n",
       "4  Pokemon Red/Pokemon Blue       GB           1996.0  Role-Playing     11.27   \n",
       "\n",
       "   EU_sales  JP_sales  Other_sales  Critic_Score User_Score Rating  \n",
       "0     28.96      3.77         8.45          76.0          8      E  \n",
       "1      3.58      6.81         0.77           NaN        NaN    NaN  \n",
       "2     12.76      3.79         3.29          82.0        8.3      E  \n",
       "3     10.93      3.28         2.95          80.0          8      E  \n",
       "4      8.89     10.22         1.00           NaN        NaN    NaN  "
      ]
     },
     "execution_count": 3,
     "metadata": {},
     "output_type": "execute_result"
    }
   ],
   "source": [
    "data.head() # проверяем, открыв первые 5 строк таблицы"
   ]
  },
  {
   "cell_type": "code",
   "execution_count": 4,
   "metadata": {
    "scrolled": true
   },
   "outputs": [
    {
     "name": "stdout",
     "output_type": "stream",
     "text": [
      "<class 'pandas.core.frame.DataFrame'>\n",
      "RangeIndex: 16715 entries, 0 to 16714\n",
      "Data columns (total 11 columns):\n",
      " #   Column           Non-Null Count  Dtype  \n",
      "---  ------           --------------  -----  \n",
      " 0   Name             16713 non-null  object \n",
      " 1   Platform         16715 non-null  object \n",
      " 2   Year_of_Release  16446 non-null  float64\n",
      " 3   Genre            16713 non-null  object \n",
      " 4   NA_sales         16715 non-null  float64\n",
      " 5   EU_sales         16715 non-null  float64\n",
      " 6   JP_sales         16715 non-null  float64\n",
      " 7   Other_sales      16715 non-null  float64\n",
      " 8   Critic_Score     8137 non-null   float64\n",
      " 9   User_Score       10014 non-null  object \n",
      " 10  Rating           9949 non-null   object \n",
      "dtypes: float64(6), object(5)\n",
      "memory usage: 1.4+ MB\n"
     ]
    }
   ],
   "source": [
    "data.info() # смотрим общую информацию о таблице"
   ]
  },
  {
   "cell_type": "code",
   "execution_count": 5,
   "metadata": {},
   "outputs": [
    {
     "data": {
      "text/plain": [
       "Name                  2\n",
       "Platform              0\n",
       "Year_of_Release     269\n",
       "Genre                 2\n",
       "NA_sales              0\n",
       "EU_sales              0\n",
       "JP_sales              0\n",
       "Other_sales           0\n",
       "Critic_Score       8578\n",
       "User_Score         6701\n",
       "Rating             6766\n",
       "dtype: int64"
      ]
     },
     "execution_count": 5,
     "metadata": {},
     "output_type": "execute_result"
    }
   ],
   "source": [
    "data.isna().sum() # смотрим на наличие пропусков в столбцах"
   ]
  },
  {
   "cell_type": "markdown",
   "metadata": {},
   "source": [
    "Пропущены значения в суледующих столбцах: \"Наименование\", \"Год релиза\", \"Оценка критиков\", \"Оценка пользователей\", \"Рейтинг\""
   ]
  },
  {
   "cell_type": "markdown",
   "metadata": {},
   "source": [
    "#### Вывод. \n",
    "Загрузили и просмотрели данные, пропуски в данных присутствуют, в дальнейшем проверим данные на  выбивающиеся значения. Названия столбцов приведем к нижнему регистру, пропуски обработаем"
   ]
  },
  {
   "cell_type": "markdown",
   "metadata": {},
   "source": [
    "## Подготовка данных. "
   ]
  },
  {
   "cell_type": "code",
   "execution_count": 6,
   "metadata": {},
   "outputs": [],
   "source": [
    "data.columns = data.columns.str.lower() # приводим название стодбцов к нижнему регистру"
   ]
  },
  {
   "cell_type": "code",
   "execution_count": 7,
   "metadata": {},
   "outputs": [
    {
     "data": {
      "text/html": [
       "<div>\n",
       "<style scoped>\n",
       "    .dataframe tbody tr th:only-of-type {\n",
       "        vertical-align: middle;\n",
       "    }\n",
       "\n",
       "    .dataframe tbody tr th {\n",
       "        vertical-align: top;\n",
       "    }\n",
       "\n",
       "    .dataframe thead th {\n",
       "        text-align: right;\n",
       "    }\n",
       "</style>\n",
       "<table border=\"1\" class=\"dataframe\">\n",
       "  <thead>\n",
       "    <tr style=\"text-align: right;\">\n",
       "      <th></th>\n",
       "      <th>name</th>\n",
       "      <th>platform</th>\n",
       "      <th>year_of_release</th>\n",
       "      <th>genre</th>\n",
       "      <th>na_sales</th>\n",
       "      <th>eu_sales</th>\n",
       "      <th>jp_sales</th>\n",
       "      <th>other_sales</th>\n",
       "      <th>critic_score</th>\n",
       "      <th>user_score</th>\n",
       "      <th>rating</th>\n",
       "    </tr>\n",
       "  </thead>\n",
       "  <tbody>\n",
       "    <tr>\n",
       "      <th>0</th>\n",
       "      <td>Wii Sports</td>\n",
       "      <td>Wii</td>\n",
       "      <td>2006.0</td>\n",
       "      <td>Sports</td>\n",
       "      <td>41.36</td>\n",
       "      <td>28.96</td>\n",
       "      <td>3.77</td>\n",
       "      <td>8.45</td>\n",
       "      <td>76.0</td>\n",
       "      <td>8</td>\n",
       "      <td>E</td>\n",
       "    </tr>\n",
       "    <tr>\n",
       "      <th>1</th>\n",
       "      <td>Super Mario Bros.</td>\n",
       "      <td>NES</td>\n",
       "      <td>1985.0</td>\n",
       "      <td>Platform</td>\n",
       "      <td>29.08</td>\n",
       "      <td>3.58</td>\n",
       "      <td>6.81</td>\n",
       "      <td>0.77</td>\n",
       "      <td>NaN</td>\n",
       "      <td>NaN</td>\n",
       "      <td>NaN</td>\n",
       "    </tr>\n",
       "    <tr>\n",
       "      <th>2</th>\n",
       "      <td>Mario Kart Wii</td>\n",
       "      <td>Wii</td>\n",
       "      <td>2008.0</td>\n",
       "      <td>Racing</td>\n",
       "      <td>15.68</td>\n",
       "      <td>12.76</td>\n",
       "      <td>3.79</td>\n",
       "      <td>3.29</td>\n",
       "      <td>82.0</td>\n",
       "      <td>8.3</td>\n",
       "      <td>E</td>\n",
       "    </tr>\n",
       "  </tbody>\n",
       "</table>\n",
       "</div>"
      ],
      "text/plain": [
       "                name platform  year_of_release     genre  na_sales  eu_sales  \\\n",
       "0         Wii Sports      Wii           2006.0    Sports     41.36     28.96   \n",
       "1  Super Mario Bros.      NES           1985.0  Platform     29.08      3.58   \n",
       "2     Mario Kart Wii      Wii           2008.0    Racing     15.68     12.76   \n",
       "\n",
       "   jp_sales  other_sales  critic_score user_score rating  \n",
       "0      3.77         8.45          76.0          8      E  \n",
       "1      6.81         0.77           NaN        NaN    NaN  \n",
       "2      3.79         3.29          82.0        8.3      E  "
      ]
     },
     "execution_count": 7,
     "metadata": {},
     "output_type": "execute_result"
    }
   ],
   "source": [
    "data.head(3) # проверяем"
   ]
  },
  {
   "cell_type": "code",
   "execution_count": 8,
   "metadata": {},
   "outputs": [],
   "source": [
    "data = data.dropna(subset=['name']) # удаляем пропуски в графе \"название\""
   ]
  },
  {
   "cell_type": "code",
   "execution_count": 9,
   "metadata": {},
   "outputs": [],
   "source": [
    "data = data.dropna(subset=['genre']) # удаляем пропуски в графе \"жанр\""
   ]
  },
  {
   "cell_type": "code",
   "execution_count": 10,
   "metadata": {},
   "outputs": [],
   "source": [
    "data = data.dropna(subset=['year_of_release']) # удаляем пропуски в графе \"год релиза\""
   ]
  },
  {
   "cell_type": "markdown",
   "metadata": {},
   "source": [
    "Удалили пропуски в графе \"Наименование\" и \"Жанр\" из-за малого количества. всего лишь 2. Пропуски в графе \"Год релиза\" составляю 1.6% от общей массы данных, их тоже удаляем, так как невозможно заполнить средними или медаианными значениями."
   ]
  },
  {
   "cell_type": "code",
   "execution_count": 11,
   "metadata": {},
   "outputs": [],
   "source": [
    "data.year_of_release = data.year_of_release.astype('int32') \n",
    "# переводим занчения в графе \"год релиза[\" в целочисловой\"]\""
   ]
  },
  {
   "cell_type": "markdown",
   "metadata": {},
   "source": [
    "Изенили тип на целое число, так как год не может быть не целым "
   ]
  },
  {
   "cell_type": "markdown",
   "metadata": {},
   "source": [
    "Пропуски в столбцах \"critic_score\", \"rating\", и \"user score\" удалять или заполнять не будем, так как их очень много, до половины всех данных"
   ]
  },
  {
   "cell_type": "code",
   "execution_count": 12,
   "metadata": {},
   "outputs": [
    {
     "data": {
      "text/plain": [
       "array(['8', nan, '8.3', '8.5', '6.6', '8.4', '8.6', '7.7', '6.3', '7.4',\n",
       "       '8.2', '9', '7.9', '8.1', '8.7', '7.1', '3.4', '5.3', '4.8', '3.2',\n",
       "       '8.9', '6.4', '7.8', '7.5', '2.6', '7.2', '9.2', '7', '7.3', '4.3',\n",
       "       '7.6', '5.7', '5', '9.1', '6.5', 'tbd', '8.8', '6.9', '9.4', '6.8',\n",
       "       '6.1', '6.7', '5.4', '4', '4.9', '4.5', '9.3', '6.2', '4.2', '6',\n",
       "       '3.7', '4.1', '5.8', '5.6', '5.5', '4.4', '4.6', '5.9', '3.9',\n",
       "       '3.1', '2.9', '5.2', '3.3', '4.7', '5.1', '3.5', '2.5', '1.9', '3',\n",
       "       '2.7', '2.2', '2', '9.5', '2.1', '3.6', '2.8', '1.8', '3.8', '0',\n",
       "       '1.6', '9.6', '2.4', '1.7', '1.1', '0.3', '1.5', '0.7', '1.2',\n",
       "       '2.3', '0.5', '1.3', '0.2', '0.6', '1.4', '0.9', '1', '9.7'],\n",
       "      dtype=object)"
      ]
     },
     "execution_count": 12,
     "metadata": {},
     "output_type": "execute_result"
    }
   ],
   "source": [
    "data[\"user_score\"].unique() # проверяем количество уникальных оценок пользователей"
   ]
  },
  {
   "cell_type": "code",
   "execution_count": 13,
   "metadata": {},
   "outputs": [
    {
     "data": {
      "text/plain": [
       "tbd    2376\n",
       "7.8     322\n",
       "8       285\n",
       "8.2     276\n",
       "8.3     252\n",
       "       ... \n",
       "0.6       2\n",
       "1.9       2\n",
       "0.9       2\n",
       "0         1\n",
       "9.7       1\n",
       "Name: user_score, Length: 96, dtype: int64"
      ]
     },
     "execution_count": 13,
     "metadata": {},
     "output_type": "execute_result"
    }
   ],
   "source": [
    "data[\"user_score\"].value_counts() # смотрим количество уникальных оценок"
   ]
  },
  {
   "cell_type": "markdown",
   "metadata": {},
   "source": [
    "В графе с оценками пользователей встречается аббревиатура tbd, которая  используется для обозначения, что некоторые детали или решения еще не установлены или не определены, и требуют дальнейшей работы или принятия решения. В данной таблице эта аббревиатура указывает на то, что рейтинг еще не определен. Таких данных довольно много  - более 14%, поэтому их удалять нельзя, а следует заменить на \"nan\""
   ]
  },
  {
   "cell_type": "code",
   "execution_count": 14,
   "metadata": {},
   "outputs": [],
   "source": [
    "data['user_score'] = data['user_score'].replace('tbd', np.nan) # меняем tbd  на nan пропущенные значения"
   ]
  },
  {
   "cell_type": "code",
   "execution_count": 15,
   "metadata": {},
   "outputs": [
    {
     "data": {
      "text/plain": [
       "array(['8', nan, '8.3', '8.5', '6.6', '8.4', '8.6', '7.7', '6.3', '7.4',\n",
       "       '8.2', '9', '7.9', '8.1', '8.7', '7.1', '3.4', '5.3', '4.8', '3.2',\n",
       "       '8.9', '6.4', '7.8', '7.5', '2.6', '7.2', '9.2', '7', '7.3', '4.3',\n",
       "       '7.6', '5.7', '5', '9.1', '6.5', '8.8', '6.9', '9.4', '6.8', '6.1',\n",
       "       '6.7', '5.4', '4', '4.9', '4.5', '9.3', '6.2', '4.2', '6', '3.7',\n",
       "       '4.1', '5.8', '5.6', '5.5', '4.4', '4.6', '5.9', '3.9', '3.1',\n",
       "       '2.9', '5.2', '3.3', '4.7', '5.1', '3.5', '2.5', '1.9', '3', '2.7',\n",
       "       '2.2', '2', '9.5', '2.1', '3.6', '2.8', '1.8', '3.8', '0', '1.6',\n",
       "       '9.6', '2.4', '1.7', '1.1', '0.3', '1.5', '0.7', '1.2', '2.3',\n",
       "       '0.5', '1.3', '0.2', '0.6', '1.4', '0.9', '1', '9.7'], dtype=object)"
      ]
     },
     "execution_count": 15,
     "metadata": {},
     "output_type": "execute_result"
    }
   ],
   "source": [
    "data[\"user_score\"].unique() # проверяем"
   ]
  },
  {
   "cell_type": "code",
   "execution_count": 16,
   "metadata": {},
   "outputs": [],
   "source": [
    "data.user_score = data.user_score.astype('float') # меняем тип данных в графе \"оценка пользователей\""
   ]
  },
  {
   "cell_type": "code",
   "execution_count": 17,
   "metadata": {},
   "outputs": [],
   "source": [
    "#data[\"total_sales\"] = data[\"na_sales\"]+data[\"eu_sales\"]+data[\"jp_sales\"]+data[\"other_sales\"] \n",
    "# добавляем столбец с суммарными продажами"
   ]
  },
  {
   "cell_type": "code",
   "execution_count": 18,
   "metadata": {},
   "outputs": [],
   "source": [
    "data[\"total_sales\"] = data[[\"na_sales\", \"eu_sales\", \"jp_sales\", \"other_sales\"]].sum(axis = 1) \n",
    "# добавляем столбец с суммарными продажами"
   ]
  },
  {
   "cell_type": "code",
   "execution_count": 19,
   "metadata": {},
   "outputs": [
    {
     "data": {
      "text/html": [
       "<div>\n",
       "<style scoped>\n",
       "    .dataframe tbody tr th:only-of-type {\n",
       "        vertical-align: middle;\n",
       "    }\n",
       "\n",
       "    .dataframe tbody tr th {\n",
       "        vertical-align: top;\n",
       "    }\n",
       "\n",
       "    .dataframe thead th {\n",
       "        text-align: right;\n",
       "    }\n",
       "</style>\n",
       "<table border=\"1\" class=\"dataframe\">\n",
       "  <thead>\n",
       "    <tr style=\"text-align: right;\">\n",
       "      <th></th>\n",
       "      <th>name</th>\n",
       "      <th>platform</th>\n",
       "      <th>year_of_release</th>\n",
       "      <th>genre</th>\n",
       "      <th>na_sales</th>\n",
       "      <th>eu_sales</th>\n",
       "      <th>jp_sales</th>\n",
       "      <th>other_sales</th>\n",
       "      <th>critic_score</th>\n",
       "      <th>user_score</th>\n",
       "      <th>rating</th>\n",
       "      <th>total_sales</th>\n",
       "    </tr>\n",
       "  </thead>\n",
       "  <tbody>\n",
       "    <tr>\n",
       "      <th>0</th>\n",
       "      <td>Wii Sports</td>\n",
       "      <td>Wii</td>\n",
       "      <td>2006</td>\n",
       "      <td>Sports</td>\n",
       "      <td>41.36</td>\n",
       "      <td>28.96</td>\n",
       "      <td>3.77</td>\n",
       "      <td>8.45</td>\n",
       "      <td>76.0</td>\n",
       "      <td>8.0</td>\n",
       "      <td>E</td>\n",
       "      <td>82.54</td>\n",
       "    </tr>\n",
       "    <tr>\n",
       "      <th>1</th>\n",
       "      <td>Super Mario Bros.</td>\n",
       "      <td>NES</td>\n",
       "      <td>1985</td>\n",
       "      <td>Platform</td>\n",
       "      <td>29.08</td>\n",
       "      <td>3.58</td>\n",
       "      <td>6.81</td>\n",
       "      <td>0.77</td>\n",
       "      <td>NaN</td>\n",
       "      <td>NaN</td>\n",
       "      <td>NaN</td>\n",
       "      <td>40.24</td>\n",
       "    </tr>\n",
       "    <tr>\n",
       "      <th>2</th>\n",
       "      <td>Mario Kart Wii</td>\n",
       "      <td>Wii</td>\n",
       "      <td>2008</td>\n",
       "      <td>Racing</td>\n",
       "      <td>15.68</td>\n",
       "      <td>12.76</td>\n",
       "      <td>3.79</td>\n",
       "      <td>3.29</td>\n",
       "      <td>82.0</td>\n",
       "      <td>8.3</td>\n",
       "      <td>E</td>\n",
       "      <td>35.52</td>\n",
       "    </tr>\n",
       "    <tr>\n",
       "      <th>3</th>\n",
       "      <td>Wii Sports Resort</td>\n",
       "      <td>Wii</td>\n",
       "      <td>2009</td>\n",
       "      <td>Sports</td>\n",
       "      <td>15.61</td>\n",
       "      <td>10.93</td>\n",
       "      <td>3.28</td>\n",
       "      <td>2.95</td>\n",
       "      <td>80.0</td>\n",
       "      <td>8.0</td>\n",
       "      <td>E</td>\n",
       "      <td>32.77</td>\n",
       "    </tr>\n",
       "    <tr>\n",
       "      <th>4</th>\n",
       "      <td>Pokemon Red/Pokemon Blue</td>\n",
       "      <td>GB</td>\n",
       "      <td>1996</td>\n",
       "      <td>Role-Playing</td>\n",
       "      <td>11.27</td>\n",
       "      <td>8.89</td>\n",
       "      <td>10.22</td>\n",
       "      <td>1.00</td>\n",
       "      <td>NaN</td>\n",
       "      <td>NaN</td>\n",
       "      <td>NaN</td>\n",
       "      <td>31.38</td>\n",
       "    </tr>\n",
       "  </tbody>\n",
       "</table>\n",
       "</div>"
      ],
      "text/plain": [
       "                       name platform  year_of_release         genre  na_sales  \\\n",
       "0                Wii Sports      Wii             2006        Sports     41.36   \n",
       "1         Super Mario Bros.      NES             1985      Platform     29.08   \n",
       "2            Mario Kart Wii      Wii             2008        Racing     15.68   \n",
       "3         Wii Sports Resort      Wii             2009        Sports     15.61   \n",
       "4  Pokemon Red/Pokemon Blue       GB             1996  Role-Playing     11.27   \n",
       "\n",
       "   eu_sales  jp_sales  other_sales  critic_score  user_score rating  \\\n",
       "0     28.96      3.77         8.45          76.0         8.0      E   \n",
       "1      3.58      6.81         0.77           NaN         NaN    NaN   \n",
       "2     12.76      3.79         3.29          82.0         8.3      E   \n",
       "3     10.93      3.28         2.95          80.0         8.0      E   \n",
       "4      8.89     10.22         1.00           NaN         NaN    NaN   \n",
       "\n",
       "   total_sales  \n",
       "0        82.54  \n",
       "1        40.24  \n",
       "2        35.52  \n",
       "3        32.77  \n",
       "4        31.38  "
      ]
     },
     "execution_count": 19,
     "metadata": {},
     "output_type": "execute_result"
    }
   ],
   "source": [
    "data.head() # проверяем"
   ]
  },
  {
   "cell_type": "code",
   "execution_count": 20,
   "metadata": {},
   "outputs": [
    {
     "data": {
      "text/plain": [
       "array(['Wii', 'NES', 'GB', 'DS', 'X360', 'PS3', 'PS2', 'SNES', 'GBA',\n",
       "       'PS4', '3DS', 'N64', 'PS', 'XB', 'PC', '2600', 'PSP', 'XOne',\n",
       "       'WiiU', 'GC', 'GEN', 'DC', 'PSV', 'SAT', 'SCD', 'WS', 'NG', 'TG16',\n",
       "       '3DO', 'GG', 'PCFX'], dtype=object)"
      ]
     },
     "execution_count": 20,
     "metadata": {},
     "output_type": "execute_result"
    }
   ],
   "source": [
    "data[\"platform\"].unique() # проверяем количество уникальных платформ"
   ]
  },
  {
   "cell_type": "code",
   "execution_count": 21,
   "metadata": {},
   "outputs": [
    {
     "data": {
      "text/plain": [
       "array(['Sports', 'Platform', 'Racing', 'Role-Playing', 'Puzzle', 'Misc',\n",
       "       'Shooter', 'Simulation', 'Action', 'Fighting', 'Adventure',\n",
       "       'Strategy'], dtype=object)"
      ]
     },
     "execution_count": 21,
     "metadata": {},
     "output_type": "execute_result"
    }
   ],
   "source": [
    "data[\"genre\"].unique() # проверяем количество уникальных жанров"
   ]
  },
  {
   "cell_type": "code",
   "execution_count": 22,
   "metadata": {},
   "outputs": [
    {
     "data": {
      "text/plain": [
       "11426"
      ]
     },
     "execution_count": 22,
     "metadata": {},
     "output_type": "execute_result"
    }
   ],
   "source": [
    "data[\"name\"].nunique() # проверяем количество игр"
   ]
  },
  {
   "cell_type": "code",
   "execution_count": 23,
   "metadata": {},
   "outputs": [
    {
     "data": {
      "text/plain": [
       "E       3921\n",
       "T       2905\n",
       "M       1536\n",
       "E10+    1393\n",
       "EC         8\n",
       "K-A        3\n",
       "RP         1\n",
       "AO         1\n",
       "Name: rating, dtype: int64"
      ]
     },
     "execution_count": 23,
     "metadata": {},
     "output_type": "execute_result"
    }
   ],
   "source": [
    "data[\"rating\"].value_counts() # проверяем количество игр по возрастному рейтингу"
   ]
  },
  {
   "cell_type": "code",
   "execution_count": 24,
   "metadata": {},
   "outputs": [],
   "source": [
    "data['rating'] = data['rating'].fillna('Unknown') # меняем пропуски в графе \"рейтинг\""
   ]
  },
  {
   "cell_type": "markdown",
   "metadata": {},
   "source": [
    "Данные в графе \"рейтинг\" могли быть пропущены по разным причинам - игра может быть в разработке, либо рейтинг не определен по системе ESRB (Америка), в Европе - это Pegi, в Австралии ACB, России - RARS, в Японии CERO. "
   ]
  },
  {
   "cell_type": "markdown",
   "metadata": {},
   "source": [
    "В этом разделе мы по возможности удалили пропущенные значения без ущерба в потере данных, в тех столбцах, где большое количество пропусков, пока менять не стали. В графе с оценкой пользователей есть непроставленные рейтинги, эти данные заменили на пропущенные значения. Поменяли типы данных у года релиза, а также в столбце \"оценка пользователей\" Добавили столбец с суммарными данными по продажам."
   ]
  },
  {
   "cell_type": "markdown",
   "metadata": {},
   "source": [
    "## Исследовательский анализ данных"
   ]
  },
  {
   "cell_type": "code",
   "execution_count": 25,
   "metadata": {},
   "outputs": [
    {
     "data": {
      "text/plain": [
       "year_of_release\n",
       "2008    1427\n",
       "2009    1426\n",
       "2010    1255\n",
       "2007    1197\n",
       "2011    1136\n",
       "2006    1006\n",
       "2005     939\n",
       "2002     829\n",
       "2003     775\n",
       "2004     762\n",
       "2012     653\n",
       "2015     606\n",
       "2014     581\n",
       "2013     544\n",
       "2016     502\n",
       "2001     482\n",
       "1998     379\n",
       "2000     350\n",
       "1999     338\n",
       "1997     289\n",
       "1996     263\n",
       "1995     219\n",
       "1994     121\n",
       "1993      60\n",
       "1981      46\n",
       "1992      43\n",
       "1991      41\n",
       "1982      36\n",
       "1986      21\n",
       "1989      17\n",
       "1983      17\n",
       "1990      16\n",
       "1987      16\n",
       "1988      15\n",
       "1985      14\n",
       "1984      14\n",
       "1980       9\n",
       "Name: name, dtype: int64"
      ]
     },
     "execution_count": 25,
     "metadata": {},
     "output_type": "execute_result"
    }
   ],
   "source": [
    "data.groupby(\"year_of_release\")[\"name\"].count().sort_values(ascending = False) \n",
    "# смотрим распределение релизов по годам"
   ]
  },
  {
   "cell_type": "code",
   "execution_count": 26,
   "metadata": {},
   "outputs": [
    {
     "data": {
      "image/png": "[encoded data removed]",
      "text/plain": [
       "<Figure size 1440x504 with 1 Axes>"
      ]
     },
     "metadata": {
      "needs_background": "light"
     },
     "output_type": "display_data"
    }
   ],
   "source": [
    "data.plot(kind='hist',y='year_of_release',grid=True, bins=80, figsize=(20,7),title='Распределение выхода игр по годам')\n",
    "plt.xlabel('Год выпуска игры')\n",
    "plt.ylabel('Количество игр')\n",
    "plt.show()"
   ]
  },
  {
   "cell_type": "markdown",
   "metadata": {},
   "source": [
    "Больше всего игр было выпущено в период с 2007 по 2011 год. Резкий рост выпуска игр заметен в 2001-м году"
   ]
  },
  {
   "cell_type": "code",
   "execution_count": 27,
   "metadata": {},
   "outputs": [
    {
     "data": {
      "text/plain": [
       "platform\n",
       "PS2     1233.56\n",
       "X360     961.24\n",
       "PS3      931.34\n",
       "Wii      891.18\n",
       "DS       802.78\n",
       "PS       727.58\n",
       "PS4      314.14\n",
       "GBA      312.88\n",
       "PSP      289.53\n",
       "3DS      257.81\n",
       "PC       255.76\n",
       "GB       254.43\n",
       "XB       251.57\n",
       "NES      251.05\n",
       "N64      218.01\n",
       "SNES     200.04\n",
       "GC       196.73\n",
       "XOne     159.32\n",
       "2600      86.48\n",
       "WiiU      82.19\n",
       "PSV       53.81\n",
       "SAT       33.59\n",
       "GEN       28.35\n",
       "DC        15.95\n",
       "SCD        1.86\n",
       "NG         1.44\n",
       "WS         1.42\n",
       "TG16       0.16\n",
       "3DO        0.10\n",
       "GG         0.04\n",
       "PCFX       0.03\n",
       "Name: total_sales, dtype: float64"
      ]
     },
     "execution_count": 27,
     "metadata": {},
     "output_type": "execute_result"
    }
   ],
   "source": [
    "data.groupby(\"platform\")[\"total_sales\"].sum().sort_values(ascending = False) \n",
    "# Смотрим распределение по объемам продаж у каждой платформы"
   ]
  },
  {
   "cell_type": "markdown",
   "metadata": {},
   "source": [
    "Лидирующими платформами по продажам игр за весь период являются PS2, X360, PS3, Wii, DS, PS"
   ]
  },
  {
   "cell_type": "code",
   "execution_count": 28,
   "metadata": {},
   "outputs": [
    {
     "data": {
      "image/png": "[encoded data removed]",
      "text/plain": [
       "<Figure size 1800x720 with 6 Axes>"
      ]
     },
     "metadata": {
      "needs_background": "light"
     },
     "output_type": "display_data"
    }
   ],
   "source": [
    "platforms = ['PS2', 'X360', 'PS3', 'Wii', 'DS', 'PS']\n",
    "plt.figure(figsize=(25,10))\n",
    "i = 1\n",
    "for view in platforms:\n",
    "    plt.subplot (2,3,i)\n",
    "    data[data['platform'] == view].groupby('year_of_release')['total_sales'].sum().plot( grid = True)\n",
    "    plt.xlabel('Год продаж')\n",
    "    plt.ylabel('Суммы продаж')\n",
    "    plt.title(view)\n",
    "    plt.legend()\n",
    "    i+=1"
   ]
  },
  {
   "cell_type": "markdown",
   "metadata": {},
   "source": [
    "PS2 игры на этой платформе продавались в период с 2000 по 2010 год. Пик 2002-2004\n",
    "\n",
    "X360 игры на этой платформе продавались в период с 2005 по 2015 год. Пик 2008-2010\n",
    "\n",
    "PS3 игры на этой платформе продавались в период с 2006 по 2015 год. Пик 2010-2011\n",
    "\n",
    "Wii игры на этой платформе продавались в период с 2006 по 2010 год. Пик 2008-2009\n",
    "\n",
    "DS игры на этой платформе продавались в период с 2004 по 2010 год. Пик 2005-2008\n",
    "\n",
    "PS игры на этой платформе продавались в период с 1995 по 2002 год. Пик 1998\n",
    "\n",
    "На данном этапе исследования можно предположить, что \"срок жизни\" платформы составляет менее 10 лет"
   ]
  },
  {
   "cell_type": "markdown",
   "metadata": {},
   "source": [
    "Чтобы определить актуальный период для 2017 года, нужно учитывать ранее полученные данные. Так как срок жизни платформы близок к 10 годам, а пик продаж составляет около 3 лет, то для планирования 2017-го года нужны данные за актуальный период, который начинается в 2013-м году"
   ]
  },
  {
   "cell_type": "code",
   "execution_count": 29,
   "metadata": {},
   "outputs": [],
   "source": [
    "now_platforms = data.query('year_of_release>2012') # отбираем актуальный период времени после 2012 года"
   ]
  },
  {
   "cell_type": "code",
   "execution_count": 30,
   "metadata": {},
   "outputs": [
    {
     "data": {
      "text/html": [
       "<div>\n",
       "<style scoped>\n",
       "    .dataframe tbody tr th:only-of-type {\n",
       "        vertical-align: middle;\n",
       "    }\n",
       "\n",
       "    .dataframe tbody tr th {\n",
       "        vertical-align: top;\n",
       "    }\n",
       "\n",
       "    .dataframe thead th {\n",
       "        text-align: right;\n",
       "    }\n",
       "</style>\n",
       "<table border=\"1\" class=\"dataframe\">\n",
       "  <thead>\n",
       "    <tr style=\"text-align: right;\">\n",
       "      <th></th>\n",
       "      <th>name</th>\n",
       "      <th>platform</th>\n",
       "      <th>year_of_release</th>\n",
       "      <th>genre</th>\n",
       "      <th>na_sales</th>\n",
       "      <th>eu_sales</th>\n",
       "      <th>jp_sales</th>\n",
       "      <th>other_sales</th>\n",
       "      <th>critic_score</th>\n",
       "      <th>user_score</th>\n",
       "      <th>rating</th>\n",
       "      <th>total_sales</th>\n",
       "    </tr>\n",
       "  </thead>\n",
       "  <tbody>\n",
       "    <tr>\n",
       "      <th>16</th>\n",
       "      <td>Grand Theft Auto V</td>\n",
       "      <td>PS3</td>\n",
       "      <td>2013</td>\n",
       "      <td>Action</td>\n",
       "      <td>7.02</td>\n",
       "      <td>9.09</td>\n",
       "      <td>0.98</td>\n",
       "      <td>3.96</td>\n",
       "      <td>97.0</td>\n",
       "      <td>8.2</td>\n",
       "      <td>M</td>\n",
       "      <td>21.05</td>\n",
       "    </tr>\n",
       "    <tr>\n",
       "      <th>23</th>\n",
       "      <td>Grand Theft Auto V</td>\n",
       "      <td>X360</td>\n",
       "      <td>2013</td>\n",
       "      <td>Action</td>\n",
       "      <td>9.66</td>\n",
       "      <td>5.14</td>\n",
       "      <td>0.06</td>\n",
       "      <td>1.41</td>\n",
       "      <td>97.0</td>\n",
       "      <td>8.1</td>\n",
       "      <td>M</td>\n",
       "      <td>16.27</td>\n",
       "    </tr>\n",
       "    <tr>\n",
       "      <th>31</th>\n",
       "      <td>Call of Duty: Black Ops 3</td>\n",
       "      <td>PS4</td>\n",
       "      <td>2015</td>\n",
       "      <td>Shooter</td>\n",
       "      <td>6.03</td>\n",
       "      <td>5.86</td>\n",
       "      <td>0.36</td>\n",
       "      <td>2.38</td>\n",
       "      <td>NaN</td>\n",
       "      <td>NaN</td>\n",
       "      <td>Unknown</td>\n",
       "      <td>14.63</td>\n",
       "    </tr>\n",
       "    <tr>\n",
       "      <th>33</th>\n",
       "      <td>Pokemon X/Pokemon Y</td>\n",
       "      <td>3DS</td>\n",
       "      <td>2013</td>\n",
       "      <td>Role-Playing</td>\n",
       "      <td>5.28</td>\n",
       "      <td>4.19</td>\n",
       "      <td>4.35</td>\n",
       "      <td>0.78</td>\n",
       "      <td>NaN</td>\n",
       "      <td>NaN</td>\n",
       "      <td>Unknown</td>\n",
       "      <td>14.60</td>\n",
       "    </tr>\n",
       "    <tr>\n",
       "      <th>42</th>\n",
       "      <td>Grand Theft Auto V</td>\n",
       "      <td>PS4</td>\n",
       "      <td>2014</td>\n",
       "      <td>Action</td>\n",
       "      <td>3.96</td>\n",
       "      <td>6.31</td>\n",
       "      <td>0.38</td>\n",
       "      <td>1.97</td>\n",
       "      <td>97.0</td>\n",
       "      <td>8.3</td>\n",
       "      <td>M</td>\n",
       "      <td>12.62</td>\n",
       "    </tr>\n",
       "  </tbody>\n",
       "</table>\n",
       "</div>"
      ],
      "text/plain": [
       "                         name platform  year_of_release         genre  \\\n",
       "16         Grand Theft Auto V      PS3             2013        Action   \n",
       "23         Grand Theft Auto V     X360             2013        Action   \n",
       "31  Call of Duty: Black Ops 3      PS4             2015       Shooter   \n",
       "33        Pokemon X/Pokemon Y      3DS             2013  Role-Playing   \n",
       "42         Grand Theft Auto V      PS4             2014        Action   \n",
       "\n",
       "    na_sales  eu_sales  jp_sales  other_sales  critic_score  user_score  \\\n",
       "16      7.02      9.09      0.98         3.96          97.0         8.2   \n",
       "23      9.66      5.14      0.06         1.41          97.0         8.1   \n",
       "31      6.03      5.86      0.36         2.38           NaN         NaN   \n",
       "33      5.28      4.19      4.35         0.78           NaN         NaN   \n",
       "42      3.96      6.31      0.38         1.97          97.0         8.3   \n",
       "\n",
       "     rating  total_sales  \n",
       "16        M        21.05  \n",
       "23        M        16.27  \n",
       "31  Unknown        14.63  \n",
       "33  Unknown        14.60  \n",
       "42        M        12.62  "
      ]
     },
     "execution_count": 30,
     "metadata": {},
     "output_type": "execute_result"
    }
   ],
   "source": [
    "now_platforms.head() # проверяем"
   ]
  },
  {
   "cell_type": "code",
   "execution_count": 31,
   "metadata": {},
   "outputs": [
    {
     "data": {
      "text/plain": [
       "platform\n",
       "PS4     314.14\n",
       "PS3     181.43\n",
       "XOne    159.32\n",
       "3DS     143.25\n",
       "X360    136.80\n",
       "WiiU     64.63\n",
       "PC       39.43\n",
       "PSV      32.99\n",
       "Wii      13.66\n",
       "PSP       3.50\n",
       "DS        1.54\n",
       "Name: total_sales, dtype: float64"
      ]
     },
     "execution_count": 31,
     "metadata": {},
     "output_type": "execute_result"
    }
   ],
   "source": [
    "now_platforms.groupby(\"platform\")[\"total_sales\"].sum().sort_values(ascending = False) \n",
    "# Смотрим распределение по объемам продаж у каждой платформы"
   ]
  },
  {
   "cell_type": "markdown",
   "metadata": {},
   "source": [
    "За период после 2012 года лидируют совершенно другие платформы. Здесь выделяется следующая пятерка: PS4, PS3, Xone, 3DS, X360"
   ]
  },
  {
   "cell_type": "code",
   "execution_count": 32,
   "metadata": {},
   "outputs": [
    {
     "data": {
      "image/png": "[encoded data removed]",
      "text/plain": [
       "<Figure size 1800x720 with 5 Axes>"
      ]
     },
     "metadata": {
      "needs_background": "light"
     },
     "output_type": "display_data"
    }
   ],
   "source": [
    "platforms = ['PS4', 'PS3', 'XOne','3DS', 'X360']\n",
    "plt.figure(figsize=(25,10))\n",
    "i = 1\n",
    "for view in platforms:\n",
    "    plt.subplot (2,3,i)\n",
    "    now_platforms[now_platforms['platform'] == view].groupby('year_of_release')['total_sales'].sum().plot( grid = True)\n",
    "    plt.xlabel('Год продаж')\n",
    "    plt.ylabel('Объём продаж')\n",
    "    plt.title(view)\n",
    "    plt.legend()\n",
    "    i+=1"
   ]
  },
  {
   "cell_type": "markdown",
   "metadata": {},
   "source": [
    "На данном графике видно полное падение прожаж у трех платформ. У PS4 и XOne падение тоже заметно, но в любом случае ставку необходимо делать на них"
   ]
  },
  {
   "cell_type": "code",
   "execution_count": 33,
   "metadata": {},
   "outputs": [],
   "source": [
    "actual_platforms =  now_platforms.query('platform == \"XOne\" or platform == \"PS4\"  or platform == \"PS3\" or platform == \"3DS\" or platform == \"X360\"')\n",
    "# создаем таблицу с пятью актуальными платформами после 2012 года"
   ]
  },
  {
   "cell_type": "code",
   "execution_count": 34,
   "metadata": {},
   "outputs": [
    {
     "data": {
      "text/html": [
       "<div>\n",
       "<style scoped>\n",
       "    .dataframe tbody tr th:only-of-type {\n",
       "        vertical-align: middle;\n",
       "    }\n",
       "\n",
       "    .dataframe tbody tr th {\n",
       "        vertical-align: top;\n",
       "    }\n",
       "\n",
       "    .dataframe thead th {\n",
       "        text-align: right;\n",
       "    }\n",
       "</style>\n",
       "<table border=\"1\" class=\"dataframe\">\n",
       "  <thead>\n",
       "    <tr style=\"text-align: right;\">\n",
       "      <th></th>\n",
       "      <th>name</th>\n",
       "      <th>platform</th>\n",
       "      <th>year_of_release</th>\n",
       "      <th>genre</th>\n",
       "      <th>na_sales</th>\n",
       "      <th>eu_sales</th>\n",
       "      <th>jp_sales</th>\n",
       "      <th>other_sales</th>\n",
       "      <th>critic_score</th>\n",
       "      <th>user_score</th>\n",
       "      <th>rating</th>\n",
       "      <th>total_sales</th>\n",
       "    </tr>\n",
       "  </thead>\n",
       "  <tbody>\n",
       "    <tr>\n",
       "      <th>16</th>\n",
       "      <td>Grand Theft Auto V</td>\n",
       "      <td>PS3</td>\n",
       "      <td>2013</td>\n",
       "      <td>Action</td>\n",
       "      <td>7.02</td>\n",
       "      <td>9.09</td>\n",
       "      <td>0.98</td>\n",
       "      <td>3.96</td>\n",
       "      <td>97.0</td>\n",
       "      <td>8.2</td>\n",
       "      <td>M</td>\n",
       "      <td>21.05</td>\n",
       "    </tr>\n",
       "    <tr>\n",
       "      <th>23</th>\n",
       "      <td>Grand Theft Auto V</td>\n",
       "      <td>X360</td>\n",
       "      <td>2013</td>\n",
       "      <td>Action</td>\n",
       "      <td>9.66</td>\n",
       "      <td>5.14</td>\n",
       "      <td>0.06</td>\n",
       "      <td>1.41</td>\n",
       "      <td>97.0</td>\n",
       "      <td>8.1</td>\n",
       "      <td>M</td>\n",
       "      <td>16.27</td>\n",
       "    </tr>\n",
       "    <tr>\n",
       "      <th>31</th>\n",
       "      <td>Call of Duty: Black Ops 3</td>\n",
       "      <td>PS4</td>\n",
       "      <td>2015</td>\n",
       "      <td>Shooter</td>\n",
       "      <td>6.03</td>\n",
       "      <td>5.86</td>\n",
       "      <td>0.36</td>\n",
       "      <td>2.38</td>\n",
       "      <td>NaN</td>\n",
       "      <td>NaN</td>\n",
       "      <td>Unknown</td>\n",
       "      <td>14.63</td>\n",
       "    </tr>\n",
       "    <tr>\n",
       "      <th>33</th>\n",
       "      <td>Pokemon X/Pokemon Y</td>\n",
       "      <td>3DS</td>\n",
       "      <td>2013</td>\n",
       "      <td>Role-Playing</td>\n",
       "      <td>5.28</td>\n",
       "      <td>4.19</td>\n",
       "      <td>4.35</td>\n",
       "      <td>0.78</td>\n",
       "      <td>NaN</td>\n",
       "      <td>NaN</td>\n",
       "      <td>Unknown</td>\n",
       "      <td>14.60</td>\n",
       "    </tr>\n",
       "    <tr>\n",
       "      <th>42</th>\n",
       "      <td>Grand Theft Auto V</td>\n",
       "      <td>PS4</td>\n",
       "      <td>2014</td>\n",
       "      <td>Action</td>\n",
       "      <td>3.96</td>\n",
       "      <td>6.31</td>\n",
       "      <td>0.38</td>\n",
       "      <td>1.97</td>\n",
       "      <td>97.0</td>\n",
       "      <td>8.3</td>\n",
       "      <td>M</td>\n",
       "      <td>12.62</td>\n",
       "    </tr>\n",
       "  </tbody>\n",
       "</table>\n",
       "</div>"
      ],
      "text/plain": [
       "                         name platform  year_of_release         genre  \\\n",
       "16         Grand Theft Auto V      PS3             2013        Action   \n",
       "23         Grand Theft Auto V     X360             2013        Action   \n",
       "31  Call of Duty: Black Ops 3      PS4             2015       Shooter   \n",
       "33        Pokemon X/Pokemon Y      3DS             2013  Role-Playing   \n",
       "42         Grand Theft Auto V      PS4             2014        Action   \n",
       "\n",
       "    na_sales  eu_sales  jp_sales  other_sales  critic_score  user_score  \\\n",
       "16      7.02      9.09      0.98         3.96          97.0         8.2   \n",
       "23      9.66      5.14      0.06         1.41          97.0         8.1   \n",
       "31      6.03      5.86      0.36         2.38           NaN         NaN   \n",
       "33      5.28      4.19      4.35         0.78           NaN         NaN   \n",
       "42      3.96      6.31      0.38         1.97          97.0         8.3   \n",
       "\n",
       "     rating  total_sales  \n",
       "16        M        21.05  \n",
       "23        M        16.27  \n",
       "31  Unknown        14.63  \n",
       "33  Unknown        14.60  \n",
       "42        M        12.62  "
      ]
     },
     "execution_count": 34,
     "metadata": {},
     "output_type": "execute_result"
    }
   ],
   "source": [
    "actual_platforms.head() # проверяем"
   ]
  },
  {
   "cell_type": "code",
   "execution_count": 35,
   "metadata": {},
   "outputs": [
    {
     "data": {
      "image/png": "[encoded data removed]",
      "text/plain": [
       "<Figure size 720x720 with 1 Axes>"
      ]
     },
     "metadata": {
      "needs_background": "light"
     },
     "output_type": "display_data"
    }
   ],
   "source": [
    "actual_platforms.boxplot(\"total_sales\", \"platform\", figsize=(10, 10))\n",
    "plt.title('Распределение для самых актуальных платформ')\n",
    "plt.ylabel('Количество продаж')\n",
    "plt.ylim(0, 7)\n",
    "plt.xlabel(\"Платформы\")\n",
    "plt.show()\n",
    "# строим ящик с усами"
   ]
  },
  {
   "cell_type": "markdown",
   "metadata": {},
   "source": [
    "Из данного ящика с усами видно, что медианы примерно равны у PS4, XOne и X360. но выбросов намного больше у PS4. Также выбросов очень много у PS3 - это связано с хитами, которые выходили на разных платформах. Каждая игра в среднем приносит чуть менее 1 млн."
   ]
  },
  {
   "cell_type": "markdown",
   "metadata": {},
   "source": [
    "Сейчас посмотрим, как влияют на продажи внутри одной популярной платформы отзывы пользователей и критиков. Построим диаграмму рассеяния и посчитаем корреляцию между отзывами и продажами. За одну из популярных платформ возьмем PS4."
   ]
  },
  {
   "cell_type": "code",
   "execution_count": 36,
   "metadata": {},
   "outputs": [],
   "source": [
    "populps4 =  actual_platforms.query(\"platform == 'PS4'\") # выбираем из актуальных платформ PS4"
   ]
  },
  {
   "cell_type": "code",
   "execution_count": 37,
   "metadata": {},
   "outputs": [
    {
     "data": {
      "text/html": [
       "<div>\n",
       "<style scoped>\n",
       "    .dataframe tbody tr th:only-of-type {\n",
       "        vertical-align: middle;\n",
       "    }\n",
       "\n",
       "    .dataframe tbody tr th {\n",
       "        vertical-align: top;\n",
       "    }\n",
       "\n",
       "    .dataframe thead th {\n",
       "        text-align: right;\n",
       "    }\n",
       "</style>\n",
       "<table border=\"1\" class=\"dataframe\">\n",
       "  <thead>\n",
       "    <tr style=\"text-align: right;\">\n",
       "      <th></th>\n",
       "      <th>name</th>\n",
       "      <th>platform</th>\n",
       "      <th>year_of_release</th>\n",
       "      <th>genre</th>\n",
       "      <th>na_sales</th>\n",
       "      <th>eu_sales</th>\n",
       "      <th>jp_sales</th>\n",
       "      <th>other_sales</th>\n",
       "      <th>critic_score</th>\n",
       "      <th>user_score</th>\n",
       "      <th>rating</th>\n",
       "      <th>total_sales</th>\n",
       "    </tr>\n",
       "  </thead>\n",
       "  <tbody>\n",
       "    <tr>\n",
       "      <th>31</th>\n",
       "      <td>Call of Duty: Black Ops 3</td>\n",
       "      <td>PS4</td>\n",
       "      <td>2015</td>\n",
       "      <td>Shooter</td>\n",
       "      <td>6.03</td>\n",
       "      <td>5.86</td>\n",
       "      <td>0.36</td>\n",
       "      <td>2.38</td>\n",
       "      <td>NaN</td>\n",
       "      <td>NaN</td>\n",
       "      <td>Unknown</td>\n",
       "      <td>14.63</td>\n",
       "    </tr>\n",
       "    <tr>\n",
       "      <th>42</th>\n",
       "      <td>Grand Theft Auto V</td>\n",
       "      <td>PS4</td>\n",
       "      <td>2014</td>\n",
       "      <td>Action</td>\n",
       "      <td>3.96</td>\n",
       "      <td>6.31</td>\n",
       "      <td>0.38</td>\n",
       "      <td>1.97</td>\n",
       "      <td>97.0</td>\n",
       "      <td>8.3</td>\n",
       "      <td>M</td>\n",
       "      <td>12.62</td>\n",
       "    </tr>\n",
       "    <tr>\n",
       "      <th>77</th>\n",
       "      <td>FIFA 16</td>\n",
       "      <td>PS4</td>\n",
       "      <td>2015</td>\n",
       "      <td>Sports</td>\n",
       "      <td>1.12</td>\n",
       "      <td>6.12</td>\n",
       "      <td>0.06</td>\n",
       "      <td>1.28</td>\n",
       "      <td>82.0</td>\n",
       "      <td>4.3</td>\n",
       "      <td>E</td>\n",
       "      <td>8.58</td>\n",
       "    </tr>\n",
       "    <tr>\n",
       "      <th>87</th>\n",
       "      <td>Star Wars Battlefront (2015)</td>\n",
       "      <td>PS4</td>\n",
       "      <td>2015</td>\n",
       "      <td>Shooter</td>\n",
       "      <td>2.99</td>\n",
       "      <td>3.49</td>\n",
       "      <td>0.22</td>\n",
       "      <td>1.28</td>\n",
       "      <td>NaN</td>\n",
       "      <td>NaN</td>\n",
       "      <td>Unknown</td>\n",
       "      <td>7.98</td>\n",
       "    </tr>\n",
       "    <tr>\n",
       "      <th>92</th>\n",
       "      <td>Call of Duty: Advanced Warfare</td>\n",
       "      <td>PS4</td>\n",
       "      <td>2014</td>\n",
       "      <td>Shooter</td>\n",
       "      <td>2.81</td>\n",
       "      <td>3.48</td>\n",
       "      <td>0.14</td>\n",
       "      <td>1.23</td>\n",
       "      <td>83.0</td>\n",
       "      <td>5.7</td>\n",
       "      <td>M</td>\n",
       "      <td>7.66</td>\n",
       "    </tr>\n",
       "  </tbody>\n",
       "</table>\n",
       "</div>"
      ],
      "text/plain": [
       "                              name platform  year_of_release    genre  \\\n",
       "31       Call of Duty: Black Ops 3      PS4             2015  Shooter   \n",
       "42              Grand Theft Auto V      PS4             2014   Action   \n",
       "77                         FIFA 16      PS4             2015   Sports   \n",
       "87    Star Wars Battlefront (2015)      PS4             2015  Shooter   \n",
       "92  Call of Duty: Advanced Warfare      PS4             2014  Shooter   \n",
       "\n",
       "    na_sales  eu_sales  jp_sales  other_sales  critic_score  user_score  \\\n",
       "31      6.03      5.86      0.36         2.38           NaN         NaN   \n",
       "42      3.96      6.31      0.38         1.97          97.0         8.3   \n",
       "77      1.12      6.12      0.06         1.28          82.0         4.3   \n",
       "87      2.99      3.49      0.22         1.28           NaN         NaN   \n",
       "92      2.81      3.48      0.14         1.23          83.0         5.7   \n",
       "\n",
       "     rating  total_sales  \n",
       "31  Unknown        14.63  \n",
       "42        M        12.62  \n",
       "77        E         8.58  \n",
       "87  Unknown         7.98  \n",
       "92        M         7.66  "
      ]
     },
     "execution_count": 37,
     "metadata": {},
     "output_type": "execute_result"
    }
   ],
   "source": [
    "populps4.head() # проверяем"
   ]
  },
  {
   "cell_type": "code",
   "execution_count": 38,
   "metadata": {},
   "outputs": [
    {
     "name": "stdout",
     "output_type": "stream",
     "text": [
      "Корреляция между оценками пользователей PS4 и продажами -0.031957110204556376\n"
     ]
    }
   ],
   "source": [
    "print(\"Корреляция между оценками пользователей PS4 и продажами\", populps4['user_score'].corr(populps4['total_sales']))\n",
    "# смотрим корреляцию между продажами и оценками пользователей"
   ]
  },
  {
   "cell_type": "code",
   "execution_count": 39,
   "metadata": {},
   "outputs": [
    {
     "name": "stdout",
     "output_type": "stream",
     "text": [
      "Корреляция между оценками критиков PS4 и продажами 0.40656790206178095\n"
     ]
    }
   ],
   "source": [
    "print(\"Корреляция между оценками критиков PS4 и продажами\", populps4['critic_score'].corr(populps4['total_sales']))\n",
    "# смотрим корреляцию между продажами и оценками критиков"
   ]
  },
  {
   "cell_type": "code",
   "execution_count": 40,
   "metadata": {},
   "outputs": [
    {
     "data": {
      "image/png": "[encoded data removed]",
      "text/plain": [
       "<Figure size 432x288 with 1 Axes>"
      ]
     },
     "metadata": {
      "needs_background": "light"
     },
     "output_type": "display_data"
    }
   ],
   "source": [
    "populps4.plot(x = \"user_score\", y = \"total_sales\", kind = \"scatter\", grid = True)\n",
    "plt.title(\"Диаграмма рассеивания отзывов пользователей и продаж\")\n",
    "plt.xlabel(\"Оценки пользователей\")\n",
    "plt.ylabel(\"Продажи\")\n",
    "plt.show() \n",
    "# строим диаграмму рассеивания"
   ]
  },
  {
   "cell_type": "code",
   "execution_count": 41,
   "metadata": {},
   "outputs": [
    {
     "data": {
      "image/png": "[encoded data removed]",
      "text/plain": [
       "<Figure size 432x288 with 1 Axes>"
      ]
     },
     "metadata": {
      "needs_background": "light"
     },
     "output_type": "display_data"
    }
   ],
   "source": [
    "populps4.plot(x = \"critic_score\", y = \"total_sales\", kind = \"scatter\", grid = True)\n",
    "plt.title(\"Диаграмма рассеивания отзывов пользователей и продаж\")\n",
    "plt.xlabel(\"Оценки пользователей\")\n",
    "plt.ylabel(\"Продажи\")\n",
    "plt.show() \n",
    "# строим диаграмму рассеивания"
   ]
  },
  {
   "cell_type": "markdown",
   "metadata": {},
   "source": [
    "Проверим корреляцию по XOne между оценками и продажами"
   ]
  },
  {
   "cell_type": "code",
   "execution_count": 42,
   "metadata": {},
   "outputs": [],
   "source": [
    "populxone = actual_platforms.query(\"platform == 'XOne'\") # выбираем из актуальных платформ XOne"
   ]
  },
  {
   "cell_type": "code",
   "execution_count": 43,
   "metadata": {},
   "outputs": [
    {
     "name": "stdout",
     "output_type": "stream",
     "text": [
      "Корреляция между оценками пользователей XOne и продажами -0.06892505328279414\n",
      "Корреляция между оценками критиков XOne и продажами 0.4169983280084017\n"
     ]
    }
   ],
   "source": [
    "print(\"Корреляция между оценками пользователей XOne и продажами\", populxone['user_score'].corr(populxone['total_sales']))\n",
    "print(\"Корреляция между оценками критиков XOne и продажами\", populxone['critic_score'].corr(populxone['total_sales']))"
   ]
  },
  {
   "cell_type": "code",
   "execution_count": 44,
   "metadata": {},
   "outputs": [
    {
     "data": {
      "text/plain": [
       "0.3136995151027371"
      ]
     },
     "execution_count": 44,
     "metadata": {},
     "output_type": "execute_result"
    }
   ],
   "source": [
    "now_platforms[\"critic_score\"].corr(now_platforms[\"total_sales\"]) \n",
    "# проверим корреляцию между оценками критиков и продажами на актуальных платформах"
   ]
  },
  {
   "cell_type": "markdown",
   "metadata": {},
   "source": [
    "Тут можно сделать вывод, что нет корреляции между оценками пользователей и проажами игр. А вот между оценками критиков и продажами корреляция есть. Выше оценка критиков - выше продажи. Но корреляция могла бы быть  выше"
   ]
  },
  {
   "cell_type": "markdown",
   "metadata": {},
   "source": [
    "Сейчас посмотрим на общее распределение игр по жанрам. "
   ]
  },
  {
   "cell_type": "code",
   "execution_count": 45,
   "metadata": {},
   "outputs": [
    {
     "data": {
      "text/html": [
       "<div>\n",
       "<style scoped>\n",
       "    .dataframe tbody tr th:only-of-type {\n",
       "        vertical-align: middle;\n",
       "    }\n",
       "\n",
       "    .dataframe tbody tr th {\n",
       "        vertical-align: top;\n",
       "    }\n",
       "\n",
       "    .dataframe thead th {\n",
       "        text-align: right;\n",
       "    }\n",
       "</style>\n",
       "<table border=\"1\" class=\"dataframe\">\n",
       "  <thead>\n",
       "    <tr style=\"text-align: right;\">\n",
       "      <th></th>\n",
       "      <th>total_sales</th>\n",
       "    </tr>\n",
       "    <tr>\n",
       "      <th>genre</th>\n",
       "      <th></th>\n",
       "    </tr>\n",
       "  </thead>\n",
       "  <tbody>\n",
       "    <tr>\n",
       "      <th>Shooter</th>\n",
       "      <td>1.245882</td>\n",
       "    </tr>\n",
       "    <tr>\n",
       "      <th>Sports</th>\n",
       "      <td>0.703972</td>\n",
       "    </tr>\n",
       "    <tr>\n",
       "      <th>Platform</th>\n",
       "      <td>0.576081</td>\n",
       "    </tr>\n",
       "    <tr>\n",
       "      <th>Role-Playing</th>\n",
       "      <td>0.499623</td>\n",
       "    </tr>\n",
       "    <tr>\n",
       "      <th>Racing</th>\n",
       "      <td>0.469294</td>\n",
       "    </tr>\n",
       "    <tr>\n",
       "      <th>Fighting</th>\n",
       "      <td>0.441375</td>\n",
       "    </tr>\n",
       "    <tr>\n",
       "      <th>Action</th>\n",
       "      <td>0.420196</td>\n",
       "    </tr>\n",
       "    <tr>\n",
       "      <th>Misc</th>\n",
       "      <td>0.405290</td>\n",
       "    </tr>\n",
       "    <tr>\n",
       "      <th>Simulation</th>\n",
       "      <td>0.350968</td>\n",
       "    </tr>\n",
       "    <tr>\n",
       "      <th>Puzzle</th>\n",
       "      <td>0.186471</td>\n",
       "    </tr>\n",
       "    <tr>\n",
       "      <th>Strategy</th>\n",
       "      <td>0.180000</td>\n",
       "    </tr>\n",
       "    <tr>\n",
       "      <th>Adventure</th>\n",
       "      <td>0.096490</td>\n",
       "    </tr>\n",
       "  </tbody>\n",
       "</table>\n",
       "</div>"
      ],
      "text/plain": [
       "              total_sales\n",
       "genre                    \n",
       "Shooter          1.245882\n",
       "Sports           0.703972\n",
       "Platform         0.576081\n",
       "Role-Playing     0.499623\n",
       "Racing           0.469294\n",
       "Fighting         0.441375\n",
       "Action           0.420196\n",
       "Misc             0.405290\n",
       "Simulation       0.350968\n",
       "Puzzle           0.186471\n",
       "Strategy         0.180000\n",
       "Adventure        0.096490"
      ]
     },
     "execution_count": 45,
     "metadata": {},
     "output_type": "execute_result"
    }
   ],
   "source": [
    "now_platforms.pivot_table(index = \"genre\", values = \"total_sales\").sort_values(\"total_sales\", ascending=False)\n",
    "# сортируем актуальные платформы по жанрам и объемам продаж"
   ]
  },
  {
   "cell_type": "code",
   "execution_count": 46,
   "metadata": {},
   "outputs": [
    {
     "data": {
      "text/html": [
       "<div>\n",
       "<style scoped>\n",
       "    .dataframe tbody tr th:only-of-type {\n",
       "        vertical-align: middle;\n",
       "    }\n",
       "\n",
       "    .dataframe tbody tr th {\n",
       "        vertical-align: top;\n",
       "    }\n",
       "\n",
       "    .dataframe thead th {\n",
       "        text-align: right;\n",
       "    }\n",
       "</style>\n",
       "<table border=\"1\" class=\"dataframe\">\n",
       "  <thead>\n",
       "    <tr style=\"text-align: right;\">\n",
       "      <th></th>\n",
       "      <th>total_sales</th>\n",
       "    </tr>\n",
       "    <tr>\n",
       "      <th>genre</th>\n",
       "      <th></th>\n",
       "    </tr>\n",
       "  </thead>\n",
       "  <tbody>\n",
       "    <tr>\n",
       "      <th>Platform</th>\n",
       "      <td>0.940262</td>\n",
       "    </tr>\n",
       "    <tr>\n",
       "      <th>Shooter</th>\n",
       "      <td>0.803519</td>\n",
       "    </tr>\n",
       "    <tr>\n",
       "      <th>Role-Playing</th>\n",
       "      <td>0.628683</td>\n",
       "    </tr>\n",
       "    <tr>\n",
       "      <th>Racing</th>\n",
       "      <td>0.590122</td>\n",
       "    </tr>\n",
       "    <tr>\n",
       "      <th>Sports</th>\n",
       "      <td>0.567940</td>\n",
       "    </tr>\n",
       "    <tr>\n",
       "      <th>Fighting</th>\n",
       "      <td>0.528865</td>\n",
       "    </tr>\n",
       "    <tr>\n",
       "      <th>Action</th>\n",
       "      <td>0.519057</td>\n",
       "    </tr>\n",
       "    <tr>\n",
       "      <th>Misc</th>\n",
       "      <td>0.459204</td>\n",
       "    </tr>\n",
       "    <tr>\n",
       "      <th>Simulation</th>\n",
       "      <td>0.452695</td>\n",
       "    </tr>\n",
       "    <tr>\n",
       "      <th>Puzzle</th>\n",
       "      <td>0.421599</td>\n",
       "    </tr>\n",
       "    <tr>\n",
       "      <th>Strategy</th>\n",
       "      <td>0.256419</td>\n",
       "    </tr>\n",
       "    <tr>\n",
       "      <th>Adventure</th>\n",
       "      <td>0.180456</td>\n",
       "    </tr>\n",
       "  </tbody>\n",
       "</table>\n",
       "</div>"
      ],
      "text/plain": [
       "              total_sales\n",
       "genre                    \n",
       "Platform         0.940262\n",
       "Shooter          0.803519\n",
       "Role-Playing     0.628683\n",
       "Racing           0.590122\n",
       "Sports           0.567940\n",
       "Fighting         0.528865\n",
       "Action           0.519057\n",
       "Misc             0.459204\n",
       "Simulation       0.452695\n",
       "Puzzle           0.421599\n",
       "Strategy         0.256419\n",
       "Adventure        0.180456"
      ]
     },
     "execution_count": 46,
     "metadata": {},
     "output_type": "execute_result"
    }
   ],
   "source": [
    "data.pivot_table(index = \"genre\", values = \"total_sales\").sort_values(\"total_sales\", ascending=False)\n",
    "# сортируем продажи по жанрам за весь период"
   ]
  },
  {
   "cell_type": "code",
   "execution_count": 47,
   "metadata": {},
   "outputs": [
    {
     "data": {
      "image/png": "[encoded data removed]",
      "text/plain": [
       "<Figure size 1080x1080 with 1 Axes>"
      ]
     },
     "metadata": {
      "needs_background": "light"
     },
     "output_type": "display_data"
    }
   ],
   "source": [
    "now_platforms[['total_sales', 'genre']].boxplot(column='total_sales', by='genre', figsize=(15,15))\n",
    "plt.xlabel('Жанр')\n",
    "plt.ylabel('Объем продаж')\n",
    "plt.title('Распределение жанров для актуального времени')\n",
    "plt.show()\n",
    "# строим ящик с усами для актуальных платформ"
   ]
  },
  {
   "cell_type": "markdown",
   "metadata": {},
   "source": [
    "На данный момент можно сделать вывод о популярности шутеров, спортивных игр и ролевых игр. Дынные жанры приносят больше всего прибыли.  Если смотреть на жанры за весь период продаж на первое место выбивается жанр \"Платформер\", ввиду того, что на в самом начале зарождения игр - все игры были двухмерными и не было современного разнообразия. В настоящее время самыми непопулярными жанрами являются пазлы, которые также являются самыми неприбыльными. "
   ]
  },
  {
   "cell_type": "markdown",
   "metadata": {},
   "source": [
    "## Портрет пользователя каждого региона "
   ]
  },
  {
   "cell_type": "markdown",
   "metadata": {},
   "source": [
    "В этом разделе определим для пользователя каждого региона (NA, EU, JP):\n",
    "Самые популярные платформы (топ-5)."
   ]
  },
  {
   "cell_type": "code",
   "execution_count": 59,
   "metadata": {},
   "outputs": [],
   "source": [
    "regions = [\"na_sales\", \"eu_sales\", \"jp_sales\"] # берем необходимые для исследования регионы"
   ]
  },
  {
   "cell_type": "code",
   "execution_count": 60,
   "metadata": {},
   "outputs": [
    {
     "data": {
      "text/plain": [
       "na_sales    437.71\n",
       "eu_sales    392.23\n",
       "jp_sales    140.78\n",
       "dtype: float64"
      ]
     },
     "execution_count": 60,
     "metadata": {},
     "output_type": "execute_result"
    }
   ],
   "source": [
    "now_platforms[regions].sum() # считаем данные продаж в регионах"
   ]
  },
  {
   "cell_type": "markdown",
   "metadata": {},
   "source": [
    "По продажам лидирует Северная Америка, Европейский рынок немного отстает. В Японии продаж намного меньше, но это и неудивительно, так как это одна страна, а сравниваем мы ее с континентами, на которых десятки стран, в которых пользователей больше в разы."
   ]
  },
  {
   "cell_type": "code",
   "execution_count": 50,
   "metadata": {},
   "outputs": [
    {
     "data": {
      "image/png": "[encoded data removed]",
      "text/plain": [
       "<Figure size 360x360 with 1 Axes>"
      ]
     },
     "metadata": {
      "needs_background": "light"
     },
     "output_type": "display_data"
    },
    {
     "data": {
      "image/png": "[encoded data removed]",
      "text/plain": [
       "<Figure size 360x360 with 1 Axes>"
      ]
     },
     "metadata": {
      "needs_background": "light"
     },
     "output_type": "display_data"
    },
    {
     "data": {
      "image/png": "[encoded data removed]",
      "text/plain": [
       "<Figure size 360x360 with 1 Axes>"
      ]
     },
     "metadata": {
      "needs_background": "light"
     },
     "output_type": "display_data"
    }
   ],
   "source": [
    "for view in regions:\n",
    "    (now_platforms.pivot_table(index = \"platform\", values = view , aggfunc = \"sum\")\n",
    "    .sort_values(view, ascending=False).head()\n",
    "    .plot(kind = \"bar\", y = view , title = view, grid = True, figsize=(5, 5)))\n",
    "plt.show()\n",
    "# распределение платформ по интересующим регионам"
   ]
  },
  {
   "cell_type": "markdown",
   "metadata": {},
   "source": [
    " В разных регионах разное распределение по консолям. В Америке лидируют PS4 и XOne, в Европе PS4 и PS3, в Японии 3DS. Причем в Японии отрыв 3DS от PS3, которая стоит на втором месте очень огромный."
   ]
  },
  {
   "cell_type": "code",
   "execution_count": 61,
   "metadata": {},
   "outputs": [
    {
     "data": {
      "image/png": "[encoded data removed]",
      "text/plain": [
       "<Figure size 360x360 with 1 Axes>"
      ]
     },
     "metadata": {
      "needs_background": "light"
     },
     "output_type": "display_data"
    },
    {
     "data": {
      "image/png": "[encoded data removed]",
      "text/plain": [
       "<Figure size 360x360 with 1 Axes>"
      ]
     },
     "metadata": {
      "needs_background": "light"
     },
     "output_type": "display_data"
    },
    {
     "data": {
      "image/png": "[encoded data removed]",
      "text/plain": [
       "<Figure size 360x360 with 1 Axes>"
      ]
     },
     "metadata": {
      "needs_background": "light"
     },
     "output_type": "display_data"
    }
   ],
   "source": [
    "for view in regions:\n",
    "    (now_platforms.pivot_table(index = \"genre\", values = view , aggfunc = \"sum\")\n",
    "    .sort_values(view, ascending=False).head()\n",
    "    .plot(kind = \"bar\", y = view , title = view, grid = True, figsize=(5, 5)))                \n",
    "plt.show()\n",
    "# распределение жанров по интересующим регионам"
   ]
  },
  {
   "cell_type": "markdown",
   "metadata": {},
   "source": [
    "В Европе и Америке первые три места занимают экшены, шутеры и спортивные игры. В Японии на первых двух местах ролевые игры и экшены. Шутеры в Японии всего лищь на пятом месте. Это все скорее всего из-за того, что в Японии совершенно другая культура и рынок."
   ]
  },
  {
   "cell_type": "code",
   "execution_count": 52,
   "metadata": {},
   "outputs": [
    {
     "data": {
      "image/png": "[encoded data removed]",
      "text/plain": [
       "<Figure size 360x360 with 1 Axes>"
      ]
     },
     "metadata": {
      "needs_background": "light"
     },
     "output_type": "display_data"
    },
    {
     "data": {
      "image/png": "[encoded data removed]",
      "text/plain": [
       "<Figure size 360x360 with 1 Axes>"
      ]
     },
     "metadata": {
      "needs_background": "light"
     },
     "output_type": "display_data"
    },
    {
     "data": {
      "image/png": "[encoded data removed]",
      "text/plain": [
       "<Figure size 360x360 with 1 Axes>"
      ]
     },
     "metadata": {
      "needs_background": "light"
     },
     "output_type": "display_data"
    }
   ],
   "source": [
    "for view in regions:\n",
    "    (now_platforms.pivot_table(index = \"rating\", values = view , aggfunc = \"sum\")\n",
    "    .sort_values(view, ascending=False).head(6)\n",
    "    .plot(kind = \"bar\", y = view , title = view, grid = True, figsize=(5, 5)))                \n",
    "plt.show()\n",
    "# распределение рейтинга игр по интересующим регионам"
   ]
  },
  {
   "cell_type": "markdown",
   "metadata": {},
   "source": [
    "Категории\n",
    "\n",
    "«EC» («Early childhood») — «Для детей младшего возраста»: Игра подходит для детей от 3 лет и не содержит материалов, которые родители могли бы счесть неподходящими. Продукты, получившие данный рейтинг, изначально разрабатываются для детей и обычно представляют собой развивающие игры.\n",
    "\n",
    "\n",
    "«E» («Everyone») — «Для всех»: Содержание вполне подходит для всех возрастов (ранее с 6 лет). Такие игры могут понравиться и взрослым. Игры с этим рейтингом могут содержать минимальное насилие, в основном «мультяшного» характера. Первоначально \"K-A\" (\"Kids to Adults\"):\n",
    "\n",
    "\n",
    "«E10+» («Everyone 10 and older») — «Для всех от 10 лет и старше»: Проекты с данным рейтингом могут содержать больше мультипликационного или мягкого насилия, или несколько откровенные сцены, или минимальное количество крови. Рейтинг был принят ESRB 2 марта 2005 года.\n",
    "\n",
    "\n",
    "«T» («Teen») — «Подросткам»: Игра подходит для лиц от 13 лет. Проекты из данной категории могут содержать насилие, непристойные сцены, грубый юмор, в меру откровенное сексуальное содержимое, кровь или нечастое использование ненормативной лексики.\n",
    "\n",
    "\n",
    "«M» («Mature») — «Для взрослых»: Материалы игры не подходят для лиц младше 17 лет. Проекты с данным рейтингом могут содержать жестокое насилие, большое количество крови с расчленением, непристойные сексуальные сцены или грубую ненормативную лексику.\n",
    "\n",
    "\n",
    "«AO» («Adults Only 18+») — «Только для взрослых»: Содержание игры только для взрослых старше 18 лет. Продукты из данной категории могут содержать длительные сцены жестокого насилия и/или очень откровенное сексуальное содержимое.\n",
    "\n",
    "\n",
    "«RP» («Rating Pending») — «Рейтинг ожидается»: Продукт был отправлен в ESRB и ожидает присвоения рейтинга. Данный логотип используется только на рекламных презентациях и в демо-версиях игр до официальной даты выпуска в продажу:\n",
    "\n",
    "\n",
    "«RP 17+» («Rating Pending») — «Рейтинг ожидается - примерно 17+»: Продукт отправлен ESRB на оценку, но примерное содержание близко к рейтингу «M». Данная маркировка была введена с 2021 г. и распространяется на демо или презентационный вариант\n",
    "\n",
    "\n"
   ]
  },
  {
   "cell_type": "markdown",
   "metadata": {},
   "source": [
    "Рынок Европы и Америки схож - больше всего игр в категории \"старше 17\" и \"для всех\" В Японии же больше всего игр в категории \"старше 13\", а на втором месте игры категории \"для всех\". В Японии система рейтинга CERO, (CERO) — японская некоммерческая организация, занимающаяся присуждением рейтингов компьютерным играм и программному обеспечению для их последующей продажи на территории Японии. Рейтинг, в частности, указывает потребителю на возрастную группу, категорию людей, которые могут использовать данный продукт. Работает с июля 2002 года) поэтому так много игр без рейтинга  ESRB "
   ]
  },
  {
   "cell_type": "markdown",
   "metadata": {},
   "source": [
    "## Проверка гипотез"
   ]
  },
  {
   "cell_type": "markdown",
   "metadata": {},
   "source": [
    "Проверим следующие гипотезы\n",
    "\n",
    "Средние пользовательские рейтинги платформ Xbox One и PC одинаковые;\n",
    "\n",
    "Средние пользовательские рейтинги жанров Action и Sports разные."
   ]
  },
  {
   "cell_type": "markdown",
   "metadata": {},
   "source": [
    "Но: Средние пользовательские рейтинги платформ Xbox One и PC одинаковые\n",
    "\n",
    "Н1: Средние пользовательские рейтинги платформ Xbox One и PC отличаются"
   ]
  },
  {
   "cell_type": "code",
   "execution_count": 62,
   "metadata": {},
   "outputs": [],
   "source": [
    "populpc = now_platforms.query(\"platform == 'PC'\") # выбираем из актуальных платформ PC"
   ]
  },
  {
   "cell_type": "code",
   "execution_count": 63,
   "metadata": {},
   "outputs": [],
   "source": [
    "alpha = 0.05 # уровень значимости"
   ]
  },
  {
   "cell_type": "code",
   "execution_count": 64,
   "metadata": {},
   "outputs": [
    {
     "name": "stdout",
     "output_type": "stream",
     "text": [
      "0.14012658403611503\n",
      "Не отвергаем нулевую гипотезу\n"
     ]
    }
   ],
   "source": [
    "results = st.ttest_ind(populxone['user_score'], populpc['user_score'], nan_policy='omit')\n",
    "print(results.pvalue)\n",
    "if results.pvalue < alpha:\n",
    "    print('Отвергаем нулевую гипотезу')\n",
    "else:\n",
    "    print('Не отвергаем нулевую гипотезу')"
   ]
  },
  {
   "cell_type": "markdown",
   "metadata": {},
   "source": [
    "Оценки у платформ одинаковые. Гипотезу не отвергаем"
   ]
  },
  {
   "cell_type": "markdown",
   "metadata": {},
   "source": [
    "Но: Средние пользовательские рейтинги в жанрах Action и Sports  одинаковые\n",
    "\n",
    "Н1: Средние пользовательские рейтинги Action и Sports  отличаются"
   ]
  },
  {
   "cell_type": "code",
   "execution_count": 65,
   "metadata": {},
   "outputs": [],
   "source": [
    "action_game = now_platforms.query(\"genre == 'Action'\") # выбираем из актуальных платформ игры жанра Action"
   ]
  },
  {
   "cell_type": "code",
   "execution_count": 66,
   "metadata": {},
   "outputs": [],
   "source": [
    "sport_game = now_platforms.query(\"genre == 'Sports'\") # выбираем из актуальных платформ игры жанра Sports"
   ]
  },
  {
   "cell_type": "code",
   "execution_count": 67,
   "metadata": {},
   "outputs": [
    {
     "name": "stdout",
     "output_type": "stream",
     "text": [
      "1.0517832389139422e-27\n",
      "Отвергаем нулевую гипотезу\n"
     ]
    }
   ],
   "source": [
    "results = st.ttest_ind(action_game['user_score'], sport_game['user_score'], nan_policy='omit')\n",
    "print(results.pvalue)\n",
    "if results.pvalue < alpha:\n",
    "    print('Отвергаем нулевую гипотезу')\n",
    "else:\n",
    "    print('Не отвергаем нулевую гипотезу')"
   ]
  },
  {
   "cell_type": "markdown",
   "metadata": {},
   "source": [
    "Оценки у жанров Action и Sports отличаются, значит нулевую гипотезу отвергаем"
   ]
  },
  {
   "cell_type": "markdown",
   "metadata": {},
   "source": [
    "Оценки пользователей не заисят от платформы. На оценки пользователей влияет жанр игры.\n",
    "Здась мы проверяли гипотезу о  равенстве средних двух генеральных совокупностей, потому что здесь две независимые выборки"
   ]
  },
  {
   "cell_type": "markdown",
   "metadata": {},
   "source": [
    "## Общий вывод"
   ]
  },
  {
   "cell_type": "markdown",
   "metadata": {},
   "source": [
    "В самом начале работы мы загрузили и просмотрели данные, выявили некоторые пропуски. Пропуски в данных, которые существенным образом не влияли на результаты – мы удалили. В дальнейшем привели к нижнему регистру названия столбцов. \n",
    "Так как в таблице были данные за 30 лет, то для планирования рекламной кампании на будущий год необходимо исследовать актуальные данные. При анализе данных мы пришли к выводу о том, что срок жизни игровой платформы составляет около 9 лет, поэтому для исследования мы отбросили данные до 2012 года.\n",
    "После всего исследования мы можем сделать вывод о том, что самой популярной платформой являются PS4 и XOne. Рынок компьютерных игр в Севернй Америке и Европе очень похож, но отличается от рынка Японии. В Америке и Европе на первом месте игры в категории М – это значит игры для взрослых старше 17 лет. В Японии же своя система оценок CERO и игр по рейтингу ESRB меньше. По данному рейтингу на втором месте (после большого количества игр без Американской категории) идет категория игр Т – для игроков старше 13 лет. \n",
    "Если говорить о предпочтительных жанрах в Америке, Европе и Японии, то В Америкеи и Европе преобладают жанры Action и Shoooter, в Японии же первые два места занимают Rolle Playing и Action.\n",
    "По платформам в Америке и Европе предпочтительны PS4, в Японии 3DS.\n",
    "Мы сделали вывод о том, что нет корреляции между оценками игроков и продажам игр. Между оценками критиков и продажей игр корреляция есть, но нельзя сказать, что она очень большая.\n",
    "Проверили две гипотезы о том, что пользовательские рейтинги платформ PС и XOne отличаются. Данная гипотеза не подтвердилась.\n",
    "Вторую гипотезу о том, что пользовательские рейтинги жанров Action и Sports разные мы отвергли, сделав вывод о том, что оценки жанров Action и Sports разные.\n",
    "По итогам на следующий год очень высока вероятность получить прибыль в Америке и Европе от игр жанра Action на PS4. В Японии Rolle Playing на 3DS."
   ]
  }
 ],
 "metadata": {
  "ExecuteTimeLog": [
   {
    "duration": 1222,
    "start_time": "2023-12-11T17:45:54.509Z"
   },
   {
    "duration": 91,
    "start_time": "2023-12-11T17:45:55.733Z"
   },
   {
    "duration": 23,
    "start_time": "2023-12-11T17:45:55.826Z"
   },
   {
    "duration": 4,
    "start_time": "2023-12-11T17:53:54.588Z"
   },
   {
    "duration": 51,
    "start_time": "2023-12-11T17:53:56.380Z"
   },
   {
    "duration": 11,
    "start_time": "2023-12-11T17:54:11.141Z"
   },
   {
    "duration": 13,
    "start_time": "2023-12-11T18:00:05.797Z"
   },
   {
    "duration": 9,
    "start_time": "2023-12-11T18:03:04.107Z"
   },
   {
    "duration": 14,
    "start_time": "2023-12-11T18:03:15.137Z"
   },
   {
    "duration": 1347,
    "start_time": "2023-12-12T06:37:24.971Z"
   },
   {
    "duration": 96,
    "start_time": "2023-12-12T06:37:26.320Z"
   },
   {
    "duration": 17,
    "start_time": "2023-12-12T06:37:27.790Z"
   },
   {
    "duration": 14,
    "start_time": "2023-12-12T06:37:31.477Z"
   },
   {
    "duration": 102,
    "start_time": "2023-12-12T06:39:27.245Z"
   },
   {
    "duration": 94,
    "start_time": "2023-12-12T06:40:11.206Z"
   },
   {
    "duration": 13,
    "start_time": "2023-12-12T06:40:40.298Z"
   },
   {
    "duration": 14,
    "start_time": "2023-12-12T06:53:46.262Z"
   },
   {
    "duration": 4,
    "start_time": "2023-12-12T07:20:38.060Z"
   },
   {
    "duration": 54,
    "start_time": "2023-12-12T07:20:39.163Z"
   },
   {
    "duration": 14,
    "start_time": "2023-12-12T07:20:39.861Z"
   },
   {
    "duration": 14,
    "start_time": "2023-12-12T07:20:40.261Z"
   },
   {
    "duration": 9,
    "start_time": "2023-12-12T07:20:40.780Z"
   },
   {
    "duration": 17,
    "start_time": "2023-12-12T07:20:41.849Z"
   },
   {
    "duration": 3,
    "start_time": "2023-12-12T07:20:46.146Z"
   },
   {
    "duration": 12,
    "start_time": "2023-12-12T07:21:01.086Z"
   },
   {
    "duration": 1357,
    "start_time": "2023-12-14T09:06:30.605Z"
   },
   {
    "duration": 204,
    "start_time": "2023-12-14T09:06:34.566Z"
   },
   {
    "duration": 17,
    "start_time": "2023-12-14T09:06:35.909Z"
   },
   {
    "duration": 14,
    "start_time": "2023-12-14T09:06:36.750Z"
   },
   {
    "duration": 9,
    "start_time": "2023-12-14T09:06:37.200Z"
   },
   {
    "duration": 16,
    "start_time": "2023-12-14T09:06:37.736Z"
   },
   {
    "duration": 3,
    "start_time": "2023-12-14T09:06:39.634Z"
   },
   {
    "duration": 14,
    "start_time": "2023-12-14T09:06:39.869Z"
   },
   {
    "duration": 116,
    "start_time": "2023-12-14T09:06:40.302Z"
   },
   {
    "duration": 12,
    "start_time": "2023-12-14T09:07:10.263Z"
   },
   {
    "duration": 14,
    "start_time": "2023-12-14T09:07:14.979Z"
   },
   {
    "duration": 13,
    "start_time": "2023-12-14T09:10:39.793Z"
   },
   {
    "duration": 13,
    "start_time": "2023-12-14T09:10:41.676Z"
   },
   {
    "duration": 12,
    "start_time": "2023-12-14T09:11:13.571Z"
   },
   {
    "duration": 13,
    "start_time": "2023-12-14T09:11:58.185Z"
   },
   {
    "duration": 16,
    "start_time": "2023-12-14T09:12:26.826Z"
   },
   {
    "duration": 13,
    "start_time": "2023-12-14T09:13:40.151Z"
   },
   {
    "duration": 12,
    "start_time": "2023-12-14T09:15:49.965Z"
   },
   {
    "duration": 8,
    "start_time": "2023-12-14T09:16:34.071Z"
   },
   {
    "duration": 7,
    "start_time": "2023-12-14T09:16:38.289Z"
   },
   {
    "duration": 7,
    "start_time": "2023-12-14T09:30:46.385Z"
   },
   {
    "duration": 4,
    "start_time": "2023-12-14T09:30:47.269Z"
   },
   {
    "duration": 7,
    "start_time": "2023-12-14T09:34:12.231Z"
   },
   {
    "duration": 7,
    "start_time": "2023-12-14T09:34:12.575Z"
   },
   {
    "duration": 4,
    "start_time": "2023-12-14T09:34:13.578Z"
   },
   {
    "duration": 5,
    "start_time": "2023-12-14T09:55:40.399Z"
   },
   {
    "duration": 7,
    "start_time": "2023-12-14T09:56:13.643Z"
   },
   {
    "duration": 5,
    "start_time": "2023-12-14T10:10:31.794Z"
   },
   {
    "duration": 6,
    "start_time": "2023-12-14T10:10:54.633Z"
   },
   {
    "duration": 15,
    "start_time": "2023-12-14T10:11:17.895Z"
   },
   {
    "duration": 3,
    "start_time": "2023-12-14T10:49:21.902Z"
   },
   {
    "duration": 53,
    "start_time": "2023-12-14T10:49:22.417Z"
   },
   {
    "duration": 14,
    "start_time": "2023-12-14T10:49:23.150Z"
   },
   {
    "duration": 13,
    "start_time": "2023-12-14T10:49:23.617Z"
   },
   {
    "duration": 10,
    "start_time": "2023-12-14T10:49:24.001Z"
   },
   {
    "duration": 15,
    "start_time": "2023-12-14T10:49:24.486Z"
   },
   {
    "duration": 3,
    "start_time": "2023-12-14T10:49:30.953Z"
   },
   {
    "duration": 13,
    "start_time": "2023-12-14T10:49:45.432Z"
   },
   {
    "duration": 7,
    "start_time": "2023-12-14T10:49:48.209Z"
   },
   {
    "duration": 8,
    "start_time": "2023-12-14T10:49:48.827Z"
   },
   {
    "duration": 6,
    "start_time": "2023-12-14T10:49:49.193Z"
   },
   {
    "duration": 3,
    "start_time": "2023-12-14T10:49:50.193Z"
   },
   {
    "duration": 5,
    "start_time": "2023-12-14T10:49:51.609Z"
   },
   {
    "duration": 7,
    "start_time": "2023-12-14T10:49:52.311Z"
   },
   {
    "duration": 8,
    "start_time": "2023-12-14T10:49:54.215Z"
   },
   {
    "duration": 4,
    "start_time": "2023-12-14T10:49:59.562Z"
   },
   {
    "duration": 5,
    "start_time": "2023-12-14T10:52:23.309Z"
   },
   {
    "duration": 5,
    "start_time": "2023-12-14T10:52:24.327Z"
   },
   {
    "duration": 5,
    "start_time": "2023-12-14T11:01:49.133Z"
   },
   {
    "duration": 15,
    "start_time": "2023-12-14T11:02:05.738Z"
   },
   {
    "duration": 5,
    "start_time": "2023-12-14T11:13:40.450Z"
   },
   {
    "duration": 15,
    "start_time": "2023-12-14T11:13:41.056Z"
   },
   {
    "duration": 5,
    "start_time": "2023-12-14T11:13:50.131Z"
   },
   {
    "duration": 16,
    "start_time": "2023-12-14T11:13:50.608Z"
   },
   {
    "duration": 6,
    "start_time": "2023-12-14T12:26:00.580Z"
   },
   {
    "duration": 4,
    "start_time": "2023-12-14T12:26:24.657Z"
   },
   {
    "duration": 4,
    "start_time": "2023-12-14T12:26:27.171Z"
   },
   {
    "duration": 4,
    "start_time": "2023-12-14T12:26:29.440Z"
   },
   {
    "duration": 53,
    "start_time": "2023-12-14T12:26:42.260Z"
   },
   {
    "duration": 4,
    "start_time": "2023-12-14T12:26:48.866Z"
   },
   {
    "duration": 4,
    "start_time": "2023-12-14T12:26:54.412Z"
   },
   {
    "duration": 50,
    "start_time": "2023-12-14T12:28:40.346Z"
   },
   {
    "duration": 61,
    "start_time": "2023-12-14T12:29:08.372Z"
   },
   {
    "duration": 18,
    "start_time": "2023-12-14T12:29:24.477Z"
   },
   {
    "duration": 23,
    "start_time": "2023-12-14T12:29:32.247Z"
   },
   {
    "duration": 8,
    "start_time": "2023-12-14T12:29:49.291Z"
   },
   {
    "duration": 4,
    "start_time": "2023-12-14T12:30:19.279Z"
   },
   {
    "duration": 55,
    "start_time": "2023-12-14T12:30:28.164Z"
   },
   {
    "duration": 8,
    "start_time": "2023-12-14T12:30:32.447Z"
   },
   {
    "duration": 8,
    "start_time": "2023-12-14T12:30:37.167Z"
   },
   {
    "duration": 6,
    "start_time": "2023-12-14T12:30:56.689Z"
   },
   {
    "duration": 11,
    "start_time": "2023-12-14T12:31:06.525Z"
   },
   {
    "duration": 7,
    "start_time": "2023-12-14T12:31:11.677Z"
   },
   {
    "duration": 6,
    "start_time": "2023-12-14T12:31:19.613Z"
   },
   {
    "duration": 6,
    "start_time": "2023-12-14T12:31:33.018Z"
   },
   {
    "duration": 24,
    "start_time": "2023-12-14T12:35:06.286Z"
   },
   {
    "duration": 8,
    "start_time": "2023-12-14T12:35:38.611Z"
   },
   {
    "duration": 7,
    "start_time": "2023-12-14T12:36:09.203Z"
   },
   {
    "duration": 7,
    "start_time": "2023-12-14T12:36:46.181Z"
   },
   {
    "duration": 20,
    "start_time": "2023-12-14T12:37:16.607Z"
   },
   {
    "duration": 15,
    "start_time": "2023-12-14T12:37:32.564Z"
   },
   {
    "duration": 14,
    "start_time": "2023-12-14T12:37:43.865Z"
   },
   {
    "duration": 7,
    "start_time": "2023-12-14T12:38:22.294Z"
   },
   {
    "duration": 7,
    "start_time": "2023-12-14T12:39:58.426Z"
   },
   {
    "duration": 265,
    "start_time": "2023-12-14T12:46:52.370Z"
   },
   {
    "duration": 285,
    "start_time": "2023-12-14T12:47:04.745Z"
   },
   {
    "duration": 226,
    "start_time": "2023-12-14T12:47:15.464Z"
   },
   {
    "duration": 372,
    "start_time": "2023-12-14T12:47:21.162Z"
   },
   {
    "duration": 334,
    "start_time": "2023-12-14T12:47:30.414Z"
   },
   {
    "duration": 297,
    "start_time": "2023-12-14T12:51:10.989Z"
   },
   {
    "duration": 317,
    "start_time": "2023-12-14T12:51:14.735Z"
   },
   {
    "duration": 310,
    "start_time": "2023-12-14T12:52:09.320Z"
   },
   {
    "duration": 465,
    "start_time": "2023-12-14T12:52:18.189Z"
   },
   {
    "duration": 341,
    "start_time": "2023-12-14T12:52:30.242Z"
   },
   {
    "duration": 308,
    "start_time": "2023-12-14T12:52:38.912Z"
   },
   {
    "duration": 5,
    "start_time": "2023-12-14T12:54:05.407Z"
   },
   {
    "duration": 5,
    "start_time": "2023-12-14T12:54:37.268Z"
   },
   {
    "duration": 11,
    "start_time": "2023-12-14T12:57:30.083Z"
   },
   {
    "duration": 9,
    "start_time": "2023-12-14T12:57:40.437Z"
   },
   {
    "duration": 7,
    "start_time": "2023-12-14T12:57:52.442Z"
   },
   {
    "duration": 8,
    "start_time": "2023-12-14T12:58:02.911Z"
   },
   {
    "duration": 9,
    "start_time": "2023-12-14T13:00:46.748Z"
   },
   {
    "duration": 11,
    "start_time": "2023-12-14T13:00:51.798Z"
   },
   {
    "duration": 154,
    "start_time": "2023-12-14T13:24:12.546Z"
   },
   {
    "duration": 107,
    "start_time": "2023-12-14T13:34:46.497Z"
   },
   {
    "duration": 893,
    "start_time": "2023-12-14T13:35:19.475Z"
   },
   {
    "duration": 759,
    "start_time": "2023-12-14T13:35:41.816Z"
   },
   {
    "duration": 767,
    "start_time": "2023-12-14T13:35:51.184Z"
   },
   {
    "duration": 950,
    "start_time": "2023-12-14T13:36:11.292Z"
   },
   {
    "duration": 978,
    "start_time": "2023-12-14T13:36:20.445Z"
   },
   {
    "duration": 17,
    "start_time": "2023-12-14T13:36:35.303Z"
   },
   {
    "duration": 822,
    "start_time": "2023-12-14T13:37:24.433Z"
   },
   {
    "duration": 797,
    "start_time": "2023-12-14T13:37:52.409Z"
   },
   {
    "duration": 921,
    "start_time": "2023-12-14T13:38:39.852Z"
   },
   {
    "duration": 813,
    "start_time": "2023-12-14T13:39:08.034Z"
   },
   {
    "duration": 817,
    "start_time": "2023-12-14T13:39:22.111Z"
   },
   {
    "duration": 725,
    "start_time": "2023-12-14T13:39:50.993Z"
   },
   {
    "duration": 821,
    "start_time": "2023-12-14T13:40:37.540Z"
   },
   {
    "duration": 16,
    "start_time": "2023-12-14T13:40:49.460Z"
   },
   {
    "duration": 764,
    "start_time": "2023-12-14T13:41:00.880Z"
   },
   {
    "duration": 750,
    "start_time": "2023-12-14T13:42:54.282Z"
   },
   {
    "duration": 799,
    "start_time": "2023-12-14T13:43:44.781Z"
   },
   {
    "duration": 652,
    "start_time": "2023-12-14T13:43:59.669Z"
   },
   {
    "duration": 108,
    "start_time": "2023-12-14T13:44:35.380Z"
   },
   {
    "duration": 654,
    "start_time": "2023-12-14T13:44:41.216Z"
   },
   {
    "duration": 677,
    "start_time": "2023-12-14T13:45:08.190Z"
   },
   {
    "duration": 782,
    "start_time": "2023-12-14T13:45:51.672Z"
   },
   {
    "duration": 679,
    "start_time": "2023-12-14T13:47:53.529Z"
   },
   {
    "duration": 669,
    "start_time": "2023-12-14T13:48:49.529Z"
   },
   {
    "duration": 15,
    "start_time": "2023-12-14T13:58:57.398Z"
   },
   {
    "duration": 832,
    "start_time": "2023-12-14T13:59:06.420Z"
   },
   {
    "duration": 12,
    "start_time": "2023-12-14T14:10:56.472Z"
   },
   {
    "duration": 183,
    "start_time": "2023-12-14T14:15:38.293Z"
   },
   {
    "duration": 728,
    "start_time": "2023-12-14T14:15:44.362Z"
   },
   {
    "duration": 266,
    "start_time": "2023-12-14T14:44:54.309Z"
   },
   {
    "duration": 16,
    "start_time": "2023-12-14T14:45:25.333Z"
   },
   {
    "duration": 15,
    "start_time": "2023-12-14T14:45:33.736Z"
   },
   {
    "duration": 791,
    "start_time": "2023-12-14T14:45:40.826Z"
   },
   {
    "duration": 763,
    "start_time": "2023-12-14T14:48:06.349Z"
   },
   {
    "duration": 748,
    "start_time": "2023-12-14T14:49:02.584Z"
   },
   {
    "duration": 6,
    "start_time": "2023-12-14T14:53:14.513Z"
   },
   {
    "duration": 21,
    "start_time": "2023-12-14T14:53:15.779Z"
   },
   {
    "duration": 15,
    "start_time": "2023-12-14T14:54:16.757Z"
   },
   {
    "duration": 11,
    "start_time": "2023-12-14T14:54:24.836Z"
   },
   {
    "duration": 22,
    "start_time": "2023-12-14T14:54:36.172Z"
   },
   {
    "duration": 7,
    "start_time": "2023-12-14T14:55:25.420Z"
   },
   {
    "duration": 621,
    "start_time": "2023-12-14T15:09:11.344Z"
   },
   {
    "duration": 773,
    "start_time": "2023-12-14T15:09:40.285Z"
   },
   {
    "duration": 638,
    "start_time": "2023-12-14T15:10:04.760Z"
   },
   {
    "duration": 116,
    "start_time": "2023-12-14T15:13:28.973Z"
   },
   {
    "duration": 133,
    "start_time": "2023-12-14T15:13:53.480Z"
   },
   {
    "duration": 153,
    "start_time": "2023-12-14T15:13:57.548Z"
   },
   {
    "duration": 19,
    "start_time": "2023-12-14T15:19:13.348Z"
   },
   {
    "duration": 10,
    "start_time": "2023-12-14T15:19:24.204Z"
   },
   {
    "duration": 10,
    "start_time": "2023-12-14T15:19:35.055Z"
   },
   {
    "duration": 10,
    "start_time": "2023-12-14T15:20:01.397Z"
   },
   {
    "duration": 16,
    "start_time": "2023-12-14T15:20:10.749Z"
   },
   {
    "duration": 25,
    "start_time": "2023-12-14T15:20:16.183Z"
   },
   {
    "duration": 18,
    "start_time": "2023-12-14T15:20:25.052Z"
   },
   {
    "duration": 28,
    "start_time": "2023-12-14T15:21:31.242Z"
   },
   {
    "duration": 26,
    "start_time": "2023-12-14T15:21:55.131Z"
   },
   {
    "duration": 64,
    "start_time": "2023-12-14T15:24:21.010Z"
   },
   {
    "duration": 7,
    "start_time": "2023-12-14T15:24:46.133Z"
   },
   {
    "duration": 22,
    "start_time": "2023-12-14T15:24:49.234Z"
   },
   {
    "duration": 122,
    "start_time": "2023-12-14T15:27:00.327Z"
   },
   {
    "duration": 115,
    "start_time": "2023-12-14T15:27:51.077Z"
   },
   {
    "duration": 121,
    "start_time": "2023-12-14T15:27:58.675Z"
   },
   {
    "duration": 121,
    "start_time": "2023-12-14T15:28:48.494Z"
   },
   {
    "duration": 22,
    "start_time": "2023-12-14T15:29:20.309Z"
   },
   {
    "duration": 22,
    "start_time": "2023-12-14T15:29:28.604Z"
   },
   {
    "duration": 8,
    "start_time": "2023-12-14T15:29:33.808Z"
   },
   {
    "duration": 719,
    "start_time": "2023-12-14T15:29:35.374Z"
   },
   {
    "duration": 6,
    "start_time": "2023-12-14T15:29:36.572Z"
   },
   {
    "duration": 4,
    "start_time": "2023-12-14T15:29:45.893Z"
   },
   {
    "duration": 54,
    "start_time": "2023-12-14T15:29:46.292Z"
   },
   {
    "duration": 16,
    "start_time": "2023-12-14T15:29:46.643Z"
   },
   {
    "duration": 17,
    "start_time": "2023-12-14T15:29:47.063Z"
   },
   {
    "duration": 10,
    "start_time": "2023-12-14T15:29:47.392Z"
   },
   {
    "duration": 51,
    "start_time": "2023-12-14T15:29:51.565Z"
   },
   {
    "duration": 13,
    "start_time": "2023-12-14T15:29:51.914Z"
   },
   {
    "duration": 13,
    "start_time": "2023-12-14T15:29:52.261Z"
   },
   {
    "duration": 10,
    "start_time": "2023-12-14T15:29:52.612Z"
   },
   {
    "duration": 15,
    "start_time": "2023-12-14T15:29:53.729Z"
   },
   {
    "duration": 3,
    "start_time": "2023-12-14T15:29:55.396Z"
   },
   {
    "duration": 13,
    "start_time": "2023-12-14T15:29:55.645Z"
   },
   {
    "duration": 6,
    "start_time": "2023-12-14T15:29:55.846Z"
   },
   {
    "duration": 8,
    "start_time": "2023-12-14T15:29:56.264Z"
   },
   {
    "duration": 6,
    "start_time": "2023-12-14T15:29:56.814Z"
   },
   {
    "duration": 5,
    "start_time": "2023-12-14T15:29:57.313Z"
   },
   {
    "duration": 5,
    "start_time": "2023-12-14T15:29:58.613Z"
   },
   {
    "duration": 7,
    "start_time": "2023-12-14T15:29:59.150Z"
   },
   {
    "duration": 4,
    "start_time": "2023-12-14T15:29:59.863Z"
   },
   {
    "duration": 5,
    "start_time": "2023-12-14T15:30:00.114Z"
   },
   {
    "duration": 5,
    "start_time": "2023-12-14T15:30:15.952Z"
   },
   {
    "duration": 4,
    "start_time": "2023-12-14T15:30:16.732Z"
   },
   {
    "duration": 22,
    "start_time": "2023-12-14T15:30:22.621Z"
   },
   {
    "duration": 6,
    "start_time": "2023-12-14T15:30:26.021Z"
   },
   {
    "duration": 7,
    "start_time": "2023-12-14T15:30:26.358Z"
   },
   {
    "duration": 10,
    "start_time": "2023-12-14T15:30:27.775Z"
   },
   {
    "duration": 323,
    "start_time": "2023-12-14T15:30:28.024Z"
   },
   {
    "duration": 8,
    "start_time": "2023-12-14T15:30:28.427Z"
   },
   {
    "duration": 793,
    "start_time": "2023-12-14T15:30:28.840Z"
   },
   {
    "duration": 6,
    "start_time": "2023-12-14T15:30:29.635Z"
   },
   {
    "duration": 51,
    "start_time": "2023-12-14T15:30:29.643Z"
   },
   {
    "duration": 7,
    "start_time": "2023-12-14T15:30:29.858Z"
   },
   {
    "duration": 682,
    "start_time": "2023-12-14T15:30:30.424Z"
   },
   {
    "duration": 7,
    "start_time": "2023-12-14T15:30:31.308Z"
   },
   {
    "duration": 26,
    "start_time": "2023-12-14T15:30:31.590Z"
   },
   {
    "duration": 131,
    "start_time": "2023-12-14T15:30:32.307Z"
   },
   {
    "duration": 13,
    "start_time": "2023-12-14T15:31:48.847Z"
   },
   {
    "duration": 11,
    "start_time": "2023-12-14T15:32:28.045Z"
   },
   {
    "duration": 236,
    "start_time": "2023-12-14T15:32:42.068Z"
   },
   {
    "duration": 142,
    "start_time": "2023-12-14T15:33:13.391Z"
   },
   {
    "duration": 136,
    "start_time": "2023-12-14T15:34:02.257Z"
   },
   {
    "duration": 153,
    "start_time": "2023-12-14T15:34:09.144Z"
   },
   {
    "duration": 138,
    "start_time": "2023-12-14T15:35:03.942Z"
   },
   {
    "duration": 132,
    "start_time": "2023-12-14T15:35:07.076Z"
   },
   {
    "duration": 17,
    "start_time": "2023-12-14T15:35:30.497Z"
   },
   {
    "duration": 156,
    "start_time": "2023-12-14T15:35:44.022Z"
   },
   {
    "duration": 132,
    "start_time": "2023-12-14T15:35:54.505Z"
   },
   {
    "duration": 151,
    "start_time": "2023-12-14T15:36:00.111Z"
   },
   {
    "duration": 128,
    "start_time": "2023-12-14T15:37:07.649Z"
   },
   {
    "duration": 131,
    "start_time": "2023-12-14T15:37:45.677Z"
   },
   {
    "duration": 149,
    "start_time": "2023-12-14T15:41:09.744Z"
   },
   {
    "duration": 137,
    "start_time": "2023-12-14T15:41:27.278Z"
   },
   {
    "duration": 310,
    "start_time": "2023-12-14T15:42:47.854Z"
   },
   {
    "duration": 240,
    "start_time": "2023-12-14T15:43:29.166Z"
   },
   {
    "duration": 207,
    "start_time": "2023-12-14T15:48:44.748Z"
   },
   {
    "duration": 130,
    "start_time": "2023-12-14T15:48:55.936Z"
   },
   {
    "duration": 50,
    "start_time": "2023-12-14T15:49:26.761Z"
   },
   {
    "duration": 137,
    "start_time": "2023-12-14T15:49:31.817Z"
   },
   {
    "duration": 162,
    "start_time": "2023-12-14T15:49:53.653Z"
   },
   {
    "duration": 147,
    "start_time": "2023-12-14T15:50:15.677Z"
   },
   {
    "duration": 160,
    "start_time": "2023-12-14T15:50:24.931Z"
   },
   {
    "duration": 171,
    "start_time": "2023-12-14T15:50:58.806Z"
   },
   {
    "duration": 155,
    "start_time": "2023-12-14T15:52:01.560Z"
   },
   {
    "duration": 180,
    "start_time": "2023-12-14T15:52:14.800Z"
   },
   {
    "duration": 175,
    "start_time": "2023-12-14T15:52:29.118Z"
   },
   {
    "duration": 161,
    "start_time": "2023-12-14T15:52:37.787Z"
   },
   {
    "duration": 270,
    "start_time": "2023-12-14T15:53:13.447Z"
   },
   {
    "duration": 113,
    "start_time": "2023-12-14T15:54:36.573Z"
   },
   {
    "duration": 57,
    "start_time": "2023-12-14T15:54:55.029Z"
   },
   {
    "duration": 180,
    "start_time": "2023-12-14T15:55:24.905Z"
   },
   {
    "duration": 166,
    "start_time": "2023-12-14T15:55:35.109Z"
   },
   {
    "duration": 127,
    "start_time": "2023-12-14T15:55:51.047Z"
   },
   {
    "duration": 208,
    "start_time": "2023-12-14T15:56:02.650Z"
   },
   {
    "duration": 158,
    "start_time": "2023-12-14T15:56:22.476Z"
   },
   {
    "duration": 277,
    "start_time": "2023-12-14T15:57:55.353Z"
   },
   {
    "duration": 164,
    "start_time": "2023-12-14T15:58:09.873Z"
   },
   {
    "duration": 171,
    "start_time": "2023-12-14T15:58:41.482Z"
   },
   {
    "duration": 165,
    "start_time": "2023-12-14T15:58:44.585Z"
   },
   {
    "duration": 1317,
    "start_time": "2023-12-14T17:30:03.238Z"
   },
   {
    "duration": 111,
    "start_time": "2023-12-14T17:30:04.557Z"
   },
   {
    "duration": 18,
    "start_time": "2023-12-14T17:30:04.670Z"
   },
   {
    "duration": 35,
    "start_time": "2023-12-14T17:30:04.690Z"
   },
   {
    "duration": 33,
    "start_time": "2023-12-14T17:30:04.728Z"
   },
   {
    "duration": 16,
    "start_time": "2023-12-14T17:30:06.692Z"
   },
   {
    "duration": 3,
    "start_time": "2023-12-14T17:30:08.608Z"
   },
   {
    "duration": 13,
    "start_time": "2023-12-14T17:30:08.823Z"
   },
   {
    "duration": 9,
    "start_time": "2023-12-14T17:30:09.056Z"
   },
   {
    "duration": 8,
    "start_time": "2023-12-14T17:30:09.290Z"
   },
   {
    "duration": 7,
    "start_time": "2023-12-14T17:30:09.539Z"
   },
   {
    "duration": 4,
    "start_time": "2023-12-14T17:30:09.992Z"
   },
   {
    "duration": 5,
    "start_time": "2023-12-14T17:30:10.890Z"
   },
   {
    "duration": 7,
    "start_time": "2023-12-14T17:30:11.223Z"
   },
   {
    "duration": 5,
    "start_time": "2023-12-14T17:30:11.825Z"
   },
   {
    "duration": 5,
    "start_time": "2023-12-14T17:30:12.392Z"
   },
   {
    "duration": 5,
    "start_time": "2023-12-14T17:30:12.612Z"
   },
   {
    "duration": 5,
    "start_time": "2023-12-14T17:30:12.857Z"
   },
   {
    "duration": 15,
    "start_time": "2023-12-14T17:30:13.108Z"
   },
   {
    "duration": 5,
    "start_time": "2023-12-14T17:30:13.342Z"
   },
   {
    "duration": 5,
    "start_time": "2023-12-14T17:30:13.591Z"
   },
   {
    "duration": 8,
    "start_time": "2023-12-14T17:30:17.466Z"
   },
   {
    "duration": 352,
    "start_time": "2023-12-14T17:30:17.875Z"
   },
   {
    "duration": 8,
    "start_time": "2023-12-14T17:30:19.612Z"
   },
   {
    "duration": 822,
    "start_time": "2023-12-14T17:30:22.393Z"
   },
   {
    "duration": 8,
    "start_time": "2023-12-14T17:30:26.512Z"
   },
   {
    "duration": 23,
    "start_time": "2023-12-14T17:30:27.369Z"
   },
   {
    "duration": 9,
    "start_time": "2023-12-14T17:30:28.028Z"
   },
   {
    "duration": 668,
    "start_time": "2023-12-14T17:30:31.312Z"
   },
   {
    "duration": 6,
    "start_time": "2023-12-14T17:30:32.264Z"
   },
   {
    "duration": 21,
    "start_time": "2023-12-14T17:30:32.696Z"
   },
   {
    "duration": 167,
    "start_time": "2023-12-14T17:30:33.102Z"
   },
   {
    "duration": 228,
    "start_time": "2023-12-14T17:31:27.448Z"
   },
   {
    "duration": 152,
    "start_time": "2023-12-14T17:31:38.219Z"
   },
   {
    "duration": 154,
    "start_time": "2023-12-14T17:31:48.738Z"
   },
   {
    "duration": 155,
    "start_time": "2023-12-14T17:32:38.453Z"
   },
   {
    "duration": 141,
    "start_time": "2023-12-14T17:32:46.905Z"
   },
   {
    "duration": 168,
    "start_time": "2023-12-14T17:32:57.211Z"
   },
   {
    "duration": 178,
    "start_time": "2023-12-14T17:36:36.492Z"
   },
   {
    "duration": 164,
    "start_time": "2023-12-14T17:36:47.777Z"
   },
   {
    "duration": 1287,
    "start_time": "2023-12-18T08:33:56.196Z"
   },
   {
    "duration": 93,
    "start_time": "2023-12-18T08:33:58.281Z"
   },
   {
    "duration": 19,
    "start_time": "2023-12-18T08:33:59.230Z"
   },
   {
    "duration": 15,
    "start_time": "2023-12-18T08:34:00.663Z"
   },
   {
    "duration": 10,
    "start_time": "2023-12-18T08:34:01.297Z"
   },
   {
    "duration": 16,
    "start_time": "2023-12-18T08:34:02.014Z"
   },
   {
    "duration": 3,
    "start_time": "2023-12-18T08:34:04.333Z"
   },
   {
    "duration": 14,
    "start_time": "2023-12-18T08:34:04.764Z"
   },
   {
    "duration": 11,
    "start_time": "2023-12-18T08:34:05.114Z"
   },
   {
    "duration": 7,
    "start_time": "2023-12-18T08:34:05.348Z"
   },
   {
    "duration": 7,
    "start_time": "2023-12-18T08:34:05.582Z"
   },
   {
    "duration": 5,
    "start_time": "2023-12-18T08:34:06.081Z"
   },
   {
    "duration": 5,
    "start_time": "2023-12-18T08:34:06.882Z"
   },
   {
    "duration": 10,
    "start_time": "2023-12-18T08:34:07.150Z"
   },
   {
    "duration": 6,
    "start_time": "2023-12-18T08:34:07.716Z"
   },
   {
    "duration": 7,
    "start_time": "2023-12-18T08:34:07.966Z"
   },
   {
    "duration": 7,
    "start_time": "2023-12-18T08:34:08.200Z"
   },
   {
    "duration": 5,
    "start_time": "2023-12-18T08:34:08.449Z"
   },
   {
    "duration": 17,
    "start_time": "2023-12-18T08:34:08.720Z"
   },
   {
    "duration": 5,
    "start_time": "2023-12-18T08:34:09.017Z"
   },
   {
    "duration": 5,
    "start_time": "2023-12-18T08:34:09.318Z"
   },
   {
    "duration": 10,
    "start_time": "2023-12-18T08:34:11.050Z"
   },
   {
    "duration": 369,
    "start_time": "2023-12-18T08:34:11.316Z"
   },
   {
    "duration": 9,
    "start_time": "2023-12-18T08:34:11.833Z"
   },
   {
    "duration": 895,
    "start_time": "2023-12-18T08:34:12.700Z"
   },
   {
    "duration": 8,
    "start_time": "2023-12-18T08:34:13.597Z"
   },
   {
    "duration": 21,
    "start_time": "2023-12-18T08:34:13.768Z"
   },
   {
    "duration": 8,
    "start_time": "2023-12-18T08:34:14.084Z"
   },
   {
    "duration": 717,
    "start_time": "2023-12-18T08:34:14.717Z"
   },
   {
    "duration": 6,
    "start_time": "2023-12-18T08:34:15.436Z"
   },
   {
    "duration": 22,
    "start_time": "2023-12-18T08:34:15.571Z"
   },
   {
    "duration": 247,
    "start_time": "2023-12-18T08:34:15.901Z"
   },
   {
    "duration": 240,
    "start_time": "2023-12-18T08:38:34.882Z"
   },
   {
    "duration": 6,
    "start_time": "2023-12-18T08:56:39.256Z"
   },
   {
    "duration": 22,
    "start_time": "2023-12-18T08:56:40.589Z"
   },
   {
    "duration": 15,
    "start_time": "2023-12-18T08:57:25.488Z"
   },
   {
    "duration": 6,
    "start_time": "2023-12-18T08:59:30.741Z"
   },
   {
    "duration": 5,
    "start_time": "2023-12-18T09:00:38.146Z"
   },
   {
    "duration": 5,
    "start_time": "2023-12-18T09:00:38.801Z"
   },
   {
    "duration": 11,
    "start_time": "2023-12-18T09:05:30.738Z"
   },
   {
    "duration": 10,
    "start_time": "2023-12-18T09:06:04.082Z"
   },
   {
    "duration": 5,
    "start_time": "2023-12-18T09:06:10.616Z"
   },
   {
    "duration": 5,
    "start_time": "2023-12-18T09:06:22.553Z"
   },
   {
    "duration": 6,
    "start_time": "2023-12-18T09:06:23.252Z"
   },
   {
    "duration": 5,
    "start_time": "2023-12-18T09:06:52.878Z"
   },
   {
    "duration": 138,
    "start_time": "2023-12-18T09:07:38.010Z"
   },
   {
    "duration": 5,
    "start_time": "2023-12-18T09:07:54.935Z"
   },
   {
    "duration": 5,
    "start_time": "2023-12-18T09:08:30.979Z"
   },
   {
    "duration": 76,
    "start_time": "2023-12-18T09:09:33.596Z"
   },
   {
    "duration": 76,
    "start_time": "2023-12-18T09:09:39.068Z"
   },
   {
    "duration": 79,
    "start_time": "2023-12-18T09:09:53.720Z"
   },
   {
    "duration": 78,
    "start_time": "2023-12-18T09:09:59.083Z"
   },
   {
    "duration": 4,
    "start_time": "2023-12-18T09:10:07.007Z"
   },
   {
    "duration": 112,
    "start_time": "2023-12-18T09:10:41.051Z"
   },
   {
    "duration": 4,
    "start_time": "2023-12-18T09:10:48.753Z"
   },
   {
    "duration": 4,
    "start_time": "2023-12-18T09:11:14.428Z"
   },
   {
    "duration": 149,
    "start_time": "2023-12-18T09:12:54.625Z"
   },
   {
    "duration": 175,
    "start_time": "2023-12-18T09:13:35.705Z"
   },
   {
    "duration": 165,
    "start_time": "2023-12-18T09:15:01.201Z"
   },
   {
    "duration": 286,
    "start_time": "2023-12-18T09:15:15.889Z"
   },
   {
    "duration": 158,
    "start_time": "2023-12-18T09:15:25.423Z"
   },
   {
    "duration": 159,
    "start_time": "2023-12-18T09:16:05.720Z"
   },
   {
    "duration": 4,
    "start_time": "2023-12-18T09:22:30.141Z"
   },
   {
    "duration": 6,
    "start_time": "2023-12-18T09:22:40.243Z"
   },
   {
    "duration": 9,
    "start_time": "2023-12-18T09:49:32.345Z"
   },
   {
    "duration": 260,
    "start_time": "2023-12-18T09:49:51.931Z"
   },
   {
    "duration": 75,
    "start_time": "2023-12-18T09:50:24.509Z"
   },
   {
    "duration": 125,
    "start_time": "2023-12-18T09:50:31.760Z"
   },
   {
    "duration": 336,
    "start_time": "2023-12-18T09:50:37.930Z"
   },
   {
    "duration": 19,
    "start_time": "2023-12-18T09:53:49.288Z"
   },
   {
    "duration": 9,
    "start_time": "2023-12-18T09:54:08.235Z"
   },
   {
    "duration": 9,
    "start_time": "2023-12-18T09:54:49.810Z"
   },
   {
    "duration": 84,
    "start_time": "2023-12-18T09:55:17.724Z"
   },
   {
    "duration": 142,
    "start_time": "2023-12-18T09:55:27.688Z"
   },
   {
    "duration": 80,
    "start_time": "2023-12-18T09:55:35.580Z"
   },
   {
    "duration": 81,
    "start_time": "2023-12-18T09:57:32.342Z"
   },
   {
    "duration": 106,
    "start_time": "2023-12-18T09:57:38.843Z"
   },
   {
    "duration": 75,
    "start_time": "2023-12-18T09:57:44.622Z"
   },
   {
    "duration": 75,
    "start_time": "2023-12-18T09:57:49.615Z"
   },
   {
    "duration": 117,
    "start_time": "2023-12-18T09:58:06.685Z"
   },
   {
    "duration": 20,
    "start_time": "2023-12-18T09:58:12.970Z"
   },
   {
    "duration": 21,
    "start_time": "2023-12-18T09:59:33.870Z"
   },
   {
    "duration": 26,
    "start_time": "2023-12-18T09:59:42.883Z"
   },
   {
    "duration": 81,
    "start_time": "2023-12-18T10:01:36.319Z"
   },
   {
    "duration": 14,
    "start_time": "2023-12-18T10:02:01.643Z"
   },
   {
    "duration": 94,
    "start_time": "2023-12-18T10:02:45.140Z"
   },
   {
    "duration": 19,
    "start_time": "2023-12-18T10:03:22.601Z"
   },
   {
    "duration": 16,
    "start_time": "2023-12-18T10:04:21.119Z"
   },
   {
    "duration": 26,
    "start_time": "2023-12-18T10:26:14.879Z"
   },
   {
    "duration": 337,
    "start_time": "2023-12-18T10:29:53.013Z"
   },
   {
    "duration": 287,
    "start_time": "2023-12-18T10:30:52.432Z"
   },
   {
    "duration": 363,
    "start_time": "2023-12-18T10:31:23.660Z"
   },
   {
    "duration": 308,
    "start_time": "2023-12-18T10:42:07.012Z"
   },
   {
    "duration": 318,
    "start_time": "2023-12-18T10:42:13.764Z"
   },
   {
    "duration": 433,
    "start_time": "2023-12-18T10:55:40.746Z"
   },
   {
    "duration": 3,
    "start_time": "2023-12-18T10:57:21.198Z"
   },
   {
    "duration": 4,
    "start_time": "2023-12-18T10:57:21.730Z"
   },
   {
    "duration": 7,
    "start_time": "2023-12-18T10:58:38.318Z"
   },
   {
    "duration": 2,
    "start_time": "2023-12-18T11:04:26.481Z"
   },
   {
    "duration": 7,
    "start_time": "2023-12-18T11:04:27.211Z"
   },
   {
    "duration": 74,
    "start_time": "2023-12-18T11:09:11.520Z"
   },
   {
    "duration": 9,
    "start_time": "2023-12-18T11:09:26.587Z"
   },
   {
    "duration": 17,
    "start_time": "2023-12-18T11:10:57.818Z"
   },
   {
    "duration": 15,
    "start_time": "2023-12-18T11:11:16.545Z"
   },
   {
    "duration": 11,
    "start_time": "2023-12-18T11:12:16.226Z"
   },
   {
    "duration": 12,
    "start_time": "2023-12-18T11:13:45.611Z"
   },
   {
    "duration": 21,
    "start_time": "2023-12-18T11:14:00.322Z"
   },
   {
    "duration": 631,
    "start_time": "2023-12-18T11:15:16.589Z"
   },
   {
    "duration": 158,
    "start_time": "2023-12-18T11:18:00.963Z"
   },
   {
    "duration": 234,
    "start_time": "2023-12-18T11:18:02.799Z"
   },
   {
    "duration": 6,
    "start_time": "2023-12-18T11:19:01.065Z"
   },
   {
    "duration": 6,
    "start_time": "2023-12-18T11:19:06.785Z"
   },
   {
    "duration": 18,
    "start_time": "2023-12-18T11:19:22.156Z"
   },
   {
    "duration": 15,
    "start_time": "2023-12-18T11:20:15.790Z"
   },
   {
    "duration": 330,
    "start_time": "2023-12-18T11:20:32.179Z"
   },
   {
    "duration": 14,
    "start_time": "2023-12-18T11:21:31.696Z"
   },
   {
    "duration": 13,
    "start_time": "2023-12-18T11:21:42.666Z"
   },
   {
    "duration": 18,
    "start_time": "2023-12-18T11:24:06.862Z"
   },
   {
    "duration": 20,
    "start_time": "2023-12-18T11:24:18.415Z"
   },
   {
    "duration": 10,
    "start_time": "2023-12-18T11:24:39.689Z"
   },
   {
    "duration": 375,
    "start_time": "2023-12-18T11:27:08.519Z"
   },
   {
    "duration": 528,
    "start_time": "2023-12-18T11:29:19.292Z"
   },
   {
    "duration": 388,
    "start_time": "2023-12-18T11:29:46.101Z"
   },
   {
    "duration": 14,
    "start_time": "2023-12-18T11:32:48.289Z"
   },
   {
    "duration": 34,
    "start_time": "2023-12-18T11:33:53.845Z"
   },
   {
    "duration": 27,
    "start_time": "2023-12-18T11:34:06.216Z"
   },
   {
    "duration": 27,
    "start_time": "2023-12-18T11:34:09.514Z"
   },
   {
    "duration": 70,
    "start_time": "2023-12-18T11:34:42.159Z"
   },
   {
    "duration": 27,
    "start_time": "2023-12-18T11:34:49.727Z"
   },
   {
    "duration": 29,
    "start_time": "2023-12-18T11:35:01.149Z"
   },
   {
    "duration": 20,
    "start_time": "2023-12-18T11:35:59.465Z"
   },
   {
    "duration": 21,
    "start_time": "2023-12-18T11:36:03.986Z"
   },
   {
    "duration": 278,
    "start_time": "2023-12-18T11:37:29.410Z"
   },
   {
    "duration": 366,
    "start_time": "2023-12-18T11:37:51.637Z"
   },
   {
    "duration": 302,
    "start_time": "2023-12-18T11:38:42.234Z"
   },
   {
    "duration": 154,
    "start_time": "2023-12-18T11:39:15.750Z"
   },
   {
    "duration": 424,
    "start_time": "2023-12-18T11:39:22.506Z"
   },
   {
    "duration": 319,
    "start_time": "2023-12-18T11:39:42.386Z"
   },
   {
    "duration": 302,
    "start_time": "2023-12-18T11:39:51.874Z"
   },
   {
    "duration": 321,
    "start_time": "2023-12-18T11:40:03.009Z"
   },
   {
    "duration": 129,
    "start_time": "2023-12-18T11:41:11.214Z"
   },
   {
    "duration": 301,
    "start_time": "2023-12-18T11:41:28.670Z"
   },
   {
    "duration": 460,
    "start_time": "2023-12-18T11:41:43.740Z"
   },
   {
    "duration": 409,
    "start_time": "2023-12-18T11:43:50.713Z"
   },
   {
    "duration": 422,
    "start_time": "2023-12-18T12:01:59.151Z"
   },
   {
    "duration": 378,
    "start_time": "2023-12-18T12:03:57.340Z"
   },
   {
    "duration": 10,
    "start_time": "2023-12-18T12:06:51.525Z"
   },
   {
    "duration": 9,
    "start_time": "2023-12-18T12:07:46.546Z"
   },
   {
    "duration": 21,
    "start_time": "2023-12-18T12:08:54.330Z"
   },
   {
    "duration": 20,
    "start_time": "2023-12-18T12:08:59.132Z"
   },
   {
    "duration": 20,
    "start_time": "2023-12-18T12:09:38.243Z"
   },
   {
    "duration": 21,
    "start_time": "2023-12-18T12:09:41.378Z"
   },
   {
    "duration": 20,
    "start_time": "2023-12-18T12:10:11.723Z"
   },
   {
    "duration": 78,
    "start_time": "2023-12-18T12:10:21.474Z"
   },
   {
    "duration": 476,
    "start_time": "2023-12-18T12:11:18.714Z"
   },
   {
    "duration": 361,
    "start_time": "2023-12-18T12:12:43.153Z"
   },
   {
    "duration": 384,
    "start_time": "2023-12-18T12:13:31.567Z"
   },
   {
    "duration": 422,
    "start_time": "2023-12-18T12:14:33.570Z"
   },
   {
    "duration": 406,
    "start_time": "2023-12-18T12:14:43.640Z"
   },
   {
    "duration": 91,
    "start_time": "2023-12-18T12:15:20.117Z"
   },
   {
    "duration": 454,
    "start_time": "2023-12-18T12:15:36.288Z"
   },
   {
    "duration": 396,
    "start_time": "2023-12-18T12:17:02.700Z"
   },
   {
    "duration": 401,
    "start_time": "2023-12-18T12:18:00.867Z"
   },
   {
    "duration": 138,
    "start_time": "2023-12-18T12:18:16.639Z"
   },
   {
    "duration": 376,
    "start_time": "2023-12-18T12:18:21.856Z"
   },
   {
    "duration": 421,
    "start_time": "2023-12-18T12:20:11.411Z"
   },
   {
    "duration": 559,
    "start_time": "2023-12-18T12:20:43.602Z"
   },
   {
    "duration": 414,
    "start_time": "2023-12-18T12:21:44.288Z"
   },
   {
    "duration": 430,
    "start_time": "2023-12-18T12:21:57.342Z"
   },
   {
    "duration": 409,
    "start_time": "2023-12-18T12:22:13.247Z"
   },
   {
    "duration": 493,
    "start_time": "2023-12-18T12:22:34.487Z"
   },
   {
    "duration": 406,
    "start_time": "2023-12-18T12:23:34.755Z"
   },
   {
    "duration": 74,
    "start_time": "2023-12-18T12:23:53.445Z"
   },
   {
    "duration": 161,
    "start_time": "2023-12-18T12:24:01.181Z"
   },
   {
    "duration": 405,
    "start_time": "2023-12-18T12:24:10.085Z"
   },
   {
    "duration": 402,
    "start_time": "2023-12-18T12:30:37.771Z"
   },
   {
    "duration": 530,
    "start_time": "2023-12-18T12:32:10.616Z"
   },
   {
    "duration": 78,
    "start_time": "2023-12-18T12:35:50.120Z"
   },
   {
    "duration": 428,
    "start_time": "2023-12-18T12:36:05.992Z"
   },
   {
    "duration": 11,
    "start_time": "2023-12-18T12:36:44.684Z"
   },
   {
    "duration": 388,
    "start_time": "2023-12-18T12:36:51.903Z"
   },
   {
    "duration": 424,
    "start_time": "2023-12-18T12:37:56.990Z"
   },
   {
    "duration": 413,
    "start_time": "2023-12-18T12:51:47.333Z"
   },
   {
    "duration": 429,
    "start_time": "2023-12-18T12:52:02.291Z"
   },
   {
    "duration": 510,
    "start_time": "2023-12-18T12:52:14.295Z"
   },
   {
    "duration": 429,
    "start_time": "2023-12-18T12:52:23.745Z"
   },
   {
    "duration": 425,
    "start_time": "2023-12-18T12:52:29.933Z"
   },
   {
    "duration": 415,
    "start_time": "2023-12-18T12:52:34.814Z"
   },
   {
    "duration": 429,
    "start_time": "2023-12-18T12:52:39.650Z"
   },
   {
    "duration": 562,
    "start_time": "2023-12-18T12:52:50.221Z"
   },
   {
    "duration": 427,
    "start_time": "2023-12-18T12:52:57.155Z"
   },
   {
    "duration": 414,
    "start_time": "2023-12-18T12:53:06.042Z"
   },
   {
    "duration": 408,
    "start_time": "2023-12-18T12:53:11.876Z"
   },
   {
    "duration": 432,
    "start_time": "2023-12-18T12:53:23.265Z"
   },
   {
    "duration": 412,
    "start_time": "2023-12-18T12:53:28.433Z"
   },
   {
    "duration": 491,
    "start_time": "2023-12-18T12:53:33.500Z"
   },
   {
    "duration": 427,
    "start_time": "2023-12-18T12:53:38.118Z"
   },
   {
    "duration": 5,
    "start_time": "2023-12-18T12:54:08.511Z"
   },
   {
    "duration": 423,
    "start_time": "2023-12-18T12:55:34.706Z"
   },
   {
    "duration": 439,
    "start_time": "2023-12-18T12:55:50.844Z"
   },
   {
    "duration": 456,
    "start_time": "2023-12-18T12:56:03.098Z"
   },
   {
    "duration": 524,
    "start_time": "2023-12-18T12:56:16.001Z"
   },
   {
    "duration": 465,
    "start_time": "2023-12-18T12:56:31.010Z"
   },
   {
    "duration": 458,
    "start_time": "2023-12-18T12:59:05.271Z"
   },
   {
    "duration": 414,
    "start_time": "2023-12-18T12:59:22.308Z"
   },
   {
    "duration": 645,
    "start_time": "2023-12-18T13:23:16.723Z"
   },
   {
    "duration": 709,
    "start_time": "2023-12-18T13:23:25.895Z"
   },
   {
    "duration": 188,
    "start_time": "2023-12-18T13:24:08.338Z"
   },
   {
    "duration": 19,
    "start_time": "2023-12-18T13:24:34.148Z"
   },
   {
    "duration": 665,
    "start_time": "2023-12-18T13:25:20.845Z"
   },
   {
    "duration": 552,
    "start_time": "2023-12-18T13:25:33.047Z"
   },
   {
    "duration": 595,
    "start_time": "2023-12-18T13:25:49.737Z"
   },
   {
    "duration": 712,
    "start_time": "2023-12-18T13:26:33.571Z"
   },
   {
    "duration": 649,
    "start_time": "2023-12-18T13:26:52.396Z"
   },
   {
    "duration": 3,
    "start_time": "2023-12-18T14:51:57.411Z"
   },
   {
    "duration": 54,
    "start_time": "2023-12-18T14:51:57.617Z"
   },
   {
    "duration": 14,
    "start_time": "2023-12-18T14:51:57.815Z"
   },
   {
    "duration": 14,
    "start_time": "2023-12-18T14:51:58.066Z"
   },
   {
    "duration": 10,
    "start_time": "2023-12-18T14:51:58.281Z"
   },
   {
    "duration": 15,
    "start_time": "2023-12-18T14:51:58.714Z"
   },
   {
    "duration": 3,
    "start_time": "2023-12-18T14:52:00.867Z"
   },
   {
    "duration": 19,
    "start_time": "2023-12-18T14:52:01.133Z"
   },
   {
    "duration": 7,
    "start_time": "2023-12-18T14:52:01.391Z"
   },
   {
    "duration": 8,
    "start_time": "2023-12-18T14:52:01.615Z"
   },
   {
    "duration": 7,
    "start_time": "2023-12-18T14:52:01.883Z"
   },
   {
    "duration": 4,
    "start_time": "2023-12-18T14:52:02.369Z"
   },
   {
    "duration": 6,
    "start_time": "2023-12-18T14:52:03.065Z"
   },
   {
    "duration": 9,
    "start_time": "2023-12-18T14:52:03.327Z"
   },
   {
    "duration": 4,
    "start_time": "2023-12-18T14:52:03.924Z"
   },
   {
    "duration": 5,
    "start_time": "2023-12-18T14:52:04.190Z"
   },
   {
    "duration": 5,
    "start_time": "2023-12-18T14:52:04.477Z"
   },
   {
    "duration": 5,
    "start_time": "2023-12-18T14:52:04.712Z"
   },
   {
    "duration": 15,
    "start_time": "2023-12-18T14:52:05.254Z"
   },
   {
    "duration": 5,
    "start_time": "2023-12-18T14:52:05.508Z"
   },
   {
    "duration": 5,
    "start_time": "2023-12-18T14:52:05.778Z"
   },
   {
    "duration": 7,
    "start_time": "2023-12-18T14:52:07.338Z"
   },
   {
    "duration": 9,
    "start_time": "2023-12-18T14:52:22.893Z"
   },
   {
    "duration": 10,
    "start_time": "2023-12-18T14:54:11.466Z"
   },
   {
    "duration": 4,
    "start_time": "2023-12-18T14:56:49.689Z"
   },
   {
    "duration": 7,
    "start_time": "2023-12-18T14:56:49.889Z"
   },
   {
    "duration": 4,
    "start_time": "2023-12-18T14:56:50.106Z"
   },
   {
    "duration": 5,
    "start_time": "2023-12-18T14:56:50.307Z"
   },
   {
    "duration": 22,
    "start_time": "2023-12-18T14:56:50.524Z"
   },
   {
    "duration": 7,
    "start_time": "2023-12-18T14:56:50.708Z"
   },
   {
    "duration": 7,
    "start_time": "2023-12-18T14:56:50.906Z"
   },
   {
    "duration": 9,
    "start_time": "2023-12-18T14:56:51.107Z"
   },
   {
    "duration": 8,
    "start_time": "2023-12-18T14:56:51.290Z"
   },
   {
    "duration": 8,
    "start_time": "2023-12-18T14:56:52.066Z"
   },
   {
    "duration": 321,
    "start_time": "2023-12-18T14:56:52.279Z"
   },
   {
    "duration": 9,
    "start_time": "2023-12-18T14:56:52.639Z"
   },
   {
    "duration": 748,
    "start_time": "2023-12-18T14:56:53.011Z"
   },
   {
    "duration": 8,
    "start_time": "2023-12-18T14:56:53.762Z"
   },
   {
    "duration": 23,
    "start_time": "2023-12-18T14:56:53.773Z"
   },
   {
    "duration": 7,
    "start_time": "2023-12-18T14:56:53.970Z"
   },
   {
    "duration": 736,
    "start_time": "2023-12-18T14:56:54.343Z"
   },
   {
    "duration": 6,
    "start_time": "2023-12-18T14:56:55.081Z"
   },
   {
    "duration": 21,
    "start_time": "2023-12-18T14:56:55.159Z"
   },
   {
    "duration": 165,
    "start_time": "2023-12-18T14:56:55.368Z"
   },
   {
    "duration": 5,
    "start_time": "2023-12-18T14:56:55.940Z"
   },
   {
    "duration": 14,
    "start_time": "2023-12-18T14:56:56.194Z"
   },
   {
    "duration": 4,
    "start_time": "2023-12-18T14:56:56.375Z"
   },
   {
    "duration": 4,
    "start_time": "2023-12-18T14:56:56.576Z"
   },
   {
    "duration": 163,
    "start_time": "2023-12-18T14:56:56.774Z"
   },
   {
    "duration": 161,
    "start_time": "2023-12-18T14:56:56.974Z"
   },
   {
    "duration": 5,
    "start_time": "2023-12-18T14:56:57.374Z"
   },
   {
    "duration": 6,
    "start_time": "2023-12-18T14:56:57.591Z"
   },
   {
    "duration": 6,
    "start_time": "2023-12-18T14:56:57.790Z"
   },
   {
    "duration": 14,
    "start_time": "2023-12-18T14:56:58.440Z"
   },
   {
    "duration": 16,
    "start_time": "2023-12-18T14:56:58.642Z"
   },
   {
    "duration": 329,
    "start_time": "2023-12-18T14:56:58.891Z"
   },
   {
    "duration": 3,
    "start_time": "2023-12-18T14:57:00.174Z"
   },
   {
    "duration": 8,
    "start_time": "2023-12-18T14:57:00.382Z"
   },
   {
    "duration": 12,
    "start_time": "2023-12-18T14:57:00.775Z"
   },
   {
    "duration": 433,
    "start_time": "2023-12-18T14:57:00.975Z"
   },
   {
    "duration": 433,
    "start_time": "2023-12-18T14:57:01.443Z"
   },
   {
    "duration": 581,
    "start_time": "2023-12-18T14:57:01.878Z"
   },
   {
    "duration": 14,
    "start_time": "2023-12-18T14:59:24.169Z"
   },
   {
    "duration": 399,
    "start_time": "2023-12-18T14:59:32.390Z"
   },
   {
    "duration": 5,
    "start_time": "2023-12-18T14:59:43.181Z"
   },
   {
    "duration": 8,
    "start_time": "2023-12-18T14:59:47.746Z"
   },
   {
    "duration": 318,
    "start_time": "2023-12-18T14:59:48.097Z"
   },
   {
    "duration": 11,
    "start_time": "2023-12-18T14:59:48.545Z"
   },
   {
    "duration": 800,
    "start_time": "2023-12-18T14:59:48.994Z"
   },
   {
    "duration": 7,
    "start_time": "2023-12-18T14:59:49.796Z"
   },
   {
    "duration": 20,
    "start_time": "2023-12-18T14:59:49.827Z"
   },
   {
    "duration": 7,
    "start_time": "2023-12-18T14:59:50.027Z"
   },
   {
    "duration": 628,
    "start_time": "2023-12-18T14:59:50.395Z"
   },
   {
    "duration": 6,
    "start_time": "2023-12-18T14:59:51.025Z"
   },
   {
    "duration": 30,
    "start_time": "2023-12-18T14:59:51.162Z"
   },
   {
    "duration": 264,
    "start_time": "2023-12-18T14:59:51.346Z"
   },
   {
    "duration": 5,
    "start_time": "2023-12-18T14:59:51.913Z"
   },
   {
    "duration": 15,
    "start_time": "2023-12-18T14:59:52.095Z"
   },
   {
    "duration": 5,
    "start_time": "2023-12-18T14:59:52.295Z"
   },
   {
    "duration": 4,
    "start_time": "2023-12-18T14:59:52.515Z"
   },
   {
    "duration": 166,
    "start_time": "2023-12-18T14:59:52.679Z"
   },
   {
    "duration": 165,
    "start_time": "2023-12-18T14:59:52.895Z"
   },
   {
    "duration": 5,
    "start_time": "2023-12-18T14:59:53.279Z"
   },
   {
    "duration": 7,
    "start_time": "2023-12-18T14:59:53.480Z"
   },
   {
    "duration": 6,
    "start_time": "2023-12-18T14:59:53.682Z"
   },
   {
    "duration": 17,
    "start_time": "2023-12-18T14:59:54.814Z"
   },
   {
    "duration": 32,
    "start_time": "2023-12-18T14:59:54.834Z"
   },
   {
    "duration": 306,
    "start_time": "2023-12-18T14:59:54.868Z"
   },
   {
    "duration": 3,
    "start_time": "2023-12-18T15:00:04.733Z"
   },
   {
    "duration": 7,
    "start_time": "2023-12-18T15:00:05.236Z"
   },
   {
    "duration": 12,
    "start_time": "2023-12-18T15:00:07.568Z"
   },
   {
    "duration": 402,
    "start_time": "2023-12-18T15:00:12.858Z"
   },
   {
    "duration": 13,
    "start_time": "2023-12-18T15:00:19.987Z"
   },
   {
    "duration": 433,
    "start_time": "2023-12-18T15:00:30.327Z"
   },
   {
    "duration": 3,
    "start_time": "2023-12-18T15:01:09.421Z"
   },
   {
    "duration": 7,
    "start_time": "2023-12-18T15:01:10.221Z"
   },
   {
    "duration": 16,
    "start_time": "2023-12-18T15:01:14.087Z"
   },
   {
    "duration": 510,
    "start_time": "2023-12-18T15:02:04.655Z"
   },
   {
    "duration": 402,
    "start_time": "2023-12-18T15:02:10.512Z"
   },
   {
    "duration": 430,
    "start_time": "2023-12-18T15:02:16.761Z"
   },
   {
    "duration": 427,
    "start_time": "2023-12-18T15:02:31.740Z"
   },
   {
    "duration": 433,
    "start_time": "2023-12-18T15:02:47.834Z"
   },
   {
    "duration": 13,
    "start_time": "2023-12-18T15:03:28.435Z"
   },
   {
    "duration": 9,
    "start_time": "2023-12-18T15:03:54.457Z"
   },
   {
    "duration": 3,
    "start_time": "2023-12-18T16:01:20.199Z"
   },
   {
    "duration": 49,
    "start_time": "2023-12-18T16:01:20.682Z"
   },
   {
    "duration": 18,
    "start_time": "2023-12-18T16:01:35.586Z"
   },
   {
    "duration": 14,
    "start_time": "2023-12-18T16:01:35.957Z"
   },
   {
    "duration": 9,
    "start_time": "2023-12-18T16:01:36.235Z"
   },
   {
    "duration": 14,
    "start_time": "2023-12-18T16:01:36.786Z"
   },
   {
    "duration": 3,
    "start_time": "2023-12-18T16:01:40.904Z"
   },
   {
    "duration": 12,
    "start_time": "2023-12-18T16:01:41.371Z"
   },
   {
    "duration": 7,
    "start_time": "2023-12-18T16:01:41.954Z"
   },
   {
    "duration": 8,
    "start_time": "2023-12-18T16:01:42.553Z"
   },
   {
    "duration": 6,
    "start_time": "2023-12-18T16:01:43.089Z"
   },
   {
    "duration": 4,
    "start_time": "2023-12-18T16:01:44.871Z"
   },
   {
    "duration": 5,
    "start_time": "2023-12-18T16:01:47.522Z"
   },
   {
    "duration": 10,
    "start_time": "2023-12-18T16:01:47.939Z"
   },
   {
    "duration": 4,
    "start_time": "2023-12-18T16:01:49.293Z"
   },
   {
    "duration": 5,
    "start_time": "2023-12-18T16:01:50.023Z"
   },
   {
    "duration": 5,
    "start_time": "2023-12-18T16:01:50.473Z"
   },
   {
    "duration": 5,
    "start_time": "2023-12-18T16:01:51.159Z"
   },
   {
    "duration": 14,
    "start_time": "2023-12-18T16:01:51.545Z"
   },
   {
    "duration": 6,
    "start_time": "2023-12-18T16:01:51.923Z"
   },
   {
    "duration": 6,
    "start_time": "2023-12-18T16:01:52.749Z"
   },
   {
    "duration": 8,
    "start_time": "2023-12-18T16:01:53.474Z"
   },
   {
    "duration": 7,
    "start_time": "2023-12-18T16:01:54.508Z"
   },
   {
    "duration": 4,
    "start_time": "2023-12-18T16:01:55.242Z"
   },
   {
    "duration": 7,
    "start_time": "2023-12-18T16:02:55.262Z"
   },
   {
    "duration": 448,
    "start_time": "2023-12-18T16:03:15.333Z"
   },
   {
    "duration": 9,
    "start_time": "2023-12-18T16:03:17.668Z"
   },
   {
    "duration": 725,
    "start_time": "2023-12-18T16:03:19.102Z"
   },
   {
    "duration": 6,
    "start_time": "2023-12-18T16:03:22.634Z"
   },
   {
    "duration": 21,
    "start_time": "2023-12-18T16:03:23.385Z"
   },
   {
    "duration": 7,
    "start_time": "2023-12-18T16:03:37.455Z"
   },
   {
    "duration": 638,
    "start_time": "2023-12-18T16:04:20.853Z"
   },
   {
    "duration": 6,
    "start_time": "2023-12-18T16:04:32.923Z"
   },
   {
    "duration": 21,
    "start_time": "2023-12-18T16:04:36.022Z"
   },
   {
    "duration": 154,
    "start_time": "2023-12-18T16:04:37.092Z"
   },
   {
    "duration": 5,
    "start_time": "2023-12-18T16:04:46.311Z"
   },
   {
    "duration": 13,
    "start_time": "2023-12-18T16:04:48.395Z"
   },
   {
    "duration": 5,
    "start_time": "2023-12-18T16:04:49.079Z"
   },
   {
    "duration": 4,
    "start_time": "2023-12-18T16:04:50.398Z"
   },
   {
    "duration": 154,
    "start_time": "2023-12-18T16:04:51.132Z"
   },
   {
    "duration": 155,
    "start_time": "2023-12-18T16:04:57.414Z"
   },
   {
    "duration": 5,
    "start_time": "2023-12-18T16:04:59.084Z"
   },
   {
    "duration": 6,
    "start_time": "2023-12-18T16:05:00.469Z"
   },
   {
    "duration": 5,
    "start_time": "2023-12-18T16:05:07.351Z"
   },
   {
    "duration": 13,
    "start_time": "2023-12-18T16:05:08.920Z"
   },
   {
    "duration": 14,
    "start_time": "2023-12-18T16:05:09.469Z"
   },
   {
    "duration": 437,
    "start_time": "2023-12-18T16:05:10.737Z"
   },
   {
    "duration": 3,
    "start_time": "2023-12-18T16:05:16.054Z"
   },
   {
    "duration": 6,
    "start_time": "2023-12-18T16:05:17.604Z"
   },
   {
    "duration": 3,
    "start_time": "2023-12-18T16:06:24.126Z"
   },
   {
    "duration": 7,
    "start_time": "2023-12-18T16:06:24.828Z"
   },
   {
    "duration": 428,
    "start_time": "2023-12-18T16:06:29.129Z"
   },
   {
    "duration": 392,
    "start_time": "2023-12-18T16:06:36.712Z"
   },
   {
    "duration": 424,
    "start_time": "2023-12-18T16:06:43.398Z"
   },
   {
    "duration": 20,
    "start_time": "2023-12-18T16:19:46.077Z"
   },
   {
    "duration": 4,
    "start_time": "2023-12-18T16:20:59.502Z"
   },
   {
    "duration": 2,
    "start_time": "2023-12-18T16:21:00.098Z"
   },
   {
    "duration": 8,
    "start_time": "2023-12-18T16:21:02.531Z"
   },
   {
    "duration": 5,
    "start_time": "2023-12-18T16:21:19.845Z"
   },
   {
    "duration": 7,
    "start_time": "2023-12-18T16:21:24.445Z"
   },
   {
    "duration": 6,
    "start_time": "2023-12-18T16:22:11.317Z"
   },
   {
    "duration": 21,
    "start_time": "2023-12-18T16:22:14.688Z"
   },
   {
    "duration": 5,
    "start_time": "2023-12-18T16:24:21.762Z"
   },
   {
    "duration": 5,
    "start_time": "2023-12-18T16:24:36.420Z"
   },
   {
    "duration": 3,
    "start_time": "2023-12-18T16:24:36.937Z"
   },
   {
    "duration": 5,
    "start_time": "2023-12-18T16:24:37.555Z"
   },
   {
    "duration": 6,
    "start_time": "2023-12-18T16:30:08.485Z"
   },
   {
    "duration": 6,
    "start_time": "2023-12-18T16:30:21.873Z"
   },
   {
    "duration": 11,
    "start_time": "2023-12-18T16:43:51.376Z"
   },
   {
    "duration": 5,
    "start_time": "2023-12-18T16:45:43.621Z"
   },
   {
    "duration": 5,
    "start_time": "2023-12-18T16:45:44.236Z"
   },
   {
    "duration": 7,
    "start_time": "2023-12-18T16:45:44.787Z"
   },
   {
    "duration": 4,
    "start_time": "2023-12-18T16:50:23.578Z"
   },
   {
    "duration": 6,
    "start_time": "2023-12-18T16:50:24.559Z"
   },
   {
    "duration": 1283,
    "start_time": "2023-12-19T11:00:20.747Z"
   },
   {
    "duration": 103,
    "start_time": "2023-12-19T11:00:22.031Z"
   },
   {
    "duration": 16,
    "start_time": "2023-12-19T11:00:23.012Z"
   },
   {
    "duration": 14,
    "start_time": "2023-12-19T11:00:23.662Z"
   },
   {
    "duration": 11,
    "start_time": "2023-12-19T11:00:24.513Z"
   },
   {
    "duration": 14,
    "start_time": "2023-12-19T11:00:25.848Z"
   },
   {
    "duration": 3,
    "start_time": "2023-12-19T11:01:27.083Z"
   },
   {
    "duration": 12,
    "start_time": "2023-12-19T11:03:32.838Z"
   },
   {
    "duration": 2,
    "start_time": "2023-12-19T11:03:39.509Z"
   },
   {
    "duration": 47,
    "start_time": "2023-12-19T11:03:39.873Z"
   },
   {
    "duration": 12,
    "start_time": "2023-12-19T11:03:40.481Z"
   },
   {
    "duration": 13,
    "start_time": "2023-12-19T11:03:41.791Z"
   },
   {
    "duration": 8,
    "start_time": "2023-12-19T11:03:42.173Z"
   },
   {
    "duration": 14,
    "start_time": "2023-12-19T11:03:45.740Z"
   },
   {
    "duration": 3,
    "start_time": "2023-12-19T11:03:52.526Z"
   },
   {
    "duration": 11,
    "start_time": "2023-12-19T11:03:55.615Z"
   },
   {
    "duration": 12,
    "start_time": "2023-12-19T11:04:01.549Z"
   },
   {
    "duration": 49,
    "start_time": "2023-12-19T11:04:06.016Z"
   },
   {
    "duration": 12,
    "start_time": "2023-12-19T11:04:07.616Z"
   },
   {
    "duration": 3,
    "start_time": "2023-12-19T11:04:19.404Z"
   },
   {
    "duration": 12,
    "start_time": "2023-12-19T11:04:25.953Z"
   },
   {
    "duration": 2,
    "start_time": "2023-12-19T11:10:21.265Z"
   },
   {
    "duration": 49,
    "start_time": "2023-12-19T11:10:21.816Z"
   },
   {
    "duration": 12,
    "start_time": "2023-12-19T11:10:24.119Z"
   },
   {
    "duration": 12,
    "start_time": "2023-12-19T11:10:28.116Z"
   },
   {
    "duration": 8,
    "start_time": "2023-12-19T11:10:30.035Z"
   },
   {
    "duration": 3,
    "start_time": "2023-12-19T11:10:47.470Z"
   },
   {
    "duration": 12,
    "start_time": "2023-12-19T11:10:48.605Z"
   },
   {
    "duration": 8,
    "start_time": "2023-12-19T11:10:50.155Z"
   },
   {
    "duration": 7,
    "start_time": "2023-12-19T11:10:52.707Z"
   },
   {
    "duration": 6,
    "start_time": "2023-12-19T11:10:54.140Z"
   },
   {
    "duration": 3,
    "start_time": "2023-12-19T11:11:06.795Z"
   },
   {
    "duration": 5,
    "start_time": "2023-12-19T11:11:19.617Z"
   },
   {
    "duration": 6,
    "start_time": "2023-12-19T11:11:21.233Z"
   },
   {
    "duration": 4,
    "start_time": "2023-12-19T11:11:34.969Z"
   },
   {
    "duration": 5,
    "start_time": "2023-12-19T11:11:35.753Z"
   },
   {
    "duration": 5,
    "start_time": "2023-12-19T11:11:45.340Z"
   },
   {
    "duration": 4,
    "start_time": "2023-12-19T11:11:49.208Z"
   },
   {
    "duration": 13,
    "start_time": "2023-12-19T11:11:50.541Z"
   },
   {
    "duration": 5,
    "start_time": "2023-12-19T11:11:54.725Z"
   },
   {
    "duration": 4,
    "start_time": "2023-12-19T11:12:03.813Z"
   },
   {
    "duration": 7,
    "start_time": "2023-12-19T11:12:05.062Z"
   },
   {
    "duration": 6,
    "start_time": "2023-12-19T11:12:07.414Z"
   },
   {
    "duration": 4,
    "start_time": "2023-12-19T11:12:18.716Z"
   },
   {
    "duration": 7,
    "start_time": "2023-12-19T11:12:29.369Z"
   },
   {
    "duration": 315,
    "start_time": "2023-12-19T11:12:36.171Z"
   },
   {
    "duration": 8,
    "start_time": "2023-12-19T11:12:57.713Z"
   },
   {
    "duration": 679,
    "start_time": "2023-12-19T11:13:08.247Z"
   },
   {
    "duration": 6,
    "start_time": "2023-12-19T11:13:29.088Z"
   },
   {
    "duration": 19,
    "start_time": "2023-12-19T11:13:32.589Z"
   },
   {
    "duration": 7,
    "start_time": "2023-12-19T11:13:50.023Z"
   },
   {
    "duration": 540,
    "start_time": "2023-12-19T11:13:52.114Z"
   },
   {
    "duration": 6,
    "start_time": "2023-12-19T11:15:15.957Z"
   },
   {
    "duration": 18,
    "start_time": "2023-12-19T11:15:16.459Z"
   },
   {
    "duration": 137,
    "start_time": "2023-12-19T11:15:18.355Z"
   },
   {
    "duration": 5,
    "start_time": "2023-12-19T11:15:30.115Z"
   },
   {
    "duration": 14,
    "start_time": "2023-12-19T11:15:30.693Z"
   },
   {
    "duration": 4,
    "start_time": "2023-12-19T11:15:32.697Z"
   },
   {
    "duration": 3,
    "start_time": "2023-12-19T11:15:36.945Z"
   },
   {
    "duration": 211,
    "start_time": "2023-12-19T11:15:38.394Z"
   },
   {
    "duration": 128,
    "start_time": "2023-12-19T11:15:42.863Z"
   },
   {
    "duration": 5,
    "start_time": "2023-12-19T11:15:46.281Z"
   },
   {
    "duration": 5,
    "start_time": "2023-12-19T11:15:51.467Z"
   },
   {
    "duration": 5,
    "start_time": "2023-12-19T11:15:53.867Z"
   },
   {
    "duration": 13,
    "start_time": "2023-12-19T11:16:13.321Z"
   },
   {
    "duration": 12,
    "start_time": "2023-12-19T11:16:16.941Z"
   },
   {
    "duration": 278,
    "start_time": "2023-12-19T11:16:24.543Z"
   },
   {
    "duration": 3,
    "start_time": "2023-12-19T11:16:40.580Z"
   },
   {
    "duration": 6,
    "start_time": "2023-12-19T11:16:41.498Z"
   },
   {
    "duration": 359,
    "start_time": "2023-12-19T11:17:01.539Z"
   },
   {
    "duration": 354,
    "start_time": "2023-12-19T11:17:30.380Z"
   },
   {
    "duration": 86,
    "start_time": "2023-12-19T11:27:14.863Z"
   },
   {
    "duration": 4,
    "start_time": "2023-12-19T11:27:22.463Z"
   },
   {
    "duration": 3,
    "start_time": "2023-12-19T11:27:24.600Z"
   },
   {
    "duration": 5,
    "start_time": "2023-12-19T11:27:25.582Z"
   },
   {
    "duration": 5,
    "start_time": "2023-12-19T11:27:27.481Z"
   },
   {
    "duration": 5,
    "start_time": "2023-12-19T11:27:27.916Z"
   },
   {
    "duration": 5,
    "start_time": "2023-12-19T11:27:28.318Z"
   },
   {
    "duration": 71,
    "start_time": "2023-12-19T11:27:29.303Z"
   },
   {
    "duration": 22,
    "start_time": "2023-12-19T11:27:43.173Z"
   },
   {
    "duration": 3,
    "start_time": "2023-12-19T12:12:07.302Z"
   },
   {
    "duration": 48,
    "start_time": "2023-12-19T12:12:10.137Z"
   },
   {
    "duration": 57,
    "start_time": "2023-12-19T12:12:17.089Z"
   },
   {
    "duration": 13,
    "start_time": "2023-12-19T12:12:39.483Z"
   },
   {
    "duration": 13,
    "start_time": "2023-12-19T12:12:42.479Z"
   },
   {
    "duration": 10,
    "start_time": "2023-12-19T12:12:47.914Z"
   },
   {
    "duration": 3,
    "start_time": "2023-12-19T12:13:10.039Z"
   },
   {
    "duration": 11,
    "start_time": "2023-12-19T12:13:12.905Z"
   },
   {
    "duration": 6,
    "start_time": "2023-12-19T12:13:15.773Z"
   },
   {
    "duration": 6,
    "start_time": "2023-12-19T12:13:16.956Z"
   },
   {
    "duration": 6,
    "start_time": "2023-12-19T12:13:19.390Z"
   },
   {
    "duration": 3,
    "start_time": "2023-12-19T12:13:35.580Z"
   },
   {
    "duration": 5,
    "start_time": "2023-12-19T12:13:45.849Z"
   },
   {
    "duration": 5,
    "start_time": "2023-12-19T12:13:48.701Z"
   },
   {
    "duration": 4,
    "start_time": "2023-12-19T12:13:52.634Z"
   },
   {
    "duration": 4,
    "start_time": "2023-12-19T12:13:53.435Z"
   },
   {
    "duration": 4,
    "start_time": "2023-12-19T12:13:55.903Z"
   },
   {
    "duration": 4,
    "start_time": "2023-12-19T12:13:58.807Z"
   },
   {
    "duration": 14,
    "start_time": "2023-12-19T12:14:07.339Z"
   },
   {
    "duration": 5,
    "start_time": "2023-12-19T12:14:12.040Z"
   },
   {
    "duration": 5,
    "start_time": "2023-12-19T12:14:14.558Z"
   },
   {
    "duration": 10,
    "start_time": "2023-12-19T12:14:16.148Z"
   },
   {
    "duration": 6,
    "start_time": "2023-12-19T12:14:39.548Z"
   },
   {
    "duration": 4,
    "start_time": "2023-12-19T12:14:40.834Z"
   },
   {
    "duration": 6,
    "start_time": "2023-12-19T12:15:10.876Z"
   },
   {
    "duration": 274,
    "start_time": "2023-12-19T12:15:31.549Z"
   },
   {
    "duration": 7,
    "start_time": "2023-12-19T12:15:47.804Z"
   },
   {
    "duration": 6,
    "start_time": "2023-12-19T12:18:55.264Z"
   },
   {
    "duration": 20,
    "start_time": "2023-12-19T12:19:02.380Z"
   },
   {
    "duration": 7,
    "start_time": "2023-12-19T12:19:24.054Z"
   },
   {
    "duration": 631,
    "start_time": "2023-12-19T12:19:32.139Z"
   },
   {
    "duration": 5,
    "start_time": "2023-12-19T12:21:20.724Z"
   },
   {
    "duration": 19,
    "start_time": "2023-12-19T12:21:30.160Z"
   },
   {
    "duration": 158,
    "start_time": "2023-12-19T12:21:49.101Z"
   },
   {
    "duration": 138,
    "start_time": "2023-12-19T12:23:12.061Z"
   },
   {
    "duration": 142,
    "start_time": "2023-12-19T12:23:47.453Z"
   },
   {
    "duration": 5,
    "start_time": "2023-12-19T12:23:59.672Z"
   },
   {
    "duration": 13,
    "start_time": "2023-12-19T12:24:00.725Z"
   },
   {
    "duration": 3,
    "start_time": "2023-12-19T12:24:04.824Z"
   },
   {
    "duration": 4,
    "start_time": "2023-12-19T12:24:06.542Z"
   },
   {
    "duration": 136,
    "start_time": "2023-12-19T12:24:08.276Z"
   },
   {
    "duration": 124,
    "start_time": "2023-12-19T12:25:36.422Z"
   },
   {
    "duration": 133,
    "start_time": "2023-12-19T12:26:22.401Z"
   },
   {
    "duration": 4,
    "start_time": "2023-12-19T12:26:28.390Z"
   },
   {
    "duration": 6,
    "start_time": "2023-12-19T12:26:30.654Z"
   },
   {
    "duration": 4,
    "start_time": "2023-12-19T12:26:54.878Z"
   },
   {
    "duration": 12,
    "start_time": "2023-12-19T12:27:17.890Z"
   },
   {
    "duration": 12,
    "start_time": "2023-12-19T12:27:20.470Z"
   },
   {
    "duration": 288,
    "start_time": "2023-12-19T12:27:38.525Z"
   },
   {
    "duration": 375,
    "start_time": "2023-12-19T12:28:08.984Z"
   },
   {
    "duration": 3,
    "start_time": "2023-12-19T12:28:27.972Z"
   },
   {
    "duration": 6,
    "start_time": "2023-12-19T12:28:29.706Z"
   },
   {
    "duration": 394,
    "start_time": "2023-12-19T12:28:37.009Z"
   },
   {
    "duration": 351,
    "start_time": "2023-12-19T12:28:38.429Z"
   },
   {
    "duration": 374,
    "start_time": "2023-12-19T12:29:02.586Z"
   },
   {
    "duration": 4,
    "start_time": "2023-12-19T12:29:20.990Z"
   },
   {
    "duration": 2,
    "start_time": "2023-12-19T12:29:32.943Z"
   },
   {
    "duration": 5,
    "start_time": "2023-12-19T12:29:36.798Z"
   },
   {
    "duration": 4,
    "start_time": "2023-12-19T12:29:50.882Z"
   },
   {
    "duration": 4,
    "start_time": "2023-12-19T12:29:51.416Z"
   },
   {
    "duration": 7,
    "start_time": "2023-12-19T12:29:51.882Z"
   },
   {
    "duration": 6,
    "start_time": "2023-12-19T12:29:55.751Z"
   },
   {
    "duration": 51,
    "start_time": "2023-12-20T08:22:20.779Z"
   },
   {
    "duration": 1177,
    "start_time": "2023-12-20T10:51:17.597Z"
   },
   {
    "duration": 90,
    "start_time": "2023-12-20T10:51:18.775Z"
   },
   {
    "duration": 14,
    "start_time": "2023-12-20T10:51:18.929Z"
   },
   {
    "duration": 12,
    "start_time": "2023-12-20T10:51:19.714Z"
   },
   {
    "duration": 11,
    "start_time": "2023-12-20T10:51:20.597Z"
   },
   {
    "duration": 3,
    "start_time": "2023-12-20T10:51:23.614Z"
   },
   {
    "duration": 10,
    "start_time": "2023-12-20T10:51:24.198Z"
   },
   {
    "duration": 7,
    "start_time": "2023-12-20T10:51:24.748Z"
   },
   {
    "duration": 7,
    "start_time": "2023-12-20T10:51:25.331Z"
   },
   {
    "duration": 6,
    "start_time": "2023-12-20T10:51:25.816Z"
   },
   {
    "duration": 3,
    "start_time": "2023-12-20T10:51:45.724Z"
   },
   {
    "duration": 10,
    "start_time": "2023-12-20T10:51:59.310Z"
   },
   {
    "duration": 4,
    "start_time": "2023-12-20T10:52:17.865Z"
   },
   {
    "duration": 5,
    "start_time": "2023-12-20T10:52:18.082Z"
   },
   {
    "duration": 4,
    "start_time": "2023-12-20T10:52:18.498Z"
   },
   {
    "duration": 4,
    "start_time": "2023-12-20T10:52:18.969Z"
   },
   {
    "duration": 4,
    "start_time": "2023-12-20T10:52:19.182Z"
   },
   {
    "duration": 4,
    "start_time": "2023-12-20T10:52:19.415Z"
   },
   {
    "duration": 12,
    "start_time": "2023-12-20T10:52:19.899Z"
   },
   {
    "duration": 4,
    "start_time": "2023-12-20T10:52:20.096Z"
   },
   {
    "duration": 5,
    "start_time": "2023-12-20T10:52:20.316Z"
   },
   {
    "duration": 9,
    "start_time": "2023-12-20T10:52:20.549Z"
   },
   {
    "duration": 6,
    "start_time": "2023-12-20T10:52:20.783Z"
   },
   {
    "duration": 3,
    "start_time": "2023-12-20T10:52:21.033Z"
   },
   {
    "duration": 6,
    "start_time": "2023-12-20T10:52:24.250Z"
   },
   {
    "duration": 262,
    "start_time": "2023-12-20T10:52:24.709Z"
   },
   {
    "duration": 7,
    "start_time": "2023-12-20T10:52:25.988Z"
   },
   {
    "duration": 634,
    "start_time": "2023-12-20T10:52:26.734Z"
   },
   {
    "duration": 7,
    "start_time": "2023-12-20T10:52:28.201Z"
   },
   {
    "duration": 17,
    "start_time": "2023-12-20T10:52:29.518Z"
   },
   {
    "duration": 6,
    "start_time": "2023-12-20T10:52:30.418Z"
   },
   {
    "duration": 510,
    "start_time": "2023-12-20T10:52:31.494Z"
   },
   {
    "duration": 5,
    "start_time": "2023-12-20T10:52:32.025Z"
   },
   {
    "duration": 18,
    "start_time": "2023-12-20T10:52:32.488Z"
   },
   {
    "duration": 143,
    "start_time": "2023-12-20T10:52:32.693Z"
   },
   {
    "duration": 5,
    "start_time": "2023-12-20T10:52:33.811Z"
   },
   {
    "duration": 11,
    "start_time": "2023-12-20T10:52:34.054Z"
   },
   {
    "duration": 4,
    "start_time": "2023-12-20T10:52:34.286Z"
   },
   {
    "duration": 4,
    "start_time": "2023-12-20T10:52:34.519Z"
   },
   {
    "duration": 175,
    "start_time": "2023-12-20T10:52:35.003Z"
   },
   {
    "duration": 117,
    "start_time": "2023-12-20T10:52:35.219Z"
   },
   {
    "duration": 3,
    "start_time": "2023-12-20T10:52:35.671Z"
   },
   {
    "duration": 4,
    "start_time": "2023-12-20T10:52:35.904Z"
   },
   {
    "duration": 4,
    "start_time": "2023-12-20T10:52:36.121Z"
   },
   {
    "duration": 11,
    "start_time": "2023-12-20T10:52:37.022Z"
   },
   {
    "duration": 12,
    "start_time": "2023-12-20T10:52:37.256Z"
   },
   {
    "duration": 274,
    "start_time": "2023-12-20T10:52:37.471Z"
   },
   {
    "duration": 2,
    "start_time": "2023-12-20T10:52:38.671Z"
   },
   {
    "duration": 5,
    "start_time": "2023-12-20T10:52:38.888Z"
   },
   {
    "duration": 326,
    "start_time": "2023-12-20T10:52:39.323Z"
   },
   {
    "duration": 329,
    "start_time": "2023-12-20T10:52:40.022Z"
   },
   {
    "duration": 326,
    "start_time": "2023-12-20T10:52:40.755Z"
   },
   {
    "duration": 4,
    "start_time": "2023-12-20T10:52:42.423Z"
   },
   {
    "duration": 2,
    "start_time": "2023-12-20T10:52:42.691Z"
   },
   {
    "duration": 6,
    "start_time": "2023-12-20T10:52:42.941Z"
   },
   {
    "duration": 5,
    "start_time": "2023-12-20T10:52:44.275Z"
   },
   {
    "duration": 4,
    "start_time": "2023-12-20T10:52:44.527Z"
   },
   {
    "duration": 5,
    "start_time": "2023-12-20T10:52:44.756Z"
   },
   {
    "duration": 1306,
    "start_time": "2023-12-20T10:55:48.315Z"
   },
   {
    "duration": 4,
    "start_time": "2023-12-20T10:56:16.591Z"
   },
   {
    "duration": 4,
    "start_time": "2023-12-20T10:56:21.047Z"
   },
   {
    "duration": 12,
    "start_time": "2023-12-20T10:56:22.875Z"
   },
   {
    "duration": 5,
    "start_time": "2023-12-20T11:06:59.525Z"
   },
   {
    "duration": 309,
    "start_time": "2023-12-20T11:07:00.526Z"
   },
   {
    "duration": 6,
    "start_time": "2023-12-20T11:07:08.157Z"
   },
   {
    "duration": 642,
    "start_time": "2023-12-20T11:07:12.950Z"
   },
   {
    "duration": 5,
    "start_time": "2023-12-20T11:07:19.747Z"
   },
   {
    "duration": 16,
    "start_time": "2023-12-20T11:07:25.284Z"
   },
   {
    "duration": 5,
    "start_time": "2023-12-20T11:07:29.034Z"
   },
   {
    "duration": 500,
    "start_time": "2023-12-20T11:07:43.004Z"
   },
   {
    "duration": 6,
    "start_time": "2023-12-20T11:07:49.530Z"
   },
   {
    "duration": 17,
    "start_time": "2023-12-20T11:07:51.575Z"
   },
   {
    "duration": 138,
    "start_time": "2023-12-20T11:07:56.394Z"
   },
   {
    "duration": 95,
    "start_time": "2023-12-20T11:11:25.040Z"
   },
   {
    "duration": 68,
    "start_time": "2023-12-20T11:11:44.013Z"
   },
   {
    "duration": 92,
    "start_time": "2023-12-20T11:11:59.267Z"
   },
   {
    "duration": 75,
    "start_time": "2023-12-20T11:12:07.220Z"
   },
   {
    "duration": 87,
    "start_time": "2023-12-20T11:12:15.776Z"
   },
   {
    "duration": 6,
    "start_time": "2023-12-20T11:12:34.262Z"
   },
   {
    "duration": 17,
    "start_time": "2023-12-20T11:12:42.747Z"
   },
   {
    "duration": 163,
    "start_time": "2023-12-20T11:12:48.200Z"
   },
   {
    "duration": 2,
    "start_time": "2023-12-20T11:14:43.402Z"
   },
   {
    "duration": 6,
    "start_time": "2023-12-20T11:14:45.003Z"
   },
   {
    "duration": 17,
    "start_time": "2023-12-20T11:14:46.135Z"
   },
   {
    "duration": 163,
    "start_time": "2023-12-20T11:14:47.387Z"
   },
   {
    "duration": 5,
    "start_time": "2023-12-20T11:15:29.115Z"
   },
   {
    "duration": 11,
    "start_time": "2023-12-20T11:15:32.902Z"
   },
   {
    "duration": 4,
    "start_time": "2023-12-20T11:15:35.101Z"
   },
   {
    "duration": 3,
    "start_time": "2023-12-20T11:15:40.788Z"
   },
   {
    "duration": 121,
    "start_time": "2023-12-20T11:17:02.213Z"
   },
   {
    "duration": 177,
    "start_time": "2023-12-20T11:17:09.664Z"
   },
   {
    "duration": 4,
    "start_time": "2023-12-20T11:17:14.165Z"
   },
   {
    "duration": 5,
    "start_time": "2023-12-20T11:17:15.938Z"
   },
   {
    "duration": 4,
    "start_time": "2023-12-20T11:17:16.867Z"
   },
   {
    "duration": 14,
    "start_time": "2023-12-20T11:17:27.237Z"
   },
   {
    "duration": 11,
    "start_time": "2023-12-20T11:18:44.296Z"
   },
   {
    "duration": 283,
    "start_time": "2023-12-20T11:18:50.313Z"
   },
   {
    "duration": 2,
    "start_time": "2023-12-20T11:19:13.986Z"
   },
   {
    "duration": 5,
    "start_time": "2023-12-20T11:19:15.955Z"
   },
   {
    "duration": 312,
    "start_time": "2023-12-20T11:19:20.652Z"
   },
   {
    "duration": 319,
    "start_time": "2023-12-20T11:19:27.930Z"
   },
   {
    "duration": 330,
    "start_time": "2023-12-20T11:19:32.010Z"
   },
   {
    "duration": 4,
    "start_time": "2023-12-20T11:19:41.044Z"
   },
   {
    "duration": 2,
    "start_time": "2023-12-20T11:19:54.236Z"
   },
   {
    "duration": 5,
    "start_time": "2023-12-20T11:19:55.401Z"
   },
   {
    "duration": 4,
    "start_time": "2023-12-20T11:20:20.258Z"
   },
   {
    "duration": 4,
    "start_time": "2023-12-20T11:20:21.075Z"
   },
   {
    "duration": 5,
    "start_time": "2023-12-20T11:20:21.893Z"
   },
   {
    "duration": 1361,
    "start_time": "2024-05-15T05:37:53.640Z"
   },
   {
    "duration": 110,
    "start_time": "2024-05-15T05:37:55.924Z"
   },
   {
    "duration": 17,
    "start_time": "2024-05-15T05:37:59.248Z"
   },
   {
    "duration": 14,
    "start_time": "2024-05-15T05:38:03.743Z"
   },
   {
    "duration": 3,
    "start_time": "2024-05-15T05:39:34.028Z"
   },
   {
    "duration": 54,
    "start_time": "2024-05-15T05:39:34.238Z"
   },
   {
    "duration": 13,
    "start_time": "2024-05-15T05:39:34.555Z"
   },
   {
    "duration": 14,
    "start_time": "2024-05-15T05:39:35.071Z"
   },
   {
    "duration": 10,
    "start_time": "2024-05-15T05:39:35.521Z"
   },
   {
    "duration": 11,
    "start_time": "2024-05-15T05:41:51.164Z"
   },
   {
    "duration": 42,
    "start_time": "2024-05-15T05:42:26.940Z"
   },
   {
    "duration": 47,
    "start_time": "2024-05-15T05:42:41.363Z"
   },
   {
    "duration": 102,
    "start_time": "2024-05-15T05:44:31.098Z"
   },
   {
    "duration": 3,
    "start_time": "2024-05-15T05:44:40.301Z"
   },
   {
    "duration": 55,
    "start_time": "2024-05-15T05:44:40.717Z"
   },
   {
    "duration": 15,
    "start_time": "2024-05-15T05:44:41.191Z"
   },
   {
    "duration": 15,
    "start_time": "2024-05-15T05:44:41.867Z"
   },
   {
    "duration": 10,
    "start_time": "2024-05-15T05:44:42.383Z"
   },
   {
    "duration": 4,
    "start_time": "2024-05-15T05:44:44.584Z"
   },
   {
    "duration": 13,
    "start_time": "2024-05-15T05:44:45.068Z"
   },
   {
    "duration": 20,
    "start_time": "2024-05-15T05:44:45.686Z"
   },
   {
    "duration": 7,
    "start_time": "2024-05-15T05:44:46.952Z"
   },
   {
    "duration": 6,
    "start_time": "2024-05-15T05:44:47.551Z"
   },
   {
    "duration": 5,
    "start_time": "2024-05-15T05:44:49.936Z"
   },
   {
    "duration": 6,
    "start_time": "2024-05-15T05:44:55.537Z"
   },
   {
    "duration": 8,
    "start_time": "2024-05-15T05:44:55.820Z"
   },
   {
    "duration": 5,
    "start_time": "2024-05-15T05:44:56.838Z"
   },
   {
    "duration": 6,
    "start_time": "2024-05-15T05:45:13.826Z"
   },
   {
    "duration": 5,
    "start_time": "2024-05-15T05:45:15.511Z"
   },
   {
    "duration": 3,
    "start_time": "2024-05-15T05:45:16.026Z"
   },
   {
    "duration": 6,
    "start_time": "2024-05-15T05:45:16.677Z"
   },
   {
    "duration": 15,
    "start_time": "2024-05-15T05:46:05.576Z"
   },
   {
    "duration": 5,
    "start_time": "2024-05-15T05:46:08.727Z"
   },
   {
    "duration": 7,
    "start_time": "2024-05-15T05:46:12.545Z"
   },
   {
    "duration": 8,
    "start_time": "2024-05-15T05:46:13.210Z"
   },
   {
    "duration": 9,
    "start_time": "2024-05-15T05:46:13.980Z"
   },
   {
    "duration": 6,
    "start_time": "2024-05-15T05:46:28.167Z"
   },
   {
    "duration": 7,
    "start_time": "2024-05-15T05:48:39.274Z"
   },
   {
    "duration": 353,
    "start_time": "2024-05-15T05:48:58.314Z"
   },
   {
    "duration": 11,
    "start_time": "2024-05-15T05:49:21.154Z"
   },
   {
    "duration": 852,
    "start_time": "2024-05-15T05:49:44.446Z"
   },
   {
    "duration": 7,
    "start_time": "2024-05-15T05:49:52.395Z"
   },
   {
    "duration": 16,
    "start_time": "2024-05-15T05:50:32.659Z"
   },
   {
    "duration": 9,
    "start_time": "2024-05-15T05:50:40.694Z"
   },
   {
    "duration": 669,
    "start_time": "2024-05-15T05:50:50.463Z"
   },
   {
    "duration": 9,
    "start_time": "2024-05-15T05:51:10.087Z"
   },
   {
    "duration": 17,
    "start_time": "2024-05-15T05:51:27.844Z"
   },
   {
    "duration": 272,
    "start_time": "2024-05-15T05:51:47.066Z"
   },
   {
    "duration": 303,
    "start_time": "2024-05-15T05:51:58.034Z"
   },
   {
    "duration": 207,
    "start_time": "2024-05-15T05:57:53.063Z"
   },
   {
    "duration": 227,
    "start_time": "2024-05-15T05:58:34.359Z"
   },
   {
    "duration": 199,
    "start_time": "2024-05-15T05:58:42.294Z"
   },
   {
    "duration": 17,
    "start_time": "2024-05-15T06:00:30.395Z"
   },
   {
    "duration": 19,
    "start_time": "2024-05-15T06:00:57.637Z"
   },
   {
    "duration": 228,
    "start_time": "2024-05-15T06:01:19.212Z"
   },
   {
    "duration": 355,
    "start_time": "2024-05-15T06:01:31.299Z"
   },
   {
    "duration": 6,
    "start_time": "2024-05-15T06:02:44.170Z"
   },
   {
    "duration": 15,
    "start_time": "2024-05-15T06:02:44.829Z"
   },
   {
    "duration": 5,
    "start_time": "2024-05-15T06:02:53.376Z"
   },
   {
    "duration": 4,
    "start_time": "2024-05-15T06:02:55.140Z"
   },
   {
    "duration": 150,
    "start_time": "2024-05-15T06:03:07.677Z"
   },
   {
    "duration": 224,
    "start_time": "2024-05-15T06:03:08.760Z"
   },
   {
    "duration": 15,
    "start_time": "2024-05-15T06:04:53.861Z"
   },
   {
    "duration": 15,
    "start_time": "2024-05-15T06:04:54.511Z"
   },
   {
    "duration": 437,
    "start_time": "2024-05-15T06:04:56.495Z"
   },
   {
    "duration": 1162,
    "start_time": "2024-05-15T06:05:56.009Z"
   },
   {
    "duration": 57,
    "start_time": "2024-05-15T06:05:57.173Z"
   },
   {
    "duration": 19,
    "start_time": "2024-05-15T06:05:57.235Z"
   },
   {
    "duration": 22,
    "start_time": "2024-05-15T06:05:57.255Z"
   },
   {
    "duration": 12,
    "start_time": "2024-05-15T06:05:57.279Z"
   },
   {
    "duration": 5,
    "start_time": "2024-05-15T06:05:57.293Z"
   },
   {
    "duration": 15,
    "start_time": "2024-05-15T06:05:57.299Z"
   },
   {
    "duration": 18,
    "start_time": "2024-05-15T06:05:57.316Z"
   },
   {
    "duration": 8,
    "start_time": "2024-05-15T06:05:57.337Z"
   },
   {
    "duration": 17,
    "start_time": "2024-05-15T06:05:57.347Z"
   },
   {
    "duration": 4,
    "start_time": "2024-05-15T06:05:57.366Z"
   },
   {
    "duration": 25,
    "start_time": "2024-05-15T06:05:57.371Z"
   },
   {
    "duration": 17,
    "start_time": "2024-05-15T06:05:57.398Z"
   },
   {
    "duration": 12,
    "start_time": "2024-05-15T06:05:57.417Z"
   },
   {
    "duration": 22,
    "start_time": "2024-05-15T06:05:57.431Z"
   },
   {
    "duration": 12,
    "start_time": "2024-05-15T06:05:57.455Z"
   },
   {
    "duration": 4,
    "start_time": "2024-05-15T06:05:57.469Z"
   },
   {
    "duration": 21,
    "start_time": "2024-05-15T06:05:57.475Z"
   },
   {
    "duration": 29,
    "start_time": "2024-05-15T06:05:57.498Z"
   },
   {
    "duration": 15,
    "start_time": "2024-05-15T06:05:57.528Z"
   },
   {
    "duration": 12,
    "start_time": "2024-05-15T06:05:57.545Z"
   },
   {
    "duration": 11,
    "start_time": "2024-05-15T06:05:57.559Z"
   },
   {
    "duration": 7,
    "start_time": "2024-05-15T06:05:57.572Z"
   },
   {
    "duration": 8,
    "start_time": "2024-05-15T06:05:57.581Z"
   },
   {
    "duration": 20,
    "start_time": "2024-05-15T06:05:57.590Z"
   },
   {
    "duration": 398,
    "start_time": "2024-05-15T06:05:57.612Z"
   },
   {
    "duration": 10,
    "start_time": "2024-05-15T06:05:58.014Z"
   },
   {
    "duration": 835,
    "start_time": "2024-05-15T06:05:58.025Z"
   },
   {
    "duration": 8,
    "start_time": "2024-05-15T06:05:58.862Z"
   },
   {
    "duration": 27,
    "start_time": "2024-05-15T06:05:58.872Z"
   },
   {
    "duration": 23,
    "start_time": "2024-05-15T06:05:58.901Z"
   },
   {
    "duration": 660,
    "start_time": "2024-05-15T06:05:58.926Z"
   },
   {
    "duration": 8,
    "start_time": "2024-05-15T06:05:59.587Z"
   },
   {
    "duration": 44,
    "start_time": "2024-05-15T06:05:59.597Z"
   },
   {
    "duration": 248,
    "start_time": "2024-05-15T06:05:59.643Z"
   },
   {
    "duration": 6,
    "start_time": "2024-05-15T06:05:59.893Z"
   },
   {
    "duration": 57,
    "start_time": "2024-05-15T06:05:59.901Z"
   },
   {
    "duration": 20,
    "start_time": "2024-05-15T06:05:59.960Z"
   },
   {
    "duration": 19,
    "start_time": "2024-05-15T06:05:59.981Z"
   },
   {
    "duration": 330,
    "start_time": "2024-05-15T06:06:00.001Z"
   },
   {
    "duration": 164,
    "start_time": "2024-05-15T06:06:00.332Z"
   },
   {
    "duration": 5,
    "start_time": "2024-05-15T06:06:00.497Z"
   },
   {
    "duration": 56,
    "start_time": "2024-05-15T06:06:00.504Z"
   },
   {
    "duration": 72,
    "start_time": "2024-05-15T06:06:00.562Z"
   },
   {
    "duration": 76,
    "start_time": "2024-05-15T06:06:00.635Z"
   },
   {
    "duration": 100,
    "start_time": "2024-05-15T06:06:00.713Z"
   },
   {
    "duration": 370,
    "start_time": "2024-05-15T06:06:00.815Z"
   },
   {
    "duration": 3,
    "start_time": "2024-05-15T06:06:01.187Z"
   },
   {
    "duration": 59,
    "start_time": "2024-05-15T06:06:01.191Z"
   },
   {
    "duration": 497,
    "start_time": "2024-05-15T06:06:01.251Z"
   },
   {
    "duration": 451,
    "start_time": "2024-05-15T06:06:01.750Z"
   },
   {
    "duration": 446,
    "start_time": "2024-05-15T06:06:02.203Z"
   },
   {
    "duration": 13,
    "start_time": "2024-05-15T06:06:02.651Z"
   },
   {
    "duration": 26,
    "start_time": "2024-05-15T06:06:02.666Z"
   },
   {
    "duration": 43,
    "start_time": "2024-05-15T06:06:02.694Z"
   },
   {
    "duration": 9,
    "start_time": "2024-05-15T06:06:02.739Z"
   },
   {
    "duration": 32,
    "start_time": "2024-05-15T06:06:02.750Z"
   },
   {
    "duration": 15,
    "start_time": "2024-05-15T06:06:02.784Z"
   },
   {
    "duration": 1323,
    "start_time": "2024-05-15T09:33:46.293Z"
   },
   {
    "duration": 107,
    "start_time": "2024-05-15T09:33:47.617Z"
   },
   {
    "duration": 17,
    "start_time": "2024-05-15T09:33:47.726Z"
   },
   {
    "duration": 15,
    "start_time": "2024-05-15T09:33:47.745Z"
   },
   {
    "duration": 8,
    "start_time": "2024-05-15T09:33:47.762Z"
   },
   {
    "duration": 3,
    "start_time": "2024-05-15T09:33:47.772Z"
   },
   {
    "duration": 13,
    "start_time": "2024-05-15T09:33:47.777Z"
   },
   {
    "duration": 30,
    "start_time": "2024-05-15T09:33:47.791Z"
   },
   {
    "duration": 8,
    "start_time": "2024-05-15T09:33:47.822Z"
   },
   {
    "duration": 7,
    "start_time": "2024-05-15T09:33:47.833Z"
   },
   {
    "duration": 4,
    "start_time": "2024-05-15T09:33:47.842Z"
   },
   {
    "duration": 7,
    "start_time": "2024-05-15T09:33:47.848Z"
   },
   {
    "duration": 9,
    "start_time": "2024-05-15T09:33:47.856Z"
   },
   {
    "duration": 6,
    "start_time": "2024-05-15T09:33:47.867Z"
   },
   {
    "duration": 6,
    "start_time": "2024-05-15T09:33:47.874Z"
   },
   {
    "duration": 37,
    "start_time": "2024-05-15T09:33:47.881Z"
   },
   {
    "duration": 2,
    "start_time": "2024-05-15T09:33:47.920Z"
   },
   {
    "duration": 7,
    "start_time": "2024-05-15T09:33:47.924Z"
   },
   {
    "duration": 14,
    "start_time": "2024-05-15T09:33:47.933Z"
   },
   {
    "duration": 6,
    "start_time": "2024-05-15T09:33:47.948Z"
   },
   {
    "duration": 5,
    "start_time": "2024-05-15T09:33:47.955Z"
   },
   {
    "duration": 17,
    "start_time": "2024-05-15T09:33:47.962Z"
   },
   {
    "duration": 7,
    "start_time": "2024-05-15T09:33:47.981Z"
   },
   {
    "duration": 30,
    "start_time": "2024-05-15T09:33:47.989Z"
   },
   {
    "duration": 7,
    "start_time": "2024-05-15T09:33:48.021Z"
   },
   {
    "duration": 351,
    "start_time": "2024-05-15T09:33:48.029Z"
   },
   {
    "duration": 8,
    "start_time": "2024-05-15T09:33:48.382Z"
   },
   {
    "duration": 809,
    "start_time": "2024-05-15T09:33:48.394Z"
   },
   {
    "duration": 7,
    "start_time": "2024-05-15T09:33:49.204Z"
   },
   {
    "duration": 15,
    "start_time": "2024-05-15T09:33:49.212Z"
   },
   {
    "duration": 9,
    "start_time": "2024-05-15T09:33:49.229Z"
   },
   {
    "duration": 632,
    "start_time": "2024-05-15T09:33:49.239Z"
   },
   {
    "duration": 8,
    "start_time": "2024-05-15T09:33:49.873Z"
   },
   {
    "duration": 16,
    "start_time": "2024-05-15T09:33:49.883Z"
   },
   {
    "duration": 224,
    "start_time": "2024-05-15T09:33:49.901Z"
   },
   {
    "duration": 8,
    "start_time": "2024-05-15T09:33:50.127Z"
   },
   {
    "duration": 15,
    "start_time": "2024-05-15T09:33:50.141Z"
   },
   {
    "duration": 8,
    "start_time": "2024-05-15T09:33:50.158Z"
   },
   {
    "duration": 5,
    "start_time": "2024-05-15T09:33:50.167Z"
   },
   {
    "duration": 254,
    "start_time": "2024-05-15T09:33:50.174Z"
   },
   {
    "duration": 151,
    "start_time": "2024-05-15T09:33:50.430Z"
   },
   {
    "duration": 4,
    "start_time": "2024-05-15T09:33:50.583Z"
   },
   {
    "duration": 13,
    "start_time": "2024-05-15T09:33:50.589Z"
   },
   {
    "duration": 14,
    "start_time": "2024-05-15T09:33:50.604Z"
   },
   {
    "duration": 13,
    "start_time": "2024-05-15T09:33:50.620Z"
   },
   {
    "duration": 11,
    "start_time": "2024-05-15T09:33:50.634Z"
   },
   {
    "duration": 296,
    "start_time": "2024-05-15T09:33:50.646Z"
   },
   {
    "duration": 3,
    "start_time": "2024-05-15T09:33:50.943Z"
   },
   {
    "duration": 9,
    "start_time": "2024-05-15T09:33:50.947Z"
   },
   {
    "duration": 382,
    "start_time": "2024-05-15T09:33:50.958Z"
   },
   {
    "duration": 414,
    "start_time": "2024-05-15T09:33:51.342Z"
   },
   {
    "duration": 421,
    "start_time": "2024-05-15T09:33:51.758Z"
   },
   {
    "duration": 5,
    "start_time": "2024-05-15T09:33:52.181Z"
   },
   {
    "duration": 17,
    "start_time": "2024-05-15T09:33:52.187Z"
   },
   {
    "duration": 13,
    "start_time": "2024-05-15T09:33:52.205Z"
   },
   {
    "duration": 5,
    "start_time": "2024-05-15T09:33:52.220Z"
   },
   {
    "duration": 5,
    "start_time": "2024-05-15T09:33:52.227Z"
   },
   {
    "duration": 10,
    "start_time": "2024-05-15T09:33:52.233Z"
   },
   {
    "duration": 3,
    "start_time": "2024-05-15T09:34:12.433Z"
   },
   {
    "duration": 8,
    "start_time": "2024-05-15T09:34:13.017Z"
   },
   {
    "duration": 464,
    "start_time": "2024-05-15T09:34:38.943Z"
   },
   {
    "duration": 5,
    "start_time": "2024-05-15T09:36:25.376Z"
   },
   {
    "duration": 3,
    "start_time": "2024-05-15T09:36:25.742Z"
   },
   {
    "duration": 6,
    "start_time": "2024-05-15T09:36:26.292Z"
   },
   {
    "duration": 5,
    "start_time": "2024-05-15T09:36:28.526Z"
   },
   {
    "duration": 5,
    "start_time": "2024-05-15T09:36:29.027Z"
   },
   {
    "duration": 7,
    "start_time": "2024-05-15T09:36:29.330Z"
   }
  ],
  "kernelspec": {
   "display_name": "Python 3 (ipykernel)",
   "language": "python",
   "name": "python3"
  },
  "language_info": {
   "codemirror_mode": {
    "name": "ipython",
    "version": 3
   },
   "file_extension": ".py",
   "mimetype": "text/x-python",
   "name": "python",
   "nbconvert_exporter": "python",
   "pygments_lexer": "ipython3",
   "version": "3.9.5"
  },
  "toc": {
   "base_numbering": 1,
   "nav_menu": {},
   "number_sections": true,
   "sideBar": true,
   "skip_h1_title": true,
   "title_cell": "Table of Contents",
   "title_sidebar": "Contents",
   "toc_cell": false,
   "toc_position": {},
   "toc_section_display": true,
   "toc_window_display": true
  }
 },
 "nbformat": 4,
 "nbformat_minor": 2
}
