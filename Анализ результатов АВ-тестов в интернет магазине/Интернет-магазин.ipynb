{
 "cells": [
  {
   "cell_type": "markdown",
   "metadata": {},
   "source": [
    "# Принятие решений в бизнесе"
   ]
  },
  {
   "cell_type": "markdown",
   "metadata": {},
   "source": [
    "Мы работаем в крупном интернет-магазине. Вместе с отделом маркетинга мы подготовили список гипотез для увеличения выручки.\n",
    "В этой работе мы приоритизируем гипотезы, запустим A/B-тест и проанализируем результаты."
   ]
  },
  {
   "cell_type": "markdown",
   "metadata": {},
   "source": [
    "У нас есть файл /datasets/hypothesis.csv, в котором  9 гипотез по увеличению выручки интернет-магазина с указанными параметрами Reach, Impact, Confidence, Effort."
   ]
  },
  {
   "cell_type": "markdown",
   "metadata": {},
   "source": [
    "Применим фреймворк ICE для приоритизации гипотез. Отсортируйем их по убыванию приоритета.\n",
    "Применим фреймворк RICE для приоритизации гипотез. Отсортируйем их по убыванию приоритета.\n",
    "Укажем, как изменилась приоритизация гипотез при применении RICE вместо ICE. Объясним, почему так произошло."
   ]
  },
  {
   "cell_type": "code",
   "execution_count": 1,
   "metadata": {},
   "outputs": [],
   "source": [
    "import pandas as pd\n",
    "import numpy as np\n",
    "import scipy.stats as stats\n",
    "import datetime as dt\n",
    "import seaborn as sns\n",
    "from matplotlib import pyplot as plt\n",
    "\n",
    "# Загружаем необходимые библиотеки"
   ]
  },
  {
   "cell_type": "code",
   "execution_count": 2,
   "metadata": {},
   "outputs": [],
   "source": [
    "hypothesis = pd.read_csv('/datasets/hypothesis.csv') \n",
    "orders = pd.read_csv(\"/datasets/orders.csv\")\n",
    "visitors = pd.read_csv(\"/datasets/visitors.csv\")\n",
    "\n",
    "# открываем файлы, дав названия таблицам"
   ]
  },
  {
   "cell_type": "code",
   "execution_count": 3,
   "metadata": {},
   "outputs": [
    {
     "data": {
      "text/html": [
       "<div>\n",
       "<style scoped>\n",
       "    .dataframe tbody tr th:only-of-type {\n",
       "        vertical-align: middle;\n",
       "    }\n",
       "\n",
       "    .dataframe tbody tr th {\n",
       "        vertical-align: top;\n",
       "    }\n",
       "\n",
       "    .dataframe thead th {\n",
       "        text-align: right;\n",
       "    }\n",
       "</style>\n",
       "<table border=\"1\" class=\"dataframe\">\n",
       "  <thead>\n",
       "    <tr style=\"text-align: right;\">\n",
       "      <th></th>\n",
       "      <th>Hypothesis</th>\n",
       "      <th>Reach</th>\n",
       "      <th>Impact</th>\n",
       "      <th>Confidence</th>\n",
       "      <th>Efforts</th>\n",
       "    </tr>\n",
       "  </thead>\n",
       "  <tbody>\n",
       "    <tr>\n",
       "      <th>0</th>\n",
       "      <td>Добавить два новых канала привлечения трафика,...</td>\n",
       "      <td>3</td>\n",
       "      <td>10</td>\n",
       "      <td>8</td>\n",
       "      <td>6</td>\n",
       "    </tr>\n",
       "    <tr>\n",
       "      <th>1</th>\n",
       "      <td>Запустить собственную службу доставки, что сок...</td>\n",
       "      <td>2</td>\n",
       "      <td>5</td>\n",
       "      <td>4</td>\n",
       "      <td>10</td>\n",
       "    </tr>\n",
       "    <tr>\n",
       "      <th>2</th>\n",
       "      <td>Добавить блоки рекомендаций товаров на сайт ин...</td>\n",
       "      <td>8</td>\n",
       "      <td>3</td>\n",
       "      <td>7</td>\n",
       "      <td>3</td>\n",
       "    </tr>\n",
       "    <tr>\n",
       "      <th>3</th>\n",
       "      <td>Изменить структура категорий, что увеличит кон...</td>\n",
       "      <td>8</td>\n",
       "      <td>3</td>\n",
       "      <td>3</td>\n",
       "      <td>8</td>\n",
       "    </tr>\n",
       "    <tr>\n",
       "      <th>4</th>\n",
       "      <td>Изменить цвет фона главной страницы, чтобы уве...</td>\n",
       "      <td>3</td>\n",
       "      <td>1</td>\n",
       "      <td>1</td>\n",
       "      <td>1</td>\n",
       "    </tr>\n",
       "    <tr>\n",
       "      <th>5</th>\n",
       "      <td>Добавить страницу отзывов клиентов о магазине,...</td>\n",
       "      <td>3</td>\n",
       "      <td>2</td>\n",
       "      <td>2</td>\n",
       "      <td>3</td>\n",
       "    </tr>\n",
       "    <tr>\n",
       "      <th>6</th>\n",
       "      <td>Показать на главной странице баннеры с актуаль...</td>\n",
       "      <td>5</td>\n",
       "      <td>3</td>\n",
       "      <td>8</td>\n",
       "      <td>3</td>\n",
       "    </tr>\n",
       "    <tr>\n",
       "      <th>7</th>\n",
       "      <td>Добавить форму подписки на все основные страни...</td>\n",
       "      <td>10</td>\n",
       "      <td>7</td>\n",
       "      <td>8</td>\n",
       "      <td>5</td>\n",
       "    </tr>\n",
       "    <tr>\n",
       "      <th>8</th>\n",
       "      <td>Запустить акцию, дающую скидку на товар в день...</td>\n",
       "      <td>1</td>\n",
       "      <td>9</td>\n",
       "      <td>9</td>\n",
       "      <td>5</td>\n",
       "    </tr>\n",
       "  </tbody>\n",
       "</table>\n",
       "</div>"
      ],
      "text/plain": [
       "                                          Hypothesis  Reach  Impact  \\\n",
       "0  Добавить два новых канала привлечения трафика,...      3      10   \n",
       "1  Запустить собственную службу доставки, что сок...      2       5   \n",
       "2  Добавить блоки рекомендаций товаров на сайт ин...      8       3   \n",
       "3  Изменить структура категорий, что увеличит кон...      8       3   \n",
       "4  Изменить цвет фона главной страницы, чтобы уве...      3       1   \n",
       "5  Добавить страницу отзывов клиентов о магазине,...      3       2   \n",
       "6  Показать на главной странице баннеры с актуаль...      5       3   \n",
       "7  Добавить форму подписки на все основные страни...     10       7   \n",
       "8  Запустить акцию, дающую скидку на товар в день...      1       9   \n",
       "\n",
       "   Confidence  Efforts  \n",
       "0           8        6  \n",
       "1           4       10  \n",
       "2           7        3  \n",
       "3           3        8  \n",
       "4           1        1  \n",
       "5           2        3  \n",
       "6           8        3  \n",
       "7           8        5  \n",
       "8           9        5  "
      ]
     },
     "metadata": {},
     "output_type": "display_data"
    },
    {
     "data": {
      "text/html": [
       "<div>\n",
       "<style scoped>\n",
       "    .dataframe tbody tr th:only-of-type {\n",
       "        vertical-align: middle;\n",
       "    }\n",
       "\n",
       "    .dataframe tbody tr th {\n",
       "        vertical-align: top;\n",
       "    }\n",
       "\n",
       "    .dataframe thead th {\n",
       "        text-align: right;\n",
       "    }\n",
       "</style>\n",
       "<table border=\"1\" class=\"dataframe\">\n",
       "  <thead>\n",
       "    <tr style=\"text-align: right;\">\n",
       "      <th></th>\n",
       "      <th>transactionId</th>\n",
       "      <th>visitorId</th>\n",
       "      <th>date</th>\n",
       "      <th>revenue</th>\n",
       "      <th>group</th>\n",
       "    </tr>\n",
       "  </thead>\n",
       "  <tbody>\n",
       "    <tr>\n",
       "      <th>0</th>\n",
       "      <td>3667963787</td>\n",
       "      <td>3312258926</td>\n",
       "      <td>2019-08-15</td>\n",
       "      <td>1650</td>\n",
       "      <td>B</td>\n",
       "    </tr>\n",
       "    <tr>\n",
       "      <th>1</th>\n",
       "      <td>2804400009</td>\n",
       "      <td>3642806036</td>\n",
       "      <td>2019-08-15</td>\n",
       "      <td>730</td>\n",
       "      <td>B</td>\n",
       "    </tr>\n",
       "    <tr>\n",
       "      <th>2</th>\n",
       "      <td>2961555356</td>\n",
       "      <td>4069496402</td>\n",
       "      <td>2019-08-15</td>\n",
       "      <td>400</td>\n",
       "      <td>A</td>\n",
       "    </tr>\n",
       "    <tr>\n",
       "      <th>3</th>\n",
       "      <td>3797467345</td>\n",
       "      <td>1196621759</td>\n",
       "      <td>2019-08-15</td>\n",
       "      <td>9759</td>\n",
       "      <td>B</td>\n",
       "    </tr>\n",
       "    <tr>\n",
       "      <th>4</th>\n",
       "      <td>2282983706</td>\n",
       "      <td>2322279887</td>\n",
       "      <td>2019-08-15</td>\n",
       "      <td>2308</td>\n",
       "      <td>B</td>\n",
       "    </tr>\n",
       "  </tbody>\n",
       "</table>\n",
       "</div>"
      ],
      "text/plain": [
       "   transactionId   visitorId        date  revenue group\n",
       "0     3667963787  3312258926  2019-08-15     1650     B\n",
       "1     2804400009  3642806036  2019-08-15      730     B\n",
       "2     2961555356  4069496402  2019-08-15      400     A\n",
       "3     3797467345  1196621759  2019-08-15     9759     B\n",
       "4     2282983706  2322279887  2019-08-15     2308     B"
      ]
     },
     "metadata": {},
     "output_type": "display_data"
    },
    {
     "data": {
      "text/html": [
       "<div>\n",
       "<style scoped>\n",
       "    .dataframe tbody tr th:only-of-type {\n",
       "        vertical-align: middle;\n",
       "    }\n",
       "\n",
       "    .dataframe tbody tr th {\n",
       "        vertical-align: top;\n",
       "    }\n",
       "\n",
       "    .dataframe thead th {\n",
       "        text-align: right;\n",
       "    }\n",
       "</style>\n",
       "<table border=\"1\" class=\"dataframe\">\n",
       "  <thead>\n",
       "    <tr style=\"text-align: right;\">\n",
       "      <th></th>\n",
       "      <th>date</th>\n",
       "      <th>group</th>\n",
       "      <th>visitors</th>\n",
       "    </tr>\n",
       "  </thead>\n",
       "  <tbody>\n",
       "    <tr>\n",
       "      <th>0</th>\n",
       "      <td>2019-08-01</td>\n",
       "      <td>A</td>\n",
       "      <td>719</td>\n",
       "    </tr>\n",
       "    <tr>\n",
       "      <th>1</th>\n",
       "      <td>2019-08-02</td>\n",
       "      <td>A</td>\n",
       "      <td>619</td>\n",
       "    </tr>\n",
       "    <tr>\n",
       "      <th>2</th>\n",
       "      <td>2019-08-03</td>\n",
       "      <td>A</td>\n",
       "      <td>507</td>\n",
       "    </tr>\n",
       "    <tr>\n",
       "      <th>3</th>\n",
       "      <td>2019-08-04</td>\n",
       "      <td>A</td>\n",
       "      <td>717</td>\n",
       "    </tr>\n",
       "    <tr>\n",
       "      <th>4</th>\n",
       "      <td>2019-08-05</td>\n",
       "      <td>A</td>\n",
       "      <td>756</td>\n",
       "    </tr>\n",
       "  </tbody>\n",
       "</table>\n",
       "</div>"
      ],
      "text/plain": [
       "         date group  visitors\n",
       "0  2019-08-01     A       719\n",
       "1  2019-08-02     A       619\n",
       "2  2019-08-03     A       507\n",
       "3  2019-08-04     A       717\n",
       "4  2019-08-05     A       756"
      ]
     },
     "metadata": {},
     "output_type": "display_data"
    }
   ],
   "source": [
    "display(hypothesis, orders.head(5), visitors.head(5))"
   ]
  },
  {
   "cell_type": "code",
   "execution_count": 4,
   "metadata": {},
   "outputs": [
    {
     "name": "stdout",
     "output_type": "stream",
     "text": [
      "<class 'pandas.core.frame.DataFrame'>\n",
      "RangeIndex: 9 entries, 0 to 8\n",
      "Data columns (total 5 columns):\n",
      " #   Column      Non-Null Count  Dtype \n",
      "---  ------      --------------  ----- \n",
      " 0   Hypothesis  9 non-null      object\n",
      " 1   Reach       9 non-null      int64 \n",
      " 2   Impact      9 non-null      int64 \n",
      " 3   Confidence  9 non-null      int64 \n",
      " 4   Efforts     9 non-null      int64 \n",
      "dtypes: int64(4), object(1)\n",
      "memory usage: 488.0+ bytes\n"
     ]
    }
   ],
   "source": [
    "hypothesis.info() # смотрим общую информацию о таблице hypothesis"
   ]
  },
  {
   "cell_type": "code",
   "execution_count": 5,
   "metadata": {},
   "outputs": [
    {
     "name": "stdout",
     "output_type": "stream",
     "text": [
      "<class 'pandas.core.frame.DataFrame'>\n",
      "RangeIndex: 1197 entries, 0 to 1196\n",
      "Data columns (total 5 columns):\n",
      " #   Column         Non-Null Count  Dtype \n",
      "---  ------         --------------  ----- \n",
      " 0   transactionId  1197 non-null   int64 \n",
      " 1   visitorId      1197 non-null   int64 \n",
      " 2   date           1197 non-null   object\n",
      " 3   revenue        1197 non-null   int64 \n",
      " 4   group          1197 non-null   object\n",
      "dtypes: int64(3), object(2)\n",
      "memory usage: 46.9+ KB\n"
     ]
    }
   ],
   "source": [
    "orders.info() # смотрим общую информацию о таблице orders"
   ]
  },
  {
   "cell_type": "code",
   "execution_count": 6,
   "metadata": {},
   "outputs": [
    {
     "name": "stdout",
     "output_type": "stream",
     "text": [
      "<class 'pandas.core.frame.DataFrame'>\n",
      "RangeIndex: 62 entries, 0 to 61\n",
      "Data columns (total 3 columns):\n",
      " #   Column    Non-Null Count  Dtype \n",
      "---  ------    --------------  ----- \n",
      " 0   date      62 non-null     object\n",
      " 1   group     62 non-null     object\n",
      " 2   visitors  62 non-null     int64 \n",
      "dtypes: int64(1), object(2)\n",
      "memory usage: 1.6+ KB\n"
     ]
    }
   ],
   "source": [
    "visitors.info() # смотрим общую информацию о таблице visitors"
   ]
  },
  {
   "cell_type": "code",
   "execution_count": 7,
   "metadata": {},
   "outputs": [
    {
     "data": {
      "text/plain": [
       "transactionId    0\n",
       "visitorId        0\n",
       "date             0\n",
       "revenue          0\n",
       "group            0\n",
       "dtype: int64"
      ]
     },
     "execution_count": 7,
     "metadata": {},
     "output_type": "execute_result"
    }
   ],
   "source": [
    "orders.isna().sum() # смотрим на наличие пропусков в столбцах"
   ]
  },
  {
   "cell_type": "code",
   "execution_count": 8,
   "metadata": {},
   "outputs": [
    {
     "data": {
      "text/plain": [
       "date        0\n",
       "group       0\n",
       "visitors    0\n",
       "dtype: int64"
      ]
     },
     "execution_count": 8,
     "metadata": {},
     "output_type": "execute_result"
    }
   ],
   "source": [
    "visitors.isna().sum() # смотрим на наличие пропусков в столбцах"
   ]
  },
  {
   "cell_type": "code",
   "execution_count": 9,
   "metadata": {},
   "outputs": [],
   "source": [
    "hypothesis.columns = hypothesis.columns.str.lower() \n",
    "orders.columns = orders.columns.str.lower()\n",
    "# приводим название столбцов к нижнему регистру"
   ]
  },
  {
   "cell_type": "code",
   "execution_count": 10,
   "metadata": {},
   "outputs": [],
   "source": [
    "orders['date'] = pd.to_datetime(orders['date'])\n",
    "visitors['date'] = pd.to_datetime(visitors['date'])\n",
    "\n",
    "# меняем тип данных в колонках с датами"
   ]
  },
  {
   "cell_type": "code",
   "execution_count": 11,
   "metadata": {},
   "outputs": [
    {
     "data": {
      "text/plain": [
       "0"
      ]
     },
     "metadata": {},
     "output_type": "display_data"
    },
    {
     "data": {
      "text/plain": [
       "0"
      ]
     },
     "metadata": {},
     "output_type": "display_data"
    },
    {
     "data": {
      "text/plain": [
       "0"
      ]
     },
     "metadata": {},
     "output_type": "display_data"
    }
   ],
   "source": [
    "display(hypothesis.duplicated().sum(), visitors.duplicated().sum(), orders.duplicated().sum())\n",
    "# проверяем таблицы на дубликаты"
   ]
  },
  {
   "cell_type": "code",
   "execution_count": 12,
   "metadata": {},
   "outputs": [
    {
     "name": "stdout",
     "output_type": "stream",
     "text": [
      "<class 'pandas.core.frame.DataFrame'>\n",
      "RangeIndex: 62 entries, 0 to 61\n",
      "Data columns (total 3 columns):\n",
      " #   Column    Non-Null Count  Dtype         \n",
      "---  ------    --------------  -----         \n",
      " 0   date      62 non-null     datetime64[ns]\n",
      " 1   group     62 non-null     object        \n",
      " 2   visitors  62 non-null     int64         \n",
      "dtypes: datetime64[ns](1), int64(1), object(1)\n",
      "memory usage: 1.6+ KB\n"
     ]
    }
   ],
   "source": [
    "visitors.info() # проверяем еще раз таблицу visitors"
   ]
  },
  {
   "cell_type": "code",
   "execution_count": 13,
   "metadata": {},
   "outputs": [
    {
     "name": "stdout",
     "output_type": "stream",
     "text": [
      "<class 'pandas.core.frame.DataFrame'>\n",
      "RangeIndex: 1197 entries, 0 to 1196\n",
      "Data columns (total 5 columns):\n",
      " #   Column         Non-Null Count  Dtype         \n",
      "---  ------         --------------  -----         \n",
      " 0   transactionid  1197 non-null   int64         \n",
      " 1   visitorid      1197 non-null   int64         \n",
      " 2   date           1197 non-null   datetime64[ns]\n",
      " 3   revenue        1197 non-null   int64         \n",
      " 4   group          1197 non-null   object        \n",
      "dtypes: datetime64[ns](1), int64(3), object(1)\n",
      "memory usage: 46.9+ KB\n"
     ]
    }
   ],
   "source": [
    "orders.info()# проверяем еще раз таблицу orders"
   ]
  },
  {
   "cell_type": "code",
   "execution_count": 14,
   "metadata": {},
   "outputs": [],
   "source": [
    "pd.set_option('display.max_colwidth', None)\n",
    "# снимаем ограничение на ширину столбцов"
   ]
  },
  {
   "cell_type": "code",
   "execution_count": 15,
   "metadata": {},
   "outputs": [
    {
     "data": {
      "text/html": [
       "<div>\n",
       "<style scoped>\n",
       "    .dataframe tbody tr th:only-of-type {\n",
       "        vertical-align: middle;\n",
       "    }\n",
       "\n",
       "    .dataframe tbody tr th {\n",
       "        vertical-align: top;\n",
       "    }\n",
       "\n",
       "    .dataframe thead th {\n",
       "        text-align: right;\n",
       "    }\n",
       "</style>\n",
       "<table border=\"1\" class=\"dataframe\">\n",
       "  <thead>\n",
       "    <tr style=\"text-align: right;\">\n",
       "      <th></th>\n",
       "      <th>hypothesis</th>\n",
       "      <th>reach</th>\n",
       "      <th>impact</th>\n",
       "      <th>confidence</th>\n",
       "      <th>efforts</th>\n",
       "    </tr>\n",
       "  </thead>\n",
       "  <tbody>\n",
       "    <tr>\n",
       "      <th>0</th>\n",
       "      <td>Добавить два новых канала привлечения трафика, что позволит привлекать на 30% больше пользователей</td>\n",
       "      <td>3</td>\n",
       "      <td>10</td>\n",
       "      <td>8</td>\n",
       "      <td>6</td>\n",
       "    </tr>\n",
       "    <tr>\n",
       "      <th>1</th>\n",
       "      <td>Запустить собственную службу доставки, что сократит срок доставки заказов</td>\n",
       "      <td>2</td>\n",
       "      <td>5</td>\n",
       "      <td>4</td>\n",
       "      <td>10</td>\n",
       "    </tr>\n",
       "    <tr>\n",
       "      <th>2</th>\n",
       "      <td>Добавить блоки рекомендаций товаров на сайт интернет магазина, чтобы повысить конверсию и средний чек заказа</td>\n",
       "      <td>8</td>\n",
       "      <td>3</td>\n",
       "      <td>7</td>\n",
       "      <td>3</td>\n",
       "    </tr>\n",
       "    <tr>\n",
       "      <th>3</th>\n",
       "      <td>Изменить структура категорий, что увеличит конверсию, т.к. пользователи быстрее найдут нужный товар</td>\n",
       "      <td>8</td>\n",
       "      <td>3</td>\n",
       "      <td>3</td>\n",
       "      <td>8</td>\n",
       "    </tr>\n",
       "    <tr>\n",
       "      <th>4</th>\n",
       "      <td>Изменить цвет фона главной страницы, чтобы увеличить вовлеченность пользователей</td>\n",
       "      <td>3</td>\n",
       "      <td>1</td>\n",
       "      <td>1</td>\n",
       "      <td>1</td>\n",
       "    </tr>\n",
       "    <tr>\n",
       "      <th>5</th>\n",
       "      <td>Добавить страницу отзывов клиентов о магазине, что позволит увеличить количество заказов</td>\n",
       "      <td>3</td>\n",
       "      <td>2</td>\n",
       "      <td>2</td>\n",
       "      <td>3</td>\n",
       "    </tr>\n",
       "    <tr>\n",
       "      <th>6</th>\n",
       "      <td>Показать на главной странице баннеры с актуальными акциями и распродажами, чтобы увеличить конверсию</td>\n",
       "      <td>5</td>\n",
       "      <td>3</td>\n",
       "      <td>8</td>\n",
       "      <td>3</td>\n",
       "    </tr>\n",
       "    <tr>\n",
       "      <th>7</th>\n",
       "      <td>Добавить форму подписки на все основные страницы, чтобы собрать базу клиентов для email-рассылок</td>\n",
       "      <td>10</td>\n",
       "      <td>7</td>\n",
       "      <td>8</td>\n",
       "      <td>5</td>\n",
       "    </tr>\n",
       "    <tr>\n",
       "      <th>8</th>\n",
       "      <td>Запустить акцию, дающую скидку на товар в день рождения</td>\n",
       "      <td>1</td>\n",
       "      <td>9</td>\n",
       "      <td>9</td>\n",
       "      <td>5</td>\n",
       "    </tr>\n",
       "  </tbody>\n",
       "</table>\n",
       "</div>"
      ],
      "text/plain": [
       "                                                                                                     hypothesis  \\\n",
       "0            Добавить два новых канала привлечения трафика, что позволит привлекать на 30% больше пользователей   \n",
       "1                                     Запустить собственную службу доставки, что сократит срок доставки заказов   \n",
       "2  Добавить блоки рекомендаций товаров на сайт интернет магазина, чтобы повысить конверсию и средний чек заказа   \n",
       "3           Изменить структура категорий, что увеличит конверсию, т.к. пользователи быстрее найдут нужный товар   \n",
       "4                              Изменить цвет фона главной страницы, чтобы увеличить вовлеченность пользователей   \n",
       "5                      Добавить страницу отзывов клиентов о магазине, что позволит увеличить количество заказов   \n",
       "6          Показать на главной странице баннеры с актуальными акциями и распродажами, чтобы увеличить конверсию   \n",
       "7              Добавить форму подписки на все основные страницы, чтобы собрать базу клиентов для email-рассылок   \n",
       "8                                                       Запустить акцию, дающую скидку на товар в день рождения   \n",
       "\n",
       "   reach  impact  confidence  efforts  \n",
       "0      3      10           8        6  \n",
       "1      2       5           4       10  \n",
       "2      8       3           7        3  \n",
       "3      8       3           3        8  \n",
       "4      3       1           1        1  \n",
       "5      3       2           2        3  \n",
       "6      5       3           8        3  \n",
       "7     10       7           8        5  \n",
       "8      1       9           9        5  "
      ]
     },
     "metadata": {},
     "output_type": "display_data"
    },
    {
     "data": {
      "text/html": [
       "<div>\n",
       "<style scoped>\n",
       "    .dataframe tbody tr th:only-of-type {\n",
       "        vertical-align: middle;\n",
       "    }\n",
       "\n",
       "    .dataframe tbody tr th {\n",
       "        vertical-align: top;\n",
       "    }\n",
       "\n",
       "    .dataframe thead th {\n",
       "        text-align: right;\n",
       "    }\n",
       "</style>\n",
       "<table border=\"1\" class=\"dataframe\">\n",
       "  <thead>\n",
       "    <tr style=\"text-align: right;\">\n",
       "      <th></th>\n",
       "      <th>transactionid</th>\n",
       "      <th>visitorid</th>\n",
       "      <th>date</th>\n",
       "      <th>revenue</th>\n",
       "      <th>group</th>\n",
       "    </tr>\n",
       "  </thead>\n",
       "  <tbody>\n",
       "    <tr>\n",
       "      <th>0</th>\n",
       "      <td>3667963787</td>\n",
       "      <td>3312258926</td>\n",
       "      <td>2019-08-15</td>\n",
       "      <td>1650</td>\n",
       "      <td>B</td>\n",
       "    </tr>\n",
       "    <tr>\n",
       "      <th>1</th>\n",
       "      <td>2804400009</td>\n",
       "      <td>3642806036</td>\n",
       "      <td>2019-08-15</td>\n",
       "      <td>730</td>\n",
       "      <td>B</td>\n",
       "    </tr>\n",
       "    <tr>\n",
       "      <th>2</th>\n",
       "      <td>2961555356</td>\n",
       "      <td>4069496402</td>\n",
       "      <td>2019-08-15</td>\n",
       "      <td>400</td>\n",
       "      <td>A</td>\n",
       "    </tr>\n",
       "    <tr>\n",
       "      <th>3</th>\n",
       "      <td>3797467345</td>\n",
       "      <td>1196621759</td>\n",
       "      <td>2019-08-15</td>\n",
       "      <td>9759</td>\n",
       "      <td>B</td>\n",
       "    </tr>\n",
       "    <tr>\n",
       "      <th>4</th>\n",
       "      <td>2282983706</td>\n",
       "      <td>2322279887</td>\n",
       "      <td>2019-08-15</td>\n",
       "      <td>2308</td>\n",
       "      <td>B</td>\n",
       "    </tr>\n",
       "  </tbody>\n",
       "</table>\n",
       "</div>"
      ],
      "text/plain": [
       "   transactionid   visitorid       date  revenue group\n",
       "0     3667963787  3312258926 2019-08-15     1650     B\n",
       "1     2804400009  3642806036 2019-08-15      730     B\n",
       "2     2961555356  4069496402 2019-08-15      400     A\n",
       "3     3797467345  1196621759 2019-08-15     9759     B\n",
       "4     2282983706  2322279887 2019-08-15     2308     B"
      ]
     },
     "metadata": {},
     "output_type": "display_data"
    },
    {
     "data": {
      "text/html": [
       "<div>\n",
       "<style scoped>\n",
       "    .dataframe tbody tr th:only-of-type {\n",
       "        vertical-align: middle;\n",
       "    }\n",
       "\n",
       "    .dataframe tbody tr th {\n",
       "        vertical-align: top;\n",
       "    }\n",
       "\n",
       "    .dataframe thead th {\n",
       "        text-align: right;\n",
       "    }\n",
       "</style>\n",
       "<table border=\"1\" class=\"dataframe\">\n",
       "  <thead>\n",
       "    <tr style=\"text-align: right;\">\n",
       "      <th></th>\n",
       "      <th>date</th>\n",
       "      <th>group</th>\n",
       "      <th>visitors</th>\n",
       "    </tr>\n",
       "  </thead>\n",
       "  <tbody>\n",
       "    <tr>\n",
       "      <th>0</th>\n",
       "      <td>2019-08-01</td>\n",
       "      <td>A</td>\n",
       "      <td>719</td>\n",
       "    </tr>\n",
       "    <tr>\n",
       "      <th>1</th>\n",
       "      <td>2019-08-02</td>\n",
       "      <td>A</td>\n",
       "      <td>619</td>\n",
       "    </tr>\n",
       "    <tr>\n",
       "      <th>2</th>\n",
       "      <td>2019-08-03</td>\n",
       "      <td>A</td>\n",
       "      <td>507</td>\n",
       "    </tr>\n",
       "    <tr>\n",
       "      <th>3</th>\n",
       "      <td>2019-08-04</td>\n",
       "      <td>A</td>\n",
       "      <td>717</td>\n",
       "    </tr>\n",
       "    <tr>\n",
       "      <th>4</th>\n",
       "      <td>2019-08-05</td>\n",
       "      <td>A</td>\n",
       "      <td>756</td>\n",
       "    </tr>\n",
       "  </tbody>\n",
       "</table>\n",
       "</div>"
      ],
      "text/plain": [
       "        date group  visitors\n",
       "0 2019-08-01     A       719\n",
       "1 2019-08-02     A       619\n",
       "2 2019-08-03     A       507\n",
       "3 2019-08-04     A       717\n",
       "4 2019-08-05     A       756"
      ]
     },
     "metadata": {},
     "output_type": "display_data"
    }
   ],
   "source": [
    "display(hypothesis, orders.head(5), visitors.head(5)) # проверяем что получилось"
   ]
  },
  {
   "cell_type": "markdown",
   "metadata": {},
   "source": [
    "В этом разделе мы проверили и открыли три предоставленные таблицы. Название столбцов привели к единому стилю Проверили таблицы на наличие пропусков и дубликатов - их не оказалось. Данные с датами в столбцах привели к типу datetime64"
   ]
  },
  {
   "cell_type": "markdown",
   "metadata": {},
   "source": [
    "###  Часть Приоритизация гипотез."
   ]
  },
  {
   "cell_type": "markdown",
   "metadata": {},
   "source": [
    "#### Фреймворк Ice"
   ]
  },
  {
   "cell_type": "code",
   "execution_count": 16,
   "metadata": {},
   "outputs": [
    {
     "data": {
      "text/html": [
       "<div>\n",
       "<style scoped>\n",
       "    .dataframe tbody tr th:only-of-type {\n",
       "        vertical-align: middle;\n",
       "    }\n",
       "\n",
       "    .dataframe tbody tr th {\n",
       "        vertical-align: top;\n",
       "    }\n",
       "\n",
       "    .dataframe thead th {\n",
       "        text-align: right;\n",
       "    }\n",
       "</style>\n",
       "<table border=\"1\" class=\"dataframe\">\n",
       "  <thead>\n",
       "    <tr style=\"text-align: right;\">\n",
       "      <th></th>\n",
       "      <th>hypothesis</th>\n",
       "      <th>ICE</th>\n",
       "    </tr>\n",
       "  </thead>\n",
       "  <tbody>\n",
       "    <tr>\n",
       "      <th>8</th>\n",
       "      <td>Запустить акцию, дающую скидку на товар в день рождения</td>\n",
       "      <td>16.200000</td>\n",
       "    </tr>\n",
       "    <tr>\n",
       "      <th>0</th>\n",
       "      <td>Добавить два новых канала привлечения трафика, что позволит привлекать на 30% больше пользователей</td>\n",
       "      <td>13.333333</td>\n",
       "    </tr>\n",
       "    <tr>\n",
       "      <th>7</th>\n",
       "      <td>Добавить форму подписки на все основные страницы, чтобы собрать базу клиентов для email-рассылок</td>\n",
       "      <td>11.200000</td>\n",
       "    </tr>\n",
       "    <tr>\n",
       "      <th>6</th>\n",
       "      <td>Показать на главной странице баннеры с актуальными акциями и распродажами, чтобы увеличить конверсию</td>\n",
       "      <td>8.000000</td>\n",
       "    </tr>\n",
       "    <tr>\n",
       "      <th>2</th>\n",
       "      <td>Добавить блоки рекомендаций товаров на сайт интернет магазина, чтобы повысить конверсию и средний чек заказа</td>\n",
       "      <td>7.000000</td>\n",
       "    </tr>\n",
       "    <tr>\n",
       "      <th>1</th>\n",
       "      <td>Запустить собственную службу доставки, что сократит срок доставки заказов</td>\n",
       "      <td>2.000000</td>\n",
       "    </tr>\n",
       "    <tr>\n",
       "      <th>5</th>\n",
       "      <td>Добавить страницу отзывов клиентов о магазине, что позволит увеличить количество заказов</td>\n",
       "      <td>1.333333</td>\n",
       "    </tr>\n",
       "    <tr>\n",
       "      <th>3</th>\n",
       "      <td>Изменить структура категорий, что увеличит конверсию, т.к. пользователи быстрее найдут нужный товар</td>\n",
       "      <td>1.125000</td>\n",
       "    </tr>\n",
       "    <tr>\n",
       "      <th>4</th>\n",
       "      <td>Изменить цвет фона главной страницы, чтобы увеличить вовлеченность пользователей</td>\n",
       "      <td>1.000000</td>\n",
       "    </tr>\n",
       "  </tbody>\n",
       "</table>\n",
       "</div>"
      ],
      "text/plain": [
       "                                                                                                     hypothesis  \\\n",
       "8                                                       Запустить акцию, дающую скидку на товар в день рождения   \n",
       "0            Добавить два новых канала привлечения трафика, что позволит привлекать на 30% больше пользователей   \n",
       "7              Добавить форму подписки на все основные страницы, чтобы собрать базу клиентов для email-рассылок   \n",
       "6          Показать на главной странице баннеры с актуальными акциями и распродажами, чтобы увеличить конверсию   \n",
       "2  Добавить блоки рекомендаций товаров на сайт интернет магазина, чтобы повысить конверсию и средний чек заказа   \n",
       "1                                     Запустить собственную службу доставки, что сократит срок доставки заказов   \n",
       "5                      Добавить страницу отзывов клиентов о магазине, что позволит увеличить количество заказов   \n",
       "3           Изменить структура категорий, что увеличит конверсию, т.к. пользователи быстрее найдут нужный товар   \n",
       "4                              Изменить цвет фона главной страницы, чтобы увеличить вовлеченность пользователей   \n",
       "\n",
       "         ICE  \n",
       "8  16.200000  \n",
       "0  13.333333  \n",
       "7  11.200000  \n",
       "6   8.000000  \n",
       "2   7.000000  \n",
       "1   2.000000  \n",
       "5   1.333333  \n",
       "3   1.125000  \n",
       "4   1.000000  "
      ]
     },
     "execution_count": 16,
     "metadata": {},
     "output_type": "execute_result"
    }
   ],
   "source": [
    "hypothesis['ICE'] = ( hypothesis['impact'] * hypothesis['confidence']) / hypothesis['efforts']\n",
    "hypothesis[['hypothesis', 'ICE']].sort_values(by='ICE', ascending=False)"
   ]
  },
  {
   "cell_type": "markdown",
   "metadata": {},
   "source": [
    "Лидирует гипотеза № 8 с акцией в день рождения"
   ]
  },
  {
   "cell_type": "markdown",
   "metadata": {},
   "source": [
    "#### Фреймворк Rice"
   ]
  },
  {
   "cell_type": "code",
   "execution_count": 17,
   "metadata": {},
   "outputs": [
    {
     "data": {
      "text/html": [
       "<div>\n",
       "<style scoped>\n",
       "    .dataframe tbody tr th:only-of-type {\n",
       "        vertical-align: middle;\n",
       "    }\n",
       "\n",
       "    .dataframe tbody tr th {\n",
       "        vertical-align: top;\n",
       "    }\n",
       "\n",
       "    .dataframe thead th {\n",
       "        text-align: right;\n",
       "    }\n",
       "</style>\n",
       "<table border=\"1\" class=\"dataframe\">\n",
       "  <thead>\n",
       "    <tr style=\"text-align: right;\">\n",
       "      <th></th>\n",
       "      <th>hypothesis</th>\n",
       "      <th>RICE</th>\n",
       "    </tr>\n",
       "  </thead>\n",
       "  <tbody>\n",
       "    <tr>\n",
       "      <th>7</th>\n",
       "      <td>Добавить форму подписки на все основные страницы, чтобы собрать базу клиентов для email-рассылок</td>\n",
       "      <td>112.0</td>\n",
       "    </tr>\n",
       "    <tr>\n",
       "      <th>2</th>\n",
       "      <td>Добавить блоки рекомендаций товаров на сайт интернет магазина, чтобы повысить конверсию и средний чек заказа</td>\n",
       "      <td>56.0</td>\n",
       "    </tr>\n",
       "    <tr>\n",
       "      <th>0</th>\n",
       "      <td>Добавить два новых канала привлечения трафика, что позволит привлекать на 30% больше пользователей</td>\n",
       "      <td>40.0</td>\n",
       "    </tr>\n",
       "    <tr>\n",
       "      <th>6</th>\n",
       "      <td>Показать на главной странице баннеры с актуальными акциями и распродажами, чтобы увеличить конверсию</td>\n",
       "      <td>40.0</td>\n",
       "    </tr>\n",
       "    <tr>\n",
       "      <th>8</th>\n",
       "      <td>Запустить акцию, дающую скидку на товар в день рождения</td>\n",
       "      <td>16.2</td>\n",
       "    </tr>\n",
       "    <tr>\n",
       "      <th>3</th>\n",
       "      <td>Изменить структура категорий, что увеличит конверсию, т.к. пользователи быстрее найдут нужный товар</td>\n",
       "      <td>9.0</td>\n",
       "    </tr>\n",
       "    <tr>\n",
       "      <th>1</th>\n",
       "      <td>Запустить собственную службу доставки, что сократит срок доставки заказов</td>\n",
       "      <td>4.0</td>\n",
       "    </tr>\n",
       "    <tr>\n",
       "      <th>5</th>\n",
       "      <td>Добавить страницу отзывов клиентов о магазине, что позволит увеличить количество заказов</td>\n",
       "      <td>4.0</td>\n",
       "    </tr>\n",
       "    <tr>\n",
       "      <th>4</th>\n",
       "      <td>Изменить цвет фона главной страницы, чтобы увеличить вовлеченность пользователей</td>\n",
       "      <td>3.0</td>\n",
       "    </tr>\n",
       "  </tbody>\n",
       "</table>\n",
       "</div>"
      ],
      "text/plain": [
       "                                                                                                     hypothesis  \\\n",
       "7              Добавить форму подписки на все основные страницы, чтобы собрать базу клиентов для email-рассылок   \n",
       "2  Добавить блоки рекомендаций товаров на сайт интернет магазина, чтобы повысить конверсию и средний чек заказа   \n",
       "0            Добавить два новых канала привлечения трафика, что позволит привлекать на 30% больше пользователей   \n",
       "6          Показать на главной странице баннеры с актуальными акциями и распродажами, чтобы увеличить конверсию   \n",
       "8                                                       Запустить акцию, дающую скидку на товар в день рождения   \n",
       "3           Изменить структура категорий, что увеличит конверсию, т.к. пользователи быстрее найдут нужный товар   \n",
       "1                                     Запустить собственную службу доставки, что сократит срок доставки заказов   \n",
       "5                      Добавить страницу отзывов клиентов о магазине, что позволит увеличить количество заказов   \n",
       "4                              Изменить цвет фона главной страницы, чтобы увеличить вовлеченность пользователей   \n",
       "\n",
       "    RICE  \n",
       "7  112.0  \n",
       "2   56.0  \n",
       "0   40.0  \n",
       "6   40.0  \n",
       "8   16.2  \n",
       "3    9.0  \n",
       "1    4.0  \n",
       "5    4.0  \n",
       "4    3.0  "
      ]
     },
     "execution_count": 17,
     "metadata": {},
     "output_type": "execute_result"
    }
   ],
   "source": [
    "hypothesis['RICE'] = ( hypothesis['reach'] * hypothesis['impact']* hypothesis['confidence']) / hypothesis['efforts']\n",
    "hypothesis[['hypothesis', 'RICE']].sort_values(by='RICE', ascending=False)"
   ]
  },
  {
   "cell_type": "markdown",
   "metadata": {},
   "source": [
    "Лидирует гипотеза 7"
   ]
  },
  {
   "cell_type": "markdown",
   "metadata": {},
   "source": [
    "При применении метода RICE изменились лидирующие гипотезы. Это произошло, потому что добавился параметр \"reach\", говорящий об охвате аудитории"
   ]
  },
  {
   "cell_type": "markdown",
   "metadata": {},
   "source": [
    "###  Часть  Анализ A/B-теста"
   ]
  },
  {
   "cell_type": "markdown",
   "metadata": {},
   "source": [
    "#### Построим график кумулятивной выручки по группам. Сделаем выводы и предположения."
   ]
  },
  {
   "cell_type": "code",
   "execution_count": 18,
   "metadata": {},
   "outputs": [
    {
     "name": "stdout",
     "output_type": "stream",
     "text": [
      "Дата начала теста 2019-08-01 00:00:00\n",
      "Дата окончания тестирования 2019-08-31 00:00:00\n"
     ]
    }
   ],
   "source": [
    "print(\"Дата начала теста\", orders['date'].sort_values().min())\n",
    "print(\"Дата окончания тестирования\", orders['date'].sort_values().max())\n",
    "# определяем даты проведения теста"
   ]
  },
  {
   "cell_type": "code",
   "execution_count": 19,
   "metadata": {},
   "outputs": [
    {
     "data": {
      "text/plain": [
       "group\n",
       "A    503\n",
       "B    586\n",
       "Name: visitorid, dtype: int64"
      ]
     },
     "execution_count": 19,
     "metadata": {},
     "output_type": "execute_result"
    }
   ],
   "source": [
    "orders.groupby('group').nunique('visitorid')['visitorid']\n",
    "# проверяем количество уникальных пользователей в группах"
   ]
  },
  {
   "cell_type": "code",
   "execution_count": 20,
   "metadata": {},
   "outputs": [],
   "source": [
    "dubl = orders.groupby('visitorid').agg({'group': 'nunique'}).query('group>1').reset_index()\n",
    "# ищем дубликаты, которые есть в обеих группах"
   ]
  },
  {
   "cell_type": "code",
   "execution_count": 21,
   "metadata": {},
   "outputs": [
    {
     "data": {
      "text/html": [
       "<div>\n",
       "<style scoped>\n",
       "    .dataframe tbody tr th:only-of-type {\n",
       "        vertical-align: middle;\n",
       "    }\n",
       "\n",
       "    .dataframe tbody tr th {\n",
       "        vertical-align: top;\n",
       "    }\n",
       "\n",
       "    .dataframe thead th {\n",
       "        text-align: right;\n",
       "    }\n",
       "</style>\n",
       "<table border=\"1\" class=\"dataframe\">\n",
       "  <thead>\n",
       "    <tr style=\"text-align: right;\">\n",
       "      <th></th>\n",
       "      <th>visitorid</th>\n",
       "      <th>group</th>\n",
       "    </tr>\n",
       "  </thead>\n",
       "  <tbody>\n",
       "    <tr>\n",
       "      <th>0</th>\n",
       "      <td>8300375</td>\n",
       "      <td>2</td>\n",
       "    </tr>\n",
       "    <tr>\n",
       "      <th>1</th>\n",
       "      <td>199603092</td>\n",
       "      <td>2</td>\n",
       "    </tr>\n",
       "    <tr>\n",
       "      <th>2</th>\n",
       "      <td>232979603</td>\n",
       "      <td>2</td>\n",
       "    </tr>\n",
       "    <tr>\n",
       "      <th>3</th>\n",
       "      <td>237748145</td>\n",
       "      <td>2</td>\n",
       "    </tr>\n",
       "    <tr>\n",
       "      <th>4</th>\n",
       "      <td>276558944</td>\n",
       "      <td>2</td>\n",
       "    </tr>\n",
       "  </tbody>\n",
       "</table>\n",
       "</div>"
      ],
      "text/plain": [
       "   visitorid  group\n",
       "0    8300375      2\n",
       "1  199603092      2\n",
       "2  232979603      2\n",
       "3  237748145      2\n",
       "4  276558944      2"
      ]
     },
     "execution_count": 21,
     "metadata": {},
     "output_type": "execute_result"
    }
   ],
   "source": [
    "dubl. head()\n",
    "# проверяем"
   ]
  },
  {
   "cell_type": "code",
   "execution_count": 22,
   "metadata": {},
   "outputs": [],
   "source": [
    "orders = orders[~orders['visitorid'].isin(dubl['visitorid'])]\n",
    "# удаляем пользователей, которые попали в обе группы."
   ]
  },
  {
   "cell_type": "code",
   "execution_count": 23,
   "metadata": {},
   "outputs": [
    {
     "data": {
      "text/plain": [
       "group    0\n",
       "dtype: int64"
      ]
     },
     "execution_count": 23,
     "metadata": {},
     "output_type": "execute_result"
    }
   ],
   "source": [
    "orders.groupby('visitorid').agg({'group': 'nunique'}).query('group>1').count()\n",
    "# првоеряем"
   ]
  },
  {
   "cell_type": "code",
   "execution_count": 24,
   "metadata": {},
   "outputs": [
    {
     "name": "stdout",
     "output_type": "stream",
     "text": [
      "        date group  orders  buyers  revenue  visitors\n",
      "0 2019-08-01     A      23      19   142779       719\n",
      "1 2019-08-01     B      17      17    59758       713\n",
      "2 2019-08-02     A      42      36   234381      1338\n",
      "3 2019-08-02     B      40      39   221801      1294\n",
      "4 2019-08-03     A      66      60   346854      1845\n"
     ]
    }
   ],
   "source": [
    "datesGroups = orders[['date','group']].drop_duplicates()\n",
    "\n",
    "# получаем агрегированные кумулятивные по дням данные о заказах \n",
    "ordersAggregated = datesGroups.apply(lambda x: orders[np.logical_and(orders['date'] <= x['date'], orders['group'] == x['group'])].agg({'date' : 'max', 'group' : 'max', 'transactionid' : 'nunique', 'visitorid' : 'nunique', 'revenue' : 'sum'}), axis=1).sort_values(by=['date','group'])\n",
    "\n",
    "# получаем агрегированные кумулятивные по дням данные о посетителях интернет-магазина \n",
    "visitorsAggregated = datesGroups.apply(lambda x: visitors[np.logical_and(visitors['date'] <= x['date'], visitors['group'] == x['group'])].agg({'date' : 'max', 'group' : 'max', 'visitors' : 'sum'}), axis=1).sort_values(by=['date','group'])\n",
    "\n",
    "# объединяем кумулятивные данные в одной таблице и присваиваем ее столбцам понятные названия\n",
    "cumulativeData = ordersAggregated.merge(visitorsAggregated, left_on=['date', 'group'], right_on=['date', 'group'])\n",
    "cumulativeData.columns = ['date', 'group', 'orders', 'buyers', 'revenue', 'visitors']\n",
    "\n",
    "print(cumulativeData.head(5))"
   ]
  },
  {
   "cell_type": "code",
   "execution_count": 25,
   "metadata": {},
   "outputs": [
    {
     "data": {
      "image/png": "[encoded data removed]",
      "text/plain": [
       "<Figure size 1440x576 with 1 Axes>"
      ]
     },
     "metadata": {
      "needs_background": "light"
     },
     "output_type": "display_data"
    }
   ],
   "source": [
    "plt.figure(figsize=(20, 8))\n",
    "cumulativeRevenueA = cumulativeData[cumulativeData['group']=='A'][['date','revenue', 'orders']]\n",
    "cumulativeRevenueB = cumulativeData[cumulativeData['group']=='B'][['date','revenue', 'orders']]\n",
    "\n",
    "plt.plot(cumulativeRevenueA['date'], cumulativeRevenueA['revenue'], label='A')\n",
    "plt.plot(cumulativeRevenueB['date'], cumulativeRevenueB['revenue'], label='B')\n",
    "\n",
    "plt.grid()\n",
    "plt.ylabel('Выручка')\n",
    "plt.xlabel('Даты')\n",
    "plt.title('График кумулятивной выручки')\n",
    "plt.legend()\n",
    "plt.xticks(rotation=90)\n",
    "plt.show()\n"
   ]
  },
  {
   "cell_type": "markdown",
   "metadata": {},
   "source": [
    "Вывод. Группа А практически на всем протяжени отстает от групппы В. В середине теста произошло событие, приведшиее к еще большему отрыву группы В от А"
   ]
  },
  {
   "cell_type": "markdown",
   "metadata": {},
   "source": [
    "#### Построим график кумулятивного среднего чека по группам. Сделаем выводы и предположения."
   ]
  },
  {
   "cell_type": "code",
   "execution_count": 26,
   "metadata": {},
   "outputs": [
    {
     "data": {
      "image/png": "[encoded data removed]",
      "text/plain": [
       "<Figure size 1440x576 with 1 Axes>"
      ]
     },
     "metadata": {
      "needs_background": "light"
     },
     "output_type": "display_data"
    }
   ],
   "source": [
    "plt.figure(figsize=(20, 8))\n",
    "plt.plot(cumulativeRevenueA['date'], cumulativeRevenueA['revenue']/cumulativeRevenueA['orders'], label='A')\n",
    "plt.plot(cumulativeRevenueB['date'], cumulativeRevenueB['revenue']/cumulativeRevenueB['orders'], label='B')\n",
    "plt.grid()\n",
    "plt.ylabel('Средний чек')\n",
    "plt.xlabel('Даты')\n",
    "plt.title('График среднего чека')\n",
    "plt.legend() \n",
    "plt.show()"
   ]
  },
  {
   "cell_type": "markdown",
   "metadata": {},
   "source": [
    "Вывод. В середине теста у группы В резкий рост - это скорее всего связано с аномальным выбросом, либо резкое увеличение числа заказов, либо какая-то дорогостоящая покупка."
   ]
  },
  {
   "cell_type": "markdown",
   "metadata": {},
   "source": [
    "#### Построим график относительного изменения кумулятивного среднего чека группы B к группе A. Сделаем выводы и предположения."
   ]
  },
  {
   "cell_type": "code",
   "execution_count": 27,
   "metadata": {},
   "outputs": [
    {
     "data": {
      "image/png": "[encoded data removed]",
      "text/plain": [
       "<Figure size 1440x576 with 1 Axes>"
      ]
     },
     "metadata": {
      "needs_background": "light"
     },
     "output_type": "display_data"
    }
   ],
   "source": [
    "mergedCumulativeRevenue = cumulativeRevenueA.merge(cumulativeRevenueB, left_on='date', right_on='date', how='left', suffixes=['A', 'B'])\n",
    "plt.figure(figsize=(20, 8))\n",
    "plt.plot(mergedCumulativeRevenue['date'], (mergedCumulativeRevenue['revenueB']/mergedCumulativeRevenue['ordersB'])/(mergedCumulativeRevenue['revenueA']/mergedCumulativeRevenue['ordersA'])-1)\n",
    "plt.grid()\n",
    "plt.ylabel('Изменение чека')\n",
    "plt.xlabel('Даты')\n",
    "plt.title('График относительного различия кумулятивного среднего чека группы B к группе A')\n",
    "plt.axhline(y=0, color='green', linestyle='--') \n",
    "plt.show()"
   ]
  },
  {
   "cell_type": "markdown",
   "metadata": {},
   "source": [
    "Вывод. Видны резкие взлеты и падения на графике. Моменты резкого роста, по всей видимости это аномальный заказ"
   ]
  },
  {
   "cell_type": "markdown",
   "metadata": {},
   "source": [
    "#### Построим график кумулятивного среднего количества заказов на посетителя по группам. Сделаем выводы и предположения."
   ]
  },
  {
   "cell_type": "code",
   "execution_count": 28,
   "metadata": {},
   "outputs": [
    {
     "data": {
      "image/png": "[encoded data removed]",
      "text/plain": [
       "<Figure size 1440x576 with 1 Axes>"
      ]
     },
     "metadata": {
      "needs_background": "light"
     },
     "output_type": "display_data"
    }
   ],
   "source": [
    "cumulativeData['conversion'] = cumulativeData['orders']/cumulativeData['visitors']\n",
    "cumulativeDataA = cumulativeData[cumulativeData['group']=='A']\n",
    "cumulativeDataB = cumulativeData[cumulativeData['group']=='B']\n",
    "plt.figure(figsize=(20, 8))\n",
    "plt.plot(cumulativeDataA['date'], cumulativeDataA['conversion'], label='A')\n",
    "plt.plot(cumulativeDataB['date'], cumulativeDataB['conversion'], label='B')\n",
    "plt.grid()\n",
    "plt.ylabel('Среднее заказов')\n",
    "plt.xlabel('Даты')\n",
    "plt.title('График кумулятивного среднего количества заказов на посетителя по группам.')\n",
    "plt.legend()\n",
    "plt.axis([dt.datetime(2019, 8, 1), dt.datetime(2019, 8, 31), 0, 0.05])\n",
    "plt.show()"
   ]
  },
  {
   "cell_type": "markdown",
   "metadata": {},
   "source": [
    "В первые дни были скачки, но в дальнейшем все стабилизировалось. Группа В лидирует на протяжении всего времени"
   ]
  },
  {
   "cell_type": "markdown",
   "metadata": {},
   "source": [
    "#### Построим график относительного изменения кумулятивного среднего количества заказов на посетителя группы B к группе A. Сделаем выводы и предположения."
   ]
  },
  {
   "cell_type": "code",
   "execution_count": 29,
   "metadata": {},
   "outputs": [
    {
     "data": {
      "image/png": "[encoded data removed]",
      "text/plain": [
       "<Figure size 1440x576 with 1 Axes>"
      ]
     },
     "metadata": {
      "needs_background": "light"
     },
     "output_type": "display_data"
    }
   ],
   "source": [
    "mergedCumulativeConversions = cumulativeDataA[['date','conversion']].merge(cumulativeDataB[['date','conversion']], left_on='date', right_on='date', how='left', suffixes=['A', 'B'])\n",
    "plt.figure(figsize=(20, 8))\n",
    "plt.plot(mergedCumulativeConversions['date'], mergedCumulativeConversions['conversionB']/mergedCumulativeConversions['conversionA']-1, label=\"Относ. прирост кум. ср. кол-ва заказов на посетителя гр. B относ. гр. A\")\n",
    "plt.grid()\n",
    "plt.ylabel('Относит. изменение Среднего кол-ва заказов')\n",
    "plt.xlabel('Даты')\n",
    "plt.title('График относительного изменения кумулятивного среднего количества заказов на посетителя группы B к группе A.')\n",
    "plt.legend()\n",
    "\n",
    "\n",
    "plt.axhline(y=0, color='black', linestyle='--')\n",
    "plt.axhline(y=0.2, color='green', linestyle='--')\n",
    "plt.axis([dt.datetime(2019, 8, 1), dt.datetime(2019, 8, 31), -0.5, 0.5])\n",
    "plt.show()"
   ]
  },
  {
   "cell_type": "markdown",
   "metadata": {},
   "source": [
    "Вывод. У гр. В в среднем заказаов больше, чем у гр. А., этот показатель периодически доходит до 20%"
   ]
  },
  {
   "cell_type": "markdown",
   "metadata": {},
   "source": [
    "#### Построим точечный график количества заказов по пользователям. Сделаем выводы и предположения."
   ]
  },
  {
   "cell_type": "code",
   "execution_count": 30,
   "metadata": {},
   "outputs": [
    {
     "data": {
      "image/png": "[encoded data removed]",
      "text/plain": [
       "<Figure size 1440x576 with 1 Axes>"
      ]
     },
     "metadata": {
      "needs_background": "light"
     },
     "output_type": "display_data"
    }
   ],
   "source": [
    "ordersByUsers = (\n",
    "    orders.groupby('visitorid', as_index=False)\n",
    "    .agg({'transactionid': 'nunique'})\n",
    ")\n",
    "ordersByUsers.columns = ['userid', 'orders']\n",
    "plt.figure(figsize=(20, 8))\n",
    "plt.grid()\n",
    "plt.ylabel('Кол-во заказов')\n",
    "plt.xlabel('Кол-во пользователей')\n",
    "plt.title('График  количества заказов по пользователям')\n",
    "\n",
    "\n",
    "# серия из чисел от 0 до количества наблюдений в ordersByUsers\n",
    "x_values = pd.Series(range(0, len(ordersByUsers)))\n",
    "plt.scatter(x_values, ordersByUsers['orders'])\n",
    "plt.show()"
   ]
  },
  {
   "cell_type": "markdown",
   "metadata": {},
   "source": [
    "В основном у людей по одному заказу, два заказа встречаются очень редко, а 3 - совсем редко"
   ]
  },
  {
   "cell_type": "markdown",
   "metadata": {},
   "source": [
    "#### Посчитаем 95-й и 99-й перцентили количества заказов на пользователя. Выберем границу для определения аномальных пользователей."
   ]
  },
  {
   "cell_type": "code",
   "execution_count": 31,
   "metadata": {},
   "outputs": [
    {
     "name": "stdout",
     "output_type": "stream",
     "text": [
      "95-й и 99-й перцентили количества заказов на пользователя: [1. 2.]\n"
     ]
    }
   ],
   "source": [
    "print('95-й и 99-й перцентили количества заказов на пользователя:', np.percentile(ordersByUsers['orders'], [ 95, 99]))"
   ]
  },
  {
   "cell_type": "markdown",
   "metadata": {},
   "source": [
    "Вывод. Подтвердился тот факт, что 95% людей совершают по 1 заказу. 2 и более заказа совершают менее 1 %"
   ]
  },
  {
   "cell_type": "markdown",
   "metadata": {},
   "source": [
    "#### Построим точечный график стоимостей заказов. Сделаем выводы и предположения."
   ]
  },
  {
   "cell_type": "code",
   "execution_count": 32,
   "metadata": {},
   "outputs": [
    {
     "data": {
      "image/png": "[encoded data removed]",
      "text/plain": [
       "<Figure size 1440x576 with 1 Axes>"
      ]
     },
     "metadata": {
      "needs_background": "light"
     },
     "output_type": "display_data"
    }
   ],
   "source": [
    "x_values = pd.Series(range(0, len(orders['revenue'])))\n",
    "plt.figure(figsize=(20, 8))\n",
    "plt.grid()\n",
    "plt.ylabel('Стоимость заказа')\n",
    "plt.xlabel('Кол-во пользователей')\n",
    "plt.title('График  стоимостей заказов')\n",
    "plt.scatter(x_values, orders['revenue'])\n",
    "plt.show()"
   ]
  },
  {
   "cell_type": "code",
   "execution_count": 33,
   "metadata": {},
   "outputs": [
    {
     "data": {
      "text/plain": [
       "425     1294500\n",
       "1196     202740\n",
       "1136      92550\n",
       "744       86620\n",
       "743       67990\n",
       "1103      66350\n",
       "1099      65710\n",
       "949       60450\n",
       "Name: revenue, dtype: int64"
      ]
     },
     "execution_count": 33,
     "metadata": {},
     "output_type": "execute_result"
    }
   ],
   "source": [
    "orders['revenue'].sort_values(ascending = False).head(8) \n",
    "# выводим аномально дорогие заказы"
   ]
  },
  {
   "cell_type": "code",
   "execution_count": 34,
   "metadata": {},
   "outputs": [
    {
     "data": {
      "image/png": "[encoded data removed]",
      "text/plain": [
       "<Figure size 1440x576 with 1 Axes>"
      ]
     },
     "metadata": {
      "needs_background": "light"
     },
     "output_type": "display_data"
    }
   ],
   "source": [
    "bezanomal = orders[orders['revenue']<100000]['revenue']\n",
    "xx_values = pd.Series(range(0,len(bezanomal)))\n",
    "plt.figure(figsize=(20, 8))\n",
    "\n",
    "plt.grid()\n",
    "plt.ylabel('Стоимость заказа')\n",
    "plt.xlabel('Кол-во пользователей')\n",
    "plt.title('График  стоимостей заказов')\n",
    "plt.scatter(xx_values, bezanomal)\n",
    "plt.show()\n",
    "# строим график без аномальных значений"
   ]
  },
  {
   "cell_type": "markdown",
   "metadata": {},
   "source": [
    "Удалили два выбивающихся заказа на 1294500 и  202740"
   ]
  },
  {
   "cell_type": "markdown",
   "metadata": {},
   "source": [
    "#### Посчитаем 95-й и 99-й перцентили стоимости заказов. Выберем границу для определения аномальных заказов."
   ]
  },
  {
   "cell_type": "code",
   "execution_count": 35,
   "metadata": {},
   "outputs": [
    {
     "name": "stdout",
     "output_type": "stream",
     "text": [
      "95-й и 99-й перцентили стоимости заказов: [26785. 53904.]\n"
     ]
    }
   ],
   "source": [
    "print('95-й и 99-й перцентили стоимости заказов:', np.percentile(orders['revenue'], [ 95, 99]))"
   ]
  },
  {
   "cell_type": "markdown",
   "metadata": {},
   "source": [
    "У 99% заказов стоимость меньше 53904"
   ]
  },
  {
   "cell_type": "markdown",
   "metadata": {},
   "source": [
    "#### Посчитаем статистическую значимость различий в среднем количестве заказов на посетителя между группами по «сырым» данным. Сделаем выводы и предположения."
   ]
  },
  {
   "cell_type": "markdown",
   "metadata": {},
   "source": [
    "H0 - НЕТ Различий между группами всреднем количестве заказов на посетителя \n",
    "\n",
    "H1 - ЕСТЬ Различия между группами всреднем количестве заказов на посетителя"
   ]
  },
  {
   "cell_type": "code",
   "execution_count": 36,
   "metadata": {},
   "outputs": [
    {
     "name": "stdout",
     "output_type": "stream",
     "text": [
      "Значение p-value 0.01102\n",
      "Значимость различий в среднем кол-ве заказов на посетителя между группами  0.160\n"
     ]
    }
   ],
   "source": [
    "ordersByUsersA = (\n",
    "    orders[orders['group'] == 'A']\n",
    "    .groupby('visitorid', as_index=False)\n",
    "    .agg({'transactionid': pd.Series.nunique})\n",
    ")\n",
    "ordersByUsersA.columns = ['userid', 'orders']\n",
    "\n",
    "\n",
    "\n",
    "ordersByUsersB = (\n",
    "    orders[orders['group'] == 'B']\n",
    "    .groupby('visitorid', as_index=False)\n",
    "    .agg({'transactionid': pd.Series.nunique})\n",
    ")\n",
    "ordersByUsersB.columns = ['userid', 'orders'] \n",
    "\n",
    "# создали переменные\n",
    "# Далее объявим переменные sampleA и sampleB, в которых пользователям из разных групп будет соответствовать количество заказов. Тем, кто ничего не заказал, будут соответствовать нули. Это нужно, чтобы подготовить выборки к проверке критерием Манна-Уитни\n",
    "\n",
    "sampleA = pd.concat([ordersByUsersA['orders'],pd.Series(0, index=np.arange(visitors[visitors['group'] == 'A']['visitors'].sum() - len(ordersByUsersA['orders'])), name='orders')],axis=0)\n",
    "\n",
    "sampleB = pd.concat([ordersByUsersB['orders'],pd.Series(0, index=np.arange(visitors[visitors['group'] == 'B']['visitors'].sum() - len(ordersByUsersB['orders'])), name='orders')],axis=0)\n",
    "\n",
    "\n",
    "ordersByUsersA = (\n",
    "    orders[orders['group'] == 'A']\n",
    "    .groupby('visitorid', as_index=False)\n",
    "    .agg({'transactionid': pd.Series.nunique})\n",
    ")\n",
    "ordersByUsersA.columns = ['userid', 'orders']\n",
    "\n",
    "ordersByUsersB = (\n",
    "    orders[orders['group'] == 'B']\n",
    "    .groupby('visitorid', as_index=False)\n",
    "    .agg({'transactionid': pd.Series.nunique})\n",
    ")\n",
    "ordersByUsersB.columns = ['userid', 'orders']\n",
    "\n",
    "sampleA = pd.concat(\n",
    "    [\n",
    "        ordersByUsersA['orders'],\n",
    "        pd.Series(0, index=np.arange(visitors[visitors['group'] == 'A']['visitors'].sum() - len(ordersByUsersA['orders'])\n",
    "            ),\n",
    "            name='orders',\n",
    "        ),\n",
    "    ],\n",
    "    axis=0,\n",
    ")\n",
    "\n",
    "sampleB = pd.concat(\n",
    "    [\n",
    "        ordersByUsersB['orders'],\n",
    "        pd.Series(0, index=np.arange(visitors[visitors['group'] == 'B']['visitors'].sum() - len(ordersByUsersB['orders'])\n",
    "            ),\n",
    "            name='orders',\n",
    "        ),\n",
    "    ],\n",
    "    axis=0,\n",
    ")\n",
    "print(\"Значение p-value\", \"{0:.5f}\".format(stats.mannwhitneyu(sampleA, sampleB)[1]))\n",
    "\n",
    "print(\"Значимость различий в среднем кол-ве заказов на посетителя между группами \", \"{0:.3f}\".format(sampleB.mean() / sampleA.mean() - 1))"
   ]
  },
  {
   "cell_type": "markdown",
   "metadata": {},
   "source": [
    "Так как p-value меньше 0.05, значит нулевую гипотезу отвергаем"
   ]
  },
  {
   "cell_type": "markdown",
   "metadata": {},
   "source": [
    "#### Посчитаем статистическую значимость различий в среднем чеке заказа между группами по «сырым» данным. Сделаем выводы и предположения."
   ]
  },
  {
   "cell_type": "markdown",
   "metadata": {},
   "source": [
    "H0- Различий между группами нет\n",
    "H1 - Различия между группами есть"
   ]
  },
  {
   "cell_type": "code",
   "execution_count": 37,
   "metadata": {},
   "outputs": [
    {
     "name": "stdout",
     "output_type": "stream",
     "text": [
      "Значение p-value 0.829\n",
      "Значимость различий в среднем чеке заказа между группами  0.287\n"
     ]
    }
   ],
   "source": [
    "print(\"Значение p-value\", '{0:.3f}'.format(stats.mannwhitneyu(orders[orders['group']=='A']['revenue'], orders[orders['group']=='B']['revenue'])[1]))\n",
    "print(\"Значимость различий в среднем чеке заказа между группами \", '{0:.3f}'.format(orders[orders['group']=='B']['revenue'].mean()/orders[orders['group']=='A']['revenue'].mean()-1))"
   ]
  },
  {
   "cell_type": "markdown",
   "metadata": {},
   "source": [
    "Так как p-value больше 0.05, то нулевую гипотезу не отвергаем. Но наблюдаемое различие в 28.7 % не является статистически значимым по неочищенным данным"
   ]
  },
  {
   "cell_type": "markdown",
   "metadata": {},
   "source": [
    "#### Посчитаем статистическую значимость различий в среднем количестве заказов на посетителя между группами по «очищенным» данным. Сделаем выводы и предположения."
   ]
  },
  {
   "cell_type": "markdown",
   "metadata": {},
   "source": [
    "H0- Различий между группами нет\n",
    "H1 - Различия между группами есть"
   ]
  },
  {
   "cell_type": "code",
   "execution_count": 38,
   "metadata": {},
   "outputs": [],
   "source": [
    "usersWithManyOrders = pd.concat(\n",
    "    [\n",
    "        ordersByUsersA[ordersByUsersA['orders'] > 2]['userid'],\n",
    "        ordersByUsersB[ordersByUsersB['orders'] > 2]['userid'],\n",
    "    ],\n",
    "    axis=0,\n",
    ")\n",
    "usersWithExpensiveOrders = orders[orders['revenue'] > 53904]['visitorid']\n",
    "abnormalUsers = (\n",
    "    pd.concat([usersWithManyOrders, usersWithExpensiveOrders], axis=0)\n",
    "    .drop_duplicates()\n",
    "    .sort_values()\n",
    ")\n",
    "# аномалии свыше 2-х заказов и дороже 53904"
   ]
  },
  {
   "cell_type": "code",
   "execution_count": 39,
   "metadata": {},
   "outputs": [
    {
     "name": "stdout",
     "output_type": "stream",
     "text": [
      "Значение p-value 0.00702\n",
      "Значимость различий в среднем кол-ве заказов на посетителя между группами по очищенным данным  0.189\n"
     ]
    }
   ],
   "source": [
    "sampleAFiltered = pd.concat(\n",
    "    [\n",
    "        ordersByUsersA[\n",
    "            np.logical_not(ordersByUsersA['userid'].isin(abnormalUsers))\n",
    "        ]['orders'],\n",
    "        pd.Series(\n",
    "            0,\n",
    "            index=np.arange(\n",
    "                visitors[visitors['group'] == 'A']['visitors'].sum() - len(ordersByUsersA['orders'])\n",
    "            ),\n",
    "            name='orders',\n",
    "        ),\n",
    "    ],\n",
    "    axis=0,\n",
    ")\n",
    "\n",
    "sampleBFiltered = pd.concat(\n",
    "    [\n",
    "        ordersByUsersB[\n",
    "            np.logical_not(ordersByUsersB['userid'].isin(abnormalUsers))\n",
    "        ]['orders'],\n",
    "        pd.Series(\n",
    "            0,\n",
    "            index=np.arange(\n",
    "                visitors[visitors['group'] == 'B']['visitors'].sum() - len(ordersByUsersB['orders'])\n",
    "            ),\n",
    "            name='orders',\n",
    "        ),\n",
    "    ],\n",
    "    axis=0,\n",
    ")\n",
    "\n",
    "\n",
    "print(\"Значение p-value\", '{0:.5f}'.format(stats.mannwhitneyu(sampleAFiltered, sampleBFiltered)[1]))\n",
    "print(\"Значимость различий в среднем кол-ве заказов на посетителя между группами по очищенным данным \",'{0:.3f}'.format(sampleBFiltered.mean()/sampleAFiltered.mean()-1))"
   ]
  },
  {
   "cell_type": "markdown",
   "metadata": {},
   "source": [
    "Так как p-value меньше, чем 0.05, то нулевую гипотезу отвергаем"
   ]
  },
  {
   "cell_type": "markdown",
   "metadata": {},
   "source": [
    "#### Посчитаем статистическую значимость различий в среднем чеке заказа между группами по «очищенным» данным. Сделаем выводы и предположения."
   ]
  },
  {
   "cell_type": "markdown",
   "metadata": {},
   "source": [
    "H0- Различий между группами нет\n",
    "H1 - Различия между группами есть"
   ]
  },
  {
   "cell_type": "code",
   "execution_count": 40,
   "metadata": {},
   "outputs": [
    {
     "name": "stdout",
     "output_type": "stream",
     "text": [
      "Значение p-value 0.788\n",
      "Значимость различий в среднем чеке заказа между группами после удаления аномалий -0.032\n"
     ]
    }
   ],
   "source": [
    "print(\"Значение p-value\",\n",
    "    '{0:.3f}'.format(\n",
    "        stats.mannwhitneyu(\n",
    "            orders[\n",
    "                np.logical_and(\n",
    "                    orders['group'] == 'A',\n",
    "                    np.logical_not(orders['visitorid'].isin(abnormalUsers)),\n",
    "                )\n",
    "            ]['revenue'],\n",
    "            orders[\n",
    "                np.logical_and(\n",
    "                    orders['group'] == 'B',\n",
    "                    np.logical_not(orders['visitorid'].isin(abnormalUsers)),\n",
    "                )\n",
    "            ]['revenue'],\n",
    "        )[1]\n",
    "    )\n",
    ")\n",
    "\n",
    "print(\"Значимость различий в среднем чеке заказа между группами после удаления аномалий\",\n",
    "    \"{0:.3f}\".format(\n",
    "        orders[\n",
    "            np.logical_and(\n",
    "                orders['group'] == 'B',\n",
    "                np.logical_not(orders['visitorid'].isin(abnormalUsers)),\n",
    "            )\n",
    "        ]['revenue'].mean()\n",
    "        / orders[\n",
    "            np.logical_and(\n",
    "                orders['group'] == 'A',\n",
    "                np.logical_not(orders['visitorid'].isin(abnormalUsers)),\n",
    "            )\n",
    "        ]['revenue'].mean()\n",
    "        - 1\n",
    "    )\n",
    ")"
   ]
  },
  {
   "cell_type": "markdown",
   "metadata": {},
   "source": [
    "Так как p-value больше 0.05, то нулевую гипотезу не отвергаем. По разнице средних чеков групп по очищенным данным, различий практически нет, всего на  3 % группа В меньше. В сырых данных были различия больше из-за нескольких аномлно дорогих покупок"
   ]
  },
  {
   "cell_type": "markdown",
   "metadata": {},
   "source": [
    "#### Примем решение по результатам теста и объясним его. Варианты решений:\n",
    "1. Остановить тест, зафиксировать победу одной из групп.\n",
    "2. Остановить тест, зафиксировать отсутствие различий между группами.\n",
    "3. Продолжить тест."
   ]
  },
  {
   "cell_type": "markdown",
   "metadata": {},
   "source": [
    "#### Вывод"
   ]
  },
  {
   "cell_type": "markdown",
   "metadata": {},
   "source": [
    "Считаю, что необходимо остановить тест и зафиксировать победу группы В. Потому что по всем результатам группа В впереди. Как по сырым данным, также и по очищенным. Если сравнивать средний чек, то разница между группами несущественна"
   ]
  }
 ],
 "metadata": {
  "ExecuteTimeLog": [
   {
    "duration": 413,
    "start_time": "2024-02-25T12:59:11.853Z"
   },
   {
    "duration": 75,
    "start_time": "2024-02-25T12:59:12.726Z"
   },
   {
    "duration": 58,
    "start_time": "2024-02-25T12:59:13.251Z"
   },
   {
    "duration": 6,
    "start_time": "2024-02-25T12:59:21.656Z"
   },
   {
    "duration": 61,
    "start_time": "2024-02-25T12:59:28.458Z"
   },
   {
    "duration": 15,
    "start_time": "2024-02-25T12:59:29.393Z"
   },
   {
    "duration": 1380,
    "start_time": "2024-02-26T10:32:39.100Z"
   },
   {
    "duration": 78,
    "start_time": "2024-02-26T10:32:41.546Z"
   },
   {
    "duration": 10,
    "start_time": "2024-02-26T10:32:42.400Z"
   },
   {
    "duration": 26,
    "start_time": "2024-02-26T10:47:38.626Z"
   },
   {
    "duration": 8,
    "start_time": "2024-02-26T10:47:39.341Z"
   },
   {
    "duration": 3,
    "start_time": "2024-02-26T10:49:56.968Z"
   },
   {
    "duration": 146,
    "start_time": "2024-02-26T10:49:57.584Z"
   },
   {
    "duration": 7,
    "start_time": "2024-02-26T10:49:58.603Z"
   },
   {
    "duration": 12,
    "start_time": "2024-02-26T10:49:59.702Z"
   },
   {
    "duration": 13,
    "start_time": "2024-02-26T10:50:00.519Z"
   },
   {
    "duration": 10,
    "start_time": "2024-02-26T10:51:22.913Z"
   },
   {
    "duration": 7,
    "start_time": "2024-02-26T10:51:39.766Z"
   },
   {
    "duration": 10,
    "start_time": "2024-02-26T10:51:41.051Z"
   },
   {
    "duration": 10,
    "start_time": "2024-02-26T10:52:03.008Z"
   },
   {
    "duration": 10,
    "start_time": "2024-02-26T10:52:23.198Z"
   },
   {
    "duration": 6,
    "start_time": "2024-02-26T10:55:44.494Z"
   },
   {
    "duration": 7,
    "start_time": "2024-02-26T10:55:57.229Z"
   },
   {
    "duration": 4,
    "start_time": "2024-02-26T10:57:05.002Z"
   },
   {
    "duration": 8,
    "start_time": "2024-02-26T10:57:11.470Z"
   },
   {
    "duration": 3,
    "start_time": "2024-02-26T10:57:42.847Z"
   },
   {
    "duration": 8,
    "start_time": "2024-02-26T10:57:43.536Z"
   },
   {
    "duration": 3,
    "start_time": "2024-02-26T10:59:46.668Z"
   },
   {
    "duration": 10,
    "start_time": "2024-02-26T10:59:47.552Z"
   },
   {
    "duration": 95,
    "start_time": "2024-02-26T11:55:32.734Z"
   },
   {
    "duration": 6,
    "start_time": "2024-02-26T11:55:46.596Z"
   },
   {
    "duration": 3,
    "start_time": "2024-02-26T11:57:34.367Z"
   },
   {
    "duration": 7,
    "start_time": "2024-02-26T11:57:36.071Z"
   },
   {
    "duration": 6,
    "start_time": "2024-02-26T11:57:37.511Z"
   },
   {
    "duration": 3,
    "start_time": "2024-02-26T12:40:40.613Z"
   },
   {
    "duration": 73,
    "start_time": "2024-02-26T12:40:41.978Z"
   },
   {
    "duration": 8,
    "start_time": "2024-02-26T12:40:42.829Z"
   },
   {
    "duration": 12,
    "start_time": "2024-02-26T12:40:43.229Z"
   },
   {
    "duration": 8,
    "start_time": "2024-02-26T12:40:43.673Z"
   },
   {
    "duration": 10,
    "start_time": "2024-02-26T12:40:44.068Z"
   },
   {
    "duration": 15,
    "start_time": "2024-02-26T12:40:44.429Z"
   },
   {
    "duration": 10,
    "start_time": "2024-02-26T12:40:44.864Z"
   },
   {
    "duration": 7,
    "start_time": "2024-02-26T12:40:45.246Z"
   },
   {
    "duration": 5,
    "start_time": "2024-02-26T12:40:45.463Z"
   },
   {
    "duration": 3,
    "start_time": "2024-02-26T12:40:45.771Z"
   },
   {
    "duration": 6,
    "start_time": "2024-02-26T12:40:45.946Z"
   },
   {
    "duration": 5,
    "start_time": "2024-02-26T12:40:46.196Z"
   },
   {
    "duration": 9,
    "start_time": "2024-02-26T12:40:47.016Z"
   },
   {
    "duration": 5,
    "start_time": "2024-02-26T12:40:47.540Z"
   },
   {
    "duration": 5,
    "start_time": "2024-02-26T12:40:48.917Z"
   },
   {
    "duration": 6,
    "start_time": "2024-02-26T12:40:49.448Z"
   },
   {
    "duration": 72,
    "start_time": "2024-02-26T12:42:11.230Z"
   },
   {
    "duration": 17,
    "start_time": "2024-02-26T12:42:11.806Z"
   },
   {
    "duration": 10,
    "start_time": "2024-02-26T12:45:24.360Z"
   },
   {
    "duration": 5,
    "start_time": "2024-02-26T12:45:45.906Z"
   },
   {
    "duration": 5,
    "start_time": "2024-02-26T12:45:47.102Z"
   },
   {
    "duration": 5,
    "start_time": "2024-02-26T12:45:47.372Z"
   },
   {
    "duration": 6,
    "start_time": "2024-02-26T12:45:47.757Z"
   },
   {
    "duration": 9,
    "start_time": "2024-02-26T12:45:47.957Z"
   },
   {
    "duration": 9,
    "start_time": "2024-02-26T12:45:49.464Z"
   },
   {
    "duration": 16,
    "start_time": "2024-02-26T12:45:49.614Z"
   },
   {
    "duration": 3,
    "start_time": "2024-02-26T12:46:07.747Z"
   },
   {
    "duration": 15,
    "start_time": "2024-02-26T12:46:11.647Z"
   },
   {
    "duration": 3,
    "start_time": "2024-02-26T12:46:30.296Z"
   },
   {
    "duration": 138,
    "start_time": "2024-02-26T12:46:30.301Z"
   },
   {
    "duration": 65,
    "start_time": "2024-02-26T12:46:30.441Z"
   },
   {
    "duration": 115,
    "start_time": "2024-02-26T12:46:30.507Z"
   },
   {
    "duration": 141,
    "start_time": "2024-02-26T12:46:30.624Z"
   },
   {
    "duration": 43,
    "start_time": "2024-02-26T12:46:30.767Z"
   },
   {
    "duration": 93,
    "start_time": "2024-02-26T12:46:30.811Z"
   },
   {
    "duration": 66,
    "start_time": "2024-02-26T12:46:30.906Z"
   },
   {
    "duration": 51,
    "start_time": "2024-02-26T12:46:30.974Z"
   },
   {
    "duration": 68,
    "start_time": "2024-02-26T12:46:31.027Z"
   },
   {
    "duration": 102,
    "start_time": "2024-02-26T12:46:31.096Z"
   },
   {
    "duration": 58,
    "start_time": "2024-02-26T12:46:31.199Z"
   },
   {
    "duration": 63,
    "start_time": "2024-02-26T12:46:31.258Z"
   },
   {
    "duration": 38,
    "start_time": "2024-02-26T12:46:31.323Z"
   },
   {
    "duration": 77,
    "start_time": "2024-02-26T12:46:31.363Z"
   },
   {
    "duration": 169,
    "start_time": "2024-02-26T12:46:31.442Z"
   },
   {
    "duration": 2,
    "start_time": "2024-02-26T12:49:38.442Z"
   },
   {
    "duration": 2,
    "start_time": "2024-02-26T12:50:00.669Z"
   },
   {
    "duration": 37,
    "start_time": "2024-02-26T13:11:59.033Z"
   },
   {
    "duration": 13,
    "start_time": "2024-02-26T13:15:54.435Z"
   },
   {
    "duration": 10,
    "start_time": "2024-02-26T13:21:11.770Z"
   },
   {
    "duration": 5,
    "start_time": "2024-02-26T13:21:26.831Z"
   },
   {
    "duration": 2,
    "start_time": "2024-02-26T13:23:17.642Z"
   },
   {
    "duration": 4,
    "start_time": "2024-02-26T13:23:18.501Z"
   },
   {
    "duration": 2,
    "start_time": "2024-02-26T13:24:17.745Z"
   },
   {
    "duration": 21,
    "start_time": "2024-02-26T13:24:18.794Z"
   },
   {
    "duration": 10,
    "start_time": "2024-02-26T13:24:24.230Z"
   },
   {
    "duration": 10,
    "start_time": "2024-02-26T13:24:29.466Z"
   },
   {
    "duration": 10,
    "start_time": "2024-02-26T13:26:52.933Z"
   },
   {
    "duration": 8,
    "start_time": "2024-02-26T13:28:42.508Z"
   },
   {
    "duration": 10,
    "start_time": "2024-02-26T14:23:21.116Z"
   },
   {
    "duration": 8,
    "start_time": "2024-02-26T14:27:47.703Z"
   },
   {
    "duration": 10,
    "start_time": "2024-02-26T15:36:44.286Z"
   },
   {
    "duration": 5,
    "start_time": "2024-02-26T15:36:55.022Z"
   },
   {
    "duration": 5,
    "start_time": "2024-02-26T15:37:12.269Z"
   },
   {
    "duration": 6,
    "start_time": "2024-02-26T15:37:19.147Z"
   },
   {
    "duration": 5,
    "start_time": "2024-02-26T15:37:29.116Z"
   },
   {
    "duration": 6,
    "start_time": "2024-02-26T15:37:31.996Z"
   },
   {
    "duration": 5,
    "start_time": "2024-02-26T15:38:31.387Z"
   },
   {
    "duration": 5,
    "start_time": "2024-02-26T15:39:11.610Z"
   },
   {
    "duration": 4,
    "start_time": "2024-02-26T15:49:19.507Z"
   },
   {
    "duration": 10,
    "start_time": "2024-02-26T15:49:27.759Z"
   },
   {
    "duration": 2,
    "start_time": "2024-02-26T16:37:35.579Z"
   },
   {
    "duration": 74,
    "start_time": "2024-02-26T16:37:35.583Z"
   },
   {
    "duration": 15,
    "start_time": "2024-02-26T16:37:35.659Z"
   },
   {
    "duration": 9,
    "start_time": "2024-02-26T16:37:35.676Z"
   },
   {
    "duration": 18,
    "start_time": "2024-02-26T16:37:35.688Z"
   },
   {
    "duration": 33,
    "start_time": "2024-02-26T16:37:35.708Z"
   },
   {
    "duration": 6,
    "start_time": "2024-02-26T16:37:35.743Z"
   },
   {
    "duration": 4,
    "start_time": "2024-02-26T16:37:35.751Z"
   },
   {
    "duration": 4,
    "start_time": "2024-02-26T16:37:35.757Z"
   },
   {
    "duration": 8,
    "start_time": "2024-02-26T16:37:35.762Z"
   },
   {
    "duration": 10,
    "start_time": "2024-02-26T16:37:35.771Z"
   },
   {
    "duration": 5,
    "start_time": "2024-02-26T16:37:35.782Z"
   },
   {
    "duration": 7,
    "start_time": "2024-02-26T16:37:35.788Z"
   },
   {
    "duration": 9,
    "start_time": "2024-02-26T16:37:35.797Z"
   },
   {
    "duration": 11,
    "start_time": "2024-02-26T16:37:35.808Z"
   },
   {
    "duration": 3,
    "start_time": "2024-02-26T16:37:35.820Z"
   },
   {
    "duration": 19,
    "start_time": "2024-02-26T16:37:35.825Z"
   },
   {
    "duration": 9,
    "start_time": "2024-02-26T16:37:35.845Z"
   },
   {
    "duration": 35,
    "start_time": "2024-02-26T16:37:35.856Z"
   },
   {
    "duration": 33,
    "start_time": "2024-02-26T16:37:35.893Z"
   },
   {
    "duration": 10,
    "start_time": "2024-02-26T16:37:35.928Z"
   },
   {
    "duration": 9,
    "start_time": "2024-02-26T16:37:35.939Z"
   },
   {
    "duration": 3,
    "start_time": "2024-02-26T16:37:57.886Z"
   },
   {
    "duration": 86,
    "start_time": "2024-02-26T16:37:57.891Z"
   },
   {
    "duration": 16,
    "start_time": "2024-02-26T16:37:57.979Z"
   },
   {
    "duration": 10,
    "start_time": "2024-02-26T16:37:57.996Z"
   },
   {
    "duration": 25,
    "start_time": "2024-02-26T16:37:58.008Z"
   },
   {
    "duration": 37,
    "start_time": "2024-02-26T16:37:58.034Z"
   },
   {
    "duration": 10,
    "start_time": "2024-02-26T16:37:58.072Z"
   },
   {
    "duration": 7,
    "start_time": "2024-02-26T16:37:58.084Z"
   },
   {
    "duration": 5,
    "start_time": "2024-02-26T16:37:58.092Z"
   },
   {
    "duration": 7,
    "start_time": "2024-02-26T16:37:58.098Z"
   },
   {
    "duration": 20,
    "start_time": "2024-02-26T16:37:58.107Z"
   },
   {
    "duration": 14,
    "start_time": "2024-02-26T16:37:58.128Z"
   },
   {
    "duration": 16,
    "start_time": "2024-02-26T16:37:58.144Z"
   },
   {
    "duration": 12,
    "start_time": "2024-02-26T16:37:58.162Z"
   },
   {
    "duration": 15,
    "start_time": "2024-02-26T16:37:58.175Z"
   },
   {
    "duration": 4,
    "start_time": "2024-02-26T16:37:58.192Z"
   },
   {
    "duration": 18,
    "start_time": "2024-02-26T16:37:58.198Z"
   },
   {
    "duration": 10,
    "start_time": "2024-02-26T16:37:58.217Z"
   },
   {
    "duration": 16,
    "start_time": "2024-02-26T16:37:58.229Z"
   },
   {
    "duration": 16,
    "start_time": "2024-02-26T16:37:58.246Z"
   },
   {
    "duration": 15,
    "start_time": "2024-02-26T16:37:58.263Z"
   },
   {
    "duration": 11,
    "start_time": "2024-02-26T16:37:58.280Z"
   },
   {
    "duration": 7,
    "start_time": "2024-02-26T16:38:19.523Z"
   },
   {
    "duration": 8,
    "start_time": "2024-02-26T16:38:20.021Z"
   },
   {
    "duration": 1338,
    "start_time": "2024-02-27T08:16:49.144Z"
   },
   {
    "duration": 202,
    "start_time": "2024-02-27T08:16:50.484Z"
   },
   {
    "duration": 21,
    "start_time": "2024-02-27T08:16:50.688Z"
   },
   {
    "duration": 11,
    "start_time": "2024-02-27T08:16:52.095Z"
   },
   {
    "duration": 10,
    "start_time": "2024-02-27T08:16:52.618Z"
   },
   {
    "duration": 9,
    "start_time": "2024-02-27T08:16:53.143Z"
   },
   {
    "duration": 5,
    "start_time": "2024-02-27T08:16:53.536Z"
   },
   {
    "duration": 6,
    "start_time": "2024-02-27T08:16:53.738Z"
   },
   {
    "duration": 4,
    "start_time": "2024-02-27T08:16:54.194Z"
   },
   {
    "duration": 6,
    "start_time": "2024-02-27T08:16:54.288Z"
   },
   {
    "duration": 7,
    "start_time": "2024-02-27T08:16:54.585Z"
   },
   {
    "duration": 5,
    "start_time": "2024-02-27T08:16:54.771Z"
   },
   {
    "duration": 6,
    "start_time": "2024-02-27T08:16:55.240Z"
   },
   {
    "duration": 11,
    "start_time": "2024-02-27T08:16:55.291Z"
   },
   {
    "duration": 10,
    "start_time": "2024-02-27T08:16:55.539Z"
   },
   {
    "duration": 3,
    "start_time": "2024-02-27T08:16:55.772Z"
   },
   {
    "duration": 17,
    "start_time": "2024-02-27T08:16:56.038Z"
   },
   {
    "duration": 12,
    "start_time": "2024-02-27T08:16:58.058Z"
   },
   {
    "duration": 11,
    "start_time": "2024-02-27T08:17:03.104Z"
   },
   {
    "duration": 5,
    "start_time": "2024-02-27T08:17:21.713Z"
   },
   {
    "duration": 10,
    "start_time": "2024-02-27T08:17:22.503Z"
   },
   {
    "duration": 9,
    "start_time": "2024-02-27T08:17:46.154Z"
   },
   {
    "duration": 9,
    "start_time": "2024-02-27T08:17:47.372Z"
   },
   {
    "duration": 7,
    "start_time": "2024-02-27T08:40:40.416Z"
   },
   {
    "duration": 8,
    "start_time": "2024-02-27T08:40:44.700Z"
   },
   {
    "duration": 7,
    "start_time": "2024-02-27T08:43:31.153Z"
   },
   {
    "duration": 8,
    "start_time": "2024-02-27T08:43:35.036Z"
   },
   {
    "duration": 4,
    "start_time": "2024-02-27T08:43:36.398Z"
   },
   {
    "duration": 9,
    "start_time": "2024-02-27T08:43:53.959Z"
   },
   {
    "duration": 7,
    "start_time": "2024-02-27T08:45:58.164Z"
   },
   {
    "duration": 8,
    "start_time": "2024-02-27T08:47:58.170Z"
   },
   {
    "duration": 13,
    "start_time": "2024-02-27T08:48:30.229Z"
   },
   {
    "duration": 11,
    "start_time": "2024-02-27T08:48:41.003Z"
   },
   {
    "duration": 6,
    "start_time": "2024-02-27T08:48:41.548Z"
   },
   {
    "duration": 4,
    "start_time": "2024-02-27T08:48:42.248Z"
   },
   {
    "duration": 12,
    "start_time": "2024-02-27T08:48:43.215Z"
   },
   {
    "duration": 108,
    "start_time": "2024-02-27T08:51:09.380Z"
   },
   {
    "duration": 9,
    "start_time": "2024-02-27T08:51:21.437Z"
   },
   {
    "duration": 8,
    "start_time": "2024-02-27T08:53:17.056Z"
   },
   {
    "duration": 1864,
    "start_time": "2024-02-27T08:53:28.059Z"
   },
   {
    "duration": 2022,
    "start_time": "2024-02-27T08:54:28.831Z"
   },
   {
    "duration": 6,
    "start_time": "2024-02-27T08:54:36.115Z"
   },
   {
    "duration": 10,
    "start_time": "2024-02-27T08:54:37.765Z"
   },
   {
    "duration": 7,
    "start_time": "2024-02-27T08:54:39.700Z"
   },
   {
    "duration": 6,
    "start_time": "2024-02-27T08:54:40.700Z"
   },
   {
    "duration": 1632,
    "start_time": "2024-02-27T08:54:43.290Z"
   },
   {
    "duration": 4,
    "start_time": "2024-02-27T08:54:48.285Z"
   },
   {
    "duration": 10,
    "start_time": "2024-02-27T08:54:51.024Z"
   },
   {
    "duration": 8,
    "start_time": "2024-02-27T08:55:33.868Z"
   },
   {
    "duration": 7,
    "start_time": "2024-02-27T08:55:34.751Z"
   },
   {
    "duration": 4,
    "start_time": "2024-02-27T08:55:35.851Z"
   },
   {
    "duration": 11,
    "start_time": "2024-02-27T08:55:42.653Z"
   },
   {
    "duration": 8,
    "start_time": "2024-02-27T08:56:26.575Z"
   },
   {
    "duration": 6,
    "start_time": "2024-02-27T08:56:27.318Z"
   },
   {
    "duration": 5,
    "start_time": "2024-02-27T08:56:29.621Z"
   },
   {
    "duration": 9,
    "start_time": "2024-02-27T08:56:34.037Z"
   },
   {
    "duration": 6,
    "start_time": "2024-02-27T08:57:15.037Z"
   },
   {
    "duration": 9,
    "start_time": "2024-02-27T08:57:16.905Z"
   },
   {
    "duration": 8,
    "start_time": "2024-02-27T08:57:22.835Z"
   },
   {
    "duration": 6,
    "start_time": "2024-02-27T08:57:23.353Z"
   },
   {
    "duration": 5,
    "start_time": "2024-02-27T08:57:24.967Z"
   },
   {
    "duration": 10,
    "start_time": "2024-02-27T08:57:25.387Z"
   },
   {
    "duration": 3,
    "start_time": "2024-02-27T08:57:31.456Z"
   },
   {
    "duration": 78,
    "start_time": "2024-02-27T08:57:31.743Z"
   },
   {
    "duration": 17,
    "start_time": "2024-02-27T08:57:32.112Z"
   },
   {
    "duration": 11,
    "start_time": "2024-02-27T08:57:32.239Z"
   },
   {
    "duration": 10,
    "start_time": "2024-02-27T08:57:32.503Z"
   },
   {
    "duration": 10,
    "start_time": "2024-02-27T08:57:32.739Z"
   },
   {
    "duration": 6,
    "start_time": "2024-02-27T08:57:33.161Z"
   },
   {
    "duration": 6,
    "start_time": "2024-02-27T08:57:33.223Z"
   },
   {
    "duration": 5,
    "start_time": "2024-02-27T08:57:33.439Z"
   },
   {
    "duration": 7,
    "start_time": "2024-02-27T08:57:33.880Z"
   },
   {
    "duration": 12,
    "start_time": "2024-02-27T08:57:33.889Z"
   },
   {
    "duration": 5,
    "start_time": "2024-02-27T08:57:34.273Z"
   },
   {
    "duration": 9,
    "start_time": "2024-02-27T08:57:34.280Z"
   },
   {
    "duration": 13,
    "start_time": "2024-02-27T08:57:34.423Z"
   },
   {
    "duration": 10,
    "start_time": "2024-02-27T08:57:34.623Z"
   },
   {
    "duration": 3,
    "start_time": "2024-02-27T08:57:34.839Z"
   },
   {
    "duration": 21,
    "start_time": "2024-02-27T08:57:35.258Z"
   },
   {
    "duration": 11,
    "start_time": "2024-02-27T08:57:36.340Z"
   },
   {
    "duration": 11,
    "start_time": "2024-02-27T08:57:37.354Z"
   },
   {
    "duration": 5,
    "start_time": "2024-02-27T08:57:40.058Z"
   },
   {
    "duration": 9,
    "start_time": "2024-02-27T08:57:40.499Z"
   },
   {
    "duration": 7,
    "start_time": "2024-02-27T08:57:42.325Z"
   },
   {
    "duration": 7,
    "start_time": "2024-02-27T08:57:43.317Z"
   },
   {
    "duration": 4,
    "start_time": "2024-02-27T08:57:44.877Z"
   },
   {
    "duration": 9,
    "start_time": "2024-02-27T08:57:45.838Z"
   },
   {
    "duration": 276,
    "start_time": "2024-02-27T09:26:56.234Z"
   },
   {
    "duration": 291,
    "start_time": "2024-02-27T09:28:45.281Z"
   },
   {
    "duration": 185,
    "start_time": "2024-02-27T09:29:39.719Z"
   },
   {
    "duration": 199,
    "start_time": "2024-02-27T09:31:06.434Z"
   },
   {
    "duration": 197,
    "start_time": "2024-02-27T09:32:19.506Z"
   },
   {
    "duration": 376,
    "start_time": "2024-02-27T09:36:25.729Z"
   },
   {
    "duration": 5,
    "start_time": "2024-02-27T09:36:42.666Z"
   },
   {
    "duration": 195,
    "start_time": "2024-02-27T09:36:47.618Z"
   },
   {
    "duration": 194,
    "start_time": "2024-02-27T09:36:55.105Z"
   },
   {
    "duration": 201,
    "start_time": "2024-02-27T09:37:01.221Z"
   },
   {
    "duration": 257,
    "start_time": "2024-02-27T09:41:23.655Z"
   },
   {
    "duration": 184,
    "start_time": "2024-02-27T09:41:39.861Z"
   },
   {
    "duration": 191,
    "start_time": "2024-02-27T09:42:35.321Z"
   },
   {
    "duration": 338,
    "start_time": "2024-02-27T09:47:05.852Z"
   },
   {
    "duration": 228,
    "start_time": "2024-02-27T09:47:31.426Z"
   },
   {
    "duration": 219,
    "start_time": "2024-02-27T09:47:41.141Z"
   },
   {
    "duration": 250,
    "start_time": "2024-02-27T09:48:18.205Z"
   },
   {
    "duration": 243,
    "start_time": "2024-02-27T09:48:32.228Z"
   },
   {
    "duration": 146,
    "start_time": "2024-02-27T09:50:00.569Z"
   },
   {
    "duration": 252,
    "start_time": "2024-02-27T09:50:43.626Z"
   },
   {
    "duration": 305,
    "start_time": "2024-02-27T09:51:44.284Z"
   },
   {
    "duration": 157,
    "start_time": "2024-02-27T10:40:29.663Z"
   },
   {
    "duration": 149,
    "start_time": "2024-02-27T10:40:43.020Z"
   },
   {
    "duration": 2,
    "start_time": "2024-02-27T10:41:04.637Z"
   },
   {
    "duration": 97,
    "start_time": "2024-02-27T10:41:04.641Z"
   },
   {
    "duration": 16,
    "start_time": "2024-02-27T10:41:04.740Z"
   },
   {
    "duration": 27,
    "start_time": "2024-02-27T10:41:04.757Z"
   },
   {
    "duration": 37,
    "start_time": "2024-02-27T10:41:04.786Z"
   },
   {
    "duration": 41,
    "start_time": "2024-02-27T10:41:04.824Z"
   },
   {
    "duration": 31,
    "start_time": "2024-02-27T10:41:04.866Z"
   },
   {
    "duration": 28,
    "start_time": "2024-02-27T10:41:04.899Z"
   },
   {
    "duration": 30,
    "start_time": "2024-02-27T10:41:04.929Z"
   },
   {
    "duration": 33,
    "start_time": "2024-02-27T10:41:04.961Z"
   },
   {
    "duration": 29,
    "start_time": "2024-02-27T10:41:04.997Z"
   },
   {
    "duration": 39,
    "start_time": "2024-02-27T10:41:05.027Z"
   },
   {
    "duration": 50,
    "start_time": "2024-02-27T10:41:05.068Z"
   },
   {
    "duration": 28,
    "start_time": "2024-02-27T10:41:05.119Z"
   },
   {
    "duration": 28,
    "start_time": "2024-02-27T10:41:05.148Z"
   },
   {
    "duration": 24,
    "start_time": "2024-02-27T10:41:05.177Z"
   },
   {
    "duration": 44,
    "start_time": "2024-02-27T10:41:05.202Z"
   },
   {
    "duration": 20,
    "start_time": "2024-02-27T10:41:05.248Z"
   },
   {
    "duration": 32,
    "start_time": "2024-02-27T10:41:05.270Z"
   },
   {
    "duration": 21,
    "start_time": "2024-02-27T10:41:05.304Z"
   },
   {
    "duration": 32,
    "start_time": "2024-02-27T10:41:05.326Z"
   },
   {
    "duration": 18,
    "start_time": "2024-02-27T10:41:05.359Z"
   },
   {
    "duration": 22,
    "start_time": "2024-02-27T10:41:05.378Z"
   },
   {
    "duration": 28,
    "start_time": "2024-02-27T10:41:05.402Z"
   },
   {
    "duration": 15,
    "start_time": "2024-02-27T10:41:05.431Z"
   },
   {
    "duration": 278,
    "start_time": "2024-02-27T10:41:05.448Z"
   },
   {
    "duration": 185,
    "start_time": "2024-02-27T10:41:05.727Z"
   },
   {
    "duration": 284,
    "start_time": "2024-02-27T10:41:05.914Z"
   },
   {
    "duration": 286,
    "start_time": "2024-02-27T10:41:06.201Z"
   },
   {
    "duration": 164,
    "start_time": "2024-02-27T10:41:06.489Z"
   },
   {
    "duration": 155,
    "start_time": "2024-02-27T10:45:23.963Z"
   },
   {
    "duration": 210,
    "start_time": "2024-02-27T10:45:25.523Z"
   },
   {
    "duration": 180,
    "start_time": "2024-02-27T10:49:18.020Z"
   },
   {
    "duration": 168,
    "start_time": "2024-02-27T10:50:16.531Z"
   },
   {
    "duration": 199,
    "start_time": "2024-02-27T10:50:44.777Z"
   },
   {
    "duration": 198,
    "start_time": "2024-02-27T10:51:27.304Z"
   },
   {
    "duration": 208,
    "start_time": "2024-02-27T10:51:48.082Z"
   },
   {
    "duration": 333,
    "start_time": "2024-02-27T10:54:17.638Z"
   },
   {
    "duration": 313,
    "start_time": "2024-02-27T10:55:15.407Z"
   },
   {
    "duration": 192,
    "start_time": "2024-02-27T10:56:28.706Z"
   },
   {
    "duration": 315,
    "start_time": "2024-02-27T10:56:45.185Z"
   },
   {
    "duration": 4,
    "start_time": "2024-02-27T11:15:17.419Z"
   },
   {
    "duration": 78,
    "start_time": "2024-02-27T11:15:18.201Z"
   },
   {
    "duration": 16,
    "start_time": "2024-02-27T11:15:19.384Z"
   },
   {
    "duration": 10,
    "start_time": "2024-02-27T11:15:20.762Z"
   },
   {
    "duration": 10,
    "start_time": "2024-02-27T11:15:21.735Z"
   },
   {
    "duration": 10,
    "start_time": "2024-02-27T11:15:22.533Z"
   },
   {
    "duration": 7,
    "start_time": "2024-02-27T11:15:23.187Z"
   },
   {
    "duration": 8,
    "start_time": "2024-02-27T11:15:23.885Z"
   },
   {
    "duration": 4,
    "start_time": "2024-02-27T11:15:24.385Z"
   },
   {
    "duration": 5,
    "start_time": "2024-02-27T11:15:26.354Z"
   },
   {
    "duration": 6,
    "start_time": "2024-02-27T11:15:26.870Z"
   },
   {
    "duration": 5,
    "start_time": "2024-02-27T11:15:27.379Z"
   },
   {
    "duration": 6,
    "start_time": "2024-02-27T11:15:27.470Z"
   },
   {
    "duration": 10,
    "start_time": "2024-02-27T11:15:27.774Z"
   },
   {
    "duration": 10,
    "start_time": "2024-02-27T11:15:27.926Z"
   },
   {
    "duration": 3,
    "start_time": "2024-02-27T11:15:28.136Z"
   },
   {
    "duration": 17,
    "start_time": "2024-02-27T11:15:28.429Z"
   },
   {
    "duration": 11,
    "start_time": "2024-02-27T11:15:29.203Z"
   },
   {
    "duration": 15,
    "start_time": "2024-02-27T11:15:30.198Z"
   },
   {
    "duration": 8,
    "start_time": "2024-02-27T11:15:31.574Z"
   },
   {
    "duration": 140,
    "start_time": "2024-02-27T11:15:31.604Z"
   },
   {
    "duration": 8,
    "start_time": "2024-02-27T11:15:31.822Z"
   },
   {
    "duration": 6,
    "start_time": "2024-02-27T11:15:32.100Z"
   },
   {
    "duration": 4,
    "start_time": "2024-02-27T11:15:32.241Z"
   },
   {
    "duration": 9,
    "start_time": "2024-02-27T11:15:32.626Z"
   },
   {
    "duration": 315,
    "start_time": "2024-02-27T11:15:32.654Z"
   },
   {
    "duration": 216,
    "start_time": "2024-02-27T11:15:32.971Z"
   },
   {
    "duration": 333,
    "start_time": "2024-02-27T11:15:33.672Z"
   },
   {
    "duration": 339,
    "start_time": "2024-02-27T11:15:35.769Z"
   },
   {
    "duration": 184,
    "start_time": "2024-02-27T11:15:37.866Z"
   },
   {
    "duration": 108,
    "start_time": "2024-02-27T11:15:41.012Z"
   },
   {
    "duration": 272,
    "start_time": "2024-02-27T11:15:50.448Z"
   },
   {
    "duration": 285,
    "start_time": "2024-02-27T11:16:24.725Z"
   },
   {
    "duration": 290,
    "start_time": "2024-02-27T11:16:47.714Z"
   },
   {
    "duration": 296,
    "start_time": "2024-02-27T11:18:14.741Z"
   },
   {
    "duration": 310,
    "start_time": "2024-02-27T11:18:56.570Z"
   },
   {
    "duration": 329,
    "start_time": "2024-02-27T11:19:13.873Z"
   },
   {
    "duration": 319,
    "start_time": "2024-02-27T11:20:02.758Z"
   },
   {
    "duration": 303,
    "start_time": "2024-02-27T11:21:09.214Z"
   },
   {
    "duration": 137,
    "start_time": "2024-02-27T11:26:47.589Z"
   },
   {
    "duration": 189,
    "start_time": "2024-02-27T11:27:46.338Z"
   },
   {
    "duration": 163,
    "start_time": "2024-02-27T11:28:39.246Z"
   },
   {
    "duration": 14,
    "start_time": "2024-02-27T11:30:01.930Z"
   },
   {
    "duration": 13,
    "start_time": "2024-02-27T11:30:08.599Z"
   },
   {
    "duration": 330,
    "start_time": "2024-02-27T11:30:28.494Z"
   },
   {
    "duration": 13,
    "start_time": "2024-02-27T11:30:33.346Z"
   },
   {
    "duration": 149,
    "start_time": "2024-02-27T11:30:44.594Z"
   },
   {
    "duration": 159,
    "start_time": "2024-02-27T11:31:21.251Z"
   },
   {
    "duration": 273,
    "start_time": "2024-02-27T11:32:11.688Z"
   },
   {
    "duration": 152,
    "start_time": "2024-02-27T11:32:47.600Z"
   },
   {
    "duration": 3,
    "start_time": "2024-02-27T11:59:19.269Z"
   },
   {
    "duration": 79,
    "start_time": "2024-02-27T11:59:20.285Z"
   },
   {
    "duration": 16,
    "start_time": "2024-02-27T11:59:20.803Z"
   },
   {
    "duration": 3,
    "start_time": "2024-02-27T11:59:25.507Z"
   },
   {
    "duration": 89,
    "start_time": "2024-02-27T11:59:25.511Z"
   },
   {
    "duration": 16,
    "start_time": "2024-02-27T11:59:25.601Z"
   },
   {
    "duration": 19,
    "start_time": "2024-02-27T11:59:25.618Z"
   },
   {
    "duration": 30,
    "start_time": "2024-02-27T11:59:25.639Z"
   },
   {
    "duration": 19,
    "start_time": "2024-02-27T11:59:25.671Z"
   },
   {
    "duration": 28,
    "start_time": "2024-02-27T11:59:25.692Z"
   },
   {
    "duration": 13,
    "start_time": "2024-02-27T11:59:25.722Z"
   },
   {
    "duration": 7,
    "start_time": "2024-02-27T11:59:25.736Z"
   },
   {
    "duration": 19,
    "start_time": "2024-02-27T11:59:25.744Z"
   },
   {
    "duration": 11,
    "start_time": "2024-02-27T11:59:25.765Z"
   },
   {
    "duration": 6,
    "start_time": "2024-02-27T11:59:25.778Z"
   },
   {
    "duration": 7,
    "start_time": "2024-02-27T11:59:25.787Z"
   },
   {
    "duration": 20,
    "start_time": "2024-02-27T11:59:25.796Z"
   },
   {
    "duration": 15,
    "start_time": "2024-02-27T11:59:25.818Z"
   },
   {
    "duration": 3,
    "start_time": "2024-02-27T11:59:25.834Z"
   },
   {
    "duration": 47,
    "start_time": "2024-02-27T11:59:25.838Z"
   },
   {
    "duration": 9,
    "start_time": "2024-02-27T11:59:25.887Z"
   },
   {
    "duration": 23,
    "start_time": "2024-02-27T11:59:25.898Z"
   },
   {
    "duration": 10,
    "start_time": "2024-02-27T11:59:25.923Z"
   },
   {
    "duration": 10,
    "start_time": "2024-02-27T11:59:25.934Z"
   },
   {
    "duration": 16,
    "start_time": "2024-02-27T11:59:25.945Z"
   },
   {
    "duration": 5,
    "start_time": "2024-02-27T11:59:25.962Z"
   },
   {
    "duration": 18,
    "start_time": "2024-02-27T11:59:25.968Z"
   },
   {
    "duration": 46,
    "start_time": "2024-02-27T11:59:25.987Z"
   },
   {
    "duration": 251,
    "start_time": "2024-02-27T11:59:26.034Z"
   },
   {
    "duration": 190,
    "start_time": "2024-02-27T11:59:26.287Z"
   },
   {
    "duration": 192,
    "start_time": "2024-02-27T11:59:26.479Z"
   },
   {
    "duration": 306,
    "start_time": "2024-02-27T11:59:26.672Z"
   },
   {
    "duration": 199,
    "start_time": "2024-02-27T11:59:26.979Z"
   },
   {
    "duration": 331,
    "start_time": "2024-02-27T11:59:27.179Z"
   },
   {
    "duration": 170,
    "start_time": "2024-02-27T11:59:27.512Z"
   },
   {
    "duration": 147,
    "start_time": "2024-02-27T11:59:27.687Z"
   },
   {
    "duration": 164,
    "start_time": "2024-02-27T12:00:13.854Z"
   },
   {
    "duration": 155,
    "start_time": "2024-02-27T12:00:40.644Z"
   },
   {
    "duration": 173,
    "start_time": "2024-02-27T12:00:49.831Z"
   },
   {
    "duration": 160,
    "start_time": "2024-02-27T12:01:00.517Z"
   },
   {
    "duration": 7,
    "start_time": "2024-02-27T12:04:32.233Z"
   },
   {
    "duration": 6,
    "start_time": "2024-02-27T12:04:42.853Z"
   },
   {
    "duration": 5,
    "start_time": "2024-02-27T12:05:12.396Z"
   },
   {
    "duration": 4,
    "start_time": "2024-02-27T12:06:47.025Z"
   },
   {
    "duration": 4,
    "start_time": "2024-02-27T12:35:22.664Z"
   },
   {
    "duration": 6,
    "start_time": "2024-02-27T12:37:03.228Z"
   },
   {
    "duration": 124,
    "start_time": "2024-02-27T12:40:03.083Z"
   },
   {
    "duration": 154,
    "start_time": "2024-02-27T12:40:23.339Z"
   },
   {
    "duration": 167,
    "start_time": "2024-02-27T12:40:47.248Z"
   },
   {
    "duration": 133,
    "start_time": "2024-02-27T12:41:37.797Z"
   },
   {
    "duration": 134,
    "start_time": "2024-02-27T12:41:53.417Z"
   },
   {
    "duration": 285,
    "start_time": "2024-02-27T12:41:57.252Z"
   },
   {
    "duration": 184,
    "start_time": "2024-02-27T12:42:06.123Z"
   },
   {
    "duration": 189,
    "start_time": "2024-02-27T12:42:11.723Z"
   },
   {
    "duration": 192,
    "start_time": "2024-02-27T12:42:15.642Z"
   },
   {
    "duration": 200,
    "start_time": "2024-02-27T12:42:26.846Z"
   },
   {
    "duration": 358,
    "start_time": "2024-02-27T12:42:35.165Z"
   },
   {
    "duration": 308,
    "start_time": "2024-02-27T12:42:46.419Z"
   },
   {
    "duration": 373,
    "start_time": "2024-02-27T12:42:54.504Z"
   },
   {
    "duration": 194,
    "start_time": "2024-02-27T12:43:12.760Z"
   },
   {
    "duration": 322,
    "start_time": "2024-02-27T12:43:16.911Z"
   },
   {
    "duration": 209,
    "start_time": "2024-02-27T12:43:26.496Z"
   },
   {
    "duration": 205,
    "start_time": "2024-02-27T12:44:50.257Z"
   },
   {
    "duration": 177,
    "start_time": "2024-02-27T12:45:02.593Z"
   },
   {
    "duration": 6,
    "start_time": "2024-02-27T12:47:04.247Z"
   },
   {
    "duration": 5,
    "start_time": "2024-02-27T12:47:16.870Z"
   },
   {
    "duration": 5,
    "start_time": "2024-02-27T12:48:34.910Z"
   },
   {
    "duration": 138,
    "start_time": "2024-02-27T12:52:34.111Z"
   },
   {
    "duration": 134,
    "start_time": "2024-02-27T12:52:42.797Z"
   },
   {
    "duration": 196,
    "start_time": "2024-02-27T12:52:55.735Z"
   },
   {
    "duration": 196,
    "start_time": "2024-02-27T12:53:30.712Z"
   },
   {
    "duration": 18,
    "start_time": "2024-02-27T13:05:16.291Z"
   },
   {
    "duration": 16,
    "start_time": "2024-02-27T13:06:01.405Z"
   },
   {
    "duration": 1781,
    "start_time": "2024-02-27T13:21:26.222Z"
   },
   {
    "duration": 1312,
    "start_time": "2024-02-27T16:45:51.450Z"
   },
   {
    "duration": 206,
    "start_time": "2024-02-27T16:45:52.766Z"
   },
   {
    "duration": 24,
    "start_time": "2024-02-27T16:45:52.973Z"
   },
   {
    "duration": 10,
    "start_time": "2024-02-27T16:45:52.999Z"
   },
   {
    "duration": 11,
    "start_time": "2024-02-27T16:45:53.011Z"
   },
   {
    "duration": 9,
    "start_time": "2024-02-27T16:45:53.023Z"
   },
   {
    "duration": 6,
    "start_time": "2024-02-27T16:45:53.034Z"
   },
   {
    "duration": 28,
    "start_time": "2024-02-27T16:45:53.041Z"
   },
   {
    "duration": 9,
    "start_time": "2024-02-27T16:45:53.071Z"
   },
   {
    "duration": 7,
    "start_time": "2024-02-27T16:45:53.082Z"
   },
   {
    "duration": 7,
    "start_time": "2024-02-27T16:45:53.091Z"
   },
   {
    "duration": 8,
    "start_time": "2024-02-27T16:45:53.099Z"
   },
   {
    "duration": 6,
    "start_time": "2024-02-27T16:45:53.109Z"
   },
   {
    "duration": 9,
    "start_time": "2024-02-27T16:45:53.117Z"
   },
   {
    "duration": 46,
    "start_time": "2024-02-27T16:45:53.127Z"
   },
   {
    "duration": 16,
    "start_time": "2024-02-27T16:45:53.174Z"
   },
   {
    "duration": 23,
    "start_time": "2024-02-27T16:45:53.191Z"
   },
   {
    "duration": 10,
    "start_time": "2024-02-27T16:45:53.216Z"
   },
   {
    "duration": 18,
    "start_time": "2024-02-27T16:45:53.228Z"
   },
   {
    "duration": 6,
    "start_time": "2024-02-27T16:45:53.247Z"
   },
   {
    "duration": 9,
    "start_time": "2024-02-27T16:45:53.265Z"
   },
   {
    "duration": 10,
    "start_time": "2024-02-27T16:45:53.275Z"
   },
   {
    "duration": 5,
    "start_time": "2024-02-27T16:45:53.286Z"
   },
   {
    "duration": 8,
    "start_time": "2024-02-27T16:45:53.292Z"
   },
   {
    "duration": 9,
    "start_time": "2024-02-27T16:45:53.302Z"
   },
   {
    "duration": 278,
    "start_time": "2024-02-27T16:45:53.313Z"
   },
   {
    "duration": 265,
    "start_time": "2024-02-27T16:45:53.592Z"
   },
   {
    "duration": 192,
    "start_time": "2024-02-27T16:45:53.860Z"
   },
   {
    "duration": 339,
    "start_time": "2024-02-27T16:45:54.054Z"
   },
   {
    "duration": 205,
    "start_time": "2024-02-27T16:45:54.394Z"
   },
   {
    "duration": 308,
    "start_time": "2024-02-27T16:45:54.601Z"
   },
   {
    "duration": 200,
    "start_time": "2024-02-27T16:45:54.911Z"
   },
   {
    "duration": 4,
    "start_time": "2024-02-27T16:45:55.112Z"
   },
   {
    "duration": 203,
    "start_time": "2024-02-27T16:45:55.118Z"
   },
   {
    "duration": 5,
    "start_time": "2024-02-27T16:45:55.323Z"
   },
   {
    "duration": 198,
    "start_time": "2024-02-27T16:45:55.329Z"
   },
   {
    "duration": 4,
    "start_time": "2024-02-27T16:45:55.529Z"
   },
   {
    "duration": 1468,
    "start_time": "2024-02-27T16:45:55.534Z"
   },
   {
    "duration": 1588,
    "start_time": "2024-02-27T16:50:18.712Z"
   },
   {
    "duration": 1291,
    "start_time": "2024-02-27T16:51:14.811Z"
   },
   {
    "duration": 152,
    "start_time": "2024-02-27T17:10:42.063Z"
   },
   {
    "duration": 125,
    "start_time": "2024-02-27T17:11:49.500Z"
   },
   {
    "duration": 177,
    "start_time": "2024-02-27T17:12:47.768Z"
   },
   {
    "duration": 244,
    "start_time": "2024-02-27T17:13:00.306Z"
   },
   {
    "duration": 147,
    "start_time": "2024-02-27T17:13:12.543Z"
   },
   {
    "duration": 255,
    "start_time": "2024-02-27T17:14:18.663Z"
   },
   {
    "duration": 241,
    "start_time": "2024-02-27T17:14:23.366Z"
   },
   {
    "duration": 264,
    "start_time": "2024-02-27T17:14:52.758Z"
   },
   {
    "duration": 247,
    "start_time": "2024-02-27T17:16:03.783Z"
   },
   {
    "duration": 258,
    "start_time": "2024-02-27T17:16:14.782Z"
   },
   {
    "duration": 250,
    "start_time": "2024-02-27T17:16:51.695Z"
   },
   {
    "duration": 247,
    "start_time": "2024-02-27T17:19:15.001Z"
   },
   {
    "duration": 1276,
    "start_time": "2024-02-28T08:34:09.616Z"
   },
   {
    "duration": 186,
    "start_time": "2024-02-28T08:34:10.893Z"
   },
   {
    "duration": 20,
    "start_time": "2024-02-28T08:34:11.081Z"
   },
   {
    "duration": 58,
    "start_time": "2024-02-28T08:34:11.103Z"
   },
   {
    "duration": 114,
    "start_time": "2024-02-28T08:34:11.163Z"
   },
   {
    "duration": 52,
    "start_time": "2024-02-28T08:34:11.279Z"
   },
   {
    "duration": 32,
    "start_time": "2024-02-28T08:34:11.333Z"
   },
   {
    "duration": 12,
    "start_time": "2024-02-28T08:34:11.367Z"
   },
   {
    "duration": 114,
    "start_time": "2024-02-28T08:34:11.381Z"
   },
   {
    "duration": 54,
    "start_time": "2024-02-28T08:34:11.497Z"
   },
   {
    "duration": 35,
    "start_time": "2024-02-28T08:34:11.553Z"
   },
   {
    "duration": 45,
    "start_time": "2024-02-28T08:34:11.589Z"
   },
   {
    "duration": 39,
    "start_time": "2024-02-28T08:34:11.636Z"
   },
   {
    "duration": 72,
    "start_time": "2024-02-28T08:34:11.679Z"
   },
   {
    "duration": 64,
    "start_time": "2024-02-28T08:34:11.753Z"
   },
   {
    "duration": 81,
    "start_time": "2024-02-28T08:34:11.819Z"
   },
   {
    "duration": 33,
    "start_time": "2024-02-28T08:34:11.901Z"
   },
   {
    "duration": 42,
    "start_time": "2024-02-28T08:34:11.935Z"
   },
   {
    "duration": 37,
    "start_time": "2024-02-28T08:34:11.979Z"
   },
   {
    "duration": 40,
    "start_time": "2024-02-28T08:34:12.018Z"
   },
   {
    "duration": 20,
    "start_time": "2024-02-28T08:34:12.060Z"
   },
   {
    "duration": 23,
    "start_time": "2024-02-28T08:34:12.081Z"
   },
   {
    "duration": 6,
    "start_time": "2024-02-28T08:34:12.105Z"
   },
   {
    "duration": 7,
    "start_time": "2024-02-28T08:34:12.113Z"
   },
   {
    "duration": 23,
    "start_time": "2024-02-28T08:34:12.121Z"
   },
   {
    "duration": 264,
    "start_time": "2024-02-28T08:34:12.146Z"
   },
   {
    "duration": 263,
    "start_time": "2024-02-28T08:34:12.412Z"
   },
   {
    "duration": 189,
    "start_time": "2024-02-28T08:34:12.676Z"
   },
   {
    "duration": 360,
    "start_time": "2024-02-28T08:34:12.866Z"
   },
   {
    "duration": 184,
    "start_time": "2024-02-28T08:34:13.228Z"
   },
   {
    "duration": 327,
    "start_time": "2024-02-28T08:34:13.414Z"
   },
   {
    "duration": 204,
    "start_time": "2024-02-28T08:34:13.743Z"
   },
   {
    "duration": 4,
    "start_time": "2024-02-28T08:34:13.949Z"
   },
   {
    "duration": 233,
    "start_time": "2024-02-28T08:34:13.954Z"
   },
   {
    "duration": 6,
    "start_time": "2024-02-28T08:34:14.188Z"
   },
   {
    "duration": 227,
    "start_time": "2024-02-28T08:34:14.196Z"
   },
   {
    "duration": 5,
    "start_time": "2024-02-28T08:34:14.425Z"
   },
   {
    "duration": 335,
    "start_time": "2024-02-28T08:34:14.432Z"
   },
   {
    "duration": 11,
    "start_time": "2024-02-28T08:39:25.942Z"
   },
   {
    "duration": 10,
    "start_time": "2024-02-28T08:40:14.187Z"
   },
   {
    "duration": 10,
    "start_time": "2024-02-28T08:40:46.038Z"
   },
   {
    "duration": 151,
    "start_time": "2024-02-28T08:42:00.944Z"
   },
   {
    "duration": 12,
    "start_time": "2024-02-28T08:42:18.929Z"
   },
   {
    "duration": 11,
    "start_time": "2024-02-28T08:42:28.205Z"
   },
   {
    "duration": 10,
    "start_time": "2024-02-28T08:42:51.799Z"
   },
   {
    "duration": 1665,
    "start_time": "2024-02-28T09:06:28.548Z"
   },
   {
    "duration": 14,
    "start_time": "2024-02-28T09:07:13.874Z"
   },
   {
    "duration": 1777,
    "start_time": "2024-02-28T09:10:00.201Z"
   },
   {
    "duration": 0,
    "start_time": "2024-02-28T09:10:01.979Z"
   },
   {
    "duration": 7,
    "start_time": "2024-02-28T09:12:39.583Z"
   },
   {
    "duration": 12,
    "start_time": "2024-02-28T09:12:41.154Z"
   },
   {
    "duration": 7,
    "start_time": "2024-02-28T09:15:16.359Z"
   },
   {
    "duration": 10,
    "start_time": "2024-02-28T09:15:17.160Z"
   },
   {
    "duration": 40,
    "start_time": "2024-02-28T09:21:54.271Z"
   },
   {
    "duration": 28,
    "start_time": "2024-02-28T09:24:08.157Z"
   },
   {
    "duration": 30,
    "start_time": "2024-02-28T09:24:14.344Z"
   },
   {
    "duration": 54,
    "start_time": "2024-02-28T09:25:11.493Z"
   },
   {
    "duration": 32,
    "start_time": "2024-02-28T09:25:58.090Z"
   },
   {
    "duration": 7,
    "start_time": "2024-02-28T09:26:35.419Z"
   },
   {
    "duration": 34,
    "start_time": "2024-02-28T09:26:37.907Z"
   },
   {
    "duration": 7,
    "start_time": "2024-02-28T09:27:22.716Z"
   },
   {
    "duration": 42,
    "start_time": "2024-02-28T09:27:25.386Z"
   },
   {
    "duration": 7,
    "start_time": "2024-02-28T09:30:30.842Z"
   },
   {
    "duration": 30,
    "start_time": "2024-02-28T09:30:31.606Z"
   },
   {
    "duration": 1562,
    "start_time": "2024-02-28T09:32:58.588Z"
   },
   {
    "duration": 12,
    "start_time": "2024-02-28T09:34:45.872Z"
   },
   {
    "duration": 12,
    "start_time": "2024-02-28T09:35:22.948Z"
   },
   {
    "duration": 13,
    "start_time": "2024-02-28T09:35:53.360Z"
   },
   {
    "duration": 1464,
    "start_time": "2024-02-28T13:02:20.250Z"
   },
   {
    "duration": 189,
    "start_time": "2024-02-28T13:02:21.716Z"
   },
   {
    "duration": 24,
    "start_time": "2024-02-28T13:02:21.907Z"
   },
   {
    "duration": 13,
    "start_time": "2024-02-28T13:02:21.932Z"
   },
   {
    "duration": 16,
    "start_time": "2024-02-28T13:02:21.948Z"
   },
   {
    "duration": 17,
    "start_time": "2024-02-28T13:02:21.966Z"
   },
   {
    "duration": 47,
    "start_time": "2024-02-28T13:02:21.984Z"
   },
   {
    "duration": 30,
    "start_time": "2024-02-28T13:02:22.032Z"
   },
   {
    "duration": 16,
    "start_time": "2024-02-28T13:02:22.063Z"
   },
   {
    "duration": 24,
    "start_time": "2024-02-28T13:02:22.080Z"
   },
   {
    "duration": 20,
    "start_time": "2024-02-28T13:02:22.106Z"
   },
   {
    "duration": 17,
    "start_time": "2024-02-28T13:02:22.127Z"
   },
   {
    "duration": 14,
    "start_time": "2024-02-28T13:02:22.146Z"
   },
   {
    "duration": 16,
    "start_time": "2024-02-28T13:02:22.163Z"
   },
   {
    "duration": 38,
    "start_time": "2024-02-28T13:02:22.181Z"
   },
   {
    "duration": 35,
    "start_time": "2024-02-28T13:02:22.221Z"
   },
   {
    "duration": 44,
    "start_time": "2024-02-28T13:02:22.258Z"
   },
   {
    "duration": 24,
    "start_time": "2024-02-28T13:02:22.304Z"
   },
   {
    "duration": 18,
    "start_time": "2024-02-28T13:02:22.329Z"
   },
   {
    "duration": 16,
    "start_time": "2024-02-28T13:02:22.349Z"
   },
   {
    "duration": 14,
    "start_time": "2024-02-28T13:02:22.367Z"
   },
   {
    "duration": 10,
    "start_time": "2024-02-28T13:02:22.383Z"
   },
   {
    "duration": 20,
    "start_time": "2024-02-28T13:02:22.402Z"
   },
   {
    "duration": 126,
    "start_time": "2024-02-28T13:02:22.424Z"
   },
   {
    "duration": 21,
    "start_time": "2024-02-28T13:02:22.552Z"
   },
   {
    "duration": 326,
    "start_time": "2024-02-28T13:02:22.575Z"
   },
   {
    "duration": 318,
    "start_time": "2024-02-28T13:02:22.907Z"
   },
   {
    "duration": 231,
    "start_time": "2024-02-28T13:02:23.227Z"
   },
   {
    "duration": 382,
    "start_time": "2024-02-28T13:02:23.459Z"
   },
   {
    "duration": 248,
    "start_time": "2024-02-28T13:02:23.842Z"
   },
   {
    "duration": 364,
    "start_time": "2024-02-28T13:02:24.094Z"
   },
   {
    "duration": 247,
    "start_time": "2024-02-28T13:02:24.460Z"
   },
   {
    "duration": 4,
    "start_time": "2024-02-28T13:02:24.708Z"
   },
   {
    "duration": 234,
    "start_time": "2024-02-28T13:02:24.714Z"
   },
   {
    "duration": 6,
    "start_time": "2024-02-28T13:02:24.949Z"
   },
   {
    "duration": 243,
    "start_time": "2024-02-28T13:02:24.956Z"
   },
   {
    "duration": 7,
    "start_time": "2024-02-28T13:02:25.200Z"
   },
   {
    "duration": 412,
    "start_time": "2024-02-28T13:02:25.209Z"
   },
   {
    "duration": 12,
    "start_time": "2024-02-28T13:02:25.622Z"
   },
   {
    "duration": 42,
    "start_time": "2024-02-28T13:02:25.636Z"
   },
   {
    "duration": 50,
    "start_time": "2024-02-28T13:02:25.682Z"
   },
   {
    "duration": 14,
    "start_time": "2024-02-28T13:02:25.734Z"
   },
   {
    "duration": 4,
    "start_time": "2024-02-28T13:16:12.148Z"
   },
   {
    "duration": 78,
    "start_time": "2024-02-28T13:16:12.844Z"
   },
   {
    "duration": 19,
    "start_time": "2024-02-28T13:16:20.144Z"
   },
   {
    "duration": 11,
    "start_time": "2024-02-28T13:16:27.485Z"
   },
   {
    "duration": 11,
    "start_time": "2024-02-28T13:16:28.533Z"
   },
   {
    "duration": 20,
    "start_time": "2024-02-28T13:16:52.791Z"
   },
   {
    "duration": 12,
    "start_time": "2024-02-28T13:16:53.373Z"
   },
   {
    "duration": 11,
    "start_time": "2024-02-28T13:16:54.840Z"
   },
   {
    "duration": 6,
    "start_time": "2024-02-28T13:16:56.359Z"
   },
   {
    "duration": 6,
    "start_time": "2024-02-28T13:17:00.561Z"
   },
   {
    "duration": 4,
    "start_time": "2024-02-28T13:17:03.544Z"
   },
   {
    "duration": 6,
    "start_time": "2024-02-28T13:17:03.812Z"
   },
   {
    "duration": 6,
    "start_time": "2024-02-28T13:17:04.183Z"
   },
   {
    "duration": 5,
    "start_time": "2024-02-28T13:17:04.727Z"
   },
   {
    "duration": 7,
    "start_time": "2024-02-28T13:17:06.808Z"
   },
   {
    "duration": 11,
    "start_time": "2024-02-28T13:17:09.012Z"
   },
   {
    "duration": 12,
    "start_time": "2024-02-28T13:18:31.223Z"
   },
   {
    "duration": 5,
    "start_time": "2024-02-28T13:18:31.891Z"
   },
   {
    "duration": 20,
    "start_time": "2024-02-28T13:18:32.455Z"
   },
   {
    "duration": 11,
    "start_time": "2024-02-28T13:18:46.159Z"
   },
   {
    "duration": 12,
    "start_time": "2024-02-28T13:19:12.505Z"
   },
   {
    "duration": 6,
    "start_time": "2024-02-28T13:19:30.327Z"
   },
   {
    "duration": 10,
    "start_time": "2024-02-28T13:19:30.988Z"
   },
   {
    "duration": 8,
    "start_time": "2024-02-28T13:19:41.861Z"
   },
   {
    "duration": 6,
    "start_time": "2024-02-28T13:19:43.176Z"
   },
   {
    "duration": 4,
    "start_time": "2024-02-28T13:19:45.328Z"
   },
   {
    "duration": 9,
    "start_time": "2024-02-28T13:19:51.570Z"
   },
   {
    "duration": 334,
    "start_time": "2024-02-28T13:19:53.780Z"
   },
   {
    "duration": 216,
    "start_time": "2024-02-28T13:20:08.404Z"
   },
   {
    "duration": 230,
    "start_time": "2024-02-28T13:20:17.920Z"
   },
   {
    "duration": 347,
    "start_time": "2024-02-28T13:20:28.874Z"
   },
   {
    "duration": 218,
    "start_time": "2024-02-28T13:20:42.462Z"
   },
   {
    "duration": 381,
    "start_time": "2024-02-28T13:20:52.967Z"
   },
   {
    "duration": 238,
    "start_time": "2024-02-28T13:21:08.205Z"
   },
   {
    "duration": 4,
    "start_time": "2024-02-28T13:21:32.617Z"
   },
   {
    "duration": 214,
    "start_time": "2024-02-28T13:21:36.002Z"
   },
   {
    "duration": 6,
    "start_time": "2024-02-28T13:21:43.164Z"
   },
   {
    "duration": 204,
    "start_time": "2024-02-28T13:21:44.151Z"
   },
   {
    "duration": 289,
    "start_time": "2024-02-28T13:23:55.746Z"
   },
   {
    "duration": 11,
    "start_time": "2024-02-28T13:24:00.464Z"
   },
   {
    "duration": 8,
    "start_time": "2024-02-28T13:24:08.328Z"
   },
   {
    "duration": 36,
    "start_time": "2024-02-28T13:24:09.264Z"
   },
   {
    "duration": 14,
    "start_time": "2024-02-28T13:24:12.727Z"
   },
   {
    "duration": 1312,
    "start_time": "2024-02-28T13:33:26.913Z"
   },
   {
    "duration": 199,
    "start_time": "2024-02-28T13:33:28.227Z"
   },
   {
    "duration": 20,
    "start_time": "2024-02-28T13:33:28.428Z"
   },
   {
    "duration": 21,
    "start_time": "2024-02-28T13:33:28.449Z"
   },
   {
    "duration": 24,
    "start_time": "2024-02-28T13:33:28.472Z"
   },
   {
    "duration": 32,
    "start_time": "2024-02-28T13:33:28.497Z"
   },
   {
    "duration": 17,
    "start_time": "2024-02-28T13:33:28.531Z"
   },
   {
    "duration": 31,
    "start_time": "2024-02-28T13:33:28.550Z"
   },
   {
    "duration": 18,
    "start_time": "2024-02-28T13:33:28.583Z"
   },
   {
    "duration": 23,
    "start_time": "2024-02-28T13:33:28.602Z"
   },
   {
    "duration": 15,
    "start_time": "2024-02-28T13:33:28.626Z"
   },
   {
    "duration": 42,
    "start_time": "2024-02-28T13:33:28.642Z"
   },
   {
    "duration": 44,
    "start_time": "2024-02-28T13:33:28.685Z"
   },
   {
    "duration": 26,
    "start_time": "2024-02-28T13:33:28.731Z"
   },
   {
    "duration": 37,
    "start_time": "2024-02-28T13:33:28.759Z"
   },
   {
    "duration": 13,
    "start_time": "2024-02-28T13:33:28.798Z"
   },
   {
    "duration": 36,
    "start_time": "2024-02-28T13:33:28.812Z"
   },
   {
    "duration": 23,
    "start_time": "2024-02-28T13:33:28.849Z"
   },
   {
    "duration": 23,
    "start_time": "2024-02-28T13:33:28.874Z"
   },
   {
    "duration": 24,
    "start_time": "2024-02-28T13:33:28.898Z"
   },
   {
    "duration": 24,
    "start_time": "2024-02-28T13:33:28.923Z"
   },
   {
    "duration": 18,
    "start_time": "2024-02-28T13:33:28.949Z"
   },
   {
    "duration": 11,
    "start_time": "2024-02-28T13:33:28.968Z"
   },
   {
    "duration": 18,
    "start_time": "2024-02-28T13:33:28.980Z"
   },
   {
    "duration": 24,
    "start_time": "2024-02-28T13:33:29.000Z"
   },
   {
    "duration": 292,
    "start_time": "2024-02-28T13:33:29.025Z"
   },
   {
    "duration": 280,
    "start_time": "2024-02-28T13:33:29.319Z"
   },
   {
    "duration": 200,
    "start_time": "2024-02-28T13:33:29.601Z"
   },
   {
    "duration": 359,
    "start_time": "2024-02-28T13:33:29.803Z"
   },
   {
    "duration": 202,
    "start_time": "2024-02-28T13:33:30.169Z"
   },
   {
    "duration": 358,
    "start_time": "2024-02-28T13:33:30.372Z"
   },
   {
    "duration": 216,
    "start_time": "2024-02-28T13:33:30.732Z"
   },
   {
    "duration": 4,
    "start_time": "2024-02-28T13:33:30.950Z"
   },
   {
    "duration": 268,
    "start_time": "2024-02-28T13:33:30.956Z"
   },
   {
    "duration": 5,
    "start_time": "2024-02-28T13:33:31.226Z"
   },
   {
    "duration": 376,
    "start_time": "2024-02-28T13:33:31.232Z"
   },
   {
    "duration": 4,
    "start_time": "2024-02-28T13:33:31.609Z"
   },
   {
    "duration": 348,
    "start_time": "2024-02-28T13:33:31.615Z"
   },
   {
    "duration": 52,
    "start_time": "2024-02-28T13:33:31.970Z"
   },
   {
    "duration": 48,
    "start_time": "2024-02-28T13:33:32.024Z"
   },
   {
    "duration": 93,
    "start_time": "2024-02-28T13:33:32.076Z"
   },
   {
    "duration": 54,
    "start_time": "2024-02-28T13:33:32.170Z"
   },
   {
    "duration": 1396,
    "start_time": "2024-02-28T15:27:00.494Z"
   },
   {
    "duration": 187,
    "start_time": "2024-02-28T15:27:01.892Z"
   },
   {
    "duration": 19,
    "start_time": "2024-02-28T15:27:02.081Z"
   },
   {
    "duration": 56,
    "start_time": "2024-02-28T15:27:02.102Z"
   },
   {
    "duration": 41,
    "start_time": "2024-02-28T15:27:02.161Z"
   },
   {
    "duration": 16,
    "start_time": "2024-02-28T15:27:02.204Z"
   },
   {
    "duration": 17,
    "start_time": "2024-02-28T15:27:02.221Z"
   },
   {
    "duration": 7,
    "start_time": "2024-02-28T15:27:02.239Z"
   },
   {
    "duration": 10,
    "start_time": "2024-02-28T15:27:02.247Z"
   },
   {
    "duration": 13,
    "start_time": "2024-02-28T15:27:02.259Z"
   },
   {
    "duration": 9,
    "start_time": "2024-02-28T15:27:02.273Z"
   },
   {
    "duration": 21,
    "start_time": "2024-02-28T15:27:02.283Z"
   },
   {
    "duration": 18,
    "start_time": "2024-02-28T15:27:02.305Z"
   },
   {
    "duration": 27,
    "start_time": "2024-02-28T15:27:02.326Z"
   },
   {
    "duration": 17,
    "start_time": "2024-02-28T15:27:02.355Z"
   },
   {
    "duration": 19,
    "start_time": "2024-02-28T15:27:02.374Z"
   },
   {
    "duration": 25,
    "start_time": "2024-02-28T15:27:02.395Z"
   },
   {
    "duration": 9,
    "start_time": "2024-02-28T15:27:02.422Z"
   },
   {
    "duration": 10,
    "start_time": "2024-02-28T15:27:02.433Z"
   },
   {
    "duration": 35,
    "start_time": "2024-02-28T15:27:02.444Z"
   },
   {
    "duration": 33,
    "start_time": "2024-02-28T15:27:02.480Z"
   },
   {
    "duration": 8,
    "start_time": "2024-02-28T15:27:02.515Z"
   },
   {
    "duration": 7,
    "start_time": "2024-02-28T15:27:02.524Z"
   },
   {
    "duration": 13,
    "start_time": "2024-02-28T15:27:02.532Z"
   },
   {
    "duration": 12,
    "start_time": "2024-02-28T15:27:02.546Z"
   },
   {
    "duration": 258,
    "start_time": "2024-02-28T15:27:02.559Z"
   },
   {
    "duration": 286,
    "start_time": "2024-02-28T15:27:02.819Z"
   },
   {
    "duration": 179,
    "start_time": "2024-02-28T15:27:03.107Z"
   },
   {
    "duration": 360,
    "start_time": "2024-02-28T15:27:03.287Z"
   },
   {
    "duration": 194,
    "start_time": "2024-02-28T15:27:03.649Z"
   },
   {
    "duration": 315,
    "start_time": "2024-02-28T15:27:03.845Z"
   },
   {
    "duration": 207,
    "start_time": "2024-02-28T15:27:04.162Z"
   },
   {
    "duration": 5,
    "start_time": "2024-02-28T15:27:04.370Z"
   },
   {
    "duration": 209,
    "start_time": "2024-02-28T15:27:04.376Z"
   },
   {
    "duration": 6,
    "start_time": "2024-02-28T15:27:04.586Z"
   },
   {
    "duration": 187,
    "start_time": "2024-02-28T15:27:04.593Z"
   },
   {
    "duration": 4,
    "start_time": "2024-02-28T15:27:04.782Z"
   },
   {
    "duration": 343,
    "start_time": "2024-02-28T15:27:04.788Z"
   },
   {
    "duration": 10,
    "start_time": "2024-02-28T15:27:05.132Z"
   },
   {
    "duration": 8,
    "start_time": "2024-02-28T15:27:05.143Z"
   },
   {
    "duration": 28,
    "start_time": "2024-02-28T15:27:05.155Z"
   },
   {
    "duration": 13,
    "start_time": "2024-02-28T15:27:05.184Z"
   },
   {
    "duration": 1398,
    "start_time": "2024-02-29T07:58:53.345Z"
   },
   {
    "duration": 184,
    "start_time": "2024-02-29T07:58:56.834Z"
   },
   {
    "duration": 26,
    "start_time": "2024-02-29T07:58:57.093Z"
   },
   {
    "duration": 11,
    "start_time": "2024-02-29T07:58:57.460Z"
   },
   {
    "duration": 11,
    "start_time": "2024-02-29T07:58:57.883Z"
   },
   {
    "duration": 10,
    "start_time": "2024-02-29T07:58:58.060Z"
   },
   {
    "duration": 6,
    "start_time": "2024-02-29T07:58:58.601Z"
   },
   {
    "duration": 23,
    "start_time": "2024-02-29T07:58:58.608Z"
   },
   {
    "duration": 4,
    "start_time": "2024-02-29T07:58:59.125Z"
   },
   {
    "duration": 16,
    "start_time": "2024-02-29T07:58:59.131Z"
   },
   {
    "duration": 6,
    "start_time": "2024-02-29T07:58:59.454Z"
   },
   {
    "duration": 5,
    "start_time": "2024-02-29T07:58:59.609Z"
   },
   {
    "duration": 7,
    "start_time": "2024-02-29T07:58:59.978Z"
   },
   {
    "duration": 11,
    "start_time": "2024-02-29T07:59:00.228Z"
   },
   {
    "duration": 11,
    "start_time": "2024-02-29T07:59:00.503Z"
   },
   {
    "duration": 2,
    "start_time": "2024-02-29T07:59:00.745Z"
   },
   {
    "duration": 19,
    "start_time": "2024-02-29T07:59:01.028Z"
   },
   {
    "duration": 12,
    "start_time": "2024-02-29T07:59:10.464Z"
   },
   {
    "duration": 11,
    "start_time": "2024-02-29T07:59:15.051Z"
   },
   {
    "duration": 5,
    "start_time": "2024-02-29T08:00:14.818Z"
   },
   {
    "duration": 9,
    "start_time": "2024-02-29T08:00:15.475Z"
   },
   {
    "duration": 9,
    "start_time": "2024-02-29T08:00:15.884Z"
   },
   {
    "duration": 6,
    "start_time": "2024-02-29T08:00:16.234Z"
   },
   {
    "duration": 4,
    "start_time": "2024-02-29T08:00:16.634Z"
   },
   {
    "duration": 9,
    "start_time": "2024-02-29T08:00:18.134Z"
   },
   {
    "duration": 316,
    "start_time": "2024-02-29T08:00:24.921Z"
   },
   {
    "duration": 291,
    "start_time": "2024-02-29T08:00:28.449Z"
   },
   {
    "duration": 203,
    "start_time": "2024-02-29T08:01:01.649Z"
   },
   {
    "duration": 205,
    "start_time": "2024-02-29T08:01:12.247Z"
   },
   {
    "duration": 316,
    "start_time": "2024-02-29T08:01:21.010Z"
   },
   {
    "duration": 204,
    "start_time": "2024-02-29T08:01:29.673Z"
   },
   {
    "duration": 339,
    "start_time": "2024-02-29T08:01:39.883Z"
   },
   {
    "duration": 206,
    "start_time": "2024-02-29T08:01:50.894Z"
   },
   {
    "duration": 193,
    "start_time": "2024-02-29T08:01:58.953Z"
   },
   {
    "duration": 278,
    "start_time": "2024-02-29T08:02:08.390Z"
   },
   {
    "duration": 217,
    "start_time": "2024-02-29T08:03:00.269Z"
   },
   {
    "duration": 360,
    "start_time": "2024-02-29T08:03:12.757Z"
   },
   {
    "duration": 259,
    "start_time": "2024-02-29T08:03:27.442Z"
   },
   {
    "duration": 368,
    "start_time": "2024-02-29T08:03:53.853Z"
   },
   {
    "duration": 264,
    "start_time": "2024-02-29T08:04:24.277Z"
   },
   {
    "duration": 366,
    "start_time": "2024-02-29T08:04:34.469Z"
   },
   {
    "duration": 261,
    "start_time": "2024-02-29T08:04:48.625Z"
   },
   {
    "duration": 393,
    "start_time": "2024-02-29T08:04:59.354Z"
   },
   {
    "duration": 278,
    "start_time": "2024-02-29T08:06:36.627Z"
   },
   {
    "duration": 319,
    "start_time": "2024-02-29T08:06:40.820Z"
   },
   {
    "duration": 333,
    "start_time": "2024-02-29T08:06:42.787Z"
   },
   {
    "duration": 404,
    "start_time": "2024-02-29T08:06:45.204Z"
   },
   {
    "duration": 237,
    "start_time": "2024-02-29T08:06:47.772Z"
   },
   {
    "duration": 4,
    "start_time": "2024-02-29T08:06:49.735Z"
   },
   {
    "duration": 220,
    "start_time": "2024-02-29T08:06:52.354Z"
   },
   {
    "duration": 5,
    "start_time": "2024-02-29T08:06:53.075Z"
   },
   {
    "duration": 209,
    "start_time": "2024-02-29T08:06:53.927Z"
   },
   {
    "duration": 4,
    "start_time": "2024-02-29T08:07:00.359Z"
   },
   {
    "duration": 351,
    "start_time": "2024-02-29T08:11:12.401Z"
   },
   {
    "duration": 295,
    "start_time": "2024-02-29T08:26:53.119Z"
   },
   {
    "duration": 331,
    "start_time": "2024-02-29T08:26:56.184Z"
   },
   {
    "duration": 11,
    "start_time": "2024-02-29T08:28:12.422Z"
   },
   {
    "duration": 281,
    "start_time": "2024-02-29T08:29:23.955Z"
   },
   {
    "duration": 11,
    "start_time": "2024-02-29T08:29:34.047Z"
   },
   {
    "duration": 8,
    "start_time": "2024-02-29T08:35:48.971Z"
   },
   {
    "duration": 36,
    "start_time": "2024-02-29T08:36:12.403Z"
   },
   {
    "duration": 14,
    "start_time": "2024-02-29T08:36:19.709Z"
   },
   {
    "duration": 3,
    "start_time": "2024-02-29T09:02:45.136Z"
   },
   {
    "duration": 112,
    "start_time": "2024-02-29T09:02:45.146Z"
   },
   {
    "duration": 18,
    "start_time": "2024-02-29T09:02:45.431Z"
   },
   {
    "duration": 11,
    "start_time": "2024-02-29T09:02:45.664Z"
   },
   {
    "duration": 11,
    "start_time": "2024-02-29T09:02:45.914Z"
   },
   {
    "duration": 11,
    "start_time": "2024-02-29T09:02:46.183Z"
   },
   {
    "duration": 8,
    "start_time": "2024-02-29T09:02:46.365Z"
   },
   {
    "duration": 7,
    "start_time": "2024-02-29T09:02:46.783Z"
   },
   {
    "duration": 4,
    "start_time": "2024-02-29T09:02:47.232Z"
   },
   {
    "duration": 12,
    "start_time": "2024-02-29T09:02:47.238Z"
   },
   {
    "duration": 5,
    "start_time": "2024-02-29T09:02:47.449Z"
   },
   {
    "duration": 5,
    "start_time": "2024-02-29T09:02:47.756Z"
   },
   {
    "duration": 8,
    "start_time": "2024-02-29T09:02:47.916Z"
   },
   {
    "duration": 11,
    "start_time": "2024-02-29T09:02:48.280Z"
   },
   {
    "duration": 10,
    "start_time": "2024-02-29T09:02:48.366Z"
   },
   {
    "duration": 3,
    "start_time": "2024-02-29T09:02:48.566Z"
   },
   {
    "duration": 17,
    "start_time": "2024-02-29T09:02:48.806Z"
   },
   {
    "duration": 11,
    "start_time": "2024-02-29T09:02:49.916Z"
   },
   {
    "duration": 11,
    "start_time": "2024-02-29T09:02:50.516Z"
   },
   {
    "duration": 6,
    "start_time": "2024-02-29T09:02:52.133Z"
   },
   {
    "duration": 10,
    "start_time": "2024-02-29T09:02:52.474Z"
   },
   {
    "duration": 8,
    "start_time": "2024-02-29T09:02:52.670Z"
   },
   {
    "duration": 6,
    "start_time": "2024-02-29T09:02:53.194Z"
   },
   {
    "duration": 18,
    "start_time": "2024-02-29T09:02:53.202Z"
   },
   {
    "duration": 14,
    "start_time": "2024-02-29T09:02:53.251Z"
   },
   {
    "duration": 320,
    "start_time": "2024-02-29T09:02:53.666Z"
   },
   {
    "duration": 315,
    "start_time": "2024-02-29T09:02:53.988Z"
   },
   {
    "duration": 275,
    "start_time": "2024-02-29T09:02:56.285Z"
   },
   {
    "duration": 387,
    "start_time": "2024-02-29T09:02:58.765Z"
   },
   {
    "duration": 270,
    "start_time": "2024-02-29T09:02:59.814Z"
   },
   {
    "duration": 371,
    "start_time": "2024-02-29T09:03:01.035Z"
   },
   {
    "duration": 225,
    "start_time": "2024-02-29T09:03:02.566Z"
   },
   {
    "duration": 6,
    "start_time": "2024-02-29T09:03:03.386Z"
   },
   {
    "duration": 322,
    "start_time": "2024-02-29T09:03:04.402Z"
   },
   {
    "duration": 6,
    "start_time": "2024-02-29T09:03:04.726Z"
   },
   {
    "duration": 202,
    "start_time": "2024-02-29T09:03:05.059Z"
   },
   {
    "duration": 5,
    "start_time": "2024-02-29T09:03:05.581Z"
   },
   {
    "duration": 291,
    "start_time": "2024-02-29T09:03:07.405Z"
   },
   {
    "duration": 11,
    "start_time": "2024-02-29T09:03:08.726Z"
   },
   {
    "duration": 8,
    "start_time": "2024-02-29T09:03:10.021Z"
   },
   {
    "duration": 35,
    "start_time": "2024-02-29T09:03:10.521Z"
   },
   {
    "duration": 14,
    "start_time": "2024-02-29T09:03:11.923Z"
   },
   {
    "duration": 1175,
    "start_time": "2024-02-29T13:28:22.553Z"
   },
   {
    "duration": 74,
    "start_time": "2024-02-29T13:28:23.730Z"
   },
   {
    "duration": 19,
    "start_time": "2024-02-29T13:28:23.806Z"
   },
   {
    "duration": 10,
    "start_time": "2024-02-29T13:28:23.827Z"
   },
   {
    "duration": 11,
    "start_time": "2024-02-29T13:28:23.839Z"
   },
   {
    "duration": 10,
    "start_time": "2024-02-29T13:28:23.851Z"
   },
   {
    "duration": 6,
    "start_time": "2024-02-29T13:28:23.863Z"
   },
   {
    "duration": 8,
    "start_time": "2024-02-29T13:28:23.870Z"
   },
   {
    "duration": 9,
    "start_time": "2024-02-29T13:28:23.880Z"
   },
   {
    "duration": 11,
    "start_time": "2024-02-29T13:28:23.891Z"
   },
   {
    "duration": 8,
    "start_time": "2024-02-29T13:28:23.903Z"
   },
   {
    "duration": 6,
    "start_time": "2024-02-29T13:28:23.912Z"
   },
   {
    "duration": 6,
    "start_time": "2024-02-29T13:28:23.919Z"
   },
   {
    "duration": 10,
    "start_time": "2024-02-29T13:28:23.926Z"
   },
   {
    "duration": 37,
    "start_time": "2024-02-29T13:28:23.938Z"
   },
   {
    "duration": 6,
    "start_time": "2024-02-29T13:28:23.977Z"
   },
   {
    "duration": 18,
    "start_time": "2024-02-29T13:28:23.984Z"
   },
   {
    "duration": 11,
    "start_time": "2024-02-29T13:28:24.003Z"
   },
   {
    "duration": 10,
    "start_time": "2024-02-29T13:28:24.016Z"
   },
   {
    "duration": 6,
    "start_time": "2024-02-29T13:28:24.066Z"
   },
   {
    "duration": 22,
    "start_time": "2024-02-29T13:28:24.073Z"
   },
   {
    "duration": 7,
    "start_time": "2024-02-29T13:28:24.096Z"
   },
   {
    "duration": 7,
    "start_time": "2024-02-29T13:28:24.104Z"
   },
   {
    "duration": 6,
    "start_time": "2024-02-29T13:28:24.112Z"
   },
   {
    "duration": 9,
    "start_time": "2024-02-29T13:28:24.119Z"
   },
   {
    "duration": 277,
    "start_time": "2024-02-29T13:28:24.129Z"
   },
   {
    "duration": 315,
    "start_time": "2024-02-29T13:28:24.408Z"
   },
   {
    "duration": 241,
    "start_time": "2024-02-29T13:28:24.726Z"
   },
   {
    "duration": 338,
    "start_time": "2024-02-29T13:28:24.969Z"
   },
   {
    "duration": 237,
    "start_time": "2024-02-29T13:28:25.309Z"
   },
   {
    "duration": 361,
    "start_time": "2024-02-29T13:28:25.548Z"
   },
   {
    "duration": 194,
    "start_time": "2024-02-29T13:28:25.911Z"
   },
   {
    "duration": 5,
    "start_time": "2024-02-29T13:28:26.106Z"
   },
   {
    "duration": 187,
    "start_time": "2024-02-29T13:28:26.112Z"
   },
   {
    "duration": 6,
    "start_time": "2024-02-29T13:28:26.300Z"
   },
   {
    "duration": 188,
    "start_time": "2024-02-29T13:28:26.307Z"
   },
   {
    "duration": 4,
    "start_time": "2024-02-29T13:28:26.496Z"
   },
   {
    "duration": 351,
    "start_time": "2024-02-29T13:28:26.502Z"
   },
   {
    "duration": 16,
    "start_time": "2024-02-29T13:28:26.854Z"
   },
   {
    "duration": 7,
    "start_time": "2024-02-29T13:28:26.871Z"
   },
   {
    "duration": 38,
    "start_time": "2024-02-29T13:28:26.879Z"
   },
   {
    "duration": 12,
    "start_time": "2024-02-29T13:28:26.919Z"
   },
   {
    "duration": 1069,
    "start_time": "2024-03-08T10:07:43.151Z"
   },
   {
    "duration": 1088,
    "start_time": "2024-05-15T12:03:13.144Z"
   },
   {
    "duration": 224,
    "start_time": "2024-05-15T12:03:15.232Z"
   },
   {
    "duration": 18,
    "start_time": "2024-05-15T12:03:32.978Z"
   },
   {
    "duration": 6,
    "start_time": "2024-05-15T12:03:43.709Z"
   },
   {
    "duration": 5,
    "start_time": "2024-05-15T12:03:49.527Z"
   },
   {
    "duration": 3,
    "start_time": "2024-05-15T12:03:51.828Z"
   },
   {
    "duration": 55,
    "start_time": "2024-05-15T12:04:37.342Z"
   },
   {
    "duration": 10,
    "start_time": "2024-05-15T12:04:45.091Z"
   },
   {
    "duration": 2,
    "start_time": "2024-05-15T12:05:06.101Z"
   },
   {
    "duration": 16,
    "start_time": "2024-05-15T12:05:10.018Z"
   },
   {
    "duration": 11,
    "start_time": "2024-05-15T12:05:30.909Z"
   },
   {
    "duration": 11,
    "start_time": "2024-05-15T12:05:38.794Z"
   },
   {
    "duration": 6,
    "start_time": "2024-05-15T12:06:52.066Z"
   },
   {
    "duration": 11,
    "start_time": "2024-05-15T12:06:52.933Z"
   },
   {
    "duration": 10,
    "start_time": "2024-05-15T12:06:53.768Z"
   },
   {
    "duration": 5,
    "start_time": "2024-05-15T12:06:54.784Z"
   },
   {
    "duration": 6,
    "start_time": "2024-05-15T12:06:59.203Z"
   },
   {
    "duration": 4,
    "start_time": "2024-05-15T12:07:12.223Z"
   },
   {
    "duration": 10,
    "start_time": "2024-05-15T12:07:16.090Z"
   },
   {
    "duration": 243,
    "start_time": "2024-05-15T12:07:24.875Z"
   },
   {
    "duration": 327,
    "start_time": "2024-05-15T12:07:36.047Z"
   },
   {
    "duration": 377,
    "start_time": "2024-05-15T12:09:02.575Z"
   },
   {
    "duration": 315,
    "start_time": "2024-05-15T12:09:16.067Z"
   },
   {
    "duration": 54,
    "start_time": "2024-05-15T12:09:40.919Z"
   },
   {
    "duration": 301,
    "start_time": "2024-05-15T12:09:49.906Z"
   },
   {
    "duration": 316,
    "start_time": "2024-05-15T12:10:59.560Z"
   },
   {
    "duration": 307,
    "start_time": "2024-05-15T12:11:06.713Z"
   },
   {
    "duration": 312,
    "start_time": "2024-05-15T12:11:19.833Z"
   },
   {
    "duration": 309,
    "start_time": "2024-05-15T12:11:26.771Z"
   },
   {
    "duration": 413,
    "start_time": "2024-05-15T12:11:45.391Z"
   },
   {
    "duration": 436,
    "start_time": "2024-05-15T12:11:55.395Z"
   },
   {
    "duration": 349,
    "start_time": "2024-05-15T12:12:05.630Z"
   },
   {
    "duration": 1105,
    "start_time": "2024-05-15T12:12:20.536Z"
   },
   {
    "duration": 74,
    "start_time": "2024-05-15T12:12:21.643Z"
   },
   {
    "duration": 19,
    "start_time": "2024-05-15T12:12:21.718Z"
   },
   {
    "duration": 17,
    "start_time": "2024-05-15T12:12:21.739Z"
   },
   {
    "duration": 19,
    "start_time": "2024-05-15T12:12:21.759Z"
   },
   {
    "duration": 25,
    "start_time": "2024-05-15T12:12:21.780Z"
   },
   {
    "duration": 8,
    "start_time": "2024-05-15T12:12:21.807Z"
   },
   {
    "duration": 27,
    "start_time": "2024-05-15T12:12:21.816Z"
   },
   {
    "duration": 8,
    "start_time": "2024-05-15T12:12:21.844Z"
   },
   {
    "duration": 8,
    "start_time": "2024-05-15T12:12:21.854Z"
   },
   {
    "duration": 12,
    "start_time": "2024-05-15T12:12:21.864Z"
   },
   {
    "duration": 9,
    "start_time": "2024-05-15T12:12:21.877Z"
   },
   {
    "duration": 18,
    "start_time": "2024-05-15T12:12:21.888Z"
   },
   {
    "duration": 20,
    "start_time": "2024-05-15T12:12:21.909Z"
   },
   {
    "duration": 32,
    "start_time": "2024-05-15T12:12:21.931Z"
   },
   {
    "duration": 20,
    "start_time": "2024-05-15T12:12:21.966Z"
   },
   {
    "duration": 19,
    "start_time": "2024-05-15T12:12:21.988Z"
   },
   {
    "duration": 18,
    "start_time": "2024-05-15T12:12:22.009Z"
   },
   {
    "duration": 21,
    "start_time": "2024-05-15T12:12:22.029Z"
   },
   {
    "duration": 18,
    "start_time": "2024-05-15T12:12:22.052Z"
   },
   {
    "duration": 23,
    "start_time": "2024-05-15T12:12:22.071Z"
   },
   {
    "duration": 25,
    "start_time": "2024-05-15T12:12:22.095Z"
   },
   {
    "duration": 31,
    "start_time": "2024-05-15T12:12:22.122Z"
   },
   {
    "duration": 273,
    "start_time": "2024-05-15T12:12:22.154Z"
   },
   {
    "duration": 327,
    "start_time": "2024-05-15T12:12:22.429Z"
   },
   {
    "duration": 230,
    "start_time": "2024-05-15T12:12:22.757Z"
   },
   {
    "duration": 342,
    "start_time": "2024-05-15T12:12:22.989Z"
   },
   {
    "duration": 226,
    "start_time": "2024-05-15T12:12:23.333Z"
   },
   {
    "duration": 374,
    "start_time": "2024-05-15T12:12:23.561Z"
   },
   {
    "duration": 198,
    "start_time": "2024-05-15T12:12:23.937Z"
   },
   {
    "duration": 3,
    "start_time": "2024-05-15T12:12:24.137Z"
   },
   {
    "duration": 272,
    "start_time": "2024-05-15T12:12:24.142Z"
   },
   {
    "duration": 5,
    "start_time": "2024-05-15T12:12:24.418Z"
   },
   {
    "duration": 186,
    "start_time": "2024-05-15T12:12:24.425Z"
   },
   {
    "duration": 6,
    "start_time": "2024-05-15T12:12:24.613Z"
   },
   {
    "duration": 332,
    "start_time": "2024-05-15T12:12:24.621Z"
   },
   {
    "duration": 11,
    "start_time": "2024-05-15T12:12:24.955Z"
   },
   {
    "duration": 26,
    "start_time": "2024-05-15T12:12:24.967Z"
   },
   {
    "duration": 32,
    "start_time": "2024-05-15T12:12:24.995Z"
   },
   {
    "duration": 13,
    "start_time": "2024-05-15T12:12:25.029Z"
   },
   {
    "duration": 1068,
    "start_time": "2024-05-15T12:19:09.342Z"
   },
   {
    "duration": 74,
    "start_time": "2024-05-15T12:19:10.412Z"
   },
   {
    "duration": 19,
    "start_time": "2024-05-15T12:19:10.488Z"
   },
   {
    "duration": 12,
    "start_time": "2024-05-15T12:19:10.510Z"
   },
   {
    "duration": 13,
    "start_time": "2024-05-15T12:19:10.524Z"
   },
   {
    "duration": 9,
    "start_time": "2024-05-15T12:19:10.539Z"
   },
   {
    "duration": 9,
    "start_time": "2024-05-15T12:19:10.550Z"
   },
   {
    "duration": 15,
    "start_time": "2024-05-15T12:19:10.560Z"
   },
   {
    "duration": 11,
    "start_time": "2024-05-15T12:19:10.577Z"
   },
   {
    "duration": 8,
    "start_time": "2024-05-15T12:19:10.592Z"
   },
   {
    "duration": 22,
    "start_time": "2024-05-15T12:19:10.601Z"
   },
   {
    "duration": 9,
    "start_time": "2024-05-15T12:19:10.624Z"
   },
   {
    "duration": 10,
    "start_time": "2024-05-15T12:19:10.634Z"
   },
   {
    "duration": 5,
    "start_time": "2024-05-15T12:19:10.646Z"
   },
   {
    "duration": 17,
    "start_time": "2024-05-15T12:19:10.652Z"
   },
   {
    "duration": 10,
    "start_time": "2024-05-15T12:19:10.671Z"
   },
   {
    "duration": 37,
    "start_time": "2024-05-15T12:19:10.682Z"
   },
   {
    "duration": 6,
    "start_time": "2024-05-15T12:19:10.721Z"
   },
   {
    "duration": 10,
    "start_time": "2024-05-15T12:19:10.728Z"
   },
   {
    "duration": 7,
    "start_time": "2024-05-15T12:19:10.739Z"
   },
   {
    "duration": 5,
    "start_time": "2024-05-15T12:19:10.747Z"
   },
   {
    "duration": 14,
    "start_time": "2024-05-15T12:19:10.754Z"
   },
   {
    "duration": 9,
    "start_time": "2024-05-15T12:19:10.770Z"
   },
   {
    "duration": 284,
    "start_time": "2024-05-15T12:19:10.780Z"
   },
   {
    "duration": 320,
    "start_time": "2024-05-15T12:19:11.066Z"
   },
   {
    "duration": 238,
    "start_time": "2024-05-15T12:19:11.388Z"
   },
   {
    "duration": 340,
    "start_time": "2024-05-15T12:19:11.628Z"
   },
   {
    "duration": 263,
    "start_time": "2024-05-15T12:19:11.971Z"
   },
   {
    "duration": 334,
    "start_time": "2024-05-15T12:19:12.235Z"
   },
   {
    "duration": 185,
    "start_time": "2024-05-15T12:19:12.571Z"
   },
   {
    "duration": 5,
    "start_time": "2024-05-15T12:19:12.757Z"
   },
   {
    "duration": 186,
    "start_time": "2024-05-15T12:19:12.764Z"
   },
   {
    "duration": 5,
    "start_time": "2024-05-15T12:19:12.952Z"
   },
   {
    "duration": 187,
    "start_time": "2024-05-15T12:19:12.959Z"
   },
   {
    "duration": 4,
    "start_time": "2024-05-15T12:19:13.148Z"
   },
   {
    "duration": 343,
    "start_time": "2024-05-15T12:19:13.154Z"
   },
   {
    "duration": 21,
    "start_time": "2024-05-15T12:19:13.499Z"
   },
   {
    "duration": 9,
    "start_time": "2024-05-15T12:19:13.522Z"
   },
   {
    "duration": 32,
    "start_time": "2024-05-15T12:19:13.532Z"
   },
   {
    "duration": 13,
    "start_time": "2024-05-15T12:19:13.566Z"
   }
  ],
  "kernelspec": {
   "display_name": "Python 3 (ipykernel)",
   "language": "python",
   "name": "python3"
  },
  "language_info": {
   "codemirror_mode": {
    "name": "ipython",
    "version": 3
   },
   "file_extension": ".py",
   "mimetype": "text/x-python",
   "name": "python",
   "nbconvert_exporter": "python",
   "pygments_lexer": "ipython3",
   "version": "3.9.5"
  },
  "toc": {
   "base_numbering": 1,
   "nav_menu": {},
   "number_sections": true,
   "sideBar": true,
   "skip_h1_title": true,
   "title_cell": "Table of Contents",
   "title_sidebar": "Contents",
   "toc_cell": false,
   "toc_position": {},
   "toc_section_display": true,
   "toc_window_display": true
  }
 },
 "nbformat": 4,
 "nbformat_minor": 2
}
