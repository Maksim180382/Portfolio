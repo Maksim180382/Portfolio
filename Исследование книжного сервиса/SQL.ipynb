{
 "cells": [
  {
   "cell_type": "markdown",
   "metadata": {},
   "source": [
    "# Исследование книжного сервиса"
   ]
  },
  {
   "cell_type": "markdown",
   "metadata": {},
   "source": [
    "Hаша компания решила быть на волне и купила крупный сервис для чтения книг по подписке. Наша первая задача как аналитика — проанализировать базу данных.\n",
    "В ней — информация о книгах, издательствах, авторах, а также пользовательские обзоры книг. Эти данные помогут сформулировать ценностное предложение для нового продукта.\n"
   ]
  },
  {
   "cell_type": "markdown",
   "metadata": {},
   "source": [
    "Нам дано:  \n",
    "Таблица books, содержит данные о книгах\n",
    "\n",
    "Таблица authors, содержит данные об авторах\n",
    "\n",
    "Таблица publishers, содержит данные об издательствах\n",
    "\n",
    "Таблица ratings, содержит данные о пользовательских оценках книг\n",
    "\n",
    "Таблица reviews, содержит данные о пользовательских обзорах на книги"
   ]
  },
  {
   "cell_type": "code",
   "execution_count": 1,
   "metadata": {},
   "outputs": [
    {
     "data": {
      "text/html": [
       "<div>\n",
       "<style scoped>\n",
       "    .dataframe tbody tr th:only-of-type {\n",
       "        vertical-align: middle;\n",
       "    }\n",
       "\n",
       "    .dataframe tbody tr th {\n",
       "        vertical-align: top;\n",
       "    }\n",
       "\n",
       "    .dataframe thead th {\n",
       "        text-align: right;\n",
       "    }\n",
       "</style>\n",
       "<table border=\"1\" class=\"dataframe\">\n",
       "  <thead>\n",
       "    <tr style=\"text-align: right;\">\n",
       "      <th></th>\n",
       "      <th>book_id</th>\n",
       "      <th>author_id</th>\n",
       "      <th>title</th>\n",
       "      <th>num_pages</th>\n",
       "      <th>publication_date</th>\n",
       "      <th>publisher_id</th>\n",
       "    </tr>\n",
       "  </thead>\n",
       "  <tbody>\n",
       "    <tr>\n",
       "      <th>0</th>\n",
       "      <td>1</td>\n",
       "      <td>546</td>\n",
       "      <td>'Salem's Lot</td>\n",
       "      <td>594</td>\n",
       "      <td>2005-11-01</td>\n",
       "      <td>93</td>\n",
       "    </tr>\n",
       "    <tr>\n",
       "      <th>1</th>\n",
       "      <td>2</td>\n",
       "      <td>465</td>\n",
       "      <td>1 000 Places to See Before You Die</td>\n",
       "      <td>992</td>\n",
       "      <td>2003-05-22</td>\n",
       "      <td>336</td>\n",
       "    </tr>\n",
       "    <tr>\n",
       "      <th>2</th>\n",
       "      <td>3</td>\n",
       "      <td>407</td>\n",
       "      <td>13 Little Blue Envelopes (Little Blue Envelope...</td>\n",
       "      <td>322</td>\n",
       "      <td>2010-12-21</td>\n",
       "      <td>135</td>\n",
       "    </tr>\n",
       "    <tr>\n",
       "      <th>3</th>\n",
       "      <td>4</td>\n",
       "      <td>82</td>\n",
       "      <td>1491: New Revelations of the Americas Before C...</td>\n",
       "      <td>541</td>\n",
       "      <td>2006-10-10</td>\n",
       "      <td>309</td>\n",
       "    </tr>\n",
       "    <tr>\n",
       "      <th>4</th>\n",
       "      <td>5</td>\n",
       "      <td>125</td>\n",
       "      <td>1776</td>\n",
       "      <td>386</td>\n",
       "      <td>2006-07-04</td>\n",
       "      <td>268</td>\n",
       "    </tr>\n",
       "  </tbody>\n",
       "</table>\n",
       "</div>"
      ],
      "text/plain": [
       "   book_id  author_id                                              title  \\\n",
       "0        1        546                                       'Salem's Lot   \n",
       "1        2        465                 1 000 Places to See Before You Die   \n",
       "2        3        407  13 Little Blue Envelopes (Little Blue Envelope...   \n",
       "3        4         82  1491: New Revelations of the Americas Before C...   \n",
       "4        5        125                                               1776   \n",
       "\n",
       "   num_pages publication_date  publisher_id  \n",
       "0        594       2005-11-01            93  \n",
       "1        992       2003-05-22           336  \n",
       "2        322       2010-12-21           135  \n",
       "3        541       2006-10-10           309  \n",
       "4        386       2006-07-04           268  "
      ]
     },
     "execution_count": 1,
     "metadata": {},
     "output_type": "execute_result"
    }
   ],
   "source": [
    "# импортируем библиотеки\n",
    "import pandas as pd\n",
    "from sqlalchemy import text, create_engine\n",
    "# устанавливаем параметры\n",
    "db_config = {'user': 'praktikum_student', # имя пользователя\n",
    "'pwd': 'Sdf4$2;d-d30pp', # пароль\n",
    "'host': 'rc1b-wcoijxj3yxfsf3fs.mdb.yandexcloud.net',\n",
    "'port': 6432, # порт подключения\n",
    "'db': 'data-analyst-final-project-db'} # название базы данных\n",
    "connection_string = 'postgresql://{user}:{pwd}@{host}:{port}/{db}'.format(**db_config)\n",
    "# сохраняем коннектор\n",
    "engine = create_engine(connection_string, connect_args={'sslmode':'require'})\n",
    "# чтобы выполнить SQL-запрос, используем Pandas\n",
    "query = '''SELECT * FROM books LIMIT 5'''\n",
    "con=engine.connect()\n",
    "pd.io.sql.read_sql(sql=text(query), con = con)"
   ]
  },
  {
   "cell_type": "code",
   "execution_count": 2,
   "metadata": {},
   "outputs": [
    {
     "data": {
      "text/html": [
       "<div>\n",
       "<style scoped>\n",
       "    .dataframe tbody tr th:only-of-type {\n",
       "        vertical-align: middle;\n",
       "    }\n",
       "\n",
       "    .dataframe tbody tr th {\n",
       "        vertical-align: top;\n",
       "    }\n",
       "\n",
       "    .dataframe thead th {\n",
       "        text-align: right;\n",
       "    }\n",
       "</style>\n",
       "<table border=\"1\" class=\"dataframe\">\n",
       "  <thead>\n",
       "    <tr style=\"text-align: right;\">\n",
       "      <th></th>\n",
       "      <th>book_id</th>\n",
       "      <th>author_id</th>\n",
       "      <th>title</th>\n",
       "      <th>num_pages</th>\n",
       "      <th>publication_date</th>\n",
       "      <th>publisher_id</th>\n",
       "    </tr>\n",
       "  </thead>\n",
       "  <tbody>\n",
       "    <tr>\n",
       "      <th>0</th>\n",
       "      <td>1</td>\n",
       "      <td>546</td>\n",
       "      <td>'Salem's Lot</td>\n",
       "      <td>594</td>\n",
       "      <td>2005-11-01</td>\n",
       "      <td>93</td>\n",
       "    </tr>\n",
       "    <tr>\n",
       "      <th>1</th>\n",
       "      <td>2</td>\n",
       "      <td>465</td>\n",
       "      <td>1 000 Places to See Before You Die</td>\n",
       "      <td>992</td>\n",
       "      <td>2003-05-22</td>\n",
       "      <td>336</td>\n",
       "    </tr>\n",
       "    <tr>\n",
       "      <th>2</th>\n",
       "      <td>3</td>\n",
       "      <td>407</td>\n",
       "      <td>13 Little Blue Envelopes (Little Blue Envelope...</td>\n",
       "      <td>322</td>\n",
       "      <td>2010-12-21</td>\n",
       "      <td>135</td>\n",
       "    </tr>\n",
       "    <tr>\n",
       "      <th>3</th>\n",
       "      <td>4</td>\n",
       "      <td>82</td>\n",
       "      <td>1491: New Revelations of the Americas Before C...</td>\n",
       "      <td>541</td>\n",
       "      <td>2006-10-10</td>\n",
       "      <td>309</td>\n",
       "    </tr>\n",
       "    <tr>\n",
       "      <th>4</th>\n",
       "      <td>5</td>\n",
       "      <td>125</td>\n",
       "      <td>1776</td>\n",
       "      <td>386</td>\n",
       "      <td>2006-07-04</td>\n",
       "      <td>268</td>\n",
       "    </tr>\n",
       "    <tr>\n",
       "      <th>...</th>\n",
       "      <td>...</td>\n",
       "      <td>...</td>\n",
       "      <td>...</td>\n",
       "      <td>...</td>\n",
       "      <td>...</td>\n",
       "      <td>...</td>\n",
       "    </tr>\n",
       "    <tr>\n",
       "      <th>995</th>\n",
       "      <td>996</td>\n",
       "      <td>571</td>\n",
       "      <td>Wyrd Sisters (Discworld  #6; Witches #2)</td>\n",
       "      <td>265</td>\n",
       "      <td>2001-02-06</td>\n",
       "      <td>147</td>\n",
       "    </tr>\n",
       "    <tr>\n",
       "      <th>996</th>\n",
       "      <td>997</td>\n",
       "      <td>454</td>\n",
       "      <td>Xenocide (Ender's Saga  #3)</td>\n",
       "      <td>592</td>\n",
       "      <td>1996-07-15</td>\n",
       "      <td>297</td>\n",
       "    </tr>\n",
       "    <tr>\n",
       "      <th>997</th>\n",
       "      <td>998</td>\n",
       "      <td>201</td>\n",
       "      <td>Year of Wonders</td>\n",
       "      <td>358</td>\n",
       "      <td>2002-04-30</td>\n",
       "      <td>212</td>\n",
       "    </tr>\n",
       "    <tr>\n",
       "      <th>998</th>\n",
       "      <td>999</td>\n",
       "      <td>94</td>\n",
       "      <td>You Suck (A Love Story  #2)</td>\n",
       "      <td>328</td>\n",
       "      <td>2007-01-16</td>\n",
       "      <td>331</td>\n",
       "    </tr>\n",
       "    <tr>\n",
       "      <th>999</th>\n",
       "      <td>1000</td>\n",
       "      <td>509</td>\n",
       "      <td>Zen and the Art of Motorcycle Maintenance: An ...</td>\n",
       "      <td>540</td>\n",
       "      <td>2006-04-25</td>\n",
       "      <td>143</td>\n",
       "    </tr>\n",
       "  </tbody>\n",
       "</table>\n",
       "<p>1000 rows × 6 columns</p>\n",
       "</div>"
      ],
      "text/plain": [
       "     book_id  author_id                                              title  \\\n",
       "0          1        546                                       'Salem's Lot   \n",
       "1          2        465                 1 000 Places to See Before You Die   \n",
       "2          3        407  13 Little Blue Envelopes (Little Blue Envelope...   \n",
       "3          4         82  1491: New Revelations of the Americas Before C...   \n",
       "4          5        125                                               1776   \n",
       "..       ...        ...                                                ...   \n",
       "995      996        571           Wyrd Sisters (Discworld  #6; Witches #2)   \n",
       "996      997        454                        Xenocide (Ender's Saga  #3)   \n",
       "997      998        201                                    Year of Wonders   \n",
       "998      999         94                        You Suck (A Love Story  #2)   \n",
       "999     1000        509  Zen and the Art of Motorcycle Maintenance: An ...   \n",
       "\n",
       "     num_pages publication_date  publisher_id  \n",
       "0          594       2005-11-01            93  \n",
       "1          992       2003-05-22           336  \n",
       "2          322       2010-12-21           135  \n",
       "3          541       2006-10-10           309  \n",
       "4          386       2006-07-04           268  \n",
       "..         ...              ...           ...  \n",
       "995        265       2001-02-06           147  \n",
       "996        592       1996-07-15           297  \n",
       "997        358       2002-04-30           212  \n",
       "998        328       2007-01-16           331  \n",
       "999        540       2006-04-25           143  \n",
       "\n",
       "[1000 rows x 6 columns]"
      ]
     },
     "execution_count": 2,
     "metadata": {},
     "output_type": "execute_result"
    }
   ],
   "source": [
    "books = '''SELECT * \n",
    "FROM books'''\n",
    "con=engine.connect()\n",
    "pd.io.sql.read_sql(sql=text(books), con = con)\n",
    "# откроем и просмотрим таблицу \"books\""
   ]
  },
  {
   "cell_type": "code",
   "execution_count": 3,
   "metadata": {},
   "outputs": [
    {
     "data": {
      "text/html": [
       "<div>\n",
       "<style scoped>\n",
       "    .dataframe tbody tr th:only-of-type {\n",
       "        vertical-align: middle;\n",
       "    }\n",
       "\n",
       "    .dataframe tbody tr th {\n",
       "        vertical-align: top;\n",
       "    }\n",
       "\n",
       "    .dataframe thead th {\n",
       "        text-align: right;\n",
       "    }\n",
       "</style>\n",
       "<table border=\"1\" class=\"dataframe\">\n",
       "  <thead>\n",
       "    <tr style=\"text-align: right;\">\n",
       "      <th></th>\n",
       "      <th>rating_id</th>\n",
       "      <th>book_id</th>\n",
       "      <th>username</th>\n",
       "      <th>rating</th>\n",
       "    </tr>\n",
       "  </thead>\n",
       "  <tbody>\n",
       "    <tr>\n",
       "      <th>0</th>\n",
       "      <td>1</td>\n",
       "      <td>1</td>\n",
       "      <td>ryanfranco</td>\n",
       "      <td>4</td>\n",
       "    </tr>\n",
       "    <tr>\n",
       "      <th>1</th>\n",
       "      <td>2</td>\n",
       "      <td>1</td>\n",
       "      <td>grantpatricia</td>\n",
       "      <td>2</td>\n",
       "    </tr>\n",
       "    <tr>\n",
       "      <th>2</th>\n",
       "      <td>3</td>\n",
       "      <td>1</td>\n",
       "      <td>brandtandrea</td>\n",
       "      <td>5</td>\n",
       "    </tr>\n",
       "    <tr>\n",
       "      <th>3</th>\n",
       "      <td>4</td>\n",
       "      <td>2</td>\n",
       "      <td>lorichen</td>\n",
       "      <td>3</td>\n",
       "    </tr>\n",
       "    <tr>\n",
       "      <th>4</th>\n",
       "      <td>5</td>\n",
       "      <td>2</td>\n",
       "      <td>mariokeller</td>\n",
       "      <td>2</td>\n",
       "    </tr>\n",
       "    <tr>\n",
       "      <th>...</th>\n",
       "      <td>...</td>\n",
       "      <td>...</td>\n",
       "      <td>...</td>\n",
       "      <td>...</td>\n",
       "    </tr>\n",
       "    <tr>\n",
       "      <th>6451</th>\n",
       "      <td>6452</td>\n",
       "      <td>1000</td>\n",
       "      <td>carolrodriguez</td>\n",
       "      <td>4</td>\n",
       "    </tr>\n",
       "    <tr>\n",
       "      <th>6452</th>\n",
       "      <td>6453</td>\n",
       "      <td>1000</td>\n",
       "      <td>wendy18</td>\n",
       "      <td>4</td>\n",
       "    </tr>\n",
       "    <tr>\n",
       "      <th>6453</th>\n",
       "      <td>6454</td>\n",
       "      <td>1000</td>\n",
       "      <td>jarvispaul</td>\n",
       "      <td>5</td>\n",
       "    </tr>\n",
       "    <tr>\n",
       "      <th>6454</th>\n",
       "      <td>6455</td>\n",
       "      <td>1000</td>\n",
       "      <td>zross</td>\n",
       "      <td>2</td>\n",
       "    </tr>\n",
       "    <tr>\n",
       "      <th>6455</th>\n",
       "      <td>6456</td>\n",
       "      <td>1000</td>\n",
       "      <td>fharris</td>\n",
       "      <td>5</td>\n",
       "    </tr>\n",
       "  </tbody>\n",
       "</table>\n",
       "<p>6456 rows × 4 columns</p>\n",
       "</div>"
      ],
      "text/plain": [
       "      rating_id  book_id        username  rating\n",
       "0             1        1      ryanfranco       4\n",
       "1             2        1   grantpatricia       2\n",
       "2             3        1    brandtandrea       5\n",
       "3             4        2        lorichen       3\n",
       "4             5        2     mariokeller       2\n",
       "...         ...      ...             ...     ...\n",
       "6451       6452     1000  carolrodriguez       4\n",
       "6452       6453     1000         wendy18       4\n",
       "6453       6454     1000      jarvispaul       5\n",
       "6454       6455     1000           zross       2\n",
       "6455       6456     1000         fharris       5\n",
       "\n",
       "[6456 rows x 4 columns]"
      ]
     },
     "execution_count": 3,
     "metadata": {},
     "output_type": "execute_result"
    }
   ],
   "source": [
    "ratings = '''SELECT * \n",
    "FROM ratings'''\n",
    "con=engine.connect()\n",
    "pd.io.sql.read_sql(sql=text(ratings), con = con)\n",
    "# откроем и просмотрим таблицу \"rating\""
   ]
  },
  {
   "cell_type": "code",
   "execution_count": 4,
   "metadata": {},
   "outputs": [
    {
     "data": {
      "text/html": [
       "<div>\n",
       "<style scoped>\n",
       "    .dataframe tbody tr th:only-of-type {\n",
       "        vertical-align: middle;\n",
       "    }\n",
       "\n",
       "    .dataframe tbody tr th {\n",
       "        vertical-align: top;\n",
       "    }\n",
       "\n",
       "    .dataframe thead th {\n",
       "        text-align: right;\n",
       "    }\n",
       "</style>\n",
       "<table border=\"1\" class=\"dataframe\">\n",
       "  <thead>\n",
       "    <tr style=\"text-align: right;\">\n",
       "      <th></th>\n",
       "      <th>author_id</th>\n",
       "      <th>author</th>\n",
       "    </tr>\n",
       "  </thead>\n",
       "  <tbody>\n",
       "    <tr>\n",
       "      <th>0</th>\n",
       "      <td>1</td>\n",
       "      <td>A.S. Byatt</td>\n",
       "    </tr>\n",
       "    <tr>\n",
       "      <th>1</th>\n",
       "      <td>2</td>\n",
       "      <td>Aesop/Laura Harris/Laura Gibbs</td>\n",
       "    </tr>\n",
       "    <tr>\n",
       "      <th>2</th>\n",
       "      <td>3</td>\n",
       "      <td>Agatha Christie</td>\n",
       "    </tr>\n",
       "    <tr>\n",
       "      <th>3</th>\n",
       "      <td>4</td>\n",
       "      <td>Alan Brennert</td>\n",
       "    </tr>\n",
       "    <tr>\n",
       "      <th>4</th>\n",
       "      <td>5</td>\n",
       "      <td>Alan Moore/David   Lloyd</td>\n",
       "    </tr>\n",
       "    <tr>\n",
       "      <th>...</th>\n",
       "      <td>...</td>\n",
       "      <td>...</td>\n",
       "    </tr>\n",
       "    <tr>\n",
       "      <th>631</th>\n",
       "      <td>632</td>\n",
       "      <td>William Strunk Jr./E.B. White</td>\n",
       "    </tr>\n",
       "    <tr>\n",
       "      <th>632</th>\n",
       "      <td>633</td>\n",
       "      <td>Zadie Smith</td>\n",
       "    </tr>\n",
       "    <tr>\n",
       "      <th>633</th>\n",
       "      <td>634</td>\n",
       "      <td>Zilpha Keatley Snyder</td>\n",
       "    </tr>\n",
       "    <tr>\n",
       "      <th>634</th>\n",
       "      <td>635</td>\n",
       "      <td>Zora Neale Hurston</td>\n",
       "    </tr>\n",
       "    <tr>\n",
       "      <th>635</th>\n",
       "      <td>636</td>\n",
       "      <td>Åsne Seierstad/Ingrid Christopherson</td>\n",
       "    </tr>\n",
       "  </tbody>\n",
       "</table>\n",
       "<p>636 rows × 2 columns</p>\n",
       "</div>"
      ],
      "text/plain": [
       "     author_id                                author\n",
       "0            1                            A.S. Byatt\n",
       "1            2        Aesop/Laura Harris/Laura Gibbs\n",
       "2            3                       Agatha Christie\n",
       "3            4                         Alan Brennert\n",
       "4            5              Alan Moore/David   Lloyd\n",
       "..         ...                                   ...\n",
       "631        632         William Strunk Jr./E.B. White\n",
       "632        633                           Zadie Smith\n",
       "633        634                 Zilpha Keatley Snyder\n",
       "634        635                    Zora Neale Hurston\n",
       "635        636  Åsne Seierstad/Ingrid Christopherson\n",
       "\n",
       "[636 rows x 2 columns]"
      ]
     },
     "execution_count": 4,
     "metadata": {},
     "output_type": "execute_result"
    }
   ],
   "source": [
    "authors = '''SELECT * \n",
    "FROM authors'''\n",
    "con=engine.connect()\n",
    "pd.io.sql.read_sql(sql=text(authors), con = con)\n",
    "# откроем и просмотрим таблицу \"authors\""
   ]
  },
  {
   "cell_type": "code",
   "execution_count": 5,
   "metadata": {},
   "outputs": [
    {
     "data": {
      "text/html": [
       "<div>\n",
       "<style scoped>\n",
       "    .dataframe tbody tr th:only-of-type {\n",
       "        vertical-align: middle;\n",
       "    }\n",
       "\n",
       "    .dataframe tbody tr th {\n",
       "        vertical-align: top;\n",
       "    }\n",
       "\n",
       "    .dataframe thead th {\n",
       "        text-align: right;\n",
       "    }\n",
       "</style>\n",
       "<table border=\"1\" class=\"dataframe\">\n",
       "  <thead>\n",
       "    <tr style=\"text-align: right;\">\n",
       "      <th></th>\n",
       "      <th>review_id</th>\n",
       "      <th>book_id</th>\n",
       "      <th>username</th>\n",
       "      <th>text</th>\n",
       "    </tr>\n",
       "  </thead>\n",
       "  <tbody>\n",
       "    <tr>\n",
       "      <th>0</th>\n",
       "      <td>1</td>\n",
       "      <td>1</td>\n",
       "      <td>brandtandrea</td>\n",
       "      <td>Mention society tell send professor analysis. ...</td>\n",
       "    </tr>\n",
       "    <tr>\n",
       "      <th>1</th>\n",
       "      <td>2</td>\n",
       "      <td>1</td>\n",
       "      <td>ryanfranco</td>\n",
       "      <td>Foot glass pretty audience hit themselves. Amo...</td>\n",
       "    </tr>\n",
       "    <tr>\n",
       "      <th>2</th>\n",
       "      <td>3</td>\n",
       "      <td>2</td>\n",
       "      <td>lorichen</td>\n",
       "      <td>Listen treat keep worry. Miss husband tax but ...</td>\n",
       "    </tr>\n",
       "    <tr>\n",
       "      <th>3</th>\n",
       "      <td>4</td>\n",
       "      <td>3</td>\n",
       "      <td>johnsonamanda</td>\n",
       "      <td>Finally month interesting blue could nature cu...</td>\n",
       "    </tr>\n",
       "    <tr>\n",
       "      <th>4</th>\n",
       "      <td>5</td>\n",
       "      <td>3</td>\n",
       "      <td>scotttamara</td>\n",
       "      <td>Nation purpose heavy give wait song will. List...</td>\n",
       "    </tr>\n",
       "    <tr>\n",
       "      <th>...</th>\n",
       "      <td>...</td>\n",
       "      <td>...</td>\n",
       "      <td>...</td>\n",
       "      <td>...</td>\n",
       "    </tr>\n",
       "    <tr>\n",
       "      <th>2788</th>\n",
       "      <td>2789</td>\n",
       "      <td>999</td>\n",
       "      <td>martinadam</td>\n",
       "      <td>Later hospital turn easy community. Fact same ...</td>\n",
       "    </tr>\n",
       "    <tr>\n",
       "      <th>2789</th>\n",
       "      <td>2790</td>\n",
       "      <td>1000</td>\n",
       "      <td>wknight</td>\n",
       "      <td>Change lose answer close pressure. Spend so now.</td>\n",
       "    </tr>\n",
       "    <tr>\n",
       "      <th>2790</th>\n",
       "      <td>2791</td>\n",
       "      <td>1000</td>\n",
       "      <td>carolrodriguez</td>\n",
       "      <td>Authority go who television entire hair guy po...</td>\n",
       "    </tr>\n",
       "    <tr>\n",
       "      <th>2791</th>\n",
       "      <td>2792</td>\n",
       "      <td>1000</td>\n",
       "      <td>wendy18</td>\n",
       "      <td>Or western offer wonder ask. More hear phone f...</td>\n",
       "    </tr>\n",
       "    <tr>\n",
       "      <th>2792</th>\n",
       "      <td>2793</td>\n",
       "      <td>1000</td>\n",
       "      <td>jarvispaul</td>\n",
       "      <td>Republican staff bit eat material measure plan...</td>\n",
       "    </tr>\n",
       "  </tbody>\n",
       "</table>\n",
       "<p>2793 rows × 4 columns</p>\n",
       "</div>"
      ],
      "text/plain": [
       "      review_id  book_id        username  \\\n",
       "0             1        1    brandtandrea   \n",
       "1             2        1      ryanfranco   \n",
       "2             3        2        lorichen   \n",
       "3             4        3   johnsonamanda   \n",
       "4             5        3     scotttamara   \n",
       "...         ...      ...             ...   \n",
       "2788       2789      999      martinadam   \n",
       "2789       2790     1000         wknight   \n",
       "2790       2791     1000  carolrodriguez   \n",
       "2791       2792     1000         wendy18   \n",
       "2792       2793     1000      jarvispaul   \n",
       "\n",
       "                                                   text  \n",
       "0     Mention society tell send professor analysis. ...  \n",
       "1     Foot glass pretty audience hit themselves. Amo...  \n",
       "2     Listen treat keep worry. Miss husband tax but ...  \n",
       "3     Finally month interesting blue could nature cu...  \n",
       "4     Nation purpose heavy give wait song will. List...  \n",
       "...                                                 ...  \n",
       "2788  Later hospital turn easy community. Fact same ...  \n",
       "2789   Change lose answer close pressure. Spend so now.  \n",
       "2790  Authority go who television entire hair guy po...  \n",
       "2791  Or western offer wonder ask. More hear phone f...  \n",
       "2792  Republican staff bit eat material measure plan...  \n",
       "\n",
       "[2793 rows x 4 columns]"
      ]
     },
     "execution_count": 5,
     "metadata": {},
     "output_type": "execute_result"
    }
   ],
   "source": [
    "reviews = '''SELECT * \n",
    "FROM reviews'''\n",
    "con=engine.connect()\n",
    "pd.io.sql.read_sql(sql=text(reviews), con = con)\n",
    "# откроем и просмотрим таблицу \"reviews\""
   ]
  },
  {
   "cell_type": "code",
   "execution_count": 6,
   "metadata": {},
   "outputs": [
    {
     "data": {
      "text/html": [
       "<div>\n",
       "<style scoped>\n",
       "    .dataframe tbody tr th:only-of-type {\n",
       "        vertical-align: middle;\n",
       "    }\n",
       "\n",
       "    .dataframe tbody tr th {\n",
       "        vertical-align: top;\n",
       "    }\n",
       "\n",
       "    .dataframe thead th {\n",
       "        text-align: right;\n",
       "    }\n",
       "</style>\n",
       "<table border=\"1\" class=\"dataframe\">\n",
       "  <thead>\n",
       "    <tr style=\"text-align: right;\">\n",
       "      <th></th>\n",
       "      <th>publisher_id</th>\n",
       "      <th>publisher</th>\n",
       "    </tr>\n",
       "  </thead>\n",
       "  <tbody>\n",
       "    <tr>\n",
       "      <th>0</th>\n",
       "      <td>1</td>\n",
       "      <td>Ace</td>\n",
       "    </tr>\n",
       "    <tr>\n",
       "      <th>1</th>\n",
       "      <td>2</td>\n",
       "      <td>Ace Book</td>\n",
       "    </tr>\n",
       "    <tr>\n",
       "      <th>2</th>\n",
       "      <td>3</td>\n",
       "      <td>Ace Books</td>\n",
       "    </tr>\n",
       "    <tr>\n",
       "      <th>3</th>\n",
       "      <td>4</td>\n",
       "      <td>Ace Hardcover</td>\n",
       "    </tr>\n",
       "    <tr>\n",
       "      <th>4</th>\n",
       "      <td>5</td>\n",
       "      <td>Addison Wesley Publishing Company</td>\n",
       "    </tr>\n",
       "    <tr>\n",
       "      <th>...</th>\n",
       "      <td>...</td>\n",
       "      <td>...</td>\n",
       "    </tr>\n",
       "    <tr>\n",
       "      <th>335</th>\n",
       "      <td>336</td>\n",
       "      <td>Workman Publishing Company</td>\n",
       "    </tr>\n",
       "    <tr>\n",
       "      <th>336</th>\n",
       "      <td>337</td>\n",
       "      <td>Wyatt Book</td>\n",
       "    </tr>\n",
       "    <tr>\n",
       "      <th>337</th>\n",
       "      <td>338</td>\n",
       "      <td>Yale University Press</td>\n",
       "    </tr>\n",
       "    <tr>\n",
       "      <th>338</th>\n",
       "      <td>339</td>\n",
       "      <td>Yearling</td>\n",
       "    </tr>\n",
       "    <tr>\n",
       "      <th>339</th>\n",
       "      <td>340</td>\n",
       "      <td>Yearling Books</td>\n",
       "    </tr>\n",
       "  </tbody>\n",
       "</table>\n",
       "<p>340 rows × 2 columns</p>\n",
       "</div>"
      ],
      "text/plain": [
       "     publisher_id                          publisher\n",
       "0               1                                Ace\n",
       "1               2                           Ace Book\n",
       "2               3                          Ace Books\n",
       "3               4                      Ace Hardcover\n",
       "4               5  Addison Wesley Publishing Company\n",
       "..            ...                                ...\n",
       "335           336         Workman Publishing Company\n",
       "336           337                         Wyatt Book\n",
       "337           338              Yale University Press\n",
       "338           339                           Yearling\n",
       "339           340                     Yearling Books\n",
       "\n",
       "[340 rows x 2 columns]"
      ]
     },
     "execution_count": 6,
     "metadata": {},
     "output_type": "execute_result"
    }
   ],
   "source": [
    "publishers = '''SELECT * \n",
    "FROM publishers'''\n",
    "con=engine.connect()\n",
    "pd.io.sql.read_sql(sql=text(publishers), con = con)\n",
    "# откроем и просмотрим таблицу \"publishers\""
   ]
  },
  {
   "cell_type": "markdown",
   "metadata": {},
   "source": [
    "### Посчитайте, сколько книг вышло после 1 января 2000 года"
   ]
  },
  {
   "cell_type": "code",
   "execution_count": 7,
   "metadata": {},
   "outputs": [
    {
     "data": {
      "text/html": [
       "<div>\n",
       "<style scoped>\n",
       "    .dataframe tbody tr th:only-of-type {\n",
       "        vertical-align: middle;\n",
       "    }\n",
       "\n",
       "    .dataframe tbody tr th {\n",
       "        vertical-align: top;\n",
       "    }\n",
       "\n",
       "    .dataframe thead th {\n",
       "        text-align: right;\n",
       "    }\n",
       "</style>\n",
       "<table border=\"1\" class=\"dataframe\">\n",
       "  <thead>\n",
       "    <tr style=\"text-align: right;\">\n",
       "      <th></th>\n",
       "      <th>count</th>\n",
       "    </tr>\n",
       "  </thead>\n",
       "  <tbody>\n",
       "    <tr>\n",
       "      <th>0</th>\n",
       "      <td>819</td>\n",
       "    </tr>\n",
       "  </tbody>\n",
       "</table>\n",
       "</div>"
      ],
      "text/plain": [
       "   count\n",
       "0    819"
      ]
     },
     "execution_count": 7,
     "metadata": {},
     "output_type": "execute_result"
    }
   ],
   "source": [
    "books_01012000 = '''\n",
    "SELECT COUNT (book_id) \n",
    "FROM books\n",
    "WHERE CAST(publication_date AS date) >'2000-01-01'\n",
    "\n",
    "'''\n",
    "con=engine.connect()\n",
    "pd.io.sql.read_sql(sql=text(books_01012000), con = con)"
   ]
  },
  {
   "cell_type": "markdown",
   "metadata": {},
   "source": [
    "После 01 января 2000 года (не считая само 01.01.2000) вышло 819 книг"
   ]
  },
  {
   "cell_type": "markdown",
   "metadata": {},
   "source": [
    "### Для каждой книги посчитайте количество обзоров и среднюю оценку"
   ]
  },
  {
   "cell_type": "code",
   "execution_count": 8,
   "metadata": {},
   "outputs": [
    {
     "data": {
      "text/html": [
       "<div>\n",
       "<style scoped>\n",
       "    .dataframe tbody tr th:only-of-type {\n",
       "        vertical-align: middle;\n",
       "    }\n",
       "\n",
       "    .dataframe tbody tr th {\n",
       "        vertical-align: top;\n",
       "    }\n",
       "\n",
       "    .dataframe thead th {\n",
       "        text-align: right;\n",
       "    }\n",
       "</style>\n",
       "<table border=\"1\" class=\"dataframe\">\n",
       "  <thead>\n",
       "    <tr style=\"text-align: right;\">\n",
       "      <th></th>\n",
       "      <th>title</th>\n",
       "      <th>book_id</th>\n",
       "      <th>avg_rating</th>\n",
       "      <th>cnt_of_reviews</th>\n",
       "    </tr>\n",
       "  </thead>\n",
       "  <tbody>\n",
       "    <tr>\n",
       "      <th>0</th>\n",
       "      <td>Twilight (Twilight  #1)</td>\n",
       "      <td>948</td>\n",
       "      <td>3.66</td>\n",
       "      <td>7</td>\n",
       "    </tr>\n",
       "    <tr>\n",
       "      <th>1</th>\n",
       "      <td>Water for Elephants</td>\n",
       "      <td>963</td>\n",
       "      <td>3.98</td>\n",
       "      <td>6</td>\n",
       "    </tr>\n",
       "    <tr>\n",
       "      <th>2</th>\n",
       "      <td>The Glass Castle</td>\n",
       "      <td>734</td>\n",
       "      <td>4.21</td>\n",
       "      <td>6</td>\n",
       "    </tr>\n",
       "    <tr>\n",
       "      <th>3</th>\n",
       "      <td>Harry Potter and the Prisoner of Azkaban (Harr...</td>\n",
       "      <td>302</td>\n",
       "      <td>4.41</td>\n",
       "      <td>6</td>\n",
       "    </tr>\n",
       "    <tr>\n",
       "      <th>4</th>\n",
       "      <td>The Curious Incident of the Dog in the Night-Time</td>\n",
       "      <td>695</td>\n",
       "      <td>4.08</td>\n",
       "      <td>6</td>\n",
       "    </tr>\n",
       "    <tr>\n",
       "      <th>...</th>\n",
       "      <td>...</td>\n",
       "      <td>...</td>\n",
       "      <td>...</td>\n",
       "      <td>...</td>\n",
       "    </tr>\n",
       "    <tr>\n",
       "      <th>995</th>\n",
       "      <td>Anne Rice's The Vampire Lestat: A Graphic Novel</td>\n",
       "      <td>83</td>\n",
       "      <td>3.67</td>\n",
       "      <td>0</td>\n",
       "    </tr>\n",
       "    <tr>\n",
       "      <th>996</th>\n",
       "      <td>The Natural Way to Draw</td>\n",
       "      <td>808</td>\n",
       "      <td>3.00</td>\n",
       "      <td>0</td>\n",
       "    </tr>\n",
       "    <tr>\n",
       "      <th>997</th>\n",
       "      <td>The Cat in the Hat and Other Dr. Seuss Favorites</td>\n",
       "      <td>672</td>\n",
       "      <td>5.00</td>\n",
       "      <td>0</td>\n",
       "    </tr>\n",
       "    <tr>\n",
       "      <th>998</th>\n",
       "      <td>Essential Tales and Poems</td>\n",
       "      <td>221</td>\n",
       "      <td>4.00</td>\n",
       "      <td>0</td>\n",
       "    </tr>\n",
       "    <tr>\n",
       "      <th>999</th>\n",
       "      <td>Disney's Beauty and the Beast (A Little Golden...</td>\n",
       "      <td>191</td>\n",
       "      <td>4.00</td>\n",
       "      <td>0</td>\n",
       "    </tr>\n",
       "  </tbody>\n",
       "</table>\n",
       "<p>1000 rows × 4 columns</p>\n",
       "</div>"
      ],
      "text/plain": [
       "                                                 title  book_id  avg_rating  \\\n",
       "0                              Twilight (Twilight  #1)      948        3.66   \n",
       "1                                  Water for Elephants      963        3.98   \n",
       "2                                     The Glass Castle      734        4.21   \n",
       "3    Harry Potter and the Prisoner of Azkaban (Harr...      302        4.41   \n",
       "4    The Curious Incident of the Dog in the Night-Time      695        4.08   \n",
       "..                                                 ...      ...         ...   \n",
       "995    Anne Rice's The Vampire Lestat: A Graphic Novel       83        3.67   \n",
       "996                            The Natural Way to Draw      808        3.00   \n",
       "997   The Cat in the Hat and Other Dr. Seuss Favorites      672        5.00   \n",
       "998                          Essential Tales and Poems      221        4.00   \n",
       "999  Disney's Beauty and the Beast (A Little Golden...      191        4.00   \n",
       "\n",
       "     cnt_of_reviews  \n",
       "0                 7  \n",
       "1                 6  \n",
       "2                 6  \n",
       "3                 6  \n",
       "4                 6  \n",
       "..              ...  \n",
       "995               0  \n",
       "996               0  \n",
       "997               0  \n",
       "998               0  \n",
       "999               0  \n",
       "\n",
       "[1000 rows x 4 columns]"
      ]
     },
     "execution_count": 8,
     "metadata": {},
     "output_type": "execute_result"
    }
   ],
   "source": [
    "avg_obzor = '''\n",
    "SELECT b.title,\n",
    "       b.book_id,\n",
    "       ROUND(AVG(rt.rating), 2) AS avg_rating,\n",
    "       COUNT(DISTINCT rw.review_id) AS cnt_of_reviews\n",
    "\n",
    "FROM books AS b\n",
    "\n",
    "LEFT JOIN ratings AS rt ON b.book_id = rt.book_id\n",
    "LEFT JOIN reviews AS rw ON b.book_id = rw.book_id\n",
    "\n",
    "GROUP BY b.title, b.book_id\n",
    "ORDER BY cnt_of_reviews DESC\n",
    "'''\n",
    "con=engine.connect()\n",
    "pd.io.sql.read_sql(sql=text(avg_obzor), con = con)"
   ]
  },
  {
   "cell_type": "markdown",
   "metadata": {},
   "source": [
    "Средние оценки книг лежат в диапазоне от 5.0 до 1.5, количество обзоров от 7 до 0"
   ]
  },
  {
   "cell_type": "markdown",
   "metadata": {},
   "source": [
    "### Определите издательство, которое выпустило наибольшее число книг толще 50 страниц — так вы исключите из анализа брошюры;"
   ]
  },
  {
   "cell_type": "code",
   "execution_count": 9,
   "metadata": {},
   "outputs": [
    {
     "data": {
      "text/html": [
       "<div>\n",
       "<style scoped>\n",
       "    .dataframe tbody tr th:only-of-type {\n",
       "        vertical-align: middle;\n",
       "    }\n",
       "\n",
       "    .dataframe tbody tr th {\n",
       "        vertical-align: top;\n",
       "    }\n",
       "\n",
       "    .dataframe thead th {\n",
       "        text-align: right;\n",
       "    }\n",
       "</style>\n",
       "<table border=\"1\" class=\"dataframe\">\n",
       "  <thead>\n",
       "    <tr style=\"text-align: right;\">\n",
       "      <th></th>\n",
       "      <th>publisher</th>\n",
       "      <th>total_books</th>\n",
       "    </tr>\n",
       "  </thead>\n",
       "  <tbody>\n",
       "    <tr>\n",
       "      <th>0</th>\n",
       "      <td>Penguin Books</td>\n",
       "      <td>42</td>\n",
       "    </tr>\n",
       "  </tbody>\n",
       "</table>\n",
       "</div>"
      ],
      "text/plain": [
       "       publisher  total_books\n",
       "0  Penguin Books           42"
      ]
     },
     "execution_count": 9,
     "metadata": {},
     "output_type": "execute_result"
    }
   ],
   "source": [
    "pub = '''\n",
    "SELECT p.publisher,\n",
    "       COUNT(b.book_id) AS total_books\n",
    "       \n",
    "FROM books AS b\n",
    "\n",
    "LEFT JOIN  publishers AS p ON b.publisher_id = p.publisher_id\n",
    "\n",
    "WHERE num_pages > 50      \n",
    "\n",
    "GROUP BY p.publisher\n",
    "ORDER BY total_books DESC\n",
    "LIMIT 1\n",
    "\n",
    "'''\n",
    "con=engine.connect()\n",
    "pd.io.sql.read_sql(sql=text(pub), con = con)"
   ]
  },
  {
   "cell_type": "markdown",
   "metadata": {},
   "source": [
    "Penguin Books - это издательство, которое выпустило наибольшее число книг толще 50 страниц"
   ]
  },
  {
   "cell_type": "markdown",
   "metadata": {},
   "source": [
    "### Определите автора с самой высокой средней оценкой книг — учитывайте только книги с 50 и более оценками;"
   ]
  },
  {
   "cell_type": "code",
   "execution_count": 10,
   "metadata": {},
   "outputs": [
    {
     "data": {
      "text/html": [
       "<div>\n",
       "<style scoped>\n",
       "    .dataframe tbody tr th:only-of-type {\n",
       "        vertical-align: middle;\n",
       "    }\n",
       "\n",
       "    .dataframe tbody tr th {\n",
       "        vertical-align: top;\n",
       "    }\n",
       "\n",
       "    .dataframe thead th {\n",
       "        text-align: right;\n",
       "    }\n",
       "</style>\n",
       "<table border=\"1\" class=\"dataframe\">\n",
       "  <thead>\n",
       "    <tr style=\"text-align: right;\">\n",
       "      <th></th>\n",
       "      <th>author</th>\n",
       "      <th>t_rating</th>\n",
       "    </tr>\n",
       "  </thead>\n",
       "  <tbody>\n",
       "    <tr>\n",
       "      <th>0</th>\n",
       "      <td>J.K. Rowling/Mary GrandPré</td>\n",
       "      <td>4.283844</td>\n",
       "    </tr>\n",
       "  </tbody>\n",
       "</table>\n",
       "</div>"
      ],
      "text/plain": [
       "                       author  t_rating\n",
       "0  J.K. Rowling/Mary GrandPré  4.283844"
      ]
     },
     "execution_count": 10,
     "metadata": {},
     "output_type": "execute_result"
    }
   ],
   "source": [
    "top_author = '''\n",
    "SELECT \n",
    "    aa.author,\n",
    "    AVG(aa.avg_rating) AS t_rating\n",
    "\n",
    "\n",
    "FROM  \n",
    "    (SELECT a.author AS author,\n",
    "            AVG(r.rating) AS avg_rating\n",
    "        \n",
    "        FROM books AS b\n",
    "        \n",
    "            LEFT JOIN authors AS a ON b.author_id = a.author_id\n",
    "            LEFT JOIN ratings AS r ON b.book_id = r.book_id\n",
    "       \n",
    "       GROUP BY  b.book_id, a.author_id\n",
    "             \n",
    "        HAVING  COUNT(r.rating_id) >=50 \n",
    "        ) AS aa \n",
    "\n",
    "GROUP BY        aa.author\n",
    "ORDER BY     t_rating DESC\n",
    "LIMIT 1\n",
    "\n",
    "'''\n",
    "con=engine.connect()\n",
    "pd.io.sql.read_sql(sql=text(top_author), con = con)"
   ]
  },
  {
   "cell_type": "markdown",
   "metadata": {},
   "source": [
    " J.K. Rowling/Mary GrandPré\t- автор с самой высокой средней оценкой книг 4.28 "
   ]
  },
  {
   "cell_type": "markdown",
   "metadata": {},
   "source": [
    "### Посчитайте среднее количество обзоров от пользователей, которые поставили больше 48 оценок."
   ]
  },
  {
   "cell_type": "code",
   "execution_count": 11,
   "metadata": {},
   "outputs": [
    {
     "data": {
      "text/html": [
       "<div>\n",
       "<style scoped>\n",
       "    .dataframe tbody tr th:only-of-type {\n",
       "        vertical-align: middle;\n",
       "    }\n",
       "\n",
       "    .dataframe tbody tr th {\n",
       "        vertical-align: top;\n",
       "    }\n",
       "\n",
       "    .dataframe thead th {\n",
       "        text-align: right;\n",
       "    }\n",
       "</style>\n",
       "<table border=\"1\" class=\"dataframe\">\n",
       "  <thead>\n",
       "    <tr style=\"text-align: right;\">\n",
       "      <th></th>\n",
       "      <th>avg_revie</th>\n",
       "    </tr>\n",
       "  </thead>\n",
       "  <tbody>\n",
       "    <tr>\n",
       "      <th>0</th>\n",
       "      <td>24.0</td>\n",
       "    </tr>\n",
       "  </tbody>\n",
       "</table>\n",
       "</div>"
      ],
      "text/plain": [
       "   avg_revie\n",
       "0       24.0"
      ]
     },
     "execution_count": 11,
     "metadata": {},
     "output_type": "execute_result"
    }
   ],
   "source": [
    "top_users = '''\n",
    "SELECT AVG(r.review_cnt) AS avg_revie\n",
    "\n",
    "FROM(SELECT COUNT(review_id) AS review_cnt,\n",
    "                 username\n",
    "\n",
    "      FROM reviews\n",
    "\n",
    "      WHERE username IN  (SELECT username\n",
    "                     FROM ratings\n",
    "                     GROUP BY username\n",
    "                     HAVING COUNT(ratings)> 48)\n",
    "      GROUP BY username) AS r\n",
    "\n",
    "\n",
    "\n",
    "\n",
    "\n",
    "'''\n",
    "con=engine.connect()\n",
    "pd.io.sql.read_sql(sql=text(top_users), con = con)"
   ]
  },
  {
   "cell_type": "markdown",
   "metadata": {},
   "source": [
    "24 - это среднее количество обзоров от пользователей, которые поставили больше 48 оценок"
   ]
  },
  {
   "cell_type": "markdown",
   "metadata": {},
   "source": [
    "### Вывод:\n",
    "В этой работе мы проанализировали 5 таблиц с данными о книгах, авторах, издательствах, оценках на книги и обзорах.\n",
    "После всего мы можем сделать вывод, что после 01 января 2000 года  вышло 819 книг\n",
    "Средние оценки книг лежат в диапазоне от 5.0 до 1.5, количество обзоров от 7 до 0\n",
    "Penguin Books - это издательство, которое выпустило наибольшее число книг толще 50 страниц\n",
    "J.K. Rowling/Mary GrandPré - автор с самой высокой средней оценкой книг 4.28\n",
    "24 - это среднее количество обзоров от пользователей, которые поставили больше 48 оценок"
   ]
  }
 ],
 "metadata": {
  "ExecuteTimeLog": [
   {
    "duration": 78,
    "start_time": "2024-04-28T14:48:28.564Z"
   },
   {
    "duration": 70,
    "start_time": "2024-04-28T14:48:39.217Z"
   },
   {
    "duration": 7482,
    "start_time": "2024-04-28T14:48:57.806Z"
   },
   {
    "duration": 60,
    "start_time": "2024-04-28T14:49:05.289Z"
   },
   {
    "duration": 2,
    "start_time": "2024-04-28T14:49:36.468Z"
   },
   {
    "duration": 2,
    "start_time": "2024-04-28T14:49:49.270Z"
   },
   {
    "duration": 3,
    "start_time": "2024-04-28T14:52:22.119Z"
   },
   {
    "duration": 3,
    "start_time": "2024-04-28T14:54:45.962Z"
   },
   {
    "duration": 2,
    "start_time": "2024-04-28T14:54:59.118Z"
   },
   {
    "duration": 2,
    "start_time": "2024-04-28T14:55:04.569Z"
   },
   {
    "duration": 34,
    "start_time": "2024-04-28T14:55:14.604Z"
   },
   {
    "duration": 12,
    "start_time": "2024-04-28T14:55:59.669Z"
   },
   {
    "duration": 74,
    "start_time": "2024-04-28T14:56:54.695Z"
   },
   {
    "duration": 24,
    "start_time": "2024-04-28T14:57:08.093Z"
   },
   {
    "duration": 59,
    "start_time": "2024-04-28T14:57:21.380Z"
   },
   {
    "duration": 23,
    "start_time": "2024-04-28T14:57:32.899Z"
   },
   {
    "duration": 49,
    "start_time": "2024-04-28T14:58:20.096Z"
   },
   {
    "duration": 22,
    "start_time": "2024-04-28T14:58:47.905Z"
   },
   {
    "duration": 21,
    "start_time": "2024-04-28T14:59:12.613Z"
   },
   {
    "duration": 22,
    "start_time": "2024-04-28T14:59:28.591Z"
   },
   {
    "duration": 49,
    "start_time": "2024-04-28T14:59:35.804Z"
   },
   {
    "duration": 32,
    "start_time": "2024-04-28T14:59:42.188Z"
   },
   {
    "duration": 24,
    "start_time": "2024-04-28T15:00:05.213Z"
   },
   {
    "duration": 23,
    "start_time": "2024-04-28T15:00:11.715Z"
   },
   {
    "duration": 21,
    "start_time": "2024-04-28T15:00:33.772Z"
   },
   {
    "duration": 48,
    "start_time": "2024-04-28T15:00:53.345Z"
   },
   {
    "duration": 22,
    "start_time": "2024-04-28T15:01:18.068Z"
   },
   {
    "duration": 43,
    "start_time": "2024-04-28T15:01:29.240Z"
   },
   {
    "duration": 64,
    "start_time": "2024-04-28T15:01:30.706Z"
   },
   {
    "duration": 11,
    "start_time": "2024-04-28T15:01:32.773Z"
   },
   {
    "duration": 11,
    "start_time": "2024-04-28T15:01:33.474Z"
   },
   {
    "duration": 11,
    "start_time": "2024-04-28T15:01:33.890Z"
   },
   {
    "duration": 10,
    "start_time": "2024-04-28T15:01:34.323Z"
   },
   {
    "duration": 16,
    "start_time": "2024-04-28T15:01:53.213Z"
   },
   {
    "duration": 17,
    "start_time": "2024-04-28T15:02:05.250Z"
   },
   {
    "duration": 11,
    "start_time": "2024-04-28T15:02:28.073Z"
   },
   {
    "duration": 23,
    "start_time": "2024-04-28T15:02:36.192Z"
   },
   {
    "duration": 16,
    "start_time": "2024-04-28T15:02:43.795Z"
   },
   {
    "duration": 17,
    "start_time": "2024-04-28T15:02:52.465Z"
   },
   {
    "duration": 11,
    "start_time": "2024-04-28T15:03:01.234Z"
   },
   {
    "duration": 8188,
    "start_time": "2024-05-01T18:12:03.924Z"
   },
   {
    "duration": 42,
    "start_time": "2024-05-01T18:12:12.114Z"
   },
   {
    "duration": 29,
    "start_time": "2024-05-01T18:12:12.158Z"
   },
   {
    "duration": 15,
    "start_time": "2024-05-01T18:12:18.443Z"
   },
   {
    "duration": 28,
    "start_time": "2024-05-01T18:12:19.178Z"
   },
   {
    "duration": 14,
    "start_time": "2024-05-01T18:12:19.578Z"
   },
   {
    "duration": 66,
    "start_time": "2024-05-01T18:20:07.320Z"
   },
   {
    "duration": 75,
    "start_time": "2024-05-01T18:20:26.474Z"
   },
   {
    "duration": 13,
    "start_time": "2024-05-01T18:21:54.195Z"
   },
   {
    "duration": 90,
    "start_time": "2024-05-01T18:22:32.091Z"
   },
   {
    "duration": 22,
    "start_time": "2024-05-01T18:22:48.996Z"
   },
   {
    "duration": 40,
    "start_time": "2024-05-01T18:23:16.722Z"
   },
   {
    "duration": 21,
    "start_time": "2024-05-01T18:23:24.464Z"
   },
   {
    "duration": 13,
    "start_time": "2024-05-01T18:23:31.210Z"
   },
   {
    "duration": 28,
    "start_time": "2024-05-01T18:23:37.295Z"
   },
   {
    "duration": 46,
    "start_time": "2024-05-02T08:38:12.573Z"
   },
   {
    "duration": 8443,
    "start_time": "2024-05-02T08:38:18.581Z"
   },
   {
    "duration": 149,
    "start_time": "2024-05-02T08:38:29.619Z"
   },
   {
    "duration": 102,
    "start_time": "2024-05-02T08:38:30.385Z"
   },
   {
    "duration": 61,
    "start_time": "2024-05-02T08:38:31.035Z"
   },
   {
    "duration": 94,
    "start_time": "2024-05-02T08:38:31.584Z"
   },
   {
    "duration": 50,
    "start_time": "2024-05-02T08:38:32.051Z"
   },
   {
    "duration": 48,
    "start_time": "2024-05-02T08:38:33.186Z"
   },
   {
    "duration": 48,
    "start_time": "2024-05-02T08:39:46.308Z"
   },
   {
    "duration": 48,
    "start_time": "2024-05-02T08:47:55.379Z"
   },
   {
    "duration": 61,
    "start_time": "2024-05-02T08:48:59.514Z"
   },
   {
    "duration": 47,
    "start_time": "2024-05-02T08:49:23.490Z"
   },
   {
    "duration": 59,
    "start_time": "2024-05-02T08:49:37.293Z"
   },
   {
    "duration": 92,
    "start_time": "2024-05-02T08:51:17.623Z"
   },
   {
    "duration": 61,
    "start_time": "2024-05-02T08:51:27.829Z"
   },
   {
    "duration": 147,
    "start_time": "2024-05-02T08:52:50.869Z"
   },
   {
    "duration": 74,
    "start_time": "2024-05-02T08:55:52.043Z"
   },
   {
    "duration": 69,
    "start_time": "2024-05-02T08:58:55.618Z"
   },
   {
    "duration": 69,
    "start_time": "2024-05-02T08:59:49.518Z"
   },
   {
    "duration": 166,
    "start_time": "2024-05-02T09:00:25.461Z"
   },
   {
    "duration": 85,
    "start_time": "2024-05-02T09:03:33.153Z"
   },
   {
    "duration": 85,
    "start_time": "2024-05-02T09:04:29.537Z"
   },
   {
    "duration": 86,
    "start_time": "2024-05-02T09:05:20.803Z"
   },
   {
    "duration": 87,
    "start_time": "2024-05-02T09:06:08.619Z"
   },
   {
    "duration": 87,
    "start_time": "2024-05-02T09:06:16.220Z"
   },
   {
    "duration": 86,
    "start_time": "2024-05-02T09:06:51.964Z"
   },
   {
    "duration": 88,
    "start_time": "2024-05-02T09:07:06.802Z"
   },
   {
    "duration": 88,
    "start_time": "2024-05-02T09:08:53.103Z"
   },
   {
    "duration": 89,
    "start_time": "2024-05-02T09:13:04.714Z"
   },
   {
    "duration": 88,
    "start_time": "2024-05-02T09:13:30.005Z"
   },
   {
    "duration": 50,
    "start_time": "2024-05-02T09:20:23.302Z"
   },
   {
    "duration": 53,
    "start_time": "2024-05-02T09:21:13.933Z"
   },
   {
    "duration": 52,
    "start_time": "2024-05-02T09:22:04.648Z"
   },
   {
    "duration": 69,
    "start_time": "2024-05-02T09:26:11.159Z"
   },
   {
    "duration": 60,
    "start_time": "2024-05-02T09:26:47.204Z"
   },
   {
    "duration": 60,
    "start_time": "2024-05-02T09:27:00.708Z"
   },
   {
    "duration": 129,
    "start_time": "2024-05-02T09:27:25.832Z"
   },
   {
    "duration": 40,
    "start_time": "2024-05-02T09:27:48.037Z"
   },
   {
    "duration": 70,
    "start_time": "2024-05-02T09:28:12.563Z"
   },
   {
    "duration": 59,
    "start_time": "2024-05-02T09:28:34.887Z"
   },
   {
    "duration": 149,
    "start_time": "2024-05-02T09:29:14.932Z"
   },
   {
    "duration": 156,
    "start_time": "2024-05-02T09:29:55.845Z"
   },
   {
    "duration": 225,
    "start_time": "2024-05-02T09:30:00.429Z"
   },
   {
    "duration": 151,
    "start_time": "2024-05-02T09:30:01.430Z"
   },
   {
    "duration": 149,
    "start_time": "2024-05-02T09:30:01.829Z"
   },
   {
    "duration": 63,
    "start_time": "2024-05-02T09:30:02.096Z"
   },
   {
    "duration": 69,
    "start_time": "2024-05-02T09:30:02.296Z"
   },
   {
    "duration": 54,
    "start_time": "2024-05-02T09:30:02.496Z"
   },
   {
    "duration": 50,
    "start_time": "2024-05-02T09:30:02.913Z"
   },
   {
    "duration": 89,
    "start_time": "2024-05-02T09:30:05.064Z"
   },
   {
    "duration": 70,
    "start_time": "2024-05-02T09:30:13.968Z"
   },
   {
    "duration": 60,
    "start_time": "2024-05-02T09:30:41.292Z"
   },
   {
    "duration": 142,
    "start_time": "2024-05-02T09:31:28.807Z"
   },
   {
    "duration": 117,
    "start_time": "2024-05-02T09:32:43.749Z"
   },
   {
    "duration": 52,
    "start_time": "2024-05-02T09:33:04.721Z"
   },
   {
    "duration": 51,
    "start_time": "2024-05-02T09:33:10.273Z"
   },
   {
    "duration": 51,
    "start_time": "2024-05-02T09:35:26.165Z"
   },
   {
    "duration": 75,
    "start_time": "2024-05-02T10:41:54.979Z"
   },
   {
    "duration": 59,
    "start_time": "2024-05-02T10:42:13.036Z"
   },
   {
    "duration": 59,
    "start_time": "2024-05-02T10:44:06.120Z"
   },
   {
    "duration": 139,
    "start_time": "2024-05-02T10:44:39.713Z"
   },
   {
    "duration": 58,
    "start_time": "2024-05-02T10:44:49.533Z"
   },
   {
    "duration": 59,
    "start_time": "2024-05-02T10:47:58.142Z"
   },
   {
    "duration": 131,
    "start_time": "2024-05-02T10:48:55.461Z"
   },
   {
    "duration": 121,
    "start_time": "2024-05-02T10:49:40.141Z"
   },
   {
    "duration": 127,
    "start_time": "2024-05-02T10:50:06.317Z"
   },
   {
    "duration": 70,
    "start_time": "2024-05-02T10:52:17.990Z"
   },
   {
    "duration": 46,
    "start_time": "2024-05-02T10:53:00.354Z"
   },
   {
    "duration": 57,
    "start_time": "2024-05-02T10:53:30.529Z"
   },
   {
    "duration": 69,
    "start_time": "2024-05-02T10:53:36.630Z"
   },
   {
    "duration": 55,
    "start_time": "2024-05-02T10:53:51.070Z"
   },
   {
    "duration": 56,
    "start_time": "2024-05-02T10:54:30.916Z"
   },
   {
    "duration": 55,
    "start_time": "2024-05-02T10:54:47.486Z"
   },
   {
    "duration": 56,
    "start_time": "2024-05-02T10:55:07.809Z"
   },
   {
    "duration": 55,
    "start_time": "2024-05-02T10:58:54.847Z"
   },
   {
    "duration": 56,
    "start_time": "2024-05-02T10:59:00.016Z"
   },
   {
    "duration": 63,
    "start_time": "2024-05-02T10:59:11.685Z"
   },
   {
    "duration": 51,
    "start_time": "2024-05-02T11:16:50.483Z"
   },
   {
    "duration": 54,
    "start_time": "2024-05-02T11:17:29.828Z"
   },
   {
    "duration": 234,
    "start_time": "2024-05-02T12:54:08.454Z"
   },
   {
    "duration": 150,
    "start_time": "2024-05-02T12:54:09.755Z"
   },
   {
    "duration": 104,
    "start_time": "2024-05-02T12:54:10.254Z"
   },
   {
    "duration": 62,
    "start_time": "2024-05-02T12:54:10.588Z"
   },
   {
    "duration": 79,
    "start_time": "2024-05-02T12:54:10.838Z"
   },
   {
    "duration": 53,
    "start_time": "2024-05-02T12:54:11.089Z"
   },
   {
    "duration": 49,
    "start_time": "2024-05-02T12:54:11.537Z"
   },
   {
    "duration": 88,
    "start_time": "2024-05-02T12:54:12.388Z"
   },
   {
    "duration": 53,
    "start_time": "2024-05-02T12:54:13.421Z"
   },
   {
    "duration": 55,
    "start_time": "2024-05-02T12:54:15.157Z"
   },
   {
    "duration": 70,
    "start_time": "2024-05-02T12:54:17.322Z"
   },
   {
    "duration": 44,
    "start_time": "2024-05-02T13:04:35.501Z"
   },
   {
    "duration": 135,
    "start_time": "2024-05-02T13:05:55.111Z"
   },
   {
    "duration": 6168,
    "start_time": "2024-05-02T13:07:29.677Z"
   },
   {
    "duration": 147,
    "start_time": "2024-05-02T13:07:35.847Z"
   },
   {
    "duration": 104,
    "start_time": "2024-05-02T13:07:35.995Z"
   },
   {
    "duration": 53,
    "start_time": "2024-05-02T13:07:36.101Z"
   },
   {
    "duration": 67,
    "start_time": "2024-05-02T13:07:36.155Z"
   },
   {
    "duration": 55,
    "start_time": "2024-05-02T13:07:36.224Z"
   },
   {
    "duration": 50,
    "start_time": "2024-05-02T13:07:36.281Z"
   },
   {
    "duration": 68,
    "start_time": "2024-05-02T13:07:36.332Z"
   },
   {
    "duration": 51,
    "start_time": "2024-05-02T13:07:36.401Z"
   },
   {
    "duration": 55,
    "start_time": "2024-05-02T13:07:36.455Z"
   },
   {
    "duration": 53,
    "start_time": "2024-05-02T13:07:36.511Z"
   },
   {
    "duration": 53,
    "start_time": "2024-05-02T13:19:10.042Z"
   },
   {
    "duration": 6090,
    "start_time": "2024-05-02T15:56:36.543Z"
   },
   {
    "duration": 153,
    "start_time": "2024-05-02T15:56:42.635Z"
   },
   {
    "duration": 107,
    "start_time": "2024-05-02T15:56:42.790Z"
   },
   {
    "duration": 55,
    "start_time": "2024-05-02T15:56:42.899Z"
   },
   {
    "duration": 70,
    "start_time": "2024-05-02T15:56:42.956Z"
   },
   {
    "duration": 54,
    "start_time": "2024-05-02T15:56:43.027Z"
   },
   {
    "duration": 50,
    "start_time": "2024-05-02T15:56:43.083Z"
   },
   {
    "duration": 70,
    "start_time": "2024-05-02T15:56:43.135Z"
   },
   {
    "duration": 54,
    "start_time": "2024-05-02T15:56:43.206Z"
   },
   {
    "duration": 56,
    "start_time": "2024-05-02T15:56:43.262Z"
   },
   {
    "duration": 56,
    "start_time": "2024-05-02T15:56:43.319Z"
   },
   {
    "duration": 49,
    "start_time": "2024-05-02T21:43:37.943Z"
   },
   {
    "duration": 5310,
    "start_time": "2024-05-02T21:43:44.008Z"
   },
   {
    "duration": 155,
    "start_time": "2024-05-02T21:43:50.411Z"
   },
   {
    "duration": 110,
    "start_time": "2024-05-02T21:43:50.661Z"
   },
   {
    "duration": 55,
    "start_time": "2024-05-02T21:43:50.844Z"
   },
   {
    "duration": 70,
    "start_time": "2024-05-02T21:43:51.043Z"
   },
   {
    "duration": 56,
    "start_time": "2024-05-02T21:43:51.243Z"
   },
   {
    "duration": 52,
    "start_time": "2024-05-02T21:43:52.094Z"
   },
   {
    "duration": 93,
    "start_time": "2024-05-02T21:43:53.228Z"
   },
   {
    "duration": 55,
    "start_time": "2024-05-02T21:43:54.743Z"
   },
   {
    "duration": 57,
    "start_time": "2024-05-02T21:43:55.928Z"
   },
   {
    "duration": 58,
    "start_time": "2024-05-02T21:44:45.360Z"
   },
   {
    "duration": 60,
    "start_time": "2024-05-02T21:44:58.931Z"
   },
   {
    "duration": 5343,
    "start_time": "2024-05-03T08:54:45.988Z"
   },
   {
    "duration": 174,
    "start_time": "2024-05-03T08:54:51.332Z"
   },
   {
    "duration": 112,
    "start_time": "2024-05-03T08:54:51.508Z"
   },
   {
    "duration": 57,
    "start_time": "2024-05-03T08:54:51.622Z"
   },
   {
    "duration": 66,
    "start_time": "2024-05-03T08:54:51.681Z"
   },
   {
    "duration": 54,
    "start_time": "2024-05-03T08:54:55.870Z"
   },
   {
    "duration": 50,
    "start_time": "2024-05-03T08:55:01.022Z"
   },
   {
    "duration": 91,
    "start_time": "2024-05-03T08:55:10.291Z"
   },
   {
    "duration": 52,
    "start_time": "2024-05-03T08:55:12.443Z"
   },
   {
    "duration": 55,
    "start_time": "2024-05-03T08:55:14.610Z"
   },
   {
    "duration": 52,
    "start_time": "2024-05-03T08:55:34.799Z"
   },
   {
    "duration": 60,
    "start_time": "2024-05-03T08:58:50.095Z"
   },
   {
    "duration": 54,
    "start_time": "2024-05-03T09:00:39.614Z"
   },
   {
    "duration": 126,
    "start_time": "2024-05-03T09:16:03.416Z"
   },
   {
    "duration": 57,
    "start_time": "2024-05-03T09:16:12.419Z"
   },
   {
    "duration": 145,
    "start_time": "2024-05-03T09:16:34.976Z"
   },
   {
    "duration": 150,
    "start_time": "2024-05-03T09:17:20.991Z"
   },
   {
    "duration": 147,
    "start_time": "2024-05-03T09:17:37.329Z"
   },
   {
    "duration": 166,
    "start_time": "2024-05-03T09:19:21.977Z"
   },
   {
    "duration": 43,
    "start_time": "2024-05-03T09:20:05.914Z"
   },
   {
    "duration": 57,
    "start_time": "2024-05-03T09:20:25.765Z"
   },
   {
    "duration": 56,
    "start_time": "2024-05-03T09:20:38.385Z"
   },
   {
    "duration": 59,
    "start_time": "2024-05-03T09:21:16.980Z"
   },
   {
    "duration": 61,
    "start_time": "2024-05-03T09:21:31.652Z"
   },
   {
    "duration": 58,
    "start_time": "2024-05-03T09:21:44.772Z"
   },
   {
    "duration": 54,
    "start_time": "2024-05-03T09:22:29.520Z"
   },
   {
    "duration": 54,
    "start_time": "2024-05-03T09:22:36.022Z"
   },
   {
    "duration": 58,
    "start_time": "2024-05-03T09:22:42.373Z"
   },
   {
    "duration": 62,
    "start_time": "2024-05-03T09:23:37.924Z"
   },
   {
    "duration": 72,
    "start_time": "2024-05-03T09:24:12.251Z"
   },
   {
    "duration": 62,
    "start_time": "2024-05-03T09:24:18.787Z"
   },
   {
    "duration": 49,
    "start_time": "2024-05-03T09:24:23.072Z"
   },
   {
    "duration": 144,
    "start_time": "2024-05-03T09:25:05.470Z"
   },
   {
    "duration": 59,
    "start_time": "2024-05-03T09:25:18.056Z"
   },
   {
    "duration": 58,
    "start_time": "2024-05-03T09:25:24.858Z"
   },
   {
    "duration": 55,
    "start_time": "2024-05-03T09:25:41.529Z"
   },
   {
    "duration": 59,
    "start_time": "2024-05-03T09:26:12.840Z"
   },
   {
    "duration": 61,
    "start_time": "2024-05-03T09:26:21.626Z"
   },
   {
    "duration": 58,
    "start_time": "2024-05-03T09:46:00.708Z"
   },
   {
    "duration": 58,
    "start_time": "2024-05-03T09:48:23.122Z"
   },
   {
    "duration": 54,
    "start_time": "2024-05-03T09:59:28.041Z"
   },
   {
    "duration": 55,
    "start_time": "2024-05-03T09:59:33.876Z"
   },
   {
    "duration": 71,
    "start_time": "2024-05-03T10:01:09.958Z"
   },
   {
    "duration": 59,
    "start_time": "2024-05-03T10:01:28.760Z"
   },
   {
    "duration": 46,
    "start_time": "2024-05-03T10:01:48.099Z"
   },
   {
    "duration": 55,
    "start_time": "2024-05-03T10:03:39.352Z"
   },
   {
    "duration": 66,
    "start_time": "2024-05-03T10:06:18.083Z"
   },
   {
    "duration": 45,
    "start_time": "2024-05-03T10:06:24.818Z"
   },
   {
    "duration": 58,
    "start_time": "2024-05-03T10:16:15.217Z"
   },
   {
    "duration": 52,
    "start_time": "2024-05-03T10:20:36.798Z"
   },
   {
    "duration": 56,
    "start_time": "2024-05-03T10:20:51.386Z"
   },
   {
    "duration": 56,
    "start_time": "2024-05-03T10:24:21.951Z"
   },
   {
    "duration": 56,
    "start_time": "2024-05-03T10:25:00.429Z"
   },
   {
    "duration": 57,
    "start_time": "2024-05-03T10:25:32.722Z"
   },
   {
    "duration": 55,
    "start_time": "2024-05-03T10:26:08.836Z"
   },
   {
    "duration": 55,
    "start_time": "2024-05-03T10:26:59.816Z"
   },
   {
    "duration": 56,
    "start_time": "2024-05-03T10:27:24.041Z"
   },
   {
    "duration": 56,
    "start_time": "2024-05-03T10:28:06.620Z"
   },
   {
    "duration": 56,
    "start_time": "2024-05-03T10:28:11.656Z"
   },
   {
    "duration": 54,
    "start_time": "2024-05-03T10:28:21.275Z"
   },
   {
    "duration": 57,
    "start_time": "2024-05-03T10:28:27.179Z"
   },
   {
    "duration": 54,
    "start_time": "2024-05-03T10:28:50.368Z"
   },
   {
    "duration": 6067,
    "start_time": "2024-05-03T10:34:41.966Z"
   },
   {
    "duration": 158,
    "start_time": "2024-05-03T10:34:48.035Z"
   },
   {
    "duration": 103,
    "start_time": "2024-05-03T10:34:48.195Z"
   },
   {
    "duration": 54,
    "start_time": "2024-05-03T10:34:48.299Z"
   },
   {
    "duration": 66,
    "start_time": "2024-05-03T10:34:48.355Z"
   },
   {
    "duration": 53,
    "start_time": "2024-05-03T10:34:48.422Z"
   },
   {
    "duration": 48,
    "start_time": "2024-05-03T10:34:48.476Z"
   },
   {
    "duration": 67,
    "start_time": "2024-05-03T10:34:48.525Z"
   },
   {
    "duration": 50,
    "start_time": "2024-05-03T10:34:48.593Z"
   },
   {
    "duration": 54,
    "start_time": "2024-05-03T10:34:48.645Z"
   },
   {
    "duration": 52,
    "start_time": "2024-05-03T10:34:48.700Z"
   },
   {
    "duration": 7033,
    "start_time": "2024-05-17T16:45:32.556Z"
   },
   {
    "duration": 48,
    "start_time": "2024-05-17T16:45:43.775Z"
   },
   {
    "duration": 30,
    "start_time": "2024-05-17T16:45:44.976Z"
   },
   {
    "duration": 14,
    "start_time": "2024-05-17T16:45:45.793Z"
   },
   {
    "duration": 20,
    "start_time": "2024-05-17T16:45:46.542Z"
   },
   {
    "duration": 14,
    "start_time": "2024-05-17T16:45:46.928Z"
   },
   {
    "duration": 12,
    "start_time": "2024-05-17T16:46:03.446Z"
   },
   {
    "duration": 31,
    "start_time": "2024-05-17T16:46:09.968Z"
   },
   {
    "duration": 13,
    "start_time": "2024-05-17T16:46:16.917Z"
   },
   {
    "duration": 16,
    "start_time": "2024-05-17T16:46:23.555Z"
   },
   {
    "duration": 15,
    "start_time": "2024-05-17T16:46:36.492Z"
   }
  ],
  "kernelspec": {
   "display_name": "Python 3 (ipykernel)",
   "language": "python",
   "name": "python3"
  },
  "language_info": {
   "codemirror_mode": {
    "name": "ipython",
    "version": 3
   },
   "file_extension": ".py",
   "mimetype": "text/x-python",
   "name": "python",
   "nbconvert_exporter": "python",
   "pygments_lexer": "ipython3",
   "version": "3.9.5"
  },
  "toc": {
   "base_numbering": 1,
   "nav_menu": {},
   "number_sections": true,
   "sideBar": true,
   "skip_h1_title": true,
   "title_cell": "Table of Contents",
   "title_sidebar": "Contents",
   "toc_cell": false,
   "toc_position": {},
   "toc_section_display": true,
   "toc_window_display": true
  }
 },
 "nbformat": 4,
 "nbformat_minor": 2
}
