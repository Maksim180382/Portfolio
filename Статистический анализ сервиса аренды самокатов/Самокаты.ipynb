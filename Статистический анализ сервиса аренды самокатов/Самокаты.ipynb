{
 "cells": [
  {
   "cell_type": "markdown",
   "id": "39e98e03",
   "metadata": {},
   "source": [
    "# Статистический анализ данных сервиса аренды самокатов GoFast"
   ]
  },
  {
   "cell_type": "markdown",
   "id": "2f7ef62f",
   "metadata": {},
   "source": [
    "Нам дали задание проанализировать популярный сервис аренды самокатов GoFast на основе данных о некоторых пользователях из нескольких городов, а также об их поездках. Необходимо проанализируовать данные и проверить некоторые гипотезы, которые могут помочь бизнесу вырасти.\n",
    "\n",
    "Чтобы совершать поездки по городу, пользователи сервиса GoFast пользуются мобильным приложением. \n",
    "\n",
    "Сервисом можно пользоваться:\n",
    "\n",
    "   без подписки:\n",
    "абонентская плата отсутствует;\n",
    "стоимость одной минуты поездки — 8 рублей;\n",
    "стоимость старта (начала поездки) — 50 рублей;\n",
    "    \n",
    "с подпиской Ultra:\n",
    "абонентская плата — 199 рублей в месяц;\n",
    "стоимость одной минуты поездки — 6 рублей;\n",
    "стоимость старта — бесплатно.\n",
    "\n",
    "Исходные данные по файлам.\n",
    "\n",
    "Пользователи — ‘users_go.csv’:\n",
    "\n",
    "‘user_id’ — уникальный идентификатор пользователя;\n",
    "\n",
    "‘name’ — имя пользователя;\n",
    "\n",
    "‘age’ — возраст;\n",
    "\n",
    "\n",
    "‘city’ — город;\n",
    "\n",
    "‘subscription_type’ — тип подписки (free, ultra).\n",
    "\n",
    "Поездки — ‘rides_go.csv’:\n",
    "\n",
    "user_id’ — уникальный идентификатор пользователя;\n",
    "\n",
    "‘distance’ — расстояние, которое пользователь проехал в текущей сессии (в метрах);\n",
    "\n",
    "‘duration’ — продолжительность сессии (в минутах);\n",
    "\n",
    "‘date’ — дата совершения поездки.\n",
    "\n",
    "Подписки — ‘subscriptions_go.csv’:\n",
    "\n",
    "‘subscription_type’ — тип подписки;\n",
    "\n",
    "‘minute_price’ — стоимость одной минуты поездки по данной подписке;\n",
    "\n",
    "‘start_ride_price’ — стоимость начала поездки;\n",
    "\n",
    "‘subscription_fee’ — стоимость ежемесячного платежа.\n"
   ]
  },
  {
   "cell_type": "code",
   "execution_count": 1,
   "id": "72576667",
   "metadata": {},
   "outputs": [],
   "source": [
    "import pandas as pd\n",
    "import numpy as np\n",
    "import scipy.stats as st\n",
    "import seaborn as sns\n",
    "from matplotlib import pyplot as plt \n",
    "from math import factorial\n",
    "from scipy import stats as st\n",
    "\n",
    "# импортируем необходимые для проекта библиотеки"
   ]
  },
  {
   "cell_type": "markdown",
   "id": "c42cbe00",
   "metadata": {},
   "source": [
    "### Загрузка данных."
   ]
  },
  {
   "cell_type": "code",
   "execution_count": 2,
   "id": "3dcb29a9",
   "metadata": {},
   "outputs": [],
   "source": [
    "data_users = pd.read_csv(\"/datasets/users_go.csv\")\n",
    "data_rides = pd.read_csv(\"/datasets/rides_go.csv\")\n",
    "data_subscriptions = pd.read_csv(\"/datasets/subscriptions_go.csv\")\n",
    "# загружаем предотавленые таблицы"
   ]
  },
  {
   "cell_type": "code",
   "execution_count": 3,
   "id": "6394e6f0",
   "metadata": {},
   "outputs": [
    {
     "data": {
      "text/html": [
       "<div>\n",
       "<style scoped>\n",
       "    .dataframe tbody tr th:only-of-type {\n",
       "        vertical-align: middle;\n",
       "    }\n",
       "\n",
       "    .dataframe tbody tr th {\n",
       "        vertical-align: top;\n",
       "    }\n",
       "\n",
       "    .dataframe thead th {\n",
       "        text-align: right;\n",
       "    }\n",
       "</style>\n",
       "<table border=\"1\" class=\"dataframe\">\n",
       "  <thead>\n",
       "    <tr style=\"text-align: right;\">\n",
       "      <th></th>\n",
       "      <th>user_id</th>\n",
       "      <th>name</th>\n",
       "      <th>age</th>\n",
       "      <th>city</th>\n",
       "      <th>subscription_type</th>\n",
       "    </tr>\n",
       "  </thead>\n",
       "  <tbody>\n",
       "    <tr>\n",
       "      <th>0</th>\n",
       "      <td>1</td>\n",
       "      <td>Кира</td>\n",
       "      <td>22</td>\n",
       "      <td>Тюмень</td>\n",
       "      <td>ultra</td>\n",
       "    </tr>\n",
       "    <tr>\n",
       "      <th>1</th>\n",
       "      <td>2</td>\n",
       "      <td>Станислав</td>\n",
       "      <td>31</td>\n",
       "      <td>Омск</td>\n",
       "      <td>ultra</td>\n",
       "    </tr>\n",
       "    <tr>\n",
       "      <th>2</th>\n",
       "      <td>3</td>\n",
       "      <td>Алексей</td>\n",
       "      <td>20</td>\n",
       "      <td>Москва</td>\n",
       "      <td>ultra</td>\n",
       "    </tr>\n",
       "    <tr>\n",
       "      <th>3</th>\n",
       "      <td>4</td>\n",
       "      <td>Константин</td>\n",
       "      <td>26</td>\n",
       "      <td>Ростов-на-Дону</td>\n",
       "      <td>ultra</td>\n",
       "    </tr>\n",
       "    <tr>\n",
       "      <th>4</th>\n",
       "      <td>5</td>\n",
       "      <td>Адель</td>\n",
       "      <td>28</td>\n",
       "      <td>Омск</td>\n",
       "      <td>ultra</td>\n",
       "    </tr>\n",
       "  </tbody>\n",
       "</table>\n",
       "</div>"
      ],
      "text/plain": [
       "   user_id        name  age            city subscription_type\n",
       "0        1        Кира   22          Тюмень             ultra\n",
       "1        2   Станислав   31            Омск             ultra\n",
       "2        3     Алексей   20          Москва             ultra\n",
       "3        4  Константин   26  Ростов-на-Дону             ultra\n",
       "4        5       Адель   28            Омск             ultra"
      ]
     },
     "execution_count": 3,
     "metadata": {},
     "output_type": "execute_result"
    }
   ],
   "source": [
    "data_users.head(5) # открываем таблицы"
   ]
  },
  {
   "cell_type": "code",
   "execution_count": 4,
   "id": "9ecb2387",
   "metadata": {},
   "outputs": [
    {
     "data": {
      "text/html": [
       "<div>\n",
       "<style scoped>\n",
       "    .dataframe tbody tr th:only-of-type {\n",
       "        vertical-align: middle;\n",
       "    }\n",
       "\n",
       "    .dataframe tbody tr th {\n",
       "        vertical-align: top;\n",
       "    }\n",
       "\n",
       "    .dataframe thead th {\n",
       "        text-align: right;\n",
       "    }\n",
       "</style>\n",
       "<table border=\"1\" class=\"dataframe\">\n",
       "  <thead>\n",
       "    <tr style=\"text-align: right;\">\n",
       "      <th></th>\n",
       "      <th>user_id</th>\n",
       "      <th>distance</th>\n",
       "      <th>duration</th>\n",
       "      <th>date</th>\n",
       "    </tr>\n",
       "  </thead>\n",
       "  <tbody>\n",
       "    <tr>\n",
       "      <th>0</th>\n",
       "      <td>1</td>\n",
       "      <td>4409.919140</td>\n",
       "      <td>25.599769</td>\n",
       "      <td>2021-01-01</td>\n",
       "    </tr>\n",
       "    <tr>\n",
       "      <th>1</th>\n",
       "      <td>1</td>\n",
       "      <td>2617.592153</td>\n",
       "      <td>15.816871</td>\n",
       "      <td>2021-01-18</td>\n",
       "    </tr>\n",
       "    <tr>\n",
       "      <th>2</th>\n",
       "      <td>1</td>\n",
       "      <td>754.159807</td>\n",
       "      <td>6.232113</td>\n",
       "      <td>2021-04-20</td>\n",
       "    </tr>\n",
       "    <tr>\n",
       "      <th>3</th>\n",
       "      <td>1</td>\n",
       "      <td>2694.783254</td>\n",
       "      <td>18.511000</td>\n",
       "      <td>2021-08-11</td>\n",
       "    </tr>\n",
       "    <tr>\n",
       "      <th>4</th>\n",
       "      <td>1</td>\n",
       "      <td>4028.687306</td>\n",
       "      <td>26.265803</td>\n",
       "      <td>2021-08-28</td>\n",
       "    </tr>\n",
       "  </tbody>\n",
       "</table>\n",
       "</div>"
      ],
      "text/plain": [
       "   user_id     distance   duration        date\n",
       "0        1  4409.919140  25.599769  2021-01-01\n",
       "1        1  2617.592153  15.816871  2021-01-18\n",
       "2        1   754.159807   6.232113  2021-04-20\n",
       "3        1  2694.783254  18.511000  2021-08-11\n",
       "4        1  4028.687306  26.265803  2021-08-28"
      ]
     },
     "execution_count": 4,
     "metadata": {},
     "output_type": "execute_result"
    }
   ],
   "source": [
    "data_rides.head(5) # открываем таблицы"
   ]
  },
  {
   "cell_type": "code",
   "execution_count": 5,
   "id": "b4f566d9",
   "metadata": {},
   "outputs": [
    {
     "data": {
      "text/html": [
       "<div>\n",
       "<style scoped>\n",
       "    .dataframe tbody tr th:only-of-type {\n",
       "        vertical-align: middle;\n",
       "    }\n",
       "\n",
       "    .dataframe tbody tr th {\n",
       "        vertical-align: top;\n",
       "    }\n",
       "\n",
       "    .dataframe thead th {\n",
       "        text-align: right;\n",
       "    }\n",
       "</style>\n",
       "<table border=\"1\" class=\"dataframe\">\n",
       "  <thead>\n",
       "    <tr style=\"text-align: right;\">\n",
       "      <th></th>\n",
       "      <th>subscription_type</th>\n",
       "      <th>minute_price</th>\n",
       "      <th>start_ride_price</th>\n",
       "      <th>subscription_fee</th>\n",
       "    </tr>\n",
       "  </thead>\n",
       "  <tbody>\n",
       "    <tr>\n",
       "      <th>0</th>\n",
       "      <td>free</td>\n",
       "      <td>8</td>\n",
       "      <td>50</td>\n",
       "      <td>0</td>\n",
       "    </tr>\n",
       "    <tr>\n",
       "      <th>1</th>\n",
       "      <td>ultra</td>\n",
       "      <td>6</td>\n",
       "      <td>0</td>\n",
       "      <td>199</td>\n",
       "    </tr>\n",
       "  </tbody>\n",
       "</table>\n",
       "</div>"
      ],
      "text/plain": [
       "  subscription_type  minute_price  start_ride_price  subscription_fee\n",
       "0              free             8                50                 0\n",
       "1             ultra             6                 0               199"
      ]
     },
     "execution_count": 5,
     "metadata": {},
     "output_type": "execute_result"
    }
   ],
   "source": [
    "data_subscriptions.head(5) # открываем таблицы"
   ]
  },
  {
   "cell_type": "code",
   "execution_count": 6,
   "id": "7c312f76",
   "metadata": {},
   "outputs": [
    {
     "name": "stdout",
     "output_type": "stream",
     "text": [
      "<class 'pandas.core.frame.DataFrame'>\n",
      "RangeIndex: 1565 entries, 0 to 1564\n",
      "Data columns (total 5 columns):\n",
      " #   Column             Non-Null Count  Dtype \n",
      "---  ------             --------------  ----- \n",
      " 0   user_id            1565 non-null   int64 \n",
      " 1   name               1565 non-null   object\n",
      " 2   age                1565 non-null   int64 \n",
      " 3   city               1565 non-null   object\n",
      " 4   subscription_type  1565 non-null   object\n",
      "dtypes: int64(2), object(3)\n",
      "memory usage: 61.3+ KB\n"
     ]
    }
   ],
   "source": [
    "data_users.info() # смотрим общую информацию о таблице"
   ]
  },
  {
   "cell_type": "code",
   "execution_count": 7,
   "id": "750e78ec",
   "metadata": {},
   "outputs": [
    {
     "name": "stdout",
     "output_type": "stream",
     "text": [
      "<class 'pandas.core.frame.DataFrame'>\n",
      "RangeIndex: 18068 entries, 0 to 18067\n",
      "Data columns (total 4 columns):\n",
      " #   Column    Non-Null Count  Dtype  \n",
      "---  ------    --------------  -----  \n",
      " 0   user_id   18068 non-null  int64  \n",
      " 1   distance  18068 non-null  float64\n",
      " 2   duration  18068 non-null  float64\n",
      " 3   date      18068 non-null  object \n",
      "dtypes: float64(2), int64(1), object(1)\n",
      "memory usage: 564.8+ KB\n"
     ]
    }
   ],
   "source": [
    "data_rides.info()# смотрим общую информацию о таблице"
   ]
  },
  {
   "cell_type": "code",
   "execution_count": 8,
   "id": "183ee085",
   "metadata": {},
   "outputs": [
    {
     "name": "stdout",
     "output_type": "stream",
     "text": [
      "<class 'pandas.core.frame.DataFrame'>\n",
      "RangeIndex: 2 entries, 0 to 1\n",
      "Data columns (total 4 columns):\n",
      " #   Column             Non-Null Count  Dtype \n",
      "---  ------             --------------  ----- \n",
      " 0   subscription_type  2 non-null      object\n",
      " 1   minute_price       2 non-null      int64 \n",
      " 2   start_ride_price   2 non-null      int64 \n",
      " 3   subscription_fee   2 non-null      int64 \n",
      "dtypes: int64(3), object(1)\n",
      "memory usage: 192.0+ bytes\n"
     ]
    }
   ],
   "source": [
    "data_subscriptions.info() # смотрим общую информацию о таблице"
   ]
  },
  {
   "cell_type": "markdown",
   "id": "25b18b64",
   "metadata": {},
   "source": [
    "Вывод. Загрузили и просмотрели данные, пропуски в данных отсутствуют,  в дальнейшем проверим данные на дубликаты и выбивающиеся значения. Названия столбцов соответствуют \"змеинному стилю\"."
   ]
  },
  {
   "cell_type": "markdown",
   "id": "e95ebca7",
   "metadata": {},
   "source": [
    "###  Предобработка данных"
   ]
  },
  {
   "cell_type": "code",
   "execution_count": 9,
   "id": "f7383fca",
   "metadata": {},
   "outputs": [],
   "source": [
    "data_rides['date'] = pd.to_datetime(data_rides['date'], format='%Y-%m-%d') #меняем формат даты"
   ]
  },
  {
   "cell_type": "code",
   "execution_count": 10,
   "id": "9e90244f",
   "metadata": {},
   "outputs": [],
   "source": [
    "data_rides[\"month_of_ride\"] = data_rides['date'].dt.month # добавляем столбец с номером месяца публикации"
   ]
  },
  {
   "cell_type": "code",
   "execution_count": 11,
   "id": "6bd791af",
   "metadata": {},
   "outputs": [
    {
     "data": {
      "text/html": [
       "<div>\n",
       "<style scoped>\n",
       "    .dataframe tbody tr th:only-of-type {\n",
       "        vertical-align: middle;\n",
       "    }\n",
       "\n",
       "    .dataframe tbody tr th {\n",
       "        vertical-align: top;\n",
       "    }\n",
       "\n",
       "    .dataframe thead th {\n",
       "        text-align: right;\n",
       "    }\n",
       "</style>\n",
       "<table border=\"1\" class=\"dataframe\">\n",
       "  <thead>\n",
       "    <tr style=\"text-align: right;\">\n",
       "      <th></th>\n",
       "      <th>user_id</th>\n",
       "      <th>distance</th>\n",
       "      <th>duration</th>\n",
       "      <th>date</th>\n",
       "      <th>month_of_ride</th>\n",
       "    </tr>\n",
       "  </thead>\n",
       "  <tbody>\n",
       "    <tr>\n",
       "      <th>0</th>\n",
       "      <td>1</td>\n",
       "      <td>4409.919140</td>\n",
       "      <td>25.599769</td>\n",
       "      <td>2021-01-01</td>\n",
       "      <td>1</td>\n",
       "    </tr>\n",
       "    <tr>\n",
       "      <th>1</th>\n",
       "      <td>1</td>\n",
       "      <td>2617.592153</td>\n",
       "      <td>15.816871</td>\n",
       "      <td>2021-01-18</td>\n",
       "      <td>1</td>\n",
       "    </tr>\n",
       "    <tr>\n",
       "      <th>2</th>\n",
       "      <td>1</td>\n",
       "      <td>754.159807</td>\n",
       "      <td>6.232113</td>\n",
       "      <td>2021-04-20</td>\n",
       "      <td>4</td>\n",
       "    </tr>\n",
       "  </tbody>\n",
       "</table>\n",
       "</div>"
      ],
      "text/plain": [
       "   user_id     distance   duration       date  month_of_ride\n",
       "0        1  4409.919140  25.599769 2021-01-01              1\n",
       "1        1  2617.592153  15.816871 2021-01-18              1\n",
       "2        1   754.159807   6.232113 2021-04-20              4"
      ]
     },
     "execution_count": 11,
     "metadata": {},
     "output_type": "execute_result"
    }
   ],
   "source": [
    "data_rides.head(3) # проверяем что получилось, выведя первые строки"
   ]
  },
  {
   "cell_type": "code",
   "execution_count": 12,
   "id": "2e97e0fc",
   "metadata": {},
   "outputs": [
    {
     "data": {
      "text/html": [
       "<div>\n",
       "<style scoped>\n",
       "    .dataframe tbody tr th:only-of-type {\n",
       "        vertical-align: middle;\n",
       "    }\n",
       "\n",
       "    .dataframe tbody tr th {\n",
       "        vertical-align: top;\n",
       "    }\n",
       "\n",
       "    .dataframe thead th {\n",
       "        text-align: right;\n",
       "    }\n",
       "</style>\n",
       "<table border=\"1\" class=\"dataframe\">\n",
       "  <thead>\n",
       "    <tr style=\"text-align: right;\">\n",
       "      <th></th>\n",
       "      <th>user_id</th>\n",
       "      <th>distance</th>\n",
       "      <th>duration</th>\n",
       "      <th>date</th>\n",
       "      <th>month_of_ride</th>\n",
       "    </tr>\n",
       "  </thead>\n",
       "  <tbody>\n",
       "    <tr>\n",
       "      <th>0</th>\n",
       "      <td>1</td>\n",
       "      <td>4409.92</td>\n",
       "      <td>25.599769</td>\n",
       "      <td>2021-01-01</td>\n",
       "      <td>1</td>\n",
       "    </tr>\n",
       "    <tr>\n",
       "      <th>1</th>\n",
       "      <td>1</td>\n",
       "      <td>2617.59</td>\n",
       "      <td>15.816871</td>\n",
       "      <td>2021-01-18</td>\n",
       "      <td>1</td>\n",
       "    </tr>\n",
       "    <tr>\n",
       "      <th>2</th>\n",
       "      <td>1</td>\n",
       "      <td>754.16</td>\n",
       "      <td>6.232113</td>\n",
       "      <td>2021-04-20</td>\n",
       "      <td>4</td>\n",
       "    </tr>\n",
       "    <tr>\n",
       "      <th>3</th>\n",
       "      <td>1</td>\n",
       "      <td>2694.78</td>\n",
       "      <td>18.511000</td>\n",
       "      <td>2021-08-11</td>\n",
       "      <td>8</td>\n",
       "    </tr>\n",
       "    <tr>\n",
       "      <th>4</th>\n",
       "      <td>1</td>\n",
       "      <td>4028.69</td>\n",
       "      <td>26.265803</td>\n",
       "      <td>2021-08-28</td>\n",
       "      <td>8</td>\n",
       "    </tr>\n",
       "  </tbody>\n",
       "</table>\n",
       "</div>"
      ],
      "text/plain": [
       "   user_id  distance   duration       date  month_of_ride\n",
       "0        1   4409.92  25.599769 2021-01-01              1\n",
       "1        1   2617.59  15.816871 2021-01-18              1\n",
       "2        1    754.16   6.232113 2021-04-20              4\n",
       "3        1   2694.78  18.511000 2021-08-11              8\n",
       "4        1   4028.69  26.265803 2021-08-28              8"
      ]
     },
     "execution_count": 12,
     "metadata": {},
     "output_type": "execute_result"
    }
   ],
   "source": [
    "data_rides['distance'] = data_rides['distance'].round(2) \n",
    "data_rides.head(5)\n",
    "# округляем данные в графе \"Дистанция\""
   ]
  },
  {
   "cell_type": "code",
   "execution_count": 13,
   "id": "812ca6bf",
   "metadata": {},
   "outputs": [
    {
     "data": {
      "text/plain": [
       "user_id              0\n",
       "name                 0\n",
       "age                  0\n",
       "city                 0\n",
       "subscription_type    0\n",
       "dtype: int64"
      ]
     },
     "execution_count": 13,
     "metadata": {},
     "output_type": "execute_result"
    }
   ],
   "source": [
    "data_users.isna().sum() # проверяем таблицу на наличие пропусков"
   ]
  },
  {
   "cell_type": "code",
   "execution_count": 14,
   "id": "83c79170",
   "metadata": {},
   "outputs": [
    {
     "data": {
      "text/plain": [
       "31"
      ]
     },
     "execution_count": 14,
     "metadata": {},
     "output_type": "execute_result"
    }
   ],
   "source": [
    "data_users.duplicated().sum() # проверяем таблицу на наличие явных дубликатов"
   ]
  },
  {
   "cell_type": "code",
   "execution_count": 15,
   "id": "1af30214",
   "metadata": {},
   "outputs": [
    {
     "data": {
      "text/plain": [
       "31"
      ]
     },
     "execution_count": 15,
     "metadata": {},
     "output_type": "execute_result"
    }
   ],
   "source": [
    "data_users[\"user_id\"].duplicated().sum() # проверяем столбец на наличие явных дубликатов"
   ]
  },
  {
   "cell_type": "code",
   "execution_count": 16,
   "id": "65f8723a",
   "metadata": {},
   "outputs": [],
   "source": [
    "data_users.drop_duplicates(inplace=True)  # удаляем явные дубликаты"
   ]
  },
  {
   "cell_type": "code",
   "execution_count": 17,
   "id": "220b1de5",
   "metadata": {},
   "outputs": [
    {
     "data": {
      "text/plain": [
       "0"
      ]
     },
     "execution_count": 17,
     "metadata": {},
     "output_type": "execute_result"
    }
   ],
   "source": [
    "data_users[\"user_id\"].duplicated().sum()  # повторно проверяем столбец на наличие явных дубликатов"
   ]
  },
  {
   "cell_type": "code",
   "execution_count": 18,
   "id": "bc7c5009",
   "metadata": {},
   "outputs": [
    {
     "data": {
      "text/plain": [
       "user_id          0\n",
       "distance         0\n",
       "duration         0\n",
       "date             0\n",
       "month_of_ride    0\n",
       "dtype: int64"
      ]
     },
     "execution_count": 18,
     "metadata": {},
     "output_type": "execute_result"
    }
   ],
   "source": [
    "data_rides.isna().sum()  # проверяем таблицу на наличие пропусков"
   ]
  },
  {
   "cell_type": "code",
   "execution_count": 19,
   "id": "2cefe510",
   "metadata": {},
   "outputs": [
    {
     "data": {
      "text/plain": [
       "0"
      ]
     },
     "execution_count": 19,
     "metadata": {},
     "output_type": "execute_result"
    }
   ],
   "source": [
    "data_rides.duplicated().sum() # проверяем таблицу на наличие явных дубликатов"
   ]
  },
  {
   "cell_type": "code",
   "execution_count": 20,
   "id": "6b9918a7",
   "metadata": {},
   "outputs": [
    {
     "data": {
      "text/plain": [
       "subscription_type    0\n",
       "minute_price         0\n",
       "start_ride_price     0\n",
       "subscription_fee     0\n",
       "dtype: int64"
      ]
     },
     "execution_count": 20,
     "metadata": {},
     "output_type": "execute_result"
    }
   ],
   "source": [
    "data_subscriptions.isna().sum()  # проверяем таблицу на наличие пропусков"
   ]
  },
  {
   "cell_type": "code",
   "execution_count": 21,
   "id": "3932748d",
   "metadata": {},
   "outputs": [
    {
     "data": {
      "text/plain": [
       "0"
      ]
     },
     "execution_count": 21,
     "metadata": {},
     "output_type": "execute_result"
    }
   ],
   "source": [
    "data_subscriptions.duplicated().sum() # проверяем таблицу на наличие явных дубликатов"
   ]
  },
  {
   "cell_type": "markdown",
   "id": "933ee669",
   "metadata": {},
   "source": [
    "Округлили даннные по дистанции, привели столбец date к типу даты pandas, после чего создали новый столбец с номером месяца на основе столбца date."
   ]
  },
  {
   "cell_type": "markdown",
   "id": "fc92663f",
   "metadata": {},
   "source": [
    "Проверили таблицы на наличие дубликатов и пропусков. Дубликаты, которые повлияли бы на исследование - удалили"
   ]
  },
  {
   "cell_type": "markdown",
   "id": "212593c7",
   "metadata": {},
   "source": [
    "### Исследовательский анализ данных."
   ]
  },
  {
   "cell_type": "markdown",
   "id": "58f21645",
   "metadata": {},
   "source": [
    "В этом разделе опишем и визуализируем общую информацию о пользователях и поездках"
   ]
  },
  {
   "cell_type": "code",
   "execution_count": 22,
   "id": "07358711",
   "metadata": {},
   "outputs": [
    {
     "data": {
      "text/plain": [
       "array(['Тюмень', 'Омск', 'Москва', 'Ростов-на-Дону', 'Краснодар',\n",
       "       'Пятигорск', 'Екатеринбург', 'Сочи'], dtype=object)"
      ]
     },
     "execution_count": 22,
     "metadata": {},
     "output_type": "execute_result"
    }
   ],
   "source": [
    "data_users[\"city\"].unique() # смотрим клиенты каких городов представлены"
   ]
  },
  {
   "cell_type": "code",
   "execution_count": 23,
   "id": "4d2e4dd8",
   "metadata": {},
   "outputs": [
    {
     "data": {
      "text/plain": [
       "Пятигорск         219\n",
       "Екатеринбург      204\n",
       "Ростов-на-Дону    198\n",
       "Краснодар         193\n",
       "Сочи              189\n",
       "Омск              183\n",
       "Тюмень            180\n",
       "Москва            168\n",
       "Name: city, dtype: int64"
      ]
     },
     "execution_count": 23,
     "metadata": {},
     "output_type": "execute_result"
    }
   ],
   "source": [
    "data_users['city'].value_counts()# считаем в каких городах сколько клиентов"
   ]
  },
  {
   "cell_type": "code",
   "execution_count": 24,
   "id": "442009cc",
   "metadata": {},
   "outputs": [
    {
     "data": {
      "image/png": "[encoded data removed]",
      "text/plain": [
       "<Figure size 576x576 with 1 Axes>"
      ]
     },
     "metadata": {},
     "output_type": "display_data"
    }
   ],
   "source": [
    "data_users[\"city\"].value_counts().plot(kind = \"pie\",figsize=(8,8),\\\n",
    "                                       autopct = '%1.0f%%', title = 'Распределение клиентов по городам')\n",
    "plt.show()"
   ]
  },
  {
   "cell_type": "code",
   "execution_count": 25,
   "id": "8006059e",
   "metadata": {},
   "outputs": [
    {
     "data": {
      "text/plain": [
       "free     835\n",
       "ultra    699\n",
       "Name: subscription_type, dtype: int64"
      ]
     },
     "execution_count": 25,
     "metadata": {},
     "output_type": "execute_result"
    }
   ],
   "source": [
    "data_users['subscription_type'].value_counts() # проверяем какое количество поьзователей имееют подписку"
   ]
  },
  {
   "cell_type": "code",
   "execution_count": 26,
   "id": "c1d48724",
   "metadata": {},
   "outputs": [
    {
     "data": {
      "image/png": "[encoded data removed]",
      "text/plain": [
       "<Figure size 576x576 with 1 Axes>"
      ]
     },
     "metadata": {},
     "output_type": "display_data"
    }
   ],
   "source": [
    "data_users[\"subscription_type\"].value_counts().plot(kind = \"pie\",figsize=(8,8), autopct = '%1.0f%%',\n",
    "                                                    title = 'Распределение клиентов по подпискам')\n",
    "plt.show()"
   ]
  },
  {
   "cell_type": "code",
   "execution_count": 27,
   "id": "397cd3c8",
   "metadata": {},
   "outputs": [
    {
     "data": {
      "image/png": "[encoded data removed]",
      "text/plain": [
       "<Figure size 1440x504 with 1 Axes>"
      ]
     },
     "metadata": {
      "needs_background": "light"
     },
     "output_type": "display_data"
    }
   ],
   "source": [
    "data_users.plot(kind = \"hist\", y = 'age', bins=100,  figsize=(20,7), grid = True, title = \"Распределение клиентов по возрасту\") \n",
    "plt.xlabel('Возраст клиента')\n",
    "plt.ylabel('Количество человек')\n",
    "plt.show()\n",
    "# строим гистограмму значения возраста"
   ]
  },
  {
   "cell_type": "code",
   "execution_count": 28,
   "id": "452c9a84",
   "metadata": {},
   "outputs": [
    {
     "data": {
      "image/png": "[encoded data removed]",
      "text/plain": [
       "<Figure size 720x432 with 1 Axes>"
      ]
     },
     "metadata": {
      "needs_background": "light"
     },
     "output_type": "display_data"
    }
   ],
   "source": [
    "data_users.boxplot(column=['age'], figsize=(10,6), grid=True )\n",
    "plt.ylabel('Возраст пользрователей')\n",
    "plt.title(\"Распределение клиентов по возрасту\")\n",
    "plt.show()\n",
    "\n",
    "# строим диаграмму размаха возраста пользователей"
   ]
  },
  {
   "cell_type": "code",
   "execution_count": 29,
   "id": "0dbb206e",
   "metadata": {},
   "outputs": [
    {
     "data": {
      "image/png": "[encoded data removed]",
      "text/plain": [
       "<Figure size 1440x504 with 1 Axes>"
      ]
     },
     "metadata": {
      "needs_background": "light"
     },
     "output_type": "display_data"
    }
   ],
   "source": [
    "data_rides.plot(kind = \"hist\", y = \"distance\", bins=100,  figsize=(20,7), grid = True, title = \"Распределение поездок по расстоянию\") \n",
    "plt.xlabel('Расстояние')\n",
    "plt.ylabel('Количество поездок')\n",
    "plt.show()\n",
    "# строим гистограмму расстояния поездок)"
   ]
  },
  {
   "cell_type": "markdown",
   "id": "82d2df6e",
   "metadata": {},
   "source": [
    "На данном графике видны два пика расстояния поездок. Основной пик составяет около 3100 м., пик малых поездок составляет около 700 м."
   ]
  },
  {
   "cell_type": "code",
   "execution_count": 30,
   "id": "f5924ecb",
   "metadata": {
    "scrolled": true
   },
   "outputs": [
    {
     "data": {
      "text/plain": [
       "count    18068.000000\n",
       "mean      3070.659992\n",
       "std       1116.831222\n",
       "min          0.860000\n",
       "25%       2543.227500\n",
       "50%       3133.610000\n",
       "75%       3776.220000\n",
       "max       7211.010000\n",
       "Name: distance, dtype: float64"
      ]
     },
     "execution_count": 30,
     "metadata": {},
     "output_type": "execute_result"
    }
   ],
   "source": [
    "data_rides[\"distance\"].describe() # смотрим распределение поездок по расстоянию"
   ]
  },
  {
   "cell_type": "code",
   "execution_count": 31,
   "id": "561c1b4d",
   "metadata": {},
   "outputs": [
    {
     "data": {
      "image/png": "[encoded data removed]",
      "text/plain": [
       "<Figure size 1296x504 with 1 Axes>"
      ]
     },
     "metadata": {
      "needs_background": "light"
     },
     "output_type": "display_data"
    }
   ],
   "source": [
    "data_rides.plot(kind = \"hist\", y = \"duration\", bins=100,  figsize=(18,7), grid = True, title = \"Распределение поездок по времени\") \n",
    "plt.xlabel('Продолжительность поездки')\n",
    "plt.ylabel('Количество поездок')\n",
    "plt.show()\n",
    "# строим гистограмму расстояния поездок)"
   ]
  },
  {
   "cell_type": "code",
   "execution_count": 32,
   "id": "7a2bbd02",
   "metadata": {},
   "outputs": [
    {
     "data": {
      "image/png": "[encoded data removed]",
      "text/plain": [
       "<Figure size 720x432 with 1 Axes>"
      ]
     },
     "metadata": {
      "needs_background": "light"
     },
     "output_type": "display_data"
    }
   ],
   "source": [
    "data_rides.boxplot(column=['duration'], figsize=(10,6), grid=True)\n",
    "plt.ylabel('Время')\n",
    "plt.title(\"Распределение клиентов по времени\")\n",
    "plt.show()\n",
    "\n",
    "# строим диаграмму размаха времени поездок"
   ]
  },
  {
   "cell_type": "code",
   "execution_count": 33,
   "id": "c7af50a0",
   "metadata": {},
   "outputs": [
    {
     "data": {
      "text/plain": [
       "count    18068.000000\n",
       "mean        17.805011\n",
       "std          6.091051\n",
       "min          0.500000\n",
       "25%         13.597563\n",
       "50%         17.678395\n",
       "75%         21.724800\n",
       "max         40.823963\n",
       "Name: duration, dtype: float64"
      ]
     },
     "execution_count": 33,
     "metadata": {},
     "output_type": "execute_result"
    }
   ],
   "source": [
    "data_rides[\"duration\"].describe() # смотрим распределение поездок по времени"
   ]
  },
  {
   "cell_type": "markdown",
   "id": "4213eadb",
   "metadata": {},
   "source": [
    "Количество пользователей по городам не очень сильно отличается, но больше всего пользователей в Пятигорске, меньше всего в Москве. Большая часть пользователей не испольует платную подписку. Средний возраст пользователя - около 25 лет, но встерчаются изредка дети моложе 15 лет и взрослые старше 35. Клиенты в оснвоном берут самокат на время около 17 минут, за это время проезжая около 3000 метров. Встерчаются результаты нулевого расстояния, но это скорее всего из-за того, что пользователь передумал использовать самокат."
   ]
  },
  {
   "cell_type": "markdown",
   "id": "4ef51331",
   "metadata": {},
   "source": [
    "###  Объединение данных."
   ]
  },
  {
   "cell_type": "markdown",
   "id": "a7380633",
   "metadata": {},
   "source": [
    "В этом разделе мы объединим данные о пользователях, поездках и подписках в один датафрейм. Создадим ещё два датафрейма из датафрейма, c данными о пользователях без подписки и с данными о пользователях с подпиской.\n",
    "Визуализируем информацию о расстоянии и времени поездок для пользователей обеих категорий."
   ]
  },
  {
   "cell_type": "code",
   "execution_count": 34,
   "id": "5298a8b8",
   "metadata": {},
   "outputs": [
    {
     "data": {
      "text/plain": [
       "1534"
      ]
     },
     "execution_count": 34,
     "metadata": {},
     "output_type": "execute_result"
    }
   ],
   "source": [
    "data_users.shape[0] # проверяем количество строк перед объединением"
   ]
  },
  {
   "cell_type": "code",
   "execution_count": 35,
   "id": "7b22d1c6",
   "metadata": {},
   "outputs": [],
   "source": [
    "whole_data = data_users.merge(data_rides, on = \"user_id\", how = \"left\") \n",
    "# объединяем таблицу по столбцу User_id две таблицы"
   ]
  },
  {
   "cell_type": "code",
   "execution_count": 36,
   "id": "f9da9d25",
   "metadata": {},
   "outputs": [
    {
     "data": {
      "text/html": [
       "<div>\n",
       "<style scoped>\n",
       "    .dataframe tbody tr th:only-of-type {\n",
       "        vertical-align: middle;\n",
       "    }\n",
       "\n",
       "    .dataframe tbody tr th {\n",
       "        vertical-align: top;\n",
       "    }\n",
       "\n",
       "    .dataframe thead th {\n",
       "        text-align: right;\n",
       "    }\n",
       "</style>\n",
       "<table border=\"1\" class=\"dataframe\">\n",
       "  <thead>\n",
       "    <tr style=\"text-align: right;\">\n",
       "      <th></th>\n",
       "      <th>user_id</th>\n",
       "      <th>name</th>\n",
       "      <th>age</th>\n",
       "      <th>city</th>\n",
       "      <th>subscription_type</th>\n",
       "      <th>distance</th>\n",
       "      <th>duration</th>\n",
       "      <th>date</th>\n",
       "      <th>month_of_ride</th>\n",
       "    </tr>\n",
       "  </thead>\n",
       "  <tbody>\n",
       "    <tr>\n",
       "      <th>0</th>\n",
       "      <td>1</td>\n",
       "      <td>Кира</td>\n",
       "      <td>22</td>\n",
       "      <td>Тюмень</td>\n",
       "      <td>ultra</td>\n",
       "      <td>4409.92</td>\n",
       "      <td>25.599769</td>\n",
       "      <td>2021-01-01</td>\n",
       "      <td>1</td>\n",
       "    </tr>\n",
       "    <tr>\n",
       "      <th>1</th>\n",
       "      <td>1</td>\n",
       "      <td>Кира</td>\n",
       "      <td>22</td>\n",
       "      <td>Тюмень</td>\n",
       "      <td>ultra</td>\n",
       "      <td>2617.59</td>\n",
       "      <td>15.816871</td>\n",
       "      <td>2021-01-18</td>\n",
       "      <td>1</td>\n",
       "    </tr>\n",
       "    <tr>\n",
       "      <th>2</th>\n",
       "      <td>1</td>\n",
       "      <td>Кира</td>\n",
       "      <td>22</td>\n",
       "      <td>Тюмень</td>\n",
       "      <td>ultra</td>\n",
       "      <td>754.16</td>\n",
       "      <td>6.232113</td>\n",
       "      <td>2021-04-20</td>\n",
       "      <td>4</td>\n",
       "    </tr>\n",
       "    <tr>\n",
       "      <th>3</th>\n",
       "      <td>1</td>\n",
       "      <td>Кира</td>\n",
       "      <td>22</td>\n",
       "      <td>Тюмень</td>\n",
       "      <td>ultra</td>\n",
       "      <td>2694.78</td>\n",
       "      <td>18.511000</td>\n",
       "      <td>2021-08-11</td>\n",
       "      <td>8</td>\n",
       "    </tr>\n",
       "    <tr>\n",
       "      <th>4</th>\n",
       "      <td>1</td>\n",
       "      <td>Кира</td>\n",
       "      <td>22</td>\n",
       "      <td>Тюмень</td>\n",
       "      <td>ultra</td>\n",
       "      <td>4028.69</td>\n",
       "      <td>26.265803</td>\n",
       "      <td>2021-08-28</td>\n",
       "      <td>8</td>\n",
       "    </tr>\n",
       "  </tbody>\n",
       "</table>\n",
       "</div>"
      ],
      "text/plain": [
       "   user_id  name  age    city subscription_type  distance   duration  \\\n",
       "0        1  Кира   22  Тюмень             ultra   4409.92  25.599769   \n",
       "1        1  Кира   22  Тюмень             ultra   2617.59  15.816871   \n",
       "2        1  Кира   22  Тюмень             ultra    754.16   6.232113   \n",
       "3        1  Кира   22  Тюмень             ultra   2694.78  18.511000   \n",
       "4        1  Кира   22  Тюмень             ultra   4028.69  26.265803   \n",
       "\n",
       "        date  month_of_ride  \n",
       "0 2021-01-01              1  \n",
       "1 2021-01-18              1  \n",
       "2 2021-04-20              4  \n",
       "3 2021-08-11              8  \n",
       "4 2021-08-28              8  "
      ]
     },
     "execution_count": 36,
     "metadata": {},
     "output_type": "execute_result"
    }
   ],
   "source": [
    "whole_data.head() # проверяем что получилось"
   ]
  },
  {
   "cell_type": "code",
   "execution_count": 37,
   "id": "23203e18",
   "metadata": {},
   "outputs": [
    {
     "data": {
      "text/plain": [
       "18068"
      ]
     },
     "execution_count": 37,
     "metadata": {},
     "output_type": "execute_result"
    }
   ],
   "source": [
    "whole_data.shape[0] # проверяем количество строк после объединения"
   ]
  },
  {
   "cell_type": "code",
   "execution_count": 38,
   "id": "383ed2a4",
   "metadata": {},
   "outputs": [],
   "source": [
    "whole_data= whole_data.merge(data_subscriptions) # добавляем третью таблицу к созданной"
   ]
  },
  {
   "cell_type": "code",
   "execution_count": 39,
   "id": "af6d202c",
   "metadata": {},
   "outputs": [
    {
     "data": {
      "text/html": [
       "<div>\n",
       "<style scoped>\n",
       "    .dataframe tbody tr th:only-of-type {\n",
       "        vertical-align: middle;\n",
       "    }\n",
       "\n",
       "    .dataframe tbody tr th {\n",
       "        vertical-align: top;\n",
       "    }\n",
       "\n",
       "    .dataframe thead th {\n",
       "        text-align: right;\n",
       "    }\n",
       "</style>\n",
       "<table border=\"1\" class=\"dataframe\">\n",
       "  <thead>\n",
       "    <tr style=\"text-align: right;\">\n",
       "      <th></th>\n",
       "      <th>user_id</th>\n",
       "      <th>name</th>\n",
       "      <th>age</th>\n",
       "      <th>city</th>\n",
       "      <th>subscription_type</th>\n",
       "      <th>distance</th>\n",
       "      <th>duration</th>\n",
       "      <th>date</th>\n",
       "      <th>month_of_ride</th>\n",
       "      <th>minute_price</th>\n",
       "      <th>start_ride_price</th>\n",
       "      <th>subscription_fee</th>\n",
       "    </tr>\n",
       "  </thead>\n",
       "  <tbody>\n",
       "    <tr>\n",
       "      <th>0</th>\n",
       "      <td>1</td>\n",
       "      <td>Кира</td>\n",
       "      <td>22</td>\n",
       "      <td>Тюмень</td>\n",
       "      <td>ultra</td>\n",
       "      <td>4409.92</td>\n",
       "      <td>25.599769</td>\n",
       "      <td>2021-01-01</td>\n",
       "      <td>1</td>\n",
       "      <td>6</td>\n",
       "      <td>0</td>\n",
       "      <td>199</td>\n",
       "    </tr>\n",
       "    <tr>\n",
       "      <th>1</th>\n",
       "      <td>1</td>\n",
       "      <td>Кира</td>\n",
       "      <td>22</td>\n",
       "      <td>Тюмень</td>\n",
       "      <td>ultra</td>\n",
       "      <td>2617.59</td>\n",
       "      <td>15.816871</td>\n",
       "      <td>2021-01-18</td>\n",
       "      <td>1</td>\n",
       "      <td>6</td>\n",
       "      <td>0</td>\n",
       "      <td>199</td>\n",
       "    </tr>\n",
       "    <tr>\n",
       "      <th>2</th>\n",
       "      <td>1</td>\n",
       "      <td>Кира</td>\n",
       "      <td>22</td>\n",
       "      <td>Тюмень</td>\n",
       "      <td>ultra</td>\n",
       "      <td>754.16</td>\n",
       "      <td>6.232113</td>\n",
       "      <td>2021-04-20</td>\n",
       "      <td>4</td>\n",
       "      <td>6</td>\n",
       "      <td>0</td>\n",
       "      <td>199</td>\n",
       "    </tr>\n",
       "    <tr>\n",
       "      <th>3</th>\n",
       "      <td>1</td>\n",
       "      <td>Кира</td>\n",
       "      <td>22</td>\n",
       "      <td>Тюмень</td>\n",
       "      <td>ultra</td>\n",
       "      <td>2694.78</td>\n",
       "      <td>18.511000</td>\n",
       "      <td>2021-08-11</td>\n",
       "      <td>8</td>\n",
       "      <td>6</td>\n",
       "      <td>0</td>\n",
       "      <td>199</td>\n",
       "    </tr>\n",
       "    <tr>\n",
       "      <th>4</th>\n",
       "      <td>1</td>\n",
       "      <td>Кира</td>\n",
       "      <td>22</td>\n",
       "      <td>Тюмень</td>\n",
       "      <td>ultra</td>\n",
       "      <td>4028.69</td>\n",
       "      <td>26.265803</td>\n",
       "      <td>2021-08-28</td>\n",
       "      <td>8</td>\n",
       "      <td>6</td>\n",
       "      <td>0</td>\n",
       "      <td>199</td>\n",
       "    </tr>\n",
       "  </tbody>\n",
       "</table>\n",
       "</div>"
      ],
      "text/plain": [
       "   user_id  name  age    city subscription_type  distance   duration  \\\n",
       "0        1  Кира   22  Тюмень             ultra   4409.92  25.599769   \n",
       "1        1  Кира   22  Тюмень             ultra   2617.59  15.816871   \n",
       "2        1  Кира   22  Тюмень             ultra    754.16   6.232113   \n",
       "3        1  Кира   22  Тюмень             ultra   2694.78  18.511000   \n",
       "4        1  Кира   22  Тюмень             ultra   4028.69  26.265803   \n",
       "\n",
       "        date  month_of_ride  minute_price  start_ride_price  subscription_fee  \n",
       "0 2021-01-01              1             6                 0               199  \n",
       "1 2021-01-18              1             6                 0               199  \n",
       "2 2021-04-20              4             6                 0               199  \n",
       "3 2021-08-11              8             6                 0               199  \n",
       "4 2021-08-28              8             6                 0               199  "
      ]
     },
     "execution_count": 39,
     "metadata": {},
     "output_type": "execute_result"
    }
   ],
   "source": [
    "whole_data.head() # проверяем что получилось"
   ]
  },
  {
   "cell_type": "code",
   "execution_count": 40,
   "id": "e3a4274c",
   "metadata": {},
   "outputs": [
    {
     "data": {
      "text/plain": [
       "18068"
      ]
     },
     "execution_count": 40,
     "metadata": {},
     "output_type": "execute_result"
    }
   ],
   "source": [
    "whole_data.shape[0] # проверяем количество строк после объединения"
   ]
  },
  {
   "cell_type": "code",
   "execution_count": 41,
   "id": "04b1a9ce",
   "metadata": {},
   "outputs": [
    {
     "name": "stdout",
     "output_type": "stream",
     "text": [
      "Количество пользователей в таблицe 'data_users' составляет: 1534\n",
      "Количество уникальных пользователей в таблицe 'whole_data' составляет: 1534\n"
     ]
    },
    {
     "data": {
      "text/plain": [
       "user_id              0\n",
       "name                 0\n",
       "age                  0\n",
       "city                 0\n",
       "subscription_type    0\n",
       "distance             0\n",
       "duration             0\n",
       "date                 0\n",
       "month_of_ride        0\n",
       "minute_price         0\n",
       "start_ride_price     0\n",
       "subscription_fee     0\n",
       "dtype: int64"
      ]
     },
     "execution_count": 41,
     "metadata": {},
     "output_type": "execute_result"
    }
   ],
   "source": [
    "print(\"Количество пользователей в таблицe 'data_users' составляет:\", data_users[\"user_id\"].count())\n",
    "print(\"Количество уникальных пользователей в таблицe 'whole_data' составляет:\", whole_data[\"user_id\"].nunique())\n",
    "whole_data.isna().sum()"
   ]
  },
  {
   "cell_type": "markdown",
   "id": "806ad9a7",
   "metadata": {},
   "source": [
    "Проверили новую таблицу на наличие пропусков. Таблицы совместились правильно"
   ]
  },
  {
   "cell_type": "code",
   "execution_count": 42,
   "id": "06a6810f",
   "metadata": {},
   "outputs": [],
   "source": [
    "ultra_ride = whole_data.loc[whole_data['subscription_type'] == \"ultra\"] #создаем таблицу пользователей с абонементом"
   ]
  },
  {
   "cell_type": "code",
   "execution_count": 43,
   "id": "1b9db6a6",
   "metadata": {},
   "outputs": [],
   "source": [
    "free_ride = whole_data.loc[whole_data['subscription_type'] == \"free\"] #создаем таблицу пользователей без абонемента"
   ]
  },
  {
   "cell_type": "code",
   "execution_count": 44,
   "id": "5c4841ad",
   "metadata": {},
   "outputs": [
    {
     "data": {
      "text/html": [
       "<div>\n",
       "<style scoped>\n",
       "    .dataframe tbody tr th:only-of-type {\n",
       "        vertical-align: middle;\n",
       "    }\n",
       "\n",
       "    .dataframe tbody tr th {\n",
       "        vertical-align: top;\n",
       "    }\n",
       "\n",
       "    .dataframe thead th {\n",
       "        text-align: right;\n",
       "    }\n",
       "</style>\n",
       "<table border=\"1\" class=\"dataframe\">\n",
       "  <thead>\n",
       "    <tr style=\"text-align: right;\">\n",
       "      <th></th>\n",
       "      <th>user_id</th>\n",
       "      <th>name</th>\n",
       "      <th>age</th>\n",
       "      <th>city</th>\n",
       "      <th>subscription_type</th>\n",
       "      <th>distance</th>\n",
       "      <th>duration</th>\n",
       "      <th>date</th>\n",
       "      <th>month_of_ride</th>\n",
       "      <th>minute_price</th>\n",
       "      <th>start_ride_price</th>\n",
       "      <th>subscription_fee</th>\n",
       "    </tr>\n",
       "  </thead>\n",
       "  <tbody>\n",
       "    <tr>\n",
       "      <th>0</th>\n",
       "      <td>1</td>\n",
       "      <td>Кира</td>\n",
       "      <td>22</td>\n",
       "      <td>Тюмень</td>\n",
       "      <td>ultra</td>\n",
       "      <td>4409.92</td>\n",
       "      <td>25.599769</td>\n",
       "      <td>2021-01-01</td>\n",
       "      <td>1</td>\n",
       "      <td>6</td>\n",
       "      <td>0</td>\n",
       "      <td>199</td>\n",
       "    </tr>\n",
       "    <tr>\n",
       "      <th>1</th>\n",
       "      <td>1</td>\n",
       "      <td>Кира</td>\n",
       "      <td>22</td>\n",
       "      <td>Тюмень</td>\n",
       "      <td>ultra</td>\n",
       "      <td>2617.59</td>\n",
       "      <td>15.816871</td>\n",
       "      <td>2021-01-18</td>\n",
       "      <td>1</td>\n",
       "      <td>6</td>\n",
       "      <td>0</td>\n",
       "      <td>199</td>\n",
       "    </tr>\n",
       "    <tr>\n",
       "      <th>2</th>\n",
       "      <td>1</td>\n",
       "      <td>Кира</td>\n",
       "      <td>22</td>\n",
       "      <td>Тюмень</td>\n",
       "      <td>ultra</td>\n",
       "      <td>754.16</td>\n",
       "      <td>6.232113</td>\n",
       "      <td>2021-04-20</td>\n",
       "      <td>4</td>\n",
       "      <td>6</td>\n",
       "      <td>0</td>\n",
       "      <td>199</td>\n",
       "    </tr>\n",
       "    <tr>\n",
       "      <th>3</th>\n",
       "      <td>1</td>\n",
       "      <td>Кира</td>\n",
       "      <td>22</td>\n",
       "      <td>Тюмень</td>\n",
       "      <td>ultra</td>\n",
       "      <td>2694.78</td>\n",
       "      <td>18.511000</td>\n",
       "      <td>2021-08-11</td>\n",
       "      <td>8</td>\n",
       "      <td>6</td>\n",
       "      <td>0</td>\n",
       "      <td>199</td>\n",
       "    </tr>\n",
       "    <tr>\n",
       "      <th>4</th>\n",
       "      <td>1</td>\n",
       "      <td>Кира</td>\n",
       "      <td>22</td>\n",
       "      <td>Тюмень</td>\n",
       "      <td>ultra</td>\n",
       "      <td>4028.69</td>\n",
       "      <td>26.265803</td>\n",
       "      <td>2021-08-28</td>\n",
       "      <td>8</td>\n",
       "      <td>6</td>\n",
       "      <td>0</td>\n",
       "      <td>199</td>\n",
       "    </tr>\n",
       "  </tbody>\n",
       "</table>\n",
       "</div>"
      ],
      "text/plain": [
       "   user_id  name  age    city subscription_type  distance   duration  \\\n",
       "0        1  Кира   22  Тюмень             ultra   4409.92  25.599769   \n",
       "1        1  Кира   22  Тюмень             ultra   2617.59  15.816871   \n",
       "2        1  Кира   22  Тюмень             ultra    754.16   6.232113   \n",
       "3        1  Кира   22  Тюмень             ultra   2694.78  18.511000   \n",
       "4        1  Кира   22  Тюмень             ultra   4028.69  26.265803   \n",
       "\n",
       "        date  month_of_ride  minute_price  start_ride_price  subscription_fee  \n",
       "0 2021-01-01              1             6                 0               199  \n",
       "1 2021-01-18              1             6                 0               199  \n",
       "2 2021-04-20              4             6                 0               199  \n",
       "3 2021-08-11              8             6                 0               199  \n",
       "4 2021-08-28              8             6                 0               199  "
      ]
     },
     "execution_count": 44,
     "metadata": {},
     "output_type": "execute_result"
    }
   ],
   "source": [
    "ultra_ride.head() # проверяем"
   ]
  },
  {
   "cell_type": "code",
   "execution_count": 45,
   "id": "3b8bbfc2",
   "metadata": {},
   "outputs": [
    {
     "data": {
      "text/html": [
       "<div>\n",
       "<style scoped>\n",
       "    .dataframe tbody tr th:only-of-type {\n",
       "        vertical-align: middle;\n",
       "    }\n",
       "\n",
       "    .dataframe tbody tr th {\n",
       "        vertical-align: top;\n",
       "    }\n",
       "\n",
       "    .dataframe thead th {\n",
       "        text-align: right;\n",
       "    }\n",
       "</style>\n",
       "<table border=\"1\" class=\"dataframe\">\n",
       "  <thead>\n",
       "    <tr style=\"text-align: right;\">\n",
       "      <th></th>\n",
       "      <th>user_id</th>\n",
       "      <th>name</th>\n",
       "      <th>age</th>\n",
       "      <th>city</th>\n",
       "      <th>subscription_type</th>\n",
       "      <th>distance</th>\n",
       "      <th>duration</th>\n",
       "      <th>date</th>\n",
       "      <th>month_of_ride</th>\n",
       "      <th>minute_price</th>\n",
       "      <th>start_ride_price</th>\n",
       "      <th>subscription_fee</th>\n",
       "    </tr>\n",
       "  </thead>\n",
       "  <tbody>\n",
       "    <tr>\n",
       "      <th>6500</th>\n",
       "      <td>700</td>\n",
       "      <td>Айдар</td>\n",
       "      <td>22</td>\n",
       "      <td>Омск</td>\n",
       "      <td>free</td>\n",
       "      <td>2515.69</td>\n",
       "      <td>14.944286</td>\n",
       "      <td>2021-01-02</td>\n",
       "      <td>1</td>\n",
       "      <td>8</td>\n",
       "      <td>50</td>\n",
       "      <td>0</td>\n",
       "    </tr>\n",
       "    <tr>\n",
       "      <th>6501</th>\n",
       "      <td>700</td>\n",
       "      <td>Айдар</td>\n",
       "      <td>22</td>\n",
       "      <td>Омск</td>\n",
       "      <td>free</td>\n",
       "      <td>846.93</td>\n",
       "      <td>16.234663</td>\n",
       "      <td>2021-02-01</td>\n",
       "      <td>2</td>\n",
       "      <td>8</td>\n",
       "      <td>50</td>\n",
       "      <td>0</td>\n",
       "    </tr>\n",
       "    <tr>\n",
       "      <th>6502</th>\n",
       "      <td>700</td>\n",
       "      <td>Айдар</td>\n",
       "      <td>22</td>\n",
       "      <td>Омск</td>\n",
       "      <td>free</td>\n",
       "      <td>4004.43</td>\n",
       "      <td>20.016628</td>\n",
       "      <td>2021-02-04</td>\n",
       "      <td>2</td>\n",
       "      <td>8</td>\n",
       "      <td>50</td>\n",
       "      <td>0</td>\n",
       "    </tr>\n",
       "    <tr>\n",
       "      <th>6503</th>\n",
       "      <td>700</td>\n",
       "      <td>Айдар</td>\n",
       "      <td>22</td>\n",
       "      <td>Омск</td>\n",
       "      <td>free</td>\n",
       "      <td>1205.91</td>\n",
       "      <td>9.782872</td>\n",
       "      <td>2021-02-10</td>\n",
       "      <td>2</td>\n",
       "      <td>8</td>\n",
       "      <td>50</td>\n",
       "      <td>0</td>\n",
       "    </tr>\n",
       "    <tr>\n",
       "      <th>6504</th>\n",
       "      <td>700</td>\n",
       "      <td>Айдар</td>\n",
       "      <td>22</td>\n",
       "      <td>Омск</td>\n",
       "      <td>free</td>\n",
       "      <td>3047.38</td>\n",
       "      <td>17.427673</td>\n",
       "      <td>2021-02-14</td>\n",
       "      <td>2</td>\n",
       "      <td>8</td>\n",
       "      <td>50</td>\n",
       "      <td>0</td>\n",
       "    </tr>\n",
       "  </tbody>\n",
       "</table>\n",
       "</div>"
      ],
      "text/plain": [
       "      user_id   name  age  city subscription_type  distance   duration  \\\n",
       "6500      700  Айдар   22  Омск              free   2515.69  14.944286   \n",
       "6501      700  Айдар   22  Омск              free    846.93  16.234663   \n",
       "6502      700  Айдар   22  Омск              free   4004.43  20.016628   \n",
       "6503      700  Айдар   22  Омск              free   1205.91   9.782872   \n",
       "6504      700  Айдар   22  Омск              free   3047.38  17.427673   \n",
       "\n",
       "           date  month_of_ride  minute_price  start_ride_price  \\\n",
       "6500 2021-01-02              1             8                50   \n",
       "6501 2021-02-01              2             8                50   \n",
       "6502 2021-02-04              2             8                50   \n",
       "6503 2021-02-10              2             8                50   \n",
       "6504 2021-02-14              2             8                50   \n",
       "\n",
       "      subscription_fee  \n",
       "6500                 0  \n",
       "6501                 0  \n",
       "6502                 0  \n",
       "6503                 0  \n",
       "6504                 0  "
      ]
     },
     "execution_count": 45,
     "metadata": {},
     "output_type": "execute_result"
    }
   ],
   "source": [
    "free_ride.head() # проверяем"
   ]
  },
  {
   "cell_type": "code",
   "execution_count": 46,
   "id": "b0f68236",
   "metadata": {},
   "outputs": [
    {
     "data": {
      "text/plain": [
       "11568"
      ]
     },
     "execution_count": 46,
     "metadata": {},
     "output_type": "execute_result"
    }
   ],
   "source": [
    "free_ride.shape[0]"
   ]
  },
  {
   "cell_type": "code",
   "execution_count": 47,
   "id": "3fe285ef",
   "metadata": {},
   "outputs": [
    {
     "data": {
      "text/plain": [
       "6500"
      ]
     },
     "execution_count": 47,
     "metadata": {},
     "output_type": "execute_result"
    }
   ],
   "source": [
    "ultra_ride.shape[0]"
   ]
  },
  {
   "cell_type": "code",
   "execution_count": 48,
   "id": "943145cc",
   "metadata": {},
   "outputs": [
    {
     "data": {
      "text/plain": [
       "count    6500.000000\n",
       "mean     3115.445431\n",
       "std       836.895369\n",
       "min       244.210000\n",
       "25%      2785.447500\n",
       "50%      3148.640000\n",
       "75%      3560.577500\n",
       "max      5699.770000\n",
       "Name: distance, dtype: float64"
      ]
     },
     "execution_count": 48,
     "metadata": {},
     "output_type": "execute_result"
    }
   ],
   "source": [
    "ultra_ride[\"distance\"].describe()"
   ]
  },
  {
   "cell_type": "code",
   "execution_count": 49,
   "id": "2d21adc8",
   "metadata": {},
   "outputs": [
    {
     "data": {
      "text/plain": [
       "count    11568.000000\n",
       "mean      3045.495284\n",
       "std       1246.173810\n",
       "min          0.860000\n",
       "25%       2366.560000\n",
       "50%       3114.650000\n",
       "75%       3905.695000\n",
       "max       7211.010000\n",
       "Name: distance, dtype: float64"
      ]
     },
     "execution_count": 49,
     "metadata": {},
     "output_type": "execute_result"
    }
   ],
   "source": [
    "free_ride[\"distance\"].describe()"
   ]
  },
  {
   "cell_type": "code",
   "execution_count": 50,
   "id": "7655db40",
   "metadata": {},
   "outputs": [
    {
     "data": {
      "image/png": "[encoded data removed]",
      "text/plain": [
       "<Figure size 1080x504 with 1 Axes>"
      ]
     },
     "metadata": {
      "needs_background": "light"
     },
     "output_type": "display_data"
    }
   ],
   "source": [
    "plt.figure(figsize=(15,7))\n",
    "sns.histplot(free_ride['distance'], stat='density',  common_norm=False, bins = 60, color='Green');\n",
    "sns.histplot(ultra_ride['distance'],   stat='density', common_norm=False, bins = 60, color='Red');\n",
    "plt.legend(['Без подписки', 'С подпиской']);\n",
    "plt.title('Распределение  клиентов с подпиской и без по дистанции')\n",
    "plt.xlabel('Расстояние');\n",
    "plt.ylabel('Значение');\n",
    "plt.show();\n",
    "# строим гистограмму расстояния поездок"
   ]
  },
  {
   "cell_type": "code",
   "execution_count": 51,
   "id": "11328694",
   "metadata": {},
   "outputs": [
    {
     "data": {
      "text/plain": [
       "count    6500.000000\n",
       "mean       18.541985\n",
       "std         5.572048\n",
       "min         3.760353\n",
       "25%        14.524654\n",
       "50%        18.178153\n",
       "75%        21.884129\n",
       "max        40.823963\n",
       "Name: duration, dtype: float64"
      ]
     },
     "execution_count": 51,
     "metadata": {},
     "output_type": "execute_result"
    }
   ],
   "source": [
    "ultra_ride[\"duration\"].describe()"
   ]
  },
  {
   "cell_type": "code",
   "execution_count": 52,
   "id": "f0d23987",
   "metadata": {},
   "outputs": [
    {
     "data": {
      "text/plain": [
       "count    11568.000000\n",
       "mean        17.390909\n",
       "std          6.326803\n",
       "min          0.500000\n",
       "25%         12.958437\n",
       "50%         17.326890\n",
       "75%         21.594071\n",
       "max         34.948498\n",
       "Name: duration, dtype: float64"
      ]
     },
     "execution_count": 52,
     "metadata": {},
     "output_type": "execute_result"
    }
   ],
   "source": [
    "free_ride[\"duration\"].describe()"
   ]
  },
  {
   "cell_type": "code",
   "execution_count": 53,
   "id": "30242437",
   "metadata": {},
   "outputs": [
    {
     "data": {
      "image/png": "[encoded data removed]",
      "text/plain": [
       "<Figure size 1080x504 with 1 Axes>"
      ]
     },
     "metadata": {
      "needs_background": "light"
     },
     "output_type": "display_data"
    }
   ],
   "source": [
    "plt.figure(figsize=(15,7))\n",
    "sns.histplot(free_ride['duration'], stat='density',  common_norm=False, bins = 60, color='Green');\n",
    "sns.histplot(ultra_ride['duration'],   stat='density', common_norm=False, bins = 60, color='Red');\n",
    "plt.legend(['Без подписки', 'С подпиской']);\n",
    "plt.title('Распределение  клиентов с подпиской и без по времени поездки')\n",
    "plt.xlabel('Время');\n",
    "plt.ylabel('Значение');\n",
    "plt.show();\n",
    "# строим гистограмму времени  поездок"
   ]
  },
  {
   "cell_type": "code",
   "execution_count": 54,
   "id": "54556f9a",
   "metadata": {},
   "outputs": [
    {
     "data": {
      "image/png": "[encoded data removed]",
      "text/plain": [
       "<Figure size 1080x504 with 1 Axes>"
      ]
     },
     "metadata": {
      "needs_background": "light"
     },
     "output_type": "display_data"
    }
   ],
   "source": [
    "plt.figure(figsize=(15,7))\n",
    "sns.histplot(free_ride['age'], stat='density',  common_norm=False, bins = 60, color='Green');\n",
    "sns.histplot(ultra_ride['age'],   stat='density', common_norm=False, bins = 60, color='Red');\n",
    "plt.legend(['Без подписки', 'С подпиской']);\n",
    "plt.title('Распределение  клиентов с подпиской и без по возрасту')\n",
    "plt.xlabel('Возраст');\n",
    "plt.ylabel('Значение');\n",
    "plt.show();\n",
    "# строим гистограмму возраста"
   ]
  },
  {
   "cell_type": "markdown",
   "id": "df20985d",
   "metadata": {},
   "source": [
    "Объединили данные о пользователях. Количество поездок, совершенных с подпиской составяет 6500 против 11568 без подписки. Возраст пользователей с подпиской и без распределен одинаково. При рассмотрении данных о расстоянии поездок у пользовтелей с подпиской поездка в среднем составляет около 3100, без подписки - около 3000. Также у пользователей на графиках видны всплески коротких поездок - около 1000 м с подпиской и около 700 м. без подписки. По времени пользования распределение практически одинаковое - в основном от 15 до 20 минут"
   ]
  },
  {
   "cell_type": "markdown",
   "id": "402d620f",
   "metadata": {},
   "source": [
    "###  Подсчёт выручки."
   ]
  },
  {
   "cell_type": "markdown",
   "id": "0220edae",
   "metadata": {},
   "source": [
    "В этом разделе создадим датафрейм с агрегированными данными о поездках на основе датафрейма с объединёнными данными, найдем суммарное расстояние, количество поездок и суммарное время для каждого пользователя за каждый месяц. Потом В этот же датафрейм добавьте столбец с помесячной выручкой, которую принёс каждый пользователь."
   ]
  },
  {
   "cell_type": "code",
   "execution_count": 55,
   "id": "2a805f7a",
   "metadata": {},
   "outputs": [],
   "source": [
    "whole_data[\"duration\"] = np.ceil(whole_data[\"duration\"]) \n",
    "# округляем значения \"duration\" в совмещенной таблице в большую сторону"
   ]
  },
  {
   "cell_type": "code",
   "execution_count": 56,
   "id": "41a6eb29",
   "metadata": {},
   "outputs": [
    {
     "data": {
      "text/html": [
       "<div>\n",
       "<style scoped>\n",
       "    .dataframe tbody tr th:only-of-type {\n",
       "        vertical-align: middle;\n",
       "    }\n",
       "\n",
       "    .dataframe tbody tr th {\n",
       "        vertical-align: top;\n",
       "    }\n",
       "\n",
       "    .dataframe thead th {\n",
       "        text-align: right;\n",
       "    }\n",
       "</style>\n",
       "<table border=\"1\" class=\"dataframe\">\n",
       "  <thead>\n",
       "    <tr style=\"text-align: right;\">\n",
       "      <th></th>\n",
       "      <th>user_id</th>\n",
       "      <th>name</th>\n",
       "      <th>age</th>\n",
       "      <th>city</th>\n",
       "      <th>subscription_type</th>\n",
       "      <th>distance</th>\n",
       "      <th>duration</th>\n",
       "      <th>date</th>\n",
       "      <th>month_of_ride</th>\n",
       "      <th>minute_price</th>\n",
       "      <th>start_ride_price</th>\n",
       "      <th>subscription_fee</th>\n",
       "    </tr>\n",
       "  </thead>\n",
       "  <tbody>\n",
       "    <tr>\n",
       "      <th>0</th>\n",
       "      <td>1</td>\n",
       "      <td>Кира</td>\n",
       "      <td>22</td>\n",
       "      <td>Тюмень</td>\n",
       "      <td>ultra</td>\n",
       "      <td>4409.92</td>\n",
       "      <td>26.0</td>\n",
       "      <td>2021-01-01</td>\n",
       "      <td>1</td>\n",
       "      <td>6</td>\n",
       "      <td>0</td>\n",
       "      <td>199</td>\n",
       "    </tr>\n",
       "    <tr>\n",
       "      <th>1</th>\n",
       "      <td>1</td>\n",
       "      <td>Кира</td>\n",
       "      <td>22</td>\n",
       "      <td>Тюмень</td>\n",
       "      <td>ultra</td>\n",
       "      <td>2617.59</td>\n",
       "      <td>16.0</td>\n",
       "      <td>2021-01-18</td>\n",
       "      <td>1</td>\n",
       "      <td>6</td>\n",
       "      <td>0</td>\n",
       "      <td>199</td>\n",
       "    </tr>\n",
       "    <tr>\n",
       "      <th>2</th>\n",
       "      <td>1</td>\n",
       "      <td>Кира</td>\n",
       "      <td>22</td>\n",
       "      <td>Тюмень</td>\n",
       "      <td>ultra</td>\n",
       "      <td>754.16</td>\n",
       "      <td>7.0</td>\n",
       "      <td>2021-04-20</td>\n",
       "      <td>4</td>\n",
       "      <td>6</td>\n",
       "      <td>0</td>\n",
       "      <td>199</td>\n",
       "    </tr>\n",
       "  </tbody>\n",
       "</table>\n",
       "</div>"
      ],
      "text/plain": [
       "   user_id  name  age    city subscription_type  distance  duration  \\\n",
       "0        1  Кира   22  Тюмень             ultra   4409.92      26.0   \n",
       "1        1  Кира   22  Тюмень             ultra   2617.59      16.0   \n",
       "2        1  Кира   22  Тюмень             ultra    754.16       7.0   \n",
       "\n",
       "        date  month_of_ride  minute_price  start_ride_price  subscription_fee  \n",
       "0 2021-01-01              1             6                 0               199  \n",
       "1 2021-01-18              1             6                 0               199  \n",
       "2 2021-04-20              4             6                 0               199  "
      ]
     },
     "execution_count": 56,
     "metadata": {},
     "output_type": "execute_result"
    }
   ],
   "source": [
    "whole_data.head(3) # проверяем"
   ]
  },
  {
   "cell_type": "code",
   "execution_count": 57,
   "id": "ee4988aa",
   "metadata": {},
   "outputs": [],
   "source": [
    "revenue_data = pd.pivot_table(whole_data,\n",
    "                           index=['month_of_ride', 'user_id'],\n",
    "                           values = ['distance', 'duration', \"name\", 'subscription_type'],\n",
    "                           aggfunc = {'distance': sum, \n",
    "                                      'duration' : sum,\n",
    "                                     'name' : len,\n",
    "                                     'subscription_type' : min})\n",
    "# создаем таблицу с необходимыми для подсчета выручки столбцами"
   ]
  },
  {
   "cell_type": "code",
   "execution_count": 58,
   "id": "1459c64b",
   "metadata": {},
   "outputs": [],
   "source": [
    "revenue_data = revenue_data.rename(columns = {\"name\": \"counts_of_trips\"}) \n",
    "# переименовываем столбец \"name\" в \"counts_of_trips\""
   ]
  },
  {
   "cell_type": "code",
   "execution_count": 59,
   "id": "26b95f1b",
   "metadata": {},
   "outputs": [
    {
     "data": {
      "text/html": [
       "<div>\n",
       "<style scoped>\n",
       "    .dataframe tbody tr th:only-of-type {\n",
       "        vertical-align: middle;\n",
       "    }\n",
       "\n",
       "    .dataframe tbody tr th {\n",
       "        vertical-align: top;\n",
       "    }\n",
       "\n",
       "    .dataframe thead th {\n",
       "        text-align: right;\n",
       "    }\n",
       "</style>\n",
       "<table border=\"1\" class=\"dataframe\">\n",
       "  <thead>\n",
       "    <tr style=\"text-align: right;\">\n",
       "      <th></th>\n",
       "      <th></th>\n",
       "      <th>distance</th>\n",
       "      <th>duration</th>\n",
       "      <th>counts_of_trips</th>\n",
       "      <th>subscription_type</th>\n",
       "    </tr>\n",
       "    <tr>\n",
       "      <th>month_of_ride</th>\n",
       "      <th>user_id</th>\n",
       "      <th></th>\n",
       "      <th></th>\n",
       "      <th></th>\n",
       "      <th></th>\n",
       "    </tr>\n",
       "  </thead>\n",
       "  <tbody>\n",
       "    <tr>\n",
       "      <th rowspan=\"3\" valign=\"top\">1</th>\n",
       "      <th>1</th>\n",
       "      <td>7027.51</td>\n",
       "      <td>42.0</td>\n",
       "      <td>2</td>\n",
       "      <td>ultra</td>\n",
       "    </tr>\n",
       "    <tr>\n",
       "      <th>3</th>\n",
       "      <td>3061.78</td>\n",
       "      <td>13.0</td>\n",
       "      <td>1</td>\n",
       "      <td>ultra</td>\n",
       "    </tr>\n",
       "    <tr>\n",
       "      <th>5</th>\n",
       "      <td>3914.65</td>\n",
       "      <td>13.0</td>\n",
       "      <td>1</td>\n",
       "      <td>ultra</td>\n",
       "    </tr>\n",
       "  </tbody>\n",
       "</table>\n",
       "</div>"
      ],
      "text/plain": [
       "                       distance  duration  counts_of_trips subscription_type\n",
       "month_of_ride user_id                                                       \n",
       "1             1         7027.51      42.0                2             ultra\n",
       "              3         3061.78      13.0                1             ultra\n",
       "              5         3914.65      13.0                1             ultra"
      ]
     },
     "execution_count": 59,
     "metadata": {},
     "output_type": "execute_result"
    }
   ],
   "source": [
    "revenue_data.head(3) # проверяем"
   ]
  },
  {
   "cell_type": "code",
   "execution_count": 60,
   "id": "4de741ef",
   "metadata": {},
   "outputs": [],
   "source": [
    "def profit(line):\n",
    "    if line [\"subscription_type\"] == \"ultra\":\n",
    "        return 6*line [\"duration\"]+199\n",
    "    elif line [\"subscription_type\"] == \"free\":\n",
    "        return 8*line [\"duration\"]+50*line[\"counts_of_trips\"]\n",
    "\n",
    "    # расчитываем  выручку в соответсвии с категорией пользователей        "
   ]
  },
  {
   "cell_type": "code",
   "execution_count": 61,
   "id": "2b943401",
   "metadata": {},
   "outputs": [],
   "source": [
    "revenue_data[\"profit_month\"] = revenue_data.apply(profit, axis = 1) \n",
    "# добавляем столбец с помесячной выручкой для каждого пользователя"
   ]
  },
  {
   "cell_type": "code",
   "execution_count": 62,
   "id": "46f4721a",
   "metadata": {},
   "outputs": [
    {
     "data": {
      "text/html": [
       "<div>\n",
       "<style scoped>\n",
       "    .dataframe tbody tr th:only-of-type {\n",
       "        vertical-align: middle;\n",
       "    }\n",
       "\n",
       "    .dataframe tbody tr th {\n",
       "        vertical-align: top;\n",
       "    }\n",
       "\n",
       "    .dataframe thead th {\n",
       "        text-align: right;\n",
       "    }\n",
       "</style>\n",
       "<table border=\"1\" class=\"dataframe\">\n",
       "  <thead>\n",
       "    <tr style=\"text-align: right;\">\n",
       "      <th></th>\n",
       "      <th></th>\n",
       "      <th>distance</th>\n",
       "      <th>duration</th>\n",
       "      <th>counts_of_trips</th>\n",
       "      <th>subscription_type</th>\n",
       "      <th>profit_month</th>\n",
       "    </tr>\n",
       "    <tr>\n",
       "      <th>month_of_ride</th>\n",
       "      <th>user_id</th>\n",
       "      <th></th>\n",
       "      <th></th>\n",
       "      <th></th>\n",
       "      <th></th>\n",
       "      <th></th>\n",
       "    </tr>\n",
       "  </thead>\n",
       "  <tbody>\n",
       "    <tr>\n",
       "      <th rowspan=\"5\" valign=\"top\">1</th>\n",
       "      <th>1</th>\n",
       "      <td>7027.51</td>\n",
       "      <td>42.0</td>\n",
       "      <td>2</td>\n",
       "      <td>ultra</td>\n",
       "      <td>451.0</td>\n",
       "    </tr>\n",
       "    <tr>\n",
       "      <th>3</th>\n",
       "      <td>3061.78</td>\n",
       "      <td>13.0</td>\n",
       "      <td>1</td>\n",
       "      <td>ultra</td>\n",
       "      <td>277.0</td>\n",
       "    </tr>\n",
       "    <tr>\n",
       "      <th>5</th>\n",
       "      <td>3914.65</td>\n",
       "      <td>13.0</td>\n",
       "      <td>1</td>\n",
       "      <td>ultra</td>\n",
       "      <td>277.0</td>\n",
       "    </tr>\n",
       "    <tr>\n",
       "      <th>7</th>\n",
       "      <td>6478.08</td>\n",
       "      <td>28.0</td>\n",
       "      <td>2</td>\n",
       "      <td>ultra</td>\n",
       "      <td>367.0</td>\n",
       "    </tr>\n",
       "    <tr>\n",
       "      <th>12</th>\n",
       "      <td>3577.15</td>\n",
       "      <td>33.0</td>\n",
       "      <td>1</td>\n",
       "      <td>ultra</td>\n",
       "      <td>397.0</td>\n",
       "    </tr>\n",
       "    <tr>\n",
       "      <th>...</th>\n",
       "      <th>...</th>\n",
       "      <td>...</td>\n",
       "      <td>...</td>\n",
       "      <td>...</td>\n",
       "      <td>...</td>\n",
       "      <td>...</td>\n",
       "    </tr>\n",
       "    <tr>\n",
       "      <th rowspan=\"5\" valign=\"top\">12</th>\n",
       "      <th>1525</th>\n",
       "      <td>4597.85</td>\n",
       "      <td>34.0</td>\n",
       "      <td>1</td>\n",
       "      <td>free</td>\n",
       "      <td>322.0</td>\n",
       "    </tr>\n",
       "    <tr>\n",
       "      <th>1526</th>\n",
       "      <td>3644.12</td>\n",
       "      <td>23.0</td>\n",
       "      <td>1</td>\n",
       "      <td>free</td>\n",
       "      <td>234.0</td>\n",
       "    </tr>\n",
       "    <tr>\n",
       "      <th>1528</th>\n",
       "      <td>3998.57</td>\n",
       "      <td>11.0</td>\n",
       "      <td>1</td>\n",
       "      <td>free</td>\n",
       "      <td>138.0</td>\n",
       "    </tr>\n",
       "    <tr>\n",
       "      <th>1532</th>\n",
       "      <td>6111.89</td>\n",
       "      <td>42.0</td>\n",
       "      <td>2</td>\n",
       "      <td>free</td>\n",
       "      <td>436.0</td>\n",
       "    </tr>\n",
       "    <tr>\n",
       "      <th>1534</th>\n",
       "      <td>2371.71</td>\n",
       "      <td>16.0</td>\n",
       "      <td>1</td>\n",
       "      <td>free</td>\n",
       "      <td>178.0</td>\n",
       "    </tr>\n",
       "  </tbody>\n",
       "</table>\n",
       "<p>11331 rows × 5 columns</p>\n",
       "</div>"
      ],
      "text/plain": [
       "                       distance  duration  counts_of_trips subscription_type  \\\n",
       "month_of_ride user_id                                                          \n",
       "1             1         7027.51      42.0                2             ultra   \n",
       "              3         3061.78      13.0                1             ultra   \n",
       "              5         3914.65      13.0                1             ultra   \n",
       "              7         6478.08      28.0                2             ultra   \n",
       "              12        3577.15      33.0                1             ultra   \n",
       "...                         ...       ...              ...               ...   \n",
       "12            1525      4597.85      34.0                1              free   \n",
       "              1526      3644.12      23.0                1              free   \n",
       "              1528      3998.57      11.0                1              free   \n",
       "              1532      6111.89      42.0                2              free   \n",
       "              1534      2371.71      16.0                1              free   \n",
       "\n",
       "                       profit_month  \n",
       "month_of_ride user_id                \n",
       "1             1               451.0  \n",
       "              3               277.0  \n",
       "              5               277.0  \n",
       "              7               367.0  \n",
       "              12              397.0  \n",
       "...                             ...  \n",
       "12            1525            322.0  \n",
       "              1526            234.0  \n",
       "              1528            138.0  \n",
       "              1532            436.0  \n",
       "              1534            178.0  \n",
       "\n",
       "[11331 rows x 5 columns]"
      ]
     },
     "execution_count": 62,
     "metadata": {},
     "output_type": "execute_result"
    }
   ],
   "source": [
    "revenue_data # проверяем полученные даные"
   ]
  },
  {
   "cell_type": "markdown",
   "id": "1424a046",
   "metadata": {},
   "source": [
    "Создали новый датафрейм. Нашли суммарное расстояние и время, количество поездок  помесячно для каждого пользователя. Добавили столбец с помесячной выручкой, которую принес каждый пользователь компании.    "
   ]
  },
  {
   "cell_type": "markdown",
   "id": "41545ac0",
   "metadata": {},
   "source": [
    "###  Проверка гипотез."
   ]
  },
  {
   "cell_type": "markdown",
   "id": "6e04cd52",
   "metadata": {},
   "source": [
    "Продакт-менеджеры сервиса хотят увеличить количество пользователей с подпиской. Для этого они будут проводить различные акции, но сначала нужно выяснить несколько важных моментов."
   ]
  },
  {
   "cell_type": "markdown",
   "id": "bb099a13",
   "metadata": {},
   "source": [
    "Проверим гипотезу: \n",
    "\n",
    "H-0: Пользователи с подпиской и без подписки трятят одинаковое время на поездки.\n",
    "\n",
    "H-1: Пользователи с подпиской тратят больше времени на поездки."
   ]
  },
  {
   "cell_type": "code",
   "execution_count": 63,
   "id": "1f257692",
   "metadata": {},
   "outputs": [],
   "source": [
    "alpha = 0.05 # уровень значимости"
   ]
  },
  {
   "cell_type": "code",
   "execution_count": 64,
   "id": "04da478a",
   "metadata": {},
   "outputs": [
    {
     "name": "stdout",
     "output_type": "stream",
     "text": [
      "1.2804098316645618e-34\n",
      "Отвергаем нулевую гипотезу\n"
     ]
    }
   ],
   "source": [
    "results = st.ttest_ind(ultra_ride['duration'], free_ride['duration'],alternative = 'greater')\n",
    "print(results.pvalue)\n",
    "if results.pvalue < alpha:\n",
    "    print('Отвергаем нулевую гипотезу')\n",
    "else:\n",
    "    print('Не отвергаем нулевую гипотезу')"
   ]
  },
  {
   "cell_type": "markdown",
   "id": "77c69dec",
   "metadata": {},
   "source": [
    "Вывод: Отвергаем нулевую гипотезу, так как пользователи с подпиской тратят больше времени на поездки"
   ]
  },
  {
   "cell_type": "markdown",
   "id": "ffa7b12b",
   "metadata": {},
   "source": [
    " Расстояние одной поездки в 3130 метров — оптимальное с точки зрения износа самоката. Можно ли сказать, что среднее расстояние, которое проезжают пользователи с подпиской за одну поездку, не превышает 3130 метров? Проверьте гипотезу и сделайте выводы."
   ]
  },
  {
   "cell_type": "markdown",
   "id": "6862255c",
   "metadata": {},
   "source": [
    "Проверим гипотезу\n",
    "\n",
    "Н-0 Пользователи с подпиской проезжают 3130 метров\n",
    "\n",
    "Н-1 Пользователи с подпиской проезжают более 3130 метров"
   ]
  },
  {
   "cell_type": "code",
   "execution_count": 65,
   "id": "f782fdbf",
   "metadata": {},
   "outputs": [],
   "source": [
    "alpha = 0.05 # уровень значимости"
   ]
  },
  {
   "cell_type": "code",
   "execution_count": 66,
   "id": "aa2d80c0",
   "metadata": {},
   "outputs": [
    {
     "name": "stdout",
     "output_type": "stream",
     "text": [
      "0.9195362605842414\n",
      "Не отвергаем нулевую гипотезу\n"
     ]
    }
   ],
   "source": [
    "results = st.ttest_1samp(ultra_ride [\"distance\"], 3130, alternative='greater')\n",
    "print(results.pvalue)\n",
    "if results.pvalue < alpha:\n",
    "    print('Отвергаем нулевую гипотезу')\n",
    "else:\n",
    "    print('Не отвергаем нулевую гипотезу')"
   ]
  },
  {
   "cell_type": "markdown",
   "id": "a75b781d",
   "metadata": {},
   "source": [
    "Вывод. Гипотезу проверили. Не отвергаем гипотезу о том что пользователи с подпиской проезжают расстояние менее или равное 3130 м."
   ]
  },
  {
   "cell_type": "markdown",
   "id": "6edf49df",
   "metadata": {},
   "source": [
    "Проверим гипотезу о том, будет ли помесячная выручка от пользователей с подпиской по месяцам выше, чем выручка от пользователей без подписки. Сделаем вывод."
   ]
  },
  {
   "cell_type": "markdown",
   "id": "c3070369",
   "metadata": {},
   "source": [
    "Н-0 Выручка в месяц у пользователей с подпиской = выручке от пользователей без подписки.\n",
    "\n",
    "Н-1 Выручка в месяц у пользователей с подпиской выше, чем у пользователей без подписки."
   ]
  },
  {
   "cell_type": "code",
   "execution_count": 67,
   "id": "ef35f3ef",
   "metadata": {},
   "outputs": [],
   "source": [
    "ultra_cost = revenue_data.loc[revenue_data.subscription_type == \"ultra\", \"profit_month\"]\n",
    "free_cost = revenue_data.loc[revenue_data.subscription_type == \"free\", \"profit_month\"]"
   ]
  },
  {
   "cell_type": "code",
   "execution_count": 68,
   "id": "5f4f3b2c",
   "metadata": {},
   "outputs": [
    {
     "name": "stdout",
     "output_type": "stream",
     "text": [
      "1.8850394384715216e-31\n",
      "Отвергаем нулевую гипотезу\n"
     ]
    }
   ],
   "source": [
    "results = st.ttest_ind(ultra_cost, free_cost, alternative = 'greater')\n",
    "print(results.pvalue)\n",
    "if results.pvalue < alpha:\n",
    "    print('Отвергаем нулевую гипотезу')\n",
    "else:\n",
    "    print('Не отвергаем нулевую гипотезу')"
   ]
  },
  {
   "cell_type": "markdown",
   "id": "a3d9a51b",
   "metadata": {},
   "source": [
    "### Вывод."
   ]
  },
  {
   "cell_type": "markdown",
   "id": "b761e109",
   "metadata": {},
   "source": [
    "Пользователи с подпиской приносят больше прибыли"
   ]
  },
  {
   "cell_type": "markdown",
   "id": "4e16ca9b",
   "metadata": {},
   "source": [
    "Проведено исследование данных о пользователях сервиса аренды самоката и проверены гипотезы. В предоставленных данных не было пропущенных значений, но было незначительное количество дубликатов, которые были удалены. В дальнейшем три таблицы были объединены в одну. \n",
    "\n",
    "Было выявлено, что пользователями являются граждане в возрасте от 12 до 43 лет из 8 городов. Больше всего пользователей находится в городе Пятигорске, меньше всего в Москве. Так как сервис самокатов предоставляет услуги подписки, то интересно это распределение. Пользователей с подпиской 699 человек, против 835 без подписки. \n",
    "\n",
    "Пользователи самокатов за поездку проезжают до 7000 метров. В распределении поездок по расстоянию наблюдается два пика.  С подпиской в среднем чуть больше - 3100, без подписки поменьше - 3000 м. а также заметно пики малых поездок 700 м. без подписки и около 1000м с подпиской. \n",
    "По времени распределение поездок - нормальное - до 40 минут, в среденем от 15 до 20. Всего же поездок с подпиской почти в два раза меньше, чем поездок без подписок 6500 против 11568. \n",
    "\n",
    "Возраст на наличие подписки - не влияет. В данных встерчаются - аномально низкие значения по времени и расстоянию поездки - это, скоре всего, связано с тем, что пользователь передумал использовать самокат. \n",
    "\n",
    "При проверке гипотез мы отвергли гипотезу, что выручка от пользователей с подпиской равна выручке от пользователей без подписки. Не отвергли гипотезу, что пользователи с подпиской проезжают 3130 м. А также отвергли гипотезу, что клиенты с подпиской и без подписки тратят одинаковое время на поездки. \n",
    "\n",
    "Таким образом, по результатам исследования мы пришли к выводу, что пользователи с подпиской более выгодны компании, соответсвенно необходимо продвигать подписку."
   ]
  },
  {
   "cell_type": "code",
   "execution_count": null,
   "id": "2649f87c",
   "metadata": {},
   "outputs": [],
   "source": []
  }
 ],
 "metadata": {
  "ExecuteTimeLog": [
   {
    "duration": 401,
    "start_time": "2023-11-29T10:07:18.102Z"
   },
   {
    "duration": 60,
    "start_time": "2023-11-29T10:07:19.433Z"
   },
   {
    "duration": 3,
    "start_time": "2023-11-29T10:07:26.811Z"
   },
   {
    "duration": 6,
    "start_time": "2023-11-29T10:07:29.186Z"
   },
   {
    "duration": 6,
    "start_time": "2023-11-29T10:07:30.087Z"
   },
   {
    "duration": 3,
    "start_time": "2023-11-29T10:07:43.140Z"
   },
   {
    "duration": 6,
    "start_time": "2023-11-29T10:07:46.541Z"
   },
   {
    "duration": 74,
    "start_time": "2023-11-29T10:07:59.528Z"
   },
   {
    "duration": 15,
    "start_time": "2023-11-29T10:08:00.746Z"
   },
   {
    "duration": 7,
    "start_time": "2023-11-29T10:09:43.824Z"
   },
   {
    "duration": 89,
    "start_time": "2023-11-29T10:10:09.167Z"
   },
   {
    "duration": 8,
    "start_time": "2023-11-29T10:10:09.738Z"
   },
   {
    "duration": 50,
    "start_time": "2023-11-29T10:10:24.273Z"
   },
   {
    "duration": 7,
    "start_time": "2023-11-29T10:10:24.841Z"
   },
   {
    "duration": 8,
    "start_time": "2023-11-29T10:10:25.540Z"
   },
   {
    "duration": 6,
    "start_time": "2023-11-29T10:11:22.476Z"
   },
   {
    "duration": 99,
    "start_time": "2023-11-29T10:11:25.527Z"
   },
   {
    "duration": 7,
    "start_time": "2023-11-29T10:11:26.010Z"
   },
   {
    "duration": 8,
    "start_time": "2023-11-29T10:11:26.428Z"
   },
   {
    "duration": 6,
    "start_time": "2023-11-29T10:11:27.077Z"
   },
   {
    "duration": 9,
    "start_time": "2023-11-29T10:18:12.704Z"
   },
   {
    "duration": 5,
    "start_time": "2023-11-29T10:19:29.760Z"
   },
   {
    "duration": 6,
    "start_time": "2023-11-29T10:20:14.805Z"
   },
   {
    "duration": 62,
    "start_time": "2023-11-29T10:20:21.260Z"
   },
   {
    "duration": 8,
    "start_time": "2023-11-29T10:20:21.967Z"
   },
   {
    "duration": 7,
    "start_time": "2023-11-29T10:20:22.877Z"
   },
   {
    "duration": 6,
    "start_time": "2023-11-29T10:20:23.593Z"
   },
   {
    "duration": 8,
    "start_time": "2023-11-29T10:20:24.515Z"
   },
   {
    "duration": 5,
    "start_time": "2023-11-29T10:20:28.913Z"
   },
   {
    "duration": 5,
    "start_time": "2023-11-29T10:20:40.086Z"
   },
   {
    "duration": 6,
    "start_time": "2023-11-29T10:21:11.277Z"
   },
   {
    "duration": 7,
    "start_time": "2023-11-29T10:21:31.482Z"
   },
   {
    "duration": 10,
    "start_time": "2023-11-29T10:22:44.722Z"
   },
   {
    "duration": 6,
    "start_time": "2023-11-29T10:23:18.515Z"
   },
   {
    "duration": 8,
    "start_time": "2023-11-29T10:23:38.905Z"
   },
   {
    "duration": 9,
    "start_time": "2023-11-29T10:23:55.593Z"
   },
   {
    "duration": 5,
    "start_time": "2023-11-29T10:26:05.767Z"
   },
   {
    "duration": 6,
    "start_time": "2023-11-29T10:31:08.011Z"
   },
   {
    "duration": 5,
    "start_time": "2023-11-29T10:32:19.567Z"
   },
   {
    "duration": 6,
    "start_time": "2023-11-29T10:32:20.050Z"
   },
   {
    "duration": 6,
    "start_time": "2023-11-29T10:32:20.518Z"
   },
   {
    "duration": 7,
    "start_time": "2023-11-29T10:32:20.950Z"
   },
   {
    "duration": 6,
    "start_time": "2023-11-29T10:32:21.468Z"
   },
   {
    "duration": 4,
    "start_time": "2023-11-29T10:32:22.351Z"
   },
   {
    "duration": 1348,
    "start_time": "2023-11-29T10:36:11.442Z"
   },
   {
    "duration": 0,
    "start_time": "2023-11-29T10:36:12.792Z"
   },
   {
    "duration": 65,
    "start_time": "2023-11-29T10:36:17.123Z"
   },
   {
    "duration": 7,
    "start_time": "2023-11-29T10:36:17.547Z"
   },
   {
    "duration": 8,
    "start_time": "2023-11-29T10:36:17.840Z"
   },
   {
    "duration": 7,
    "start_time": "2023-11-29T10:36:18.123Z"
   },
   {
    "duration": 10,
    "start_time": "2023-11-29T10:36:18.359Z"
   },
   {
    "duration": 11,
    "start_time": "2023-11-29T10:36:18.642Z"
   },
   {
    "duration": 8,
    "start_time": "2023-11-29T10:36:18.962Z"
   },
   {
    "duration": 1287,
    "start_time": "2023-11-29T10:36:23.007Z"
   },
   {
    "duration": 0,
    "start_time": "2023-11-29T10:36:24.295Z"
   },
   {
    "duration": 7,
    "start_time": "2023-11-29T10:37:16.945Z"
   },
   {
    "duration": 8,
    "start_time": "2023-11-29T10:37:17.793Z"
   },
   {
    "duration": 9,
    "start_time": "2023-11-29T10:40:10.398Z"
   },
   {
    "duration": 5,
    "start_time": "2023-11-29T10:40:11.146Z"
   },
   {
    "duration": 8,
    "start_time": "2023-11-29T10:40:11.764Z"
   },
   {
    "duration": 38,
    "start_time": "2023-11-29T10:41:19.555Z"
   },
   {
    "duration": 4,
    "start_time": "2023-11-29T10:41:20.922Z"
   },
   {
    "duration": 9,
    "start_time": "2023-11-29T10:41:21.485Z"
   },
   {
    "duration": 4,
    "start_time": "2023-11-29T10:49:46.177Z"
   },
   {
    "duration": 4,
    "start_time": "2023-11-29T10:50:03.518Z"
   },
   {
    "duration": 5,
    "start_time": "2023-11-29T10:50:25.455Z"
   },
   {
    "duration": 4,
    "start_time": "2023-11-29T10:51:10.986Z"
   },
   {
    "duration": 4,
    "start_time": "2023-11-29T11:24:41.927Z"
   },
   {
    "duration": 8,
    "start_time": "2023-11-29T11:24:42.593Z"
   },
   {
    "duration": 4,
    "start_time": "2023-11-29T11:24:50.097Z"
   },
   {
    "duration": 5,
    "start_time": "2023-11-29T11:25:16.221Z"
   },
   {
    "duration": 4,
    "start_time": "2023-11-29T11:25:17.304Z"
   },
   {
    "duration": 11,
    "start_time": "2023-11-29T11:33:40.982Z"
   },
   {
    "duration": 4,
    "start_time": "2023-11-29T11:33:44.212Z"
   },
   {
    "duration": 7,
    "start_time": "2023-11-29T11:33:44.904Z"
   },
   {
    "duration": 753,
    "start_time": "2023-11-29T11:49:49.579Z"
   },
   {
    "duration": 204,
    "start_time": "2023-11-29T11:50:00.468Z"
   },
   {
    "duration": 128,
    "start_time": "2023-11-29T11:50:37.844Z"
   },
   {
    "duration": 292,
    "start_time": "2023-11-29T11:58:07.238Z"
   },
   {
    "duration": 493,
    "start_time": "2023-11-29T11:59:15.323Z"
   },
   {
    "duration": 67,
    "start_time": "2023-11-29T11:59:16.191Z"
   },
   {
    "duration": 9,
    "start_time": "2023-11-29T11:59:16.423Z"
   },
   {
    "duration": 8,
    "start_time": "2023-11-29T11:59:16.657Z"
   },
   {
    "duration": 6,
    "start_time": "2023-11-29T11:59:16.890Z"
   },
   {
    "duration": 12,
    "start_time": "2023-11-29T11:59:17.090Z"
   },
   {
    "duration": 11,
    "start_time": "2023-11-29T11:59:17.322Z"
   },
   {
    "duration": 11,
    "start_time": "2023-11-29T11:59:17.541Z"
   },
   {
    "duration": 136,
    "start_time": "2023-11-29T11:59:17.772Z"
   },
   {
    "duration": 323,
    "start_time": "2023-11-29T11:59:18.006Z"
   },
   {
    "duration": 268,
    "start_time": "2023-11-29T12:00:17.376Z"
   },
   {
    "duration": 311,
    "start_time": "2023-11-29T12:00:27.729Z"
   },
   {
    "duration": 208,
    "start_time": "2023-11-29T12:01:11.493Z"
   },
   {
    "duration": 28,
    "start_time": "2023-11-29T12:08:07.024Z"
   },
   {
    "duration": 7,
    "start_time": "2023-11-29T12:08:10.691Z"
   },
   {
    "duration": 7,
    "start_time": "2023-11-29T12:08:19.208Z"
   },
   {
    "duration": 1215,
    "start_time": "2023-11-29T12:09:22.295Z"
   },
   {
    "duration": 1203,
    "start_time": "2023-11-29T12:09:28.664Z"
   },
   {
    "duration": 9,
    "start_time": "2023-11-29T12:09:33.665Z"
   },
   {
    "duration": 219,
    "start_time": "2023-11-29T12:09:34.482Z"
   },
   {
    "duration": 1167,
    "start_time": "2023-11-29T12:09:36.285Z"
   },
   {
    "duration": 1453,
    "start_time": "2023-11-29T12:10:19.336Z"
   },
   {
    "duration": 1195,
    "start_time": "2023-11-29T12:10:37.185Z"
   },
   {
    "duration": 1244,
    "start_time": "2023-11-29T12:11:15.865Z"
   },
   {
    "duration": 1201,
    "start_time": "2023-11-29T12:11:20.400Z"
   },
   {
    "duration": 3,
    "start_time": "2023-11-29T12:11:25.869Z"
   },
   {
    "duration": 63,
    "start_time": "2023-11-29T12:11:26.402Z"
   },
   {
    "duration": 8,
    "start_time": "2023-11-29T12:11:26.634Z"
   },
   {
    "duration": 7,
    "start_time": "2023-11-29T12:11:26.852Z"
   },
   {
    "duration": 7,
    "start_time": "2023-11-29T12:11:27.067Z"
   },
   {
    "duration": 9,
    "start_time": "2023-11-29T12:11:27.300Z"
   },
   {
    "duration": 14,
    "start_time": "2023-11-29T12:11:27.535Z"
   },
   {
    "duration": 9,
    "start_time": "2023-11-29T12:11:27.750Z"
   },
   {
    "duration": 218,
    "start_time": "2023-11-29T12:11:28.002Z"
   },
   {
    "duration": 4,
    "start_time": "2023-11-29T12:11:28.222Z"
   },
   {
    "duration": 5,
    "start_time": "2023-11-29T12:11:39.321Z"
   },
   {
    "duration": 4,
    "start_time": "2023-11-29T12:12:08.066Z"
   },
   {
    "duration": 10,
    "start_time": "2023-11-29T12:14:14.612Z"
   },
   {
    "duration": 16,
    "start_time": "2023-11-29T12:14:58.417Z"
   },
   {
    "duration": 4,
    "start_time": "2023-11-29T12:15:01.768Z"
   },
   {
    "duration": 14,
    "start_time": "2023-11-29T12:15:02.552Z"
   },
   {
    "duration": 3,
    "start_time": "2023-11-29T12:15:17.372Z"
   },
   {
    "duration": 63,
    "start_time": "2023-11-29T12:15:17.791Z"
   },
   {
    "duration": 8,
    "start_time": "2023-11-29T12:15:17.975Z"
   },
   {
    "duration": 8,
    "start_time": "2023-11-29T12:15:18.355Z"
   },
   {
    "duration": 7,
    "start_time": "2023-11-29T12:15:18.756Z"
   },
   {
    "duration": 11,
    "start_time": "2023-11-29T12:15:18.973Z"
   },
   {
    "duration": 12,
    "start_time": "2023-11-29T12:15:19.206Z"
   },
   {
    "duration": 10,
    "start_time": "2023-11-29T12:15:19.459Z"
   },
   {
    "duration": 218,
    "start_time": "2023-11-29T12:15:19.822Z"
   },
   {
    "duration": 4,
    "start_time": "2023-11-29T12:15:20.741Z"
   },
   {
    "duration": 14,
    "start_time": "2023-11-29T12:15:22.192Z"
   },
   {
    "duration": 223,
    "start_time": "2023-11-29T12:16:11.740Z"
   },
   {
    "duration": 4,
    "start_time": "2023-11-29T12:16:13.108Z"
   },
   {
    "duration": 14,
    "start_time": "2023-11-29T12:16:14.841Z"
   },
   {
    "duration": 120,
    "start_time": "2023-11-29T12:17:52.055Z"
   },
   {
    "duration": 145,
    "start_time": "2023-11-29T12:17:59.723Z"
   },
   {
    "duration": 304,
    "start_time": "2023-11-29T12:18:08.192Z"
   },
   {
    "duration": 214,
    "start_time": "2023-11-29T12:18:34.602Z"
   },
   {
    "duration": 182,
    "start_time": "2023-11-29T12:19:10.128Z"
   },
   {
    "duration": 2021,
    "start_time": "2023-11-29T12:19:18.598Z"
   },
   {
    "duration": 214,
    "start_time": "2023-11-29T12:19:28.403Z"
   },
   {
    "duration": 3,
    "start_time": "2023-11-29T12:57:03.457Z"
   },
   {
    "duration": 63,
    "start_time": "2023-11-29T12:57:04.940Z"
   },
   {
    "duration": 8,
    "start_time": "2023-11-29T12:57:05.878Z"
   },
   {
    "duration": 7,
    "start_time": "2023-11-29T12:57:06.642Z"
   },
   {
    "duration": 6,
    "start_time": "2023-11-29T12:57:07.093Z"
   },
   {
    "duration": 10,
    "start_time": "2023-11-29T12:57:07.359Z"
   },
   {
    "duration": 10,
    "start_time": "2023-11-29T12:57:07.592Z"
   },
   {
    "duration": 10,
    "start_time": "2023-11-29T12:57:07.808Z"
   },
   {
    "duration": 7,
    "start_time": "2023-11-29T12:57:09.209Z"
   },
   {
    "duration": 5,
    "start_time": "2023-11-29T12:57:09.442Z"
   },
   {
    "duration": 9,
    "start_time": "2023-11-29T12:57:09.641Z"
   },
   {
    "duration": 5,
    "start_time": "2023-11-29T12:57:09.861Z"
   },
   {
    "duration": 6,
    "start_time": "2023-11-29T12:57:10.075Z"
   },
   {
    "duration": 4,
    "start_time": "2023-11-29T12:57:10.325Z"
   },
   {
    "duration": 5,
    "start_time": "2023-11-29T12:57:10.625Z"
   },
   {
    "duration": 4,
    "start_time": "2023-11-29T12:57:10.876Z"
   },
   {
    "duration": 6,
    "start_time": "2023-11-29T12:57:11.099Z"
   },
   {
    "duration": 8,
    "start_time": "2023-11-29T12:57:11.310Z"
   },
   {
    "duration": 6,
    "start_time": "2023-11-29T12:57:11.559Z"
   },
   {
    "duration": 4,
    "start_time": "2023-11-29T12:57:11.830Z"
   },
   {
    "duration": 4,
    "start_time": "2023-11-29T12:57:14.260Z"
   },
   {
    "duration": 266,
    "start_time": "2023-11-29T12:57:15.628Z"
   },
   {
    "duration": 8,
    "start_time": "2023-11-29T12:57:19.931Z"
   },
   {
    "duration": 8,
    "start_time": "2023-11-29T12:57:38.885Z"
   },
   {
    "duration": 127,
    "start_time": "2023-11-29T12:58:08.928Z"
   },
   {
    "duration": 96,
    "start_time": "2023-11-29T12:58:38.737Z"
   },
   {
    "duration": 102,
    "start_time": "2023-11-29T12:59:09.698Z"
   },
   {
    "duration": 104,
    "start_time": "2023-11-29T13:00:03.663Z"
   },
   {
    "duration": 122,
    "start_time": "2023-11-29T13:00:11.552Z"
   },
   {
    "duration": 1516,
    "start_time": "2023-11-29T13:07:46.777Z"
   },
   {
    "duration": 5,
    "start_time": "2023-11-29T13:09:20.903Z"
   },
   {
    "duration": 1241,
    "start_time": "2023-11-29T13:09:32.457Z"
   },
   {
    "duration": 5,
    "start_time": "2023-11-29T13:10:05.933Z"
   },
   {
    "duration": 6,
    "start_time": "2023-11-29T13:13:54.788Z"
   },
   {
    "duration": 233,
    "start_time": "2023-11-29T13:17:30.025Z"
   },
   {
    "duration": 233,
    "start_time": "2023-11-29T13:18:03.418Z"
   },
   {
    "duration": 233,
    "start_time": "2023-11-29T13:18:48.936Z"
   },
   {
    "duration": 382,
    "start_time": "2023-11-29T13:21:02.764Z"
   },
   {
    "duration": 256,
    "start_time": "2023-11-29T13:21:11.658Z"
   },
   {
    "duration": 243,
    "start_time": "2023-11-29T13:21:28.097Z"
   },
   {
    "duration": 257,
    "start_time": "2023-11-29T13:21:41.366Z"
   },
   {
    "duration": 227,
    "start_time": "2023-11-29T13:21:49.887Z"
   },
   {
    "duration": 235,
    "start_time": "2023-11-29T13:21:59.240Z"
   },
   {
    "duration": 259,
    "start_time": "2023-11-29T13:22:08.111Z"
   },
   {
    "duration": 9,
    "start_time": "2023-11-29T14:30:12.928Z"
   },
   {
    "duration": 8,
    "start_time": "2023-11-29T14:30:33.918Z"
   },
   {
    "duration": 9,
    "start_time": "2023-11-29T15:27:29.971Z"
   },
   {
    "duration": 3,
    "start_time": "2023-11-29T15:27:32.835Z"
   },
   {
    "duration": 9,
    "start_time": "2023-11-29T15:27:33.370Z"
   },
   {
    "duration": 7,
    "start_time": "2023-11-29T15:32:27.851Z"
   },
   {
    "duration": 10,
    "start_time": "2023-11-29T15:32:38.914Z"
   },
   {
    "duration": 10,
    "start_time": "2023-11-29T15:32:39.731Z"
   },
   {
    "duration": 9,
    "start_time": "2023-11-29T15:33:22.663Z"
   },
   {
    "duration": 10,
    "start_time": "2023-11-29T15:33:23.211Z"
   },
   {
    "duration": 9,
    "start_time": "2023-11-29T15:34:56.025Z"
   },
   {
    "duration": 10,
    "start_time": "2023-11-29T15:34:56.541Z"
   },
   {
    "duration": 8,
    "start_time": "2023-11-29T15:34:57.307Z"
   },
   {
    "duration": 10,
    "start_time": "2023-11-29T15:36:38.322Z"
   },
   {
    "duration": 10,
    "start_time": "2023-11-29T15:36:46.343Z"
   },
   {
    "duration": 3,
    "start_time": "2023-11-29T15:39:47.164Z"
   },
   {
    "duration": 64,
    "start_time": "2023-11-29T15:39:47.870Z"
   },
   {
    "duration": 8,
    "start_time": "2023-11-29T15:39:48.198Z"
   },
   {
    "duration": 8,
    "start_time": "2023-11-29T15:39:48.801Z"
   },
   {
    "duration": 6,
    "start_time": "2023-11-29T15:39:49.249Z"
   },
   {
    "duration": 10,
    "start_time": "2023-11-29T15:39:49.682Z"
   },
   {
    "duration": 10,
    "start_time": "2023-11-29T15:39:50.200Z"
   },
   {
    "duration": 8,
    "start_time": "2023-11-29T15:39:50.716Z"
   },
   {
    "duration": 8,
    "start_time": "2023-11-29T15:39:53.415Z"
   },
   {
    "duration": 6,
    "start_time": "2023-11-29T15:39:54.067Z"
   },
   {
    "duration": 9,
    "start_time": "2023-11-29T15:39:54.484Z"
   },
   {
    "duration": 5,
    "start_time": "2023-11-29T15:39:54.901Z"
   },
   {
    "duration": 5,
    "start_time": "2023-11-29T15:39:55.651Z"
   },
   {
    "duration": 4,
    "start_time": "2023-11-29T15:39:56.317Z"
   },
   {
    "duration": 2,
    "start_time": "2023-11-29T15:39:58.285Z"
   },
   {
    "duration": 4,
    "start_time": "2023-11-29T15:40:00.251Z"
   },
   {
    "duration": 6,
    "start_time": "2023-11-29T15:40:01.072Z"
   },
   {
    "duration": 7,
    "start_time": "2023-11-29T15:40:01.753Z"
   },
   {
    "duration": 5,
    "start_time": "2023-11-29T15:40:02.302Z"
   },
   {
    "duration": 5,
    "start_time": "2023-11-29T15:40:02.852Z"
   },
   {
    "duration": 5,
    "start_time": "2023-11-29T15:40:05.470Z"
   },
   {
    "duration": 5,
    "start_time": "2023-11-29T15:40:05.921Z"
   },
   {
    "duration": 133,
    "start_time": "2023-11-29T15:40:06.289Z"
   },
   {
    "duration": 5,
    "start_time": "2023-11-29T15:40:06.572Z"
   },
   {
    "duration": 221,
    "start_time": "2023-11-29T15:40:07.021Z"
   },
   {
    "duration": 392,
    "start_time": "2023-11-29T15:40:07.854Z"
   },
   {
    "duration": 8,
    "start_time": "2023-11-29T15:40:08.248Z"
   },
   {
    "duration": 252,
    "start_time": "2023-11-29T15:40:08.443Z"
   },
   {
    "duration": 9,
    "start_time": "2023-11-29T15:40:08.697Z"
   },
   {
    "duration": 9,
    "start_time": "2023-11-29T15:40:15.139Z"
   },
   {
    "duration": 10,
    "start_time": "2023-11-29T15:40:15.790Z"
   },
   {
    "duration": 7,
    "start_time": "2023-11-29T15:40:16.907Z"
   },
   {
    "duration": 11,
    "start_time": "2023-11-29T15:40:19.026Z"
   },
   {
    "duration": 9,
    "start_time": "2023-11-29T15:40:37.214Z"
   },
   {
    "duration": 9,
    "start_time": "2023-11-29T15:41:37.449Z"
   },
   {
    "duration": 12,
    "start_time": "2023-11-29T15:41:46.379Z"
   },
   {
    "duration": 5,
    "start_time": "2023-11-29T15:42:23.114Z"
   },
   {
    "duration": 5,
    "start_time": "2023-11-29T15:42:23.896Z"
   },
   {
    "duration": 5,
    "start_time": "2023-11-29T15:42:24.648Z"
   },
   {
    "duration": 6,
    "start_time": "2023-11-29T15:42:25.581Z"
   },
   {
    "duration": 8,
    "start_time": "2023-11-29T15:42:25.865Z"
   },
   {
    "duration": 6,
    "start_time": "2023-11-29T15:42:26.113Z"
   },
   {
    "duration": 5,
    "start_time": "2023-11-29T15:42:26.647Z"
   },
   {
    "duration": 5,
    "start_time": "2023-11-29T15:42:30.117Z"
   },
   {
    "duration": 6,
    "start_time": "2023-11-29T15:42:30.469Z"
   },
   {
    "duration": 121,
    "start_time": "2023-11-29T15:42:30.698Z"
   },
   {
    "duration": 6,
    "start_time": "2023-11-29T15:42:30.900Z"
   },
   {
    "duration": 9,
    "start_time": "2023-11-29T15:42:34.967Z"
   },
   {
    "duration": 11,
    "start_time": "2023-11-29T15:42:35.617Z"
   },
   {
    "duration": 12,
    "start_time": "2023-11-29T15:42:36.434Z"
   },
   {
    "duration": 12,
    "start_time": "2023-11-29T15:42:37.051Z"
   },
   {
    "duration": 9,
    "start_time": "2023-11-29T15:43:32.136Z"
   },
   {
    "duration": 7,
    "start_time": "2023-11-29T15:43:44.907Z"
   },
   {
    "duration": 10,
    "start_time": "2023-11-29T15:43:53.090Z"
   },
   {
    "duration": 11,
    "start_time": "2023-11-29T15:44:17.215Z"
   },
   {
    "duration": 11,
    "start_time": "2023-11-29T15:44:18.549Z"
   },
   {
    "duration": 13,
    "start_time": "2023-11-29T15:44:19.253Z"
   },
   {
    "duration": 15,
    "start_time": "2023-11-29T15:44:57.644Z"
   },
   {
    "duration": 17,
    "start_time": "2023-11-29T15:49:50.937Z"
   },
   {
    "duration": 5,
    "start_time": "2023-11-29T15:52:18.982Z"
   },
   {
    "duration": 9,
    "start_time": "2023-11-29T15:52:57.812Z"
   },
   {
    "duration": 4,
    "start_time": "2023-11-29T15:53:13.583Z"
   },
   {
    "duration": 4,
    "start_time": "2023-11-29T15:53:29.123Z"
   },
   {
    "duration": 94,
    "start_time": "2023-11-29T15:58:10.008Z"
   },
   {
    "duration": 95,
    "start_time": "2023-11-29T15:58:19.995Z"
   },
   {
    "duration": 3,
    "start_time": "2023-11-29T15:58:29.014Z"
   },
   {
    "duration": 4,
    "start_time": "2023-11-29T15:58:39.668Z"
   },
   {
    "duration": 5,
    "start_time": "2023-11-29T15:58:55.340Z"
   },
   {
    "duration": 5,
    "start_time": "2023-11-29T15:59:24.198Z"
   },
   {
    "duration": 4,
    "start_time": "2023-11-29T15:59:57.809Z"
   },
   {
    "duration": 18,
    "start_time": "2023-11-29T17:29:10.354Z"
   },
   {
    "duration": 11,
    "start_time": "2023-11-29T17:29:23.936Z"
   },
   {
    "duration": 9,
    "start_time": "2023-11-29T17:30:21.806Z"
   },
   {
    "duration": 1407,
    "start_time": "2023-11-29T17:30:37.674Z"
   },
   {
    "duration": 0,
    "start_time": "2023-11-29T17:30:39.083Z"
   },
   {
    "duration": 1313,
    "start_time": "2023-11-29T17:32:21.340Z"
   },
   {
    "duration": 7,
    "start_time": "2023-11-29T17:32:22.841Z"
   },
   {
    "duration": 5,
    "start_time": "2023-11-29T17:32:54.750Z"
   },
   {
    "duration": 8,
    "start_time": "2023-11-29T17:32:55.702Z"
   },
   {
    "duration": 4,
    "start_time": "2023-11-29T17:33:18.691Z"
   },
   {
    "duration": 4,
    "start_time": "2023-11-29T17:34:14.975Z"
   },
   {
    "duration": 7,
    "start_time": "2023-11-29T17:34:15.582Z"
   },
   {
    "duration": 5,
    "start_time": "2023-11-29T17:34:24.711Z"
   },
   {
    "duration": 5,
    "start_time": "2023-11-29T17:34:34.914Z"
   },
   {
    "duration": 6,
    "start_time": "2023-11-29T17:34:35.482Z"
   },
   {
    "duration": 13,
    "start_time": "2023-11-29T17:34:52.444Z"
   },
   {
    "duration": 3,
    "start_time": "2023-11-29T17:34:58.340Z"
   },
   {
    "duration": 63,
    "start_time": "2023-11-29T17:34:58.922Z"
   },
   {
    "duration": 7,
    "start_time": "2023-11-29T17:34:59.105Z"
   },
   {
    "duration": 7,
    "start_time": "2023-11-29T17:34:59.305Z"
   },
   {
    "duration": 7,
    "start_time": "2023-11-29T17:34:59.688Z"
   },
   {
    "duration": 9,
    "start_time": "2023-11-29T17:34:59.889Z"
   },
   {
    "duration": 11,
    "start_time": "2023-11-29T17:35:00.107Z"
   },
   {
    "duration": 10,
    "start_time": "2023-11-29T17:35:00.289Z"
   },
   {
    "duration": 7,
    "start_time": "2023-11-29T17:35:01.606Z"
   },
   {
    "duration": 5,
    "start_time": "2023-11-29T17:35:01.805Z"
   },
   {
    "duration": 8,
    "start_time": "2023-11-29T17:35:02.022Z"
   },
   {
    "duration": 6,
    "start_time": "2023-11-29T17:35:02.223Z"
   },
   {
    "duration": 6,
    "start_time": "2023-11-29T17:35:02.408Z"
   },
   {
    "duration": 4,
    "start_time": "2023-11-29T17:35:02.624Z"
   },
   {
    "duration": 6,
    "start_time": "2023-11-29T17:35:02.823Z"
   },
   {
    "duration": 5,
    "start_time": "2023-11-29T17:35:03.024Z"
   },
   {
    "duration": 6,
    "start_time": "2023-11-29T17:35:03.206Z"
   },
   {
    "duration": 8,
    "start_time": "2023-11-29T17:35:03.409Z"
   },
   {
    "duration": 5,
    "start_time": "2023-11-29T17:35:03.624Z"
   },
   {
    "duration": 6,
    "start_time": "2023-11-29T17:35:03.824Z"
   },
   {
    "duration": 4,
    "start_time": "2023-11-29T17:35:05.507Z"
   },
   {
    "duration": 5,
    "start_time": "2023-11-29T17:35:05.724Z"
   },
   {
    "duration": 123,
    "start_time": "2023-11-29T17:35:05.940Z"
   },
   {
    "duration": 5,
    "start_time": "2023-11-29T17:35:06.175Z"
   },
   {
    "duration": 230,
    "start_time": "2023-11-29T17:35:06.607Z"
   },
   {
    "duration": 258,
    "start_time": "2023-11-29T17:35:07.358Z"
   },
   {
    "duration": 8,
    "start_time": "2023-11-29T17:35:07.758Z"
   },
   {
    "duration": 252,
    "start_time": "2023-11-29T17:35:08.126Z"
   },
   {
    "duration": 8,
    "start_time": "2023-11-29T17:35:08.461Z"
   },
   {
    "duration": 9,
    "start_time": "2023-11-29T17:35:15.378Z"
   },
   {
    "duration": 10,
    "start_time": "2023-11-29T17:35:15.881Z"
   },
   {
    "duration": 9,
    "start_time": "2023-11-29T17:35:16.344Z"
   },
   {
    "duration": 12,
    "start_time": "2023-11-29T17:35:17.061Z"
   },
   {
    "duration": 14,
    "start_time": "2023-11-29T17:35:17.462Z"
   },
   {
    "duration": 5,
    "start_time": "2023-11-29T17:35:17.862Z"
   },
   {
    "duration": 6,
    "start_time": "2023-11-29T17:35:19.146Z"
   },
   {
    "duration": 7,
    "start_time": "2023-11-29T17:35:19.762Z"
   },
   {
    "duration": 5,
    "start_time": "2023-11-29T17:35:31.182Z"
   },
   {
    "duration": 7,
    "start_time": "2023-11-29T17:35:31.882Z"
   },
   {
    "duration": 94,
    "start_time": "2023-11-29T17:36:50.824Z"
   },
   {
    "duration": 8,
    "start_time": "2023-11-29T17:36:59.245Z"
   },
   {
    "duration": 27,
    "start_time": "2023-11-29T17:37:29.603Z"
   },
   {
    "duration": 7,
    "start_time": "2023-11-29T17:37:43.578Z"
   },
   {
    "duration": 7,
    "start_time": "2023-11-29T17:37:45.959Z"
   },
   {
    "duration": 8,
    "start_time": "2023-11-29T17:37:49.741Z"
   },
   {
    "duration": 19,
    "start_time": "2023-11-29T17:37:53.661Z"
   },
   {
    "duration": 5,
    "start_time": "2023-11-29T17:37:54.393Z"
   },
   {
    "duration": 7,
    "start_time": "2023-11-29T17:37:56.360Z"
   },
   {
    "duration": 5,
    "start_time": "2023-11-29T17:38:08.037Z"
   },
   {
    "duration": 8,
    "start_time": "2023-11-29T17:38:09.667Z"
   },
   {
    "duration": 8,
    "start_time": "2023-11-29T17:38:17.626Z"
   },
   {
    "duration": 994,
    "start_time": "2023-11-29T17:38:25.421Z"
   },
   {
    "duration": 7,
    "start_time": "2023-11-29T17:38:26.603Z"
   },
   {
    "duration": 89,
    "start_time": "2023-11-29T17:39:18.104Z"
   },
   {
    "duration": 5,
    "start_time": "2023-11-29T17:39:47.313Z"
   },
   {
    "duration": 2,
    "start_time": "2023-11-29T17:40:02.618Z"
   },
   {
    "duration": 18,
    "start_time": "2023-11-29T17:40:03.464Z"
   },
   {
    "duration": 25,
    "start_time": "2023-11-29T17:41:03.655Z"
   },
   {
    "duration": 25,
    "start_time": "2023-11-29T17:41:29.602Z"
   },
   {
    "duration": 7,
    "start_time": "2023-11-29T17:45:40.855Z"
   },
   {
    "duration": 8,
    "start_time": "2023-11-29T17:45:54.611Z"
   },
   {
    "duration": 11,
    "start_time": "2023-11-29T17:46:13.699Z"
   },
   {
    "duration": 8,
    "start_time": "2023-11-29T17:46:31.172Z"
   },
   {
    "duration": 7,
    "start_time": "2023-11-29T17:47:08.983Z"
   },
   {
    "duration": 7,
    "start_time": "2023-11-29T17:47:09.834Z"
   },
   {
    "duration": 7,
    "start_time": "2023-11-29T17:47:19.604Z"
   },
   {
    "duration": 6,
    "start_time": "2023-11-29T17:47:27.189Z"
   },
   {
    "duration": 6,
    "start_time": "2023-11-29T17:48:02.118Z"
   },
   {
    "duration": 4,
    "start_time": "2023-11-29T17:48:03.467Z"
   },
   {
    "duration": 6,
    "start_time": "2023-11-29T17:48:04.085Z"
   },
   {
    "duration": 7,
    "start_time": "2023-11-29T17:48:05.018Z"
   },
   {
    "duration": 8,
    "start_time": "2023-11-29T17:48:14.699Z"
   },
   {
    "duration": 8,
    "start_time": "2023-11-29T17:48:40.845Z"
   },
   {
    "duration": 5,
    "start_time": "2023-11-29T17:49:07.152Z"
   },
   {
    "duration": 5,
    "start_time": "2023-11-29T17:49:08.272Z"
   },
   {
    "duration": 8,
    "start_time": "2023-11-29T17:49:08.823Z"
   },
   {
    "duration": 15,
    "start_time": "2023-11-29T17:49:10.456Z"
   },
   {
    "duration": 4,
    "start_time": "2023-11-29T17:49:37.032Z"
   },
   {
    "duration": 10,
    "start_time": "2023-11-29T17:49:37.564Z"
   },
   {
    "duration": 14,
    "start_time": "2023-11-29T17:49:38.130Z"
   },
   {
    "duration": 4,
    "start_time": "2023-11-29T17:49:43.982Z"
   },
   {
    "duration": 10,
    "start_time": "2023-11-29T17:49:44.450Z"
   },
   {
    "duration": 11,
    "start_time": "2023-11-29T17:49:55.502Z"
   },
   {
    "duration": 10,
    "start_time": "2023-11-29T17:50:03.738Z"
   },
   {
    "duration": 5,
    "start_time": "2023-11-29T17:52:45.039Z"
   },
   {
    "duration": 6,
    "start_time": "2023-11-29T17:52:45.587Z"
   },
   {
    "duration": 10,
    "start_time": "2023-11-29T17:52:46.105Z"
   },
   {
    "duration": 10,
    "start_time": "2023-11-29T17:52:47.476Z"
   },
   {
    "duration": 235,
    "start_time": "2023-11-29T17:54:13.715Z"
   },
   {
    "duration": 254,
    "start_time": "2023-11-29T17:54:58.731Z"
   },
   {
    "duration": 239,
    "start_time": "2023-11-29T17:55:34.174Z"
   },
   {
    "duration": 376,
    "start_time": "2023-11-29T17:55:38.860Z"
   },
   {
    "duration": 3,
    "start_time": "2023-11-29T18:01:41.705Z"
   },
   {
    "duration": 6,
    "start_time": "2023-11-29T18:02:03.485Z"
   },
   {
    "duration": 4,
    "start_time": "2023-11-29T18:02:19.800Z"
   },
   {
    "duration": 4,
    "start_time": "2023-11-29T18:02:38.729Z"
   },
   {
    "duration": 11,
    "start_time": "2023-11-29T18:03:05.335Z"
   },
   {
    "duration": 4,
    "start_time": "2023-11-29T18:03:06.464Z"
   },
   {
    "duration": 4,
    "start_time": "2023-11-29T18:04:56.082Z"
   },
   {
    "duration": 3,
    "start_time": "2023-11-29T18:06:44.679Z"
   },
   {
    "duration": 9,
    "start_time": "2023-11-29T18:06:45.521Z"
   },
   {
    "duration": 11,
    "start_time": "2023-11-29T18:06:46.116Z"
   },
   {
    "duration": 3,
    "start_time": "2023-11-29T18:06:46.916Z"
   },
   {
    "duration": 8,
    "start_time": "2023-11-29T18:06:47.666Z"
   },
   {
    "duration": 10,
    "start_time": "2023-11-29T18:06:48.965Z"
   },
   {
    "duration": 3,
    "start_time": "2023-11-29T18:06:50.601Z"
   },
   {
    "duration": 7,
    "start_time": "2023-11-29T18:06:57.737Z"
   },
   {
    "duration": 4,
    "start_time": "2023-11-29T18:07:10.741Z"
   },
   {
    "duration": 6,
    "start_time": "2023-11-29T18:07:41.783Z"
   },
   {
    "duration": 6,
    "start_time": "2023-11-29T18:07:43.155Z"
   },
   {
    "duration": 11,
    "start_time": "2023-11-29T18:07:44.003Z"
   },
   {
    "duration": 11,
    "start_time": "2023-11-29T18:07:44.621Z"
   },
   {
    "duration": 219,
    "start_time": "2023-11-29T18:07:46.987Z"
   },
   {
    "duration": 219,
    "start_time": "2023-11-29T18:08:27.032Z"
   },
   {
    "duration": 255,
    "start_time": "2023-11-29T18:08:49.540Z"
   },
   {
    "duration": 217,
    "start_time": "2023-11-29T18:10:00.316Z"
   },
   {
    "duration": 223,
    "start_time": "2023-11-29T18:10:51.362Z"
   },
   {
    "duration": 217,
    "start_time": "2023-11-29T18:11:09.934Z"
   },
   {
    "duration": 1257,
    "start_time": "2023-11-30T09:44:18.627Z"
   },
   {
    "duration": 198,
    "start_time": "2023-11-30T09:44:19.886Z"
   },
   {
    "duration": 11,
    "start_time": "2023-11-30T09:44:20.211Z"
   },
   {
    "duration": 9,
    "start_time": "2023-11-30T09:44:20.795Z"
   },
   {
    "duration": 7,
    "start_time": "2023-11-30T09:44:21.096Z"
   },
   {
    "duration": 11,
    "start_time": "2023-11-30T09:44:21.345Z"
   },
   {
    "duration": 11,
    "start_time": "2023-11-30T09:44:21.560Z"
   },
   {
    "duration": 10,
    "start_time": "2023-11-30T09:44:21.760Z"
   },
   {
    "duration": 6,
    "start_time": "2023-11-30T09:44:23.012Z"
   },
   {
    "duration": 4,
    "start_time": "2023-11-30T09:44:23.226Z"
   },
   {
    "duration": 8,
    "start_time": "2023-11-30T09:44:23.443Z"
   },
   {
    "duration": 5,
    "start_time": "2023-11-30T09:44:23.693Z"
   },
   {
    "duration": 6,
    "start_time": "2023-11-30T09:44:23.965Z"
   },
   {
    "duration": 5,
    "start_time": "2023-11-30T09:44:24.213Z"
   },
   {
    "duration": 5,
    "start_time": "2023-11-30T09:44:24.477Z"
   },
   {
    "duration": 4,
    "start_time": "2023-11-30T09:44:24.760Z"
   },
   {
    "duration": 6,
    "start_time": "2023-11-30T09:44:25.224Z"
   },
   {
    "duration": 8,
    "start_time": "2023-11-30T09:44:25.460Z"
   },
   {
    "duration": 6,
    "start_time": "2023-11-30T09:44:25.693Z"
   },
   {
    "duration": 5,
    "start_time": "2023-11-30T09:44:25.978Z"
   },
   {
    "duration": 5,
    "start_time": "2023-11-30T09:44:27.802Z"
   },
   {
    "duration": 5,
    "start_time": "2023-11-30T09:44:28.082Z"
   },
   {
    "duration": 140,
    "start_time": "2023-11-30T09:44:28.345Z"
   },
   {
    "duration": 6,
    "start_time": "2023-11-30T09:44:28.600Z"
   },
   {
    "duration": 244,
    "start_time": "2023-11-30T09:44:29.096Z"
   },
   {
    "duration": 256,
    "start_time": "2023-11-30T09:44:29.829Z"
   },
   {
    "duration": 8,
    "start_time": "2023-11-30T09:44:30.087Z"
   },
   {
    "duration": 274,
    "start_time": "2023-11-30T09:44:30.278Z"
   },
   {
    "duration": 8,
    "start_time": "2023-11-30T09:44:30.554Z"
   },
   {
    "duration": 4,
    "start_time": "2023-11-30T09:46:23.363Z"
   },
   {
    "duration": 9,
    "start_time": "2023-11-30T09:46:23.899Z"
   },
   {
    "duration": 11,
    "start_time": "2023-11-30T09:46:24.415Z"
   },
   {
    "duration": 4,
    "start_time": "2023-11-30T09:46:24.897Z"
   },
   {
    "duration": 10,
    "start_time": "2023-11-30T09:46:25.264Z"
   },
   {
    "duration": 12,
    "start_time": "2023-11-30T09:46:25.513Z"
   },
   {
    "duration": 4,
    "start_time": "2023-11-30T09:46:25.764Z"
   },
   {
    "duration": 6,
    "start_time": "2023-11-30T09:46:26.047Z"
   },
   {
    "duration": 8,
    "start_time": "2023-11-30T09:46:28.848Z"
   },
   {
    "duration": 5,
    "start_time": "2023-11-30T09:46:29.200Z"
   },
   {
    "duration": 12,
    "start_time": "2023-11-30T09:46:29.465Z"
   },
   {
    "duration": 13,
    "start_time": "2023-11-30T09:46:29.750Z"
   },
   {
    "duration": 235,
    "start_time": "2023-11-30T09:46:30.498Z"
   },
   {
    "duration": 338,
    "start_time": "2023-11-30T09:46:31.467Z"
   },
   {
    "duration": 218,
    "start_time": "2023-11-30T09:46:33.784Z"
   },
   {
    "duration": 245,
    "start_time": "2023-11-30T09:46:35.001Z"
   },
   {
    "duration": 263,
    "start_time": "2023-11-30T09:46:36.067Z"
   },
   {
    "duration": 235,
    "start_time": "2023-11-30T09:46:37.758Z"
   },
   {
    "duration": 18,
    "start_time": "2023-11-30T09:52:59.670Z"
   },
   {
    "duration": 4,
    "start_time": "2023-11-30T09:53:04.588Z"
   },
   {
    "duration": 4,
    "start_time": "2023-11-30T09:53:14.060Z"
   },
   {
    "duration": 4,
    "start_time": "2023-11-30T09:53:35.949Z"
   },
   {
    "duration": 18,
    "start_time": "2023-11-30T09:54:25.598Z"
   },
   {
    "duration": 4,
    "start_time": "2023-11-30T09:58:37.064Z"
   },
   {
    "duration": 4,
    "start_time": "2023-11-30T09:58:37.761Z"
   },
   {
    "duration": 4,
    "start_time": "2023-11-30T10:31:52.583Z"
   },
   {
    "duration": 4,
    "start_time": "2023-11-30T10:31:56.497Z"
   },
   {
    "duration": 5,
    "start_time": "2023-11-30T10:31:57.199Z"
   },
   {
    "duration": 19,
    "start_time": "2023-11-30T10:32:08.255Z"
   },
   {
    "duration": 4,
    "start_time": "2023-11-30T10:32:45.462Z"
   },
   {
    "duration": 13,
    "start_time": "2023-11-30T11:09:55.773Z"
   },
   {
    "duration": 13,
    "start_time": "2023-11-30T11:10:52.840Z"
   },
   {
    "duration": 5,
    "start_time": "2023-11-30T11:10:53.358Z"
   },
   {
    "duration": 10,
    "start_time": "2023-11-30T11:10:53.958Z"
   },
   {
    "duration": 97,
    "start_time": "2023-11-30T11:10:58.345Z"
   },
   {
    "duration": 5,
    "start_time": "2023-11-30T11:10:58.877Z"
   },
   {
    "duration": 9,
    "start_time": "2023-11-30T11:10:59.462Z"
   },
   {
    "duration": 6,
    "start_time": "2023-11-30T11:11:01.193Z"
   },
   {
    "duration": 6,
    "start_time": "2023-11-30T11:11:01.510Z"
   },
   {
    "duration": 4,
    "start_time": "2023-11-30T11:11:01.744Z"
   },
   {
    "duration": 6,
    "start_time": "2023-11-30T11:11:01.944Z"
   },
   {
    "duration": 5,
    "start_time": "2023-11-30T11:11:02.159Z"
   },
   {
    "duration": 7,
    "start_time": "2023-11-30T11:11:02.359Z"
   },
   {
    "duration": 9,
    "start_time": "2023-11-30T11:11:02.509Z"
   },
   {
    "duration": 6,
    "start_time": "2023-11-30T11:11:02.712Z"
   },
   {
    "duration": 6,
    "start_time": "2023-11-30T11:11:02.894Z"
   },
   {
    "duration": 4,
    "start_time": "2023-11-30T11:11:04.446Z"
   },
   {
    "duration": 6,
    "start_time": "2023-11-30T11:11:04.610Z"
   },
   {
    "duration": 128,
    "start_time": "2023-11-30T11:11:04.811Z"
   },
   {
    "duration": 5,
    "start_time": "2023-11-30T11:11:05.030Z"
   },
   {
    "duration": 249,
    "start_time": "2023-11-30T11:11:05.410Z"
   },
   {
    "duration": 253,
    "start_time": "2023-11-30T11:11:06.362Z"
   },
   {
    "duration": 8,
    "start_time": "2023-11-30T11:11:06.626Z"
   },
   {
    "duration": 261,
    "start_time": "2023-11-30T11:11:07.061Z"
   },
   {
    "duration": 9,
    "start_time": "2023-11-30T11:11:07.344Z"
   },
   {
    "duration": 4,
    "start_time": "2023-11-30T11:11:12.562Z"
   },
   {
    "duration": 10,
    "start_time": "2023-11-30T11:11:12.813Z"
   },
   {
    "duration": 11,
    "start_time": "2023-11-30T11:11:13.046Z"
   },
   {
    "duration": 3,
    "start_time": "2023-11-30T11:11:13.248Z"
   },
   {
    "duration": 9,
    "start_time": "2023-11-30T11:11:13.463Z"
   },
   {
    "duration": 12,
    "start_time": "2023-11-30T11:11:17.614Z"
   },
   {
    "duration": 4,
    "start_time": "2023-11-30T11:11:19.332Z"
   },
   {
    "duration": 4,
    "start_time": "2023-11-30T11:11:25.837Z"
   },
   {
    "duration": 9,
    "start_time": "2023-11-30T11:11:27.572Z"
   },
   {
    "duration": 12,
    "start_time": "2023-11-30T11:11:28.388Z"
   },
   {
    "duration": 4,
    "start_time": "2023-11-30T11:12:22.273Z"
   },
   {
    "duration": 9,
    "start_time": "2023-11-30T11:12:22.935Z"
   },
   {
    "duration": 11,
    "start_time": "2023-11-30T11:12:27.772Z"
   },
   {
    "duration": 5,
    "start_time": "2023-11-30T11:12:28.604Z"
   },
   {
    "duration": 9,
    "start_time": "2023-11-30T11:12:29.320Z"
   },
   {
    "duration": 3,
    "start_time": "2023-11-30T11:12:37.981Z"
   },
   {
    "duration": 66,
    "start_time": "2023-11-30T11:12:39.390Z"
   },
   {
    "duration": 9,
    "start_time": "2023-11-30T11:12:39.958Z"
   },
   {
    "duration": 10,
    "start_time": "2023-11-30T11:12:40.754Z"
   },
   {
    "duration": 9,
    "start_time": "2023-11-30T11:12:41.173Z"
   },
   {
    "duration": 13,
    "start_time": "2023-11-30T11:12:41.957Z"
   },
   {
    "duration": 14,
    "start_time": "2023-11-30T11:12:43.493Z"
   },
   {
    "duration": 9,
    "start_time": "2023-11-30T11:12:44.276Z"
   },
   {
    "duration": 7,
    "start_time": "2023-11-30T11:12:50.193Z"
   },
   {
    "duration": 5,
    "start_time": "2023-11-30T11:12:51.076Z"
   },
   {
    "duration": 8,
    "start_time": "2023-11-30T11:12:52.210Z"
   },
   {
    "duration": 6,
    "start_time": "2023-11-30T11:12:53.745Z"
   },
   {
    "duration": 5,
    "start_time": "2023-11-30T11:12:55.780Z"
   },
   {
    "duration": 4,
    "start_time": "2023-11-30T11:12:56.478Z"
   },
   {
    "duration": 5,
    "start_time": "2023-11-30T11:12:57.662Z"
   },
   {
    "duration": 5,
    "start_time": "2023-11-30T11:12:58.279Z"
   },
   {
    "duration": 6,
    "start_time": "2023-11-30T11:12:58.596Z"
   },
   {
    "duration": 11,
    "start_time": "2023-11-30T11:12:58.913Z"
   },
   {
    "duration": 6,
    "start_time": "2023-11-30T11:12:59.181Z"
   },
   {
    "duration": 5,
    "start_time": "2023-11-30T11:13:00.013Z"
   },
   {
    "duration": 4,
    "start_time": "2023-11-30T11:13:01.816Z"
   },
   {
    "duration": 5,
    "start_time": "2023-11-30T11:13:02.015Z"
   },
   {
    "duration": 131,
    "start_time": "2023-11-30T11:13:02.213Z"
   },
   {
    "duration": 6,
    "start_time": "2023-11-30T11:13:02.417Z"
   },
   {
    "duration": 238,
    "start_time": "2023-11-30T11:13:02.831Z"
   },
   {
    "duration": 335,
    "start_time": "2023-11-30T11:13:03.431Z"
   },
   {
    "duration": 8,
    "start_time": "2023-11-30T11:13:03.768Z"
   },
   {
    "duration": 260,
    "start_time": "2023-11-30T11:13:03.852Z"
   },
   {
    "duration": 8,
    "start_time": "2023-11-30T11:13:04.114Z"
   },
   {
    "duration": 3,
    "start_time": "2023-11-30T11:13:11.066Z"
   },
   {
    "duration": 9,
    "start_time": "2023-11-30T11:13:11.500Z"
   },
   {
    "duration": 10,
    "start_time": "2023-11-30T11:13:12.034Z"
   },
   {
    "duration": 4,
    "start_time": "2023-11-30T11:13:13.183Z"
   },
   {
    "duration": 10,
    "start_time": "2023-11-30T11:13:14.368Z"
   },
   {
    "duration": 13,
    "start_time": "2023-11-30T11:13:14.951Z"
   },
   {
    "duration": 5,
    "start_time": "2023-11-30T11:13:16.201Z"
   },
   {
    "duration": 5,
    "start_time": "2023-11-30T11:13:17.202Z"
   },
   {
    "duration": 6,
    "start_time": "2023-11-30T11:13:18.121Z"
   },
   {
    "duration": 6,
    "start_time": "2023-11-30T11:13:18.352Z"
   },
   {
    "duration": 12,
    "start_time": "2023-11-30T11:13:18.870Z"
   },
   {
    "duration": 11,
    "start_time": "2023-11-30T11:13:19.436Z"
   },
   {
    "duration": 233,
    "start_time": "2023-11-30T11:13:20.535Z"
   },
   {
    "duration": 287,
    "start_time": "2023-11-30T11:13:21.285Z"
   },
   {
    "duration": 229,
    "start_time": "2023-11-30T11:13:21.754Z"
   },
   {
    "duration": 245,
    "start_time": "2023-11-30T11:13:22.369Z"
   },
   {
    "duration": 343,
    "start_time": "2023-11-30T11:13:22.837Z"
   },
   {
    "duration": 229,
    "start_time": "2023-11-30T11:13:23.337Z"
   },
   {
    "duration": 3,
    "start_time": "2023-11-30T11:13:25.955Z"
   },
   {
    "duration": 12,
    "start_time": "2023-11-30T11:13:26.555Z"
   },
   {
    "duration": 97,
    "start_time": "2023-11-30T11:13:27.254Z"
   },
   {
    "duration": 240,
    "start_time": "2023-11-30T11:16:08.923Z"
   },
   {
    "duration": 3,
    "start_time": "2023-11-30T11:16:11.106Z"
   },
   {
    "duration": 12,
    "start_time": "2023-11-30T11:16:11.322Z"
   },
   {
    "duration": 15,
    "start_time": "2023-11-30T11:16:11.939Z"
   },
   {
    "duration": 2,
    "start_time": "2023-11-30T11:16:28.431Z"
   },
   {
    "duration": 12,
    "start_time": "2023-11-30T11:18:32.466Z"
   },
   {
    "duration": 12,
    "start_time": "2023-11-30T11:18:33.202Z"
   },
   {
    "duration": 12,
    "start_time": "2023-11-30T11:18:33.952Z"
   },
   {
    "duration": 14,
    "start_time": "2023-11-30T11:20:02.478Z"
   },
   {
    "duration": 13,
    "start_time": "2023-11-30T11:20:03.165Z"
   },
   {
    "duration": 28,
    "start_time": "2023-11-30T11:21:03.298Z"
   },
   {
    "duration": 18,
    "start_time": "2023-11-30T11:21:04.314Z"
   },
   {
    "duration": 11,
    "start_time": "2023-11-30T11:22:03.003Z"
   },
   {
    "duration": 12,
    "start_time": "2023-11-30T11:22:04.117Z"
   },
   {
    "duration": 28,
    "start_time": "2023-11-30T11:22:14.654Z"
   },
   {
    "duration": 19,
    "start_time": "2023-11-30T11:22:15.453Z"
   },
   {
    "duration": 13,
    "start_time": "2023-11-30T11:28:01.444Z"
   },
   {
    "duration": 28,
    "start_time": "2023-11-30T11:30:06.783Z"
   },
   {
    "duration": 14,
    "start_time": "2023-11-30T11:30:07.367Z"
   },
   {
    "duration": 11,
    "start_time": "2023-11-30T11:49:05.109Z"
   },
   {
    "duration": 11,
    "start_time": "2023-11-30T11:49:12.240Z"
   },
   {
    "duration": 16,
    "start_time": "2023-11-30T11:52:26.990Z"
   },
   {
    "duration": 14,
    "start_time": "2023-11-30T11:52:58.761Z"
   },
   {
    "duration": 8,
    "start_time": "2023-11-30T11:53:02.513Z"
   },
   {
    "duration": 13,
    "start_time": "2023-11-30T11:53:42.309Z"
   },
   {
    "duration": 13,
    "start_time": "2023-11-30T11:55:59.100Z"
   },
   {
    "duration": 14,
    "start_time": "2023-11-30T11:56:16.524Z"
   },
   {
    "duration": 8,
    "start_time": "2023-11-30T11:56:17.806Z"
   },
   {
    "duration": 13,
    "start_time": "2023-11-30T11:56:32.378Z"
   },
   {
    "duration": 9,
    "start_time": "2023-11-30T11:57:01.586Z"
   },
   {
    "duration": 13,
    "start_time": "2023-11-30T11:57:43.116Z"
   },
   {
    "duration": 117,
    "start_time": "2023-11-30T12:12:06.935Z"
   },
   {
    "duration": 14,
    "start_time": "2023-11-30T12:12:20.592Z"
   },
   {
    "duration": 14,
    "start_time": "2023-11-30T12:12:36.910Z"
   },
   {
    "duration": 14,
    "start_time": "2023-11-30T12:14:28.014Z"
   },
   {
    "duration": 96,
    "start_time": "2023-11-30T12:15:17.594Z"
   },
   {
    "duration": 12,
    "start_time": "2023-11-30T12:15:19.380Z"
   },
   {
    "duration": 91,
    "start_time": "2023-11-30T12:15:29.498Z"
   },
   {
    "duration": 51,
    "start_time": "2023-11-30T12:15:49.388Z"
   },
   {
    "duration": 9,
    "start_time": "2023-11-30T12:15:50.271Z"
   },
   {
    "duration": 4,
    "start_time": "2023-11-30T12:22:15.508Z"
   },
   {
    "duration": 3,
    "start_time": "2023-11-30T12:23:19.576Z"
   },
   {
    "duration": 6,
    "start_time": "2023-11-30T12:23:20.277Z"
   },
   {
    "duration": 6,
    "start_time": "2023-11-30T12:23:20.827Z"
   },
   {
    "duration": 11,
    "start_time": "2023-11-30T12:23:21.347Z"
   },
   {
    "duration": 12,
    "start_time": "2023-11-30T12:23:35.632Z"
   },
   {
    "duration": 241,
    "start_time": "2023-11-30T12:23:36.984Z"
   },
   {
    "duration": 59,
    "start_time": "2023-11-30T12:23:53.353Z"
   },
   {
    "duration": 9,
    "start_time": "2023-11-30T12:23:54.522Z"
   },
   {
    "duration": 3,
    "start_time": "2023-11-30T12:25:12.863Z"
   },
   {
    "duration": 12,
    "start_time": "2023-11-30T12:25:13.379Z"
   },
   {
    "duration": 29,
    "start_time": "2023-11-30T12:25:14.265Z"
   },
   {
    "duration": 9,
    "start_time": "2023-11-30T12:25:19.115Z"
   },
   {
    "duration": 4,
    "start_time": "2023-11-30T12:25:26.568Z"
   },
   {
    "duration": 10,
    "start_time": "2023-11-30T12:25:27.000Z"
   },
   {
    "duration": 10,
    "start_time": "2023-11-30T12:25:28.233Z"
   },
   {
    "duration": 3,
    "start_time": "2023-11-30T12:25:28.500Z"
   },
   {
    "duration": 9,
    "start_time": "2023-11-30T12:25:28.901Z"
   },
   {
    "duration": 12,
    "start_time": "2023-11-30T12:25:29.317Z"
   },
   {
    "duration": 5,
    "start_time": "2023-11-30T12:25:29.584Z"
   },
   {
    "duration": 5,
    "start_time": "2023-11-30T12:25:30.251Z"
   },
   {
    "duration": 7,
    "start_time": "2023-11-30T12:25:43.256Z"
   },
   {
    "duration": 6,
    "start_time": "2023-11-30T12:25:43.892Z"
   },
   {
    "duration": 11,
    "start_time": "2023-11-30T12:25:45.300Z"
   },
   {
    "duration": 12,
    "start_time": "2023-11-30T12:25:47.209Z"
   },
   {
    "duration": 252,
    "start_time": "2023-11-30T12:25:49.142Z"
   },
   {
    "duration": 258,
    "start_time": "2023-11-30T12:25:50.041Z"
   },
   {
    "duration": 310,
    "start_time": "2023-11-30T12:25:50.574Z"
   },
   {
    "duration": 244,
    "start_time": "2023-11-30T12:25:50.991Z"
   },
   {
    "duration": 259,
    "start_time": "2023-11-30T12:25:51.458Z"
   },
   {
    "duration": 235,
    "start_time": "2023-11-30T12:25:51.962Z"
   },
   {
    "duration": 3,
    "start_time": "2023-11-30T12:25:54.092Z"
   },
   {
    "duration": 11,
    "start_time": "2023-11-30T12:25:54.643Z"
   },
   {
    "duration": 29,
    "start_time": "2023-11-30T12:25:56.292Z"
   },
   {
    "duration": 9,
    "start_time": "2023-11-30T12:26:47.675Z"
   },
   {
    "duration": 23,
    "start_time": "2023-11-30T12:26:48.359Z"
   },
   {
    "duration": 18,
    "start_time": "2023-11-30T12:30:13.591Z"
   },
   {
    "duration": 1234,
    "start_time": "2023-12-01T09:00:51.796Z"
   },
   {
    "duration": 192,
    "start_time": "2023-12-01T09:00:53.145Z"
   },
   {
    "duration": 16,
    "start_time": "2023-12-01T09:00:53.746Z"
   },
   {
    "duration": 9,
    "start_time": "2023-12-01T09:00:54.846Z"
   },
   {
    "duration": 7,
    "start_time": "2023-12-01T09:00:55.198Z"
   },
   {
    "duration": 12,
    "start_time": "2023-12-01T09:00:55.447Z"
   },
   {
    "duration": 12,
    "start_time": "2023-12-01T09:00:55.680Z"
   },
   {
    "duration": 11,
    "start_time": "2023-12-01T09:00:55.886Z"
   },
   {
    "duration": 7,
    "start_time": "2023-12-01T09:00:57.813Z"
   },
   {
    "duration": 6,
    "start_time": "2023-12-01T09:00:58.015Z"
   },
   {
    "duration": 9,
    "start_time": "2023-12-01T09:00:58.247Z"
   },
   {
    "duration": 6,
    "start_time": "2023-12-01T09:00:58.498Z"
   },
   {
    "duration": 5,
    "start_time": "2023-12-01T09:00:58.715Z"
   },
   {
    "duration": 4,
    "start_time": "2023-12-01T09:00:58.965Z"
   },
   {
    "duration": 4,
    "start_time": "2023-12-01T09:00:59.165Z"
   },
   {
    "duration": 5,
    "start_time": "2023-12-01T09:00:59.398Z"
   },
   {
    "duration": 6,
    "start_time": "2023-12-01T09:00:59.615Z"
   },
   {
    "duration": 12,
    "start_time": "2023-12-01T09:00:59.830Z"
   },
   {
    "duration": 6,
    "start_time": "2023-12-01T09:01:00.050Z"
   },
   {
    "duration": 4,
    "start_time": "2023-12-01T09:01:00.281Z"
   },
   {
    "duration": 4,
    "start_time": "2023-12-01T09:01:02.582Z"
   },
   {
    "duration": 5,
    "start_time": "2023-12-01T09:01:03.083Z"
   },
   {
    "duration": 144,
    "start_time": "2023-12-01T09:01:03.500Z"
   },
   {
    "duration": 6,
    "start_time": "2023-12-01T09:01:03.831Z"
   },
   {
    "duration": 255,
    "start_time": "2023-12-01T09:01:04.331Z"
   },
   {
    "duration": 282,
    "start_time": "2023-12-01T09:01:05.332Z"
   },
   {
    "duration": 10,
    "start_time": "2023-12-01T09:01:05.732Z"
   },
   {
    "duration": 279,
    "start_time": "2023-12-01T09:01:06.166Z"
   },
   {
    "duration": 8,
    "start_time": "2023-12-01T09:01:06.766Z"
   },
   {
    "duration": 3,
    "start_time": "2023-12-01T09:01:11.585Z"
   },
   {
    "duration": 10,
    "start_time": "2023-12-01T09:01:12.100Z"
   },
   {
    "duration": 11,
    "start_time": "2023-12-01T09:01:13.022Z"
   },
   {
    "duration": 4,
    "start_time": "2023-12-01T09:01:13.852Z"
   },
   {
    "duration": 14,
    "start_time": "2023-12-01T09:01:14.369Z"
   },
   {
    "duration": 12,
    "start_time": "2023-12-01T09:01:15.055Z"
   },
   {
    "duration": 4,
    "start_time": "2023-12-01T09:01:15.504Z"
   },
   {
    "duration": 5,
    "start_time": "2023-12-01T09:01:16.336Z"
   },
   {
    "duration": 11,
    "start_time": "2023-12-01T09:01:17.603Z"
   },
   {
    "duration": 7,
    "start_time": "2023-12-01T09:01:17.885Z"
   },
   {
    "duration": 14,
    "start_time": "2023-12-01T09:01:18.188Z"
   },
   {
    "duration": 12,
    "start_time": "2023-12-01T09:01:18.570Z"
   },
   {
    "duration": 257,
    "start_time": "2023-12-01T09:01:19.353Z"
   },
   {
    "duration": 404,
    "start_time": "2023-12-01T09:01:20.837Z"
   },
   {
    "duration": 247,
    "start_time": "2023-12-01T09:01:21.753Z"
   },
   {
    "duration": 283,
    "start_time": "2023-12-01T09:01:22.620Z"
   },
   {
    "duration": 266,
    "start_time": "2023-12-01T09:01:23.554Z"
   },
   {
    "duration": 260,
    "start_time": "2023-12-01T09:01:24.405Z"
   },
   {
    "duration": 4,
    "start_time": "2023-12-01T09:01:33.073Z"
   },
   {
    "duration": 12,
    "start_time": "2023-12-01T09:01:33.741Z"
   },
   {
    "duration": 32,
    "start_time": "2023-12-01T09:01:59.719Z"
   },
   {
    "duration": 4,
    "start_time": "2023-12-01T09:02:03.817Z"
   },
   {
    "duration": 56,
    "start_time": "2023-12-01T09:05:45.470Z"
   },
   {
    "duration": 10,
    "start_time": "2023-12-01T09:05:46.370Z"
   },
   {
    "duration": 12,
    "start_time": "2023-12-01T09:05:53.791Z"
   },
   {
    "duration": 31,
    "start_time": "2023-12-01T09:05:54.406Z"
   },
   {
    "duration": 4,
    "start_time": "2023-12-01T09:05:54.990Z"
   },
   {
    "duration": 13,
    "start_time": "2023-12-01T09:05:57.989Z"
   },
   {
    "duration": 7,
    "start_time": "2023-12-01T09:05:58.860Z"
   },
   {
    "duration": 18,
    "start_time": "2023-12-01T09:05:59.690Z"
   },
   {
    "duration": 93,
    "start_time": "2023-12-01T09:10:16.523Z"
   },
   {
    "duration": 29,
    "start_time": "2023-12-01T09:10:37.229Z"
   },
   {
    "duration": 13,
    "start_time": "2023-12-01T09:10:38.494Z"
   },
   {
    "duration": 10,
    "start_time": "2023-12-01T09:11:03.786Z"
   },
   {
    "duration": 35,
    "start_time": "2023-12-01T09:12:15.957Z"
   },
   {
    "duration": 20,
    "start_time": "2023-12-01T09:12:16.323Z"
   },
   {
    "duration": 18,
    "start_time": "2023-12-01T09:12:36.863Z"
   },
   {
    "duration": 20,
    "start_time": "2023-12-01T09:17:22.685Z"
   },
   {
    "duration": 21,
    "start_time": "2023-12-01T09:17:40.659Z"
   },
   {
    "duration": 18,
    "start_time": "2023-12-01T09:18:03.316Z"
   },
   {
    "duration": 19,
    "start_time": "2023-12-01T09:18:18.381Z"
   },
   {
    "duration": 10,
    "start_time": "2023-12-01T09:18:36.413Z"
   },
   {
    "duration": 11,
    "start_time": "2023-12-01T09:18:45.646Z"
   },
   {
    "duration": 42,
    "start_time": "2023-12-01T09:26:23.455Z"
   },
   {
    "duration": 18,
    "start_time": "2023-12-01T09:26:24.872Z"
   },
   {
    "duration": 12,
    "start_time": "2023-12-01T09:28:25.560Z"
   },
   {
    "duration": 3,
    "start_time": "2023-12-01T09:30:01.806Z"
   },
   {
    "duration": 19,
    "start_time": "2023-12-01T09:30:02.422Z"
   },
   {
    "duration": 4,
    "start_time": "2023-12-01T09:30:21.178Z"
   },
   {
    "duration": 19,
    "start_time": "2023-12-01T09:30:22.194Z"
   },
   {
    "duration": 3,
    "start_time": "2023-12-01T09:30:33.151Z"
   },
   {
    "duration": 19,
    "start_time": "2023-12-01T09:30:37.435Z"
   },
   {
    "duration": 9,
    "start_time": "2023-12-01T09:32:58.394Z"
   },
   {
    "duration": 1003,
    "start_time": "2023-12-01T09:33:16.233Z"
   },
   {
    "duration": 0,
    "start_time": "2023-12-01T09:33:17.238Z"
   },
   {
    "duration": 991,
    "start_time": "2023-12-01T09:33:40.925Z"
   },
   {
    "duration": 0,
    "start_time": "2023-12-01T09:33:41.918Z"
   },
   {
    "duration": 13,
    "start_time": "2023-12-01T09:33:59.535Z"
   },
   {
    "duration": 18,
    "start_time": "2023-12-01T09:34:00.129Z"
   },
   {
    "duration": 20,
    "start_time": "2023-12-01T09:35:01.882Z"
   },
   {
    "duration": 19,
    "start_time": "2023-12-01T09:35:02.916Z"
   },
   {
    "duration": 4,
    "start_time": "2023-12-01T09:37:19.697Z"
   },
   {
    "duration": 26,
    "start_time": "2023-12-01T09:37:20.411Z"
   },
   {
    "duration": 4,
    "start_time": "2023-12-01T09:37:57.554Z"
   },
   {
    "duration": 15,
    "start_time": "2023-12-01T09:37:58.774Z"
   },
   {
    "duration": 16,
    "start_time": "2023-12-01T09:39:33.321Z"
   },
   {
    "duration": 58,
    "start_time": "2023-12-01T09:39:37.702Z"
   },
   {
    "duration": 14,
    "start_time": "2023-12-01T09:39:40.389Z"
   },
   {
    "duration": 3,
    "start_time": "2023-12-01T09:39:45.055Z"
   },
   {
    "duration": 20,
    "start_time": "2023-12-01T09:39:45.722Z"
   },
   {
    "duration": 3,
    "start_time": "2023-12-01T09:40:54.043Z"
   },
   {
    "duration": 20,
    "start_time": "2023-12-01T09:40:54.676Z"
   },
   {
    "duration": 4,
    "start_time": "2023-12-01T09:48:24.683Z"
   },
   {
    "duration": 4,
    "start_time": "2023-12-01T09:48:25.954Z"
   },
   {
    "duration": 18,
    "start_time": "2023-12-01T09:48:28.867Z"
   },
   {
    "duration": 14,
    "start_time": "2023-12-01T09:48:38.855Z"
   },
   {
    "duration": 12,
    "start_time": "2023-12-01T09:48:41.988Z"
   },
   {
    "duration": 4,
    "start_time": "2023-12-01T09:48:48.022Z"
   },
   {
    "duration": 12,
    "start_time": "2023-12-01T09:48:48.658Z"
   },
   {
    "duration": 38,
    "start_time": "2023-12-01T09:48:49.291Z"
   },
   {
    "duration": 12,
    "start_time": "2023-12-01T09:48:50.309Z"
   },
   {
    "duration": 3,
    "start_time": "2023-12-01T09:48:51.008Z"
   },
   {
    "duration": 19,
    "start_time": "2023-12-01T09:48:51.691Z"
   },
   {
    "duration": 4,
    "start_time": "2023-12-01T09:48:53.376Z"
   },
   {
    "duration": 18,
    "start_time": "2023-12-01T09:49:04.032Z"
   },
   {
    "duration": 5,
    "start_time": "2023-12-01T09:51:27.006Z"
   },
   {
    "duration": 16,
    "start_time": "2023-12-01T09:51:30.574Z"
   },
   {
    "duration": 4,
    "start_time": "2023-12-01T09:52:51.067Z"
   },
   {
    "duration": 18,
    "start_time": "2023-12-01T09:52:53.748Z"
   },
   {
    "duration": 6,
    "start_time": "2023-12-01T09:53:01.619Z"
   },
   {
    "duration": 19,
    "start_time": "2023-12-01T09:53:03.854Z"
   },
   {
    "duration": 4,
    "start_time": "2023-12-01T09:57:53.393Z"
   },
   {
    "duration": 12,
    "start_time": "2023-12-01T09:57:54.329Z"
   },
   {
    "duration": 17,
    "start_time": "2023-12-01T09:58:34.156Z"
   },
   {
    "duration": 45,
    "start_time": "2023-12-01T09:59:00.083Z"
   },
   {
    "duration": 16,
    "start_time": "2023-12-01T09:59:00.968Z"
   },
   {
    "duration": 13,
    "start_time": "2023-12-01T10:02:16.209Z"
   },
   {
    "duration": 13,
    "start_time": "2023-12-01T10:03:38.402Z"
   },
   {
    "duration": 3,
    "start_time": "2023-12-01T10:05:31.493Z"
   },
   {
    "duration": 14,
    "start_time": "2023-12-01T10:05:32.106Z"
   },
   {
    "duration": 861,
    "start_time": "2023-12-01T10:05:44.625Z"
   },
   {
    "duration": 56,
    "start_time": "2023-12-01T10:06:43.943Z"
   },
   {
    "duration": 10,
    "start_time": "2023-12-01T10:06:44.444Z"
   },
   {
    "duration": 22,
    "start_time": "2023-12-01T10:08:01.366Z"
   },
   {
    "duration": 540,
    "start_time": "2023-12-01T10:08:30.795Z"
   },
   {
    "duration": 13,
    "start_time": "2023-12-01T10:08:32.561Z"
   },
   {
    "duration": 511,
    "start_time": "2023-12-01T10:09:11.756Z"
   },
   {
    "duration": 539,
    "start_time": "2023-12-01T10:09:22.259Z"
   },
   {
    "duration": 11,
    "start_time": "2023-12-01T10:09:23.677Z"
   },
   {
    "duration": 15,
    "start_time": "2023-12-01T10:11:00.642Z"
   },
   {
    "duration": 15,
    "start_time": "2023-12-01T10:12:50.707Z"
   },
   {
    "duration": 4,
    "start_time": "2023-12-01T10:13:24.183Z"
   },
   {
    "duration": 13,
    "start_time": "2023-12-01T10:13:24.702Z"
   },
   {
    "duration": 533,
    "start_time": "2023-12-01T10:13:26.034Z"
   },
   {
    "duration": 11,
    "start_time": "2023-12-01T10:13:29.970Z"
   },
   {
    "duration": 13,
    "start_time": "2023-12-01T10:13:49.661Z"
   },
   {
    "duration": 15,
    "start_time": "2023-12-01T10:15:50.763Z"
   },
   {
    "duration": 537,
    "start_time": "2023-12-01T10:15:51.613Z"
   },
   {
    "duration": 13,
    "start_time": "2023-12-01T10:15:52.196Z"
   },
   {
    "duration": 927,
    "start_time": "2023-12-01T10:17:06.186Z"
   },
   {
    "duration": 10,
    "start_time": "2023-12-01T10:17:07.115Z"
   },
   {
    "duration": 4,
    "start_time": "2023-12-01T10:36:46.570Z"
   },
   {
    "duration": 86,
    "start_time": "2023-12-01T10:36:48.137Z"
   },
   {
    "duration": 15,
    "start_time": "2023-12-01T10:36:48.770Z"
   },
   {
    "duration": 44,
    "start_time": "2023-12-01T10:37:29.282Z"
   },
   {
    "duration": 15,
    "start_time": "2023-12-01T10:37:29.833Z"
   },
   {
    "duration": 3,
    "start_time": "2023-12-01T10:38:04.461Z"
   },
   {
    "duration": 904,
    "start_time": "2023-12-01T10:38:11.615Z"
   },
   {
    "duration": 0,
    "start_time": "2023-12-01T10:38:12.520Z"
   },
   {
    "duration": 3,
    "start_time": "2023-12-01T10:39:19.618Z"
   },
   {
    "duration": 845,
    "start_time": "2023-12-01T10:39:22.986Z"
   },
   {
    "duration": 16,
    "start_time": "2023-12-01T10:39:24.134Z"
   },
   {
    "duration": 137,
    "start_time": "2023-12-01T10:39:37.790Z"
   },
   {
    "duration": 17,
    "start_time": "2023-12-01T10:39:39.525Z"
   },
   {
    "duration": 4,
    "start_time": "2023-12-01T10:55:04.029Z"
   },
   {
    "duration": 10,
    "start_time": "2023-12-01T10:55:04.712Z"
   },
   {
    "duration": 4,
    "start_time": "2023-12-01T10:55:10.114Z"
   },
   {
    "duration": 15,
    "start_time": "2023-12-01T10:55:10.513Z"
   },
   {
    "duration": 879,
    "start_time": "2023-12-01T10:55:10.796Z"
   },
   {
    "duration": 3,
    "start_time": "2023-12-01T10:55:11.677Z"
   },
   {
    "duration": 29,
    "start_time": "2023-12-01T10:55:11.682Z"
   },
   {
    "duration": 4,
    "start_time": "2023-12-01T10:55:11.929Z"
   },
   {
    "duration": 140,
    "start_time": "2023-12-01T10:55:12.380Z"
   },
   {
    "duration": 19,
    "start_time": "2023-12-01T10:55:13.064Z"
   },
   {
    "duration": 5,
    "start_time": "2023-12-01T11:28:53.577Z"
   },
   {
    "duration": 12,
    "start_time": "2023-12-01T11:28:54.126Z"
   },
   {
    "duration": 914,
    "start_time": "2023-12-01T11:28:54.778Z"
   },
   {
    "duration": 4,
    "start_time": "2023-12-01T11:28:55.694Z"
   },
   {
    "duration": 9,
    "start_time": "2023-12-01T11:28:59.531Z"
   },
   {
    "duration": 3,
    "start_time": "2023-12-01T11:29:11.716Z"
   },
   {
    "duration": 203,
    "start_time": "2023-12-01T11:29:12.315Z"
   },
   {
    "duration": 18,
    "start_time": "2023-12-01T11:29:19.900Z"
   },
   {
    "duration": 266,
    "start_time": "2023-12-01T11:30:35.142Z"
   },
   {
    "duration": 253,
    "start_time": "2023-12-01T11:31:00.567Z"
   },
   {
    "duration": 253,
    "start_time": "2023-12-01T11:31:19.941Z"
   },
   {
    "duration": 279,
    "start_time": "2023-12-01T11:31:37.294Z"
   },
   {
    "duration": 4,
    "start_time": "2023-12-01T11:41:46.435Z"
   },
   {
    "duration": 65,
    "start_time": "2023-12-01T11:41:46.818Z"
   },
   {
    "duration": 9,
    "start_time": "2023-12-01T11:41:46.985Z"
   },
   {
    "duration": 8,
    "start_time": "2023-12-01T11:41:47.167Z"
   },
   {
    "duration": 7,
    "start_time": "2023-12-01T11:41:47.334Z"
   },
   {
    "duration": 11,
    "start_time": "2023-12-01T11:41:47.517Z"
   },
   {
    "duration": 11,
    "start_time": "2023-12-01T11:41:47.684Z"
   },
   {
    "duration": 10,
    "start_time": "2023-12-01T11:41:47.884Z"
   },
   {
    "duration": 8,
    "start_time": "2023-12-01T11:41:48.968Z"
   },
   {
    "duration": 5,
    "start_time": "2023-12-01T11:41:49.169Z"
   },
   {
    "duration": 8,
    "start_time": "2023-12-01T11:41:49.351Z"
   },
   {
    "duration": 6,
    "start_time": "2023-12-01T11:41:49.550Z"
   },
   {
    "duration": 6,
    "start_time": "2023-12-01T11:41:49.734Z"
   },
   {
    "duration": 5,
    "start_time": "2023-12-01T11:41:49.935Z"
   },
   {
    "duration": 5,
    "start_time": "2023-12-01T11:41:50.152Z"
   },
   {
    "duration": 5,
    "start_time": "2023-12-01T11:41:50.334Z"
   },
   {
    "duration": 6,
    "start_time": "2023-12-01T11:41:50.533Z"
   },
   {
    "duration": 8,
    "start_time": "2023-12-01T11:41:50.770Z"
   },
   {
    "duration": 6,
    "start_time": "2023-12-01T11:41:50.951Z"
   },
   {
    "duration": 5,
    "start_time": "2023-12-01T11:41:51.184Z"
   },
   {
    "duration": 5,
    "start_time": "2023-12-01T11:41:53.019Z"
   },
   {
    "duration": 5,
    "start_time": "2023-12-01T11:41:53.218Z"
   },
   {
    "duration": 203,
    "start_time": "2023-12-01T11:41:53.437Z"
   },
   {
    "duration": 5,
    "start_time": "2023-12-01T11:41:53.643Z"
   },
   {
    "duration": 262,
    "start_time": "2023-12-01T11:41:54.053Z"
   },
   {
    "duration": 268,
    "start_time": "2023-12-01T11:41:54.685Z"
   },
   {
    "duration": 9,
    "start_time": "2023-12-01T11:41:54.955Z"
   },
   {
    "duration": 281,
    "start_time": "2023-12-01T11:41:55.102Z"
   },
   {
    "duration": 8,
    "start_time": "2023-12-01T11:41:55.385Z"
   },
   {
    "duration": 4,
    "start_time": "2023-12-01T11:41:59.004Z"
   },
   {
    "duration": 10,
    "start_time": "2023-12-01T11:41:59.238Z"
   },
   {
    "duration": 11,
    "start_time": "2023-12-01T11:41:59.455Z"
   },
   {
    "duration": 4,
    "start_time": "2023-12-01T11:41:59.639Z"
   },
   {
    "duration": 10,
    "start_time": "2023-12-01T11:41:59.838Z"
   },
   {
    "duration": 12,
    "start_time": "2023-12-01T11:42:00.041Z"
   },
   {
    "duration": 4,
    "start_time": "2023-12-01T11:42:00.220Z"
   },
   {
    "duration": 5,
    "start_time": "2023-12-01T11:42:00.421Z"
   },
   {
    "duration": 7,
    "start_time": "2023-12-01T11:42:01.021Z"
   },
   {
    "duration": 6,
    "start_time": "2023-12-01T11:42:01.205Z"
   },
   {
    "duration": 16,
    "start_time": "2023-12-01T11:42:01.406Z"
   },
   {
    "duration": 11,
    "start_time": "2023-12-01T11:42:01.589Z"
   },
   {
    "duration": 255,
    "start_time": "2023-12-01T11:42:02.007Z"
   },
   {
    "duration": 303,
    "start_time": "2023-12-01T11:42:02.405Z"
   },
   {
    "duration": 330,
    "start_time": "2023-12-01T11:42:02.805Z"
   },
   {
    "duration": 253,
    "start_time": "2023-12-01T11:42:03.206Z"
   },
   {
    "duration": 268,
    "start_time": "2023-12-01T11:42:03.625Z"
   },
   {
    "duration": 245,
    "start_time": "2023-12-01T11:42:04.039Z"
   },
   {
    "duration": 4,
    "start_time": "2023-12-01T11:42:05.889Z"
   },
   {
    "duration": 11,
    "start_time": "2023-12-01T11:42:06.290Z"
   },
   {
    "duration": 911,
    "start_time": "2023-12-01T11:42:06.706Z"
   },
   {
    "duration": 3,
    "start_time": "2023-12-01T11:42:07.620Z"
   },
   {
    "duration": 9,
    "start_time": "2023-12-01T11:42:07.643Z"
   },
   {
    "duration": 4,
    "start_time": "2023-12-01T11:42:08.023Z"
   },
   {
    "duration": 143,
    "start_time": "2023-12-01T11:42:08.573Z"
   },
   {
    "duration": 19,
    "start_time": "2023-12-01T11:42:08.958Z"
   },
   {
    "duration": 2,
    "start_time": "2023-12-01T11:54:03.182Z"
   },
   {
    "duration": 6,
    "start_time": "2023-12-01T11:54:04.563Z"
   },
   {
    "duration": 21,
    "start_time": "2023-12-01T12:01:20.832Z"
   },
   {
    "duration": 6,
    "start_time": "2023-12-01T12:01:43.307Z"
   },
   {
    "duration": 3,
    "start_time": "2023-12-01T12:12:44.314Z"
   },
   {
    "duration": 11,
    "start_time": "2023-12-01T12:12:44.945Z"
   },
   {
    "duration": 78,
    "start_time": "2023-12-01T12:13:05.770Z"
   },
   {
    "duration": 97,
    "start_time": "2023-12-01T12:13:42.550Z"
   },
   {
    "duration": 6,
    "start_time": "2023-12-01T12:14:00.454Z"
   },
   {
    "duration": 3,
    "start_time": "2023-12-01T12:14:42.615Z"
   },
   {
    "duration": 6,
    "start_time": "2023-12-01T12:14:43.352Z"
   },
   {
    "duration": 5,
    "start_time": "2023-12-01T12:16:38.435Z"
   },
   {
    "duration": 3,
    "start_time": "2023-12-01T12:16:58.375Z"
   },
   {
    "duration": 5,
    "start_time": "2023-12-01T12:16:58.925Z"
   },
   {
    "duration": 5,
    "start_time": "2023-12-01T12:19:24.388Z"
   },
   {
    "duration": 5,
    "start_time": "2023-12-01T12:19:36.607Z"
   },
   {
    "duration": 5,
    "start_time": "2023-12-01T12:19:54.048Z"
   },
   {
    "duration": 73,
    "start_time": "2023-12-01T12:36:18.586Z"
   },
   {
    "duration": 12,
    "start_time": "2023-12-01T12:36:27.222Z"
   },
   {
    "duration": 8,
    "start_time": "2023-12-01T12:37:24.907Z"
   },
   {
    "duration": 9,
    "start_time": "2023-12-01T12:37:28.307Z"
   },
   {
    "duration": 8,
    "start_time": "2023-12-01T12:38:05.202Z"
   },
   {
    "duration": 8,
    "start_time": "2023-12-01T12:38:09.503Z"
   },
   {
    "duration": 5,
    "start_time": "2023-12-01T12:38:44.063Z"
   },
   {
    "duration": 7,
    "start_time": "2023-12-01T12:38:47.063Z"
   },
   {
    "duration": 7,
    "start_time": "2023-12-01T12:40:14.143Z"
   },
   {
    "duration": 5,
    "start_time": "2023-12-01T12:40:14.675Z"
   },
   {
    "duration": 5,
    "start_time": "2023-12-01T12:42:24.932Z"
   },
   {
    "duration": 3,
    "start_time": "2023-12-01T12:42:34.358Z"
   },
   {
    "duration": 5,
    "start_time": "2023-12-01T12:42:34.902Z"
   },
   {
    "duration": 8,
    "start_time": "2023-12-01T12:42:36.841Z"
   },
   {
    "duration": 5,
    "start_time": "2023-12-01T12:42:37.636Z"
   },
   {
    "duration": 1342,
    "start_time": "2023-12-01T12:42:49.526Z"
   },
   {
    "duration": 5,
    "start_time": "2023-12-01T12:44:16.533Z"
   },
   {
    "duration": 6,
    "start_time": "2023-12-01T12:44:27.070Z"
   },
   {
    "duration": 4,
    "start_time": "2023-12-01T13:12:05.199Z"
   },
   {
    "duration": 66,
    "start_time": "2023-12-01T13:12:06.249Z"
   },
   {
    "duration": 9,
    "start_time": "2023-12-01T13:12:06.816Z"
   },
   {
    "duration": 8,
    "start_time": "2023-12-01T13:12:07.769Z"
   },
   {
    "duration": 7,
    "start_time": "2023-12-01T13:12:08.200Z"
   },
   {
    "duration": 12,
    "start_time": "2023-12-01T13:12:08.586Z"
   },
   {
    "duration": 11,
    "start_time": "2023-12-01T13:12:08.816Z"
   },
   {
    "duration": 10,
    "start_time": "2023-12-01T13:12:09.069Z"
   },
   {
    "duration": 7,
    "start_time": "2023-12-01T13:12:10.451Z"
   },
   {
    "duration": 6,
    "start_time": "2023-12-01T13:12:10.669Z"
   },
   {
    "duration": 10,
    "start_time": "2023-12-01T13:12:10.934Z"
   },
   {
    "duration": 8,
    "start_time": "2023-12-01T13:12:11.168Z"
   },
   {
    "duration": 6,
    "start_time": "2023-12-01T13:12:11.402Z"
   },
   {
    "duration": 4,
    "start_time": "2023-12-01T13:12:11.636Z"
   },
   {
    "duration": 5,
    "start_time": "2023-12-01T13:12:11.851Z"
   },
   {
    "duration": 5,
    "start_time": "2023-12-01T13:12:12.052Z"
   },
   {
    "duration": 7,
    "start_time": "2023-12-01T13:12:12.286Z"
   },
   {
    "duration": 9,
    "start_time": "2023-12-01T13:12:12.501Z"
   },
   {
    "duration": 6,
    "start_time": "2023-12-01T13:12:12.755Z"
   },
   {
    "duration": 6,
    "start_time": "2023-12-01T13:12:12.968Z"
   },
   {
    "duration": 4,
    "start_time": "2023-12-01T13:12:14.703Z"
   },
   {
    "duration": 6,
    "start_time": "2023-12-01T13:12:14.918Z"
   },
   {
    "duration": 129,
    "start_time": "2023-12-01T13:12:15.118Z"
   },
   {
    "duration": 5,
    "start_time": "2023-12-01T13:12:15.353Z"
   },
   {
    "duration": 248,
    "start_time": "2023-12-01T13:12:15.787Z"
   },
   {
    "duration": 361,
    "start_time": "2023-12-01T13:12:16.435Z"
   },
   {
    "duration": 9,
    "start_time": "2023-12-01T13:12:16.798Z"
   },
   {
    "duration": 282,
    "start_time": "2023-12-01T13:12:16.853Z"
   },
   {
    "duration": 11,
    "start_time": "2023-12-01T13:12:17.137Z"
   },
   {
    "duration": 4,
    "start_time": "2023-12-01T13:12:24.326Z"
   },
   {
    "duration": 10,
    "start_time": "2023-12-01T13:12:24.722Z"
   },
   {
    "duration": 11,
    "start_time": "2023-12-01T13:12:24.989Z"
   },
   {
    "duration": 4,
    "start_time": "2023-12-01T13:12:25.239Z"
   },
   {
    "duration": 10,
    "start_time": "2023-12-01T13:12:25.471Z"
   },
   {
    "duration": 12,
    "start_time": "2023-12-01T13:12:25.724Z"
   },
   {
    "duration": 4,
    "start_time": "2023-12-01T13:12:25.971Z"
   },
   {
    "duration": 5,
    "start_time": "2023-12-01T13:12:26.207Z"
   },
   {
    "duration": 7,
    "start_time": "2023-12-01T13:12:27.025Z"
   },
   {
    "duration": 5,
    "start_time": "2023-12-01T13:12:27.257Z"
   },
   {
    "duration": 12,
    "start_time": "2023-12-01T13:12:27.472Z"
   },
   {
    "duration": 12,
    "start_time": "2023-12-01T13:12:27.657Z"
   },
   {
    "duration": 270,
    "start_time": "2023-12-01T13:12:28.122Z"
   },
   {
    "duration": 280,
    "start_time": "2023-12-01T13:12:28.572Z"
   },
   {
    "duration": 265,
    "start_time": "2023-12-01T13:12:29.041Z"
   },
   {
    "duration": 275,
    "start_time": "2023-12-01T13:12:29.723Z"
   },
   {
    "duration": 375,
    "start_time": "2023-12-01T13:12:30.205Z"
   },
   {
    "duration": 259,
    "start_time": "2023-12-01T13:12:30.660Z"
   },
   {
    "duration": 4,
    "start_time": "2023-12-01T13:12:32.557Z"
   },
   {
    "duration": 13,
    "start_time": "2023-12-01T13:12:32.791Z"
   },
   {
    "duration": 984,
    "start_time": "2023-12-01T13:12:33.041Z"
   },
   {
    "duration": 4,
    "start_time": "2023-12-01T13:12:34.027Z"
   },
   {
    "duration": 18,
    "start_time": "2023-12-01T13:12:34.032Z"
   },
   {
    "duration": 4,
    "start_time": "2023-12-01T13:12:34.053Z"
   },
   {
    "duration": 160,
    "start_time": "2023-12-01T13:12:34.059Z"
   },
   {
    "duration": 27,
    "start_time": "2023-12-01T13:12:34.221Z"
   },
   {
    "duration": 2,
    "start_time": "2023-12-01T13:12:35.491Z"
   },
   {
    "duration": 6,
    "start_time": "2023-12-01T13:12:35.741Z"
   },
   {
    "duration": 2,
    "start_time": "2023-12-01T13:12:36.675Z"
   },
   {
    "duration": 5,
    "start_time": "2023-12-01T13:12:36.944Z"
   },
   {
    "duration": 7,
    "start_time": "2023-12-01T13:12:37.859Z"
   },
   {
    "duration": 6,
    "start_time": "2023-12-01T13:12:38.059Z"
   },
   {
    "duration": 94,
    "start_time": "2023-12-01T13:17:30.851Z"
   },
   {
    "duration": 141,
    "start_time": "2023-12-01T13:17:53.824Z"
   },
   {
    "duration": 163,
    "start_time": "2023-12-01T13:18:08.046Z"
   },
   {
    "duration": 99,
    "start_time": "2023-12-01T13:19:20.118Z"
   },
   {
    "duration": 94,
    "start_time": "2023-12-01T13:19:31.856Z"
   },
   {
    "duration": 71,
    "start_time": "2023-12-01T13:25:34.354Z"
   },
   {
    "duration": 9,
    "start_time": "2023-12-01T13:34:22.082Z"
   },
   {
    "duration": 255,
    "start_time": "2023-12-01T13:36:28.623Z"
   },
   {
    "duration": 1170,
    "start_time": "2023-12-01T13:39:16.089Z"
   },
   {
    "duration": 370,
    "start_time": "2023-12-01T13:40:02.172Z"
   },
   {
    "duration": 135,
    "start_time": "2023-12-01T13:44:09.566Z"
   },
   {
    "duration": 120,
    "start_time": "2023-12-01T13:45:19.571Z"
   },
   {
    "duration": 4,
    "start_time": "2023-12-01T13:50:21.681Z"
   },
   {
    "duration": 11,
    "start_time": "2023-12-01T13:50:22.046Z"
   },
   {
    "duration": 12,
    "start_time": "2023-12-01T13:50:22.497Z"
   },
   {
    "duration": 12,
    "start_time": "2023-12-01T13:50:39.385Z"
   },
   {
    "duration": 4,
    "start_time": "2023-12-01T13:50:40.985Z"
   },
   {
    "duration": 5,
    "start_time": "2023-12-01T13:51:10.767Z"
   },
   {
    "duration": 10,
    "start_time": "2023-12-01T13:51:11.328Z"
   },
   {
    "duration": 13,
    "start_time": "2023-12-01T13:51:11.846Z"
   },
   {
    "duration": 5,
    "start_time": "2023-12-01T13:51:13.085Z"
   },
   {
    "duration": 5,
    "start_time": "2023-12-01T13:51:16.747Z"
   },
   {
    "duration": 16,
    "start_time": "2023-12-01T13:52:10.163Z"
   },
   {
    "duration": 7,
    "start_time": "2023-12-01T13:52:32.654Z"
   },
   {
    "duration": 6,
    "start_time": "2023-12-01T13:52:35.038Z"
   },
   {
    "duration": 13,
    "start_time": "2023-12-01T13:52:36.472Z"
   },
   {
    "duration": 13,
    "start_time": "2023-12-01T13:52:37.906Z"
   },
   {
    "duration": 253,
    "start_time": "2023-12-01T13:53:00.079Z"
   },
   {
    "duration": 284,
    "start_time": "2023-12-01T13:53:04.281Z"
   },
   {
    "duration": 9,
    "start_time": "2023-12-01T14:06:23.247Z"
   },
   {
    "duration": 8,
    "start_time": "2023-12-01T14:06:50.520Z"
   },
   {
    "duration": 11,
    "start_time": "2023-12-01T14:07:16.144Z"
   },
   {
    "duration": 9,
    "start_time": "2023-12-01T14:07:32.767Z"
   },
   {
    "duration": 10,
    "start_time": "2023-12-01T14:07:41.303Z"
   },
   {
    "duration": 4,
    "start_time": "2023-12-01T14:17:33.853Z"
   },
   {
    "duration": 12,
    "start_time": "2023-12-01T14:17:35.638Z"
   },
   {
    "duration": 852,
    "start_time": "2023-12-01T14:17:40.589Z"
   },
   {
    "duration": 4,
    "start_time": "2023-12-01T14:17:42.707Z"
   },
   {
    "duration": 9,
    "start_time": "2023-12-01T14:17:46.758Z"
   },
   {
    "duration": 3,
    "start_time": "2023-12-01T14:17:54.345Z"
   },
   {
    "duration": 3,
    "start_time": "2023-12-01T14:18:03.304Z"
   },
   {
    "duration": 136,
    "start_time": "2023-12-01T14:18:04.915Z"
   },
   {
    "duration": 19,
    "start_time": "2023-12-01T14:18:22.336Z"
   },
   {
    "duration": 3,
    "start_time": "2023-12-01T14:21:04.484Z"
   },
   {
    "duration": 6,
    "start_time": "2023-12-01T14:21:04.852Z"
   },
   {
    "duration": 4,
    "start_time": "2023-12-01T14:21:05.703Z"
   },
   {
    "duration": 5,
    "start_time": "2023-12-01T14:21:05.893Z"
   },
   {
    "duration": 8,
    "start_time": "2023-12-01T14:21:06.670Z"
   },
   {
    "duration": 5,
    "start_time": "2023-12-01T14:21:06.854Z"
   },
   {
    "duration": 4,
    "start_time": "2023-12-01T14:54:33.801Z"
   },
   {
    "duration": 67,
    "start_time": "2023-12-01T14:54:34.927Z"
   },
   {
    "duration": 9,
    "start_time": "2023-12-01T14:54:35.281Z"
   },
   {
    "duration": 9,
    "start_time": "2023-12-01T14:54:35.497Z"
   },
   {
    "duration": 7,
    "start_time": "2023-12-01T14:54:35.719Z"
   },
   {
    "duration": 11,
    "start_time": "2023-12-01T14:54:35.928Z"
   },
   {
    "duration": 15,
    "start_time": "2023-12-01T14:54:36.145Z"
   },
   {
    "duration": 12,
    "start_time": "2023-12-01T14:54:36.379Z"
   },
   {
    "duration": 7,
    "start_time": "2023-12-01T14:54:44.814Z"
   },
   {
    "duration": 5,
    "start_time": "2023-12-01T14:54:45.114Z"
   },
   {
    "duration": 8,
    "start_time": "2023-12-01T14:54:45.331Z"
   },
   {
    "duration": 6,
    "start_time": "2023-12-01T14:54:45.598Z"
   },
   {
    "duration": 5,
    "start_time": "2023-12-01T14:54:45.866Z"
   },
   {
    "duration": 6,
    "start_time": "2023-12-01T14:54:46.150Z"
   },
   {
    "duration": 6,
    "start_time": "2023-12-01T14:54:46.381Z"
   },
   {
    "duration": 7,
    "start_time": "2023-12-01T14:54:46.648Z"
   },
   {
    "duration": 6,
    "start_time": "2023-12-01T14:54:46.898Z"
   },
   {
    "duration": 8,
    "start_time": "2023-12-01T14:54:47.181Z"
   },
   {
    "duration": 6,
    "start_time": "2023-12-01T14:54:47.432Z"
   },
   {
    "duration": 5,
    "start_time": "2023-12-01T14:54:47.699Z"
   },
   {
    "duration": 5,
    "start_time": "2023-12-01T14:54:48.950Z"
   },
   {
    "duration": 5,
    "start_time": "2023-12-01T14:54:49.184Z"
   },
   {
    "duration": 152,
    "start_time": "2023-12-01T14:54:49.416Z"
   },
   {
    "duration": 8,
    "start_time": "2023-12-01T14:54:49.951Z"
   },
   {
    "duration": 92,
    "start_time": "2023-12-01T14:54:50.200Z"
   },
   {
    "duration": 269,
    "start_time": "2023-12-01T14:54:50.466Z"
   },
   {
    "duration": 226,
    "start_time": "2023-12-01T14:54:50.743Z"
   },
   {
    "duration": 302,
    "start_time": "2023-12-01T14:54:50.971Z"
   },
   {
    "duration": 9,
    "start_time": "2023-12-01T14:54:51.334Z"
   },
   {
    "duration": 288,
    "start_time": "2023-12-01T14:54:51.601Z"
   },
   {
    "duration": 146,
    "start_time": "2023-12-01T14:54:51.891Z"
   },
   {
    "duration": 10,
    "start_time": "2023-12-01T14:54:52.134Z"
   },
   {
    "duration": 4,
    "start_time": "2023-12-01T14:54:56.936Z"
   },
   {
    "duration": 9,
    "start_time": "2023-12-01T14:54:57.184Z"
   },
   {
    "duration": 11,
    "start_time": "2023-12-01T14:54:57.418Z"
   },
   {
    "duration": 4,
    "start_time": "2023-12-01T14:54:57.667Z"
   },
   {
    "duration": 9,
    "start_time": "2023-12-01T14:54:57.935Z"
   },
   {
    "duration": 12,
    "start_time": "2023-12-01T14:54:58.170Z"
   },
   {
    "duration": 4,
    "start_time": "2023-12-01T14:54:58.406Z"
   },
   {
    "duration": 13,
    "start_time": "2023-12-01T14:54:58.656Z"
   },
   {
    "duration": 6,
    "start_time": "2023-12-01T14:54:59.121Z"
   },
   {
    "duration": 5,
    "start_time": "2023-12-01T14:54:59.370Z"
   },
   {
    "duration": 12,
    "start_time": "2023-12-01T14:54:59.602Z"
   },
   {
    "duration": 16,
    "start_time": "2023-12-01T14:54:59.819Z"
   },
   {
    "duration": 260,
    "start_time": "2023-12-01T14:55:00.320Z"
   },
   {
    "duration": 8,
    "start_time": "2023-12-01T14:55:00.670Z"
   },
   {
    "duration": 301,
    "start_time": "2023-12-01T14:55:00.936Z"
   },
   {
    "duration": 10,
    "start_time": "2023-12-01T14:55:01.240Z"
   },
   {
    "duration": 257,
    "start_time": "2023-12-01T14:55:01.386Z"
   },
   {
    "duration": 361,
    "start_time": "2023-12-01T14:55:01.922Z"
   },
   {
    "duration": 9,
    "start_time": "2023-12-01T14:55:02.285Z"
   },
   {
    "duration": 270,
    "start_time": "2023-12-01T14:55:02.357Z"
   },
   {
    "duration": 17,
    "start_time": "2023-12-01T14:55:02.629Z"
   },
   {
    "duration": 249,
    "start_time": "2023-12-01T14:55:02.869Z"
   },
   {
    "duration": 4,
    "start_time": "2023-12-01T14:55:14.745Z"
   },
   {
    "duration": 11,
    "start_time": "2023-12-01T14:55:14.995Z"
   },
   {
    "duration": 989,
    "start_time": "2023-12-01T14:55:15.242Z"
   },
   {
    "duration": 3,
    "start_time": "2023-12-01T14:55:16.233Z"
   },
   {
    "duration": 20,
    "start_time": "2023-12-01T14:55:16.243Z"
   },
   {
    "duration": 8,
    "start_time": "2023-12-01T14:55:16.266Z"
   },
   {
    "duration": 156,
    "start_time": "2023-12-01T14:55:16.276Z"
   },
   {
    "duration": 17,
    "start_time": "2023-12-01T14:55:16.478Z"
   },
   {
    "duration": 3,
    "start_time": "2023-12-01T14:55:17.725Z"
   },
   {
    "duration": 6,
    "start_time": "2023-12-01T14:55:18.009Z"
   },
   {
    "duration": 2,
    "start_time": "2023-12-01T14:55:19.142Z"
   },
   {
    "duration": 5,
    "start_time": "2023-12-01T14:55:19.459Z"
   },
   {
    "duration": 7,
    "start_time": "2023-12-01T14:55:20.528Z"
   },
   {
    "duration": 5,
    "start_time": "2023-12-01T14:55:20.775Z"
   },
   {
    "duration": 997,
    "start_time": "2023-12-01T22:09:05.329Z"
   },
   {
    "duration": 240,
    "start_time": "2023-12-01T22:09:06.328Z"
   },
   {
    "duration": 12,
    "start_time": "2023-12-01T22:09:06.569Z"
   },
   {
    "duration": 29,
    "start_time": "2023-12-01T22:09:06.583Z"
   },
   {
    "duration": 23,
    "start_time": "2023-12-01T22:09:06.614Z"
   },
   {
    "duration": 14,
    "start_time": "2023-12-01T22:09:06.639Z"
   },
   {
    "duration": 11,
    "start_time": "2023-12-01T22:09:06.655Z"
   },
   {
    "duration": 8,
    "start_time": "2023-12-01T22:09:06.667Z"
   },
   {
    "duration": 10,
    "start_time": "2023-12-01T22:09:06.676Z"
   },
   {
    "duration": 5,
    "start_time": "2023-12-01T22:09:06.689Z"
   },
   {
    "duration": 9,
    "start_time": "2023-12-01T22:09:06.695Z"
   },
   {
    "duration": 7,
    "start_time": "2023-12-01T22:09:06.705Z"
   },
   {
    "duration": 21,
    "start_time": "2023-12-01T22:09:06.713Z"
   },
   {
    "duration": 5,
    "start_time": "2023-12-01T22:09:06.735Z"
   },
   {
    "duration": 8,
    "start_time": "2023-12-01T22:09:06.742Z"
   },
   {
    "duration": 5,
    "start_time": "2023-12-01T22:09:06.751Z"
   },
   {
    "duration": 25,
    "start_time": "2023-12-01T22:09:06.758Z"
   },
   {
    "duration": 8,
    "start_time": "2023-12-01T22:09:06.785Z"
   },
   {
    "duration": 5,
    "start_time": "2023-12-01T22:09:06.795Z"
   },
   {
    "duration": 5,
    "start_time": "2023-12-01T22:09:06.802Z"
   },
   {
    "duration": 4,
    "start_time": "2023-12-01T22:09:06.809Z"
   },
   {
    "duration": 8,
    "start_time": "2023-12-01T22:09:06.814Z"
   },
   {
    "duration": 175,
    "start_time": "2023-12-01T22:09:06.824Z"
   },
   {
    "duration": 6,
    "start_time": "2023-12-01T22:09:07.001Z"
   },
   {
    "duration": 104,
    "start_time": "2023-12-01T22:09:07.008Z"
   },
   {
    "duration": 235,
    "start_time": "2023-12-01T22:09:07.114Z"
   },
   {
    "duration": 108,
    "start_time": "2023-12-01T22:09:07.351Z"
   },
   {
    "duration": 250,
    "start_time": "2023-12-01T22:09:07.463Z"
   },
   {
    "duration": 8,
    "start_time": "2023-12-01T22:09:07.714Z"
   },
   {
    "duration": 250,
    "start_time": "2023-12-01T22:09:07.723Z"
   },
   {
    "duration": 132,
    "start_time": "2023-12-01T22:09:07.974Z"
   },
   {
    "duration": 7,
    "start_time": "2023-12-01T22:09:08.107Z"
   },
   {
    "duration": 6,
    "start_time": "2023-12-01T22:09:08.116Z"
   },
   {
    "duration": 27,
    "start_time": "2023-12-01T22:09:08.123Z"
   },
   {
    "duration": 34,
    "start_time": "2023-12-01T22:09:08.151Z"
   },
   {
    "duration": 10,
    "start_time": "2023-12-01T22:09:08.187Z"
   },
   {
    "duration": 15,
    "start_time": "2023-12-01T22:09:08.199Z"
   },
   {
    "duration": 10,
    "start_time": "2023-12-01T22:09:08.216Z"
   },
   {
    "duration": 4,
    "start_time": "2023-12-01T22:09:08.228Z"
   },
   {
    "duration": 10,
    "start_time": "2023-12-01T22:09:08.233Z"
   },
   {
    "duration": 7,
    "start_time": "2023-12-01T22:09:08.244Z"
   },
   {
    "duration": 5,
    "start_time": "2023-12-01T22:09:08.252Z"
   },
   {
    "duration": 77,
    "start_time": "2023-12-01T22:09:08.282Z"
   },
   {
    "duration": 11,
    "start_time": "2023-12-01T22:09:08.360Z"
   },
   {
    "duration": 231,
    "start_time": "2023-12-01T22:09:08.382Z"
   },
   {
    "duration": 7,
    "start_time": "2023-12-01T22:09:08.614Z"
   },
   {
    "duration": 276,
    "start_time": "2023-12-01T22:09:08.622Z"
   },
   {
    "duration": 7,
    "start_time": "2023-12-01T22:09:08.900Z"
   },
   {
    "duration": 229,
    "start_time": "2023-12-01T22:09:08.909Z"
   },
   {
    "duration": 254,
    "start_time": "2023-12-01T22:09:09.139Z"
   },
   {
    "duration": 8,
    "start_time": "2023-12-01T22:09:09.394Z"
   },
   {
    "duration": 262,
    "start_time": "2023-12-01T22:09:09.404Z"
   },
   {
    "duration": 18,
    "start_time": "2023-12-01T22:09:09.667Z"
   },
   {
    "duration": 235,
    "start_time": "2023-12-01T22:09:09.687Z"
   },
   {
    "duration": 3,
    "start_time": "2023-12-01T22:09:09.924Z"
   },
   {
    "duration": 19,
    "start_time": "2023-12-01T22:09:09.928Z"
   },
   {
    "duration": 876,
    "start_time": "2023-12-01T22:09:09.948Z"
   },
   {
    "duration": 3,
    "start_time": "2023-12-01T22:09:10.826Z"
   },
   {
    "duration": 17,
    "start_time": "2023-12-01T22:09:10.830Z"
   },
   {
    "duration": 6,
    "start_time": "2023-12-01T22:09:10.848Z"
   },
   {
    "duration": 132,
    "start_time": "2023-12-01T22:09:10.855Z"
   },
   {
    "duration": 15,
    "start_time": "2023-12-01T22:09:10.989Z"
   },
   {
    "duration": 19,
    "start_time": "2023-12-01T22:09:11.005Z"
   },
   {
    "duration": 15,
    "start_time": "2023-12-01T22:09:11.025Z"
   },
   {
    "duration": 4,
    "start_time": "2023-12-01T22:09:11.041Z"
   },
   {
    "duration": 4,
    "start_time": "2023-12-01T22:09:11.047Z"
   },
   {
    "duration": 9,
    "start_time": "2023-12-01T22:09:11.052Z"
   },
   {
    "duration": 6,
    "start_time": "2023-12-01T22:09:11.063Z"
   },
   {
    "duration": 293,
    "start_time": "2023-12-01T22:20:08.531Z"
   },
   {
    "duration": 247,
    "start_time": "2023-12-01T22:20:22.216Z"
   },
   {
    "duration": 1225,
    "start_time": "2023-12-02T08:33:41.011Z"
   },
   {
    "duration": 251,
    "start_time": "2023-12-02T08:33:42.645Z"
   },
   {
    "duration": 12,
    "start_time": "2023-12-02T08:33:43.212Z"
   },
   {
    "duration": 8,
    "start_time": "2023-12-02T08:33:43.844Z"
   },
   {
    "duration": 6,
    "start_time": "2023-12-02T08:33:44.494Z"
   },
   {
    "duration": 11,
    "start_time": "2023-12-02T08:33:45.194Z"
   },
   {
    "duration": 11,
    "start_time": "2023-12-02T08:33:45.733Z"
   },
   {
    "duration": 9,
    "start_time": "2023-12-02T08:33:46.164Z"
   },
   {
    "duration": 170,
    "start_time": "2023-12-02T08:58:25.294Z"
   },
   {
    "duration": 91,
    "start_time": "2023-12-02T08:58:26.711Z"
   },
   {
    "duration": 9,
    "start_time": "2023-12-02T08:59:03.702Z"
   },
   {
    "duration": 324,
    "start_time": "2023-12-02T09:00:08.938Z"
   },
   {
    "duration": 109,
    "start_time": "2023-12-02T09:00:34.481Z"
   },
   {
    "duration": 4,
    "start_time": "2023-12-02T09:00:53.004Z"
   },
   {
    "duration": 5,
    "start_time": "2023-12-02T09:00:53.419Z"
   },
   {
    "duration": 121,
    "start_time": "2023-12-02T09:00:53.669Z"
   },
   {
    "duration": 6,
    "start_time": "2023-12-02T09:00:54.836Z"
   },
   {
    "duration": 86,
    "start_time": "2023-12-02T09:00:55.269Z"
   },
   {
    "duration": 317,
    "start_time": "2023-12-02T09:00:57.007Z"
   },
   {
    "duration": 126,
    "start_time": "2023-12-02T09:02:21.898Z"
   },
   {
    "duration": 131,
    "start_time": "2023-12-02T09:03:35.770Z"
   },
   {
    "duration": 165,
    "start_time": "2023-12-02T09:05:08.449Z"
   },
   {
    "duration": 144,
    "start_time": "2023-12-02T09:05:33.990Z"
   },
   {
    "duration": 67,
    "start_time": "2023-12-02T09:06:25.942Z"
   },
   {
    "duration": 136,
    "start_time": "2023-12-02T09:11:14.348Z"
   },
   {
    "duration": 248,
    "start_time": "2023-12-02T09:30:51.081Z"
   },
   {
    "duration": 10,
    "start_time": "2023-12-02T10:15:27.948Z"
   },
   {
    "duration": 8,
    "start_time": "2023-12-02T10:15:39.374Z"
   },
   {
    "duration": 3,
    "start_time": "2023-12-02T10:15:49.177Z"
   },
   {
    "duration": 68,
    "start_time": "2023-12-02T10:15:49.787Z"
   },
   {
    "duration": 8,
    "start_time": "2023-12-02T10:15:49.987Z"
   },
   {
    "duration": 8,
    "start_time": "2023-12-02T10:15:50.205Z"
   },
   {
    "duration": 7,
    "start_time": "2023-12-02T10:15:50.406Z"
   },
   {
    "duration": 10,
    "start_time": "2023-12-02T10:15:50.606Z"
   },
   {
    "duration": 11,
    "start_time": "2023-12-02T10:15:50.787Z"
   },
   {
    "duration": 10,
    "start_time": "2023-12-02T10:15:51.004Z"
   },
   {
    "duration": 7,
    "start_time": "2023-12-02T10:15:52.056Z"
   },
   {
    "duration": 5,
    "start_time": "2023-12-02T10:15:52.238Z"
   },
   {
    "duration": 8,
    "start_time": "2023-12-02T10:15:52.472Z"
   },
   {
    "duration": 6,
    "start_time": "2023-12-02T10:15:52.671Z"
   },
   {
    "duration": 6,
    "start_time": "2023-12-02T10:15:52.922Z"
   },
   {
    "duration": 4,
    "start_time": "2023-12-02T10:15:53.122Z"
   },
   {
    "duration": 6,
    "start_time": "2023-12-02T10:15:53.338Z"
   },
   {
    "duration": 5,
    "start_time": "2023-12-02T10:15:53.521Z"
   },
   {
    "duration": 6,
    "start_time": "2023-12-02T10:15:53.722Z"
   },
   {
    "duration": 8,
    "start_time": "2023-12-02T10:15:53.923Z"
   },
   {
    "duration": 5,
    "start_time": "2023-12-02T10:15:54.155Z"
   },
   {
    "duration": 5,
    "start_time": "2023-12-02T10:15:54.355Z"
   },
   {
    "duration": 4,
    "start_time": "2023-12-02T10:15:56.074Z"
   },
   {
    "duration": 6,
    "start_time": "2023-12-02T10:15:56.272Z"
   },
   {
    "duration": 143,
    "start_time": "2023-12-02T10:15:56.525Z"
   },
   {
    "duration": 6,
    "start_time": "2023-12-02T10:15:57.155Z"
   },
   {
    "duration": 95,
    "start_time": "2023-12-02T10:15:57.396Z"
   },
   {
    "duration": 320,
    "start_time": "2023-12-02T10:15:58.424Z"
   },
   {
    "duration": 109,
    "start_time": "2023-12-02T10:15:59.146Z"
   },
   {
    "duration": 255,
    "start_time": "2023-12-02T10:16:00.674Z"
   },
   {
    "duration": 8,
    "start_time": "2023-12-02T10:16:02.796Z"
   },
   {
    "duration": 309,
    "start_time": "2023-12-02T10:16:03.008Z"
   },
   {
    "duration": 133,
    "start_time": "2023-12-02T10:16:03.319Z"
   },
   {
    "duration": 8,
    "start_time": "2023-12-02T10:16:03.475Z"
   },
   {
    "duration": 4,
    "start_time": "2023-12-02T10:16:05.178Z"
   },
   {
    "duration": 9,
    "start_time": "2023-12-02T10:16:05.409Z"
   },
   {
    "duration": 10,
    "start_time": "2023-12-02T10:16:05.676Z"
   },
   {
    "duration": 3,
    "start_time": "2023-12-02T10:16:07.861Z"
   },
   {
    "duration": 10,
    "start_time": "2023-12-02T10:16:14.063Z"
   },
   {
    "duration": 12,
    "start_time": "2023-12-02T10:16:14.600Z"
   },
   {
    "duration": 4,
    "start_time": "2023-12-02T10:16:15.098Z"
   },
   {
    "duration": 12,
    "start_time": "2023-12-02T10:16:16.826Z"
   },
   {
    "duration": 7,
    "start_time": "2023-12-02T10:16:28.165Z"
   },
   {
    "duration": 6,
    "start_time": "2023-12-02T10:16:28.517Z"
   },
   {
    "duration": 12,
    "start_time": "2023-12-02T10:16:28.850Z"
   },
   {
    "duration": 12,
    "start_time": "2023-12-02T10:16:29.283Z"
   },
   {
    "duration": 4,
    "start_time": "2023-12-02T10:16:31.217Z"
   },
   {
    "duration": 4,
    "start_time": "2023-12-02T10:16:32.268Z"
   },
   {
    "duration": 85,
    "start_time": "2023-12-02T10:17:30.055Z"
   },
   {
    "duration": 4,
    "start_time": "2023-12-02T10:17:58.926Z"
   },
   {
    "duration": 4,
    "start_time": "2023-12-02T10:17:59.344Z"
   },
   {
    "duration": 247,
    "start_time": "2023-12-02T10:18:00.127Z"
   },
   {
    "duration": 9,
    "start_time": "2023-12-02T10:18:00.514Z"
   },
   {
    "duration": 276,
    "start_time": "2023-12-02T10:18:00.910Z"
   },
   {
    "duration": 8,
    "start_time": "2023-12-02T10:18:01.301Z"
   },
   {
    "duration": 251,
    "start_time": "2023-12-02T10:18:01.644Z"
   },
   {
    "duration": 267,
    "start_time": "2023-12-02T10:18:02.429Z"
   },
   {
    "duration": 8,
    "start_time": "2023-12-02T10:18:02.813Z"
   },
   {
    "duration": 268,
    "start_time": "2023-12-02T10:18:03.377Z"
   },
   {
    "duration": 20,
    "start_time": "2023-12-02T10:18:03.646Z"
   },
   {
    "duration": 327,
    "start_time": "2023-12-02T10:18:03.962Z"
   },
   {
    "duration": 9,
    "start_time": "2023-12-02T10:20:01.848Z"
   },
   {
    "duration": 9,
    "start_time": "2023-12-02T10:20:39.395Z"
   },
   {
    "duration": 58,
    "start_time": "2023-12-02T10:21:31.196Z"
   },
   {
    "duration": 16,
    "start_time": "2023-12-02T10:21:40.146Z"
   },
   {
    "duration": 13,
    "start_time": "2023-12-02T10:22:28.612Z"
   },
   {
    "duration": 3,
    "start_time": "2023-12-02T10:22:43.382Z"
   },
   {
    "duration": 64,
    "start_time": "2023-12-02T10:22:43.949Z"
   },
   {
    "duration": 12,
    "start_time": "2023-12-02T10:22:44.131Z"
   },
   {
    "duration": 8,
    "start_time": "2023-12-02T10:22:44.315Z"
   },
   {
    "duration": 7,
    "start_time": "2023-12-02T10:22:44.500Z"
   },
   {
    "duration": 11,
    "start_time": "2023-12-02T10:22:44.665Z"
   },
   {
    "duration": 12,
    "start_time": "2023-12-02T10:22:44.864Z"
   },
   {
    "duration": 10,
    "start_time": "2023-12-02T10:22:45.052Z"
   },
   {
    "duration": 7,
    "start_time": "2023-12-02T10:22:46.034Z"
   },
   {
    "duration": 6,
    "start_time": "2023-12-02T10:22:46.282Z"
   },
   {
    "duration": 9,
    "start_time": "2023-12-02T10:22:47.920Z"
   },
   {
    "duration": 6,
    "start_time": "2023-12-02T10:22:48.124Z"
   },
   {
    "duration": 6,
    "start_time": "2023-12-02T10:22:48.350Z"
   },
   {
    "duration": 4,
    "start_time": "2023-12-02T10:22:48.550Z"
   },
   {
    "duration": 5,
    "start_time": "2023-12-02T10:22:48.749Z"
   },
   {
    "duration": 5,
    "start_time": "2023-12-02T10:22:48.951Z"
   },
   {
    "duration": 7,
    "start_time": "2023-12-02T10:22:49.166Z"
   },
   {
    "duration": 8,
    "start_time": "2023-12-02T10:22:49.367Z"
   },
   {
    "duration": 6,
    "start_time": "2023-12-02T10:22:49.550Z"
   },
   {
    "duration": 5,
    "start_time": "2023-12-02T10:22:49.763Z"
   },
   {
    "duration": 4,
    "start_time": "2023-12-02T10:22:51.316Z"
   },
   {
    "duration": 6,
    "start_time": "2023-12-02T10:22:51.550Z"
   },
   {
    "duration": 141,
    "start_time": "2023-12-02T10:22:51.717Z"
   },
   {
    "duration": 6,
    "start_time": "2023-12-02T10:22:52.351Z"
   },
   {
    "duration": 90,
    "start_time": "2023-12-02T10:22:52.550Z"
   },
   {
    "duration": 302,
    "start_time": "2023-12-02T10:22:53.202Z"
   },
   {
    "duration": 132,
    "start_time": "2023-12-02T10:22:53.507Z"
   },
   {
    "duration": 273,
    "start_time": "2023-12-02T10:22:54.072Z"
   },
   {
    "duration": 9,
    "start_time": "2023-12-02T10:22:55.152Z"
   },
   {
    "duration": 278,
    "start_time": "2023-12-02T10:22:55.387Z"
   },
   {
    "duration": 250,
    "start_time": "2023-12-02T10:22:55.668Z"
   },
   {
    "duration": 10,
    "start_time": "2023-12-02T10:22:55.920Z"
   },
   {
    "duration": 4,
    "start_time": "2023-12-02T10:22:57.904Z"
   },
   {
    "duration": 9,
    "start_time": "2023-12-02T10:22:58.136Z"
   },
   {
    "duration": 11,
    "start_time": "2023-12-02T10:22:58.703Z"
   },
   {
    "duration": 4,
    "start_time": "2023-12-02T10:22:58.920Z"
   },
   {
    "duration": 10,
    "start_time": "2023-12-02T10:22:59.156Z"
   },
   {
    "duration": 11,
    "start_time": "2023-12-02T10:22:59.370Z"
   },
   {
    "duration": 4,
    "start_time": "2023-12-02T10:22:59.592Z"
   },
   {
    "duration": 11,
    "start_time": "2023-12-02T10:22:59.804Z"
   },
   {
    "duration": 6,
    "start_time": "2023-12-02T10:23:00.470Z"
   },
   {
    "duration": 6,
    "start_time": "2023-12-02T10:23:00.703Z"
   },
   {
    "duration": 13,
    "start_time": "2023-12-02T10:23:00.904Z"
   },
   {
    "duration": 13,
    "start_time": "2023-12-02T10:23:01.103Z"
   },
   {
    "duration": 4,
    "start_time": "2023-12-02T10:23:05.804Z"
   },
   {
    "duration": 4,
    "start_time": "2023-12-02T10:23:06.138Z"
   },
   {
    "duration": 232,
    "start_time": "2023-12-02T10:23:06.939Z"
   },
   {
    "duration": 9,
    "start_time": "2023-12-02T10:23:07.455Z"
   },
   {
    "duration": 286,
    "start_time": "2023-12-02T10:23:08.006Z"
   },
   {
    "duration": 8,
    "start_time": "2023-12-02T10:23:08.539Z"
   },
   {
    "duration": 228,
    "start_time": "2023-12-02T10:23:09.089Z"
   },
   {
    "duration": 254,
    "start_time": "2023-12-02T10:23:10.323Z"
   },
   {
    "duration": 8,
    "start_time": "2023-12-02T10:23:10.890Z"
   },
   {
    "duration": 277,
    "start_time": "2023-12-02T10:23:11.406Z"
   },
   {
    "duration": 9,
    "start_time": "2023-12-02T10:23:11.907Z"
   },
   {
    "duration": 332,
    "start_time": "2023-12-02T10:23:13.110Z"
   },
   {
    "duration": 4,
    "start_time": "2023-12-02T10:23:54.086Z"
   },
   {
    "duration": 13,
    "start_time": "2023-12-02T10:23:54.387Z"
   },
   {
    "duration": 923,
    "start_time": "2023-12-02T10:23:54.803Z"
   },
   {
    "duration": 3,
    "start_time": "2023-12-02T10:23:55.728Z"
   },
   {
    "duration": 11,
    "start_time": "2023-12-02T10:23:55.820Z"
   },
   {
    "duration": 3,
    "start_time": "2023-12-02T10:23:56.138Z"
   },
   {
    "duration": 3,
    "start_time": "2023-12-02T10:25:15.846Z"
   },
   {
    "duration": 18,
    "start_time": "2023-12-02T10:25:22.146Z"
   },
   {
    "duration": 3,
    "start_time": "2023-12-02T10:25:43.871Z"
   },
   {
    "duration": 14,
    "start_time": "2023-12-02T10:25:46.206Z"
   },
   {
    "duration": 3,
    "start_time": "2023-12-02T10:25:57.624Z"
   },
   {
    "duration": 13,
    "start_time": "2023-12-02T10:25:58.180Z"
   },
   {
    "duration": 801,
    "start_time": "2023-12-02T10:25:59.026Z"
   },
   {
    "duration": 3,
    "start_time": "2023-12-02T10:25:59.841Z"
   },
   {
    "duration": 9,
    "start_time": "2023-12-02T10:26:03.877Z"
   },
   {
    "duration": 3,
    "start_time": "2023-12-02T10:26:07.396Z"
   },
   {
    "duration": 18,
    "start_time": "2023-12-02T10:26:11.780Z"
   },
   {
    "duration": 4,
    "start_time": "2023-12-02T10:26:49.741Z"
   },
   {
    "duration": 1155,
    "start_time": "2023-12-02T10:26:52.146Z"
   },
   {
    "duration": 3,
    "start_time": "2023-12-02T10:34:05.476Z"
   },
   {
    "duration": 1196,
    "start_time": "2023-12-02T10:34:42.072Z"
   },
   {
    "duration": 194,
    "start_time": "2023-12-02T10:34:43.270Z"
   },
   {
    "duration": 13,
    "start_time": "2023-12-02T10:34:43.466Z"
   },
   {
    "duration": 16,
    "start_time": "2023-12-02T10:34:43.481Z"
   },
   {
    "duration": 29,
    "start_time": "2023-12-02T10:34:43.498Z"
   },
   {
    "duration": 12,
    "start_time": "2023-12-02T10:34:43.624Z"
   },
   {
    "duration": 11,
    "start_time": "2023-12-02T10:34:43.807Z"
   },
   {
    "duration": 9,
    "start_time": "2023-12-02T10:34:44.012Z"
   },
   {
    "duration": 6,
    "start_time": "2023-12-02T10:34:45.306Z"
   },
   {
    "duration": 6,
    "start_time": "2023-12-02T10:34:45.556Z"
   },
   {
    "duration": 8,
    "start_time": "2023-12-02T10:34:45.756Z"
   },
   {
    "duration": 7,
    "start_time": "2023-12-02T10:34:45.973Z"
   },
   {
    "duration": 8,
    "start_time": "2023-12-02T10:34:46.190Z"
   },
   {
    "duration": 5,
    "start_time": "2023-12-02T10:34:46.414Z"
   },
   {
    "duration": 6,
    "start_time": "2023-12-02T10:34:46.606Z"
   },
   {
    "duration": 5,
    "start_time": "2023-12-02T10:34:46.839Z"
   },
   {
    "duration": 6,
    "start_time": "2023-12-02T10:34:47.039Z"
   },
   {
    "duration": 8,
    "start_time": "2023-12-02T10:34:47.260Z"
   },
   {
    "duration": 5,
    "start_time": "2023-12-02T10:34:47.624Z"
   },
   {
    "duration": 5,
    "start_time": "2023-12-02T10:34:47.805Z"
   },
   {
    "duration": 4,
    "start_time": "2023-12-02T10:34:49.757Z"
   },
   {
    "duration": 6,
    "start_time": "2023-12-02T10:34:49.974Z"
   },
   {
    "duration": 165,
    "start_time": "2023-12-02T10:34:50.232Z"
   },
   {
    "duration": 5,
    "start_time": "2023-12-02T10:34:50.907Z"
   },
   {
    "duration": 114,
    "start_time": "2023-12-02T10:34:51.142Z"
   },
   {
    "duration": 307,
    "start_time": "2023-12-02T10:34:51.826Z"
   },
   {
    "duration": 117,
    "start_time": "2023-12-02T10:34:52.134Z"
   },
   {
    "duration": 259,
    "start_time": "2023-12-02T10:34:52.759Z"
   },
   {
    "duration": 8,
    "start_time": "2023-12-02T10:34:53.676Z"
   },
   {
    "duration": 280,
    "start_time": "2023-12-02T10:34:53.912Z"
   },
   {
    "duration": 216,
    "start_time": "2023-12-02T10:34:54.194Z"
   },
   {
    "duration": 7,
    "start_time": "2023-12-02T10:34:54.412Z"
   },
   {
    "duration": 5,
    "start_time": "2023-12-02T10:34:55.809Z"
   },
   {
    "duration": 10,
    "start_time": "2023-12-02T10:34:56.050Z"
   },
   {
    "duration": 12,
    "start_time": "2023-12-02T10:34:56.298Z"
   },
   {
    "duration": 4,
    "start_time": "2023-12-02T10:34:56.543Z"
   },
   {
    "duration": 10,
    "start_time": "2023-12-02T10:34:56.778Z"
   },
   {
    "duration": 12,
    "start_time": "2023-12-02T10:34:57.026Z"
   },
   {
    "duration": 4,
    "start_time": "2023-12-02T10:34:57.260Z"
   },
   {
    "duration": 11,
    "start_time": "2023-12-02T10:34:57.476Z"
   },
   {
    "duration": 6,
    "start_time": "2023-12-02T10:34:58.232Z"
   },
   {
    "duration": 6,
    "start_time": "2023-12-02T10:34:58.478Z"
   },
   {
    "duration": 12,
    "start_time": "2023-12-02T10:34:58.700Z"
   },
   {
    "duration": 12,
    "start_time": "2023-12-02T10:34:59.166Z"
   },
   {
    "duration": 3,
    "start_time": "2023-12-02T10:34:59.912Z"
   },
   {
    "duration": 3,
    "start_time": "2023-12-02T10:35:00.163Z"
   },
   {
    "duration": 246,
    "start_time": "2023-12-02T10:35:02.180Z"
   },
   {
    "duration": 8,
    "start_time": "2023-12-02T10:35:03.282Z"
   },
   {
    "duration": 284,
    "start_time": "2023-12-02T10:35:03.764Z"
   },
   {
    "duration": 8,
    "start_time": "2023-12-02T10:35:04.265Z"
   },
   {
    "duration": 228,
    "start_time": "2023-12-02T10:35:04.980Z"
   },
   {
    "duration": 244,
    "start_time": "2023-12-02T10:35:06.949Z"
   },
   {
    "duration": 8,
    "start_time": "2023-12-02T10:35:08.285Z"
   },
   {
    "duration": 265,
    "start_time": "2023-12-02T10:35:09.247Z"
   },
   {
    "duration": 8,
    "start_time": "2023-12-02T10:35:09.899Z"
   },
   {
    "duration": 321,
    "start_time": "2023-12-02T10:35:11.665Z"
   },
   {
    "duration": 3,
    "start_time": "2023-12-02T10:35:16.949Z"
   },
   {
    "duration": 11,
    "start_time": "2023-12-02T10:35:17.250Z"
   },
   {
    "duration": 840,
    "start_time": "2023-12-02T10:35:18.552Z"
   },
   {
    "duration": 3,
    "start_time": "2023-12-02T10:35:19.887Z"
   },
   {
    "duration": 9,
    "start_time": "2023-12-02T10:35:20.687Z"
   },
   {
    "duration": 3,
    "start_time": "2023-12-02T10:35:29.706Z"
   },
   {
    "duration": 130,
    "start_time": "2023-12-02T10:35:31.304Z"
   },
   {
    "duration": 18,
    "start_time": "2023-12-02T10:35:32.140Z"
   },
   {
    "duration": 3,
    "start_time": "2023-12-02T10:35:47.243Z"
   },
   {
    "duration": 8,
    "start_time": "2023-12-02T10:36:02.848Z"
   },
   {
    "duration": 40,
    "start_time": "2023-12-02T10:36:06.865Z"
   },
   {
    "duration": 3,
    "start_time": "2023-12-02T10:36:18.287Z"
   },
   {
    "duration": 6,
    "start_time": "2023-12-02T10:36:19.703Z"
   },
   {
    "duration": 3,
    "start_time": "2023-12-02T10:36:24.339Z"
   },
   {
    "duration": 5,
    "start_time": "2023-12-02T10:36:26.337Z"
   },
   {
    "duration": 1089,
    "start_time": "2023-12-02T10:38:44.199Z"
   },
   {
    "duration": 190,
    "start_time": "2023-12-02T10:38:45.290Z"
   },
   {
    "duration": 11,
    "start_time": "2023-12-02T10:38:45.481Z"
   },
   {
    "duration": 8,
    "start_time": "2023-12-02T10:38:45.494Z"
   },
   {
    "duration": 7,
    "start_time": "2023-12-02T10:38:45.504Z"
   },
   {
    "duration": 11,
    "start_time": "2023-12-02T10:38:45.513Z"
   },
   {
    "duration": 10,
    "start_time": "2023-12-02T10:38:45.632Z"
   },
   {
    "duration": 12,
    "start_time": "2023-12-02T10:38:45.813Z"
   },
   {
    "duration": 8,
    "start_time": "2023-12-02T10:38:46.747Z"
   },
   {
    "duration": 5,
    "start_time": "2023-12-02T10:38:46.963Z"
   },
   {
    "duration": 9,
    "start_time": "2023-12-02T10:38:47.130Z"
   },
   {
    "duration": 5,
    "start_time": "2023-12-02T10:38:47.331Z"
   },
   {
    "duration": 6,
    "start_time": "2023-12-02T10:38:47.518Z"
   },
   {
    "duration": 6,
    "start_time": "2023-12-02T10:38:47.717Z"
   },
   {
    "duration": 5,
    "start_time": "2023-12-02T10:38:47.896Z"
   },
   {
    "duration": 4,
    "start_time": "2023-12-02T10:38:48.082Z"
   },
   {
    "duration": 7,
    "start_time": "2023-12-02T10:38:48.432Z"
   },
   {
    "duration": 9,
    "start_time": "2023-12-02T10:38:48.638Z"
   },
   {
    "duration": 5,
    "start_time": "2023-12-02T10:38:48.798Z"
   },
   {
    "duration": 5,
    "start_time": "2023-12-02T10:38:49.015Z"
   },
   {
    "duration": 4,
    "start_time": "2023-12-02T10:38:50.566Z"
   },
   {
    "duration": 5,
    "start_time": "2023-12-02T10:38:50.747Z"
   },
   {
    "duration": 152,
    "start_time": "2023-12-02T10:38:50.948Z"
   },
   {
    "duration": 5,
    "start_time": "2023-12-02T10:38:51.599Z"
   },
   {
    "duration": 91,
    "start_time": "2023-12-02T10:38:51.782Z"
   },
   {
    "duration": 309,
    "start_time": "2023-12-02T10:38:52.398Z"
   },
   {
    "duration": 122,
    "start_time": "2023-12-02T10:38:52.709Z"
   },
   {
    "duration": 276,
    "start_time": "2023-12-02T10:38:53.194Z"
   },
   {
    "duration": 9,
    "start_time": "2023-12-02T10:38:54.032Z"
   },
   {
    "duration": 267,
    "start_time": "2023-12-02T10:38:54.418Z"
   },
   {
    "duration": 217,
    "start_time": "2023-12-02T10:38:54.687Z"
   },
   {
    "duration": 9,
    "start_time": "2023-12-02T10:38:54.906Z"
   },
   {
    "duration": 4,
    "start_time": "2023-12-02T10:38:56.685Z"
   },
   {
    "duration": 14,
    "start_time": "2023-12-02T10:38:56.900Z"
   },
   {
    "duration": 11,
    "start_time": "2023-12-02T10:38:57.100Z"
   },
   {
    "duration": 4,
    "start_time": "2023-12-02T10:38:57.299Z"
   },
   {
    "duration": 10,
    "start_time": "2023-12-02T10:38:57.482Z"
   },
   {
    "duration": 11,
    "start_time": "2023-12-02T10:38:57.683Z"
   },
   {
    "duration": 4,
    "start_time": "2023-12-02T10:38:57.899Z"
   },
   {
    "duration": 12,
    "start_time": "2023-12-02T10:38:58.116Z"
   },
   {
    "duration": 7,
    "start_time": "2023-12-02T10:38:58.751Z"
   },
   {
    "duration": 6,
    "start_time": "2023-12-02T10:38:58.989Z"
   },
   {
    "duration": 11,
    "start_time": "2023-12-02T10:38:59.259Z"
   },
   {
    "duration": 12,
    "start_time": "2023-12-02T10:38:59.704Z"
   },
   {
    "duration": 4,
    "start_time": "2023-12-02T10:39:00.868Z"
   },
   {
    "duration": 4,
    "start_time": "2023-12-02T10:39:01.084Z"
   },
   {
    "duration": 247,
    "start_time": "2023-12-02T10:39:01.568Z"
   },
   {
    "duration": 8,
    "start_time": "2023-12-02T10:39:01.818Z"
   },
   {
    "duration": 280,
    "start_time": "2023-12-02T10:39:02.037Z"
   },
   {
    "duration": 9,
    "start_time": "2023-12-02T10:39:02.319Z"
   },
   {
    "duration": 224,
    "start_time": "2023-12-02T10:39:02.517Z"
   },
   {
    "duration": 286,
    "start_time": "2023-12-02T10:39:03.254Z"
   },
   {
    "duration": 8,
    "start_time": "2023-12-02T10:39:03.620Z"
   },
   {
    "duration": 271,
    "start_time": "2023-12-02T10:39:04.304Z"
   },
   {
    "duration": 9,
    "start_time": "2023-12-02T10:39:04.852Z"
   },
   {
    "duration": 345,
    "start_time": "2023-12-02T10:39:05.720Z"
   },
   {
    "duration": 4,
    "start_time": "2023-12-02T10:39:10.670Z"
   },
   {
    "duration": 11,
    "start_time": "2023-12-02T10:39:11.104Z"
   },
   {
    "duration": 808,
    "start_time": "2023-12-02T10:39:11.576Z"
   },
   {
    "duration": 4,
    "start_time": "2023-12-02T10:39:12.907Z"
   },
   {
    "duration": 9,
    "start_time": "2023-12-02T10:39:13.390Z"
   },
   {
    "duration": 4,
    "start_time": "2023-12-02T10:39:18.176Z"
   },
   {
    "duration": 128,
    "start_time": "2023-12-02T10:39:19.590Z"
   },
   {
    "duration": 18,
    "start_time": "2023-12-02T10:39:24.309Z"
   },
   {
    "duration": 3,
    "start_time": "2023-12-02T10:39:42.615Z"
   },
   {
    "duration": 130,
    "start_time": "2023-12-02T10:39:43.517Z"
   },
   {
    "duration": 16,
    "start_time": "2023-12-02T10:39:43.949Z"
   },
   {
    "duration": 2,
    "start_time": "2023-12-02T10:39:51.869Z"
   },
   {
    "duration": 6,
    "start_time": "2023-12-02T10:39:52.836Z"
   },
   {
    "duration": 3,
    "start_time": "2023-12-02T10:39:55.238Z"
   },
   {
    "duration": 5,
    "start_time": "2023-12-02T10:39:56.118Z"
   },
   {
    "duration": 5,
    "start_time": "2023-12-02T10:41:43.169Z"
   },
   {
    "duration": 87,
    "start_time": "2023-12-02T10:49:03.241Z"
   },
   {
    "duration": 3,
    "start_time": "2023-12-02T11:10:29.173Z"
   },
   {
    "duration": 67,
    "start_time": "2023-12-02T11:10:30.722Z"
   },
   {
    "duration": 8,
    "start_time": "2023-12-02T11:10:31.323Z"
   },
   {
    "duration": 8,
    "start_time": "2023-12-02T11:10:31.706Z"
   },
   {
    "duration": 7,
    "start_time": "2023-12-02T11:10:32.073Z"
   },
   {
    "duration": 10,
    "start_time": "2023-12-02T11:10:32.424Z"
   },
   {
    "duration": 11,
    "start_time": "2023-12-02T11:10:32.778Z"
   },
   {
    "duration": 10,
    "start_time": "2023-12-02T11:10:32.991Z"
   },
   {
    "duration": 7,
    "start_time": "2023-12-02T11:10:48.463Z"
   },
   {
    "duration": 5,
    "start_time": "2023-12-02T11:10:48.978Z"
   },
   {
    "duration": 10,
    "start_time": "2023-12-02T11:10:49.728Z"
   },
   {
    "duration": 6,
    "start_time": "2023-12-02T11:10:50.179Z"
   },
   {
    "duration": 6,
    "start_time": "2023-12-02T11:10:50.662Z"
   },
   {
    "duration": 5,
    "start_time": "2023-12-02T11:10:51.077Z"
   },
   {
    "duration": 5,
    "start_time": "2023-12-02T11:10:51.494Z"
   },
   {
    "duration": 4,
    "start_time": "2023-12-02T11:10:51.813Z"
   },
   {
    "duration": 6,
    "start_time": "2023-12-02T11:10:52.195Z"
   },
   {
    "duration": 7,
    "start_time": "2023-12-02T11:10:52.512Z"
   },
   {
    "duration": 7,
    "start_time": "2023-12-02T11:10:52.843Z"
   },
   {
    "duration": 5,
    "start_time": "2023-12-02T11:10:53.095Z"
   },
   {
    "duration": 4,
    "start_time": "2023-12-02T11:11:11.469Z"
   },
   {
    "duration": 5,
    "start_time": "2023-12-02T11:11:12.052Z"
   },
   {
    "duration": 160,
    "start_time": "2023-12-02T11:11:12.851Z"
   },
   {
    "duration": 6,
    "start_time": "2023-12-02T11:11:32.824Z"
   },
   {
    "duration": 96,
    "start_time": "2023-12-02T11:11:34.442Z"
   },
   {
    "duration": 338,
    "start_time": "2023-12-02T11:11:41.497Z"
   },
   {
    "duration": 130,
    "start_time": "2023-12-02T11:11:42.360Z"
   },
   {
    "duration": 259,
    "start_time": "2023-12-02T11:11:49.746Z"
   },
   {
    "duration": 8,
    "start_time": "2023-12-02T11:12:02.050Z"
   },
   {
    "duration": 274,
    "start_time": "2023-12-02T11:12:02.705Z"
   },
   {
    "duration": 236,
    "start_time": "2023-12-02T11:12:05.453Z"
   },
   {
    "duration": 11,
    "start_time": "2023-12-02T11:12:05.918Z"
   },
   {
    "duration": 3,
    "start_time": "2023-12-02T11:12:21.823Z"
   },
   {
    "duration": 9,
    "start_time": "2023-12-02T11:12:22.490Z"
   },
   {
    "duration": 11,
    "start_time": "2023-12-02T11:12:24.007Z"
   },
   {
    "duration": 4,
    "start_time": "2023-12-02T11:12:24.458Z"
   },
   {
    "duration": 9,
    "start_time": "2023-12-02T11:12:25.008Z"
   },
   {
    "duration": 11,
    "start_time": "2023-12-02T11:12:25.475Z"
   },
   {
    "duration": 5,
    "start_time": "2023-12-02T11:12:25.928Z"
   },
   {
    "duration": 11,
    "start_time": "2023-12-02T11:12:26.444Z"
   },
   {
    "duration": 6,
    "start_time": "2023-12-02T11:12:27.926Z"
   },
   {
    "duration": 5,
    "start_time": "2023-12-02T11:12:28.375Z"
   },
   {
    "duration": 12,
    "start_time": "2023-12-02T11:12:28.777Z"
   },
   {
    "duration": 12,
    "start_time": "2023-12-02T11:12:29.360Z"
   },
   {
    "duration": 4,
    "start_time": "2023-12-02T11:12:30.743Z"
   },
   {
    "duration": 4,
    "start_time": "2023-12-02T11:12:31.643Z"
   },
   {
    "duration": 236,
    "start_time": "2023-12-02T11:12:45.546Z"
   },
   {
    "duration": 9,
    "start_time": "2023-12-02T11:12:46.414Z"
   },
   {
    "duration": 266,
    "start_time": "2023-12-02T11:12:46.982Z"
   },
   {
    "duration": 8,
    "start_time": "2023-12-02T11:12:47.434Z"
   },
   {
    "duration": 234,
    "start_time": "2023-12-02T11:12:47.848Z"
   },
   {
    "duration": 264,
    "start_time": "2023-12-02T11:12:48.915Z"
   },
   {
    "duration": 8,
    "start_time": "2023-12-02T11:12:49.348Z"
   },
   {
    "duration": 258,
    "start_time": "2023-12-02T11:12:50.117Z"
   },
   {
    "duration": 8,
    "start_time": "2023-12-02T11:12:51.100Z"
   },
   {
    "duration": 317,
    "start_time": "2023-12-02T11:12:55.035Z"
   },
   {
    "duration": 3,
    "start_time": "2023-12-02T11:13:03.653Z"
   },
   {
    "duration": 11,
    "start_time": "2023-12-02T11:13:04.042Z"
   },
   {
    "duration": 836,
    "start_time": "2023-12-02T11:13:04.406Z"
   },
   {
    "duration": 3,
    "start_time": "2023-12-02T11:13:05.244Z"
   },
   {
    "duration": 9,
    "start_time": "2023-12-02T11:13:05.355Z"
   },
   {
    "duration": 3,
    "start_time": "2023-12-02T11:13:05.639Z"
   },
   {
    "duration": 134,
    "start_time": "2023-12-02T11:13:06.172Z"
   },
   {
    "duration": 17,
    "start_time": "2023-12-02T11:13:06.491Z"
   },
   {
    "duration": 3,
    "start_time": "2023-12-02T11:13:09.204Z"
   },
   {
    "duration": 6,
    "start_time": "2023-12-02T11:13:09.438Z"
   },
   {
    "duration": 2,
    "start_time": "2023-12-02T11:13:11.090Z"
   },
   {
    "duration": 5,
    "start_time": "2023-12-02T11:13:11.507Z"
   },
   {
    "duration": 7,
    "start_time": "2023-12-02T11:13:15.092Z"
   },
   {
    "duration": 5,
    "start_time": "2023-12-02T11:13:15.374Z"
   },
   {
    "duration": 1203,
    "start_time": "2023-12-02T22:25:44.798Z"
   },
   {
    "duration": 185,
    "start_time": "2023-12-02T22:25:46.003Z"
   },
   {
    "duration": 12,
    "start_time": "2023-12-02T22:25:48.010Z"
   },
   {
    "duration": 11,
    "start_time": "2023-12-02T22:25:48.024Z"
   },
   {
    "duration": 8,
    "start_time": "2023-12-02T22:25:48.091Z"
   },
   {
    "duration": 23,
    "start_time": "2023-12-02T22:25:48.101Z"
   },
   {
    "duration": 13,
    "start_time": "2023-12-02T22:25:48.126Z"
   },
   {
    "duration": 9,
    "start_time": "2023-12-02T22:25:48.141Z"
   },
   {
    "duration": 7,
    "start_time": "2023-12-02T22:25:48.151Z"
   },
   {
    "duration": 4,
    "start_time": "2023-12-02T22:25:48.172Z"
   },
   {
    "duration": 9,
    "start_time": "2023-12-02T22:25:48.178Z"
   },
   {
    "duration": 6,
    "start_time": "2023-12-02T22:25:48.188Z"
   },
   {
    "duration": 5,
    "start_time": "2023-12-02T22:25:48.195Z"
   },
   {
    "duration": 10,
    "start_time": "2023-12-02T22:25:48.202Z"
   },
   {
    "duration": 14,
    "start_time": "2023-12-02T22:25:48.213Z"
   },
   {
    "duration": 14,
    "start_time": "2023-12-02T22:25:48.229Z"
   },
   {
    "duration": 25,
    "start_time": "2023-12-02T22:25:48.244Z"
   },
   {
    "duration": 18,
    "start_time": "2023-12-02T22:25:48.270Z"
   },
   {
    "duration": 5,
    "start_time": "2023-12-02T22:25:48.289Z"
   },
   {
    "duration": 5,
    "start_time": "2023-12-02T22:25:48.296Z"
   },
   {
    "duration": 8,
    "start_time": "2023-12-02T22:25:48.302Z"
   },
   {
    "duration": 5,
    "start_time": "2023-12-02T22:25:48.311Z"
   },
   {
    "duration": 166,
    "start_time": "2023-12-02T22:25:48.317Z"
   },
   {
    "duration": 5,
    "start_time": "2023-12-02T22:25:48.485Z"
   },
   {
    "duration": 97,
    "start_time": "2023-12-02T22:25:48.491Z"
   },
   {
    "duration": 314,
    "start_time": "2023-12-02T22:25:48.590Z"
   },
   {
    "duration": 111,
    "start_time": "2023-12-02T22:25:48.906Z"
   },
   {
    "duration": 279,
    "start_time": "2023-12-02T22:25:49.018Z"
   },
   {
    "duration": 8,
    "start_time": "2023-12-02T22:25:49.298Z"
   },
   {
    "duration": 245,
    "start_time": "2023-12-02T22:25:49.307Z"
   },
   {
    "duration": 188,
    "start_time": "2023-12-02T22:25:49.553Z"
   },
   {
    "duration": 14,
    "start_time": "2023-12-02T22:25:49.742Z"
   },
   {
    "duration": 3,
    "start_time": "2023-12-02T22:25:49.758Z"
   },
   {
    "duration": 9,
    "start_time": "2023-12-02T22:25:49.764Z"
   },
   {
    "duration": 21,
    "start_time": "2023-12-02T22:25:49.775Z"
   },
   {
    "duration": 5,
    "start_time": "2023-12-02T22:25:49.797Z"
   },
   {
    "duration": 10,
    "start_time": "2023-12-02T22:25:49.803Z"
   },
   {
    "duration": 12,
    "start_time": "2023-12-02T22:25:49.814Z"
   },
   {
    "duration": 25,
    "start_time": "2023-12-02T22:25:49.827Z"
   },
   {
    "duration": 10,
    "start_time": "2023-12-02T22:25:49.854Z"
   },
   {
    "duration": 7,
    "start_time": "2023-12-02T22:25:49.866Z"
   },
   {
    "duration": 5,
    "start_time": "2023-12-02T22:25:49.874Z"
   },
   {
    "duration": 12,
    "start_time": "2023-12-02T22:25:49.881Z"
   },
   {
    "duration": 10,
    "start_time": "2023-12-02T22:25:49.895Z"
   },
   {
    "duration": 4,
    "start_time": "2023-12-02T22:25:49.907Z"
   },
   {
    "duration": 41,
    "start_time": "2023-12-02T22:25:49.912Z"
   },
   {
    "duration": 230,
    "start_time": "2023-12-02T22:25:49.954Z"
   },
   {
    "duration": 9,
    "start_time": "2023-12-02T22:25:50.186Z"
   },
   {
    "duration": 279,
    "start_time": "2023-12-02T22:25:50.196Z"
   },
   {
    "duration": 8,
    "start_time": "2023-12-02T22:25:50.477Z"
   },
   {
    "duration": 228,
    "start_time": "2023-12-02T22:25:50.486Z"
   },
   {
    "duration": 245,
    "start_time": "2023-12-02T22:25:50.716Z"
   },
   {
    "duration": 7,
    "start_time": "2023-12-02T22:25:50.963Z"
   },
   {
    "duration": 267,
    "start_time": "2023-12-02T22:25:50.971Z"
   },
   {
    "duration": 14,
    "start_time": "2023-12-02T22:25:51.240Z"
   },
   {
    "duration": 309,
    "start_time": "2023-12-02T22:25:51.255Z"
   },
   {
    "duration": 4,
    "start_time": "2023-12-02T22:25:51.566Z"
   },
   {
    "duration": 14,
    "start_time": "2023-12-02T22:25:51.571Z"
   },
   {
    "duration": 830,
    "start_time": "2023-12-02T22:25:51.586Z"
   },
   {
    "duration": 3,
    "start_time": "2023-12-02T22:25:52.418Z"
   },
   {
    "duration": 13,
    "start_time": "2023-12-02T22:25:52.422Z"
   },
   {
    "duration": 5,
    "start_time": "2023-12-02T22:25:52.436Z"
   },
   {
    "duration": 126,
    "start_time": "2023-12-02T22:25:52.442Z"
   },
   {
    "duration": 16,
    "start_time": "2023-12-02T22:25:52.570Z"
   },
   {
    "duration": 3,
    "start_time": "2023-12-02T22:25:52.587Z"
   },
   {
    "duration": 5,
    "start_time": "2023-12-02T22:25:52.591Z"
   },
   {
    "duration": 4,
    "start_time": "2023-12-02T22:25:52.598Z"
   },
   {
    "duration": 6,
    "start_time": "2023-12-02T22:25:52.604Z"
   },
   {
    "duration": 44,
    "start_time": "2023-12-02T22:25:52.611Z"
   },
   {
    "duration": 5,
    "start_time": "2023-12-02T22:25:52.656Z"
   },
   {
    "duration": 42,
    "start_time": "2024-05-09T16:52:54.331Z"
   },
   {
    "duration": 1228,
    "start_time": "2024-05-09T16:52:58.891Z"
   },
   {
    "duration": 207,
    "start_time": "2024-05-09T16:53:00.121Z"
   },
   {
    "duration": 12,
    "start_time": "2024-05-09T16:53:02.799Z"
   },
   {
    "duration": 7,
    "start_time": "2024-05-09T16:53:04.142Z"
   },
   {
    "duration": 6,
    "start_time": "2024-05-09T16:53:06.142Z"
   },
   {
    "duration": 13,
    "start_time": "2024-05-09T16:53:15.412Z"
   },
   {
    "duration": 11,
    "start_time": "2024-05-09T16:53:16.113Z"
   },
   {
    "duration": 9,
    "start_time": "2024-05-09T16:53:16.479Z"
   },
   {
    "duration": 9,
    "start_time": "2024-05-09T16:53:39.703Z"
   },
   {
    "duration": 3,
    "start_time": "2024-05-09T16:53:46.871Z"
   },
   {
    "duration": 9,
    "start_time": "2024-05-09T16:53:51.507Z"
   },
   {
    "duration": 5,
    "start_time": "2024-05-09T16:53:56.891Z"
   },
   {
    "duration": 5,
    "start_time": "2024-05-09T16:54:02.828Z"
   },
   {
    "duration": 4,
    "start_time": "2024-05-09T16:54:03.844Z"
   },
   {
    "duration": 4,
    "start_time": "2024-05-09T16:54:04.827Z"
   },
   {
    "duration": 4,
    "start_time": "2024-05-09T16:54:07.277Z"
   },
   {
    "duration": 5,
    "start_time": "2024-05-09T16:54:08.545Z"
   },
   {
    "duration": 6,
    "start_time": "2024-05-09T16:54:12.665Z"
   },
   {
    "duration": 4,
    "start_time": "2024-05-09T16:54:13.150Z"
   },
   {
    "duration": 4,
    "start_time": "2024-05-09T16:54:14.349Z"
   },
   {
    "duration": 4,
    "start_time": "2024-05-09T16:55:52.128Z"
   },
   {
    "duration": 5,
    "start_time": "2024-05-09T16:56:00.070Z"
   },
   {
    "duration": 8,
    "start_time": "2024-05-09T16:56:50.513Z"
   },
   {
    "duration": 8,
    "start_time": "2024-05-09T16:57:26.231Z"
   },
   {
    "duration": 8,
    "start_time": "2024-05-09T16:57:32.110Z"
   },
   {
    "duration": 5,
    "start_time": "2024-05-09T16:57:35.177Z"
   },
   {
    "duration": 4,
    "start_time": "2024-05-09T16:57:35.893Z"
   },
   {
    "duration": 4,
    "start_time": "2024-05-09T16:57:39.029Z"
   },
   {
    "duration": 4,
    "start_time": "2024-05-09T16:57:39.332Z"
   },
   {
    "duration": 6,
    "start_time": "2024-05-09T16:57:39.579Z"
   },
   {
    "duration": 7,
    "start_time": "2024-05-09T16:57:39.929Z"
   },
   {
    "duration": 6,
    "start_time": "2024-05-09T16:57:41.096Z"
   },
   {
    "duration": 4,
    "start_time": "2024-05-09T16:57:42.046Z"
   },
   {
    "duration": 3,
    "start_time": "2024-05-09T16:58:41.037Z"
   },
   {
    "duration": 158,
    "start_time": "2024-05-09T16:59:14.606Z"
   },
   {
    "duration": 126,
    "start_time": "2024-05-09T16:59:28.250Z"
   },
   {
    "duration": 125,
    "start_time": "2024-05-09T16:59:51.169Z"
   },
   {
    "duration": 146,
    "start_time": "2024-05-09T16:59:57.570Z"
   },
   {
    "duration": 88,
    "start_time": "2024-05-09T17:00:22.443Z"
   },
   {
    "duration": 286,
    "start_time": "2024-05-09T17:00:55.354Z"
   },
   {
    "duration": 298,
    "start_time": "2024-05-09T17:01:49.255Z"
   },
   {
    "duration": 302,
    "start_time": "2024-05-09T17:01:59.823Z"
   },
   {
    "duration": 302,
    "start_time": "2024-05-09T17:02:08.245Z"
   },
   {
    "duration": 10,
    "start_time": "2024-05-09T17:02:39.003Z"
   },
   {
    "duration": 279,
    "start_time": "2024-05-09T17:02:48.257Z"
   },
   {
    "duration": 120,
    "start_time": "2024-05-09T17:02:57.250Z"
   },
   {
    "duration": 9,
    "start_time": "2024-05-09T17:03:02.175Z"
   },
   {
    "duration": 5,
    "start_time": "2024-05-09T17:03:30.424Z"
   },
   {
    "duration": 9,
    "start_time": "2024-05-09T17:03:41.554Z"
   },
   {
    "duration": 9,
    "start_time": "2024-05-09T17:03:42.128Z"
   },
   {
    "duration": 3,
    "start_time": "2024-05-09T17:03:49.577Z"
   },
   {
    "duration": 9,
    "start_time": "2024-05-09T17:03:50.224Z"
   },
   {
    "duration": 10,
    "start_time": "2024-05-09T17:03:51.359Z"
   },
   {
    "duration": 3,
    "start_time": "2024-05-09T17:04:04.029Z"
   },
   {
    "duration": 9,
    "start_time": "2024-05-09T17:04:04.528Z"
   },
   {
    "duration": 7,
    "start_time": "2024-05-09T17:04:31.022Z"
   },
   {
    "duration": 5,
    "start_time": "2024-05-09T17:04:31.403Z"
   },
   {
    "duration": 10,
    "start_time": "2024-05-09T17:04:31.737Z"
   },
   {
    "duration": 9,
    "start_time": "2024-05-09T17:04:33.072Z"
   },
   {
    "duration": 5,
    "start_time": "2024-05-09T17:05:09.516Z"
   },
   {
    "duration": 5,
    "start_time": "2024-05-09T17:05:10.516Z"
   },
   {
    "duration": 275,
    "start_time": "2024-05-09T17:05:36.932Z"
   },
   {
    "duration": 8,
    "start_time": "2024-05-09T17:05:40.345Z"
   },
   {
    "duration": 235,
    "start_time": "2024-05-09T17:05:42.192Z"
   },
   {
    "duration": 183,
    "start_time": "2024-05-09T17:06:02.433Z"
   },
   {
    "duration": 279,
    "start_time": "2024-05-09T17:06:08.684Z"
   },
   {
    "duration": 268,
    "start_time": "2024-05-09T17:06:16.069Z"
   },
   {
    "duration": 273,
    "start_time": "2024-05-09T17:06:39.762Z"
   },
   {
    "duration": 302,
    "start_time": "2024-05-09T17:06:54.132Z"
   },
   {
    "duration": 8,
    "start_time": "2024-05-09T17:07:02.700Z"
   },
   {
    "duration": 230,
    "start_time": "2024-05-09T17:07:03.736Z"
   },
   {
    "duration": 330,
    "start_time": "2024-05-09T17:10:20.430Z"
   },
   {
    "duration": 390,
    "start_time": "2024-05-09T17:11:37.521Z"
   },
   {
    "duration": 353,
    "start_time": "2024-05-09T17:13:03.129Z"
   },
   {
    "duration": 332,
    "start_time": "2024-05-09T17:13:58.030Z"
   },
   {
    "duration": 332,
    "start_time": "2024-05-09T17:15:48.015Z"
   },
   {
    "duration": 342,
    "start_time": "2024-05-09T17:16:49.884Z"
   },
   {
    "duration": 409,
    "start_time": "2024-05-09T17:19:00.973Z"
   },
   {
    "duration": 347,
    "start_time": "2024-05-09T17:19:32.284Z"
   },
   {
    "duration": 72,
    "start_time": "2024-05-09T17:20:19.362Z"
   },
   {
    "duration": 320,
    "start_time": "2024-05-09T17:20:25.517Z"
   },
   {
    "duration": 131,
    "start_time": "2024-05-09T17:20:36.003Z"
   },
   {
    "duration": 329,
    "start_time": "2024-05-09T17:20:54.743Z"
   },
   {
    "duration": 3,
    "start_time": "2024-05-09T17:24:09.522Z"
   },
   {
    "duration": 10,
    "start_time": "2024-05-09T17:24:10.594Z"
   },
   {
    "duration": 863,
    "start_time": "2024-05-09T17:24:28.411Z"
   },
   {
    "duration": 4,
    "start_time": "2024-05-09T17:24:29.275Z"
   },
   {
    "duration": 8,
    "start_time": "2024-05-09T17:24:43.381Z"
   },
   {
    "duration": 4,
    "start_time": "2024-05-09T17:24:44.882Z"
   },
   {
    "duration": 3,
    "start_time": "2024-05-09T17:28:26.219Z"
   },
   {
    "duration": 5,
    "start_time": "2024-05-09T17:28:26.667Z"
   },
   {
    "duration": 3,
    "start_time": "2024-05-09T17:28:41.205Z"
   },
   {
    "duration": 4,
    "start_time": "2024-05-09T17:28:42.763Z"
   },
   {
    "duration": 586,
    "start_time": "2024-05-09T17:29:32.270Z"
   },
   {
    "duration": 0,
    "start_time": "2024-05-09T17:29:32.858Z"
   },
   {
    "duration": 3,
    "start_time": "2024-05-09T17:30:37.225Z"
   },
   {
    "duration": 4,
    "start_time": "2024-05-09T17:30:37.959Z"
   },
   {
    "duration": 3,
    "start_time": "2024-05-09T17:30:39.525Z"
   },
   {
    "duration": 5,
    "start_time": "2024-05-09T17:30:39.792Z"
   },
   {
    "duration": 613,
    "start_time": "2024-05-09T17:30:42.443Z"
   },
   {
    "duration": 7,
    "start_time": "2024-05-09T17:30:47.752Z"
   },
   {
    "duration": 3,
    "start_time": "2024-05-09T17:31:44.229Z"
   },
   {
    "duration": 128,
    "start_time": "2024-05-09T17:31:44.931Z"
   },
   {
    "duration": 13,
    "start_time": "2024-05-09T17:31:46.035Z"
   },
   {
    "duration": 2,
    "start_time": "2024-05-09T17:31:47.928Z"
   },
   {
    "duration": 4,
    "start_time": "2024-05-09T17:31:48.129Z"
   },
   {
    "duration": 3,
    "start_time": "2024-05-09T17:31:48.996Z"
   },
   {
    "duration": 4,
    "start_time": "2024-05-09T17:31:49.196Z"
   },
   {
    "duration": 7,
    "start_time": "2024-05-09T17:31:50.156Z"
   },
   {
    "duration": 4,
    "start_time": "2024-05-09T17:31:57.965Z"
   },
   {
    "duration": 1057,
    "start_time": "2024-05-09T17:40:14.180Z"
   },
   {
    "duration": 65,
    "start_time": "2024-05-09T17:40:15.238Z"
   },
   {
    "duration": 11,
    "start_time": "2024-05-09T17:40:15.304Z"
   },
   {
    "duration": 38,
    "start_time": "2024-05-09T17:40:15.318Z"
   },
   {
    "duration": 12,
    "start_time": "2024-05-09T17:40:15.357Z"
   },
   {
    "duration": 29,
    "start_time": "2024-05-09T17:40:15.370Z"
   },
   {
    "duration": 9,
    "start_time": "2024-05-09T17:40:15.400Z"
   },
   {
    "duration": 18,
    "start_time": "2024-05-09T17:40:15.411Z"
   },
   {
    "duration": 7,
    "start_time": "2024-05-09T17:40:15.430Z"
   },
   {
    "duration": 6,
    "start_time": "2024-05-09T17:40:15.439Z"
   },
   {
    "duration": 18,
    "start_time": "2024-05-09T17:40:15.446Z"
   },
   {
    "duration": 12,
    "start_time": "2024-05-09T17:40:15.465Z"
   },
   {
    "duration": 15,
    "start_time": "2024-05-09T17:40:15.478Z"
   },
   {
    "duration": 6,
    "start_time": "2024-05-09T17:40:15.494Z"
   },
   {
    "duration": 13,
    "start_time": "2024-05-09T17:40:15.501Z"
   },
   {
    "duration": 6,
    "start_time": "2024-05-09T17:40:15.515Z"
   },
   {
    "duration": 6,
    "start_time": "2024-05-09T17:40:15.522Z"
   },
   {
    "duration": 6,
    "start_time": "2024-05-09T17:40:15.529Z"
   },
   {
    "duration": 8,
    "start_time": "2024-05-09T17:40:15.535Z"
   },
   {
    "duration": 6,
    "start_time": "2024-05-09T17:40:15.544Z"
   },
   {
    "duration": 7,
    "start_time": "2024-05-09T17:40:15.552Z"
   },
   {
    "duration": 7,
    "start_time": "2024-05-09T17:40:15.560Z"
   },
   {
    "duration": 13,
    "start_time": "2024-05-09T17:40:15.568Z"
   },
   {
    "duration": 153,
    "start_time": "2024-05-09T17:40:15.582Z"
   },
   {
    "duration": 5,
    "start_time": "2024-05-09T17:40:15.736Z"
   },
   {
    "duration": 92,
    "start_time": "2024-05-09T17:40:15.742Z"
   },
   {
    "duration": 317,
    "start_time": "2024-05-09T17:40:15.835Z"
   },
   {
    "duration": 112,
    "start_time": "2024-05-09T17:40:16.155Z"
   },
   {
    "duration": 290,
    "start_time": "2024-05-09T17:40:16.268Z"
   },
   {
    "duration": 7,
    "start_time": "2024-05-09T17:40:16.560Z"
   },
   {
    "duration": 277,
    "start_time": "2024-05-09T17:40:16.569Z"
   },
   {
    "duration": 171,
    "start_time": "2024-05-09T17:40:16.847Z"
   },
   {
    "duration": 8,
    "start_time": "2024-05-09T17:40:17.020Z"
   },
   {
    "duration": 3,
    "start_time": "2024-05-09T17:40:17.029Z"
   },
   {
    "duration": 9,
    "start_time": "2024-05-09T17:40:17.033Z"
   },
   {
    "duration": 9,
    "start_time": "2024-05-09T17:40:17.043Z"
   },
   {
    "duration": 3,
    "start_time": "2024-05-09T17:40:17.053Z"
   },
   {
    "duration": 12,
    "start_time": "2024-05-09T17:40:17.057Z"
   },
   {
    "duration": 32,
    "start_time": "2024-05-09T17:40:17.070Z"
   },
   {
    "duration": 3,
    "start_time": "2024-05-09T17:40:17.103Z"
   },
   {
    "duration": 10,
    "start_time": "2024-05-09T17:40:17.108Z"
   },
   {
    "duration": 6,
    "start_time": "2024-05-09T17:40:17.121Z"
   },
   {
    "duration": 5,
    "start_time": "2024-05-09T17:40:17.128Z"
   },
   {
    "duration": 9,
    "start_time": "2024-05-09T17:40:17.134Z"
   },
   {
    "duration": 9,
    "start_time": "2024-05-09T17:40:17.144Z"
   },
   {
    "duration": 4,
    "start_time": "2024-05-09T17:40:17.154Z"
   },
   {
    "duration": 42,
    "start_time": "2024-05-09T17:40:17.160Z"
   },
   {
    "duration": 11,
    "start_time": "2024-05-09T17:40:17.205Z"
   },
   {
    "duration": 20,
    "start_time": "2024-05-09T17:40:17.218Z"
   },
   {
    "duration": 365,
    "start_time": "2024-05-09T17:40:17.240Z"
   },
   {
    "duration": 8,
    "start_time": "2024-05-09T17:40:17.606Z"
   },
   {
    "duration": 8,
    "start_time": "2024-05-09T17:40:17.616Z"
   },
   {
    "duration": 349,
    "start_time": "2024-05-09T17:40:17.625Z"
   },
   {
    "duration": 333,
    "start_time": "2024-05-09T17:40:17.976Z"
   },
   {
    "duration": 4,
    "start_time": "2024-05-09T17:40:18.310Z"
   },
   {
    "duration": 14,
    "start_time": "2024-05-09T17:40:18.315Z"
   },
   {
    "duration": 844,
    "start_time": "2024-05-09T17:40:18.330Z"
   },
   {
    "duration": 4,
    "start_time": "2024-05-09T17:40:19.175Z"
   },
   {
    "duration": 14,
    "start_time": "2024-05-09T17:40:19.180Z"
   },
   {
    "duration": 4,
    "start_time": "2024-05-09T17:40:19.201Z"
   },
   {
    "duration": 143,
    "start_time": "2024-05-09T17:40:19.206Z"
   },
   {
    "duration": 14,
    "start_time": "2024-05-09T17:40:19.350Z"
   },
   {
    "duration": 32,
    "start_time": "2024-05-09T17:40:19.365Z"
   },
   {
    "duration": 24,
    "start_time": "2024-05-09T17:40:19.398Z"
   },
   {
    "duration": 14,
    "start_time": "2024-05-09T17:40:19.425Z"
   },
   {
    "duration": 10,
    "start_time": "2024-05-09T17:40:19.440Z"
   },
   {
    "duration": 30,
    "start_time": "2024-05-09T17:40:19.451Z"
   },
   {
    "duration": 7,
    "start_time": "2024-05-09T17:40:19.483Z"
   },
   {
    "duration": 931,
    "start_time": "2024-05-09T18:34:24.074Z"
   },
   {
    "duration": 111,
    "start_time": "2024-05-09T18:34:25.006Z"
   },
   {
    "duration": 11,
    "start_time": "2024-05-09T18:34:25.119Z"
   },
   {
    "duration": 21,
    "start_time": "2024-05-09T18:34:25.132Z"
   },
   {
    "duration": 11,
    "start_time": "2024-05-09T18:34:25.154Z"
   },
   {
    "duration": 22,
    "start_time": "2024-05-09T18:34:25.166Z"
   },
   {
    "duration": 17,
    "start_time": "2024-05-09T18:34:25.190Z"
   },
   {
    "duration": 21,
    "start_time": "2024-05-09T18:34:25.215Z"
   },
   {
    "duration": 13,
    "start_time": "2024-05-09T18:34:25.237Z"
   },
   {
    "duration": 36,
    "start_time": "2024-05-09T18:34:25.252Z"
   },
   {
    "duration": 25,
    "start_time": "2024-05-09T18:34:25.290Z"
   },
   {
    "duration": 20,
    "start_time": "2024-05-09T18:34:25.316Z"
   },
   {
    "duration": 11,
    "start_time": "2024-05-09T18:34:25.338Z"
   },
   {
    "duration": 8,
    "start_time": "2024-05-09T18:34:25.350Z"
   },
   {
    "duration": 12,
    "start_time": "2024-05-09T18:34:25.359Z"
   },
   {
    "duration": 8,
    "start_time": "2024-05-09T18:34:25.372Z"
   },
   {
    "duration": 5,
    "start_time": "2024-05-09T18:34:25.382Z"
   },
   {
    "duration": 20,
    "start_time": "2024-05-09T18:34:25.388Z"
   },
   {
    "duration": 17,
    "start_time": "2024-05-09T18:34:25.410Z"
   },
   {
    "duration": 10,
    "start_time": "2024-05-09T18:34:25.428Z"
   },
   {
    "duration": 15,
    "start_time": "2024-05-09T18:34:25.439Z"
   },
   {
    "duration": 11,
    "start_time": "2024-05-09T18:34:25.455Z"
   },
   {
    "duration": 9,
    "start_time": "2024-05-09T18:34:25.467Z"
   },
   {
    "duration": 132,
    "start_time": "2024-05-09T18:34:25.477Z"
   },
   {
    "duration": 6,
    "start_time": "2024-05-09T18:34:25.611Z"
   },
   {
    "duration": 94,
    "start_time": "2024-05-09T18:34:25.618Z"
   },
   {
    "duration": 293,
    "start_time": "2024-05-09T18:34:25.714Z"
   },
   {
    "duration": 115,
    "start_time": "2024-05-09T18:34:26.011Z"
   },
   {
    "duration": 315,
    "start_time": "2024-05-09T18:34:26.127Z"
   },
   {
    "duration": 7,
    "start_time": "2024-05-09T18:34:26.444Z"
   },
   {
    "duration": 311,
    "start_time": "2024-05-09T18:34:26.452Z"
   },
   {
    "duration": 122,
    "start_time": "2024-05-09T18:34:26.764Z"
   },
   {
    "duration": 14,
    "start_time": "2024-05-09T18:34:26.888Z"
   },
   {
    "duration": 7,
    "start_time": "2024-05-09T18:34:26.903Z"
   },
   {
    "duration": 14,
    "start_time": "2024-05-09T18:34:26.911Z"
   },
   {
    "duration": 9,
    "start_time": "2024-05-09T18:34:26.927Z"
   },
   {
    "duration": 20,
    "start_time": "2024-05-09T18:34:26.937Z"
   },
   {
    "duration": 12,
    "start_time": "2024-05-09T18:34:26.958Z"
   },
   {
    "duration": 9,
    "start_time": "2024-05-09T18:34:26.972Z"
   },
   {
    "duration": 3,
    "start_time": "2024-05-09T18:34:26.983Z"
   },
   {
    "duration": 17,
    "start_time": "2024-05-09T18:34:26.988Z"
   },
   {
    "duration": 8,
    "start_time": "2024-05-09T18:34:27.007Z"
   },
   {
    "duration": 5,
    "start_time": "2024-05-09T18:34:27.016Z"
   },
   {
    "duration": 78,
    "start_time": "2024-05-09T18:34:27.024Z"
   },
   {
    "duration": 24,
    "start_time": "2024-05-09T18:34:27.104Z"
   },
   {
    "duration": 19,
    "start_time": "2024-05-09T18:34:27.129Z"
   },
   {
    "duration": 20,
    "start_time": "2024-05-09T18:34:27.149Z"
   },
   {
    "duration": 15,
    "start_time": "2024-05-09T18:34:27.170Z"
   },
   {
    "duration": 16,
    "start_time": "2024-05-09T18:34:27.186Z"
   },
   {
    "duration": 120,
    "start_time": "2024-05-09T18:34:27.204Z"
   },
   {
    "duration": 0,
    "start_time": "2024-05-09T18:34:27.326Z"
   },
   {
    "duration": 0,
    "start_time": "2024-05-09T18:34:27.327Z"
   },
   {
    "duration": 0,
    "start_time": "2024-05-09T18:34:27.328Z"
   },
   {
    "duration": 0,
    "start_time": "2024-05-09T18:34:27.329Z"
   },
   {
    "duration": 0,
    "start_time": "2024-05-09T18:34:27.330Z"
   },
   {
    "duration": 0,
    "start_time": "2024-05-09T18:34:27.330Z"
   },
   {
    "duration": 0,
    "start_time": "2024-05-09T18:34:27.331Z"
   },
   {
    "duration": 0,
    "start_time": "2024-05-09T18:34:27.332Z"
   },
   {
    "duration": 0,
    "start_time": "2024-05-09T18:34:27.333Z"
   },
   {
    "duration": 0,
    "start_time": "2024-05-09T18:34:27.334Z"
   },
   {
    "duration": 0,
    "start_time": "2024-05-09T18:34:27.335Z"
   },
   {
    "duration": 0,
    "start_time": "2024-05-09T18:34:27.336Z"
   },
   {
    "duration": 0,
    "start_time": "2024-05-09T18:34:27.336Z"
   },
   {
    "duration": 0,
    "start_time": "2024-05-09T18:34:27.337Z"
   },
   {
    "duration": 0,
    "start_time": "2024-05-09T18:34:27.338Z"
   },
   {
    "duration": 0,
    "start_time": "2024-05-09T18:34:27.338Z"
   },
   {
    "duration": 0,
    "start_time": "2024-05-09T18:34:27.339Z"
   },
   {
    "duration": 0,
    "start_time": "2024-05-09T18:34:27.340Z"
   },
   {
    "duration": 1065,
    "start_time": "2024-05-09T18:34:52.382Z"
   },
   {
    "duration": 77,
    "start_time": "2024-05-09T18:34:53.449Z"
   },
   {
    "duration": 12,
    "start_time": "2024-05-09T18:34:53.534Z"
   },
   {
    "duration": 7,
    "start_time": "2024-05-09T18:34:53.547Z"
   },
   {
    "duration": 7,
    "start_time": "2024-05-09T18:34:53.555Z"
   },
   {
    "duration": 16,
    "start_time": "2024-05-09T18:34:53.563Z"
   },
   {
    "duration": 27,
    "start_time": "2024-05-09T18:34:53.580Z"
   },
   {
    "duration": 26,
    "start_time": "2024-05-09T18:34:53.609Z"
   },
   {
    "duration": 7,
    "start_time": "2024-05-09T18:34:53.636Z"
   },
   {
    "duration": 9,
    "start_time": "2024-05-09T18:34:53.644Z"
   },
   {
    "duration": 13,
    "start_time": "2024-05-09T18:34:53.655Z"
   },
   {
    "duration": 14,
    "start_time": "2024-05-09T18:34:53.669Z"
   },
   {
    "duration": 10,
    "start_time": "2024-05-09T18:34:53.686Z"
   },
   {
    "duration": 32,
    "start_time": "2024-05-09T18:34:53.698Z"
   },
   {
    "duration": 28,
    "start_time": "2024-05-09T18:34:53.731Z"
   },
   {
    "duration": 36,
    "start_time": "2024-05-09T18:34:53.760Z"
   },
   {
    "duration": 18,
    "start_time": "2024-05-09T18:34:53.797Z"
   },
   {
    "duration": 8,
    "start_time": "2024-05-09T18:34:53.817Z"
   },
   {
    "duration": 10,
    "start_time": "2024-05-09T18:34:53.826Z"
   },
   {
    "duration": 15,
    "start_time": "2024-05-09T18:34:53.837Z"
   },
   {
    "duration": 15,
    "start_time": "2024-05-09T18:34:53.853Z"
   },
   {
    "duration": 6,
    "start_time": "2024-05-09T18:34:53.869Z"
   },
   {
    "duration": 24,
    "start_time": "2024-05-09T18:34:53.876Z"
   },
   {
    "duration": 146,
    "start_time": "2024-05-09T18:34:53.903Z"
   },
   {
    "duration": 5,
    "start_time": "2024-05-09T18:34:54.050Z"
   },
   {
    "duration": 120,
    "start_time": "2024-05-09T18:34:54.057Z"
   },
   {
    "duration": 292,
    "start_time": "2024-05-09T18:34:54.178Z"
   },
   {
    "duration": 112,
    "start_time": "2024-05-09T18:34:54.472Z"
   },
   {
    "duration": 313,
    "start_time": "2024-05-09T18:34:54.585Z"
   },
   {
    "duration": 10,
    "start_time": "2024-05-09T18:34:54.901Z"
   },
   {
    "duration": 299,
    "start_time": "2024-05-09T18:34:54.914Z"
   },
   {
    "duration": 173,
    "start_time": "2024-05-09T18:34:55.215Z"
   },
   {
    "duration": 14,
    "start_time": "2024-05-09T18:34:55.389Z"
   },
   {
    "duration": 8,
    "start_time": "2024-05-09T18:34:55.405Z"
   },
   {
    "duration": 10,
    "start_time": "2024-05-09T18:34:55.414Z"
   },
   {
    "duration": 9,
    "start_time": "2024-05-09T18:34:55.425Z"
   },
   {
    "duration": 11,
    "start_time": "2024-05-09T18:34:55.435Z"
   },
   {
    "duration": 8,
    "start_time": "2024-05-09T18:34:55.447Z"
   },
   {
    "duration": 9,
    "start_time": "2024-05-09T18:34:55.456Z"
   },
   {
    "duration": 3,
    "start_time": "2024-05-09T18:34:55.468Z"
   },
   {
    "duration": 25,
    "start_time": "2024-05-09T18:34:55.473Z"
   },
   {
    "duration": 23,
    "start_time": "2024-05-09T18:34:55.501Z"
   },
   {
    "duration": 16,
    "start_time": "2024-05-09T18:34:55.525Z"
   },
   {
    "duration": 10,
    "start_time": "2024-05-09T18:34:55.542Z"
   },
   {
    "duration": 12,
    "start_time": "2024-05-09T18:34:55.553Z"
   },
   {
    "duration": 18,
    "start_time": "2024-05-09T18:34:55.566Z"
   },
   {
    "duration": 24,
    "start_time": "2024-05-09T18:34:55.585Z"
   },
   {
    "duration": 13,
    "start_time": "2024-05-09T18:34:55.610Z"
   },
   {
    "duration": 7,
    "start_time": "2024-05-09T18:34:55.624Z"
   },
   {
    "duration": 337,
    "start_time": "2024-05-09T18:34:55.633Z"
   },
   {
    "duration": 6,
    "start_time": "2024-05-09T18:34:55.971Z"
   },
   {
    "duration": 12,
    "start_time": "2024-05-09T18:34:55.978Z"
   },
   {
    "duration": 357,
    "start_time": "2024-05-09T18:34:55.991Z"
   },
   {
    "duration": 339,
    "start_time": "2024-05-09T18:34:56.350Z"
   },
   {
    "duration": 3,
    "start_time": "2024-05-09T18:34:56.691Z"
   },
   {
    "duration": 34,
    "start_time": "2024-05-09T18:34:56.695Z"
   },
   {
    "duration": 796,
    "start_time": "2024-05-09T18:34:56.730Z"
   },
   {
    "duration": 3,
    "start_time": "2024-05-09T18:34:57.527Z"
   },
   {
    "duration": 12,
    "start_time": "2024-05-09T18:34:57.531Z"
   },
   {
    "duration": 12,
    "start_time": "2024-05-09T18:34:57.545Z"
   },
   {
    "duration": 129,
    "start_time": "2024-05-09T18:34:57.558Z"
   },
   {
    "duration": 22,
    "start_time": "2024-05-09T18:34:57.689Z"
   },
   {
    "duration": 5,
    "start_time": "2024-05-09T18:34:57.712Z"
   },
   {
    "duration": 6,
    "start_time": "2024-05-09T18:34:57.718Z"
   },
   {
    "duration": 10,
    "start_time": "2024-05-09T18:34:57.726Z"
   },
   {
    "duration": 5,
    "start_time": "2024-05-09T18:34:57.737Z"
   },
   {
    "duration": 14,
    "start_time": "2024-05-09T18:34:57.743Z"
   },
   {
    "duration": 4,
    "start_time": "2024-05-09T18:34:57.758Z"
   }
  ],
  "kernelspec": {
   "display_name": "Python 3 (ipykernel)",
   "language": "python",
   "name": "python3"
  },
  "language_info": {
   "codemirror_mode": {
    "name": "ipython",
    "version": 3
   },
   "file_extension": ".py",
   "mimetype": "text/x-python",
   "name": "python",
   "nbconvert_exporter": "python",
   "pygments_lexer": "ipython3",
   "version": "3.9.5"
  },
  "toc": {
   "base_numbering": 1,
   "nav_menu": {},
   "number_sections": true,
   "sideBar": true,
   "skip_h1_title": true,
   "title_cell": "Table of Contents",
   "title_sidebar": "Contents",
   "toc_cell": false,
   "toc_position": {
    "height": "calc(100% - 180px)",
    "left": "10px",
    "top": "150px",
    "width": "512px"
   },
   "toc_section_display": true,
   "toc_window_display": true
  }
 },
 "nbformat": 4,
 "nbformat_minor": 5
}
