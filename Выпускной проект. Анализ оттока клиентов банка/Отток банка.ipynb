{
 "cells": [
  {
   "cell_type": "markdown",
   "metadata": {},
   "source": [
    "# Анализ оттока клиентов банка"
   ]
  },
  {
   "cell_type": "markdown",
   "metadata": {},
   "source": [
    "Задача:\n",
    "Проанализируйте клиентов регионального банка и выделите сегменты клиентов,\n",
    "которые склонны уходить из банка.\n",
    "Проведите исследовательский анализ данных, определите все значимые\n",
    "признаки отточности (интервалы значений характеристик, которые связаны с\n",
    "повышенным оттоком, сравните портреты типичных клиентов, которые\n",
    "склонны и не склонны уходить из банка и т.д)\n",
    "Сформулируйте и проверьте статистические гипотезы.\n",
    "Проверьте гипотезу различия дохода между теми клиентами, которые\n",
    "ушли и теми, которые остались.\n",
    "Сформулируйте и проверьте статистическую гипотезу относительно\n",
    "представленных данных, которая поможет внести ясность в исследование\n",
    "Объединяя признаки отточности, сформируйте сегменты, отберите из них\n",
    "лучшие и дайте по ним рекомендации"
   ]
  },
  {
   "cell_type": "markdown",
   "metadata": {},
   "source": [
    "### Описание данных\n",
    "\n",
    "User_id – идентификатор пользователя;\n",
    "\n",
    "Score – баллы кредитного скоринга;\n",
    "\n",
    "City – город;\n",
    "\n",
    "Genger – пол;\n",
    "\n",
    "Age – возраст;\n",
    "\n",
    "Balance – баланс на счёте;\n",
    "\n",
    "Products– количество продуктов, которыми пользуется клиент;\n",
    "\n",
    "CreditCart – имеется ли кредитная карта;\n",
    "\n",
    "Last_activity – активный клиент;\n",
    "\n",
    "Еstimated_salary – заработная плата клиента;\n",
    "\n",
    "Churn – ушёл или нет;\n",
    "\n",
    "Equity – кол-во баллов собственности;"
   ]
  },
  {
   "cell_type": "code",
   "execution_count": 1,
   "metadata": {},
   "outputs": [
    {
     "name": "stdout",
     "output_type": "stream",
     "text": [
      "Requirement already satisfied: phik in /opt/conda/lib/python3.9/site-packages (0.12.4)\n",
      "Requirement already satisfied: joblib>=0.14.1 in /opt/conda/lib/python3.9/site-packages (from phik) (1.1.0)\n",
      "Requirement already satisfied: numpy>=1.18.0 in /opt/conda/lib/python3.9/site-packages (from phik) (1.21.1)\n",
      "Requirement already satisfied: pandas>=0.25.1 in /opt/conda/lib/python3.9/site-packages (from phik) (1.2.4)\n",
      "Requirement already satisfied: scipy>=1.5.2 in /opt/conda/lib/python3.9/site-packages (from phik) (1.9.1)\n",
      "Requirement already satisfied: matplotlib>=2.2.3 in /opt/conda/lib/python3.9/site-packages (from phik) (3.3.4)\n",
      "Requirement already satisfied: cycler>=0.10 in /opt/conda/lib/python3.9/site-packages (from matplotlib>=2.2.3->phik) (0.11.0)\n",
      "Requirement already satisfied: pyparsing!=2.0.4,!=2.1.2,!=2.1.6,>=2.0.3 in /opt/conda/lib/python3.9/site-packages (from matplotlib>=2.2.3->phik) (2.4.7)\n",
      "Requirement already satisfied: python-dateutil>=2.1 in /opt/conda/lib/python3.9/site-packages (from matplotlib>=2.2.3->phik) (2.8.1)\n",
      "Requirement already satisfied: kiwisolver>=1.0.1 in /opt/conda/lib/python3.9/site-packages (from matplotlib>=2.2.3->phik) (1.4.4)\n",
      "Requirement already satisfied: pillow>=6.2.0 in /opt/conda/lib/python3.9/site-packages (from matplotlib>=2.2.3->phik) (8.4.0)\n",
      "Requirement already satisfied: pytz>=2017.3 in /opt/conda/lib/python3.9/site-packages (from pandas>=0.25.1->phik) (2021.1)\n",
      "Requirement already satisfied: six>=1.5 in /opt/conda/lib/python3.9/site-packages (from python-dateutil>=2.1->matplotlib>=2.2.3->phik) (1.16.0)\n",
      "Note: you may need to restart the kernel to use updated packages.\n"
     ]
    }
   ],
   "source": [
    "pip install phik"
   ]
  },
  {
   "cell_type": "code",
   "execution_count": 2,
   "metadata": {},
   "outputs": [],
   "source": [
    "import pandas as pd\n",
    "from scipy import stats as st\n",
    "import numpy as np\n",
    "import seaborn as sns\n",
    "from matplotlib import pyplot as plt\n",
    "import plotly.express as px\n",
    "from plotly import graph_objects as go\n",
    "import json\n",
    "from folium.plugins import MarkerCluster\n",
    "import folium\n",
    "import phik\n",
    "\n",
    "# Загружаем необходимые библиотеки"
   ]
  },
  {
   "cell_type": "markdown",
   "metadata": {},
   "source": [
    "##  шаг. Загрузим данные и изучим общую информацию"
   ]
  },
  {
   "cell_type": "code",
   "execution_count": 3,
   "metadata": {},
   "outputs": [],
   "source": [
    "data = pd.read_csv('/datasets/bank_scrooge.csv')"
   ]
  },
  {
   "cell_type": "code",
   "execution_count": 4,
   "metadata": {},
   "outputs": [
    {
     "data": {
      "text/html": [
       "<div>\n",
       "<style scoped>\n",
       "    .dataframe tbody tr th:only-of-type {\n",
       "        vertical-align: middle;\n",
       "    }\n",
       "\n",
       "    .dataframe tbody tr th {\n",
       "        vertical-align: top;\n",
       "    }\n",
       "\n",
       "    .dataframe thead th {\n",
       "        text-align: right;\n",
       "    }\n",
       "</style>\n",
       "<table border=\"1\" class=\"dataframe\">\n",
       "  <thead>\n",
       "    <tr style=\"text-align: right;\">\n",
       "      <th></th>\n",
       "      <th>USERID</th>\n",
       "      <th>score</th>\n",
       "      <th>city</th>\n",
       "      <th>gender</th>\n",
       "      <th>age</th>\n",
       "      <th>equity</th>\n",
       "      <th>balance</th>\n",
       "      <th>products</th>\n",
       "      <th>credit_card</th>\n",
       "      <th>last_activity</th>\n",
       "      <th>EST_SALARY</th>\n",
       "      <th>churn</th>\n",
       "    </tr>\n",
       "  </thead>\n",
       "  <tbody>\n",
       "    <tr>\n",
       "      <th>0</th>\n",
       "      <td>183012</td>\n",
       "      <td>850.0</td>\n",
       "      <td>Рыбинск</td>\n",
       "      <td>Ж</td>\n",
       "      <td>25.0</td>\n",
       "      <td>1</td>\n",
       "      <td>59214.82</td>\n",
       "      <td>2</td>\n",
       "      <td>0</td>\n",
       "      <td>1</td>\n",
       "      <td>75719.14</td>\n",
       "      <td>1</td>\n",
       "    </tr>\n",
       "    <tr>\n",
       "      <th>1</th>\n",
       "      <td>146556</td>\n",
       "      <td>861.0</td>\n",
       "      <td>Рыбинск</td>\n",
       "      <td>Ж</td>\n",
       "      <td>37.0</td>\n",
       "      <td>5</td>\n",
       "      <td>850594.33</td>\n",
       "      <td>3</td>\n",
       "      <td>1</td>\n",
       "      <td>0</td>\n",
       "      <td>86621.77</td>\n",
       "      <td>0</td>\n",
       "    </tr>\n",
       "    <tr>\n",
       "      <th>2</th>\n",
       "      <td>120722</td>\n",
       "      <td>892.0</td>\n",
       "      <td>Рыбинск</td>\n",
       "      <td>Ж</td>\n",
       "      <td>30.0</td>\n",
       "      <td>0</td>\n",
       "      <td>NaN</td>\n",
       "      <td>1</td>\n",
       "      <td>1</td>\n",
       "      <td>1</td>\n",
       "      <td>107683.34</td>\n",
       "      <td>0</td>\n",
       "    </tr>\n",
       "    <tr>\n",
       "      <th>3</th>\n",
       "      <td>225363</td>\n",
       "      <td>866.0</td>\n",
       "      <td>Ярославль</td>\n",
       "      <td>Ж</td>\n",
       "      <td>51.0</td>\n",
       "      <td>5</td>\n",
       "      <td>1524746.26</td>\n",
       "      <td>2</td>\n",
       "      <td>0</td>\n",
       "      <td>1</td>\n",
       "      <td>174423.53</td>\n",
       "      <td>1</td>\n",
       "    </tr>\n",
       "    <tr>\n",
       "      <th>4</th>\n",
       "      <td>157978</td>\n",
       "      <td>730.0</td>\n",
       "      <td>Ярославль</td>\n",
       "      <td>М</td>\n",
       "      <td>34.0</td>\n",
       "      <td>5</td>\n",
       "      <td>174.00</td>\n",
       "      <td>1</td>\n",
       "      <td>1</td>\n",
       "      <td>0</td>\n",
       "      <td>67353.16</td>\n",
       "      <td>1</td>\n",
       "    </tr>\n",
       "  </tbody>\n",
       "</table>\n",
       "</div>"
      ],
      "text/plain": [
       "   USERID  score       city gender   age  equity     balance  products  \\\n",
       "0  183012  850.0    Рыбинск      Ж  25.0       1    59214.82         2   \n",
       "1  146556  861.0    Рыбинск      Ж  37.0       5   850594.33         3   \n",
       "2  120722  892.0    Рыбинск      Ж  30.0       0         NaN         1   \n",
       "3  225363  866.0  Ярославль      Ж  51.0       5  1524746.26         2   \n",
       "4  157978  730.0  Ярославль      М  34.0       5      174.00         1   \n",
       "\n",
       "   credit_card  last_activity  EST_SALARY  churn  \n",
       "0            0              1    75719.14      1  \n",
       "1            1              0    86621.77      0  \n",
       "2            1              1   107683.34      0  \n",
       "3            0              1   174423.53      1  \n",
       "4            1              0    67353.16      1  "
      ]
     },
     "execution_count": 4,
     "metadata": {},
     "output_type": "execute_result"
    }
   ],
   "source": [
    "data.head(5)"
   ]
  },
  {
   "cell_type": "code",
   "execution_count": 5,
   "metadata": {},
   "outputs": [
    {
     "name": "stdout",
     "output_type": "stream",
     "text": [
      "<class 'pandas.core.frame.DataFrame'>\n",
      "RangeIndex: 10000 entries, 0 to 9999\n",
      "Data columns (total 12 columns):\n",
      " #   Column         Non-Null Count  Dtype  \n",
      "---  ------         --------------  -----  \n",
      " 0   USERID         10000 non-null  int64  \n",
      " 1   score          10000 non-null  float64\n",
      " 2   city           10000 non-null  object \n",
      " 3   gender         10000 non-null  object \n",
      " 4   age            9974 non-null   float64\n",
      " 5   equity         10000 non-null  int64  \n",
      " 6   balance        7705 non-null   float64\n",
      " 7   products       10000 non-null  int64  \n",
      " 8   credit_card    10000 non-null  int64  \n",
      " 9   last_activity  10000 non-null  int64  \n",
      " 10  EST_SALARY     10000 non-null  float64\n",
      " 11  churn          10000 non-null  int64  \n",
      "dtypes: float64(4), int64(6), object(2)\n",
      "memory usage: 937.6+ KB\n"
     ]
    }
   ],
   "source": [
    "data.info()\n",
    "# смотрим информацию"
   ]
  },
  {
   "cell_type": "code",
   "execution_count": 6,
   "metadata": {},
   "outputs": [
    {
     "data": {
      "text/plain": [
       "0"
      ]
     },
     "execution_count": 6,
     "metadata": {},
     "output_type": "execute_result"
    }
   ],
   "source": [
    "data.duplicated().sum()\n",
    "# проверяем наличие дубликатов"
   ]
  },
  {
   "cell_type": "code",
   "execution_count": 7,
   "metadata": {},
   "outputs": [
    {
     "data": {
      "text/plain": [
       "USERID              0\n",
       "score               0\n",
       "city                0\n",
       "gender              0\n",
       "age                26\n",
       "equity              0\n",
       "balance          2295\n",
       "products            0\n",
       "credit_card         0\n",
       "last_activity       0\n",
       "EST_SALARY          0\n",
       "churn               0\n",
       "dtype: int64"
      ]
     },
     "execution_count": 7,
     "metadata": {},
     "output_type": "execute_result"
    }
   ],
   "source": [
    "data.isna().sum()\n",
    "# проверяем наличие пропусков"
   ]
  },
  {
   "cell_type": "markdown",
   "metadata": {},
   "source": [
    "Вывод. В таблице данные по 10000 клиентам банка. Явных дубликатов нет, пропуски в графе \"возраст\" - всего 26, в графе \"баланс\" - там 23% пропущенных данных, далее будем думать, что с ними делать"
   ]
  },
  {
   "cell_type": "markdown",
   "metadata": {},
   "source": [
    "## шаг. Выполним предобработку даных"
   ]
  },
  {
   "cell_type": "code",
   "execution_count": 8,
   "metadata": {},
   "outputs": [
    {
     "data": {
      "text/html": [
       "<div>\n",
       "<style scoped>\n",
       "    .dataframe tbody tr th:only-of-type {\n",
       "        vertical-align: middle;\n",
       "    }\n",
       "\n",
       "    .dataframe tbody tr th {\n",
       "        vertical-align: top;\n",
       "    }\n",
       "\n",
       "    .dataframe thead th {\n",
       "        text-align: right;\n",
       "    }\n",
       "</style>\n",
       "<table border=\"1\" class=\"dataframe\">\n",
       "  <thead>\n",
       "    <tr style=\"text-align: right;\">\n",
       "      <th></th>\n",
       "      <th>user_id</th>\n",
       "      <th>score</th>\n",
       "      <th>city</th>\n",
       "      <th>gender</th>\n",
       "      <th>age</th>\n",
       "      <th>equity</th>\n",
       "      <th>balance</th>\n",
       "      <th>products</th>\n",
       "      <th>credit_card</th>\n",
       "      <th>last_activity</th>\n",
       "      <th>est_salary</th>\n",
       "      <th>churn</th>\n",
       "    </tr>\n",
       "  </thead>\n",
       "  <tbody>\n",
       "    <tr>\n",
       "      <th>0</th>\n",
       "      <td>183012</td>\n",
       "      <td>850.0</td>\n",
       "      <td>Рыбинск</td>\n",
       "      <td>Ж</td>\n",
       "      <td>25.0</td>\n",
       "      <td>1</td>\n",
       "      <td>59214.82</td>\n",
       "      <td>2</td>\n",
       "      <td>0</td>\n",
       "      <td>1</td>\n",
       "      <td>75719.14</td>\n",
       "      <td>1</td>\n",
       "    </tr>\n",
       "    <tr>\n",
       "      <th>1</th>\n",
       "      <td>146556</td>\n",
       "      <td>861.0</td>\n",
       "      <td>Рыбинск</td>\n",
       "      <td>Ж</td>\n",
       "      <td>37.0</td>\n",
       "      <td>5</td>\n",
       "      <td>850594.33</td>\n",
       "      <td>3</td>\n",
       "      <td>1</td>\n",
       "      <td>0</td>\n",
       "      <td>86621.77</td>\n",
       "      <td>0</td>\n",
       "    </tr>\n",
       "  </tbody>\n",
       "</table>\n",
       "</div>"
      ],
      "text/plain": [
       "   user_id  score     city gender   age  equity    balance  products  \\\n",
       "0   183012  850.0  Рыбинск      Ж  25.0       1   59214.82         2   \n",
       "1   146556  861.0  Рыбинск      Ж  37.0       5  850594.33         3   \n",
       "\n",
       "   credit_card  last_activity  est_salary  churn  \n",
       "0            0              1    75719.14      1  \n",
       "1            1              0    86621.77      0  "
      ]
     },
     "execution_count": 8,
     "metadata": {},
     "output_type": "execute_result"
    }
   ],
   "source": [
    "data = data.rename(columns = {'USERID': 'user_id', 'EST_SALARY': 'est_salary'})\n",
    "data.head(2)\n",
    "# переименовываем столбцы, проверяем"
   ]
  },
  {
   "cell_type": "code",
   "execution_count": 9,
   "metadata": {},
   "outputs": [
    {
     "data": {
      "text/plain": [
       "73"
      ]
     },
     "execution_count": 9,
     "metadata": {},
     "output_type": "execute_result"
    }
   ],
   "source": [
    "data.duplicated(subset = ['user_id']).sum()\n",
    "# считаем дубликаты по категории user_id"
   ]
  },
  {
   "cell_type": "code",
   "execution_count": 10,
   "metadata": {},
   "outputs": [
    {
     "data": {
      "text/plain": [
       "0"
      ]
     },
     "execution_count": 10,
     "metadata": {},
     "output_type": "execute_result"
    }
   ],
   "source": [
    "data.duplicated(subset = ['score','city','gender','age','equity','balance','products','credit_card','last_activity','est_salary','churn' ]).sum()\n",
    "# считаем дубликаты без user_id"
   ]
  },
  {
   "cell_type": "code",
   "execution_count": 11,
   "metadata": {},
   "outputs": [
    {
     "data": {
      "text/html": [
       "<div>\n",
       "<style scoped>\n",
       "    .dataframe tbody tr th:only-of-type {\n",
       "        vertical-align: middle;\n",
       "    }\n",
       "\n",
       "    .dataframe tbody tr th {\n",
       "        vertical-align: top;\n",
       "    }\n",
       "\n",
       "    .dataframe thead th {\n",
       "        text-align: right;\n",
       "    }\n",
       "</style>\n",
       "<table border=\"1\" class=\"dataframe\">\n",
       "  <thead>\n",
       "    <tr style=\"text-align: right;\">\n",
       "      <th></th>\n",
       "      <th>user_id</th>\n",
       "      <th>score</th>\n",
       "      <th>city</th>\n",
       "      <th>gender</th>\n",
       "      <th>age</th>\n",
       "      <th>equity</th>\n",
       "      <th>balance</th>\n",
       "      <th>products</th>\n",
       "      <th>credit_card</th>\n",
       "      <th>last_activity</th>\n",
       "      <th>est_salary</th>\n",
       "      <th>churn</th>\n",
       "    </tr>\n",
       "  </thead>\n",
       "  <tbody>\n",
       "    <tr>\n",
       "      <th>7</th>\n",
       "      <td>218868</td>\n",
       "      <td>825.0</td>\n",
       "      <td>Ярославль</td>\n",
       "      <td>Ж</td>\n",
       "      <td>38.0</td>\n",
       "      <td>4</td>\n",
       "      <td>458145.40</td>\n",
       "      <td>2</td>\n",
       "      <td>1</td>\n",
       "      <td>1</td>\n",
       "      <td>68085.48</td>\n",
       "      <td>0</td>\n",
       "    </tr>\n",
       "    <tr>\n",
       "      <th>58</th>\n",
       "      <td>164676</td>\n",
       "      <td>860.0</td>\n",
       "      <td>Ярославль</td>\n",
       "      <td>М</td>\n",
       "      <td>37.0</td>\n",
       "      <td>5</td>\n",
       "      <td>648594.03</td>\n",
       "      <td>2</td>\n",
       "      <td>1</td>\n",
       "      <td>1</td>\n",
       "      <td>213586.86</td>\n",
       "      <td>1</td>\n",
       "    </tr>\n",
       "    <tr>\n",
       "      <th>150</th>\n",
       "      <td>185748</td>\n",
       "      <td>850.0</td>\n",
       "      <td>Рыбинск</td>\n",
       "      <td>М</td>\n",
       "      <td>36.0</td>\n",
       "      <td>5</td>\n",
       "      <td>1203376.67</td>\n",
       "      <td>2</td>\n",
       "      <td>0</td>\n",
       "      <td>1</td>\n",
       "      <td>89401.82</td>\n",
       "      <td>1</td>\n",
       "    </tr>\n",
       "    <tr>\n",
       "      <th>161</th>\n",
       "      <td>197364</td>\n",
       "      <td>928.0</td>\n",
       "      <td>Рыбинск</td>\n",
       "      <td>Ж</td>\n",
       "      <td>53.0</td>\n",
       "      <td>6</td>\n",
       "      <td>1347183.86</td>\n",
       "      <td>2</td>\n",
       "      <td>0</td>\n",
       "      <td>1</td>\n",
       "      <td>168189.49</td>\n",
       "      <td>1</td>\n",
       "    </tr>\n",
       "    <tr>\n",
       "      <th>231</th>\n",
       "      <td>190253</td>\n",
       "      <td>823.0</td>\n",
       "      <td>Рыбинск</td>\n",
       "      <td>М</td>\n",
       "      <td>37.0</td>\n",
       "      <td>4</td>\n",
       "      <td>373348.39</td>\n",
       "      <td>2</td>\n",
       "      <td>0</td>\n",
       "      <td>1</td>\n",
       "      <td>131947.92</td>\n",
       "      <td>1</td>\n",
       "    </tr>\n",
       "    <tr>\n",
       "      <th>...</th>\n",
       "      <td>...</td>\n",
       "      <td>...</td>\n",
       "      <td>...</td>\n",
       "      <td>...</td>\n",
       "      <td>...</td>\n",
       "      <td>...</td>\n",
       "      <td>...</td>\n",
       "      <td>...</td>\n",
       "      <td>...</td>\n",
       "      <td>...</td>\n",
       "      <td>...</td>\n",
       "      <td>...</td>\n",
       "    </tr>\n",
       "    <tr>\n",
       "      <th>9775</th>\n",
       "      <td>124450</td>\n",
       "      <td>758.0</td>\n",
       "      <td>Рыбинск</td>\n",
       "      <td>Ж</td>\n",
       "      <td>36.0</td>\n",
       "      <td>0</td>\n",
       "      <td>73574.07</td>\n",
       "      <td>2</td>\n",
       "      <td>0</td>\n",
       "      <td>1</td>\n",
       "      <td>79963.59</td>\n",
       "      <td>0</td>\n",
       "    </tr>\n",
       "    <tr>\n",
       "      <th>9785</th>\n",
       "      <td>168998</td>\n",
       "      <td>895.0</td>\n",
       "      <td>Рыбинск</td>\n",
       "      <td>М</td>\n",
       "      <td>44.0</td>\n",
       "      <td>0</td>\n",
       "      <td>282653.53</td>\n",
       "      <td>3</td>\n",
       "      <td>0</td>\n",
       "      <td>0</td>\n",
       "      <td>255296.47</td>\n",
       "      <td>0</td>\n",
       "    </tr>\n",
       "    <tr>\n",
       "      <th>9819</th>\n",
       "      <td>140934</td>\n",
       "      <td>832.0</td>\n",
       "      <td>Рыбинск</td>\n",
       "      <td>Ж</td>\n",
       "      <td>NaN</td>\n",
       "      <td>3</td>\n",
       "      <td>385763.16</td>\n",
       "      <td>2</td>\n",
       "      <td>0</td>\n",
       "      <td>1</td>\n",
       "      <td>59651.35</td>\n",
       "      <td>0</td>\n",
       "    </tr>\n",
       "    <tr>\n",
       "      <th>9880</th>\n",
       "      <td>217412</td>\n",
       "      <td>886.0</td>\n",
       "      <td>Ярославль</td>\n",
       "      <td>Ж</td>\n",
       "      <td>35.0</td>\n",
       "      <td>3</td>\n",
       "      <td>1026172.14</td>\n",
       "      <td>2</td>\n",
       "      <td>1</td>\n",
       "      <td>0</td>\n",
       "      <td>53099.16</td>\n",
       "      <td>0</td>\n",
       "    </tr>\n",
       "    <tr>\n",
       "      <th>9970</th>\n",
       "      <td>175730</td>\n",
       "      <td>816.0</td>\n",
       "      <td>Рыбинск</td>\n",
       "      <td>М</td>\n",
       "      <td>36.0</td>\n",
       "      <td>4</td>\n",
       "      <td>477892.07</td>\n",
       "      <td>3</td>\n",
       "      <td>1</td>\n",
       "      <td>0</td>\n",
       "      <td>81100.60</td>\n",
       "      <td>0</td>\n",
       "    </tr>\n",
       "  </tbody>\n",
       "</table>\n",
       "<p>146 rows × 12 columns</p>\n",
       "</div>"
      ],
      "text/plain": [
       "      user_id  score       city gender   age  equity     balance  products  \\\n",
       "7      218868  825.0  Ярославль      Ж  38.0       4   458145.40         2   \n",
       "58     164676  860.0  Ярославль      М  37.0       5   648594.03         2   \n",
       "150    185748  850.0    Рыбинск      М  36.0       5  1203376.67         2   \n",
       "161    197364  928.0    Рыбинск      Ж  53.0       6  1347183.86         2   \n",
       "231    190253  823.0    Рыбинск      М  37.0       4   373348.39         2   \n",
       "...       ...    ...        ...    ...   ...     ...         ...       ...   \n",
       "9775   124450  758.0    Рыбинск      Ж  36.0       0    73574.07         2   \n",
       "9785   168998  895.0    Рыбинск      М  44.0       0   282653.53         3   \n",
       "9819   140934  832.0    Рыбинск      Ж   NaN       3   385763.16         2   \n",
       "9880   217412  886.0  Ярославль      Ж  35.0       3  1026172.14         2   \n",
       "9970   175730  816.0    Рыбинск      М  36.0       4   477892.07         3   \n",
       "\n",
       "      credit_card  last_activity  est_salary  churn  \n",
       "7               1              1    68085.48      0  \n",
       "58              1              1   213586.86      1  \n",
       "150             0              1    89401.82      1  \n",
       "161             0              1   168189.49      1  \n",
       "231             0              1   131947.92      1  \n",
       "...           ...            ...         ...    ...  \n",
       "9775            0              1    79963.59      0  \n",
       "9785            0              0   255296.47      0  \n",
       "9819            0              1    59651.35      0  \n",
       "9880            1              0    53099.16      0  \n",
       "9970            1              0    81100.60      0  \n",
       "\n",
       "[146 rows x 12 columns]"
      ]
     },
     "execution_count": 11,
     "metadata": {},
     "output_type": "execute_result"
    }
   ],
   "source": [
    "data_dubl = data.loc[data.duplicated(subset =['user_id'], keep = False)]\n",
    "data_dubl\n",
    "# выводим дубликаты по категориям"
   ]
  },
  {
   "cell_type": "code",
   "execution_count": 12,
   "metadata": {},
   "outputs": [
    {
     "data": {
      "text/plain": [
       "city\n",
       "Рыбинск      73\n",
       "Ярославль    73\n",
       "Name: city, dtype: int64"
      ]
     },
     "execution_count": 12,
     "metadata": {},
     "output_type": "execute_result"
    }
   ],
   "source": [
    "data_dubl.groupby('city')['city'].count()\n",
    "# посмотрим в каких городах дубликаты"
   ]
  },
  {
   "cell_type": "markdown",
   "metadata": {},
   "source": [
    "Дубликаты распределены поровну по городам, В Ростове дубликатов нет. Клиенты с одинаковым id не являются одними и теми же людьми, так как у них разные пол и возраст.  Дубликаты образовались скорее всего из-за того, что отделения в городах Рыбинск и Ярославль были не подключены к общей системе. Такие дубликаты удалять не будем."
   ]
  },
  {
   "cell_type": "code",
   "execution_count": 13,
   "metadata": {},
   "outputs": [
    {
     "data": {
      "text/html": [
       "<div>\n",
       "<style scoped>\n",
       "    .dataframe tbody tr th:only-of-type {\n",
       "        vertical-align: middle;\n",
       "    }\n",
       "\n",
       "    .dataframe tbody tr th {\n",
       "        vertical-align: top;\n",
       "    }\n",
       "\n",
       "    .dataframe thead th {\n",
       "        text-align: right;\n",
       "    }\n",
       "</style>\n",
       "<table border=\"1\" class=\"dataframe\">\n",
       "  <thead>\n",
       "    <tr style=\"text-align: right;\">\n",
       "      <th></th>\n",
       "      <th>user_id</th>\n",
       "      <th>score</th>\n",
       "      <th>city</th>\n",
       "      <th>gender</th>\n",
       "      <th>age</th>\n",
       "      <th>equity</th>\n",
       "      <th>balance</th>\n",
       "      <th>products</th>\n",
       "      <th>credit_card</th>\n",
       "      <th>last_activity</th>\n",
       "      <th>est_salary</th>\n",
       "      <th>churn</th>\n",
       "    </tr>\n",
       "  </thead>\n",
       "  <tbody>\n",
       "    <tr>\n",
       "      <th>1247</th>\n",
       "      <td>228075</td>\n",
       "      <td>932.0</td>\n",
       "      <td>Ярославль</td>\n",
       "      <td>М</td>\n",
       "      <td>NaN</td>\n",
       "      <td>5</td>\n",
       "      <td>7601719.20</td>\n",
       "      <td>2</td>\n",
       "      <td>1</td>\n",
       "      <td>1</td>\n",
       "      <td>408121.16</td>\n",
       "      <td>0</td>\n",
       "    </tr>\n",
       "    <tr>\n",
       "      <th>2165</th>\n",
       "      <td>187635</td>\n",
       "      <td>692.0</td>\n",
       "      <td>Рыбинск</td>\n",
       "      <td>Ж</td>\n",
       "      <td>NaN</td>\n",
       "      <td>0</td>\n",
       "      <td>NaN</td>\n",
       "      <td>1</td>\n",
       "      <td>1</td>\n",
       "      <td>1</td>\n",
       "      <td>160368.82</td>\n",
       "      <td>0</td>\n",
       "    </tr>\n",
       "    <tr>\n",
       "      <th>2444</th>\n",
       "      <td>221156</td>\n",
       "      <td>913.0</td>\n",
       "      <td>Ярославль</td>\n",
       "      <td>М</td>\n",
       "      <td>NaN</td>\n",
       "      <td>0</td>\n",
       "      <td>NaN</td>\n",
       "      <td>1</td>\n",
       "      <td>1</td>\n",
       "      <td>1</td>\n",
       "      <td>135693.24</td>\n",
       "      <td>0</td>\n",
       "    </tr>\n",
       "    <tr>\n",
       "      <th>3091</th>\n",
       "      <td>138660</td>\n",
       "      <td>836.0</td>\n",
       "      <td>Ростов</td>\n",
       "      <td>Ж</td>\n",
       "      <td>NaN</td>\n",
       "      <td>5</td>\n",
       "      <td>294315.53</td>\n",
       "      <td>2</td>\n",
       "      <td>0</td>\n",
       "      <td>1</td>\n",
       "      <td>63310.22</td>\n",
       "      <td>1</td>\n",
       "    </tr>\n",
       "    <tr>\n",
       "      <th>4912</th>\n",
       "      <td>210674</td>\n",
       "      <td>834.0</td>\n",
       "      <td>Рыбинск</td>\n",
       "      <td>М</td>\n",
       "      <td>NaN</td>\n",
       "      <td>1</td>\n",
       "      <td>238330.52</td>\n",
       "      <td>2</td>\n",
       "      <td>0</td>\n",
       "      <td>1</td>\n",
       "      <td>93775.06</td>\n",
       "      <td>0</td>\n",
       "    </tr>\n",
       "    <tr>\n",
       "      <th>5470</th>\n",
       "      <td>218868</td>\n",
       "      <td>827.0</td>\n",
       "      <td>Рыбинск</td>\n",
       "      <td>Ж</td>\n",
       "      <td>NaN</td>\n",
       "      <td>4</td>\n",
       "      <td>448959.07</td>\n",
       "      <td>2</td>\n",
       "      <td>1</td>\n",
       "      <td>1</td>\n",
       "      <td>67835.95</td>\n",
       "      <td>0</td>\n",
       "    </tr>\n",
       "    <tr>\n",
       "      <th>5495</th>\n",
       "      <td>151662</td>\n",
       "      <td>884.0</td>\n",
       "      <td>Рыбинск</td>\n",
       "      <td>Ж</td>\n",
       "      <td>NaN</td>\n",
       "      <td>0</td>\n",
       "      <td>NaN</td>\n",
       "      <td>1</td>\n",
       "      <td>1</td>\n",
       "      <td>1</td>\n",
       "      <td>137500.77</td>\n",
       "      <td>0</td>\n",
       "    </tr>\n",
       "    <tr>\n",
       "      <th>7236</th>\n",
       "      <td>210135</td>\n",
       "      <td>908.0</td>\n",
       "      <td>Рыбинск</td>\n",
       "      <td>Ж</td>\n",
       "      <td>NaN</td>\n",
       "      <td>4</td>\n",
       "      <td>1120340.31</td>\n",
       "      <td>3</td>\n",
       "      <td>1</td>\n",
       "      <td>1</td>\n",
       "      <td>85002.15</td>\n",
       "      <td>0</td>\n",
       "    </tr>\n",
       "    <tr>\n",
       "      <th>7248</th>\n",
       "      <td>219343</td>\n",
       "      <td>920.0</td>\n",
       "      <td>Рыбинск</td>\n",
       "      <td>Ж</td>\n",
       "      <td>NaN</td>\n",
       "      <td>0</td>\n",
       "      <td>NaN</td>\n",
       "      <td>1</td>\n",
       "      <td>1</td>\n",
       "      <td>0</td>\n",
       "      <td>159248.67</td>\n",
       "      <td>0</td>\n",
       "    </tr>\n",
       "    <tr>\n",
       "      <th>7345</th>\n",
       "      <td>184913</td>\n",
       "      <td>829.0</td>\n",
       "      <td>Ярославль</td>\n",
       "      <td>Ж</td>\n",
       "      <td>NaN</td>\n",
       "      <td>3</td>\n",
       "      <td>188648.77</td>\n",
       "      <td>2</td>\n",
       "      <td>0</td>\n",
       "      <td>1</td>\n",
       "      <td>75206.90</td>\n",
       "      <td>0</td>\n",
       "    </tr>\n",
       "    <tr>\n",
       "      <th>7409</th>\n",
       "      <td>214031</td>\n",
       "      <td>777.0</td>\n",
       "      <td>Ярославль</td>\n",
       "      <td>М</td>\n",
       "      <td>NaN</td>\n",
       "      <td>2</td>\n",
       "      <td>171510.23</td>\n",
       "      <td>1</td>\n",
       "      <td>1</td>\n",
       "      <td>1</td>\n",
       "      <td>75409.63</td>\n",
       "      <td>0</td>\n",
       "    </tr>\n",
       "    <tr>\n",
       "      <th>8015</th>\n",
       "      <td>198635</td>\n",
       "      <td>670.0</td>\n",
       "      <td>Ярославль</td>\n",
       "      <td>Ж</td>\n",
       "      <td>NaN</td>\n",
       "      <td>0</td>\n",
       "      <td>NaN</td>\n",
       "      <td>1</td>\n",
       "      <td>1</td>\n",
       "      <td>1</td>\n",
       "      <td>168699.33</td>\n",
       "      <td>0</td>\n",
       "    </tr>\n",
       "    <tr>\n",
       "      <th>8070</th>\n",
       "      <td>226550</td>\n",
       "      <td>940.0</td>\n",
       "      <td>Рыбинск</td>\n",
       "      <td>М</td>\n",
       "      <td>NaN</td>\n",
       "      <td>0</td>\n",
       "      <td>NaN</td>\n",
       "      <td>1</td>\n",
       "      <td>0</td>\n",
       "      <td>1</td>\n",
       "      <td>147696.95</td>\n",
       "      <td>0</td>\n",
       "    </tr>\n",
       "    <tr>\n",
       "      <th>8293</th>\n",
       "      <td>216848</td>\n",
       "      <td>930.0</td>\n",
       "      <td>Ярославль</td>\n",
       "      <td>М</td>\n",
       "      <td>NaN</td>\n",
       "      <td>0</td>\n",
       "      <td>NaN</td>\n",
       "      <td>1</td>\n",
       "      <td>1</td>\n",
       "      <td>1</td>\n",
       "      <td>199542.51</td>\n",
       "      <td>0</td>\n",
       "    </tr>\n",
       "    <tr>\n",
       "      <th>8385</th>\n",
       "      <td>206759</td>\n",
       "      <td>915.0</td>\n",
       "      <td>Рыбинск</td>\n",
       "      <td>М</td>\n",
       "      <td>NaN</td>\n",
       "      <td>0</td>\n",
       "      <td>NaN</td>\n",
       "      <td>1</td>\n",
       "      <td>1</td>\n",
       "      <td>0</td>\n",
       "      <td>71179.53</td>\n",
       "      <td>0</td>\n",
       "    </tr>\n",
       "    <tr>\n",
       "      <th>8449</th>\n",
       "      <td>210898</td>\n",
       "      <td>805.0</td>\n",
       "      <td>Ярославль</td>\n",
       "      <td>Ж</td>\n",
       "      <td>NaN</td>\n",
       "      <td>0</td>\n",
       "      <td>NaN</td>\n",
       "      <td>1</td>\n",
       "      <td>0</td>\n",
       "      <td>1</td>\n",
       "      <td>922080.25</td>\n",
       "      <td>0</td>\n",
       "    </tr>\n",
       "    <tr>\n",
       "      <th>8632</th>\n",
       "      <td>221197</td>\n",
       "      <td>893.0</td>\n",
       "      <td>Ярославль</td>\n",
       "      <td>М</td>\n",
       "      <td>NaN</td>\n",
       "      <td>0</td>\n",
       "      <td>NaN</td>\n",
       "      <td>1</td>\n",
       "      <td>1</td>\n",
       "      <td>0</td>\n",
       "      <td>173929.92</td>\n",
       "      <td>0</td>\n",
       "    </tr>\n",
       "    <tr>\n",
       "      <th>8785</th>\n",
       "      <td>127440</td>\n",
       "      <td>663.0</td>\n",
       "      <td>Ярославль</td>\n",
       "      <td>М</td>\n",
       "      <td>NaN</td>\n",
       "      <td>0</td>\n",
       "      <td>NaN</td>\n",
       "      <td>1</td>\n",
       "      <td>1</td>\n",
       "      <td>1</td>\n",
       "      <td>117197.56</td>\n",
       "      <td>0</td>\n",
       "    </tr>\n",
       "    <tr>\n",
       "      <th>9104</th>\n",
       "      <td>222480</td>\n",
       "      <td>776.0</td>\n",
       "      <td>Рыбинск</td>\n",
       "      <td>Ж</td>\n",
       "      <td>NaN</td>\n",
       "      <td>5</td>\n",
       "      <td>796735.09</td>\n",
       "      <td>1</td>\n",
       "      <td>1</td>\n",
       "      <td>1</td>\n",
       "      <td>55073.63</td>\n",
       "      <td>0</td>\n",
       "    </tr>\n",
       "    <tr>\n",
       "      <th>9301</th>\n",
       "      <td>202983</td>\n",
       "      <td>942.0</td>\n",
       "      <td>Рыбинск</td>\n",
       "      <td>Ж</td>\n",
       "      <td>NaN</td>\n",
       "      <td>0</td>\n",
       "      <td>NaN</td>\n",
       "      <td>1</td>\n",
       "      <td>1</td>\n",
       "      <td>1</td>\n",
       "      <td>163804.73</td>\n",
       "      <td>0</td>\n",
       "    </tr>\n",
       "    <tr>\n",
       "      <th>9380</th>\n",
       "      <td>187459</td>\n",
       "      <td>894.0</td>\n",
       "      <td>Рыбинск</td>\n",
       "      <td>М</td>\n",
       "      <td>NaN</td>\n",
       "      <td>0</td>\n",
       "      <td>NaN</td>\n",
       "      <td>1</td>\n",
       "      <td>1</td>\n",
       "      <td>0</td>\n",
       "      <td>178012.28</td>\n",
       "      <td>0</td>\n",
       "    </tr>\n",
       "    <tr>\n",
       "      <th>9457</th>\n",
       "      <td>141945</td>\n",
       "      <td>929.0</td>\n",
       "      <td>Ярославль</td>\n",
       "      <td>М</td>\n",
       "      <td>NaN</td>\n",
       "      <td>0</td>\n",
       "      <td>NaN</td>\n",
       "      <td>1</td>\n",
       "      <td>1</td>\n",
       "      <td>0</td>\n",
       "      <td>381868.89</td>\n",
       "      <td>0</td>\n",
       "    </tr>\n",
       "    <tr>\n",
       "      <th>9632</th>\n",
       "      <td>185829</td>\n",
       "      <td>927.0</td>\n",
       "      <td>Ярославль</td>\n",
       "      <td>М</td>\n",
       "      <td>NaN</td>\n",
       "      <td>0</td>\n",
       "      <td>NaN</td>\n",
       "      <td>1</td>\n",
       "      <td>1</td>\n",
       "      <td>0</td>\n",
       "      <td>231254.86</td>\n",
       "      <td>0</td>\n",
       "    </tr>\n",
       "    <tr>\n",
       "      <th>9634</th>\n",
       "      <td>221809</td>\n",
       "      <td>917.0</td>\n",
       "      <td>Ярославль</td>\n",
       "      <td>М</td>\n",
       "      <td>NaN</td>\n",
       "      <td>0</td>\n",
       "      <td>NaN</td>\n",
       "      <td>1</td>\n",
       "      <td>1</td>\n",
       "      <td>1</td>\n",
       "      <td>192644.15</td>\n",
       "      <td>0</td>\n",
       "    </tr>\n",
       "    <tr>\n",
       "      <th>9667</th>\n",
       "      <td>163657</td>\n",
       "      <td>849.0</td>\n",
       "      <td>Ярославль</td>\n",
       "      <td>М</td>\n",
       "      <td>NaN</td>\n",
       "      <td>4</td>\n",
       "      <td>1254013.85</td>\n",
       "      <td>2</td>\n",
       "      <td>1</td>\n",
       "      <td>1</td>\n",
       "      <td>119106.67</td>\n",
       "      <td>0</td>\n",
       "    </tr>\n",
       "    <tr>\n",
       "      <th>9819</th>\n",
       "      <td>140934</td>\n",
       "      <td>832.0</td>\n",
       "      <td>Рыбинск</td>\n",
       "      <td>Ж</td>\n",
       "      <td>NaN</td>\n",
       "      <td>3</td>\n",
       "      <td>385763.16</td>\n",
       "      <td>2</td>\n",
       "      <td>0</td>\n",
       "      <td>1</td>\n",
       "      <td>59651.35</td>\n",
       "      <td>0</td>\n",
       "    </tr>\n",
       "  </tbody>\n",
       "</table>\n",
       "</div>"
      ],
      "text/plain": [
       "      user_id  score       city gender  age  equity     balance  products  \\\n",
       "1247   228075  932.0  Ярославль      М  NaN       5  7601719.20         2   \n",
       "2165   187635  692.0    Рыбинск      Ж  NaN       0         NaN         1   \n",
       "2444   221156  913.0  Ярославль      М  NaN       0         NaN         1   \n",
       "3091   138660  836.0     Ростов      Ж  NaN       5   294315.53         2   \n",
       "4912   210674  834.0    Рыбинск      М  NaN       1   238330.52         2   \n",
       "5470   218868  827.0    Рыбинск      Ж  NaN       4   448959.07         2   \n",
       "5495   151662  884.0    Рыбинск      Ж  NaN       0         NaN         1   \n",
       "7236   210135  908.0    Рыбинск      Ж  NaN       4  1120340.31         3   \n",
       "7248   219343  920.0    Рыбинск      Ж  NaN       0         NaN         1   \n",
       "7345   184913  829.0  Ярославль      Ж  NaN       3   188648.77         2   \n",
       "7409   214031  777.0  Ярославль      М  NaN       2   171510.23         1   \n",
       "8015   198635  670.0  Ярославль      Ж  NaN       0         NaN         1   \n",
       "8070   226550  940.0    Рыбинск      М  NaN       0         NaN         1   \n",
       "8293   216848  930.0  Ярославль      М  NaN       0         NaN         1   \n",
       "8385   206759  915.0    Рыбинск      М  NaN       0         NaN         1   \n",
       "8449   210898  805.0  Ярославль      Ж  NaN       0         NaN         1   \n",
       "8632   221197  893.0  Ярославль      М  NaN       0         NaN         1   \n",
       "8785   127440  663.0  Ярославль      М  NaN       0         NaN         1   \n",
       "9104   222480  776.0    Рыбинск      Ж  NaN       5   796735.09         1   \n",
       "9301   202983  942.0    Рыбинск      Ж  NaN       0         NaN         1   \n",
       "9380   187459  894.0    Рыбинск      М  NaN       0         NaN         1   \n",
       "9457   141945  929.0  Ярославль      М  NaN       0         NaN         1   \n",
       "9632   185829  927.0  Ярославль      М  NaN       0         NaN         1   \n",
       "9634   221809  917.0  Ярославль      М  NaN       0         NaN         1   \n",
       "9667   163657  849.0  Ярославль      М  NaN       4  1254013.85         2   \n",
       "9819   140934  832.0    Рыбинск      Ж  NaN       3   385763.16         2   \n",
       "\n",
       "      credit_card  last_activity  est_salary  churn  \n",
       "1247            1              1   408121.16      0  \n",
       "2165            1              1   160368.82      0  \n",
       "2444            1              1   135693.24      0  \n",
       "3091            0              1    63310.22      1  \n",
       "4912            0              1    93775.06      0  \n",
       "5470            1              1    67835.95      0  \n",
       "5495            1              1   137500.77      0  \n",
       "7236            1              1    85002.15      0  \n",
       "7248            1              0   159248.67      0  \n",
       "7345            0              1    75206.90      0  \n",
       "7409            1              1    75409.63      0  \n",
       "8015            1              1   168699.33      0  \n",
       "8070            0              1   147696.95      0  \n",
       "8293            1              1   199542.51      0  \n",
       "8385            1              0    71179.53      0  \n",
       "8449            0              1   922080.25      0  \n",
       "8632            1              0   173929.92      0  \n",
       "8785            1              1   117197.56      0  \n",
       "9104            1              1    55073.63      0  \n",
       "9301            1              1   163804.73      0  \n",
       "9380            1              0   178012.28      0  \n",
       "9457            1              0   381868.89      0  \n",
       "9632            1              0   231254.86      0  \n",
       "9634            1              1   192644.15      0  \n",
       "9667            1              1   119106.67      0  \n",
       "9819            0              1    59651.35      0  "
      ]
     },
     "execution_count": 13,
     "metadata": {},
     "output_type": "execute_result"
    }
   ],
   "source": [
    "data_isna_a = data[data['age'].isnull() == True ] \n",
    "data_isna_a.head(26)\n",
    "# смотрим у кого пропуски в возрасте"
   ]
  },
  {
   "cell_type": "markdown",
   "metadata": {},
   "source": [
    "Возраст пропущен у 26 человек, все они из Ярославля и Рыбинска, являются клиентами банка. Кроме одной женщины из Ростова, которая ушла. "
   ]
  },
  {
   "cell_type": "code",
   "execution_count": 14,
   "metadata": {},
   "outputs": [
    {
     "data": {
      "text/html": [
       "<div>\n",
       "<style scoped>\n",
       "    .dataframe tbody tr th:only-of-type {\n",
       "        vertical-align: middle;\n",
       "    }\n",
       "\n",
       "    .dataframe tbody tr th {\n",
       "        vertical-align: top;\n",
       "    }\n",
       "\n",
       "    .dataframe thead th {\n",
       "        text-align: right;\n",
       "    }\n",
       "</style>\n",
       "<table border=\"1\" class=\"dataframe\">\n",
       "  <thead>\n",
       "    <tr style=\"text-align: right;\">\n",
       "      <th></th>\n",
       "      <th>user_id</th>\n",
       "      <th>score</th>\n",
       "      <th>city</th>\n",
       "      <th>gender</th>\n",
       "      <th>age</th>\n",
       "      <th>equity</th>\n",
       "      <th>balance</th>\n",
       "      <th>products</th>\n",
       "      <th>credit_card</th>\n",
       "      <th>last_activity</th>\n",
       "      <th>est_salary</th>\n",
       "      <th>churn</th>\n",
       "    </tr>\n",
       "  </thead>\n",
       "  <tbody>\n",
       "    <tr>\n",
       "      <th>2</th>\n",
       "      <td>120722</td>\n",
       "      <td>892.0</td>\n",
       "      <td>Рыбинск</td>\n",
       "      <td>Ж</td>\n",
       "      <td>30.0</td>\n",
       "      <td>0</td>\n",
       "      <td>NaN</td>\n",
       "      <td>1</td>\n",
       "      <td>1</td>\n",
       "      <td>1</td>\n",
       "      <td>107683.34</td>\n",
       "      <td>0</td>\n",
       "    </tr>\n",
       "    <tr>\n",
       "      <th>9</th>\n",
       "      <td>133130</td>\n",
       "      <td>906.0</td>\n",
       "      <td>Ярославль</td>\n",
       "      <td>Ж</td>\n",
       "      <td>67.0</td>\n",
       "      <td>0</td>\n",
       "      <td>NaN</td>\n",
       "      <td>1</td>\n",
       "      <td>0</td>\n",
       "      <td>1</td>\n",
       "      <td>238055.53</td>\n",
       "      <td>0</td>\n",
       "    </tr>\n",
       "    <tr>\n",
       "      <th>10</th>\n",
       "      <td>148929</td>\n",
       "      <td>927.0</td>\n",
       "      <td>Ростов</td>\n",
       "      <td>М</td>\n",
       "      <td>52.0</td>\n",
       "      <td>0</td>\n",
       "      <td>NaN</td>\n",
       "      <td>1</td>\n",
       "      <td>1</td>\n",
       "      <td>1</td>\n",
       "      <td>196820.07</td>\n",
       "      <td>0</td>\n",
       "    </tr>\n",
       "    <tr>\n",
       "      <th>11</th>\n",
       "      <td>172184</td>\n",
       "      <td>921.0</td>\n",
       "      <td>Ростов</td>\n",
       "      <td>М</td>\n",
       "      <td>41.0</td>\n",
       "      <td>0</td>\n",
       "      <td>NaN</td>\n",
       "      <td>1</td>\n",
       "      <td>1</td>\n",
       "      <td>1</td>\n",
       "      <td>217469.48</td>\n",
       "      <td>0</td>\n",
       "    </tr>\n",
       "    <tr>\n",
       "      <th>19</th>\n",
       "      <td>127034</td>\n",
       "      <td>922.0</td>\n",
       "      <td>Рыбинск</td>\n",
       "      <td>Ж</td>\n",
       "      <td>53.0</td>\n",
       "      <td>0</td>\n",
       "      <td>NaN</td>\n",
       "      <td>1</td>\n",
       "      <td>0</td>\n",
       "      <td>0</td>\n",
       "      <td>147094.82</td>\n",
       "      <td>0</td>\n",
       "    </tr>\n",
       "    <tr>\n",
       "      <th>21</th>\n",
       "      <td>177415</td>\n",
       "      <td>896.0</td>\n",
       "      <td>Рыбинск</td>\n",
       "      <td>Ж</td>\n",
       "      <td>47.0</td>\n",
       "      <td>0</td>\n",
       "      <td>NaN</td>\n",
       "      <td>1</td>\n",
       "      <td>0</td>\n",
       "      <td>0</td>\n",
       "      <td>225060.35</td>\n",
       "      <td>0</td>\n",
       "    </tr>\n",
       "    <tr>\n",
       "      <th>30</th>\n",
       "      <td>155730</td>\n",
       "      <td>946.0</td>\n",
       "      <td>Ярославль</td>\n",
       "      <td>Ж</td>\n",
       "      <td>47.0</td>\n",
       "      <td>0</td>\n",
       "      <td>NaN</td>\n",
       "      <td>2</td>\n",
       "      <td>1</td>\n",
       "      <td>1</td>\n",
       "      <td>660015.85</td>\n",
       "      <td>0</td>\n",
       "    </tr>\n",
       "    <tr>\n",
       "      <th>34</th>\n",
       "      <td>205226</td>\n",
       "      <td>944.0</td>\n",
       "      <td>Ярославль</td>\n",
       "      <td>М</td>\n",
       "      <td>35.0</td>\n",
       "      <td>0</td>\n",
       "      <td>NaN</td>\n",
       "      <td>2</td>\n",
       "      <td>1</td>\n",
       "      <td>1</td>\n",
       "      <td>239843.39</td>\n",
       "      <td>0</td>\n",
       "    </tr>\n",
       "    <tr>\n",
       "      <th>39</th>\n",
       "      <td>173175</td>\n",
       "      <td>924.0</td>\n",
       "      <td>Рыбинск</td>\n",
       "      <td>Ж</td>\n",
       "      <td>51.0</td>\n",
       "      <td>0</td>\n",
       "      <td>NaN</td>\n",
       "      <td>1</td>\n",
       "      <td>1</td>\n",
       "      <td>1</td>\n",
       "      <td>248844.47</td>\n",
       "      <td>0</td>\n",
       "    </tr>\n",
       "    <tr>\n",
       "      <th>43</th>\n",
       "      <td>228585</td>\n",
       "      <td>956.0</td>\n",
       "      <td>Ростов</td>\n",
       "      <td>М</td>\n",
       "      <td>41.0</td>\n",
       "      <td>0</td>\n",
       "      <td>NaN</td>\n",
       "      <td>1</td>\n",
       "      <td>1</td>\n",
       "      <td>0</td>\n",
       "      <td>115117.10</td>\n",
       "      <td>0</td>\n",
       "    </tr>\n",
       "  </tbody>\n",
       "</table>\n",
       "</div>"
      ],
      "text/plain": [
       "    user_id  score       city gender   age  equity  balance  products  \\\n",
       "2    120722  892.0    Рыбинск      Ж  30.0       0      NaN         1   \n",
       "9    133130  906.0  Ярославль      Ж  67.0       0      NaN         1   \n",
       "10   148929  927.0     Ростов      М  52.0       0      NaN         1   \n",
       "11   172184  921.0     Ростов      М  41.0       0      NaN         1   \n",
       "19   127034  922.0    Рыбинск      Ж  53.0       0      NaN         1   \n",
       "21   177415  896.0    Рыбинск      Ж  47.0       0      NaN         1   \n",
       "30   155730  946.0  Ярославль      Ж  47.0       0      NaN         2   \n",
       "34   205226  944.0  Ярославль      М  35.0       0      NaN         2   \n",
       "39   173175  924.0    Рыбинск      Ж  51.0       0      NaN         1   \n",
       "43   228585  956.0     Ростов      М  41.0       0      NaN         1   \n",
       "\n",
       "    credit_card  last_activity  est_salary  churn  \n",
       "2             1              1   107683.34      0  \n",
       "9             0              1   238055.53      0  \n",
       "10            1              1   196820.07      0  \n",
       "11            1              1   217469.48      0  \n",
       "19            0              0   147094.82      0  \n",
       "21            0              0   225060.35      0  \n",
       "30            1              1   660015.85      0  \n",
       "34            1              1   239843.39      0  \n",
       "39            1              1   248844.47      0  \n",
       "43            1              0   115117.10      0  "
      ]
     },
     "execution_count": 14,
     "metadata": {},
     "output_type": "execute_result"
    }
   ],
   "source": [
    "data_isna_b = data[data['balance'].isnull() == True ] \n",
    "data_isna_b.head(10)\n",
    "# посмотрим у кого пропуски в балансе"
   ]
  },
  {
   "cell_type": "code",
   "execution_count": 15,
   "metadata": {},
   "outputs": [
    {
     "data": {
      "text/plain": [
       "city\n",
       "Ростов        235\n",
       "Рыбинск       593\n",
       "Ярославль    1467\n",
       "Name: city, dtype: int64"
      ]
     },
     "execution_count": 15,
     "metadata": {},
     "output_type": "execute_result"
    }
   ],
   "source": [
    "data_isna_b.groupby('city')['city'].count()\n",
    "# посмотрим пропуски по городам"
   ]
  },
  {
   "cell_type": "code",
   "execution_count": 16,
   "metadata": {},
   "outputs": [
    {
     "data": {
      "text/plain": [
       "last_activity\n",
       "0    1034\n",
       "1    1261\n",
       "Name: last_activity, dtype: int64"
      ]
     },
     "execution_count": 16,
     "metadata": {},
     "output_type": "execute_result"
    }
   ],
   "source": [
    "data_isna_b.groupby('last_activity')['last_activity'].count()\n",
    "# посмотрим пропуски по активности"
   ]
  },
  {
   "cell_type": "code",
   "execution_count": 17,
   "metadata": {},
   "outputs": [
    {
     "data": {
      "text/plain": [
       "credit_card\n",
       "0     423\n",
       "1    1872\n",
       "Name: credit_card, dtype: int64"
      ]
     },
     "execution_count": 17,
     "metadata": {},
     "output_type": "execute_result"
    }
   ],
   "source": [
    "data_isna_b.groupby('credit_card')['credit_card'].count()\n",
    "# посмотрим пропуски по наличию кредитной карты"
   ]
  },
  {
   "cell_type": "code",
   "execution_count": 18,
   "metadata": {},
   "outputs": [
    {
     "data": {
      "text/plain": [
       "products\n",
       "0       1\n",
       "1    1950\n",
       "2     315\n",
       "3      29\n",
       "Name: products, dtype: int64"
      ]
     },
     "execution_count": 18,
     "metadata": {},
     "output_type": "execute_result"
    }
   ],
   "source": [
    "data_isna_b.groupby('products')['products'].count()\n",
    "# посмотрим пропуски по количеству продуктов"
   ]
  },
  {
   "cell_type": "code",
   "execution_count": 19,
   "metadata": {},
   "outputs": [
    {
     "data": {
      "text/plain": [
       "churn\n",
       "0    2282\n",
       "1      13\n",
       "Name: churn, dtype: int64"
      ]
     },
     "execution_count": 19,
     "metadata": {},
     "output_type": "execute_result"
    }
   ],
   "source": [
    "data_isna_b.groupby('churn')['churn'].count()\n",
    "# а вообще клиенты может уже ушли?"
   ]
  },
  {
   "cell_type": "code",
   "execution_count": 20,
   "metadata": {
    "scrolled": true
   },
   "outputs": [
    {
     "data": {
      "text/plain": [
       "city\n",
       "Ростов       1417\n",
       "Рыбинск      2695\n",
       "Ярославль    5888\n",
       "Name: city, dtype: int64"
      ]
     },
     "execution_count": 20,
     "metadata": {},
     "output_type": "execute_result"
    }
   ],
   "source": [
    "data.groupby('city')['city'].count()\n",
    "# посмотрим как распределены клиенты по городам"
   ]
  },
  {
   "cell_type": "code",
   "execution_count": 21,
   "metadata": {},
   "outputs": [
    {
     "data": {
      "text/html": [
       "<div>\n",
       "<style scoped>\n",
       "    .dataframe tbody tr th:only-of-type {\n",
       "        vertical-align: middle;\n",
       "    }\n",
       "\n",
       "    .dataframe tbody tr th {\n",
       "        vertical-align: top;\n",
       "    }\n",
       "\n",
       "    .dataframe thead th {\n",
       "        text-align: right;\n",
       "    }\n",
       "</style>\n",
       "<table border=\"1\" class=\"dataframe\">\n",
       "  <thead>\n",
       "    <tr style=\"text-align: right;\">\n",
       "      <th></th>\n",
       "      <th>user_id</th>\n",
       "      <th>score</th>\n",
       "      <th>age</th>\n",
       "      <th>equity</th>\n",
       "      <th>balance</th>\n",
       "      <th>products</th>\n",
       "      <th>credit_card</th>\n",
       "      <th>last_activity</th>\n",
       "      <th>est_salary</th>\n",
       "      <th>churn</th>\n",
       "    </tr>\n",
       "  </thead>\n",
       "  <tbody>\n",
       "    <tr>\n",
       "      <th>count</th>\n",
       "      <td>10,000.00</td>\n",
       "      <td>10,000.00</td>\n",
       "      <td>9,974.00</td>\n",
       "      <td>10,000.00</td>\n",
       "      <td>7,705.00</td>\n",
       "      <td>10,000.00</td>\n",
       "      <td>10,000.00</td>\n",
       "      <td>10,000.00</td>\n",
       "      <td>10,000.00</td>\n",
       "      <td>10,000.00</td>\n",
       "    </tr>\n",
       "    <tr>\n",
       "      <th>mean</th>\n",
       "      <td>171,814.71</td>\n",
       "      <td>848.70</td>\n",
       "      <td>42.73</td>\n",
       "      <td>2.63</td>\n",
       "      <td>827,794.31</td>\n",
       "      <td>1.87</td>\n",
       "      <td>0.68</td>\n",
       "      <td>0.52</td>\n",
       "      <td>147,866.89</td>\n",
       "      <td>0.18</td>\n",
       "    </tr>\n",
       "    <tr>\n",
       "      <th>std</th>\n",
       "      <td>33,708.24</td>\n",
       "      <td>65.45</td>\n",
       "      <td>12.18</td>\n",
       "      <td>1.98</td>\n",
       "      <td>1,980,614.15</td>\n",
       "      <td>0.79</td>\n",
       "      <td>0.47</td>\n",
       "      <td>0.50</td>\n",
       "      <td>139,388.51</td>\n",
       "      <td>0.39</td>\n",
       "    </tr>\n",
       "    <tr>\n",
       "      <th>min</th>\n",
       "      <td>94,561.00</td>\n",
       "      <td>642.00</td>\n",
       "      <td>18.00</td>\n",
       "      <td>0.00</td>\n",
       "      <td>0.00</td>\n",
       "      <td>0.00</td>\n",
       "      <td>0.00</td>\n",
       "      <td>0.00</td>\n",
       "      <td>2,546.30</td>\n",
       "      <td>0.00</td>\n",
       "    </tr>\n",
       "    <tr>\n",
       "      <th>25%</th>\n",
       "      <td>142,810.25</td>\n",
       "      <td>802.00</td>\n",
       "      <td>33.00</td>\n",
       "      <td>0.00</td>\n",
       "      <td>295,554.16</td>\n",
       "      <td>1.00</td>\n",
       "      <td>0.00</td>\n",
       "      <td>0.00</td>\n",
       "      <td>75,251.90</td>\n",
       "      <td>0.00</td>\n",
       "    </tr>\n",
       "    <tr>\n",
       "      <th>50%</th>\n",
       "      <td>172,728.00</td>\n",
       "      <td>853.00</td>\n",
       "      <td>40.00</td>\n",
       "      <td>3.00</td>\n",
       "      <td>524,272.20</td>\n",
       "      <td>2.00</td>\n",
       "      <td>1.00</td>\n",
       "      <td>1.00</td>\n",
       "      <td>119,658.10</td>\n",
       "      <td>0.00</td>\n",
       "    </tr>\n",
       "    <tr>\n",
       "      <th>75%</th>\n",
       "      <td>201,261.75</td>\n",
       "      <td>900.00</td>\n",
       "      <td>51.00</td>\n",
       "      <td>4.00</td>\n",
       "      <td>980,705.85</td>\n",
       "      <td>2.00</td>\n",
       "      <td>1.00</td>\n",
       "      <td>1.00</td>\n",
       "      <td>174,500.54</td>\n",
       "      <td>0.00</td>\n",
       "    </tr>\n",
       "    <tr>\n",
       "      <th>max</th>\n",
       "      <td>229,145.00</td>\n",
       "      <td>1,000.00</td>\n",
       "      <td>86.00</td>\n",
       "      <td>9.00</td>\n",
       "      <td>119,113,552.01</td>\n",
       "      <td>5.00</td>\n",
       "      <td>1.00</td>\n",
       "      <td>1.00</td>\n",
       "      <td>1,395,064.45</td>\n",
       "      <td>1.00</td>\n",
       "    </tr>\n",
       "  </tbody>\n",
       "</table>\n",
       "</div>"
      ],
      "text/plain": [
       "          user_id      score       age     equity         balance   products  \\\n",
       "count   10,000.00  10,000.00  9,974.00  10,000.00        7,705.00  10,000.00   \n",
       "mean   171,814.71     848.70     42.73       2.63      827,794.31       1.87   \n",
       "std     33,708.24      65.45     12.18       1.98    1,980,614.15       0.79   \n",
       "min     94,561.00     642.00     18.00       0.00            0.00       0.00   \n",
       "25%    142,810.25     802.00     33.00       0.00      295,554.16       1.00   \n",
       "50%    172,728.00     853.00     40.00       3.00      524,272.20       2.00   \n",
       "75%    201,261.75     900.00     51.00       4.00      980,705.85       2.00   \n",
       "max    229,145.00   1,000.00     86.00       9.00  119,113,552.01       5.00   \n",
       "\n",
       "      credit_card last_activity    est_salary      churn  \n",
       "count   10,000.00     10,000.00     10,000.00  10,000.00  \n",
       "mean         0.68          0.52    147,866.89       0.18  \n",
       "std          0.47          0.50    139,388.51       0.39  \n",
       "min          0.00          0.00      2,546.30       0.00  \n",
       "25%          0.00          0.00     75,251.90       0.00  \n",
       "50%          1.00          1.00    119,658.10       0.00  \n",
       "75%          1.00          1.00    174,500.54       0.00  \n",
       "max          1.00          1.00  1,395,064.45       1.00  "
      ]
     },
     "execution_count": 21,
     "metadata": {},
     "output_type": "execute_result"
    }
   ],
   "source": [
    "data.describe().applymap('{:,.2f}'.format)\n",
    "# посмотрим на аномалии"
   ]
  },
  {
   "cell_type": "markdown",
   "metadata": {},
   "source": [
    "Странное значение клиента с 0 продуктов банка"
   ]
  },
  {
   "cell_type": "code",
   "execution_count": 22,
   "metadata": {},
   "outputs": [
    {
     "data": {
      "text/html": [
       "<div>\n",
       "<style scoped>\n",
       "    .dataframe tbody tr th:only-of-type {\n",
       "        vertical-align: middle;\n",
       "    }\n",
       "\n",
       "    .dataframe tbody tr th {\n",
       "        vertical-align: top;\n",
       "    }\n",
       "\n",
       "    .dataframe thead th {\n",
       "        text-align: right;\n",
       "    }\n",
       "</style>\n",
       "<table border=\"1\" class=\"dataframe\">\n",
       "  <thead>\n",
       "    <tr style=\"text-align: right;\">\n",
       "      <th></th>\n",
       "      <th>user_id</th>\n",
       "      <th>score</th>\n",
       "      <th>city</th>\n",
       "      <th>gender</th>\n",
       "      <th>age</th>\n",
       "      <th>equity</th>\n",
       "      <th>balance</th>\n",
       "      <th>products</th>\n",
       "      <th>credit_card</th>\n",
       "      <th>last_activity</th>\n",
       "      <th>est_salary</th>\n",
       "      <th>churn</th>\n",
       "    </tr>\n",
       "  </thead>\n",
       "  <tbody>\n",
       "    <tr>\n",
       "      <th>8957</th>\n",
       "      <td>147837</td>\n",
       "      <td>962.0</td>\n",
       "      <td>Рыбинск</td>\n",
       "      <td>Ж</td>\n",
       "      <td>79.0</td>\n",
       "      <td>3</td>\n",
       "      <td>NaN</td>\n",
       "      <td>0</td>\n",
       "      <td>0</td>\n",
       "      <td>0</td>\n",
       "      <td>25063.96</td>\n",
       "      <td>1</td>\n",
       "    </tr>\n",
       "  </tbody>\n",
       "</table>\n",
       "</div>"
      ],
      "text/plain": [
       "      user_id  score     city gender   age  equity  balance  products  \\\n",
       "8957   147837  962.0  Рыбинск      Ж  79.0       3      NaN         0   \n",
       "\n",
       "      credit_card  last_activity  est_salary  churn  \n",
       "8957            0              0    25063.96      1  "
      ]
     },
     "execution_count": 22,
     "metadata": {},
     "output_type": "execute_result"
    }
   ],
   "source": [
    "data[data['products']==0]"
   ]
  },
  {
   "cell_type": "code",
   "execution_count": 23,
   "metadata": {},
   "outputs": [],
   "source": [
    "data = data[data['products']!=0]\n",
    "# удалим странное значение, тем более, что это уже не клиент банка"
   ]
  },
  {
   "cell_type": "code",
   "execution_count": 24,
   "metadata": {},
   "outputs": [
    {
     "data": {
      "text/html": [
       "<div>\n",
       "<style scoped>\n",
       "    .dataframe tbody tr th:only-of-type {\n",
       "        vertical-align: middle;\n",
       "    }\n",
       "\n",
       "    .dataframe tbody tr th {\n",
       "        vertical-align: top;\n",
       "    }\n",
       "\n",
       "    .dataframe thead th {\n",
       "        text-align: right;\n",
       "    }\n",
       "</style>\n",
       "<table border=\"1\" class=\"dataframe\">\n",
       "  <thead>\n",
       "    <tr style=\"text-align: right;\">\n",
       "      <th></th>\n",
       "      <th>user_id</th>\n",
       "      <th>score</th>\n",
       "      <th>age</th>\n",
       "      <th>equity</th>\n",
       "      <th>balance</th>\n",
       "      <th>products</th>\n",
       "      <th>credit_card</th>\n",
       "      <th>last_activity</th>\n",
       "      <th>est_salary</th>\n",
       "      <th>churn</th>\n",
       "    </tr>\n",
       "  </thead>\n",
       "  <tbody>\n",
       "    <tr>\n",
       "      <th>count</th>\n",
       "      <td>9,999.00</td>\n",
       "      <td>9,999.00</td>\n",
       "      <td>9,973.00</td>\n",
       "      <td>9,999.00</td>\n",
       "      <td>7,705.00</td>\n",
       "      <td>9,999.00</td>\n",
       "      <td>9,999.00</td>\n",
       "      <td>9,999.00</td>\n",
       "      <td>9,999.00</td>\n",
       "      <td>9,999.00</td>\n",
       "    </tr>\n",
       "    <tr>\n",
       "      <th>mean</th>\n",
       "      <td>171,817.11</td>\n",
       "      <td>848.69</td>\n",
       "      <td>42.73</td>\n",
       "      <td>2.63</td>\n",
       "      <td>827,794.31</td>\n",
       "      <td>1.87</td>\n",
       "      <td>0.68</td>\n",
       "      <td>0.52</td>\n",
       "      <td>147,879.17</td>\n",
       "      <td>0.18</td>\n",
       "    </tr>\n",
       "    <tr>\n",
       "      <th>std</th>\n",
       "      <td>33,709.07</td>\n",
       "      <td>65.44</td>\n",
       "      <td>12.18</td>\n",
       "      <td>1.98</td>\n",
       "      <td>1,980,614.15</td>\n",
       "      <td>0.79</td>\n",
       "      <td>0.47</td>\n",
       "      <td>0.50</td>\n",
       "      <td>139,390.07</td>\n",
       "      <td>0.39</td>\n",
       "    </tr>\n",
       "    <tr>\n",
       "      <th>min</th>\n",
       "      <td>94,561.00</td>\n",
       "      <td>642.00</td>\n",
       "      <td>18.00</td>\n",
       "      <td>0.00</td>\n",
       "      <td>0.00</td>\n",
       "      <td>1.00</td>\n",
       "      <td>0.00</td>\n",
       "      <td>0.00</td>\n",
       "      <td>2,546.30</td>\n",
       "      <td>0.00</td>\n",
       "    </tr>\n",
       "    <tr>\n",
       "      <th>25%</th>\n",
       "      <td>142,809.50</td>\n",
       "      <td>802.00</td>\n",
       "      <td>33.00</td>\n",
       "      <td>0.00</td>\n",
       "      <td>295,554.16</td>\n",
       "      <td>1.00</td>\n",
       "      <td>0.00</td>\n",
       "      <td>0.00</td>\n",
       "      <td>75,252.12</td>\n",
       "      <td>0.00</td>\n",
       "    </tr>\n",
       "    <tr>\n",
       "      <th>50%</th>\n",
       "      <td>172,740.00</td>\n",
       "      <td>853.00</td>\n",
       "      <td>40.00</td>\n",
       "      <td>3.00</td>\n",
       "      <td>524,272.20</td>\n",
       "      <td>2.00</td>\n",
       "      <td>1.00</td>\n",
       "      <td>1.00</td>\n",
       "      <td>119,661.51</td>\n",
       "      <td>0.00</td>\n",
       "    </tr>\n",
       "    <tr>\n",
       "      <th>75%</th>\n",
       "      <td>201,262.50</td>\n",
       "      <td>900.00</td>\n",
       "      <td>51.00</td>\n",
       "      <td>4.00</td>\n",
       "      <td>980,705.85</td>\n",
       "      <td>2.00</td>\n",
       "      <td>1.00</td>\n",
       "      <td>1.00</td>\n",
       "      <td>174,501.12</td>\n",
       "      <td>0.00</td>\n",
       "    </tr>\n",
       "    <tr>\n",
       "      <th>max</th>\n",
       "      <td>229,145.00</td>\n",
       "      <td>1,000.00</td>\n",
       "      <td>86.00</td>\n",
       "      <td>9.00</td>\n",
       "      <td>119,113,552.01</td>\n",
       "      <td>5.00</td>\n",
       "      <td>1.00</td>\n",
       "      <td>1.00</td>\n",
       "      <td>1,395,064.45</td>\n",
       "      <td>1.00</td>\n",
       "    </tr>\n",
       "  </tbody>\n",
       "</table>\n",
       "</div>"
      ],
      "text/plain": [
       "          user_id     score       age    equity         balance  products  \\\n",
       "count    9,999.00  9,999.00  9,973.00  9,999.00        7,705.00  9,999.00   \n",
       "mean   171,817.11    848.69     42.73      2.63      827,794.31      1.87   \n",
       "std     33,709.07     65.44     12.18      1.98    1,980,614.15      0.79   \n",
       "min     94,561.00    642.00     18.00      0.00            0.00      1.00   \n",
       "25%    142,809.50    802.00     33.00      0.00      295,554.16      1.00   \n",
       "50%    172,740.00    853.00     40.00      3.00      524,272.20      2.00   \n",
       "75%    201,262.50    900.00     51.00      4.00      980,705.85      2.00   \n",
       "max    229,145.00  1,000.00     86.00      9.00  119,113,552.01      5.00   \n",
       "\n",
       "      credit_card last_activity    est_salary     churn  \n",
       "count    9,999.00      9,999.00      9,999.00  9,999.00  \n",
       "mean         0.68          0.52    147,879.17      0.18  \n",
       "std          0.47          0.50    139,390.07      0.39  \n",
       "min          0.00          0.00      2,546.30      0.00  \n",
       "25%          0.00          0.00     75,252.12      0.00  \n",
       "50%          1.00          1.00    119,661.51      0.00  \n",
       "75%          1.00          1.00    174,501.12      0.00  \n",
       "max          1.00          1.00  1,395,064.45      1.00  "
      ]
     },
     "execution_count": 24,
     "metadata": {},
     "output_type": "execute_result"
    }
   ],
   "source": [
    "data.describe().applymap('{:,.2f}'.format)\n",
    "# проверим что получилось"
   ]
  },
  {
   "cell_type": "markdown",
   "metadata": {},
   "source": [
    "Аномальных значений в данных больше нет, все в пределах реального"
   ]
  },
  {
   "cell_type": "code",
   "execution_count": 25,
   "metadata": {},
   "outputs": [
    {
     "data": {
      "text/html": [
       "<div>\n",
       "<style scoped>\n",
       "    .dataframe tbody tr th:only-of-type {\n",
       "        vertical-align: middle;\n",
       "    }\n",
       "\n",
       "    .dataframe tbody tr th {\n",
       "        vertical-align: top;\n",
       "    }\n",
       "\n",
       "    .dataframe thead th {\n",
       "        text-align: right;\n",
       "    }\n",
       "</style>\n",
       "<table border=\"1\" class=\"dataframe\">\n",
       "  <thead>\n",
       "    <tr style=\"text-align: right;\">\n",
       "      <th></th>\n",
       "      <th>user_id</th>\n",
       "      <th>score</th>\n",
       "      <th>city</th>\n",
       "      <th>gender</th>\n",
       "      <th>age</th>\n",
       "      <th>equity</th>\n",
       "      <th>balance</th>\n",
       "      <th>products</th>\n",
       "      <th>credit_card</th>\n",
       "      <th>last_activity</th>\n",
       "      <th>est_salary</th>\n",
       "      <th>churn</th>\n",
       "      <th>city_2</th>\n",
       "      <th>gender_2</th>\n",
       "    </tr>\n",
       "  </thead>\n",
       "  <tbody>\n",
       "    <tr>\n",
       "      <th>0</th>\n",
       "      <td>183012</td>\n",
       "      <td>850.0</td>\n",
       "      <td>Рыбинск</td>\n",
       "      <td>Ж</td>\n",
       "      <td>25.0</td>\n",
       "      <td>1</td>\n",
       "      <td>59214.82</td>\n",
       "      <td>2</td>\n",
       "      <td>0</td>\n",
       "      <td>1</td>\n",
       "      <td>75719.14</td>\n",
       "      <td>1</td>\n",
       "      <td>Рыбинск</td>\n",
       "      <td>Ж</td>\n",
       "    </tr>\n",
       "    <tr>\n",
       "      <th>1</th>\n",
       "      <td>146556</td>\n",
       "      <td>861.0</td>\n",
       "      <td>Рыбинск</td>\n",
       "      <td>Ж</td>\n",
       "      <td>37.0</td>\n",
       "      <td>5</td>\n",
       "      <td>850594.33</td>\n",
       "      <td>3</td>\n",
       "      <td>1</td>\n",
       "      <td>0</td>\n",
       "      <td>86621.77</td>\n",
       "      <td>0</td>\n",
       "      <td>Рыбинск</td>\n",
       "      <td>Ж</td>\n",
       "    </tr>\n",
       "  </tbody>\n",
       "</table>\n",
       "</div>"
      ],
      "text/plain": [
       "   user_id  score     city gender   age  equity    balance  products  \\\n",
       "0   183012  850.0  Рыбинск      Ж  25.0       1   59214.82         2   \n",
       "1   146556  861.0  Рыбинск      Ж  37.0       5  850594.33         3   \n",
       "\n",
       "   credit_card  last_activity  est_salary  churn   city_2 gender_2  \n",
       "0            0              1    75719.14      1  Рыбинск        Ж  \n",
       "1            1              0    86621.77      0  Рыбинск        Ж  "
      ]
     },
     "execution_count": 25,
     "metadata": {},
     "output_type": "execute_result"
    }
   ],
   "source": [
    "data['city_2'] = data['city']\n",
    "data['gender_2'] = data['gender']\n",
    "data.head(2)\n",
    "# создадим копии категориальных столбцов"
   ]
  },
  {
   "cell_type": "code",
   "execution_count": 26,
   "metadata": {},
   "outputs": [
    {
     "data": {
      "text/html": [
       "<div>\n",
       "<style scoped>\n",
       "    .dataframe tbody tr th:only-of-type {\n",
       "        vertical-align: middle;\n",
       "    }\n",
       "\n",
       "    .dataframe tbody tr th {\n",
       "        vertical-align: top;\n",
       "    }\n",
       "\n",
       "    .dataframe thead th {\n",
       "        text-align: right;\n",
       "    }\n",
       "</style>\n",
       "<table border=\"1\" class=\"dataframe\">\n",
       "  <thead>\n",
       "    <tr style=\"text-align: right;\">\n",
       "      <th></th>\n",
       "      <th>user_id</th>\n",
       "      <th>score</th>\n",
       "      <th>city</th>\n",
       "      <th>gender</th>\n",
       "      <th>age</th>\n",
       "      <th>equity</th>\n",
       "      <th>balance</th>\n",
       "      <th>products</th>\n",
       "      <th>credit_card</th>\n",
       "      <th>last_activity</th>\n",
       "      <th>est_salary</th>\n",
       "      <th>churn</th>\n",
       "      <th>gender_2_Ж</th>\n",
       "      <th>gender_2_М</th>\n",
       "      <th>city_2_Ростов</th>\n",
       "      <th>city_2_Рыбинск</th>\n",
       "      <th>city_2_Ярославль</th>\n",
       "    </tr>\n",
       "  </thead>\n",
       "  <tbody>\n",
       "    <tr>\n",
       "      <th>0</th>\n",
       "      <td>183012</td>\n",
       "      <td>850.0</td>\n",
       "      <td>Рыбинск</td>\n",
       "      <td>Ж</td>\n",
       "      <td>25.0</td>\n",
       "      <td>1</td>\n",
       "      <td>59214.82</td>\n",
       "      <td>2</td>\n",
       "      <td>0</td>\n",
       "      <td>1</td>\n",
       "      <td>75719.14</td>\n",
       "      <td>1</td>\n",
       "      <td>1</td>\n",
       "      <td>0</td>\n",
       "      <td>0</td>\n",
       "      <td>1</td>\n",
       "      <td>0</td>\n",
       "    </tr>\n",
       "    <tr>\n",
       "      <th>1</th>\n",
       "      <td>146556</td>\n",
       "      <td>861.0</td>\n",
       "      <td>Рыбинск</td>\n",
       "      <td>Ж</td>\n",
       "      <td>37.0</td>\n",
       "      <td>5</td>\n",
       "      <td>850594.33</td>\n",
       "      <td>3</td>\n",
       "      <td>1</td>\n",
       "      <td>0</td>\n",
       "      <td>86621.77</td>\n",
       "      <td>0</td>\n",
       "      <td>1</td>\n",
       "      <td>0</td>\n",
       "      <td>0</td>\n",
       "      <td>1</td>\n",
       "      <td>0</td>\n",
       "    </tr>\n",
       "  </tbody>\n",
       "</table>\n",
       "</div>"
      ],
      "text/plain": [
       "   user_id  score     city gender   age  equity    balance  products  \\\n",
       "0   183012  850.0  Рыбинск      Ж  25.0       1   59214.82         2   \n",
       "1   146556  861.0  Рыбинск      Ж  37.0       5  850594.33         3   \n",
       "\n",
       "   credit_card  last_activity  est_salary  churn  gender_2_Ж  gender_2_М  \\\n",
       "0            0              1    75719.14      1           1           0   \n",
       "1            1              0    86621.77      0           1           0   \n",
       "\n",
       "   city_2_Ростов  city_2_Рыбинск  city_2_Ярославль  \n",
       "0              0               1                 0  \n",
       "1              0               1                 0  "
      ]
     },
     "execution_count": 26,
     "metadata": {},
     "output_type": "execute_result"
    }
   ],
   "source": [
    "data = pd.get_dummies (data, columns=['gender_2', 'city_2'] )\n",
    "data.head(2)"
   ]
  },
  {
   "cell_type": "code",
   "execution_count": 27,
   "metadata": {},
   "outputs": [],
   "source": [
    "data = data.rename (\n",
    "    columns = ({'city_2_Ростов':'Ростов', 'city_2_Рыбинск':'Рыбинск','city_2_Ярославль':'Ярославль',\n",
    "                'gender_2_Ж':'woman', 'gender_2_М':'man'}))"
   ]
  },
  {
   "cell_type": "code",
   "execution_count": 28,
   "metadata": {},
   "outputs": [
    {
     "data": {
      "text/html": [
       "<div>\n",
       "<style scoped>\n",
       "    .dataframe tbody tr th:only-of-type {\n",
       "        vertical-align: middle;\n",
       "    }\n",
       "\n",
       "    .dataframe tbody tr th {\n",
       "        vertical-align: top;\n",
       "    }\n",
       "\n",
       "    .dataframe thead th {\n",
       "        text-align: right;\n",
       "    }\n",
       "</style>\n",
       "<table border=\"1\" class=\"dataframe\">\n",
       "  <thead>\n",
       "    <tr style=\"text-align: right;\">\n",
       "      <th></th>\n",
       "      <th>user_id</th>\n",
       "      <th>score</th>\n",
       "      <th>city</th>\n",
       "      <th>gender</th>\n",
       "      <th>age</th>\n",
       "      <th>equity</th>\n",
       "      <th>balance</th>\n",
       "      <th>products</th>\n",
       "      <th>credit_card</th>\n",
       "      <th>last_activity</th>\n",
       "      <th>est_salary</th>\n",
       "      <th>churn</th>\n",
       "      <th>woman</th>\n",
       "      <th>man</th>\n",
       "      <th>Ростов</th>\n",
       "      <th>Рыбинск</th>\n",
       "      <th>Ярославль</th>\n",
       "    </tr>\n",
       "  </thead>\n",
       "  <tbody>\n",
       "    <tr>\n",
       "      <th>0</th>\n",
       "      <td>183012</td>\n",
       "      <td>850.0</td>\n",
       "      <td>Рыбинск</td>\n",
       "      <td>Ж</td>\n",
       "      <td>25.0</td>\n",
       "      <td>1</td>\n",
       "      <td>59214.82</td>\n",
       "      <td>2</td>\n",
       "      <td>0</td>\n",
       "      <td>1</td>\n",
       "      <td>75719.14</td>\n",
       "      <td>1</td>\n",
       "      <td>1</td>\n",
       "      <td>0</td>\n",
       "      <td>0</td>\n",
       "      <td>1</td>\n",
       "      <td>0</td>\n",
       "    </tr>\n",
       "    <tr>\n",
       "      <th>1</th>\n",
       "      <td>146556</td>\n",
       "      <td>861.0</td>\n",
       "      <td>Рыбинск</td>\n",
       "      <td>Ж</td>\n",
       "      <td>37.0</td>\n",
       "      <td>5</td>\n",
       "      <td>850594.33</td>\n",
       "      <td>3</td>\n",
       "      <td>1</td>\n",
       "      <td>0</td>\n",
       "      <td>86621.77</td>\n",
       "      <td>0</td>\n",
       "      <td>1</td>\n",
       "      <td>0</td>\n",
       "      <td>0</td>\n",
       "      <td>1</td>\n",
       "      <td>0</td>\n",
       "    </tr>\n",
       "  </tbody>\n",
       "</table>\n",
       "</div>"
      ],
      "text/plain": [
       "   user_id  score     city gender   age  equity    balance  products  \\\n",
       "0   183012  850.0  Рыбинск      Ж  25.0       1   59214.82         2   \n",
       "1   146556  861.0  Рыбинск      Ж  37.0       5  850594.33         3   \n",
       "\n",
       "   credit_card  last_activity  est_salary  churn  woman  man  Ростов  Рыбинск  \\\n",
       "0            0              1    75719.14      1      1    0       0        1   \n",
       "1            1              0    86621.77      0      1    0       0        1   \n",
       "\n",
       "   Ярославль  \n",
       "0          0  \n",
       "1          0  "
      ]
     },
     "execution_count": 28,
     "metadata": {},
     "output_type": "execute_result"
    }
   ],
   "source": [
    "data.head(2)"
   ]
  },
  {
   "cell_type": "markdown",
   "metadata": {},
   "source": [
    "Удалили клиента, у которого нет банковских продуктов. Пропуски в балансе удалять не стали, дубликаты по user_idоставлил, так как это е влияет на исследование, и это разные клиенты. Создали и добавили копии категориальных столбцов."
   ]
  },
  {
   "cell_type": "markdown",
   "metadata": {},
   "source": [
    "Пропуски в графе \"возраст\" относятся к MСAR, пропуски не зависят от переменных и не ведут к систематической ошибке, но увеличивают случайную ошибку, можно их отбрасывать;\n",
    "\n",
    "Пропуски в графе \"баланс\" относятся к MNAR, их нельзя отбрасывать, так как это приведет к сильным искажениям"
   ]
  },
  {
   "cell_type": "markdown",
   "metadata": {},
   "source": [
    "## шаг. Исследовательский анализ данных EDA"
   ]
  },
  {
   "cell_type": "code",
   "execution_count": 29,
   "metadata": {},
   "outputs": [
    {
     "data": {
      "image/png": "[encoded data removed]",
      "text/plain": [
       "<Figure size 1080x504 with 1 Axes>"
      ]
     },
     "metadata": {
      "needs_background": "light"
     },
     "output_type": "display_data"
    }
   ],
   "source": [
    "plt.figure(figsize=(15,7))\n",
    "sns.histplot(data[data['churn'] == 0]['age'], stat='density',  common_norm=False, bins = 60, color='Green');\n",
    "sns.histplot(data[data['churn'] == 1]['age'],   stat='density', common_norm=False, bins = 60, color='Red');\n",
    "plt.legend(['Лояльные', 'Отточные']);\n",
    "plt.title('Распределение лояльных и отточных клиентов по возрасту')\n",
    "plt.xlabel('Возраст');\n",
    "plt.ylabel('Значение');\n",
    "plt.show();"
   ]
  },
  {
   "cell_type": "code",
   "execution_count": 30,
   "metadata": {},
   "outputs": [
    {
     "data": {
      "image/png": "[encoded data removed]",
      "text/plain": [
       "<Figure size 1080x504 with 1 Axes>"
      ]
     },
     "metadata": {
      "needs_background": "light"
     },
     "output_type": "display_data"
    }
   ],
   "source": [
    "plt.figure(figsize=(15,7))\n",
    "\n",
    "sns.histplot(data[data['churn'] == 0]['score'],  stat='density',  common_norm=False,  color='Green');\n",
    "sns.histplot(data[data['churn'] == 1]['score'],   stat='density', common_norm=False, color='Red');\n",
    "plt.legend(['Лояльные', 'Отточные']);\n",
    "plt.title('Распределение лояльных и отточных клиентов по кредитному рейтингу')\n",
    "plt.xlabel('Кредитный рейтинг');\n",
    "plt.ylabel('Значение');\n",
    "plt.show();"
   ]
  },
  {
   "cell_type": "code",
   "execution_count": 31,
   "metadata": {},
   "outputs": [
    {
     "data": {
      "image/png": "[encoded data removed]",
      "text/plain": [
       "<Figure size 1080x504 with 1 Axes>"
      ]
     },
     "metadata": {
      "needs_background": "light"
     },
     "output_type": "display_data"
    }
   ],
   "source": [
    "plt.figure(figsize=(15,7))\n",
    "sns.histplot(data[data['churn'] == 0]['est_salary'],  stat='density',  common_norm=False, bins = 100, color='Green');\n",
    "sns.histplot(data[data['churn'] == 1]['est_salary'],   stat='density', common_norm=False, bins = 100, color='Red');\n",
    "plt.legend(['Лояльные', 'Отточные']);\n",
    "plt.title('Распределение лояльных и отточных клиентов по заработной плате')\n",
    "plt.xlabel('Заработная плата');\n",
    "plt.ylabel('Значение');\n",
    "plt.show();"
   ]
  },
  {
   "cell_type": "code",
   "execution_count": 32,
   "metadata": {},
   "outputs": [
    {
     "data": {
      "image/png": "[encoded data removed]",
      "text/plain": [
       "<Figure size 1080x504 with 1 Axes>"
      ]
     },
     "metadata": {
      "needs_background": "light"
     },
     "output_type": "display_data"
    }
   ],
   "source": [
    "plt.figure(figsize=(15,7))\n",
    "sns.histplot(data[data['churn'] == 0]['balance'],  stat='density',  common_norm=False,  color='Green');\n",
    "sns.histplot(data[data['churn'] == 1]['balance'],   stat='density',  common_norm=False, color='Red');\n",
    "plt.legend(['Лояльные', 'Отточные']);\n",
    "plt.title('Распределение лояльных и отточных клиентов по балансу')\n",
    "plt.xlabel('Баланс');\n",
    "plt.ylabel('Значение');\n",
    "plt.show();"
   ]
  },
  {
   "cell_type": "markdown",
   "metadata": {},
   "source": [
    "Категории оттока:\n",
    "\n",
    "Клиенты  в возрасте 25-30 лет и 50-60\n",
    "\n",
    "Клиенты с кредитным рейтингом 830-940\n",
    "\n",
    "Клиенты с заработной платой свыше 100 тыс."
   ]
  },
  {
   "cell_type": "code",
   "execution_count": 33,
   "metadata": {},
   "outputs": [
    {
     "data": {
      "image/png": "[encoded data removed]",
      "text/plain": [
       "<Figure size 432x288 with 1 Axes>"
      ]
     },
     "metadata": {
      "needs_background": "light"
     },
     "output_type": "display_data"
    },
    {
     "data": {
      "image/png": "[encoded data removed]",
      "text/plain": [
       "<Figure size 432x288 with 1 Axes>"
      ]
     },
     "metadata": {
      "needs_background": "light"
     },
     "output_type": "display_data"
    },
    {
     "data": {
      "image/png": "[encoded data removed]",
      "text/plain": [
       "<Figure size 432x288 with 1 Axes>"
      ]
     },
     "metadata": {
      "needs_background": "light"
     },
     "output_type": "display_data"
    },
    {
     "data": {
      "image/png": "[encoded data removed]",
      "text/plain": [
       "<Figure size 432x288 with 1 Axes>"
      ]
     },
     "metadata": {
      "needs_background": "light"
     },
     "output_type": "display_data"
    },
    {
     "data": {
      "image/png": "[encoded data removed]",
      "text/plain": [
       "<Figure size 432x288 with 1 Axes>"
      ]
     },
     "metadata": {
      "needs_background": "light"
     },
     "output_type": "display_data"
    },
    {
     "data": {
      "image/png": "[encoded data removed]",
      "text/plain": [
       "<Figure size 432x288 with 1 Axes>"
      ]
     },
     "metadata": {
      "needs_background": "light"
     },
     "output_type": "display_data"
    }
   ],
   "source": [
    "churn_mean=data['churn'].mean()\n",
    "for column in data[['city', 'gender', 'last_activity', 'products', 'equity', 'credit_card']].columns:\n",
    "    ax = sns.barplot(x=column, y='churn', data=data)\n",
    "    plt.title('Распределение клиентов по ' + column)\n",
    "    plt.ylabel('Уровень отточных клиентов')\n",
    "    plt.axhline(y=churn_mean, color='red', alpha=1)\n",
    "    plt.show()"
   ]
  },
  {
   "cell_type": "markdown",
   "metadata": {},
   "source": [
    "Категории оттока:\n",
    "\n",
    "Мужчины менее лояльны, чем женщины\n",
    "\n",
    "Активные пользователи банковскими продуктами менее лояльны\n",
    "\n",
    "Клиенты с более 3 объектами имущества менее лояльны"
   ]
  },
  {
   "cell_type": "markdown",
   "metadata": {},
   "source": [
    "Определим возрастные категории\n",
    "до 24 лет\n",
    "25 -  45 лет\n",
    "46 - 62 года\n",
    "старше 63 лет"
   ]
  },
  {
   "cell_type": "code",
   "execution_count": 34,
   "metadata": {},
   "outputs": [],
   "source": [
    "def age_cat(age):\n",
    "    if 18 <= age <= 24:\n",
    "        return '18-24'\n",
    "    if 25 <= age <= 45:\n",
    "        return '25-45'\n",
    "    if 46 <= age <= 62:\n",
    "        return '46-62'\n",
    "    if 63 <= age:\n",
    "        return '63+'\n",
    "# разделим клиентов по возрастным категориям"
   ]
  },
  {
   "cell_type": "code",
   "execution_count": 35,
   "metadata": {},
   "outputs": [
    {
     "data": {
      "text/html": [
       "<div>\n",
       "<style scoped>\n",
       "    .dataframe tbody tr th:only-of-type {\n",
       "        vertical-align: middle;\n",
       "    }\n",
       "\n",
       "    .dataframe tbody tr th {\n",
       "        vertical-align: top;\n",
       "    }\n",
       "\n",
       "    .dataframe thead th {\n",
       "        text-align: right;\n",
       "    }\n",
       "</style>\n",
       "<table border=\"1\" class=\"dataframe\">\n",
       "  <thead>\n",
       "    <tr style=\"text-align: right;\">\n",
       "      <th></th>\n",
       "      <th>user_id</th>\n",
       "      <th>score</th>\n",
       "      <th>city</th>\n",
       "      <th>gender</th>\n",
       "      <th>age</th>\n",
       "      <th>equity</th>\n",
       "      <th>balance</th>\n",
       "      <th>products</th>\n",
       "      <th>credit_card</th>\n",
       "      <th>last_activity</th>\n",
       "      <th>est_salary</th>\n",
       "      <th>churn</th>\n",
       "      <th>woman</th>\n",
       "      <th>man</th>\n",
       "      <th>Ростов</th>\n",
       "      <th>Рыбинск</th>\n",
       "      <th>Ярославль</th>\n",
       "      <th>age_cat</th>\n",
       "    </tr>\n",
       "  </thead>\n",
       "  <tbody>\n",
       "    <tr>\n",
       "      <th>0</th>\n",
       "      <td>183012</td>\n",
       "      <td>850.0</td>\n",
       "      <td>Рыбинск</td>\n",
       "      <td>Ж</td>\n",
       "      <td>25.0</td>\n",
       "      <td>1</td>\n",
       "      <td>59214.82</td>\n",
       "      <td>2</td>\n",
       "      <td>0</td>\n",
       "      <td>1</td>\n",
       "      <td>75719.14</td>\n",
       "      <td>1</td>\n",
       "      <td>1</td>\n",
       "      <td>0</td>\n",
       "      <td>0</td>\n",
       "      <td>1</td>\n",
       "      <td>0</td>\n",
       "      <td>25-45</td>\n",
       "    </tr>\n",
       "    <tr>\n",
       "      <th>1</th>\n",
       "      <td>146556</td>\n",
       "      <td>861.0</td>\n",
       "      <td>Рыбинск</td>\n",
       "      <td>Ж</td>\n",
       "      <td>37.0</td>\n",
       "      <td>5</td>\n",
       "      <td>850594.33</td>\n",
       "      <td>3</td>\n",
       "      <td>1</td>\n",
       "      <td>0</td>\n",
       "      <td>86621.77</td>\n",
       "      <td>0</td>\n",
       "      <td>1</td>\n",
       "      <td>0</td>\n",
       "      <td>0</td>\n",
       "      <td>1</td>\n",
       "      <td>0</td>\n",
       "      <td>25-45</td>\n",
       "    </tr>\n",
       "  </tbody>\n",
       "</table>\n",
       "</div>"
      ],
      "text/plain": [
       "   user_id  score     city gender   age  equity    balance  products  \\\n",
       "0   183012  850.0  Рыбинск      Ж  25.0       1   59214.82         2   \n",
       "1   146556  861.0  Рыбинск      Ж  37.0       5  850594.33         3   \n",
       "\n",
       "   credit_card  last_activity  est_salary  churn  woman  man  Ростов  Рыбинск  \\\n",
       "0            0              1    75719.14      1      1    0       0        1   \n",
       "1            1              0    86621.77      0      1    0       0        1   \n",
       "\n",
       "   Ярославль age_cat  \n",
       "0          0   25-45  \n",
       "1          0   25-45  "
      ]
     },
     "execution_count": 35,
     "metadata": {},
     "output_type": "execute_result"
    }
   ],
   "source": [
    "data['age_cat'] = data['age'].apply (age_cat)\n",
    "data.head(2)"
   ]
  },
  {
   "cell_type": "code",
   "execution_count": 36,
   "metadata": {},
   "outputs": [],
   "source": [
    "pd.set_option('display.max_columns', None) "
   ]
  },
  {
   "cell_type": "code",
   "execution_count": 37,
   "metadata": {},
   "outputs": [
    {
     "data": {
      "text/html": [
       "<div>\n",
       "<style scoped>\n",
       "    .dataframe tbody tr th:only-of-type {\n",
       "        vertical-align: middle;\n",
       "    }\n",
       "\n",
       "    .dataframe tbody tr th {\n",
       "        vertical-align: top;\n",
       "    }\n",
       "\n",
       "    .dataframe thead th {\n",
       "        text-align: right;\n",
       "    }\n",
       "</style>\n",
       "<table border=\"1\" class=\"dataframe\">\n",
       "  <thead>\n",
       "    <tr style=\"text-align: right;\">\n",
       "      <th></th>\n",
       "      <th>user_id</th>\n",
       "      <th>score</th>\n",
       "      <th>city</th>\n",
       "      <th>gender</th>\n",
       "      <th>age</th>\n",
       "      <th>equity</th>\n",
       "      <th>balance</th>\n",
       "      <th>products</th>\n",
       "      <th>credit_card</th>\n",
       "      <th>last_activity</th>\n",
       "      <th>est_salary</th>\n",
       "      <th>churn</th>\n",
       "      <th>woman</th>\n",
       "      <th>man</th>\n",
       "      <th>Ростов</th>\n",
       "      <th>Рыбинск</th>\n",
       "      <th>Ярославль</th>\n",
       "      <th>age_cat</th>\n",
       "      <th>18-24</th>\n",
       "      <th>25-45</th>\n",
       "      <th>46-62</th>\n",
       "      <th>63+</th>\n",
       "    </tr>\n",
       "  </thead>\n",
       "  <tbody>\n",
       "    <tr>\n",
       "      <th>0</th>\n",
       "      <td>183012</td>\n",
       "      <td>850.0</td>\n",
       "      <td>Рыбинск</td>\n",
       "      <td>Ж</td>\n",
       "      <td>25.0</td>\n",
       "      <td>1</td>\n",
       "      <td>59214.82</td>\n",
       "      <td>2</td>\n",
       "      <td>0</td>\n",
       "      <td>1</td>\n",
       "      <td>75719.14</td>\n",
       "      <td>1</td>\n",
       "      <td>1</td>\n",
       "      <td>0</td>\n",
       "      <td>0</td>\n",
       "      <td>1</td>\n",
       "      <td>0</td>\n",
       "      <td>25-45</td>\n",
       "      <td>0</td>\n",
       "      <td>1</td>\n",
       "      <td>0</td>\n",
       "      <td>0</td>\n",
       "    </tr>\n",
       "    <tr>\n",
       "      <th>1</th>\n",
       "      <td>146556</td>\n",
       "      <td>861.0</td>\n",
       "      <td>Рыбинск</td>\n",
       "      <td>Ж</td>\n",
       "      <td>37.0</td>\n",
       "      <td>5</td>\n",
       "      <td>850594.33</td>\n",
       "      <td>3</td>\n",
       "      <td>1</td>\n",
       "      <td>0</td>\n",
       "      <td>86621.77</td>\n",
       "      <td>0</td>\n",
       "      <td>1</td>\n",
       "      <td>0</td>\n",
       "      <td>0</td>\n",
       "      <td>1</td>\n",
       "      <td>0</td>\n",
       "      <td>25-45</td>\n",
       "      <td>0</td>\n",
       "      <td>1</td>\n",
       "      <td>0</td>\n",
       "      <td>0</td>\n",
       "    </tr>\n",
       "  </tbody>\n",
       "</table>\n",
       "</div>"
      ],
      "text/plain": [
       "   user_id  score     city gender   age  equity    balance  products  \\\n",
       "0   183012  850.0  Рыбинск      Ж  25.0       1   59214.82         2   \n",
       "1   146556  861.0  Рыбинск      Ж  37.0       5  850594.33         3   \n",
       "\n",
       "   credit_card  last_activity  est_salary  churn  woman  man  Ростов  Рыбинск  \\\n",
       "0            0              1    75719.14      1      1    0       0        1   \n",
       "1            1              0    86621.77      0      1    0       0        1   \n",
       "\n",
       "   Ярославль age_cat  18-24  25-45  46-62  63+  \n",
       "0          0   25-45      0      1      0    0  \n",
       "1          0   25-45      0      1      0    0  "
      ]
     },
     "execution_count": 37,
     "metadata": {},
     "output_type": "execute_result"
    }
   ],
   "source": [
    "data['age_cat_2'] = data['age_cat']\n",
    "data = pd.get_dummies (data, columns=['age_cat_2'] )\n",
    "data = data.rename (\n",
    "    columns = ({'age_cat_2_18-24':'18-24', 'age_cat_2_25-45':'25-45','age_cat_2_46-62':'46-62',\n",
    "                'age_cat_2_63+':'63+'}))\n",
    "data.head(2)\n",
    "# добавялем копии возрастных категорий"
   ]
  },
  {
   "cell_type": "code",
   "execution_count": 38,
   "metadata": {},
   "outputs": [
    {
     "data": {
      "text/html": [
       "<div>\n",
       "<style scoped>\n",
       "    .dataframe tbody tr th:only-of-type {\n",
       "        vertical-align: middle;\n",
       "    }\n",
       "\n",
       "    .dataframe tbody tr th {\n",
       "        vertical-align: top;\n",
       "    }\n",
       "\n",
       "    .dataframe thead th {\n",
       "        text-align: right;\n",
       "    }\n",
       "</style>\n",
       "<table border=\"1\" class=\"dataframe\">\n",
       "  <thead>\n",
       "    <tr style=\"text-align: right;\">\n",
       "      <th></th>\n",
       "      <th>score</th>\n",
       "      <th>age</th>\n",
       "      <th>equity</th>\n",
       "      <th>balance</th>\n",
       "      <th>products</th>\n",
       "      <th>credit_card</th>\n",
       "      <th>last_activity</th>\n",
       "      <th>est_salary</th>\n",
       "      <th>churn</th>\n",
       "      <th>woman</th>\n",
       "      <th>man</th>\n",
       "      <th>Ростов</th>\n",
       "      <th>Рыбинск</th>\n",
       "      <th>Ярославль</th>\n",
       "      <th>18-24</th>\n",
       "      <th>25-45</th>\n",
       "      <th>46-62</th>\n",
       "      <th>63+</th>\n",
       "    </tr>\n",
       "  </thead>\n",
       "  <tbody>\n",
       "    <tr>\n",
       "      <th>score</th>\n",
       "      <td>1.0</td>\n",
       "      <td>-0.012339</td>\n",
       "      <td>0.064103</td>\n",
       "      <td>0.235812</td>\n",
       "      <td>-0.003708</td>\n",
       "      <td>-0.094503</td>\n",
       "      <td>-0.031004</td>\n",
       "      <td>0.164049</td>\n",
       "      <td>0.105634</td>\n",
       "      <td>-0.012429</td>\n",
       "      <td>0.012429</td>\n",
       "      <td>-0.037572</td>\n",
       "      <td>-0.000609</td>\n",
       "      <td>0.02718</td>\n",
       "      <td>-0.007252</td>\n",
       "      <td>0.010853</td>\n",
       "      <td>-0.014162</td>\n",
       "      <td>0.007088</td>\n",
       "    </tr>\n",
       "  </tbody>\n",
       "</table>\n",
       "</div>"
      ],
      "text/plain": [
       "       score       age    equity   balance  products  credit_card  \\\n",
       "score    1.0 -0.012339  0.064103  0.235812 -0.003708    -0.094503   \n",
       "\n",
       "       last_activity  est_salary     churn     woman       man    Ростов  \\\n",
       "score      -0.031004    0.164049  0.105634 -0.012429  0.012429 -0.037572   \n",
       "\n",
       "        Рыбинск  Ярославль     18-24     25-45     46-62       63+  \n",
       "score -0.000609    0.02718 -0.007252  0.010853 -0.014162  0.007088  "
      ]
     },
     "execution_count": 38,
     "metadata": {},
     "output_type": "execute_result"
    }
   ],
   "source": [
    "data_corr = data.drop(['user_id'], axis=1).corr()\n",
    "data_corr.head(1)\n",
    "# уберем user_id для тепловой карты"
   ]
  },
  {
   "cell_type": "code",
   "execution_count": 39,
   "metadata": {},
   "outputs": [
    {
     "data": {
      "image/png": "[encoded data removed]",
      "text/plain": [
       "<Figure size 1800x864 with 2 Axes>"
      ]
     },
     "metadata": {
      "needs_background": "light"
     },
     "output_type": "display_data"
    }
   ],
   "source": [
    "plt.figure(figsize=(25, 12))\n",
    "sns.heatmap (data_corr.corr(), annot = True, vmin = -1, vmax = 1, center = 0, cmap = 'coolwarm', linewidths = 0.5)\n",
    "plt.title('Тепловая карта корреляций между признаками')\n",
    "plt.show();"
   ]
  },
  {
   "cell_type": "markdown",
   "metadata": {},
   "source": [
    "Тепловая карта говорит нам о наличии зависимости впервую очередь между наличием банковских продуктов и имуществом, кредитным рейтингом, заработной платой и  балансом"
   ]
  },
  {
   "cell_type": "code",
   "execution_count": 40,
   "metadata": {},
   "outputs": [
    {
     "data": {
      "text/html": [
       "<div>\n",
       "<style scoped>\n",
       "    .dataframe tbody tr th:only-of-type {\n",
       "        vertical-align: middle;\n",
       "    }\n",
       "\n",
       "    .dataframe tbody tr th {\n",
       "        vertical-align: top;\n",
       "    }\n",
       "\n",
       "    .dataframe thead th {\n",
       "        text-align: right;\n",
       "    }\n",
       "</style>\n",
       "<table border=\"1\" class=\"dataframe\">\n",
       "  <thead>\n",
       "    <tr style=\"text-align: right;\">\n",
       "      <th></th>\n",
       "      <th>score</th>\n",
       "      <th>age</th>\n",
       "      <th>Ростов</th>\n",
       "      <th>Рыбинск</th>\n",
       "      <th>Ярославль</th>\n",
       "      <th>balance</th>\n",
       "      <th>products</th>\n",
       "      <th>equity</th>\n",
       "      <th>man</th>\n",
       "      <th>woman</th>\n",
       "      <th>est_salary</th>\n",
       "      <th>last_activity</th>\n",
       "      <th>18-24</th>\n",
       "      <th>25-45</th>\n",
       "      <th>46-62</th>\n",
       "      <th>63+</th>\n",
       "    </tr>\n",
       "    <tr>\n",
       "      <th>churn</th>\n",
       "      <th></th>\n",
       "      <th></th>\n",
       "      <th></th>\n",
       "      <th></th>\n",
       "      <th></th>\n",
       "      <th></th>\n",
       "      <th></th>\n",
       "      <th></th>\n",
       "      <th></th>\n",
       "      <th></th>\n",
       "      <th></th>\n",
       "      <th></th>\n",
       "      <th></th>\n",
       "      <th></th>\n",
       "      <th></th>\n",
       "      <th></th>\n",
       "    </tr>\n",
       "  </thead>\n",
       "  <tbody>\n",
       "    <tr>\n",
       "      <th>0</th>\n",
       "      <td>848.0</td>\n",
       "      <td>40.0</td>\n",
       "      <td>0.140709</td>\n",
       "      <td>0.276039</td>\n",
       "      <td>0.583252</td>\n",
       "      <td>475382.445</td>\n",
       "      <td>1.757579</td>\n",
       "      <td>2.374817</td>\n",
       "      <td>0.467237</td>\n",
       "      <td>0.532763</td>\n",
       "      <td>118257.715</td>\n",
       "      <td>0.483741</td>\n",
       "      <td>0.025061</td>\n",
       "      <td>0.620049</td>\n",
       "      <td>0.260513</td>\n",
       "      <td>0.091320</td>\n",
       "    </tr>\n",
       "    <tr>\n",
       "      <th>1</th>\n",
       "      <td>866.0</td>\n",
       "      <td>39.0</td>\n",
       "      <td>0.146234</td>\n",
       "      <td>0.239692</td>\n",
       "      <td>0.614074</td>\n",
       "      <td>782410.470</td>\n",
       "      <td>2.377130</td>\n",
       "      <td>3.764156</td>\n",
       "      <td>0.650357</td>\n",
       "      <td>0.349643</td>\n",
       "      <td>125395.220</td>\n",
       "      <td>0.702584</td>\n",
       "      <td>0.017042</td>\n",
       "      <td>0.627817</td>\n",
       "      <td>0.336998</td>\n",
       "      <td>0.017592</td>\n",
       "    </tr>\n",
       "  </tbody>\n",
       "</table>\n",
       "</div>"
      ],
      "text/plain": [
       "       score   age    Ростов   Рыбинск  Ярославль     balance  products  \\\n",
       "churn                                                                     \n",
       "0      848.0  40.0  0.140709  0.276039   0.583252  475382.445  1.757579   \n",
       "1      866.0  39.0  0.146234  0.239692   0.614074  782410.470  2.377130   \n",
       "\n",
       "         equity       man     woman  est_salary  last_activity     18-24  \\\n",
       "churn                                                                      \n",
       "0      2.374817  0.467237  0.532763  118257.715       0.483741  0.025061   \n",
       "1      3.764156  0.650357  0.349643  125395.220       0.702584  0.017042   \n",
       "\n",
       "          25-45     46-62       63+  \n",
       "churn                                \n",
       "0      0.620049  0.260513  0.091320  \n",
       "1      0.627817  0.336998  0.017592  "
      ]
     },
     "execution_count": 40,
     "metadata": {},
     "output_type": "execute_result"
    }
   ],
   "source": [
    "churns = data.groupby('churn').agg({\n",
    "                                    'score' : 'median',\n",
    "                                    'age': 'median',\n",
    "                                    'Ростов': 'mean',\n",
    "                                    'Рыбинск': 'mean',\n",
    "                                    'Ярославль': 'mean',\n",
    "                                    'balance': 'median',\n",
    "                                    'products': 'mean',\n",
    "                                    'equity': 'mean',\n",
    "                                    'man': 'mean',\n",
    "                                    'woman': 'mean',\n",
    "                                    'est_salary': 'median',\n",
    "                                    'last_activity': 'mean',\n",
    "                                    '18-24': 'mean',\n",
    "                                    '25-45': 'mean',\n",
    "                                    '46-62': 'mean',\n",
    "                                    '63+': 'mean'}\n",
    ")\n",
    "\n",
    "churns\n",
    "# сравним отточных и не отточных "
   ]
  },
  {
   "cell_type": "code",
   "execution_count": 41,
   "metadata": {
    "scrolled": false
   },
   "outputs": [
    {
     "data": {
      "text/html": [
       "<div>\n",
       "<style scoped>\n",
       "    .dataframe tbody tr th:only-of-type {\n",
       "        vertical-align: middle;\n",
       "    }\n",
       "\n",
       "    .dataframe tbody tr th {\n",
       "        vertical-align: top;\n",
       "    }\n",
       "\n",
       "    .dataframe thead th {\n",
       "        text-align: right;\n",
       "    }\n",
       "</style>\n",
       "<table border=\"1\" class=\"dataframe\">\n",
       "  <thead>\n",
       "    <tr style=\"text-align: right;\">\n",
       "      <th></th>\n",
       "      <th>Лояльные</th>\n",
       "      <th>Отточные</th>\n",
       "      <th>Разница</th>\n",
       "    </tr>\n",
       "  </thead>\n",
       "  <tbody>\n",
       "    <tr>\n",
       "      <th>balance</th>\n",
       "      <td>475382.445000</td>\n",
       "      <td>782410.470000</td>\n",
       "      <td>64.585478</td>\n",
       "    </tr>\n",
       "    <tr>\n",
       "      <th>equity</th>\n",
       "      <td>2.374817</td>\n",
       "      <td>3.764156</td>\n",
       "      <td>58.503022</td>\n",
       "    </tr>\n",
       "    <tr>\n",
       "      <th>last_activity</th>\n",
       "      <td>0.483741</td>\n",
       "      <td>0.702584</td>\n",
       "      <td>45.239722</td>\n",
       "    </tr>\n",
       "    <tr>\n",
       "      <th>man</th>\n",
       "      <td>0.467237</td>\n",
       "      <td>0.650357</td>\n",
       "      <td>39.192125</td>\n",
       "    </tr>\n",
       "    <tr>\n",
       "      <th>products</th>\n",
       "      <td>1.757579</td>\n",
       "      <td>2.377130</td>\n",
       "      <td>35.250232</td>\n",
       "    </tr>\n",
       "    <tr>\n",
       "      <th>46-62</th>\n",
       "      <td>0.260513</td>\n",
       "      <td>0.336998</td>\n",
       "      <td>29.359292</td>\n",
       "    </tr>\n",
       "    <tr>\n",
       "      <th>est_salary</th>\n",
       "      <td>118257.715000</td>\n",
       "      <td>125395.220000</td>\n",
       "      <td>6.035551</td>\n",
       "    </tr>\n",
       "    <tr>\n",
       "      <th>Ярославль</th>\n",
       "      <td>0.583252</td>\n",
       "      <td>0.614074</td>\n",
       "      <td>5.284481</td>\n",
       "    </tr>\n",
       "    <tr>\n",
       "      <th>Ростов</th>\n",
       "      <td>0.140709</td>\n",
       "      <td>0.146234</td>\n",
       "      <td>3.926647</td>\n",
       "    </tr>\n",
       "    <tr>\n",
       "      <th>score</th>\n",
       "      <td>848.000000</td>\n",
       "      <td>866.000000</td>\n",
       "      <td>2.122642</td>\n",
       "    </tr>\n",
       "    <tr>\n",
       "      <th>25-45</th>\n",
       "      <td>0.620049</td>\n",
       "      <td>0.627817</td>\n",
       "      <td>1.252898</td>\n",
       "    </tr>\n",
       "    <tr>\n",
       "      <th>age</th>\n",
       "      <td>40.000000</td>\n",
       "      <td>39.000000</td>\n",
       "      <td>-2.500000</td>\n",
       "    </tr>\n",
       "    <tr>\n",
       "      <th>Рыбинск</th>\n",
       "      <td>0.276039</td>\n",
       "      <td>0.239692</td>\n",
       "      <td>-13.167330</td>\n",
       "    </tr>\n",
       "    <tr>\n",
       "      <th>18-24</th>\n",
       "      <td>0.025061</td>\n",
       "      <td>0.017042</td>\n",
       "      <td>-31.996943</td>\n",
       "    </tr>\n",
       "    <tr>\n",
       "      <th>woman</th>\n",
       "      <td>0.532763</td>\n",
       "      <td>0.349643</td>\n",
       "      <td>-34.371800</td>\n",
       "    </tr>\n",
       "    <tr>\n",
       "      <th>63+</th>\n",
       "      <td>0.091320</td>\n",
       "      <td>0.017592</td>\n",
       "      <td>-80.735844</td>\n",
       "    </tr>\n",
       "  </tbody>\n",
       "</table>\n",
       "</div>"
      ],
      "text/plain": [
       "                    Лояльные       Отточные    Разница\n",
       "balance        475382.445000  782410.470000  64.585478\n",
       "equity              2.374817       3.764156  58.503022\n",
       "last_activity       0.483741       0.702584  45.239722\n",
       "man                 0.467237       0.650357  39.192125\n",
       "products            1.757579       2.377130  35.250232\n",
       "46-62               0.260513       0.336998  29.359292\n",
       "est_salary     118257.715000  125395.220000   6.035551\n",
       "Ярославль           0.583252       0.614074   5.284481\n",
       "Ростов              0.140709       0.146234   3.926647\n",
       "score             848.000000     866.000000   2.122642\n",
       "25-45               0.620049       0.627817   1.252898\n",
       "age                40.000000      39.000000  -2.500000\n",
       "Рыбинск             0.276039       0.239692 -13.167330\n",
       "18-24               0.025061       0.017042 -31.996943\n",
       "woman               0.532763       0.349643 -34.371800\n",
       "63+                 0.091320       0.017592 -80.735844"
      ]
     },
     "execution_count": 41,
     "metadata": {},
     "output_type": "execute_result"
    }
   ],
   "source": [
    "pd.concat(\n",
    "    {'Лояльные': churns.iloc[0],\n",
    "    'Отточные': churns.iloc[1],\n",
    "    'Разница': (churns.iloc[1]/churns.iloc[0]-1)*100},\n",
    "        axis=1).sort_values('Разница', ascending = False)\n",
    "# добавляем разницу и сортируем                                                                           "
   ]
  },
  {
   "cell_type": "code",
   "execution_count": 42,
   "metadata": {},
   "outputs": [
    {
     "data": {
      "text/html": [
       "<div>\n",
       "<style scoped>\n",
       "    .dataframe tbody tr th:only-of-type {\n",
       "        vertical-align: middle;\n",
       "    }\n",
       "\n",
       "    .dataframe tbody tr th {\n",
       "        vertical-align: top;\n",
       "    }\n",
       "\n",
       "    .dataframe thead th {\n",
       "        text-align: right;\n",
       "    }\n",
       "</style>\n",
       "<table border=\"1\" class=\"dataframe\">\n",
       "  <thead>\n",
       "    <tr style=\"text-align: right;\">\n",
       "      <th>churn</th>\n",
       "      <th>index</th>\n",
       "      <th>0</th>\n",
       "      <th>1</th>\n",
       "    </tr>\n",
       "  </thead>\n",
       "  <tbody>\n",
       "    <tr>\n",
       "      <th>0</th>\n",
       "      <td>city</td>\n",
       "      <td>Ярославль</td>\n",
       "      <td>Ярославль</td>\n",
       "    </tr>\n",
       "    <tr>\n",
       "      <th>1</th>\n",
       "      <td>credit_card</td>\n",
       "      <td>1</td>\n",
       "      <td>1</td>\n",
       "    </tr>\n",
       "    <tr>\n",
       "      <th>2</th>\n",
       "      <td>equity</td>\n",
       "      <td>0</td>\n",
       "      <td>5</td>\n",
       "    </tr>\n",
       "    <tr>\n",
       "      <th>3</th>\n",
       "      <td>gender</td>\n",
       "      <td>Ж</td>\n",
       "      <td>М</td>\n",
       "    </tr>\n",
       "    <tr>\n",
       "      <th>4</th>\n",
       "      <td>last_activity</td>\n",
       "      <td>0</td>\n",
       "      <td>1</td>\n",
       "    </tr>\n",
       "    <tr>\n",
       "      <th>5</th>\n",
       "      <td>products</td>\n",
       "      <td>2</td>\n",
       "      <td>2</td>\n",
       "    </tr>\n",
       "  </tbody>\n",
       "</table>\n",
       "</div>"
      ],
      "text/plain": [
       "churn          index          0          1\n",
       "0               city  Ярославль  Ярославль\n",
       "1        credit_card          1          1\n",
       "2             equity          0          5\n",
       "3             gender          Ж          М\n",
       "4      last_activity          0          1\n",
       "5           products          2          2"
      ]
     },
     "execution_count": 42,
     "metadata": {},
     "output_type": "execute_result"
    }
   ],
   "source": [
    "d_a = data.pivot_table(columns='churn', values=['city', 'gender', 'last_activity', 'products', 'equity', 'credit_card'],\\\n",
    "                             aggfunc={'city': pd.Series.mode, 'gender' : pd.Series.mode,\\\n",
    "                                     'last_activity': pd.Series.mode,'products': pd.Series.mode,\\\n",
    "                                     'equity': pd.Series.mode, 'credit_card': pd.Series.mode}).reset_index()\n",
    "d_a\n",
    "# категориальные признаки"
   ]
  },
  {
   "cell_type": "code",
   "execution_count": 43,
   "metadata": {},
   "outputs": [
    {
     "data": {
      "text/html": [
       "<div>\n",
       "<style scoped>\n",
       "    .dataframe tbody tr th:only-of-type {\n",
       "        vertical-align: middle;\n",
       "    }\n",
       "\n",
       "    .dataframe tbody tr th {\n",
       "        vertical-align: top;\n",
       "    }\n",
       "\n",
       "    .dataframe thead th {\n",
       "        text-align: right;\n",
       "    }\n",
       "</style>\n",
       "<table border=\"1\" class=\"dataframe\">\n",
       "  <thead>\n",
       "    <tr style=\"text-align: right;\">\n",
       "      <th>churn</th>\n",
       "      <th>index</th>\n",
       "      <th>0</th>\n",
       "      <th>1</th>\n",
       "    </tr>\n",
       "  </thead>\n",
       "  <tbody>\n",
       "    <tr>\n",
       "      <th>0</th>\n",
       "      <td>age</td>\n",
       "      <td>40.000</td>\n",
       "      <td>39.00</td>\n",
       "    </tr>\n",
       "    <tr>\n",
       "      <th>1</th>\n",
       "      <td>balance</td>\n",
       "      <td>475382.445</td>\n",
       "      <td>782410.47</td>\n",
       "    </tr>\n",
       "    <tr>\n",
       "      <th>2</th>\n",
       "      <td>est_salary</td>\n",
       "      <td>118257.715</td>\n",
       "      <td>125395.22</td>\n",
       "    </tr>\n",
       "    <tr>\n",
       "      <th>3</th>\n",
       "      <td>score</td>\n",
       "      <td>848.000</td>\n",
       "      <td>866.00</td>\n",
       "    </tr>\n",
       "  </tbody>\n",
       "</table>\n",
       "</div>"
      ],
      "text/plain": [
       "churn       index           0          1\n",
       "0             age      40.000      39.00\n",
       "1         balance  475382.445  782410.47\n",
       "2      est_salary  118257.715  125395.22\n",
       "3           score     848.000     866.00"
      ]
     },
     "execution_count": 43,
     "metadata": {},
     "output_type": "execute_result"
    }
   ],
   "source": [
    "d_b = data.pivot_table(columns='churn', values=['est_salary','balance', 'score', 'age'],\\\n",
    "                             aggfunc={\n",
    "                                     'est_salary': pd.Series.median,'balance': pd.Series.median,\\\n",
    "                                      'score': pd.Series.median,'age': pd.Series.median}).reset_index()\n",
    "d_b\n",
    "# непрерывные признаки"
   ]
  },
  {
   "cell_type": "code",
   "execution_count": 44,
   "metadata": {},
   "outputs": [
    {
     "data": {
      "text/html": [
       "<div>\n",
       "<style scoped>\n",
       "    .dataframe tbody tr th:only-of-type {\n",
       "        vertical-align: middle;\n",
       "    }\n",
       "\n",
       "    .dataframe tbody tr th {\n",
       "        vertical-align: top;\n",
       "    }\n",
       "\n",
       "    .dataframe thead th {\n",
       "        text-align: right;\n",
       "    }\n",
       "</style>\n",
       "<table border=\"1\" class=\"dataframe\">\n",
       "  <thead>\n",
       "    <tr style=\"text-align: right;\">\n",
       "      <th>churn</th>\n",
       "      <th>index</th>\n",
       "      <th>0</th>\n",
       "      <th>1</th>\n",
       "      <th>Разница</th>\n",
       "    </tr>\n",
       "  </thead>\n",
       "  <tbody>\n",
       "    <tr>\n",
       "      <th>0</th>\n",
       "      <td>age</td>\n",
       "      <td>40.000</td>\n",
       "      <td>39.00</td>\n",
       "      <td>-2.5%</td>\n",
       "    </tr>\n",
       "    <tr>\n",
       "      <th>1</th>\n",
       "      <td>balance</td>\n",
       "      <td>475382.445</td>\n",
       "      <td>782410.47</td>\n",
       "      <td>64.6%</td>\n",
       "    </tr>\n",
       "    <tr>\n",
       "      <th>2</th>\n",
       "      <td>est_salary</td>\n",
       "      <td>118257.715</td>\n",
       "      <td>125395.22</td>\n",
       "      <td>6.0%</td>\n",
       "    </tr>\n",
       "    <tr>\n",
       "      <th>3</th>\n",
       "      <td>score</td>\n",
       "      <td>848.000</td>\n",
       "      <td>866.00</td>\n",
       "      <td>2.1%</td>\n",
       "    </tr>\n",
       "  </tbody>\n",
       "</table>\n",
       "</div>"
      ],
      "text/plain": [
       "churn       index           0          1 Разница\n",
       "0             age      40.000      39.00   -2.5%\n",
       "1         balance  475382.445  782410.47   64.6%\n",
       "2      est_salary  118257.715  125395.22    6.0%\n",
       "3           score     848.000     866.00    2.1%"
      ]
     },
     "execution_count": 44,
     "metadata": {},
     "output_type": "execute_result"
    }
   ],
   "source": [
    "d_b['Разница'] = np.round(((d_b[1] /d_b[0]-1) * 100),1).astype(str) + '%'\n",
    "d_b"
   ]
  },
  {
   "cell_type": "code",
   "execution_count": 45,
   "metadata": {},
   "outputs": [
    {
     "data": {
      "text/html": [
       "<div>\n",
       "<style scoped>\n",
       "    .dataframe tbody tr th:only-of-type {\n",
       "        vertical-align: middle;\n",
       "    }\n",
       "\n",
       "    .dataframe tbody tr th {\n",
       "        vertical-align: top;\n",
       "    }\n",
       "\n",
       "    .dataframe thead th {\n",
       "        text-align: right;\n",
       "    }\n",
       "</style>\n",
       "<table border=\"1\" class=\"dataframe\">\n",
       "  <thead>\n",
       "    <tr style=\"text-align: right;\">\n",
       "      <th>churn</th>\n",
       "      <th>index</th>\n",
       "      <th>0</th>\n",
       "      <th>1</th>\n",
       "      <th>Разница</th>\n",
       "    </tr>\n",
       "  </thead>\n",
       "  <tbody>\n",
       "    <tr>\n",
       "      <th>7</th>\n",
       "      <td>balance</td>\n",
       "      <td>475382.445</td>\n",
       "      <td>782410.47</td>\n",
       "      <td>64.6%</td>\n",
       "    </tr>\n",
       "    <tr>\n",
       "      <th>8</th>\n",
       "      <td>est_salary</td>\n",
       "      <td>118257.715</td>\n",
       "      <td>125395.22</td>\n",
       "      <td>6.0%</td>\n",
       "    </tr>\n",
       "    <tr>\n",
       "      <th>9</th>\n",
       "      <td>score</td>\n",
       "      <td>848.0</td>\n",
       "      <td>866.0</td>\n",
       "      <td>2.1%</td>\n",
       "    </tr>\n",
       "    <tr>\n",
       "      <th>6</th>\n",
       "      <td>age</td>\n",
       "      <td>40.0</td>\n",
       "      <td>39.0</td>\n",
       "      <td>-2.5%</td>\n",
       "    </tr>\n",
       "    <tr>\n",
       "      <th>0</th>\n",
       "      <td>city</td>\n",
       "      <td>Ярославль</td>\n",
       "      <td>Ярославль</td>\n",
       "      <td>-</td>\n",
       "    </tr>\n",
       "    <tr>\n",
       "      <th>1</th>\n",
       "      <td>credit_card</td>\n",
       "      <td>1</td>\n",
       "      <td>1</td>\n",
       "      <td>-</td>\n",
       "    </tr>\n",
       "    <tr>\n",
       "      <th>2</th>\n",
       "      <td>equity</td>\n",
       "      <td>0</td>\n",
       "      <td>5</td>\n",
       "      <td>-</td>\n",
       "    </tr>\n",
       "    <tr>\n",
       "      <th>3</th>\n",
       "      <td>gender</td>\n",
       "      <td>Ж</td>\n",
       "      <td>М</td>\n",
       "      <td>-</td>\n",
       "    </tr>\n",
       "    <tr>\n",
       "      <th>4</th>\n",
       "      <td>last_activity</td>\n",
       "      <td>0</td>\n",
       "      <td>1</td>\n",
       "      <td>-</td>\n",
       "    </tr>\n",
       "    <tr>\n",
       "      <th>5</th>\n",
       "      <td>products</td>\n",
       "      <td>2</td>\n",
       "      <td>2</td>\n",
       "      <td>-</td>\n",
       "    </tr>\n",
       "  </tbody>\n",
       "</table>\n",
       "</div>"
      ],
      "text/plain": [
       "churn          index           0          1 Разница\n",
       "7            balance  475382.445  782410.47   64.6%\n",
       "8         est_salary  118257.715  125395.22    6.0%\n",
       "9              score       848.0      866.0    2.1%\n",
       "6                age        40.0       39.0   -2.5%\n",
       "0               city   Ярославль  Ярославль       -\n",
       "1        credit_card           1          1       -\n",
       "2             equity           0          5       -\n",
       "3             gender           Ж          М       -\n",
       "4      last_activity           0          1       -\n",
       "5           products           2          2       -"
      ]
     },
     "execution_count": 45,
     "metadata": {},
     "output_type": "execute_result"
    }
   ],
   "source": [
    "a = pd.concat([d_a, d_b], ignore_index=True).sort_values('Разница', ascending = False)\n",
    "a = a.fillna('-') \n",
    "a\n",
    "# ставим пропуск и соединяем  "
   ]
  },
  {
   "cell_type": "markdown",
   "metadata": {},
   "source": [
    "Вывод: Отточными клиентами являются клиенты с высоким рейтингом имущества, бОльшим балансом, активные мужчины, с 4-5 продуктами чуть старше среднего возраста, с высокой зарплатой"
   ]
  },
  {
   "cell_type": "markdown",
   "metadata": {},
   "source": [
    "## шаг. Проверка статистических гипотез"
   ]
  },
  {
   "cell_type": "markdown",
   "metadata": {},
   "source": [
    "H0: Доходы лояльных  и отточных клиентов равны\n",
    "\n",
    "H1: Доходы лояльных  и отточных клиентов не равны"
   ]
  },
  {
   "cell_type": "code",
   "execution_count": 46,
   "metadata": {},
   "outputs": [
    {
     "data": {
      "image/png": "[encoded data removed]",
      "text/plain": [
       "<Figure size 1080x504 with 1 Axes>"
      ]
     },
     "metadata": {
      "needs_background": "light"
     },
     "output_type": "display_data"
    }
   ],
   "source": [
    "fig, scatter = plt.subplots(figsize = (15,7))\n",
    "sns.histplot(data.query('churn == 0')['est_salary'], bins = 100, color='red' ) \n",
    "sns.histplot(data.query('churn == 1')['est_salary'], bins = 100, color = 'blue')\n",
    "plt.title('Распределение по доходу')\n",
    "plt.legend(['Лояльные', 'Отточные'])\n",
    "plt.xlabel('Заработная плата')\n",
    "plt.ylabel('Количество клиентов')\n",
    "\n",
    "plt.show();"
   ]
  },
  {
   "cell_type": "code",
   "execution_count": 47,
   "metadata": {},
   "outputs": [
    {
     "name": "stdout",
     "output_type": "stream",
     "text": [
      "Кол-во ушедших клиентов: 1819\n",
      "Кол-во лояльных клиентов: 8180\n",
      "Дисперсия отточных: 15107935966.895876\n",
      "Дисперсия лояльных: 20392519451.455894\n"
     ]
    }
   ],
   "source": [
    "print ('Кол-во ушедших клиентов:', len(data.query('churn == 1')['est_salary']))\n",
    "print('Кол-во лояльных клиентов:', len(data.query('churn == 0')['est_salary']))\n",
    "print('Дисперсия отточных:', data.query('churn == 1')['est_salary'].var())\n",
    "print('Дисперсия лояльных:', data.query('churn == 0')['est_salary'].var())"
   ]
  },
  {
   "cell_type": "code",
   "execution_count": 48,
   "metadata": {},
   "outputs": [
    {
     "name": "stdout",
     "output_type": "stream",
     "text": [
      "p-значение:  0.0\n",
      "Распределение не нормально\n"
     ]
    },
    {
     "name": "stderr",
     "output_type": "stream",
     "text": [
      "/opt/conda/lib/python3.9/site-packages/scipy/stats/_morestats.py:1800: UserWarning: p-value may not be accurate for N > 5000.\n",
      "  warnings.warn(\"p-value may not be accurate for N > 5000.\")\n"
     ]
    }
   ],
   "source": [
    "alpha = 0.05  \n",
    "\n",
    "shapiro_test_stat, p_value = st.shapiro(data.query('churn == 0')['est_salary'])\n",
    "print('p-значение: ', p_value)\n",
    "if p_value < alpha:\n",
    "    print('Распределение не нормально')\n",
    "else:\n",
    "    print('Нормальное распределение')  \n",
    "# проверим лояльных на распределение"
   ]
  },
  {
   "cell_type": "code",
   "execution_count": 49,
   "metadata": {},
   "outputs": [
    {
     "name": "stdout",
     "output_type": "stream",
     "text": [
      "p-значение:  0.0\n",
      "Распределение не нормально\n"
     ]
    }
   ],
   "source": [
    "alpha = 0.05  \n",
    "\n",
    "shapiro_test_stat, p_value = st.shapiro(data.query('churn == 1')['est_salary'])\n",
    "print('p-значение: ', p_value)\n",
    "if p_value < alpha:\n",
    "    print('Распределение не нормально')\n",
    "else:\n",
    "    print('Нормальное распределение')  \n",
    "# проверим отточных на распределение"
   ]
  },
  {
   "cell_type": "markdown",
   "metadata": {},
   "source": [
    "Выборки распределены не нормально, дисперсии не равны, соответсвенно тест Стьюдента не подходит - используем тест Манна Уитни"
   ]
  },
  {
   "cell_type": "code",
   "execution_count": 50,
   "metadata": {},
   "outputs": [
    {
     "name": "stdout",
     "output_type": "stream",
     "text": [
      "p-значение:  0.00021160652203623057\n",
      "Отвергаем нулевую гипотезу: разница статистически значима\n"
     ]
    }
   ],
   "source": [
    "alpha = 0.05  # критический уровень статистической значимости\n",
    "\n",
    "results = st.mannwhitneyu((data.query('churn == 0')['est_salary']), (data.query('churn == 1')['est_salary']))\n",
    "\n",
    "print('p-значение: ', results.pvalue)\n",
    "\n",
    "if results.pvalue < alpha:\n",
    "    print('Отвергаем нулевую гипотезу: разница статистически значима')\n",
    "else:\n",
    "    print(\n",
    "        'Не получилось отвергнуть нулевую гипотезу, вывод о различии сделать нельзя'\n",
    "    ) "
   ]
  },
  {
   "cell_type": "markdown",
   "metadata": {},
   "source": [
    "H0: Кредитный рейтинг лояльных  и отточных клиентов равны\n",
    "\n",
    "H1: Кредитный рейтинг лояльных  и отточных клиентов не равны"
   ]
  },
  {
   "cell_type": "code",
   "execution_count": 51,
   "metadata": {},
   "outputs": [
    {
     "data": {
      "image/png": "[encoded data removed]",
      "text/plain": [
       "<Figure size 720x360 with 1 Axes>"
      ]
     },
     "metadata": {
      "needs_background": "light"
     },
     "output_type": "display_data"
    }
   ],
   "source": [
    "fig, scatter = plt.subplots(figsize = (10,5))\n",
    "sns.histplot(data.query('churn == 0')['score'], bins = 100, color='red')\n",
    "sns.histplot(data.query('churn == 1')['score'], bins = 100, color = 'blue')\n",
    "plt.title('Распределение по рейтингу')\n",
    "plt.legend(['Лояльные', 'Отточные'])\n",
    "plt.xlabel('Кредитный рейтинг')\n",
    "plt.ylabel('Количество клиентов')\n",
    "plt.show();"
   ]
  },
  {
   "cell_type": "code",
   "execution_count": 52,
   "metadata": {},
   "outputs": [
    {
     "name": "stdout",
     "output_type": "stream",
     "text": [
      "Дисперсия отточных: 2457.3047909518823\n",
      "Дисперсия лояльных: 4630.492360930297\n"
     ]
    }
   ],
   "source": [
    "print('Дисперсия отточных:', data.query('churn == 1')['score'].var())\n",
    "print('Дисперсия лояльных:', data.query('churn == 0')['score'].var())"
   ]
  },
  {
   "cell_type": "code",
   "execution_count": 53,
   "metadata": {},
   "outputs": [
    {
     "name": "stdout",
     "output_type": "stream",
     "text": [
      "p-значение:  3.817680641163025e-26\n",
      "Распределение не нормально\n"
     ]
    },
    {
     "name": "stderr",
     "output_type": "stream",
     "text": [
      "/opt/conda/lib/python3.9/site-packages/scipy/stats/_morestats.py:1800: UserWarning: p-value may not be accurate for N > 5000.\n",
      "  warnings.warn(\"p-value may not be accurate for N > 5000.\")\n"
     ]
    }
   ],
   "source": [
    "alpha = 0.05  \n",
    "\n",
    "shapiro_test_stat, p_value = st.shapiro(data.query('churn == 0')['score'])\n",
    "print('p-значение: ', p_value)\n",
    "if p_value < alpha:\n",
    "    print('Распределение не нормально')\n",
    "else:\n",
    "    print('Нормальное распределение')  \n",
    "# проверим лояльных на распределение"
   ]
  },
  {
   "cell_type": "code",
   "execution_count": 54,
   "metadata": {},
   "outputs": [
    {
     "name": "stdout",
     "output_type": "stream",
     "text": [
      "p-значение:  0.00010231484338873997\n",
      "Распределение не нормально\n"
     ]
    }
   ],
   "source": [
    "alpha = 0.05  \n",
    "\n",
    "shapiro_test_stat, p_value = st.shapiro(data.query('churn == 1')['score'])\n",
    "print('p-значение: ', p_value)\n",
    "if p_value < alpha:\n",
    "    print('Распределение не нормально')\n",
    "else:\n",
    "    print('Нормальное распределение')  \n",
    "# проверим отточных на распределение"
   ]
  },
  {
   "cell_type": "markdown",
   "metadata": {},
   "source": [
    "Выборки распределены не нормально, хвост слева, дисперсии не равны, соответсвенно тест Стьюдента не подходит - используем тест Манна Уитни"
   ]
  },
  {
   "cell_type": "code",
   "execution_count": 55,
   "metadata": {},
   "outputs": [
    {
     "name": "stdout",
     "output_type": "stream",
     "text": [
      "p-значение:  7.364570509844462e-22\n",
      "Отвергаем нулевую гипотезу: разница статистически значима\n"
     ]
    }
   ],
   "source": [
    "alpha = 0.05  # критический уровень статистической значимости\n",
    "\n",
    "results = st.mannwhitneyu((data.query('churn == 0')['score']), (data.query('churn == 1')['score']))\n",
    "\n",
    "print('p-значение: ', results.pvalue)\n",
    "\n",
    "if results.pvalue < alpha:\n",
    "    print('Отвергаем нулевую гипотезу: разница статистически значима')\n",
    "else:\n",
    "    print(\n",
    "        'Не получилось отвергнуть нулевую гипотезу, вывод о различии сделать нельзя'\n",
    "    ) "
   ]
  },
  {
   "cell_type": "markdown",
   "metadata": {},
   "source": [
    "H0: Количество банковскийх продуктов у лояльных  и отточных клиентов равно\n",
    "\n",
    "H1: Количество банковскийх продуктов  лояльных  и отточных клиентов не равно"
   ]
  },
  {
   "cell_type": "code",
   "execution_count": 56,
   "metadata": {},
   "outputs": [
    {
     "data": {
      "image/png": "[encoded data removed]",
      "text/plain": [
       "<Figure size 720x360 with 1 Axes>"
      ]
     },
     "metadata": {
      "needs_background": "light"
     },
     "output_type": "display_data"
    }
   ],
   "source": [
    "fig, scatter = plt.subplots(figsize = (10,5))\n",
    "sns.histplot(data.query('churn == 0')['products'], bins = 100, color='red')\n",
    "sns.histplot(data.query('churn == 1')['products'], bins = 100, color = 'blue')\n",
    "plt.title('Распределение по рейтингу')\n",
    "plt.legend(['Лояльные', 'Отточные'])\n",
    "plt.xlabel('Количество банковских продуктов')\n",
    "plt.ylabel('Количество клиентов')\n",
    "plt.show();"
   ]
  },
  {
   "cell_type": "code",
   "execution_count": 57,
   "metadata": {},
   "outputs": [
    {
     "name": "stdout",
     "output_type": "stream",
     "text": [
      "Кол-во ушедших: 1819\n",
      "Кол-во лояльных: 8180\n",
      "Дисперсия отточных: 0.8499937404405642\n",
      "Дисперсия лояльных: 0.5088984073052493\n"
     ]
    }
   ],
   "source": [
    "print ('Кол-во ушедших:', len(data.query('churn == 1')['products']))\n",
    "print('Кол-во лояльных:', len(data.query('churn == 0')['products']))\n",
    "print('Дисперсия отточных:', data.query('churn == 1')['products'].var())\n",
    "print('Дисперсия лояльных:', data.query('churn == 0')['products'].var())"
   ]
  },
  {
   "cell_type": "markdown",
   "metadata": {},
   "source": [
    "Выборки не равны,  дисперсии не равны, соответсвенно тест Стьюдента не подходит - используем тест Манна Уитни"
   ]
  },
  {
   "cell_type": "code",
   "execution_count": 58,
   "metadata": {},
   "outputs": [
    {
     "name": "stdout",
     "output_type": "stream",
     "text": [
      "p-значение:  1.7296310495167595e-162\n",
      "Отвергаем нулевую гипотезу: разница статистически значима\n"
     ]
    }
   ],
   "source": [
    "alpha = 0.05  # критический уровень статистической значимости\n",
    "\n",
    "results = st.mannwhitneyu((data.query('churn == 0')['products']), (data.query('churn == 1')['products']))\n",
    "\n",
    "print('p-значение: ', results.pvalue)\n",
    "\n",
    "if results.pvalue < alpha:\n",
    "    print('Отвергаем нулевую гипотезу: разница статистически значима')\n",
    "else:\n",
    "    print(\n",
    "        'Не получилось отвергнуть нулевую гипотезу, вывод о различии сделать нельзя'\n",
    "    ) "
   ]
  },
  {
   "cell_type": "markdown",
   "metadata": {},
   "source": [
    "###### Вывод. \n",
    "Проверили гипотезы, для выявления причин оттока клиентов. По проведенным расчетам тест Манна Уитни показал статистически значимые различия в доходах клиентов, которые подвержены оттоку и лояльных. Второй тест показал, что есть различие в отточности у клиентов с разным кредитным рейтингом. Также мы провели еще оин тест, по результатам которого можно сдеалть вывод, что поведение клиентов в вопросе лояльности к банку зависит от количества банковских продуктов."
   ]
  },
  {
   "cell_type": "markdown",
   "metadata": {},
   "source": [
    "## шаг. Подведение промежуточных итогов"
   ]
  },
  {
   "cell_type": "markdown",
   "metadata": {},
   "source": [
    "Признаки отточности по уменьшению:\n",
    "\n",
    "Баланс - чем выше баланс, тем меньше лояльность\n",
    "\n",
    "Имущество  - чем больше, тем менее лоялен клиент\n",
    "\n",
    "Активность - активные клиенты менее лояльны\n",
    "\n",
    "Мужчины  - мужчины менее лояльны\n",
    "\n",
    "Возраст -  менее лояльна в среднем по банку возрастная группа 46-62\n",
    "\n",
    "Зарплата - чем выше зарплата, тем менее лоялен клиент, после 120 тыс явно выражено"
   ]
  },
  {
   "cell_type": "markdown",
   "metadata": {},
   "source": [
    "## шаг. Сегментация "
   ]
  },
  {
   "cell_type": "markdown",
   "metadata": {},
   "source": [
    " Между Score, equity, balance и  products высокая корреляция, возраст 25-42, 50-62, разделим их по сегментам"
   ]
  },
  {
   "cell_type": "code",
   "execution_count": 59,
   "metadata": {},
   "outputs": [
    {
     "data": {
      "text/html": [
       "<div>\n",
       "<style scoped>\n",
       "    .dataframe tbody tr th:only-of-type {\n",
       "        vertical-align: middle;\n",
       "    }\n",
       "\n",
       "    .dataframe tbody tr th {\n",
       "        vertical-align: top;\n",
       "    }\n",
       "\n",
       "    .dataframe thead th {\n",
       "        text-align: right;\n",
       "    }\n",
       "</style>\n",
       "<table border=\"1\" class=\"dataframe\">\n",
       "  <thead>\n",
       "    <tr style=\"text-align: right;\">\n",
       "      <th></th>\n",
       "      <th>churn</th>\n",
       "    </tr>\n",
       "  </thead>\n",
       "  <tbody>\n",
       "    <tr>\n",
       "      <th>mean</th>\n",
       "      <td>0.538088</td>\n",
       "    </tr>\n",
       "    <tr>\n",
       "      <th>count</th>\n",
       "      <td>617.000000</td>\n",
       "    </tr>\n",
       "  </tbody>\n",
       "</table>\n",
       "</div>"
      ],
      "text/plain": [
       "            churn\n",
       "mean     0.538088\n",
       "count  617.000000"
      ]
     },
     "execution_count": 59,
     "metadata": {},
     "output_type": "execute_result"
    }
   ],
   "source": [
    "data.query('man == 1 and equity >= 3 and products >= 3').agg({'churn':['mean','count']})\n",
    "# мужчина с имуществом"
   ]
  },
  {
   "cell_type": "code",
   "execution_count": 60,
   "metadata": {},
   "outputs": [
    {
     "data": {
      "text/html": [
       "<div>\n",
       "<style scoped>\n",
       "    .dataframe tbody tr th:only-of-type {\n",
       "        vertical-align: middle;\n",
       "    }\n",
       "\n",
       "    .dataframe tbody tr th {\n",
       "        vertical-align: top;\n",
       "    }\n",
       "\n",
       "    .dataframe thead th {\n",
       "        text-align: right;\n",
       "    }\n",
       "</style>\n",
       "<table border=\"1\" class=\"dataframe\">\n",
       "  <thead>\n",
       "    <tr style=\"text-align: right;\">\n",
       "      <th></th>\n",
       "      <th>churn</th>\n",
       "    </tr>\n",
       "  </thead>\n",
       "  <tbody>\n",
       "    <tr>\n",
       "      <th>mean</th>\n",
       "      <td>0.501622</td>\n",
       "    </tr>\n",
       "    <tr>\n",
       "      <th>count</th>\n",
       "      <td>925.000000</td>\n",
       "    </tr>\n",
       "  </tbody>\n",
       "</table>\n",
       "</div>"
      ],
      "text/plain": [
       "            churn\n",
       "mean     0.501622\n",
       "count  925.000000"
      ]
     },
     "execution_count": 60,
     "metadata": {},
     "output_type": "execute_result"
    }
   ],
   "source": [
    "data.query('score >840 and est_salary >130000 and balance > 1000000' ).agg({'churn':['mean','count']})\n",
    "# Кредитный рейтинг, высокая зарплата, высокий баланс"
   ]
  },
  {
   "cell_type": "code",
   "execution_count": 61,
   "metadata": {},
   "outputs": [
    {
     "data": {
      "text/html": [
       "<div>\n",
       "<style scoped>\n",
       "    .dataframe tbody tr th:only-of-type {\n",
       "        vertical-align: middle;\n",
       "    }\n",
       "\n",
       "    .dataframe tbody tr th {\n",
       "        vertical-align: top;\n",
       "    }\n",
       "\n",
       "    .dataframe thead th {\n",
       "        text-align: right;\n",
       "    }\n",
       "</style>\n",
       "<table border=\"1\" class=\"dataframe\">\n",
       "  <thead>\n",
       "    <tr style=\"text-align: right;\">\n",
       "      <th></th>\n",
       "      <th>churn</th>\n",
       "    </tr>\n",
       "  </thead>\n",
       "  <tbody>\n",
       "    <tr>\n",
       "      <th>mean</th>\n",
       "      <td>0.474515</td>\n",
       "    </tr>\n",
       "    <tr>\n",
       "      <th>count</th>\n",
       "      <td>824.000000</td>\n",
       "    </tr>\n",
       "  </tbody>\n",
       "</table>\n",
       "</div>"
      ],
      "text/plain": [
       "            churn\n",
       "mean     0.474515\n",
       "count  824.000000"
      ]
     },
     "execution_count": 61,
     "metadata": {},
     "output_type": "execute_result"
    }
   ],
   "source": [
    "data.query('last_activity == 1  and products >= 3').agg({'churn':['mean','count']})\n",
    "# Активный с продуктами более 3х"
   ]
  },
  {
   "cell_type": "code",
   "execution_count": 62,
   "metadata": {},
   "outputs": [
    {
     "data": {
      "text/html": [
       "<div>\n",
       "<style scoped>\n",
       "    .dataframe tbody tr th:only-of-type {\n",
       "        vertical-align: middle;\n",
       "    }\n",
       "\n",
       "    .dataframe tbody tr th {\n",
       "        vertical-align: top;\n",
       "    }\n",
       "\n",
       "    .dataframe thead th {\n",
       "        text-align: right;\n",
       "    }\n",
       "</style>\n",
       "<table border=\"1\" class=\"dataframe\">\n",
       "  <thead>\n",
       "    <tr style=\"text-align: right;\">\n",
       "      <th></th>\n",
       "      <th>churn</th>\n",
       "    </tr>\n",
       "  </thead>\n",
       "  <tbody>\n",
       "    <tr>\n",
       "      <th>mean</th>\n",
       "      <td>0.45394</td>\n",
       "    </tr>\n",
       "    <tr>\n",
       "      <th>count</th>\n",
       "      <td>901.00000</td>\n",
       "    </tr>\n",
       "  </tbody>\n",
       "</table>\n",
       "</div>"
      ],
      "text/plain": [
       "           churn\n",
       "mean     0.45394\n",
       "count  901.00000"
      ]
     },
     "execution_count": 62,
     "metadata": {},
     "output_type": "execute_result"
    }
   ],
   "source": [
    "data.query('last_activity == 1 and 25 <= age <= 35 and score >850').agg({'churn':['mean','count']})\n",
    "# Активный, молодой, хороший рейтинг"
   ]
  },
  {
   "cell_type": "code",
   "execution_count": 63,
   "metadata": {},
   "outputs": [
    {
     "data": {
      "text/html": [
       "<div>\n",
       "<style scoped>\n",
       "    .dataframe tbody tr th:only-of-type {\n",
       "        vertical-align: middle;\n",
       "    }\n",
       "\n",
       "    .dataframe tbody tr th {\n",
       "        vertical-align: top;\n",
       "    }\n",
       "\n",
       "    .dataframe thead th {\n",
       "        text-align: right;\n",
       "    }\n",
       "</style>\n",
       "<table border=\"1\" class=\"dataframe\">\n",
       "  <thead>\n",
       "    <tr style=\"text-align: right;\">\n",
       "      <th></th>\n",
       "      <th>churn</th>\n",
       "    </tr>\n",
       "  </thead>\n",
       "  <tbody>\n",
       "    <tr>\n",
       "      <th>mean</th>\n",
       "      <td>0.404239</td>\n",
       "    </tr>\n",
       "    <tr>\n",
       "      <th>count</th>\n",
       "      <td>1321.000000</td>\n",
       "    </tr>\n",
       "  </tbody>\n",
       "</table>\n",
       "</div>"
      ],
      "text/plain": [
       "             churn\n",
       "mean      0.404239\n",
       "count  1321.000000"
      ]
     },
     "execution_count": 63,
     "metadata": {},
     "output_type": "execute_result"
    }
   ],
   "source": [
    "data.query('balance > 900000 and Ярославль == 1 ').agg({'churn':['mean','count']})\n",
    "# Высокий баланс из Ярославля"
   ]
  },
  {
   "cell_type": "code",
   "execution_count": 64,
   "metadata": {},
   "outputs": [
    {
     "data": {
      "text/html": [
       "<div>\n",
       "<style scoped>\n",
       "    .dataframe tbody tr th:only-of-type {\n",
       "        vertical-align: middle;\n",
       "    }\n",
       "\n",
       "    .dataframe tbody tr th {\n",
       "        vertical-align: top;\n",
       "    }\n",
       "\n",
       "    .dataframe thead th {\n",
       "        text-align: right;\n",
       "    }\n",
       "</style>\n",
       "<table border=\"1\" class=\"dataframe\">\n",
       "  <thead>\n",
       "    <tr style=\"text-align: right;\">\n",
       "      <th></th>\n",
       "      <th>churn</th>\n",
       "    </tr>\n",
       "  </thead>\n",
       "  <tbody>\n",
       "    <tr>\n",
       "      <th>mean</th>\n",
       "      <td>0.360947</td>\n",
       "    </tr>\n",
       "    <tr>\n",
       "      <th>count</th>\n",
       "      <td>507.000000</td>\n",
       "    </tr>\n",
       "  </tbody>\n",
       "</table>\n",
       "</div>"
      ],
      "text/plain": [
       "            churn\n",
       "mean     0.360947\n",
       "count  507.000000"
      ]
     },
     "execution_count": 64,
     "metadata": {},
     "output_type": "execute_result"
    }
   ],
   "source": [
    "data.query('equity >3 and 46 <= age <= 62 and est_salary > 120000').agg({'churn':['mean','count']})\n",
    "# Имущество, возраст 46-62, хорошая зарплата"
   ]
  },
  {
   "cell_type": "code",
   "execution_count": 65,
   "metadata": {},
   "outputs": [
    {
     "data": {
      "text/html": [
       "<div>\n",
       "<style scoped>\n",
       "    .dataframe tbody tr th:only-of-type {\n",
       "        vertical-align: middle;\n",
       "    }\n",
       "\n",
       "    .dataframe tbody tr th {\n",
       "        vertical-align: top;\n",
       "    }\n",
       "\n",
       "    .dataframe thead th {\n",
       "        text-align: right;\n",
       "    }\n",
       "</style>\n",
       "<table border=\"1\" class=\"dataframe\">\n",
       "  <thead>\n",
       "    <tr style=\"text-align: right;\">\n",
       "      <th></th>\n",
       "      <th>churn</th>\n",
       "    </tr>\n",
       "  </thead>\n",
       "  <tbody>\n",
       "    <tr>\n",
       "      <th>mean</th>\n",
       "      <td>0.83</td>\n",
       "    </tr>\n",
       "    <tr>\n",
       "      <th>count</th>\n",
       "      <td>100.00</td>\n",
       "    </tr>\n",
       "  </tbody>\n",
       "</table>\n",
       "</div>"
      ],
      "text/plain": [
       "        churn\n",
       "mean     0.83\n",
       "count  100.00"
      ]
     },
     "execution_count": 65,
     "metadata": {},
     "output_type": "execute_result"
    }
   ],
   "source": [
    "data.query('man == 1and score >850 and equity >= 3  and products >= 3 and 27 <= age <= 44 and balance > 1000000 and est_salary > 130000').agg({'churn':['mean','count']})"
   ]
  },
  {
   "cell_type": "markdown",
   "metadata": {},
   "source": [
    "## шаг. Приоритизация сегментов"
   ]
  },
  {
   "cell_type": "markdown",
   "metadata": {},
   "source": [
    "Категории клиентов по отточности:\n",
    "\n",
    "1. Мужчины, имкющие не менее трех банковских продуктов и более 3х баллов собствености. Отточность 53%\n",
    "2. Клиенты с кредитным рейтингом более 840, высокой зп, с баланосм более 1 млн. Отточность 50%\n",
    "3. Активный пользователь с тремя и более продуктами Отточность 47%\n",
    "4. Клиенты 25-35 лет с кредитным рейтингом более 850. Отточность 45%\n",
    "5. Клиенты с балансом более 900 тыс из Ярославля. Отточность 40%\n",
    "6. Клиенты в возрасте 46-62, с зарплатой более 120 тыс, с баллами собственности более 3х. Отточность 36%\n"
   ]
  },
  {
   "cell_type": "markdown",
   "metadata": {},
   "source": [
    "## шаг. Формирование рекомендаций"
   ]
  },
  {
   "cell_type": "markdown",
   "metadata": {},
   "source": [
    "ОБЩИЙ ВЫВОД.\n",
    "В данной работе стояла задача выделить сегменты клиентов, которые склонны уходить из банка.\n",
    "Мы проанализировали 10000 клиентов банка из трех городов. Большинство клиентов из Ярославля - 59%, Рыбинска 27%, Ростова 14%. По полу распределение равно. По возрасту - подавляющее большинство клиентов - активные пользователи 25-46 лет. По кредитному скорингу большинство клиентов находится в диапазоне 770-940 баллов. Заработная плата - выше средней. У 73 % есть кредитная карта. Большинство клиентов лояльны - 81%. \n",
    "Между оттоком кеинтов и некоторыми признаками прослеживается корреляция.\n",
    "\n",
    "Чем выше заработная плата - тем выше отточность Чем больше оценка собственности - тем выше отточность. Чем выше скоринговый рейтинг - тем выше отточность. Наиболее отточная категории клентов 25-62 года. Наличие банковских продуктов влияет на отток - чем больше, тем хуже. Мужчины менее лояльны, чем женщины.\n",
    "\n",
    "Были разработаны рекомендации, следуя которым можно повысить лояльность и снизить оттко клиентов."
   ]
  },
  {
   "cell_type": "markdown",
   "metadata": {},
   "source": [
    "Рекомендации\n",
    "Мужчины, имеющие не менее трех банковских продуктов и более 3х баллов собствености. Отточность 53%\n",
    "Данной категории граждан можно предложить льготные условия страхования имущества\n",
    "\n",
    "Клиенты с кредитным рейтингом более 840, высокой зп, с баланосм более 1 млн. Отточность 50%\n",
    "Данным клиентам можно предложить лучшие условия по вкладам, пеервод зп в банк, льготные условия кредитовния\n",
    "\n",
    "Активный пользователь с тремя и более продуктами Отточность 47%\n",
    "Данной категории граждан можно предложить льготные условия по вкладам, кешбеку\n",
    "\n",
    "Клиенты 25-35 лет с кредитным рейтингом более 850. Отточность 45%\n",
    "Данной категории граждан можно предложить кредитные продукты с пониженной кредииной ставкой\n",
    "\n",
    "Клиенты с балансом более 900 тыс из Ярославля. Отточность 40%\n",
    "Данной категории предложить лучшие условия по вкладам,   повышннный кешбек в заведениях города.\n",
    "\n",
    "Клиенты в возрасте 46-62, с зарплатой более 120 тыс, с баллами собственности более 3х.\n",
    "Предложить перевести заработную плату в Метанбанк, страхование имущества"
   ]
  }
 ],
 "metadata": {
  "ExecuteTimeLog": [
   {
    "duration": 400,
    "start_time": "2024-04-19T10:47:11.220Z"
   },
   {
    "duration": 119,
    "start_time": "2024-04-19T10:47:11.749Z"
   },
   {
    "duration": 73,
    "start_time": "2024-04-19T10:47:27.723Z"
   },
   {
    "duration": 85,
    "start_time": "2024-04-19T10:47:34.940Z"
   },
   {
    "duration": 71,
    "start_time": "2024-04-19T11:00:05.818Z"
   },
   {
    "duration": 92,
    "start_time": "2024-04-19T11:00:54.782Z"
   },
   {
    "duration": 29,
    "start_time": "2024-04-19T11:00:58.700Z"
   },
   {
    "duration": 13,
    "start_time": "2024-04-19T11:12:13.093Z"
   },
   {
    "duration": 7,
    "start_time": "2024-04-19T11:13:34.284Z"
   },
   {
    "duration": 10,
    "start_time": "2024-04-19T11:13:59.740Z"
   },
   {
    "duration": 5,
    "start_time": "2024-04-19T11:15:51.910Z"
   },
   {
    "duration": 24,
    "start_time": "2024-04-19T11:15:59.661Z"
   },
   {
    "duration": 12,
    "start_time": "2024-04-19T11:16:24.803Z"
   },
   {
    "duration": 13,
    "start_time": "2024-04-19T11:16:33.656Z"
   },
   {
    "duration": 400,
    "start_time": "2024-04-20T14:06:43.067Z"
   },
   {
    "duration": 160,
    "start_time": "2024-04-20T14:06:43.631Z"
   },
   {
    "duration": 19,
    "start_time": "2024-04-20T14:06:44.064Z"
   },
   {
    "duration": 12,
    "start_time": "2024-04-20T14:06:47.915Z"
   },
   {
    "duration": 3,
    "start_time": "2024-04-20T14:52:29.122Z"
   },
   {
    "duration": 2,
    "start_time": "2024-04-20T14:53:33.823Z"
   },
   {
    "duration": 39,
    "start_time": "2024-04-20T14:53:34.139Z"
   },
   {
    "duration": 11,
    "start_time": "2024-04-20T14:53:34.481Z"
   },
   {
    "duration": 11,
    "start_time": "2024-04-20T14:53:34.839Z"
   },
   {
    "duration": 6,
    "start_time": "2024-04-20T14:53:37.174Z"
   },
   {
    "duration": 419,
    "start_time": "2024-04-20T15:00:09.845Z"
   },
   {
    "duration": 42,
    "start_time": "2024-04-20T15:00:10.265Z"
   },
   {
    "duration": 19,
    "start_time": "2024-04-20T15:00:10.308Z"
   },
   {
    "duration": 18,
    "start_time": "2024-04-20T15:00:10.328Z"
   },
   {
    "duration": 4,
    "start_time": "2024-04-20T15:00:10.348Z"
   },
   {
    "duration": 26,
    "start_time": "2024-04-20T15:00:10.353Z"
   },
   {
    "duration": 48,
    "start_time": "2024-04-21T09:04:58.724Z"
   },
   {
    "duration": 390,
    "start_time": "2024-04-21T09:05:08.020Z"
   },
   {
    "duration": 161,
    "start_time": "2024-04-21T09:05:09.036Z"
   },
   {
    "duration": 19,
    "start_time": "2024-04-21T09:05:09.343Z"
   },
   {
    "duration": 4,
    "start_time": "2024-04-21T09:05:09.602Z"
   },
   {
    "duration": 4,
    "start_time": "2024-04-21T10:00:03.701Z"
   },
   {
    "duration": 13,
    "start_time": "2024-04-21T10:00:04.732Z"
   },
   {
    "duration": 13,
    "start_time": "2024-04-21T10:00:13.652Z"
   },
   {
    "duration": 14,
    "start_time": "2024-04-21T10:32:51.353Z"
   },
   {
    "duration": 12,
    "start_time": "2024-04-21T10:32:55.728Z"
   },
   {
    "duration": 8,
    "start_time": "2024-04-21T10:34:23.072Z"
   },
   {
    "duration": 31,
    "start_time": "2024-04-21T10:43:51.950Z"
   },
   {
    "duration": 22,
    "start_time": "2024-04-21T10:44:02.540Z"
   },
   {
    "duration": 33,
    "start_time": "2024-04-21T10:45:27.397Z"
   },
   {
    "duration": 23,
    "start_time": "2024-04-21T10:45:40.551Z"
   },
   {
    "duration": 25,
    "start_time": "2024-04-21T11:08:26.471Z"
   },
   {
    "duration": 26,
    "start_time": "2024-04-21T11:14:01.566Z"
   },
   {
    "duration": 28,
    "start_time": "2024-04-21T11:14:14.388Z"
   },
   {
    "duration": 26,
    "start_time": "2024-04-21T11:14:21.975Z"
   },
   {
    "duration": 21,
    "start_time": "2024-04-21T11:14:30.794Z"
   },
   {
    "duration": 33,
    "start_time": "2024-04-21T11:14:34.962Z"
   },
   {
    "duration": 15,
    "start_time": "2024-04-21T11:14:54.018Z"
   },
   {
    "duration": 40,
    "start_time": "2024-04-21T12:10:42.393Z"
   },
   {
    "duration": 6,
    "start_time": "2024-04-21T12:32:08.108Z"
   },
   {
    "duration": 6,
    "start_time": "2024-04-21T12:32:50.554Z"
   },
   {
    "duration": 28,
    "start_time": "2024-04-21T12:33:14.944Z"
   },
   {
    "duration": 25,
    "start_time": "2024-04-21T12:34:08.600Z"
   },
   {
    "duration": 21,
    "start_time": "2024-04-21T12:34:23.949Z"
   },
   {
    "duration": 21,
    "start_time": "2024-04-21T12:34:28.021Z"
   },
   {
    "duration": 33,
    "start_time": "2024-04-21T12:34:31.517Z"
   },
   {
    "duration": 20,
    "start_time": "2024-04-21T12:37:42.460Z"
   },
   {
    "duration": 4,
    "start_time": "2024-04-21T12:41:40.082Z"
   },
   {
    "duration": 18,
    "start_time": "2024-04-21T12:41:46.466Z"
   },
   {
    "duration": 6,
    "start_time": "2024-04-21T12:42:16.059Z"
   },
   {
    "duration": 6,
    "start_time": "2024-04-21T12:46:05.012Z"
   },
   {
    "duration": 6,
    "start_time": "2024-04-21T12:46:22.833Z"
   },
   {
    "duration": 19,
    "start_time": "2024-04-21T12:46:42.440Z"
   },
   {
    "duration": 15,
    "start_time": "2024-04-21T12:47:01.862Z"
   },
   {
    "duration": 20,
    "start_time": "2024-04-21T12:47:43.276Z"
   },
   {
    "duration": 5,
    "start_time": "2024-04-21T12:48:08.300Z"
   },
   {
    "duration": 60,
    "start_time": "2024-04-22T09:26:57.054Z"
   },
   {
    "duration": 1851,
    "start_time": "2024-04-22T09:27:06.255Z"
   },
   {
    "duration": 167,
    "start_time": "2024-04-22T09:27:08.108Z"
   },
   {
    "duration": 17,
    "start_time": "2024-04-22T09:27:08.277Z"
   },
   {
    "duration": 14,
    "start_time": "2024-04-22T09:27:08.296Z"
   },
   {
    "duration": 2450,
    "start_time": "2024-04-22T09:53:58.909Z"
   },
   {
    "duration": 2430,
    "start_time": "2024-04-22T09:55:15.579Z"
   },
   {
    "duration": 4,
    "start_time": "2024-04-22T09:59:07.920Z"
   },
   {
    "duration": 14,
    "start_time": "2024-04-22T09:59:44.333Z"
   },
   {
    "duration": 7,
    "start_time": "2024-04-22T10:00:07.120Z"
   },
   {
    "duration": 7,
    "start_time": "2024-04-22T10:00:14.757Z"
   },
   {
    "duration": 6,
    "start_time": "2024-04-22T10:04:17.784Z"
   },
   {
    "duration": 8,
    "start_time": "2024-04-22T10:04:26.519Z"
   },
   {
    "duration": 9,
    "start_time": "2024-04-22T11:06:29.297Z"
   },
   {
    "duration": 7,
    "start_time": "2024-04-22T11:06:49.236Z"
   },
   {
    "duration": 9,
    "start_time": "2024-04-22T11:07:19.196Z"
   },
   {
    "duration": 7,
    "start_time": "2024-04-22T11:07:56.272Z"
   },
   {
    "duration": 7,
    "start_time": "2024-04-22T11:08:25.550Z"
   },
   {
    "duration": 9,
    "start_time": "2024-04-22T11:08:51.357Z"
   },
   {
    "duration": 9,
    "start_time": "2024-04-22T11:10:43.610Z"
   },
   {
    "duration": 11,
    "start_time": "2024-04-22T11:11:08.500Z"
   },
   {
    "duration": 23,
    "start_time": "2024-04-22T11:11:08.907Z"
   },
   {
    "duration": 6,
    "start_time": "2024-04-22T11:11:10.052Z"
   },
   {
    "duration": 1775,
    "start_time": "2024-04-22T16:44:04.987Z"
   },
   {
    "duration": 103,
    "start_time": "2024-04-22T16:44:06.764Z"
   },
   {
    "duration": 17,
    "start_time": "2024-04-22T16:44:06.869Z"
   },
   {
    "duration": 13,
    "start_time": "2024-04-22T16:44:09.887Z"
   },
   {
    "duration": 13,
    "start_time": "2024-04-22T16:44:11.005Z"
   },
   {
    "duration": 6,
    "start_time": "2024-04-22T16:44:13.921Z"
   },
   {
    "duration": 8,
    "start_time": "2024-04-22T16:44:18.542Z"
   },
   {
    "duration": 22,
    "start_time": "2024-04-22T16:44:18.974Z"
   },
   {
    "duration": 7,
    "start_time": "2024-04-22T16:44:19.707Z"
   },
   {
    "duration": 9,
    "start_time": "2024-04-22T16:44:49.867Z"
   },
   {
    "duration": 21,
    "start_time": "2024-04-22T16:44:55.152Z"
   },
   {
    "duration": 114,
    "start_time": "2024-04-22T16:48:51.225Z"
   },
   {
    "duration": 13,
    "start_time": "2024-04-22T16:48:58.277Z"
   },
   {
    "duration": 11,
    "start_time": "2024-04-22T16:48:58.510Z"
   },
   {
    "duration": 6,
    "start_time": "2024-04-22T16:48:58.777Z"
   },
   {
    "duration": 9,
    "start_time": "2024-04-22T16:48:58.977Z"
   },
   {
    "duration": 22,
    "start_time": "2024-04-22T16:48:59.227Z"
   },
   {
    "duration": 6,
    "start_time": "2024-04-22T16:48:59.460Z"
   },
   {
    "duration": 9,
    "start_time": "2024-04-22T16:48:59.909Z"
   },
   {
    "duration": 22,
    "start_time": "2024-04-22T16:49:00.191Z"
   },
   {
    "duration": 15,
    "start_time": "2024-04-22T16:49:00.695Z"
   },
   {
    "duration": 11,
    "start_time": "2024-04-22T16:49:01.363Z"
   },
   {
    "duration": 5,
    "start_time": "2024-04-22T16:49:32.055Z"
   },
   {
    "duration": 6,
    "start_time": "2024-04-22T16:50:13.249Z"
   },
   {
    "duration": 5,
    "start_time": "2024-04-22T16:51:12.586Z"
   },
   {
    "duration": 6,
    "start_time": "2024-04-22T16:51:48.762Z"
   },
   {
    "duration": 9,
    "start_time": "2024-04-22T16:52:13.572Z"
   },
   {
    "duration": 6,
    "start_time": "2024-04-22T16:54:48.969Z"
   },
   {
    "duration": 554,
    "start_time": "2024-04-22T16:58:45.728Z"
   },
   {
    "duration": 2185,
    "start_time": "2024-04-22T16:59:00.016Z"
   },
   {
    "duration": 2221,
    "start_time": "2024-04-22T17:06:32.574Z"
   },
   {
    "duration": 2094,
    "start_time": "2024-04-22T17:06:55.149Z"
   },
   {
    "duration": 2079,
    "start_time": "2024-04-22T17:07:17.905Z"
   },
   {
    "duration": 12,
    "start_time": "2024-04-22T17:15:35.878Z"
   },
   {
    "duration": 9,
    "start_time": "2024-04-22T17:16:22.258Z"
   },
   {
    "duration": 7,
    "start_time": "2024-04-22T17:16:23.008Z"
   },
   {
    "duration": 7,
    "start_time": "2024-04-22T17:17:59.521Z"
   },
   {
    "duration": 1833,
    "start_time": "2024-04-23T08:52:17.293Z"
   },
   {
    "duration": 3579,
    "start_time": "2024-04-23T08:53:41.217Z"
   },
   {
    "duration": 62,
    "start_time": "2024-04-23T08:53:46.204Z"
   },
   {
    "duration": 2434,
    "start_time": "2024-04-23T08:59:06.565Z"
   },
   {
    "duration": 1527,
    "start_time": "2024-04-23T08:59:09.001Z"
   },
   {
    "duration": 162,
    "start_time": "2024-04-23T08:59:10.530Z"
   },
   {
    "duration": 16,
    "start_time": "2024-04-23T08:59:10.694Z"
   },
   {
    "duration": 15,
    "start_time": "2024-04-23T08:59:10.711Z"
   },
   {
    "duration": 9,
    "start_time": "2024-04-23T08:59:10.728Z"
   },
   {
    "duration": 8,
    "start_time": "2024-04-23T08:59:10.743Z"
   },
   {
    "duration": 18,
    "start_time": "2024-04-23T08:59:10.753Z"
   },
   {
    "duration": 6,
    "start_time": "2024-04-23T08:59:10.772Z"
   },
   {
    "duration": 36,
    "start_time": "2024-04-23T08:59:10.780Z"
   },
   {
    "duration": 23,
    "start_time": "2024-04-23T08:59:10.818Z"
   },
   {
    "duration": 6,
    "start_time": "2024-04-23T08:59:10.843Z"
   },
   {
    "duration": 31,
    "start_time": "2024-04-23T08:59:10.851Z"
   },
   {
    "duration": 33,
    "start_time": "2024-04-23T08:59:10.885Z"
   },
   {
    "duration": 7,
    "start_time": "2024-04-23T08:59:10.920Z"
   },
   {
    "duration": 18,
    "start_time": "2024-04-23T08:59:10.929Z"
   },
   {
    "duration": 13,
    "start_time": "2024-04-23T08:59:10.949Z"
   },
   {
    "duration": 24,
    "start_time": "2024-04-23T08:59:10.963Z"
   },
   {
    "duration": 48,
    "start_time": "2024-04-23T08:59:10.989Z"
   },
   {
    "duration": 5,
    "start_time": "2024-04-23T08:59:11.039Z"
   },
   {
    "duration": 1977,
    "start_time": "2024-04-23T08:59:11.046Z"
   },
   {
    "duration": 112,
    "start_time": "2024-04-23T09:00:07.520Z"
   },
   {
    "duration": 9,
    "start_time": "2024-04-23T09:00:30.943Z"
   },
   {
    "duration": 2475,
    "start_time": "2024-04-23T09:02:42.282Z"
   },
   {
    "duration": 4,
    "start_time": "2024-04-23T09:02:44.759Z"
   },
   {
    "duration": 42,
    "start_time": "2024-04-23T09:02:49.017Z"
   },
   {
    "duration": 14,
    "start_time": "2024-04-23T09:02:49.535Z"
   },
   {
    "duration": 14,
    "start_time": "2024-04-23T09:03:57.839Z"
   },
   {
    "duration": 121,
    "start_time": "2024-04-23T09:06:16.048Z"
   },
   {
    "duration": 8,
    "start_time": "2024-04-23T09:22:37.352Z"
   },
   {
    "duration": 91,
    "start_time": "2024-04-23T09:23:12.327Z"
   },
   {
    "duration": 6,
    "start_time": "2024-04-23T09:23:19.480Z"
   },
   {
    "duration": 44,
    "start_time": "2024-04-23T09:24:48.792Z"
   },
   {
    "duration": 12,
    "start_time": "2024-04-23T09:24:59.895Z"
   },
   {
    "duration": 7,
    "start_time": "2024-04-23T09:25:01.294Z"
   },
   {
    "duration": 9,
    "start_time": "2024-04-23T09:25:01.648Z"
   },
   {
    "duration": 22,
    "start_time": "2024-04-23T09:25:01.977Z"
   },
   {
    "duration": 5,
    "start_time": "2024-04-23T09:25:02.344Z"
   },
   {
    "duration": 38,
    "start_time": "2024-04-23T09:25:06.913Z"
   },
   {
    "duration": 8,
    "start_time": "2024-04-23T09:25:55.244Z"
   },
   {
    "duration": 4,
    "start_time": "2024-04-23T09:32:50.907Z"
   },
   {
    "duration": 40,
    "start_time": "2024-04-23T09:32:52.690Z"
   },
   {
    "duration": 4,
    "start_time": "2024-04-23T09:33:13.814Z"
   },
   {
    "duration": 37,
    "start_time": "2024-04-23T09:33:15.048Z"
   },
   {
    "duration": 4,
    "start_time": "2024-04-23T09:33:35.288Z"
   },
   {
    "duration": 40,
    "start_time": "2024-04-23T09:33:38.437Z"
   },
   {
    "duration": 3,
    "start_time": "2024-04-23T09:33:46.674Z"
   },
   {
    "duration": 40,
    "start_time": "2024-04-23T09:33:48.607Z"
   },
   {
    "duration": 3,
    "start_time": "2024-04-23T09:33:57.257Z"
   },
   {
    "duration": 39,
    "start_time": "2024-04-23T09:33:58.194Z"
   },
   {
    "duration": 4,
    "start_time": "2024-04-23T09:37:27.728Z"
   },
   {
    "duration": 640,
    "start_time": "2024-04-23T09:37:30.011Z"
   },
   {
    "duration": 5,
    "start_time": "2024-04-23T09:38:16.858Z"
   },
   {
    "duration": 795,
    "start_time": "2024-04-23T09:38:17.926Z"
   },
   {
    "duration": 3,
    "start_time": "2024-04-23T09:39:11.092Z"
   },
   {
    "duration": 39,
    "start_time": "2024-04-23T09:39:12.175Z"
   },
   {
    "duration": 35,
    "start_time": "2024-04-23T09:42:04.362Z"
   },
   {
    "duration": 17,
    "start_time": "2024-04-23T09:52:03.598Z"
   },
   {
    "duration": 14,
    "start_time": "2024-04-23T09:52:15.120Z"
   },
   {
    "duration": 2512,
    "start_time": "2024-04-23T09:52:18.886Z"
   },
   {
    "duration": 4,
    "start_time": "2024-04-23T09:52:22.489Z"
   },
   {
    "duration": 42,
    "start_time": "2024-04-23T09:52:23.553Z"
   },
   {
    "duration": 14,
    "start_time": "2024-04-23T09:52:24.138Z"
   },
   {
    "duration": 13,
    "start_time": "2024-04-23T09:52:24.704Z"
   },
   {
    "duration": 14,
    "start_time": "2024-04-23T09:52:25.222Z"
   },
   {
    "duration": 7,
    "start_time": "2024-04-23T09:52:26.022Z"
   },
   {
    "duration": 18,
    "start_time": "2024-04-23T09:52:28.956Z"
   },
   {
    "duration": 49,
    "start_time": "2024-04-23T09:53:53.201Z"
   },
   {
    "duration": 40,
    "start_time": "2024-04-23T10:08:09.515Z"
   },
   {
    "duration": 13,
    "start_time": "2024-04-23T10:09:46.312Z"
   },
   {
    "duration": 5,
    "start_time": "2024-04-23T10:11:59.602Z"
   },
   {
    "duration": 40,
    "start_time": "2024-04-23T10:12:00.386Z"
   },
   {
    "duration": 3,
    "start_time": "2024-04-23T10:29:56.337Z"
   },
   {
    "duration": 42,
    "start_time": "2024-04-23T10:29:58.819Z"
   },
   {
    "duration": 13,
    "start_time": "2024-04-23T10:29:59.570Z"
   },
   {
    "duration": 12,
    "start_time": "2024-04-23T10:30:00.520Z"
   },
   {
    "duration": 10,
    "start_time": "2024-04-23T10:30:01.088Z"
   },
   {
    "duration": 7,
    "start_time": "2024-04-23T10:30:02.271Z"
   },
   {
    "duration": 12,
    "start_time": "2024-04-23T10:30:06.006Z"
   },
   {
    "duration": 7,
    "start_time": "2024-04-23T10:30:06.590Z"
   },
   {
    "duration": 9,
    "start_time": "2024-04-23T10:30:07.189Z"
   },
   {
    "duration": 21,
    "start_time": "2024-04-23T10:30:07.657Z"
   },
   {
    "duration": 5,
    "start_time": "2024-04-23T10:30:08.356Z"
   },
   {
    "duration": 29,
    "start_time": "2024-04-23T10:30:10.942Z"
   },
   {
    "duration": 16,
    "start_time": "2024-04-23T10:30:12.757Z"
   },
   {
    "duration": 6,
    "start_time": "2024-04-23T10:30:13.140Z"
   },
   {
    "duration": 6,
    "start_time": "2024-04-23T10:30:13.374Z"
   },
   {
    "duration": 7,
    "start_time": "2024-04-23T10:30:13.558Z"
   },
   {
    "duration": 6,
    "start_time": "2024-04-23T10:30:13.775Z"
   },
   {
    "duration": 6,
    "start_time": "2024-04-23T10:30:13.957Z"
   },
   {
    "duration": 6,
    "start_time": "2024-04-23T10:30:14.174Z"
   },
   {
    "duration": 3,
    "start_time": "2024-04-23T10:30:14.373Z"
   },
   {
    "duration": 43,
    "start_time": "2024-04-23T10:30:14.807Z"
   },
   {
    "duration": 12,
    "start_time": "2024-04-23T10:30:16.076Z"
   },
   {
    "duration": 4,
    "start_time": "2024-04-23T10:30:17.559Z"
   },
   {
    "duration": 37,
    "start_time": "2024-04-23T10:30:34.163Z"
   },
   {
    "duration": 37,
    "start_time": "2024-04-23T10:31:15.360Z"
   },
   {
    "duration": 6,
    "start_time": "2024-04-23T10:33:05.010Z"
   },
   {
    "duration": 6,
    "start_time": "2024-04-23T10:34:05.079Z"
   },
   {
    "duration": 7,
    "start_time": "2024-04-23T10:34:21.871Z"
   },
   {
    "duration": 8,
    "start_time": "2024-04-23T10:34:45.627Z"
   },
   {
    "duration": 37,
    "start_time": "2024-04-23T10:41:33.622Z"
   },
   {
    "duration": 3752,
    "start_time": "2024-04-23T12:00:06.542Z"
   },
   {
    "duration": 416,
    "start_time": "2024-04-23T12:00:10.297Z"
   },
   {
    "duration": 3,
    "start_time": "2024-04-23T12:00:10.714Z"
   },
   {
    "duration": 50,
    "start_time": "2024-04-23T12:00:10.719Z"
   },
   {
    "duration": 17,
    "start_time": "2024-04-23T12:00:10.771Z"
   },
   {
    "duration": 13,
    "start_time": "2024-04-23T12:00:10.789Z"
   },
   {
    "duration": 9,
    "start_time": "2024-04-23T12:00:10.804Z"
   },
   {
    "duration": 7,
    "start_time": "2024-04-23T12:00:10.814Z"
   },
   {
    "duration": 14,
    "start_time": "2024-04-23T12:00:10.823Z"
   },
   {
    "duration": 21,
    "start_time": "2024-04-23T12:00:10.840Z"
   },
   {
    "duration": 20,
    "start_time": "2024-04-23T12:00:10.863Z"
   },
   {
    "duration": 39,
    "start_time": "2024-04-23T12:00:10.885Z"
   },
   {
    "duration": 6,
    "start_time": "2024-04-23T12:00:10.925Z"
   },
   {
    "duration": 27,
    "start_time": "2024-04-23T12:00:10.933Z"
   },
   {
    "duration": 15,
    "start_time": "2024-04-23T12:00:10.961Z"
   },
   {
    "duration": 9,
    "start_time": "2024-04-23T12:00:10.978Z"
   },
   {
    "duration": 26,
    "start_time": "2024-04-23T12:00:10.989Z"
   },
   {
    "duration": 6,
    "start_time": "2024-04-23T12:00:11.017Z"
   },
   {
    "duration": 6,
    "start_time": "2024-04-23T12:00:11.025Z"
   },
   {
    "duration": 9,
    "start_time": "2024-04-23T12:00:11.032Z"
   },
   {
    "duration": 11,
    "start_time": "2024-04-23T12:00:11.042Z"
   },
   {
    "duration": 49,
    "start_time": "2024-04-23T12:00:11.054Z"
   },
   {
    "duration": 21,
    "start_time": "2024-04-23T12:00:11.104Z"
   },
   {
    "duration": 6,
    "start_time": "2024-04-23T12:00:11.126Z"
   },
   {
    "duration": 57,
    "start_time": "2024-04-23T12:00:11.134Z"
   },
   {
    "duration": 92,
    "start_time": "2024-04-23T12:00:11.193Z"
   },
   {
    "duration": 0,
    "start_time": "2024-04-23T12:00:11.287Z"
   },
   {
    "duration": 16,
    "start_time": "2024-04-23T12:00:42.741Z"
   },
   {
    "duration": 15,
    "start_time": "2024-04-23T12:01:10.018Z"
   },
   {
    "duration": 2209,
    "start_time": "2024-04-23T12:10:54.096Z"
   },
   {
    "duration": 5,
    "start_time": "2024-04-23T12:12:55.735Z"
   },
   {
    "duration": 22,
    "start_time": "2024-04-23T12:13:05.838Z"
   },
   {
    "duration": 4,
    "start_time": "2024-04-23T12:13:20.992Z"
   },
   {
    "duration": 21,
    "start_time": "2024-04-23T12:13:21.445Z"
   },
   {
    "duration": 4,
    "start_time": "2024-04-23T12:13:28.594Z"
   },
   {
    "duration": 22,
    "start_time": "2024-04-23T12:13:29.729Z"
   },
   {
    "duration": 3,
    "start_time": "2024-04-23T12:13:37.480Z"
   },
   {
    "duration": 29,
    "start_time": "2024-04-23T12:13:38.581Z"
   },
   {
    "duration": 4,
    "start_time": "2024-04-23T12:15:00.791Z"
   },
   {
    "duration": 7,
    "start_time": "2024-04-23T12:15:01.307Z"
   },
   {
    "duration": 3,
    "start_time": "2024-04-23T12:15:18.812Z"
   },
   {
    "duration": 7,
    "start_time": "2024-04-23T12:15:19.429Z"
   },
   {
    "duration": 4,
    "start_time": "2024-04-23T12:15:24.029Z"
   },
   {
    "duration": 30,
    "start_time": "2024-04-23T12:15:24.597Z"
   },
   {
    "duration": 4,
    "start_time": "2024-04-23T12:15:26.747Z"
   },
   {
    "duration": 40,
    "start_time": "2024-04-23T12:15:31.716Z"
   },
   {
    "duration": 17,
    "start_time": "2024-04-23T12:15:32.617Z"
   },
   {
    "duration": 11,
    "start_time": "2024-04-23T12:15:33.815Z"
   },
   {
    "duration": 10,
    "start_time": "2024-04-23T12:15:34.650Z"
   },
   {
    "duration": 7,
    "start_time": "2024-04-23T12:15:35.100Z"
   },
   {
    "duration": 12,
    "start_time": "2024-04-23T12:15:36.184Z"
   },
   {
    "duration": 6,
    "start_time": "2024-04-23T12:15:36.417Z"
   },
   {
    "duration": 9,
    "start_time": "2024-04-23T12:15:36.617Z"
   },
   {
    "duration": 22,
    "start_time": "2024-04-23T12:15:36.867Z"
   },
   {
    "duration": 5,
    "start_time": "2024-04-23T12:15:37.117Z"
   },
   {
    "duration": 19,
    "start_time": "2024-04-23T12:15:37.701Z"
   },
   {
    "duration": 19,
    "start_time": "2024-04-23T12:15:38.067Z"
   },
   {
    "duration": 6,
    "start_time": "2024-04-23T12:15:38.267Z"
   },
   {
    "duration": 5,
    "start_time": "2024-04-23T12:15:38.468Z"
   },
   {
    "duration": 5,
    "start_time": "2024-04-23T12:15:38.685Z"
   },
   {
    "duration": 6,
    "start_time": "2024-04-23T12:15:38.900Z"
   },
   {
    "duration": 5,
    "start_time": "2024-04-23T12:15:39.085Z"
   },
   {
    "duration": 9,
    "start_time": "2024-04-23T12:15:39.286Z"
   },
   {
    "duration": 36,
    "start_time": "2024-04-23T12:15:42.686Z"
   },
   {
    "duration": 11,
    "start_time": "2024-04-23T12:15:43.903Z"
   },
   {
    "duration": 5,
    "start_time": "2024-04-23T12:15:44.821Z"
   },
   {
    "duration": 39,
    "start_time": "2024-04-23T12:15:46.204Z"
   },
   {
    "duration": 4,
    "start_time": "2024-04-23T12:15:46.938Z"
   },
   {
    "duration": 20,
    "start_time": "2024-04-23T12:15:48.653Z"
   },
   {
    "duration": 4,
    "start_time": "2024-04-23T12:15:54.940Z"
   },
   {
    "duration": 20,
    "start_time": "2024-04-23T12:15:55.473Z"
   },
   {
    "duration": 4,
    "start_time": "2024-04-23T12:16:00.075Z"
   },
   {
    "duration": 20,
    "start_time": "2024-04-23T12:16:00.625Z"
   },
   {
    "duration": 3,
    "start_time": "2024-04-23T12:16:05.827Z"
   },
   {
    "duration": 21,
    "start_time": "2024-04-23T12:16:06.627Z"
   },
   {
    "duration": 4,
    "start_time": "2024-04-23T12:16:22.664Z"
   },
   {
    "duration": 28,
    "start_time": "2024-04-23T12:16:23.265Z"
   },
   {
    "duration": 40,
    "start_time": "2024-04-23T12:17:31.786Z"
   },
   {
    "duration": 12,
    "start_time": "2024-04-23T12:17:32.136Z"
   },
   {
    "duration": 12,
    "start_time": "2024-04-23T12:17:32.419Z"
   },
   {
    "duration": 11,
    "start_time": "2024-04-23T12:17:32.687Z"
   },
   {
    "duration": 7,
    "start_time": "2024-04-23T12:17:32.903Z"
   },
   {
    "duration": 13,
    "start_time": "2024-04-23T12:17:33.836Z"
   },
   {
    "duration": 7,
    "start_time": "2024-04-23T12:17:34.036Z"
   },
   {
    "duration": 11,
    "start_time": "2024-04-23T12:17:34.235Z"
   },
   {
    "duration": 24,
    "start_time": "2024-04-23T12:17:34.426Z"
   },
   {
    "duration": 5,
    "start_time": "2024-04-23T12:17:34.654Z"
   },
   {
    "duration": 19,
    "start_time": "2024-04-23T12:17:35.221Z"
   },
   {
    "duration": 15,
    "start_time": "2024-04-23T12:17:35.622Z"
   },
   {
    "duration": 6,
    "start_time": "2024-04-23T12:17:35.837Z"
   },
   {
    "duration": 7,
    "start_time": "2024-04-23T12:17:36.037Z"
   },
   {
    "duration": 6,
    "start_time": "2024-04-23T12:17:36.253Z"
   },
   {
    "duration": 6,
    "start_time": "2024-04-23T12:17:36.420Z"
   },
   {
    "duration": 6,
    "start_time": "2024-04-23T12:17:36.671Z"
   },
   {
    "duration": 7,
    "start_time": "2024-04-23T12:17:36.853Z"
   },
   {
    "duration": 37,
    "start_time": "2024-04-23T12:17:37.272Z"
   },
   {
    "duration": 12,
    "start_time": "2024-04-23T12:17:37.704Z"
   },
   {
    "duration": 5,
    "start_time": "2024-04-23T12:17:37.920Z"
   },
   {
    "duration": 42,
    "start_time": "2024-04-23T12:17:38.154Z"
   },
   {
    "duration": 13,
    "start_time": "2024-04-23T12:23:13.044Z"
   },
   {
    "duration": 14,
    "start_time": "2024-04-23T12:23:36.501Z"
   },
   {
    "duration": 21,
    "start_time": "2024-04-23T12:23:41.570Z"
   },
   {
    "duration": 14,
    "start_time": "2024-04-23T12:23:49.422Z"
   },
   {
    "duration": 28,
    "start_time": "2024-04-23T12:28:07.300Z"
   },
   {
    "duration": 32,
    "start_time": "2024-04-23T12:29:22.075Z"
   },
   {
    "duration": 30,
    "start_time": "2024-04-23T12:30:12.789Z"
   },
   {
    "duration": 31,
    "start_time": "2024-04-23T12:31:39.031Z"
   },
   {
    "duration": 23,
    "start_time": "2024-04-23T12:31:49.637Z"
   },
   {
    "duration": 32,
    "start_time": "2024-04-23T12:32:29.484Z"
   },
   {
    "duration": 29,
    "start_time": "2024-04-23T12:32:42.304Z"
   },
   {
    "duration": 29,
    "start_time": "2024-04-23T12:33:25.867Z"
   },
   {
    "duration": 9,
    "start_time": "2024-04-23T12:34:56.530Z"
   },
   {
    "duration": 23,
    "start_time": "2024-04-23T12:35:02.748Z"
   },
   {
    "duration": 23,
    "start_time": "2024-04-23T12:35:11.098Z"
   },
   {
    "duration": 82,
    "start_time": "2024-04-23T12:35:42.742Z"
   },
   {
    "duration": 1229,
    "start_time": "2024-04-23T12:35:49.310Z"
   },
   {
    "duration": 13,
    "start_time": "2024-04-23T12:36:03.766Z"
   },
   {
    "duration": 13,
    "start_time": "2024-04-23T12:36:07.132Z"
   },
   {
    "duration": 3,
    "start_time": "2024-04-23T12:36:17.086Z"
   },
   {
    "duration": 44,
    "start_time": "2024-04-23T12:36:17.534Z"
   },
   {
    "duration": 12,
    "start_time": "2024-04-23T12:36:17.719Z"
   },
   {
    "duration": 12,
    "start_time": "2024-04-23T12:36:17.918Z"
   },
   {
    "duration": 10,
    "start_time": "2024-04-23T12:36:18.134Z"
   },
   {
    "duration": 7,
    "start_time": "2024-04-23T12:36:18.302Z"
   },
   {
    "duration": 13,
    "start_time": "2024-04-23T12:36:19.387Z"
   },
   {
    "duration": 6,
    "start_time": "2024-04-23T12:36:19.602Z"
   },
   {
    "duration": 12,
    "start_time": "2024-04-23T12:36:19.802Z"
   },
   {
    "duration": 21,
    "start_time": "2024-04-23T12:36:20.003Z"
   },
   {
    "duration": 5,
    "start_time": "2024-04-23T12:36:20.186Z"
   },
   {
    "duration": 20,
    "start_time": "2024-04-23T12:36:20.787Z"
   },
   {
    "duration": 16,
    "start_time": "2024-04-23T12:36:21.187Z"
   },
   {
    "duration": 6,
    "start_time": "2024-04-23T12:36:21.387Z"
   },
   {
    "duration": 6,
    "start_time": "2024-04-23T12:36:21.602Z"
   },
   {
    "duration": 6,
    "start_time": "2024-04-23T12:36:21.803Z"
   },
   {
    "duration": 6,
    "start_time": "2024-04-23T12:36:22.005Z"
   },
   {
    "duration": 6,
    "start_time": "2024-04-23T12:36:22.204Z"
   },
   {
    "duration": 7,
    "start_time": "2024-04-23T12:36:22.386Z"
   },
   {
    "duration": 38,
    "start_time": "2024-04-23T12:36:22.802Z"
   },
   {
    "duration": 12,
    "start_time": "2024-04-23T12:36:23.202Z"
   },
   {
    "duration": 5,
    "start_time": "2024-04-23T12:36:23.452Z"
   },
   {
    "duration": 40,
    "start_time": "2024-04-23T12:36:23.855Z"
   },
   {
    "duration": 13,
    "start_time": "2024-04-23T12:36:24.688Z"
   },
   {
    "duration": 29,
    "start_time": "2024-04-23T12:36:25.471Z"
   },
   {
    "duration": 31,
    "start_time": "2024-04-23T12:37:15.770Z"
   },
   {
    "duration": 15,
    "start_time": "2024-04-23T12:37:56.484Z"
   },
   {
    "duration": 12,
    "start_time": "2024-04-23T12:38:24.291Z"
   },
   {
    "duration": 15,
    "start_time": "2024-04-23T12:38:26.143Z"
   },
   {
    "duration": 4,
    "start_time": "2024-04-23T12:38:48.367Z"
   },
   {
    "duration": 47,
    "start_time": "2024-04-23T12:38:48.798Z"
   },
   {
    "duration": 14,
    "start_time": "2024-04-23T12:38:48.998Z"
   },
   {
    "duration": 12,
    "start_time": "2024-04-23T12:38:49.199Z"
   },
   {
    "duration": 10,
    "start_time": "2024-04-23T12:38:49.381Z"
   },
   {
    "duration": 8,
    "start_time": "2024-04-23T12:38:49.581Z"
   },
   {
    "duration": 17,
    "start_time": "2024-04-23T12:38:50.517Z"
   },
   {
    "duration": 7,
    "start_time": "2024-04-23T12:38:50.733Z"
   },
   {
    "duration": 13,
    "start_time": "2024-04-23T12:38:50.900Z"
   },
   {
    "duration": 21,
    "start_time": "2024-04-23T12:38:51.100Z"
   },
   {
    "duration": 6,
    "start_time": "2024-04-23T12:38:51.299Z"
   },
   {
    "duration": 23,
    "start_time": "2024-04-23T12:38:51.899Z"
   },
   {
    "duration": 15,
    "start_time": "2024-04-23T12:38:52.500Z"
   },
   {
    "duration": 7,
    "start_time": "2024-04-23T12:38:52.701Z"
   },
   {
    "duration": 7,
    "start_time": "2024-04-23T12:38:52.883Z"
   },
   {
    "duration": 6,
    "start_time": "2024-04-23T12:38:53.100Z"
   },
   {
    "duration": 5,
    "start_time": "2024-04-23T12:38:53.300Z"
   },
   {
    "duration": 6,
    "start_time": "2024-04-23T12:38:53.499Z"
   },
   {
    "duration": 6,
    "start_time": "2024-04-23T12:38:53.716Z"
   },
   {
    "duration": 42,
    "start_time": "2024-04-23T12:38:54.349Z"
   },
   {
    "duration": 12,
    "start_time": "2024-04-23T12:38:54.784Z"
   },
   {
    "duration": 4,
    "start_time": "2024-04-23T12:38:55.268Z"
   },
   {
    "duration": 40,
    "start_time": "2024-04-23T12:38:55.834Z"
   },
   {
    "duration": 20,
    "start_time": "2024-04-23T12:38:56.851Z"
   },
   {
    "duration": 13,
    "start_time": "2024-04-23T12:38:57.467Z"
   },
   {
    "duration": 16,
    "start_time": "2024-04-23T12:39:00.653Z"
   },
   {
    "duration": 24,
    "start_time": "2024-04-23T12:39:22.194Z"
   },
   {
    "duration": 13,
    "start_time": "2024-04-23T12:40:43.034Z"
   },
   {
    "duration": 4441,
    "start_time": "2024-04-23T12:40:50.871Z"
   },
   {
    "duration": 4,
    "start_time": "2024-04-23T12:40:56.388Z"
   },
   {
    "duration": 3,
    "start_time": "2024-04-23T12:40:56.788Z"
   },
   {
    "duration": 42,
    "start_time": "2024-04-23T12:40:57.472Z"
   },
   {
    "duration": 14,
    "start_time": "2024-04-23T12:40:57.872Z"
   },
   {
    "duration": 12,
    "start_time": "2024-04-23T12:40:58.739Z"
   },
   {
    "duration": 10,
    "start_time": "2024-04-23T12:40:58.956Z"
   },
   {
    "duration": 7,
    "start_time": "2024-04-23T12:40:59.172Z"
   },
   {
    "duration": 13,
    "start_time": "2024-04-23T12:41:00.371Z"
   },
   {
    "duration": 6,
    "start_time": "2024-04-23T12:41:00.590Z"
   },
   {
    "duration": 11,
    "start_time": "2024-04-23T12:41:00.760Z"
   },
   {
    "duration": 23,
    "start_time": "2024-04-23T12:41:00.940Z"
   },
   {
    "duration": 7,
    "start_time": "2024-04-23T12:41:01.139Z"
   },
   {
    "duration": 20,
    "start_time": "2024-04-23T12:41:01.741Z"
   },
   {
    "duration": 16,
    "start_time": "2024-04-23T12:41:02.124Z"
   },
   {
    "duration": 6,
    "start_time": "2024-04-23T12:41:02.357Z"
   },
   {
    "duration": 6,
    "start_time": "2024-04-23T12:41:02.574Z"
   },
   {
    "duration": 6,
    "start_time": "2024-04-23T12:41:02.790Z"
   },
   {
    "duration": 6,
    "start_time": "2024-04-23T12:41:03.006Z"
   },
   {
    "duration": 6,
    "start_time": "2024-04-23T12:41:03.539Z"
   },
   {
    "duration": 7,
    "start_time": "2024-04-23T12:41:03.757Z"
   },
   {
    "duration": 40,
    "start_time": "2024-04-23T12:41:04.207Z"
   },
   {
    "duration": 11,
    "start_time": "2024-04-23T12:41:05.360Z"
   },
   {
    "duration": 4,
    "start_time": "2024-04-23T12:41:06.342Z"
   },
   {
    "duration": 39,
    "start_time": "2024-04-23T12:41:07.074Z"
   },
   {
    "duration": 16,
    "start_time": "2024-04-23T12:41:09.558Z"
   },
   {
    "duration": 11,
    "start_time": "2024-04-23T12:41:11.843Z"
   },
   {
    "duration": 26,
    "start_time": "2024-04-23T12:41:18.179Z"
   },
   {
    "duration": 25,
    "start_time": "2024-04-23T12:45:25.341Z"
   },
   {
    "duration": 4,
    "start_time": "2024-04-23T12:45:33.542Z"
   },
   {
    "duration": 3,
    "start_time": "2024-04-23T12:45:33.740Z"
   },
   {
    "duration": 42,
    "start_time": "2024-04-23T12:45:34.090Z"
   },
   {
    "duration": 13,
    "start_time": "2024-04-23T12:45:34.291Z"
   },
   {
    "duration": 11,
    "start_time": "2024-04-23T12:45:34.508Z"
   },
   {
    "duration": 9,
    "start_time": "2024-04-23T12:45:34.708Z"
   },
   {
    "duration": 8,
    "start_time": "2024-04-23T12:45:34.891Z"
   },
   {
    "duration": 13,
    "start_time": "2024-04-23T12:45:35.808Z"
   },
   {
    "duration": 6,
    "start_time": "2024-04-23T12:45:35.991Z"
   },
   {
    "duration": 9,
    "start_time": "2024-04-23T12:45:36.208Z"
   },
   {
    "duration": 21,
    "start_time": "2024-04-23T12:45:36.392Z"
   },
   {
    "duration": 6,
    "start_time": "2024-04-23T12:45:36.608Z"
   },
   {
    "duration": 19,
    "start_time": "2024-04-23T12:45:37.175Z"
   },
   {
    "duration": 16,
    "start_time": "2024-04-23T12:45:37.592Z"
   },
   {
    "duration": 6,
    "start_time": "2024-04-23T12:45:37.792Z"
   },
   {
    "duration": 6,
    "start_time": "2024-04-23T12:45:38.008Z"
   },
   {
    "duration": 6,
    "start_time": "2024-04-23T12:45:38.209Z"
   },
   {
    "duration": 7,
    "start_time": "2024-04-23T12:45:38.408Z"
   },
   {
    "duration": 6,
    "start_time": "2024-04-23T12:45:38.625Z"
   },
   {
    "duration": 7,
    "start_time": "2024-04-23T12:45:38.842Z"
   },
   {
    "duration": 40,
    "start_time": "2024-04-23T12:45:39.309Z"
   },
   {
    "duration": 11,
    "start_time": "2024-04-23T12:45:40.111Z"
   },
   {
    "duration": 4,
    "start_time": "2024-04-23T12:45:40.430Z"
   },
   {
    "duration": 38,
    "start_time": "2024-04-23T12:45:40.660Z"
   },
   {
    "duration": 14,
    "start_time": "2024-04-23T12:45:41.643Z"
   },
   {
    "duration": 12,
    "start_time": "2024-04-23T12:45:41.911Z"
   },
   {
    "duration": 25,
    "start_time": "2024-04-23T12:45:42.395Z"
   },
   {
    "duration": 16,
    "start_time": "2024-04-23T12:46:03.251Z"
   },
   {
    "duration": 16,
    "start_time": "2024-04-23T12:46:08.602Z"
   },
   {
    "duration": 2,
    "start_time": "2024-04-23T13:02:09.831Z"
   },
   {
    "duration": 19,
    "start_time": "2024-04-23T13:02:11.214Z"
   },
   {
    "duration": 13,
    "start_time": "2024-04-23T13:02:23.184Z"
   },
   {
    "duration": 16,
    "start_time": "2024-04-23T13:03:07.149Z"
   },
   {
    "duration": 18,
    "start_time": "2024-04-23T13:03:08.983Z"
   },
   {
    "duration": 13,
    "start_time": "2024-04-23T13:03:11.984Z"
   },
   {
    "duration": 4,
    "start_time": "2024-04-23T13:03:20.953Z"
   },
   {
    "duration": 3,
    "start_time": "2024-04-23T13:03:21.169Z"
   },
   {
    "duration": 40,
    "start_time": "2024-04-23T13:03:21.585Z"
   },
   {
    "duration": 13,
    "start_time": "2024-04-23T13:03:21.770Z"
   },
   {
    "duration": 13,
    "start_time": "2024-04-23T13:03:21.970Z"
   },
   {
    "duration": 10,
    "start_time": "2024-04-23T13:03:22.169Z"
   },
   {
    "duration": 7,
    "start_time": "2024-04-23T13:03:22.370Z"
   },
   {
    "duration": 13,
    "start_time": "2024-04-23T13:03:23.353Z"
   },
   {
    "duration": 6,
    "start_time": "2024-04-23T13:03:23.554Z"
   },
   {
    "duration": 14,
    "start_time": "2024-04-23T13:03:23.753Z"
   },
   {
    "duration": 23,
    "start_time": "2024-04-23T13:03:23.970Z"
   },
   {
    "duration": 6,
    "start_time": "2024-04-23T13:03:24.170Z"
   },
   {
    "duration": 20,
    "start_time": "2024-04-23T13:03:24.803Z"
   },
   {
    "duration": 16,
    "start_time": "2024-04-23T13:03:25.954Z"
   },
   {
    "duration": 6,
    "start_time": "2024-04-23T13:03:26.154Z"
   },
   {
    "duration": 7,
    "start_time": "2024-04-23T13:03:26.355Z"
   },
   {
    "duration": 6,
    "start_time": "2024-04-23T13:03:26.588Z"
   },
   {
    "duration": 6,
    "start_time": "2024-04-23T13:03:26.804Z"
   },
   {
    "duration": 6,
    "start_time": "2024-04-23T13:03:27.038Z"
   },
   {
    "duration": 8,
    "start_time": "2024-04-23T13:03:27.287Z"
   },
   {
    "duration": 179,
    "start_time": "2024-04-23T13:03:28.354Z"
   },
   {
    "duration": 12,
    "start_time": "2024-04-23T13:03:29.372Z"
   },
   {
    "duration": 4,
    "start_time": "2024-04-23T13:03:29.872Z"
   },
   {
    "duration": 45,
    "start_time": "2024-04-23T13:03:30.540Z"
   },
   {
    "duration": 15,
    "start_time": "2024-04-23T13:03:32.522Z"
   },
   {
    "duration": 10,
    "start_time": "2024-04-23T13:03:33.856Z"
   },
   {
    "duration": 20,
    "start_time": "2024-04-23T13:03:35.691Z"
   },
   {
    "duration": 13,
    "start_time": "2024-04-23T13:04:03.967Z"
   },
   {
    "duration": 12,
    "start_time": "2024-04-23T13:09:01.297Z"
   },
   {
    "duration": 3,
    "start_time": "2024-04-23T13:09:07.804Z"
   },
   {
    "duration": 5,
    "start_time": "2024-04-23T13:09:08.015Z"
   },
   {
    "duration": 45,
    "start_time": "2024-04-23T13:09:08.383Z"
   },
   {
    "duration": 13,
    "start_time": "2024-04-23T13:09:08.549Z"
   },
   {
    "duration": 12,
    "start_time": "2024-04-23T13:09:08.749Z"
   },
   {
    "duration": 9,
    "start_time": "2024-04-23T13:09:08.916Z"
   },
   {
    "duration": 7,
    "start_time": "2024-04-23T13:09:09.116Z"
   },
   {
    "duration": 12,
    "start_time": "2024-04-23T13:09:10.083Z"
   },
   {
    "duration": 7,
    "start_time": "2024-04-23T13:09:10.283Z"
   },
   {
    "duration": 9,
    "start_time": "2024-04-23T13:09:10.484Z"
   },
   {
    "duration": 20,
    "start_time": "2024-04-23T13:09:10.700Z"
   },
   {
    "duration": 7,
    "start_time": "2024-04-23T13:09:10.900Z"
   },
   {
    "duration": 19,
    "start_time": "2024-04-23T13:09:11.584Z"
   },
   {
    "duration": 16,
    "start_time": "2024-04-23T13:09:12.051Z"
   },
   {
    "duration": 5,
    "start_time": "2024-04-23T13:09:12.317Z"
   },
   {
    "duration": 7,
    "start_time": "2024-04-23T13:09:12.634Z"
   },
   {
    "duration": 7,
    "start_time": "2024-04-23T13:09:12.883Z"
   },
   {
    "duration": 7,
    "start_time": "2024-04-23T13:09:13.100Z"
   },
   {
    "duration": 5,
    "start_time": "2024-04-23T13:09:13.417Z"
   },
   {
    "duration": 6,
    "start_time": "2024-04-23T13:09:13.851Z"
   },
   {
    "duration": 37,
    "start_time": "2024-04-23T13:09:14.417Z"
   },
   {
    "duration": 12,
    "start_time": "2024-04-23T13:09:15.568Z"
   },
   {
    "duration": 4,
    "start_time": "2024-04-23T13:09:15.835Z"
   },
   {
    "duration": 39,
    "start_time": "2024-04-23T13:09:16.551Z"
   },
   {
    "duration": 14,
    "start_time": "2024-04-23T13:09:18.001Z"
   },
   {
    "duration": 10,
    "start_time": "2024-04-23T13:09:19.820Z"
   },
   {
    "duration": 19,
    "start_time": "2024-04-23T13:09:25.190Z"
   },
   {
    "duration": 16,
    "start_time": "2024-04-23T13:11:39.364Z"
   },
   {
    "duration": 5,
    "start_time": "2024-04-23T13:11:49.633Z"
   },
   {
    "duration": 3,
    "start_time": "2024-04-23T13:11:54.135Z"
   },
   {
    "duration": 18,
    "start_time": "2024-04-23T13:11:54.787Z"
   },
   {
    "duration": 113,
    "start_time": "2024-04-23T13:14:06.612Z"
   },
   {
    "duration": 4,
    "start_time": "2024-04-23T13:14:16.432Z"
   },
   {
    "duration": 18,
    "start_time": "2024-04-23T13:14:17.348Z"
   },
   {
    "duration": 12,
    "start_time": "2024-04-23T13:14:49.659Z"
   },
   {
    "duration": 14,
    "start_time": "2024-04-23T13:15:01.380Z"
   },
   {
    "duration": 86,
    "start_time": "2024-04-23T13:26:08.211Z"
   },
   {
    "duration": 2627,
    "start_time": "2024-04-23T13:28:42.440Z"
   },
   {
    "duration": 1695,
    "start_time": "2024-04-23T13:30:38.376Z"
   },
   {
    "duration": 1587,
    "start_time": "2024-04-23T13:36:24.564Z"
   },
   {
    "duration": 214,
    "start_time": "2024-04-23T13:49:45.965Z"
   },
   {
    "duration": 2593,
    "start_time": "2024-04-23T13:51:43.901Z"
   },
   {
    "duration": 16,
    "start_time": "2024-04-23T13:55:26.203Z"
   },
   {
    "duration": 5,
    "start_time": "2024-04-23T13:55:34.506Z"
   },
   {
    "duration": 2536,
    "start_time": "2024-04-23T13:55:39.338Z"
   },
   {
    "duration": 133,
    "start_time": "2024-04-23T13:56:06.333Z"
   },
   {
    "duration": 2720,
    "start_time": "2024-04-23T13:56:13.417Z"
   },
   {
    "duration": 2554,
    "start_time": "2024-04-23T13:56:24.621Z"
   },
   {
    "duration": 2464,
    "start_time": "2024-04-23T13:56:39.645Z"
   },
   {
    "duration": 106,
    "start_time": "2024-04-23T13:59:39.400Z"
   },
   {
    "duration": 18,
    "start_time": "2024-04-23T13:59:45.116Z"
   },
   {
    "duration": 14,
    "start_time": "2024-04-23T13:59:59.021Z"
   },
   {
    "duration": 14,
    "start_time": "2024-04-23T14:00:27.364Z"
   },
   {
    "duration": 16,
    "start_time": "2024-04-23T14:01:00.440Z"
   },
   {
    "duration": 18,
    "start_time": "2024-04-23T14:04:49.395Z"
   },
   {
    "duration": 18,
    "start_time": "2024-04-23T14:06:42.565Z"
   },
   {
    "duration": 2719,
    "start_time": "2024-04-23T14:07:48.901Z"
   },
   {
    "duration": 2448,
    "start_time": "2024-04-23T14:08:51.470Z"
   },
   {
    "duration": 2853,
    "start_time": "2024-04-23T14:09:54.206Z"
   },
   {
    "duration": 2825,
    "start_time": "2024-04-23T14:10:37.520Z"
   },
   {
    "duration": 3074,
    "start_time": "2024-04-23T14:11:48.707Z"
   },
   {
    "duration": 7791,
    "start_time": "2024-04-23T14:12:07.531Z"
   },
   {
    "duration": 2393,
    "start_time": "2024-04-23T14:13:46.679Z"
   },
   {
    "duration": 2349,
    "start_time": "2024-04-23T14:19:52.758Z"
   },
   {
    "duration": 200,
    "start_time": "2024-04-23T14:19:59.692Z"
   },
   {
    "duration": 325,
    "start_time": "2024-04-23T14:20:20.151Z"
   },
   {
    "duration": 403,
    "start_time": "2024-04-23T14:20:42.574Z"
   },
   {
    "duration": 745,
    "start_time": "2024-04-23T14:21:13.399Z"
   },
   {
    "duration": 5,
    "start_time": "2024-04-23T14:24:41.065Z"
   },
   {
    "duration": 5,
    "start_time": "2024-04-23T14:24:48.260Z"
   },
   {
    "duration": 11,
    "start_time": "2024-04-23T14:25:06.356Z"
   },
   {
    "duration": 314,
    "start_time": "2024-04-23T14:25:12.341Z"
   },
   {
    "duration": 2654,
    "start_time": "2024-04-23T14:35:54.843Z"
   },
   {
    "duration": 1842,
    "start_time": "2024-04-23T14:37:46.311Z"
   },
   {
    "duration": 4,
    "start_time": "2024-04-23T15:29:10.832Z"
   },
   {
    "duration": 8,
    "start_time": "2024-04-23T15:29:15.051Z"
   },
   {
    "duration": 15,
    "start_time": "2024-04-23T15:29:23.452Z"
   },
   {
    "duration": 19,
    "start_time": "2024-04-23T15:29:30.688Z"
   },
   {
    "duration": 3,
    "start_time": "2024-04-23T15:29:43.510Z"
   },
   {
    "duration": 7,
    "start_time": "2024-04-23T15:29:45.958Z"
   },
   {
    "duration": 19,
    "start_time": "2024-04-23T15:29:46.544Z"
   },
   {
    "duration": 3,
    "start_time": "2024-04-23T15:30:17.668Z"
   },
   {
    "duration": 12,
    "start_time": "2024-04-23T15:30:18.135Z"
   },
   {
    "duration": 18,
    "start_time": "2024-04-23T15:30:18.686Z"
   },
   {
    "duration": 3523,
    "start_time": "2024-04-23T15:34:11.342Z"
   },
   {
    "duration": 424,
    "start_time": "2024-04-23T15:34:14.867Z"
   },
   {
    "duration": 3,
    "start_time": "2024-04-23T15:34:15.292Z"
   },
   {
    "duration": 46,
    "start_time": "2024-04-23T15:34:15.297Z"
   },
   {
    "duration": 17,
    "start_time": "2024-04-23T15:34:15.344Z"
   },
   {
    "duration": 13,
    "start_time": "2024-04-23T15:34:15.362Z"
   },
   {
    "duration": 41,
    "start_time": "2024-04-23T15:34:15.376Z"
   },
   {
    "duration": 27,
    "start_time": "2024-04-23T15:34:15.419Z"
   },
   {
    "duration": 47,
    "start_time": "2024-04-23T15:34:15.448Z"
   },
   {
    "duration": 19,
    "start_time": "2024-04-23T15:34:15.497Z"
   },
   {
    "duration": 12,
    "start_time": "2024-04-23T15:34:15.518Z"
   },
   {
    "duration": 22,
    "start_time": "2024-04-23T15:34:15.532Z"
   },
   {
    "duration": 38,
    "start_time": "2024-04-23T15:34:15.555Z"
   },
   {
    "duration": 37,
    "start_time": "2024-04-23T15:34:15.595Z"
   },
   {
    "duration": 15,
    "start_time": "2024-04-23T15:34:15.633Z"
   },
   {
    "duration": 10,
    "start_time": "2024-04-23T15:34:15.649Z"
   },
   {
    "duration": 7,
    "start_time": "2024-04-23T15:34:15.660Z"
   },
   {
    "duration": 6,
    "start_time": "2024-04-23T15:34:15.668Z"
   },
   {
    "duration": 36,
    "start_time": "2024-04-23T15:34:15.676Z"
   },
   {
    "duration": 13,
    "start_time": "2024-04-23T15:34:15.714Z"
   },
   {
    "duration": 15,
    "start_time": "2024-04-23T15:34:15.728Z"
   },
   {
    "duration": 42,
    "start_time": "2024-04-23T15:34:15.745Z"
   },
   {
    "duration": 13,
    "start_time": "2024-04-23T15:34:15.789Z"
   },
   {
    "duration": 5,
    "start_time": "2024-04-23T15:34:15.815Z"
   },
   {
    "duration": 64,
    "start_time": "2024-04-23T15:34:15.821Z"
   },
   {
    "duration": 15,
    "start_time": "2024-04-23T15:34:15.886Z"
   },
   {
    "duration": 18,
    "start_time": "2024-04-23T15:34:15.902Z"
   },
   {
    "duration": 4,
    "start_time": "2024-04-23T15:34:15.923Z"
   },
   {
    "duration": 14,
    "start_time": "2024-04-23T15:34:15.928Z"
   },
   {
    "duration": 21,
    "start_time": "2024-04-23T15:34:15.944Z"
   },
   {
    "duration": 2644,
    "start_time": "2024-04-23T15:34:15.966Z"
   },
   {
    "duration": 1918,
    "start_time": "2024-04-23T15:34:18.611Z"
   },
   {
    "duration": 3,
    "start_time": "2024-04-23T15:34:20.530Z"
   },
   {
    "duration": 8,
    "start_time": "2024-04-23T15:34:20.534Z"
   },
   {
    "duration": 17,
    "start_time": "2024-04-23T15:34:20.543Z"
   },
   {
    "duration": 1597,
    "start_time": "2024-04-23T15:34:46.598Z"
   },
   {
    "duration": 88,
    "start_time": "2024-04-23T15:34:48.197Z"
   },
   {
    "duration": 0,
    "start_time": "2024-04-23T15:34:48.286Z"
   },
   {
    "duration": 0,
    "start_time": "2024-04-23T15:34:48.288Z"
   },
   {
    "duration": 14,
    "start_time": "2024-04-23T15:34:53.744Z"
   },
   {
    "duration": 26475,
    "start_time": "2024-04-23T15:34:57.560Z"
   },
   {
    "duration": 1519,
    "start_time": "2024-04-23T15:35:37.739Z"
   },
   {
    "duration": 2441,
    "start_time": "2024-04-23T15:35:52.544Z"
   },
   {
    "duration": 72,
    "start_time": "2024-04-23T15:38:00.421Z"
   },
   {
    "duration": 70,
    "start_time": "2024-04-23T15:38:00.495Z"
   },
   {
    "duration": 67,
    "start_time": "2024-04-23T15:38:00.567Z"
   },
   {
    "duration": 4,
    "start_time": "2024-04-23T15:38:03.119Z"
   },
   {
    "duration": 3,
    "start_time": "2024-04-23T15:38:03.335Z"
   },
   {
    "duration": 40,
    "start_time": "2024-04-23T15:38:03.951Z"
   },
   {
    "duration": 13,
    "start_time": "2024-04-23T15:38:04.153Z"
   },
   {
    "duration": 12,
    "start_time": "2024-04-23T15:38:04.568Z"
   },
   {
    "duration": 13,
    "start_time": "2024-04-23T15:38:04.785Z"
   },
   {
    "duration": 7,
    "start_time": "2024-04-23T15:38:04.985Z"
   },
   {
    "duration": 13,
    "start_time": "2024-04-23T15:38:06.086Z"
   },
   {
    "duration": 6,
    "start_time": "2024-04-23T15:38:06.302Z"
   },
   {
    "duration": 9,
    "start_time": "2024-04-23T15:38:06.535Z"
   },
   {
    "duration": 21,
    "start_time": "2024-04-23T15:38:06.752Z"
   },
   {
    "duration": 6,
    "start_time": "2024-04-23T15:38:07.019Z"
   },
   {
    "duration": 19,
    "start_time": "2024-04-23T15:38:07.653Z"
   },
   {
    "duration": 19,
    "start_time": "2024-04-23T15:38:08.104Z"
   },
   {
    "duration": 6,
    "start_time": "2024-04-23T15:38:08.304Z"
   },
   {
    "duration": 7,
    "start_time": "2024-04-23T15:38:08.520Z"
   },
   {
    "duration": 5,
    "start_time": "2024-04-23T15:38:08.720Z"
   },
   {
    "duration": 5,
    "start_time": "2024-04-23T15:38:08.937Z"
   },
   {
    "duration": 6,
    "start_time": "2024-04-23T15:38:09.137Z"
   },
   {
    "duration": 7,
    "start_time": "2024-04-23T15:38:09.353Z"
   },
   {
    "duration": 38,
    "start_time": "2024-04-23T15:38:09.771Z"
   },
   {
    "duration": 12,
    "start_time": "2024-04-23T15:38:10.204Z"
   },
   {
    "duration": 4,
    "start_time": "2024-04-23T15:38:10.420Z"
   },
   {
    "duration": 37,
    "start_time": "2024-04-23T15:38:10.654Z"
   },
   {
    "duration": 15,
    "start_time": "2024-04-23T15:38:11.104Z"
   },
   {
    "duration": 14,
    "start_time": "2024-04-23T15:38:11.337Z"
   },
   {
    "duration": 3,
    "start_time": "2024-04-23T15:38:11.554Z"
   },
   {
    "duration": 13,
    "start_time": "2024-04-23T15:38:11.804Z"
   },
   {
    "duration": 20,
    "start_time": "2024-04-23T15:38:13.505Z"
   },
   {
    "duration": 2867,
    "start_time": "2024-04-23T15:38:13.772Z"
   },
   {
    "duration": 1977,
    "start_time": "2024-04-23T15:38:16.641Z"
   },
   {
    "duration": 3,
    "start_time": "2024-04-23T15:38:18.620Z"
   },
   {
    "duration": 27,
    "start_time": "2024-04-23T15:38:18.625Z"
   },
   {
    "duration": 20,
    "start_time": "2024-04-23T15:38:18.654Z"
   },
   {
    "duration": 4,
    "start_time": "2024-04-23T15:38:18.676Z"
   },
   {
    "duration": 5,
    "start_time": "2024-04-23T15:38:18.681Z"
   },
   {
    "duration": 14,
    "start_time": "2024-04-23T15:38:18.687Z"
   },
   {
    "duration": 1622,
    "start_time": "2024-04-23T15:38:18.790Z"
   },
   {
    "duration": 3196,
    "start_time": "2024-04-23T15:38:43.114Z"
   },
   {
    "duration": 4654,
    "start_time": "2024-04-24T06:13:34.040Z"
   },
   {
    "duration": 411,
    "start_time": "2024-04-24T06:13:38.696Z"
   },
   {
    "duration": 3,
    "start_time": "2024-04-24T06:13:39.109Z"
   },
   {
    "duration": 112,
    "start_time": "2024-04-24T06:13:39.114Z"
   },
   {
    "duration": 16,
    "start_time": "2024-04-24T06:13:39.228Z"
   },
   {
    "duration": 18,
    "start_time": "2024-04-24T06:13:39.245Z"
   },
   {
    "duration": 9,
    "start_time": "2024-04-24T06:13:39.264Z"
   },
   {
    "duration": 8,
    "start_time": "2024-04-24T06:13:40.089Z"
   },
   {
    "duration": 11,
    "start_time": "2024-04-24T06:13:41.273Z"
   },
   {
    "duration": 6,
    "start_time": "2024-04-24T06:13:41.489Z"
   },
   {
    "duration": 9,
    "start_time": "2024-04-24T06:13:41.722Z"
   },
   {
    "duration": 21,
    "start_time": "2024-04-24T06:13:41.890Z"
   },
   {
    "duration": 6,
    "start_time": "2024-04-24T06:13:42.089Z"
   },
   {
    "duration": 19,
    "start_time": "2024-04-24T06:13:42.657Z"
   },
   {
    "duration": 16,
    "start_time": "2024-04-24T06:13:43.039Z"
   },
   {
    "duration": 5,
    "start_time": "2024-04-24T06:13:43.240Z"
   },
   {
    "duration": 6,
    "start_time": "2024-04-24T06:13:43.439Z"
   },
   {
    "duration": 6,
    "start_time": "2024-04-24T06:13:43.623Z"
   },
   {
    "duration": 7,
    "start_time": "2024-04-24T06:13:43.839Z"
   },
   {
    "duration": 6,
    "start_time": "2024-04-24T06:13:44.056Z"
   },
   {
    "duration": 7,
    "start_time": "2024-04-24T06:13:44.239Z"
   },
   {
    "duration": 36,
    "start_time": "2024-04-24T06:13:44.674Z"
   },
   {
    "duration": 11,
    "start_time": "2024-04-24T06:13:45.124Z"
   },
   {
    "duration": 4,
    "start_time": "2024-04-24T06:13:45.591Z"
   },
   {
    "duration": 36,
    "start_time": "2024-04-24T06:13:45.807Z"
   },
   {
    "duration": 14,
    "start_time": "2024-04-24T06:13:46.291Z"
   },
   {
    "duration": 11,
    "start_time": "2024-04-24T06:13:46.524Z"
   },
   {
    "duration": 4,
    "start_time": "2024-04-24T06:13:46.774Z"
   },
   {
    "duration": 14,
    "start_time": "2024-04-24T06:13:47.007Z"
   },
   {
    "duration": 18,
    "start_time": "2024-04-24T06:13:48.641Z"
   },
   {
    "duration": 2391,
    "start_time": "2024-04-24T06:13:48.875Z"
   },
   {
    "duration": 1764,
    "start_time": "2024-04-24T06:13:51.268Z"
   },
   {
    "duration": 4,
    "start_time": "2024-04-24T06:13:53.033Z"
   },
   {
    "duration": 50,
    "start_time": "2024-04-24T06:13:53.039Z"
   },
   {
    "duration": 47,
    "start_time": "2024-04-24T06:13:53.091Z"
   },
   {
    "duration": 1522,
    "start_time": "2024-04-24T06:13:53.776Z"
   },
   {
    "duration": 1439,
    "start_time": "2024-04-24T06:16:41.379Z"
   },
   {
    "duration": 76,
    "start_time": "2024-04-24T06:17:03.186Z"
   },
   {
    "duration": 12,
    "start_time": "2024-04-24T06:17:44.331Z"
   },
   {
    "duration": 80,
    "start_time": "2024-04-24T06:19:15.244Z"
   },
   {
    "duration": 11,
    "start_time": "2024-04-24T06:19:41.102Z"
   },
   {
    "duration": 81,
    "start_time": "2024-04-24T06:20:05.543Z"
   },
   {
    "duration": 71,
    "start_time": "2024-04-24T06:20:38.520Z"
   },
   {
    "duration": 137,
    "start_time": "2024-04-24T06:20:46.738Z"
   },
   {
    "duration": 73,
    "start_time": "2024-04-24T06:20:58.942Z"
   },
   {
    "duration": 68,
    "start_time": "2024-04-24T06:21:06.328Z"
   },
   {
    "duration": 68,
    "start_time": "2024-04-24T06:21:18.783Z"
   },
   {
    "duration": 71,
    "start_time": "2024-04-24T06:21:40.055Z"
   },
   {
    "duration": 4842,
    "start_time": "2024-04-24T12:49:01.762Z"
   },
   {
    "duration": 477,
    "start_time": "2024-04-24T12:49:08.129Z"
   },
   {
    "duration": 6,
    "start_time": "2024-04-24T12:49:08.608Z"
   },
   {
    "duration": 115,
    "start_time": "2024-04-24T12:49:09.146Z"
   },
   {
    "duration": 22,
    "start_time": "2024-04-24T12:49:09.363Z"
   },
   {
    "duration": 17,
    "start_time": "2024-04-24T12:49:09.630Z"
   },
   {
    "duration": 9,
    "start_time": "2024-04-24T12:49:09.863Z"
   },
   {
    "duration": 10,
    "start_time": "2024-04-24T12:49:10.080Z"
   },
   {
    "duration": 19,
    "start_time": "2024-04-24T12:49:11.197Z"
   },
   {
    "duration": 7,
    "start_time": "2024-04-24T12:49:11.432Z"
   },
   {
    "duration": 10,
    "start_time": "2024-04-24T12:49:11.664Z"
   },
   {
    "duration": 27,
    "start_time": "2024-04-24T12:49:11.914Z"
   },
   {
    "duration": 6,
    "start_time": "2024-04-24T12:49:12.114Z"
   },
   {
    "duration": 21,
    "start_time": "2024-04-24T12:49:12.765Z"
   },
   {
    "duration": 16,
    "start_time": "2024-04-24T12:49:13.216Z"
   },
   {
    "duration": 6,
    "start_time": "2024-04-24T12:49:13.431Z"
   },
   {
    "duration": 6,
    "start_time": "2024-04-24T12:49:13.664Z"
   },
   {
    "duration": 6,
    "start_time": "2024-04-24T12:49:13.881Z"
   },
   {
    "duration": 6,
    "start_time": "2024-04-24T12:49:14.114Z"
   },
   {
    "duration": 5,
    "start_time": "2024-04-24T12:49:14.331Z"
   },
   {
    "duration": 7,
    "start_time": "2024-04-24T12:49:14.531Z"
   },
   {
    "duration": 50,
    "start_time": "2024-04-24T12:49:14.949Z"
   },
   {
    "duration": 18,
    "start_time": "2024-04-24T12:49:15.382Z"
   },
   {
    "duration": 5,
    "start_time": "2024-04-24T12:49:15.631Z"
   },
   {
    "duration": 49,
    "start_time": "2024-04-24T12:49:15.849Z"
   },
   {
    "duration": 16,
    "start_time": "2024-04-24T12:49:16.299Z"
   },
   {
    "duration": 12,
    "start_time": "2024-04-24T12:49:16.514Z"
   },
   {
    "duration": 4,
    "start_time": "2024-04-24T12:49:16.949Z"
   },
   {
    "duration": 14,
    "start_time": "2024-04-24T12:49:17.199Z"
   },
   {
    "duration": 20,
    "start_time": "2024-04-24T12:49:19.831Z"
   },
   {
    "duration": 2704,
    "start_time": "2024-04-24T12:49:20.082Z"
   },
   {
    "duration": 2015,
    "start_time": "2024-04-24T12:49:22.788Z"
   },
   {
    "duration": 3,
    "start_time": "2024-04-24T12:49:24.805Z"
   },
   {
    "duration": 23,
    "start_time": "2024-04-24T12:49:24.814Z"
   },
   {
    "duration": 31,
    "start_time": "2024-04-24T12:49:24.839Z"
   },
   {
    "duration": 1710,
    "start_time": "2024-04-24T12:49:31.770Z"
   },
   {
    "duration": 1587,
    "start_time": "2024-04-24T12:49:57.127Z"
   },
   {
    "duration": 99,
    "start_time": "2024-04-24T12:49:58.717Z"
   },
   {
    "duration": 75,
    "start_time": "2024-04-24T12:52:19.922Z"
   },
   {
    "duration": 176,
    "start_time": "2024-04-24T12:54:08.158Z"
   },
   {
    "duration": 14,
    "start_time": "2024-04-24T12:54:22.179Z"
   },
   {
    "duration": 16,
    "start_time": "2024-04-24T12:54:25.913Z"
   },
   {
    "duration": 3799,
    "start_time": "2024-04-24T12:54:38.790Z"
   },
   {
    "duration": 417,
    "start_time": "2024-04-24T12:54:42.591Z"
   },
   {
    "duration": 3,
    "start_time": "2024-04-24T12:54:43.009Z"
   },
   {
    "duration": 46,
    "start_time": "2024-04-24T12:54:43.015Z"
   },
   {
    "duration": 21,
    "start_time": "2024-04-24T12:54:43.063Z"
   },
   {
    "duration": 36,
    "start_time": "2024-04-24T12:54:43.086Z"
   },
   {
    "duration": 11,
    "start_time": "2024-04-24T12:54:43.124Z"
   },
   {
    "duration": 7,
    "start_time": "2024-04-24T12:54:43.136Z"
   },
   {
    "duration": 14,
    "start_time": "2024-04-24T12:54:43.144Z"
   },
   {
    "duration": 6,
    "start_time": "2024-04-24T12:54:43.162Z"
   },
   {
    "duration": 45,
    "start_time": "2024-04-24T12:54:43.170Z"
   },
   {
    "duration": 22,
    "start_time": "2024-04-24T12:54:43.217Z"
   },
   {
    "duration": 6,
    "start_time": "2024-04-24T12:54:43.241Z"
   },
   {
    "duration": 28,
    "start_time": "2024-04-24T12:54:43.249Z"
   },
   {
    "duration": 39,
    "start_time": "2024-04-24T12:54:43.280Z"
   },
   {
    "duration": 10,
    "start_time": "2024-04-24T12:54:43.321Z"
   },
   {
    "duration": 8,
    "start_time": "2024-04-24T12:54:43.332Z"
   },
   {
    "duration": 10,
    "start_time": "2024-04-24T12:54:43.342Z"
   },
   {
    "duration": 7,
    "start_time": "2024-04-24T12:54:43.353Z"
   },
   {
    "duration": 8,
    "start_time": "2024-04-24T12:54:43.361Z"
   },
   {
    "duration": 12,
    "start_time": "2024-04-24T12:54:43.370Z"
   },
   {
    "duration": 64,
    "start_time": "2024-04-24T12:54:43.383Z"
   },
   {
    "duration": 12,
    "start_time": "2024-04-24T12:54:43.448Z"
   },
   {
    "duration": 5,
    "start_time": "2024-04-24T12:54:43.461Z"
   },
   {
    "duration": 55,
    "start_time": "2024-04-24T12:54:43.468Z"
   },
   {
    "duration": 20,
    "start_time": "2024-04-24T12:54:43.525Z"
   },
   {
    "duration": 19,
    "start_time": "2024-04-24T12:54:43.547Z"
   },
   {
    "duration": 5,
    "start_time": "2024-04-24T12:54:43.571Z"
   },
   {
    "duration": 38,
    "start_time": "2024-04-24T12:54:43.578Z"
   },
   {
    "duration": 31,
    "start_time": "2024-04-24T12:54:43.618Z"
   },
   {
    "duration": 2698,
    "start_time": "2024-04-24T12:54:43.650Z"
   },
   {
    "duration": 1950,
    "start_time": "2024-04-24T12:54:46.350Z"
   },
   {
    "duration": 3,
    "start_time": "2024-04-24T12:54:48.302Z"
   },
   {
    "duration": 14,
    "start_time": "2024-04-24T12:54:48.307Z"
   },
   {
    "duration": 21,
    "start_time": "2024-04-24T12:54:48.322Z"
   },
   {
    "duration": 1659,
    "start_time": "2024-04-24T12:54:48.345Z"
   },
   {
    "duration": 83,
    "start_time": "2024-04-24T12:54:50.006Z"
   },
   {
    "duration": 79,
    "start_time": "2024-04-24T12:54:50.090Z"
   },
   {
    "duration": 117,
    "start_time": "2024-04-24T12:55:58.577Z"
   },
   {
    "duration": 9,
    "start_time": "2024-04-24T12:58:10.217Z"
   },
   {
    "duration": 40,
    "start_time": "2024-04-24T12:58:26.122Z"
   },
   {
    "duration": 13,
    "start_time": "2024-04-24T12:58:26.372Z"
   },
   {
    "duration": 11,
    "start_time": "2024-04-24T12:58:26.589Z"
   },
   {
    "duration": 10,
    "start_time": "2024-04-24T12:58:26.805Z"
   },
   {
    "duration": 8,
    "start_time": "2024-04-24T12:58:27.005Z"
   },
   {
    "duration": 12,
    "start_time": "2024-04-24T12:58:27.972Z"
   },
   {
    "duration": 8,
    "start_time": "2024-04-24T12:58:28.172Z"
   },
   {
    "duration": 10,
    "start_time": "2024-04-24T12:58:28.372Z"
   },
   {
    "duration": 22,
    "start_time": "2024-04-24T12:58:28.555Z"
   },
   {
    "duration": 6,
    "start_time": "2024-04-24T12:58:28.772Z"
   },
   {
    "duration": 20,
    "start_time": "2024-04-24T12:58:29.355Z"
   },
   {
    "duration": 15,
    "start_time": "2024-04-24T12:58:29.739Z"
   },
   {
    "duration": 6,
    "start_time": "2024-04-24T12:58:29.955Z"
   },
   {
    "duration": 6,
    "start_time": "2024-04-24T12:58:30.139Z"
   },
   {
    "duration": 5,
    "start_time": "2024-04-24T12:58:30.340Z"
   },
   {
    "duration": 5,
    "start_time": "2024-04-24T12:58:30.540Z"
   },
   {
    "duration": 7,
    "start_time": "2024-04-24T12:58:30.724Z"
   },
   {
    "duration": 7,
    "start_time": "2024-04-24T12:58:30.908Z"
   },
   {
    "duration": 52,
    "start_time": "2024-04-24T12:58:31.341Z"
   },
   {
    "duration": 12,
    "start_time": "2024-04-24T12:58:31.774Z"
   },
   {
    "duration": 6,
    "start_time": "2024-04-24T12:58:31.991Z"
   },
   {
    "duration": 56,
    "start_time": "2024-04-24T12:58:32.174Z"
   },
   {
    "duration": 21,
    "start_time": "2024-04-24T12:58:32.790Z"
   },
   {
    "duration": 15,
    "start_time": "2024-04-24T12:58:32.991Z"
   },
   {
    "duration": 4,
    "start_time": "2024-04-24T12:58:33.208Z"
   },
   {
    "duration": 20,
    "start_time": "2024-04-24T12:58:33.425Z"
   },
   {
    "duration": 18,
    "start_time": "2024-04-24T12:58:37.526Z"
   },
   {
    "duration": 26,
    "start_time": "2024-04-24T12:58:50.312Z"
   },
   {
    "duration": 1607,
    "start_time": "2024-04-24T12:59:59.234Z"
   },
   {
    "duration": 1645,
    "start_time": "2024-04-24T13:00:15.273Z"
   },
   {
    "duration": 1748,
    "start_time": "2024-04-24T13:00:24.661Z"
   },
   {
    "duration": 1562,
    "start_time": "2024-04-24T13:00:38.249Z"
   },
   {
    "duration": 20,
    "start_time": "2024-04-24T13:11:36.535Z"
   },
   {
    "duration": 21,
    "start_time": "2024-04-24T13:11:45.085Z"
   },
   {
    "duration": 27,
    "start_time": "2024-04-24T13:12:02.633Z"
   },
   {
    "duration": 18,
    "start_time": "2024-04-24T13:12:23.348Z"
   },
   {
    "duration": 2524,
    "start_time": "2024-04-24T13:14:10.665Z"
   },
   {
    "duration": 1697,
    "start_time": "2024-04-24T13:14:44.542Z"
   },
   {
    "duration": 18,
    "start_time": "2024-04-24T13:14:57.797Z"
   },
   {
    "duration": 18,
    "start_time": "2024-04-24T13:17:06.570Z"
   },
   {
    "duration": 2672,
    "start_time": "2024-04-24T13:17:07.019Z"
   },
   {
    "duration": 1972,
    "start_time": "2024-04-24T13:17:09.693Z"
   },
   {
    "duration": 4,
    "start_time": "2024-04-24T13:17:11.667Z"
   },
   {
    "duration": 13,
    "start_time": "2024-04-24T13:17:11.673Z"
   },
   {
    "duration": 30,
    "start_time": "2024-04-24T13:17:11.688Z"
   },
   {
    "duration": 1615,
    "start_time": "2024-04-24T13:17:25.340Z"
   },
   {
    "duration": 28,
    "start_time": "2024-04-24T13:17:51.200Z"
   },
   {
    "duration": 1737,
    "start_time": "2024-04-24T13:18:07.389Z"
   },
   {
    "duration": 27,
    "start_time": "2024-04-24T13:18:30.345Z"
   },
   {
    "duration": 26,
    "start_time": "2024-04-24T13:21:17.665Z"
   },
   {
    "duration": 36,
    "start_time": "2024-04-24T13:22:07.613Z"
   },
   {
    "duration": 40,
    "start_time": "2024-04-24T13:23:48.928Z"
   },
   {
    "duration": 27,
    "start_time": "2024-04-24T13:24:14.035Z"
   },
   {
    "duration": 3,
    "start_time": "2024-04-24T13:25:13.721Z"
   },
   {
    "duration": 27,
    "start_time": "2024-04-24T13:25:15.570Z"
   },
   {
    "duration": 12,
    "start_time": "2024-04-24T13:25:40.195Z"
   },
   {
    "duration": 19,
    "start_time": "2024-04-24T13:25:41.729Z"
   },
   {
    "duration": 4,
    "start_time": "2024-04-24T13:26:12.105Z"
   },
   {
    "duration": 3,
    "start_time": "2024-04-24T13:26:12.505Z"
   },
   {
    "duration": 48,
    "start_time": "2024-04-24T13:26:13.423Z"
   },
   {
    "duration": 17,
    "start_time": "2024-04-24T13:26:14.039Z"
   },
   {
    "duration": 17,
    "start_time": "2024-04-24T13:26:14.873Z"
   },
   {
    "duration": 14,
    "start_time": "2024-04-24T13:26:15.439Z"
   },
   {
    "duration": 10,
    "start_time": "2024-04-24T13:26:17.192Z"
   },
   {
    "duration": 14,
    "start_time": "2024-04-24T13:26:18.790Z"
   },
   {
    "duration": 6,
    "start_time": "2024-04-24T13:26:19.957Z"
   },
   {
    "duration": 10,
    "start_time": "2024-04-24T13:26:20.457Z"
   },
   {
    "duration": 21,
    "start_time": "2024-04-24T13:26:20.791Z"
   },
   {
    "duration": 6,
    "start_time": "2024-04-24T13:26:21.691Z"
   },
   {
    "duration": 20,
    "start_time": "2024-04-24T13:26:22.908Z"
   },
   {
    "duration": 15,
    "start_time": "2024-04-24T13:26:24.709Z"
   },
   {
    "duration": 6,
    "start_time": "2024-04-24T13:26:25.159Z"
   },
   {
    "duration": 6,
    "start_time": "2024-04-24T13:26:25.925Z"
   },
   {
    "duration": 6,
    "start_time": "2024-04-24T13:26:26.343Z"
   },
   {
    "duration": 6,
    "start_time": "2024-04-24T13:26:26.993Z"
   },
   {
    "duration": 6,
    "start_time": "2024-04-24T13:26:27.310Z"
   },
   {
    "duration": 6,
    "start_time": "2024-04-24T13:26:28.177Z"
   },
   {
    "duration": 37,
    "start_time": "2024-04-24T13:26:29.893Z"
   },
   {
    "duration": 11,
    "start_time": "2024-04-24T13:26:32.544Z"
   },
   {
    "duration": 4,
    "start_time": "2024-04-24T13:26:33.162Z"
   },
   {
    "duration": 37,
    "start_time": "2024-04-24T13:26:33.895Z"
   },
   {
    "duration": 14,
    "start_time": "2024-04-24T13:26:35.195Z"
   },
   {
    "duration": 10,
    "start_time": "2024-04-24T13:26:35.712Z"
   },
   {
    "duration": 3,
    "start_time": "2024-04-24T13:26:36.930Z"
   },
   {
    "duration": 13,
    "start_time": "2024-04-24T13:26:38.546Z"
   },
   {
    "duration": 20,
    "start_time": "2024-04-24T13:26:52.517Z"
   },
   {
    "duration": 2606,
    "start_time": "2024-04-24T13:26:53.709Z"
   },
   {
    "duration": 2042,
    "start_time": "2024-04-24T13:26:56.317Z"
   },
   {
    "duration": 3,
    "start_time": "2024-04-24T13:27:03.254Z"
   },
   {
    "duration": 8,
    "start_time": "2024-04-24T13:27:06.005Z"
   },
   {
    "duration": 28,
    "start_time": "2024-04-24T13:27:19.992Z"
   },
   {
    "duration": 3,
    "start_time": "2024-04-24T13:27:28.747Z"
   },
   {
    "duration": 9,
    "start_time": "2024-04-24T13:27:30.930Z"
   },
   {
    "duration": 45,
    "start_time": "2024-04-24T13:27:43.417Z"
   },
   {
    "duration": 15,
    "start_time": "2024-04-24T13:28:59.409Z"
   },
   {
    "duration": 5,
    "start_time": "2024-04-24T13:29:24.198Z"
   },
   {
    "duration": 3,
    "start_time": "2024-04-24T13:29:24.382Z"
   },
   {
    "duration": 39,
    "start_time": "2024-04-24T13:29:24.798Z"
   },
   {
    "duration": 13,
    "start_time": "2024-04-24T13:29:24.982Z"
   },
   {
    "duration": 12,
    "start_time": "2024-04-24T13:29:25.181Z"
   },
   {
    "duration": 11,
    "start_time": "2024-04-24T13:29:25.364Z"
   },
   {
    "duration": 8,
    "start_time": "2024-04-24T13:29:25.564Z"
   },
   {
    "duration": 12,
    "start_time": "2024-04-24T13:29:26.849Z"
   },
   {
    "duration": 6,
    "start_time": "2024-04-24T13:29:27.265Z"
   },
   {
    "duration": 10,
    "start_time": "2024-04-24T13:29:28.082Z"
   },
   {
    "duration": 20,
    "start_time": "2024-04-24T13:29:28.316Z"
   },
   {
    "duration": 6,
    "start_time": "2024-04-24T13:29:29.115Z"
   },
   {
    "duration": 24,
    "start_time": "2024-04-24T13:29:30.517Z"
   },
   {
    "duration": 16,
    "start_time": "2024-04-24T13:29:32.967Z"
   },
   {
    "duration": 8,
    "start_time": "2024-04-24T13:29:33.534Z"
   },
   {
    "duration": 7,
    "start_time": "2024-04-24T13:29:33.834Z"
   },
   {
    "duration": 8,
    "start_time": "2024-04-24T13:29:34.418Z"
   },
   {
    "duration": 7,
    "start_time": "2024-04-24T13:29:35.285Z"
   },
   {
    "duration": 5,
    "start_time": "2024-04-24T13:29:39.203Z"
   },
   {
    "duration": 7,
    "start_time": "2024-04-24T13:29:39.469Z"
   },
   {
    "duration": 37,
    "start_time": "2024-04-24T13:29:40.952Z"
   },
   {
    "duration": 14,
    "start_time": "2024-04-24T13:29:58.976Z"
   },
   {
    "duration": 13,
    "start_time": "2024-04-24T13:30:11.263Z"
   },
   {
    "duration": 22,
    "start_time": "2024-04-24T13:30:21.201Z"
   },
   {
    "duration": 13,
    "start_time": "2024-04-24T13:30:26.351Z"
   },
   {
    "duration": 16,
    "start_time": "2024-04-24T13:30:30.285Z"
   },
   {
    "duration": 28,
    "start_time": "2024-04-24T13:30:32.670Z"
   },
   {
    "duration": 4,
    "start_time": "2024-04-24T13:31:03.163Z"
   },
   {
    "duration": 47,
    "start_time": "2024-04-24T13:31:04.496Z"
   },
   {
    "duration": 14,
    "start_time": "2024-04-24T13:31:05.028Z"
   },
   {
    "duration": 16,
    "start_time": "2024-04-24T13:31:05.729Z"
   },
   {
    "duration": 14,
    "start_time": "2024-04-24T13:31:06.062Z"
   },
   {
    "duration": 10,
    "start_time": "2024-04-24T13:31:06.323Z"
   },
   {
    "duration": 23,
    "start_time": "2024-04-24T13:31:08.346Z"
   },
   {
    "duration": 7,
    "start_time": "2024-04-24T13:31:11.966Z"
   },
   {
    "duration": 5,
    "start_time": "2024-04-24T13:31:22.286Z"
   },
   {
    "duration": 39,
    "start_time": "2024-04-24T13:31:23.124Z"
   },
   {
    "duration": 14,
    "start_time": "2024-04-24T13:31:25.435Z"
   },
   {
    "duration": 20,
    "start_time": "2024-04-24T13:31:41.641Z"
   },
   {
    "duration": 5,
    "start_time": "2024-04-24T13:31:54.528Z"
   },
   {
    "duration": 13,
    "start_time": "2024-04-24T13:31:56.779Z"
   },
   {
    "duration": 3,
    "start_time": "2024-04-24T13:32:16.028Z"
   },
   {
    "duration": 31,
    "start_time": "2024-04-24T13:32:17.135Z"
   },
   {
    "duration": 39,
    "start_time": "2024-04-24T13:32:37.008Z"
   },
   {
    "duration": 15,
    "start_time": "2024-04-24T13:33:14.224Z"
   },
   {
    "duration": 28,
    "start_time": "2024-04-24T13:33:40.377Z"
   },
   {
    "duration": 4,
    "start_time": "2024-04-24T13:33:58.384Z"
   },
   {
    "duration": 2,
    "start_time": "2024-04-24T13:33:58.785Z"
   },
   {
    "duration": 45,
    "start_time": "2024-04-24T13:33:59.420Z"
   },
   {
    "duration": 12,
    "start_time": "2024-04-24T13:33:59.635Z"
   },
   {
    "duration": 13,
    "start_time": "2024-04-24T13:33:59.850Z"
   },
   {
    "duration": 11,
    "start_time": "2024-04-24T13:34:00.100Z"
   },
   {
    "duration": 8,
    "start_time": "2024-04-24T13:34:00.352Z"
   },
   {
    "duration": 14,
    "start_time": "2024-04-24T13:34:01.323Z"
   },
   {
    "duration": 6,
    "start_time": "2024-04-24T13:34:01.485Z"
   },
   {
    "duration": 10,
    "start_time": "2024-04-24T13:34:01.668Z"
   },
   {
    "duration": 23,
    "start_time": "2024-04-24T13:34:01.834Z"
   },
   {
    "duration": 6,
    "start_time": "2024-04-24T13:34:02.034Z"
   },
   {
    "duration": 19,
    "start_time": "2024-04-24T13:34:02.635Z"
   },
   {
    "duration": 22,
    "start_time": "2024-04-24T13:34:03.021Z"
   },
   {
    "duration": 5,
    "start_time": "2024-04-24T13:34:03.185Z"
   },
   {
    "duration": 6,
    "start_time": "2024-04-24T13:34:03.401Z"
   },
   {
    "duration": 5,
    "start_time": "2024-04-24T13:34:03.601Z"
   },
   {
    "duration": 8,
    "start_time": "2024-04-24T13:34:03.801Z"
   },
   {
    "duration": 5,
    "start_time": "2024-04-24T13:34:04.001Z"
   },
   {
    "duration": 6,
    "start_time": "2024-04-24T13:34:04.368Z"
   },
   {
    "duration": 37,
    "start_time": "2024-04-24T13:34:04.767Z"
   },
   {
    "duration": 13,
    "start_time": "2024-04-24T13:34:05.327Z"
   },
   {
    "duration": 4,
    "start_time": "2024-04-24T13:34:05.535Z"
   },
   {
    "duration": 37,
    "start_time": "2024-04-24T13:34:05.735Z"
   },
   {
    "duration": 14,
    "start_time": "2024-04-24T13:34:06.169Z"
   },
   {
    "duration": 21,
    "start_time": "2024-04-24T13:34:06.369Z"
   },
   {
    "duration": 4,
    "start_time": "2024-04-24T13:34:06.603Z"
   },
   {
    "duration": 19,
    "start_time": "2024-04-24T13:34:06.803Z"
   },
   {
    "duration": 25,
    "start_time": "2024-04-24T13:34:09.386Z"
   },
   {
    "duration": 2672,
    "start_time": "2024-04-24T13:34:09.622Z"
   },
   {
    "duration": 2038,
    "start_time": "2024-04-24T13:34:12.296Z"
   },
   {
    "duration": 3,
    "start_time": "2024-04-24T13:34:14.336Z"
   },
   {
    "duration": 29,
    "start_time": "2024-04-24T13:34:14.341Z"
   },
   {
    "duration": 3,
    "start_time": "2024-04-24T13:34:14.371Z"
   },
   {
    "duration": 24,
    "start_time": "2024-04-24T13:34:19.373Z"
   },
   {
    "duration": 35,
    "start_time": "2024-04-24T13:34:59.387Z"
   },
   {
    "duration": 3384,
    "start_time": "2024-04-24T13:35:02.905Z"
   },
   {
    "duration": 3448,
    "start_time": "2024-04-24T13:35:17.629Z"
   },
   {
    "duration": 3306,
    "start_time": "2024-04-24T13:35:29.930Z"
   },
   {
    "duration": 47,
    "start_time": "2024-04-24T13:36:11.759Z"
   },
   {
    "duration": 19,
    "start_time": "2024-04-24T13:46:01.039Z"
   },
   {
    "duration": 15,
    "start_time": "2024-04-24T13:46:17.429Z"
   },
   {
    "duration": 30,
    "start_time": "2024-04-24T13:46:36.050Z"
   },
   {
    "duration": 12,
    "start_time": "2024-04-24T13:46:46.152Z"
   },
   {
    "duration": 35,
    "start_time": "2024-04-24T14:02:11.906Z"
   },
   {
    "duration": 31,
    "start_time": "2024-04-24T14:02:37.520Z"
   },
   {
    "duration": 36,
    "start_time": "2024-04-24T14:02:49.502Z"
   },
   {
    "duration": 28,
    "start_time": "2024-04-24T14:03:00.254Z"
   },
   {
    "duration": 38,
    "start_time": "2024-04-24T14:03:13.910Z"
   },
   {
    "duration": 18,
    "start_time": "2024-04-24T14:03:23.495Z"
   },
   {
    "duration": 31,
    "start_time": "2024-04-24T14:15:54.780Z"
   },
   {
    "duration": 12,
    "start_time": "2024-04-24T14:15:56.196Z"
   },
   {
    "duration": 31,
    "start_time": "2024-04-24T14:16:21.938Z"
   },
   {
    "duration": 12,
    "start_time": "2024-04-24T14:16:25.508Z"
   },
   {
    "duration": 25,
    "start_time": "2024-04-24T14:24:08.338Z"
   },
   {
    "duration": 3757,
    "start_time": "2024-04-24T14:24:30.319Z"
   },
   {
    "duration": 455,
    "start_time": "2024-04-24T14:24:34.078Z"
   },
   {
    "duration": 4,
    "start_time": "2024-04-24T14:24:34.535Z"
   },
   {
    "duration": 59,
    "start_time": "2024-04-24T14:24:34.541Z"
   },
   {
    "duration": 28,
    "start_time": "2024-04-24T14:24:34.603Z"
   },
   {
    "duration": 39,
    "start_time": "2024-04-24T14:24:34.633Z"
   },
   {
    "duration": 31,
    "start_time": "2024-04-24T14:24:34.674Z"
   },
   {
    "duration": 30,
    "start_time": "2024-04-24T14:24:34.707Z"
   },
   {
    "duration": 13,
    "start_time": "2024-04-24T14:24:34.739Z"
   },
   {
    "duration": 29,
    "start_time": "2024-04-24T14:24:34.754Z"
   },
   {
    "duration": 20,
    "start_time": "2024-04-24T14:24:34.785Z"
   },
   {
    "duration": 40,
    "start_time": "2024-04-24T14:24:34.807Z"
   },
   {
    "duration": 7,
    "start_time": "2024-04-24T14:24:34.849Z"
   },
   {
    "duration": 28,
    "start_time": "2024-04-24T14:24:34.860Z"
   },
   {
    "duration": 34,
    "start_time": "2024-04-24T14:24:34.890Z"
   },
   {
    "duration": 11,
    "start_time": "2024-04-24T14:24:34.928Z"
   },
   {
    "duration": 10,
    "start_time": "2024-04-24T14:24:34.942Z"
   },
   {
    "duration": 18,
    "start_time": "2024-04-24T14:24:34.954Z"
   },
   {
    "duration": 23,
    "start_time": "2024-04-24T14:24:34.973Z"
   },
   {
    "duration": 24,
    "start_time": "2024-04-24T14:24:34.998Z"
   },
   {
    "duration": 28,
    "start_time": "2024-04-24T14:24:35.024Z"
   },
   {
    "duration": 58,
    "start_time": "2024-04-24T14:24:35.054Z"
   },
   {
    "duration": 20,
    "start_time": "2024-04-24T14:24:35.113Z"
   },
   {
    "duration": 18,
    "start_time": "2024-04-24T14:24:35.134Z"
   },
   {
    "duration": 51,
    "start_time": "2024-04-24T14:24:35.154Z"
   },
   {
    "duration": 26,
    "start_time": "2024-04-24T14:24:35.207Z"
   },
   {
    "duration": 43,
    "start_time": "2024-04-24T14:24:35.234Z"
   },
   {
    "duration": 13,
    "start_time": "2024-04-24T14:24:35.278Z"
   },
   {
    "duration": 17,
    "start_time": "2024-04-24T14:24:35.292Z"
   },
   {
    "duration": 2820,
    "start_time": "2024-04-24T14:24:35.310Z"
   },
   {
    "duration": 2155,
    "start_time": "2024-04-24T14:24:38.132Z"
   },
   {
    "duration": 26,
    "start_time": "2024-04-24T14:24:40.289Z"
   },
   {
    "duration": 41,
    "start_time": "2024-04-24T14:24:40.319Z"
   },
   {
    "duration": 26,
    "start_time": "2024-04-24T14:24:40.362Z"
   },
   {
    "duration": 51,
    "start_time": "2024-04-24T14:24:40.390Z"
   },
   {
    "duration": 2628,
    "start_time": "2024-04-24T14:24:40.444Z"
   },
   {
    "duration": 30,
    "start_time": "2024-04-24T14:24:43.074Z"
   },
   {
    "duration": 35,
    "start_time": "2024-04-24T14:24:43.106Z"
   },
   {
    "duration": 17,
    "start_time": "2024-04-24T14:24:43.143Z"
   },
   {
    "duration": 108,
    "start_time": "2024-04-24T14:24:43.163Z"
   },
   {
    "duration": 133,
    "start_time": "2024-04-24T14:24:43.275Z"
   },
   {
    "duration": 13,
    "start_time": "2024-04-24T14:28:11.183Z"
   },
   {
    "duration": 3832,
    "start_time": "2024-04-24T14:28:49.863Z"
   },
   {
    "duration": 445,
    "start_time": "2024-04-24T14:28:53.697Z"
   },
   {
    "duration": 3,
    "start_time": "2024-04-24T14:28:54.146Z"
   },
   {
    "duration": 57,
    "start_time": "2024-04-24T14:28:54.151Z"
   },
   {
    "duration": 22,
    "start_time": "2024-04-24T14:28:54.209Z"
   },
   {
    "duration": 12,
    "start_time": "2024-04-24T14:28:54.232Z"
   },
   {
    "duration": 11,
    "start_time": "2024-04-24T14:28:54.246Z"
   },
   {
    "duration": 7,
    "start_time": "2024-04-24T14:28:54.258Z"
   },
   {
    "duration": 14,
    "start_time": "2024-04-24T14:28:54.267Z"
   },
   {
    "duration": 38,
    "start_time": "2024-04-24T14:28:54.282Z"
   },
   {
    "duration": 9,
    "start_time": "2024-04-24T14:28:54.332Z"
   },
   {
    "duration": 21,
    "start_time": "2024-04-24T14:28:54.342Z"
   },
   {
    "duration": 5,
    "start_time": "2024-04-24T14:28:54.365Z"
   },
   {
    "duration": 21,
    "start_time": "2024-04-24T14:28:54.371Z"
   },
   {
    "duration": 43,
    "start_time": "2024-04-24T14:28:54.393Z"
   },
   {
    "duration": 8,
    "start_time": "2024-04-24T14:28:54.437Z"
   },
   {
    "duration": 7,
    "start_time": "2024-04-24T14:28:54.446Z"
   },
   {
    "duration": 6,
    "start_time": "2024-04-24T14:28:54.455Z"
   },
   {
    "duration": 7,
    "start_time": "2024-04-24T14:28:54.463Z"
   },
   {
    "duration": 9,
    "start_time": "2024-04-24T14:28:54.471Z"
   },
   {
    "duration": 38,
    "start_time": "2024-04-24T14:28:54.482Z"
   },
   {
    "duration": 40,
    "start_time": "2024-04-24T14:28:54.533Z"
   },
   {
    "duration": 12,
    "start_time": "2024-04-24T14:28:54.574Z"
   },
   {
    "duration": 8,
    "start_time": "2024-04-24T14:28:54.587Z"
   },
   {
    "duration": 53,
    "start_time": "2024-04-24T14:28:54.597Z"
   },
   {
    "duration": 17,
    "start_time": "2024-04-24T14:28:54.653Z"
   },
   {
    "duration": 28,
    "start_time": "2024-04-24T14:28:54.673Z"
   },
   {
    "duration": 12,
    "start_time": "2024-04-24T14:28:54.715Z"
   },
   {
    "duration": 14,
    "start_time": "2024-04-24T14:28:54.729Z"
   },
   {
    "duration": 2848,
    "start_time": "2024-04-24T14:28:54.745Z"
   },
   {
    "duration": 2089,
    "start_time": "2024-04-24T14:28:57.595Z"
   },
   {
    "duration": 3,
    "start_time": "2024-04-24T14:28:59.687Z"
   },
   {
    "duration": 47,
    "start_time": "2024-04-24T14:28:59.692Z"
   },
   {
    "duration": 3,
    "start_time": "2024-04-24T14:28:59.741Z"
   },
   {
    "duration": 24,
    "start_time": "2024-04-24T14:28:59.746Z"
   },
   {
    "duration": 2532,
    "start_time": "2024-04-24T14:28:59.772Z"
   },
   {
    "duration": 27,
    "start_time": "2024-04-24T14:29:02.306Z"
   },
   {
    "duration": 26,
    "start_time": "2024-04-24T14:29:02.335Z"
   },
   {
    "duration": 13,
    "start_time": "2024-04-24T14:29:02.362Z"
   },
   {
    "duration": 92,
    "start_time": "2024-04-24T14:29:02.377Z"
   },
   {
    "duration": 158,
    "start_time": "2024-04-24T14:29:02.470Z"
   },
   {
    "duration": 19,
    "start_time": "2024-04-24T14:29:46.812Z"
   },
   {
    "duration": 11,
    "start_time": "2024-04-24T14:31:53.022Z"
   },
   {
    "duration": 3719,
    "start_time": "2024-04-24T14:32:01.069Z"
   },
   {
    "duration": 472,
    "start_time": "2024-04-24T14:32:04.789Z"
   },
   {
    "duration": 2,
    "start_time": "2024-04-24T14:32:05.263Z"
   },
   {
    "duration": 46,
    "start_time": "2024-04-24T14:32:05.268Z"
   },
   {
    "duration": 25,
    "start_time": "2024-04-24T14:32:05.327Z"
   },
   {
    "duration": 14,
    "start_time": "2024-04-24T14:32:05.354Z"
   },
   {
    "duration": 10,
    "start_time": "2024-04-24T14:32:05.369Z"
   },
   {
    "duration": 8,
    "start_time": "2024-04-24T14:32:05.381Z"
   },
   {
    "duration": 40,
    "start_time": "2024-04-24T14:32:05.391Z"
   },
   {
    "duration": 30,
    "start_time": "2024-04-24T14:32:05.434Z"
   },
   {
    "duration": 9,
    "start_time": "2024-04-24T14:32:05.466Z"
   },
   {
    "duration": 23,
    "start_time": "2024-04-24T14:32:05.477Z"
   },
   {
    "duration": 7,
    "start_time": "2024-04-24T14:32:05.501Z"
   },
   {
    "duration": 33,
    "start_time": "2024-04-24T14:32:05.510Z"
   },
   {
    "duration": 27,
    "start_time": "2024-04-24T14:32:05.545Z"
   },
   {
    "duration": 6,
    "start_time": "2024-04-24T14:32:05.574Z"
   },
   {
    "duration": 11,
    "start_time": "2024-04-24T14:32:05.582Z"
   },
   {
    "duration": 9,
    "start_time": "2024-04-24T14:32:05.595Z"
   },
   {
    "duration": 26,
    "start_time": "2024-04-24T14:32:05.605Z"
   },
   {
    "duration": 6,
    "start_time": "2024-04-24T14:32:05.634Z"
   },
   {
    "duration": 10,
    "start_time": "2024-04-24T14:32:05.642Z"
   },
   {
    "duration": 76,
    "start_time": "2024-04-24T14:32:05.653Z"
   },
   {
    "duration": 12,
    "start_time": "2024-04-24T14:32:05.730Z"
   },
   {
    "duration": 11,
    "start_time": "2024-04-24T14:32:05.743Z"
   },
   {
    "duration": 49,
    "start_time": "2024-04-24T14:32:05.756Z"
   },
   {
    "duration": 23,
    "start_time": "2024-04-24T14:32:05.807Z"
   },
   {
    "duration": 21,
    "start_time": "2024-04-24T14:32:05.834Z"
   },
   {
    "duration": 5,
    "start_time": "2024-04-24T14:32:05.858Z"
   },
   {
    "duration": 25,
    "start_time": "2024-04-24T14:32:05.864Z"
   },
   {
    "duration": 2841,
    "start_time": "2024-04-24T14:32:05.891Z"
   },
   {
    "duration": 2112,
    "start_time": "2024-04-24T14:32:08.733Z"
   },
   {
    "duration": 4,
    "start_time": "2024-04-24T14:32:10.847Z"
   },
   {
    "duration": 75,
    "start_time": "2024-04-24T14:32:10.852Z"
   },
   {
    "duration": 6,
    "start_time": "2024-04-24T14:32:10.929Z"
   },
   {
    "duration": 36,
    "start_time": "2024-04-24T14:32:10.936Z"
   },
   {
    "duration": 2453,
    "start_time": "2024-04-24T14:32:10.974Z"
   },
   {
    "duration": 24,
    "start_time": "2024-04-24T14:32:13.430Z"
   },
   {
    "duration": 13,
    "start_time": "2024-04-24T14:32:13.455Z"
   },
   {
    "duration": 136,
    "start_time": "2024-04-24T14:32:13.470Z"
   },
   {
    "duration": 0,
    "start_time": "2024-04-24T14:32:13.608Z"
   },
   {
    "duration": 0,
    "start_time": "2024-04-24T14:32:13.614Z"
   },
   {
    "duration": 0,
    "start_time": "2024-04-24T14:32:13.615Z"
   },
   {
    "duration": 258,
    "start_time": "2024-04-24T14:38:03.389Z"
   },
   {
    "duration": 2433,
    "start_time": "2024-04-24T14:38:11.237Z"
   },
   {
    "duration": 2403,
    "start_time": "2024-04-24T14:38:52.083Z"
   },
   {
    "duration": 2404,
    "start_time": "2024-04-24T14:39:05.888Z"
   },
   {
    "duration": 2612,
    "start_time": "2024-04-24T14:39:22.443Z"
   },
   {
    "duration": 2458,
    "start_time": "2024-04-24T14:39:55.372Z"
   },
   {
    "duration": 2538,
    "start_time": "2024-04-24T14:40:28.221Z"
   },
   {
    "duration": 2359,
    "start_time": "2024-04-24T14:40:48.621Z"
   },
   {
    "duration": 2426,
    "start_time": "2024-04-24T14:41:02.393Z"
   },
   {
    "duration": 11,
    "start_time": "2024-04-24T14:45:32.493Z"
   },
   {
    "duration": 22,
    "start_time": "2024-04-24T14:45:38.395Z"
   },
   {
    "duration": 12,
    "start_time": "2024-04-24T14:46:21.758Z"
   },
   {
    "duration": 13,
    "start_time": "2024-04-24T14:46:29.128Z"
   },
   {
    "duration": 88,
    "start_time": "2024-04-24T14:47:02.270Z"
   },
   {
    "duration": 1052,
    "start_time": "2024-04-24T14:47:21.844Z"
   },
   {
    "duration": 74,
    "start_time": "2024-04-24T14:47:32.880Z"
   },
   {
    "duration": 75,
    "start_time": "2024-04-24T14:47:40.832Z"
   },
   {
    "duration": 15,
    "start_time": "2024-04-24T15:35:58.729Z"
   },
   {
    "duration": 19,
    "start_time": "2024-04-24T15:37:43.395Z"
   },
   {
    "duration": 21,
    "start_time": "2024-04-24T15:37:57.949Z"
   },
   {
    "duration": 144,
    "start_time": "2024-04-24T15:45:16.787Z"
   },
   {
    "duration": 26,
    "start_time": "2024-04-24T15:45:25.907Z"
   },
   {
    "duration": 20,
    "start_time": "2024-04-24T15:46:23.490Z"
   },
   {
    "duration": 22,
    "start_time": "2024-04-24T15:46:30.010Z"
   },
   {
    "duration": 20,
    "start_time": "2024-04-24T15:47:45.433Z"
   },
   {
    "duration": 23,
    "start_time": "2024-04-24T15:51:06.496Z"
   },
   {
    "duration": 20,
    "start_time": "2024-04-24T15:51:47.612Z"
   },
   {
    "duration": 2523,
    "start_time": "2024-04-24T15:56:51.969Z"
   },
   {
    "duration": 1943,
    "start_time": "2024-04-24T15:57:01.589Z"
   },
   {
    "duration": 22,
    "start_time": "2024-04-24T16:05:41.801Z"
   },
   {
    "duration": 13,
    "start_time": "2024-04-24T16:05:55.489Z"
   },
   {
    "duration": 25,
    "start_time": "2024-04-24T16:09:24.325Z"
   },
   {
    "duration": 38,
    "start_time": "2024-04-24T16:19:35.076Z"
   },
   {
    "duration": 30,
    "start_time": "2024-04-24T16:19:51.066Z"
   },
   {
    "duration": 44,
    "start_time": "2024-04-24T16:20:28.626Z"
   },
   {
    "duration": 31,
    "start_time": "2024-04-24T16:20:38.544Z"
   },
   {
    "duration": 29,
    "start_time": "2024-04-24T16:21:30.046Z"
   },
   {
    "duration": 23,
    "start_time": "2024-04-24T16:23:30.733Z"
   },
   {
    "duration": 28,
    "start_time": "2024-04-24T16:24:29.200Z"
   },
   {
    "duration": 29,
    "start_time": "2024-04-24T17:26:44.574Z"
   },
   {
    "duration": 15,
    "start_time": "2024-04-24T17:59:28.255Z"
   },
   {
    "duration": 1326,
    "start_time": "2024-04-24T17:59:30.027Z"
   },
   {
    "duration": 534,
    "start_time": "2024-04-24T17:59:43.363Z"
   },
   {
    "duration": 482,
    "start_time": "2024-04-24T17:59:53.981Z"
   },
   {
    "duration": 77,
    "start_time": "2024-04-24T18:00:17.755Z"
   },
   {
    "duration": 12,
    "start_time": "2024-04-24T18:01:06.242Z"
   },
   {
    "duration": 1239,
    "start_time": "2024-04-24T18:01:20.914Z"
   },
   {
    "duration": 1193,
    "start_time": "2024-04-24T18:02:29.431Z"
   },
   {
    "duration": 10,
    "start_time": "2024-04-24T18:03:10.533Z"
   },
   {
    "duration": 1183,
    "start_time": "2024-04-24T18:03:23.324Z"
   },
   {
    "duration": 1235,
    "start_time": "2024-04-24T18:03:53.460Z"
   },
   {
    "duration": 9,
    "start_time": "2024-04-24T18:04:04.972Z"
   },
   {
    "duration": 1222,
    "start_time": "2024-04-24T18:04:08.702Z"
   },
   {
    "duration": 614,
    "start_time": "2024-04-24T18:04:19.307Z"
   },
   {
    "duration": 539,
    "start_time": "2024-04-24T18:04:34.882Z"
   },
   {
    "duration": 469,
    "start_time": "2024-04-24T18:05:09.211Z"
   },
   {
    "duration": 72,
    "start_time": "2024-04-24T18:07:04.653Z"
   },
   {
    "duration": 7084,
    "start_time": "2024-04-24T18:07:12.821Z"
   },
   {
    "duration": 541,
    "start_time": "2024-04-24T18:08:27.668Z"
   },
   {
    "duration": 79,
    "start_time": "2024-04-24T18:10:36.485Z"
   },
   {
    "duration": 7,
    "start_time": "2024-04-24T18:11:04.117Z"
   },
   {
    "duration": 10,
    "start_time": "2024-04-24T18:11:51.478Z"
   },
   {
    "duration": 9,
    "start_time": "2024-04-24T18:12:03.950Z"
   },
   {
    "duration": 13,
    "start_time": "2024-04-24T18:12:57.980Z"
   },
   {
    "duration": 18,
    "start_time": "2024-04-24T18:13:13.296Z"
   },
   {
    "duration": 17,
    "start_time": "2024-04-24T18:13:56.097Z"
   },
   {
    "duration": 16,
    "start_time": "2024-04-24T18:14:16.127Z"
   },
   {
    "duration": 9,
    "start_time": "2024-04-24T18:22:18.181Z"
   },
   {
    "duration": 8,
    "start_time": "2024-04-24T18:23:54.487Z"
   },
   {
    "duration": 17,
    "start_time": "2024-04-24T18:27:24.818Z"
   },
   {
    "duration": 16,
    "start_time": "2024-04-24T18:27:52.089Z"
   },
   {
    "duration": 508,
    "start_time": "2024-04-24T18:30:19.482Z"
   },
   {
    "duration": 17,
    "start_time": "2024-04-24T18:30:51.268Z"
   },
   {
    "duration": 9,
    "start_time": "2024-04-24T18:31:25.499Z"
   },
   {
    "duration": 9,
    "start_time": "2024-04-24T18:31:55.505Z"
   },
   {
    "duration": 17,
    "start_time": "2024-04-24T18:33:43.793Z"
   },
   {
    "duration": 4476,
    "start_time": "2024-04-25T12:19:05.008Z"
   },
   {
    "duration": 352,
    "start_time": "2024-04-25T12:19:10.423Z"
   },
   {
    "duration": 3,
    "start_time": "2024-04-25T12:19:10.777Z"
   },
   {
    "duration": 166,
    "start_time": "2024-04-25T12:19:11.211Z"
   },
   {
    "duration": 13,
    "start_time": "2024-04-25T12:19:11.407Z"
   },
   {
    "duration": 10,
    "start_time": "2024-04-25T12:19:11.625Z"
   },
   {
    "duration": 8,
    "start_time": "2024-04-25T12:19:11.892Z"
   },
   {
    "duration": 5,
    "start_time": "2024-04-25T12:19:12.126Z"
   },
   {
    "duration": 9,
    "start_time": "2024-04-25T12:19:23.678Z"
   },
   {
    "duration": 5,
    "start_time": "2024-04-25T12:19:23.912Z"
   },
   {
    "duration": 8,
    "start_time": "2024-04-25T12:19:24.128Z"
   },
   {
    "duration": 21,
    "start_time": "2024-04-25T12:20:29.233Z"
   },
   {
    "duration": 5,
    "start_time": "2024-04-25T12:20:29.498Z"
   },
   {
    "duration": 16,
    "start_time": "2024-04-25T12:20:30.217Z"
   },
   {
    "duration": 13,
    "start_time": "2024-04-25T12:20:30.665Z"
   },
   {
    "duration": 5,
    "start_time": "2024-04-25T12:20:30.882Z"
   },
   {
    "duration": 4,
    "start_time": "2024-04-25T12:20:31.082Z"
   },
   {
    "duration": 5,
    "start_time": "2024-04-25T12:20:31.298Z"
   },
   {
    "duration": 4,
    "start_time": "2024-04-25T12:20:31.516Z"
   },
   {
    "duration": 5,
    "start_time": "2024-04-25T12:20:31.734Z"
   },
   {
    "duration": 5,
    "start_time": "2024-04-25T12:20:31.933Z"
   },
   {
    "duration": 32,
    "start_time": "2024-04-25T12:20:32.549Z"
   },
   {
    "duration": 9,
    "start_time": "2024-04-25T12:20:32.984Z"
   },
   {
    "duration": 4,
    "start_time": "2024-04-25T12:20:33.233Z"
   },
   {
    "duration": 30,
    "start_time": "2024-04-25T12:20:33.434Z"
   },
   {
    "duration": 12,
    "start_time": "2024-04-25T12:20:33.850Z"
   },
   {
    "duration": 17,
    "start_time": "2024-04-25T12:20:34.050Z"
   },
   {
    "duration": 4,
    "start_time": "2024-04-25T12:20:34.267Z"
   },
   {
    "duration": 11,
    "start_time": "2024-04-25T12:20:34.467Z"
   },
   {
    "duration": 2008,
    "start_time": "2024-04-25T12:20:35.950Z"
   },
   {
    "duration": 1469,
    "start_time": "2024-04-25T12:20:37.959Z"
   },
   {
    "duration": 2,
    "start_time": "2024-04-25T12:20:39.430Z"
   },
   {
    "duration": 27,
    "start_time": "2024-04-25T12:20:39.652Z"
   },
   {
    "duration": 2,
    "start_time": "2024-04-25T12:20:40.085Z"
   },
   {
    "duration": 25,
    "start_time": "2024-04-25T12:20:40.401Z"
   },
   {
    "duration": 1915,
    "start_time": "2024-04-25T12:20:40.669Z"
   },
   {
    "duration": 18,
    "start_time": "2024-04-25T12:20:42.585Z"
   },
   {
    "duration": 10,
    "start_time": "2024-04-25T12:20:42.604Z"
   },
   {
    "duration": 40,
    "start_time": "2024-04-25T12:20:42.615Z"
   },
   {
    "duration": 400,
    "start_time": "2024-04-25T12:20:43.953Z"
   },
   {
    "duration": 14,
    "start_time": "2024-04-25T12:20:44.403Z"
   },
   {
    "duration": 8,
    "start_time": "2024-04-25T12:20:44.920Z"
   },
   {
    "duration": 7,
    "start_time": "2024-04-25T12:20:45.287Z"
   },
   {
    "duration": 14,
    "start_time": "2024-04-25T12:20:46.187Z"
   },
   {
    "duration": 444,
    "start_time": "2024-04-25T12:20:47.154Z"
   },
   {
    "duration": 14,
    "start_time": "2024-04-25T12:20:47.704Z"
   },
   {
    "duration": 8,
    "start_time": "2024-04-25T12:20:48.171Z"
   },
   {
    "duration": 7,
    "start_time": "2024-04-25T12:20:48.671Z"
   },
   {
    "duration": 15,
    "start_time": "2024-04-25T12:20:50.688Z"
   },
   {
    "duration": 43,
    "start_time": "2024-04-25T12:21:32.403Z"
   },
   {
    "duration": 11,
    "start_time": "2024-04-25T12:22:08.897Z"
   },
   {
    "duration": 7,
    "start_time": "2024-04-25T12:22:40.773Z"
   },
   {
    "duration": 351,
    "start_time": "2024-04-25T12:31:51.830Z"
   },
   {
    "duration": 13,
    "start_time": "2024-04-25T12:32:23.804Z"
   },
   {
    "duration": 46,
    "start_time": "2024-04-25T12:37:41.804Z"
   },
   {
    "duration": 114,
    "start_time": "2024-04-25T12:37:49.705Z"
   },
   {
    "duration": 11,
    "start_time": "2024-04-25T12:38:07.595Z"
   },
   {
    "duration": 16,
    "start_time": "2024-04-25T12:40:26.655Z"
   },
   {
    "duration": 9,
    "start_time": "2024-04-25T12:40:40.843Z"
   },
   {
    "duration": 8,
    "start_time": "2024-04-25T12:41:29.658Z"
   },
   {
    "duration": 9,
    "start_time": "2024-04-25T12:42:59.535Z"
   },
   {
    "duration": 9,
    "start_time": "2024-04-25T12:44:52.821Z"
   },
   {
    "duration": 8,
    "start_time": "2024-04-25T12:44:57.022Z"
   },
   {
    "duration": 9,
    "start_time": "2024-04-25T12:45:07.210Z"
   },
   {
    "duration": 7,
    "start_time": "2024-04-25T12:46:16.046Z"
   },
   {
    "duration": 8,
    "start_time": "2024-04-25T12:46:17.181Z"
   },
   {
    "duration": 4,
    "start_time": "2024-04-25T12:46:38.687Z"
   },
   {
    "duration": 22,
    "start_time": "2024-04-25T12:48:48.645Z"
   },
   {
    "duration": 7,
    "start_time": "2024-04-25T12:49:10.500Z"
   },
   {
    "duration": 5,
    "start_time": "2024-04-25T12:49:30.457Z"
   },
   {
    "duration": 381,
    "start_time": "2024-04-25T13:00:49.869Z"
   },
   {
    "duration": 18,
    "start_time": "2024-04-25T13:01:04.706Z"
   },
   {
    "duration": 12,
    "start_time": "2024-04-25T13:02:04.708Z"
   },
   {
    "duration": 19,
    "start_time": "2024-04-25T13:04:11.145Z"
   },
   {
    "duration": 13,
    "start_time": "2024-04-25T13:27:21.378Z"
   },
   {
    "duration": 10,
    "start_time": "2024-04-25T13:28:23.182Z"
   },
   {
    "duration": 11,
    "start_time": "2024-04-25T13:28:35.985Z"
   },
   {
    "duration": 10,
    "start_time": "2024-04-25T13:28:43.089Z"
   },
   {
    "duration": 9,
    "start_time": "2024-04-25T13:29:47.493Z"
   },
   {
    "duration": 10,
    "start_time": "2024-04-25T13:30:49.794Z"
   },
   {
    "duration": 16,
    "start_time": "2024-04-25T13:31:26.272Z"
   },
   {
    "duration": 13,
    "start_time": "2024-04-25T13:31:39.809Z"
   },
   {
    "duration": 10,
    "start_time": "2024-04-25T13:31:52.328Z"
   },
   {
    "duration": 10,
    "start_time": "2024-04-25T13:32:24.690Z"
   },
   {
    "duration": 9,
    "start_time": "2024-04-25T13:35:04.871Z"
   },
   {
    "duration": 9,
    "start_time": "2024-04-25T13:36:06.873Z"
   },
   {
    "duration": 9,
    "start_time": "2024-04-25T13:36:23.879Z"
   },
   {
    "duration": 12,
    "start_time": "2024-04-25T13:36:43.652Z"
   },
   {
    "duration": 9,
    "start_time": "2024-04-25T13:36:56.587Z"
   },
   {
    "duration": 9,
    "start_time": "2024-04-25T13:39:05.545Z"
   },
   {
    "duration": 10,
    "start_time": "2024-04-25T13:39:17.414Z"
   },
   {
    "duration": 9,
    "start_time": "2024-04-25T13:39:28.269Z"
   },
   {
    "duration": 10,
    "start_time": "2024-04-25T13:40:54.478Z"
   },
   {
    "duration": 11,
    "start_time": "2024-04-25T13:50:02.297Z"
   },
   {
    "duration": 10,
    "start_time": "2024-04-25T13:50:59.664Z"
   },
   {
    "duration": 9,
    "start_time": "2024-04-25T13:51:08.083Z"
   },
   {
    "duration": 26,
    "start_time": "2024-04-25T13:51:55.481Z"
   },
   {
    "duration": 9,
    "start_time": "2024-04-25T13:52:02.833Z"
   },
   {
    "duration": 9,
    "start_time": "2024-04-25T13:53:12.388Z"
   },
   {
    "duration": 12,
    "start_time": "2024-04-25T13:59:36.773Z"
   },
   {
    "duration": 10,
    "start_time": "2024-04-25T13:59:43.910Z"
   },
   {
    "duration": 3,
    "start_time": "2024-04-25T14:28:41.843Z"
   },
   {
    "duration": 3,
    "start_time": "2024-04-25T14:28:42.308Z"
   },
   {
    "duration": 36,
    "start_time": "2024-04-25T14:28:43.325Z"
   },
   {
    "duration": 10,
    "start_time": "2024-04-25T14:28:43.810Z"
   },
   {
    "duration": 10,
    "start_time": "2024-04-25T14:28:44.410Z"
   },
   {
    "duration": 8,
    "start_time": "2024-04-25T14:28:44.644Z"
   },
   {
    "duration": 7,
    "start_time": "2024-04-25T14:28:44.895Z"
   },
   {
    "duration": 10,
    "start_time": "2024-04-25T14:28:45.960Z"
   },
   {
    "duration": 5,
    "start_time": "2024-04-25T14:28:46.023Z"
   },
   {
    "duration": 8,
    "start_time": "2024-04-25T14:28:46.227Z"
   },
   {
    "duration": 16,
    "start_time": "2024-04-25T14:28:46.361Z"
   },
   {
    "duration": 5,
    "start_time": "2024-04-25T14:28:46.576Z"
   },
   {
    "duration": 21,
    "start_time": "2024-04-25T14:28:47.161Z"
   },
   {
    "duration": 17,
    "start_time": "2024-04-25T14:28:47.544Z"
   },
   {
    "duration": 8,
    "start_time": "2024-04-25T14:28:47.760Z"
   },
   {
    "duration": 5,
    "start_time": "2024-04-25T14:28:47.944Z"
   },
   {
    "duration": 6,
    "start_time": "2024-04-25T14:28:48.194Z"
   },
   {
    "duration": 5,
    "start_time": "2024-04-25T14:28:48.361Z"
   },
   {
    "duration": 4,
    "start_time": "2024-04-25T14:28:48.577Z"
   },
   {
    "duration": 7,
    "start_time": "2024-04-25T14:28:48.761Z"
   },
   {
    "duration": 40,
    "start_time": "2024-04-25T14:28:49.161Z"
   },
   {
    "duration": 9,
    "start_time": "2024-04-25T14:28:49.579Z"
   },
   {
    "duration": 3,
    "start_time": "2024-04-25T14:28:49.795Z"
   },
   {
    "duration": 41,
    "start_time": "2024-04-25T14:28:49.962Z"
   },
   {
    "duration": 13,
    "start_time": "2024-04-25T14:28:50.378Z"
   },
   {
    "duration": 17,
    "start_time": "2024-04-25T14:28:50.629Z"
   },
   {
    "duration": 3,
    "start_time": "2024-04-25T14:28:50.812Z"
   },
   {
    "duration": 10,
    "start_time": "2024-04-25T14:28:51.012Z"
   },
   {
    "duration": 1965,
    "start_time": "2024-04-25T14:28:52.444Z"
   },
   {
    "duration": 1492,
    "start_time": "2024-04-25T14:28:54.411Z"
   },
   {
    "duration": 3,
    "start_time": "2024-04-25T14:28:55.904Z"
   },
   {
    "duration": 24,
    "start_time": "2024-04-25T14:28:55.908Z"
   },
   {
    "duration": 2,
    "start_time": "2024-04-25T14:28:55.933Z"
   },
   {
    "duration": 19,
    "start_time": "2024-04-25T14:28:55.936Z"
   },
   {
    "duration": 1806,
    "start_time": "2024-04-25T14:28:55.956Z"
   },
   {
    "duration": 15,
    "start_time": "2024-04-25T14:28:57.763Z"
   },
   {
    "duration": 22,
    "start_time": "2024-04-25T14:28:57.780Z"
   },
   {
    "duration": 23,
    "start_time": "2024-04-25T14:28:57.804Z"
   },
   {
    "duration": 11,
    "start_time": "2024-04-25T14:28:57.829Z"
   },
   {
    "duration": 7,
    "start_time": "2024-04-25T14:28:57.841Z"
   },
   {
    "duration": 398,
    "start_time": "2024-04-25T14:28:57.849Z"
   },
   {
    "duration": 15,
    "start_time": "2024-04-25T14:28:58.249Z"
   },
   {
    "duration": 8,
    "start_time": "2024-04-25T14:28:58.265Z"
   },
   {
    "duration": 25,
    "start_time": "2024-04-25T14:28:58.274Z"
   },
   {
    "duration": 17,
    "start_time": "2024-04-25T14:28:58.304Z"
   },
   {
    "duration": 444,
    "start_time": "2024-04-25T14:28:58.547Z"
   },
   {
    "duration": 22,
    "start_time": "2024-04-25T14:28:58.992Z"
   },
   {
    "duration": 7,
    "start_time": "2024-04-25T14:28:59.083Z"
   },
   {
    "duration": 6,
    "start_time": "2024-04-25T14:28:59.332Z"
   },
   {
    "duration": 14,
    "start_time": "2024-04-25T14:29:00.199Z"
   },
   {
    "duration": 377,
    "start_time": "2024-04-25T14:29:01.932Z"
   },
   {
    "duration": 13,
    "start_time": "2024-04-25T14:29:02.315Z"
   },
   {
    "duration": 13,
    "start_time": "2024-04-25T14:29:02.915Z"
   },
   {
    "duration": 45,
    "start_time": "2024-04-25T14:29:04.484Z"
   },
   {
    "duration": 11,
    "start_time": "2024-04-25T14:29:06.466Z"
   },
   {
    "duration": 9,
    "start_time": "2024-04-25T14:29:06.734Z"
   },
   {
    "duration": 9,
    "start_time": "2024-04-25T14:29:07.051Z"
   },
   {
    "duration": 10,
    "start_time": "2024-04-25T14:29:07.334Z"
   },
   {
    "duration": 4393,
    "start_time": "2024-04-26T06:37:11.510Z"
   },
   {
    "duration": 382,
    "start_time": "2024-04-26T06:37:15.905Z"
   },
   {
    "duration": 3,
    "start_time": "2024-04-26T06:37:16.288Z"
   },
   {
    "duration": 196,
    "start_time": "2024-04-26T06:37:16.293Z"
   },
   {
    "duration": 19,
    "start_time": "2024-04-26T06:37:17.691Z"
   },
   {
    "duration": 11,
    "start_time": "2024-04-26T06:37:17.941Z"
   },
   {
    "duration": 9,
    "start_time": "2024-04-26T06:37:18.166Z"
   },
   {
    "duration": 7,
    "start_time": "2024-04-26T06:37:18.777Z"
   },
   {
    "duration": 12,
    "start_time": "2024-04-26T06:37:19.392Z"
   },
   {
    "duration": 5,
    "start_time": "2024-04-26T06:37:19.558Z"
   },
   {
    "duration": 9,
    "start_time": "2024-04-26T06:37:19.782Z"
   },
   {
    "duration": 30,
    "start_time": "2024-04-26T06:37:19.979Z"
   },
   {
    "duration": 7,
    "start_time": "2024-04-26T06:37:20.157Z"
   },
   {
    "duration": 19,
    "start_time": "2024-04-26T06:37:21.511Z"
   },
   {
    "duration": 14,
    "start_time": "2024-04-26T06:37:21.531Z"
   },
   {
    "duration": 5,
    "start_time": "2024-04-26T06:37:21.560Z"
   },
   {
    "duration": 5,
    "start_time": "2024-04-26T06:37:21.776Z"
   },
   {
    "duration": 5,
    "start_time": "2024-04-26T06:37:22.011Z"
   },
   {
    "duration": 5,
    "start_time": "2024-04-26T06:37:22.185Z"
   },
   {
    "duration": 6,
    "start_time": "2024-04-26T06:37:23.654Z"
   },
   {
    "duration": 12,
    "start_time": "2024-04-26T06:37:23.662Z"
   },
   {
    "duration": 51,
    "start_time": "2024-04-26T06:37:23.676Z"
   },
   {
    "duration": 11,
    "start_time": "2024-04-26T06:37:23.729Z"
   },
   {
    "duration": 6,
    "start_time": "2024-04-26T06:37:23.744Z"
   },
   {
    "duration": 44,
    "start_time": "2024-04-26T06:37:23.906Z"
   },
   {
    "duration": 14,
    "start_time": "2024-04-26T06:37:24.780Z"
   },
   {
    "duration": 45,
    "start_time": "2024-04-26T06:37:24.796Z"
   },
   {
    "duration": 4,
    "start_time": "2024-04-26T06:37:24.889Z"
   },
   {
    "duration": 13,
    "start_time": "2024-04-26T06:37:25.105Z"
   },
   {
    "duration": 2496,
    "start_time": "2024-04-26T06:37:27.118Z"
   },
   {
    "duration": 1748,
    "start_time": "2024-04-26T06:37:29.616Z"
   },
   {
    "duration": 3,
    "start_time": "2024-04-26T06:37:31.366Z"
   },
   {
    "duration": 33,
    "start_time": "2024-04-26T06:37:31.370Z"
   },
   {
    "duration": 13,
    "start_time": "2024-04-26T06:37:31.405Z"
   },
   {
    "duration": 41,
    "start_time": "2024-04-26T06:37:31.419Z"
   },
   {
    "duration": 2208,
    "start_time": "2024-04-26T06:37:31.462Z"
   },
   {
    "duration": 21,
    "start_time": "2024-04-26T06:37:33.671Z"
   },
   {
    "duration": 11,
    "start_time": "2024-04-26T06:37:33.693Z"
   },
   {
    "duration": 26,
    "start_time": "2024-04-26T06:37:33.705Z"
   },
   {
    "duration": 19,
    "start_time": "2024-04-26T06:37:33.733Z"
   },
   {
    "duration": 6,
    "start_time": "2024-04-26T06:37:33.754Z"
   },
   {
    "duration": 452,
    "start_time": "2024-04-26T06:37:33.761Z"
   },
   {
    "duration": 15,
    "start_time": "2024-04-26T06:37:34.215Z"
   },
   {
    "duration": 20,
    "start_time": "2024-04-26T06:37:34.231Z"
   },
   {
    "duration": 7,
    "start_time": "2024-04-26T06:37:34.252Z"
   },
   {
    "duration": 15,
    "start_time": "2024-04-26T06:37:34.260Z"
   },
   {
    "duration": 555,
    "start_time": "2024-04-26T06:37:34.277Z"
   },
   {
    "duration": 19,
    "start_time": "2024-04-26T06:37:34.833Z"
   },
   {
    "duration": 7,
    "start_time": "2024-04-26T06:37:34.853Z"
   },
   {
    "duration": 8,
    "start_time": "2024-04-26T06:37:34.866Z"
   },
   {
    "duration": 22,
    "start_time": "2024-04-26T06:37:34.877Z"
   },
   {
    "duration": 484,
    "start_time": "2024-04-26T06:37:34.901Z"
   },
   {
    "duration": 15,
    "start_time": "2024-04-26T06:37:35.386Z"
   },
   {
    "duration": 15,
    "start_time": "2024-04-26T06:37:35.657Z"
   },
   {
    "duration": 100,
    "start_time": "2024-04-26T06:37:37.023Z"
   },
   {
    "duration": 11,
    "start_time": "2024-04-26T06:37:38.276Z"
   },
   {
    "duration": 11,
    "start_time": "2024-04-26T06:37:38.493Z"
   },
   {
    "duration": 11,
    "start_time": "2024-04-26T06:37:38.714Z"
   },
   {
    "duration": 18,
    "start_time": "2024-04-26T06:37:38.944Z"
   },
   {
    "duration": 109,
    "start_time": "2024-04-26T06:40:40.947Z"
   },
   {
    "duration": 15,
    "start_time": "2024-04-26T06:44:15.195Z"
   },
   {
    "duration": 18,
    "start_time": "2024-04-26T06:44:15.212Z"
   },
   {
    "duration": 15,
    "start_time": "2024-04-26T06:44:52.025Z"
   },
   {
    "duration": 7,
    "start_time": "2024-04-26T06:44:52.980Z"
   },
   {
    "duration": 17,
    "start_time": "2024-04-26T08:26:24.018Z"
   },
   {
    "duration": 7,
    "start_time": "2024-04-26T08:26:24.365Z"
   },
   {
    "duration": 18,
    "start_time": "2024-04-26T08:28:13.851Z"
   },
   {
    "duration": 16,
    "start_time": "2024-04-26T08:28:33.963Z"
   },
   {
    "duration": 7,
    "start_time": "2024-04-26T08:28:35.157Z"
   },
   {
    "duration": 16,
    "start_time": "2024-04-26T08:28:49.979Z"
   },
   {
    "duration": 16,
    "start_time": "2024-04-26T08:29:23.778Z"
   },
   {
    "duration": 7,
    "start_time": "2024-04-26T08:29:25.105Z"
   },
   {
    "duration": 16,
    "start_time": "2024-04-26T08:31:46.551Z"
   },
   {
    "duration": 7,
    "start_time": "2024-04-26T08:31:47.080Z"
   },
   {
    "duration": 16,
    "start_time": "2024-04-26T08:31:59.089Z"
   },
   {
    "duration": 7,
    "start_time": "2024-04-26T08:31:59.650Z"
   },
   {
    "duration": 19,
    "start_time": "2024-04-26T08:33:19.055Z"
   },
   {
    "duration": 6,
    "start_time": "2024-04-26T08:33:19.535Z"
   },
   {
    "duration": 22,
    "start_time": "2024-04-26T08:34:10.854Z"
   },
   {
    "duration": 7,
    "start_time": "2024-04-26T08:34:10.980Z"
   },
   {
    "duration": 22,
    "start_time": "2024-04-26T08:34:37.741Z"
   },
   {
    "duration": 7,
    "start_time": "2024-04-26T08:34:37.919Z"
   },
   {
    "duration": 24,
    "start_time": "2024-04-26T08:35:25.450Z"
   },
   {
    "duration": 7,
    "start_time": "2024-04-26T08:35:26.036Z"
   },
   {
    "duration": 25,
    "start_time": "2024-04-26T08:36:52.420Z"
   },
   {
    "duration": 6,
    "start_time": "2024-04-26T08:36:53.018Z"
   },
   {
    "duration": 24,
    "start_time": "2024-04-26T08:37:11.898Z"
   },
   {
    "duration": 7,
    "start_time": "2024-04-26T08:37:12.899Z"
   },
   {
    "duration": 22,
    "start_time": "2024-04-26T08:38:55.860Z"
   },
   {
    "duration": 7,
    "start_time": "2024-04-26T08:38:56.807Z"
   },
   {
    "duration": 12,
    "start_time": "2024-04-26T08:50:58.269Z"
   },
   {
    "duration": 57,
    "start_time": "2024-04-26T08:51:38.766Z"
   },
   {
    "duration": 17,
    "start_time": "2024-04-26T08:57:58.633Z"
   },
   {
    "duration": 13,
    "start_time": "2024-04-26T08:58:00.817Z"
   },
   {
    "duration": 19,
    "start_time": "2024-04-26T08:58:49.968Z"
   },
   {
    "duration": 12,
    "start_time": "2024-04-26T08:58:54.185Z"
   },
   {
    "duration": 18,
    "start_time": "2024-04-26T08:59:09.590Z"
   },
   {
    "duration": 53,
    "start_time": "2024-04-26T09:23:27.026Z"
   },
   {
    "duration": 24,
    "start_time": "2024-04-26T09:23:48.465Z"
   },
   {
    "duration": 7,
    "start_time": "2024-04-26T09:23:49.682Z"
   },
   {
    "duration": 20,
    "start_time": "2024-04-26T09:24:15.671Z"
   },
   {
    "duration": 8,
    "start_time": "2024-04-26T09:24:16.488Z"
   },
   {
    "duration": 67,
    "start_time": "2024-04-26T09:25:14.606Z"
   },
   {
    "duration": 43,
    "start_time": "2024-04-26T09:25:43.563Z"
   },
   {
    "duration": 44,
    "start_time": "2024-04-26T09:25:55.218Z"
   },
   {
    "duration": 7,
    "start_time": "2024-04-26T09:25:57.083Z"
   },
   {
    "duration": 510,
    "start_time": "2024-04-26T09:26:16.423Z"
   },
   {
    "duration": 54,
    "start_time": "2024-04-26T09:26:33.062Z"
   },
   {
    "duration": 301,
    "start_time": "2024-04-26T09:27:00.203Z"
   },
   {
    "duration": 100,
    "start_time": "2024-04-26T09:27:08.588Z"
   },
   {
    "duration": 163,
    "start_time": "2024-04-26T09:27:19.876Z"
   },
   {
    "duration": 42,
    "start_time": "2024-04-26T09:27:51.617Z"
   },
   {
    "duration": 47,
    "start_time": "2024-04-26T09:28:08.505Z"
   },
   {
    "duration": 8,
    "start_time": "2024-04-26T09:28:11.523Z"
   },
   {
    "duration": 21,
    "start_time": "2024-04-26T09:31:42.285Z"
   },
   {
    "duration": 9,
    "start_time": "2024-04-26T09:31:43.536Z"
   },
   {
    "duration": 46,
    "start_time": "2024-04-26T09:31:48.737Z"
   },
   {
    "duration": 39,
    "start_time": "2024-04-26T09:32:13.578Z"
   },
   {
    "duration": 18,
    "start_time": "2024-04-26T09:54:09.982Z"
   },
   {
    "duration": 19,
    "start_time": "2024-04-26T09:54:26.754Z"
   },
   {
    "duration": 8,
    "start_time": "2024-04-26T09:56:07.219Z"
   },
   {
    "duration": 9,
    "start_time": "2024-04-26T09:56:36.780Z"
   },
   {
    "duration": 20,
    "start_time": "2024-04-26T09:57:42.550Z"
   },
   {
    "duration": 10,
    "start_time": "2024-04-26T09:58:05.207Z"
   },
   {
    "duration": 13,
    "start_time": "2024-04-26T09:58:41.686Z"
   },
   {
    "duration": 13,
    "start_time": "2024-04-26T09:58:47.136Z"
   },
   {
    "duration": 11,
    "start_time": "2024-04-26T10:04:04.103Z"
   },
   {
    "duration": 14,
    "start_time": "2024-04-26T10:04:34.281Z"
   },
   {
    "duration": 11,
    "start_time": "2024-04-26T10:04:41.015Z"
   },
   {
    "duration": 18,
    "start_time": "2024-04-26T10:07:38.721Z"
   },
   {
    "duration": 11,
    "start_time": "2024-04-26T10:07:45.158Z"
   },
   {
    "duration": 18,
    "start_time": "2024-04-26T10:08:50.010Z"
   },
   {
    "duration": 11,
    "start_time": "2024-04-26T10:09:04.213Z"
   },
   {
    "duration": 46,
    "start_time": "2024-04-26T10:10:52.433Z"
   },
   {
    "duration": 22,
    "start_time": "2024-04-26T10:11:12.287Z"
   },
   {
    "duration": 23,
    "start_time": "2024-04-26T10:11:26.408Z"
   },
   {
    "duration": 21,
    "start_time": "2024-04-26T10:11:34.844Z"
   },
   {
    "duration": 17,
    "start_time": "2024-04-26T10:13:07.294Z"
   },
   {
    "duration": 15,
    "start_time": "2024-04-26T10:13:12.991Z"
   },
   {
    "duration": 23,
    "start_time": "2024-04-26T10:13:30.948Z"
   },
   {
    "duration": 11,
    "start_time": "2024-04-26T10:13:36.232Z"
   },
   {
    "duration": 26,
    "start_time": "2024-04-26T10:21:50.237Z"
   },
   {
    "duration": 11,
    "start_time": "2024-04-26T10:21:52.453Z"
   },
   {
    "duration": 16,
    "start_time": "2024-04-26T10:22:51.689Z"
   },
   {
    "duration": 12,
    "start_time": "2024-04-26T10:23:00.493Z"
   },
   {
    "duration": 3,
    "start_time": "2024-04-26T11:26:40.303Z"
   },
   {
    "duration": 44,
    "start_time": "2024-04-26T11:26:41.219Z"
   },
   {
    "duration": 13,
    "start_time": "2024-04-26T11:26:41.937Z"
   },
   {
    "duration": 14,
    "start_time": "2024-04-26T11:26:42.786Z"
   },
   {
    "duration": 11,
    "start_time": "2024-04-26T11:26:43.770Z"
   },
   {
    "duration": 13,
    "start_time": "2024-04-26T11:26:44.036Z"
   },
   {
    "duration": 25,
    "start_time": "2024-04-26T11:26:45.137Z"
   },
   {
    "duration": 6,
    "start_time": "2024-04-26T11:26:45.371Z"
   },
   {
    "duration": 9,
    "start_time": "2024-04-26T11:26:45.572Z"
   },
   {
    "duration": 22,
    "start_time": "2024-04-26T11:26:45.805Z"
   },
   {
    "duration": 6,
    "start_time": "2024-04-26T11:26:46.022Z"
   },
   {
    "duration": 20,
    "start_time": "2024-04-26T11:26:46.655Z"
   },
   {
    "duration": 15,
    "start_time": "2024-04-26T11:26:47.089Z"
   },
   {
    "duration": 9,
    "start_time": "2024-04-26T11:26:47.338Z"
   },
   {
    "duration": 5,
    "start_time": "2024-04-26T11:26:47.558Z"
   },
   {
    "duration": 6,
    "start_time": "2024-04-26T11:26:47.804Z"
   },
   {
    "duration": 11,
    "start_time": "2024-04-26T11:26:48.038Z"
   },
   {
    "duration": 8,
    "start_time": "2024-04-26T11:26:48.238Z"
   },
   {
    "duration": 6,
    "start_time": "2024-04-26T11:26:48.488Z"
   },
   {
    "duration": 45,
    "start_time": "2024-04-26T11:26:48.938Z"
   },
   {
    "duration": 12,
    "start_time": "2024-04-26T11:26:49.358Z"
   },
   {
    "duration": 4,
    "start_time": "2024-04-26T11:26:49.572Z"
   },
   {
    "duration": 41,
    "start_time": "2024-04-26T11:26:49.824Z"
   },
   {
    "duration": 14,
    "start_time": "2024-04-26T11:26:50.272Z"
   },
   {
    "duration": 19,
    "start_time": "2024-04-26T11:26:50.507Z"
   },
   {
    "duration": 3,
    "start_time": "2024-04-26T11:26:50.740Z"
   },
   {
    "duration": 13,
    "start_time": "2024-04-26T11:26:50.973Z"
   },
   {
    "duration": 2659,
    "start_time": "2024-04-26T11:26:52.774Z"
   },
   {
    "duration": 1972,
    "start_time": "2024-04-26T11:26:55.436Z"
   },
   {
    "duration": 4,
    "start_time": "2024-04-26T11:27:00.576Z"
   },
   {
    "duration": 32,
    "start_time": "2024-04-26T11:27:01.843Z"
   },
   {
    "duration": 2,
    "start_time": "2024-04-26T11:27:03.327Z"
   },
   {
    "duration": 29,
    "start_time": "2024-04-26T11:27:04.127Z"
   },
   {
    "duration": 2462,
    "start_time": "2024-04-26T11:27:05.104Z"
   },
   {
    "duration": 29,
    "start_time": "2024-04-26T11:27:10.345Z"
   },
   {
    "duration": 27,
    "start_time": "2024-04-26T11:27:11.697Z"
   },
   {
    "duration": 13,
    "start_time": "2024-04-26T11:27:21.732Z"
   },
   {
    "duration": 478,
    "start_time": "2024-04-26T11:27:28.419Z"
   },
   {
    "duration": 16,
    "start_time": "2024-04-26T11:27:28.898Z"
   },
   {
    "duration": 8,
    "start_time": "2024-04-26T11:27:28.933Z"
   },
   {
    "duration": 8,
    "start_time": "2024-04-26T11:27:29.885Z"
   },
   {
    "duration": 18,
    "start_time": "2024-04-26T11:27:30.418Z"
   },
   {
    "duration": 476,
    "start_time": "2024-04-26T11:27:30.935Z"
   },
   {
    "duration": 14,
    "start_time": "2024-04-26T11:27:31.413Z"
   },
   {
    "duration": 32,
    "start_time": "2024-04-26T11:27:31.429Z"
   },
   {
    "duration": 8,
    "start_time": "2024-04-26T11:27:31.685Z"
   },
   {
    "duration": 15,
    "start_time": "2024-04-26T11:27:32.186Z"
   },
   {
    "duration": 612,
    "start_time": "2024-04-26T11:27:32.702Z"
   },
   {
    "duration": 16,
    "start_time": "2024-04-26T11:27:33.316Z"
   },
   {
    "duration": 14,
    "start_time": "2024-04-26T11:27:35.020Z"
   },
   {
    "duration": 11,
    "start_time": "2024-04-26T11:27:39.170Z"
   },
   {
    "duration": 19,
    "start_time": "2024-04-26T11:27:40.938Z"
   },
   {
    "duration": 11,
    "start_time": "2024-04-26T11:27:42.007Z"
   },
   {
    "duration": 10,
    "start_time": "2024-04-26T11:27:45.491Z"
   },
   {
    "duration": 12,
    "start_time": "2024-04-26T11:28:21.202Z"
   },
   {
    "duration": 11,
    "start_time": "2024-04-26T11:31:19.290Z"
   },
   {
    "duration": 12,
    "start_time": "2024-04-26T11:31:27.459Z"
   },
   {
    "duration": 10,
    "start_time": "2024-04-26T11:31:47.132Z"
   },
   {
    "duration": 10,
    "start_time": "2024-04-26T11:32:01.186Z"
   },
   {
    "duration": 11,
    "start_time": "2024-04-26T11:32:25.927Z"
   },
   {
    "duration": 10,
    "start_time": "2024-04-26T11:33:28.916Z"
   },
   {
    "duration": 11,
    "start_time": "2024-04-26T11:33:43.718Z"
   },
   {
    "duration": 16,
    "start_time": "2024-04-26T11:34:08.828Z"
   },
   {
    "duration": 13,
    "start_time": "2024-04-26T11:34:33.619Z"
   },
   {
    "duration": 10,
    "start_time": "2024-04-26T11:34:44.222Z"
   },
   {
    "duration": 18,
    "start_time": "2024-04-26T11:36:35.872Z"
   },
   {
    "duration": 11,
    "start_time": "2024-04-26T11:36:41.740Z"
   },
   {
    "duration": 10,
    "start_time": "2024-04-26T11:37:53.411Z"
   },
   {
    "duration": 10,
    "start_time": "2024-04-26T11:38:07.834Z"
   },
   {
    "duration": 10,
    "start_time": "2024-04-26T11:38:15.253Z"
   },
   {
    "duration": 11,
    "start_time": "2024-04-26T11:38:20.007Z"
   },
   {
    "duration": 10,
    "start_time": "2024-04-26T11:38:26.189Z"
   },
   {
    "duration": 10,
    "start_time": "2024-04-26T11:38:32.124Z"
   },
   {
    "duration": 12,
    "start_time": "2024-04-26T11:38:38.661Z"
   },
   {
    "duration": 10,
    "start_time": "2024-04-26T11:38:49.729Z"
   },
   {
    "duration": 9,
    "start_time": "2024-04-26T11:39:01.652Z"
   },
   {
    "duration": 10,
    "start_time": "2024-04-26T11:39:09.915Z"
   },
   {
    "duration": 11,
    "start_time": "2024-04-26T11:40:09.240Z"
   },
   {
    "duration": 11,
    "start_time": "2024-04-26T11:40:26.811Z"
   },
   {
    "duration": 10,
    "start_time": "2024-04-26T11:40:38.965Z"
   },
   {
    "duration": 11,
    "start_time": "2024-04-26T11:41:03.622Z"
   },
   {
    "duration": 11,
    "start_time": "2024-04-26T11:41:13.409Z"
   },
   {
    "duration": 11,
    "start_time": "2024-04-26T11:41:22.961Z"
   },
   {
    "duration": 12,
    "start_time": "2024-04-26T11:41:35.248Z"
   },
   {
    "duration": 11,
    "start_time": "2024-04-26T11:44:22.300Z"
   },
   {
    "duration": 11,
    "start_time": "2024-04-26T11:45:04.897Z"
   },
   {
    "duration": 11,
    "start_time": "2024-04-26T11:45:15.235Z"
   },
   {
    "duration": 34,
    "start_time": "2024-04-26T11:49:27.381Z"
   },
   {
    "duration": 11,
    "start_time": "2024-04-26T11:49:34.317Z"
   },
   {
    "duration": 12,
    "start_time": "2024-04-26T11:52:54.411Z"
   },
   {
    "duration": 12,
    "start_time": "2024-04-26T11:53:04.132Z"
   },
   {
    "duration": 13,
    "start_time": "2024-04-26T11:53:18.569Z"
   },
   {
    "duration": 10,
    "start_time": "2024-04-26T11:53:57.614Z"
   },
   {
    "duration": 10,
    "start_time": "2024-04-26T11:54:20.070Z"
   },
   {
    "duration": 13,
    "start_time": "2024-04-26T11:56:30.010Z"
   },
   {
    "duration": 11,
    "start_time": "2024-04-26T11:57:08.173Z"
   },
   {
    "duration": 11,
    "start_time": "2024-04-26T11:57:30.448Z"
   },
   {
    "duration": 11,
    "start_time": "2024-04-26T11:57:36.715Z"
   },
   {
    "duration": 12,
    "start_time": "2024-04-26T11:58:27.665Z"
   },
   {
    "duration": 13,
    "start_time": "2024-04-26T11:58:41.035Z"
   },
   {
    "duration": 10,
    "start_time": "2024-04-26T12:02:10.600Z"
   },
   {
    "duration": 11,
    "start_time": "2024-04-26T12:02:10.850Z"
   },
   {
    "duration": 10,
    "start_time": "2024-04-26T12:02:11.067Z"
   },
   {
    "duration": 10,
    "start_time": "2024-04-26T12:02:11.319Z"
   },
   {
    "duration": 11,
    "start_time": "2024-04-26T12:02:11.550Z"
   },
   {
    "duration": 14,
    "start_time": "2024-04-26T12:27:18.395Z"
   },
   {
    "duration": 11,
    "start_time": "2024-04-26T12:27:19.895Z"
   },
   {
    "duration": 13,
    "start_time": "2024-04-26T12:27:20.762Z"
   },
   {
    "duration": 14,
    "start_time": "2024-04-26T12:27:21.349Z"
   },
   {
    "duration": 11,
    "start_time": "2024-04-26T12:27:21.730Z"
   },
   {
    "duration": 11,
    "start_time": "2024-04-26T12:48:50.649Z"
   },
   {
    "duration": 16,
    "start_time": "2024-04-26T12:48:57.735Z"
   },
   {
    "duration": 11,
    "start_time": "2024-04-26T12:49:08.108Z"
   },
   {
    "duration": 11,
    "start_time": "2024-04-26T12:49:18.975Z"
   },
   {
    "duration": 12,
    "start_time": "2024-04-26T12:49:32.248Z"
   },
   {
    "duration": 11,
    "start_time": "2024-04-26T12:49:45.753Z"
   },
   {
    "duration": 11,
    "start_time": "2024-04-26T12:49:56.152Z"
   },
   {
    "duration": 11,
    "start_time": "2024-04-26T12:50:03.806Z"
   },
   {
    "duration": 11,
    "start_time": "2024-04-26T12:50:14.893Z"
   },
   {
    "duration": 12,
    "start_time": "2024-04-26T12:50:21.646Z"
   },
   {
    "duration": 11,
    "start_time": "2024-04-26T12:50:32.316Z"
   },
   {
    "duration": 11,
    "start_time": "2024-04-26T12:50:38.534Z"
   },
   {
    "duration": 11,
    "start_time": "2024-04-26T12:50:55.771Z"
   },
   {
    "duration": 12,
    "start_time": "2024-04-26T12:51:03.293Z"
   },
   {
    "duration": 12,
    "start_time": "2024-04-26T12:51:08.557Z"
   },
   {
    "duration": 11,
    "start_time": "2024-04-26T12:51:18.462Z"
   },
   {
    "duration": 12,
    "start_time": "2024-04-26T12:51:27.066Z"
   },
   {
    "duration": 12,
    "start_time": "2024-04-26T12:51:51.390Z"
   },
   {
    "duration": 11,
    "start_time": "2024-04-26T12:52:36.888Z"
   },
   {
    "duration": 11,
    "start_time": "2024-04-26T12:53:26.699Z"
   },
   {
    "duration": 11,
    "start_time": "2024-04-26T12:53:33.208Z"
   },
   {
    "duration": 11,
    "start_time": "2024-04-26T12:53:40.340Z"
   },
   {
    "duration": 14,
    "start_time": "2024-04-26T12:53:47.712Z"
   },
   {
    "duration": 28,
    "start_time": "2024-04-26T13:56:52.541Z"
   },
   {
    "duration": 3,
    "start_time": "2024-04-26T14:10:24.685Z"
   },
   {
    "duration": 39,
    "start_time": "2024-04-26T14:10:25.580Z"
   },
   {
    "duration": 12,
    "start_time": "2024-04-26T14:10:26.085Z"
   },
   {
    "duration": 13,
    "start_time": "2024-04-26T14:10:26.635Z"
   },
   {
    "duration": 39,
    "start_time": "2024-04-26T14:11:46.709Z"
   },
   {
    "duration": 11,
    "start_time": "2024-04-26T14:11:47.377Z"
   },
   {
    "duration": 11,
    "start_time": "2024-04-26T14:11:48.228Z"
   },
   {
    "duration": 11,
    "start_time": "2024-04-26T14:11:54.997Z"
   },
   {
    "duration": 10,
    "start_time": "2024-04-26T14:11:55.863Z"
   },
   {
    "duration": 7,
    "start_time": "2024-04-26T14:11:58.147Z"
   },
   {
    "duration": 12,
    "start_time": "2024-04-26T14:12:51.563Z"
   },
   {
    "duration": 6,
    "start_time": "2024-04-26T14:12:53.681Z"
   },
   {
    "duration": 8,
    "start_time": "2024-04-26T14:12:55.665Z"
   },
   {
    "duration": 19,
    "start_time": "2024-04-26T14:12:56.698Z"
   },
   {
    "duration": 6,
    "start_time": "2024-04-26T14:13:03.585Z"
   },
   {
    "duration": 18,
    "start_time": "2024-04-26T14:13:15.237Z"
   },
   {
    "duration": 14,
    "start_time": "2024-04-26T14:13:27.074Z"
   },
   {
    "duration": 6,
    "start_time": "2024-04-26T14:13:31.625Z"
   },
   {
    "duration": 5,
    "start_time": "2024-04-26T14:13:31.993Z"
   },
   {
    "duration": 5,
    "start_time": "2024-04-26T14:13:38.878Z"
   },
   {
    "duration": 5,
    "start_time": "2024-04-26T14:13:49.383Z"
   },
   {
    "duration": 5,
    "start_time": "2024-04-26T14:13:49.666Z"
   },
   {
    "duration": 5,
    "start_time": "2024-04-26T14:13:49.949Z"
   },
   {
    "duration": 34,
    "start_time": "2024-04-26T14:13:50.716Z"
   },
   {
    "duration": 11,
    "start_time": "2024-04-26T14:14:01.501Z"
   },
   {
    "duration": 4,
    "start_time": "2024-04-26T14:14:07.271Z"
   },
   {
    "duration": 38,
    "start_time": "2024-04-26T14:14:12.506Z"
   },
   {
    "duration": 14,
    "start_time": "2024-04-26T14:14:19.074Z"
   },
   {
    "duration": 12,
    "start_time": "2024-04-26T14:14:26.511Z"
   },
   {
    "duration": 18,
    "start_time": "2024-04-26T14:14:58.422Z"
   },
   {
    "duration": 4,
    "start_time": "2024-04-26T14:14:59.887Z"
   },
   {
    "duration": 12,
    "start_time": "2024-04-26T14:15:05.623Z"
   },
   {
    "duration": 2451,
    "start_time": "2024-04-26T14:24:17.378Z"
   },
   {
    "duration": 2560,
    "start_time": "2024-04-26T14:26:33.370Z"
   },
   {
    "duration": 1864,
    "start_time": "2024-04-26T14:26:50.124Z"
   },
   {
    "duration": 3,
    "start_time": "2024-04-26T14:26:57.343Z"
   },
   {
    "duration": 30,
    "start_time": "2024-04-26T14:26:57.710Z"
   },
   {
    "duration": 17,
    "start_time": "2024-04-26T14:27:18.954Z"
   },
   {
    "duration": 3,
    "start_time": "2024-04-26T14:27:33.070Z"
   },
   {
    "duration": 3,
    "start_time": "2024-04-26T14:28:01.413Z"
   },
   {
    "duration": 21,
    "start_time": "2024-04-26T14:28:04.214Z"
   },
   {
    "duration": 2207,
    "start_time": "2024-04-26T14:28:05.064Z"
   },
   {
    "duration": 29,
    "start_time": "2024-04-26T14:28:46.593Z"
   },
   {
    "duration": 12,
    "start_time": "2024-04-26T14:28:49.178Z"
   },
   {
    "duration": 12,
    "start_time": "2024-04-26T14:29:12.785Z"
   },
   {
    "duration": 12,
    "start_time": "2024-04-26T14:29:25.857Z"
   },
   {
    "duration": 11,
    "start_time": "2024-04-26T14:29:32.675Z"
   },
   {
    "duration": 12,
    "start_time": "2024-04-26T14:30:04.067Z"
   },
   {
    "duration": 497,
    "start_time": "2024-04-26T14:30:14.038Z"
   },
   {
    "duration": 606,
    "start_time": "2024-04-26T14:30:34.561Z"
   },
   {
    "duration": 458,
    "start_time": "2024-04-26T14:30:44.466Z"
   },
   {
    "duration": 9,
    "start_time": "2024-04-26T14:31:51.836Z"
   },
   {
    "duration": 15,
    "start_time": "2024-04-26T14:32:12.457Z"
   },
   {
    "duration": 474,
    "start_time": "2024-04-26T14:33:41.218Z"
   },
   {
    "duration": 64,
    "start_time": "2024-04-26T14:33:42.202Z"
   },
   {
    "duration": 24,
    "start_time": "2024-04-26T14:33:42.635Z"
   },
   {
    "duration": 62,
    "start_time": "2024-04-26T14:34:13.554Z"
   },
   {
    "duration": 486,
    "start_time": "2024-04-26T14:34:21.983Z"
   },
   {
    "duration": 59,
    "start_time": "2024-04-26T14:35:16.517Z"
   },
   {
    "duration": 610,
    "start_time": "2024-04-26T14:35:33.386Z"
   },
   {
    "duration": 529,
    "start_time": "2024-04-26T14:35:39.138Z"
   },
   {
    "duration": 482,
    "start_time": "2024-04-26T14:35:52.511Z"
   },
   {
    "duration": 498,
    "start_time": "2024-04-26T14:35:57.395Z"
   },
   {
    "duration": 587,
    "start_time": "2024-04-26T14:36:41.045Z"
   },
   {
    "duration": 489,
    "start_time": "2024-04-26T14:36:46.559Z"
   },
   {
    "duration": 482,
    "start_time": "2024-04-26T14:36:52.932Z"
   },
   {
    "duration": 599,
    "start_time": "2024-04-26T14:37:00.254Z"
   },
   {
    "duration": 461,
    "start_time": "2024-04-26T14:37:32.027Z"
   },
   {
    "duration": 56,
    "start_time": "2024-04-26T14:38:10.819Z"
   },
   {
    "duration": 40,
    "start_time": "2024-04-26T14:38:17.038Z"
   },
   {
    "duration": 54,
    "start_time": "2024-04-26T14:38:30.912Z"
   },
   {
    "duration": 467,
    "start_time": "2024-04-26T14:38:41.395Z"
   },
   {
    "duration": 55,
    "start_time": "2024-04-26T14:40:44.655Z"
   },
   {
    "duration": 479,
    "start_time": "2024-04-26T14:41:41.534Z"
   },
   {
    "duration": 634,
    "start_time": "2024-04-26T14:41:57.507Z"
   },
   {
    "duration": 2566,
    "start_time": "2024-04-26T14:42:19.166Z"
   },
   {
    "duration": 2403,
    "start_time": "2024-04-26T14:42:34.101Z"
   },
   {
    "duration": 1849,
    "start_time": "2024-04-26T14:42:59.793Z"
   },
   {
    "duration": 573,
    "start_time": "2024-04-26T14:43:21.051Z"
   },
   {
    "duration": 526,
    "start_time": "2024-04-26T14:47:02.354Z"
   },
   {
    "duration": 61,
    "start_time": "2024-04-26T14:47:03.618Z"
   },
   {
    "duration": 15,
    "start_time": "2024-04-26T14:47:04.218Z"
   },
   {
    "duration": 9,
    "start_time": "2024-04-26T14:47:04.635Z"
   },
   {
    "duration": 7,
    "start_time": "2024-04-26T14:47:04.985Z"
   },
   {
    "duration": 17,
    "start_time": "2024-04-26T14:47:05.584Z"
   },
   {
    "duration": 506,
    "start_time": "2024-04-26T14:47:06.154Z"
   },
   {
    "duration": 10,
    "start_time": "2024-04-26T14:47:06.662Z"
   },
   {
    "duration": 8,
    "start_time": "2024-04-26T14:47:06.755Z"
   },
   {
    "duration": 8,
    "start_time": "2024-04-26T14:47:07.537Z"
   },
   {
    "duration": 16,
    "start_time": "2024-04-26T14:47:08.304Z"
   },
   {
    "duration": 480,
    "start_time": "2024-04-26T14:47:09.387Z"
   },
   {
    "duration": 631,
    "start_time": "2024-04-26T14:47:31.427Z"
   },
   {
    "duration": 20,
    "start_time": "2024-04-26T14:47:36.445Z"
   },
   {
    "duration": 15,
    "start_time": "2024-04-26T14:47:36.996Z"
   },
   {
    "duration": 11,
    "start_time": "2024-04-26T14:48:33.454Z"
   },
   {
    "duration": 12,
    "start_time": "2024-04-26T14:49:04.808Z"
   },
   {
    "duration": 15,
    "start_time": "2024-04-26T14:49:48.970Z"
   },
   {
    "duration": 12,
    "start_time": "2024-04-26T14:50:11.227Z"
   },
   {
    "duration": 12,
    "start_time": "2024-04-26T14:50:29.066Z"
   },
   {
    "duration": 16,
    "start_time": "2024-04-26T14:50:37.453Z"
   },
   {
    "duration": 13,
    "start_time": "2024-04-26T14:50:50.155Z"
   },
   {
    "duration": 15,
    "start_time": "2024-04-26T14:59:36.469Z"
   },
   {
    "duration": 1518,
    "start_time": "2024-04-26T15:07:22.140Z"
   },
   {
    "duration": 42,
    "start_time": "2024-04-26T15:07:23.660Z"
   },
   {
    "duration": 15,
    "start_time": "2024-04-26T15:07:23.703Z"
   },
   {
    "duration": 32,
    "start_time": "2024-04-26T15:07:23.720Z"
   },
   {
    "duration": 8,
    "start_time": "2024-04-26T15:07:23.754Z"
   },
   {
    "duration": 8,
    "start_time": "2024-04-26T15:07:23.763Z"
   },
   {
    "duration": 13,
    "start_time": "2024-04-26T15:07:23.773Z"
   },
   {
    "duration": 37,
    "start_time": "2024-04-26T15:07:23.790Z"
   },
   {
    "duration": 22,
    "start_time": "2024-04-26T15:07:23.829Z"
   },
   {
    "duration": 19,
    "start_time": "2024-04-26T15:07:23.853Z"
   },
   {
    "duration": 5,
    "start_time": "2024-04-26T15:07:23.874Z"
   },
   {
    "duration": 32,
    "start_time": "2024-04-26T15:07:23.880Z"
   },
   {
    "duration": 30,
    "start_time": "2024-04-26T15:07:23.914Z"
   },
   {
    "duration": 22,
    "start_time": "2024-04-26T15:07:23.946Z"
   },
   {
    "duration": 11,
    "start_time": "2024-04-26T15:07:23.970Z"
   },
   {
    "duration": 24,
    "start_time": "2024-04-26T15:07:23.983Z"
   },
   {
    "duration": 18,
    "start_time": "2024-04-26T15:07:24.009Z"
   },
   {
    "duration": 8,
    "start_time": "2024-04-26T15:07:24.028Z"
   },
   {
    "duration": 20,
    "start_time": "2024-04-26T15:07:24.038Z"
   },
   {
    "duration": 37,
    "start_time": "2024-04-26T15:07:24.059Z"
   },
   {
    "duration": 10,
    "start_time": "2024-04-26T15:07:24.098Z"
   },
   {
    "duration": 19,
    "start_time": "2024-04-26T15:07:24.110Z"
   },
   {
    "duration": 55,
    "start_time": "2024-04-26T15:07:24.131Z"
   },
   {
    "duration": 12,
    "start_time": "2024-04-26T15:07:24.188Z"
   },
   {
    "duration": 36,
    "start_time": "2024-04-26T15:07:24.202Z"
   },
   {
    "duration": 3,
    "start_time": "2024-04-26T15:07:24.240Z"
   },
   {
    "duration": 26,
    "start_time": "2024-04-26T15:07:24.245Z"
   },
   {
    "duration": 2575,
    "start_time": "2024-04-26T15:07:24.274Z"
   },
   {
    "duration": 1927,
    "start_time": "2024-04-26T15:07:26.850Z"
   },
   {
    "duration": 4,
    "start_time": "2024-04-26T15:07:28.778Z"
   },
   {
    "duration": 28,
    "start_time": "2024-04-26T15:07:28.783Z"
   },
   {
    "duration": 2,
    "start_time": "2024-04-26T15:07:28.812Z"
   },
   {
    "duration": 30,
    "start_time": "2024-04-26T15:07:28.816Z"
   },
   {
    "duration": 2263,
    "start_time": "2024-04-26T15:07:28.847Z"
   },
   {
    "duration": 27,
    "start_time": "2024-04-26T15:07:31.112Z"
   },
   {
    "duration": 24,
    "start_time": "2024-04-26T15:07:31.140Z"
   },
   {
    "duration": 517,
    "start_time": "2024-04-26T15:07:31.165Z"
   },
   {
    "duration": 63,
    "start_time": "2024-04-26T15:07:31.683Z"
   },
   {
    "duration": 14,
    "start_time": "2024-04-26T15:07:31.748Z"
   },
   {
    "duration": 124,
    "start_time": "2024-04-26T15:07:31.764Z"
   },
   {
    "duration": 0,
    "start_time": "2024-04-26T15:07:31.890Z"
   },
   {
    "duration": 0,
    "start_time": "2024-04-26T15:07:31.891Z"
   },
   {
    "duration": 0,
    "start_time": "2024-04-26T15:07:31.892Z"
   },
   {
    "duration": 0,
    "start_time": "2024-04-26T15:07:31.893Z"
   },
   {
    "duration": 0,
    "start_time": "2024-04-26T15:07:31.894Z"
   },
   {
    "duration": 0,
    "start_time": "2024-04-26T15:07:31.895Z"
   },
   {
    "duration": 0,
    "start_time": "2024-04-26T15:07:31.897Z"
   },
   {
    "duration": 0,
    "start_time": "2024-04-26T15:07:31.898Z"
   },
   {
    "duration": 0,
    "start_time": "2024-04-26T15:07:31.899Z"
   },
   {
    "duration": 0,
    "start_time": "2024-04-26T15:07:31.900Z"
   },
   {
    "duration": 0,
    "start_time": "2024-04-26T15:07:31.902Z"
   },
   {
    "duration": 0,
    "start_time": "2024-04-26T15:07:31.902Z"
   },
   {
    "duration": 0,
    "start_time": "2024-04-26T15:07:31.903Z"
   },
   {
    "duration": 0,
    "start_time": "2024-04-26T15:07:31.904Z"
   },
   {
    "duration": 0,
    "start_time": "2024-04-26T15:07:31.906Z"
   },
   {
    "duration": 0,
    "start_time": "2024-04-26T15:07:31.907Z"
   },
   {
    "duration": 11,
    "start_time": "2024-04-26T15:08:19.148Z"
   },
   {
    "duration": 10,
    "start_time": "2024-04-26T15:08:20.497Z"
   },
   {
    "duration": 9,
    "start_time": "2024-04-26T15:08:24.232Z"
   },
   {
    "duration": 605,
    "start_time": "2024-04-26T15:08:26.082Z"
   },
   {
    "duration": 10,
    "start_time": "2024-04-26T15:08:30.251Z"
   },
   {
    "duration": 10,
    "start_time": "2024-04-26T15:08:30.568Z"
   },
   {
    "duration": 10,
    "start_time": "2024-04-26T15:08:31.052Z"
   },
   {
    "duration": 10,
    "start_time": "2024-04-26T15:08:33.751Z"
   },
   {
    "duration": 5,
    "start_time": "2024-04-26T15:08:58.293Z"
   },
   {
    "duration": 9,
    "start_time": "2024-04-26T15:09:17.915Z"
   },
   {
    "duration": 3,
    "start_time": "2024-04-26T15:10:46.216Z"
   },
   {
    "duration": 9,
    "start_time": "2024-04-26T15:10:54.746Z"
   },
   {
    "duration": 9,
    "start_time": "2024-04-26T15:10:55.980Z"
   },
   {
    "duration": 16,
    "start_time": "2024-04-26T15:10:59.181Z"
   },
   {
    "duration": 484,
    "start_time": "2024-04-26T15:11:00.397Z"
   },
   {
    "duration": 10,
    "start_time": "2024-04-26T15:11:00.883Z"
   },
   {
    "duration": 11,
    "start_time": "2024-04-26T15:11:01.231Z"
   },
   {
    "duration": 7,
    "start_time": "2024-04-26T15:11:01.927Z"
   },
   {
    "duration": 17,
    "start_time": "2024-04-26T15:11:03.014Z"
   },
   {
    "duration": 1550,
    "start_time": "2024-04-26T15:11:13.167Z"
   },
   {
    "duration": 52,
    "start_time": "2024-04-26T15:11:14.719Z"
   },
   {
    "duration": 25,
    "start_time": "2024-04-26T15:11:14.773Z"
   },
   {
    "duration": 20,
    "start_time": "2024-04-26T15:11:14.801Z"
   },
   {
    "duration": 30,
    "start_time": "2024-04-26T15:11:14.823Z"
   },
   {
    "duration": 9,
    "start_time": "2024-04-26T15:11:14.855Z"
   },
   {
    "duration": 22,
    "start_time": "2024-04-26T15:11:14.866Z"
   },
   {
    "duration": 7,
    "start_time": "2024-04-26T15:11:14.891Z"
   },
   {
    "duration": 9,
    "start_time": "2024-04-26T15:11:14.900Z"
   },
   {
    "duration": 53,
    "start_time": "2024-04-26T15:11:14.912Z"
   },
   {
    "duration": 5,
    "start_time": "2024-04-26T15:11:14.967Z"
   },
   {
    "duration": 34,
    "start_time": "2024-04-26T15:11:14.973Z"
   },
   {
    "duration": 17,
    "start_time": "2024-04-26T15:11:15.009Z"
   },
   {
    "duration": 40,
    "start_time": "2024-04-26T15:11:15.028Z"
   },
   {
    "duration": 19,
    "start_time": "2024-04-26T15:11:15.069Z"
   },
   {
    "duration": 41,
    "start_time": "2024-04-26T15:11:15.090Z"
   },
   {
    "duration": 28,
    "start_time": "2024-04-26T15:11:15.133Z"
   },
   {
    "duration": 25,
    "start_time": "2024-04-26T15:11:15.163Z"
   },
   {
    "duration": 10,
    "start_time": "2024-04-26T15:11:15.189Z"
   },
   {
    "duration": 55,
    "start_time": "2024-04-26T15:11:15.201Z"
   },
   {
    "duration": 11,
    "start_time": "2024-04-26T15:11:15.257Z"
   },
   {
    "duration": 7,
    "start_time": "2024-04-26T15:11:15.270Z"
   },
   {
    "duration": 46,
    "start_time": "2024-04-26T15:11:15.278Z"
   },
   {
    "duration": 26,
    "start_time": "2024-04-26T15:11:15.326Z"
   },
   {
    "duration": 34,
    "start_time": "2024-04-26T15:11:15.354Z"
   },
   {
    "duration": 13,
    "start_time": "2024-04-26T15:11:15.390Z"
   },
   {
    "duration": 27,
    "start_time": "2024-04-26T15:11:15.405Z"
   },
   {
    "duration": 2747,
    "start_time": "2024-04-26T15:11:15.436Z"
   },
   {
    "duration": 1964,
    "start_time": "2024-04-26T15:11:18.185Z"
   },
   {
    "duration": 3,
    "start_time": "2024-04-26T15:11:20.150Z"
   },
   {
    "duration": 40,
    "start_time": "2024-04-26T15:11:20.154Z"
   },
   {
    "duration": 25,
    "start_time": "2024-04-26T15:11:20.196Z"
   },
   {
    "duration": 40,
    "start_time": "2024-04-26T15:11:20.223Z"
   },
   {
    "duration": 2329,
    "start_time": "2024-04-26T15:11:20.265Z"
   },
   {
    "duration": 29,
    "start_time": "2024-04-26T15:11:22.596Z"
   },
   {
    "duration": 12,
    "start_time": "2024-04-26T15:11:22.627Z"
   },
   {
    "duration": 541,
    "start_time": "2024-04-26T15:11:22.640Z"
   },
   {
    "duration": 68,
    "start_time": "2024-04-26T15:11:23.182Z"
   },
   {
    "duration": 17,
    "start_time": "2024-04-26T15:11:23.251Z"
   },
   {
    "duration": 15,
    "start_time": "2024-04-26T15:11:23.270Z"
   },
   {
    "duration": 30,
    "start_time": "2024-04-26T15:11:23.287Z"
   },
   {
    "duration": 37,
    "start_time": "2024-04-26T15:11:23.319Z"
   },
   {
    "duration": 611,
    "start_time": "2024-04-26T15:11:23.357Z"
   },
   {
    "duration": 10,
    "start_time": "2024-04-26T15:11:23.970Z"
   },
   {
    "duration": 28,
    "start_time": "2024-04-26T15:11:23.982Z"
   },
   {
    "duration": 13,
    "start_time": "2024-04-26T15:11:24.012Z"
   },
   {
    "duration": 33,
    "start_time": "2024-04-26T15:11:24.026Z"
   },
   {
    "duration": 508,
    "start_time": "2024-04-26T15:11:24.061Z"
   },
   {
    "duration": 16,
    "start_time": "2024-04-26T15:11:24.570Z"
   },
   {
    "duration": 15,
    "start_time": "2024-04-26T15:11:24.588Z"
   },
   {
    "duration": 11,
    "start_time": "2024-04-26T15:11:24.605Z"
   },
   {
    "duration": 37,
    "start_time": "2024-04-26T15:11:24.617Z"
   },
   {
    "duration": 28,
    "start_time": "2024-04-26T15:11:24.655Z"
   },
   {
    "duration": 28,
    "start_time": "2024-04-26T15:11:24.684Z"
   },
   {
    "duration": 11,
    "start_time": "2024-04-26T15:11:24.714Z"
   },
   {
    "duration": 18,
    "start_time": "2024-04-26T15:11:24.727Z"
   },
   {
    "duration": 1714,
    "start_time": "2024-04-26T18:47:32.975Z"
   },
   {
    "duration": 0,
    "start_time": "2024-04-26T18:47:34.695Z"
   },
   {
    "duration": 0,
    "start_time": "2024-04-26T18:47:34.696Z"
   },
   {
    "duration": 0,
    "start_time": "2024-04-26T18:47:34.697Z"
   },
   {
    "duration": 0,
    "start_time": "2024-04-26T18:47:34.698Z"
   },
   {
    "duration": 0,
    "start_time": "2024-04-26T18:47:34.699Z"
   },
   {
    "duration": 0,
    "start_time": "2024-04-26T18:47:34.700Z"
   },
   {
    "duration": 0,
    "start_time": "2024-04-26T18:47:34.701Z"
   },
   {
    "duration": 0,
    "start_time": "2024-04-26T18:47:34.702Z"
   },
   {
    "duration": 0,
    "start_time": "2024-04-26T18:47:34.703Z"
   },
   {
    "duration": 0,
    "start_time": "2024-04-26T18:47:34.704Z"
   },
   {
    "duration": 0,
    "start_time": "2024-04-26T18:47:34.705Z"
   },
   {
    "duration": 0,
    "start_time": "2024-04-26T18:47:34.706Z"
   },
   {
    "duration": 0,
    "start_time": "2024-04-26T18:47:34.707Z"
   },
   {
    "duration": 0,
    "start_time": "2024-04-26T18:47:34.707Z"
   },
   {
    "duration": 0,
    "start_time": "2024-04-26T18:47:34.709Z"
   },
   {
    "duration": 0,
    "start_time": "2024-04-26T18:47:34.710Z"
   },
   {
    "duration": 0,
    "start_time": "2024-04-26T18:47:34.710Z"
   },
   {
    "duration": 0,
    "start_time": "2024-04-26T18:47:34.711Z"
   },
   {
    "duration": 0,
    "start_time": "2024-04-26T18:47:34.712Z"
   },
   {
    "duration": 0,
    "start_time": "2024-04-26T18:47:34.713Z"
   },
   {
    "duration": 0,
    "start_time": "2024-04-26T18:47:34.745Z"
   },
   {
    "duration": 0,
    "start_time": "2024-04-26T18:47:34.746Z"
   },
   {
    "duration": 0,
    "start_time": "2024-04-26T18:47:34.747Z"
   },
   {
    "duration": 0,
    "start_time": "2024-04-26T18:47:34.748Z"
   },
   {
    "duration": 0,
    "start_time": "2024-04-26T18:47:34.749Z"
   },
   {
    "duration": 0,
    "start_time": "2024-04-26T18:47:34.750Z"
   },
   {
    "duration": 0,
    "start_time": "2024-04-26T18:47:34.751Z"
   },
   {
    "duration": 0,
    "start_time": "2024-04-26T18:47:34.752Z"
   },
   {
    "duration": 0,
    "start_time": "2024-04-26T18:47:34.753Z"
   },
   {
    "duration": 0,
    "start_time": "2024-04-26T18:47:34.754Z"
   },
   {
    "duration": 0,
    "start_time": "2024-04-26T18:47:34.755Z"
   },
   {
    "duration": 0,
    "start_time": "2024-04-26T18:47:34.756Z"
   },
   {
    "duration": 0,
    "start_time": "2024-04-26T18:47:34.758Z"
   },
   {
    "duration": 0,
    "start_time": "2024-04-26T18:47:34.759Z"
   },
   {
    "duration": 0,
    "start_time": "2024-04-26T18:47:34.760Z"
   },
   {
    "duration": 0,
    "start_time": "2024-04-26T18:47:34.761Z"
   },
   {
    "duration": 0,
    "start_time": "2024-04-26T18:47:34.761Z"
   },
   {
    "duration": 0,
    "start_time": "2024-04-26T18:47:34.762Z"
   },
   {
    "duration": 0,
    "start_time": "2024-04-26T18:47:34.763Z"
   },
   {
    "duration": 0,
    "start_time": "2024-04-26T18:47:34.764Z"
   },
   {
    "duration": 0,
    "start_time": "2024-04-26T18:47:34.765Z"
   },
   {
    "duration": 0,
    "start_time": "2024-04-26T18:47:34.766Z"
   },
   {
    "duration": 0,
    "start_time": "2024-04-26T18:47:34.767Z"
   },
   {
    "duration": 0,
    "start_time": "2024-04-26T18:47:34.768Z"
   },
   {
    "duration": 0,
    "start_time": "2024-04-26T18:47:34.769Z"
   },
   {
    "duration": 0,
    "start_time": "2024-04-26T18:47:34.770Z"
   },
   {
    "duration": 0,
    "start_time": "2024-04-26T18:47:34.771Z"
   },
   {
    "duration": 0,
    "start_time": "2024-04-26T18:47:34.771Z"
   },
   {
    "duration": 0,
    "start_time": "2024-04-26T18:47:34.772Z"
   },
   {
    "duration": 0,
    "start_time": "2024-04-26T18:47:34.773Z"
   },
   {
    "duration": 0,
    "start_time": "2024-04-26T18:47:34.774Z"
   },
   {
    "duration": 0,
    "start_time": "2024-04-26T18:47:34.776Z"
   },
   {
    "duration": 0,
    "start_time": "2024-04-26T18:47:34.776Z"
   },
   {
    "duration": 0,
    "start_time": "2024-04-26T18:47:34.778Z"
   },
   {
    "duration": 0,
    "start_time": "2024-04-26T18:47:34.779Z"
   },
   {
    "duration": 49,
    "start_time": "2024-04-26T18:47:49.275Z"
   },
   {
    "duration": 47,
    "start_time": "2024-04-26T18:47:58.757Z"
   },
   {
    "duration": 0,
    "start_time": "2024-04-26T18:47:58.808Z"
   },
   {
    "duration": 0,
    "start_time": "2024-04-26T18:47:58.810Z"
   },
   {
    "duration": 0,
    "start_time": "2024-04-26T18:47:58.811Z"
   },
   {
    "duration": 0,
    "start_time": "2024-04-26T18:47:58.813Z"
   },
   {
    "duration": 0,
    "start_time": "2024-04-26T18:47:58.814Z"
   },
   {
    "duration": 0,
    "start_time": "2024-04-26T18:47:58.815Z"
   },
   {
    "duration": 0,
    "start_time": "2024-04-26T18:47:58.817Z"
   },
   {
    "duration": 0,
    "start_time": "2024-04-26T18:47:58.818Z"
   },
   {
    "duration": 0,
    "start_time": "2024-04-26T18:47:58.820Z"
   },
   {
    "duration": 0,
    "start_time": "2024-04-26T18:47:58.821Z"
   },
   {
    "duration": 0,
    "start_time": "2024-04-26T18:47:58.823Z"
   },
   {
    "duration": 0,
    "start_time": "2024-04-26T18:47:58.824Z"
   },
   {
    "duration": 0,
    "start_time": "2024-04-26T18:47:58.826Z"
   },
   {
    "duration": 0,
    "start_time": "2024-04-26T18:47:58.827Z"
   },
   {
    "duration": 0,
    "start_time": "2024-04-26T18:47:58.828Z"
   },
   {
    "duration": 0,
    "start_time": "2024-04-26T18:47:58.845Z"
   },
   {
    "duration": 0,
    "start_time": "2024-04-26T18:47:58.847Z"
   },
   {
    "duration": 0,
    "start_time": "2024-04-26T18:47:58.848Z"
   },
   {
    "duration": 0,
    "start_time": "2024-04-26T18:47:58.850Z"
   },
   {
    "duration": 0,
    "start_time": "2024-04-26T18:47:58.851Z"
   },
   {
    "duration": 0,
    "start_time": "2024-04-26T18:47:58.852Z"
   },
   {
    "duration": 0,
    "start_time": "2024-04-26T18:47:58.854Z"
   },
   {
    "duration": 0,
    "start_time": "2024-04-26T18:47:58.855Z"
   },
   {
    "duration": 0,
    "start_time": "2024-04-26T18:47:58.856Z"
   },
   {
    "duration": 0,
    "start_time": "2024-04-26T18:47:58.858Z"
   },
   {
    "duration": 0,
    "start_time": "2024-04-26T18:47:58.859Z"
   },
   {
    "duration": 0,
    "start_time": "2024-04-26T18:47:58.861Z"
   },
   {
    "duration": 1,
    "start_time": "2024-04-26T18:47:58.862Z"
   },
   {
    "duration": 0,
    "start_time": "2024-04-26T18:47:58.864Z"
   },
   {
    "duration": 0,
    "start_time": "2024-04-26T18:47:58.865Z"
   },
   {
    "duration": 0,
    "start_time": "2024-04-26T18:47:58.867Z"
   },
   {
    "duration": 0,
    "start_time": "2024-04-26T18:47:58.868Z"
   },
   {
    "duration": 0,
    "start_time": "2024-04-26T18:47:58.870Z"
   },
   {
    "duration": 0,
    "start_time": "2024-04-26T18:47:58.871Z"
   },
   {
    "duration": 0,
    "start_time": "2024-04-26T18:47:58.872Z"
   },
   {
    "duration": 1,
    "start_time": "2024-04-26T18:47:58.873Z"
   },
   {
    "duration": 0,
    "start_time": "2024-04-26T18:47:58.875Z"
   },
   {
    "duration": 0,
    "start_time": "2024-04-26T18:47:58.876Z"
   },
   {
    "duration": 0,
    "start_time": "2024-04-26T18:47:58.877Z"
   },
   {
    "duration": 0,
    "start_time": "2024-04-26T18:47:58.879Z"
   },
   {
    "duration": 0,
    "start_time": "2024-04-26T18:47:58.880Z"
   },
   {
    "duration": 0,
    "start_time": "2024-04-26T18:47:58.882Z"
   },
   {
    "duration": 0,
    "start_time": "2024-04-26T18:47:58.883Z"
   },
   {
    "duration": 0,
    "start_time": "2024-04-26T18:47:58.885Z"
   },
   {
    "duration": 0,
    "start_time": "2024-04-26T18:47:58.945Z"
   },
   {
    "duration": 0,
    "start_time": "2024-04-26T18:47:58.947Z"
   },
   {
    "duration": 0,
    "start_time": "2024-04-26T18:47:58.948Z"
   },
   {
    "duration": 0,
    "start_time": "2024-04-26T18:47:58.949Z"
   },
   {
    "duration": 0,
    "start_time": "2024-04-26T18:47:58.951Z"
   },
   {
    "duration": 0,
    "start_time": "2024-04-26T18:47:58.952Z"
   },
   {
    "duration": 0,
    "start_time": "2024-04-26T18:47:58.953Z"
   },
   {
    "duration": 0,
    "start_time": "2024-04-26T18:47:58.954Z"
   },
   {
    "duration": 0,
    "start_time": "2024-04-26T18:47:58.956Z"
   },
   {
    "duration": 0,
    "start_time": "2024-04-26T18:47:58.957Z"
   },
   {
    "duration": 0,
    "start_time": "2024-04-26T18:47:58.958Z"
   },
   {
    "duration": 0,
    "start_time": "2024-04-26T18:47:58.959Z"
   },
   {
    "duration": 4057,
    "start_time": "2024-04-26T18:48:13.466Z"
   },
   {
    "duration": 2437,
    "start_time": "2024-04-26T18:48:17.525Z"
   },
   {
    "duration": 162,
    "start_time": "2024-04-26T18:48:19.964Z"
   },
   {
    "duration": 16,
    "start_time": "2024-04-26T18:48:20.128Z"
   },
   {
    "duration": 18,
    "start_time": "2024-04-26T18:48:20.146Z"
   },
   {
    "duration": 16,
    "start_time": "2024-04-26T18:48:20.166Z"
   },
   {
    "duration": 6,
    "start_time": "2024-04-26T18:48:20.184Z"
   },
   {
    "duration": 20,
    "start_time": "2024-04-26T18:48:20.191Z"
   },
   {
    "duration": 31,
    "start_time": "2024-04-26T18:48:20.213Z"
   },
   {
    "duration": 22,
    "start_time": "2024-04-26T18:48:20.247Z"
   },
   {
    "duration": 35,
    "start_time": "2024-04-26T18:48:20.270Z"
   },
   {
    "duration": 10,
    "start_time": "2024-04-26T18:48:20.306Z"
   },
   {
    "duration": 27,
    "start_time": "2024-04-26T18:48:20.318Z"
   },
   {
    "duration": 30,
    "start_time": "2024-04-26T18:48:20.346Z"
   },
   {
    "duration": 6,
    "start_time": "2024-04-26T18:48:20.377Z"
   },
   {
    "duration": 28,
    "start_time": "2024-04-26T18:48:20.385Z"
   },
   {
    "duration": 36,
    "start_time": "2024-04-26T18:48:20.415Z"
   },
   {
    "duration": 22,
    "start_time": "2024-04-26T18:48:20.453Z"
   },
   {
    "duration": 28,
    "start_time": "2024-04-26T18:48:20.476Z"
   },
   {
    "duration": 12,
    "start_time": "2024-04-26T18:48:20.506Z"
   },
   {
    "duration": 41,
    "start_time": "2024-04-26T18:48:20.520Z"
   },
   {
    "duration": 11,
    "start_time": "2024-04-26T18:48:20.562Z"
   },
   {
    "duration": 10,
    "start_time": "2024-04-26T18:48:20.574Z"
   },
   {
    "duration": 44,
    "start_time": "2024-04-26T18:48:20.586Z"
   },
   {
    "duration": 15,
    "start_time": "2024-04-26T18:48:20.631Z"
   },
   {
    "duration": 21,
    "start_time": "2024-04-26T18:48:20.647Z"
   },
   {
    "duration": 13,
    "start_time": "2024-04-26T18:48:20.669Z"
   },
   {
    "duration": 21,
    "start_time": "2024-04-26T18:48:20.685Z"
   },
   {
    "duration": 2558,
    "start_time": "2024-04-26T18:48:20.707Z"
   },
   {
    "duration": 1860,
    "start_time": "2024-04-26T18:48:23.267Z"
   },
   {
    "duration": 4,
    "start_time": "2024-04-26T18:48:25.128Z"
   },
   {
    "duration": 48,
    "start_time": "2024-04-26T18:48:25.133Z"
   },
   {
    "duration": 3,
    "start_time": "2024-04-26T18:48:25.182Z"
   },
   {
    "duration": 51,
    "start_time": "2024-04-26T18:48:25.186Z"
   },
   {
    "duration": 2245,
    "start_time": "2024-04-26T18:48:25.238Z"
   },
   {
    "duration": 40,
    "start_time": "2024-04-26T18:48:27.484Z"
   },
   {
    "duration": 14,
    "start_time": "2024-04-26T18:48:27.526Z"
   },
   {
    "duration": 522,
    "start_time": "2024-04-26T18:48:27.544Z"
   },
   {
    "duration": 59,
    "start_time": "2024-04-26T18:48:28.068Z"
   },
   {
    "duration": 29,
    "start_time": "2024-04-26T18:48:28.128Z"
   },
   {
    "duration": 31,
    "start_time": "2024-04-26T18:48:28.158Z"
   },
   {
    "duration": 16,
    "start_time": "2024-04-26T18:48:28.190Z"
   },
   {
    "duration": 48,
    "start_time": "2024-04-26T18:48:28.208Z"
   },
   {
    "duration": 573,
    "start_time": "2024-04-26T18:48:28.258Z"
   },
   {
    "duration": 13,
    "start_time": "2024-04-26T18:48:28.833Z"
   },
   {
    "duration": 13,
    "start_time": "2024-04-26T18:48:28.847Z"
   },
   {
    "duration": 7,
    "start_time": "2024-04-26T18:48:28.861Z"
   },
   {
    "duration": 29,
    "start_time": "2024-04-26T18:48:28.869Z"
   },
   {
    "duration": 493,
    "start_time": "2024-04-26T18:48:28.900Z"
   },
   {
    "duration": 16,
    "start_time": "2024-04-26T18:48:29.395Z"
   },
   {
    "duration": 15,
    "start_time": "2024-04-26T18:48:29.413Z"
   },
   {
    "duration": 13,
    "start_time": "2024-04-26T18:48:29.445Z"
   },
   {
    "duration": 11,
    "start_time": "2024-04-26T18:48:29.459Z"
   },
   {
    "duration": 11,
    "start_time": "2024-04-26T18:48:29.472Z"
   },
   {
    "duration": 10,
    "start_time": "2024-04-26T18:48:29.484Z"
   },
   {
    "duration": 10,
    "start_time": "2024-04-26T18:48:29.496Z"
   },
   {
    "duration": 44,
    "start_time": "2024-04-26T18:48:29.508Z"
   },
   {
    "duration": 56,
    "start_time": "2024-04-27T06:16:05.397Z"
   },
   {
    "duration": 7,
    "start_time": "2024-04-27T06:16:05.646Z"
   },
   {
    "duration": 6,
    "start_time": "2024-04-27T06:16:05.862Z"
   },
   {
    "duration": 6,
    "start_time": "2024-04-27T06:16:06.113Z"
   },
   {
    "duration": 1763,
    "start_time": "2024-04-27T06:16:12.283Z"
   },
   {
    "duration": 3372,
    "start_time": "2024-04-27T06:16:21.951Z"
   },
   {
    "duration": 59,
    "start_time": "2024-04-27T06:16:25.325Z"
   },
   {
    "duration": 93,
    "start_time": "2024-04-27T06:16:28.387Z"
   },
   {
    "duration": 20,
    "start_time": "2024-04-27T06:16:28.721Z"
   },
   {
    "duration": 14,
    "start_time": "2024-04-27T06:16:29.236Z"
   },
   {
    "duration": 10,
    "start_time": "2024-04-27T06:16:29.521Z"
   },
   {
    "duration": 7,
    "start_time": "2024-04-27T06:16:29.787Z"
   },
   {
    "duration": 13,
    "start_time": "2024-04-27T06:16:31.405Z"
   },
   {
    "duration": 6,
    "start_time": "2024-04-27T06:16:31.655Z"
   },
   {
    "duration": 9,
    "start_time": "2024-04-27T06:16:31.954Z"
   },
   {
    "duration": 20,
    "start_time": "2024-04-27T06:16:32.254Z"
   },
   {
    "duration": 6,
    "start_time": "2024-04-27T06:16:32.487Z"
   },
   {
    "duration": 20,
    "start_time": "2024-04-27T06:16:33.123Z"
   },
   {
    "duration": 15,
    "start_time": "2024-04-27T06:16:33.555Z"
   },
   {
    "duration": 7,
    "start_time": "2024-04-27T06:16:33.787Z"
   },
   {
    "duration": 6,
    "start_time": "2024-04-27T06:16:34.037Z"
   },
   {
    "duration": 6,
    "start_time": "2024-04-27T06:16:34.254Z"
   },
   {
    "duration": 6,
    "start_time": "2024-04-27T06:16:34.454Z"
   },
   {
    "duration": 6,
    "start_time": "2024-04-27T06:16:34.705Z"
   },
   {
    "duration": 7,
    "start_time": "2024-04-27T06:16:34.906Z"
   },
   {
    "duration": 38,
    "start_time": "2024-04-27T06:16:35.156Z"
   },
   {
    "duration": 12,
    "start_time": "2024-04-27T06:16:35.589Z"
   },
   {
    "duration": 5,
    "start_time": "2024-04-27T06:16:35.789Z"
   },
   {
    "duration": 49,
    "start_time": "2024-04-27T06:16:36.272Z"
   },
   {
    "duration": 15,
    "start_time": "2024-04-27T06:16:36.738Z"
   },
   {
    "duration": 23,
    "start_time": "2024-04-27T06:16:37.155Z"
   },
   {
    "duration": 3,
    "start_time": "2024-04-27T06:16:37.423Z"
   },
   {
    "duration": 14,
    "start_time": "2024-04-27T06:16:37.639Z"
   },
   {
    "duration": 2911,
    "start_time": "2024-04-27T06:16:41.275Z"
   },
   {
    "duration": 2007,
    "start_time": "2024-04-27T06:16:44.188Z"
   },
   {
    "duration": 3,
    "start_time": "2024-04-27T06:16:46.196Z"
   },
   {
    "duration": 78,
    "start_time": "2024-04-27T06:16:46.201Z"
   },
   {
    "duration": 15,
    "start_time": "2024-04-27T06:16:46.280Z"
   },
   {
    "duration": 47,
    "start_time": "2024-04-27T06:16:46.297Z"
   },
   {
    "duration": 2559,
    "start_time": "2024-04-27T06:16:46.346Z"
   },
   {
    "duration": 21,
    "start_time": "2024-04-27T06:19:53.868Z"
   },
   {
    "duration": 3,
    "start_time": "2024-04-27T06:19:54.153Z"
   },
   {
    "duration": 551,
    "start_time": "2024-04-27T06:23:41.040Z"
   },
   {
    "duration": 82,
    "start_time": "2024-04-27T06:23:41.593Z"
   },
   {
    "duration": 20,
    "start_time": "2024-04-27T06:23:41.677Z"
   },
   {
    "duration": 9,
    "start_time": "2024-04-27T06:23:42.007Z"
   },
   {
    "duration": 7,
    "start_time": "2024-04-27T06:23:42.207Z"
   },
   {
    "duration": 17,
    "start_time": "2024-04-27T06:23:42.924Z"
   },
   {
    "duration": 627,
    "start_time": "2024-04-27T06:23:43.490Z"
   },
   {
    "duration": 14,
    "start_time": "2024-04-27T06:23:44.119Z"
   },
   {
    "duration": 37,
    "start_time": "2024-04-27T06:23:44.135Z"
   },
   {
    "duration": 8,
    "start_time": "2024-04-27T06:23:44.290Z"
   },
   {
    "duration": 17,
    "start_time": "2024-04-27T06:23:44.789Z"
   },
   {
    "duration": 536,
    "start_time": "2024-04-27T06:23:45.575Z"
   },
   {
    "duration": 18,
    "start_time": "2024-04-27T06:23:46.114Z"
   },
   {
    "duration": 16,
    "start_time": "2024-04-27T06:23:46.441Z"
   },
   {
    "duration": 32,
    "start_time": "2024-04-27T09:06:14.796Z"
   },
   {
    "duration": 13,
    "start_time": "2024-04-27T09:06:16.344Z"
   },
   {
    "duration": 2457,
    "start_time": "2024-04-27T09:06:29.548Z"
   },
   {
    "duration": 4,
    "start_time": "2024-04-27T09:06:32.008Z"
   },
   {
    "duration": 43,
    "start_time": "2024-04-27T09:06:33.866Z"
   },
   {
    "duration": 15,
    "start_time": "2024-04-27T09:06:34.316Z"
   },
   {
    "duration": 14,
    "start_time": "2024-04-27T09:06:34.699Z"
   },
   {
    "duration": 9,
    "start_time": "2024-04-27T09:06:34.936Z"
   },
   {
    "duration": 6,
    "start_time": "2024-04-27T09:06:35.167Z"
   },
   {
    "duration": 12,
    "start_time": "2024-04-27T09:06:36.633Z"
   },
   {
    "duration": 6,
    "start_time": "2024-04-27T09:06:36.866Z"
   },
   {
    "duration": 10,
    "start_time": "2024-04-27T09:06:37.083Z"
   },
   {
    "duration": 22,
    "start_time": "2024-04-27T09:06:37.333Z"
   },
   {
    "duration": 6,
    "start_time": "2024-04-27T09:06:37.583Z"
   },
   {
    "duration": 19,
    "start_time": "2024-04-27T09:06:38.283Z"
   },
   {
    "duration": 16,
    "start_time": "2024-04-27T09:06:38.768Z"
   },
   {
    "duration": 6,
    "start_time": "2024-04-27T09:06:39.017Z"
   },
   {
    "duration": 5,
    "start_time": "2024-04-27T09:06:39.268Z"
   },
   {
    "duration": 5,
    "start_time": "2024-04-27T09:06:39.501Z"
   },
   {
    "duration": 6,
    "start_time": "2024-04-27T09:06:39.734Z"
   },
   {
    "duration": 9,
    "start_time": "2024-04-27T09:06:39.950Z"
   },
   {
    "duration": 7,
    "start_time": "2024-04-27T09:06:40.201Z"
   },
   {
    "duration": 47,
    "start_time": "2024-04-27T09:06:40.452Z"
   },
   {
    "duration": 11,
    "start_time": "2024-04-27T09:06:40.902Z"
   },
   {
    "duration": 5,
    "start_time": "2024-04-27T09:06:41.118Z"
   },
   {
    "duration": 39,
    "start_time": "2024-04-27T09:06:41.568Z"
   },
   {
    "duration": 14,
    "start_time": "2024-04-27T09:06:42.051Z"
   },
   {
    "duration": 19,
    "start_time": "2024-04-27T09:06:42.269Z"
   },
   {
    "duration": 5,
    "start_time": "2024-04-27T09:06:42.484Z"
   },
   {
    "duration": 13,
    "start_time": "2024-04-27T09:06:42.718Z"
   },
   {
    "duration": 2520,
    "start_time": "2024-04-27T10:12:35.861Z"
   },
   {
    "duration": 1945,
    "start_time": "2024-04-27T10:12:41.196Z"
   },
   {
    "duration": 1915,
    "start_time": "2024-04-27T10:12:55.232Z"
   },
   {
    "duration": 1926,
    "start_time": "2024-04-27T10:13:01.802Z"
   },
   {
    "duration": 1930,
    "start_time": "2024-04-27T10:13:13.922Z"
   },
   {
    "duration": 1927,
    "start_time": "2024-04-27T10:13:24.442Z"
   },
   {
    "duration": 3422,
    "start_time": "2024-04-27T10:18:04.632Z"
   },
   {
    "duration": 3090,
    "start_time": "2024-04-27T10:18:35.173Z"
   },
   {
    "duration": 2537,
    "start_time": "2024-04-27T10:20:51.314Z"
   },
   {
    "duration": 642,
    "start_time": "2024-04-27T10:26:33.037Z"
   },
   {
    "duration": 525,
    "start_time": "2024-04-27T10:26:43.524Z"
   },
   {
    "duration": 540,
    "start_time": "2024-04-27T10:27:27.670Z"
   },
   {
    "duration": 508,
    "start_time": "2024-04-27T10:27:43.775Z"
   },
   {
    "duration": 632,
    "start_time": "2024-04-27T10:28:00.957Z"
   },
   {
    "duration": 490,
    "start_time": "2024-04-27T10:28:17.356Z"
   },
   {
    "duration": 2592,
    "start_time": "2024-04-27T10:32:45.287Z"
   },
   {
    "duration": 1659,
    "start_time": "2024-04-27T10:32:47.882Z"
   },
   {
    "duration": 91,
    "start_time": "2024-04-27T10:32:49.542Z"
   },
   {
    "duration": 17,
    "start_time": "2024-04-27T10:32:51.689Z"
   },
   {
    "duration": 14,
    "start_time": "2024-04-27T10:32:51.905Z"
   },
   {
    "duration": 11,
    "start_time": "2024-04-27T10:32:52.122Z"
   },
   {
    "duration": 8,
    "start_time": "2024-04-27T10:32:52.339Z"
   },
   {
    "duration": 13,
    "start_time": "2024-04-27T10:32:53.439Z"
   },
   {
    "duration": 6,
    "start_time": "2024-04-27T10:32:53.656Z"
   },
   {
    "duration": 10,
    "start_time": "2024-04-27T10:32:53.856Z"
   },
   {
    "duration": 30,
    "start_time": "2024-04-27T10:32:54.055Z"
   },
   {
    "duration": 5,
    "start_time": "2024-04-27T10:32:54.256Z"
   },
   {
    "duration": 20,
    "start_time": "2024-04-27T10:32:54.889Z"
   },
   {
    "duration": 14,
    "start_time": "2024-04-27T10:32:55.306Z"
   },
   {
    "duration": 6,
    "start_time": "2024-04-27T10:32:55.522Z"
   },
   {
    "duration": 5,
    "start_time": "2024-04-27T10:32:55.755Z"
   },
   {
    "duration": 6,
    "start_time": "2024-04-27T10:32:55.971Z"
   },
   {
    "duration": 6,
    "start_time": "2024-04-27T10:32:56.139Z"
   },
   {
    "duration": 5,
    "start_time": "2024-04-27T10:32:56.323Z"
   },
   {
    "duration": 7,
    "start_time": "2024-04-27T10:32:56.524Z"
   },
   {
    "duration": 40,
    "start_time": "2024-04-27T10:32:56.723Z"
   },
   {
    "duration": 12,
    "start_time": "2024-04-27T10:32:57.124Z"
   },
   {
    "duration": 5,
    "start_time": "2024-04-27T10:32:57.323Z"
   },
   {
    "duration": 40,
    "start_time": "2024-04-27T10:32:57.724Z"
   },
   {
    "duration": 15,
    "start_time": "2024-04-27T10:32:58.125Z"
   },
   {
    "duration": 23,
    "start_time": "2024-04-27T10:32:58.323Z"
   },
   {
    "duration": 4,
    "start_time": "2024-04-27T10:32:58.524Z"
   },
   {
    "duration": 13,
    "start_time": "2024-04-27T10:32:58.740Z"
   },
   {
    "duration": 145,
    "start_time": "2024-04-27T10:33:00.390Z"
   },
   {
    "duration": 2507,
    "start_time": "2024-04-27T10:34:46.654Z"
   },
   {
    "duration": 1656,
    "start_time": "2024-04-27T10:34:49.163Z"
   },
   {
    "duration": 39,
    "start_time": "2024-04-27T10:34:50.821Z"
   },
   {
    "duration": 15,
    "start_time": "2024-04-27T10:34:50.862Z"
   },
   {
    "duration": 13,
    "start_time": "2024-04-27T10:34:50.879Z"
   },
   {
    "duration": 14,
    "start_time": "2024-04-27T10:34:50.894Z"
   },
   {
    "duration": 24,
    "start_time": "2024-04-27T10:34:50.909Z"
   },
   {
    "duration": 23,
    "start_time": "2024-04-27T10:34:50.935Z"
   },
   {
    "duration": 22,
    "start_time": "2024-04-27T10:34:50.960Z"
   },
   {
    "duration": 29,
    "start_time": "2024-04-27T10:34:50.985Z"
   },
   {
    "duration": 44,
    "start_time": "2024-04-27T10:34:51.016Z"
   },
   {
    "duration": 41,
    "start_time": "2024-04-27T10:34:51.062Z"
   },
   {
    "duration": 66,
    "start_time": "2024-04-27T10:34:51.105Z"
   },
   {
    "duration": 15,
    "start_time": "2024-04-27T10:34:51.173Z"
   },
   {
    "duration": 9,
    "start_time": "2024-04-27T10:34:51.189Z"
   },
   {
    "duration": 29,
    "start_time": "2024-04-27T10:34:51.200Z"
   },
   {
    "duration": 23,
    "start_time": "2024-04-27T10:34:51.230Z"
   },
   {
    "duration": 12,
    "start_time": "2024-04-27T10:34:51.255Z"
   },
   {
    "duration": 28,
    "start_time": "2024-04-27T10:34:51.268Z"
   },
   {
    "duration": 9,
    "start_time": "2024-04-27T10:34:51.298Z"
   },
   {
    "duration": 55,
    "start_time": "2024-04-27T10:34:51.308Z"
   },
   {
    "duration": 11,
    "start_time": "2024-04-27T10:34:51.365Z"
   },
   {
    "duration": 17,
    "start_time": "2024-04-27T10:34:51.378Z"
   },
   {
    "duration": 53,
    "start_time": "2024-04-27T10:34:51.397Z"
   },
   {
    "duration": 14,
    "start_time": "2024-04-27T10:34:51.451Z"
   },
   {
    "duration": 26,
    "start_time": "2024-04-27T10:34:51.466Z"
   },
   {
    "duration": 4,
    "start_time": "2024-04-27T10:34:51.493Z"
   },
   {
    "duration": 42,
    "start_time": "2024-04-27T10:34:51.501Z"
   },
   {
    "duration": 145,
    "start_time": "2024-04-27T10:34:51.545Z"
   },
   {
    "duration": 0,
    "start_time": "2024-04-27T10:34:51.692Z"
   },
   {
    "duration": 0,
    "start_time": "2024-04-27T10:34:51.693Z"
   },
   {
    "duration": 0,
    "start_time": "2024-04-27T10:34:51.695Z"
   },
   {
    "duration": 0,
    "start_time": "2024-04-27T10:34:51.697Z"
   },
   {
    "duration": 0,
    "start_time": "2024-04-27T10:34:51.698Z"
   },
   {
    "duration": 0,
    "start_time": "2024-04-27T10:34:51.699Z"
   },
   {
    "duration": 0,
    "start_time": "2024-04-27T10:34:51.701Z"
   },
   {
    "duration": 0,
    "start_time": "2024-04-27T10:34:51.702Z"
   },
   {
    "duration": 0,
    "start_time": "2024-04-27T10:34:51.703Z"
   },
   {
    "duration": 0,
    "start_time": "2024-04-27T10:34:51.705Z"
   },
   {
    "duration": 0,
    "start_time": "2024-04-27T10:34:51.706Z"
   },
   {
    "duration": 0,
    "start_time": "2024-04-27T10:34:51.708Z"
   },
   {
    "duration": 0,
    "start_time": "2024-04-27T10:34:51.709Z"
   },
   {
    "duration": 0,
    "start_time": "2024-04-27T10:34:51.711Z"
   },
   {
    "duration": 0,
    "start_time": "2024-04-27T10:34:51.712Z"
   },
   {
    "duration": 0,
    "start_time": "2024-04-27T10:34:51.713Z"
   },
   {
    "duration": 0,
    "start_time": "2024-04-27T10:34:51.715Z"
   },
   {
    "duration": 0,
    "start_time": "2024-04-27T10:34:51.716Z"
   },
   {
    "duration": 0,
    "start_time": "2024-04-27T10:34:51.718Z"
   },
   {
    "duration": 0,
    "start_time": "2024-04-27T10:34:51.719Z"
   },
   {
    "duration": 0,
    "start_time": "2024-04-27T10:34:51.720Z"
   },
   {
    "duration": 0,
    "start_time": "2024-04-27T10:34:51.721Z"
   },
   {
    "duration": 0,
    "start_time": "2024-04-27T10:34:51.722Z"
   },
   {
    "duration": 0,
    "start_time": "2024-04-27T10:34:51.723Z"
   },
   {
    "duration": 0,
    "start_time": "2024-04-27T10:34:51.769Z"
   },
   {
    "duration": 0,
    "start_time": "2024-04-27T10:34:51.771Z"
   },
   {
    "duration": 0,
    "start_time": "2024-04-27T10:34:51.772Z"
   },
   {
    "duration": 0,
    "start_time": "2024-04-27T10:34:51.773Z"
   },
   {
    "duration": 0,
    "start_time": "2024-04-27T10:34:51.774Z"
   },
   {
    "duration": 0,
    "start_time": "2024-04-27T10:34:51.775Z"
   },
   {
    "duration": 9,
    "start_time": "2024-04-27T10:35:03.397Z"
   },
   {
    "duration": 2488,
    "start_time": "2024-04-27T10:36:31.570Z"
   },
   {
    "duration": 1600,
    "start_time": "2024-04-27T10:36:34.060Z"
   },
   {
    "duration": 40,
    "start_time": "2024-04-27T10:36:35.662Z"
   },
   {
    "duration": 16,
    "start_time": "2024-04-27T10:36:35.704Z"
   },
   {
    "duration": 11,
    "start_time": "2024-04-27T10:36:35.722Z"
   },
   {
    "duration": 8,
    "start_time": "2024-04-27T10:36:35.735Z"
   },
   {
    "duration": 6,
    "start_time": "2024-04-27T10:36:35.745Z"
   },
   {
    "duration": 20,
    "start_time": "2024-04-27T10:36:35.752Z"
   },
   {
    "duration": 30,
    "start_time": "2024-04-27T10:36:35.774Z"
   },
   {
    "duration": 30,
    "start_time": "2024-04-27T10:36:35.806Z"
   },
   {
    "duration": 21,
    "start_time": "2024-04-27T10:36:35.837Z"
   },
   {
    "duration": 5,
    "start_time": "2024-04-27T10:36:35.860Z"
   },
   {
    "duration": 21,
    "start_time": "2024-04-27T10:36:35.867Z"
   },
   {
    "duration": 30,
    "start_time": "2024-04-27T10:36:35.890Z"
   },
   {
    "duration": 5,
    "start_time": "2024-04-27T10:36:35.922Z"
   },
   {
    "duration": 12,
    "start_time": "2024-04-27T10:36:35.929Z"
   },
   {
    "duration": 11,
    "start_time": "2024-04-27T10:36:35.943Z"
   },
   {
    "duration": 15,
    "start_time": "2024-04-27T10:36:35.956Z"
   },
   {
    "duration": 15,
    "start_time": "2024-04-27T10:36:35.973Z"
   },
   {
    "duration": 23,
    "start_time": "2024-04-27T10:36:35.990Z"
   },
   {
    "duration": 46,
    "start_time": "2024-04-27T10:36:36.015Z"
   },
   {
    "duration": 13,
    "start_time": "2024-04-27T10:36:36.063Z"
   },
   {
    "duration": 23,
    "start_time": "2024-04-27T10:36:36.078Z"
   },
   {
    "duration": 61,
    "start_time": "2024-04-27T10:36:36.103Z"
   },
   {
    "duration": 16,
    "start_time": "2024-04-27T10:36:36.166Z"
   },
   {
    "duration": 26,
    "start_time": "2024-04-27T10:36:36.184Z"
   },
   {
    "duration": 4,
    "start_time": "2024-04-27T10:36:36.211Z"
   },
   {
    "duration": 15,
    "start_time": "2024-04-27T10:36:36.219Z"
   },
   {
    "duration": 140,
    "start_time": "2024-04-27T10:36:36.237Z"
   },
   {
    "duration": 0,
    "start_time": "2024-04-27T10:36:36.378Z"
   },
   {
    "duration": 0,
    "start_time": "2024-04-27T10:36:36.379Z"
   },
   {
    "duration": 0,
    "start_time": "2024-04-27T10:36:36.381Z"
   },
   {
    "duration": 0,
    "start_time": "2024-04-27T10:36:36.382Z"
   },
   {
    "duration": 0,
    "start_time": "2024-04-27T10:36:36.383Z"
   },
   {
    "duration": 0,
    "start_time": "2024-04-27T10:36:36.384Z"
   },
   {
    "duration": 0,
    "start_time": "2024-04-27T10:36:36.385Z"
   },
   {
    "duration": 0,
    "start_time": "2024-04-27T10:36:36.386Z"
   },
   {
    "duration": 0,
    "start_time": "2024-04-27T10:36:36.387Z"
   },
   {
    "duration": 0,
    "start_time": "2024-04-27T10:36:36.388Z"
   },
   {
    "duration": 0,
    "start_time": "2024-04-27T10:36:36.389Z"
   },
   {
    "duration": 0,
    "start_time": "2024-04-27T10:36:36.390Z"
   },
   {
    "duration": 0,
    "start_time": "2024-04-27T10:36:36.391Z"
   },
   {
    "duration": 0,
    "start_time": "2024-04-27T10:36:36.392Z"
   },
   {
    "duration": 0,
    "start_time": "2024-04-27T10:36:36.393Z"
   },
   {
    "duration": 0,
    "start_time": "2024-04-27T10:36:36.394Z"
   },
   {
    "duration": 0,
    "start_time": "2024-04-27T10:36:36.395Z"
   },
   {
    "duration": 0,
    "start_time": "2024-04-27T10:36:36.396Z"
   },
   {
    "duration": 0,
    "start_time": "2024-04-27T10:36:36.397Z"
   },
   {
    "duration": 0,
    "start_time": "2024-04-27T10:36:36.398Z"
   },
   {
    "duration": 0,
    "start_time": "2024-04-27T10:36:36.399Z"
   },
   {
    "duration": 0,
    "start_time": "2024-04-27T10:36:36.400Z"
   },
   {
    "duration": 0,
    "start_time": "2024-04-27T10:36:36.401Z"
   },
   {
    "duration": 0,
    "start_time": "2024-04-27T10:36:36.402Z"
   },
   {
    "duration": 0,
    "start_time": "2024-04-27T10:36:36.403Z"
   },
   {
    "duration": 0,
    "start_time": "2024-04-27T10:36:36.404Z"
   },
   {
    "duration": 0,
    "start_time": "2024-04-27T10:36:36.405Z"
   },
   {
    "duration": 0,
    "start_time": "2024-04-27T10:36:36.406Z"
   },
   {
    "duration": 0,
    "start_time": "2024-04-27T10:36:36.407Z"
   },
   {
    "duration": 0,
    "start_time": "2024-04-27T10:36:36.408Z"
   },
   {
    "duration": 2525,
    "start_time": "2024-04-27T10:39:54.187Z"
   },
   {
    "duration": 1723,
    "start_time": "2024-04-27T10:39:58.055Z"
   },
   {
    "duration": 107,
    "start_time": "2024-04-27T10:40:01.489Z"
   },
   {
    "duration": 26,
    "start_time": "2024-04-27T10:40:01.689Z"
   },
   {
    "duration": 16,
    "start_time": "2024-04-27T10:40:01.905Z"
   },
   {
    "duration": 13,
    "start_time": "2024-04-27T10:40:02.105Z"
   },
   {
    "duration": 9,
    "start_time": "2024-04-27T10:40:02.322Z"
   },
   {
    "duration": 13,
    "start_time": "2024-04-27T10:40:03.489Z"
   },
   {
    "duration": 7,
    "start_time": "2024-04-27T10:40:03.688Z"
   },
   {
    "duration": 9,
    "start_time": "2024-04-27T10:40:03.871Z"
   },
   {
    "duration": 21,
    "start_time": "2024-04-27T10:40:04.072Z"
   },
   {
    "duration": 6,
    "start_time": "2024-04-27T10:40:04.271Z"
   },
   {
    "duration": 30,
    "start_time": "2024-04-27T10:40:04.873Z"
   },
   {
    "duration": 22,
    "start_time": "2024-04-27T10:40:05.256Z"
   },
   {
    "duration": 9,
    "start_time": "2024-04-27T10:40:05.472Z"
   },
   {
    "duration": 7,
    "start_time": "2024-04-27T10:40:05.655Z"
   },
   {
    "duration": 6,
    "start_time": "2024-04-27T10:40:05.874Z"
   },
   {
    "duration": 6,
    "start_time": "2024-04-27T10:40:06.072Z"
   },
   {
    "duration": 6,
    "start_time": "2024-04-27T10:40:06.289Z"
   },
   {
    "duration": 7,
    "start_time": "2024-04-27T10:40:06.473Z"
   },
   {
    "duration": 39,
    "start_time": "2024-04-27T10:40:06.690Z"
   },
   {
    "duration": 11,
    "start_time": "2024-04-27T10:40:07.089Z"
   },
   {
    "duration": 5,
    "start_time": "2024-04-27T10:40:07.290Z"
   },
   {
    "duration": 48,
    "start_time": "2024-04-27T10:40:07.707Z"
   },
   {
    "duration": 20,
    "start_time": "2024-04-27T10:40:08.090Z"
   },
   {
    "duration": 23,
    "start_time": "2024-04-27T10:40:08.340Z"
   },
   {
    "duration": 4,
    "start_time": "2024-04-27T10:40:08.540Z"
   },
   {
    "duration": 13,
    "start_time": "2024-04-27T10:40:08.740Z"
   },
   {
    "duration": 6,
    "start_time": "2024-04-27T10:40:10.707Z"
   },
   {
    "duration": 2518,
    "start_time": "2024-04-27T10:41:19.018Z"
   },
   {
    "duration": 1582,
    "start_time": "2024-04-27T10:41:21.538Z"
   },
   {
    "duration": 42,
    "start_time": "2024-04-27T10:41:23.122Z"
   },
   {
    "duration": 17,
    "start_time": "2024-04-27T10:41:23.166Z"
   },
   {
    "duration": 14,
    "start_time": "2024-04-27T10:41:23.185Z"
   },
   {
    "duration": 14,
    "start_time": "2024-04-27T10:41:23.200Z"
   },
   {
    "duration": 7,
    "start_time": "2024-04-27T10:41:23.216Z"
   },
   {
    "duration": 19,
    "start_time": "2024-04-27T10:41:23.225Z"
   },
   {
    "duration": 27,
    "start_time": "2024-04-27T10:41:23.245Z"
   },
   {
    "duration": 23,
    "start_time": "2024-04-27T10:41:23.275Z"
   },
   {
    "duration": 25,
    "start_time": "2024-04-27T10:41:23.299Z"
   },
   {
    "duration": 6,
    "start_time": "2024-04-27T10:41:23.326Z"
   },
   {
    "duration": 39,
    "start_time": "2024-04-27T10:41:23.333Z"
   },
   {
    "duration": 16,
    "start_time": "2024-04-27T10:41:23.374Z"
   },
   {
    "duration": 7,
    "start_time": "2024-04-27T10:41:23.392Z"
   },
   {
    "duration": 7,
    "start_time": "2024-04-27T10:41:23.400Z"
   },
   {
    "duration": 6,
    "start_time": "2024-04-27T10:41:23.409Z"
   },
   {
    "duration": 5,
    "start_time": "2024-04-27T10:41:23.417Z"
   },
   {
    "duration": 46,
    "start_time": "2024-04-27T10:41:23.424Z"
   },
   {
    "duration": 7,
    "start_time": "2024-04-27T10:41:23.471Z"
   },
   {
    "duration": 39,
    "start_time": "2024-04-27T10:41:23.480Z"
   },
   {
    "duration": 12,
    "start_time": "2024-04-27T10:41:23.520Z"
   },
   {
    "duration": 8,
    "start_time": "2024-04-27T10:41:23.533Z"
   },
   {
    "duration": 70,
    "start_time": "2024-04-27T10:41:23.542Z"
   },
   {
    "duration": 15,
    "start_time": "2024-04-27T10:41:23.614Z"
   },
   {
    "duration": 43,
    "start_time": "2024-04-27T10:41:23.630Z"
   },
   {
    "duration": 15,
    "start_time": "2024-04-27T10:41:23.674Z"
   },
   {
    "duration": 28,
    "start_time": "2024-04-27T10:41:23.693Z"
   },
   {
    "duration": 19,
    "start_time": "2024-04-27T10:41:23.723Z"
   },
   {
    "duration": 2429,
    "start_time": "2024-04-27T10:41:56.815Z"
   },
   {
    "duration": 1626,
    "start_time": "2024-04-27T10:41:59.246Z"
   },
   {
    "duration": 41,
    "start_time": "2024-04-27T10:42:00.874Z"
   },
   {
    "duration": 45,
    "start_time": "2024-04-27T10:42:00.917Z"
   },
   {
    "duration": 61,
    "start_time": "2024-04-27T10:42:00.964Z"
   },
   {
    "duration": 56,
    "start_time": "2024-04-27T10:42:01.027Z"
   },
   {
    "duration": 170,
    "start_time": "2024-04-27T10:42:01.084Z"
   },
   {
    "duration": 77,
    "start_time": "2024-04-27T10:42:01.255Z"
   },
   {
    "duration": 47,
    "start_time": "2024-04-27T10:42:01.334Z"
   },
   {
    "duration": 50,
    "start_time": "2024-04-27T10:42:01.384Z"
   },
   {
    "duration": 60,
    "start_time": "2024-04-27T10:42:01.436Z"
   },
   {
    "duration": 33,
    "start_time": "2024-04-27T10:42:01.498Z"
   },
   {
    "duration": 64,
    "start_time": "2024-04-27T10:42:01.533Z"
   },
   {
    "duration": 41,
    "start_time": "2024-04-27T10:42:01.598Z"
   },
   {
    "duration": 53,
    "start_time": "2024-04-27T10:42:01.641Z"
   },
   {
    "duration": 74,
    "start_time": "2024-04-27T10:42:01.696Z"
   },
   {
    "duration": 158,
    "start_time": "2024-04-27T10:42:01.773Z"
   },
   {
    "duration": 42,
    "start_time": "2024-04-27T10:42:01.932Z"
   },
   {
    "duration": 61,
    "start_time": "2024-04-27T10:42:01.975Z"
   },
   {
    "duration": 104,
    "start_time": "2024-04-27T10:42:02.038Z"
   },
   {
    "duration": 79,
    "start_time": "2024-04-27T10:42:02.144Z"
   },
   {
    "duration": 33,
    "start_time": "2024-04-27T10:42:02.225Z"
   },
   {
    "duration": 173,
    "start_time": "2024-04-27T10:42:02.259Z"
   },
   {
    "duration": 65,
    "start_time": "2024-04-27T10:42:02.434Z"
   },
   {
    "duration": 20,
    "start_time": "2024-04-27T10:42:02.501Z"
   },
   {
    "duration": 37,
    "start_time": "2024-04-27T10:42:02.522Z"
   },
   {
    "duration": 81,
    "start_time": "2024-04-27T10:42:02.561Z"
   },
   {
    "duration": 28,
    "start_time": "2024-04-27T10:42:02.645Z"
   },
   {
    "duration": 38,
    "start_time": "2024-04-27T10:42:02.674Z"
   },
   {
    "duration": 17,
    "start_time": "2024-04-27T10:42:02.714Z"
   },
   {
    "duration": 2643,
    "start_time": "2024-04-27T10:42:02.733Z"
   },
   {
    "duration": 1877,
    "start_time": "2024-04-27T10:42:05.377Z"
   },
   {
    "duration": 3,
    "start_time": "2024-04-27T10:42:07.256Z"
   },
   {
    "duration": 44,
    "start_time": "2024-04-27T10:42:07.260Z"
   },
   {
    "duration": 3,
    "start_time": "2024-04-27T10:42:07.306Z"
   },
   {
    "duration": 24,
    "start_time": "2024-04-27T10:42:07.311Z"
   },
   {
    "duration": 2328,
    "start_time": "2024-04-27T10:42:07.337Z"
   },
   {
    "duration": 28,
    "start_time": "2024-04-27T10:42:09.667Z"
   },
   {
    "duration": 124,
    "start_time": "2024-04-27T10:42:09.696Z"
   },
   {
    "duration": 554,
    "start_time": "2024-04-27T10:42:09.821Z"
   },
   {
    "duration": 16,
    "start_time": "2024-04-27T10:42:10.377Z"
   },
   {
    "duration": 10,
    "start_time": "2024-04-27T10:42:10.394Z"
   },
   {
    "duration": 7,
    "start_time": "2024-04-27T10:42:10.406Z"
   },
   {
    "duration": 18,
    "start_time": "2024-04-27T10:42:10.414Z"
   },
   {
    "duration": 640,
    "start_time": "2024-04-27T10:42:10.433Z"
   },
   {
    "duration": 10,
    "start_time": "2024-04-27T10:42:11.075Z"
   },
   {
    "duration": 15,
    "start_time": "2024-04-27T10:42:11.087Z"
   },
   {
    "duration": 7,
    "start_time": "2024-04-27T10:42:11.104Z"
   },
   {
    "duration": 22,
    "start_time": "2024-04-27T10:42:11.112Z"
   },
   {
    "duration": 501,
    "start_time": "2024-04-27T10:42:11.136Z"
   },
   {
    "duration": 16,
    "start_time": "2024-04-27T10:42:11.639Z"
   },
   {
    "duration": 27,
    "start_time": "2024-04-27T10:42:11.657Z"
   },
   {
    "duration": 10,
    "start_time": "2024-04-27T10:42:11.686Z"
   },
   {
    "duration": 11,
    "start_time": "2024-04-27T10:42:11.697Z"
   },
   {
    "duration": 16,
    "start_time": "2024-04-27T10:42:11.709Z"
   },
   {
    "duration": 10,
    "start_time": "2024-04-27T10:42:11.727Z"
   },
   {
    "duration": 38,
    "start_time": "2024-04-27T10:42:11.738Z"
   },
   {
    "duration": 17,
    "start_time": "2024-04-27T10:42:11.777Z"
   },
   {
    "duration": 2502,
    "start_time": "2024-04-27T10:44:00.115Z"
   },
   {
    "duration": 1553,
    "start_time": "2024-04-27T10:44:02.619Z"
   },
   {
    "duration": 43,
    "start_time": "2024-04-27T10:44:05.298Z"
   },
   {
    "duration": 19,
    "start_time": "2024-04-27T10:44:05.465Z"
   },
   {
    "duration": 12,
    "start_time": "2024-04-27T10:44:05.667Z"
   },
   {
    "duration": 10,
    "start_time": "2024-04-27T10:44:05.865Z"
   },
   {
    "duration": 6,
    "start_time": "2024-04-27T10:44:06.065Z"
   },
   {
    "duration": 13,
    "start_time": "2024-04-27T10:44:07.199Z"
   },
   {
    "duration": 6,
    "start_time": "2024-04-27T10:44:07.399Z"
   },
   {
    "duration": 8,
    "start_time": "2024-04-27T10:44:07.583Z"
   },
   {
    "duration": 20,
    "start_time": "2024-04-27T10:44:07.782Z"
   },
   {
    "duration": 6,
    "start_time": "2024-04-27T10:44:07.965Z"
   },
   {
    "duration": 21,
    "start_time": "2024-04-27T10:44:08.582Z"
   },
   {
    "duration": 15,
    "start_time": "2024-04-27T10:44:08.949Z"
   },
   {
    "duration": 6,
    "start_time": "2024-04-27T10:44:09.166Z"
   },
   {
    "duration": 5,
    "start_time": "2024-04-27T10:44:09.382Z"
   },
   {
    "duration": 6,
    "start_time": "2024-04-27T10:44:09.598Z"
   },
   {
    "duration": 6,
    "start_time": "2024-04-27T10:44:09.816Z"
   },
   {
    "duration": 6,
    "start_time": "2024-04-27T10:44:10.016Z"
   },
   {
    "duration": 7,
    "start_time": "2024-04-27T10:44:10.216Z"
   },
   {
    "duration": 58,
    "start_time": "2024-04-27T10:44:10.417Z"
   },
   {
    "duration": 11,
    "start_time": "2024-04-27T10:44:10.816Z"
   },
   {
    "duration": 4,
    "start_time": "2024-04-27T10:44:11.001Z"
   },
   {
    "duration": 39,
    "start_time": "2024-04-27T10:44:11.416Z"
   },
   {
    "duration": 13,
    "start_time": "2024-04-27T10:44:11.834Z"
   },
   {
    "duration": 20,
    "start_time": "2024-04-27T10:44:12.034Z"
   },
   {
    "duration": 4,
    "start_time": "2024-04-27T10:44:12.250Z"
   },
   {
    "duration": 18,
    "start_time": "2024-04-27T10:44:12.450Z"
   },
   {
    "duration": 2,
    "start_time": "2024-04-27T10:44:14.217Z"
   },
   {
    "duration": 518,
    "start_time": "2024-04-27T10:44:14.468Z"
   },
   {
    "duration": 3,
    "start_time": "2024-04-27T10:44:14.988Z"
   },
   {
    "duration": 51,
    "start_time": "2024-04-27T10:46:13.589Z"
   },
   {
    "duration": 2518,
    "start_time": "2024-04-27T10:46:21.041Z"
   },
   {
    "duration": 1569,
    "start_time": "2024-04-27T10:46:23.561Z"
   },
   {
    "duration": 43,
    "start_time": "2024-04-27T10:46:25.131Z"
   },
   {
    "duration": 16,
    "start_time": "2024-04-27T10:46:25.176Z"
   },
   {
    "duration": 13,
    "start_time": "2024-04-27T10:46:25.194Z"
   },
   {
    "duration": 13,
    "start_time": "2024-04-27T10:46:25.209Z"
   },
   {
    "duration": 8,
    "start_time": "2024-04-27T10:46:25.224Z"
   },
   {
    "duration": 43,
    "start_time": "2024-04-27T10:46:25.234Z"
   },
   {
    "duration": 53,
    "start_time": "2024-04-27T10:46:25.279Z"
   },
   {
    "duration": 12,
    "start_time": "2024-04-27T10:46:25.334Z"
   },
   {
    "duration": 25,
    "start_time": "2024-04-27T10:46:25.348Z"
   },
   {
    "duration": 11,
    "start_time": "2024-04-27T10:46:25.375Z"
   },
   {
    "duration": 23,
    "start_time": "2024-04-27T10:46:26.659Z"
   },
   {
    "duration": 17,
    "start_time": "2024-04-27T10:46:27.077Z"
   },
   {
    "duration": 8,
    "start_time": "2024-04-27T10:46:27.275Z"
   },
   {
    "duration": 6,
    "start_time": "2024-04-27T10:46:27.492Z"
   },
   {
    "duration": 6,
    "start_time": "2024-04-27T10:46:27.660Z"
   },
   {
    "duration": 5,
    "start_time": "2024-04-27T10:46:28.061Z"
   },
   {
    "duration": 6,
    "start_time": "2024-04-27T10:46:28.275Z"
   },
   {
    "duration": 8,
    "start_time": "2024-04-27T10:46:28.476Z"
   },
   {
    "duration": 41,
    "start_time": "2024-04-27T10:46:28.675Z"
   },
   {
    "duration": 12,
    "start_time": "2024-04-27T10:46:29.094Z"
   },
   {
    "duration": 5,
    "start_time": "2024-04-27T10:46:29.479Z"
   },
   {
    "duration": 40,
    "start_time": "2024-04-27T10:46:30.174Z"
   },
   {
    "duration": 15,
    "start_time": "2024-04-27T10:46:30.377Z"
   },
   {
    "duration": 89,
    "start_time": "2024-04-27T10:46:30.576Z"
   },
   {
    "duration": 4,
    "start_time": "2024-04-27T10:46:30.760Z"
   },
   {
    "duration": 14,
    "start_time": "2024-04-27T10:46:31.010Z"
   },
   {
    "duration": 2,
    "start_time": "2024-04-27T10:46:32.744Z"
   },
   {
    "duration": 562,
    "start_time": "2024-04-27T10:46:32.944Z"
   },
   {
    "duration": 2,
    "start_time": "2024-04-27T10:46:33.712Z"
   },
   {
    "duration": 317,
    "start_time": "2024-04-27T10:48:15.178Z"
   },
   {
    "duration": 152,
    "start_time": "2024-04-27T10:48:31.534Z"
   },
   {
    "duration": 555,
    "start_time": "2024-04-27T10:48:37.986Z"
   },
   {
    "duration": 164,
    "start_time": "2024-04-27T10:49:15.263Z"
   },
   {
    "duration": 142,
    "start_time": "2024-04-27T10:49:40.837Z"
   },
   {
    "duration": 134,
    "start_time": "2024-04-27T10:51:12.435Z"
   },
   {
    "duration": 504,
    "start_time": "2024-04-27T10:51:26.822Z"
   },
   {
    "duration": 248,
    "start_time": "2024-04-27T10:52:17.338Z"
   },
   {
    "duration": 564,
    "start_time": "2024-04-27T10:52:47.903Z"
   },
   {
    "duration": 143,
    "start_time": "2024-04-27T11:00:08.503Z"
   },
   {
    "duration": 538,
    "start_time": "2024-04-27T11:00:27.391Z"
   },
   {
    "duration": 359,
    "start_time": "2024-04-27T11:02:07.123Z"
   },
   {
    "duration": 2917,
    "start_time": "2024-04-27T11:02:16.374Z"
   },
   {
    "duration": 11,
    "start_time": "2024-04-27T11:06:11.849Z"
   },
   {
    "duration": 3,
    "start_time": "2024-04-27T11:06:12.466Z"
   },
   {
    "duration": 1309,
    "start_time": "2024-04-27T11:06:13.150Z"
   },
   {
    "duration": 0,
    "start_time": "2024-04-27T11:06:14.460Z"
   },
   {
    "duration": 2506,
    "start_time": "2024-04-27T11:06:21.784Z"
   },
   {
    "duration": 4,
    "start_time": "2024-04-27T11:06:24.293Z"
   },
   {
    "duration": 62,
    "start_time": "2024-04-27T11:06:24.298Z"
   },
   {
    "duration": 14,
    "start_time": "2024-04-27T11:06:24.362Z"
   },
   {
    "duration": 38,
    "start_time": "2024-04-27T11:06:24.378Z"
   },
   {
    "duration": 35,
    "start_time": "2024-04-27T11:06:24.418Z"
   },
   {
    "duration": 8,
    "start_time": "2024-04-27T11:06:24.969Z"
   },
   {
    "duration": 20,
    "start_time": "2024-04-27T11:06:26.137Z"
   },
   {
    "duration": 6,
    "start_time": "2024-04-27T11:06:26.336Z"
   },
   {
    "duration": 9,
    "start_time": "2024-04-27T11:06:26.519Z"
   },
   {
    "duration": 22,
    "start_time": "2024-04-27T11:06:26.753Z"
   },
   {
    "duration": 6,
    "start_time": "2024-04-27T11:06:26.921Z"
   },
   {
    "duration": 20,
    "start_time": "2024-04-27T11:06:27.553Z"
   },
   {
    "duration": 15,
    "start_time": "2024-04-27T11:06:27.971Z"
   },
   {
    "duration": 6,
    "start_time": "2024-04-27T11:06:28.138Z"
   },
   {
    "duration": 6,
    "start_time": "2024-04-27T11:06:28.354Z"
   },
   {
    "duration": 7,
    "start_time": "2024-04-27T11:06:28.554Z"
   },
   {
    "duration": 5,
    "start_time": "2024-04-27T11:06:28.771Z"
   },
   {
    "duration": 7,
    "start_time": "2024-04-27T11:06:28.972Z"
   },
   {
    "duration": 6,
    "start_time": "2024-04-27T11:06:29.171Z"
   },
   {
    "duration": 39,
    "start_time": "2024-04-27T11:06:29.371Z"
   },
   {
    "duration": 11,
    "start_time": "2024-04-27T11:06:30.509Z"
   },
   {
    "duration": 123,
    "start_time": "2024-04-27T11:06:30.521Z"
   },
   {
    "duration": 133,
    "start_time": "2024-04-27T11:06:30.646Z"
   },
   {
    "duration": 33,
    "start_time": "2024-04-27T11:06:30.781Z"
   },
   {
    "duration": 21,
    "start_time": "2024-04-27T11:06:31.005Z"
   },
   {
    "duration": 4,
    "start_time": "2024-04-27T11:06:32.305Z"
   },
   {
    "duration": 12,
    "start_time": "2024-04-27T11:06:32.522Z"
   },
   {
    "duration": 3,
    "start_time": "2024-04-27T11:06:34.155Z"
   },
   {
    "duration": 360,
    "start_time": "2024-04-27T11:06:34.373Z"
   },
   {
    "duration": 510,
    "start_time": "2024-04-27T11:06:34.735Z"
   },
   {
    "duration": 2,
    "start_time": "2024-04-27T11:06:35.247Z"
   },
   {
    "duration": 2692,
    "start_time": "2024-04-27T11:06:35.250Z"
   },
   {
    "duration": 1917,
    "start_time": "2024-04-27T11:06:37.943Z"
   },
   {
    "duration": 9,
    "start_time": "2024-04-27T11:06:39.862Z"
   },
   {
    "duration": 16,
    "start_time": "2024-04-27T11:06:42.226Z"
   },
   {
    "duration": 3,
    "start_time": "2024-04-27T11:06:43.425Z"
   },
   {
    "duration": 21,
    "start_time": "2024-04-27T11:06:45.094Z"
   },
   {
    "duration": 2339,
    "start_time": "2024-04-27T11:06:46.526Z"
   },
   {
    "duration": 35,
    "start_time": "2024-04-27T11:07:54.881Z"
   },
   {
    "duration": 2130,
    "start_time": "2024-04-27T11:08:16.105Z"
   },
   {
    "duration": 26,
    "start_time": "2024-04-27T11:09:01.637Z"
   },
   {
    "duration": 79,
    "start_time": "2024-04-27T12:12:36.981Z"
   },
   {
    "duration": 23,
    "start_time": "2024-04-27T12:12:42.417Z"
   },
   {
    "duration": 832,
    "start_time": "2024-04-27T12:12:50.285Z"
   },
   {
    "duration": 253,
    "start_time": "2024-04-27T12:15:56.259Z"
   },
   {
    "duration": 238,
    "start_time": "2024-04-27T12:16:13.034Z"
   },
   {
    "duration": 262,
    "start_time": "2024-04-27T12:16:23.869Z"
   },
   {
    "duration": 264,
    "start_time": "2024-04-27T12:17:49.512Z"
   },
   {
    "duration": 149,
    "start_time": "2024-04-27T12:18:02.652Z"
   },
   {
    "duration": 280,
    "start_time": "2024-04-27T12:22:13.780Z"
   },
   {
    "duration": 81,
    "start_time": "2024-04-27T12:22:28.683Z"
   },
   {
    "duration": 143,
    "start_time": "2024-04-27T12:22:34.920Z"
   },
   {
    "duration": 262,
    "start_time": "2024-04-27T12:22:44.753Z"
   },
   {
    "duration": 306,
    "start_time": "2024-04-27T12:23:04.461Z"
   },
   {
    "duration": 274,
    "start_time": "2024-04-27T12:24:19.386Z"
   },
   {
    "duration": 651,
    "start_time": "2024-04-27T12:24:42.425Z"
   },
   {
    "duration": 2445,
    "start_time": "2024-04-27T12:32:35.339Z"
   },
   {
    "duration": 278,
    "start_time": "2024-04-27T12:34:18.537Z"
   },
   {
    "duration": 261,
    "start_time": "2024-04-27T12:34:27.706Z"
   },
   {
    "duration": 274,
    "start_time": "2024-04-27T12:34:45.861Z"
   },
   {
    "duration": 438,
    "start_time": "2024-04-27T12:38:49.338Z"
   },
   {
    "duration": 167,
    "start_time": "2024-04-27T12:39:14.230Z"
   },
   {
    "duration": 160,
    "start_time": "2024-04-27T12:39:25.966Z"
   },
   {
    "duration": 277,
    "start_time": "2024-04-27T12:39:40.038Z"
   },
   {
    "duration": 299,
    "start_time": "2024-04-27T12:40:21.100Z"
   },
   {
    "duration": 387,
    "start_time": "2024-04-27T12:44:09.053Z"
   },
   {
    "duration": 414,
    "start_time": "2024-04-27T12:44:21.625Z"
   },
   {
    "duration": 375,
    "start_time": "2024-04-27T12:44:37.595Z"
   },
   {
    "duration": 2001,
    "start_time": "2024-04-27T12:44:58.653Z"
   },
   {
    "duration": 54,
    "start_time": "2024-04-27T12:47:30.151Z"
   },
   {
    "duration": 2548,
    "start_time": "2024-04-27T12:47:57.158Z"
   },
   {
    "duration": 1704,
    "start_time": "2024-04-27T12:47:59.709Z"
   },
   {
    "duration": 89,
    "start_time": "2024-04-27T12:48:02.725Z"
   },
   {
    "duration": 16,
    "start_time": "2024-04-27T12:48:02.945Z"
   },
   {
    "duration": 15,
    "start_time": "2024-04-27T12:48:03.110Z"
   },
   {
    "duration": 14,
    "start_time": "2024-04-27T12:48:03.311Z"
   },
   {
    "duration": 9,
    "start_time": "2024-04-27T12:48:03.494Z"
   },
   {
    "duration": 22,
    "start_time": "2024-04-27T12:48:04.611Z"
   },
   {
    "duration": 9,
    "start_time": "2024-04-27T12:48:04.811Z"
   },
   {
    "duration": 15,
    "start_time": "2024-04-27T12:48:04.994Z"
   },
   {
    "duration": 24,
    "start_time": "2024-04-27T12:48:05.180Z"
   },
   {
    "duration": 6,
    "start_time": "2024-04-27T12:48:05.378Z"
   },
   {
    "duration": 22,
    "start_time": "2024-04-27T12:48:05.961Z"
   },
   {
    "duration": 16,
    "start_time": "2024-04-27T12:48:06.361Z"
   },
   {
    "duration": 7,
    "start_time": "2024-04-27T12:48:06.544Z"
   },
   {
    "duration": 6,
    "start_time": "2024-04-27T12:48:06.761Z"
   },
   {
    "duration": 6,
    "start_time": "2024-04-27T12:48:06.944Z"
   },
   {
    "duration": 7,
    "start_time": "2024-04-27T12:48:07.160Z"
   },
   {
    "duration": 6,
    "start_time": "2024-04-27T12:48:07.360Z"
   },
   {
    "duration": 7,
    "start_time": "2024-04-27T12:48:07.546Z"
   },
   {
    "duration": 49,
    "start_time": "2024-04-27T12:48:07.745Z"
   },
   {
    "duration": 12,
    "start_time": "2024-04-27T12:48:08.128Z"
   },
   {
    "duration": 5,
    "start_time": "2024-04-27T12:48:08.361Z"
   },
   {
    "duration": 45,
    "start_time": "2024-04-27T12:48:08.763Z"
   },
   {
    "duration": 14,
    "start_time": "2024-04-27T12:48:09.395Z"
   },
   {
    "duration": 21,
    "start_time": "2024-04-27T12:48:09.628Z"
   },
   {
    "duration": 4,
    "start_time": "2024-04-27T12:48:09.862Z"
   },
   {
    "duration": 13,
    "start_time": "2024-04-27T12:48:10.096Z"
   },
   {
    "duration": 2,
    "start_time": "2024-04-27T12:48:11.846Z"
   },
   {
    "duration": 428,
    "start_time": "2024-04-27T12:48:12.080Z"
   },
   {
    "duration": 192,
    "start_time": "2024-04-27T12:48:12.509Z"
   },
   {
    "duration": 0,
    "start_time": "2024-04-27T12:48:12.702Z"
   },
   {
    "duration": 674,
    "start_time": "2024-04-27T12:48:12.965Z"
   },
   {
    "duration": 2,
    "start_time": "2024-04-27T12:48:13.640Z"
   },
   {
    "duration": 2183,
    "start_time": "2024-04-27T12:48:13.644Z"
   },
   {
    "duration": 2723,
    "start_time": "2024-04-27T12:48:15.829Z"
   },
   {
    "duration": 376,
    "start_time": "2024-04-27T12:49:05.597Z"
   },
   {
    "duration": 52,
    "start_time": "2024-04-27T12:49:59.715Z"
   },
   {
    "duration": 2483,
    "start_time": "2024-04-27T12:50:10.883Z"
   },
   {
    "duration": 1742,
    "start_time": "2024-04-27T12:50:14.553Z"
   },
   {
    "duration": 93,
    "start_time": "2024-04-27T12:50:17.234Z"
   },
   {
    "duration": 16,
    "start_time": "2024-04-27T12:50:17.420Z"
   },
   {
    "duration": 16,
    "start_time": "2024-04-27T12:50:17.603Z"
   },
   {
    "duration": 10,
    "start_time": "2024-04-27T12:50:17.785Z"
   },
   {
    "duration": 7,
    "start_time": "2024-04-27T12:50:17.986Z"
   },
   {
    "duration": 13,
    "start_time": "2024-04-27T12:50:19.169Z"
   },
   {
    "duration": 6,
    "start_time": "2024-04-27T12:50:19.370Z"
   },
   {
    "duration": 13,
    "start_time": "2024-04-27T12:50:19.586Z"
   },
   {
    "duration": 21,
    "start_time": "2024-04-27T12:50:19.754Z"
   },
   {
    "duration": 6,
    "start_time": "2024-04-27T12:50:19.969Z"
   },
   {
    "duration": 22,
    "start_time": "2024-04-27T12:50:20.737Z"
   },
   {
    "duration": 15,
    "start_time": "2024-04-27T12:50:21.135Z"
   },
   {
    "duration": 6,
    "start_time": "2024-04-27T12:50:21.336Z"
   },
   {
    "duration": 7,
    "start_time": "2024-04-27T12:50:21.555Z"
   },
   {
    "duration": 5,
    "start_time": "2024-04-27T12:50:21.752Z"
   },
   {
    "duration": 6,
    "start_time": "2024-04-27T12:50:21.919Z"
   },
   {
    "duration": 7,
    "start_time": "2024-04-27T12:50:22.102Z"
   },
   {
    "duration": 7,
    "start_time": "2024-04-27T12:50:22.319Z"
   },
   {
    "duration": 39,
    "start_time": "2024-04-27T12:50:22.570Z"
   },
   {
    "duration": 11,
    "start_time": "2024-04-27T12:50:22.938Z"
   },
   {
    "duration": 4,
    "start_time": "2024-04-27T12:50:23.153Z"
   },
   {
    "duration": 37,
    "start_time": "2024-04-27T12:50:23.586Z"
   },
   {
    "duration": 14,
    "start_time": "2024-04-27T12:50:24.254Z"
   },
   {
    "duration": 20,
    "start_time": "2024-04-27T12:50:24.471Z"
   },
   {
    "duration": 4,
    "start_time": "2024-04-27T12:50:24.704Z"
   },
   {
    "duration": 13,
    "start_time": "2024-04-27T12:50:24.937Z"
   },
   {
    "duration": 2,
    "start_time": "2024-04-27T12:50:27.354Z"
   },
   {
    "duration": 385,
    "start_time": "2024-04-27T12:50:27.638Z"
   },
   {
    "duration": 192,
    "start_time": "2024-04-27T12:50:28.025Z"
   },
   {
    "duration": 738,
    "start_time": "2024-04-27T12:50:29.641Z"
   },
   {
    "duration": 390,
    "start_time": "2024-04-27T12:51:06.053Z"
   },
   {
    "duration": 541,
    "start_time": "2024-04-27T12:51:22.239Z"
   },
   {
    "duration": 2,
    "start_time": "2024-04-27T12:51:44.482Z"
   },
   {
    "duration": 522,
    "start_time": "2024-04-27T12:51:50.266Z"
   },
   {
    "duration": 0,
    "start_time": "2024-04-27T12:53:43.404Z"
   },
   {
    "duration": 4,
    "start_time": "2024-04-27T12:53:46.501Z"
   },
   {
    "duration": 38,
    "start_time": "2024-04-27T12:53:47.868Z"
   },
   {
    "duration": 15,
    "start_time": "2024-04-27T12:53:48.101Z"
   },
   {
    "duration": 13,
    "start_time": "2024-04-27T12:53:48.335Z"
   },
   {
    "duration": 10,
    "start_time": "2024-04-27T12:53:48.601Z"
   },
   {
    "duration": 8,
    "start_time": "2024-04-27T12:53:48.885Z"
   },
   {
    "duration": 15,
    "start_time": "2024-04-27T12:53:50.451Z"
   },
   {
    "duration": 6,
    "start_time": "2024-04-27T12:53:50.706Z"
   },
   {
    "duration": 9,
    "start_time": "2024-04-27T12:53:51.002Z"
   },
   {
    "duration": 28,
    "start_time": "2024-04-27T12:53:51.669Z"
   },
   {
    "duration": 7,
    "start_time": "2024-04-27T12:53:51.902Z"
   },
   {
    "duration": 25,
    "start_time": "2024-04-27T12:53:52.702Z"
   },
   {
    "duration": 16,
    "start_time": "2024-04-27T12:53:53.154Z"
   },
   {
    "duration": 6,
    "start_time": "2024-04-27T12:53:53.403Z"
   },
   {
    "duration": 6,
    "start_time": "2024-04-27T12:53:53.686Z"
   },
   {
    "duration": 5,
    "start_time": "2024-04-27T12:53:54.004Z"
   },
   {
    "duration": 5,
    "start_time": "2024-04-27T12:53:54.253Z"
   },
   {
    "duration": 7,
    "start_time": "2024-04-27T12:53:54.504Z"
   },
   {
    "duration": 7,
    "start_time": "2024-04-27T12:53:54.736Z"
   },
   {
    "duration": 37,
    "start_time": "2024-04-27T12:53:54.986Z"
   },
   {
    "duration": 16,
    "start_time": "2024-04-27T12:53:55.469Z"
   },
   {
    "duration": 5,
    "start_time": "2024-04-27T12:53:55.703Z"
   },
   {
    "duration": 38,
    "start_time": "2024-04-27T12:53:56.203Z"
   },
   {
    "duration": 16,
    "start_time": "2024-04-27T12:53:56.719Z"
   },
   {
    "duration": 20,
    "start_time": "2024-04-27T12:53:56.987Z"
   },
   {
    "duration": 3,
    "start_time": "2024-04-27T12:53:57.253Z"
   },
   {
    "duration": 13,
    "start_time": "2024-04-27T12:53:57.536Z"
   },
   {
    "duration": 412,
    "start_time": "2024-04-27T12:54:01.387Z"
   },
   {
    "duration": 2523,
    "start_time": "2024-04-27T12:54:35.318Z"
   },
   {
    "duration": 1604,
    "start_time": "2024-04-27T12:54:37.843Z"
   },
   {
    "duration": 41,
    "start_time": "2024-04-27T12:54:40.817Z"
   },
   {
    "duration": 16,
    "start_time": "2024-04-27T12:54:41.035Z"
   },
   {
    "duration": 15,
    "start_time": "2024-04-27T12:54:41.217Z"
   },
   {
    "duration": 9,
    "start_time": "2024-04-27T12:54:41.418Z"
   },
   {
    "duration": 8,
    "start_time": "2024-04-27T12:54:41.601Z"
   },
   {
    "duration": 13,
    "start_time": "2024-04-27T12:54:42.718Z"
   },
   {
    "duration": 6,
    "start_time": "2024-04-27T12:54:42.903Z"
   },
   {
    "duration": 9,
    "start_time": "2024-04-27T12:54:43.102Z"
   },
   {
    "duration": 21,
    "start_time": "2024-04-27T12:54:43.320Z"
   },
   {
    "duration": 5,
    "start_time": "2024-04-27T12:54:43.503Z"
   },
   {
    "duration": 21,
    "start_time": "2024-04-27T12:54:44.102Z"
   },
   {
    "duration": 16,
    "start_time": "2024-04-27T12:54:44.502Z"
   },
   {
    "duration": 6,
    "start_time": "2024-04-27T12:54:44.702Z"
   },
   {
    "duration": 7,
    "start_time": "2024-04-27T12:54:44.904Z"
   },
   {
    "duration": 6,
    "start_time": "2024-04-27T12:54:45.103Z"
   },
   {
    "duration": 6,
    "start_time": "2024-04-27T12:54:45.303Z"
   },
   {
    "duration": 6,
    "start_time": "2024-04-27T12:54:45.488Z"
   },
   {
    "duration": 7,
    "start_time": "2024-04-27T12:54:45.702Z"
   },
   {
    "duration": 38,
    "start_time": "2024-04-27T12:54:45.886Z"
   },
   {
    "duration": 12,
    "start_time": "2024-04-27T12:54:46.287Z"
   },
   {
    "duration": 4,
    "start_time": "2024-04-27T12:54:46.487Z"
   },
   {
    "duration": 43,
    "start_time": "2024-04-27T12:54:46.870Z"
   },
   {
    "duration": 17,
    "start_time": "2024-04-27T12:54:47.269Z"
   },
   {
    "duration": 26,
    "start_time": "2024-04-27T12:54:47.470Z"
   },
   {
    "duration": 9,
    "start_time": "2024-04-27T12:54:47.669Z"
   },
   {
    "duration": 17,
    "start_time": "2024-04-27T12:54:47.876Z"
   },
   {
    "duration": 419,
    "start_time": "2024-04-27T12:54:49.639Z"
   },
   {
    "duration": 2574,
    "start_time": "2024-04-27T12:56:28.684Z"
   },
   {
    "duration": 1573,
    "start_time": "2024-04-27T12:56:31.968Z"
   },
   {
    "duration": 42,
    "start_time": "2024-04-27T12:56:34.622Z"
   },
   {
    "duration": 24,
    "start_time": "2024-04-27T12:56:34.852Z"
   },
   {
    "duration": 20,
    "start_time": "2024-04-27T12:56:35.072Z"
   },
   {
    "duration": 14,
    "start_time": "2024-04-27T12:56:35.271Z"
   },
   {
    "duration": 10,
    "start_time": "2024-04-27T12:56:35.470Z"
   },
   {
    "duration": 14,
    "start_time": "2024-04-27T12:56:36.685Z"
   },
   {
    "duration": 6,
    "start_time": "2024-04-27T12:56:36.919Z"
   },
   {
    "duration": 10,
    "start_time": "2024-04-27T12:56:37.086Z"
   },
   {
    "duration": 22,
    "start_time": "2024-04-27T12:56:37.302Z"
   },
   {
    "duration": 6,
    "start_time": "2024-04-27T12:56:37.687Z"
   },
   {
    "duration": 21,
    "start_time": "2024-04-27T12:56:38.236Z"
   },
   {
    "duration": 16,
    "start_time": "2024-04-27T12:56:38.623Z"
   },
   {
    "duration": 6,
    "start_time": "2024-04-27T12:56:38.804Z"
   },
   {
    "duration": 6,
    "start_time": "2024-04-27T12:56:39.004Z"
   },
   {
    "duration": 6,
    "start_time": "2024-04-27T12:56:39.204Z"
   },
   {
    "duration": 6,
    "start_time": "2024-04-27T12:56:39.370Z"
   },
   {
    "duration": 6,
    "start_time": "2024-04-27T12:56:39.587Z"
   },
   {
    "duration": 6,
    "start_time": "2024-04-27T12:56:39.755Z"
   },
   {
    "duration": 61,
    "start_time": "2024-04-27T12:56:39.971Z"
   },
   {
    "duration": 12,
    "start_time": "2024-04-27T12:56:40.354Z"
   },
   {
    "duration": 5,
    "start_time": "2024-04-27T12:56:40.554Z"
   },
   {
    "duration": 39,
    "start_time": "2024-04-27T12:56:40.937Z"
   },
   {
    "duration": 15,
    "start_time": "2024-04-27T12:56:41.389Z"
   },
   {
    "duration": 21,
    "start_time": "2024-04-27T12:56:41.587Z"
   },
   {
    "duration": 4,
    "start_time": "2024-04-27T12:56:41.804Z"
   },
   {
    "duration": 12,
    "start_time": "2024-04-27T12:56:42.038Z"
   },
   {
    "duration": 410,
    "start_time": "2024-04-27T12:56:50.774Z"
   },
   {
    "duration": 481,
    "start_time": "2024-04-27T12:56:54.960Z"
   },
   {
    "duration": 0,
    "start_time": "2024-04-27T12:57:30.703Z"
   },
   {
    "duration": 0,
    "start_time": "2024-04-27T12:57:30.706Z"
   },
   {
    "duration": 407,
    "start_time": "2024-04-27T12:57:36.256Z"
   },
   {
    "duration": 403,
    "start_time": "2024-04-27T12:58:11.301Z"
   },
   {
    "duration": 667,
    "start_time": "2024-04-27T12:58:17.168Z"
   },
   {
    "duration": 507,
    "start_time": "2024-04-27T12:58:20.738Z"
   },
   {
    "duration": 1877,
    "start_time": "2024-04-27T12:58:25.721Z"
   },
   {
    "duration": 1265,
    "start_time": "2024-04-27T12:58:46.277Z"
   },
   {
    "duration": 47,
    "start_time": "2024-04-27T12:59:25.608Z"
   },
   {
    "duration": 2517,
    "start_time": "2024-04-27T12:59:35.909Z"
   },
   {
    "duration": 1561,
    "start_time": "2024-04-27T12:59:38.429Z"
   },
   {
    "duration": 89,
    "start_time": "2024-04-27T12:59:41.960Z"
   },
   {
    "duration": 17,
    "start_time": "2024-04-27T12:59:42.144Z"
   },
   {
    "duration": 14,
    "start_time": "2024-04-27T12:59:42.328Z"
   },
   {
    "duration": 10,
    "start_time": "2024-04-27T12:59:42.511Z"
   },
   {
    "duration": 7,
    "start_time": "2024-04-27T12:59:42.694Z"
   },
   {
    "duration": 13,
    "start_time": "2024-04-27T12:59:43.828Z"
   },
   {
    "duration": 8,
    "start_time": "2024-04-27T12:59:44.062Z"
   },
   {
    "duration": 10,
    "start_time": "2024-04-27T12:59:44.245Z"
   },
   {
    "duration": 24,
    "start_time": "2024-04-27T12:59:44.429Z"
   },
   {
    "duration": 6,
    "start_time": "2024-04-27T12:59:44.629Z"
   },
   {
    "duration": 20,
    "start_time": "2024-04-27T12:59:45.213Z"
   },
   {
    "duration": 15,
    "start_time": "2024-04-27T12:59:45.628Z"
   },
   {
    "duration": 7,
    "start_time": "2024-04-27T12:59:45.812Z"
   },
   {
    "duration": 6,
    "start_time": "2024-04-27T12:59:46.012Z"
   },
   {
    "duration": 6,
    "start_time": "2024-04-27T12:59:46.212Z"
   },
   {
    "duration": 6,
    "start_time": "2024-04-27T12:59:46.412Z"
   },
   {
    "duration": 5,
    "start_time": "2024-04-27T12:59:46.596Z"
   },
   {
    "duration": 7,
    "start_time": "2024-04-27T12:59:46.812Z"
   },
   {
    "duration": 45,
    "start_time": "2024-04-27T12:59:46.997Z"
   },
   {
    "duration": 11,
    "start_time": "2024-04-27T12:59:47.396Z"
   },
   {
    "duration": 5,
    "start_time": "2024-04-27T12:59:47.596Z"
   },
   {
    "duration": 47,
    "start_time": "2024-04-27T12:59:47.996Z"
   },
   {
    "duration": 15,
    "start_time": "2024-04-27T12:59:48.416Z"
   },
   {
    "duration": 20,
    "start_time": "2024-04-27T12:59:48.631Z"
   },
   {
    "duration": 4,
    "start_time": "2024-04-27T12:59:48.830Z"
   },
   {
    "duration": 13,
    "start_time": "2024-04-27T12:59:49.063Z"
   },
   {
    "duration": 425,
    "start_time": "2024-04-27T12:59:50.864Z"
   },
   {
    "duration": 2576,
    "start_time": "2024-04-27T13:01:12.155Z"
   },
   {
    "duration": 1569,
    "start_time": "2024-04-27T13:01:15.527Z"
   },
   {
    "duration": 42,
    "start_time": "2024-04-27T13:01:18.242Z"
   },
   {
    "duration": 17,
    "start_time": "2024-04-27T13:01:18.476Z"
   },
   {
    "duration": 13,
    "start_time": "2024-04-27T13:01:18.725Z"
   },
   {
    "duration": 10,
    "start_time": "2024-04-27T13:01:18.959Z"
   },
   {
    "duration": 7,
    "start_time": "2024-04-27T13:01:19.192Z"
   },
   {
    "duration": 13,
    "start_time": "2024-04-27T13:01:20.975Z"
   },
   {
    "duration": 6,
    "start_time": "2024-04-27T13:01:21.226Z"
   },
   {
    "duration": 10,
    "start_time": "2024-04-27T13:01:21.495Z"
   },
   {
    "duration": 22,
    "start_time": "2024-04-27T13:01:21.727Z"
   },
   {
    "duration": 6,
    "start_time": "2024-04-27T13:01:21.982Z"
   },
   {
    "duration": 23,
    "start_time": "2024-04-27T13:01:22.626Z"
   },
   {
    "duration": 23,
    "start_time": "2024-04-27T13:01:23.044Z"
   },
   {
    "duration": 6,
    "start_time": "2024-04-27T13:01:23.260Z"
   },
   {
    "duration": 5,
    "start_time": "2024-04-27T13:01:23.461Z"
   },
   {
    "duration": 6,
    "start_time": "2024-04-27T13:01:23.660Z"
   },
   {
    "duration": 6,
    "start_time": "2024-04-27T13:01:23.880Z"
   },
   {
    "duration": 6,
    "start_time": "2024-04-27T13:01:24.093Z"
   },
   {
    "duration": 7,
    "start_time": "2024-04-27T13:01:24.294Z"
   },
   {
    "duration": 54,
    "start_time": "2024-04-27T13:01:24.494Z"
   },
   {
    "duration": 11,
    "start_time": "2024-04-27T13:01:25.093Z"
   },
   {
    "duration": 4,
    "start_time": "2024-04-27T13:01:25.310Z"
   },
   {
    "duration": 37,
    "start_time": "2024-04-27T13:01:25.809Z"
   },
   {
    "duration": 18,
    "start_time": "2024-04-27T13:01:26.859Z"
   },
   {
    "duration": 22,
    "start_time": "2024-04-27T13:01:30.445Z"
   },
   {
    "duration": 4,
    "start_time": "2024-04-27T13:01:30.696Z"
   },
   {
    "duration": 14,
    "start_time": "2024-04-27T13:01:30.928Z"
   },
   {
    "duration": 400,
    "start_time": "2024-04-27T13:01:37.430Z"
   },
   {
    "duration": 1318,
    "start_time": "2024-04-27T13:01:43.969Z"
   },
   {
    "duration": 55,
    "start_time": "2024-04-27T13:02:24.598Z"
   },
   {
    "duration": 1678,
    "start_time": "2024-04-27T13:02:33.799Z"
   },
   {
    "duration": 92,
    "start_time": "2024-04-27T13:02:36.849Z"
   },
   {
    "duration": 17,
    "start_time": "2024-04-27T13:02:37.165Z"
   },
   {
    "duration": 16,
    "start_time": "2024-04-27T13:02:38.150Z"
   },
   {
    "duration": 1496,
    "start_time": "2024-04-27T13:02:44.937Z"
   },
   {
    "duration": 13,
    "start_time": "2024-04-27T13:03:41.986Z"
   },
   {
    "duration": 9,
    "start_time": "2024-04-27T13:03:42.919Z"
   },
   {
    "duration": 2530,
    "start_time": "2024-04-27T13:05:54.236Z"
   },
   {
    "duration": 1674,
    "start_time": "2024-04-27T13:05:56.768Z"
   },
   {
    "duration": 42,
    "start_time": "2024-04-27T13:05:59.631Z"
   },
   {
    "duration": 18,
    "start_time": "2024-04-27T13:05:59.896Z"
   },
   {
    "duration": 15,
    "start_time": "2024-04-27T13:06:00.112Z"
   },
   {
    "duration": 11,
    "start_time": "2024-04-27T13:06:00.362Z"
   },
   {
    "duration": 8,
    "start_time": "2024-04-27T13:06:00.613Z"
   },
   {
    "duration": 13,
    "start_time": "2024-04-27T13:06:01.946Z"
   },
   {
    "duration": 6,
    "start_time": "2024-04-27T13:06:02.179Z"
   },
   {
    "duration": 10,
    "start_time": "2024-04-27T13:06:02.363Z"
   },
   {
    "duration": 22,
    "start_time": "2024-04-27T13:06:02.579Z"
   },
   {
    "duration": 7,
    "start_time": "2024-04-27T13:06:02.780Z"
   },
   {
    "duration": 20,
    "start_time": "2024-04-27T13:06:03.396Z"
   },
   {
    "duration": 24,
    "start_time": "2024-04-27T13:06:03.847Z"
   },
   {
    "duration": 8,
    "start_time": "2024-04-27T13:06:04.063Z"
   },
   {
    "duration": 6,
    "start_time": "2024-04-27T13:06:04.297Z"
   },
   {
    "duration": 6,
    "start_time": "2024-04-27T13:06:04.496Z"
   },
   {
    "duration": 8,
    "start_time": "2024-04-27T13:06:04.713Z"
   },
   {
    "duration": 6,
    "start_time": "2024-04-27T13:06:04.914Z"
   },
   {
    "duration": 7,
    "start_time": "2024-04-27T13:06:05.097Z"
   },
   {
    "duration": 42,
    "start_time": "2024-04-27T13:06:05.314Z"
   },
   {
    "duration": 12,
    "start_time": "2024-04-27T13:06:05.730Z"
   },
   {
    "duration": 4,
    "start_time": "2024-04-27T13:06:05.948Z"
   },
   {
    "duration": 40,
    "start_time": "2024-04-27T13:06:06.380Z"
   },
   {
    "duration": 14,
    "start_time": "2024-04-27T13:06:06.931Z"
   },
   {
    "duration": 22,
    "start_time": "2024-04-27T13:06:07.230Z"
   },
   {
    "duration": 4,
    "start_time": "2024-04-27T13:06:07.932Z"
   },
   {
    "duration": 13,
    "start_time": "2024-04-27T13:06:08.233Z"
   },
   {
    "duration": 434,
    "start_time": "2024-04-27T13:06:10.098Z"
   },
   {
    "duration": 1330,
    "start_time": "2024-04-27T13:06:11.865Z"
   },
   {
    "duration": 55,
    "start_time": "2024-04-27T13:10:02.654Z"
   },
   {
    "duration": 2634,
    "start_time": "2024-04-27T13:10:09.457Z"
   },
   {
    "duration": 1709,
    "start_time": "2024-04-27T13:10:12.094Z"
   },
   {
    "duration": 92,
    "start_time": "2024-04-27T13:10:13.805Z"
   },
   {
    "duration": 24,
    "start_time": "2024-04-27T13:10:13.899Z"
   },
   {
    "duration": 18,
    "start_time": "2024-04-27T13:10:14.125Z"
   },
   {
    "duration": 15,
    "start_time": "2024-04-27T13:10:14.309Z"
   },
   {
    "duration": 10,
    "start_time": "2024-04-27T13:10:14.475Z"
   },
   {
    "duration": 16,
    "start_time": "2024-04-27T13:10:15.556Z"
   },
   {
    "duration": 6,
    "start_time": "2024-04-27T13:10:15.729Z"
   },
   {
    "duration": 10,
    "start_time": "2024-04-27T13:10:15.924Z"
   },
   {
    "duration": 33,
    "start_time": "2024-04-27T13:10:16.108Z"
   },
   {
    "duration": 6,
    "start_time": "2024-04-27T13:10:16.308Z"
   },
   {
    "duration": 22,
    "start_time": "2024-04-27T13:10:16.842Z"
   },
   {
    "duration": 16,
    "start_time": "2024-04-27T13:10:17.241Z"
   },
   {
    "duration": 8,
    "start_time": "2024-04-27T13:10:17.441Z"
   },
   {
    "duration": 8,
    "start_time": "2024-04-27T13:10:17.642Z"
   },
   {
    "duration": 7,
    "start_time": "2024-04-27T13:10:17.841Z"
   },
   {
    "duration": 8,
    "start_time": "2024-04-27T13:10:18.075Z"
   },
   {
    "duration": 7,
    "start_time": "2024-04-27T13:10:18.394Z"
   },
   {
    "duration": 10,
    "start_time": "2024-04-27T13:10:18.626Z"
   },
   {
    "duration": 66,
    "start_time": "2024-04-27T13:10:18.843Z"
   },
   {
    "duration": 18,
    "start_time": "2024-04-27T13:10:19.293Z"
   },
   {
    "duration": 5,
    "start_time": "2024-04-27T13:10:19.643Z"
   },
   {
    "duration": 56,
    "start_time": "2024-04-27T13:10:20.326Z"
   },
   {
    "duration": 15,
    "start_time": "2024-04-27T13:10:20.742Z"
   },
   {
    "duration": 23,
    "start_time": "2024-04-27T13:10:20.944Z"
   },
   {
    "duration": 4,
    "start_time": "2024-04-27T13:10:21.161Z"
   },
   {
    "duration": 14,
    "start_time": "2024-04-27T13:10:21.359Z"
   },
   {
    "duration": 390,
    "start_time": "2024-04-27T13:10:24.580Z"
   },
   {
    "duration": 1314,
    "start_time": "2024-04-27T13:10:26.261Z"
   },
   {
    "duration": 4251,
    "start_time": "2024-04-27T13:10:31.163Z"
   },
   {
    "duration": 576,
    "start_time": "2024-04-27T13:10:45.286Z"
   },
   {
    "duration": 289,
    "start_time": "2024-04-27T13:12:15.513Z"
   },
   {
    "duration": 617,
    "start_time": "2024-04-27T13:12:26.598Z"
   },
   {
    "duration": 566,
    "start_time": "2024-04-27T13:12:37.736Z"
   },
   {
    "duration": 4632,
    "start_time": "2024-04-27T13:12:55.592Z"
   },
   {
    "duration": 519,
    "start_time": "2024-04-27T13:13:16.935Z"
   },
   {
    "duration": 326,
    "start_time": "2024-04-27T13:13:25.687Z"
   },
   {
    "duration": 346,
    "start_time": "2024-04-27T13:13:33.321Z"
   },
   {
    "duration": 4649,
    "start_time": "2024-04-27T13:13:56.843Z"
   },
   {
    "duration": 996,
    "start_time": "2024-04-27T13:21:19.466Z"
   },
   {
    "duration": 861,
    "start_time": "2024-04-27T13:21:54.177Z"
   },
   {
    "duration": 98,
    "start_time": "2024-04-27T13:22:29.820Z"
   },
   {
    "duration": 952,
    "start_time": "2024-04-27T13:22:43.794Z"
   },
   {
    "duration": 19,
    "start_time": "2024-04-27T13:22:51.093Z"
   },
   {
    "duration": 855,
    "start_time": "2024-04-27T13:23:04.332Z"
   },
   {
    "duration": 609,
    "start_time": "2024-04-27T13:24:44.879Z"
   },
   {
    "duration": 2670,
    "start_time": "2024-04-27T13:27:11.523Z"
   },
   {
    "duration": 196,
    "start_time": "2024-04-27T13:28:08.359Z"
   },
   {
    "duration": 2577,
    "start_time": "2024-04-27T13:37:22.530Z"
   },
   {
    "duration": 2089,
    "start_time": "2024-04-27T13:37:25.799Z"
   },
   {
    "duration": 117,
    "start_time": "2024-04-27T13:37:27.890Z"
   },
   {
    "duration": 16,
    "start_time": "2024-04-27T13:37:28.008Z"
   },
   {
    "duration": 13,
    "start_time": "2024-04-27T13:37:28.026Z"
   },
   {
    "duration": 58,
    "start_time": "2024-04-27T13:37:28.040Z"
   },
   {
    "duration": 6,
    "start_time": "2024-04-27T13:37:28.100Z"
   },
   {
    "duration": 17,
    "start_time": "2024-04-27T13:37:28.499Z"
   },
   {
    "duration": 6,
    "start_time": "2024-04-27T13:37:28.685Z"
   },
   {
    "duration": 10,
    "start_time": "2024-04-27T13:37:28.883Z"
   },
   {
    "duration": 23,
    "start_time": "2024-04-27T13:37:29.117Z"
   },
   {
    "duration": 8,
    "start_time": "2024-04-27T13:37:29.300Z"
   },
   {
    "duration": 21,
    "start_time": "2024-04-27T13:37:29.917Z"
   },
   {
    "duration": 21,
    "start_time": "2024-04-27T13:37:30.300Z"
   },
   {
    "duration": 6,
    "start_time": "2024-04-27T13:37:30.500Z"
   },
   {
    "duration": 5,
    "start_time": "2024-04-27T13:37:30.700Z"
   },
   {
    "duration": 6,
    "start_time": "2024-04-27T13:37:30.900Z"
   },
   {
    "duration": 7,
    "start_time": "2024-04-27T13:37:31.100Z"
   },
   {
    "duration": 6,
    "start_time": "2024-04-27T13:37:31.286Z"
   },
   {
    "duration": 7,
    "start_time": "2024-04-27T13:37:31.485Z"
   },
   {
    "duration": 39,
    "start_time": "2024-04-27T13:37:31.700Z"
   },
   {
    "duration": 14,
    "start_time": "2024-04-27T13:37:32.105Z"
   },
   {
    "duration": 5,
    "start_time": "2024-04-27T13:37:32.317Z"
   },
   {
    "duration": 51,
    "start_time": "2024-04-27T13:37:32.734Z"
   },
   {
    "duration": 19,
    "start_time": "2024-04-27T13:37:33.167Z"
   },
   {
    "duration": 23,
    "start_time": "2024-04-27T13:37:33.385Z"
   },
   {
    "duration": 9,
    "start_time": "2024-04-27T13:37:33.569Z"
   },
   {
    "duration": 12,
    "start_time": "2024-04-27T13:37:33.785Z"
   },
   {
    "duration": 311,
    "start_time": "2024-04-27T13:37:35.534Z"
   },
   {
    "duration": 359,
    "start_time": "2024-04-27T13:37:35.847Z"
   },
   {
    "duration": 649,
    "start_time": "2024-04-27T13:37:36.468Z"
   },
   {
    "duration": 58,
    "start_time": "2024-04-27T13:37:54.758Z"
   },
   {
    "duration": 2721,
    "start_time": "2024-04-27T13:38:02.816Z"
   },
   {
    "duration": 1882,
    "start_time": "2024-04-27T13:38:05.540Z"
   },
   {
    "duration": 92,
    "start_time": "2024-04-27T13:38:07.423Z"
   },
   {
    "duration": 18,
    "start_time": "2024-04-27T13:38:07.518Z"
   },
   {
    "duration": 38,
    "start_time": "2024-04-27T13:38:07.537Z"
   },
   {
    "duration": 11,
    "start_time": "2024-04-27T13:38:07.584Z"
   },
   {
    "duration": 8,
    "start_time": "2024-04-27T13:38:07.596Z"
   },
   {
    "duration": 25,
    "start_time": "2024-04-27T13:38:07.605Z"
   },
   {
    "duration": 26,
    "start_time": "2024-04-27T13:38:07.632Z"
   },
   {
    "duration": 26,
    "start_time": "2024-04-27T13:38:07.661Z"
   },
   {
    "duration": 23,
    "start_time": "2024-04-27T13:38:07.690Z"
   },
   {
    "duration": 6,
    "start_time": "2024-04-27T13:38:07.714Z"
   },
   {
    "duration": 24,
    "start_time": "2024-04-27T13:38:07.722Z"
   },
   {
    "duration": 39,
    "start_time": "2024-04-27T13:38:07.748Z"
   },
   {
    "duration": 6,
    "start_time": "2024-04-27T13:38:07.789Z"
   },
   {
    "duration": 8,
    "start_time": "2024-04-27T13:38:07.797Z"
   },
   {
    "duration": 14,
    "start_time": "2024-04-27T13:38:07.806Z"
   },
   {
    "duration": 7,
    "start_time": "2024-04-27T13:38:07.822Z"
   },
   {
    "duration": 7,
    "start_time": "2024-04-27T13:38:07.830Z"
   },
   {
    "duration": 50,
    "start_time": "2024-04-27T13:38:07.839Z"
   },
   {
    "duration": 63,
    "start_time": "2024-04-27T13:38:07.891Z"
   },
   {
    "duration": 13,
    "start_time": "2024-04-27T13:38:07.956Z"
   },
   {
    "duration": 7,
    "start_time": "2024-04-27T13:38:07.977Z"
   },
   {
    "duration": 67,
    "start_time": "2024-04-27T13:38:07.992Z"
   },
   {
    "duration": 21,
    "start_time": "2024-04-27T13:38:08.061Z"
   },
   {
    "duration": 22,
    "start_time": "2024-04-27T13:38:08.092Z"
   },
   {
    "duration": 4,
    "start_time": "2024-04-27T13:38:08.115Z"
   },
   {
    "duration": 18,
    "start_time": "2024-04-27T13:38:08.123Z"
   },
   {
    "duration": 320,
    "start_time": "2024-04-27T13:38:08.142Z"
   },
   {
    "duration": 332,
    "start_time": "2024-04-27T13:38:08.464Z"
   },
   {
    "duration": 662,
    "start_time": "2024-04-27T13:38:08.797Z"
   },
   {
    "duration": 4556,
    "start_time": "2024-04-27T13:38:09.460Z"
   },
   {
    "duration": 2,
    "start_time": "2024-04-27T13:38:14.018Z"
   },
   {
    "duration": 211,
    "start_time": "2024-04-27T13:38:14.021Z"
   },
   {
    "duration": 959,
    "start_time": "2024-04-27T13:38:14.234Z"
   },
   {
    "duration": 2369,
    "start_time": "2024-04-27T13:38:15.195Z"
   },
   {
    "duration": 2663,
    "start_time": "2024-04-27T13:38:17.566Z"
   },
   {
    "duration": 3,
    "start_time": "2024-04-27T13:38:20.231Z"
   },
   {
    "duration": 41,
    "start_time": "2024-04-27T13:38:20.236Z"
   },
   {
    "duration": 29,
    "start_time": "2024-04-27T13:38:20.280Z"
   },
   {
    "duration": 30,
    "start_time": "2024-04-27T13:38:20.311Z"
   },
   {
    "duration": 41,
    "start_time": "2024-04-27T13:38:20.343Z"
   },
   {
    "duration": 2260,
    "start_time": "2024-04-27T13:38:20.385Z"
   },
   {
    "duration": 35,
    "start_time": "2024-04-27T13:38:22.646Z"
   },
   {
    "duration": 12,
    "start_time": "2024-04-27T13:38:22.686Z"
   },
   {
    "duration": 553,
    "start_time": "2024-04-27T13:38:22.700Z"
   },
   {
    "duration": 25,
    "start_time": "2024-04-27T13:38:23.254Z"
   },
   {
    "duration": 11,
    "start_time": "2024-04-27T13:38:23.284Z"
   },
   {
    "duration": 9,
    "start_time": "2024-04-27T13:38:23.296Z"
   },
   {
    "duration": 20,
    "start_time": "2024-04-27T13:38:23.306Z"
   },
   {
    "duration": 705,
    "start_time": "2024-04-27T13:38:23.327Z"
   },
   {
    "duration": 11,
    "start_time": "2024-04-27T13:38:24.034Z"
   },
   {
    "duration": 26,
    "start_time": "2024-04-27T13:38:24.046Z"
   },
   {
    "duration": 12,
    "start_time": "2024-04-27T13:38:24.076Z"
   },
   {
    "duration": 26,
    "start_time": "2024-04-27T13:38:24.090Z"
   },
   {
    "duration": 570,
    "start_time": "2024-04-27T13:38:24.118Z"
   },
   {
    "duration": 17,
    "start_time": "2024-04-27T13:38:24.690Z"
   },
   {
    "duration": 16,
    "start_time": "2024-04-27T13:38:24.709Z"
   },
   {
    "duration": 56,
    "start_time": "2024-04-27T13:38:24.727Z"
   },
   {
    "duration": 15,
    "start_time": "2024-04-27T13:38:24.788Z"
   },
   {
    "duration": 13,
    "start_time": "2024-04-27T13:38:24.804Z"
   },
   {
    "duration": 36,
    "start_time": "2024-04-27T13:38:24.819Z"
   },
   {
    "duration": 22,
    "start_time": "2024-04-27T13:38:24.857Z"
   },
   {
    "duration": 14,
    "start_time": "2024-04-27T13:38:24.882Z"
   },
   {
    "duration": 1681,
    "start_time": "2024-04-27T13:41:24.094Z"
   },
   {
    "duration": 1792,
    "start_time": "2024-04-27T13:41:56.001Z"
   },
   {
    "duration": 1250,
    "start_time": "2024-04-27T13:42:27.442Z"
   },
   {
    "duration": 2899,
    "start_time": "2024-04-27T13:42:50.484Z"
   },
   {
    "duration": 1985,
    "start_time": "2024-04-27T13:43:05.355Z"
   },
   {
    "duration": 1930,
    "start_time": "2024-04-27T13:43:18.410Z"
   },
   {
    "duration": 2398,
    "start_time": "2024-04-27T13:43:26.944Z"
   },
   {
    "duration": 243,
    "start_time": "2024-04-27T13:49:53.631Z"
   },
   {
    "duration": 369,
    "start_time": "2024-04-27T13:50:38.962Z"
   },
   {
    "duration": 4,
    "start_time": "2024-04-27T13:51:17.557Z"
   },
   {
    "duration": 4,
    "start_time": "2024-04-27T13:51:51.636Z"
   },
   {
    "duration": 3,
    "start_time": "2024-04-27T13:52:51.587Z"
   },
   {
    "duration": 15,
    "start_time": "2024-04-27T13:53:00.440Z"
   },
   {
    "duration": 2149,
    "start_time": "2024-04-27T13:53:18.728Z"
   },
   {
    "duration": 14,
    "start_time": "2024-04-27T13:54:23.215Z"
   },
   {
    "duration": 359,
    "start_time": "2024-04-27T13:54:34.686Z"
   },
   {
    "duration": 9,
    "start_time": "2024-04-27T13:54:42.954Z"
   },
   {
    "duration": 237,
    "start_time": "2024-04-27T13:54:56.892Z"
   },
   {
    "duration": 2318,
    "start_time": "2024-04-27T14:12:06.397Z"
   },
   {
    "duration": 2162,
    "start_time": "2024-04-27T14:12:21.867Z"
   },
   {
    "duration": 2467,
    "start_time": "2024-04-27T14:12:40.176Z"
   },
   {
    "duration": 386,
    "start_time": "2024-04-27T14:22:17.535Z"
   },
   {
    "duration": 369,
    "start_time": "2024-04-27T14:23:04.668Z"
   },
   {
    "duration": 421,
    "start_time": "2024-04-27T14:23:30.108Z"
   },
   {
    "duration": 331,
    "start_time": "2024-04-27T14:23:38.194Z"
   },
   {
    "duration": 318,
    "start_time": "2024-04-27T14:24:23.391Z"
   },
   {
    "duration": 289,
    "start_time": "2024-04-27T14:24:44.413Z"
   },
   {
    "duration": 527,
    "start_time": "2024-04-27T14:26:28.613Z"
   },
   {
    "duration": 456,
    "start_time": "2024-04-27T14:26:33.133Z"
   },
   {
    "duration": 380,
    "start_time": "2024-04-27T14:26:51.755Z"
   },
   {
    "duration": 1423,
    "start_time": "2024-04-27T14:28:12.863Z"
   },
   {
    "duration": 2186,
    "start_time": "2024-04-27T14:28:30.921Z"
   },
   {
    "duration": 2165,
    "start_time": "2024-04-27T14:30:45.628Z"
   },
   {
    "duration": 1676,
    "start_time": "2024-04-27T14:31:05.833Z"
   },
   {
    "duration": 2057,
    "start_time": "2024-04-27T14:33:07.956Z"
   },
   {
    "duration": 17,
    "start_time": "2024-04-27T14:38:47.793Z"
   },
   {
    "duration": 1741,
    "start_time": "2024-04-27T14:38:56.863Z"
   },
   {
    "duration": 4,
    "start_time": "2024-04-27T14:40:07.017Z"
   },
   {
    "duration": 18,
    "start_time": "2024-04-27T14:40:08.035Z"
   },
   {
    "duration": 14,
    "start_time": "2024-04-27T14:40:08.367Z"
   },
   {
    "duration": 23,
    "start_time": "2024-04-27T14:40:08.601Z"
   },
   {
    "duration": 31,
    "start_time": "2024-04-27T14:40:08.817Z"
   },
   {
    "duration": 3087,
    "start_time": "2024-04-27T14:40:09.017Z"
   },
   {
    "duration": 31,
    "start_time": "2024-04-27T14:40:12.106Z"
   },
   {
    "duration": 0,
    "start_time": "2024-04-27T14:40:12.139Z"
   },
   {
    "duration": 0,
    "start_time": "2024-04-27T14:40:12.140Z"
   },
   {
    "duration": 0,
    "start_time": "2024-04-27T14:40:12.141Z"
   },
   {
    "duration": 0,
    "start_time": "2024-04-27T14:40:12.143Z"
   },
   {
    "duration": 0,
    "start_time": "2024-04-27T14:40:12.144Z"
   },
   {
    "duration": 19,
    "start_time": "2024-04-27T14:40:12.601Z"
   },
   {
    "duration": 552,
    "start_time": "2024-04-27T14:40:13.552Z"
   },
   {
    "duration": 12,
    "start_time": "2024-04-27T14:40:14.106Z"
   },
   {
    "duration": 23,
    "start_time": "2024-04-27T14:40:14.120Z"
   },
   {
    "duration": 32,
    "start_time": "2024-04-27T14:40:14.145Z"
   },
   {
    "duration": 20,
    "start_time": "2024-04-27T14:40:14.585Z"
   },
   {
    "duration": 488,
    "start_time": "2024-04-27T14:40:15.054Z"
   },
   {
    "duration": 30,
    "start_time": "2024-04-27T14:40:15.686Z"
   },
   {
    "duration": 17,
    "start_time": "2024-04-27T14:40:16.120Z"
   },
   {
    "duration": 23,
    "start_time": "2024-04-27T14:40:18.355Z"
   },
   {
    "duration": 17,
    "start_time": "2024-04-27T14:40:18.604Z"
   },
   {
    "duration": 17,
    "start_time": "2024-04-27T14:40:18.905Z"
   },
   {
    "duration": 16,
    "start_time": "2024-04-27T14:40:19.137Z"
   },
   {
    "duration": 15,
    "start_time": "2024-04-27T14:40:19.371Z"
   },
   {
    "duration": 14,
    "start_time": "2024-04-27T14:40:19.603Z"
   },
   {
    "duration": 51,
    "start_time": "2024-04-27T14:43:11.044Z"
   },
   {
    "duration": 36,
    "start_time": "2024-04-27T14:43:32.518Z"
   },
   {
    "duration": 2818,
    "start_time": "2024-04-27T14:43:44.846Z"
   },
   {
    "duration": 1782,
    "start_time": "2024-04-27T14:43:47.666Z"
   },
   {
    "duration": 53,
    "start_time": "2024-04-27T14:43:49.450Z"
   },
   {
    "duration": 16,
    "start_time": "2024-04-27T14:43:49.504Z"
   },
   {
    "duration": 13,
    "start_time": "2024-04-27T14:43:49.522Z"
   },
   {
    "duration": 14,
    "start_time": "2024-04-27T14:43:49.536Z"
   },
   {
    "duration": 22,
    "start_time": "2024-04-27T14:43:49.552Z"
   },
   {
    "duration": 14,
    "start_time": "2024-04-27T14:43:49.576Z"
   },
   {
    "duration": 14,
    "start_time": "2024-04-27T14:43:49.592Z"
   },
   {
    "duration": 20,
    "start_time": "2024-04-27T14:43:49.608Z"
   },
   {
    "duration": 31,
    "start_time": "2024-04-27T14:43:49.629Z"
   },
   {
    "duration": 10,
    "start_time": "2024-04-27T14:43:49.672Z"
   },
   {
    "duration": 54,
    "start_time": "2024-04-27T14:43:49.685Z"
   },
   {
    "duration": 14,
    "start_time": "2024-04-27T14:43:49.742Z"
   },
   {
    "duration": 5,
    "start_time": "2024-04-27T14:43:49.758Z"
   },
   {
    "duration": 11,
    "start_time": "2024-04-27T14:43:49.764Z"
   },
   {
    "duration": 27,
    "start_time": "2024-04-27T14:43:49.777Z"
   },
   {
    "duration": 18,
    "start_time": "2024-04-27T14:43:49.805Z"
   },
   {
    "duration": 10,
    "start_time": "2024-04-27T14:43:49.824Z"
   },
   {
    "duration": 9,
    "start_time": "2024-04-27T14:43:49.836Z"
   },
   {
    "duration": 47,
    "start_time": "2024-04-27T14:43:49.847Z"
   },
   {
    "duration": 13,
    "start_time": "2024-04-27T14:43:49.896Z"
   },
   {
    "duration": 7,
    "start_time": "2024-04-27T14:43:49.911Z"
   },
   {
    "duration": 54,
    "start_time": "2024-04-27T14:43:49.920Z"
   },
   {
    "duration": 22,
    "start_time": "2024-04-27T14:43:49.978Z"
   },
   {
    "duration": 102,
    "start_time": "2024-04-27T14:43:50.001Z"
   },
   {
    "duration": 8,
    "start_time": "2024-04-27T14:43:50.104Z"
   },
   {
    "duration": 39,
    "start_time": "2024-04-27T14:43:50.114Z"
   },
   {
    "duration": 370,
    "start_time": "2024-04-27T14:43:50.154Z"
   },
   {
    "duration": 363,
    "start_time": "2024-04-27T14:43:50.526Z"
   },
   {
    "duration": 704,
    "start_time": "2024-04-27T14:43:50.892Z"
   },
   {
    "duration": 4501,
    "start_time": "2024-04-27T14:43:51.597Z"
   },
   {
    "duration": 2343,
    "start_time": "2024-04-27T14:43:56.099Z"
   },
   {
    "duration": 3,
    "start_time": "2024-04-27T14:43:58.444Z"
   },
   {
    "duration": 57,
    "start_time": "2024-04-27T14:43:58.448Z"
   },
   {
    "duration": 3,
    "start_time": "2024-04-27T14:43:58.506Z"
   },
   {
    "duration": 37,
    "start_time": "2024-04-27T14:43:58.511Z"
   },
   {
    "duration": 40,
    "start_time": "2024-04-27T14:43:58.549Z"
   },
   {
    "duration": 2278,
    "start_time": "2024-04-27T14:43:58.591Z"
   },
   {
    "duration": 48,
    "start_time": "2024-04-27T14:44:00.882Z"
   },
   {
    "duration": 211,
    "start_time": "2024-04-27T14:44:00.934Z"
   },
   {
    "duration": 0,
    "start_time": "2024-04-27T14:44:01.147Z"
   },
   {
    "duration": 0,
    "start_time": "2024-04-27T14:44:01.148Z"
   },
   {
    "duration": 0,
    "start_time": "2024-04-27T14:44:01.149Z"
   },
   {
    "duration": 0,
    "start_time": "2024-04-27T14:44:01.149Z"
   },
   {
    "duration": 0,
    "start_time": "2024-04-27T14:44:01.151Z"
   },
   {
    "duration": 0,
    "start_time": "2024-04-27T14:44:01.152Z"
   },
   {
    "duration": 0,
    "start_time": "2024-04-27T14:44:01.153Z"
   },
   {
    "duration": 0,
    "start_time": "2024-04-27T14:44:01.154Z"
   },
   {
    "duration": 0,
    "start_time": "2024-04-27T14:44:01.155Z"
   },
   {
    "duration": 0,
    "start_time": "2024-04-27T14:44:01.156Z"
   },
   {
    "duration": 0,
    "start_time": "2024-04-27T14:44:01.171Z"
   },
   {
    "duration": 0,
    "start_time": "2024-04-27T14:44:01.173Z"
   },
   {
    "duration": 0,
    "start_time": "2024-04-27T14:44:01.175Z"
   },
   {
    "duration": 0,
    "start_time": "2024-04-27T14:44:01.177Z"
   },
   {
    "duration": 0,
    "start_time": "2024-04-27T14:44:01.179Z"
   },
   {
    "duration": 0,
    "start_time": "2024-04-27T14:44:01.181Z"
   },
   {
    "duration": 0,
    "start_time": "2024-04-27T14:44:01.183Z"
   },
   {
    "duration": 0,
    "start_time": "2024-04-27T14:44:01.185Z"
   },
   {
    "duration": 0,
    "start_time": "2024-04-27T14:44:01.187Z"
   },
   {
    "duration": 38,
    "start_time": "2024-04-27T14:44:16.579Z"
   },
   {
    "duration": 14,
    "start_time": "2024-04-27T14:44:17.494Z"
   },
   {
    "duration": 3073,
    "start_time": "2024-04-27T14:44:28.593Z"
   },
   {
    "duration": 1638,
    "start_time": "2024-04-27T14:44:31.668Z"
   },
   {
    "duration": 41,
    "start_time": "2024-04-27T14:44:33.308Z"
   },
   {
    "duration": 16,
    "start_time": "2024-04-27T14:44:33.351Z"
   },
   {
    "duration": 46,
    "start_time": "2024-04-27T14:44:33.368Z"
   },
   {
    "duration": 13,
    "start_time": "2024-04-27T14:44:33.416Z"
   },
   {
    "duration": 6,
    "start_time": "2024-04-27T14:44:33.430Z"
   },
   {
    "duration": 12,
    "start_time": "2024-04-27T14:44:33.438Z"
   },
   {
    "duration": 5,
    "start_time": "2024-04-27T14:44:33.452Z"
   },
   {
    "duration": 31,
    "start_time": "2024-04-27T14:44:33.459Z"
   },
   {
    "duration": 23,
    "start_time": "2024-04-27T14:44:33.496Z"
   },
   {
    "duration": 5,
    "start_time": "2024-04-27T14:44:33.520Z"
   },
   {
    "duration": 21,
    "start_time": "2024-04-27T14:44:33.527Z"
   },
   {
    "duration": 51,
    "start_time": "2024-04-27T14:44:33.550Z"
   },
   {
    "duration": 6,
    "start_time": "2024-04-27T14:44:33.602Z"
   },
   {
    "duration": 7,
    "start_time": "2024-04-27T14:44:33.610Z"
   },
   {
    "duration": 10,
    "start_time": "2024-04-27T14:44:33.619Z"
   },
   {
    "duration": 10,
    "start_time": "2024-04-27T14:44:33.631Z"
   },
   {
    "duration": 8,
    "start_time": "2024-04-27T14:44:33.642Z"
   },
   {
    "duration": 38,
    "start_time": "2024-04-27T14:44:33.651Z"
   },
   {
    "duration": 41,
    "start_time": "2024-04-27T14:44:33.691Z"
   },
   {
    "duration": 12,
    "start_time": "2024-04-27T14:44:33.733Z"
   },
   {
    "duration": 11,
    "start_time": "2024-04-27T14:44:33.746Z"
   },
   {
    "duration": 79,
    "start_time": "2024-04-27T14:44:33.758Z"
   },
   {
    "duration": 12,
    "start_time": "2024-04-27T14:44:33.839Z"
   },
   {
    "duration": 41,
    "start_time": "2024-04-27T14:44:33.853Z"
   },
   {
    "duration": 4,
    "start_time": "2024-04-27T14:44:33.896Z"
   },
   {
    "duration": 16,
    "start_time": "2024-04-27T14:44:33.905Z"
   },
   {
    "duration": 361,
    "start_time": "2024-04-27T14:44:33.923Z"
   },
   {
    "duration": 341,
    "start_time": "2024-04-27T14:44:34.288Z"
   },
   {
    "duration": 712,
    "start_time": "2024-04-27T14:44:34.631Z"
   },
   {
    "duration": 4620,
    "start_time": "2024-04-27T14:44:35.345Z"
   },
   {
    "duration": 2357,
    "start_time": "2024-04-27T14:44:39.971Z"
   },
   {
    "duration": 4,
    "start_time": "2024-04-27T14:44:42.330Z"
   },
   {
    "duration": 49,
    "start_time": "2024-04-27T14:44:42.335Z"
   },
   {
    "duration": 3,
    "start_time": "2024-04-27T14:44:42.395Z"
   },
   {
    "duration": 24,
    "start_time": "2024-04-27T14:44:42.400Z"
   },
   {
    "duration": 27,
    "start_time": "2024-04-27T14:44:42.425Z"
   },
   {
    "duration": 2368,
    "start_time": "2024-04-27T14:44:42.453Z"
   },
   {
    "duration": 32,
    "start_time": "2024-04-27T14:44:44.823Z"
   },
   {
    "duration": 28,
    "start_time": "2024-04-27T14:44:44.857Z"
   },
   {
    "duration": 630,
    "start_time": "2024-04-27T14:44:44.888Z"
   },
   {
    "duration": 16,
    "start_time": "2024-04-27T14:44:45.520Z"
   },
   {
    "duration": 13,
    "start_time": "2024-04-27T14:44:45.538Z"
   },
   {
    "duration": 18,
    "start_time": "2024-04-27T14:44:45.552Z"
   },
   {
    "duration": 26,
    "start_time": "2024-04-27T14:44:45.571Z"
   },
   {
    "duration": 561,
    "start_time": "2024-04-27T14:44:45.599Z"
   },
   {
    "duration": 15,
    "start_time": "2024-04-27T14:44:46.161Z"
   },
   {
    "duration": 18,
    "start_time": "2024-04-27T14:44:46.179Z"
   },
   {
    "duration": 13,
    "start_time": "2024-04-27T14:44:46.199Z"
   },
   {
    "duration": 18,
    "start_time": "2024-04-27T14:44:46.213Z"
   },
   {
    "duration": 922,
    "start_time": "2024-04-27T14:44:46.233Z"
   },
   {
    "duration": 43,
    "start_time": "2024-04-27T14:44:47.157Z"
   },
   {
    "duration": 18,
    "start_time": "2024-04-27T14:44:47.202Z"
   },
   {
    "duration": 12,
    "start_time": "2024-04-27T14:44:47.222Z"
   },
   {
    "duration": 11,
    "start_time": "2024-04-27T14:44:47.236Z"
   },
   {
    "duration": 48,
    "start_time": "2024-04-27T14:44:47.249Z"
   },
   {
    "duration": 18,
    "start_time": "2024-04-27T14:44:47.299Z"
   },
   {
    "duration": 11,
    "start_time": "2024-04-27T14:44:47.319Z"
   },
   {
    "duration": 13,
    "start_time": "2024-04-27T14:44:47.331Z"
   },
   {
    "duration": 11,
    "start_time": "2024-04-27T14:45:46.289Z"
   },
   {
    "duration": 12,
    "start_time": "2024-04-27T14:45:56.392Z"
   },
   {
    "duration": 15,
    "start_time": "2024-04-27T14:47:39.923Z"
   },
   {
    "duration": 18,
    "start_time": "2024-04-27T14:48:00.830Z"
   },
   {
    "duration": 28,
    "start_time": "2024-04-27T14:50:41.580Z"
   },
   {
    "duration": 36,
    "start_time": "2024-04-27T14:51:22.640Z"
   },
   {
    "duration": 2849,
    "start_time": "2024-04-27T14:56:43.296Z"
   },
   {
    "duration": 1703,
    "start_time": "2024-04-27T14:56:46.148Z"
   },
   {
    "duration": 49,
    "start_time": "2024-04-27T14:56:47.853Z"
   },
   {
    "duration": 16,
    "start_time": "2024-04-27T14:56:47.904Z"
   },
   {
    "duration": 14,
    "start_time": "2024-04-27T14:56:47.922Z"
   },
   {
    "duration": 20,
    "start_time": "2024-04-27T14:56:47.938Z"
   },
   {
    "duration": 28,
    "start_time": "2024-04-27T14:56:47.960Z"
   },
   {
    "duration": 23,
    "start_time": "2024-04-27T14:56:47.991Z"
   },
   {
    "duration": 23,
    "start_time": "2024-04-27T14:56:48.016Z"
   },
   {
    "duration": 41,
    "start_time": "2024-04-27T14:56:48.042Z"
   },
   {
    "duration": 38,
    "start_time": "2024-04-27T14:56:48.086Z"
   },
   {
    "duration": 6,
    "start_time": "2024-04-27T14:56:48.126Z"
   },
   {
    "duration": 60,
    "start_time": "2024-04-27T14:56:48.134Z"
   },
   {
    "duration": 19,
    "start_time": "2024-04-27T14:56:48.195Z"
   },
   {
    "duration": 6,
    "start_time": "2024-04-27T14:56:48.216Z"
   },
   {
    "duration": 22,
    "start_time": "2024-04-27T14:56:48.223Z"
   },
   {
    "duration": 18,
    "start_time": "2024-04-27T14:56:48.246Z"
   },
   {
    "duration": 22,
    "start_time": "2024-04-27T14:56:48.265Z"
   },
   {
    "duration": 28,
    "start_time": "2024-04-27T14:56:48.289Z"
   },
   {
    "duration": 22,
    "start_time": "2024-04-27T14:56:48.318Z"
   },
   {
    "duration": 86,
    "start_time": "2024-04-27T14:56:48.341Z"
   },
   {
    "duration": 21,
    "start_time": "2024-04-27T14:56:48.429Z"
   },
   {
    "duration": 24,
    "start_time": "2024-04-27T14:56:48.452Z"
   },
   {
    "duration": 41,
    "start_time": "2024-04-27T14:56:48.479Z"
   },
   {
    "duration": 14,
    "start_time": "2024-04-27T14:56:48.522Z"
   },
   {
    "duration": 43,
    "start_time": "2024-04-27T14:56:48.538Z"
   },
   {
    "duration": 5,
    "start_time": "2024-04-27T14:56:48.582Z"
   },
   {
    "duration": 27,
    "start_time": "2024-04-27T14:56:48.591Z"
   },
   {
    "duration": 321,
    "start_time": "2024-04-27T14:56:48.620Z"
   },
   {
    "duration": 296,
    "start_time": "2024-04-27T14:56:48.943Z"
   },
   {
    "duration": 620,
    "start_time": "2024-04-27T14:56:49.240Z"
   },
   {
    "duration": 4532,
    "start_time": "2024-04-27T14:56:49.862Z"
   },
   {
    "duration": 2521,
    "start_time": "2024-04-27T14:56:54.396Z"
   },
   {
    "duration": 3,
    "start_time": "2024-04-27T14:56:56.918Z"
   },
   {
    "duration": 20,
    "start_time": "2024-04-27T14:56:56.923Z"
   },
   {
    "duration": 2,
    "start_time": "2024-04-27T14:56:56.945Z"
   },
   {
    "duration": 48,
    "start_time": "2024-04-27T14:56:56.948Z"
   },
   {
    "duration": 26,
    "start_time": "2024-04-27T14:56:56.998Z"
   },
   {
    "duration": 2427,
    "start_time": "2024-04-27T14:56:57.026Z"
   },
   {
    "duration": 42,
    "start_time": "2024-04-27T14:56:59.455Z"
   },
   {
    "duration": 13,
    "start_time": "2024-04-27T14:56:59.498Z"
   },
   {
    "duration": 68,
    "start_time": "2024-04-27T14:56:59.512Z"
   },
   {
    "duration": 633,
    "start_time": "2024-04-27T14:56:59.582Z"
   },
   {
    "duration": 18,
    "start_time": "2024-04-27T14:57:00.217Z"
   },
   {
    "duration": 104,
    "start_time": "2024-04-27T14:57:00.236Z"
   },
   {
    "duration": 22,
    "start_time": "2024-04-27T14:57:00.342Z"
   },
   {
    "duration": 54,
    "start_time": "2024-04-27T14:57:00.366Z"
   },
   {
    "duration": 640,
    "start_time": "2024-04-27T14:57:00.423Z"
   },
   {
    "duration": 14,
    "start_time": "2024-04-27T14:57:01.065Z"
   },
   {
    "duration": 100,
    "start_time": "2024-04-27T14:57:01.081Z"
   },
   {
    "duration": 79,
    "start_time": "2024-04-27T14:57:01.183Z"
   },
   {
    "duration": 122,
    "start_time": "2024-04-27T14:57:01.264Z"
   },
   {
    "duration": 1048,
    "start_time": "2024-04-27T14:57:01.389Z"
   },
   {
    "duration": 17,
    "start_time": "2024-04-27T14:57:02.439Z"
   },
   {
    "duration": 127,
    "start_time": "2024-04-27T14:57:02.470Z"
   },
   {
    "duration": 44,
    "start_time": "2024-04-27T14:57:02.599Z"
   },
   {
    "duration": 29,
    "start_time": "2024-04-27T14:57:02.645Z"
   },
   {
    "duration": 91,
    "start_time": "2024-04-27T14:57:02.675Z"
   },
   {
    "duration": 117,
    "start_time": "2024-04-27T14:57:02.767Z"
   },
   {
    "duration": 72,
    "start_time": "2024-04-27T14:57:02.887Z"
   },
   {
    "duration": 15,
    "start_time": "2024-04-27T14:57:02.961Z"
   },
   {
    "duration": 4,
    "start_time": "2024-04-27T14:57:16.468Z"
   },
   {
    "duration": 5,
    "start_time": "2024-04-27T14:57:25.387Z"
   },
   {
    "duration": 5,
    "start_time": "2024-04-27T14:57:37.423Z"
   },
   {
    "duration": 315,
    "start_time": "2024-04-27T14:59:28.305Z"
   },
   {
    "duration": 313,
    "start_time": "2024-04-27T15:00:46.897Z"
   },
   {
    "duration": 296,
    "start_time": "2024-04-27T15:00:56.691Z"
   },
   {
    "duration": 338,
    "start_time": "2024-04-27T15:01:34.562Z"
   },
   {
    "duration": 656,
    "start_time": "2024-04-27T15:02:05.172Z"
   },
   {
    "duration": 4055,
    "start_time": "2024-04-27T15:02:26.048Z"
   },
   {
    "duration": 325,
    "start_time": "2024-04-27T15:02:48.484Z"
   },
   {
    "duration": 282,
    "start_time": "2024-04-27T15:03:06.206Z"
   },
   {
    "duration": 310,
    "start_time": "2024-04-27T15:03:35.883Z"
   },
   {
    "duration": 296,
    "start_time": "2024-04-27T15:03:59.689Z"
   },
   {
    "duration": 578,
    "start_time": "2024-04-27T15:04:15.961Z"
   },
   {
    "duration": 4076,
    "start_time": "2024-04-27T15:04:36.150Z"
   },
   {
    "duration": 384,
    "start_time": "2024-04-27T15:07:47.378Z"
   },
   {
    "duration": 12,
    "start_time": "2024-04-27T15:11:01.554Z"
   },
   {
    "duration": 12,
    "start_time": "2024-04-27T15:11:08.155Z"
   },
   {
    "duration": 458,
    "start_time": "2024-04-27T15:11:38.138Z"
   },
   {
    "duration": 817,
    "start_time": "2024-04-27T15:11:45.737Z"
   },
   {
    "duration": 467,
    "start_time": "2024-04-27T15:11:55.472Z"
   },
   {
    "duration": 262,
    "start_time": "2024-04-27T15:12:12.408Z"
   },
   {
    "duration": 359,
    "start_time": "2024-04-27T15:12:24.613Z"
   },
   {
    "duration": 519,
    "start_time": "2024-04-27T15:12:58.409Z"
   },
   {
    "duration": 13,
    "start_time": "2024-04-27T15:21:27.881Z"
   },
   {
    "duration": 12,
    "start_time": "2024-04-27T15:21:43.569Z"
   },
   {
    "duration": 12,
    "start_time": "2024-04-27T15:23:14.330Z"
   },
   {
    "duration": 12,
    "start_time": "2024-04-27T15:23:49.584Z"
   },
   {
    "duration": 12,
    "start_time": "2024-04-27T15:24:12.948Z"
   },
   {
    "duration": 10,
    "start_time": "2024-04-27T15:24:36.572Z"
   },
   {
    "duration": 12,
    "start_time": "2024-04-27T15:24:59.680Z"
   },
   {
    "duration": 15,
    "start_time": "2024-04-27T15:25:08.965Z"
   },
   {
    "duration": 14,
    "start_time": "2024-04-27T15:25:14.750Z"
   },
   {
    "duration": 11,
    "start_time": "2024-04-27T15:25:28.338Z"
   },
   {
    "duration": 13,
    "start_time": "2024-04-27T15:25:35.006Z"
   },
   {
    "duration": 12,
    "start_time": "2024-04-27T15:25:41.292Z"
   },
   {
    "duration": 12,
    "start_time": "2024-04-27T15:25:47.644Z"
   },
   {
    "duration": 11,
    "start_time": "2024-04-27T15:25:53.747Z"
   },
   {
    "duration": 11,
    "start_time": "2024-04-27T15:25:58.464Z"
   },
   {
    "duration": 13,
    "start_time": "2024-04-27T15:26:03.782Z"
   },
   {
    "duration": 158,
    "start_time": "2024-04-27T15:29:04.622Z"
   },
   {
    "duration": 24,
    "start_time": "2024-04-27T15:29:15.258Z"
   },
   {
    "duration": 13,
    "start_time": "2024-04-27T15:29:53.452Z"
   },
   {
    "duration": 24,
    "start_time": "2024-04-27T15:29:54.388Z"
   },
   {
    "duration": 539,
    "start_time": "2024-04-27T15:31:02.827Z"
   },
   {
    "duration": 535,
    "start_time": "2024-04-27T15:31:27.868Z"
   },
   {
    "duration": 496,
    "start_time": "2024-04-27T15:31:53.495Z"
   },
   {
    "duration": 18,
    "start_time": "2024-04-27T15:32:05.061Z"
   },
   {
    "duration": 16,
    "start_time": "2024-04-27T15:32:06.495Z"
   },
   {
    "duration": 11,
    "start_time": "2024-04-27T15:32:13.314Z"
   },
   {
    "duration": 10,
    "start_time": "2024-04-27T15:32:13.782Z"
   },
   {
    "duration": 12,
    "start_time": "2024-04-27T15:32:14.348Z"
   },
   {
    "duration": 12,
    "start_time": "2024-04-27T15:32:14.580Z"
   },
   {
    "duration": 11,
    "start_time": "2024-04-27T15:32:15.046Z"
   },
   {
    "duration": 11,
    "start_time": "2024-04-27T15:32:15.615Z"
   },
   {
    "duration": 12,
    "start_time": "2024-04-27T15:34:01.564Z"
   },
   {
    "duration": 22,
    "start_time": "2024-04-27T15:35:36.561Z"
   },
   {
    "duration": 13,
    "start_time": "2024-04-27T15:35:50.114Z"
   },
   {
    "duration": 14,
    "start_time": "2024-04-27T15:35:57.034Z"
   },
   {
    "duration": 13,
    "start_time": "2024-04-27T15:36:21.842Z"
   },
   {
    "duration": 14,
    "start_time": "2024-04-27T15:36:27.194Z"
   },
   {
    "duration": 19,
    "start_time": "2024-04-27T15:36:33.479Z"
   },
   {
    "duration": 15,
    "start_time": "2024-04-27T15:36:40.095Z"
   },
   {
    "duration": 13,
    "start_time": "2024-04-27T15:36:55.350Z"
   },
   {
    "duration": 16,
    "start_time": "2024-04-27T15:37:02.120Z"
   },
   {
    "duration": 16,
    "start_time": "2024-04-27T15:37:11.339Z"
   },
   {
    "duration": 15,
    "start_time": "2024-04-27T15:37:20.076Z"
   },
   {
    "duration": 14,
    "start_time": "2024-04-27T15:37:33.812Z"
   },
   {
    "duration": 12,
    "start_time": "2024-04-27T15:37:41.183Z"
   },
   {
    "duration": 11,
    "start_time": "2024-04-27T15:40:05.760Z"
   },
   {
    "duration": 12,
    "start_time": "2024-04-27T15:40:17.314Z"
   },
   {
    "duration": 10,
    "start_time": "2024-04-27T15:40:24.517Z"
   },
   {
    "duration": 27,
    "start_time": "2024-04-27T15:40:32.768Z"
   },
   {
    "duration": 2928,
    "start_time": "2024-04-27T15:41:10.110Z"
   },
   {
    "duration": 1645,
    "start_time": "2024-04-27T15:41:13.040Z"
   },
   {
    "duration": 42,
    "start_time": "2024-04-27T15:41:14.687Z"
   },
   {
    "duration": 16,
    "start_time": "2024-04-27T15:41:14.731Z"
   },
   {
    "duration": 19,
    "start_time": "2024-04-27T15:41:14.748Z"
   },
   {
    "duration": 20,
    "start_time": "2024-04-27T15:41:14.769Z"
   },
   {
    "duration": 7,
    "start_time": "2024-04-27T15:41:14.790Z"
   },
   {
    "duration": 12,
    "start_time": "2024-04-27T15:41:14.799Z"
   },
   {
    "duration": 8,
    "start_time": "2024-04-27T15:41:14.812Z"
   },
   {
    "duration": 13,
    "start_time": "2024-04-27T15:41:14.822Z"
   },
   {
    "duration": 55,
    "start_time": "2024-04-27T15:41:14.836Z"
   },
   {
    "duration": 6,
    "start_time": "2024-04-27T15:41:14.893Z"
   },
   {
    "duration": 22,
    "start_time": "2024-04-27T15:41:14.902Z"
   },
   {
    "duration": 17,
    "start_time": "2024-04-27T15:41:14.926Z"
   },
   {
    "duration": 10,
    "start_time": "2024-04-27T15:41:14.969Z"
   },
   {
    "duration": 15,
    "start_time": "2024-04-27T15:41:14.981Z"
   },
   {
    "duration": 6,
    "start_time": "2024-04-27T15:41:14.998Z"
   },
   {
    "duration": 54,
    "start_time": "2024-04-27T15:41:15.005Z"
   },
   {
    "duration": 77,
    "start_time": "2024-04-27T15:41:15.061Z"
   },
   {
    "duration": 88,
    "start_time": "2024-04-27T15:41:15.139Z"
   },
   {
    "duration": 87,
    "start_time": "2024-04-27T15:41:15.228Z"
   },
   {
    "duration": 11,
    "start_time": "2024-04-27T15:41:15.317Z"
   },
   {
    "duration": 20,
    "start_time": "2024-04-27T15:41:15.329Z"
   },
   {
    "duration": 67,
    "start_time": "2024-04-27T15:41:15.350Z"
   },
   {
    "duration": 17,
    "start_time": "2024-04-27T15:41:15.418Z"
   },
   {
    "duration": 52,
    "start_time": "2024-04-27T15:41:15.437Z"
   },
   {
    "duration": 5,
    "start_time": "2024-04-27T15:41:15.490Z"
   },
   {
    "duration": 14,
    "start_time": "2024-04-27T15:41:15.499Z"
   },
   {
    "duration": 498,
    "start_time": "2024-04-27T15:41:15.514Z"
   },
   {
    "duration": 444,
    "start_time": "2024-04-27T15:41:16.014Z"
   },
   {
    "duration": 602,
    "start_time": "2024-04-27T15:41:16.460Z"
   },
   {
    "duration": 4321,
    "start_time": "2024-04-27T15:41:17.063Z"
   },
   {
    "duration": 2307,
    "start_time": "2024-04-27T15:41:21.386Z"
   },
   {
    "duration": 3,
    "start_time": "2024-04-27T15:41:23.695Z"
   },
   {
    "duration": 48,
    "start_time": "2024-04-27T15:41:23.699Z"
   },
   {
    "duration": 26,
    "start_time": "2024-04-27T15:41:23.748Z"
   },
   {
    "duration": 27,
    "start_time": "2024-04-27T15:41:23.776Z"
   },
   {
    "duration": 28,
    "start_time": "2024-04-27T15:41:23.805Z"
   },
   {
    "duration": 2198,
    "start_time": "2024-04-27T15:41:23.835Z"
   },
   {
    "duration": 28,
    "start_time": "2024-04-27T15:41:26.034Z"
   },
   {
    "duration": 17,
    "start_time": "2024-04-27T15:41:26.064Z"
   },
   {
    "duration": 27,
    "start_time": "2024-04-27T15:41:26.083Z"
   },
   {
    "duration": 520,
    "start_time": "2024-04-27T15:41:26.112Z"
   },
   {
    "duration": 16,
    "start_time": "2024-04-27T15:41:26.633Z"
   },
   {
    "duration": 22,
    "start_time": "2024-04-27T15:41:26.650Z"
   },
   {
    "duration": 7,
    "start_time": "2024-04-27T15:41:26.673Z"
   },
   {
    "duration": 35,
    "start_time": "2024-04-27T15:41:26.681Z"
   },
   {
    "duration": 808,
    "start_time": "2024-04-27T15:41:26.718Z"
   },
   {
    "duration": 10,
    "start_time": "2024-04-27T15:41:27.528Z"
   },
   {
    "duration": 7,
    "start_time": "2024-04-27T15:41:27.540Z"
   },
   {
    "duration": 10,
    "start_time": "2024-04-27T15:41:27.570Z"
   },
   {
    "duration": 21,
    "start_time": "2024-04-27T15:41:27.582Z"
   },
   {
    "duration": 548,
    "start_time": "2024-04-27T15:41:27.604Z"
   },
   {
    "duration": 33,
    "start_time": "2024-04-27T15:41:28.154Z"
   },
   {
    "duration": 19,
    "start_time": "2024-04-27T15:41:28.189Z"
   },
   {
    "duration": 11,
    "start_time": "2024-04-27T15:41:28.210Z"
   },
   {
    "duration": 20,
    "start_time": "2024-04-27T15:41:28.223Z"
   },
   {
    "duration": 36,
    "start_time": "2024-04-27T15:41:28.245Z"
   },
   {
    "duration": 12,
    "start_time": "2024-04-27T15:41:28.283Z"
   },
   {
    "duration": 12,
    "start_time": "2024-04-27T15:41:28.296Z"
   },
   {
    "duration": 12,
    "start_time": "2024-04-27T15:41:28.309Z"
   },
   {
    "duration": 14,
    "start_time": "2024-04-27T15:41:28.322Z"
   },
   {
    "duration": 3181,
    "start_time": "2024-04-27T22:50:10.270Z"
   },
   {
    "duration": 2141,
    "start_time": "2024-04-27T22:50:13.454Z"
   },
   {
    "duration": 39,
    "start_time": "2024-04-27T22:50:15.596Z"
   },
   {
    "duration": 14,
    "start_time": "2024-04-27T22:50:15.637Z"
   },
   {
    "duration": 12,
    "start_time": "2024-04-27T22:50:15.653Z"
   },
   {
    "duration": 10,
    "start_time": "2024-04-27T22:50:15.666Z"
   },
   {
    "duration": 11,
    "start_time": "2024-04-27T22:50:15.677Z"
   },
   {
    "duration": 14,
    "start_time": "2024-04-27T22:50:15.689Z"
   },
   {
    "duration": 73,
    "start_time": "2024-04-27T22:50:15.704Z"
   },
   {
    "duration": 46,
    "start_time": "2024-04-27T22:50:15.778Z"
   },
   {
    "duration": 45,
    "start_time": "2024-04-27T22:50:15.825Z"
   },
   {
    "duration": 4,
    "start_time": "2024-04-27T22:50:15.871Z"
   },
   {
    "duration": 111,
    "start_time": "2024-04-27T22:50:15.876Z"
   },
   {
    "duration": 34,
    "start_time": "2024-04-27T22:50:15.990Z"
   },
   {
    "duration": 4,
    "start_time": "2024-04-27T22:50:16.025Z"
   },
   {
    "duration": 4,
    "start_time": "2024-04-27T22:50:16.031Z"
   },
   {
    "duration": 9,
    "start_time": "2024-04-27T22:50:16.036Z"
   },
   {
    "duration": 4,
    "start_time": "2024-04-27T22:50:16.046Z"
   },
   {
    "duration": 8,
    "start_time": "2024-04-27T22:50:16.051Z"
   },
   {
    "duration": 11,
    "start_time": "2024-04-27T22:50:16.060Z"
   },
   {
    "duration": 31,
    "start_time": "2024-04-27T22:50:16.072Z"
   },
   {
    "duration": 8,
    "start_time": "2024-04-27T22:50:16.106Z"
   },
   {
    "duration": 7,
    "start_time": "2024-04-27T22:50:16.116Z"
   },
   {
    "duration": 34,
    "start_time": "2024-04-27T22:50:16.124Z"
   },
   {
    "duration": 10,
    "start_time": "2024-04-27T22:50:16.160Z"
   },
   {
    "duration": 32,
    "start_time": "2024-04-27T22:50:16.171Z"
   },
   {
    "duration": 2,
    "start_time": "2024-04-27T22:50:16.205Z"
   },
   {
    "duration": 20,
    "start_time": "2024-04-27T22:50:16.208Z"
   },
   {
    "duration": 317,
    "start_time": "2024-04-27T22:50:16.229Z"
   },
   {
    "duration": 304,
    "start_time": "2024-04-27T22:50:16.547Z"
   },
   {
    "duration": 404,
    "start_time": "2024-04-27T22:50:16.853Z"
   },
   {
    "duration": 2967,
    "start_time": "2024-04-27T22:50:17.259Z"
   },
   {
    "duration": 1883,
    "start_time": "2024-04-27T22:50:20.227Z"
   },
   {
    "duration": 2,
    "start_time": "2024-04-27T22:50:22.112Z"
   },
   {
    "duration": 17,
    "start_time": "2024-04-27T22:50:22.115Z"
   },
   {
    "duration": 20,
    "start_time": "2024-04-27T22:50:22.133Z"
   },
   {
    "duration": 19,
    "start_time": "2024-04-27T22:50:22.154Z"
   },
   {
    "duration": 29,
    "start_time": "2024-04-27T22:50:22.175Z"
   },
   {
    "duration": 1631,
    "start_time": "2024-04-27T22:50:22.205Z"
   },
   {
    "duration": 22,
    "start_time": "2024-04-27T22:50:23.837Z"
   },
   {
    "duration": 10,
    "start_time": "2024-04-27T22:50:23.862Z"
   },
   {
    "duration": 23,
    "start_time": "2024-04-27T22:50:23.873Z"
   },
   {
    "duration": 388,
    "start_time": "2024-04-27T22:50:23.897Z"
   },
   {
    "duration": 20,
    "start_time": "2024-04-27T22:50:24.287Z"
   },
   {
    "duration": 7,
    "start_time": "2024-04-27T22:50:24.308Z"
   },
   {
    "duration": 5,
    "start_time": "2024-04-27T22:50:24.317Z"
   },
   {
    "duration": 14,
    "start_time": "2024-04-27T22:50:24.323Z"
   },
   {
    "duration": 571,
    "start_time": "2024-04-27T22:50:24.338Z"
   },
   {
    "duration": 10,
    "start_time": "2024-04-27T22:50:24.910Z"
   },
   {
    "duration": 12,
    "start_time": "2024-04-27T22:50:24.921Z"
   },
   {
    "duration": 8,
    "start_time": "2024-04-27T22:50:24.934Z"
   },
   {
    "duration": 14,
    "start_time": "2024-04-27T22:50:24.944Z"
   },
   {
    "duration": 419,
    "start_time": "2024-04-27T22:50:24.959Z"
   },
   {
    "duration": 22,
    "start_time": "2024-04-27T22:50:25.380Z"
   },
   {
    "duration": 13,
    "start_time": "2024-04-27T22:50:25.403Z"
   },
   {
    "duration": 8,
    "start_time": "2024-04-27T22:50:25.417Z"
   },
   {
    "duration": 19,
    "start_time": "2024-04-27T22:50:25.426Z"
   },
   {
    "duration": 8,
    "start_time": "2024-04-27T22:50:25.446Z"
   },
   {
    "duration": 9,
    "start_time": "2024-04-27T22:50:25.455Z"
   },
   {
    "duration": 10,
    "start_time": "2024-04-27T22:50:25.465Z"
   },
   {
    "duration": 28,
    "start_time": "2024-04-27T22:50:25.477Z"
   },
   {
    "duration": 9,
    "start_time": "2024-04-27T22:50:25.506Z"
   },
   {
    "duration": 310,
    "start_time": "2024-04-27T22:50:35.595Z"
   },
   {
    "duration": 310,
    "start_time": "2024-04-27T22:50:38.560Z"
   },
   {
    "duration": 293,
    "start_time": "2024-04-27T22:50:43.977Z"
   },
   {
    "duration": 375,
    "start_time": "2024-04-27T22:50:47.060Z"
   },
   {
    "duration": 324,
    "start_time": "2024-04-27T22:50:50.240Z"
   },
   {
    "duration": 288,
    "start_time": "2024-04-27T22:50:52.973Z"
   },
   {
    "duration": 39,
    "start_time": "2024-04-27T22:50:56.126Z"
   },
   {
    "duration": 293,
    "start_time": "2024-04-27T22:50:59.405Z"
   },
   {
    "duration": 293,
    "start_time": "2024-04-27T22:51:03.353Z"
   },
   {
    "duration": 304,
    "start_time": "2024-04-27T22:51:10.571Z"
   },
   {
    "duration": 380,
    "start_time": "2024-04-27T22:51:16.909Z"
   },
   {
    "duration": 3784,
    "start_time": "2024-04-28T04:42:38.055Z"
   },
   {
    "duration": 1640,
    "start_time": "2024-04-28T04:42:41.841Z"
   },
   {
    "duration": 158,
    "start_time": "2024-04-28T04:42:43.482Z"
   },
   {
    "duration": 22,
    "start_time": "2024-04-28T04:42:43.641Z"
   },
   {
    "duration": 13,
    "start_time": "2024-04-28T04:42:43.664Z"
   },
   {
    "duration": 9,
    "start_time": "2024-04-28T04:42:43.678Z"
   },
   {
    "duration": 6,
    "start_time": "2024-04-28T04:42:43.688Z"
   },
   {
    "duration": 13,
    "start_time": "2024-04-28T04:42:43.695Z"
   },
   {
    "duration": 6,
    "start_time": "2024-04-28T04:42:43.710Z"
   },
   {
    "duration": 8,
    "start_time": "2024-04-28T04:42:43.718Z"
   },
   {
    "duration": 52,
    "start_time": "2024-04-28T04:42:43.728Z"
   },
   {
    "duration": 5,
    "start_time": "2024-04-28T04:42:43.782Z"
   },
   {
    "duration": 21,
    "start_time": "2024-04-28T04:42:43.789Z"
   },
   {
    "duration": 14,
    "start_time": "2024-04-28T04:42:43.812Z"
   },
   {
    "duration": 10,
    "start_time": "2024-04-28T04:42:43.827Z"
   },
   {
    "duration": 28,
    "start_time": "2024-04-28T04:42:43.839Z"
   },
   {
    "duration": 6,
    "start_time": "2024-04-28T04:42:43.869Z"
   },
   {
    "duration": 6,
    "start_time": "2024-04-28T04:42:43.876Z"
   },
   {
    "duration": 6,
    "start_time": "2024-04-28T04:42:43.883Z"
   },
   {
    "duration": 6,
    "start_time": "2024-04-28T04:42:43.891Z"
   },
   {
    "duration": 68,
    "start_time": "2024-04-28T04:42:43.898Z"
   },
   {
    "duration": 11,
    "start_time": "2024-04-28T04:42:43.968Z"
   },
   {
    "duration": 5,
    "start_time": "2024-04-28T04:42:43.981Z"
   },
   {
    "duration": 36,
    "start_time": "2024-04-28T04:42:43.987Z"
   },
   {
    "duration": 12,
    "start_time": "2024-04-28T04:42:44.025Z"
   },
   {
    "duration": 48,
    "start_time": "2024-04-28T04:42:44.039Z"
   },
   {
    "duration": 5,
    "start_time": "2024-04-28T04:42:44.089Z"
   },
   {
    "duration": 11,
    "start_time": "2024-04-28T04:42:44.098Z"
   },
   {
    "duration": 379,
    "start_time": "2024-04-28T04:42:44.111Z"
   },
   {
    "duration": 325,
    "start_time": "2024-04-28T04:42:44.492Z"
   },
   {
    "duration": 458,
    "start_time": "2024-04-28T04:42:44.819Z"
   },
   {
    "duration": 3667,
    "start_time": "2024-04-28T04:42:45.279Z"
   },
   {
    "duration": 2033,
    "start_time": "2024-04-28T04:42:48.948Z"
   },
   {
    "duration": 3,
    "start_time": "2024-04-28T04:42:50.983Z"
   },
   {
    "duration": 25,
    "start_time": "2024-04-28T04:42:50.987Z"
   },
   {
    "duration": 2,
    "start_time": "2024-04-28T04:42:51.013Z"
   },
   {
    "duration": 29,
    "start_time": "2024-04-28T04:42:51.017Z"
   },
   {
    "duration": 35,
    "start_time": "2024-04-28T04:42:51.047Z"
   },
   {
    "duration": 1824,
    "start_time": "2024-04-28T04:42:51.084Z"
   },
   {
    "duration": 26,
    "start_time": "2024-04-28T04:42:52.909Z"
   },
   {
    "duration": 10,
    "start_time": "2024-04-28T04:42:52.937Z"
   },
   {
    "duration": 24,
    "start_time": "2024-04-28T04:42:52.949Z"
   },
   {
    "duration": 459,
    "start_time": "2024-04-28T04:42:52.975Z"
   },
   {
    "duration": 15,
    "start_time": "2024-04-28T04:42:53.436Z"
   },
   {
    "duration": 18,
    "start_time": "2024-04-28T04:42:53.452Z"
   },
   {
    "duration": 7,
    "start_time": "2024-04-28T04:42:53.472Z"
   },
   {
    "duration": 15,
    "start_time": "2024-04-28T04:42:53.480Z"
   },
   {
    "duration": 788,
    "start_time": "2024-04-28T04:42:53.497Z"
   },
   {
    "duration": 10,
    "start_time": "2024-04-28T04:42:54.287Z"
   },
   {
    "duration": 6,
    "start_time": "2024-04-28T04:42:54.299Z"
   },
   {
    "duration": 6,
    "start_time": "2024-04-28T04:42:54.307Z"
   },
   {
    "duration": 13,
    "start_time": "2024-04-28T04:42:54.314Z"
   },
   {
    "duration": 444,
    "start_time": "2024-04-28T04:42:54.329Z"
   },
   {
    "duration": 14,
    "start_time": "2024-04-28T04:42:54.774Z"
   },
   {
    "duration": 13,
    "start_time": "2024-04-28T04:42:54.790Z"
   },
   {
    "duration": 9,
    "start_time": "2024-04-28T04:42:54.804Z"
   },
   {
    "duration": 9,
    "start_time": "2024-04-28T04:42:54.814Z"
   },
   {
    "duration": 10,
    "start_time": "2024-04-28T04:42:54.824Z"
   },
   {
    "duration": 38,
    "start_time": "2024-04-28T04:42:54.835Z"
   },
   {
    "duration": 9,
    "start_time": "2024-04-28T04:42:54.875Z"
   },
   {
    "duration": 9,
    "start_time": "2024-04-28T04:42:54.886Z"
   },
   {
    "duration": 11,
    "start_time": "2024-04-28T04:42:54.896Z"
   },
   {
    "duration": 22,
    "start_time": "2024-04-28T04:44:09.499Z"
   },
   {
    "duration": 1127,
    "start_time": "2024-04-28T04:53:36.494Z"
   },
   {
    "duration": 26,
    "start_time": "2024-04-28T04:53:53.031Z"
   },
   {
    "duration": 22,
    "start_time": "2024-04-28T04:55:10.122Z"
   },
   {
    "duration": 22,
    "start_time": "2024-04-28T04:55:11.490Z"
   },
   {
    "duration": 17,
    "start_time": "2024-04-28T04:57:12.176Z"
   },
   {
    "duration": 17,
    "start_time": "2024-04-28T04:57:26.315Z"
   },
   {
    "duration": 16,
    "start_time": "2024-04-28T04:57:41.136Z"
   },
   {
    "duration": 731,
    "start_time": "2024-04-28T04:58:14.364Z"
   },
   {
    "duration": 628,
    "start_time": "2024-04-28T04:58:44.388Z"
   },
   {
    "duration": 40,
    "start_time": "2024-04-28T04:58:52.458Z"
   },
   {
    "duration": 1212,
    "start_time": "2024-04-28T04:59:05.831Z"
   },
   {
    "duration": 10,
    "start_time": "2024-04-28T05:01:14.886Z"
   },
   {
    "duration": 9,
    "start_time": "2024-04-28T05:02:12.670Z"
   },
   {
    "duration": 4,
    "start_time": "2024-04-28T05:02:53.550Z"
   },
   {
    "duration": 12,
    "start_time": "2024-04-28T05:03:09.104Z"
   },
   {
    "duration": 14,
    "start_time": "2024-04-28T05:07:03.911Z"
   },
   {
    "duration": 4,
    "start_time": "2024-04-28T05:11:32.629Z"
   },
   {
    "duration": 8,
    "start_time": "2024-04-28T05:12:26.161Z"
   },
   {
    "duration": 12,
    "start_time": "2024-04-28T05:14:09.944Z"
   },
   {
    "duration": 26,
    "start_time": "2024-04-28T05:14:36.286Z"
   },
   {
    "duration": 15,
    "start_time": "2024-04-28T05:14:37.070Z"
   },
   {
    "duration": 12,
    "start_time": "2024-04-28T05:14:38.087Z"
   },
   {
    "duration": 17,
    "start_time": "2024-04-28T05:15:15.516Z"
   },
   {
    "duration": 21,
    "start_time": "2024-04-28T05:15:41.740Z"
   },
   {
    "duration": 8,
    "start_time": "2024-04-28T05:15:52.310Z"
   },
   {
    "duration": 17,
    "start_time": "2024-04-28T05:16:00.882Z"
   },
   {
    "duration": 15,
    "start_time": "2024-04-28T05:16:10.031Z"
   },
   {
    "duration": 19,
    "start_time": "2024-04-28T05:16:20.671Z"
   },
   {
    "duration": 20,
    "start_time": "2024-04-28T05:17:38.676Z"
   },
   {
    "duration": 13,
    "start_time": "2024-04-28T05:19:05.587Z"
   },
   {
    "duration": 11,
    "start_time": "2024-04-28T05:19:12.323Z"
   },
   {
    "duration": 24,
    "start_time": "2024-04-28T05:19:23.126Z"
   },
   {
    "duration": 10,
    "start_time": "2024-04-28T05:19:26.809Z"
   },
   {
    "duration": 15,
    "start_time": "2024-04-28T05:19:29.244Z"
   },
   {
    "duration": 9,
    "start_time": "2024-04-28T05:19:46.465Z"
   },
   {
    "duration": 24,
    "start_time": "2024-04-28T05:22:16.564Z"
   },
   {
    "duration": 17,
    "start_time": "2024-04-28T05:22:24.997Z"
   },
   {
    "duration": 23,
    "start_time": "2024-04-28T05:22:46.272Z"
   },
   {
    "duration": 14,
    "start_time": "2024-04-28T05:22:54.425Z"
   },
   {
    "duration": 8,
    "start_time": "2024-04-28T05:26:18.356Z"
   },
   {
    "duration": 708,
    "start_time": "2024-04-28T05:27:55.785Z"
   },
   {
    "duration": 57,
    "start_time": "2024-04-28T05:29:40.801Z"
   },
   {
    "duration": 19,
    "start_time": "2024-04-28T05:30:52.324Z"
   },
   {
    "duration": 21,
    "start_time": "2024-04-28T05:30:57.757Z"
   },
   {
    "duration": 1040,
    "start_time": "2024-04-28T05:31:12.346Z"
   },
   {
    "duration": 9,
    "start_time": "2024-04-28T05:31:23.666Z"
   },
   {
    "duration": 9,
    "start_time": "2024-04-28T05:32:37.656Z"
   },
   {
    "duration": 9,
    "start_time": "2024-04-28T05:32:51.211Z"
   },
   {
    "duration": 9,
    "start_time": "2024-04-28T05:36:20.925Z"
   },
   {
    "duration": 14,
    "start_time": "2024-04-28T05:36:32.195Z"
   },
   {
    "duration": 11,
    "start_time": "2024-04-28T05:37:10.758Z"
   },
   {
    "duration": 12,
    "start_time": "2024-04-28T05:37:20.160Z"
   },
   {
    "duration": 25,
    "start_time": "2024-04-28T05:37:50.152Z"
   },
   {
    "duration": 16,
    "start_time": "2024-04-28T05:37:52.904Z"
   },
   {
    "duration": 13,
    "start_time": "2024-04-28T05:37:54.804Z"
   },
   {
    "duration": 10,
    "start_time": "2024-04-28T05:37:55.854Z"
   },
   {
    "duration": 18,
    "start_time": "2024-04-28T05:40:47.326Z"
   },
   {
    "duration": 24,
    "start_time": "2024-04-28T05:41:07.398Z"
   },
   {
    "duration": 9,
    "start_time": "2024-04-28T05:41:12.217Z"
   },
   {
    "duration": 10,
    "start_time": "2024-04-28T05:41:13.266Z"
   },
   {
    "duration": 11,
    "start_time": "2024-04-28T05:43:27.341Z"
   },
   {
    "duration": 10,
    "start_time": "2024-04-28T05:43:38.612Z"
   },
   {
    "duration": 9,
    "start_time": "2024-04-28T05:44:40.281Z"
   },
   {
    "duration": 9,
    "start_time": "2024-04-28T05:44:49.052Z"
   },
   {
    "duration": 13,
    "start_time": "2024-04-28T05:46:19.162Z"
   },
   {
    "duration": 25,
    "start_time": "2024-04-28T05:46:24.846Z"
   },
   {
    "duration": 12,
    "start_time": "2024-04-28T05:46:25.079Z"
   },
   {
    "duration": 16,
    "start_time": "2024-04-28T05:46:25.346Z"
   },
   {
    "duration": 23,
    "start_time": "2024-04-28T05:46:25.629Z"
   },
   {
    "duration": 19,
    "start_time": "2024-04-28T05:46:25.880Z"
   },
   {
    "duration": 9,
    "start_time": "2024-04-28T05:46:26.147Z"
   },
   {
    "duration": 12,
    "start_time": "2024-04-28T05:46:26.431Z"
   },
   {
    "duration": 10,
    "start_time": "2024-04-28T05:46:58.857Z"
   },
   {
    "duration": 11,
    "start_time": "2024-04-28T05:47:03.726Z"
   },
   {
    "duration": 9,
    "start_time": "2024-04-28T05:47:11.578Z"
   },
   {
    "duration": 21,
    "start_time": "2024-04-28T05:48:22.452Z"
   },
   {
    "duration": 16,
    "start_time": "2024-04-28T05:48:31.953Z"
   },
   {
    "duration": 46,
    "start_time": "2024-04-28T05:48:51.960Z"
   },
   {
    "duration": 21,
    "start_time": "2024-04-28T05:49:06.682Z"
   },
   {
    "duration": 10,
    "start_time": "2024-04-28T05:49:25.152Z"
   },
   {
    "duration": 10,
    "start_time": "2024-04-28T05:51:48.047Z"
   },
   {
    "duration": 8,
    "start_time": "2024-04-28T05:51:56.583Z"
   },
   {
    "duration": 15,
    "start_time": "2024-04-28T05:52:36.746Z"
   },
   {
    "duration": 11,
    "start_time": "2024-04-28T05:55:53.624Z"
   },
   {
    "duration": 4,
    "start_time": "2024-04-28T05:58:22.971Z"
   },
   {
    "duration": 9,
    "start_time": "2024-04-28T05:58:29.206Z"
   },
   {
    "duration": 14,
    "start_time": "2024-04-28T07:03:27.904Z"
   },
   {
    "duration": 42,
    "start_time": "2024-04-28T07:03:34.121Z"
   },
   {
    "duration": 10,
    "start_time": "2024-04-28T07:03:41.390Z"
   },
   {
    "duration": 46,
    "start_time": "2024-04-28T07:04:55.330Z"
   },
   {
    "duration": 10,
    "start_time": "2024-04-28T07:05:02.449Z"
   },
   {
    "duration": 6,
    "start_time": "2024-04-28T07:06:39.133Z"
   },
   {
    "duration": 13,
    "start_time": "2024-04-28T07:06:49.418Z"
   },
   {
    "duration": 12,
    "start_time": "2024-04-28T07:07:29.761Z"
   },
   {
    "duration": 11,
    "start_time": "2024-04-28T07:07:43.315Z"
   },
   {
    "duration": 40,
    "start_time": "2024-04-28T07:08:01.153Z"
   },
   {
    "duration": 9,
    "start_time": "2024-04-28T07:08:15.459Z"
   },
   {
    "duration": 9,
    "start_time": "2024-04-28T07:08:57.573Z"
   },
   {
    "duration": 10,
    "start_time": "2024-04-28T07:09:02.924Z"
   },
   {
    "duration": 13,
    "start_time": "2024-04-28T07:09:06.458Z"
   },
   {
    "duration": 9,
    "start_time": "2024-04-28T07:09:33.467Z"
   },
   {
    "duration": 10,
    "start_time": "2024-04-28T07:09:34.299Z"
   },
   {
    "duration": 11,
    "start_time": "2024-04-28T07:10:13.864Z"
   },
   {
    "duration": 10,
    "start_time": "2024-04-28T07:12:25.689Z"
   },
   {
    "duration": 25,
    "start_time": "2024-04-28T07:12:44.293Z"
   },
   {
    "duration": 21,
    "start_time": "2024-04-28T07:12:44.994Z"
   },
   {
    "duration": 9,
    "start_time": "2024-04-28T07:12:45.661Z"
   },
   {
    "duration": 11,
    "start_time": "2024-04-28T07:12:46.243Z"
   },
   {
    "duration": 8,
    "start_time": "2024-04-28T07:13:08.067Z"
   },
   {
    "duration": 11,
    "start_time": "2024-04-28T07:13:08.818Z"
   },
   {
    "duration": 10,
    "start_time": "2024-04-28T07:13:18.753Z"
   },
   {
    "duration": 9,
    "start_time": "2024-04-28T07:13:35.425Z"
   },
   {
    "duration": 12,
    "start_time": "2024-04-28T07:13:37.826Z"
   },
   {
    "duration": 9,
    "start_time": "2024-04-28T07:14:24.974Z"
   },
   {
    "duration": 10,
    "start_time": "2024-04-28T07:14:27.709Z"
   },
   {
    "duration": 11,
    "start_time": "2024-04-28T07:21:06.970Z"
   },
   {
    "duration": 22,
    "start_time": "2024-04-28T07:21:07.534Z"
   },
   {
    "duration": 21,
    "start_time": "2024-04-28T07:21:07.850Z"
   },
   {
    "duration": 10,
    "start_time": "2024-04-28T07:21:08.100Z"
   },
   {
    "duration": 11,
    "start_time": "2024-04-28T07:21:08.404Z"
   },
   {
    "duration": 10,
    "start_time": "2024-04-28T07:22:14.703Z"
   },
   {
    "duration": 11,
    "start_time": "2024-04-28T07:22:18.989Z"
   },
   {
    "duration": 11,
    "start_time": "2024-04-28T07:23:14.674Z"
   },
   {
    "duration": 2301,
    "start_time": "2024-04-28T07:24:17.778Z"
   },
   {
    "duration": 1444,
    "start_time": "2024-04-28T07:24:20.080Z"
   },
   {
    "duration": 39,
    "start_time": "2024-04-28T07:24:21.525Z"
   },
   {
    "duration": 14,
    "start_time": "2024-04-28T07:24:21.565Z"
   },
   {
    "duration": 22,
    "start_time": "2024-04-28T07:24:21.581Z"
   },
   {
    "duration": 12,
    "start_time": "2024-04-28T07:24:21.605Z"
   },
   {
    "duration": 7,
    "start_time": "2024-04-28T07:24:21.619Z"
   },
   {
    "duration": 12,
    "start_time": "2024-04-28T07:24:21.627Z"
   },
   {
    "duration": 31,
    "start_time": "2024-04-28T07:24:21.640Z"
   },
   {
    "duration": 12,
    "start_time": "2024-04-28T07:24:21.674Z"
   },
   {
    "duration": 21,
    "start_time": "2024-04-28T07:24:21.687Z"
   },
   {
    "duration": 4,
    "start_time": "2024-04-28T07:24:21.709Z"
   },
   {
    "duration": 30,
    "start_time": "2024-04-28T07:24:21.715Z"
   },
   {
    "duration": 12,
    "start_time": "2024-04-28T07:24:21.747Z"
   },
   {
    "duration": 6,
    "start_time": "2024-04-28T07:24:21.765Z"
   },
   {
    "duration": 11,
    "start_time": "2024-04-28T07:24:21.773Z"
   },
   {
    "duration": 6,
    "start_time": "2024-04-28T07:24:21.785Z"
   },
   {
    "duration": 6,
    "start_time": "2024-04-28T07:24:21.793Z"
   },
   {
    "duration": 6,
    "start_time": "2024-04-28T07:24:21.800Z"
   },
   {
    "duration": 12,
    "start_time": "2024-04-28T07:24:21.807Z"
   },
   {
    "duration": 55,
    "start_time": "2024-04-28T07:24:21.820Z"
   },
   {
    "duration": 11,
    "start_time": "2024-04-28T07:24:21.877Z"
   },
   {
    "duration": 6,
    "start_time": "2024-04-28T07:24:21.890Z"
   },
   {
    "duration": 35,
    "start_time": "2024-04-28T07:24:21.898Z"
   },
   {
    "duration": 13,
    "start_time": "2024-04-28T07:24:21.935Z"
   },
   {
    "duration": 20,
    "start_time": "2024-04-28T07:24:21.965Z"
   },
   {
    "duration": 4,
    "start_time": "2024-04-28T07:24:21.986Z"
   },
   {
    "duration": 29,
    "start_time": "2024-04-28T07:24:21.993Z"
   },
   {
    "duration": 362,
    "start_time": "2024-04-28T07:24:22.024Z"
   },
   {
    "duration": 358,
    "start_time": "2024-04-28T07:24:22.388Z"
   },
   {
    "duration": 467,
    "start_time": "2024-04-28T07:24:22.747Z"
   },
   {
    "duration": 3515,
    "start_time": "2024-04-28T07:24:23.215Z"
   },
   {
    "duration": 2056,
    "start_time": "2024-04-28T07:24:26.732Z"
   },
   {
    "duration": 4,
    "start_time": "2024-04-28T07:24:28.789Z"
   },
   {
    "duration": 18,
    "start_time": "2024-04-28T07:24:28.794Z"
   },
   {
    "duration": 2,
    "start_time": "2024-04-28T07:24:28.813Z"
   },
   {
    "duration": 24,
    "start_time": "2024-04-28T07:24:28.816Z"
   },
   {
    "duration": 50,
    "start_time": "2024-04-28T07:24:28.841Z"
   },
   {
    "duration": 1911,
    "start_time": "2024-04-28T07:24:28.893Z"
   },
   {
    "duration": 26,
    "start_time": "2024-04-28T07:24:30.805Z"
   },
   {
    "duration": 46,
    "start_time": "2024-04-28T07:24:30.832Z"
   },
   {
    "duration": 69,
    "start_time": "2024-04-28T07:24:30.880Z"
   },
   {
    "duration": 43,
    "start_time": "2024-04-28T07:24:30.950Z"
   },
   {
    "duration": 66,
    "start_time": "2024-04-28T07:24:30.995Z"
   },
   {
    "duration": 70,
    "start_time": "2024-04-28T07:24:31.062Z"
   },
   {
    "duration": 514,
    "start_time": "2024-04-28T07:24:31.134Z"
   },
   {
    "duration": 23,
    "start_time": "2024-04-28T07:24:31.649Z"
   },
   {
    "duration": 9,
    "start_time": "2024-04-28T07:24:31.673Z"
   },
   {
    "duration": 8,
    "start_time": "2024-04-28T07:24:31.683Z"
   },
   {
    "duration": 26,
    "start_time": "2024-04-28T07:24:31.692Z"
   },
   {
    "duration": 748,
    "start_time": "2024-04-28T07:24:31.719Z"
   },
   {
    "duration": 10,
    "start_time": "2024-04-28T07:24:32.468Z"
   },
   {
    "duration": 15,
    "start_time": "2024-04-28T07:24:32.479Z"
   },
   {
    "duration": 6,
    "start_time": "2024-04-28T07:24:32.495Z"
   },
   {
    "duration": 14,
    "start_time": "2024-04-28T07:24:32.503Z"
   },
   {
    "duration": 481,
    "start_time": "2024-04-28T07:24:32.518Z"
   },
   {
    "duration": 18,
    "start_time": "2024-04-28T07:24:33.001Z"
   },
   {
    "duration": 13,
    "start_time": "2024-04-28T07:24:33.021Z"
   },
   {
    "duration": 31,
    "start_time": "2024-04-28T07:24:33.036Z"
   },
   {
    "duration": 9,
    "start_time": "2024-04-28T07:24:33.069Z"
   },
   {
    "duration": 9,
    "start_time": "2024-04-28T07:24:33.080Z"
   },
   {
    "duration": 9,
    "start_time": "2024-04-28T07:24:33.091Z"
   },
   {
    "duration": 14,
    "start_time": "2024-04-28T07:24:33.101Z"
   },
   {
    "duration": 13,
    "start_time": "2024-04-28T07:24:33.116Z"
   },
   {
    "duration": 43,
    "start_time": "2024-04-28T07:24:33.131Z"
   },
   {
    "duration": 9,
    "start_time": "2024-04-28T07:27:26.636Z"
   },
   {
    "duration": 9,
    "start_time": "2024-04-28T07:28:05.565Z"
   },
   {
    "duration": 12,
    "start_time": "2024-04-28T07:28:17.400Z"
   },
   {
    "duration": 26,
    "start_time": "2024-04-28T07:28:18.102Z"
   },
   {
    "duration": 22,
    "start_time": "2024-04-28T07:28:18.684Z"
   },
   {
    "duration": 10,
    "start_time": "2024-04-28T07:28:19.202Z"
   },
   {
    "duration": 13,
    "start_time": "2024-04-28T07:28:20.134Z"
   },
   {
    "duration": 110,
    "start_time": "2024-04-28T07:29:06.116Z"
   },
   {
    "duration": 9,
    "start_time": "2024-04-28T07:29:28.040Z"
   },
   {
    "duration": 2364,
    "start_time": "2024-04-28T07:30:27.343Z"
   },
   {
    "duration": 1527,
    "start_time": "2024-04-28T07:30:29.710Z"
   },
   {
    "duration": 46,
    "start_time": "2024-04-28T07:30:31.239Z"
   },
   {
    "duration": 23,
    "start_time": "2024-04-28T07:30:31.289Z"
   },
   {
    "duration": 23,
    "start_time": "2024-04-28T07:30:31.314Z"
   },
   {
    "duration": 36,
    "start_time": "2024-04-28T07:30:31.339Z"
   },
   {
    "duration": 32,
    "start_time": "2024-04-28T07:30:31.377Z"
   },
   {
    "duration": 62,
    "start_time": "2024-04-28T07:30:31.410Z"
   },
   {
    "duration": 34,
    "start_time": "2024-04-28T07:30:31.474Z"
   },
   {
    "duration": 24,
    "start_time": "2024-04-28T07:30:31.511Z"
   },
   {
    "duration": 69,
    "start_time": "2024-04-28T07:30:31.536Z"
   },
   {
    "duration": 16,
    "start_time": "2024-04-28T07:30:31.606Z"
   },
   {
    "duration": 37,
    "start_time": "2024-04-28T07:30:31.623Z"
   },
   {
    "duration": 15,
    "start_time": "2024-04-28T07:30:31.661Z"
   },
   {
    "duration": 10,
    "start_time": "2024-04-28T07:30:31.677Z"
   },
   {
    "duration": 27,
    "start_time": "2024-04-28T07:30:31.689Z"
   },
   {
    "duration": 16,
    "start_time": "2024-04-28T07:30:31.717Z"
   },
   {
    "duration": 8,
    "start_time": "2024-04-28T07:30:31.734Z"
   },
   {
    "duration": 19,
    "start_time": "2024-04-28T07:30:31.744Z"
   },
   {
    "duration": 10,
    "start_time": "2024-04-28T07:30:31.765Z"
   },
   {
    "duration": 48,
    "start_time": "2024-04-28T07:30:31.777Z"
   },
   {
    "duration": 10,
    "start_time": "2024-04-28T07:30:31.827Z"
   },
   {
    "duration": 33,
    "start_time": "2024-04-28T07:30:31.839Z"
   },
   {
    "duration": 51,
    "start_time": "2024-04-28T07:30:31.874Z"
   },
   {
    "duration": 12,
    "start_time": "2024-04-28T07:30:31.927Z"
   },
   {
    "duration": 49,
    "start_time": "2024-04-28T07:30:31.940Z"
   },
   {
    "duration": 5,
    "start_time": "2024-04-28T07:30:31.991Z"
   },
   {
    "duration": 32,
    "start_time": "2024-04-28T07:30:32.001Z"
   },
   {
    "duration": 404,
    "start_time": "2024-04-28T07:30:32.035Z"
   },
   {
    "duration": 391,
    "start_time": "2024-04-28T07:30:32.441Z"
   },
   {
    "duration": 497,
    "start_time": "2024-04-28T07:30:32.833Z"
   },
   {
    "duration": 3959,
    "start_time": "2024-04-28T07:30:33.331Z"
   },
   {
    "duration": 2107,
    "start_time": "2024-04-28T07:30:37.292Z"
   },
   {
    "duration": 3,
    "start_time": "2024-04-28T07:30:39.401Z"
   },
   {
    "duration": 24,
    "start_time": "2024-04-28T07:30:39.406Z"
   },
   {
    "duration": 38,
    "start_time": "2024-04-28T07:30:39.431Z"
   },
   {
    "duration": 22,
    "start_time": "2024-04-28T07:30:39.470Z"
   },
   {
    "duration": 25,
    "start_time": "2024-04-28T07:30:39.494Z"
   },
   {
    "duration": 2086,
    "start_time": "2024-04-28T07:30:39.521Z"
   },
   {
    "duration": 34,
    "start_time": "2024-04-28T07:30:41.611Z"
   },
   {
    "duration": 11,
    "start_time": "2024-04-28T07:30:41.647Z"
   },
   {
    "duration": 26,
    "start_time": "2024-04-28T07:30:41.659Z"
   },
   {
    "duration": 23,
    "start_time": "2024-04-28T07:30:41.687Z"
   },
   {
    "duration": 10,
    "start_time": "2024-04-28T07:30:41.712Z"
   },
   {
    "duration": 13,
    "start_time": "2024-04-28T07:30:41.723Z"
   },
   {
    "duration": 567,
    "start_time": "2024-04-28T07:30:41.738Z"
   },
   {
    "duration": 16,
    "start_time": "2024-04-28T07:30:42.306Z"
   },
   {
    "duration": 8,
    "start_time": "2024-04-28T07:30:42.324Z"
   },
   {
    "duration": 7,
    "start_time": "2024-04-28T07:30:42.333Z"
   },
   {
    "duration": 52,
    "start_time": "2024-04-28T07:30:42.341Z"
   },
   {
    "duration": 797,
    "start_time": "2024-04-28T07:30:42.398Z"
   },
   {
    "duration": 12,
    "start_time": "2024-04-28T07:30:43.196Z"
   },
   {
    "duration": 8,
    "start_time": "2024-04-28T07:30:43.209Z"
   },
   {
    "duration": 6,
    "start_time": "2024-04-28T07:30:43.219Z"
   },
   {
    "duration": 41,
    "start_time": "2024-04-28T07:30:43.226Z"
   },
   {
    "duration": 474,
    "start_time": "2024-04-28T07:30:43.269Z"
   },
   {
    "duration": 24,
    "start_time": "2024-04-28T07:30:43.744Z"
   },
   {
    "duration": 19,
    "start_time": "2024-04-28T07:30:43.770Z"
   },
   {
    "duration": 13,
    "start_time": "2024-04-28T07:30:43.791Z"
   },
   {
    "duration": 11,
    "start_time": "2024-04-28T07:30:43.806Z"
   },
   {
    "duration": 11,
    "start_time": "2024-04-28T07:30:43.818Z"
   },
   {
    "duration": 47,
    "start_time": "2024-04-28T07:30:43.831Z"
   },
   {
    "duration": 13,
    "start_time": "2024-04-28T07:30:43.880Z"
   },
   {
    "duration": 10,
    "start_time": "2024-04-28T07:30:43.895Z"
   },
   {
    "duration": 22,
    "start_time": "2024-04-28T07:30:43.907Z"
   },
   {
    "duration": 108,
    "start_time": "2024-04-28T07:32:26.896Z"
   },
   {
    "duration": 15,
    "start_time": "2024-04-28T07:32:39.467Z"
   },
   {
    "duration": 12,
    "start_time": "2024-04-28T07:32:40.416Z"
   },
   {
    "duration": 12,
    "start_time": "2024-04-28T07:32:45.618Z"
   },
   {
    "duration": 22,
    "start_time": "2024-04-28T07:32:46.118Z"
   },
   {
    "duration": 21,
    "start_time": "2024-04-28T07:32:46.568Z"
   },
   {
    "duration": 9,
    "start_time": "2024-04-28T07:32:47.017Z"
   },
   {
    "duration": 11,
    "start_time": "2024-04-28T07:32:47.619Z"
   },
   {
    "duration": 2224,
    "start_time": "2024-04-28T07:36:38.470Z"
   },
   {
    "duration": 1405,
    "start_time": "2024-04-28T07:36:40.696Z"
   },
   {
    "duration": 47,
    "start_time": "2024-04-28T07:36:42.103Z"
   },
   {
    "duration": 16,
    "start_time": "2024-04-28T07:36:42.152Z"
   },
   {
    "duration": 15,
    "start_time": "2024-04-28T07:36:42.169Z"
   },
   {
    "duration": 12,
    "start_time": "2024-04-28T07:36:42.186Z"
   },
   {
    "duration": 7,
    "start_time": "2024-04-28T07:36:42.200Z"
   },
   {
    "duration": 19,
    "start_time": "2024-04-28T07:36:42.209Z"
   },
   {
    "duration": 18,
    "start_time": "2024-04-28T07:36:42.229Z"
   },
   {
    "duration": 16,
    "start_time": "2024-04-28T07:36:42.250Z"
   },
   {
    "duration": 20,
    "start_time": "2024-04-28T07:36:42.267Z"
   },
   {
    "duration": 8,
    "start_time": "2024-04-28T07:36:42.288Z"
   },
   {
    "duration": 21,
    "start_time": "2024-04-28T07:36:42.297Z"
   },
   {
    "duration": 13,
    "start_time": "2024-04-28T07:36:42.319Z"
   },
   {
    "duration": 8,
    "start_time": "2024-04-28T07:36:42.334Z"
   },
   {
    "duration": 35,
    "start_time": "2024-04-28T07:36:42.343Z"
   },
   {
    "duration": 5,
    "start_time": "2024-04-28T07:36:42.379Z"
   },
   {
    "duration": 9,
    "start_time": "2024-04-28T07:36:42.386Z"
   },
   {
    "duration": 7,
    "start_time": "2024-04-28T07:36:42.397Z"
   },
   {
    "duration": 16,
    "start_time": "2024-04-28T07:36:42.406Z"
   },
   {
    "duration": 52,
    "start_time": "2024-04-28T07:36:42.424Z"
   },
   {
    "duration": 10,
    "start_time": "2024-04-28T07:36:42.477Z"
   },
   {
    "duration": 11,
    "start_time": "2024-04-28T07:36:42.488Z"
   },
   {
    "duration": 34,
    "start_time": "2024-04-28T07:36:42.500Z"
   },
   {
    "duration": 30,
    "start_time": "2024-04-28T07:36:42.536Z"
   },
   {
    "duration": 19,
    "start_time": "2024-04-28T07:36:42.567Z"
   },
   {
    "duration": 3,
    "start_time": "2024-04-28T07:36:42.588Z"
   },
   {
    "duration": 11,
    "start_time": "2024-04-28T07:36:42.595Z"
   },
   {
    "duration": 385,
    "start_time": "2024-04-28T07:36:42.607Z"
   },
   {
    "duration": 363,
    "start_time": "2024-04-28T07:36:42.994Z"
   },
   {
    "duration": 478,
    "start_time": "2024-04-28T07:36:43.367Z"
   },
   {
    "duration": 3489,
    "start_time": "2024-04-28T07:36:43.846Z"
   },
   {
    "duration": 2037,
    "start_time": "2024-04-28T07:36:47.337Z"
   },
   {
    "duration": 4,
    "start_time": "2024-04-28T07:36:49.376Z"
   },
   {
    "duration": 23,
    "start_time": "2024-04-28T07:36:49.382Z"
   },
   {
    "duration": 14,
    "start_time": "2024-04-28T07:36:49.406Z"
   },
   {
    "duration": 24,
    "start_time": "2024-04-28T07:36:49.422Z"
   },
   {
    "duration": 35,
    "start_time": "2024-04-28T07:36:49.448Z"
   },
   {
    "duration": 1887,
    "start_time": "2024-04-28T07:36:49.485Z"
   },
   {
    "duration": 27,
    "start_time": "2024-04-28T07:36:51.373Z"
   },
   {
    "duration": 10,
    "start_time": "2024-04-28T07:36:51.402Z"
   },
   {
    "duration": 35,
    "start_time": "2024-04-28T07:36:51.414Z"
   },
   {
    "duration": 29,
    "start_time": "2024-04-28T07:36:51.450Z"
   },
   {
    "duration": 9,
    "start_time": "2024-04-28T07:36:51.481Z"
   },
   {
    "duration": 17,
    "start_time": "2024-04-28T07:36:51.491Z"
   },
   {
    "duration": 453,
    "start_time": "2024-04-28T07:36:51.510Z"
   },
   {
    "duration": 16,
    "start_time": "2024-04-28T07:36:51.965Z"
   },
   {
    "duration": 8,
    "start_time": "2024-04-28T07:36:51.982Z"
   },
   {
    "duration": 6,
    "start_time": "2024-04-28T07:36:51.992Z"
   },
   {
    "duration": 33,
    "start_time": "2024-04-28T07:36:51.999Z"
   },
   {
    "duration": 731,
    "start_time": "2024-04-28T07:36:52.034Z"
   },
   {
    "duration": 10,
    "start_time": "2024-04-28T07:36:52.766Z"
   },
   {
    "duration": 7,
    "start_time": "2024-04-28T07:36:52.777Z"
   },
   {
    "duration": 6,
    "start_time": "2024-04-28T07:36:52.786Z"
   },
   {
    "duration": 15,
    "start_time": "2024-04-28T07:36:52.793Z"
   },
   {
    "duration": 449,
    "start_time": "2024-04-28T07:36:52.809Z"
   },
   {
    "duration": 14,
    "start_time": "2024-04-28T07:36:53.265Z"
   },
   {
    "duration": 18,
    "start_time": "2024-04-28T07:36:53.280Z"
   },
   {
    "duration": 10,
    "start_time": "2024-04-28T07:36:53.299Z"
   },
   {
    "duration": 10,
    "start_time": "2024-04-28T07:36:53.310Z"
   },
   {
    "duration": 8,
    "start_time": "2024-04-28T07:36:53.322Z"
   },
   {
    "duration": 13,
    "start_time": "2024-04-28T07:36:53.331Z"
   },
   {
    "duration": 8,
    "start_time": "2024-04-28T07:36:53.365Z"
   },
   {
    "duration": 14,
    "start_time": "2024-04-28T07:36:53.375Z"
   },
   {
    "duration": 12,
    "start_time": "2024-04-28T07:36:53.390Z"
   },
   {
    "duration": 4456,
    "start_time": "2024-04-28T10:14:59.431Z"
   },
   {
    "duration": 2850,
    "start_time": "2024-04-28T10:15:03.889Z"
   },
   {
    "duration": 95,
    "start_time": "2024-04-28T10:15:06.740Z"
   },
   {
    "duration": 17,
    "start_time": "2024-04-28T10:15:06.837Z"
   },
   {
    "duration": 14,
    "start_time": "2024-04-28T10:15:06.855Z"
   },
   {
    "duration": 10,
    "start_time": "2024-04-28T10:15:06.870Z"
   },
   {
    "duration": 29,
    "start_time": "2024-04-28T10:15:06.881Z"
   },
   {
    "duration": 16,
    "start_time": "2024-04-28T10:15:06.912Z"
   },
   {
    "duration": 7,
    "start_time": "2024-04-28T10:15:06.929Z"
   },
   {
    "duration": 8,
    "start_time": "2024-04-28T10:15:06.938Z"
   },
   {
    "duration": 21,
    "start_time": "2024-04-28T10:15:06.947Z"
   },
   {
    "duration": 5,
    "start_time": "2024-04-28T10:15:06.969Z"
   },
   {
    "duration": 44,
    "start_time": "2024-04-28T10:15:06.976Z"
   },
   {
    "duration": 15,
    "start_time": "2024-04-28T10:15:07.022Z"
   },
   {
    "duration": 6,
    "start_time": "2024-04-28T10:15:07.038Z"
   },
   {
    "duration": 8,
    "start_time": "2024-04-28T10:15:07.045Z"
   },
   {
    "duration": 16,
    "start_time": "2024-04-28T10:15:07.055Z"
   },
   {
    "duration": 7,
    "start_time": "2024-04-28T10:15:07.076Z"
   },
   {
    "duration": 20,
    "start_time": "2024-04-28T10:15:07.084Z"
   },
   {
    "duration": 9,
    "start_time": "2024-04-28T10:15:07.115Z"
   },
   {
    "duration": 44,
    "start_time": "2024-04-28T10:15:07.125Z"
   },
   {
    "duration": 12,
    "start_time": "2024-04-28T10:15:07.171Z"
   },
   {
    "duration": 5,
    "start_time": "2024-04-28T10:15:07.184Z"
   },
   {
    "duration": 52,
    "start_time": "2024-04-28T10:15:07.191Z"
   },
   {
    "duration": 14,
    "start_time": "2024-04-28T10:15:07.244Z"
   },
   {
    "duration": 21,
    "start_time": "2024-04-28T10:15:07.259Z"
   },
   {
    "duration": 3,
    "start_time": "2024-04-28T10:15:07.282Z"
   },
   {
    "duration": 32,
    "start_time": "2024-04-28T10:15:07.289Z"
   },
   {
    "duration": 399,
    "start_time": "2024-04-28T10:15:07.323Z"
   },
   {
    "duration": 395,
    "start_time": "2024-04-28T10:15:07.724Z"
   },
   {
    "duration": 510,
    "start_time": "2024-04-28T10:15:08.121Z"
   },
   {
    "duration": 3872,
    "start_time": "2024-04-28T10:15:08.633Z"
   },
   {
    "duration": 2147,
    "start_time": "2024-04-28T10:15:12.507Z"
   },
   {
    "duration": 2,
    "start_time": "2024-04-28T10:15:14.656Z"
   },
   {
    "duration": 20,
    "start_time": "2024-04-28T10:15:14.660Z"
   },
   {
    "duration": 2,
    "start_time": "2024-04-28T10:15:14.682Z"
   },
   {
    "duration": 48,
    "start_time": "2024-04-28T10:15:14.686Z"
   },
   {
    "duration": 25,
    "start_time": "2024-04-28T10:15:14.736Z"
   },
   {
    "duration": 2082,
    "start_time": "2024-04-28T10:15:14.763Z"
   },
   {
    "duration": 30,
    "start_time": "2024-04-28T10:15:16.846Z"
   },
   {
    "duration": 12,
    "start_time": "2024-04-28T10:15:16.878Z"
   },
   {
    "duration": 37,
    "start_time": "2024-04-28T10:15:16.891Z"
   },
   {
    "duration": 20,
    "start_time": "2024-04-28T10:15:16.929Z"
   },
   {
    "duration": 9,
    "start_time": "2024-04-28T10:15:16.950Z"
   },
   {
    "duration": 11,
    "start_time": "2024-04-28T10:15:16.960Z"
   },
   {
    "duration": 509,
    "start_time": "2024-04-28T10:15:16.973Z"
   },
   {
    "duration": 15,
    "start_time": "2024-04-28T10:15:17.483Z"
   },
   {
    "duration": 16,
    "start_time": "2024-04-28T10:15:17.500Z"
   },
   {
    "duration": 8,
    "start_time": "2024-04-28T10:15:17.518Z"
   },
   {
    "duration": 32,
    "start_time": "2024-04-28T10:15:17.528Z"
   },
   {
    "duration": 826,
    "start_time": "2024-04-28T10:15:17.561Z"
   },
   {
    "duration": 10,
    "start_time": "2024-04-28T10:15:18.388Z"
   },
   {
    "duration": 21,
    "start_time": "2024-04-28T10:15:18.399Z"
   },
   {
    "duration": 7,
    "start_time": "2024-04-28T10:15:18.422Z"
   },
   {
    "duration": 18,
    "start_time": "2024-04-28T10:15:18.430Z"
   },
   {
    "duration": 513,
    "start_time": "2024-04-28T10:15:18.449Z"
   },
   {
    "duration": 16,
    "start_time": "2024-04-28T10:15:18.963Z"
   },
   {
    "duration": 16,
    "start_time": "2024-04-28T10:15:18.981Z"
   },
   {
    "duration": 12,
    "start_time": "2024-04-28T10:15:19.015Z"
   },
   {
    "duration": 15,
    "start_time": "2024-04-28T10:15:19.028Z"
   },
   {
    "duration": 12,
    "start_time": "2024-04-28T10:15:19.045Z"
   },
   {
    "duration": 13,
    "start_time": "2024-04-28T10:15:19.059Z"
   },
   {
    "duration": 14,
    "start_time": "2024-04-28T10:15:19.073Z"
   },
   {
    "duration": 13,
    "start_time": "2024-04-28T10:15:19.115Z"
   },
   {
    "duration": 12,
    "start_time": "2024-04-28T10:15:19.130Z"
   },
   {
    "duration": 3889,
    "start_time": "2024-05-17T07:36:59.568Z"
   },
   {
    "duration": 1842,
    "start_time": "2024-05-17T07:37:03.460Z"
   },
   {
    "duration": 95,
    "start_time": "2024-05-17T07:37:05.304Z"
   },
   {
    "duration": 18,
    "start_time": "2024-05-17T07:37:05.401Z"
   },
   {
    "duration": 14,
    "start_time": "2024-05-17T07:37:05.420Z"
   },
   {
    "duration": 73,
    "start_time": "2024-05-17T07:37:05.436Z"
   },
   {
    "duration": 86,
    "start_time": "2024-05-17T07:37:05.511Z"
   },
   {
    "duration": 26,
    "start_time": "2024-05-17T07:37:05.599Z"
   },
   {
    "duration": 8,
    "start_time": "2024-05-17T07:37:05.626Z"
   },
   {
    "duration": 76,
    "start_time": "2024-05-17T07:37:05.637Z"
   },
   {
    "duration": 48,
    "start_time": "2024-05-17T07:37:05.715Z"
   },
   {
    "duration": 5,
    "start_time": "2024-05-17T07:37:05.765Z"
   },
   {
    "duration": 42,
    "start_time": "2024-05-17T07:37:05.772Z"
   },
   {
    "duration": 17,
    "start_time": "2024-05-17T07:37:05.816Z"
   },
   {
    "duration": 7,
    "start_time": "2024-05-17T07:37:05.835Z"
   },
   {
    "duration": 20,
    "start_time": "2024-05-17T07:37:05.843Z"
   },
   {
    "duration": 30,
    "start_time": "2024-05-17T07:37:05.865Z"
   },
   {
    "duration": 10,
    "start_time": "2024-05-17T07:37:05.897Z"
   },
   {
    "duration": 22,
    "start_time": "2024-05-17T07:37:05.908Z"
   },
   {
    "duration": 17,
    "start_time": "2024-05-17T07:37:05.932Z"
   },
   {
    "duration": 60,
    "start_time": "2024-05-17T07:37:05.951Z"
   },
   {
    "duration": 13,
    "start_time": "2024-05-17T07:37:06.013Z"
   },
   {
    "duration": 17,
    "start_time": "2024-05-17T07:37:06.028Z"
   },
   {
    "duration": 51,
    "start_time": "2024-05-17T07:37:06.047Z"
   },
   {
    "duration": 15,
    "start_time": "2024-05-17T07:37:06.099Z"
   },
   {
    "duration": 38,
    "start_time": "2024-05-17T07:37:06.116Z"
   },
   {
    "duration": 5,
    "start_time": "2024-05-17T07:37:06.156Z"
   },
   {
    "duration": 15,
    "start_time": "2024-05-17T07:37:06.172Z"
   },
   {
    "duration": 541,
    "start_time": "2024-05-17T07:37:06.188Z"
   },
   {
    "duration": 435,
    "start_time": "2024-05-17T07:37:06.731Z"
   },
   {
    "duration": 574,
    "start_time": "2024-05-17T07:37:07.168Z"
   },
   {
    "duration": 4296,
    "start_time": "2024-05-17T07:37:07.744Z"
   },
   {
    "duration": 2356,
    "start_time": "2024-05-17T07:37:12.042Z"
   },
   {
    "duration": 3,
    "start_time": "2024-05-17T07:37:14.400Z"
   },
   {
    "duration": 97,
    "start_time": "2024-05-17T07:37:14.405Z"
   },
   {
    "duration": 16,
    "start_time": "2024-05-17T07:37:14.503Z"
   },
   {
    "duration": 56,
    "start_time": "2024-05-17T07:37:14.521Z"
   },
   {
    "duration": 29,
    "start_time": "2024-05-17T07:37:14.579Z"
   },
   {
    "duration": 2261,
    "start_time": "2024-05-17T07:37:14.609Z"
   },
   {
    "duration": 32,
    "start_time": "2024-05-17T07:37:16.871Z"
   },
   {
    "duration": 75,
    "start_time": "2024-05-17T07:37:16.904Z"
   },
   {
    "duration": 63,
    "start_time": "2024-05-17T07:37:16.981Z"
   },
   {
    "duration": 26,
    "start_time": "2024-05-17T07:37:17.046Z"
   },
   {
    "duration": 20,
    "start_time": "2024-05-17T07:37:17.074Z"
   },
   {
    "duration": 38,
    "start_time": "2024-05-17T07:37:17.096Z"
   },
   {
    "duration": 566,
    "start_time": "2024-05-17T07:37:17.136Z"
   },
   {
    "duration": 18,
    "start_time": "2024-05-17T07:37:17.704Z"
   },
   {
    "duration": 36,
    "start_time": "2024-05-17T07:37:17.724Z"
   },
   {
    "duration": 24,
    "start_time": "2024-05-17T07:37:17.761Z"
   },
   {
    "duration": 60,
    "start_time": "2024-05-17T07:37:17.787Z"
   },
   {
    "duration": 898,
    "start_time": "2024-05-17T07:37:17.849Z"
   },
   {
    "duration": 12,
    "start_time": "2024-05-17T07:37:18.749Z"
   },
   {
    "duration": 14,
    "start_time": "2024-05-17T07:37:18.773Z"
   },
   {
    "duration": 45,
    "start_time": "2024-05-17T07:37:18.788Z"
   },
   {
    "duration": 66,
    "start_time": "2024-05-17T07:37:18.835Z"
   },
   {
    "duration": 599,
    "start_time": "2024-05-17T07:37:18.903Z"
   },
   {
    "duration": 17,
    "start_time": "2024-05-17T07:37:19.504Z"
   },
   {
    "duration": 17,
    "start_time": "2024-05-17T07:37:19.522Z"
   },
   {
    "duration": 87,
    "start_time": "2024-05-17T07:37:19.541Z"
   },
   {
    "duration": 63,
    "start_time": "2024-05-17T07:37:19.630Z"
   },
   {
    "duration": 44,
    "start_time": "2024-05-17T07:37:19.695Z"
   },
   {
    "duration": 32,
    "start_time": "2024-05-17T07:37:19.741Z"
   },
   {
    "duration": 34,
    "start_time": "2024-05-17T07:37:19.775Z"
   },
   {
    "duration": 20,
    "start_time": "2024-05-17T07:37:19.811Z"
   },
   {
    "duration": 26,
    "start_time": "2024-05-17T07:37:19.833Z"
   },
   {
    "duration": 2811,
    "start_time": "2024-05-17T07:37:48.663Z"
   },
   {
    "duration": 7,
    "start_time": "2024-05-17T07:37:51.477Z"
   },
   {
    "duration": 44,
    "start_time": "2024-05-17T07:38:12.586Z"
   },
   {
    "duration": 15,
    "start_time": "2024-05-17T07:39:01.154Z"
   },
   {
    "duration": 14,
    "start_time": "2024-05-17T07:39:02.936Z"
   },
   {
    "duration": 11,
    "start_time": "2024-05-17T07:39:09.523Z"
   },
   {
    "duration": 8,
    "start_time": "2024-05-17T07:39:09.956Z"
   },
   {
    "duration": 20,
    "start_time": "2024-05-17T07:40:26.134Z"
   },
   {
    "duration": 8,
    "start_time": "2024-05-17T07:40:44.369Z"
   },
   {
    "duration": 15,
    "start_time": "2024-05-17T07:40:45.238Z"
   },
   {
    "duration": 24,
    "start_time": "2024-05-17T07:40:47.101Z"
   },
   {
    "duration": 6,
    "start_time": "2024-05-17T07:41:17.311Z"
   },
   {
    "duration": 21,
    "start_time": "2024-05-17T07:42:06.245Z"
   },
   {
    "duration": 16,
    "start_time": "2024-05-17T07:42:14.679Z"
   },
   {
    "duration": 6,
    "start_time": "2024-05-17T07:42:15.418Z"
   },
   {
    "duration": 6,
    "start_time": "2024-05-17T07:42:34.919Z"
   },
   {
    "duration": 7,
    "start_time": "2024-05-17T07:42:37.902Z"
   },
   {
    "duration": 8,
    "start_time": "2024-05-17T07:42:38.904Z"
   },
   {
    "duration": 6,
    "start_time": "2024-05-17T07:42:39.721Z"
   },
   {
    "duration": 7,
    "start_time": "2024-05-17T07:42:40.856Z"
   },
   {
    "duration": 46,
    "start_time": "2024-05-17T07:42:42.122Z"
   },
   {
    "duration": 14,
    "start_time": "2024-05-17T07:45:07.566Z"
   },
   {
    "duration": 5,
    "start_time": "2024-05-17T07:45:08.989Z"
   },
   {
    "duration": 41,
    "start_time": "2024-05-17T07:49:59.792Z"
   },
   {
    "duration": 16,
    "start_time": "2024-05-17T07:50:01.507Z"
   },
   {
    "duration": 44,
    "start_time": "2024-05-17T07:50:01.958Z"
   },
   {
    "duration": 5,
    "start_time": "2024-05-17T07:50:02.858Z"
   },
   {
    "duration": 20,
    "start_time": "2024-05-17T07:50:04.628Z"
   },
   {
    "duration": 467,
    "start_time": "2024-05-17T07:50:56.944Z"
   },
   {
    "duration": 359,
    "start_time": "2024-05-17T07:50:58.679Z"
   },
   {
    "duration": 694,
    "start_time": "2024-05-17T07:51:02.693Z"
   },
   {
    "duration": 4151,
    "start_time": "2024-05-17T07:51:08.930Z"
   },
   {
    "duration": 2634,
    "start_time": "2024-05-17T07:51:16.065Z"
   },
   {
    "duration": 4,
    "start_time": "2024-05-17T07:51:35.146Z"
   },
   {
    "duration": 19,
    "start_time": "2024-05-17T07:51:44.590Z"
   },
   {
    "duration": 3,
    "start_time": "2024-05-17T07:51:57.077Z"
   },
   {
    "duration": 24,
    "start_time": "2024-05-17T07:52:12.382Z"
   },
   {
    "duration": 28,
    "start_time": "2024-05-17T07:52:13.150Z"
   },
   {
    "duration": 2272,
    "start_time": "2024-05-17T07:52:14.035Z"
   },
   {
    "duration": 14,
    "start_time": "2024-05-17T08:02:44.730Z"
   },
   {
    "duration": 28,
    "start_time": "2024-05-17T08:02:53.758Z"
   },
   {
    "duration": 25,
    "start_time": "2024-05-17T08:02:55.583Z"
   },
   {
    "duration": 11,
    "start_time": "2024-05-17T08:03:02.530Z"
   },
   {
    "duration": 13,
    "start_time": "2024-05-17T08:03:14.453Z"
   },
   {
    "duration": 725,
    "start_time": "2024-05-17T08:03:41.582Z"
   },
   {
    "duration": 17,
    "start_time": "2024-05-17T08:04:01.681Z"
   },
   {
    "duration": 9,
    "start_time": "2024-05-17T08:04:02.866Z"
   },
   {
    "duration": 10,
    "start_time": "2024-05-17T08:04:26.455Z"
   },
   {
    "duration": 20,
    "start_time": "2024-05-17T08:04:30.974Z"
   },
   {
    "duration": 580,
    "start_time": "2024-05-17T08:04:56.870Z"
   },
   {
    "duration": 13,
    "start_time": "2024-05-17T08:05:00.266Z"
   },
   {
    "duration": 11,
    "start_time": "2024-05-17T08:05:01.050Z"
   },
   {
    "duration": 9,
    "start_time": "2024-05-17T08:05:01.888Z"
   },
   {
    "duration": 19,
    "start_time": "2024-05-17T08:05:06.143Z"
   },
   {
    "duration": 537,
    "start_time": "2024-05-17T08:05:07.550Z"
   },
   {
    "duration": 19,
    "start_time": "2024-05-17T08:05:13.019Z"
   },
   {
    "duration": 17,
    "start_time": "2024-05-17T08:05:14.888Z"
   },
   {
    "duration": 2700,
    "start_time": "2024-05-17T08:07:01.966Z"
   },
   {
    "duration": 1624,
    "start_time": "2024-05-17T08:07:04.668Z"
   },
   {
    "duration": 44,
    "start_time": "2024-05-17T08:07:06.295Z"
   },
   {
    "duration": 40,
    "start_time": "2024-05-17T08:07:06.341Z"
   },
   {
    "duration": 33,
    "start_time": "2024-05-17T08:07:06.383Z"
   },
   {
    "duration": 17,
    "start_time": "2024-05-17T08:07:06.418Z"
   },
   {
    "duration": 8,
    "start_time": "2024-05-17T08:07:06.437Z"
   },
   {
    "duration": 13,
    "start_time": "2024-05-17T08:07:06.447Z"
   },
   {
    "duration": 19,
    "start_time": "2024-05-17T08:07:06.462Z"
   },
   {
    "duration": 10,
    "start_time": "2024-05-17T08:07:06.486Z"
   },
   {
    "duration": 115,
    "start_time": "2024-05-17T08:07:06.498Z"
   },
   {
    "duration": 27,
    "start_time": "2024-05-17T08:07:06.615Z"
   },
   {
    "duration": 30,
    "start_time": "2024-05-17T08:07:06.644Z"
   },
   {
    "duration": 22,
    "start_time": "2024-05-17T08:07:06.676Z"
   },
   {
    "duration": 9,
    "start_time": "2024-05-17T08:07:06.700Z"
   },
   {
    "duration": 26,
    "start_time": "2024-05-17T08:07:06.711Z"
   },
   {
    "duration": 12,
    "start_time": "2024-05-17T08:07:06.738Z"
   },
   {
    "duration": 19,
    "start_time": "2024-05-17T08:07:06.752Z"
   },
   {
    "duration": 39,
    "start_time": "2024-05-17T08:07:06.773Z"
   },
   {
    "duration": 28,
    "start_time": "2024-05-17T08:07:06.814Z"
   },
   {
    "duration": 45,
    "start_time": "2024-05-17T08:07:06.844Z"
   },
   {
    "duration": 13,
    "start_time": "2024-05-17T08:07:06.890Z"
   },
   {
    "duration": 7,
    "start_time": "2024-05-17T08:07:06.905Z"
   },
   {
    "duration": 44,
    "start_time": "2024-05-17T08:07:06.914Z"
   },
   {
    "duration": 22,
    "start_time": "2024-05-17T08:07:06.960Z"
   },
   {
    "duration": 23,
    "start_time": "2024-05-17T08:07:06.983Z"
   },
   {
    "duration": 53,
    "start_time": "2024-05-17T08:07:07.007Z"
   },
   {
    "duration": 24,
    "start_time": "2024-05-17T08:07:07.066Z"
   },
   {
    "duration": 434,
    "start_time": "2024-05-17T08:07:07.092Z"
   },
   {
    "duration": 420,
    "start_time": "2024-05-17T08:07:07.528Z"
   },
   {
    "duration": 574,
    "start_time": "2024-05-17T08:07:07.949Z"
   },
   {
    "duration": 4280,
    "start_time": "2024-05-17T08:07:08.525Z"
   },
   {
    "duration": 2282,
    "start_time": "2024-05-17T08:07:12.807Z"
   },
   {
    "duration": 4,
    "start_time": "2024-05-17T08:07:15.091Z"
   },
   {
    "duration": 62,
    "start_time": "2024-05-17T08:07:15.097Z"
   },
   {
    "duration": 3,
    "start_time": "2024-05-17T08:07:15.160Z"
   },
   {
    "duration": 52,
    "start_time": "2024-05-17T08:07:15.165Z"
   },
   {
    "duration": 40,
    "start_time": "2024-05-17T08:07:15.218Z"
   },
   {
    "duration": 2306,
    "start_time": "2024-05-17T08:07:15.260Z"
   },
   {
    "duration": 34,
    "start_time": "2024-05-17T08:07:17.567Z"
   },
   {
    "duration": 53,
    "start_time": "2024-05-17T08:07:17.603Z"
   },
   {
    "duration": 28,
    "start_time": "2024-05-17T08:07:17.658Z"
   },
   {
    "duration": 94,
    "start_time": "2024-05-17T08:07:17.688Z"
   },
   {
    "duration": 78,
    "start_time": "2024-05-17T08:07:17.784Z"
   },
   {
    "duration": 36,
    "start_time": "2024-05-17T08:07:17.864Z"
   },
   {
    "duration": 577,
    "start_time": "2024-05-17T08:07:17.902Z"
   },
   {
    "duration": 19,
    "start_time": "2024-05-17T08:07:18.480Z"
   },
   {
    "duration": 63,
    "start_time": "2024-05-17T08:07:18.501Z"
   },
   {
    "duration": 70,
    "start_time": "2024-05-17T08:07:18.565Z"
   },
   {
    "duration": 66,
    "start_time": "2024-05-17T08:07:18.637Z"
   },
   {
    "duration": 885,
    "start_time": "2024-05-17T08:07:18.705Z"
   },
   {
    "duration": 12,
    "start_time": "2024-05-17T08:07:19.592Z"
   },
   {
    "duration": 22,
    "start_time": "2024-05-17T08:07:19.606Z"
   },
   {
    "duration": 41,
    "start_time": "2024-05-17T08:07:19.630Z"
   },
   {
    "duration": 101,
    "start_time": "2024-05-17T08:07:19.673Z"
   },
   {
    "duration": 624,
    "start_time": "2024-05-17T08:07:19.776Z"
   },
   {
    "duration": 18,
    "start_time": "2024-05-17T08:07:20.401Z"
   },
   {
    "duration": 51,
    "start_time": "2024-05-17T08:07:20.421Z"
   },
   {
    "duration": 87,
    "start_time": "2024-05-17T08:07:20.475Z"
   },
   {
    "duration": 89,
    "start_time": "2024-05-17T08:07:20.563Z"
   },
   {
    "duration": 52,
    "start_time": "2024-05-17T08:07:20.653Z"
   },
   {
    "duration": 77,
    "start_time": "2024-05-17T08:07:20.706Z"
   },
   {
    "duration": 12,
    "start_time": "2024-05-17T08:07:20.785Z"
   },
   {
    "duration": 35,
    "start_time": "2024-05-17T08:07:20.798Z"
   },
   {
    "duration": 16,
    "start_time": "2024-05-17T08:07:20.835Z"
   },
   {
    "duration": 2698,
    "start_time": "2024-05-17T08:08:02.484Z"
   },
   {
    "duration": 1645,
    "start_time": "2024-05-17T08:08:05.184Z"
   },
   {
    "duration": 46,
    "start_time": "2024-05-17T08:08:06.830Z"
   },
   {
    "duration": 17,
    "start_time": "2024-05-17T08:08:06.878Z"
   },
   {
    "duration": 13,
    "start_time": "2024-05-17T08:08:06.897Z"
   },
   {
    "duration": 10,
    "start_time": "2024-05-17T08:08:06.912Z"
   },
   {
    "duration": 18,
    "start_time": "2024-05-17T08:08:06.924Z"
   },
   {
    "duration": 33,
    "start_time": "2024-05-17T08:08:06.943Z"
   },
   {
    "duration": 7,
    "start_time": "2024-05-17T08:08:06.979Z"
   },
   {
    "duration": 80,
    "start_time": "2024-05-17T08:08:06.989Z"
   },
   {
    "duration": 24,
    "start_time": "2024-05-17T08:08:07.071Z"
   },
   {
    "duration": 6,
    "start_time": "2024-05-17T08:08:07.097Z"
   },
   {
    "duration": 26,
    "start_time": "2024-05-17T08:08:07.105Z"
   },
   {
    "duration": 16,
    "start_time": "2024-05-17T08:08:07.132Z"
   },
   {
    "duration": 24,
    "start_time": "2024-05-17T08:08:07.150Z"
   },
   {
    "duration": 12,
    "start_time": "2024-05-17T08:08:07.176Z"
   },
   {
    "duration": 10,
    "start_time": "2024-05-17T08:08:07.189Z"
   },
   {
    "duration": 14,
    "start_time": "2024-05-17T08:08:07.201Z"
   },
   {
    "duration": 8,
    "start_time": "2024-05-17T08:08:07.217Z"
   },
   {
    "duration": 11,
    "start_time": "2024-05-17T08:08:07.226Z"
   },
   {
    "duration": 62,
    "start_time": "2024-05-17T08:08:07.239Z"
   },
   {
    "duration": 12,
    "start_time": "2024-05-17T08:08:07.303Z"
   },
   {
    "duration": 21,
    "start_time": "2024-05-17T08:08:07.317Z"
   },
   {
    "duration": 52,
    "start_time": "2024-05-17T08:08:07.340Z"
   },
   {
    "duration": 19,
    "start_time": "2024-05-17T08:08:07.394Z"
   },
   {
    "duration": 43,
    "start_time": "2024-05-17T08:08:07.415Z"
   },
   {
    "duration": 4,
    "start_time": "2024-05-17T08:08:07.473Z"
   },
   {
    "duration": 43,
    "start_time": "2024-05-17T08:08:07.481Z"
   },
   {
    "duration": 517,
    "start_time": "2024-05-17T08:08:07.526Z"
   },
   {
    "duration": 432,
    "start_time": "2024-05-17T08:08:08.044Z"
   },
   {
    "duration": 548,
    "start_time": "2024-05-17T08:08:08.477Z"
   },
   {
    "duration": 4295,
    "start_time": "2024-05-17T08:08:09.026Z"
   },
   {
    "duration": 2366,
    "start_time": "2024-05-17T08:08:13.323Z"
   },
   {
    "duration": 3,
    "start_time": "2024-05-17T08:08:15.690Z"
   },
   {
    "duration": 85,
    "start_time": "2024-05-17T08:08:15.695Z"
   },
   {
    "duration": 74,
    "start_time": "2024-05-17T08:08:15.782Z"
   },
   {
    "duration": 42,
    "start_time": "2024-05-17T08:08:15.858Z"
   },
   {
    "duration": 31,
    "start_time": "2024-05-17T08:08:15.902Z"
   },
   {
    "duration": 2311,
    "start_time": "2024-05-17T08:08:15.935Z"
   },
   {
    "duration": 31,
    "start_time": "2024-05-17T08:08:18.247Z"
   },
   {
    "duration": 97,
    "start_time": "2024-05-17T08:08:18.281Z"
   },
   {
    "duration": 60,
    "start_time": "2024-05-17T08:08:18.380Z"
   },
   {
    "duration": 22,
    "start_time": "2024-05-17T08:08:18.442Z"
   },
   {
    "duration": 19,
    "start_time": "2024-05-17T08:08:18.466Z"
   },
   {
    "duration": 30,
    "start_time": "2024-05-17T08:08:18.487Z"
   },
   {
    "duration": 674,
    "start_time": "2024-05-17T08:08:18.518Z"
   },
   {
    "duration": 17,
    "start_time": "2024-05-17T08:08:19.194Z"
   },
   {
    "duration": 16,
    "start_time": "2024-05-17T08:08:19.213Z"
   },
   {
    "duration": 10,
    "start_time": "2024-05-17T08:08:19.231Z"
   },
   {
    "duration": 36,
    "start_time": "2024-05-17T08:08:19.243Z"
   },
   {
    "duration": 908,
    "start_time": "2024-05-17T08:08:19.280Z"
   },
   {
    "duration": 12,
    "start_time": "2024-05-17T08:08:20.190Z"
   },
   {
    "duration": 26,
    "start_time": "2024-05-17T08:08:20.204Z"
   },
   {
    "duration": 16,
    "start_time": "2024-05-17T08:08:20.232Z"
   },
   {
    "duration": 49,
    "start_time": "2024-05-17T08:08:20.249Z"
   },
   {
    "duration": 693,
    "start_time": "2024-05-17T08:08:20.300Z"
   },
   {
    "duration": 19,
    "start_time": "2024-05-17T08:08:20.995Z"
   },
   {
    "duration": 45,
    "start_time": "2024-05-17T08:08:21.016Z"
   },
   {
    "duration": 13,
    "start_time": "2024-05-17T08:08:21.064Z"
   },
   {
    "duration": 13,
    "start_time": "2024-05-17T08:08:21.079Z"
   },
   {
    "duration": 35,
    "start_time": "2024-05-17T08:08:21.094Z"
   },
   {
    "duration": 18,
    "start_time": "2024-05-17T08:08:21.130Z"
   },
   {
    "duration": 11,
    "start_time": "2024-05-17T08:08:21.150Z"
   },
   {
    "duration": 18,
    "start_time": "2024-05-17T08:08:21.162Z"
   },
   {
    "duration": 22,
    "start_time": "2024-05-17T08:08:21.182Z"
   },
   {
    "duration": 2650,
    "start_time": "2024-05-17T08:09:09.627Z"
   },
   {
    "duration": 1652,
    "start_time": "2024-05-17T08:09:12.279Z"
   },
   {
    "duration": 45,
    "start_time": "2024-05-17T08:09:13.933Z"
   },
   {
    "duration": 20,
    "start_time": "2024-05-17T08:09:13.980Z"
   },
   {
    "duration": 24,
    "start_time": "2024-05-17T08:09:14.002Z"
   },
   {
    "duration": 18,
    "start_time": "2024-05-17T08:09:14.028Z"
   },
   {
    "duration": 33,
    "start_time": "2024-05-17T08:09:14.047Z"
   },
   {
    "duration": 36,
    "start_time": "2024-05-17T08:09:14.082Z"
   },
   {
    "duration": 31,
    "start_time": "2024-05-17T08:09:14.120Z"
   },
   {
    "duration": 22,
    "start_time": "2024-05-17T08:09:14.155Z"
   },
   {
    "duration": 38,
    "start_time": "2024-05-17T08:09:14.178Z"
   },
   {
    "duration": 6,
    "start_time": "2024-05-17T08:09:14.218Z"
   },
   {
    "duration": 34,
    "start_time": "2024-05-17T08:09:14.226Z"
   },
   {
    "duration": 30,
    "start_time": "2024-05-17T08:09:14.263Z"
   },
   {
    "duration": 8,
    "start_time": "2024-05-17T08:09:14.295Z"
   },
   {
    "duration": 14,
    "start_time": "2024-05-17T08:09:14.304Z"
   },
   {
    "duration": 43,
    "start_time": "2024-05-17T08:09:14.320Z"
   },
   {
    "duration": 40,
    "start_time": "2024-05-17T08:09:14.365Z"
   },
   {
    "duration": 10,
    "start_time": "2024-05-17T08:09:14.407Z"
   },
   {
    "duration": 13,
    "start_time": "2024-05-17T08:09:14.418Z"
   },
   {
    "duration": 62,
    "start_time": "2024-05-17T08:09:14.433Z"
   },
   {
    "duration": 21,
    "start_time": "2024-05-17T08:09:14.497Z"
   },
   {
    "duration": 120,
    "start_time": "2024-05-17T08:09:14.520Z"
   },
   {
    "duration": 74,
    "start_time": "2024-05-17T08:09:14.642Z"
   },
   {
    "duration": 15,
    "start_time": "2024-05-17T08:09:14.718Z"
   },
   {
    "duration": 69,
    "start_time": "2024-05-17T08:09:14.734Z"
   },
   {
    "duration": 4,
    "start_time": "2024-05-17T08:09:14.805Z"
   },
   {
    "duration": 21,
    "start_time": "2024-05-17T08:09:14.813Z"
   },
   {
    "duration": 485,
    "start_time": "2024-05-17T08:09:14.835Z"
   },
   {
    "duration": 430,
    "start_time": "2024-05-17T08:09:15.322Z"
   },
   {
    "duration": 585,
    "start_time": "2024-05-17T08:09:15.754Z"
   },
   {
    "duration": 4376,
    "start_time": "2024-05-17T08:09:16.341Z"
   },
   {
    "duration": 2280,
    "start_time": "2024-05-17T08:09:20.720Z"
   },
   {
    "duration": 4,
    "start_time": "2024-05-17T08:09:23.002Z"
   },
   {
    "duration": 116,
    "start_time": "2024-05-17T08:09:23.008Z"
   },
   {
    "duration": 4,
    "start_time": "2024-05-17T08:09:23.126Z"
   },
   {
    "duration": 30,
    "start_time": "2024-05-17T08:09:23.132Z"
   },
   {
    "duration": 30,
    "start_time": "2024-05-17T08:09:23.163Z"
   },
   {
    "duration": 2279,
    "start_time": "2024-05-17T08:09:23.195Z"
   },
   {
    "duration": 32,
    "start_time": "2024-05-17T08:09:25.475Z"
   },
   {
    "duration": 38,
    "start_time": "2024-05-17T08:09:25.508Z"
   },
   {
    "duration": 78,
    "start_time": "2024-05-17T08:09:25.548Z"
   },
   {
    "duration": 22,
    "start_time": "2024-05-17T08:09:25.627Z"
   },
   {
    "duration": 226,
    "start_time": "2024-05-17T08:09:25.651Z"
   },
   {
    "duration": 111,
    "start_time": "2024-05-17T08:09:25.878Z"
   },
   {
    "duration": 584,
    "start_time": "2024-05-17T08:09:25.991Z"
   },
   {
    "duration": 18,
    "start_time": "2024-05-17T08:09:26.576Z"
   },
   {
    "duration": 61,
    "start_time": "2024-05-17T08:09:26.595Z"
   },
   {
    "duration": 7,
    "start_time": "2024-05-17T08:09:26.658Z"
   },
   {
    "duration": 23,
    "start_time": "2024-05-17T08:09:26.667Z"
   },
   {
    "duration": 894,
    "start_time": "2024-05-17T08:09:26.691Z"
   },
   {
    "duration": 11,
    "start_time": "2024-05-17T08:09:27.587Z"
   },
   {
    "duration": 11,
    "start_time": "2024-05-17T08:09:27.599Z"
   },
   {
    "duration": 8,
    "start_time": "2024-05-17T08:09:27.612Z"
   },
   {
    "duration": 34,
    "start_time": "2024-05-17T08:09:27.621Z"
   },
   {
    "duration": 576,
    "start_time": "2024-05-17T08:09:27.657Z"
   },
   {
    "duration": 19,
    "start_time": "2024-05-17T08:09:28.234Z"
   },
   {
    "duration": 29,
    "start_time": "2024-05-17T08:09:28.255Z"
   },
   {
    "duration": 12,
    "start_time": "2024-05-17T08:09:28.286Z"
   },
   {
    "duration": 72,
    "start_time": "2024-05-17T08:09:28.300Z"
   },
   {
    "duration": 11,
    "start_time": "2024-05-17T08:09:28.374Z"
   },
   {
    "duration": 19,
    "start_time": "2024-05-17T08:09:28.387Z"
   },
   {
    "duration": 13,
    "start_time": "2024-05-17T08:09:28.407Z"
   },
   {
    "duration": 13,
    "start_time": "2024-05-17T08:09:28.421Z"
   },
   {
    "duration": 20,
    "start_time": "2024-05-17T08:09:28.436Z"
   }
  ],
  "kernelspec": {
   "display_name": "Python 3 (ipykernel)",
   "language": "python",
   "name": "python3"
  },
  "language_info": {
   "codemirror_mode": {
    "name": "ipython",
    "version": 3
   },
   "file_extension": ".py",
   "mimetype": "text/x-python",
   "name": "python",
   "nbconvert_exporter": "python",
   "pygments_lexer": "ipython3",
   "version": "3.9.5"
  },
  "toc": {
   "base_numbering": 1,
   "nav_menu": {},
   "number_sections": true,
   "sideBar": true,
   "skip_h1_title": true,
   "title_cell": "Table of Contents",
   "title_sidebar": "Contents",
   "toc_cell": false,
   "toc_position": {},
   "toc_section_display": true,
   "toc_window_display": true
  }
 },
 "nbformat": 4,
 "nbformat_minor": 2
}
