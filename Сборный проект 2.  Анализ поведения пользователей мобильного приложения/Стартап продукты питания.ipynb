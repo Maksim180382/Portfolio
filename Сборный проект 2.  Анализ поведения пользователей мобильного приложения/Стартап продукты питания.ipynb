{
 "cells": [
  {
   "cell_type": "markdown",
   "metadata": {},
   "source": [
    "# Исследование стартапа"
   ]
  },
  {
   "cell_type": "markdown",
   "metadata": {},
   "source": [
    "Мы работаем в стартапе, который продаёт продукты питания. Нужно разобраться, как ведут себя пользователи нашего мобильного приложения."
   ]
  },
  {
   "cell_type": "markdown",
   "metadata": {},
   "source": [
    "Изучим воронку продаж. Узнаем, как пользователи доходят до покупки. Сколько пользователей доходит до покупки, а сколько — «застревает» на предыдущих шагах? На каких именно?\n",
    "После этого исследуем результаты A/A/B-эксперимента. \n",
    "\n",
    "Дизайнеры захотели поменять шрифты во всём приложении, а менеджеры испугались, что пользователям будет непривычно. Договорились принять решение по результатам A/A/B-теста.  Выясним, какой шрифт лучше."
   ]
  },
  {
   "cell_type": "markdown",
   "metadata": {},
   "source": [
    "### Откроем файл с данными"
   ]
  },
  {
   "cell_type": "code",
   "execution_count": 53,
   "metadata": {},
   "outputs": [],
   "source": [
    "import pandas as pd\n",
    "import numpy as np\n",
    "from matplotlib import pyplot as plt\n",
    "import plotly.express as px\n",
    "import math as mth\n",
    "from plotly import graph_objects as go\n",
    "from scipy import stats as st\n",
    "\n",
    "# Загружаем необходимые библиотеки"
   ]
  },
  {
   "cell_type": "code",
   "execution_count": 54,
   "metadata": {},
   "outputs": [],
   "source": [
    "pd.set_option('display.max_colwidth', None)\n",
    "# снимаем ограничение на ширину столбцов"
   ]
  },
  {
   "cell_type": "code",
   "execution_count": 55,
   "metadata": {},
   "outputs": [],
   "source": [
    "data = pd.read_csv('/datasets/logs_exp.csv', sep='\\t')\n",
    "# открываем файл, дав название"
   ]
  },
  {
   "cell_type": "code",
   "execution_count": 56,
   "metadata": {},
   "outputs": [
    {
     "data": {
      "text/html": [
       "<div>\n",
       "<style scoped>\n",
       "    .dataframe tbody tr th:only-of-type {\n",
       "        vertical-align: middle;\n",
       "    }\n",
       "\n",
       "    .dataframe tbody tr th {\n",
       "        vertical-align: top;\n",
       "    }\n",
       "\n",
       "    .dataframe thead th {\n",
       "        text-align: right;\n",
       "    }\n",
       "</style>\n",
       "<table border=\"1\" class=\"dataframe\">\n",
       "  <thead>\n",
       "    <tr style=\"text-align: right;\">\n",
       "      <th></th>\n",
       "      <th>EventName</th>\n",
       "      <th>DeviceIDHash</th>\n",
       "      <th>EventTimestamp</th>\n",
       "      <th>ExpId</th>\n",
       "    </tr>\n",
       "  </thead>\n",
       "  <tbody>\n",
       "    <tr>\n",
       "      <th>0</th>\n",
       "      <td>MainScreenAppear</td>\n",
       "      <td>4575588528974610257</td>\n",
       "      <td>1564029816</td>\n",
       "      <td>246</td>\n",
       "    </tr>\n",
       "    <tr>\n",
       "      <th>1</th>\n",
       "      <td>MainScreenAppear</td>\n",
       "      <td>7416695313311560658</td>\n",
       "      <td>1564053102</td>\n",
       "      <td>246</td>\n",
       "    </tr>\n",
       "    <tr>\n",
       "      <th>2</th>\n",
       "      <td>PaymentScreenSuccessful</td>\n",
       "      <td>3518123091307005509</td>\n",
       "      <td>1564054127</td>\n",
       "      <td>248</td>\n",
       "    </tr>\n",
       "    <tr>\n",
       "      <th>3</th>\n",
       "      <td>CartScreenAppear</td>\n",
       "      <td>3518123091307005509</td>\n",
       "      <td>1564054127</td>\n",
       "      <td>248</td>\n",
       "    </tr>\n",
       "    <tr>\n",
       "      <th>4</th>\n",
       "      <td>PaymentScreenSuccessful</td>\n",
       "      <td>6217807653094995999</td>\n",
       "      <td>1564055322</td>\n",
       "      <td>248</td>\n",
       "    </tr>\n",
       "  </tbody>\n",
       "</table>\n",
       "</div>"
      ],
      "text/plain": [
       "                 EventName         DeviceIDHash  EventTimestamp  ExpId\n",
       "0         MainScreenAppear  4575588528974610257      1564029816    246\n",
       "1         MainScreenAppear  7416695313311560658      1564053102    246\n",
       "2  PaymentScreenSuccessful  3518123091307005509      1564054127    248\n",
       "3         CartScreenAppear  3518123091307005509      1564054127    248\n",
       "4  PaymentScreenSuccessful  6217807653094995999      1564055322    248"
      ]
     },
     "execution_count": 56,
     "metadata": {},
     "output_type": "execute_result"
    }
   ],
   "source": [
    "data.head(5)\n",
    "# проверяем"
   ]
  },
  {
   "cell_type": "markdown",
   "metadata": {},
   "source": [
    "### Подготовим данные"
   ]
  },
  {
   "cell_type": "code",
   "execution_count": 57,
   "metadata": {},
   "outputs": [
    {
     "name": "stdout",
     "output_type": "stream",
     "text": [
      "<class 'pandas.core.frame.DataFrame'>\n",
      "RangeIndex: 244126 entries, 0 to 244125\n",
      "Data columns (total 4 columns):\n",
      " #   Column          Non-Null Count   Dtype \n",
      "---  ------          --------------   ----- \n",
      " 0   EventName       244126 non-null  object\n",
      " 1   DeviceIDHash    244126 non-null  int64 \n",
      " 2   EventTimestamp  244126 non-null  int64 \n",
      " 3   ExpId           244126 non-null  int64 \n",
      "dtypes: int64(3), object(1)\n",
      "memory usage: 7.5+ MB\n"
     ]
    }
   ],
   "source": [
    "data.info()\n",
    "# смотрим общую информацию"
   ]
  },
  {
   "cell_type": "code",
   "execution_count": 58,
   "metadata": {},
   "outputs": [
    {
     "data": {
      "text/plain": [
       "EventName         0\n",
       "DeviceIDHash      0\n",
       "EventTimestamp    0\n",
       "ExpId             0\n",
       "dtype: int64"
      ]
     },
     "execution_count": 58,
     "metadata": {},
     "output_type": "execute_result"
    }
   ],
   "source": [
    "data.isna().sum()\n",
    "# проверяем таблицу на наличие пропусков"
   ]
  },
  {
   "cell_type": "code",
   "execution_count": 7,
   "metadata": {},
   "outputs": [
    {
     "data": {
      "text/plain": [
       "413"
      ]
     },
     "execution_count": 7,
     "metadata": {},
     "output_type": "execute_result"
    }
   ],
   "source": [
    "data.duplicated().sum()\n",
    "# проверяем наличие дубликатов"
   ]
  },
  {
   "cell_type": "code",
   "execution_count": 59,
   "metadata": {},
   "outputs": [],
   "source": [
    "data = data.drop_duplicates().reset_index(drop=True)\n",
    "# удаляем дубликаты"
   ]
  },
  {
   "cell_type": "code",
   "execution_count": 60,
   "metadata": {},
   "outputs": [
    {
     "data": {
      "text/plain": [
       "0"
      ]
     },
     "execution_count": 60,
     "metadata": {},
     "output_type": "execute_result"
    }
   ],
   "source": [
    "data.duplicated().sum()\n",
    "# проверяем"
   ]
  },
  {
   "cell_type": "code",
   "execution_count": 61,
   "metadata": {},
   "outputs": [],
   "source": [
    "data = data.rename(columns = {'EventName': 'event_name', 'DeviceIDHash': 'user_id', 'EventTimestamp':'event_time' \n",
    "                              , 'ExpId': 'group'})\n",
    "# переименовываем столбцы"
   ]
  },
  {
   "cell_type": "code",
   "execution_count": 62,
   "metadata": {},
   "outputs": [
    {
     "data": {
      "text/html": [
       "<div>\n",
       "<style scoped>\n",
       "    .dataframe tbody tr th:only-of-type {\n",
       "        vertical-align: middle;\n",
       "    }\n",
       "\n",
       "    .dataframe tbody tr th {\n",
       "        vertical-align: top;\n",
       "    }\n",
       "\n",
       "    .dataframe thead th {\n",
       "        text-align: right;\n",
       "    }\n",
       "</style>\n",
       "<table border=\"1\" class=\"dataframe\">\n",
       "  <thead>\n",
       "    <tr style=\"text-align: right;\">\n",
       "      <th></th>\n",
       "      <th>event_name</th>\n",
       "      <th>user_id</th>\n",
       "      <th>event_time</th>\n",
       "      <th>group</th>\n",
       "    </tr>\n",
       "  </thead>\n",
       "  <tbody>\n",
       "    <tr>\n",
       "      <th>0</th>\n",
       "      <td>MainScreenAppear</td>\n",
       "      <td>4575588528974610257</td>\n",
       "      <td>1564029816</td>\n",
       "      <td>246</td>\n",
       "    </tr>\n",
       "    <tr>\n",
       "      <th>1</th>\n",
       "      <td>MainScreenAppear</td>\n",
       "      <td>7416695313311560658</td>\n",
       "      <td>1564053102</td>\n",
       "      <td>246</td>\n",
       "    </tr>\n",
       "  </tbody>\n",
       "</table>\n",
       "</div>"
      ],
      "text/plain": [
       "         event_name              user_id  event_time  group\n",
       "0  MainScreenAppear  4575588528974610257  1564029816    246\n",
       "1  MainScreenAppear  7416695313311560658  1564053102    246"
      ]
     },
     "execution_count": 62,
     "metadata": {},
     "output_type": "execute_result"
    }
   ],
   "source": [
    "data.head(2) # проверяем"
   ]
  },
  {
   "cell_type": "code",
   "execution_count": 63,
   "metadata": {},
   "outputs": [],
   "source": [
    "data['event_time'] = pd.to_datetime(data.event_time, unit='s')\n",
    "# приведем столбец event_time к \"читаемому\""
   ]
  },
  {
   "cell_type": "code",
   "execution_count": 64,
   "metadata": {},
   "outputs": [],
   "source": [
    "data[\"event_date\"] = data.event_time.dt.date\n",
    "# добавим столбец даты"
   ]
  },
  {
   "cell_type": "code",
   "execution_count": 65,
   "metadata": {},
   "outputs": [
    {
     "data": {
      "text/html": [
       "<div>\n",
       "<style scoped>\n",
       "    .dataframe tbody tr th:only-of-type {\n",
       "        vertical-align: middle;\n",
       "    }\n",
       "\n",
       "    .dataframe tbody tr th {\n",
       "        vertical-align: top;\n",
       "    }\n",
       "\n",
       "    .dataframe thead th {\n",
       "        text-align: right;\n",
       "    }\n",
       "</style>\n",
       "<table border=\"1\" class=\"dataframe\">\n",
       "  <thead>\n",
       "    <tr style=\"text-align: right;\">\n",
       "      <th></th>\n",
       "      <th>event_name</th>\n",
       "      <th>user_id</th>\n",
       "      <th>event_time</th>\n",
       "      <th>group</th>\n",
       "      <th>event_date</th>\n",
       "    </tr>\n",
       "  </thead>\n",
       "  <tbody>\n",
       "    <tr>\n",
       "      <th>0</th>\n",
       "      <td>MainScreenAppear</td>\n",
       "      <td>4575588528974610257</td>\n",
       "      <td>2019-07-25 04:43:36</td>\n",
       "      <td>246</td>\n",
       "      <td>2019-07-25</td>\n",
       "    </tr>\n",
       "    <tr>\n",
       "      <th>1</th>\n",
       "      <td>MainScreenAppear</td>\n",
       "      <td>7416695313311560658</td>\n",
       "      <td>2019-07-25 11:11:42</td>\n",
       "      <td>246</td>\n",
       "      <td>2019-07-25</td>\n",
       "    </tr>\n",
       "    <tr>\n",
       "      <th>2</th>\n",
       "      <td>PaymentScreenSuccessful</td>\n",
       "      <td>3518123091307005509</td>\n",
       "      <td>2019-07-25 11:28:47</td>\n",
       "      <td>248</td>\n",
       "      <td>2019-07-25</td>\n",
       "    </tr>\n",
       "    <tr>\n",
       "      <th>3</th>\n",
       "      <td>CartScreenAppear</td>\n",
       "      <td>3518123091307005509</td>\n",
       "      <td>2019-07-25 11:28:47</td>\n",
       "      <td>248</td>\n",
       "      <td>2019-07-25</td>\n",
       "    </tr>\n",
       "    <tr>\n",
       "      <th>4</th>\n",
       "      <td>PaymentScreenSuccessful</td>\n",
       "      <td>6217807653094995999</td>\n",
       "      <td>2019-07-25 11:48:42</td>\n",
       "      <td>248</td>\n",
       "      <td>2019-07-25</td>\n",
       "    </tr>\n",
       "    <tr>\n",
       "      <th>...</th>\n",
       "      <td>...</td>\n",
       "      <td>...</td>\n",
       "      <td>...</td>\n",
       "      <td>...</td>\n",
       "      <td>...</td>\n",
       "    </tr>\n",
       "    <tr>\n",
       "      <th>243708</th>\n",
       "      <td>MainScreenAppear</td>\n",
       "      <td>4599628364049201812</td>\n",
       "      <td>2019-08-07 21:12:25</td>\n",
       "      <td>247</td>\n",
       "      <td>2019-08-07</td>\n",
       "    </tr>\n",
       "    <tr>\n",
       "      <th>243709</th>\n",
       "      <td>MainScreenAppear</td>\n",
       "      <td>5849806612437486590</td>\n",
       "      <td>2019-08-07 21:13:59</td>\n",
       "      <td>246</td>\n",
       "      <td>2019-08-07</td>\n",
       "    </tr>\n",
       "    <tr>\n",
       "      <th>243710</th>\n",
       "      <td>MainScreenAppear</td>\n",
       "      <td>5746969938801999050</td>\n",
       "      <td>2019-08-07 21:14:43</td>\n",
       "      <td>246</td>\n",
       "      <td>2019-08-07</td>\n",
       "    </tr>\n",
       "    <tr>\n",
       "      <th>243711</th>\n",
       "      <td>MainScreenAppear</td>\n",
       "      <td>5746969938801999050</td>\n",
       "      <td>2019-08-07 21:14:58</td>\n",
       "      <td>246</td>\n",
       "      <td>2019-08-07</td>\n",
       "    </tr>\n",
       "    <tr>\n",
       "      <th>243712</th>\n",
       "      <td>OffersScreenAppear</td>\n",
       "      <td>5746969938801999050</td>\n",
       "      <td>2019-08-07 21:15:17</td>\n",
       "      <td>246</td>\n",
       "      <td>2019-08-07</td>\n",
       "    </tr>\n",
       "  </tbody>\n",
       "</table>\n",
       "<p>243713 rows × 5 columns</p>\n",
       "</div>"
      ],
      "text/plain": [
       "                     event_name              user_id          event_time  \\\n",
       "0              MainScreenAppear  4575588528974610257 2019-07-25 04:43:36   \n",
       "1              MainScreenAppear  7416695313311560658 2019-07-25 11:11:42   \n",
       "2       PaymentScreenSuccessful  3518123091307005509 2019-07-25 11:28:47   \n",
       "3              CartScreenAppear  3518123091307005509 2019-07-25 11:28:47   \n",
       "4       PaymentScreenSuccessful  6217807653094995999 2019-07-25 11:48:42   \n",
       "...                         ...                  ...                 ...   \n",
       "243708         MainScreenAppear  4599628364049201812 2019-08-07 21:12:25   \n",
       "243709         MainScreenAppear  5849806612437486590 2019-08-07 21:13:59   \n",
       "243710         MainScreenAppear  5746969938801999050 2019-08-07 21:14:43   \n",
       "243711         MainScreenAppear  5746969938801999050 2019-08-07 21:14:58   \n",
       "243712       OffersScreenAppear  5746969938801999050 2019-08-07 21:15:17   \n",
       "\n",
       "        group  event_date  \n",
       "0         246  2019-07-25  \n",
       "1         246  2019-07-25  \n",
       "2         248  2019-07-25  \n",
       "3         248  2019-07-25  \n",
       "4         248  2019-07-25  \n",
       "...       ...         ...  \n",
       "243708    247  2019-08-07  \n",
       "243709    246  2019-08-07  \n",
       "243710    246  2019-08-07  \n",
       "243711    246  2019-08-07  \n",
       "243712    246  2019-08-07  \n",
       "\n",
       "[243713 rows x 5 columns]"
      ]
     },
     "execution_count": 65,
     "metadata": {},
     "output_type": "execute_result"
    }
   ],
   "source": [
    "data\n",
    "# проверяем"
   ]
  },
  {
   "cell_type": "markdown",
   "metadata": {},
   "source": [
    "Открыли таблицу, удалили дубликаты, так как они составляют менне 0.5% данных. Переименовали названия столбцов под удобные. Перевели формат времени и формата ISO. Добавили отдельный столбец с датой события"
   ]
  },
  {
   "cell_type": "code",
   "execution_count": 15,
   "metadata": {},
   "outputs": [
    {
     "name": "stdout",
     "output_type": "stream",
     "text": [
      "Пользователей, которые вошли в две либо в три группы, их всего: 0\n"
     ]
    }
   ],
   "source": [
    "trio = data.groupby(['user_id']).agg({\"group\": \"nunique\"}).reset_index()\n",
    "print('Пользователей, которые вошли в две либо в три группы, их всего:', trio[trio.group!=1][\"user_id\"].count())"
   ]
  },
  {
   "cell_type": "markdown",
   "metadata": {},
   "source": [
    "### Изучим и проверим данные"
   ]
  },
  {
   "cell_type": "code",
   "execution_count": 66,
   "metadata": {},
   "outputs": [
    {
     "name": "stdout",
     "output_type": "stream",
     "text": [
      "Всего в логе 243713 событий. Из них уникальных: 5\n"
     ]
    }
   ],
   "source": [
    "print(\"Всего в логе\", data[\"event_name\"].count(), \"событий. Из них уникальных:\", data[\"event_name\"].nunique())"
   ]
  },
  {
   "cell_type": "code",
   "execution_count": 67,
   "metadata": {},
   "outputs": [
    {
     "name": "stdout",
     "output_type": "stream",
     "text": [
      "Уникальные события:\n"
     ]
    },
    {
     "data": {
      "text/plain": [
       "MainScreenAppear           119101\n",
       "OffersScreenAppear          46808\n",
       "CartScreenAppear            42668\n",
       "PaymentScreenSuccessful     34118\n",
       "Tutorial                     1018\n",
       "Name: event_name, dtype: int64"
      ]
     },
     "execution_count": 67,
     "metadata": {},
     "output_type": "execute_result"
    }
   ],
   "source": [
    "print(\"Уникальные события:\")\n",
    "data[\"event_name\"].value_counts()"
   ]
  },
  {
   "cell_type": "code",
   "execution_count": 68,
   "metadata": {},
   "outputs": [
    {
     "name": "stdout",
     "output_type": "stream",
     "text": [
      "Количество уникальных пользователей: 7551\n"
     ]
    }
   ],
   "source": [
    "print(\"Количество уникальных пользователей:\", data['user_id'].nunique())"
   ]
  },
  {
   "cell_type": "code",
   "execution_count": 69,
   "metadata": {},
   "outputs": [
    {
     "name": "stdout",
     "output_type": "stream",
     "text": [
      "В среднем на одного пользователя приходится около 32.28 событий\n"
     ]
    }
   ],
   "source": [
    "print(\"В среднем на одного пользователя приходится около\", \n",
    "        (data[\"event_name\"].count()/ data['user_id'].nunique()).round(2), \"событий\")"
   ]
  },
  {
   "cell_type": "code",
   "execution_count": 71,
   "metadata": {},
   "outputs": [
    {
     "name": "stdout",
     "output_type": "stream",
     "text": [
      "Начальная дата 2019-07-25 04:43:36 конечная дата 2019-08-07 21:15:17\n",
      "Общий период составляет 13 days 16:31:41\n"
     ]
    }
   ],
   "source": [
    "print(\"Начальная дата\", data[\"event_time\"].min(),\"конечная дата\", data[\"event_time\"].max())\n",
    "print(\"Общий период составляет\", data[\"event_time\"].max()- data[\"event_time\"].min())\n",
    "# определяем начальную и конечную даты и период"
   ]
  },
  {
   "cell_type": "code",
   "execution_count": 72,
   "metadata": {},
   "outputs": [
    {
     "data": {
      "text/plain": [
       "Text(0, 0.5, 'Количество событий')"
      ]
     },
     "execution_count": 72,
     "metadata": {},
     "output_type": "execute_result"
    },
    {
     "data": {
      "image/png": "[encoded data removed]",
      "text/plain": [
       "<Figure size 1728x576 with 1 Axes>"
      ]
     },
     "metadata": {
      "needs_background": "light"
     },
     "output_type": "display_data"
    }
   ],
   "source": [
    "ax = data['event_time'].hist(bins=100, figsize=(24, 8))\n",
    "plt.title(\"Распределение по дате\")\n",
    "plt.xlabel(\"Даты\")\n",
    "plt.ylabel(\"Количество событий\")"
   ]
  },
  {
   "cell_type": "markdown",
   "metadata": {},
   "source": [
    "Судя по графику до 1 августа практически никакой активности, соответственно можно откинуть данные за июль"
   ]
  },
  {
   "cell_type": "code",
   "execution_count": 73,
   "metadata": {},
   "outputs": [],
   "source": [
    "august_data = data.loc[data[\"event_time\"] > \"2019-08-01 00:00:00\"]\n",
    "# выделяем только август"
   ]
  },
  {
   "cell_type": "code",
   "execution_count": 74,
   "metadata": {},
   "outputs": [
    {
     "data": {
      "text/html": [
       "<div>\n",
       "<style scoped>\n",
       "    .dataframe tbody tr th:only-of-type {\n",
       "        vertical-align: middle;\n",
       "    }\n",
       "\n",
       "    .dataframe tbody tr th {\n",
       "        vertical-align: top;\n",
       "    }\n",
       "\n",
       "    .dataframe thead th {\n",
       "        text-align: right;\n",
       "    }\n",
       "</style>\n",
       "<table border=\"1\" class=\"dataframe\">\n",
       "  <thead>\n",
       "    <tr style=\"text-align: right;\">\n",
       "      <th></th>\n",
       "      <th>event_name</th>\n",
       "      <th>user_id</th>\n",
       "      <th>event_time</th>\n",
       "      <th>group</th>\n",
       "      <th>event_date</th>\n",
       "    </tr>\n",
       "  </thead>\n",
       "  <tbody>\n",
       "    <tr>\n",
       "      <th>2826</th>\n",
       "      <td>Tutorial</td>\n",
       "      <td>3737462046622621720</td>\n",
       "      <td>2019-08-01 00:07:28</td>\n",
       "      <td>246</td>\n",
       "      <td>2019-08-01</td>\n",
       "    </tr>\n",
       "    <tr>\n",
       "      <th>2827</th>\n",
       "      <td>MainScreenAppear</td>\n",
       "      <td>3737462046622621720</td>\n",
       "      <td>2019-08-01 00:08:00</td>\n",
       "      <td>246</td>\n",
       "      <td>2019-08-01</td>\n",
       "    </tr>\n",
       "    <tr>\n",
       "      <th>2828</th>\n",
       "      <td>MainScreenAppear</td>\n",
       "      <td>3737462046622621720</td>\n",
       "      <td>2019-08-01 00:08:55</td>\n",
       "      <td>246</td>\n",
       "      <td>2019-08-01</td>\n",
       "    </tr>\n",
       "    <tr>\n",
       "      <th>2829</th>\n",
       "      <td>OffersScreenAppear</td>\n",
       "      <td>3737462046622621720</td>\n",
       "      <td>2019-08-01 00:08:58</td>\n",
       "      <td>246</td>\n",
       "      <td>2019-08-01</td>\n",
       "    </tr>\n",
       "    <tr>\n",
       "      <th>2830</th>\n",
       "      <td>MainScreenAppear</td>\n",
       "      <td>1433840883824088890</td>\n",
       "      <td>2019-08-01 00:08:59</td>\n",
       "      <td>247</td>\n",
       "      <td>2019-08-01</td>\n",
       "    </tr>\n",
       "  </tbody>\n",
       "</table>\n",
       "</div>"
      ],
      "text/plain": [
       "              event_name              user_id          event_time  group  \\\n",
       "2826            Tutorial  3737462046622621720 2019-08-01 00:07:28    246   \n",
       "2827    MainScreenAppear  3737462046622621720 2019-08-01 00:08:00    246   \n",
       "2828    MainScreenAppear  3737462046622621720 2019-08-01 00:08:55    246   \n",
       "2829  OffersScreenAppear  3737462046622621720 2019-08-01 00:08:58    246   \n",
       "2830    MainScreenAppear  1433840883824088890 2019-08-01 00:08:59    247   \n",
       "\n",
       "      event_date  \n",
       "2826  2019-08-01  \n",
       "2827  2019-08-01  \n",
       "2828  2019-08-01  \n",
       "2829  2019-08-01  \n",
       "2830  2019-08-01  "
      ]
     },
     "execution_count": 74,
     "metadata": {},
     "output_type": "execute_result"
    }
   ],
   "source": [
    "august_data.head(5)\n",
    "# проверяем"
   ]
  },
  {
   "cell_type": "code",
   "execution_count": 75,
   "metadata": {},
   "outputs": [
    {
     "name": "stdout",
     "output_type": "stream",
     "text": [
      "В обновленной таблице осталось 240887 событий. Мы потеряли всего 2826 событий. Что составляет всего около 1.0 %\n"
     ]
    }
   ],
   "source": [
    "print(\"В обновленной таблице осталось\", august_data[\"event_name\"].count(), \"событий. Мы потеряли всего\",\n",
    "      data[\"event_name\"].count()- august_data[\"event_name\"].count(), \"событий. Что составляет всего около\", \n",
    "      ((data[\"event_name\"].count()- august_data[\"event_name\"].count())/data[\"event_name\"].count()*100).round(), \"%\" )"
   ]
  },
  {
   "cell_type": "code",
   "execution_count": 76,
   "metadata": {},
   "outputs": [
    {
     "name": "stdout",
     "output_type": "stream",
     "text": [
      "В старой базе было 7551 пользователь. В новой на 17 меньше\n"
     ]
    }
   ],
   "source": [
    "print (\"В старой базе было\", data['user_id'].nunique(), \"пользователь. В новой на\",\n",
    "       data['user_id'].nunique() - august_data['user_id'].nunique() , \"меньше\")"
   ]
  },
  {
   "cell_type": "code",
   "execution_count": 77,
   "metadata": {},
   "outputs": [
    {
     "data": {
      "text/plain": [
       "248    84563\n",
       "246    79302\n",
       "247    77022\n",
       "Name: group, dtype: int64"
      ]
     },
     "execution_count": 77,
     "metadata": {},
     "output_type": "execute_result"
    }
   ],
   "source": [
    "august_data['group'].value_counts()\n",
    "# проверяем пользователей во всех группах"
   ]
  },
  {
   "cell_type": "code",
   "execution_count": 78,
   "metadata": {},
   "outputs": [
    {
     "data": {
      "text/plain": [
       "group\n",
       "246    2484\n",
       "247    2513\n",
       "248    2537\n",
       "Name: user_id, dtype: int64"
      ]
     },
     "execution_count": 78,
     "metadata": {},
     "output_type": "execute_result"
    }
   ],
   "source": [
    "august_data.groupby(\"group\")[\"user_id\"].nunique()\n",
    "# проверяем распределение пользователй по группам"
   ]
  },
  {
   "cell_type": "markdown",
   "metadata": {},
   "source": [
    "Вывод. Во второй неделе эксперемента осталось 99% пользователей. Группы примерно равны по объему"
   ]
  },
  {
   "cell_type": "markdown",
   "metadata": {},
   "source": [
    "### Изучим воронку событий."
   ]
  },
  {
   "cell_type": "code",
   "execution_count": 79,
   "metadata": {},
   "outputs": [
    {
     "data": {
      "text/plain": [
       "MainScreenAppear           117328\n",
       "OffersScreenAppear          46333\n",
       "CartScreenAppear            42303\n",
       "PaymentScreenSuccessful     33918\n",
       "Tutorial                     1005\n",
       "Name: event_name, dtype: int64"
      ]
     },
     "execution_count": 79,
     "metadata": {},
     "output_type": "execute_result"
    }
   ],
   "source": [
    "august_data[\"event_name\"].value_counts()"
   ]
  },
  {
   "cell_type": "markdown",
   "metadata": {},
   "source": [
    "Отображается главный экран 117328\n",
    "\n",
    "Отображается экран предложений 46333\n",
    "\n",
    "Отображается экран корзины 42303\n",
    "\n",
    "Экран успешной оплаты 33918\n",
    "\n",
    "Руководство 1005\n",
    "\n",
    "Руководство встречается довольно редко, это по всей видимости связано с тем, что интерфейс мобильного приложения интуитивно понятен подавляющему большинству пользователей."
   ]
  },
  {
   "cell_type": "code",
   "execution_count": 80,
   "metadata": {},
   "outputs": [],
   "source": [
    "users_event_count = august_data.groupby('event_name')['user_id'].nunique().sort_values(ascending=False).to_frame().reset_index()  \n",
    "# сгруппируем и посчитаем сколько пользователей совершали те или иные действия"
   ]
  },
  {
   "cell_type": "code",
   "execution_count": 81,
   "metadata": {},
   "outputs": [
    {
     "data": {
      "text/html": [
       "<div>\n",
       "<style scoped>\n",
       "    .dataframe tbody tr th:only-of-type {\n",
       "        vertical-align: middle;\n",
       "    }\n",
       "\n",
       "    .dataframe tbody tr th {\n",
       "        vertical-align: top;\n",
       "    }\n",
       "\n",
       "    .dataframe thead th {\n",
       "        text-align: right;\n",
       "    }\n",
       "</style>\n",
       "<table border=\"1\" class=\"dataframe\">\n",
       "  <thead>\n",
       "    <tr style=\"text-align: right;\">\n",
       "      <th></th>\n",
       "      <th>event_name</th>\n",
       "      <th>user_id</th>\n",
       "    </tr>\n",
       "  </thead>\n",
       "  <tbody>\n",
       "    <tr>\n",
       "      <th>0</th>\n",
       "      <td>MainScreenAppear</td>\n",
       "      <td>7419</td>\n",
       "    </tr>\n",
       "    <tr>\n",
       "      <th>1</th>\n",
       "      <td>OffersScreenAppear</td>\n",
       "      <td>4593</td>\n",
       "    </tr>\n",
       "    <tr>\n",
       "      <th>2</th>\n",
       "      <td>CartScreenAppear</td>\n",
       "      <td>3734</td>\n",
       "    </tr>\n",
       "    <tr>\n",
       "      <th>3</th>\n",
       "      <td>PaymentScreenSuccessful</td>\n",
       "      <td>3539</td>\n",
       "    </tr>\n",
       "    <tr>\n",
       "      <th>4</th>\n",
       "      <td>Tutorial</td>\n",
       "      <td>840</td>\n",
       "    </tr>\n",
       "  </tbody>\n",
       "</table>\n",
       "</div>"
      ],
      "text/plain": [
       "                event_name  user_id\n",
       "0         MainScreenAppear     7419\n",
       "1       OffersScreenAppear     4593\n",
       "2         CartScreenAppear     3734\n",
       "3  PaymentScreenSuccessful     3539\n",
       "4                 Tutorial      840"
      ]
     },
     "execution_count": 81,
     "metadata": {},
     "output_type": "execute_result"
    }
   ],
   "source": [
    "users_event_count\n",
    "# проверяем"
   ]
  },
  {
   "cell_type": "code",
   "execution_count": 82,
   "metadata": {},
   "outputs": [],
   "source": [
    "users_event_count['percent'] = (users_event_count['user_id']/ august_data[\"user_id\"].nunique()*100).round(2)\n",
    "# добавляем столбец с долей пользователей в процентах, совершивших событие "
   ]
  },
  {
   "cell_type": "code",
   "execution_count": 83,
   "metadata": {},
   "outputs": [
    {
     "data": {
      "text/html": [
       "<div>\n",
       "<style scoped>\n",
       "    .dataframe tbody tr th:only-of-type {\n",
       "        vertical-align: middle;\n",
       "    }\n",
       "\n",
       "    .dataframe tbody tr th {\n",
       "        vertical-align: top;\n",
       "    }\n",
       "\n",
       "    .dataframe thead th {\n",
       "        text-align: right;\n",
       "    }\n",
       "</style>\n",
       "<table border=\"1\" class=\"dataframe\">\n",
       "  <thead>\n",
       "    <tr style=\"text-align: right;\">\n",
       "      <th></th>\n",
       "      <th>event_name</th>\n",
       "      <th>user_id</th>\n",
       "      <th>percent</th>\n",
       "    </tr>\n",
       "  </thead>\n",
       "  <tbody>\n",
       "    <tr>\n",
       "      <th>0</th>\n",
       "      <td>MainScreenAppear</td>\n",
       "      <td>7419</td>\n",
       "      <td>98.47</td>\n",
       "    </tr>\n",
       "    <tr>\n",
       "      <th>1</th>\n",
       "      <td>OffersScreenAppear</td>\n",
       "      <td>4593</td>\n",
       "      <td>60.96</td>\n",
       "    </tr>\n",
       "    <tr>\n",
       "      <th>2</th>\n",
       "      <td>CartScreenAppear</td>\n",
       "      <td>3734</td>\n",
       "      <td>49.56</td>\n",
       "    </tr>\n",
       "    <tr>\n",
       "      <th>3</th>\n",
       "      <td>PaymentScreenSuccessful</td>\n",
       "      <td>3539</td>\n",
       "      <td>46.97</td>\n",
       "    </tr>\n",
       "    <tr>\n",
       "      <th>4</th>\n",
       "      <td>Tutorial</td>\n",
       "      <td>840</td>\n",
       "      <td>11.15</td>\n",
       "    </tr>\n",
       "  </tbody>\n",
       "</table>\n",
       "</div>"
      ],
      "text/plain": [
       "                event_name  user_id  percent\n",
       "0         MainScreenAppear     7419    98.47\n",
       "1       OffersScreenAppear     4593    60.96\n",
       "2         CartScreenAppear     3734    49.56\n",
       "3  PaymentScreenSuccessful     3539    46.97\n",
       "4                 Tutorial      840    11.15"
      ]
     },
     "execution_count": 83,
     "metadata": {},
     "output_type": "execute_result"
    }
   ],
   "source": [
    "users_event_count\n",
    "# проверяем"
   ]
  },
  {
   "cell_type": "markdown",
   "metadata": {},
   "source": [
    "Предположим, что события происходят в таком порядке: \n",
    "- Отображается главный экран \n",
    "- Отображается экран предложений \n",
    "- Отображается экран корзины \n",
    "- Экран успешной оплаты. \n",
    "Руководство открывает очень маленькое количество людей, так как интерфейс, скорее всего, интуитивно понятен. Судя по тому, что на главный экран заходит не 100% пользователй, то по всей видимости, часть клиентов переходит сразу на экран отображения предложений по ссылке\n"
   ]
  },
  {
   "cell_type": "code",
   "execution_count": 84,
   "metadata": {},
   "outputs": [],
   "source": [
    "users_event_count[\"funnel\"] =( users_event_count [\"user_id\"] / users_event_count [\"user_id\"] .values[0]*100).round(2)\n",
    "# определяем процент перешедших на следующую ступень"
   ]
  },
  {
   "cell_type": "code",
   "execution_count": 85,
   "metadata": {},
   "outputs": [
    {
     "data": {
      "text/html": [
       "<div>\n",
       "<style scoped>\n",
       "    .dataframe tbody tr th:only-of-type {\n",
       "        vertical-align: middle;\n",
       "    }\n",
       "\n",
       "    .dataframe tbody tr th {\n",
       "        vertical-align: top;\n",
       "    }\n",
       "\n",
       "    .dataframe thead th {\n",
       "        text-align: right;\n",
       "    }\n",
       "</style>\n",
       "<table border=\"1\" class=\"dataframe\">\n",
       "  <thead>\n",
       "    <tr style=\"text-align: right;\">\n",
       "      <th></th>\n",
       "      <th>event_name</th>\n",
       "      <th>user_id</th>\n",
       "      <th>percent</th>\n",
       "      <th>funnel</th>\n",
       "    </tr>\n",
       "  </thead>\n",
       "  <tbody>\n",
       "    <tr>\n",
       "      <th>0</th>\n",
       "      <td>MainScreenAppear</td>\n",
       "      <td>7419</td>\n",
       "      <td>98.47</td>\n",
       "      <td>100.00</td>\n",
       "    </tr>\n",
       "    <tr>\n",
       "      <th>1</th>\n",
       "      <td>OffersScreenAppear</td>\n",
       "      <td>4593</td>\n",
       "      <td>60.96</td>\n",
       "      <td>61.91</td>\n",
       "    </tr>\n",
       "    <tr>\n",
       "      <th>2</th>\n",
       "      <td>CartScreenAppear</td>\n",
       "      <td>3734</td>\n",
       "      <td>49.56</td>\n",
       "      <td>50.33</td>\n",
       "    </tr>\n",
       "    <tr>\n",
       "      <th>3</th>\n",
       "      <td>PaymentScreenSuccessful</td>\n",
       "      <td>3539</td>\n",
       "      <td>46.97</td>\n",
       "      <td>47.70</td>\n",
       "    </tr>\n",
       "    <tr>\n",
       "      <th>4</th>\n",
       "      <td>Tutorial</td>\n",
       "      <td>840</td>\n",
       "      <td>11.15</td>\n",
       "      <td>11.32</td>\n",
       "    </tr>\n",
       "  </tbody>\n",
       "</table>\n",
       "</div>"
      ],
      "text/plain": [
       "                event_name  user_id  percent  funnel\n",
       "0         MainScreenAppear     7419    98.47  100.00\n",
       "1       OffersScreenAppear     4593    60.96   61.91\n",
       "2         CartScreenAppear     3734    49.56   50.33\n",
       "3  PaymentScreenSuccessful     3539    46.97   47.70\n",
       "4                 Tutorial      840    11.15   11.32"
      ]
     },
     "execution_count": 85,
     "metadata": {},
     "output_type": "execute_result"
    }
   ],
   "source": [
    "users_event_count\n",
    "# проверяем"
   ]
  },
  {
   "cell_type": "markdown",
   "metadata": {},
   "source": [
    "По воронке событий посчитали, какая доля пользователей проходит на следующий шаг воронки. Больше всего пользователей теряется и не переходит с главного экрана на следующий - экран предложений (каталог). На следующих этапах теряется намного меньше и до покупки доходит 47% пользователей"
   ]
  },
  {
   "cell_type": "code",
   "execution_count": 86,
   "metadata": {},
   "outputs": [
    {
     "data": {
      "application/vnd.plotly.v1+json": {
       "config": {
        "plotlyServerURL": "https://plot.ly"
       },
       "data": [
        {
         "type": "funnel",
         "x": [
          7419,
          4593,
          3734,
          3539,
          840
         ],
         "y": [
          "MainScreenAppear",
          "OffersScreenAppear",
          "CartScreenAppear",
          "PaymentScreenSuccessful",
          "Tutorial"
         ]
        }
       ],
       "layout": {
        "template": {
         "data": {
          "bar": [
           {
            "error_x": {
             "color": "#2a3f5f"
            },
            "error_y": {
             "color": "#2a3f5f"
            },
            "marker": {
             "line": {
              "color": "#E5ECF6",
              "width": 0.5
             },
             "pattern": {
              "fillmode": "overlay",
              "size": 10,
              "solidity": 0.2
             }
            },
            "type": "bar"
           }
          ],
          "barpolar": [
           {
            "marker": {
             "line": {
              "color": "#E5ECF6",
              "width": 0.5
             },
             "pattern": {
              "fillmode": "overlay",
              "size": 10,
              "solidity": 0.2
             }
            },
            "type": "barpolar"
           }
          ],
          "carpet": [
           {
            "aaxis": {
             "endlinecolor": "#2a3f5f",
             "gridcolor": "white",
             "linecolor": "white",
             "minorgridcolor": "white",
             "startlinecolor": "#2a3f5f"
            },
            "baxis": {
             "endlinecolor": "#2a3f5f",
             "gridcolor": "white",
             "linecolor": "white",
             "minorgridcolor": "white",
             "startlinecolor": "#2a3f5f"
            },
            "type": "carpet"
           }
          ],
          "choropleth": [
           {
            "colorbar": {
             "outlinewidth": 0,
             "ticks": ""
            },
            "type": "choropleth"
           }
          ],
          "contour": [
           {
            "colorbar": {
             "outlinewidth": 0,
             "ticks": ""
            },
            "colorscale": [
             [
              0,
              "#0d0887"
             ],
             [
              0.1111111111111111,
              "#46039f"
             ],
             [
              0.2222222222222222,
              "#7201a8"
             ],
             [
              0.3333333333333333,
              "#9c179e"
             ],
             [
              0.4444444444444444,
              "#bd3786"
             ],
             [
              0.5555555555555556,
              "#d8576b"
             ],
             [
              0.6666666666666666,
              "#ed7953"
             ],
             [
              0.7777777777777778,
              "#fb9f3a"
             ],
             [
              0.8888888888888888,
              "#fdca26"
             ],
             [
              1,
              "#f0f921"
             ]
            ],
            "type": "contour"
           }
          ],
          "contourcarpet": [
           {
            "colorbar": {
             "outlinewidth": 0,
             "ticks": ""
            },
            "type": "contourcarpet"
           }
          ],
          "heatmap": [
           {
            "colorbar": {
             "outlinewidth": 0,
             "ticks": ""
            },
            "colorscale": [
             [
              0,
              "#0d0887"
             ],
             [
              0.1111111111111111,
              "#46039f"
             ],
             [
              0.2222222222222222,
              "#7201a8"
             ],
             [
              0.3333333333333333,
              "#9c179e"
             ],
             [
              0.4444444444444444,
              "#bd3786"
             ],
             [
              0.5555555555555556,
              "#d8576b"
             ],
             [
              0.6666666666666666,
              "#ed7953"
             ],
             [
              0.7777777777777778,
              "#fb9f3a"
             ],
             [
              0.8888888888888888,
              "#fdca26"
             ],
             [
              1,
              "#f0f921"
             ]
            ],
            "type": "heatmap"
           }
          ],
          "heatmapgl": [
           {
            "colorbar": {
             "outlinewidth": 0,
             "ticks": ""
            },
            "colorscale": [
             [
              0,
              "#0d0887"
             ],
             [
              0.1111111111111111,
              "#46039f"
             ],
             [
              0.2222222222222222,
              "#7201a8"
             ],
             [
              0.3333333333333333,
              "#9c179e"
             ],
             [
              0.4444444444444444,
              "#bd3786"
             ],
             [
              0.5555555555555556,
              "#d8576b"
             ],
             [
              0.6666666666666666,
              "#ed7953"
             ],
             [
              0.7777777777777778,
              "#fb9f3a"
             ],
             [
              0.8888888888888888,
              "#fdca26"
             ],
             [
              1,
              "#f0f921"
             ]
            ],
            "type": "heatmapgl"
           }
          ],
          "histogram": [
           {
            "marker": {
             "pattern": {
              "fillmode": "overlay",
              "size": 10,
              "solidity": 0.2
             }
            },
            "type": "histogram"
           }
          ],
          "histogram2d": [
           {
            "colorbar": {
             "outlinewidth": 0,
             "ticks": ""
            },
            "colorscale": [
             [
              0,
              "#0d0887"
             ],
             [
              0.1111111111111111,
              "#46039f"
             ],
             [
              0.2222222222222222,
              "#7201a8"
             ],
             [
              0.3333333333333333,
              "#9c179e"
             ],
             [
              0.4444444444444444,
              "#bd3786"
             ],
             [
              0.5555555555555556,
              "#d8576b"
             ],
             [
              0.6666666666666666,
              "#ed7953"
             ],
             [
              0.7777777777777778,
              "#fb9f3a"
             ],
             [
              0.8888888888888888,
              "#fdca26"
             ],
             [
              1,
              "#f0f921"
             ]
            ],
            "type": "histogram2d"
           }
          ],
          "histogram2dcontour": [
           {
            "colorbar": {
             "outlinewidth": 0,
             "ticks": ""
            },
            "colorscale": [
             [
              0,
              "#0d0887"
             ],
             [
              0.1111111111111111,
              "#46039f"
             ],
             [
              0.2222222222222222,
              "#7201a8"
             ],
             [
              0.3333333333333333,
              "#9c179e"
             ],
             [
              0.4444444444444444,
              "#bd3786"
             ],
             [
              0.5555555555555556,
              "#d8576b"
             ],
             [
              0.6666666666666666,
              "#ed7953"
             ],
             [
              0.7777777777777778,
              "#fb9f3a"
             ],
             [
              0.8888888888888888,
              "#fdca26"
             ],
             [
              1,
              "#f0f921"
             ]
            ],
            "type": "histogram2dcontour"
           }
          ],
          "mesh3d": [
           {
            "colorbar": {
             "outlinewidth": 0,
             "ticks": ""
            },
            "type": "mesh3d"
           }
          ],
          "parcoords": [
           {
            "line": {
             "colorbar": {
              "outlinewidth": 0,
              "ticks": ""
             }
            },
            "type": "parcoords"
           }
          ],
          "pie": [
           {
            "automargin": true,
            "type": "pie"
           }
          ],
          "scatter": [
           {
            "marker": {
             "colorbar": {
              "outlinewidth": 0,
              "ticks": ""
             }
            },
            "type": "scatter"
           }
          ],
          "scatter3d": [
           {
            "line": {
             "colorbar": {
              "outlinewidth": 0,
              "ticks": ""
             }
            },
            "marker": {
             "colorbar": {
              "outlinewidth": 0,
              "ticks": ""
             }
            },
            "type": "scatter3d"
           }
          ],
          "scattercarpet": [
           {
            "marker": {
             "colorbar": {
              "outlinewidth": 0,
              "ticks": ""
             }
            },
            "type": "scattercarpet"
           }
          ],
          "scattergeo": [
           {
            "marker": {
             "colorbar": {
              "outlinewidth": 0,
              "ticks": ""
             }
            },
            "type": "scattergeo"
           }
          ],
          "scattergl": [
           {
            "marker": {
             "colorbar": {
              "outlinewidth": 0,
              "ticks": ""
             }
            },
            "type": "scattergl"
           }
          ],
          "scattermapbox": [
           {
            "marker": {
             "colorbar": {
              "outlinewidth": 0,
              "ticks": ""
             }
            },
            "type": "scattermapbox"
           }
          ],
          "scatterpolar": [
           {
            "marker": {
             "colorbar": {
              "outlinewidth": 0,
              "ticks": ""
             }
            },
            "type": "scatterpolar"
           }
          ],
          "scatterpolargl": [
           {
            "marker": {
             "colorbar": {
              "outlinewidth": 0,
              "ticks": ""
             }
            },
            "type": "scatterpolargl"
           }
          ],
          "scatterternary": [
           {
            "marker": {
             "colorbar": {
              "outlinewidth": 0,
              "ticks": ""
             }
            },
            "type": "scatterternary"
           }
          ],
          "surface": [
           {
            "colorbar": {
             "outlinewidth": 0,
             "ticks": ""
            },
            "colorscale": [
             [
              0,
              "#0d0887"
             ],
             [
              0.1111111111111111,
              "#46039f"
             ],
             [
              0.2222222222222222,
              "#7201a8"
             ],
             [
              0.3333333333333333,
              "#9c179e"
             ],
             [
              0.4444444444444444,
              "#bd3786"
             ],
             [
              0.5555555555555556,
              "#d8576b"
             ],
             [
              0.6666666666666666,
              "#ed7953"
             ],
             [
              0.7777777777777778,
              "#fb9f3a"
             ],
             [
              0.8888888888888888,
              "#fdca26"
             ],
             [
              1,
              "#f0f921"
             ]
            ],
            "type": "surface"
           }
          ],
          "table": [
           {
            "cells": {
             "fill": {
              "color": "#EBF0F8"
             },
             "line": {
              "color": "white"
             }
            },
            "header": {
             "fill": {
              "color": "#C8D4E3"
             },
             "line": {
              "color": "white"
             }
            },
            "type": "table"
           }
          ]
         },
         "layout": {
          "annotationdefaults": {
           "arrowcolor": "#2a3f5f",
           "arrowhead": 0,
           "arrowwidth": 1
          },
          "autotypenumbers": "strict",
          "coloraxis": {
           "colorbar": {
            "outlinewidth": 0,
            "ticks": ""
           }
          },
          "colorscale": {
           "diverging": [
            [
             0,
             "#8e0152"
            ],
            [
             0.1,
             "#c51b7d"
            ],
            [
             0.2,
             "#de77ae"
            ],
            [
             0.3,
             "#f1b6da"
            ],
            [
             0.4,
             "#fde0ef"
            ],
            [
             0.5,
             "#f7f7f7"
            ],
            [
             0.6,
             "#e6f5d0"
            ],
            [
             0.7,
             "#b8e186"
            ],
            [
             0.8,
             "#7fbc41"
            ],
            [
             0.9,
             "#4d9221"
            ],
            [
             1,
             "#276419"
            ]
           ],
           "sequential": [
            [
             0,
             "#0d0887"
            ],
            [
             0.1111111111111111,
             "#46039f"
            ],
            [
             0.2222222222222222,
             "#7201a8"
            ],
            [
             0.3333333333333333,
             "#9c179e"
            ],
            [
             0.4444444444444444,
             "#bd3786"
            ],
            [
             0.5555555555555556,
             "#d8576b"
            ],
            [
             0.6666666666666666,
             "#ed7953"
            ],
            [
             0.7777777777777778,
             "#fb9f3a"
            ],
            [
             0.8888888888888888,
             "#fdca26"
            ],
            [
             1,
             "#f0f921"
            ]
           ],
           "sequentialminus": [
            [
             0,
             "#0d0887"
            ],
            [
             0.1111111111111111,
             "#46039f"
            ],
            [
             0.2222222222222222,
             "#7201a8"
            ],
            [
             0.3333333333333333,
             "#9c179e"
            ],
            [
             0.4444444444444444,
             "#bd3786"
            ],
            [
             0.5555555555555556,
             "#d8576b"
            ],
            [
             0.6666666666666666,
             "#ed7953"
            ],
            [
             0.7777777777777778,
             "#fb9f3a"
            ],
            [
             0.8888888888888888,
             "#fdca26"
            ],
            [
             1,
             "#f0f921"
            ]
           ]
          },
          "colorway": [
           "#636efa",
           "#EF553B",
           "#00cc96",
           "#ab63fa",
           "#FFA15A",
           "#19d3f3",
           "#FF6692",
           "#B6E880",
           "#FF97FF",
           "#FECB52"
          ],
          "font": {
           "color": "#2a3f5f"
          },
          "geo": {
           "bgcolor": "white",
           "lakecolor": "white",
           "landcolor": "#E5ECF6",
           "showlakes": true,
           "showland": true,
           "subunitcolor": "white"
          },
          "hoverlabel": {
           "align": "left"
          },
          "hovermode": "closest",
          "mapbox": {
           "style": "light"
          },
          "paper_bgcolor": "white",
          "plot_bgcolor": "#E5ECF6",
          "polar": {
           "angularaxis": {
            "gridcolor": "white",
            "linecolor": "white",
            "ticks": ""
           },
           "bgcolor": "#E5ECF6",
           "radialaxis": {
            "gridcolor": "white",
            "linecolor": "white",
            "ticks": ""
           }
          },
          "scene": {
           "xaxis": {
            "backgroundcolor": "#E5ECF6",
            "gridcolor": "white",
            "gridwidth": 2,
            "linecolor": "white",
            "showbackground": true,
            "ticks": "",
            "zerolinecolor": "white"
           },
           "yaxis": {
            "backgroundcolor": "#E5ECF6",
            "gridcolor": "white",
            "gridwidth": 2,
            "linecolor": "white",
            "showbackground": true,
            "ticks": "",
            "zerolinecolor": "white"
           },
           "zaxis": {
            "backgroundcolor": "#E5ECF6",
            "gridcolor": "white",
            "gridwidth": 2,
            "linecolor": "white",
            "showbackground": true,
            "ticks": "",
            "zerolinecolor": "white"
           }
          },
          "shapedefaults": {
           "line": {
            "color": "#2a3f5f"
           }
          },
          "ternary": {
           "aaxis": {
            "gridcolor": "white",
            "linecolor": "white",
            "ticks": ""
           },
           "baxis": {
            "gridcolor": "white",
            "linecolor": "white",
            "ticks": ""
           },
           "bgcolor": "#E5ECF6",
           "caxis": {
            "gridcolor": "white",
            "linecolor": "white",
            "ticks": ""
           }
          },
          "title": {
           "x": 0.05
          },
          "xaxis": {
           "automargin": true,
           "gridcolor": "white",
           "linecolor": "white",
           "ticks": "",
           "title": {
            "standoff": 15
           },
           "zerolinecolor": "white",
           "zerolinewidth": 2
          },
          "yaxis": {
           "automargin": true,
           "gridcolor": "white",
           "linecolor": "white",
           "ticks": "",
           "title": {
            "standoff": 15
           },
           "zerolinecolor": "white",
           "zerolinewidth": 2
          }
         }
        },
        "title": {
         "text": "Воронка событий"
        }
       }
      },
      "text/html": [
       "<div>                            <div id=\"57357d38-bcf1-4c01-a864-ef65ec57d869\" class=\"plotly-graph-div\" style=\"height:525px; width:100%;\"></div>            <script type=\"text/javascript\">                require([\"plotly\"], function(Plotly) {                    window.PLOTLYENV=window.PLOTLYENV || {};                                    if (document.getElementById(\"57357d38-bcf1-4c01-a864-ef65ec57d869\")) {                    Plotly.newPlot(                        \"57357d38-bcf1-4c01-a864-ef65ec57d869\",                        [{\"x\":[7419,4593,3734,3539,840],\"y\":[\"MainScreenAppear\",\"OffersScreenAppear\",\"CartScreenAppear\",\"PaymentScreenSuccessful\",\"Tutorial\"],\"type\":\"funnel\"}],                        {\"template\":{\"data\":{\"bar\":[{\"error_x\":{\"color\":\"#2a3f5f\"},\"error_y\":{\"color\":\"#2a3f5f\"},\"marker\":{\"line\":{\"color\":\"#E5ECF6\",\"width\":0.5},\"pattern\":{\"fillmode\":\"overlay\",\"size\":10,\"solidity\":0.2}},\"type\":\"bar\"}],\"barpolar\":[{\"marker\":{\"line\":{\"color\":\"#E5ECF6\",\"width\":0.5},\"pattern\":{\"fillmode\":\"overlay\",\"size\":10,\"solidity\":0.2}},\"type\":\"barpolar\"}],\"carpet\":[{\"aaxis\":{\"endlinecolor\":\"#2a3f5f\",\"gridcolor\":\"white\",\"linecolor\":\"white\",\"minorgridcolor\":\"white\",\"startlinecolor\":\"#2a3f5f\"},\"baxis\":{\"endlinecolor\":\"#2a3f5f\",\"gridcolor\":\"white\",\"linecolor\":\"white\",\"minorgridcolor\":\"white\",\"startlinecolor\":\"#2a3f5f\"},\"type\":\"carpet\"}],\"choropleth\":[{\"colorbar\":{\"outlinewidth\":0,\"ticks\":\"\"},\"type\":\"choropleth\"}],\"contour\":[{\"colorbar\":{\"outlinewidth\":0,\"ticks\":\"\"},\"colorscale\":[[0.0,\"#0d0887\"],[0.1111111111111111,\"#46039f\"],[0.2222222222222222,\"#7201a8\"],[0.3333333333333333,\"#9c179e\"],[0.4444444444444444,\"#bd3786\"],[0.5555555555555556,\"#d8576b\"],[0.6666666666666666,\"#ed7953\"],[0.7777777777777778,\"#fb9f3a\"],[0.8888888888888888,\"#fdca26\"],[1.0,\"#f0f921\"]],\"type\":\"contour\"}],\"contourcarpet\":[{\"colorbar\":{\"outlinewidth\":0,\"ticks\":\"\"},\"type\":\"contourcarpet\"}],\"heatmap\":[{\"colorbar\":{\"outlinewidth\":0,\"ticks\":\"\"},\"colorscale\":[[0.0,\"#0d0887\"],[0.1111111111111111,\"#46039f\"],[0.2222222222222222,\"#7201a8\"],[0.3333333333333333,\"#9c179e\"],[0.4444444444444444,\"#bd3786\"],[0.5555555555555556,\"#d8576b\"],[0.6666666666666666,\"#ed7953\"],[0.7777777777777778,\"#fb9f3a\"],[0.8888888888888888,\"#fdca26\"],[1.0,\"#f0f921\"]],\"type\":\"heatmap\"}],\"heatmapgl\":[{\"colorbar\":{\"outlinewidth\":0,\"ticks\":\"\"},\"colorscale\":[[0.0,\"#0d0887\"],[0.1111111111111111,\"#46039f\"],[0.2222222222222222,\"#7201a8\"],[0.3333333333333333,\"#9c179e\"],[0.4444444444444444,\"#bd3786\"],[0.5555555555555556,\"#d8576b\"],[0.6666666666666666,\"#ed7953\"],[0.7777777777777778,\"#fb9f3a\"],[0.8888888888888888,\"#fdca26\"],[1.0,\"#f0f921\"]],\"type\":\"heatmapgl\"}],\"histogram\":[{\"marker\":{\"pattern\":{\"fillmode\":\"overlay\",\"size\":10,\"solidity\":0.2}},\"type\":\"histogram\"}],\"histogram2d\":[{\"colorbar\":{\"outlinewidth\":0,\"ticks\":\"\"},\"colorscale\":[[0.0,\"#0d0887\"],[0.1111111111111111,\"#46039f\"],[0.2222222222222222,\"#7201a8\"],[0.3333333333333333,\"#9c179e\"],[0.4444444444444444,\"#bd3786\"],[0.5555555555555556,\"#d8576b\"],[0.6666666666666666,\"#ed7953\"],[0.7777777777777778,\"#fb9f3a\"],[0.8888888888888888,\"#fdca26\"],[1.0,\"#f0f921\"]],\"type\":\"histogram2d\"}],\"histogram2dcontour\":[{\"colorbar\":{\"outlinewidth\":0,\"ticks\":\"\"},\"colorscale\":[[0.0,\"#0d0887\"],[0.1111111111111111,\"#46039f\"],[0.2222222222222222,\"#7201a8\"],[0.3333333333333333,\"#9c179e\"],[0.4444444444444444,\"#bd3786\"],[0.5555555555555556,\"#d8576b\"],[0.6666666666666666,\"#ed7953\"],[0.7777777777777778,\"#fb9f3a\"],[0.8888888888888888,\"#fdca26\"],[1.0,\"#f0f921\"]],\"type\":\"histogram2dcontour\"}],\"mesh3d\":[{\"colorbar\":{\"outlinewidth\":0,\"ticks\":\"\"},\"type\":\"mesh3d\"}],\"parcoords\":[{\"line\":{\"colorbar\":{\"outlinewidth\":0,\"ticks\":\"\"}},\"type\":\"parcoords\"}],\"pie\":[{\"automargin\":true,\"type\":\"pie\"}],\"scatter\":[{\"marker\":{\"colorbar\":{\"outlinewidth\":0,\"ticks\":\"\"}},\"type\":\"scatter\"}],\"scatter3d\":[{\"line\":{\"colorbar\":{\"outlinewidth\":0,\"ticks\":\"\"}},\"marker\":{\"colorbar\":{\"outlinewidth\":0,\"ticks\":\"\"}},\"type\":\"scatter3d\"}],\"scattercarpet\":[{\"marker\":{\"colorbar\":{\"outlinewidth\":0,\"ticks\":\"\"}},\"type\":\"scattercarpet\"}],\"scattergeo\":[{\"marker\":{\"colorbar\":{\"outlinewidth\":0,\"ticks\":\"\"}},\"type\":\"scattergeo\"}],\"scattergl\":[{\"marker\":{\"colorbar\":{\"outlinewidth\":0,\"ticks\":\"\"}},\"type\":\"scattergl\"}],\"scattermapbox\":[{\"marker\":{\"colorbar\":{\"outlinewidth\":0,\"ticks\":\"\"}},\"type\":\"scattermapbox\"}],\"scatterpolar\":[{\"marker\":{\"colorbar\":{\"outlinewidth\":0,\"ticks\":\"\"}},\"type\":\"scatterpolar\"}],\"scatterpolargl\":[{\"marker\":{\"colorbar\":{\"outlinewidth\":0,\"ticks\":\"\"}},\"type\":\"scatterpolargl\"}],\"scatterternary\":[{\"marker\":{\"colorbar\":{\"outlinewidth\":0,\"ticks\":\"\"}},\"type\":\"scatterternary\"}],\"surface\":[{\"colorbar\":{\"outlinewidth\":0,\"ticks\":\"\"},\"colorscale\":[[0.0,\"#0d0887\"],[0.1111111111111111,\"#46039f\"],[0.2222222222222222,\"#7201a8\"],[0.3333333333333333,\"#9c179e\"],[0.4444444444444444,\"#bd3786\"],[0.5555555555555556,\"#d8576b\"],[0.6666666666666666,\"#ed7953\"],[0.7777777777777778,\"#fb9f3a\"],[0.8888888888888888,\"#fdca26\"],[1.0,\"#f0f921\"]],\"type\":\"surface\"}],\"table\":[{\"cells\":{\"fill\":{\"color\":\"#EBF0F8\"},\"line\":{\"color\":\"white\"}},\"header\":{\"fill\":{\"color\":\"#C8D4E3\"},\"line\":{\"color\":\"white\"}},\"type\":\"table\"}]},\"layout\":{\"annotationdefaults\":{\"arrowcolor\":\"#2a3f5f\",\"arrowhead\":0,\"arrowwidth\":1},\"autotypenumbers\":\"strict\",\"coloraxis\":{\"colorbar\":{\"outlinewidth\":0,\"ticks\":\"\"}},\"colorscale\":{\"diverging\":[[0,\"#8e0152\"],[0.1,\"#c51b7d\"],[0.2,\"#de77ae\"],[0.3,\"#f1b6da\"],[0.4,\"#fde0ef\"],[0.5,\"#f7f7f7\"],[0.6,\"#e6f5d0\"],[0.7,\"#b8e186\"],[0.8,\"#7fbc41\"],[0.9,\"#4d9221\"],[1,\"#276419\"]],\"sequential\":[[0.0,\"#0d0887\"],[0.1111111111111111,\"#46039f\"],[0.2222222222222222,\"#7201a8\"],[0.3333333333333333,\"#9c179e\"],[0.4444444444444444,\"#bd3786\"],[0.5555555555555556,\"#d8576b\"],[0.6666666666666666,\"#ed7953\"],[0.7777777777777778,\"#fb9f3a\"],[0.8888888888888888,\"#fdca26\"],[1.0,\"#f0f921\"]],\"sequentialminus\":[[0.0,\"#0d0887\"],[0.1111111111111111,\"#46039f\"],[0.2222222222222222,\"#7201a8\"],[0.3333333333333333,\"#9c179e\"],[0.4444444444444444,\"#bd3786\"],[0.5555555555555556,\"#d8576b\"],[0.6666666666666666,\"#ed7953\"],[0.7777777777777778,\"#fb9f3a\"],[0.8888888888888888,\"#fdca26\"],[1.0,\"#f0f921\"]]},\"colorway\":[\"#636efa\",\"#EF553B\",\"#00cc96\",\"#ab63fa\",\"#FFA15A\",\"#19d3f3\",\"#FF6692\",\"#B6E880\",\"#FF97FF\",\"#FECB52\"],\"font\":{\"color\":\"#2a3f5f\"},\"geo\":{\"bgcolor\":\"white\",\"lakecolor\":\"white\",\"landcolor\":\"#E5ECF6\",\"showlakes\":true,\"showland\":true,\"subunitcolor\":\"white\"},\"hoverlabel\":{\"align\":\"left\"},\"hovermode\":\"closest\",\"mapbox\":{\"style\":\"light\"},\"paper_bgcolor\":\"white\",\"plot_bgcolor\":\"#E5ECF6\",\"polar\":{\"angularaxis\":{\"gridcolor\":\"white\",\"linecolor\":\"white\",\"ticks\":\"\"},\"bgcolor\":\"#E5ECF6\",\"radialaxis\":{\"gridcolor\":\"white\",\"linecolor\":\"white\",\"ticks\":\"\"}},\"scene\":{\"xaxis\":{\"backgroundcolor\":\"#E5ECF6\",\"gridcolor\":\"white\",\"gridwidth\":2,\"linecolor\":\"white\",\"showbackground\":true,\"ticks\":\"\",\"zerolinecolor\":\"white\"},\"yaxis\":{\"backgroundcolor\":\"#E5ECF6\",\"gridcolor\":\"white\",\"gridwidth\":2,\"linecolor\":\"white\",\"showbackground\":true,\"ticks\":\"\",\"zerolinecolor\":\"white\"},\"zaxis\":{\"backgroundcolor\":\"#E5ECF6\",\"gridcolor\":\"white\",\"gridwidth\":2,\"linecolor\":\"white\",\"showbackground\":true,\"ticks\":\"\",\"zerolinecolor\":\"white\"}},\"shapedefaults\":{\"line\":{\"color\":\"#2a3f5f\"}},\"ternary\":{\"aaxis\":{\"gridcolor\":\"white\",\"linecolor\":\"white\",\"ticks\":\"\"},\"baxis\":{\"gridcolor\":\"white\",\"linecolor\":\"white\",\"ticks\":\"\"},\"bgcolor\":\"#E5ECF6\",\"caxis\":{\"gridcolor\":\"white\",\"linecolor\":\"white\",\"ticks\":\"\"}},\"title\":{\"x\":0.05},\"xaxis\":{\"automargin\":true,\"gridcolor\":\"white\",\"linecolor\":\"white\",\"ticks\":\"\",\"title\":{\"standoff\":15},\"zerolinecolor\":\"white\",\"zerolinewidth\":2},\"yaxis\":{\"automargin\":true,\"gridcolor\":\"white\",\"linecolor\":\"white\",\"ticks\":\"\",\"title\":{\"standoff\":15},\"zerolinecolor\":\"white\",\"zerolinewidth\":2}}},\"title\":{\"text\":\"\\u0412\\u043e\\u0440\\u043e\\u043d\\u043a\\u0430 \\u0441\\u043e\\u0431\\u044b\\u0442\\u0438\\u0439\"}},                        {\"responsive\": true}                    ).then(function(){\n",
       "                            \n",
       "var gd = document.getElementById('57357d38-bcf1-4c01-a864-ef65ec57d869');\n",
       "var x = new MutationObserver(function (mutations, observer) {{\n",
       "        var display = window.getComputedStyle(gd).display;\n",
       "        if (!display || display === 'none') {{\n",
       "            console.log([gd, 'removed!']);\n",
       "            Plotly.purge(gd);\n",
       "            observer.disconnect();\n",
       "        }}\n",
       "}});\n",
       "\n",
       "// Listen for the removal of the full notebook cells\n",
       "var notebookContainer = gd.closest('#notebook-container');\n",
       "if (notebookContainer) {{\n",
       "    x.observe(notebookContainer, {childList: true});\n",
       "}}\n",
       "\n",
       "// Listen for the clearing of the current output cell\n",
       "var outputEl = gd.closest('.output');\n",
       "if (outputEl) {{\n",
       "    x.observe(outputEl, {childList: true});\n",
       "}}\n",
       "\n",
       "                        })                };                });            </script>        </div>"
      ]
     },
     "metadata": {},
     "output_type": "display_data"
    }
   ],
   "source": [
    "fig = go.Figure()\n",
    "fig.add_trace(go.Funnel(\n",
    "    y = users_event_count['event_name'],\n",
    "    x = users_event_count['user_id']))\n",
    "fig.update_layout(title_text='Воронка событий')\n",
    "fig.show()"
   ]
  },
  {
   "cell_type": "markdown",
   "metadata": {},
   "source": [
    "### Изучим результаты эксперимента"
   ]
  },
  {
   "cell_type": "code",
   "execution_count": 87,
   "metadata": {},
   "outputs": [
    {
     "data": {
      "text/plain": [
       "group\n",
       "246    2484\n",
       "247    2513\n",
       "248    2537\n",
       "Name: user_id, dtype: int64"
      ]
     },
     "execution_count": 87,
     "metadata": {},
     "output_type": "execute_result"
    }
   ],
   "source": [
    "august_data.groupby(\"group\")[\"user_id\"].nunique()\n",
    "# проверяем сколько пользователей во всех группах"
   ]
  },
  {
   "cell_type": "markdown",
   "metadata": {},
   "source": [
    "Разница в группах минимальна, поэтому будем считать, что группы равны"
   ]
  },
  {
   "cell_type": "code",
   "execution_count": 88,
   "metadata": {},
   "outputs": [],
   "source": [
    "all_events = (august_data.groupby(['event_name', 'group']).agg({'user_id': 'nunique'}).\n",
    "          reset_index().sort_values(by=['user_id', 'event_name' ], ascending=False))\n",
    "# отсортируем по событиям"
   ]
  },
  {
   "cell_type": "code",
   "execution_count": 89,
   "metadata": {
    "scrolled": false
   },
   "outputs": [
    {
     "data": {
      "text/html": [
       "<div>\n",
       "<style scoped>\n",
       "    .dataframe tbody tr th:only-of-type {\n",
       "        vertical-align: middle;\n",
       "    }\n",
       "\n",
       "    .dataframe tbody tr th {\n",
       "        vertical-align: top;\n",
       "    }\n",
       "\n",
       "    .dataframe thead th {\n",
       "        text-align: right;\n",
       "    }\n",
       "</style>\n",
       "<table border=\"1\" class=\"dataframe\">\n",
       "  <thead>\n",
       "    <tr style=\"text-align: right;\">\n",
       "      <th></th>\n",
       "      <th>event_name</th>\n",
       "      <th>group</th>\n",
       "      <th>user_id</th>\n",
       "    </tr>\n",
       "  </thead>\n",
       "  <tbody>\n",
       "    <tr>\n",
       "      <th>5</th>\n",
       "      <td>MainScreenAppear</td>\n",
       "      <td>248</td>\n",
       "      <td>2493</td>\n",
       "    </tr>\n",
       "    <tr>\n",
       "      <th>4</th>\n",
       "      <td>MainScreenAppear</td>\n",
       "      <td>247</td>\n",
       "      <td>2476</td>\n",
       "    </tr>\n",
       "    <tr>\n",
       "      <th>3</th>\n",
       "      <td>MainScreenAppear</td>\n",
       "      <td>246</td>\n",
       "      <td>2450</td>\n",
       "    </tr>\n",
       "    <tr>\n",
       "      <th>6</th>\n",
       "      <td>OffersScreenAppear</td>\n",
       "      <td>246</td>\n",
       "      <td>1542</td>\n",
       "    </tr>\n",
       "    <tr>\n",
       "      <th>8</th>\n",
       "      <td>OffersScreenAppear</td>\n",
       "      <td>248</td>\n",
       "      <td>1531</td>\n",
       "    </tr>\n",
       "    <tr>\n",
       "      <th>7</th>\n",
       "      <td>OffersScreenAppear</td>\n",
       "      <td>247</td>\n",
       "      <td>1520</td>\n",
       "    </tr>\n",
       "    <tr>\n",
       "      <th>0</th>\n",
       "      <td>CartScreenAppear</td>\n",
       "      <td>246</td>\n",
       "      <td>1266</td>\n",
       "    </tr>\n",
       "    <tr>\n",
       "      <th>1</th>\n",
       "      <td>CartScreenAppear</td>\n",
       "      <td>247</td>\n",
       "      <td>1238</td>\n",
       "    </tr>\n",
       "    <tr>\n",
       "      <th>2</th>\n",
       "      <td>CartScreenAppear</td>\n",
       "      <td>248</td>\n",
       "      <td>1230</td>\n",
       "    </tr>\n",
       "    <tr>\n",
       "      <th>9</th>\n",
       "      <td>PaymentScreenSuccessful</td>\n",
       "      <td>246</td>\n",
       "      <td>1200</td>\n",
       "    </tr>\n",
       "    <tr>\n",
       "      <th>11</th>\n",
       "      <td>PaymentScreenSuccessful</td>\n",
       "      <td>248</td>\n",
       "      <td>1181</td>\n",
       "    </tr>\n",
       "    <tr>\n",
       "      <th>10</th>\n",
       "      <td>PaymentScreenSuccessful</td>\n",
       "      <td>247</td>\n",
       "      <td>1158</td>\n",
       "    </tr>\n",
       "    <tr>\n",
       "      <th>13</th>\n",
       "      <td>Tutorial</td>\n",
       "      <td>247</td>\n",
       "      <td>283</td>\n",
       "    </tr>\n",
       "    <tr>\n",
       "      <th>14</th>\n",
       "      <td>Tutorial</td>\n",
       "      <td>248</td>\n",
       "      <td>279</td>\n",
       "    </tr>\n",
       "    <tr>\n",
       "      <th>12</th>\n",
       "      <td>Tutorial</td>\n",
       "      <td>246</td>\n",
       "      <td>278</td>\n",
       "    </tr>\n",
       "  </tbody>\n",
       "</table>\n",
       "</div>"
      ],
      "text/plain": [
       "                 event_name  group  user_id\n",
       "5          MainScreenAppear    248     2493\n",
       "4          MainScreenAppear    247     2476\n",
       "3          MainScreenAppear    246     2450\n",
       "6        OffersScreenAppear    246     1542\n",
       "8        OffersScreenAppear    248     1531\n",
       "7        OffersScreenAppear    247     1520\n",
       "0          CartScreenAppear    246     1266\n",
       "1          CartScreenAppear    247     1238\n",
       "2          CartScreenAppear    248     1230\n",
       "9   PaymentScreenSuccessful    246     1200\n",
       "11  PaymentScreenSuccessful    248     1181\n",
       "10  PaymentScreenSuccessful    247     1158\n",
       "13                 Tutorial    247      283\n",
       "14                 Tutorial    248      279\n",
       "12                 Tutorial    246      278"
      ]
     },
     "execution_count": 89,
     "metadata": {},
     "output_type": "execute_result"
    }
   ],
   "source": [
    "all_events\n",
    "#  проверяем"
   ]
  },
  {
   "cell_type": "code",
   "execution_count": 90,
   "metadata": {},
   "outputs": [
    {
     "data": {
      "text/plain": [
       "group\n",
       "246    2483\n",
       "247    2512\n",
       "248    2535\n",
       "Name: user_id, dtype: int64"
      ]
     },
     "execution_count": 90,
     "metadata": {},
     "output_type": "execute_result"
    }
   ],
   "source": [
    "august_norm_data = august_data.query('event_name != \"Tutorial\"')\n",
    "august_norm_data = august_norm_data.groupby('group')['user_id'].nunique()\n",
    "august_norm_data\n",
    "# уберем tutorial из событий"
   ]
  },
  {
   "cell_type": "code",
   "execution_count": 91,
   "metadata": {},
   "outputs": [],
   "source": [
    "august_norm_data.loc['246+247'] =  4995\n",
    "# добавим объединенную группу"
   ]
  },
  {
   "cell_type": "code",
   "execution_count": 92,
   "metadata": {},
   "outputs": [
    {
     "data": {
      "text/plain": [
       "group\n",
       "246        2483\n",
       "247        2512\n",
       "248        2535\n",
       "246+247    4995\n",
       "Name: user_id, dtype: int64"
      ]
     },
     "execution_count": 92,
     "metadata": {},
     "output_type": "execute_result"
    }
   ],
   "source": [
    "august_norm_data\n",
    "# проверим"
   ]
  },
  {
   "cell_type": "code",
   "execution_count": 93,
   "metadata": {},
   "outputs": [],
   "source": [
    "people = august_data.pivot_table(index='event_name', columns='group', values='user_id', aggfunc='nunique').reset_index()\n",
    "# создаем таблицу с разбивкой по группам\n",
    "people['246+247'] = people[246] + people[247]\n",
    "# добавляем столбец с объединенными данными"
   ]
  },
  {
   "cell_type": "code",
   "execution_count": 94,
   "metadata": {},
   "outputs": [
    {
     "data": {
      "text/html": [
       "<div>\n",
       "<style scoped>\n",
       "    .dataframe tbody tr th:only-of-type {\n",
       "        vertical-align: middle;\n",
       "    }\n",
       "\n",
       "    .dataframe tbody tr th {\n",
       "        vertical-align: top;\n",
       "    }\n",
       "\n",
       "    .dataframe thead th {\n",
       "        text-align: right;\n",
       "    }\n",
       "</style>\n",
       "<table border=\"1\" class=\"dataframe\">\n",
       "  <thead>\n",
       "    <tr style=\"text-align: right;\">\n",
       "      <th>group</th>\n",
       "      <th>event_name</th>\n",
       "      <th>246</th>\n",
       "      <th>247</th>\n",
       "      <th>248</th>\n",
       "      <th>246+247</th>\n",
       "    </tr>\n",
       "  </thead>\n",
       "  <tbody>\n",
       "    <tr>\n",
       "      <th>0</th>\n",
       "      <td>CartScreenAppear</td>\n",
       "      <td>1266</td>\n",
       "      <td>1238</td>\n",
       "      <td>1230</td>\n",
       "      <td>2504</td>\n",
       "    </tr>\n",
       "    <tr>\n",
       "      <th>1</th>\n",
       "      <td>MainScreenAppear</td>\n",
       "      <td>2450</td>\n",
       "      <td>2476</td>\n",
       "      <td>2493</td>\n",
       "      <td>4926</td>\n",
       "    </tr>\n",
       "    <tr>\n",
       "      <th>2</th>\n",
       "      <td>OffersScreenAppear</td>\n",
       "      <td>1542</td>\n",
       "      <td>1520</td>\n",
       "      <td>1531</td>\n",
       "      <td>3062</td>\n",
       "    </tr>\n",
       "    <tr>\n",
       "      <th>3</th>\n",
       "      <td>PaymentScreenSuccessful</td>\n",
       "      <td>1200</td>\n",
       "      <td>1158</td>\n",
       "      <td>1181</td>\n",
       "      <td>2358</td>\n",
       "    </tr>\n",
       "    <tr>\n",
       "      <th>4</th>\n",
       "      <td>Tutorial</td>\n",
       "      <td>278</td>\n",
       "      <td>283</td>\n",
       "      <td>279</td>\n",
       "      <td>561</td>\n",
       "    </tr>\n",
       "  </tbody>\n",
       "</table>\n",
       "</div>"
      ],
      "text/plain": [
       "group               event_name   246   247   248  246+247\n",
       "0             CartScreenAppear  1266  1238  1230     2504\n",
       "1             MainScreenAppear  2450  2476  2493     4926\n",
       "2           OffersScreenAppear  1542  1520  1531     3062\n",
       "3      PaymentScreenSuccessful  1200  1158  1181     2358\n",
       "4                     Tutorial   278   283   279      561"
      ]
     },
     "execution_count": 94,
     "metadata": {},
     "output_type": "execute_result"
    }
   ],
   "source": [
    "people\n",
    "# проеверяем"
   ]
  },
  {
   "cell_type": "code",
   "execution_count": 95,
   "metadata": {},
   "outputs": [],
   "source": [
    "people = people.drop([4])\n",
    "# удаляем Tutorial"
   ]
  },
  {
   "cell_type": "code",
   "execution_count": 96,
   "metadata": {},
   "outputs": [
    {
     "data": {
      "text/html": [
       "<div>\n",
       "<style scoped>\n",
       "    .dataframe tbody tr th:only-of-type {\n",
       "        vertical-align: middle;\n",
       "    }\n",
       "\n",
       "    .dataframe tbody tr th {\n",
       "        vertical-align: top;\n",
       "    }\n",
       "\n",
       "    .dataframe thead th {\n",
       "        text-align: right;\n",
       "    }\n",
       "</style>\n",
       "<table border=\"1\" class=\"dataframe\">\n",
       "  <thead>\n",
       "    <tr style=\"text-align: right;\">\n",
       "      <th>group</th>\n",
       "      <th>event_name</th>\n",
       "      <th>246</th>\n",
       "      <th>247</th>\n",
       "      <th>248</th>\n",
       "      <th>246+247</th>\n",
       "    </tr>\n",
       "  </thead>\n",
       "  <tbody>\n",
       "    <tr>\n",
       "      <th>0</th>\n",
       "      <td>CartScreenAppear</td>\n",
       "      <td>1266</td>\n",
       "      <td>1238</td>\n",
       "      <td>1230</td>\n",
       "      <td>2504</td>\n",
       "    </tr>\n",
       "    <tr>\n",
       "      <th>1</th>\n",
       "      <td>MainScreenAppear</td>\n",
       "      <td>2450</td>\n",
       "      <td>2476</td>\n",
       "      <td>2493</td>\n",
       "      <td>4926</td>\n",
       "    </tr>\n",
       "    <tr>\n",
       "      <th>2</th>\n",
       "      <td>OffersScreenAppear</td>\n",
       "      <td>1542</td>\n",
       "      <td>1520</td>\n",
       "      <td>1531</td>\n",
       "      <td>3062</td>\n",
       "    </tr>\n",
       "    <tr>\n",
       "      <th>3</th>\n",
       "      <td>PaymentScreenSuccessful</td>\n",
       "      <td>1200</td>\n",
       "      <td>1158</td>\n",
       "      <td>1181</td>\n",
       "      <td>2358</td>\n",
       "    </tr>\n",
       "  </tbody>\n",
       "</table>\n",
       "</div>"
      ],
      "text/plain": [
       "group               event_name   246   247   248  246+247\n",
       "0             CartScreenAppear  1266  1238  1230     2504\n",
       "1             MainScreenAppear  2450  2476  2493     4926\n",
       "2           OffersScreenAppear  1542  1520  1531     3062\n",
       "3      PaymentScreenSuccessful  1200  1158  1181     2358"
      ]
     },
     "execution_count": 96,
     "metadata": {},
     "output_type": "execute_result"
    }
   ],
   "source": [
    "people\n",
    "# проверяем"
   ]
  },
  {
   "cell_type": "code",
   "execution_count": 97,
   "metadata": {},
   "outputs": [
    {
     "data": {
      "application/vnd.plotly.v1+json": {
       "config": {
        "plotlyServerURL": "https://plot.ly"
       },
       "data": [
        {
         "name": "246",
         "textinfo": "value+percent previous",
         "type": "funnel",
         "x": [
          2450,
          1542,
          1266,
          1200,
          278
         ],
         "y": [
          "MainScreenAppear",
          "OffersScreenAppear",
          "CartScreenAppear",
          "PaymentScreenSuccessful",
          "Tutorial"
         ]
        },
        {
         "name": "247",
         "textinfo": "value+percent previous",
         "type": "funnel",
         "x": [
          2476,
          1520,
          1238,
          1158,
          283
         ],
         "y": [
          "MainScreenAppear",
          "OffersScreenAppear",
          "CartScreenAppear",
          "PaymentScreenSuccessful",
          "Tutorial"
         ]
        },
        {
         "name": "248",
         "textinfo": "value+percent previous",
         "type": "funnel",
         "x": [
          2493,
          1531,
          1230,
          1181,
          279
         ],
         "y": [
          "MainScreenAppear",
          "OffersScreenAppear",
          "CartScreenAppear",
          "PaymentScreenSuccessful",
          "Tutorial"
         ]
        }
       ],
       "layout": {
        "template": {
         "data": {
          "bar": [
           {
            "error_x": {
             "color": "#2a3f5f"
            },
            "error_y": {
             "color": "#2a3f5f"
            },
            "marker": {
             "line": {
              "color": "#E5ECF6",
              "width": 0.5
             },
             "pattern": {
              "fillmode": "overlay",
              "size": 10,
              "solidity": 0.2
             }
            },
            "type": "bar"
           }
          ],
          "barpolar": [
           {
            "marker": {
             "line": {
              "color": "#E5ECF6",
              "width": 0.5
             },
             "pattern": {
              "fillmode": "overlay",
              "size": 10,
              "solidity": 0.2
             }
            },
            "type": "barpolar"
           }
          ],
          "carpet": [
           {
            "aaxis": {
             "endlinecolor": "#2a3f5f",
             "gridcolor": "white",
             "linecolor": "white",
             "minorgridcolor": "white",
             "startlinecolor": "#2a3f5f"
            },
            "baxis": {
             "endlinecolor": "#2a3f5f",
             "gridcolor": "white",
             "linecolor": "white",
             "minorgridcolor": "white",
             "startlinecolor": "#2a3f5f"
            },
            "type": "carpet"
           }
          ],
          "choropleth": [
           {
            "colorbar": {
             "outlinewidth": 0,
             "ticks": ""
            },
            "type": "choropleth"
           }
          ],
          "contour": [
           {
            "colorbar": {
             "outlinewidth": 0,
             "ticks": ""
            },
            "colorscale": [
             [
              0,
              "#0d0887"
             ],
             [
              0.1111111111111111,
              "#46039f"
             ],
             [
              0.2222222222222222,
              "#7201a8"
             ],
             [
              0.3333333333333333,
              "#9c179e"
             ],
             [
              0.4444444444444444,
              "#bd3786"
             ],
             [
              0.5555555555555556,
              "#d8576b"
             ],
             [
              0.6666666666666666,
              "#ed7953"
             ],
             [
              0.7777777777777778,
              "#fb9f3a"
             ],
             [
              0.8888888888888888,
              "#fdca26"
             ],
             [
              1,
              "#f0f921"
             ]
            ],
            "type": "contour"
           }
          ],
          "contourcarpet": [
           {
            "colorbar": {
             "outlinewidth": 0,
             "ticks": ""
            },
            "type": "contourcarpet"
           }
          ],
          "heatmap": [
           {
            "colorbar": {
             "outlinewidth": 0,
             "ticks": ""
            },
            "colorscale": [
             [
              0,
              "#0d0887"
             ],
             [
              0.1111111111111111,
              "#46039f"
             ],
             [
              0.2222222222222222,
              "#7201a8"
             ],
             [
              0.3333333333333333,
              "#9c179e"
             ],
             [
              0.4444444444444444,
              "#bd3786"
             ],
             [
              0.5555555555555556,
              "#d8576b"
             ],
             [
              0.6666666666666666,
              "#ed7953"
             ],
             [
              0.7777777777777778,
              "#fb9f3a"
             ],
             [
              0.8888888888888888,
              "#fdca26"
             ],
             [
              1,
              "#f0f921"
             ]
            ],
            "type": "heatmap"
           }
          ],
          "heatmapgl": [
           {
            "colorbar": {
             "outlinewidth": 0,
             "ticks": ""
            },
            "colorscale": [
             [
              0,
              "#0d0887"
             ],
             [
              0.1111111111111111,
              "#46039f"
             ],
             [
              0.2222222222222222,
              "#7201a8"
             ],
             [
              0.3333333333333333,
              "#9c179e"
             ],
             [
              0.4444444444444444,
              "#bd3786"
             ],
             [
              0.5555555555555556,
              "#d8576b"
             ],
             [
              0.6666666666666666,
              "#ed7953"
             ],
             [
              0.7777777777777778,
              "#fb9f3a"
             ],
             [
              0.8888888888888888,
              "#fdca26"
             ],
             [
              1,
              "#f0f921"
             ]
            ],
            "type": "heatmapgl"
           }
          ],
          "histogram": [
           {
            "marker": {
             "pattern": {
              "fillmode": "overlay",
              "size": 10,
              "solidity": 0.2
             }
            },
            "type": "histogram"
           }
          ],
          "histogram2d": [
           {
            "colorbar": {
             "outlinewidth": 0,
             "ticks": ""
            },
            "colorscale": [
             [
              0,
              "#0d0887"
             ],
             [
              0.1111111111111111,
              "#46039f"
             ],
             [
              0.2222222222222222,
              "#7201a8"
             ],
             [
              0.3333333333333333,
              "#9c179e"
             ],
             [
              0.4444444444444444,
              "#bd3786"
             ],
             [
              0.5555555555555556,
              "#d8576b"
             ],
             [
              0.6666666666666666,
              "#ed7953"
             ],
             [
              0.7777777777777778,
              "#fb9f3a"
             ],
             [
              0.8888888888888888,
              "#fdca26"
             ],
             [
              1,
              "#f0f921"
             ]
            ],
            "type": "histogram2d"
           }
          ],
          "histogram2dcontour": [
           {
            "colorbar": {
             "outlinewidth": 0,
             "ticks": ""
            },
            "colorscale": [
             [
              0,
              "#0d0887"
             ],
             [
              0.1111111111111111,
              "#46039f"
             ],
             [
              0.2222222222222222,
              "#7201a8"
             ],
             [
              0.3333333333333333,
              "#9c179e"
             ],
             [
              0.4444444444444444,
              "#bd3786"
             ],
             [
              0.5555555555555556,
              "#d8576b"
             ],
             [
              0.6666666666666666,
              "#ed7953"
             ],
             [
              0.7777777777777778,
              "#fb9f3a"
             ],
             [
              0.8888888888888888,
              "#fdca26"
             ],
             [
              1,
              "#f0f921"
             ]
            ],
            "type": "histogram2dcontour"
           }
          ],
          "mesh3d": [
           {
            "colorbar": {
             "outlinewidth": 0,
             "ticks": ""
            },
            "type": "mesh3d"
           }
          ],
          "parcoords": [
           {
            "line": {
             "colorbar": {
              "outlinewidth": 0,
              "ticks": ""
             }
            },
            "type": "parcoords"
           }
          ],
          "pie": [
           {
            "automargin": true,
            "type": "pie"
           }
          ],
          "scatter": [
           {
            "marker": {
             "colorbar": {
              "outlinewidth": 0,
              "ticks": ""
             }
            },
            "type": "scatter"
           }
          ],
          "scatter3d": [
           {
            "line": {
             "colorbar": {
              "outlinewidth": 0,
              "ticks": ""
             }
            },
            "marker": {
             "colorbar": {
              "outlinewidth": 0,
              "ticks": ""
             }
            },
            "type": "scatter3d"
           }
          ],
          "scattercarpet": [
           {
            "marker": {
             "colorbar": {
              "outlinewidth": 0,
              "ticks": ""
             }
            },
            "type": "scattercarpet"
           }
          ],
          "scattergeo": [
           {
            "marker": {
             "colorbar": {
              "outlinewidth": 0,
              "ticks": ""
             }
            },
            "type": "scattergeo"
           }
          ],
          "scattergl": [
           {
            "marker": {
             "colorbar": {
              "outlinewidth": 0,
              "ticks": ""
             }
            },
            "type": "scattergl"
           }
          ],
          "scattermapbox": [
           {
            "marker": {
             "colorbar": {
              "outlinewidth": 0,
              "ticks": ""
             }
            },
            "type": "scattermapbox"
           }
          ],
          "scatterpolar": [
           {
            "marker": {
             "colorbar": {
              "outlinewidth": 0,
              "ticks": ""
             }
            },
            "type": "scatterpolar"
           }
          ],
          "scatterpolargl": [
           {
            "marker": {
             "colorbar": {
              "outlinewidth": 0,
              "ticks": ""
             }
            },
            "type": "scatterpolargl"
           }
          ],
          "scatterternary": [
           {
            "marker": {
             "colorbar": {
              "outlinewidth": 0,
              "ticks": ""
             }
            },
            "type": "scatterternary"
           }
          ],
          "surface": [
           {
            "colorbar": {
             "outlinewidth": 0,
             "ticks": ""
            },
            "colorscale": [
             [
              0,
              "#0d0887"
             ],
             [
              0.1111111111111111,
              "#46039f"
             ],
             [
              0.2222222222222222,
              "#7201a8"
             ],
             [
              0.3333333333333333,
              "#9c179e"
             ],
             [
              0.4444444444444444,
              "#bd3786"
             ],
             [
              0.5555555555555556,
              "#d8576b"
             ],
             [
              0.6666666666666666,
              "#ed7953"
             ],
             [
              0.7777777777777778,
              "#fb9f3a"
             ],
             [
              0.8888888888888888,
              "#fdca26"
             ],
             [
              1,
              "#f0f921"
             ]
            ],
            "type": "surface"
           }
          ],
          "table": [
           {
            "cells": {
             "fill": {
              "color": "#EBF0F8"
             },
             "line": {
              "color": "white"
             }
            },
            "header": {
             "fill": {
              "color": "#C8D4E3"
             },
             "line": {
              "color": "white"
             }
            },
            "type": "table"
           }
          ]
         },
         "layout": {
          "annotationdefaults": {
           "arrowcolor": "#2a3f5f",
           "arrowhead": 0,
           "arrowwidth": 1
          },
          "autotypenumbers": "strict",
          "coloraxis": {
           "colorbar": {
            "outlinewidth": 0,
            "ticks": ""
           }
          },
          "colorscale": {
           "diverging": [
            [
             0,
             "#8e0152"
            ],
            [
             0.1,
             "#c51b7d"
            ],
            [
             0.2,
             "#de77ae"
            ],
            [
             0.3,
             "#f1b6da"
            ],
            [
             0.4,
             "#fde0ef"
            ],
            [
             0.5,
             "#f7f7f7"
            ],
            [
             0.6,
             "#e6f5d0"
            ],
            [
             0.7,
             "#b8e186"
            ],
            [
             0.8,
             "#7fbc41"
            ],
            [
             0.9,
             "#4d9221"
            ],
            [
             1,
             "#276419"
            ]
           ],
           "sequential": [
            [
             0,
             "#0d0887"
            ],
            [
             0.1111111111111111,
             "#46039f"
            ],
            [
             0.2222222222222222,
             "#7201a8"
            ],
            [
             0.3333333333333333,
             "#9c179e"
            ],
            [
             0.4444444444444444,
             "#bd3786"
            ],
            [
             0.5555555555555556,
             "#d8576b"
            ],
            [
             0.6666666666666666,
             "#ed7953"
            ],
            [
             0.7777777777777778,
             "#fb9f3a"
            ],
            [
             0.8888888888888888,
             "#fdca26"
            ],
            [
             1,
             "#f0f921"
            ]
           ],
           "sequentialminus": [
            [
             0,
             "#0d0887"
            ],
            [
             0.1111111111111111,
             "#46039f"
            ],
            [
             0.2222222222222222,
             "#7201a8"
            ],
            [
             0.3333333333333333,
             "#9c179e"
            ],
            [
             0.4444444444444444,
             "#bd3786"
            ],
            [
             0.5555555555555556,
             "#d8576b"
            ],
            [
             0.6666666666666666,
             "#ed7953"
            ],
            [
             0.7777777777777778,
             "#fb9f3a"
            ],
            [
             0.8888888888888888,
             "#fdca26"
            ],
            [
             1,
             "#f0f921"
            ]
           ]
          },
          "colorway": [
           "#636efa",
           "#EF553B",
           "#00cc96",
           "#ab63fa",
           "#FFA15A",
           "#19d3f3",
           "#FF6692",
           "#B6E880",
           "#FF97FF",
           "#FECB52"
          ],
          "font": {
           "color": "#2a3f5f"
          },
          "geo": {
           "bgcolor": "white",
           "lakecolor": "white",
           "landcolor": "#E5ECF6",
           "showlakes": true,
           "showland": true,
           "subunitcolor": "white"
          },
          "hoverlabel": {
           "align": "left"
          },
          "hovermode": "closest",
          "mapbox": {
           "style": "light"
          },
          "paper_bgcolor": "white",
          "plot_bgcolor": "#E5ECF6",
          "polar": {
           "angularaxis": {
            "gridcolor": "white",
            "linecolor": "white",
            "ticks": ""
           },
           "bgcolor": "#E5ECF6",
           "radialaxis": {
            "gridcolor": "white",
            "linecolor": "white",
            "ticks": ""
           }
          },
          "scene": {
           "xaxis": {
            "backgroundcolor": "#E5ECF6",
            "gridcolor": "white",
            "gridwidth": 2,
            "linecolor": "white",
            "showbackground": true,
            "ticks": "",
            "zerolinecolor": "white"
           },
           "yaxis": {
            "backgroundcolor": "#E5ECF6",
            "gridcolor": "white",
            "gridwidth": 2,
            "linecolor": "white",
            "showbackground": true,
            "ticks": "",
            "zerolinecolor": "white"
           },
           "zaxis": {
            "backgroundcolor": "#E5ECF6",
            "gridcolor": "white",
            "gridwidth": 2,
            "linecolor": "white",
            "showbackground": true,
            "ticks": "",
            "zerolinecolor": "white"
           }
          },
          "shapedefaults": {
           "line": {
            "color": "#2a3f5f"
           }
          },
          "ternary": {
           "aaxis": {
            "gridcolor": "white",
            "linecolor": "white",
            "ticks": ""
           },
           "baxis": {
            "gridcolor": "white",
            "linecolor": "white",
            "ticks": ""
           },
           "bgcolor": "#E5ECF6",
           "caxis": {
            "gridcolor": "white",
            "linecolor": "white",
            "ticks": ""
           }
          },
          "title": {
           "x": 0.05
          },
          "xaxis": {
           "automargin": true,
           "gridcolor": "white",
           "linecolor": "white",
           "ticks": "",
           "title": {
            "standoff": 15
           },
           "zerolinecolor": "white",
           "zerolinewidth": 2
          },
          "yaxis": {
           "automargin": true,
           "gridcolor": "white",
           "linecolor": "white",
           "ticks": "",
           "title": {
            "standoff": 15
           },
           "zerolinecolor": "white",
           "zerolinewidth": 2
          }
         }
        },
        "title": {
         "text": "Воронка событий по группам"
        }
       }
      },
      "text/html": [
       "<div>                            <div id=\"242f55c7-99b6-49f7-80ba-4994321864f9\" class=\"plotly-graph-div\" style=\"height:525px; width:100%;\"></div>            <script type=\"text/javascript\">                require([\"plotly\"], function(Plotly) {                    window.PLOTLYENV=window.PLOTLYENV || {};                                    if (document.getElementById(\"242f55c7-99b6-49f7-80ba-4994321864f9\")) {                    Plotly.newPlot(                        \"242f55c7-99b6-49f7-80ba-4994321864f9\",                        [{\"name\":\"246\",\"textinfo\":\"value+percent previous\",\"x\":[2450,1542,1266,1200,278],\"y\":[\"MainScreenAppear\",\"OffersScreenAppear\",\"CartScreenAppear\",\"PaymentScreenSuccessful\",\"Tutorial\"],\"type\":\"funnel\"},{\"name\":\"247\",\"textinfo\":\"value+percent previous\",\"x\":[2476,1520,1238,1158,283],\"y\":[\"MainScreenAppear\",\"OffersScreenAppear\",\"CartScreenAppear\",\"PaymentScreenSuccessful\",\"Tutorial\"],\"type\":\"funnel\"},{\"name\":\"248\",\"textinfo\":\"value+percent previous\",\"x\":[2493,1531,1230,1181,279],\"y\":[\"MainScreenAppear\",\"OffersScreenAppear\",\"CartScreenAppear\",\"PaymentScreenSuccessful\",\"Tutorial\"],\"type\":\"funnel\"}],                        {\"template\":{\"data\":{\"bar\":[{\"error_x\":{\"color\":\"#2a3f5f\"},\"error_y\":{\"color\":\"#2a3f5f\"},\"marker\":{\"line\":{\"color\":\"#E5ECF6\",\"width\":0.5},\"pattern\":{\"fillmode\":\"overlay\",\"size\":10,\"solidity\":0.2}},\"type\":\"bar\"}],\"barpolar\":[{\"marker\":{\"line\":{\"color\":\"#E5ECF6\",\"width\":0.5},\"pattern\":{\"fillmode\":\"overlay\",\"size\":10,\"solidity\":0.2}},\"type\":\"barpolar\"}],\"carpet\":[{\"aaxis\":{\"endlinecolor\":\"#2a3f5f\",\"gridcolor\":\"white\",\"linecolor\":\"white\",\"minorgridcolor\":\"white\",\"startlinecolor\":\"#2a3f5f\"},\"baxis\":{\"endlinecolor\":\"#2a3f5f\",\"gridcolor\":\"white\",\"linecolor\":\"white\",\"minorgridcolor\":\"white\",\"startlinecolor\":\"#2a3f5f\"},\"type\":\"carpet\"}],\"choropleth\":[{\"colorbar\":{\"outlinewidth\":0,\"ticks\":\"\"},\"type\":\"choropleth\"}],\"contour\":[{\"colorbar\":{\"outlinewidth\":0,\"ticks\":\"\"},\"colorscale\":[[0.0,\"#0d0887\"],[0.1111111111111111,\"#46039f\"],[0.2222222222222222,\"#7201a8\"],[0.3333333333333333,\"#9c179e\"],[0.4444444444444444,\"#bd3786\"],[0.5555555555555556,\"#d8576b\"],[0.6666666666666666,\"#ed7953\"],[0.7777777777777778,\"#fb9f3a\"],[0.8888888888888888,\"#fdca26\"],[1.0,\"#f0f921\"]],\"type\":\"contour\"}],\"contourcarpet\":[{\"colorbar\":{\"outlinewidth\":0,\"ticks\":\"\"},\"type\":\"contourcarpet\"}],\"heatmap\":[{\"colorbar\":{\"outlinewidth\":0,\"ticks\":\"\"},\"colorscale\":[[0.0,\"#0d0887\"],[0.1111111111111111,\"#46039f\"],[0.2222222222222222,\"#7201a8\"],[0.3333333333333333,\"#9c179e\"],[0.4444444444444444,\"#bd3786\"],[0.5555555555555556,\"#d8576b\"],[0.6666666666666666,\"#ed7953\"],[0.7777777777777778,\"#fb9f3a\"],[0.8888888888888888,\"#fdca26\"],[1.0,\"#f0f921\"]],\"type\":\"heatmap\"}],\"heatmapgl\":[{\"colorbar\":{\"outlinewidth\":0,\"ticks\":\"\"},\"colorscale\":[[0.0,\"#0d0887\"],[0.1111111111111111,\"#46039f\"],[0.2222222222222222,\"#7201a8\"],[0.3333333333333333,\"#9c179e\"],[0.4444444444444444,\"#bd3786\"],[0.5555555555555556,\"#d8576b\"],[0.6666666666666666,\"#ed7953\"],[0.7777777777777778,\"#fb9f3a\"],[0.8888888888888888,\"#fdca26\"],[1.0,\"#f0f921\"]],\"type\":\"heatmapgl\"}],\"histogram\":[{\"marker\":{\"pattern\":{\"fillmode\":\"overlay\",\"size\":10,\"solidity\":0.2}},\"type\":\"histogram\"}],\"histogram2d\":[{\"colorbar\":{\"outlinewidth\":0,\"ticks\":\"\"},\"colorscale\":[[0.0,\"#0d0887\"],[0.1111111111111111,\"#46039f\"],[0.2222222222222222,\"#7201a8\"],[0.3333333333333333,\"#9c179e\"],[0.4444444444444444,\"#bd3786\"],[0.5555555555555556,\"#d8576b\"],[0.6666666666666666,\"#ed7953\"],[0.7777777777777778,\"#fb9f3a\"],[0.8888888888888888,\"#fdca26\"],[1.0,\"#f0f921\"]],\"type\":\"histogram2d\"}],\"histogram2dcontour\":[{\"colorbar\":{\"outlinewidth\":0,\"ticks\":\"\"},\"colorscale\":[[0.0,\"#0d0887\"],[0.1111111111111111,\"#46039f\"],[0.2222222222222222,\"#7201a8\"],[0.3333333333333333,\"#9c179e\"],[0.4444444444444444,\"#bd3786\"],[0.5555555555555556,\"#d8576b\"],[0.6666666666666666,\"#ed7953\"],[0.7777777777777778,\"#fb9f3a\"],[0.8888888888888888,\"#fdca26\"],[1.0,\"#f0f921\"]],\"type\":\"histogram2dcontour\"}],\"mesh3d\":[{\"colorbar\":{\"outlinewidth\":0,\"ticks\":\"\"},\"type\":\"mesh3d\"}],\"parcoords\":[{\"line\":{\"colorbar\":{\"outlinewidth\":0,\"ticks\":\"\"}},\"type\":\"parcoords\"}],\"pie\":[{\"automargin\":true,\"type\":\"pie\"}],\"scatter\":[{\"marker\":{\"colorbar\":{\"outlinewidth\":0,\"ticks\":\"\"}},\"type\":\"scatter\"}],\"scatter3d\":[{\"line\":{\"colorbar\":{\"outlinewidth\":0,\"ticks\":\"\"}},\"marker\":{\"colorbar\":{\"outlinewidth\":0,\"ticks\":\"\"}},\"type\":\"scatter3d\"}],\"scattercarpet\":[{\"marker\":{\"colorbar\":{\"outlinewidth\":0,\"ticks\":\"\"}},\"type\":\"scattercarpet\"}],\"scattergeo\":[{\"marker\":{\"colorbar\":{\"outlinewidth\":0,\"ticks\":\"\"}},\"type\":\"scattergeo\"}],\"scattergl\":[{\"marker\":{\"colorbar\":{\"outlinewidth\":0,\"ticks\":\"\"}},\"type\":\"scattergl\"}],\"scattermapbox\":[{\"marker\":{\"colorbar\":{\"outlinewidth\":0,\"ticks\":\"\"}},\"type\":\"scattermapbox\"}],\"scatterpolar\":[{\"marker\":{\"colorbar\":{\"outlinewidth\":0,\"ticks\":\"\"}},\"type\":\"scatterpolar\"}],\"scatterpolargl\":[{\"marker\":{\"colorbar\":{\"outlinewidth\":0,\"ticks\":\"\"}},\"type\":\"scatterpolargl\"}],\"scatterternary\":[{\"marker\":{\"colorbar\":{\"outlinewidth\":0,\"ticks\":\"\"}},\"type\":\"scatterternary\"}],\"surface\":[{\"colorbar\":{\"outlinewidth\":0,\"ticks\":\"\"},\"colorscale\":[[0.0,\"#0d0887\"],[0.1111111111111111,\"#46039f\"],[0.2222222222222222,\"#7201a8\"],[0.3333333333333333,\"#9c179e\"],[0.4444444444444444,\"#bd3786\"],[0.5555555555555556,\"#d8576b\"],[0.6666666666666666,\"#ed7953\"],[0.7777777777777778,\"#fb9f3a\"],[0.8888888888888888,\"#fdca26\"],[1.0,\"#f0f921\"]],\"type\":\"surface\"}],\"table\":[{\"cells\":{\"fill\":{\"color\":\"#EBF0F8\"},\"line\":{\"color\":\"white\"}},\"header\":{\"fill\":{\"color\":\"#C8D4E3\"},\"line\":{\"color\":\"white\"}},\"type\":\"table\"}]},\"layout\":{\"annotationdefaults\":{\"arrowcolor\":\"#2a3f5f\",\"arrowhead\":0,\"arrowwidth\":1},\"autotypenumbers\":\"strict\",\"coloraxis\":{\"colorbar\":{\"outlinewidth\":0,\"ticks\":\"\"}},\"colorscale\":{\"diverging\":[[0,\"#8e0152\"],[0.1,\"#c51b7d\"],[0.2,\"#de77ae\"],[0.3,\"#f1b6da\"],[0.4,\"#fde0ef\"],[0.5,\"#f7f7f7\"],[0.6,\"#e6f5d0\"],[0.7,\"#b8e186\"],[0.8,\"#7fbc41\"],[0.9,\"#4d9221\"],[1,\"#276419\"]],\"sequential\":[[0.0,\"#0d0887\"],[0.1111111111111111,\"#46039f\"],[0.2222222222222222,\"#7201a8\"],[0.3333333333333333,\"#9c179e\"],[0.4444444444444444,\"#bd3786\"],[0.5555555555555556,\"#d8576b\"],[0.6666666666666666,\"#ed7953\"],[0.7777777777777778,\"#fb9f3a\"],[0.8888888888888888,\"#fdca26\"],[1.0,\"#f0f921\"]],\"sequentialminus\":[[0.0,\"#0d0887\"],[0.1111111111111111,\"#46039f\"],[0.2222222222222222,\"#7201a8\"],[0.3333333333333333,\"#9c179e\"],[0.4444444444444444,\"#bd3786\"],[0.5555555555555556,\"#d8576b\"],[0.6666666666666666,\"#ed7953\"],[0.7777777777777778,\"#fb9f3a\"],[0.8888888888888888,\"#fdca26\"],[1.0,\"#f0f921\"]]},\"colorway\":[\"#636efa\",\"#EF553B\",\"#00cc96\",\"#ab63fa\",\"#FFA15A\",\"#19d3f3\",\"#FF6692\",\"#B6E880\",\"#FF97FF\",\"#FECB52\"],\"font\":{\"color\":\"#2a3f5f\"},\"geo\":{\"bgcolor\":\"white\",\"lakecolor\":\"white\",\"landcolor\":\"#E5ECF6\",\"showlakes\":true,\"showland\":true,\"subunitcolor\":\"white\"},\"hoverlabel\":{\"align\":\"left\"},\"hovermode\":\"closest\",\"mapbox\":{\"style\":\"light\"},\"paper_bgcolor\":\"white\",\"plot_bgcolor\":\"#E5ECF6\",\"polar\":{\"angularaxis\":{\"gridcolor\":\"white\",\"linecolor\":\"white\",\"ticks\":\"\"},\"bgcolor\":\"#E5ECF6\",\"radialaxis\":{\"gridcolor\":\"white\",\"linecolor\":\"white\",\"ticks\":\"\"}},\"scene\":{\"xaxis\":{\"backgroundcolor\":\"#E5ECF6\",\"gridcolor\":\"white\",\"gridwidth\":2,\"linecolor\":\"white\",\"showbackground\":true,\"ticks\":\"\",\"zerolinecolor\":\"white\"},\"yaxis\":{\"backgroundcolor\":\"#E5ECF6\",\"gridcolor\":\"white\",\"gridwidth\":2,\"linecolor\":\"white\",\"showbackground\":true,\"ticks\":\"\",\"zerolinecolor\":\"white\"},\"zaxis\":{\"backgroundcolor\":\"#E5ECF6\",\"gridcolor\":\"white\",\"gridwidth\":2,\"linecolor\":\"white\",\"showbackground\":true,\"ticks\":\"\",\"zerolinecolor\":\"white\"}},\"shapedefaults\":{\"line\":{\"color\":\"#2a3f5f\"}},\"ternary\":{\"aaxis\":{\"gridcolor\":\"white\",\"linecolor\":\"white\",\"ticks\":\"\"},\"baxis\":{\"gridcolor\":\"white\",\"linecolor\":\"white\",\"ticks\":\"\"},\"bgcolor\":\"#E5ECF6\",\"caxis\":{\"gridcolor\":\"white\",\"linecolor\":\"white\",\"ticks\":\"\"}},\"title\":{\"x\":0.05},\"xaxis\":{\"automargin\":true,\"gridcolor\":\"white\",\"linecolor\":\"white\",\"ticks\":\"\",\"title\":{\"standoff\":15},\"zerolinecolor\":\"white\",\"zerolinewidth\":2},\"yaxis\":{\"automargin\":true,\"gridcolor\":\"white\",\"linecolor\":\"white\",\"ticks\":\"\",\"title\":{\"standoff\":15},\"zerolinecolor\":\"white\",\"zerolinewidth\":2}}},\"title\":{\"text\":\"\\u0412\\u043e\\u0440\\u043e\\u043d\\u043a\\u0430 \\u0441\\u043e\\u0431\\u044b\\u0442\\u0438\\u0439 \\u043f\\u043e \\u0433\\u0440\\u0443\\u043f\\u043f\\u0430\\u043c\"}},                        {\"responsive\": true}                    ).then(function(){\n",
       "                            \n",
       "var gd = document.getElementById('242f55c7-99b6-49f7-80ba-4994321864f9');\n",
       "var x = new MutationObserver(function (mutations, observer) {{\n",
       "        var display = window.getComputedStyle(gd).display;\n",
       "        if (!display || display === 'none') {{\n",
       "            console.log([gd, 'removed!']);\n",
       "            Plotly.purge(gd);\n",
       "            observer.disconnect();\n",
       "        }}\n",
       "}});\n",
       "\n",
       "// Listen for the removal of the full notebook cells\n",
       "var notebookContainer = gd.closest('#notebook-container');\n",
       "if (notebookContainer) {{\n",
       "    x.observe(notebookContainer, {childList: true});\n",
       "}}\n",
       "\n",
       "// Listen for the clearing of the current output cell\n",
       "var outputEl = gd.closest('.output');\n",
       "if (outputEl) {{\n",
       "    x.observe(outputEl, {childList: true});\n",
       "}}\n",
       "\n",
       "                        })                };                });            </script>        </div>"
      ]
     },
     "metadata": {},
     "output_type": "display_data"
    }
   ],
   "source": [
    "fig = go.Figure()\n",
    "\n",
    "fig.add_trace(go.Funnel(name = '246',\n",
    "    y = all_events.query('group == 246')['event_name'],\n",
    "    x = all_events.query('group == 246')['user_id'],        \n",
    "    textinfo = 'value + percent previous'))\n",
    "\n",
    "fig.add_trace(go.Funnel(name = '247',\n",
    "    y = all_events.query('group == 247')['event_name'],\n",
    "    x = all_events.query('group == 247')['user_id'],        \n",
    "    textinfo = 'value + percent previous'))\n",
    "\n",
    "fig.add_trace(go.Funnel(name = '248',\n",
    "    y = all_events.query('group == 248')['event_name'],\n",
    "    x = all_events.query('group == 248')['user_id'],       \n",
    "    textinfo = 'value + percent previous'))\n",
    "\n",
    "fig.update_layout(title_text = 'Воронка событий по группам')\n",
    "fig.show()"
   ]
  },
  {
   "cell_type": "markdown",
   "metadata": {},
   "source": [
    "Существенной разницы между группами нет, в пределах 1-2 %"
   ]
  },
  {
   "cell_type": "markdown",
   "metadata": {},
   "source": [
    "Зададим гипотезы и проверим:\n",
    "\n",
    "H0: Разницы между группами от первого до последнего шага НЕТ\n",
    "\n",
    "H1: Разница между группами от первого до последнего шага ЕСТЬ"
   ]
  },
  {
   "cell_type": "code",
   "execution_count": 98,
   "metadata": {},
   "outputs": [
    {
     "name": "stdout",
     "output_type": "stream",
     "text": [
      "p-значение:  0.12044299485641763\n",
      "Не получилось отвергнуть нулевую гипотезу, нет оснований считать группы разными\n"
     ]
    }
   ],
   "source": [
    "alpha = 0.05 # критический уровень статистической значимости\n",
    "\n",
    "pay = np.array([1200, 1158])\n",
    "main = np.array([2450, 2476])\n",
    "\n",
    "# пропорция успехов в первой группе:\n",
    "p1 = pay[0]/main[0]\n",
    "\n",
    "# пропорция успехов во второй группе:\n",
    "p2 = pay[1]/main[1]\n",
    "\n",
    "# пропорция успехов в комбинированном датасете:\n",
    "p_combined = (pay[0] + pay[1]) / (main[0] + main[1])\n",
    "\n",
    "# разница пропорций в датасетах\n",
    "difference = p1 - p2 \n",
    "\n",
    "# считаем статистику в ст.отклонениях стандартного нормального распределения\n",
    "z_value = difference / mth.sqrt(p_combined * (1 - p_combined) * (1 / main[0] + 1 /main[1]))\n",
    "\n",
    "# задаем стандартное нормальное распределение (среднее 0, ст.отклонение 1)\n",
    "distr = st.norm(0, 1)\n",
    "\n",
    "# тест двухсторонний\n",
    "p_value = (1 - distr.cdf(abs(z_value))) * 2\n",
    "\n",
    "\n",
    "\n",
    "print('p-значение: ', p_value)\n",
    "if p_value < alpha :\n",
    "    print('Отвергаем нулевую гипотезу: между группами есть значимая разница')\n",
    "else:\n",
    "    print(\n",
    "        'Не получилось отвергнуть нулевую гипотезу, нет оснований считать группы разными'\n",
    "    )"
   ]
  },
  {
   "cell_type": "markdown",
   "metadata": {},
   "source": [
    "Тест подтвержлает, что нет разницы между группами"
   ]
  },
  {
   "cell_type": "code",
   "execution_count": 99,
   "metadata": {},
   "outputs": [],
   "source": [
    "# напишем функцию\n",
    "def z_test(gr1, gr2,  alpha): \n",
    "    p1_event = people.loc[event_name, gr1]\n",
    "    p2_event = people.loc[event_name, gr2] \n",
    "    p1_users = august_norm_data.loc[gr1] \n",
    "    p2_users = august_norm_data.loc[gr2] \n",
    "    \n",
    "    # пропорция успехов в первой группе:\n",
    "    p1 = p1_event / p1_users \n",
    "    # пропорция успехов во второй группе\n",
    "    p2 = p2_event / p2_users \n",
    "    \n",
    "    # пропорция успехов в комбинированном датасете\n",
    "    p_combined = (p1_event + p2_event) / (p1_users + p2_users) \n",
    "    \n",
    "    # разница пропорций в датасетах\n",
    "    difference = p1 - p2\n",
    "    \n",
    "    # считаем статистику в ст.отклонениях стандартного нормального распределения\n",
    "    z_value = difference / mth.sqrt(p_combined * (1 - p_combined) * (1 / p1_users + 1 / p2_users))\n",
    "    \n",
    "    # задаем стандартное нормальное распределение (среднее 0, ст.отклонение 1)\n",
    "    distr = st.norm(0, 1)\n",
    "    \n",
    "    # тест двухсторонний\n",
    "    p_value = (1 - distr.cdf(abs(z_value))) * 2\n",
    "    \n",
    "    print('Cобытие: {}'.format(event_name))\n",
    "    print('p-значение: ', p_value)\n",
    "    \n",
    "    bonferroni_alpha = alpha / 17  # произведено 17 сравнений\n",
    "    \n",
    "    if p_value < bonferroni_alpha:\n",
    "        print(\"Отвергаем нулевую гипотезу о равенстве данных в группах\")\n",
    "    else:\n",
    "        print(\"Не получилось отвергнуть нулевую гипотезу, нет оснований считать группы разными\")\n"
   ]
  },
  {
   "cell_type": "markdown",
   "metadata": {},
   "source": [
    "H0: Различий в долях пользователей на каждом этапе воронки в группах 246 и 247  НЕТ\n",
    "\n",
    "H1: Различия в долях пользователей на каждом этапе воронки в группах 246 и 247  ЕСТЬ"
   ]
  },
  {
   "cell_type": "code",
   "execution_count": 100,
   "metadata": {},
   "outputs": [
    {
     "name": "stdout",
     "output_type": "stream",
     "text": [
      "Cобытие: 0\n",
      "p-значение:  0.22867643757335676\n",
      "Не получилось отвергнуть нулевую гипотезу, нет оснований считать группы разными\n",
      "\n",
      "Cобытие: 1\n",
      "p-значение:  0.7526703436483038\n",
      "Не получилось отвергнуть нулевую гипотезу, нет оснований считать группы разными\n",
      "\n",
      "Cобытие: 2\n",
      "p-значение:  0.24786096925282264\n",
      "Не получилось отвергнуть нулевую гипотезу, нет оснований считать группы разными\n",
      "\n",
      "Cобытие: 3\n",
      "p-значение:  0.11446627829276612\n",
      "Не получилось отвергнуть нулевую гипотезу, нет оснований считать группы разными\n",
      "\n"
     ]
    }
   ],
   "source": [
    "for event_name in people.index:\n",
    "    z_test(246, 247, 0.05)\n",
    "    print()"
   ]
  },
  {
   "cell_type": "markdown",
   "metadata": {},
   "source": [
    "Видим, что различий в долях пользователей между группами 246 и 247 нет"
   ]
  },
  {
   "cell_type": "markdown",
   "metadata": {},
   "source": [
    "H0: Различий в долях пользователей на каждом этапе воронки в группах 247 и 248  НЕТ\n",
    "\n",
    "H1: Различия в долях пользователей на каждом этапе воронки в группах 247 и 248  ЕСТЬ"
   ]
  },
  {
   "cell_type": "code",
   "execution_count": 101,
   "metadata": {},
   "outputs": [
    {
     "name": "stdout",
     "output_type": "stream",
     "text": [
      "Cобытие: 0\n",
      "p-значение:  0.5878284605111943\n",
      "Не получилось отвергнуть нулевую гипотезу, нет оснований считать группы разными\n",
      "\n",
      "Cобытие: 1\n",
      "p-значение:  0.5194964354051703\n",
      "Не получилось отвергнуть нулевую гипотезу, нет оснований считать группы разными\n",
      "\n",
      "Cобытие: 2\n",
      "p-значение:  0.9333751305879443\n",
      "Не получилось отвергнуть нулевую гипотезу, нет оснований считать группы разными\n",
      "\n",
      "Cобытие: 3\n",
      "p-значение:  0.7275718682261119\n",
      "Не получилось отвергнуть нулевую гипотезу, нет оснований считать группы разными\n",
      "\n"
     ]
    }
   ],
   "source": [
    "for event_name in people.index:\n",
    "    z_test(247, 248, 0.05)\n",
    "    print()"
   ]
  },
  {
   "cell_type": "markdown",
   "metadata": {},
   "source": [
    "Видим, что различий в долях пользователей между группами 247 и 248(с измененным шрифтом) нет"
   ]
  },
  {
   "cell_type": "markdown",
   "metadata": {},
   "source": [
    "H0: Различий в долях пользователей на каждом этапе воронки в группах 246 и 248  НЕТ\n",
    "\n",
    "H1: Различия в долях пользователей на каждом этапе воронки в группах 246 и 248  ЕСТЬ"
   ]
  },
  {
   "cell_type": "code",
   "execution_count": 102,
   "metadata": {},
   "outputs": [
    {
     "name": "stdout",
     "output_type": "stream",
     "text": [
      "Cобытие: 0\n",
      "p-значение:  0.08067367598823139\n",
      "Не получилось отвергнуть нулевую гипотезу, нет оснований считать группы разными\n",
      "\n",
      "Cобытие: 1\n",
      "p-значение:  0.3387114076159288\n",
      "Не получилось отвергнуть нулевую гипотезу, нет оснований считать группы разными\n",
      "\n",
      "Cобытие: 2\n",
      "p-значение:  0.21442476639710506\n",
      "Не получилось отвергнуть нулевую гипотезу, нет оснований считать группы разными\n",
      "\n",
      "Cобытие: 3\n",
      "p-значение:  0.21693033984516674\n",
      "Не получилось отвергнуть нулевую гипотезу, нет оснований считать группы разными\n",
      "\n"
     ]
    }
   ],
   "source": [
    "for event_name in people.index:\n",
    "    z_test(246, 248, 0.05)\n",
    "    print()"
   ]
  },
  {
   "cell_type": "markdown",
   "metadata": {},
   "source": [
    "Видим, что различий в долях пользователей между группами 246 и 248(с измененным шрифтом) нет"
   ]
  },
  {
   "cell_type": "markdown",
   "metadata": {},
   "source": [
    "H0: Различий в долях пользователей на каждом этапе воронки в объединенных группах 246 с 247 и 248  НЕТ\n",
    "\n",
    "H1: Различия в долях пользователей на каждом этапе воронки в объединенных группах 246 с 247 и 248  ЕСТЬ"
   ]
  },
  {
   "cell_type": "code",
   "execution_count": 103,
   "metadata": {},
   "outputs": [
    {
     "name": "stdout",
     "output_type": "stream",
     "text": [
      "Cобытие: 0\n",
      "p-значение:  0.18683558686831558\n",
      "Не получилось отвергнуть нулевую гипотезу, нет оснований считать группы разными\n",
      "\n",
      "Cобытие: 1\n",
      "p-значение:  0.3486684291093256\n",
      "Не получилось отвергнуть нулевую гипотезу, нет оснований считать группы разными\n",
      "\n",
      "Cобытие: 2\n",
      "p-значение:  0.44582745409482394\n",
      "Не получилось отвергнуть нулевую гипотезу, нет оснований считать группы разными\n",
      "\n",
      "Cобытие: 3\n",
      "p-значение:  0.6107918742187335\n",
      "Не получилось отвергнуть нулевую гипотезу, нет оснований считать группы разными\n",
      "\n"
     ]
    }
   ],
   "source": [
    "for event_name in people.index:\n",
    "    z_test(\"246+247\", 248, 0.05)\n",
    "    print()"
   ]
  },
  {
   "cell_type": "markdown",
   "metadata": {},
   "source": [
    "Видим, что различий между объединенными группами 246 и 247 и 248 (с измененным шрифтом)нет"
   ]
  },
  {
   "cell_type": "markdown",
   "metadata": {},
   "source": [
    "### Общий вывод"
   ]
  },
  {
   "cell_type": "markdown",
   "metadata": {},
   "source": [
    "В результате исследования были проанализированы действия пользователей мобильного приложения за период с  25 июля по 07 августа. В данном стартапе была предложена идея по смене шрифта в мобильном приложении, реализация днной идеи планировалась после провдения A/A/B-теста. Пользователей разбили на 3 группы: 2 контрольные со старыми шрифтами и одну экспериментальную — с новыми. \n",
    "На стадии предобработки данных мы удалили незначительное количество дубликатов, поменяли формат времени,  переименовли названия столбцов, добавили новые. При исследовании сделали вывод о том, что за первую неделю не было практически никаких событий, поэтому дл исследования использовался период с 01 августа. Группы польователй практически равны около 2500 человек. Пользователи проходят 4 этапа Попадание на главный экран, экран предложений, экран корзины, экран оплаты. Есть еще экран с руководством, но на данную страницу мало кто заходит, что связано, по всей идимости, с тем, что интерфейс мобильного прилжения интуитивно понятен и необходимости в инструкциях у большинства пользователй нет. Поэтапно с главного экрана до успешной оплаты доходит чуть менее 50% пользователей. Также очень много пользователей теряется на этапе перехода с главного экрана на экран выбора товара (39%) На последующих этапах потерь немного. Соответсвенно можно сделать вывод, что с интерфейсом главного экрана что-то не то, что не дает возможности перехода на следующий этап. При исследовании данных и проведении тестов мы исключили этап \"Руководство\", так как онсамый непосещаемый.\n",
    "При проведении тестов p-value мы взяли 0.05, что позволило сделать вывод о том, что  нет статистически значимой разницы между группами. Таким образом, внедерение обновленного шрифта в мобильное приложение не изменит поведение пользователей "
   ]
  }
 ],
 "metadata": {
  "ExecuteTimeLog": [
   {
    "duration": 459,
    "start_time": "2024-03-04T08:10:38.865Z"
   },
   {
    "duration": 870,
    "start_time": "2024-03-04T08:10:39.326Z"
   },
   {
    "duration": 14,
    "start_time": "2024-03-04T08:10:41.015Z"
   },
   {
    "duration": 1323,
    "start_time": "2024-03-04T13:13:10.300Z"
   },
   {
    "duration": 829,
    "start_time": "2024-03-04T13:13:11.625Z"
   },
   {
    "duration": 12,
    "start_time": "2024-03-04T13:13:12.456Z"
   },
   {
    "duration": 3,
    "start_time": "2024-03-04T13:20:30.700Z"
   },
   {
    "duration": 317,
    "start_time": "2024-03-04T13:20:31.941Z"
   },
   {
    "duration": 3,
    "start_time": "2024-03-04T13:20:32.890Z"
   },
   {
    "duration": 11,
    "start_time": "2024-03-04T13:20:34.382Z"
   },
   {
    "duration": 181,
    "start_time": "2024-03-04T13:34:08.271Z"
   },
   {
    "duration": 3,
    "start_time": "2024-03-04T13:34:09.794Z"
   },
   {
    "duration": 9,
    "start_time": "2024-03-04T13:34:10.345Z"
   },
   {
    "duration": 10,
    "start_time": "2024-03-04T13:34:38.984Z"
   },
   {
    "duration": 23,
    "start_time": "2024-03-04T13:34:56.925Z"
   },
   {
    "duration": 22,
    "start_time": "2024-03-04T13:35:53.956Z"
   },
   {
    "duration": 18,
    "start_time": "2024-03-04T13:36:44.483Z"
   },
   {
    "duration": 95,
    "start_time": "2024-03-04T13:42:04.820Z"
   },
   {
    "duration": 54,
    "start_time": "2024-03-04T13:42:37.926Z"
   },
   {
    "duration": 11,
    "start_time": "2024-03-04T13:44:03.513Z"
   },
   {
    "duration": 8,
    "start_time": "2024-03-04T13:44:13.598Z"
   },
   {
    "duration": 65,
    "start_time": "2024-03-04T13:44:39.811Z"
   },
   {
    "duration": 75,
    "start_time": "2024-03-04T13:45:47.052Z"
   },
   {
    "duration": 63,
    "start_time": "2024-03-04T13:46:00.699Z"
   },
   {
    "duration": 5,
    "start_time": "2024-03-04T13:50:34.300Z"
   },
   {
    "duration": 10,
    "start_time": "2024-03-04T13:50:35.000Z"
   },
   {
    "duration": 7,
    "start_time": "2024-03-04T13:52:55.949Z"
   },
   {
    "duration": 10,
    "start_time": "2024-03-04T13:52:56.829Z"
   },
   {
    "duration": 139,
    "start_time": "2024-03-04T13:56:14.123Z"
   },
   {
    "duration": 7,
    "start_time": "2024-03-04T13:56:21.299Z"
   },
   {
    "duration": 14,
    "start_time": "2024-03-04T14:02:14.385Z"
   },
   {
    "duration": 9,
    "start_time": "2024-03-04T14:02:58.704Z"
   },
   {
    "duration": 10,
    "start_time": "2024-03-04T14:03:15.875Z"
   },
   {
    "duration": 9,
    "start_time": "2024-03-04T14:03:24.920Z"
   },
   {
    "duration": 8,
    "start_time": "2024-03-04T14:04:00.751Z"
   },
   {
    "duration": 12,
    "start_time": "2024-03-04T14:04:51.169Z"
   },
   {
    "duration": 13,
    "start_time": "2024-03-04T14:04:52.146Z"
   },
   {
    "duration": 12,
    "start_time": "2024-03-04T14:05:21.476Z"
   },
   {
    "duration": 14,
    "start_time": "2024-03-04T14:05:22.966Z"
   },
   {
    "duration": 12,
    "start_time": "2024-03-04T14:17:23.112Z"
   },
   {
    "duration": 13,
    "start_time": "2024-03-04T14:17:29.802Z"
   },
   {
    "duration": 3,
    "start_time": "2024-03-04T14:17:36.454Z"
   },
   {
    "duration": 3,
    "start_time": "2024-03-04T14:17:37.154Z"
   },
   {
    "duration": 178,
    "start_time": "2024-03-04T14:17:37.954Z"
   },
   {
    "duration": 10,
    "start_time": "2024-03-04T14:17:38.448Z"
   },
   {
    "duration": 21,
    "start_time": "2024-03-04T14:17:38.721Z"
   },
   {
    "duration": 16,
    "start_time": "2024-03-04T14:17:38.974Z"
   },
   {
    "duration": 55,
    "start_time": "2024-03-04T14:17:39.605Z"
   },
   {
    "duration": 64,
    "start_time": "2024-03-04T14:17:40.547Z"
   },
   {
    "duration": 54,
    "start_time": "2024-03-04T14:17:41.172Z"
   },
   {
    "duration": 4,
    "start_time": "2024-03-04T14:17:41.596Z"
   },
   {
    "duration": 9,
    "start_time": "2024-03-04T14:17:41.987Z"
   },
   {
    "duration": 7,
    "start_time": "2024-03-04T14:17:43.365Z"
   },
   {
    "duration": 11,
    "start_time": "2024-03-04T14:17:43.842Z"
   },
   {
    "duration": 100,
    "start_time": "2024-03-04T14:19:54.380Z"
   },
   {
    "duration": 12,
    "start_time": "2024-03-04T14:20:02.899Z"
   },
   {
    "duration": 1476,
    "start_time": "2024-03-06T09:26:08.663Z"
   },
   {
    "duration": 3,
    "start_time": "2024-03-06T09:26:10.141Z"
   },
   {
    "duration": 542,
    "start_time": "2024-03-06T09:26:10.145Z"
   },
   {
    "duration": 15,
    "start_time": "2024-03-06T09:26:10.690Z"
   },
   {
    "duration": 30,
    "start_time": "2024-03-06T09:26:10.706Z"
   },
   {
    "duration": 19,
    "start_time": "2024-03-06T09:26:10.738Z"
   },
   {
    "duration": 87,
    "start_time": "2024-03-06T09:26:10.759Z"
   },
   {
    "duration": 74,
    "start_time": "2024-03-06T09:26:10.909Z"
   },
   {
    "duration": 65,
    "start_time": "2024-03-06T09:26:11.040Z"
   },
   {
    "duration": 6,
    "start_time": "2024-03-06T09:26:11.231Z"
   },
   {
    "duration": 8,
    "start_time": "2024-03-06T09:26:11.564Z"
   },
   {
    "duration": 10,
    "start_time": "2024-03-06T09:26:11.581Z"
   },
   {
    "duration": 81,
    "start_time": "2024-03-06T09:26:11.781Z"
   },
   {
    "duration": 14,
    "start_time": "2024-03-06T09:26:11.968Z"
   },
   {
    "duration": 104,
    "start_time": "2024-03-06T09:52:54.161Z"
   },
   {
    "duration": 8,
    "start_time": "2024-03-06T09:53:08.447Z"
   },
   {
    "duration": 16,
    "start_time": "2024-03-06T09:53:18.671Z"
   },
   {
    "duration": 6,
    "start_time": "2024-03-06T09:54:32.894Z"
   },
   {
    "duration": 20,
    "start_time": "2024-03-06T09:55:16.766Z"
   },
   {
    "duration": 88,
    "start_time": "2024-03-06T09:56:17.377Z"
   },
   {
    "duration": 18,
    "start_time": "2024-03-06T09:56:24.529Z"
   },
   {
    "duration": 27,
    "start_time": "2024-03-06T09:57:25.947Z"
   },
   {
    "duration": 26,
    "start_time": "2024-03-06T09:57:53.806Z"
   },
   {
    "duration": 27,
    "start_time": "2024-03-06T09:57:59.124Z"
   },
   {
    "duration": 4,
    "start_time": "2024-03-06T09:58:28.449Z"
   },
   {
    "duration": 31,
    "start_time": "2024-03-06T09:58:34.550Z"
   },
   {
    "duration": 14,
    "start_time": "2024-03-06T10:17:45.009Z"
   },
   {
    "duration": 44,
    "start_time": "2024-03-06T10:19:16.050Z"
   },
   {
    "duration": 40,
    "start_time": "2024-03-06T10:19:32.498Z"
   },
   {
    "duration": 41,
    "start_time": "2024-03-06T10:19:37.543Z"
   },
   {
    "duration": 18,
    "start_time": "2024-03-06T10:21:04.444Z"
   },
   {
    "duration": 17,
    "start_time": "2024-03-06T10:21:48.485Z"
   },
   {
    "duration": 90,
    "start_time": "2024-03-06T10:22:13.309Z"
   },
   {
    "duration": 19,
    "start_time": "2024-03-06T10:22:20.596Z"
   },
   {
    "duration": 23,
    "start_time": "2024-03-06T10:22:40.519Z"
   },
   {
    "duration": 24,
    "start_time": "2024-03-06T10:23:23.182Z"
   },
   {
    "duration": 22,
    "start_time": "2024-03-06T10:23:40.484Z"
   },
   {
    "duration": 19,
    "start_time": "2024-03-06T10:24:19.350Z"
   },
   {
    "duration": 23,
    "start_time": "2024-03-06T10:24:27.113Z"
   },
   {
    "duration": 18,
    "start_time": "2024-03-06T10:24:42.956Z"
   },
   {
    "duration": 17,
    "start_time": "2024-03-06T10:24:47.457Z"
   },
   {
    "duration": 20,
    "start_time": "2024-03-06T10:28:46.665Z"
   },
   {
    "duration": 21,
    "start_time": "2024-03-06T10:33:44.023Z"
   },
   {
    "duration": 5,
    "start_time": "2024-03-06T10:34:03.163Z"
   },
   {
    "duration": 5,
    "start_time": "2024-03-06T10:35:14.186Z"
   },
   {
    "duration": 5,
    "start_time": "2024-03-06T10:37:45.853Z"
   },
   {
    "duration": 5,
    "start_time": "2024-03-06T10:38:03.255Z"
   },
   {
    "duration": 76,
    "start_time": "2024-03-06T10:38:25.829Z"
   },
   {
    "duration": 6,
    "start_time": "2024-03-06T10:38:38.550Z"
   },
   {
    "duration": 5,
    "start_time": "2024-03-06T10:39:08.462Z"
   },
   {
    "duration": 6,
    "start_time": "2024-03-06T10:39:42.068Z"
   },
   {
    "duration": 5,
    "start_time": "2024-03-06T10:40:24.966Z"
   },
   {
    "duration": 8,
    "start_time": "2024-03-06T10:44:07.107Z"
   },
   {
    "duration": 8,
    "start_time": "2024-03-06T10:44:19.238Z"
   },
   {
    "duration": 9,
    "start_time": "2024-03-06T10:56:22.545Z"
   },
   {
    "duration": 315,
    "start_time": "2024-03-06T10:56:32.117Z"
   },
   {
    "duration": 278,
    "start_time": "2024-03-06T10:56:39.702Z"
   },
   {
    "duration": 341,
    "start_time": "2024-03-06T10:57:15.107Z"
   },
   {
    "duration": 328,
    "start_time": "2024-03-06T10:57:33.648Z"
   },
   {
    "duration": 411,
    "start_time": "2024-03-06T10:57:42.604Z"
   },
   {
    "duration": 335,
    "start_time": "2024-03-06T10:57:52.072Z"
   },
   {
    "duration": 328,
    "start_time": "2024-03-06T10:58:36.563Z"
   },
   {
    "duration": 346,
    "start_time": "2024-03-06T10:59:52.912Z"
   },
   {
    "duration": 364,
    "start_time": "2024-03-06T11:00:40.489Z"
   },
   {
    "duration": 351,
    "start_time": "2024-03-06T11:01:12.601Z"
   },
   {
    "duration": 493,
    "start_time": "2024-03-06T11:02:19.057Z"
   },
   {
    "duration": 371,
    "start_time": "2024-03-06T11:02:47.001Z"
   },
   {
    "duration": 358,
    "start_time": "2024-03-06T11:02:52.818Z"
   },
   {
    "duration": 348,
    "start_time": "2024-03-06T11:04:04.158Z"
   },
   {
    "duration": 369,
    "start_time": "2024-03-06T11:04:10.530Z"
   },
   {
    "duration": 260,
    "start_time": "2024-03-06T11:05:17.966Z"
   },
   {
    "duration": 436,
    "start_time": "2024-03-06T11:05:27.796Z"
   },
   {
    "duration": 355,
    "start_time": "2024-03-06T11:05:35.136Z"
   },
   {
    "duration": 4,
    "start_time": "2024-03-06T11:34:39.489Z"
   },
   {
    "duration": 3,
    "start_time": "2024-03-06T11:34:40.318Z"
   },
   {
    "duration": 197,
    "start_time": "2024-03-06T11:34:41.366Z"
   },
   {
    "duration": 11,
    "start_time": "2024-03-06T11:34:42.187Z"
   },
   {
    "duration": 23,
    "start_time": "2024-03-06T11:34:43.752Z"
   },
   {
    "duration": 22,
    "start_time": "2024-03-06T11:34:44.148Z"
   },
   {
    "duration": 56,
    "start_time": "2024-03-06T11:34:44.512Z"
   },
   {
    "duration": 75,
    "start_time": "2024-03-06T11:34:44.753Z"
   },
   {
    "duration": 63,
    "start_time": "2024-03-06T11:34:45.035Z"
   },
   {
    "duration": 6,
    "start_time": "2024-03-06T11:34:45.270Z"
   },
   {
    "duration": 8,
    "start_time": "2024-03-06T11:34:45.563Z"
   },
   {
    "duration": 8,
    "start_time": "2024-03-06T11:34:45.820Z"
   },
   {
    "duration": 74,
    "start_time": "2024-03-06T11:34:46.088Z"
   },
   {
    "duration": 15,
    "start_time": "2024-03-06T11:34:46.338Z"
   },
   {
    "duration": 46,
    "start_time": "2024-03-06T11:34:47.330Z"
   },
   {
    "duration": 28,
    "start_time": "2024-03-06T11:34:47.378Z"
   },
   {
    "duration": 8,
    "start_time": "2024-03-06T11:34:47.853Z"
   },
   {
    "duration": 18,
    "start_time": "2024-03-06T11:34:47.863Z"
   },
   {
    "duration": 7,
    "start_time": "2024-03-06T11:34:47.905Z"
   },
   {
    "duration": 370,
    "start_time": "2024-03-06T11:34:48.182Z"
   },
   {
    "duration": 83,
    "start_time": "2024-03-06T11:34:48.955Z"
   },
   {
    "duration": 304,
    "start_time": "2024-03-06T11:38:23.858Z"
   },
   {
    "duration": 281,
    "start_time": "2024-03-06T11:39:32.952Z"
   },
   {
    "duration": 286,
    "start_time": "2024-03-06T11:40:13.790Z"
   },
   {
    "duration": 325,
    "start_time": "2024-03-06T11:40:19.407Z"
   },
   {
    "duration": 21,
    "start_time": "2024-03-06T11:41:33.748Z"
   },
   {
    "duration": 15,
    "start_time": "2024-03-06T11:41:35.023Z"
   },
   {
    "duration": 18,
    "start_time": "2024-03-06T11:42:03.057Z"
   },
   {
    "duration": 14,
    "start_time": "2024-03-06T11:42:04.496Z"
   },
   {
    "duration": 13,
    "start_time": "2024-03-06T11:43:16.211Z"
   },
   {
    "duration": 16,
    "start_time": "2024-03-06T11:45:10.249Z"
   },
   {
    "duration": 15,
    "start_time": "2024-03-06T11:46:16.181Z"
   },
   {
    "duration": 35,
    "start_time": "2024-03-06T11:47:09.252Z"
   },
   {
    "duration": 57,
    "start_time": "2024-03-06T11:55:19.954Z"
   },
   {
    "duration": 57,
    "start_time": "2024-03-06T11:55:59.050Z"
   },
   {
    "duration": 58,
    "start_time": "2024-03-06T11:56:48.454Z"
   },
   {
    "duration": 59,
    "start_time": "2024-03-06T11:58:45.918Z"
   },
   {
    "duration": 56,
    "start_time": "2024-03-06T11:58:57.355Z"
   },
   {
    "duration": 78,
    "start_time": "2024-03-06T12:01:50.310Z"
   },
   {
    "duration": 110,
    "start_time": "2024-03-06T12:01:58.578Z"
   },
   {
    "duration": 68,
    "start_time": "2024-03-06T12:03:14.485Z"
   },
   {
    "duration": 69,
    "start_time": "2024-03-06T12:03:43.279Z"
   },
   {
    "duration": 70,
    "start_time": "2024-03-06T12:04:01.400Z"
   },
   {
    "duration": 77,
    "start_time": "2024-03-06T12:04:13.870Z"
   },
   {
    "duration": 74,
    "start_time": "2024-03-06T12:04:25.607Z"
   },
   {
    "duration": 71,
    "start_time": "2024-03-06T12:04:42.142Z"
   },
   {
    "duration": 10,
    "start_time": "2024-03-06T12:09:01.371Z"
   },
   {
    "duration": 9,
    "start_time": "2024-03-06T12:09:02.027Z"
   },
   {
    "duration": 70,
    "start_time": "2024-03-06T12:11:06.573Z"
   },
   {
    "duration": 69,
    "start_time": "2024-03-06T12:11:20.920Z"
   },
   {
    "duration": 15,
    "start_time": "2024-03-06T12:11:26.904Z"
   },
   {
    "duration": 15,
    "start_time": "2024-03-06T12:11:33.838Z"
   },
   {
    "duration": 7,
    "start_time": "2024-03-06T12:16:09.759Z"
   },
   {
    "duration": 7,
    "start_time": "2024-03-06T12:16:52.270Z"
   },
   {
    "duration": 11,
    "start_time": "2024-03-06T12:17:54.608Z"
   },
   {
    "duration": 38,
    "start_time": "2024-03-06T12:18:27.012Z"
   },
   {
    "duration": 6,
    "start_time": "2024-03-06T12:19:08.098Z"
   },
   {
    "duration": 34,
    "start_time": "2024-03-06T12:19:08.387Z"
   },
   {
    "duration": 86,
    "start_time": "2024-03-06T12:24:35.770Z"
   },
   {
    "duration": 85,
    "start_time": "2024-03-06T12:32:47.070Z"
   },
   {
    "duration": 78,
    "start_time": "2024-03-06T12:32:54.326Z"
   },
   {
    "duration": 68,
    "start_time": "2024-03-06T12:33:04.676Z"
   },
   {
    "duration": 67,
    "start_time": "2024-03-06T12:33:11.301Z"
   },
   {
    "duration": 89,
    "start_time": "2024-03-06T12:33:35.186Z"
   },
   {
    "duration": 73,
    "start_time": "2024-03-06T12:34:26.406Z"
   },
   {
    "duration": 88,
    "start_time": "2024-03-06T12:34:33.876Z"
   },
   {
    "duration": 75,
    "start_time": "2024-03-06T12:34:40.290Z"
   },
   {
    "duration": 3,
    "start_time": "2024-03-06T12:34:52.394Z"
   },
   {
    "duration": 5,
    "start_time": "2024-03-06T12:34:53.355Z"
   },
   {
    "duration": 68,
    "start_time": "2024-03-06T12:35:11.782Z"
   },
   {
    "duration": 69,
    "start_time": "2024-03-06T12:35:19.884Z"
   },
   {
    "duration": 3,
    "start_time": "2024-03-06T12:36:03.115Z"
   },
   {
    "duration": 33,
    "start_time": "2024-03-06T12:36:06.019Z"
   },
   {
    "duration": 33,
    "start_time": "2024-03-06T12:36:25.190Z"
   },
   {
    "duration": 51,
    "start_time": "2024-03-06T12:37:32.003Z"
   },
   {
    "duration": 37,
    "start_time": "2024-03-06T12:37:32.727Z"
   },
   {
    "duration": 46,
    "start_time": "2024-03-06T12:37:38.062Z"
   },
   {
    "duration": 74,
    "start_time": "2024-03-06T12:37:46.686Z"
   },
   {
    "duration": 45,
    "start_time": "2024-03-06T12:37:47.315Z"
   },
   {
    "duration": 3,
    "start_time": "2024-03-06T12:37:52.532Z"
   },
   {
    "duration": 77,
    "start_time": "2024-03-06T12:37:54.416Z"
   },
   {
    "duration": 48,
    "start_time": "2024-03-06T12:37:55.068Z"
   },
   {
    "duration": 32,
    "start_time": "2024-03-06T12:38:09.421Z"
   },
   {
    "duration": 88,
    "start_time": "2024-03-06T12:38:11.321Z"
   },
   {
    "duration": 47,
    "start_time": "2024-03-06T12:38:12.423Z"
   },
   {
    "duration": 75,
    "start_time": "2024-03-06T12:38:35.309Z"
   },
   {
    "duration": 46,
    "start_time": "2024-03-06T12:38:37.143Z"
   },
   {
    "duration": 76,
    "start_time": "2024-03-06T12:39:00.081Z"
   },
   {
    "duration": 46,
    "start_time": "2024-03-06T12:39:00.603Z"
   },
   {
    "duration": 33,
    "start_time": "2024-03-06T12:39:16.202Z"
   },
   {
    "duration": 1465,
    "start_time": "2024-03-07T06:55:42.265Z"
   },
   {
    "duration": 3,
    "start_time": "2024-03-07T06:55:43.732Z"
   },
   {
    "duration": 751,
    "start_time": "2024-03-07T06:56:03.004Z"
   },
   {
    "duration": 14,
    "start_time": "2024-03-07T06:56:03.778Z"
   },
   {
    "duration": 23,
    "start_time": "2024-03-07T06:56:04.538Z"
   },
   {
    "duration": 17,
    "start_time": "2024-03-07T06:56:05.058Z"
   },
   {
    "duration": 70,
    "start_time": "2024-03-07T06:56:05.423Z"
   },
   {
    "duration": 84,
    "start_time": "2024-03-07T06:56:05.739Z"
   },
   {
    "duration": 81,
    "start_time": "2024-03-07T06:56:06.022Z"
   },
   {
    "duration": 6,
    "start_time": "2024-03-07T06:56:06.382Z"
   },
   {
    "duration": 9,
    "start_time": "2024-03-07T06:56:06.538Z"
   },
   {
    "duration": 10,
    "start_time": "2024-03-07T06:56:06.905Z"
   },
   {
    "duration": 83,
    "start_time": "2024-03-07T06:56:07.206Z"
   },
   {
    "duration": 14,
    "start_time": "2024-03-07T06:56:07.523Z"
   },
   {
    "duration": 53,
    "start_time": "2024-03-07T06:56:08.676Z"
   },
   {
    "duration": 28,
    "start_time": "2024-03-07T06:56:09.005Z"
   },
   {
    "duration": 8,
    "start_time": "2024-03-07T06:56:09.173Z"
   },
   {
    "duration": 19,
    "start_time": "2024-03-07T06:56:09.528Z"
   },
   {
    "duration": 8,
    "start_time": "2024-03-07T06:56:09.690Z"
   },
   {
    "duration": 461,
    "start_time": "2024-03-07T06:56:09.922Z"
   },
   {
    "duration": 27,
    "start_time": "2024-03-07T06:56:10.385Z"
   },
   {
    "duration": 19,
    "start_time": "2024-03-07T06:56:10.576Z"
   },
   {
    "duration": 68,
    "start_time": "2024-03-07T06:56:10.723Z"
   },
   {
    "duration": 15,
    "start_time": "2024-03-07T06:56:10.969Z"
   },
   {
    "duration": 6,
    "start_time": "2024-03-07T06:56:11.174Z"
   },
   {
    "duration": 36,
    "start_time": "2024-03-07T06:56:11.624Z"
   },
   {
    "duration": 28,
    "start_time": "2024-03-07T07:15:36.186Z"
   },
   {
    "duration": 55,
    "start_time": "2024-03-07T07:27:32.364Z"
   },
   {
    "duration": 7,
    "start_time": "2024-03-07T07:27:41.783Z"
   },
   {
    "duration": 109,
    "start_time": "2024-03-07T07:37:40.071Z"
   },
   {
    "duration": 9,
    "start_time": "2024-03-07T07:37:40.637Z"
   },
   {
    "duration": 81,
    "start_time": "2024-03-07T07:45:00.794Z"
   },
   {
    "duration": 8,
    "start_time": "2024-03-07T07:45:01.840Z"
   },
   {
    "duration": 35,
    "start_time": "2024-03-07T07:45:03.415Z"
   },
   {
    "duration": 8,
    "start_time": "2024-03-07T07:45:04.659Z"
   },
   {
    "duration": 95,
    "start_time": "2024-03-07T07:45:32.502Z"
   },
   {
    "duration": 11,
    "start_time": "2024-03-07T07:45:41.254Z"
   },
   {
    "duration": 7,
    "start_time": "2024-03-07T07:45:45.357Z"
   },
   {
    "duration": 7,
    "start_time": "2024-03-07T07:48:02.848Z"
   },
   {
    "duration": 1320,
    "start_time": "2024-03-08T09:01:50.740Z"
   },
   {
    "duration": 2,
    "start_time": "2024-03-08T09:01:52.062Z"
   },
   {
    "duration": 751,
    "start_time": "2024-03-08T09:01:52.065Z"
   },
   {
    "duration": 14,
    "start_time": "2024-03-08T09:01:52.818Z"
   },
   {
    "duration": 33,
    "start_time": "2024-03-08T09:01:54.073Z"
   },
   {
    "duration": 16,
    "start_time": "2024-03-08T09:01:54.423Z"
   },
   {
    "duration": 66,
    "start_time": "2024-03-08T09:01:54.695Z"
   },
   {
    "duration": 83,
    "start_time": "2024-03-08T09:01:54.939Z"
   },
   {
    "duration": 59,
    "start_time": "2024-03-08T09:01:55.219Z"
   },
   {
    "duration": 6,
    "start_time": "2024-03-08T09:01:55.424Z"
   },
   {
    "duration": 8,
    "start_time": "2024-03-08T09:01:55.742Z"
   },
   {
    "duration": 8,
    "start_time": "2024-03-08T09:01:55.874Z"
   },
   {
    "duration": 72,
    "start_time": "2024-03-08T09:01:56.137Z"
   },
   {
    "duration": 14,
    "start_time": "2024-03-08T09:01:56.341Z"
   },
   {
    "duration": 45,
    "start_time": "2024-03-08T09:01:57.039Z"
   },
   {
    "duration": 28,
    "start_time": "2024-03-08T09:01:57.316Z"
   },
   {
    "duration": 7,
    "start_time": "2024-03-08T09:01:57.557Z"
   },
   {
    "duration": 21,
    "start_time": "2024-03-08T09:01:57.874Z"
   },
   {
    "duration": 8,
    "start_time": "2024-03-08T09:01:58.233Z"
   },
   {
    "duration": 400,
    "start_time": "2024-03-08T09:02:09.660Z"
   },
   {
    "duration": 21,
    "start_time": "2024-03-08T09:02:10.817Z"
   },
   {
    "duration": 13,
    "start_time": "2024-03-08T09:02:11.128Z"
   },
   {
    "duration": 63,
    "start_time": "2024-03-08T09:02:11.472Z"
   },
   {
    "duration": 14,
    "start_time": "2024-03-08T09:02:11.762Z"
   },
   {
    "duration": 6,
    "start_time": "2024-03-08T09:02:12.095Z"
   },
   {
    "duration": 32,
    "start_time": "2024-03-08T09:02:12.520Z"
   },
   {
    "duration": 25,
    "start_time": "2024-03-08T09:02:13.961Z"
   },
   {
    "duration": 48,
    "start_time": "2024-03-08T09:02:14.617Z"
   },
   {
    "duration": 6,
    "start_time": "2024-03-08T09:02:14.698Z"
   },
   {
    "duration": 10,
    "start_time": "2024-03-08T09:02:15.013Z"
   },
   {
    "duration": 7,
    "start_time": "2024-03-08T09:02:15.179Z"
   },
   {
    "duration": 7,
    "start_time": "2024-03-08T09:18:32.774Z"
   },
   {
    "duration": 4,
    "start_time": "2024-03-08T09:18:34.698Z"
   },
   {
    "duration": 7,
    "start_time": "2024-03-08T09:18:35.568Z"
   },
   {
    "duration": 3,
    "start_time": "2024-03-08T09:18:58.808Z"
   },
   {
    "duration": 8,
    "start_time": "2024-03-08T09:18:59.759Z"
   },
   {
    "duration": 6,
    "start_time": "2024-03-08T09:24:18.952Z"
   },
   {
    "duration": 5,
    "start_time": "2024-03-08T09:24:20.004Z"
   },
   {
    "duration": 8,
    "start_time": "2024-03-08T09:24:23.409Z"
   },
   {
    "duration": 8,
    "start_time": "2024-03-08T09:26:33.515Z"
   },
   {
    "duration": 7,
    "start_time": "2024-03-08T09:26:42.083Z"
   },
   {
    "duration": 4,
    "start_time": "2024-03-08T09:26:47.325Z"
   },
   {
    "duration": 3,
    "start_time": "2024-03-08T09:26:47.850Z"
   },
   {
    "duration": 183,
    "start_time": "2024-03-08T09:26:48.373Z"
   },
   {
    "duration": 10,
    "start_time": "2024-03-08T09:26:48.900Z"
   },
   {
    "duration": 21,
    "start_time": "2024-03-08T09:26:49.455Z"
   },
   {
    "duration": 16,
    "start_time": "2024-03-08T09:26:50.143Z"
   },
   {
    "duration": 57,
    "start_time": "2024-03-08T09:26:50.160Z"
   },
   {
    "duration": 63,
    "start_time": "2024-03-08T09:26:50.666Z"
   },
   {
    "duration": 55,
    "start_time": "2024-03-08T09:26:50.731Z"
   },
   {
    "duration": 6,
    "start_time": "2024-03-08T09:26:50.993Z"
   },
   {
    "duration": 7,
    "start_time": "2024-03-08T09:26:51.088Z"
   },
   {
    "duration": 7,
    "start_time": "2024-03-08T09:26:51.387Z"
   },
   {
    "duration": 71,
    "start_time": "2024-03-08T09:26:51.555Z"
   },
   {
    "duration": 13,
    "start_time": "2024-03-08T09:26:51.805Z"
   },
   {
    "duration": 40,
    "start_time": "2024-03-08T09:26:54.143Z"
   },
   {
    "duration": 28,
    "start_time": "2024-03-08T09:26:54.255Z"
   },
   {
    "duration": 8,
    "start_time": "2024-03-08T09:26:54.533Z"
   },
   {
    "duration": 17,
    "start_time": "2024-03-08T09:26:54.722Z"
   },
   {
    "duration": 7,
    "start_time": "2024-03-08T09:26:55.190Z"
   },
   {
    "duration": 324,
    "start_time": "2024-03-08T09:26:55.274Z"
   },
   {
    "duration": 19,
    "start_time": "2024-03-08T09:26:56.238Z"
   },
   {
    "duration": 13,
    "start_time": "2024-03-08T09:26:57.286Z"
   },
   {
    "duration": 62,
    "start_time": "2024-03-08T09:26:57.489Z"
   },
   {
    "duration": 13,
    "start_time": "2024-03-08T09:26:57.822Z"
   },
   {
    "duration": 6,
    "start_time": "2024-03-08T09:26:58.336Z"
   },
   {
    "duration": 31,
    "start_time": "2024-03-08T09:27:02.529Z"
   },
   {
    "duration": 25,
    "start_time": "2024-03-08T09:27:04.676Z"
   },
   {
    "duration": 47,
    "start_time": "2024-03-08T09:27:08.491Z"
   },
   {
    "duration": 6,
    "start_time": "2024-03-08T09:27:12.358Z"
   },
   {
    "duration": 11,
    "start_time": "2024-03-08T09:27:20.581Z"
   },
   {
    "duration": 7,
    "start_time": "2024-03-08T09:27:29.000Z"
   },
   {
    "duration": 8,
    "start_time": "2024-03-08T09:28:19.599Z"
   },
   {
    "duration": 6,
    "start_time": "2024-03-08T09:28:21.172Z"
   },
   {
    "duration": 4,
    "start_time": "2024-03-08T09:28:26.986Z"
   },
   {
    "duration": 7,
    "start_time": "2024-03-08T09:28:28.252Z"
   },
   {
    "duration": 4,
    "start_time": "2024-03-08T09:28:35.851Z"
   },
   {
    "duration": 8,
    "start_time": "2024-03-08T09:28:55.994Z"
   },
   {
    "duration": 8,
    "start_time": "2024-03-08T09:38:19.652Z"
   },
   {
    "duration": 6,
    "start_time": "2024-03-08T09:38:26.371Z"
   },
   {
    "duration": 29,
    "start_time": "2024-03-08T09:38:26.955Z"
   },
   {
    "duration": 25,
    "start_time": "2024-03-08T09:38:29.336Z"
   },
   {
    "duration": 48,
    "start_time": "2024-03-08T09:38:30.439Z"
   },
   {
    "duration": 6,
    "start_time": "2024-03-08T09:38:30.910Z"
   },
   {
    "duration": 8,
    "start_time": "2024-03-08T09:38:31.073Z"
   },
   {
    "duration": 6,
    "start_time": "2024-03-08T09:38:31.973Z"
   },
   {
    "duration": 5,
    "start_time": "2024-03-08T09:38:33.160Z"
   },
   {
    "duration": 7,
    "start_time": "2024-03-08T09:38:34.252Z"
   },
   {
    "duration": 98,
    "start_time": "2024-03-08T09:38:36.357Z"
   },
   {
    "duration": 6,
    "start_time": "2024-03-08T09:38:40.377Z"
   },
   {
    "duration": 1632,
    "start_time": "2024-03-08T09:39:54.992Z"
   },
   {
    "duration": 1,
    "start_time": "2024-03-08T09:39:56.625Z"
   },
   {
    "duration": 7,
    "start_time": "2024-03-08T09:40:07.246Z"
   },
   {
    "duration": 1600,
    "start_time": "2024-03-08T09:41:23.401Z"
   },
   {
    "duration": 108,
    "start_time": "2024-03-08T09:41:39.522Z"
   },
   {
    "duration": 25,
    "start_time": "2024-03-08T09:43:31.600Z"
   },
   {
    "duration": 48,
    "start_time": "2024-03-08T09:43:34.066Z"
   },
   {
    "duration": 5,
    "start_time": "2024-03-08T09:43:34.633Z"
   },
   {
    "duration": 7,
    "start_time": "2024-03-08T09:43:35.567Z"
   },
   {
    "duration": 9,
    "start_time": "2024-03-08T09:43:36.568Z"
   },
   {
    "duration": 2,
    "start_time": "2024-03-08T09:43:38.400Z"
   },
   {
    "duration": 10,
    "start_time": "2024-03-08T09:43:39.057Z"
   },
   {
    "duration": 1518,
    "start_time": "2024-03-08T09:43:48.205Z"
   },
   {
    "duration": 1759,
    "start_time": "2024-03-08T09:44:08.427Z"
   },
   {
    "duration": 1602,
    "start_time": "2024-03-08T09:44:34.433Z"
   },
   {
    "duration": 1551,
    "start_time": "2024-03-08T09:44:49.312Z"
   },
   {
    "duration": 1638,
    "start_time": "2024-03-08T09:50:08.324Z"
   },
   {
    "duration": 102,
    "start_time": "2024-03-08T09:50:39.881Z"
   },
   {
    "duration": 4,
    "start_time": "2024-03-08T09:50:53.020Z"
   },
   {
    "duration": 4,
    "start_time": "2024-03-08T09:51:16.557Z"
   },
   {
    "duration": 6,
    "start_time": "2024-03-08T09:52:13.509Z"
   },
   {
    "duration": 5,
    "start_time": "2024-03-08T09:52:22.164Z"
   },
   {
    "duration": 4,
    "start_time": "2024-03-08T09:52:31.616Z"
   },
   {
    "duration": 103,
    "start_time": "2024-03-08T09:53:18.282Z"
   },
   {
    "duration": 97,
    "start_time": "2024-03-08T09:53:33.736Z"
   },
   {
    "duration": 99,
    "start_time": "2024-03-08T09:53:57.318Z"
   },
   {
    "duration": 1590,
    "start_time": "2024-03-08T09:54:14.266Z"
   },
   {
    "duration": 1660,
    "start_time": "2024-03-08T09:54:25.758Z"
   },
   {
    "duration": 1603,
    "start_time": "2024-03-08T09:54:38.324Z"
   },
   {
    "duration": 1534,
    "start_time": "2024-03-08T09:59:23.379Z"
   },
   {
    "duration": 1585,
    "start_time": "2024-03-08T09:59:32.930Z"
   },
   {
    "duration": 8,
    "start_time": "2024-03-08T09:59:43.534Z"
   },
   {
    "duration": 4,
    "start_time": "2024-03-08T10:00:49.885Z"
   },
   {
    "duration": 11,
    "start_time": "2024-03-08T10:00:52.507Z"
   },
   {
    "duration": 5,
    "start_time": "2024-03-08T10:01:07.426Z"
   },
   {
    "duration": 4,
    "start_time": "2024-03-08T10:01:08.310Z"
   },
   {
    "duration": 9,
    "start_time": "2024-03-08T10:01:11.011Z"
   },
   {
    "duration": 2,
    "start_time": "2024-03-08T10:01:43.956Z"
   },
   {
    "duration": 4,
    "start_time": "2024-03-08T10:01:44.573Z"
   },
   {
    "duration": 24,
    "start_time": "2024-03-08T10:01:51.750Z"
   },
   {
    "duration": 60,
    "start_time": "2024-03-08T10:01:52.990Z"
   },
   {
    "duration": 5,
    "start_time": "2024-03-08T10:01:55.947Z"
   },
   {
    "duration": 9,
    "start_time": "2024-03-08T10:01:59.615Z"
   },
   {
    "duration": 7,
    "start_time": "2024-03-08T10:02:02.862Z"
   },
   {
    "duration": 3,
    "start_time": "2024-03-08T10:02:07.674Z"
   },
   {
    "duration": 5,
    "start_time": "2024-03-08T10:02:08.199Z"
   },
   {
    "duration": 4,
    "start_time": "2024-03-08T10:02:20.060Z"
   },
   {
    "duration": 8,
    "start_time": "2024-03-08T10:02:22.159Z"
   },
   {
    "duration": 92,
    "start_time": "2024-03-08T10:06:06.571Z"
   },
   {
    "duration": 95,
    "start_time": "2024-03-08T10:06:13.424Z"
   },
   {
    "duration": 98,
    "start_time": "2024-03-08T10:06:16.055Z"
   },
   {
    "duration": 97,
    "start_time": "2024-03-08T10:06:51.639Z"
   },
   {
    "duration": 89,
    "start_time": "2024-03-08T10:06:53.756Z"
   },
   {
    "duration": 100,
    "start_time": "2024-03-08T10:06:59.760Z"
   },
   {
    "duration": 101,
    "start_time": "2024-03-08T10:07:06.489Z"
   },
   {
    "duration": 95,
    "start_time": "2024-03-08T10:07:11.562Z"
   },
   {
    "duration": 93,
    "start_time": "2024-03-08T10:07:16.280Z"
   },
   {
    "duration": 93,
    "start_time": "2024-03-08T10:07:19.426Z"
   },
   {
    "duration": 5,
    "start_time": "2024-03-08T10:10:01.178Z"
   },
   {
    "duration": 4,
    "start_time": "2024-03-08T10:10:03.060Z"
   },
   {
    "duration": 8,
    "start_time": "2024-03-08T10:11:13.125Z"
   },
   {
    "duration": 3,
    "start_time": "2024-03-08T10:11:14.173Z"
   },
   {
    "duration": 4,
    "start_time": "2024-03-08T10:11:15.222Z"
   },
   {
    "duration": 4,
    "start_time": "2024-03-08T10:11:24.272Z"
   },
   {
    "duration": 26,
    "start_time": "2024-03-08T10:11:24.278Z"
   },
   {
    "duration": 170,
    "start_time": "2024-03-08T10:11:24.305Z"
   },
   {
    "duration": 9,
    "start_time": "2024-03-08T10:11:24.477Z"
   },
   {
    "duration": 30,
    "start_time": "2024-03-08T10:11:24.488Z"
   },
   {
    "duration": 17,
    "start_time": "2024-03-08T10:11:24.519Z"
   },
   {
    "duration": 68,
    "start_time": "2024-03-08T10:11:24.537Z"
   },
   {
    "duration": 65,
    "start_time": "2024-03-08T10:11:24.606Z"
   },
   {
    "duration": 62,
    "start_time": "2024-03-08T10:11:24.672Z"
   },
   {
    "duration": 6,
    "start_time": "2024-03-08T10:11:24.735Z"
   },
   {
    "duration": 8,
    "start_time": "2024-03-08T10:11:24.743Z"
   },
   {
    "duration": 10,
    "start_time": "2024-03-08T10:11:24.753Z"
   },
   {
    "duration": 84,
    "start_time": "2024-03-08T10:11:24.765Z"
   },
   {
    "duration": 13,
    "start_time": "2024-03-08T10:11:24.851Z"
   },
   {
    "duration": 54,
    "start_time": "2024-03-08T10:11:24.865Z"
   },
   {
    "duration": 26,
    "start_time": "2024-03-08T10:11:24.921Z"
   },
   {
    "duration": 63,
    "start_time": "2024-03-08T10:11:24.948Z"
   },
   {
    "duration": 32,
    "start_time": "2024-03-08T10:11:25.013Z"
   },
   {
    "duration": 23,
    "start_time": "2024-03-08T10:11:25.047Z"
   },
   {
    "duration": 322,
    "start_time": "2024-03-08T10:11:25.072Z"
   },
   {
    "duration": 19,
    "start_time": "2024-03-08T10:11:25.396Z"
   },
   {
    "duration": 13,
    "start_time": "2024-03-08T10:11:25.417Z"
   },
   {
    "duration": 81,
    "start_time": "2024-03-08T10:11:25.431Z"
   },
   {
    "duration": 15,
    "start_time": "2024-03-08T10:11:25.514Z"
   },
   {
    "duration": 32,
    "start_time": "2024-03-08T10:11:25.530Z"
   },
   {
    "duration": 51,
    "start_time": "2024-03-08T10:11:25.563Z"
   },
   {
    "duration": 24,
    "start_time": "2024-03-08T10:11:25.616Z"
   },
   {
    "duration": 58,
    "start_time": "2024-03-08T10:11:25.642Z"
   },
   {
    "duration": 6,
    "start_time": "2024-03-08T10:11:25.701Z"
   },
   {
    "duration": 26,
    "start_time": "2024-03-08T10:11:25.708Z"
   },
   {
    "duration": 11,
    "start_time": "2024-03-08T10:11:25.736Z"
   },
   {
    "duration": 23,
    "start_time": "2024-03-08T10:11:25.749Z"
   },
   {
    "duration": 29,
    "start_time": "2024-03-08T10:11:25.773Z"
   },
   {
    "duration": 37,
    "start_time": "2024-03-08T10:11:25.803Z"
   },
   {
    "duration": 4,
    "start_time": "2024-03-08T10:21:52.356Z"
   },
   {
    "duration": 4,
    "start_time": "2024-03-08T10:21:54.164Z"
   },
   {
    "duration": 9,
    "start_time": "2024-03-08T10:21:55.697Z"
   },
   {
    "duration": 128,
    "start_time": "2024-03-08T10:22:12.278Z"
   },
   {
    "duration": 4,
    "start_time": "2024-03-08T10:22:41.639Z"
   },
   {
    "duration": 7,
    "start_time": "2024-03-08T10:22:42.914Z"
   },
   {
    "duration": 3,
    "start_time": "2024-03-08T10:23:05.439Z"
   },
   {
    "duration": 91,
    "start_time": "2024-03-08T10:23:05.444Z"
   },
   {
    "duration": 169,
    "start_time": "2024-03-08T10:23:05.536Z"
   },
   {
    "duration": 9,
    "start_time": "2024-03-08T10:23:05.706Z"
   },
   {
    "duration": 43,
    "start_time": "2024-03-08T10:23:05.717Z"
   },
   {
    "duration": 34,
    "start_time": "2024-03-08T10:23:05.761Z"
   },
   {
    "duration": 57,
    "start_time": "2024-03-08T10:23:05.797Z"
   },
   {
    "duration": 92,
    "start_time": "2024-03-08T10:23:05.856Z"
   },
   {
    "duration": 57,
    "start_time": "2024-03-08T10:23:05.949Z"
   },
   {
    "duration": 5,
    "start_time": "2024-03-08T10:23:06.008Z"
   },
   {
    "duration": 46,
    "start_time": "2024-03-08T10:23:06.014Z"
   },
   {
    "duration": 37,
    "start_time": "2024-03-08T10:23:06.061Z"
   },
   {
    "duration": 77,
    "start_time": "2024-03-08T10:23:06.100Z"
   },
   {
    "duration": 18,
    "start_time": "2024-03-08T10:23:06.180Z"
   },
   {
    "duration": 70,
    "start_time": "2024-03-08T10:23:06.200Z"
   },
   {
    "duration": 26,
    "start_time": "2024-03-08T10:23:06.271Z"
   },
   {
    "duration": 23,
    "start_time": "2024-03-08T10:23:06.298Z"
   },
   {
    "duration": 34,
    "start_time": "2024-03-08T10:23:06.323Z"
   },
   {
    "duration": 7,
    "start_time": "2024-03-08T10:23:06.358Z"
   },
   {
    "duration": 330,
    "start_time": "2024-03-08T10:23:06.366Z"
   },
   {
    "duration": 19,
    "start_time": "2024-03-08T10:23:06.697Z"
   },
   {
    "duration": 22,
    "start_time": "2024-03-08T10:23:06.717Z"
   },
   {
    "duration": 68,
    "start_time": "2024-03-08T10:23:06.741Z"
   },
   {
    "duration": 15,
    "start_time": "2024-03-08T10:23:06.811Z"
   },
   {
    "duration": 10,
    "start_time": "2024-03-08T10:23:06.828Z"
   },
   {
    "duration": 106,
    "start_time": "2024-03-08T10:23:06.840Z"
   },
   {
    "duration": 121,
    "start_time": "2024-03-08T10:23:06.947Z"
   },
   {
    "duration": 93,
    "start_time": "2024-03-08T10:23:07.069Z"
   },
   {
    "duration": 5,
    "start_time": "2024-03-08T10:23:07.164Z"
   },
   {
    "duration": 29,
    "start_time": "2024-03-08T10:23:07.170Z"
   },
   {
    "duration": 36,
    "start_time": "2024-03-08T10:23:07.201Z"
   },
   {
    "duration": 27,
    "start_time": "2024-03-08T10:23:07.239Z"
   },
   {
    "duration": 17,
    "start_time": "2024-03-08T10:23:07.267Z"
   },
   {
    "duration": 31,
    "start_time": "2024-03-08T10:23:07.286Z"
   },
   {
    "duration": 6,
    "start_time": "2024-03-08T10:25:47.758Z"
   },
   {
    "duration": 31,
    "start_time": "2024-03-08T10:37:40.784Z"
   },
   {
    "duration": 82,
    "start_time": "2024-03-08T14:22:17.985Z"
   },
   {
    "duration": 3,
    "start_time": "2024-03-08T14:22:32.534Z"
   },
   {
    "duration": 16,
    "start_time": "2024-03-08T14:22:32.538Z"
   },
   {
    "duration": 181,
    "start_time": "2024-03-08T14:22:32.555Z"
   },
   {
    "duration": 9,
    "start_time": "2024-03-08T14:22:32.738Z"
   },
   {
    "duration": 47,
    "start_time": "2024-03-08T14:22:32.749Z"
   },
   {
    "duration": 52,
    "start_time": "2024-03-08T14:22:32.798Z"
   },
   {
    "duration": 115,
    "start_time": "2024-03-08T14:22:32.851Z"
   },
   {
    "duration": 111,
    "start_time": "2024-03-08T14:22:32.967Z"
   },
   {
    "duration": 51,
    "start_time": "2024-03-08T14:22:33.079Z"
   },
   {
    "duration": 22,
    "start_time": "2024-03-08T14:22:33.131Z"
   },
   {
    "duration": 19,
    "start_time": "2024-03-08T14:22:33.154Z"
   },
   {
    "duration": 28,
    "start_time": "2024-03-08T14:22:33.174Z"
   },
   {
    "duration": 66,
    "start_time": "2024-03-08T14:22:33.204Z"
   },
   {
    "duration": 35,
    "start_time": "2024-03-08T14:22:33.273Z"
   },
   {
    "duration": 60,
    "start_time": "2024-03-08T14:22:33.310Z"
   },
   {
    "duration": 24,
    "start_time": "2024-03-08T14:22:33.372Z"
   },
   {
    "duration": 19,
    "start_time": "2024-03-08T14:22:33.397Z"
   },
   {
    "duration": 21,
    "start_time": "2024-03-08T14:22:33.417Z"
   },
   {
    "duration": 11,
    "start_time": "2024-03-08T14:22:33.440Z"
   },
   {
    "duration": 323,
    "start_time": "2024-03-08T14:22:33.452Z"
   },
   {
    "duration": 23,
    "start_time": "2024-03-08T14:22:33.777Z"
   },
   {
    "duration": 12,
    "start_time": "2024-03-08T14:22:33.802Z"
   },
   {
    "duration": 78,
    "start_time": "2024-03-08T14:22:33.816Z"
   },
   {
    "duration": 16,
    "start_time": "2024-03-08T14:22:33.895Z"
   },
   {
    "duration": 16,
    "start_time": "2024-03-08T14:22:33.913Z"
   },
   {
    "duration": 30,
    "start_time": "2024-03-08T14:22:33.931Z"
   },
   {
    "duration": 40,
    "start_time": "2024-03-08T14:22:33.963Z"
   },
   {
    "duration": 50,
    "start_time": "2024-03-08T14:22:34.004Z"
   },
   {
    "duration": 5,
    "start_time": "2024-03-08T14:22:34.056Z"
   },
   {
    "duration": 14,
    "start_time": "2024-03-08T14:22:34.063Z"
   },
   {
    "duration": 19,
    "start_time": "2024-03-08T14:22:34.078Z"
   },
   {
    "duration": 10,
    "start_time": "2024-03-08T14:22:34.098Z"
   },
   {
    "duration": 13,
    "start_time": "2024-03-08T14:22:34.110Z"
   },
   {
    "duration": 8,
    "start_time": "2024-03-08T14:22:34.125Z"
   },
   {
    "duration": 58,
    "start_time": "2024-03-08T14:22:34.134Z"
   },
   {
    "duration": 3,
    "start_time": "2024-03-08T14:22:48.263Z"
   },
   {
    "duration": 3,
    "start_time": "2024-03-08T14:22:48.918Z"
   },
   {
    "duration": 181,
    "start_time": "2024-03-08T14:22:48.923Z"
   },
   {
    "duration": 8,
    "start_time": "2024-03-08T14:22:49.125Z"
   },
   {
    "duration": 19,
    "start_time": "2024-03-08T14:22:49.559Z"
   },
   {
    "duration": 15,
    "start_time": "2024-03-08T14:22:49.742Z"
   },
   {
    "duration": 54,
    "start_time": "2024-03-08T14:22:49.979Z"
   },
   {
    "duration": 57,
    "start_time": "2024-03-08T14:22:50.159Z"
   },
   {
    "duration": 53,
    "start_time": "2024-03-08T14:22:50.391Z"
   },
   {
    "duration": 4,
    "start_time": "2024-03-08T14:22:50.608Z"
   },
   {
    "duration": 6,
    "start_time": "2024-03-08T14:22:50.777Z"
   },
   {
    "duration": 7,
    "start_time": "2024-03-08T14:22:51.015Z"
   },
   {
    "duration": 68,
    "start_time": "2024-03-08T14:22:51.159Z"
   },
   {
    "duration": 21,
    "start_time": "2024-03-08T14:22:51.407Z"
   },
   {
    "duration": 37,
    "start_time": "2024-03-08T14:22:52.065Z"
   },
   {
    "duration": 24,
    "start_time": "2024-03-08T14:22:52.160Z"
   },
   {
    "duration": 7,
    "start_time": "2024-03-08T14:22:52.458Z"
   },
   {
    "duration": 16,
    "start_time": "2024-03-08T14:22:52.588Z"
   },
   {
    "duration": 8,
    "start_time": "2024-03-08T14:22:52.793Z"
   },
   {
    "duration": 308,
    "start_time": "2024-03-08T14:22:53.111Z"
   },
   {
    "duration": 18,
    "start_time": "2024-03-08T14:22:53.421Z"
   },
   {
    "duration": 13,
    "start_time": "2024-03-08T14:22:53.637Z"
   },
   {
    "duration": 62,
    "start_time": "2024-03-08T14:22:53.811Z"
   },
   {
    "duration": 16,
    "start_time": "2024-03-08T14:22:54.160Z"
   },
   {
    "duration": 6,
    "start_time": "2024-03-08T14:22:54.243Z"
   },
   {
    "duration": 28,
    "start_time": "2024-03-08T14:22:54.443Z"
   },
   {
    "duration": 25,
    "start_time": "2024-03-08T14:22:55.407Z"
   },
   {
    "duration": 46,
    "start_time": "2024-03-08T14:22:55.930Z"
   },
   {
    "duration": 18,
    "start_time": "2024-03-08T14:22:55.978Z"
   },
   {
    "duration": 8,
    "start_time": "2024-03-08T14:22:56.257Z"
   },
   {
    "duration": 6,
    "start_time": "2024-03-08T14:22:56.782Z"
   },
   {
    "duration": 2,
    "start_time": "2024-03-08T14:22:56.912Z"
   },
   {
    "duration": 5,
    "start_time": "2024-03-08T14:22:57.832Z"
   },
   {
    "duration": 8,
    "start_time": "2024-03-08T14:22:58.354Z"
   },
   {
    "duration": 13,
    "start_time": "2024-03-08T14:54:46.742Z"
   },
   {
    "duration": 9,
    "start_time": "2024-03-08T14:55:23.066Z"
   },
   {
    "duration": 11,
    "start_time": "2024-03-08T14:56:23.835Z"
   },
   {
    "duration": 3,
    "start_time": "2024-03-08T14:56:31.255Z"
   },
   {
    "duration": 2,
    "start_time": "2024-03-08T14:56:31.598Z"
   },
   {
    "duration": 169,
    "start_time": "2024-03-08T14:56:31.855Z"
   },
   {
    "duration": 9,
    "start_time": "2024-03-08T14:56:32.122Z"
   },
   {
    "duration": 32,
    "start_time": "2024-03-08T14:56:32.648Z"
   },
   {
    "duration": 46,
    "start_time": "2024-03-08T14:56:32.706Z"
   },
   {
    "duration": 50,
    "start_time": "2024-03-08T14:56:32.889Z"
   },
   {
    "duration": 60,
    "start_time": "2024-03-08T14:56:33.170Z"
   },
   {
    "duration": 135,
    "start_time": "2024-03-08T14:56:33.322Z"
   },
   {
    "duration": 5,
    "start_time": "2024-03-08T14:56:33.694Z"
   },
   {
    "duration": 77,
    "start_time": "2024-03-08T14:56:33.707Z"
   },
   {
    "duration": 7,
    "start_time": "2024-03-08T14:56:34.087Z"
   },
   {
    "duration": 77,
    "start_time": "2024-03-08T14:56:34.104Z"
   },
   {
    "duration": 14,
    "start_time": "2024-03-08T14:56:34.323Z"
   },
   {
    "duration": 69,
    "start_time": "2024-03-08T14:56:34.989Z"
   },
   {
    "duration": 25,
    "start_time": "2024-03-08T14:56:35.269Z"
   },
   {
    "duration": 8,
    "start_time": "2024-03-08T14:56:35.389Z"
   },
   {
    "duration": 17,
    "start_time": "2024-03-08T14:56:35.792Z"
   },
   {
    "duration": 31,
    "start_time": "2024-03-08T14:56:35.810Z"
   },
   {
    "duration": 319,
    "start_time": "2024-03-08T14:56:36.022Z"
   },
   {
    "duration": 17,
    "start_time": "2024-03-08T14:56:36.515Z"
   },
   {
    "duration": 16,
    "start_time": "2024-03-08T14:56:37.035Z"
   },
   {
    "duration": 90,
    "start_time": "2024-03-08T14:56:37.053Z"
   },
   {
    "duration": 15,
    "start_time": "2024-03-08T14:56:37.366Z"
   },
   {
    "duration": 7,
    "start_time": "2024-03-08T14:56:37.442Z"
   },
   {
    "duration": 29,
    "start_time": "2024-03-08T14:56:37.890Z"
   },
   {
    "duration": 32,
    "start_time": "2024-03-08T14:56:38.939Z"
   },
   {
    "duration": 46,
    "start_time": "2024-03-08T14:56:39.208Z"
   },
   {
    "duration": 6,
    "start_time": "2024-03-08T14:56:39.473Z"
   },
   {
    "duration": 8,
    "start_time": "2024-03-08T14:56:39.757Z"
   },
   {
    "duration": 7,
    "start_time": "2024-03-08T14:56:40.006Z"
   },
   {
    "duration": 2,
    "start_time": "2024-03-08T14:56:41.036Z"
   },
   {
    "duration": 4,
    "start_time": "2024-03-08T14:56:41.561Z"
   },
   {
    "duration": 8,
    "start_time": "2024-03-08T14:56:41.725Z"
   },
   {
    "duration": 28,
    "start_time": "2024-03-08T14:56:43.133Z"
   },
   {
    "duration": 8,
    "start_time": "2024-03-08T14:56:44.181Z"
   },
   {
    "duration": 4,
    "start_time": "2024-03-08T14:57:58.915Z"
   },
   {
    "duration": 4,
    "start_time": "2024-03-08T14:57:59.683Z"
   },
   {
    "duration": 3,
    "start_time": "2024-03-08T14:58:00.726Z"
   },
   {
    "duration": 201,
    "start_time": "2024-03-08T14:58:00.803Z"
   },
   {
    "duration": 9,
    "start_time": "2024-03-08T14:58:01.120Z"
   },
   {
    "duration": 21,
    "start_time": "2024-03-08T14:58:01.481Z"
   },
   {
    "duration": 16,
    "start_time": "2024-03-08T14:58:01.772Z"
   },
   {
    "duration": 49,
    "start_time": "2024-03-08T14:58:01.851Z"
   },
   {
    "duration": 76,
    "start_time": "2024-03-08T14:58:02.017Z"
   },
   {
    "duration": 53,
    "start_time": "2024-03-08T14:58:02.298Z"
   },
   {
    "duration": 5,
    "start_time": "2024-03-08T14:58:02.400Z"
   },
   {
    "duration": 7,
    "start_time": "2024-03-08T14:58:02.583Z"
   },
   {
    "duration": 7,
    "start_time": "2024-03-08T14:58:02.823Z"
   },
   {
    "duration": 69,
    "start_time": "2024-03-08T14:58:03.000Z"
   },
   {
    "duration": 138,
    "start_time": "2024-03-08T14:58:03.227Z"
   },
   {
    "duration": 53,
    "start_time": "2024-03-08T14:58:03.872Z"
   },
   {
    "duration": 26,
    "start_time": "2024-03-08T14:58:03.999Z"
   },
   {
    "duration": 8,
    "start_time": "2024-03-08T14:58:04.265Z"
   },
   {
    "duration": 16,
    "start_time": "2024-03-08T14:58:04.418Z"
   },
   {
    "duration": 8,
    "start_time": "2024-03-08T14:58:04.922Z"
   },
   {
    "duration": 400,
    "start_time": "2024-03-08T14:58:04.932Z"
   },
   {
    "duration": 19,
    "start_time": "2024-03-08T14:58:05.712Z"
   },
   {
    "duration": 13,
    "start_time": "2024-03-08T14:58:05.733Z"
   },
   {
    "duration": 79,
    "start_time": "2024-03-08T14:58:05.969Z"
   },
   {
    "duration": 16,
    "start_time": "2024-03-08T14:58:06.049Z"
   },
   {
    "duration": 6,
    "start_time": "2024-03-08T14:58:06.250Z"
   },
   {
    "duration": 29,
    "start_time": "2024-03-08T14:58:06.689Z"
   },
   {
    "duration": 41,
    "start_time": "2024-03-08T14:58:07.584Z"
   },
   {
    "duration": 49,
    "start_time": "2024-03-08T14:58:08.084Z"
   },
   {
    "duration": 6,
    "start_time": "2024-03-08T14:58:08.286Z"
   },
   {
    "duration": 7,
    "start_time": "2024-03-08T14:58:08.589Z"
   },
   {
    "duration": 7,
    "start_time": "2024-03-08T14:58:08.751Z"
   },
   {
    "duration": 2,
    "start_time": "2024-03-08T14:58:09.184Z"
   },
   {
    "duration": 5,
    "start_time": "2024-03-08T14:58:09.718Z"
   },
   {
    "duration": 8,
    "start_time": "2024-03-08T14:58:10.163Z"
   },
   {
    "duration": 30,
    "start_time": "2024-03-08T14:58:11.604Z"
   },
   {
    "duration": 9,
    "start_time": "2024-03-08T14:58:12.469Z"
   },
   {
    "duration": 8,
    "start_time": "2024-03-08T15:00:19.760Z"
   },
   {
    "duration": 7,
    "start_time": "2024-03-08T15:00:30.867Z"
   },
   {
    "duration": 19,
    "start_time": "2024-03-08T15:01:01.079Z"
   },
   {
    "duration": 5,
    "start_time": "2024-03-08T15:01:02.156Z"
   },
   {
    "duration": 65,
    "start_time": "2024-03-08T15:26:53.150Z"
   },
   {
    "duration": 100,
    "start_time": "2024-03-08T15:28:52.060Z"
   },
   {
    "duration": 67,
    "start_time": "2024-03-08T15:30:27.385Z"
   },
   {
    "duration": 7,
    "start_time": "2024-03-08T15:38:51.912Z"
   },
   {
    "duration": 1619,
    "start_time": "2024-03-08T15:40:16.170Z"
   },
   {
    "duration": 0,
    "start_time": "2024-03-08T15:40:17.790Z"
   },
   {
    "duration": 62,
    "start_time": "2024-03-08T15:40:27.925Z"
   },
   {
    "duration": 8,
    "start_time": "2024-03-08T15:40:29.980Z"
   },
   {
    "duration": 224,
    "start_time": "2024-03-08T15:58:39.767Z"
   },
   {
    "duration": 13,
    "start_time": "2024-03-08T15:58:55.689Z"
   },
   {
    "duration": 99,
    "start_time": "2024-03-08T15:59:34.566Z"
   },
   {
    "duration": 102,
    "start_time": "2024-03-08T15:59:56.310Z"
   },
   {
    "duration": 13,
    "start_time": "2024-03-08T16:02:20.266Z"
   },
   {
    "duration": 23,
    "start_time": "2024-03-08T16:02:53.386Z"
   },
   {
    "duration": 33,
    "start_time": "2024-03-08T16:03:19.967Z"
   },
   {
    "duration": 20,
    "start_time": "2024-03-08T16:03:26.805Z"
   },
   {
    "duration": 27,
    "start_time": "2024-03-08T16:03:48.043Z"
   },
   {
    "duration": 17,
    "start_time": "2024-03-08T16:04:45.395Z"
   },
   {
    "duration": 24,
    "start_time": "2024-03-08T16:05:09.018Z"
   },
   {
    "duration": 5,
    "start_time": "2024-03-09T08:30:22.810Z"
   },
   {
    "duration": 3,
    "start_time": "2024-03-09T08:30:23.316Z"
   },
   {
    "duration": 195,
    "start_time": "2024-03-09T08:30:23.838Z"
   },
   {
    "duration": 10,
    "start_time": "2024-03-09T08:30:24.034Z"
   },
   {
    "duration": 24,
    "start_time": "2024-03-09T08:30:24.284Z"
   },
   {
    "duration": 16,
    "start_time": "2024-03-09T08:30:24.560Z"
   },
   {
    "duration": 64,
    "start_time": "2024-03-09T08:30:24.976Z"
   },
   {
    "duration": 64,
    "start_time": "2024-03-09T08:30:25.741Z"
   },
   {
    "duration": 67,
    "start_time": "2024-03-09T08:30:25.993Z"
   },
   {
    "duration": 5,
    "start_time": "2024-03-09T08:30:26.265Z"
   },
   {
    "duration": 7,
    "start_time": "2024-03-09T08:30:26.543Z"
   },
   {
    "duration": 8,
    "start_time": "2024-03-09T08:30:26.809Z"
   },
   {
    "duration": 78,
    "start_time": "2024-03-09T08:30:27.059Z"
   },
   {
    "duration": 15,
    "start_time": "2024-03-09T08:30:27.314Z"
   },
   {
    "duration": 53,
    "start_time": "2024-03-09T08:30:28.078Z"
   },
   {
    "duration": 25,
    "start_time": "2024-03-09T08:30:28.362Z"
   },
   {
    "duration": 9,
    "start_time": "2024-03-09T08:30:28.544Z"
   },
   {
    "duration": 28,
    "start_time": "2024-03-09T08:30:28.795Z"
   },
   {
    "duration": 9,
    "start_time": "2024-03-09T08:30:29.029Z"
   },
   {
    "duration": 330,
    "start_time": "2024-03-09T08:30:29.410Z"
   },
   {
    "duration": 17,
    "start_time": "2024-03-09T08:30:29.804Z"
   },
   {
    "duration": 13,
    "start_time": "2024-03-09T08:30:30.077Z"
   },
   {
    "duration": 60,
    "start_time": "2024-03-09T08:30:30.458Z"
   },
   {
    "duration": 46,
    "start_time": "2024-03-09T08:30:30.594Z"
   },
   {
    "duration": 6,
    "start_time": "2024-03-09T08:30:30.852Z"
   },
   {
    "duration": 33,
    "start_time": "2024-03-09T08:30:31.110Z"
   },
   {
    "duration": 24,
    "start_time": "2024-03-09T08:30:32.227Z"
   },
   {
    "duration": 47,
    "start_time": "2024-03-09T08:30:33.079Z"
   },
   {
    "duration": 6,
    "start_time": "2024-03-09T08:30:33.605Z"
   },
   {
    "duration": 11,
    "start_time": "2024-03-09T08:30:33.997Z"
   },
   {
    "duration": 10,
    "start_time": "2024-03-09T08:30:34.412Z"
   },
   {
    "duration": 4,
    "start_time": "2024-03-09T08:31:28.654Z"
   },
   {
    "duration": 7,
    "start_time": "2024-03-09T08:31:30.347Z"
   },
   {
    "duration": 28,
    "start_time": "2024-03-09T08:31:55.971Z"
   },
   {
    "duration": 3,
    "start_time": "2024-03-09T08:31:57.489Z"
   },
   {
    "duration": 2,
    "start_time": "2024-03-09T08:31:58.539Z"
   },
   {
    "duration": 70,
    "start_time": "2024-03-09T08:32:12.811Z"
   },
   {
    "duration": 7,
    "start_time": "2024-03-09T08:32:13.610Z"
   },
   {
    "duration": 21,
    "start_time": "2024-03-09T08:32:24.751Z"
   },
   {
    "duration": 19,
    "start_time": "2024-03-09T08:32:35.933Z"
   },
   {
    "duration": 4,
    "start_time": "2024-03-09T08:33:02.500Z"
   },
   {
    "duration": 22,
    "start_time": "2024-03-09T08:33:09.592Z"
   },
   {
    "duration": 21,
    "start_time": "2024-03-09T08:33:14.755Z"
   },
   {
    "duration": 3,
    "start_time": "2024-03-09T08:33:21.467Z"
   },
   {
    "duration": 20,
    "start_time": "2024-03-09T08:33:21.471Z"
   },
   {
    "duration": 205,
    "start_time": "2024-03-09T08:33:21.492Z"
   },
   {
    "duration": 10,
    "start_time": "2024-03-09T08:33:21.699Z"
   },
   {
    "duration": 46,
    "start_time": "2024-03-09T08:33:21.711Z"
   },
   {
    "duration": 16,
    "start_time": "2024-03-09T08:33:21.758Z"
   },
   {
    "duration": 70,
    "start_time": "2024-03-09T08:33:21.775Z"
   },
   {
    "duration": 68,
    "start_time": "2024-03-09T08:33:21.847Z"
   },
   {
    "duration": 54,
    "start_time": "2024-03-09T08:33:21.917Z"
   },
   {
    "duration": 6,
    "start_time": "2024-03-09T08:33:21.974Z"
   },
   {
    "duration": 29,
    "start_time": "2024-03-09T08:33:21.981Z"
   },
   {
    "duration": 13,
    "start_time": "2024-03-09T08:33:22.012Z"
   },
   {
    "duration": 75,
    "start_time": "2024-03-09T08:33:22.027Z"
   },
   {
    "duration": 22,
    "start_time": "2024-03-09T08:33:22.104Z"
   },
   {
    "duration": 44,
    "start_time": "2024-03-09T08:33:22.127Z"
   },
   {
    "duration": 39,
    "start_time": "2024-03-09T08:33:22.173Z"
   },
   {
    "duration": 15,
    "start_time": "2024-03-09T08:33:22.214Z"
   },
   {
    "duration": 18,
    "start_time": "2024-03-09T08:33:22.230Z"
   },
   {
    "duration": 6,
    "start_time": "2024-03-09T08:33:22.249Z"
   },
   {
    "duration": 355,
    "start_time": "2024-03-09T08:33:22.257Z"
   },
   {
    "duration": 18,
    "start_time": "2024-03-09T08:33:22.614Z"
   },
   {
    "duration": 13,
    "start_time": "2024-03-09T08:33:22.633Z"
   },
   {
    "duration": 91,
    "start_time": "2024-03-09T08:33:22.647Z"
   },
   {
    "duration": 16,
    "start_time": "2024-03-09T08:33:22.740Z"
   },
   {
    "duration": 19,
    "start_time": "2024-03-09T08:33:22.757Z"
   },
   {
    "duration": 47,
    "start_time": "2024-03-09T08:33:22.778Z"
   },
   {
    "duration": 24,
    "start_time": "2024-03-09T08:33:22.827Z"
   },
   {
    "duration": 71,
    "start_time": "2024-03-09T08:33:22.855Z"
   },
   {
    "duration": 6,
    "start_time": "2024-03-09T08:33:22.927Z"
   },
   {
    "duration": 34,
    "start_time": "2024-03-09T08:33:22.935Z"
   },
   {
    "duration": 12,
    "start_time": "2024-03-09T08:33:22.971Z"
   },
   {
    "duration": 4,
    "start_time": "2024-03-09T08:33:22.984Z"
   },
   {
    "duration": 11,
    "start_time": "2024-03-09T08:33:22.989Z"
   },
   {
    "duration": 22,
    "start_time": "2024-03-09T08:33:23.002Z"
   },
   {
    "duration": 38,
    "start_time": "2024-03-09T08:33:23.026Z"
   },
   {
    "duration": 2,
    "start_time": "2024-03-09T08:33:23.066Z"
   },
   {
    "duration": 9,
    "start_time": "2024-03-09T08:33:23.069Z"
   },
   {
    "duration": 68,
    "start_time": "2024-03-09T08:33:23.080Z"
   },
   {
    "duration": 7,
    "start_time": "2024-03-09T08:33:23.149Z"
   },
   {
    "duration": 68,
    "start_time": "2024-03-09T08:33:23.157Z"
   },
   {
    "duration": 3,
    "start_time": "2024-03-09T08:34:00.171Z"
   },
   {
    "duration": 32,
    "start_time": "2024-03-09T08:34:01.344Z"
   },
   {
    "duration": 3,
    "start_time": "2024-03-09T08:34:01.885Z"
   },
   {
    "duration": 2,
    "start_time": "2024-03-09T08:34:02.294Z"
   },
   {
    "duration": 69,
    "start_time": "2024-03-09T08:34:02.683Z"
   },
   {
    "duration": 8,
    "start_time": "2024-03-09T08:34:03.316Z"
   },
   {
    "duration": 19,
    "start_time": "2024-03-09T08:34:04.365Z"
   },
   {
    "duration": 21,
    "start_time": "2024-03-09T08:34:11.830Z"
   },
   {
    "duration": 7,
    "start_time": "2024-03-09T08:34:19.133Z"
   },
   {
    "duration": 19,
    "start_time": "2024-03-09T08:34:46.460Z"
   },
   {
    "duration": 3,
    "start_time": "2024-03-09T08:35:18.818Z"
   },
   {
    "duration": 4,
    "start_time": "2024-03-09T08:35:37.308Z"
   },
   {
    "duration": 2,
    "start_time": "2024-03-09T08:35:37.790Z"
   },
   {
    "duration": 181,
    "start_time": "2024-03-09T08:35:38.080Z"
   },
   {
    "duration": 11,
    "start_time": "2024-03-09T08:35:38.409Z"
   },
   {
    "duration": 38,
    "start_time": "2024-03-09T08:35:38.931Z"
   },
   {
    "duration": 40,
    "start_time": "2024-03-09T08:35:38.971Z"
   },
   {
    "duration": 79,
    "start_time": "2024-03-09T08:35:39.013Z"
   },
   {
    "duration": 65,
    "start_time": "2024-03-09T08:35:39.259Z"
   },
   {
    "duration": 52,
    "start_time": "2024-03-09T08:35:39.327Z"
   },
   {
    "duration": 6,
    "start_time": "2024-03-09T08:35:39.494Z"
   },
   {
    "duration": 7,
    "start_time": "2024-03-09T08:35:39.783Z"
   },
   {
    "duration": 7,
    "start_time": "2024-03-09T08:35:39.891Z"
   },
   {
    "duration": 80,
    "start_time": "2024-03-09T08:35:40.178Z"
   },
   {
    "duration": 12,
    "start_time": "2024-03-09T08:35:40.308Z"
   },
   {
    "duration": 55,
    "start_time": "2024-03-09T08:35:40.891Z"
   },
   {
    "duration": 30,
    "start_time": "2024-03-09T08:35:41.108Z"
   },
   {
    "duration": 7,
    "start_time": "2024-03-09T08:35:41.357Z"
   },
   {
    "duration": 17,
    "start_time": "2024-03-09T08:35:41.524Z"
   },
   {
    "duration": 6,
    "start_time": "2024-03-09T08:35:41.882Z"
   },
   {
    "duration": 353,
    "start_time": "2024-03-09T08:35:41.941Z"
   },
   {
    "duration": 17,
    "start_time": "2024-03-09T08:35:42.405Z"
   },
   {
    "duration": 13,
    "start_time": "2024-03-09T08:35:42.560Z"
   },
   {
    "duration": 61,
    "start_time": "2024-03-09T08:35:42.930Z"
   },
   {
    "duration": 16,
    "start_time": "2024-03-09T08:35:42.993Z"
   },
   {
    "duration": 7,
    "start_time": "2024-03-09T08:35:43.219Z"
   },
   {
    "duration": 39,
    "start_time": "2024-03-09T08:35:43.455Z"
   },
   {
    "duration": 25,
    "start_time": "2024-03-09T08:35:44.642Z"
   },
   {
    "duration": 47,
    "start_time": "2024-03-09T08:35:45.459Z"
   },
   {
    "duration": 7,
    "start_time": "2024-03-09T08:35:45.828Z"
   },
   {
    "duration": 8,
    "start_time": "2024-03-09T08:35:46.075Z"
   },
   {
    "duration": 7,
    "start_time": "2024-03-09T08:35:46.195Z"
   },
   {
    "duration": 2,
    "start_time": "2024-03-09T08:35:46.659Z"
   },
   {
    "duration": 4,
    "start_time": "2024-03-09T08:35:47.321Z"
   },
   {
    "duration": 7,
    "start_time": "2024-03-09T08:35:47.845Z"
   },
   {
    "duration": 31,
    "start_time": "2024-03-09T08:35:48.944Z"
   },
   {
    "duration": 2,
    "start_time": "2024-03-09T08:35:49.411Z"
   },
   {
    "duration": 2,
    "start_time": "2024-03-09T08:35:49.645Z"
   },
   {
    "duration": 60,
    "start_time": "2024-03-09T08:35:49.911Z"
   },
   {
    "duration": 6,
    "start_time": "2024-03-09T08:35:50.269Z"
   },
   {
    "duration": 22,
    "start_time": "2024-03-09T08:35:52.479Z"
   },
   {
    "duration": 20,
    "start_time": "2024-03-09T08:37:35.446Z"
   },
   {
    "duration": 12,
    "start_time": "2024-03-09T08:37:47.710Z"
   },
   {
    "duration": 14,
    "start_time": "2024-03-09T08:38:08.354Z"
   },
   {
    "duration": 21,
    "start_time": "2024-03-09T08:38:38.231Z"
   },
   {
    "duration": 4,
    "start_time": "2024-03-09T08:39:07.401Z"
   },
   {
    "duration": 4,
    "start_time": "2024-03-09T08:39:11.070Z"
   },
   {
    "duration": 33,
    "start_time": "2024-03-09T08:39:12.190Z"
   },
   {
    "duration": 4,
    "start_time": "2024-03-09T08:39:16.838Z"
   },
   {
    "duration": 34,
    "start_time": "2024-03-09T08:48:41.585Z"
   },
   {
    "duration": 6,
    "start_time": "2024-03-09T08:48:48.736Z"
   },
   {
    "duration": 22,
    "start_time": "2024-03-09T08:48:53.696Z"
   },
   {
    "duration": 3,
    "start_time": "2024-03-09T08:52:38.275Z"
   },
   {
    "duration": 2,
    "start_time": "2024-03-09T08:52:40.010Z"
   },
   {
    "duration": 160,
    "start_time": "2024-03-09T08:52:40.626Z"
   },
   {
    "duration": 9,
    "start_time": "2024-03-09T08:52:41.210Z"
   },
   {
    "duration": 20,
    "start_time": "2024-03-09T08:52:42.459Z"
   },
   {
    "duration": 15,
    "start_time": "2024-03-09T08:52:42.977Z"
   },
   {
    "duration": 53,
    "start_time": "2024-03-09T08:52:43.576Z"
   },
   {
    "duration": 60,
    "start_time": "2024-03-09T08:52:44.077Z"
   },
   {
    "duration": 54,
    "start_time": "2024-03-09T08:52:44.544Z"
   },
   {
    "duration": 5,
    "start_time": "2024-03-09T08:52:45.128Z"
   },
   {
    "duration": 6,
    "start_time": "2024-03-09T08:52:45.678Z"
   },
   {
    "duration": 6,
    "start_time": "2024-03-09T08:52:46.261Z"
   },
   {
    "duration": 65,
    "start_time": "2024-03-09T08:52:46.861Z"
   },
   {
    "duration": 14,
    "start_time": "2024-03-09T08:52:47.679Z"
   },
   {
    "duration": 41,
    "start_time": "2024-03-09T08:52:49.962Z"
   },
   {
    "duration": 23,
    "start_time": "2024-03-09T08:52:50.795Z"
   },
   {
    "duration": 8,
    "start_time": "2024-03-09T08:52:51.529Z"
   },
   {
    "duration": 16,
    "start_time": "2024-03-09T08:52:52.146Z"
   },
   {
    "duration": 8,
    "start_time": "2024-03-09T08:52:52.712Z"
   },
   {
    "duration": 311,
    "start_time": "2024-03-09T08:52:53.463Z"
   },
   {
    "duration": 16,
    "start_time": "2024-03-09T08:52:54.747Z"
   },
   {
    "duration": 13,
    "start_time": "2024-03-09T08:52:55.147Z"
   },
   {
    "duration": 59,
    "start_time": "2024-03-09T08:52:55.631Z"
   },
   {
    "duration": 16,
    "start_time": "2024-03-09T08:52:56.331Z"
   },
   {
    "duration": 6,
    "start_time": "2024-03-09T08:52:56.996Z"
   },
   {
    "duration": 35,
    "start_time": "2024-03-09T08:52:57.549Z"
   },
   {
    "duration": 25,
    "start_time": "2024-03-09T08:53:03.683Z"
   },
   {
    "duration": 45,
    "start_time": "2024-03-09T08:53:05.334Z"
   },
   {
    "duration": 6,
    "start_time": "2024-03-09T08:53:05.917Z"
   },
   {
    "duration": 7,
    "start_time": "2024-03-09T08:53:06.467Z"
   },
   {
    "duration": 7,
    "start_time": "2024-03-09T08:53:07.034Z"
   },
   {
    "duration": 2,
    "start_time": "2024-03-09T08:53:08.101Z"
   },
   {
    "duration": 4,
    "start_time": "2024-03-09T08:53:11.518Z"
   },
   {
    "duration": 7,
    "start_time": "2024-03-09T08:53:12.102Z"
   },
   {
    "duration": 29,
    "start_time": "2024-03-09T08:53:14.269Z"
   },
   {
    "duration": 2,
    "start_time": "2024-03-09T08:53:15.120Z"
   },
   {
    "duration": 3,
    "start_time": "2024-03-09T08:53:15.468Z"
   },
   {
    "duration": 58,
    "start_time": "2024-03-09T08:53:15.685Z"
   },
   {
    "duration": 7,
    "start_time": "2024-03-09T08:53:15.920Z"
   },
   {
    "duration": 3,
    "start_time": "2024-03-09T08:53:16.171Z"
   },
   {
    "duration": 166,
    "start_time": "2024-03-09T08:53:16.504Z"
   },
   {
    "duration": 21,
    "start_time": "2024-03-09T08:55:19.025Z"
   },
   {
    "duration": 66,
    "start_time": "2024-03-09T08:59:17.983Z"
   },
   {
    "duration": 1151,
    "start_time": "2024-03-09T08:59:23.456Z"
   },
   {
    "duration": 2,
    "start_time": "2024-03-09T08:59:24.609Z"
   },
   {
    "duration": 196,
    "start_time": "2024-03-09T08:59:24.613Z"
   },
   {
    "duration": 12,
    "start_time": "2024-03-09T08:59:24.811Z"
   },
   {
    "duration": 24,
    "start_time": "2024-03-09T08:59:25.401Z"
   },
   {
    "duration": 14,
    "start_time": "2024-03-09T08:59:25.618Z"
   },
   {
    "duration": 61,
    "start_time": "2024-03-09T08:59:25.835Z"
   },
   {
    "duration": 75,
    "start_time": "2024-03-09T08:59:26.052Z"
   },
   {
    "duration": 56,
    "start_time": "2024-03-09T08:59:26.251Z"
   },
   {
    "duration": 6,
    "start_time": "2024-03-09T08:59:26.435Z"
   },
   {
    "duration": 6,
    "start_time": "2024-03-09T08:59:26.668Z"
   },
   {
    "duration": 8,
    "start_time": "2024-03-09T08:59:26.852Z"
   },
   {
    "duration": 70,
    "start_time": "2024-03-09T08:59:27.051Z"
   },
   {
    "duration": 14,
    "start_time": "2024-03-09T08:59:27.267Z"
   },
   {
    "duration": 45,
    "start_time": "2024-03-09T08:59:27.886Z"
   },
   {
    "duration": 25,
    "start_time": "2024-03-09T08:59:28.086Z"
   },
   {
    "duration": 8,
    "start_time": "2024-03-09T08:59:28.486Z"
   },
   {
    "duration": 16,
    "start_time": "2024-03-09T08:59:28.701Z"
   },
   {
    "duration": 8,
    "start_time": "2024-03-09T08:59:28.936Z"
   },
   {
    "duration": 411,
    "start_time": "2024-03-09T08:59:29.135Z"
   },
   {
    "duration": 20,
    "start_time": "2024-03-09T08:59:29.602Z"
   },
   {
    "duration": 12,
    "start_time": "2024-03-09T08:59:29.835Z"
   },
   {
    "duration": 66,
    "start_time": "2024-03-09T08:59:30.053Z"
   },
   {
    "duration": 14,
    "start_time": "2024-03-09T08:59:30.286Z"
   },
   {
    "duration": 8,
    "start_time": "2024-03-09T08:59:30.503Z"
   },
   {
    "duration": 41,
    "start_time": "2024-03-09T08:59:30.754Z"
   },
   {
    "duration": 37,
    "start_time": "2024-03-09T08:59:31.753Z"
   },
   {
    "duration": 48,
    "start_time": "2024-03-09T08:59:32.270Z"
   },
   {
    "duration": 5,
    "start_time": "2024-03-09T08:59:32.537Z"
   },
   {
    "duration": 9,
    "start_time": "2024-03-09T08:59:32.804Z"
   },
   {
    "duration": 7,
    "start_time": "2024-03-09T08:59:33.020Z"
   },
   {
    "duration": 2,
    "start_time": "2024-03-09T08:59:33.553Z"
   },
   {
    "duration": 4,
    "start_time": "2024-03-09T08:59:34.054Z"
   },
   {
    "duration": 8,
    "start_time": "2024-03-09T08:59:34.304Z"
   },
   {
    "duration": 29,
    "start_time": "2024-03-09T08:59:35.338Z"
   },
   {
    "duration": 2,
    "start_time": "2024-03-09T08:59:35.787Z"
   },
   {
    "duration": 2,
    "start_time": "2024-03-09T08:59:36.038Z"
   },
   {
    "duration": 57,
    "start_time": "2024-03-09T08:59:36.271Z"
   },
   {
    "duration": 8,
    "start_time": "2024-03-09T08:59:36.488Z"
   },
   {
    "duration": 162,
    "start_time": "2024-03-09T08:59:36.971Z"
   },
   {
    "duration": 120,
    "start_time": "2024-03-09T10:27:31.455Z"
   },
   {
    "duration": 4,
    "start_time": "2024-03-09T10:27:42.206Z"
   },
   {
    "duration": 2,
    "start_time": "2024-03-09T10:27:42.642Z"
   },
   {
    "duration": 179,
    "start_time": "2024-03-09T10:27:42.824Z"
   },
   {
    "duration": 11,
    "start_time": "2024-03-09T10:27:43.007Z"
   },
   {
    "duration": 22,
    "start_time": "2024-03-09T10:27:43.423Z"
   },
   {
    "duration": 15,
    "start_time": "2024-03-09T10:27:43.590Z"
   },
   {
    "duration": 54,
    "start_time": "2024-03-09T10:27:43.790Z"
   },
   {
    "duration": 61,
    "start_time": "2024-03-09T10:27:43.957Z"
   },
   {
    "duration": 53,
    "start_time": "2024-03-09T10:27:44.140Z"
   },
   {
    "duration": 4,
    "start_time": "2024-03-09T10:27:44.357Z"
   },
   {
    "duration": 7,
    "start_time": "2024-03-09T10:27:44.523Z"
   },
   {
    "duration": 10,
    "start_time": "2024-03-09T10:27:44.706Z"
   },
   {
    "duration": 85,
    "start_time": "2024-03-09T10:27:44.907Z"
   },
   {
    "duration": 14,
    "start_time": "2024-03-09T10:27:45.123Z"
   },
   {
    "duration": 43,
    "start_time": "2024-03-09T10:27:45.707Z"
   },
   {
    "duration": 26,
    "start_time": "2024-03-09T10:27:45.875Z"
   },
   {
    "duration": 8,
    "start_time": "2024-03-09T10:27:46.091Z"
   },
   {
    "duration": 16,
    "start_time": "2024-03-09T10:27:46.291Z"
   },
   {
    "duration": 8,
    "start_time": "2024-03-09T10:27:46.524Z"
   },
   {
    "duration": 314,
    "start_time": "2024-03-09T10:27:46.725Z"
   },
   {
    "duration": 19,
    "start_time": "2024-03-09T10:27:47.125Z"
   },
   {
    "duration": 12,
    "start_time": "2024-03-09T10:27:47.325Z"
   },
   {
    "duration": 60,
    "start_time": "2024-03-09T10:27:47.508Z"
   },
   {
    "duration": 14,
    "start_time": "2024-03-09T10:27:47.724Z"
   },
   {
    "duration": 6,
    "start_time": "2024-03-09T10:27:47.924Z"
   },
   {
    "duration": 32,
    "start_time": "2024-03-09T10:27:48.124Z"
   },
   {
    "duration": 26,
    "start_time": "2024-03-09T10:27:48.958Z"
   },
   {
    "duration": 48,
    "start_time": "2024-03-09T10:27:49.442Z"
   },
   {
    "duration": 6,
    "start_time": "2024-03-09T10:27:49.658Z"
   },
   {
    "duration": 7,
    "start_time": "2024-03-09T10:27:49.858Z"
   },
   {
    "duration": 6,
    "start_time": "2024-03-09T10:27:50.058Z"
   },
   {
    "duration": 2,
    "start_time": "2024-03-09T10:27:50.509Z"
   },
   {
    "duration": 4,
    "start_time": "2024-03-09T10:27:50.992Z"
   },
   {
    "duration": 7,
    "start_time": "2024-03-09T10:27:51.176Z"
   },
   {
    "duration": 29,
    "start_time": "2024-03-09T10:27:52.042Z"
   },
   {
    "duration": 56,
    "start_time": "2024-03-09T10:27:52.509Z"
   },
   {
    "duration": 8,
    "start_time": "2024-03-09T10:27:52.892Z"
   },
   {
    "duration": 22,
    "start_time": "2024-03-09T10:27:54.093Z"
   },
   {
    "duration": 3,
    "start_time": "2024-03-09T10:27:56.411Z"
   },
   {
    "duration": 3,
    "start_time": "2024-03-09T10:27:56.661Z"
   },
   {
    "duration": 3,
    "start_time": "2024-03-09T10:27:57.261Z"
   },
   {
    "duration": 11,
    "start_time": "2024-03-09T10:27:59.061Z"
   },
   {
    "duration": 4,
    "start_time": "2024-03-09T10:28:44.410Z"
   },
   {
    "duration": 12,
    "start_time": "2024-03-09T10:28:52.913Z"
   },
   {
    "duration": 3,
    "start_time": "2024-03-09T10:29:20.703Z"
   },
   {
    "duration": 6,
    "start_time": "2024-03-09T10:29:26.024Z"
   },
   {
    "duration": 9,
    "start_time": "2024-03-09T10:30:30.659Z"
   },
   {
    "duration": 12,
    "start_time": "2024-03-09T10:30:47.747Z"
   },
   {
    "duration": 12,
    "start_time": "2024-03-09T10:30:54.700Z"
   },
   {
    "duration": 11,
    "start_time": "2024-03-09T10:30:59.118Z"
   },
   {
    "duration": 14,
    "start_time": "2024-03-09T10:31:01.435Z"
   },
   {
    "duration": 12,
    "start_time": "2024-03-09T10:31:23.509Z"
   },
   {
    "duration": 105,
    "start_time": "2024-03-09T10:31:36.029Z"
   },
   {
    "duration": 12,
    "start_time": "2024-03-09T10:31:41.348Z"
   },
   {
    "duration": 7,
    "start_time": "2024-03-09T10:31:52.535Z"
   },
   {
    "duration": 7,
    "start_time": "2024-03-09T10:32:49.835Z"
   },
   {
    "duration": 5,
    "start_time": "2024-03-09T10:51:23.244Z"
   },
   {
    "duration": 1565,
    "start_time": "2024-03-09T10:51:24.477Z"
   },
   {
    "duration": 1536,
    "start_time": "2024-03-09T10:51:45.867Z"
   },
   {
    "duration": 1535,
    "start_time": "2024-03-09T10:54:06.745Z"
   },
   {
    "duration": 5,
    "start_time": "2024-03-09T10:56:31.190Z"
   },
   {
    "duration": 1509,
    "start_time": "2024-03-09T10:56:32.541Z"
   },
   {
    "duration": 3,
    "start_time": "2024-03-09T10:56:52.164Z"
   },
   {
    "duration": 3,
    "start_time": "2024-03-09T10:56:53.030Z"
   },
   {
    "duration": 163,
    "start_time": "2024-03-09T10:56:53.247Z"
   },
   {
    "duration": 10,
    "start_time": "2024-03-09T10:56:53.463Z"
   },
   {
    "duration": 23,
    "start_time": "2024-03-09T10:56:53.879Z"
   },
   {
    "duration": 16,
    "start_time": "2024-03-09T10:56:54.063Z"
   },
   {
    "duration": 53,
    "start_time": "2024-03-09T10:56:54.247Z"
   },
   {
    "duration": 64,
    "start_time": "2024-03-09T10:56:54.430Z"
   },
   {
    "duration": 55,
    "start_time": "2024-03-09T10:56:54.613Z"
   },
   {
    "duration": 5,
    "start_time": "2024-03-09T10:56:54.779Z"
   },
   {
    "duration": 6,
    "start_time": "2024-03-09T10:56:54.981Z"
   },
   {
    "duration": 7,
    "start_time": "2024-03-09T10:56:55.147Z"
   },
   {
    "duration": 70,
    "start_time": "2024-03-09T10:56:55.347Z"
   },
   {
    "duration": 12,
    "start_time": "2024-03-09T10:56:55.531Z"
   },
   {
    "duration": 41,
    "start_time": "2024-03-09T10:56:56.097Z"
   },
   {
    "duration": 24,
    "start_time": "2024-03-09T10:56:56.298Z"
   },
   {
    "duration": 7,
    "start_time": "2024-03-09T10:56:56.481Z"
   },
   {
    "duration": 18,
    "start_time": "2024-03-09T10:56:56.681Z"
   },
   {
    "duration": 8,
    "start_time": "2024-03-09T10:56:56.864Z"
   },
   {
    "duration": 378,
    "start_time": "2024-03-09T10:56:57.065Z"
   },
   {
    "duration": 24,
    "start_time": "2024-03-09T10:56:57.448Z"
   },
   {
    "duration": 13,
    "start_time": "2024-03-09T10:56:57.632Z"
   },
   {
    "duration": 61,
    "start_time": "2024-03-09T10:56:57.833Z"
   },
   {
    "duration": 14,
    "start_time": "2024-03-09T10:56:58.049Z"
   },
   {
    "duration": 6,
    "start_time": "2024-03-09T10:56:58.264Z"
   },
   {
    "duration": 31,
    "start_time": "2024-03-09T10:56:58.448Z"
   },
   {
    "duration": 24,
    "start_time": "2024-03-09T10:56:59.181Z"
   },
   {
    "duration": 47,
    "start_time": "2024-03-09T10:56:59.583Z"
   },
   {
    "duration": 5,
    "start_time": "2024-03-09T10:56:59.799Z"
   },
   {
    "duration": 8,
    "start_time": "2024-03-09T10:57:00.098Z"
   },
   {
    "duration": 6,
    "start_time": "2024-03-09T10:57:00.331Z"
   },
   {
    "duration": 2,
    "start_time": "2024-03-09T10:57:00.915Z"
   },
   {
    "duration": 5,
    "start_time": "2024-03-09T10:57:01.632Z"
   },
   {
    "duration": 7,
    "start_time": "2024-03-09T10:57:01.850Z"
   },
   {
    "duration": 29,
    "start_time": "2024-03-09T10:57:02.999Z"
   },
   {
    "duration": 57,
    "start_time": "2024-03-09T10:57:03.767Z"
   },
   {
    "duration": 6,
    "start_time": "2024-03-09T10:57:05.300Z"
   },
   {
    "duration": 19,
    "start_time": "2024-03-09T10:57:10.019Z"
   },
   {
    "duration": 2,
    "start_time": "2024-03-09T10:57:13.035Z"
   },
   {
    "duration": 2,
    "start_time": "2024-03-09T10:57:13.637Z"
   },
   {
    "duration": 2,
    "start_time": "2024-03-09T10:57:13.971Z"
   },
   {
    "duration": 7,
    "start_time": "2024-03-09T10:57:16.370Z"
   },
   {
    "duration": 5,
    "start_time": "2024-03-09T10:58:08.987Z"
   },
   {
    "duration": 1573,
    "start_time": "2024-03-09T10:58:12.839Z"
   },
   {
    "duration": 5,
    "start_time": "2024-03-09T10:58:25.277Z"
   },
   {
    "duration": 6,
    "start_time": "2024-03-09T11:01:47.457Z"
   },
   {
    "duration": 33,
    "start_time": "2024-03-09T11:01:48.656Z"
   },
   {
    "duration": 6,
    "start_time": "2024-03-09T11:04:46.211Z"
   },
   {
    "duration": 32,
    "start_time": "2024-03-09T11:04:47.112Z"
   },
   {
    "duration": 5,
    "start_time": "2024-03-09T11:11:01.278Z"
   },
   {
    "duration": 5,
    "start_time": "2024-03-09T11:16:36.949Z"
   },
   {
    "duration": 1610,
    "start_time": "2024-03-09T11:16:37.799Z"
   },
   {
    "duration": 1558,
    "start_time": "2024-03-09T11:16:55.222Z"
   },
   {
    "duration": 1666,
    "start_time": "2024-03-09T11:17:14.644Z"
   },
   {
    "duration": 4,
    "start_time": "2024-03-09T11:21:17.676Z"
   },
   {
    "duration": 8,
    "start_time": "2024-03-09T11:21:18.903Z"
   },
   {
    "duration": 1549,
    "start_time": "2024-03-09T11:21:53.847Z"
   },
   {
    "duration": 5,
    "start_time": "2024-03-09T11:23:24.842Z"
   },
   {
    "duration": 1580,
    "start_time": "2024-03-09T11:23:27.876Z"
   },
   {
    "duration": 3,
    "start_time": "2024-03-09T11:24:00.086Z"
   },
   {
    "duration": 4,
    "start_time": "2024-03-09T11:24:00.685Z"
   },
   {
    "duration": 5,
    "start_time": "2024-03-09T11:24:01.352Z"
   },
   {
    "duration": 165,
    "start_time": "2024-03-09T11:24:01.835Z"
   },
   {
    "duration": 9,
    "start_time": "2024-03-09T11:24:02.036Z"
   },
   {
    "duration": 20,
    "start_time": "2024-03-09T11:24:02.419Z"
   },
   {
    "duration": 15,
    "start_time": "2024-03-09T11:24:02.604Z"
   },
   {
    "duration": 65,
    "start_time": "2024-03-09T11:24:02.787Z"
   },
   {
    "duration": 63,
    "start_time": "2024-03-09T11:24:02.970Z"
   },
   {
    "duration": 54,
    "start_time": "2024-03-09T11:24:03.169Z"
   },
   {
    "duration": 6,
    "start_time": "2024-03-09T11:24:03.370Z"
   },
   {
    "duration": 7,
    "start_time": "2024-03-09T11:24:03.603Z"
   },
   {
    "duration": 7,
    "start_time": "2024-03-09T11:24:04.036Z"
   },
   {
    "duration": 67,
    "start_time": "2024-03-09T11:24:04.270Z"
   },
   {
    "duration": 90,
    "start_time": "2024-03-09T11:24:04.487Z"
   },
   {
    "duration": 39,
    "start_time": "2024-03-09T11:24:05.121Z"
   },
   {
    "duration": 30,
    "start_time": "2024-03-09T11:24:05.320Z"
   },
   {
    "duration": 8,
    "start_time": "2024-03-09T11:24:05.554Z"
   },
   {
    "duration": 16,
    "start_time": "2024-03-09T11:24:05.786Z"
   },
   {
    "duration": 7,
    "start_time": "2024-03-09T11:24:06.004Z"
   },
   {
    "duration": 390,
    "start_time": "2024-03-09T11:24:06.388Z"
   },
   {
    "duration": 18,
    "start_time": "2024-03-09T11:24:06.903Z"
   },
   {
    "duration": 12,
    "start_time": "2024-03-09T11:24:07.223Z"
   },
   {
    "duration": 61,
    "start_time": "2024-03-09T11:24:08.189Z"
   },
   {
    "duration": 15,
    "start_time": "2024-03-09T11:24:08.622Z"
   },
   {
    "duration": 9,
    "start_time": "2024-03-09T11:24:08.905Z"
   },
   {
    "duration": 32,
    "start_time": "2024-03-09T11:24:09.122Z"
   },
   {
    "duration": 25,
    "start_time": "2024-03-09T11:24:10.604Z"
   },
   {
    "duration": 44,
    "start_time": "2024-03-09T11:24:11.172Z"
   },
   {
    "duration": 5,
    "start_time": "2024-03-09T11:24:11.707Z"
   },
   {
    "duration": 8,
    "start_time": "2024-03-09T11:24:12.124Z"
   },
   {
    "duration": 7,
    "start_time": "2024-03-09T11:24:12.889Z"
   },
   {
    "duration": 3,
    "start_time": "2024-03-09T11:24:13.322Z"
   },
   {
    "duration": 4,
    "start_time": "2024-03-09T11:24:14.190Z"
   },
   {
    "duration": 7,
    "start_time": "2024-03-09T11:24:14.790Z"
   },
   {
    "duration": 30,
    "start_time": "2024-03-09T11:24:17.825Z"
   },
   {
    "duration": 58,
    "start_time": "2024-03-09T11:24:19.258Z"
   },
   {
    "duration": 7,
    "start_time": "2024-03-09T11:24:19.742Z"
   },
   {
    "duration": 20,
    "start_time": "2024-03-09T11:24:21.259Z"
   },
   {
    "duration": 2,
    "start_time": "2024-03-09T11:24:23.160Z"
   },
   {
    "duration": 2,
    "start_time": "2024-03-09T11:24:24.160Z"
   },
   {
    "duration": 2,
    "start_time": "2024-03-09T11:24:24.577Z"
   },
   {
    "duration": 7,
    "start_time": "2024-03-09T11:24:26.994Z"
   },
   {
    "duration": 5,
    "start_time": "2024-03-09T11:24:41.850Z"
   },
   {
    "duration": 1524,
    "start_time": "2024-03-09T11:24:44.717Z"
   },
   {
    "duration": 5,
    "start_time": "2024-03-09T11:25:50.620Z"
   },
   {
    "duration": 1629,
    "start_time": "2024-03-09T11:25:51.871Z"
   },
   {
    "duration": 3,
    "start_time": "2024-03-09T11:27:33.471Z"
   },
   {
    "duration": 2,
    "start_time": "2024-03-09T11:27:34.587Z"
   },
   {
    "duration": 159,
    "start_time": "2024-03-09T11:27:35.070Z"
   },
   {
    "duration": 9,
    "start_time": "2024-03-09T11:27:35.569Z"
   },
   {
    "duration": 20,
    "start_time": "2024-03-09T11:27:36.402Z"
   },
   {
    "duration": 16,
    "start_time": "2024-03-09T11:27:36.753Z"
   },
   {
    "duration": 52,
    "start_time": "2024-03-09T11:27:37.071Z"
   },
   {
    "duration": 58,
    "start_time": "2024-03-09T11:27:37.320Z"
   },
   {
    "duration": 68,
    "start_time": "2024-03-09T11:27:37.604Z"
   },
   {
    "duration": 5,
    "start_time": "2024-03-09T11:27:37.870Z"
   },
   {
    "duration": 6,
    "start_time": "2024-03-09T11:27:38.137Z"
   },
   {
    "duration": 7,
    "start_time": "2024-03-09T11:27:38.420Z"
   },
   {
    "duration": 65,
    "start_time": "2024-03-09T11:27:38.703Z"
   },
   {
    "duration": 16,
    "start_time": "2024-03-09T11:27:38.971Z"
   },
   {
    "duration": 39,
    "start_time": "2024-03-09T11:27:39.721Z"
   },
   {
    "duration": 25,
    "start_time": "2024-03-09T11:27:40.004Z"
   },
   {
    "duration": 8,
    "start_time": "2024-03-09T11:27:40.253Z"
   },
   {
    "duration": 16,
    "start_time": "2024-03-09T11:27:40.554Z"
   },
   {
    "duration": 7,
    "start_time": "2024-03-09T11:27:40.871Z"
   },
   {
    "duration": 373,
    "start_time": "2024-03-09T11:27:41.104Z"
   },
   {
    "duration": 17,
    "start_time": "2024-03-09T11:27:41.704Z"
   },
   {
    "duration": 13,
    "start_time": "2024-03-09T11:27:42.005Z"
   },
   {
    "duration": 60,
    "start_time": "2024-03-09T11:27:42.289Z"
   },
   {
    "duration": 17,
    "start_time": "2024-03-09T11:27:42.522Z"
   },
   {
    "duration": 6,
    "start_time": "2024-03-09T11:27:42.771Z"
   },
   {
    "duration": 29,
    "start_time": "2024-03-09T11:27:43.005Z"
   },
   {
    "duration": 25,
    "start_time": "2024-03-09T11:27:43.972Z"
   },
   {
    "duration": 47,
    "start_time": "2024-03-09T11:27:44.456Z"
   },
   {
    "duration": 5,
    "start_time": "2024-03-09T11:27:44.706Z"
   },
   {
    "duration": 7,
    "start_time": "2024-03-09T11:27:44.939Z"
   },
   {
    "duration": 6,
    "start_time": "2024-03-09T11:27:45.173Z"
   },
   {
    "duration": 2,
    "start_time": "2024-03-09T11:27:45.688Z"
   },
   {
    "duration": 4,
    "start_time": "2024-03-09T11:27:46.255Z"
   },
   {
    "duration": 7,
    "start_time": "2024-03-09T11:27:46.707Z"
   },
   {
    "duration": 29,
    "start_time": "2024-03-09T11:27:48.125Z"
   },
   {
    "duration": 63,
    "start_time": "2024-03-09T11:27:48.790Z"
   },
   {
    "duration": 7,
    "start_time": "2024-03-09T11:27:49.141Z"
   },
   {
    "duration": 21,
    "start_time": "2024-03-09T11:27:49.958Z"
   },
   {
    "duration": 2,
    "start_time": "2024-03-09T11:27:52.725Z"
   },
   {
    "duration": 3,
    "start_time": "2024-03-09T11:27:53.559Z"
   },
   {
    "duration": 2,
    "start_time": "2024-03-09T11:27:54.174Z"
   },
   {
    "duration": 1240,
    "start_time": "2024-03-09T11:28:31.087Z"
   },
   {
    "duration": 3,
    "start_time": "2024-03-09T11:28:32.328Z"
   },
   {
    "duration": 170,
    "start_time": "2024-03-09T11:28:32.405Z"
   },
   {
    "duration": 13,
    "start_time": "2024-03-09T11:28:33.588Z"
   },
   {
    "duration": 23,
    "start_time": "2024-03-09T11:28:34.771Z"
   },
   {
    "duration": 16,
    "start_time": "2024-03-09T11:28:35.038Z"
   },
   {
    "duration": 67,
    "start_time": "2024-03-09T11:28:35.287Z"
   },
   {
    "duration": 70,
    "start_time": "2024-03-09T11:28:35.539Z"
   },
   {
    "duration": 56,
    "start_time": "2024-03-09T11:28:35.771Z"
   },
   {
    "duration": 5,
    "start_time": "2024-03-09T11:28:36.088Z"
   },
   {
    "duration": 7,
    "start_time": "2024-03-09T11:28:36.362Z"
   },
   {
    "duration": 10,
    "start_time": "2024-03-09T11:28:36.571Z"
   },
   {
    "duration": 75,
    "start_time": "2024-03-09T11:28:36.838Z"
   },
   {
    "duration": 12,
    "start_time": "2024-03-09T11:28:37.122Z"
   },
   {
    "duration": 41,
    "start_time": "2024-03-09T11:28:37.890Z"
   },
   {
    "duration": 25,
    "start_time": "2024-03-09T11:28:38.155Z"
   },
   {
    "duration": 8,
    "start_time": "2024-03-09T11:28:38.405Z"
   },
   {
    "duration": 16,
    "start_time": "2024-03-09T11:28:38.689Z"
   },
   {
    "duration": 7,
    "start_time": "2024-03-09T11:28:38.956Z"
   },
   {
    "duration": 402,
    "start_time": "2024-03-09T11:28:39.189Z"
   },
   {
    "duration": 20,
    "start_time": "2024-03-09T11:28:39.740Z"
   },
   {
    "duration": 12,
    "start_time": "2024-03-09T11:28:39.989Z"
   },
   {
    "duration": 58,
    "start_time": "2024-03-09T11:28:40.256Z"
   },
   {
    "duration": 14,
    "start_time": "2024-03-09T11:28:40.507Z"
   },
   {
    "duration": 7,
    "start_time": "2024-03-09T11:28:40.922Z"
   },
   {
    "duration": 29,
    "start_time": "2024-03-09T11:28:41.275Z"
   },
   {
    "duration": 26,
    "start_time": "2024-03-09T11:28:42.890Z"
   },
   {
    "duration": 46,
    "start_time": "2024-03-09T11:28:44.274Z"
   },
   {
    "duration": 5,
    "start_time": "2024-03-09T11:28:44.556Z"
   },
   {
    "duration": 8,
    "start_time": "2024-03-09T11:28:44.774Z"
   },
   {
    "duration": 7,
    "start_time": "2024-03-09T11:28:45.057Z"
   },
   {
    "duration": 3,
    "start_time": "2024-03-09T11:28:46.356Z"
   },
   {
    "duration": 4,
    "start_time": "2024-03-09T11:28:47.458Z"
   },
   {
    "duration": 8,
    "start_time": "2024-03-09T11:28:48.008Z"
   },
   {
    "duration": 28,
    "start_time": "2024-03-09T11:28:50.709Z"
   },
   {
    "duration": 55,
    "start_time": "2024-03-09T11:28:53.243Z"
   },
   {
    "duration": 7,
    "start_time": "2024-03-09T11:28:53.743Z"
   },
   {
    "duration": 141,
    "start_time": "2024-03-09T11:28:55.511Z"
   },
   {
    "duration": 3,
    "start_time": "2024-03-09T11:29:01.030Z"
   },
   {
    "duration": 2,
    "start_time": "2024-03-09T11:29:01.679Z"
   },
   {
    "duration": 2,
    "start_time": "2024-03-09T11:29:01.911Z"
   },
   {
    "duration": 7,
    "start_time": "2024-03-09T11:29:02.895Z"
   },
   {
    "duration": 6,
    "start_time": "2024-03-09T11:56:08.631Z"
   },
   {
    "duration": 101,
    "start_time": "2024-03-09T11:56:09.479Z"
   },
   {
    "duration": 12,
    "start_time": "2024-03-09T11:56:31.502Z"
   },
   {
    "duration": 6,
    "start_time": "2024-03-09T11:57:18.318Z"
   },
   {
    "duration": 11,
    "start_time": "2024-03-09T11:57:20.126Z"
   },
   {
    "duration": 5,
    "start_time": "2024-03-09T12:01:07.873Z"
   },
   {
    "duration": 14,
    "start_time": "2024-03-09T12:03:22.798Z"
   },
   {
    "duration": 6,
    "start_time": "2024-03-09T12:03:37.004Z"
   },
   {
    "duration": 1518,
    "start_time": "2024-03-09T12:03:37.529Z"
   },
   {
    "duration": 6,
    "start_time": "2024-03-09T12:44:14.519Z"
   },
   {
    "duration": 1653,
    "start_time": "2024-03-09T12:44:15.917Z"
   },
   {
    "duration": 14,
    "start_time": "2024-03-09T12:45:43.895Z"
   },
   {
    "duration": 6,
    "start_time": "2024-03-09T12:46:03.168Z"
   },
   {
    "duration": 1579,
    "start_time": "2024-03-09T12:46:03.901Z"
   },
   {
    "duration": 1597,
    "start_time": "2024-03-09T12:46:52.051Z"
   },
   {
    "duration": 10,
    "start_time": "2024-03-09T12:47:07.055Z"
   },
   {
    "duration": 11,
    "start_time": "2024-03-09T12:47:16.357Z"
   },
   {
    "duration": 10,
    "start_time": "2024-03-09T12:47:27.578Z"
   },
   {
    "duration": 1527,
    "start_time": "2024-03-09T12:47:28.728Z"
   },
   {
    "duration": 6,
    "start_time": "2024-03-09T12:51:50.258Z"
   },
   {
    "duration": 1536,
    "start_time": "2024-03-09T12:51:51.257Z"
   },
   {
    "duration": 6,
    "start_time": "2024-03-09T12:52:36.939Z"
   },
   {
    "duration": 1611,
    "start_time": "2024-03-09T12:52:37.939Z"
   },
   {
    "duration": 1199,
    "start_time": "2024-03-09T12:53:34.539Z"
   },
   {
    "duration": 6,
    "start_time": "2024-03-09T12:54:10.817Z"
   },
   {
    "duration": 1214,
    "start_time": "2024-03-09T12:54:14.168Z"
   },
   {
    "duration": 6,
    "start_time": "2024-03-09T12:54:34.807Z"
   },
   {
    "duration": 1157,
    "start_time": "2024-03-09T12:54:36.576Z"
   },
   {
    "duration": 6,
    "start_time": "2024-03-09T14:44:53.102Z"
   },
   {
    "duration": 9,
    "start_time": "2024-03-09T14:44:53.618Z"
   },
   {
    "duration": 1551,
    "start_time": "2024-03-09T14:45:25.013Z"
   },
   {
    "duration": 6,
    "start_time": "2024-03-09T16:41:35.341Z"
   },
   {
    "duration": 1233,
    "start_time": "2024-03-09T16:41:36.376Z"
   },
   {
    "duration": 5,
    "start_time": "2024-03-09T16:42:01.102Z"
   },
   {
    "duration": 9,
    "start_time": "2024-03-09T16:42:01.983Z"
   },
   {
    "duration": 1145,
    "start_time": "2024-03-09T16:42:30.791Z"
   },
   {
    "duration": 5,
    "start_time": "2024-03-09T16:43:00.585Z"
   },
   {
    "duration": 1203,
    "start_time": "2024-03-09T16:43:01.553Z"
   },
   {
    "duration": 1546,
    "start_time": "2024-03-09T16:43:41.434Z"
   },
   {
    "duration": 82,
    "start_time": "2024-03-09T16:47:00.677Z"
   },
   {
    "duration": 81,
    "start_time": "2024-03-09T16:47:42.855Z"
   },
   {
    "duration": 78,
    "start_time": "2024-03-09T16:48:49.059Z"
   },
   {
    "duration": 79,
    "start_time": "2024-03-09T16:48:59.830Z"
   },
   {
    "duration": 1617,
    "start_time": "2024-03-09T16:49:23.505Z"
   },
   {
    "duration": 79,
    "start_time": "2024-03-09T16:49:35.990Z"
   },
   {
    "duration": 3,
    "start_time": "2024-03-09T16:49:56.013Z"
   },
   {
    "duration": 3,
    "start_time": "2024-03-09T16:49:56.479Z"
   },
   {
    "duration": 177,
    "start_time": "2024-03-09T16:49:56.714Z"
   },
   {
    "duration": 9,
    "start_time": "2024-03-09T16:49:56.932Z"
   },
   {
    "duration": 19,
    "start_time": "2024-03-09T16:49:57.313Z"
   },
   {
    "duration": 15,
    "start_time": "2024-03-09T16:49:57.480Z"
   },
   {
    "duration": 51,
    "start_time": "2024-03-09T16:49:57.680Z"
   },
   {
    "duration": 61,
    "start_time": "2024-03-09T16:49:57.864Z"
   },
   {
    "duration": 52,
    "start_time": "2024-03-09T16:49:58.047Z"
   },
   {
    "duration": 5,
    "start_time": "2024-03-09T16:49:58.230Z"
   },
   {
    "duration": 6,
    "start_time": "2024-03-09T16:49:58.414Z"
   },
   {
    "duration": 7,
    "start_time": "2024-03-09T16:49:58.597Z"
   },
   {
    "duration": 68,
    "start_time": "2024-03-09T16:49:58.799Z"
   },
   {
    "duration": 14,
    "start_time": "2024-03-09T16:49:58.980Z"
   },
   {
    "duration": 40,
    "start_time": "2024-03-09T16:49:59.581Z"
   },
   {
    "duration": 25,
    "start_time": "2024-03-09T16:49:59.814Z"
   },
   {
    "duration": 8,
    "start_time": "2024-03-09T16:50:00.430Z"
   },
   {
    "duration": 16,
    "start_time": "2024-03-09T16:50:00.865Z"
   },
   {
    "duration": 7,
    "start_time": "2024-03-09T16:50:01.348Z"
   },
   {
    "duration": 321,
    "start_time": "2024-03-09T16:50:01.764Z"
   },
   {
    "duration": 20,
    "start_time": "2024-03-09T16:50:02.248Z"
   },
   {
    "duration": 12,
    "start_time": "2024-03-09T16:50:02.498Z"
   },
   {
    "duration": 61,
    "start_time": "2024-03-09T16:50:02.782Z"
   },
   {
    "duration": 14,
    "start_time": "2024-03-09T16:50:03.015Z"
   },
   {
    "duration": 6,
    "start_time": "2024-03-09T16:50:03.249Z"
   },
   {
    "duration": 31,
    "start_time": "2024-03-09T16:50:03.549Z"
   },
   {
    "duration": 25,
    "start_time": "2024-03-09T16:50:05.081Z"
   },
   {
    "duration": 50,
    "start_time": "2024-03-09T16:50:06.033Z"
   },
   {
    "duration": 5,
    "start_time": "2024-03-09T16:50:06.550Z"
   },
   {
    "duration": 7,
    "start_time": "2024-03-09T16:50:07.018Z"
   },
   {
    "duration": 7,
    "start_time": "2024-03-09T16:50:07.833Z"
   },
   {
    "duration": 3,
    "start_time": "2024-03-09T16:50:08.916Z"
   },
   {
    "duration": 5,
    "start_time": "2024-03-09T16:50:09.817Z"
   },
   {
    "duration": 7,
    "start_time": "2024-03-09T16:50:10.317Z"
   },
   {
    "duration": 30,
    "start_time": "2024-03-09T16:50:11.968Z"
   },
   {
    "duration": 8,
    "start_time": "2024-03-09T16:50:12.618Z"
   },
   {
    "duration": 56,
    "start_time": "2024-03-09T16:50:13.502Z"
   },
   {
    "duration": 7,
    "start_time": "2024-03-09T16:50:13.951Z"
   },
   {
    "duration": 72,
    "start_time": "2024-03-09T16:50:14.735Z"
   },
   {
    "duration": 21,
    "start_time": "2024-03-09T16:50:23.154Z"
   },
   {
    "duration": 19,
    "start_time": "2024-03-09T16:50:44.828Z"
   },
   {
    "duration": 2,
    "start_time": "2024-03-09T16:50:49.696Z"
   },
   {
    "duration": 2,
    "start_time": "2024-03-09T16:50:50.062Z"
   },
   {
    "duration": 2,
    "start_time": "2024-03-09T16:50:50.346Z"
   },
   {
    "duration": 7,
    "start_time": "2024-03-09T16:50:50.762Z"
   },
   {
    "duration": 5,
    "start_time": "2024-03-09T16:50:52.847Z"
   },
   {
    "duration": 1608,
    "start_time": "2024-03-09T16:50:53.930Z"
   },
   {
    "duration": 9,
    "start_time": "2024-03-09T16:52:11.421Z"
   },
   {
    "duration": 31,
    "start_time": "2024-03-09T16:52:46.167Z"
   },
   {
    "duration": 56,
    "start_time": "2024-03-09T16:52:48.481Z"
   },
   {
    "duration": 7,
    "start_time": "2024-03-09T16:52:49.233Z"
   },
   {
    "duration": 71,
    "start_time": "2024-03-09T16:52:50.665Z"
   },
   {
    "duration": 80,
    "start_time": "2024-03-09T16:55:18.496Z"
   },
   {
    "duration": 29,
    "start_time": "2024-03-09T16:58:01.064Z"
   },
   {
    "duration": 84,
    "start_time": "2024-03-09T17:01:14.622Z"
   },
   {
    "duration": 78,
    "start_time": "2024-03-09T17:03:06.707Z"
   },
   {
    "duration": 76,
    "start_time": "2024-03-09T17:03:40.500Z"
   },
   {
    "duration": 3,
    "start_time": "2024-03-09T17:05:02.609Z"
   },
   {
    "duration": 3,
    "start_time": "2024-03-09T17:05:02.975Z"
   },
   {
    "duration": 166,
    "start_time": "2024-03-09T17:05:03.175Z"
   },
   {
    "duration": 8,
    "start_time": "2024-03-09T17:05:03.343Z"
   },
   {
    "duration": 19,
    "start_time": "2024-03-09T17:05:03.692Z"
   },
   {
    "duration": 17,
    "start_time": "2024-03-09T17:05:03.875Z"
   },
   {
    "duration": 52,
    "start_time": "2024-03-09T17:05:04.042Z"
   },
   {
    "duration": 60,
    "start_time": "2024-03-09T17:05:04.209Z"
   },
   {
    "duration": 53,
    "start_time": "2024-03-09T17:05:04.391Z"
   },
   {
    "duration": 5,
    "start_time": "2024-03-09T17:05:04.575Z"
   },
   {
    "duration": 7,
    "start_time": "2024-03-09T17:05:04.758Z"
   },
   {
    "duration": 7,
    "start_time": "2024-03-09T17:05:04.942Z"
   },
   {
    "duration": 67,
    "start_time": "2024-03-09T17:05:05.126Z"
   },
   {
    "duration": 13,
    "start_time": "2024-03-09T17:05:05.342Z"
   },
   {
    "duration": 41,
    "start_time": "2024-03-09T17:05:05.926Z"
   },
   {
    "duration": 24,
    "start_time": "2024-03-09T17:05:06.126Z"
   },
   {
    "duration": 8,
    "start_time": "2024-03-09T17:05:06.377Z"
   },
   {
    "duration": 16,
    "start_time": "2024-03-09T17:05:06.576Z"
   },
   {
    "duration": 7,
    "start_time": "2024-03-09T17:05:06.793Z"
   },
   {
    "duration": 397,
    "start_time": "2024-03-09T17:05:07.009Z"
   },
   {
    "duration": 18,
    "start_time": "2024-03-09T17:05:07.859Z"
   },
   {
    "duration": 13,
    "start_time": "2024-03-09T17:05:08.343Z"
   },
   {
    "duration": 63,
    "start_time": "2024-03-09T17:05:11.296Z"
   },
   {
    "duration": 16,
    "start_time": "2024-03-09T17:05:12.278Z"
   },
   {
    "duration": 6,
    "start_time": "2024-03-09T17:05:15.179Z"
   },
   {
    "duration": 29,
    "start_time": "2024-03-09T17:05:16.679Z"
   },
   {
    "duration": 23,
    "start_time": "2024-03-09T17:05:41.906Z"
   },
   {
    "duration": 49,
    "start_time": "2024-03-09T17:07:05.379Z"
   },
   {
    "duration": 5,
    "start_time": "2024-03-09T17:07:05.664Z"
   },
   {
    "duration": 10,
    "start_time": "2024-03-09T17:07:06.413Z"
   },
   {
    "duration": 7,
    "start_time": "2024-03-09T17:07:07.130Z"
   },
   {
    "duration": 4,
    "start_time": "2024-03-09T17:51:57.537Z"
   },
   {
    "duration": 4,
    "start_time": "2024-03-09T17:52:18.593Z"
   },
   {
    "duration": 162,
    "start_time": "2024-03-09T17:52:20.726Z"
   },
   {
    "duration": 14,
    "start_time": "2024-03-09T17:52:21.194Z"
   },
   {
    "duration": 20,
    "start_time": "2024-03-09T17:52:25.445Z"
   },
   {
    "duration": 15,
    "start_time": "2024-03-09T17:52:26.062Z"
   },
   {
    "duration": 53,
    "start_time": "2024-03-09T17:52:26.828Z"
   },
   {
    "duration": 60,
    "start_time": "2024-03-09T17:52:27.979Z"
   },
   {
    "duration": 64,
    "start_time": "2024-03-09T17:52:28.614Z"
   },
   {
    "duration": 5,
    "start_time": "2024-03-09T17:52:33.264Z"
   },
   {
    "duration": 6,
    "start_time": "2024-03-09T17:52:41.602Z"
   },
   {
    "duration": 8,
    "start_time": "2024-03-09T17:52:48.284Z"
   },
   {
    "duration": 68,
    "start_time": "2024-03-09T17:52:48.785Z"
   },
   {
    "duration": 14,
    "start_time": "2024-03-09T17:52:49.586Z"
   },
   {
    "duration": 12,
    "start_time": "2024-03-09T17:53:02.875Z"
   },
   {
    "duration": 40,
    "start_time": "2024-03-09T17:53:10.259Z"
   },
   {
    "duration": 25,
    "start_time": "2024-03-09T17:53:11.461Z"
   },
   {
    "duration": 7,
    "start_time": "2024-03-09T17:53:20.129Z"
   },
   {
    "duration": 17,
    "start_time": "2024-03-09T17:53:25.880Z"
   },
   {
    "duration": 6,
    "start_time": "2024-03-09T17:53:34.766Z"
   },
   {
    "duration": 323,
    "start_time": "2024-03-09T17:53:37.649Z"
   },
   {
    "duration": 20,
    "start_time": "2024-03-09T17:53:51.204Z"
   },
   {
    "duration": 12,
    "start_time": "2024-03-09T17:53:52.838Z"
   },
   {
    "duration": 61,
    "start_time": "2024-03-09T17:54:03.993Z"
   },
   {
    "duration": 15,
    "start_time": "2024-03-09T17:54:08.777Z"
   },
   {
    "duration": 6,
    "start_time": "2024-03-09T17:54:16.313Z"
   },
   {
    "duration": 6,
    "start_time": "2024-03-09T17:54:30.401Z"
   },
   {
    "duration": 31,
    "start_time": "2024-03-09T17:54:50.911Z"
   },
   {
    "duration": 26,
    "start_time": "2024-03-09T17:55:38.974Z"
   },
   {
    "duration": 45,
    "start_time": "2024-03-09T17:56:10.247Z"
   },
   {
    "duration": 6,
    "start_time": "2024-03-09T17:56:13.783Z"
   },
   {
    "duration": 8,
    "start_time": "2024-03-09T17:56:17.282Z"
   },
   {
    "duration": 6,
    "start_time": "2024-03-09T17:56:27.153Z"
   },
   {
    "duration": 3,
    "start_time": "2024-03-09T17:56:56.496Z"
   },
   {
    "duration": 4,
    "start_time": "2024-03-09T17:56:57.914Z"
   },
   {
    "duration": 7,
    "start_time": "2024-03-09T17:57:29.689Z"
   },
   {
    "duration": 27,
    "start_time": "2024-03-09T17:58:10.304Z"
   },
   {
    "duration": 60,
    "start_time": "2024-03-09T17:58:31.923Z"
   },
   {
    "duration": 7,
    "start_time": "2024-03-09T17:59:22.090Z"
   },
   {
    "duration": 5,
    "start_time": "2024-03-09T18:00:15.706Z"
   },
   {
    "duration": 7,
    "start_time": "2024-03-09T18:00:16.705Z"
   },
   {
    "duration": 5,
    "start_time": "2024-03-09T18:01:16.683Z"
   },
   {
    "duration": 7,
    "start_time": "2024-03-09T18:01:17.258Z"
   },
   {
    "duration": 8,
    "start_time": "2024-03-09T18:01:43.233Z"
   },
   {
    "duration": 1217,
    "start_time": "2024-03-09T18:02:31.383Z"
   },
   {
    "duration": 2,
    "start_time": "2024-03-09T18:02:32.602Z"
   },
   {
    "duration": 227,
    "start_time": "2024-03-09T18:02:32.605Z"
   },
   {
    "duration": 12,
    "start_time": "2024-03-09T18:02:32.834Z"
   },
   {
    "duration": 78,
    "start_time": "2024-03-09T18:02:32.847Z"
   },
   {
    "duration": 25,
    "start_time": "2024-03-09T18:02:32.926Z"
   },
   {
    "duration": 59,
    "start_time": "2024-03-09T18:02:33.468Z"
   },
   {
    "duration": 72,
    "start_time": "2024-03-09T18:02:33.650Z"
   },
   {
    "duration": 66,
    "start_time": "2024-03-09T18:02:33.850Z"
   },
   {
    "duration": 6,
    "start_time": "2024-03-09T18:02:34.033Z"
   },
   {
    "duration": 6,
    "start_time": "2024-03-09T18:02:34.234Z"
   },
   {
    "duration": 9,
    "start_time": "2024-03-09T18:02:34.417Z"
   },
   {
    "duration": 69,
    "start_time": "2024-03-09T18:02:34.600Z"
   },
   {
    "duration": 12,
    "start_time": "2024-03-09T18:02:34.784Z"
   },
   {
    "duration": 42,
    "start_time": "2024-03-09T18:02:35.466Z"
   },
   {
    "duration": 28,
    "start_time": "2024-03-09T18:02:35.684Z"
   },
   {
    "duration": 8,
    "start_time": "2024-03-09T18:02:35.883Z"
   },
   {
    "duration": 16,
    "start_time": "2024-03-09T18:02:36.101Z"
   },
   {
    "duration": 7,
    "start_time": "2024-03-09T18:02:36.267Z"
   },
   {
    "duration": 388,
    "start_time": "2024-03-09T18:02:36.484Z"
   },
   {
    "duration": 21,
    "start_time": "2024-03-09T18:02:36.933Z"
   },
   {
    "duration": 12,
    "start_time": "2024-03-09T18:02:37.150Z"
   },
   {
    "duration": 57,
    "start_time": "2024-03-09T18:02:37.835Z"
   },
   {
    "duration": 13,
    "start_time": "2024-03-09T18:02:38.902Z"
   },
   {
    "duration": 6,
    "start_time": "2024-03-09T18:02:39.102Z"
   },
   {
    "duration": 30,
    "start_time": "2024-03-09T18:02:39.351Z"
   },
   {
    "duration": 23,
    "start_time": "2024-03-09T18:02:40.969Z"
   },
   {
    "duration": 49,
    "start_time": "2024-03-09T18:02:42.703Z"
   },
   {
    "duration": 6,
    "start_time": "2024-03-09T18:02:43.053Z"
   },
   {
    "duration": 9,
    "start_time": "2024-03-09T18:02:43.269Z"
   },
   {
    "duration": 7,
    "start_time": "2024-03-09T18:02:43.486Z"
   },
   {
    "duration": 2,
    "start_time": "2024-03-09T18:02:51.373Z"
   },
   {
    "duration": 4,
    "start_time": "2024-03-09T18:02:52.457Z"
   },
   {
    "duration": 8,
    "start_time": "2024-03-09T18:02:53.289Z"
   },
   {
    "duration": 30,
    "start_time": "2024-03-09T18:02:59.958Z"
   },
   {
    "duration": 59,
    "start_time": "2024-03-09T18:03:01.159Z"
   },
   {
    "duration": 7,
    "start_time": "2024-03-09T18:03:01.808Z"
   },
   {
    "duration": 5,
    "start_time": "2024-03-09T18:03:02.977Z"
   },
   {
    "duration": 7,
    "start_time": "2024-03-09T18:03:03.659Z"
   },
   {
    "duration": 143,
    "start_time": "2024-03-09T18:03:19.999Z"
   },
   {
    "duration": 185,
    "start_time": "2024-03-09T18:10:23.431Z"
   },
   {
    "duration": 77,
    "start_time": "2024-03-09T18:10:48.654Z"
   },
   {
    "duration": 8,
    "start_time": "2024-03-09T18:11:21.929Z"
   },
   {
    "duration": 5,
    "start_time": "2024-03-09T18:11:32.782Z"
   },
   {
    "duration": 1605,
    "start_time": "2024-03-09T18:11:33.602Z"
   },
   {
    "duration": 7,
    "start_time": "2024-03-09T18:12:03.195Z"
   },
   {
    "duration": 17,
    "start_time": "2024-03-09T18:12:04.327Z"
   },
   {
    "duration": 5,
    "start_time": "2024-03-09T18:12:08.230Z"
   },
   {
    "duration": 17,
    "start_time": "2024-03-09T18:12:09.013Z"
   },
   {
    "duration": 5,
    "start_time": "2024-03-09T18:13:09.232Z"
   },
   {
    "duration": 17,
    "start_time": "2024-03-09T18:13:10.080Z"
   },
   {
    "duration": 23,
    "start_time": "2024-03-09T18:16:33.111Z"
   },
   {
    "duration": 3,
    "start_time": "2024-03-09T18:16:54.649Z"
   },
   {
    "duration": 2,
    "start_time": "2024-03-09T18:16:55.017Z"
   },
   {
    "duration": 2,
    "start_time": "2024-03-09T18:16:55.383Z"
   },
   {
    "duration": 7,
    "start_time": "2024-03-09T18:16:56.017Z"
   },
   {
    "duration": 4,
    "start_time": "2024-03-09T18:17:31.446Z"
   },
   {
    "duration": 1546,
    "start_time": "2024-03-09T18:17:32.263Z"
   },
   {
    "duration": 5,
    "start_time": "2024-03-09T18:18:59.456Z"
   },
   {
    "duration": 1659,
    "start_time": "2024-03-09T18:19:00.914Z"
   },
   {
    "duration": 1609,
    "start_time": "2024-03-09T18:28:26.248Z"
   },
   {
    "duration": 80,
    "start_time": "2024-03-09T18:28:37.866Z"
   },
   {
    "duration": 77,
    "start_time": "2024-03-09T18:29:32.333Z"
   },
   {
    "duration": 9,
    "start_time": "2024-03-09T18:29:39.889Z"
   },
   {
    "duration": 74,
    "start_time": "2024-03-09T18:31:26.270Z"
   },
   {
    "duration": 1608,
    "start_time": "2024-03-09T18:31:27.452Z"
   },
   {
    "duration": 1553,
    "start_time": "2024-03-09T18:31:41.809Z"
   },
   {
    "duration": 3,
    "start_time": "2024-03-09T18:31:52.528Z"
   },
   {
    "duration": 6,
    "start_time": "2024-03-09T18:31:55.608Z"
   },
   {
    "duration": 73,
    "start_time": "2024-03-09T18:32:15.051Z"
   },
   {
    "duration": 5,
    "start_time": "2024-03-09T18:32:30.772Z"
   },
   {
    "duration": 1654,
    "start_time": "2024-03-09T18:32:32.113Z"
   },
   {
    "duration": 3,
    "start_time": "2024-03-09T18:34:04.601Z"
   },
   {
    "duration": 7,
    "start_time": "2024-03-09T18:34:06.284Z"
   },
   {
    "duration": 3,
    "start_time": "2024-03-09T18:34:12.152Z"
   },
   {
    "duration": 6,
    "start_time": "2024-03-09T18:34:13.553Z"
   },
   {
    "duration": 6,
    "start_time": "2024-03-09T18:34:23.757Z"
   },
   {
    "duration": 4,
    "start_time": "2024-03-09T18:34:34.210Z"
   },
   {
    "duration": 7,
    "start_time": "2024-03-09T18:34:35.826Z"
   },
   {
    "duration": 74,
    "start_time": "2024-03-09T18:34:40.929Z"
   },
   {
    "duration": 1498,
    "start_time": "2024-03-09T18:34:42.915Z"
   },
   {
    "duration": 6,
    "start_time": "2024-03-09T18:34:48.482Z"
   },
   {
    "duration": 3,
    "start_time": "2024-03-09T18:35:10.223Z"
   },
   {
    "duration": 6,
    "start_time": "2024-03-09T18:35:11.472Z"
   },
   {
    "duration": 3,
    "start_time": "2024-03-09T18:35:17.889Z"
   },
   {
    "duration": 7,
    "start_time": "2024-03-09T18:35:18.290Z"
   },
   {
    "duration": 7,
    "start_time": "2024-03-09T18:36:11.022Z"
   },
   {
    "duration": 4,
    "start_time": "2024-03-09T18:36:18.008Z"
   },
   {
    "duration": 8,
    "start_time": "2024-03-09T18:36:18.641Z"
   },
   {
    "duration": 7,
    "start_time": "2024-03-09T18:36:21.841Z"
   },
   {
    "duration": 3,
    "start_time": "2024-03-09T18:36:33.980Z"
   },
   {
    "duration": 7,
    "start_time": "2024-03-09T18:36:34.931Z"
   },
   {
    "duration": 7,
    "start_time": "2024-03-09T18:36:42.148Z"
   },
   {
    "duration": 4,
    "start_time": "2024-03-09T18:36:43.264Z"
   },
   {
    "duration": 7,
    "start_time": "2024-03-09T18:36:43.866Z"
   },
   {
    "duration": 78,
    "start_time": "2024-03-09T18:36:45.634Z"
   },
   {
    "duration": 4,
    "start_time": "2024-03-09T18:36:47.102Z"
   },
   {
    "duration": 6,
    "start_time": "2024-03-09T18:36:48.016Z"
   },
   {
    "duration": 21,
    "start_time": "2024-03-09T18:36:53.704Z"
   },
   {
    "duration": 2,
    "start_time": "2024-03-09T18:36:55.852Z"
   },
   {
    "duration": 2,
    "start_time": "2024-03-09T18:36:56.086Z"
   },
   {
    "duration": 2,
    "start_time": "2024-03-09T18:36:56.536Z"
   },
   {
    "duration": 7,
    "start_time": "2024-03-09T18:36:57.252Z"
   },
   {
    "duration": 5,
    "start_time": "2024-03-09T18:37:02.220Z"
   },
   {
    "duration": 1561,
    "start_time": "2024-03-09T18:37:04.122Z"
   },
   {
    "duration": 39,
    "start_time": "2024-03-09T18:40:00.477Z"
   },
   {
    "duration": 49,
    "start_time": "2024-03-09T18:40:01.310Z"
   },
   {
    "duration": 5,
    "start_time": "2024-03-09T18:42:03.280Z"
   },
   {
    "duration": 9,
    "start_time": "2024-03-09T18:42:04.247Z"
   },
   {
    "duration": 72,
    "start_time": "2024-03-09T18:45:38.114Z"
   },
   {
    "duration": 4,
    "start_time": "2024-03-09T18:45:39.763Z"
   },
   {
    "duration": 7,
    "start_time": "2024-03-09T18:45:40.330Z"
   },
   {
    "duration": 19,
    "start_time": "2024-03-09T18:45:55.670Z"
   },
   {
    "duration": 2,
    "start_time": "2024-03-09T18:46:01.055Z"
   },
   {
    "duration": 3,
    "start_time": "2024-03-09T18:46:01.537Z"
   },
   {
    "duration": 2,
    "start_time": "2024-03-09T18:46:01.921Z"
   },
   {
    "duration": 4,
    "start_time": "2024-03-09T18:47:08.801Z"
   },
   {
    "duration": 11,
    "start_time": "2024-03-09T18:47:09.508Z"
   },
   {
    "duration": 4,
    "start_time": "2024-03-09T18:47:22.814Z"
   },
   {
    "duration": 8,
    "start_time": "2024-03-09T18:47:23.796Z"
   },
   {
    "duration": 55,
    "start_time": "2024-03-09T18:51:36.174Z"
   },
   {
    "duration": 52,
    "start_time": "2024-03-09T18:51:49.411Z"
   },
   {
    "duration": 5,
    "start_time": "2024-03-09T18:52:20.237Z"
   },
   {
    "duration": 9,
    "start_time": "2024-03-09T18:52:21.203Z"
   },
   {
    "duration": 32,
    "start_time": "2024-03-09T18:54:36.230Z"
   },
   {
    "duration": 56,
    "start_time": "2024-03-09T18:54:37.363Z"
   },
   {
    "duration": 6,
    "start_time": "2024-03-09T18:54:37.845Z"
   },
   {
    "duration": 5,
    "start_time": "2024-03-09T18:54:38.295Z"
   },
   {
    "duration": 6,
    "start_time": "2024-03-09T18:54:39.230Z"
   },
   {
    "duration": 55,
    "start_time": "2024-03-09T18:54:40.580Z"
   },
   {
    "duration": 40,
    "start_time": "2024-03-09T18:56:17.444Z"
   },
   {
    "duration": 4,
    "start_time": "2024-03-09T18:56:32.381Z"
   },
   {
    "duration": 2,
    "start_time": "2024-03-09T18:56:33.414Z"
   },
   {
    "duration": 165,
    "start_time": "2024-03-09T18:56:33.865Z"
   },
   {
    "duration": 9,
    "start_time": "2024-03-09T18:56:34.266Z"
   },
   {
    "duration": 32,
    "start_time": "2024-03-09T18:56:34.716Z"
   },
   {
    "duration": 16,
    "start_time": "2024-03-09T18:56:34.915Z"
   },
   {
    "duration": 50,
    "start_time": "2024-03-09T18:56:35.099Z"
   },
   {
    "duration": 63,
    "start_time": "2024-03-09T18:56:35.298Z"
   },
   {
    "duration": 52,
    "start_time": "2024-03-09T18:56:35.481Z"
   },
   {
    "duration": 5,
    "start_time": "2024-03-09T18:56:35.665Z"
   },
   {
    "duration": 7,
    "start_time": "2024-03-09T18:56:35.849Z"
   },
   {
    "duration": 7,
    "start_time": "2024-03-09T18:56:36.048Z"
   },
   {
    "duration": 69,
    "start_time": "2024-03-09T18:56:36.232Z"
   },
   {
    "duration": 13,
    "start_time": "2024-03-09T18:56:36.433Z"
   },
   {
    "duration": 38,
    "start_time": "2024-03-09T18:56:37.018Z"
   },
   {
    "duration": 29,
    "start_time": "2024-03-09T18:56:37.232Z"
   },
   {
    "duration": 8,
    "start_time": "2024-03-09T18:56:37.433Z"
   },
   {
    "duration": 15,
    "start_time": "2024-03-09T18:56:37.632Z"
   },
   {
    "duration": 6,
    "start_time": "2024-03-09T18:56:37.849Z"
   },
   {
    "duration": 313,
    "start_time": "2024-03-09T18:56:38.049Z"
   },
   {
    "duration": 22,
    "start_time": "2024-03-09T18:56:38.481Z"
   },
   {
    "duration": 13,
    "start_time": "2024-03-09T18:56:38.716Z"
   },
   {
    "duration": 67,
    "start_time": "2024-03-09T18:56:38.934Z"
   },
   {
    "duration": 13,
    "start_time": "2024-03-09T18:56:39.200Z"
   },
   {
    "duration": 6,
    "start_time": "2024-03-09T18:56:39.834Z"
   },
   {
    "duration": 29,
    "start_time": "2024-03-09T18:56:40.167Z"
   },
   {
    "duration": 31,
    "start_time": "2024-03-09T18:56:45.918Z"
   },
   {
    "duration": 45,
    "start_time": "2024-03-09T18:56:46.719Z"
   },
   {
    "duration": 6,
    "start_time": "2024-03-09T18:56:47.152Z"
   },
   {
    "duration": 8,
    "start_time": "2024-03-09T18:56:47.585Z"
   },
   {
    "duration": 7,
    "start_time": "2024-03-09T18:56:48.086Z"
   },
   {
    "duration": 3,
    "start_time": "2024-03-09T18:56:48.869Z"
   },
   {
    "duration": 3,
    "start_time": "2024-03-09T18:56:49.337Z"
   },
   {
    "duration": 7,
    "start_time": "2024-03-09T18:56:49.587Z"
   },
   {
    "duration": 29,
    "start_time": "2024-03-09T18:56:51.936Z"
   },
   {
    "duration": 54,
    "start_time": "2024-03-09T18:56:54.588Z"
   },
   {
    "duration": 7,
    "start_time": "2024-03-09T18:56:56.840Z"
   },
   {
    "duration": 4,
    "start_time": "2024-03-09T18:56:58.039Z"
   },
   {
    "duration": 7,
    "start_time": "2024-03-09T18:56:59.190Z"
   },
   {
    "duration": 45,
    "start_time": "2024-03-09T18:57:05.174Z"
   },
   {
    "duration": 68,
    "start_time": "2024-03-09T18:57:06.658Z"
   },
   {
    "duration": 4,
    "start_time": "2024-03-09T18:57:08.775Z"
   },
   {
    "duration": 8,
    "start_time": "2024-03-09T18:57:10.010Z"
   },
   {
    "duration": 20,
    "start_time": "2024-03-09T18:57:13.944Z"
   },
   {
    "duration": 2,
    "start_time": "2024-03-09T18:57:18.344Z"
   },
   {
    "duration": 2,
    "start_time": "2024-03-09T18:57:18.561Z"
   },
   {
    "duration": 2,
    "start_time": "2024-03-09T18:57:18.778Z"
   },
   {
    "duration": 10,
    "start_time": "2024-03-09T18:57:18.978Z"
   },
   {
    "duration": 4,
    "start_time": "2024-03-09T18:57:19.396Z"
   },
   {
    "duration": 9,
    "start_time": "2024-03-09T18:57:20.045Z"
   },
   {
    "duration": 7,
    "start_time": "2024-03-09T19:02:39.177Z"
   },
   {
    "duration": 5,
    "start_time": "2024-03-09T19:02:55.169Z"
   },
   {
    "duration": 7,
    "start_time": "2024-03-09T19:02:55.382Z"
   },
   {
    "duration": 42,
    "start_time": "2024-03-09T19:02:55.582Z"
   },
   {
    "duration": 65,
    "start_time": "2024-03-09T19:02:55.766Z"
   },
   {
    "duration": 3,
    "start_time": "2024-03-09T19:02:55.966Z"
   },
   {
    "duration": 7,
    "start_time": "2024-03-09T19:02:56.148Z"
   },
   {
    "duration": 19,
    "start_time": "2024-03-09T19:02:56.933Z"
   },
   {
    "duration": 2,
    "start_time": "2024-03-09T19:02:57.549Z"
   },
   {
    "duration": 2,
    "start_time": "2024-03-09T19:02:58.149Z"
   },
   {
    "duration": 2,
    "start_time": "2024-03-09T19:02:58.382Z"
   },
   {
    "duration": 6,
    "start_time": "2024-03-09T19:03:00.368Z"
   },
   {
    "duration": 5,
    "start_time": "2024-03-09T19:03:01.952Z"
   },
   {
    "duration": 11,
    "start_time": "2024-03-09T19:03:05.069Z"
   },
   {
    "duration": 5,
    "start_time": "2024-03-09T19:05:10.675Z"
   },
   {
    "duration": 13,
    "start_time": "2024-03-09T19:05:11.524Z"
   },
   {
    "duration": 5,
    "start_time": "2024-03-09T19:05:22.028Z"
   },
   {
    "duration": 11,
    "start_time": "2024-03-09T19:05:23.194Z"
   },
   {
    "duration": 5,
    "start_time": "2024-03-09T19:09:48.796Z"
   },
   {
    "duration": 13,
    "start_time": "2024-03-09T19:09:49.713Z"
   },
   {
    "duration": 5,
    "start_time": "2024-03-09T19:10:16.203Z"
   },
   {
    "duration": 10,
    "start_time": "2024-03-09T19:10:16.769Z"
   },
   {
    "duration": 19,
    "start_time": "2024-03-09T19:12:58.936Z"
   },
   {
    "duration": 9,
    "start_time": "2024-03-09T19:13:18.660Z"
   },
   {
    "duration": 5,
    "start_time": "2024-03-09T19:13:20.709Z"
   },
   {
    "duration": 9,
    "start_time": "2024-03-09T19:13:28.486Z"
   },
   {
    "duration": 5,
    "start_time": "2024-03-09T19:14:26.697Z"
   },
   {
    "duration": 11,
    "start_time": "2024-03-09T19:14:27.430Z"
   },
   {
    "duration": 5,
    "start_time": "2024-03-09T19:15:16.130Z"
   },
   {
    "duration": 10,
    "start_time": "2024-03-09T19:15:16.728Z"
   },
   {
    "duration": 5,
    "start_time": "2024-03-09T19:15:48.105Z"
   },
   {
    "duration": 10,
    "start_time": "2024-03-09T19:15:48.720Z"
   },
   {
    "duration": 4,
    "start_time": "2024-03-09T19:16:18.532Z"
   },
   {
    "duration": 9,
    "start_time": "2024-03-09T19:16:19.114Z"
   },
   {
    "duration": 5,
    "start_time": "2024-03-09T19:16:56.776Z"
   },
   {
    "duration": 10,
    "start_time": "2024-03-09T19:16:57.341Z"
   },
   {
    "duration": 6,
    "start_time": "2024-03-09T19:17:30.304Z"
   },
   {
    "duration": 11,
    "start_time": "2024-03-09T19:17:30.955Z"
   },
   {
    "duration": 4,
    "start_time": "2024-03-09T19:19:15.453Z"
   },
   {
    "duration": 11,
    "start_time": "2024-03-09T19:19:15.868Z"
   },
   {
    "duration": 5,
    "start_time": "2024-03-09T19:20:25.259Z"
   },
   {
    "duration": 8,
    "start_time": "2024-03-09T19:20:25.873Z"
   },
   {
    "duration": 5,
    "start_time": "2024-03-09T19:21:16.057Z"
   },
   {
    "duration": 8,
    "start_time": "2024-03-09T19:21:17.189Z"
   },
   {
    "duration": 4,
    "start_time": "2024-03-09T19:21:38.646Z"
   },
   {
    "duration": 11,
    "start_time": "2024-03-09T19:21:39.097Z"
   },
   {
    "duration": 5,
    "start_time": "2024-03-09T19:22:32.264Z"
   },
   {
    "duration": 18,
    "start_time": "2024-03-09T19:22:32.846Z"
   },
   {
    "duration": 5,
    "start_time": "2024-03-09T19:22:40.766Z"
   },
   {
    "duration": 11,
    "start_time": "2024-03-09T19:22:41.382Z"
   },
   {
    "duration": 3,
    "start_time": "2024-03-09T19:23:00.518Z"
   },
   {
    "duration": 126,
    "start_time": "2024-03-09T19:23:00.522Z"
   },
   {
    "duration": 196,
    "start_time": "2024-03-09T19:23:00.649Z"
   },
   {
    "duration": 9,
    "start_time": "2024-03-09T19:23:00.846Z"
   },
   {
    "duration": 52,
    "start_time": "2024-03-09T19:23:00.857Z"
   },
   {
    "duration": 38,
    "start_time": "2024-03-09T19:23:00.910Z"
   },
   {
    "duration": 77,
    "start_time": "2024-03-09T19:23:00.949Z"
   },
   {
    "duration": 51,
    "start_time": "2024-03-09T19:23:01.028Z"
   },
   {
    "duration": 58,
    "start_time": "2024-03-09T19:23:01.080Z"
   },
   {
    "duration": 5,
    "start_time": "2024-03-09T19:23:01.139Z"
   },
   {
    "duration": 67,
    "start_time": "2024-03-09T19:23:01.145Z"
   },
   {
    "duration": 64,
    "start_time": "2024-03-09T19:23:01.214Z"
   },
   {
    "duration": 166,
    "start_time": "2024-03-09T19:23:01.279Z"
   },
   {
    "duration": 52,
    "start_time": "2024-03-09T19:23:01.449Z"
   },
   {
    "duration": 161,
    "start_time": "2024-03-09T19:23:01.503Z"
   },
   {
    "duration": 78,
    "start_time": "2024-03-09T19:23:01.665Z"
   },
   {
    "duration": 43,
    "start_time": "2024-03-09T19:23:01.745Z"
   },
   {
    "duration": 39,
    "start_time": "2024-03-09T19:23:01.789Z"
   },
   {
    "duration": 57,
    "start_time": "2024-03-09T19:23:01.830Z"
   },
   {
    "duration": 423,
    "start_time": "2024-03-09T19:23:01.889Z"
   },
   {
    "duration": 19,
    "start_time": "2024-03-09T19:23:02.314Z"
   },
   {
    "duration": 53,
    "start_time": "2024-03-09T19:23:02.334Z"
   },
   {
    "duration": 149,
    "start_time": "2024-03-09T19:23:02.388Z"
   },
   {
    "duration": 13,
    "start_time": "2024-03-09T19:23:02.539Z"
   },
   {
    "duration": 40,
    "start_time": "2024-03-09T19:23:02.553Z"
   },
   {
    "duration": 50,
    "start_time": "2024-03-09T19:23:02.594Z"
   },
   {
    "duration": 24,
    "start_time": "2024-03-09T19:23:02.645Z"
   },
   {
    "duration": 80,
    "start_time": "2024-03-09T19:23:02.670Z"
   },
   {
    "duration": 5,
    "start_time": "2024-03-09T19:23:02.751Z"
   },
   {
    "duration": 63,
    "start_time": "2024-03-09T19:23:02.758Z"
   },
   {
    "duration": 130,
    "start_time": "2024-03-09T19:23:02.823Z"
   },
   {
    "duration": 84,
    "start_time": "2024-03-09T19:23:02.954Z"
   },
   {
    "duration": 62,
    "start_time": "2024-03-09T19:23:03.039Z"
   },
   {
    "duration": 40,
    "start_time": "2024-03-09T19:23:03.102Z"
   },
   {
    "duration": 63,
    "start_time": "2024-03-09T19:23:03.144Z"
   },
   {
    "duration": 63,
    "start_time": "2024-03-09T19:23:03.208Z"
   },
   {
    "duration": 14,
    "start_time": "2024-03-09T19:23:03.273Z"
   },
   {
    "duration": 58,
    "start_time": "2024-03-09T19:23:03.289Z"
   },
   {
    "duration": 40,
    "start_time": "2024-03-09T19:23:03.348Z"
   },
   {
    "duration": 79,
    "start_time": "2024-03-09T19:23:03.390Z"
   },
   {
    "duration": 201,
    "start_time": "2024-03-09T19:23:03.472Z"
   },
   {
    "duration": 144,
    "start_time": "2024-03-09T19:23:03.675Z"
   },
   {
    "duration": 114,
    "start_time": "2024-03-09T19:23:03.820Z"
   },
   {
    "duration": 38,
    "start_time": "2024-03-09T19:23:03.936Z"
   },
   {
    "duration": 3,
    "start_time": "2024-03-09T19:23:03.975Z"
   },
   {
    "duration": 14,
    "start_time": "2024-03-09T19:23:03.979Z"
   },
   {
    "duration": 10,
    "start_time": "2024-03-09T19:23:03.995Z"
   },
   {
    "duration": 35,
    "start_time": "2024-03-09T19:23:04.007Z"
   },
   {
    "duration": 52,
    "start_time": "2024-03-09T19:23:04.044Z"
   },
   {
    "duration": 62,
    "start_time": "2024-03-09T19:23:04.097Z"
   },
   {
    "duration": 74,
    "start_time": "2024-03-09T19:23:58.607Z"
   },
   {
    "duration": 4,
    "start_time": "2024-03-09T19:24:00.107Z"
   },
   {
    "duration": 6,
    "start_time": "2024-03-09T19:24:00.708Z"
   },
   {
    "duration": 18,
    "start_time": "2024-03-09T19:24:01.957Z"
   },
   {
    "duration": 2,
    "start_time": "2024-03-09T19:24:03.184Z"
   },
   {
    "duration": 3,
    "start_time": "2024-03-09T19:24:03.324Z"
   },
   {
    "duration": 2,
    "start_time": "2024-03-09T19:24:03.547Z"
   },
   {
    "duration": 7,
    "start_time": "2024-03-09T19:24:03.741Z"
   },
   {
    "duration": 5,
    "start_time": "2024-03-09T19:24:04.267Z"
   },
   {
    "duration": 10,
    "start_time": "2024-03-09T19:24:05.369Z"
   },
   {
    "duration": 5,
    "start_time": "2024-03-09T19:24:45.838Z"
   },
   {
    "duration": 12,
    "start_time": "2024-03-09T19:24:46.554Z"
   },
   {
    "duration": 6,
    "start_time": "2024-03-09T19:24:57.106Z"
   },
   {
    "duration": 12,
    "start_time": "2024-03-09T19:24:57.590Z"
   },
   {
    "duration": 1243,
    "start_time": "2024-03-09T19:27:37.617Z"
   },
   {
    "duration": 2,
    "start_time": "2024-03-09T19:27:38.862Z"
   },
   {
    "duration": 200,
    "start_time": "2024-03-09T19:27:38.866Z"
   },
   {
    "duration": 13,
    "start_time": "2024-03-09T19:27:39.068Z"
   },
   {
    "duration": 31,
    "start_time": "2024-03-09T19:27:39.083Z"
   },
   {
    "duration": 16,
    "start_time": "2024-03-09T19:27:39.115Z"
   },
   {
    "duration": 69,
    "start_time": "2024-03-09T19:27:39.133Z"
   },
   {
    "duration": 70,
    "start_time": "2024-03-09T19:27:39.204Z"
   },
   {
    "duration": 65,
    "start_time": "2024-03-09T19:27:39.276Z"
   },
   {
    "duration": 5,
    "start_time": "2024-03-09T19:27:39.344Z"
   },
   {
    "duration": 22,
    "start_time": "2024-03-09T19:27:39.350Z"
   },
   {
    "duration": 23,
    "start_time": "2024-03-09T19:27:39.374Z"
   },
   {
    "duration": 88,
    "start_time": "2024-03-09T19:27:39.398Z"
   },
   {
    "duration": 13,
    "start_time": "2024-03-09T19:27:39.487Z"
   },
   {
    "duration": 54,
    "start_time": "2024-03-09T19:27:39.502Z"
   },
   {
    "duration": 27,
    "start_time": "2024-03-09T19:27:39.558Z"
   },
   {
    "duration": 28,
    "start_time": "2024-03-09T19:27:39.587Z"
   },
   {
    "duration": 26,
    "start_time": "2024-03-09T19:27:39.617Z"
   },
   {
    "duration": 29,
    "start_time": "2024-03-09T19:27:39.644Z"
   },
   {
    "duration": 411,
    "start_time": "2024-03-09T19:27:39.675Z"
   },
   {
    "duration": 25,
    "start_time": "2024-03-09T19:27:40.088Z"
   },
   {
    "duration": 27,
    "start_time": "2024-03-09T19:27:40.115Z"
   },
   {
    "duration": 119,
    "start_time": "2024-03-09T19:27:40.143Z"
   },
   {
    "duration": 46,
    "start_time": "2024-03-09T19:27:40.264Z"
   },
   {
    "duration": 19,
    "start_time": "2024-03-09T19:27:40.311Z"
   },
   {
    "duration": 56,
    "start_time": "2024-03-09T19:27:40.331Z"
   },
   {
    "duration": 25,
    "start_time": "2024-03-09T19:27:40.388Z"
   },
   {
    "duration": 66,
    "start_time": "2024-03-09T19:27:40.415Z"
   },
   {
    "duration": 6,
    "start_time": "2024-03-09T19:27:40.483Z"
   },
   {
    "duration": 14,
    "start_time": "2024-03-09T19:27:40.490Z"
   },
   {
    "duration": 8,
    "start_time": "2024-03-09T19:27:40.505Z"
   },
   {
    "duration": 59,
    "start_time": "2024-03-09T19:27:40.514Z"
   },
   {
    "duration": 36,
    "start_time": "2024-03-09T19:27:40.574Z"
   },
   {
    "duration": 30,
    "start_time": "2024-03-09T19:27:40.611Z"
   },
   {
    "duration": 48,
    "start_time": "2024-03-09T19:27:40.642Z"
   },
   {
    "duration": 56,
    "start_time": "2024-03-09T19:27:40.691Z"
   },
   {
    "duration": 6,
    "start_time": "2024-03-09T19:27:40.749Z"
   },
   {
    "duration": 23,
    "start_time": "2024-03-09T19:27:40.757Z"
   },
   {
    "duration": 13,
    "start_time": "2024-03-09T19:27:40.781Z"
   },
   {
    "duration": 64,
    "start_time": "2024-03-09T19:27:40.795Z"
   },
   {
    "duration": 77,
    "start_time": "2024-03-09T19:27:40.860Z"
   },
   {
    "duration": 3,
    "start_time": "2024-03-09T19:27:40.938Z"
   },
   {
    "duration": 41,
    "start_time": "2024-03-09T19:27:40.942Z"
   },
   {
    "duration": 180,
    "start_time": "2024-03-09T19:27:40.985Z"
   },
   {
    "duration": 2,
    "start_time": "2024-03-09T19:27:41.168Z"
   },
   {
    "duration": 38,
    "start_time": "2024-03-09T19:27:41.171Z"
   },
   {
    "duration": 21,
    "start_time": "2024-03-09T19:27:41.211Z"
   },
   {
    "duration": 33,
    "start_time": "2024-03-09T19:27:41.234Z"
   },
   {
    "duration": 31,
    "start_time": "2024-03-09T19:27:41.269Z"
   },
   {
    "duration": 45,
    "start_time": "2024-03-09T19:27:41.301Z"
   },
   {
    "duration": 6,
    "start_time": "2024-03-09T19:28:25.473Z"
   },
   {
    "duration": 5,
    "start_time": "2024-03-09T19:29:01.115Z"
   },
   {
    "duration": 103,
    "start_time": "2024-03-09T19:29:01.550Z"
   },
   {
    "duration": 5,
    "start_time": "2024-03-09T19:29:09.552Z"
   },
   {
    "duration": 9,
    "start_time": "2024-03-09T19:29:10.053Z"
   },
   {
    "duration": 5,
    "start_time": "2024-03-09T19:30:19.610Z"
   },
   {
    "duration": 44,
    "start_time": "2024-03-09T19:30:19.638Z"
   },
   {
    "duration": 12,
    "start_time": "2024-03-09T19:33:41.970Z"
   },
   {
    "duration": 9,
    "start_time": "2024-03-09T19:33:54.272Z"
   },
   {
    "duration": 54,
    "start_time": "2024-03-09T19:33:55.835Z"
   },
   {
    "duration": 9,
    "start_time": "2024-03-09T19:33:56.225Z"
   },
   {
    "duration": 83,
    "start_time": "2024-03-09T19:34:16.265Z"
   },
   {
    "duration": 29,
    "start_time": "2024-03-09T19:34:58.325Z"
   },
   {
    "duration": 57,
    "start_time": "2024-03-09T19:35:00.310Z"
   },
   {
    "duration": 7,
    "start_time": "2024-03-09T19:35:01.179Z"
   },
   {
    "duration": 4,
    "start_time": "2024-03-09T19:35:01.744Z"
   },
   {
    "duration": 7,
    "start_time": "2024-03-09T19:35:02.510Z"
   },
   {
    "duration": 53,
    "start_time": "2024-03-09T19:35:03.193Z"
   },
   {
    "duration": 51,
    "start_time": "2024-03-09T19:35:18.416Z"
   },
   {
    "duration": 75,
    "start_time": "2024-03-09T19:35:20.550Z"
   },
   {
    "duration": 10,
    "start_time": "2024-03-09T19:35:41.558Z"
   },
   {
    "duration": 71,
    "start_time": "2024-03-09T19:36:11.865Z"
   },
   {
    "duration": 4,
    "start_time": "2024-03-09T19:37:51.796Z"
   },
   {
    "duration": 14,
    "start_time": "2024-03-09T19:37:52.397Z"
   },
   {
    "duration": 4,
    "start_time": "2024-03-09T19:38:28.959Z"
   },
   {
    "duration": 13,
    "start_time": "2024-03-09T19:38:30.208Z"
   },
   {
    "duration": 14,
    "start_time": "2024-03-09T19:43:07.452Z"
   },
   {
    "duration": 10,
    "start_time": "2024-03-09T19:43:11.953Z"
   },
   {
    "duration": 11,
    "start_time": "2024-03-09T19:43:16.787Z"
   },
   {
    "duration": 6,
    "start_time": "2024-03-09T19:44:33.346Z"
   },
   {
    "duration": 5,
    "start_time": "2024-03-09T19:44:35.481Z"
   },
   {
    "duration": 10,
    "start_time": "2024-03-09T19:44:37.248Z"
   },
   {
    "duration": 9,
    "start_time": "2024-03-09T19:45:27.065Z"
   },
   {
    "duration": 9,
    "start_time": "2024-03-09T19:45:34.366Z"
   },
   {
    "duration": 11,
    "start_time": "2024-03-09T19:45:44.220Z"
   },
   {
    "duration": 11,
    "start_time": "2024-03-09T19:45:55.751Z"
   },
   {
    "duration": 11,
    "start_time": "2024-03-09T19:46:42.540Z"
   },
   {
    "duration": 10,
    "start_time": "2024-03-09T19:46:54.076Z"
   },
   {
    "duration": 3,
    "start_time": "2024-03-09T19:48:34.636Z"
   },
   {
    "duration": 3,
    "start_time": "2024-03-09T19:48:38.956Z"
   },
   {
    "duration": 7,
    "start_time": "2024-03-09T19:48:38.961Z"
   },
   {
    "duration": 177,
    "start_time": "2024-03-09T19:48:38.970Z"
   },
   {
    "duration": 9,
    "start_time": "2024-03-09T19:48:39.149Z"
   },
   {
    "duration": 38,
    "start_time": "2024-03-09T19:48:39.159Z"
   },
   {
    "duration": 14,
    "start_time": "2024-03-09T19:48:39.198Z"
   },
   {
    "duration": 65,
    "start_time": "2024-03-09T19:48:39.213Z"
   },
   {
    "duration": 60,
    "start_time": "2024-03-09T19:48:39.280Z"
   },
   {
    "duration": 55,
    "start_time": "2024-03-09T19:48:39.341Z"
   },
   {
    "duration": 5,
    "start_time": "2024-03-09T19:48:39.398Z"
   },
   {
    "duration": 7,
    "start_time": "2024-03-09T19:48:39.404Z"
   },
   {
    "duration": 10,
    "start_time": "2024-03-09T19:48:39.413Z"
   },
   {
    "duration": 85,
    "start_time": "2024-03-09T19:48:39.424Z"
   },
   {
    "duration": 27,
    "start_time": "2024-03-09T19:48:39.511Z"
   },
   {
    "duration": 87,
    "start_time": "2024-03-09T19:48:39.540Z"
   },
   {
    "duration": 26,
    "start_time": "2024-03-09T19:48:39.628Z"
   },
   {
    "duration": 31,
    "start_time": "2024-03-09T19:48:39.656Z"
   },
   {
    "duration": 27,
    "start_time": "2024-03-09T19:48:39.688Z"
   },
   {
    "duration": 6,
    "start_time": "2024-03-09T19:48:39.717Z"
   },
   {
    "duration": 328,
    "start_time": "2024-03-09T19:48:39.724Z"
   },
   {
    "duration": 19,
    "start_time": "2024-03-09T19:48:40.053Z"
   },
   {
    "duration": 26,
    "start_time": "2024-03-09T19:48:40.073Z"
   },
   {
    "duration": 76,
    "start_time": "2024-03-09T19:48:40.100Z"
   },
   {
    "duration": 13,
    "start_time": "2024-03-09T19:48:40.177Z"
   },
   {
    "duration": 5,
    "start_time": "2024-03-09T19:48:40.192Z"
   },
   {
    "duration": 51,
    "start_time": "2024-03-09T19:48:40.198Z"
   },
   {
    "duration": 51,
    "start_time": "2024-03-09T19:48:40.250Z"
   },
   {
    "duration": 114,
    "start_time": "2024-03-09T19:48:40.305Z"
   },
   {
    "duration": 17,
    "start_time": "2024-03-09T19:48:40.420Z"
   },
   {
    "duration": 28,
    "start_time": "2024-03-09T19:48:40.439Z"
   },
   {
    "duration": 26,
    "start_time": "2024-03-09T19:48:40.468Z"
   },
   {
    "duration": 34,
    "start_time": "2024-03-09T19:48:40.495Z"
   },
   {
    "duration": 50,
    "start_time": "2024-03-09T19:48:40.530Z"
   },
   {
    "duration": 40,
    "start_time": "2024-03-09T19:48:40.581Z"
   },
   {
    "duration": 33,
    "start_time": "2024-03-09T19:48:40.623Z"
   },
   {
    "duration": 57,
    "start_time": "2024-03-09T19:48:40.657Z"
   },
   {
    "duration": 6,
    "start_time": "2024-03-09T19:48:40.715Z"
   },
   {
    "duration": 38,
    "start_time": "2024-03-09T19:48:40.723Z"
   },
   {
    "duration": 22,
    "start_time": "2024-03-09T19:48:40.762Z"
   },
   {
    "duration": 57,
    "start_time": "2024-03-09T19:48:40.785Z"
   },
   {
    "duration": 81,
    "start_time": "2024-03-09T19:48:40.844Z"
   },
   {
    "duration": 3,
    "start_time": "2024-03-09T19:48:40.927Z"
   },
   {
    "duration": 35,
    "start_time": "2024-03-09T19:48:40.931Z"
   },
   {
    "duration": 34,
    "start_time": "2024-03-09T19:48:40.968Z"
   },
   {
    "duration": 3,
    "start_time": "2024-03-09T19:48:41.003Z"
   },
   {
    "duration": 12,
    "start_time": "2024-03-09T19:48:41.007Z"
   },
   {
    "duration": 18,
    "start_time": "2024-03-09T19:48:41.020Z"
   },
   {
    "duration": 33,
    "start_time": "2024-03-09T19:48:41.039Z"
   },
   {
    "duration": 23,
    "start_time": "2024-03-09T19:48:41.074Z"
   },
   {
    "duration": 27,
    "start_time": "2024-03-09T19:48:41.099Z"
   },
   {
    "duration": 15,
    "start_time": "2024-03-09T19:48:41.127Z"
   },
   {
    "duration": 9,
    "start_time": "2024-03-09T19:48:41.144Z"
   },
   {
    "duration": 12,
    "start_time": "2024-03-09T19:48:41.154Z"
   },
   {
    "duration": 1266,
    "start_time": "2024-03-09T19:54:42.461Z"
   },
   {
    "duration": 2,
    "start_time": "2024-03-09T19:54:43.729Z"
   },
   {
    "duration": 184,
    "start_time": "2024-03-09T19:54:43.732Z"
   },
   {
    "duration": 13,
    "start_time": "2024-03-09T19:54:43.918Z"
   },
   {
    "duration": 57,
    "start_time": "2024-03-09T19:54:43.932Z"
   },
   {
    "duration": 15,
    "start_time": "2024-03-09T19:54:43.992Z"
   },
   {
    "duration": 60,
    "start_time": "2024-03-09T19:54:44.110Z"
   },
   {
    "duration": 72,
    "start_time": "2024-03-09T19:54:44.294Z"
   },
   {
    "duration": 54,
    "start_time": "2024-03-09T19:54:44.492Z"
   },
   {
    "duration": 6,
    "start_time": "2024-03-09T19:54:44.676Z"
   },
   {
    "duration": 6,
    "start_time": "2024-03-09T19:54:44.876Z"
   },
   {
    "duration": 9,
    "start_time": "2024-03-09T19:54:45.244Z"
   },
   {
    "duration": 80,
    "start_time": "2024-03-09T19:54:45.460Z"
   },
   {
    "duration": 13,
    "start_time": "2024-03-09T19:54:45.694Z"
   },
   {
    "duration": 43,
    "start_time": "2024-03-09T19:54:46.276Z"
   },
   {
    "duration": 24,
    "start_time": "2024-03-09T19:54:46.510Z"
   },
   {
    "duration": 7,
    "start_time": "2024-03-09T19:54:46.727Z"
   },
   {
    "duration": 17,
    "start_time": "2024-03-09T19:54:46.944Z"
   },
   {
    "duration": 6,
    "start_time": "2024-03-09T19:54:47.177Z"
   },
   {
    "duration": 404,
    "start_time": "2024-03-09T19:54:47.394Z"
   },
   {
    "duration": 20,
    "start_time": "2024-03-09T19:54:47.845Z"
   },
   {
    "duration": 12,
    "start_time": "2024-03-09T19:54:48.094Z"
   },
   {
    "duration": 59,
    "start_time": "2024-03-09T19:54:48.294Z"
   },
   {
    "duration": 13,
    "start_time": "2024-03-09T19:54:48.544Z"
   },
   {
    "duration": 5,
    "start_time": "2024-03-09T19:54:48.728Z"
   },
   {
    "duration": 33,
    "start_time": "2024-03-09T19:54:48.945Z"
   },
   {
    "duration": 24,
    "start_time": "2024-03-09T19:54:49.793Z"
   },
   {
    "duration": 49,
    "start_time": "2024-03-09T19:54:50.246Z"
   },
   {
    "duration": 6,
    "start_time": "2024-03-09T19:54:50.462Z"
   },
   {
    "duration": 8,
    "start_time": "2024-03-09T19:54:50.695Z"
   },
   {
    "duration": 7,
    "start_time": "2024-03-09T19:54:50.913Z"
   },
   {
    "duration": 2,
    "start_time": "2024-03-09T19:54:51.446Z"
   },
   {
    "duration": 4,
    "start_time": "2024-03-09T19:54:51.930Z"
   },
   {
    "duration": 8,
    "start_time": "2024-03-09T19:54:52.195Z"
   },
   {
    "duration": 28,
    "start_time": "2024-03-09T19:54:53.030Z"
   },
   {
    "duration": 58,
    "start_time": "2024-03-09T19:54:53.680Z"
   },
   {
    "duration": 9,
    "start_time": "2024-03-09T19:54:53.879Z"
   },
   {
    "duration": 4,
    "start_time": "2024-03-09T19:54:54.113Z"
   },
   {
    "duration": 6,
    "start_time": "2024-03-09T19:54:54.763Z"
   },
   {
    "duration": 45,
    "start_time": "2024-03-09T19:54:55.014Z"
   },
   {
    "duration": 80,
    "start_time": "2024-03-09T19:54:55.264Z"
   },
   {
    "duration": 4,
    "start_time": "2024-03-09T19:54:55.497Z"
   },
   {
    "duration": 7,
    "start_time": "2024-03-09T19:54:55.797Z"
   },
   {
    "duration": 75,
    "start_time": "2024-03-09T19:55:17.120Z"
   },
   {
    "duration": 3,
    "start_time": "2024-03-09T19:55:17.837Z"
   },
   {
    "duration": 6,
    "start_time": "2024-03-09T19:55:18.371Z"
   },
   {
    "duration": 180,
    "start_time": "2024-03-09T19:55:19.688Z"
   },
   {
    "duration": 2,
    "start_time": "2024-03-09T19:57:17.059Z"
   },
   {
    "duration": 2,
    "start_time": "2024-03-09T19:57:17.392Z"
   },
   {
    "duration": 2,
    "start_time": "2024-03-09T19:57:17.658Z"
   },
   {
    "duration": 7,
    "start_time": "2024-03-09T19:57:19.733Z"
   },
   {
    "duration": 7,
    "start_time": "2024-03-09T19:57:23.778Z"
   },
   {
    "duration": 10,
    "start_time": "2024-03-09T19:57:24.345Z"
   },
   {
    "duration": 11,
    "start_time": "2024-03-09T19:57:27.979Z"
   },
   {
    "duration": 11,
    "start_time": "2024-03-09T19:57:28.429Z"
   },
   {
    "duration": 10,
    "start_time": "2024-03-09T19:57:28.845Z"
   },
   {
    "duration": 7,
    "start_time": "2024-03-09T19:59:05.879Z"
   },
   {
    "duration": 104,
    "start_time": "2024-03-09T19:59:06.727Z"
   },
   {
    "duration": 12,
    "start_time": "2024-03-09T20:02:02.367Z"
   },
   {
    "duration": 7,
    "start_time": "2024-03-09T20:02:05.802Z"
   },
   {
    "duration": 12,
    "start_time": "2024-03-09T20:07:27.196Z"
   },
   {
    "duration": 8,
    "start_time": "2024-03-09T20:09:15.231Z"
   },
   {
    "duration": 10,
    "start_time": "2024-03-09T20:09:29.302Z"
   },
   {
    "duration": 7,
    "start_time": "2024-03-09T20:09:31.152Z"
   },
   {
    "duration": 8,
    "start_time": "2024-03-09T20:09:38.887Z"
   },
   {
    "duration": 5,
    "start_time": "2024-03-09T20:09:40.037Z"
   },
   {
    "duration": 10,
    "start_time": "2024-03-09T20:09:40.921Z"
   },
   {
    "duration": 3,
    "start_time": "2024-03-09T20:09:50.461Z"
   },
   {
    "duration": 22,
    "start_time": "2024-03-09T20:09:50.466Z"
   },
   {
    "duration": 181,
    "start_time": "2024-03-09T20:09:50.489Z"
   },
   {
    "duration": 10,
    "start_time": "2024-03-09T20:09:50.672Z"
   },
   {
    "duration": 33,
    "start_time": "2024-03-09T20:09:50.683Z"
   },
   {
    "duration": 15,
    "start_time": "2024-03-09T20:09:50.718Z"
   },
   {
    "duration": 50,
    "start_time": "2024-03-09T20:09:50.734Z"
   },
   {
    "duration": 75,
    "start_time": "2024-03-09T20:09:50.785Z"
   },
   {
    "duration": 61,
    "start_time": "2024-03-09T20:09:50.861Z"
   },
   {
    "duration": 5,
    "start_time": "2024-03-09T20:09:50.924Z"
   },
   {
    "duration": 25,
    "start_time": "2024-03-09T20:09:50.930Z"
   },
   {
    "duration": 59,
    "start_time": "2024-03-09T20:09:50.957Z"
   },
   {
    "duration": 70,
    "start_time": "2024-03-09T20:09:51.017Z"
   },
   {
    "duration": 25,
    "start_time": "2024-03-09T20:09:51.089Z"
   },
   {
    "duration": 103,
    "start_time": "2024-03-09T20:09:51.116Z"
   },
   {
    "duration": 24,
    "start_time": "2024-03-09T20:09:51.221Z"
   },
   {
    "duration": 33,
    "start_time": "2024-03-09T20:09:51.247Z"
   },
   {
    "duration": 44,
    "start_time": "2024-03-09T20:09:51.282Z"
   },
   {
    "duration": 21,
    "start_time": "2024-03-09T20:09:51.327Z"
   },
   {
    "duration": 327,
    "start_time": "2024-03-09T20:09:51.349Z"
   },
   {
    "duration": 31,
    "start_time": "2024-03-09T20:09:51.678Z"
   },
   {
    "duration": 20,
    "start_time": "2024-03-09T20:09:51.711Z"
   },
   {
    "duration": 74,
    "start_time": "2024-03-09T20:09:51.732Z"
   },
   {
    "duration": 13,
    "start_time": "2024-03-09T20:09:51.807Z"
   },
   {
    "duration": 6,
    "start_time": "2024-03-09T20:09:51.821Z"
   },
   {
    "duration": 49,
    "start_time": "2024-03-09T20:09:51.828Z"
   },
   {
    "duration": 24,
    "start_time": "2024-03-09T20:09:51.878Z"
   },
   {
    "duration": 63,
    "start_time": "2024-03-09T20:09:51.905Z"
   },
   {
    "duration": 5,
    "start_time": "2024-03-09T20:09:51.970Z"
   },
   {
    "duration": 69,
    "start_time": "2024-03-09T20:09:51.976Z"
   },
   {
    "duration": 8,
    "start_time": "2024-03-09T20:09:52.047Z"
   },
   {
    "duration": 22,
    "start_time": "2024-03-09T20:09:52.056Z"
   },
   {
    "duration": 23,
    "start_time": "2024-03-09T20:09:52.079Z"
   },
   {
    "duration": 23,
    "start_time": "2024-03-09T20:09:52.103Z"
   },
   {
    "duration": 38,
    "start_time": "2024-03-09T20:09:52.128Z"
   },
   {
    "duration": 58,
    "start_time": "2024-03-09T20:09:52.167Z"
   },
   {
    "duration": 6,
    "start_time": "2024-03-09T20:09:52.226Z"
   },
   {
    "duration": 22,
    "start_time": "2024-03-09T20:09:52.234Z"
   },
   {
    "duration": 25,
    "start_time": "2024-03-09T20:09:52.257Z"
   },
   {
    "duration": 74,
    "start_time": "2024-03-09T20:09:52.283Z"
   },
   {
    "duration": 74,
    "start_time": "2024-03-09T20:09:52.359Z"
   },
   {
    "duration": 3,
    "start_time": "2024-03-09T20:09:52.435Z"
   },
   {
    "duration": 18,
    "start_time": "2024-03-09T20:09:52.439Z"
   },
   {
    "duration": 37,
    "start_time": "2024-03-09T20:09:52.458Z"
   },
   {
    "duration": 22,
    "start_time": "2024-03-09T20:09:52.496Z"
   },
   {
    "duration": 35,
    "start_time": "2024-03-09T20:09:52.520Z"
   },
   {
    "duration": 27,
    "start_time": "2024-03-09T20:09:52.556Z"
   },
   {
    "duration": 24,
    "start_time": "2024-03-09T20:09:52.584Z"
   },
   {
    "duration": 14,
    "start_time": "2024-03-09T20:09:52.609Z"
   },
   {
    "duration": 24,
    "start_time": "2024-03-09T20:09:52.624Z"
   },
   {
    "duration": 32,
    "start_time": "2024-03-09T20:09:52.649Z"
   },
   {
    "duration": 30,
    "start_time": "2024-03-09T20:09:52.683Z"
   },
   {
    "duration": 19,
    "start_time": "2024-03-09T20:09:52.714Z"
   },
   {
    "duration": 23,
    "start_time": "2024-03-09T20:09:52.734Z"
   },
   {
    "duration": 39,
    "start_time": "2024-03-09T20:09:52.758Z"
   },
   {
    "duration": 3,
    "start_time": "2024-03-09T20:10:19.168Z"
   },
   {
    "duration": 7,
    "start_time": "2024-03-09T20:10:20.685Z"
   },
   {
    "duration": 6,
    "start_time": "2024-03-09T20:10:26.387Z"
   },
   {
    "duration": 11,
    "start_time": "2024-03-09T20:10:27.187Z"
   },
   {
    "duration": 12,
    "start_time": "2024-03-09T20:10:30.054Z"
   },
   {
    "duration": 11,
    "start_time": "2024-03-09T20:10:31.984Z"
   },
   {
    "duration": 12,
    "start_time": "2024-03-09T20:10:33.605Z"
   },
   {
    "duration": 6,
    "start_time": "2024-03-09T20:18:30.657Z"
   },
   {
    "duration": 51,
    "start_time": "2024-03-09T20:18:32.099Z"
   },
   {
    "duration": 75,
    "start_time": "2024-03-09T20:18:34.722Z"
   },
   {
    "duration": 76,
    "start_time": "2024-03-09T20:19:43.195Z"
   },
   {
    "duration": 6,
    "start_time": "2024-03-09T20:19:44.162Z"
   },
   {
    "duration": 4,
    "start_time": "2024-03-09T20:20:19.006Z"
   },
   {
    "duration": 7,
    "start_time": "2024-03-09T20:20:19.574Z"
   },
   {
    "duration": 4,
    "start_time": "2024-03-09T20:20:47.134Z"
   },
   {
    "duration": 13,
    "start_time": "2024-03-09T20:20:47.139Z"
   },
   {
    "duration": 178,
    "start_time": "2024-03-09T20:20:47.153Z"
   },
   {
    "duration": 9,
    "start_time": "2024-03-09T20:20:47.332Z"
   },
   {
    "duration": 24,
    "start_time": "2024-03-09T20:20:47.343Z"
   },
   {
    "duration": 27,
    "start_time": "2024-03-09T20:20:47.368Z"
   },
   {
    "duration": 94,
    "start_time": "2024-03-09T20:20:47.396Z"
   },
   {
    "duration": 59,
    "start_time": "2024-03-09T20:20:47.492Z"
   },
   {
    "duration": 55,
    "start_time": "2024-03-09T20:20:47.552Z"
   },
   {
    "duration": 5,
    "start_time": "2024-03-09T20:20:47.608Z"
   },
   {
    "duration": 53,
    "start_time": "2024-03-09T20:20:47.614Z"
   },
   {
    "duration": 28,
    "start_time": "2024-03-09T20:20:47.669Z"
   },
   {
    "duration": 72,
    "start_time": "2024-03-09T20:20:47.698Z"
   },
   {
    "duration": 12,
    "start_time": "2024-03-09T20:20:47.774Z"
   },
   {
    "duration": 50,
    "start_time": "2024-03-09T20:20:47.788Z"
   },
   {
    "duration": 24,
    "start_time": "2024-03-09T20:20:47.839Z"
   },
   {
    "duration": 8,
    "start_time": "2024-03-09T20:20:47.865Z"
   },
   {
    "duration": 33,
    "start_time": "2024-03-09T20:20:47.875Z"
   },
   {
    "duration": 13,
    "start_time": "2024-03-09T20:20:47.909Z"
   },
   {
    "duration": 390,
    "start_time": "2024-03-09T20:20:47.923Z"
   },
   {
    "duration": 21,
    "start_time": "2024-03-09T20:20:48.315Z"
   },
   {
    "duration": 13,
    "start_time": "2024-03-09T20:20:48.337Z"
   },
   {
    "duration": 78,
    "start_time": "2024-03-09T20:20:48.352Z"
   },
   {
    "duration": 13,
    "start_time": "2024-03-09T20:20:48.432Z"
   },
   {
    "duration": 6,
    "start_time": "2024-03-09T20:20:48.447Z"
   },
   {
    "duration": 46,
    "start_time": "2024-03-09T20:20:48.455Z"
   },
   {
    "duration": 24,
    "start_time": "2024-03-09T20:20:48.503Z"
   },
   {
    "duration": 45,
    "start_time": "2024-03-09T20:20:48.529Z"
   },
   {
    "duration": 21,
    "start_time": "2024-03-09T20:20:48.576Z"
   },
   {
    "duration": 13,
    "start_time": "2024-03-09T20:20:48.599Z"
   },
   {
    "duration": 7,
    "start_time": "2024-03-09T20:20:48.614Z"
   },
   {
    "duration": 22,
    "start_time": "2024-03-09T20:20:48.623Z"
   },
   {
    "duration": 13,
    "start_time": "2024-03-09T20:20:48.646Z"
   },
   {
    "duration": 37,
    "start_time": "2024-03-09T20:20:48.660Z"
   },
   {
    "duration": 58,
    "start_time": "2024-03-09T20:20:48.698Z"
   },
   {
    "duration": 6,
    "start_time": "2024-03-09T20:20:48.758Z"
   },
   {
    "duration": 58,
    "start_time": "2024-03-09T20:20:48.766Z"
   },
   {
    "duration": 70,
    "start_time": "2024-03-09T20:20:48.826Z"
   },
   {
    "duration": 6,
    "start_time": "2024-03-09T20:20:48.898Z"
   },
   {
    "duration": 29,
    "start_time": "2024-03-09T20:20:48.905Z"
   },
   {
    "duration": 20,
    "start_time": "2024-03-09T20:20:48.938Z"
   },
   {
    "duration": 30,
    "start_time": "2024-03-09T20:20:48.960Z"
   },
   {
    "duration": 13,
    "start_time": "2024-03-09T20:20:48.991Z"
   },
   {
    "duration": 50,
    "start_time": "2024-03-09T20:20:49.006Z"
   },
   {
    "duration": 22,
    "start_time": "2024-03-09T20:20:49.057Z"
   },
   {
    "duration": 27,
    "start_time": "2024-03-09T20:20:49.081Z"
   },
   {
    "duration": 12,
    "start_time": "2024-03-09T20:20:49.109Z"
   },
   {
    "duration": 19,
    "start_time": "2024-03-09T20:20:49.122Z"
   },
   {
    "duration": 16,
    "start_time": "2024-03-09T20:20:49.142Z"
   },
   {
    "duration": 13,
    "start_time": "2024-03-09T20:20:49.159Z"
   },
   {
    "duration": 12,
    "start_time": "2024-03-09T20:20:49.173Z"
   },
   {
    "duration": 9,
    "start_time": "2024-03-09T20:22:54.270Z"
   },
   {
    "duration": 9,
    "start_time": "2024-03-09T20:23:27.347Z"
   },
   {
    "duration": 92,
    "start_time": "2024-03-09T20:23:27.630Z"
   },
   {
    "duration": 9,
    "start_time": "2024-03-09T20:23:34.316Z"
   },
   {
    "duration": 9,
    "start_time": "2024-03-09T20:24:44.773Z"
   },
   {
    "duration": 4,
    "start_time": "2024-03-09T21:01:20.955Z"
   },
   {
    "duration": 3,
    "start_time": "2024-03-09T21:01:22.038Z"
   },
   {
    "duration": 176,
    "start_time": "2024-03-09T21:01:23.305Z"
   },
   {
    "duration": 9,
    "start_time": "2024-03-09T21:01:24.121Z"
   },
   {
    "duration": 30,
    "start_time": "2024-03-09T21:01:32.558Z"
   },
   {
    "duration": 19,
    "start_time": "2024-03-09T21:02:33.192Z"
   },
   {
    "duration": 15,
    "start_time": "2024-03-09T21:02:34.326Z"
   },
   {
    "duration": 57,
    "start_time": "2024-03-09T21:02:36.627Z"
   },
   {
    "duration": 61,
    "start_time": "2024-03-09T21:02:38.144Z"
   },
   {
    "duration": 55,
    "start_time": "2024-03-09T21:02:38.577Z"
   },
   {
    "duration": 5,
    "start_time": "2024-03-09T21:02:41.345Z"
   },
   {
    "duration": 7,
    "start_time": "2024-03-09T21:02:42.128Z"
   },
   {
    "duration": 8,
    "start_time": "2024-03-09T21:02:43.478Z"
   },
   {
    "duration": 69,
    "start_time": "2024-03-09T21:02:46.112Z"
   },
   {
    "duration": 14,
    "start_time": "2024-03-09T21:02:51.431Z"
   },
   {
    "duration": 41,
    "start_time": "2024-03-09T21:02:59.734Z"
   },
   {
    "duration": 25,
    "start_time": "2024-03-09T21:03:02.084Z"
   },
   {
    "duration": 8,
    "start_time": "2024-03-09T21:03:02.534Z"
   },
   {
    "duration": 17,
    "start_time": "2024-03-09T21:03:04.284Z"
   },
   {
    "duration": 7,
    "start_time": "2024-03-09T21:03:06.436Z"
   },
   {
    "duration": 312,
    "start_time": "2024-03-09T21:03:08.120Z"
   },
   {
    "duration": 20,
    "start_time": "2024-03-09T21:03:15.505Z"
   },
   {
    "duration": 13,
    "start_time": "2024-03-09T21:03:18.073Z"
   },
   {
    "duration": 62,
    "start_time": "2024-03-09T21:03:19.307Z"
   },
   {
    "duration": 14,
    "start_time": "2024-03-09T21:03:25.374Z"
   },
   {
    "duration": 6,
    "start_time": "2024-03-09T21:03:29.076Z"
   },
   {
    "duration": 35,
    "start_time": "2024-03-09T21:03:43.413Z"
   },
   {
    "duration": 28,
    "start_time": "2024-03-09T21:03:57.902Z"
   },
   {
    "duration": 47,
    "start_time": "2024-03-09T21:04:03.371Z"
   },
   {
    "duration": 6,
    "start_time": "2024-03-09T21:04:08.856Z"
   },
   {
    "duration": 8,
    "start_time": "2024-03-09T21:04:20.858Z"
   },
   {
    "duration": 7,
    "start_time": "2024-03-09T21:04:21.426Z"
   },
   {
    "duration": 3,
    "start_time": "2024-03-09T21:04:24.661Z"
   },
   {
    "duration": 7,
    "start_time": "2024-03-09T21:04:25.245Z"
   },
   {
    "duration": 29,
    "start_time": "2024-03-09T21:04:31.027Z"
   },
   {
    "duration": 59,
    "start_time": "2024-03-09T21:04:40.981Z"
   },
   {
    "duration": 8,
    "start_time": "2024-03-09T21:04:42.499Z"
   },
   {
    "duration": 59,
    "start_time": "2024-03-09T21:04:54.836Z"
   },
   {
    "duration": 77,
    "start_time": "2024-03-09T21:05:08.706Z"
   },
   {
    "duration": 7,
    "start_time": "2024-03-09T21:05:13.009Z"
   },
   {
    "duration": 4,
    "start_time": "2024-03-09T21:05:17.660Z"
   },
   {
    "duration": 8,
    "start_time": "2024-03-09T21:05:21.910Z"
   },
   {
    "duration": 21,
    "start_time": "2024-03-09T21:05:24.245Z"
   },
   {
    "duration": 3,
    "start_time": "2024-03-09T21:05:53.921Z"
   },
   {
    "duration": 9,
    "start_time": "2024-03-09T21:06:10.625Z"
   },
   {
    "duration": 5,
    "start_time": "2024-03-09T21:06:14.293Z"
   },
   {
    "duration": 10,
    "start_time": "2024-03-09T21:06:15.710Z"
   },
   {
    "duration": 10,
    "start_time": "2024-03-09T21:06:47.988Z"
   },
   {
    "duration": 8,
    "start_time": "2024-03-09T21:06:51.455Z"
   },
   {
    "duration": 8,
    "start_time": "2024-03-09T21:06:54.839Z"
   },
   {
    "duration": 3,
    "start_time": "2024-03-09T21:14:32.039Z"
   },
   {
    "duration": 4,
    "start_time": "2024-03-09T21:14:36.400Z"
   },
   {
    "duration": 33,
    "start_time": "2024-03-09T21:14:36.405Z"
   },
   {
    "duration": 200,
    "start_time": "2024-03-09T21:14:36.440Z"
   },
   {
    "duration": 9,
    "start_time": "2024-03-09T21:14:36.641Z"
   },
   {
    "duration": 45,
    "start_time": "2024-03-09T21:14:36.652Z"
   },
   {
    "duration": 19,
    "start_time": "2024-03-09T21:14:36.699Z"
   },
   {
    "duration": 122,
    "start_time": "2024-03-09T21:14:36.719Z"
   },
   {
    "duration": 61,
    "start_time": "2024-03-09T21:14:36.842Z"
   },
   {
    "duration": 56,
    "start_time": "2024-03-09T21:14:36.905Z"
   },
   {
    "duration": 5,
    "start_time": "2024-03-09T21:14:36.963Z"
   },
   {
    "duration": 26,
    "start_time": "2024-03-09T21:14:36.969Z"
   },
   {
    "duration": 11,
    "start_time": "2024-03-09T21:14:36.996Z"
   },
   {
    "duration": 69,
    "start_time": "2024-03-09T21:14:37.008Z"
   },
   {
    "duration": 24,
    "start_time": "2024-03-09T21:14:37.079Z"
   },
   {
    "duration": 61,
    "start_time": "2024-03-09T21:14:37.105Z"
   },
   {
    "duration": 24,
    "start_time": "2024-03-09T21:14:37.167Z"
   },
   {
    "duration": 12,
    "start_time": "2024-03-09T21:14:37.193Z"
   },
   {
    "duration": 25,
    "start_time": "2024-03-09T21:14:37.207Z"
   },
   {
    "duration": 11,
    "start_time": "2024-03-09T21:14:37.233Z"
   },
   {
    "duration": 352,
    "start_time": "2024-03-09T21:14:37.246Z"
   },
   {
    "duration": 20,
    "start_time": "2024-03-09T21:14:37.599Z"
   },
   {
    "duration": 12,
    "start_time": "2024-03-09T21:14:37.621Z"
   },
   {
    "duration": 77,
    "start_time": "2024-03-09T21:14:37.634Z"
   },
   {
    "duration": 14,
    "start_time": "2024-03-09T21:14:37.713Z"
   },
   {
    "duration": 21,
    "start_time": "2024-03-09T21:14:37.728Z"
   },
   {
    "duration": 31,
    "start_time": "2024-03-09T21:14:37.751Z"
   },
   {
    "duration": 25,
    "start_time": "2024-03-09T21:14:37.794Z"
   },
   {
    "duration": 48,
    "start_time": "2024-03-09T21:14:37.823Z"
   },
   {
    "duration": 24,
    "start_time": "2024-03-09T21:14:37.872Z"
   },
   {
    "duration": 16,
    "start_time": "2024-03-09T21:14:37.897Z"
   },
   {
    "duration": 8,
    "start_time": "2024-03-09T21:14:37.914Z"
   },
   {
    "duration": 22,
    "start_time": "2024-03-09T21:14:37.923Z"
   },
   {
    "duration": 20,
    "start_time": "2024-03-09T21:14:37.947Z"
   },
   {
    "duration": 79,
    "start_time": "2024-03-09T21:14:37.969Z"
   },
   {
    "duration": 59,
    "start_time": "2024-03-09T21:14:38.050Z"
   },
   {
    "duration": 6,
    "start_time": "2024-03-09T21:14:38.111Z"
   },
   {
    "duration": 53,
    "start_time": "2024-03-09T21:14:38.119Z"
   },
   {
    "duration": 80,
    "start_time": "2024-03-09T21:14:38.174Z"
   },
   {
    "duration": 7,
    "start_time": "2024-03-09T21:14:38.255Z"
   },
   {
    "duration": 24,
    "start_time": "2024-03-09T21:14:38.264Z"
   },
   {
    "duration": 11,
    "start_time": "2024-03-09T21:14:38.290Z"
   },
   {
    "duration": 23,
    "start_time": "2024-03-09T21:14:38.303Z"
   },
   {
    "duration": 7,
    "start_time": "2024-03-09T21:14:38.327Z"
   },
   {
    "duration": 6,
    "start_time": "2024-03-09T21:14:38.335Z"
   },
   {
    "duration": 14,
    "start_time": "2024-03-09T21:14:38.342Z"
   },
   {
    "duration": 8,
    "start_time": "2024-03-09T21:14:38.357Z"
   },
   {
    "duration": 32,
    "start_time": "2024-03-09T21:14:38.366Z"
   },
   {
    "duration": 10,
    "start_time": "2024-03-09T21:14:38.400Z"
   },
   {
    "duration": 1501,
    "start_time": "2024-03-10T13:35:05.787Z"
   },
   {
    "duration": 3,
    "start_time": "2024-03-10T13:35:07.290Z"
   },
   {
    "duration": 527,
    "start_time": "2024-03-10T13:35:07.295Z"
   },
   {
    "duration": 14,
    "start_time": "2024-03-10T13:35:07.824Z"
   },
   {
    "duration": 24,
    "start_time": "2024-03-10T13:35:07.841Z"
   },
   {
    "duration": 28,
    "start_time": "2024-03-10T13:35:07.867Z"
   },
   {
    "duration": 72,
    "start_time": "2024-03-10T13:35:07.897Z"
   },
   {
    "duration": 87,
    "start_time": "2024-03-10T13:35:07.971Z"
   },
   {
    "duration": 77,
    "start_time": "2024-03-10T13:35:08.060Z"
   },
   {
    "duration": 5,
    "start_time": "2024-03-10T13:35:08.140Z"
   },
   {
    "duration": 7,
    "start_time": "2024-03-10T13:35:08.147Z"
   },
   {
    "duration": 30,
    "start_time": "2024-03-10T13:35:08.156Z"
   },
   {
    "duration": 94,
    "start_time": "2024-03-10T13:35:08.188Z"
   },
   {
    "duration": 16,
    "start_time": "2024-03-10T13:35:08.284Z"
   },
   {
    "duration": 51,
    "start_time": "2024-03-10T13:35:08.302Z"
   },
   {
    "duration": 51,
    "start_time": "2024-03-10T13:35:08.355Z"
   },
   {
    "duration": 9,
    "start_time": "2024-03-10T13:35:08.408Z"
   },
   {
    "duration": 20,
    "start_time": "2024-03-10T13:35:08.419Z"
   },
   {
    "duration": 9,
    "start_time": "2024-03-10T13:35:08.440Z"
   },
   {
    "duration": 526,
    "start_time": "2024-03-10T13:35:08.451Z"
   },
   {
    "duration": 24,
    "start_time": "2024-03-10T13:35:08.981Z"
   },
   {
    "duration": 15,
    "start_time": "2024-03-10T13:35:09.010Z"
   },
   {
    "duration": 94,
    "start_time": "2024-03-10T13:35:09.027Z"
   },
   {
    "duration": 15,
    "start_time": "2024-03-10T13:35:09.123Z"
   },
   {
    "duration": 6,
    "start_time": "2024-03-10T13:35:09.140Z"
   },
   {
    "duration": 58,
    "start_time": "2024-03-10T13:35:09.148Z"
   },
   {
    "duration": 28,
    "start_time": "2024-03-10T13:35:09.208Z"
   },
   {
    "duration": 75,
    "start_time": "2024-03-10T13:35:09.240Z"
   },
   {
    "duration": 7,
    "start_time": "2024-03-10T13:35:09.316Z"
   },
   {
    "duration": 13,
    "start_time": "2024-03-10T13:35:09.325Z"
   },
   {
    "duration": 11,
    "start_time": "2024-03-10T13:35:09.340Z"
   },
   {
    "duration": 4,
    "start_time": "2024-03-10T13:35:09.353Z"
   },
   {
    "duration": 31,
    "start_time": "2024-03-10T13:35:09.358Z"
   },
   {
    "duration": 34,
    "start_time": "2024-03-10T13:35:09.391Z"
   },
   {
    "duration": 85,
    "start_time": "2024-03-10T13:35:09.427Z"
   },
   {
    "duration": 8,
    "start_time": "2024-03-10T13:35:09.513Z"
   },
   {
    "duration": 68,
    "start_time": "2024-03-10T13:35:09.522Z"
   },
   {
    "duration": 95,
    "start_time": "2024-03-10T13:35:09.592Z"
   },
   {
    "duration": 7,
    "start_time": "2024-03-10T13:35:09.689Z"
   },
   {
    "duration": 4,
    "start_time": "2024-03-10T13:35:09.698Z"
   },
   {
    "duration": 9,
    "start_time": "2024-03-10T13:35:09.704Z"
   },
   {
    "duration": 221,
    "start_time": "2024-03-10T13:35:09.715Z"
   },
   {
    "duration": 12,
    "start_time": "2024-03-10T13:35:09.938Z"
   },
   {
    "duration": 7,
    "start_time": "2024-03-10T13:35:09.951Z"
   },
   {
    "duration": 29,
    "start_time": "2024-03-10T13:35:09.961Z"
   },
   {
    "duration": 11,
    "start_time": "2024-03-10T13:35:09.992Z"
   },
   {
    "duration": 27,
    "start_time": "2024-03-10T13:35:10.004Z"
   },
   {
    "duration": 8,
    "start_time": "2024-03-10T13:35:10.083Z"
   },
   {
    "duration": 50,
    "start_time": "2024-03-10T13:44:12.746Z"
   },
   {
    "duration": 43,
    "start_time": "2024-03-10T13:47:16.011Z"
   },
   {
    "duration": 37,
    "start_time": "2024-03-10T13:51:27.791Z"
   },
   {
    "duration": 151,
    "start_time": "2024-03-10T13:51:46.078Z"
   },
   {
    "duration": 45,
    "start_time": "2024-03-10T13:52:10.437Z"
   },
   {
    "duration": 46,
    "start_time": "2024-03-10T13:52:32.027Z"
   },
   {
    "duration": 64,
    "start_time": "2024-03-10T13:52:42.747Z"
   },
   {
    "duration": 46,
    "start_time": "2024-03-10T13:53:55.819Z"
   },
   {
    "duration": 1257,
    "start_time": "2024-03-10T13:54:04.572Z"
   },
   {
    "duration": 39,
    "start_time": "2024-03-10T13:54:22.211Z"
   },
   {
    "duration": 39,
    "start_time": "2024-03-10T13:54:58.305Z"
   },
   {
    "duration": 38,
    "start_time": "2024-03-10T13:55:05.526Z"
   },
   {
    "duration": 42,
    "start_time": "2024-03-10T13:55:19.946Z"
   },
   {
    "duration": 60,
    "start_time": "2024-03-10T13:57:00.300Z"
   },
   {
    "duration": 1406,
    "start_time": "2024-03-10T14:06:11.627Z"
   },
   {
    "duration": 1088,
    "start_time": "2024-03-10T14:06:40.395Z"
   },
   {
    "duration": 3,
    "start_time": "2024-03-10T14:06:57.684Z"
   },
   {
    "duration": 8,
    "start_time": "2024-03-10T14:06:58.401Z"
   },
   {
    "duration": 1194,
    "start_time": "2024-03-10T14:07:02.403Z"
   },
   {
    "duration": 5,
    "start_time": "2024-03-10T14:08:15.228Z"
   },
   {
    "duration": 3,
    "start_time": "2024-03-10T14:08:15.891Z"
   },
   {
    "duration": 185,
    "start_time": "2024-03-10T14:08:16.108Z"
   },
   {
    "duration": 10,
    "start_time": "2024-03-10T14:08:16.360Z"
   },
   {
    "duration": 28,
    "start_time": "2024-03-10T14:08:16.826Z"
   },
   {
    "duration": 23,
    "start_time": "2024-03-10T14:08:17.076Z"
   },
   {
    "duration": 61,
    "start_time": "2024-03-10T14:08:17.327Z"
   },
   {
    "duration": 70,
    "start_time": "2024-03-10T14:08:17.761Z"
   },
   {
    "duration": 62,
    "start_time": "2024-03-10T14:08:17.961Z"
   },
   {
    "duration": 7,
    "start_time": "2024-03-10T14:08:18.177Z"
   },
   {
    "duration": 9,
    "start_time": "2024-03-10T14:08:18.376Z"
   },
   {
    "duration": 7,
    "start_time": "2024-03-10T14:08:18.594Z"
   },
   {
    "duration": 78,
    "start_time": "2024-03-10T14:08:18.793Z"
   },
   {
    "duration": 15,
    "start_time": "2024-03-10T14:08:18.977Z"
   },
   {
    "duration": 47,
    "start_time": "2024-03-10T14:08:19.794Z"
   },
   {
    "duration": 44,
    "start_time": "2024-03-10T14:08:20.427Z"
   },
   {
    "duration": 28,
    "start_time": "2024-03-10T14:08:20.611Z"
   },
   {
    "duration": 7,
    "start_time": "2024-03-10T14:08:20.827Z"
   },
   {
    "duration": 19,
    "start_time": "2024-03-10T14:08:21.043Z"
   },
   {
    "duration": 8,
    "start_time": "2024-03-10T14:08:21.745Z"
   },
   {
    "duration": 375,
    "start_time": "2024-03-10T14:08:21.978Z"
   },
   {
    "duration": 22,
    "start_time": "2024-03-10T14:08:22.645Z"
   },
   {
    "duration": 13,
    "start_time": "2024-03-10T14:08:23.195Z"
   },
   {
    "duration": 69,
    "start_time": "2024-03-10T14:08:23.412Z"
   },
   {
    "duration": 16,
    "start_time": "2024-03-10T14:08:23.678Z"
   },
   {
    "duration": 7,
    "start_time": "2024-03-10T14:08:24.028Z"
   },
   {
    "duration": 34,
    "start_time": "2024-03-10T14:08:24.228Z"
   },
   {
    "duration": 28,
    "start_time": "2024-03-10T14:08:25.077Z"
   },
   {
    "duration": 58,
    "start_time": "2024-03-10T14:08:25.529Z"
   },
   {
    "duration": 6,
    "start_time": "2024-03-10T14:08:25.712Z"
   },
   {
    "duration": 8,
    "start_time": "2024-03-10T14:08:25.928Z"
   },
   {
    "duration": 7,
    "start_time": "2024-03-10T14:08:26.145Z"
   },
   {
    "duration": 4,
    "start_time": "2024-03-10T14:08:26.896Z"
   },
   {
    "duration": 8,
    "start_time": "2024-03-10T14:08:27.146Z"
   },
   {
    "duration": 1277,
    "start_time": "2024-03-10T14:08:29.064Z"
   },
   {
    "duration": 23,
    "start_time": "2024-03-10T14:08:56.891Z"
   },
   {
    "duration": 4,
    "start_time": "2024-03-10T14:21:46.270Z"
   },
   {
    "duration": 1126,
    "start_time": "2024-03-10T14:21:53.138Z"
   },
   {
    "duration": 19,
    "start_time": "2024-03-10T14:23:24.550Z"
   },
   {
    "duration": 1157,
    "start_time": "2024-03-10T14:25:56.664Z"
   },
   {
    "duration": 1147,
    "start_time": "2024-03-10T14:28:39.701Z"
   },
   {
    "duration": 1109,
    "start_time": "2024-03-10T14:29:05.925Z"
   },
   {
    "duration": 1099,
    "start_time": "2024-03-10T14:29:26.265Z"
   },
   {
    "duration": 11,
    "start_time": "2024-03-10T14:29:43.187Z"
   },
   {
    "duration": 10,
    "start_time": "2024-03-10T14:29:56.940Z"
   },
   {
    "duration": 4,
    "start_time": "2024-03-10T14:30:53.391Z"
   },
   {
    "duration": 8,
    "start_time": "2024-03-10T14:30:55.057Z"
   },
   {
    "duration": 1307,
    "start_time": "2024-03-10T14:35:34.357Z"
   },
   {
    "duration": 3,
    "start_time": "2024-03-10T14:35:35.667Z"
   },
   {
    "duration": 200,
    "start_time": "2024-03-10T14:35:35.672Z"
   },
   {
    "duration": 15,
    "start_time": "2024-03-10T14:35:35.874Z"
   },
   {
    "duration": 25,
    "start_time": "2024-03-10T14:35:35.890Z"
   },
   {
    "duration": 23,
    "start_time": "2024-03-10T14:35:35.917Z"
   },
   {
    "duration": 103,
    "start_time": "2024-03-10T14:35:35.942Z"
   },
   {
    "duration": 95,
    "start_time": "2024-03-10T14:35:36.047Z"
   },
   {
    "duration": 75,
    "start_time": "2024-03-10T14:35:36.144Z"
   },
   {
    "duration": 6,
    "start_time": "2024-03-10T14:35:36.223Z"
   },
   {
    "duration": 8,
    "start_time": "2024-03-10T14:35:36.230Z"
   },
   {
    "duration": 9,
    "start_time": "2024-03-10T14:35:36.239Z"
   },
   {
    "duration": 101,
    "start_time": "2024-03-10T14:35:36.249Z"
   },
   {
    "duration": 15,
    "start_time": "2024-03-10T14:35:36.351Z"
   },
   {
    "duration": 53,
    "start_time": "2024-03-10T14:35:36.368Z"
   },
   {
    "duration": 62,
    "start_time": "2024-03-10T14:35:36.422Z"
   },
   {
    "duration": 27,
    "start_time": "2024-03-10T14:35:36.486Z"
   },
   {
    "duration": 7,
    "start_time": "2024-03-10T14:35:36.515Z"
   },
   {
    "duration": 17,
    "start_time": "2024-03-10T14:35:36.524Z"
   },
   {
    "duration": 7,
    "start_time": "2024-03-10T14:35:36.543Z"
   },
   {
    "duration": 445,
    "start_time": "2024-03-10T14:35:36.583Z"
   },
   {
    "duration": 21,
    "start_time": "2024-03-10T14:35:37.030Z"
   },
   {
    "duration": 29,
    "start_time": "2024-03-10T14:35:37.053Z"
   },
   {
    "duration": 67,
    "start_time": "2024-03-10T14:35:37.084Z"
   },
   {
    "duration": 36,
    "start_time": "2024-03-10T14:35:37.153Z"
   },
   {
    "duration": 7,
    "start_time": "2024-03-10T14:35:37.190Z"
   },
   {
    "duration": 37,
    "start_time": "2024-03-10T14:35:37.198Z"
   },
   {
    "duration": 53,
    "start_time": "2024-03-10T14:35:37.240Z"
   },
   {
    "duration": 65,
    "start_time": "2024-03-10T14:35:37.296Z"
   },
   {
    "duration": 22,
    "start_time": "2024-03-10T14:35:37.363Z"
   },
   {
    "duration": 8,
    "start_time": "2024-03-10T14:35:37.387Z"
   },
   {
    "duration": 12,
    "start_time": "2024-03-10T14:35:37.396Z"
   },
   {
    "duration": 4,
    "start_time": "2024-03-10T14:35:37.410Z"
   },
   {
    "duration": 12,
    "start_time": "2024-03-10T14:35:37.415Z"
   },
   {
    "duration": 180,
    "start_time": "2024-03-10T14:35:37.429Z"
   },
   {
    "duration": 8,
    "start_time": "2024-03-10T14:35:37.611Z"
   },
   {
    "duration": 184,
    "start_time": "2024-03-10T14:35:37.621Z"
   },
   {
    "duration": 0,
    "start_time": "2024-03-10T14:35:37.806Z"
   },
   {
    "duration": 0,
    "start_time": "2024-03-10T14:35:37.808Z"
   },
   {
    "duration": 0,
    "start_time": "2024-03-10T14:35:37.809Z"
   },
   {
    "duration": 0,
    "start_time": "2024-03-10T14:35:37.810Z"
   },
   {
    "duration": 0,
    "start_time": "2024-03-10T14:35:37.811Z"
   },
   {
    "duration": 0,
    "start_time": "2024-03-10T14:35:37.812Z"
   },
   {
    "duration": 0,
    "start_time": "2024-03-10T14:35:37.813Z"
   },
   {
    "duration": 0,
    "start_time": "2024-03-10T14:35:37.814Z"
   },
   {
    "duration": 0,
    "start_time": "2024-03-10T14:35:37.815Z"
   },
   {
    "duration": 0,
    "start_time": "2024-03-10T14:35:37.816Z"
   },
   {
    "duration": 0,
    "start_time": "2024-03-10T14:35:37.817Z"
   },
   {
    "duration": 0,
    "start_time": "2024-03-10T14:35:37.818Z"
   },
   {
    "duration": 0,
    "start_time": "2024-03-10T14:35:37.819Z"
   },
   {
    "duration": 0,
    "start_time": "2024-03-10T14:35:37.820Z"
   },
   {
    "duration": 0,
    "start_time": "2024-03-10T14:35:37.821Z"
   },
   {
    "duration": 13,
    "start_time": "2024-03-10T14:36:08.749Z"
   },
   {
    "duration": 34,
    "start_time": "2024-03-10T14:36:26.686Z"
   },
   {
    "duration": 66,
    "start_time": "2024-03-10T14:36:27.936Z"
   },
   {
    "duration": 8,
    "start_time": "2024-03-10T14:36:28.453Z"
   },
   {
    "duration": 58,
    "start_time": "2024-03-10T14:36:28.904Z"
   },
   {
    "duration": 91,
    "start_time": "2024-03-10T14:36:29.204Z"
   },
   {
    "duration": 8,
    "start_time": "2024-03-10T14:36:29.721Z"
   },
   {
    "duration": 4,
    "start_time": "2024-03-10T14:36:30.336Z"
   },
   {
    "duration": 8,
    "start_time": "2024-03-10T14:36:31.788Z"
   },
   {
    "duration": 23,
    "start_time": "2024-03-10T14:36:32.654Z"
   },
   {
    "duration": 1159,
    "start_time": "2024-03-10T14:36:59.565Z"
   },
   {
    "duration": 75,
    "start_time": "2024-03-10T14:42:16.474Z"
   },
   {
    "duration": 56,
    "start_time": "2024-03-10T14:42:25.378Z"
   },
   {
    "duration": 7,
    "start_time": "2024-03-10T14:42:28.228Z"
   },
   {
    "duration": 1125,
    "start_time": "2024-03-10T14:42:42.867Z"
   },
   {
    "duration": 10,
    "start_time": "2024-03-10T14:43:09.625Z"
   },
   {
    "duration": 97,
    "start_time": "2024-03-10T14:43:50.370Z"
   },
   {
    "duration": 52,
    "start_time": "2024-03-10T14:44:04.891Z"
   },
   {
    "duration": 5,
    "start_time": "2024-03-10T14:44:08.792Z"
   },
   {
    "duration": 4,
    "start_time": "2024-03-10T14:44:17.563Z"
   },
   {
    "duration": 54,
    "start_time": "2024-03-10T14:44:30.916Z"
   },
   {
    "duration": 8,
    "start_time": "2024-03-10T14:44:32.984Z"
   },
   {
    "duration": 55,
    "start_time": "2024-03-10T14:46:24.867Z"
   },
   {
    "duration": 8,
    "start_time": "2024-03-10T14:46:31.903Z"
   },
   {
    "duration": 51,
    "start_time": "2024-03-10T14:46:52.694Z"
   },
   {
    "duration": 7,
    "start_time": "2024-03-10T14:46:55.610Z"
   },
   {
    "duration": 68,
    "start_time": "2024-03-10T14:47:08.730Z"
   },
   {
    "duration": 52,
    "start_time": "2024-03-10T14:47:47.160Z"
   },
   {
    "duration": 55,
    "start_time": "2024-03-10T14:50:14.605Z"
   },
   {
    "duration": 6,
    "start_time": "2024-03-10T14:50:16.989Z"
   },
   {
    "duration": 66,
    "start_time": "2024-03-10T14:50:56.452Z"
   },
   {
    "duration": 6,
    "start_time": "2024-03-10T14:50:59.553Z"
   },
   {
    "duration": 9,
    "start_time": "2024-03-10T14:51:20.491Z"
   },
   {
    "duration": 62,
    "start_time": "2024-03-10T14:52:05.822Z"
   },
   {
    "duration": 6,
    "start_time": "2024-03-10T14:52:11.040Z"
   },
   {
    "duration": 24,
    "start_time": "2024-03-10T14:52:12.608Z"
   },
   {
    "duration": 61,
    "start_time": "2024-03-10T14:53:09.841Z"
   },
   {
    "duration": 7,
    "start_time": "2024-03-10T14:53:18.328Z"
   },
   {
    "duration": 4,
    "start_time": "2024-03-10T14:56:19.284Z"
   },
   {
    "duration": 7,
    "start_time": "2024-03-10T14:56:20.385Z"
   },
   {
    "duration": 8,
    "start_time": "2024-03-10T14:56:27.970Z"
   },
   {
    "duration": 11,
    "start_time": "2024-03-10T14:56:36.074Z"
   },
   {
    "duration": 26,
    "start_time": "2024-03-10T14:59:22.992Z"
   },
   {
    "duration": 10,
    "start_time": "2024-03-10T15:00:08.172Z"
   },
   {
    "duration": 8,
    "start_time": "2024-03-10T15:00:30.130Z"
   },
   {
    "duration": 8,
    "start_time": "2024-03-10T15:01:12.829Z"
   },
   {
    "duration": 8,
    "start_time": "2024-03-10T15:01:14.728Z"
   },
   {
    "duration": 12,
    "start_time": "2024-03-10T15:01:31.814Z"
   },
   {
    "duration": 5,
    "start_time": "2024-03-10T15:01:37.700Z"
   },
   {
    "duration": 3,
    "start_time": "2024-03-10T15:01:38.383Z"
   },
   {
    "duration": 189,
    "start_time": "2024-03-10T15:01:38.583Z"
   },
   {
    "duration": 11,
    "start_time": "2024-03-10T15:01:38.817Z"
   },
   {
    "duration": 24,
    "start_time": "2024-03-10T15:01:39.317Z"
   },
   {
    "duration": 30,
    "start_time": "2024-03-10T15:01:39.583Z"
   },
   {
    "duration": 59,
    "start_time": "2024-03-10T15:01:39.818Z"
   },
   {
    "duration": 76,
    "start_time": "2024-03-10T15:01:40.400Z"
   },
   {
    "duration": 64,
    "start_time": "2024-03-10T15:01:40.694Z"
   },
   {
    "duration": 6,
    "start_time": "2024-03-10T15:01:40.934Z"
   },
   {
    "duration": 7,
    "start_time": "2024-03-10T15:01:41.168Z"
   },
   {
    "duration": 10,
    "start_time": "2024-03-10T15:01:41.400Z"
   },
   {
    "duration": 87,
    "start_time": "2024-03-10T15:01:41.651Z"
   },
   {
    "duration": 14,
    "start_time": "2024-03-10T15:01:41.917Z"
   },
   {
    "duration": 43,
    "start_time": "2024-03-10T15:01:43.200Z"
   },
   {
    "duration": 63,
    "start_time": "2024-03-10T15:01:44.801Z"
   },
   {
    "duration": 34,
    "start_time": "2024-03-10T15:01:45.201Z"
   },
   {
    "duration": 11,
    "start_time": "2024-03-10T15:01:45.488Z"
   },
   {
    "duration": 19,
    "start_time": "2024-03-10T15:01:45.818Z"
   },
   {
    "duration": 8,
    "start_time": "2024-03-10T15:01:46.318Z"
   },
   {
    "duration": 381,
    "start_time": "2024-03-10T15:01:46.551Z"
   },
   {
    "duration": 20,
    "start_time": "2024-03-10T15:01:47.102Z"
   },
   {
    "duration": 16,
    "start_time": "2024-03-10T15:01:47.853Z"
   },
   {
    "duration": 75,
    "start_time": "2024-03-10T15:01:48.353Z"
   },
   {
    "duration": 19,
    "start_time": "2024-03-10T15:01:48.786Z"
   },
   {
    "duration": 6,
    "start_time": "2024-03-10T15:01:49.771Z"
   },
   {
    "duration": 42,
    "start_time": "2024-03-10T15:01:50.070Z"
   },
   {
    "duration": 49,
    "start_time": "2024-03-10T15:01:51.554Z"
   },
   {
    "duration": 62,
    "start_time": "2024-03-10T15:01:52.054Z"
   },
   {
    "duration": 55,
    "start_time": "2024-03-10T15:01:52.318Z"
   },
   {
    "duration": 8,
    "start_time": "2024-03-10T15:01:52.588Z"
   },
   {
    "duration": 1125,
    "start_time": "2024-03-10T15:01:52.836Z"
   },
   {
    "duration": 0,
    "start_time": "2024-03-10T15:01:53.963Z"
   },
   {
    "duration": 1151,
    "start_time": "2024-03-10T15:02:12.393Z"
   },
   {
    "duration": 7,
    "start_time": "2024-03-10T15:02:55.073Z"
   },
   {
    "duration": 4,
    "start_time": "2024-03-10T15:03:13.746Z"
   },
   {
    "duration": 3,
    "start_time": "2024-03-10T15:03:14.361Z"
   },
   {
    "duration": 184,
    "start_time": "2024-03-10T15:03:14.512Z"
   },
   {
    "duration": 10,
    "start_time": "2024-03-10T15:03:14.698Z"
   },
   {
    "duration": 22,
    "start_time": "2024-03-10T15:03:15.113Z"
   },
   {
    "duration": 17,
    "start_time": "2024-03-10T15:03:15.296Z"
   },
   {
    "duration": 61,
    "start_time": "2024-03-10T15:03:15.545Z"
   },
   {
    "duration": 76,
    "start_time": "2024-03-10T15:03:16.330Z"
   },
   {
    "duration": 61,
    "start_time": "2024-03-10T15:03:16.712Z"
   },
   {
    "duration": 6,
    "start_time": "2024-03-10T15:03:16.896Z"
   },
   {
    "duration": 7,
    "start_time": "2024-03-10T15:03:17.097Z"
   },
   {
    "duration": 8,
    "start_time": "2024-03-10T15:03:17.346Z"
   },
   {
    "duration": 89,
    "start_time": "2024-03-10T15:03:17.831Z"
   },
   {
    "duration": 92,
    "start_time": "2024-03-10T15:03:18.030Z"
   },
   {
    "duration": 45,
    "start_time": "2024-03-10T15:03:19.747Z"
   },
   {
    "duration": 43,
    "start_time": "2024-03-10T15:03:22.765Z"
   },
   {
    "duration": 29,
    "start_time": "2024-03-10T15:03:23.674Z"
   },
   {
    "duration": 9,
    "start_time": "2024-03-10T15:03:24.248Z"
   },
   {
    "duration": 18,
    "start_time": "2024-03-10T15:03:26.917Z"
   },
   {
    "duration": 8,
    "start_time": "2024-03-10T15:03:27.449Z"
   },
   {
    "duration": 373,
    "start_time": "2024-03-10T15:03:28.167Z"
   },
   {
    "duration": 25,
    "start_time": "2024-03-10T15:03:29.435Z"
   },
   {
    "duration": 15,
    "start_time": "2024-03-10T15:03:34.386Z"
   },
   {
    "duration": 67,
    "start_time": "2024-03-10T15:03:34.601Z"
   },
   {
    "duration": 15,
    "start_time": "2024-03-10T15:03:34.837Z"
   },
   {
    "duration": 7,
    "start_time": "2024-03-10T15:03:35.136Z"
   },
   {
    "duration": 36,
    "start_time": "2024-03-10T15:03:35.734Z"
   },
   {
    "duration": 28,
    "start_time": "2024-03-10T15:03:40.436Z"
   },
   {
    "duration": 53,
    "start_time": "2024-03-10T15:03:42.088Z"
   },
   {
    "duration": 7,
    "start_time": "2024-03-10T15:03:46.055Z"
   },
   {
    "duration": 8,
    "start_time": "2024-03-10T15:03:47.874Z"
   },
   {
    "duration": 8,
    "start_time": "2024-03-10T15:03:49.173Z"
   },
   {
    "duration": 53,
    "start_time": "2024-03-10T15:04:02.669Z"
   },
   {
    "duration": 7,
    "start_time": "2024-03-10T15:04:03.040Z"
   },
   {
    "duration": 52,
    "start_time": "2024-03-10T15:04:09.781Z"
   },
   {
    "duration": 7,
    "start_time": "2024-03-10T15:04:13.014Z"
   },
   {
    "duration": 9,
    "start_time": "2024-03-10T15:04:13.997Z"
   },
   {
    "duration": 8,
    "start_time": "2024-03-10T15:04:14.598Z"
   },
   {
    "duration": 4,
    "start_time": "2024-03-10T15:04:36.271Z"
   },
   {
    "duration": 9,
    "start_time": "2024-03-10T15:04:37.554Z"
   },
   {
    "duration": 10,
    "start_time": "2024-03-10T15:04:42.324Z"
   },
   {
    "duration": 14,
    "start_time": "2024-03-10T15:04:45.723Z"
   },
   {
    "duration": 32,
    "start_time": "2024-03-10T15:04:58.994Z"
   },
   {
    "duration": 65,
    "start_time": "2024-03-10T15:04:59.761Z"
   },
   {
    "duration": 8,
    "start_time": "2024-03-10T15:05:00.228Z"
   },
   {
    "duration": 51,
    "start_time": "2024-03-10T15:05:00.761Z"
   },
   {
    "duration": 86,
    "start_time": "2024-03-10T15:05:01.062Z"
   },
   {
    "duration": 7,
    "start_time": "2024-03-10T15:05:01.297Z"
   },
   {
    "duration": 4,
    "start_time": "2024-03-10T15:05:01.494Z"
   },
   {
    "duration": 7,
    "start_time": "2024-03-10T15:05:01.762Z"
   },
   {
    "duration": 23,
    "start_time": "2024-03-10T15:05:02.046Z"
   },
   {
    "duration": 7,
    "start_time": "2024-03-10T15:05:03.047Z"
   },
   {
    "duration": 6,
    "start_time": "2024-03-10T15:05:03.796Z"
   },
   {
    "duration": 12,
    "start_time": "2024-03-10T15:05:04.047Z"
   },
   {
    "duration": 11,
    "start_time": "2024-03-10T15:05:04.546Z"
   },
   {
    "duration": 10,
    "start_time": "2024-03-10T15:05:04.947Z"
   },
   {
    "duration": 11,
    "start_time": "2024-03-10T15:05:05.529Z"
   },
   {
    "duration": 4,
    "start_time": "2024-03-10T15:05:36.918Z"
   },
   {
    "duration": 24,
    "start_time": "2024-03-10T15:05:36.923Z"
   },
   {
    "duration": 196,
    "start_time": "2024-03-10T15:05:36.949Z"
   },
   {
    "duration": 10,
    "start_time": "2024-03-10T15:05:37.147Z"
   },
   {
    "duration": 31,
    "start_time": "2024-03-10T15:05:37.159Z"
   },
   {
    "duration": 17,
    "start_time": "2024-03-10T15:05:37.192Z"
   },
   {
    "duration": 75,
    "start_time": "2024-03-10T15:05:37.211Z"
   },
   {
    "duration": 65,
    "start_time": "2024-03-10T15:05:37.288Z"
   },
   {
    "duration": 68,
    "start_time": "2024-03-10T15:05:37.355Z"
   },
   {
    "duration": 6,
    "start_time": "2024-03-10T15:05:37.425Z"
   },
   {
    "duration": 7,
    "start_time": "2024-03-10T15:05:37.432Z"
   },
   {
    "duration": 7,
    "start_time": "2024-03-10T15:05:37.441Z"
   },
   {
    "duration": 103,
    "start_time": "2024-03-10T15:05:37.449Z"
   },
   {
    "duration": 13,
    "start_time": "2024-03-10T15:05:37.554Z"
   },
   {
    "duration": 54,
    "start_time": "2024-03-10T15:05:37.569Z"
   },
   {
    "duration": 57,
    "start_time": "2024-03-10T15:05:37.625Z"
   },
   {
    "duration": 27,
    "start_time": "2024-03-10T15:05:37.684Z"
   },
   {
    "duration": 17,
    "start_time": "2024-03-10T15:05:37.712Z"
   },
   {
    "duration": 32,
    "start_time": "2024-03-10T15:05:37.730Z"
   },
   {
    "duration": 24,
    "start_time": "2024-03-10T15:05:37.763Z"
   },
   {
    "duration": 379,
    "start_time": "2024-03-10T15:05:37.789Z"
   },
   {
    "duration": 27,
    "start_time": "2024-03-10T15:05:38.170Z"
   },
   {
    "duration": 13,
    "start_time": "2024-03-10T15:05:38.198Z"
   },
   {
    "duration": 87,
    "start_time": "2024-03-10T15:05:38.213Z"
   },
   {
    "duration": 15,
    "start_time": "2024-03-10T15:05:38.302Z"
   },
   {
    "duration": 8,
    "start_time": "2024-03-10T15:05:38.318Z"
   },
   {
    "duration": 56,
    "start_time": "2024-03-10T15:05:38.327Z"
   },
   {
    "duration": 32,
    "start_time": "2024-03-10T15:05:38.388Z"
   },
   {
    "duration": 76,
    "start_time": "2024-03-10T15:05:38.422Z"
   },
   {
    "duration": 8,
    "start_time": "2024-03-10T15:05:38.500Z"
   },
   {
    "duration": 28,
    "start_time": "2024-03-10T15:05:38.509Z"
   },
   {
    "duration": 10,
    "start_time": "2024-03-10T15:05:38.539Z"
   },
   {
    "duration": 11,
    "start_time": "2024-03-10T15:05:38.551Z"
   },
   {
    "duration": 25,
    "start_time": "2024-03-10T15:05:38.564Z"
   },
   {
    "duration": 20,
    "start_time": "2024-03-10T15:05:38.591Z"
   },
   {
    "duration": 40,
    "start_time": "2024-03-10T15:05:38.613Z"
   },
   {
    "duration": 63,
    "start_time": "2024-03-10T15:05:38.655Z"
   },
   {
    "duration": 7,
    "start_time": "2024-03-10T15:05:38.720Z"
   },
   {
    "duration": 63,
    "start_time": "2024-03-10T15:05:38.729Z"
   },
   {
    "duration": 93,
    "start_time": "2024-03-10T15:05:38.794Z"
   },
   {
    "duration": 6,
    "start_time": "2024-03-10T15:05:38.889Z"
   },
   {
    "duration": 11,
    "start_time": "2024-03-10T15:05:38.897Z"
   },
   {
    "duration": 37,
    "start_time": "2024-03-10T15:05:38.909Z"
   },
   {
    "duration": 23,
    "start_time": "2024-03-10T15:05:38.948Z"
   },
   {
    "duration": 15,
    "start_time": "2024-03-10T15:05:38.972Z"
   },
   {
    "duration": 31,
    "start_time": "2024-03-10T15:05:38.988Z"
   },
   {
    "duration": 38,
    "start_time": "2024-03-10T15:05:39.020Z"
   },
   {
    "duration": 44,
    "start_time": "2024-03-10T15:05:39.060Z"
   },
   {
    "duration": 28,
    "start_time": "2024-03-10T15:05:39.106Z"
   },
   {
    "duration": 11,
    "start_time": "2024-03-10T15:05:39.135Z"
   },
   {
    "duration": 12,
    "start_time": "2024-03-10T15:05:58.881Z"
   },
   {
    "duration": 36,
    "start_time": "2024-03-10T15:06:12.033Z"
   },
   {
    "duration": 63,
    "start_time": "2024-03-10T15:06:13.386Z"
   },
   {
    "duration": 8,
    "start_time": "2024-03-10T15:06:14.969Z"
   },
   {
    "duration": 49,
    "start_time": "2024-03-10T15:06:17.936Z"
   },
   {
    "duration": 82,
    "start_time": "2024-03-10T15:06:18.270Z"
   },
   {
    "duration": 8,
    "start_time": "2024-03-10T15:06:18.520Z"
   },
   {
    "duration": 3,
    "start_time": "2024-03-10T15:06:18.736Z"
   },
   {
    "duration": 8,
    "start_time": "2024-03-10T15:06:18.986Z"
   },
   {
    "duration": 22,
    "start_time": "2024-03-10T15:06:19.286Z"
   },
   {
    "duration": 7,
    "start_time": "2024-03-10T15:06:21.054Z"
   },
   {
    "duration": 10,
    "start_time": "2024-03-10T15:09:19.626Z"
   },
   {
    "duration": 821,
    "start_time": "2024-03-10T15:11:14.145Z"
   },
   {
    "duration": 10,
    "start_time": "2024-03-10T15:11:25.718Z"
   },
   {
    "duration": 895,
    "start_time": "2024-03-10T15:12:28.954Z"
   },
   {
    "duration": 11,
    "start_time": "2024-03-10T15:13:55.546Z"
   },
   {
    "duration": 9,
    "start_time": "2024-03-10T15:17:07.339Z"
   },
   {
    "duration": 9,
    "start_time": "2024-03-10T15:17:24.945Z"
   },
   {
    "duration": 12,
    "start_time": "2024-03-10T15:18:13.111Z"
   },
   {
    "duration": 7,
    "start_time": "2024-03-10T15:32:53.937Z"
   },
   {
    "duration": 6,
    "start_time": "2024-03-10T15:33:08.824Z"
   },
   {
    "duration": 10,
    "start_time": "2024-03-10T15:33:11.040Z"
   },
   {
    "duration": 10,
    "start_time": "2024-03-10T15:33:25.194Z"
   },
   {
    "duration": 5,
    "start_time": "2024-03-10T15:33:44.568Z"
   },
   {
    "duration": 10,
    "start_time": "2024-03-10T15:33:45.702Z"
   },
   {
    "duration": 10,
    "start_time": "2024-03-10T15:33:47.333Z"
   },
   {
    "duration": 10,
    "start_time": "2024-03-10T15:33:56.004Z"
   },
   {
    "duration": 9,
    "start_time": "2024-03-10T15:33:57.970Z"
   },
   {
    "duration": 857,
    "start_time": "2024-03-10T15:37:27.303Z"
   },
   {
    "duration": 84,
    "start_time": "2024-03-10T15:51:54.540Z"
   },
   {
    "duration": 8,
    "start_time": "2024-03-10T15:51:55.824Z"
   },
   {
    "duration": 4,
    "start_time": "2024-03-10T15:51:57.523Z"
   },
   {
    "duration": 8,
    "start_time": "2024-03-10T15:51:58.040Z"
   },
   {
    "duration": 29,
    "start_time": "2024-03-10T15:52:01.093Z"
   },
   {
    "duration": 8,
    "start_time": "2024-03-10T15:52:03.160Z"
   },
   {
    "duration": 6,
    "start_time": "2024-03-10T15:52:04.559Z"
   },
   {
    "duration": 10,
    "start_time": "2024-03-10T15:52:05.027Z"
   },
   {
    "duration": 9,
    "start_time": "2024-03-10T15:52:05.693Z"
   },
   {
    "duration": 10,
    "start_time": "2024-03-10T15:52:06.326Z"
   },
   {
    "duration": 1200,
    "start_time": "2024-03-10T15:52:15.514Z"
   },
   {
    "duration": 1093,
    "start_time": "2024-03-10T15:53:06.314Z"
   },
   {
    "duration": 83,
    "start_time": "2024-03-10T15:53:27.335Z"
   },
   {
    "duration": 8,
    "start_time": "2024-03-10T15:53:28.468Z"
   },
   {
    "duration": 3,
    "start_time": "2024-03-10T15:53:29.504Z"
   },
   {
    "duration": 7,
    "start_time": "2024-03-10T15:53:29.886Z"
   },
   {
    "duration": 23,
    "start_time": "2024-03-10T15:53:30.854Z"
   },
   {
    "duration": 8,
    "start_time": "2024-03-10T15:53:32.102Z"
   },
   {
    "duration": 6,
    "start_time": "2024-03-10T15:53:33.237Z"
   },
   {
    "duration": 12,
    "start_time": "2024-03-10T15:53:33.754Z"
   },
   {
    "duration": 8,
    "start_time": "2024-03-10T15:53:34.721Z"
   },
   {
    "duration": 9,
    "start_time": "2024-03-10T15:53:35.638Z"
   },
   {
    "duration": 1320,
    "start_time": "2024-03-10T15:55:18.837Z"
   },
   {
    "duration": 9,
    "start_time": "2024-03-10T15:55:46.979Z"
   },
   {
    "duration": 1146,
    "start_time": "2024-03-10T15:59:23.947Z"
   },
   {
    "duration": 95,
    "start_time": "2024-03-10T16:01:32.688Z"
   },
   {
    "duration": 7,
    "start_time": "2024-03-10T16:01:33.938Z"
   },
   {
    "duration": 4,
    "start_time": "2024-03-10T16:01:34.904Z"
   },
   {
    "duration": 9,
    "start_time": "2024-03-10T16:01:35.323Z"
   },
   {
    "duration": 23,
    "start_time": "2024-03-10T16:01:38.455Z"
   },
   {
    "duration": 7,
    "start_time": "2024-03-10T16:01:39.274Z"
   },
   {
    "duration": 6,
    "start_time": "2024-03-10T16:01:40.806Z"
   },
   {
    "duration": 10,
    "start_time": "2024-03-10T16:01:41.239Z"
   },
   {
    "duration": 10,
    "start_time": "2024-03-10T16:01:41.889Z"
   },
   {
    "duration": 10,
    "start_time": "2024-03-10T16:01:42.589Z"
   },
   {
    "duration": 1287,
    "start_time": "2024-03-10T16:01:49.777Z"
   },
   {
    "duration": 10,
    "start_time": "2024-03-10T16:02:07.980Z"
   },
   {
    "duration": 79,
    "start_time": "2024-03-10T16:03:48.263Z"
   },
   {
    "duration": 7,
    "start_time": "2024-03-10T16:03:49.033Z"
   },
   {
    "duration": 4,
    "start_time": "2024-03-10T16:03:50.163Z"
   },
   {
    "duration": 7,
    "start_time": "2024-03-10T16:03:50.598Z"
   },
   {
    "duration": 24,
    "start_time": "2024-03-10T16:03:51.964Z"
   },
   {
    "duration": 7,
    "start_time": "2024-03-10T16:03:52.897Z"
   },
   {
    "duration": 6,
    "start_time": "2024-03-10T16:03:53.680Z"
   },
   {
    "duration": 10,
    "start_time": "2024-03-10T16:03:54.032Z"
   },
   {
    "duration": 12,
    "start_time": "2024-03-10T16:03:54.614Z"
   },
   {
    "duration": 10,
    "start_time": "2024-03-10T16:03:55.181Z"
   },
   {
    "duration": 10,
    "start_time": "2024-03-10T16:03:56.015Z"
   },
   {
    "duration": 856,
    "start_time": "2024-03-10T16:04:04.683Z"
   },
   {
    "duration": 1172,
    "start_time": "2024-03-10T16:11:01.464Z"
   },
   {
    "duration": 1646,
    "start_time": "2024-03-10T19:05:09.331Z"
   },
   {
    "duration": 3,
    "start_time": "2024-03-10T19:05:11.461Z"
   },
   {
    "duration": 796,
    "start_time": "2024-03-10T19:05:12.513Z"
   },
   {
    "duration": 14,
    "start_time": "2024-03-10T19:05:18.150Z"
   },
   {
    "duration": 24,
    "start_time": "2024-03-10T19:05:19.048Z"
   },
   {
    "duration": 18,
    "start_time": "2024-03-10T19:05:19.402Z"
   },
   {
    "duration": 78,
    "start_time": "2024-03-10T19:05:19.665Z"
   },
   {
    "duration": 87,
    "start_time": "2024-03-10T19:05:20.115Z"
   },
   {
    "duration": 64,
    "start_time": "2024-03-10T19:05:20.415Z"
   },
   {
    "duration": 6,
    "start_time": "2024-03-10T19:05:20.703Z"
   },
   {
    "duration": 8,
    "start_time": "2024-03-10T19:05:20.948Z"
   },
   {
    "duration": 12,
    "start_time": "2024-03-10T19:05:21.198Z"
   },
   {
    "duration": 91,
    "start_time": "2024-03-10T19:05:21.431Z"
   },
   {
    "duration": 14,
    "start_time": "2024-03-10T19:05:21.666Z"
   },
   {
    "duration": 47,
    "start_time": "2024-03-10T19:05:23.233Z"
   },
   {
    "duration": 51,
    "start_time": "2024-03-10T19:05:23.950Z"
   },
   {
    "duration": 29,
    "start_time": "2024-03-10T19:05:24.216Z"
   },
   {
    "duration": 7,
    "start_time": "2024-03-10T19:05:24.483Z"
   },
   {
    "duration": 17,
    "start_time": "2024-03-10T19:05:24.733Z"
   },
   {
    "duration": 10,
    "start_time": "2024-03-10T19:05:25.218Z"
   },
   {
    "duration": 490,
    "start_time": "2024-03-10T19:05:25.467Z"
   },
   {
    "duration": 22,
    "start_time": "2024-03-10T19:05:25.959Z"
   },
   {
    "duration": 23,
    "start_time": "2024-03-10T19:05:26.384Z"
   },
   {
    "duration": 74,
    "start_time": "2024-03-10T19:05:26.601Z"
   },
   {
    "duration": 18,
    "start_time": "2024-03-10T19:05:26.834Z"
   },
   {
    "duration": 7,
    "start_time": "2024-03-10T19:05:27.084Z"
   },
   {
    "duration": 34,
    "start_time": "2024-03-10T19:05:27.317Z"
   },
   {
    "duration": 36,
    "start_time": "2024-03-10T19:05:28.286Z"
   },
   {
    "duration": 56,
    "start_time": "2024-03-10T19:05:28.717Z"
   },
   {
    "duration": 7,
    "start_time": "2024-03-10T19:05:28.934Z"
   },
   {
    "duration": 8,
    "start_time": "2024-03-10T19:05:29.151Z"
   },
   {
    "duration": 15,
    "start_time": "2024-03-10T19:05:29.385Z"
   },
   {
    "duration": 5,
    "start_time": "2024-03-10T19:05:30.051Z"
   },
   {
    "duration": 51,
    "start_time": "2024-03-10T19:05:30.285Z"
   },
   {
    "duration": 163,
    "start_time": "2024-03-10T19:05:31.469Z"
   },
   {
    "duration": 37,
    "start_time": "2024-03-10T19:05:36.854Z"
   },
   {
    "duration": 65,
    "start_time": "2024-03-10T19:05:37.720Z"
   },
   {
    "duration": 8,
    "start_time": "2024-03-10T19:05:38.155Z"
   },
   {
    "duration": 79,
    "start_time": "2024-03-10T19:05:38.687Z"
   },
   {
    "duration": 91,
    "start_time": "2024-03-10T19:05:39.071Z"
   },
   {
    "duration": 7,
    "start_time": "2024-03-10T19:05:39.355Z"
   },
   {
    "duration": 3,
    "start_time": "2024-03-10T19:05:39.621Z"
   },
   {
    "duration": 8,
    "start_time": "2024-03-10T19:05:39.870Z"
   },
   {
    "duration": 25,
    "start_time": "2024-03-10T19:05:40.120Z"
   },
   {
    "duration": 8,
    "start_time": "2024-03-10T19:05:41.105Z"
   },
   {
    "duration": 6,
    "start_time": "2024-03-10T19:05:43.608Z"
   },
   {
    "duration": 9,
    "start_time": "2024-03-10T19:05:44.722Z"
   },
   {
    "duration": 10,
    "start_time": "2024-03-10T19:05:46.306Z"
   },
   {
    "duration": 15,
    "start_time": "2024-03-10T19:05:47.656Z"
   },
   {
    "duration": 171,
    "start_time": "2024-03-10T19:05:51.074Z"
   },
   {
    "duration": 1576,
    "start_time": "2024-03-10T19:05:52.675Z"
   },
   {
    "duration": 1709,
    "start_time": "2024-03-10T19:07:27.973Z"
   },
   {
    "duration": 0,
    "start_time": "2024-03-10T19:07:29.683Z"
   },
   {
    "duration": 88,
    "start_time": "2024-03-10T19:07:42.928Z"
   },
   {
    "duration": 8,
    "start_time": "2024-03-10T19:07:46.428Z"
   },
   {
    "duration": 78,
    "start_time": "2024-03-10T19:13:34.469Z"
   },
   {
    "duration": 6,
    "start_time": "2024-03-10T19:13:38.344Z"
   },
   {
    "duration": 22,
    "start_time": "2024-03-10T19:13:53.992Z"
   },
   {
    "duration": 6,
    "start_time": "2024-03-10T19:14:12.383Z"
   },
   {
    "duration": 7,
    "start_time": "2024-03-10T19:14:19.199Z"
   },
   {
    "duration": 25,
    "start_time": "2024-03-10T19:14:32.055Z"
   },
   {
    "duration": 8,
    "start_time": "2024-03-10T19:14:34.554Z"
   },
   {
    "duration": 5,
    "start_time": "2024-03-10T19:14:39.639Z"
   },
   {
    "duration": 12,
    "start_time": "2024-03-10T19:14:41.021Z"
   },
   {
    "duration": 11,
    "start_time": "2024-03-10T19:14:43.057Z"
   },
   {
    "duration": 12,
    "start_time": "2024-03-10T19:14:44.774Z"
   },
   {
    "duration": 81,
    "start_time": "2024-03-10T19:15:55.630Z"
   },
   {
    "duration": 7,
    "start_time": "2024-03-10T19:15:59.615Z"
   },
   {
    "duration": 14,
    "start_time": "2024-03-10T19:16:02.732Z"
   },
   {
    "duration": 7,
    "start_time": "2024-03-10T19:16:17.020Z"
   },
   {
    "duration": 22,
    "start_time": "2024-03-10T19:16:20.720Z"
   },
   {
    "duration": 8,
    "start_time": "2024-03-10T19:16:22.121Z"
   },
   {
    "duration": 5,
    "start_time": "2024-03-10T19:16:23.206Z"
   },
   {
    "duration": 12,
    "start_time": "2024-03-10T19:16:23.638Z"
   },
   {
    "duration": 10,
    "start_time": "2024-03-10T19:16:24.355Z"
   },
   {
    "duration": 12,
    "start_time": "2024-03-10T19:16:25.138Z"
   },
   {
    "duration": 13,
    "start_time": "2024-03-10T19:16:26.890Z"
   },
   {
    "duration": 1142,
    "start_time": "2024-03-10T19:16:51.048Z"
   },
   {
    "duration": 12,
    "start_time": "2024-03-10T19:17:53.116Z"
   },
   {
    "duration": 1561,
    "start_time": "2024-03-10T19:18:36.230Z"
   },
   {
    "duration": 1546,
    "start_time": "2024-03-10T19:18:57.021Z"
   },
   {
    "duration": 1180,
    "start_time": "2024-03-10T19:19:07.507Z"
   },
   {
    "duration": 106,
    "start_time": "2024-03-10T19:19:44.817Z"
   },
   {
    "duration": 8,
    "start_time": "2024-03-10T19:19:50.836Z"
   },
   {
    "duration": 4,
    "start_time": "2024-03-10T19:19:54.358Z"
   },
   {
    "duration": 9,
    "start_time": "2024-03-10T19:19:56.637Z"
   },
   {
    "duration": 81,
    "start_time": "2024-03-10T19:20:46.386Z"
   },
   {
    "duration": 7,
    "start_time": "2024-03-10T19:21:05.660Z"
   },
   {
    "duration": 1308,
    "start_time": "2024-03-10T19:35:40.000Z"
   },
   {
    "duration": 44,
    "start_time": "2024-03-10T19:42:48.634Z"
   },
   {
    "duration": 78,
    "start_time": "2024-03-10T20:04:10.552Z"
   },
   {
    "duration": 7,
    "start_time": "2024-03-10T20:04:13.169Z"
   },
   {
    "duration": 4,
    "start_time": "2024-03-10T20:04:15.068Z"
   },
   {
    "duration": 7,
    "start_time": "2024-03-10T20:04:15.802Z"
   },
   {
    "duration": 8,
    "start_time": "2024-03-10T20:04:54.130Z"
   },
   {
    "duration": 23,
    "start_time": "2024-03-10T20:04:54.557Z"
   },
   {
    "duration": 7,
    "start_time": "2024-03-10T20:04:55.282Z"
   },
   {
    "duration": 6,
    "start_time": "2024-03-10T20:04:56.281Z"
   },
   {
    "duration": 10,
    "start_time": "2024-03-10T20:04:56.731Z"
   },
   {
    "duration": 13,
    "start_time": "2024-03-10T20:04:57.446Z"
   },
   {
    "duration": 10,
    "start_time": "2024-03-10T20:04:58.132Z"
   },
   {
    "duration": 1208,
    "start_time": "2024-03-10T20:04:58.831Z"
   },
   {
    "duration": 102,
    "start_time": "2024-03-10T20:09:41.801Z"
   },
   {
    "duration": 103,
    "start_time": "2024-03-10T20:09:52.406Z"
   },
   {
    "duration": 1221,
    "start_time": "2024-03-10T20:09:59.007Z"
   },
   {
    "duration": 58,
    "start_time": "2024-03-10T20:10:42.104Z"
   },
   {
    "duration": 102,
    "start_time": "2024-03-10T20:17:59.266Z"
   },
   {
    "duration": 87,
    "start_time": "2024-03-10T20:18:37.427Z"
   },
   {
    "duration": 8,
    "start_time": "2024-03-10T20:18:38.345Z"
   },
   {
    "duration": 4,
    "start_time": "2024-03-10T20:18:39.813Z"
   },
   {
    "duration": 8,
    "start_time": "2024-03-10T20:18:40.828Z"
   },
   {
    "duration": 133,
    "start_time": "2024-03-10T20:20:41.400Z"
   },
   {
    "duration": 15,
    "start_time": "2024-03-10T20:20:51.621Z"
   },
   {
    "duration": 11,
    "start_time": "2024-03-10T20:21:01.857Z"
   },
   {
    "duration": 11,
    "start_time": "2024-03-10T20:25:29.507Z"
   },
   {
    "duration": 10,
    "start_time": "2024-03-10T20:25:54.392Z"
   },
   {
    "duration": 13,
    "start_time": "2024-03-10T20:27:01.216Z"
   },
   {
    "duration": 4,
    "start_time": "2024-03-10T20:27:10.019Z"
   },
   {
    "duration": 3,
    "start_time": "2024-03-10T20:27:10.652Z"
   },
   {
    "duration": 204,
    "start_time": "2024-03-10T20:27:10.837Z"
   },
   {
    "duration": 10,
    "start_time": "2024-03-10T20:27:11.052Z"
   },
   {
    "duration": 23,
    "start_time": "2024-03-10T20:27:11.469Z"
   },
   {
    "duration": 18,
    "start_time": "2024-03-10T20:27:11.736Z"
   },
   {
    "duration": 62,
    "start_time": "2024-03-10T20:27:11.954Z"
   },
   {
    "duration": 72,
    "start_time": "2024-03-10T20:27:12.472Z"
   },
   {
    "duration": 61,
    "start_time": "2024-03-10T20:27:12.705Z"
   },
   {
    "duration": 6,
    "start_time": "2024-03-10T20:27:12.970Z"
   },
   {
    "duration": 8,
    "start_time": "2024-03-10T20:27:13.255Z"
   },
   {
    "duration": 8,
    "start_time": "2024-03-10T20:27:13.622Z"
   },
   {
    "duration": 75,
    "start_time": "2024-03-10T20:27:14.056Z"
   },
   {
    "duration": 14,
    "start_time": "2024-03-10T20:27:14.304Z"
   },
   {
    "duration": 45,
    "start_time": "2024-03-10T20:27:15.356Z"
   },
   {
    "duration": 43,
    "start_time": "2024-03-10T20:27:16.139Z"
   },
   {
    "duration": 29,
    "start_time": "2024-03-10T20:27:16.472Z"
   },
   {
    "duration": 7,
    "start_time": "2024-03-10T20:27:16.755Z"
   },
   {
    "duration": 19,
    "start_time": "2024-03-10T20:27:17.039Z"
   },
   {
    "duration": 8,
    "start_time": "2024-03-10T20:27:17.654Z"
   },
   {
    "duration": 366,
    "start_time": "2024-03-10T20:27:17.906Z"
   },
   {
    "duration": 21,
    "start_time": "2024-03-10T20:27:18.758Z"
   },
   {
    "duration": 13,
    "start_time": "2024-03-10T20:27:19.706Z"
   },
   {
    "duration": 65,
    "start_time": "2024-03-10T20:27:20.424Z"
   },
   {
    "duration": 17,
    "start_time": "2024-03-10T20:27:20.874Z"
   },
   {
    "duration": 8,
    "start_time": "2024-03-10T20:27:21.290Z"
   },
   {
    "duration": 35,
    "start_time": "2024-03-10T20:27:21.906Z"
   },
   {
    "duration": 28,
    "start_time": "2024-03-10T20:27:23.874Z"
   },
   {
    "duration": 52,
    "start_time": "2024-03-10T20:27:25.424Z"
   },
   {
    "duration": 7,
    "start_time": "2024-03-10T20:27:26.058Z"
   },
   {
    "duration": 8,
    "start_time": "2024-03-10T20:27:27.257Z"
   },
   {
    "duration": 8,
    "start_time": "2024-03-10T20:27:27.791Z"
   },
   {
    "duration": 4,
    "start_time": "2024-03-10T20:27:29.842Z"
   },
   {
    "duration": 9,
    "start_time": "2024-03-10T20:27:30.292Z"
   },
   {
    "duration": 94,
    "start_time": "2024-03-10T20:27:33.010Z"
   },
   {
    "duration": 37,
    "start_time": "2024-03-10T20:27:37.612Z"
   },
   {
    "duration": 65,
    "start_time": "2024-03-10T20:27:38.813Z"
   },
   {
    "duration": 8,
    "start_time": "2024-03-10T20:27:39.162Z"
   },
   {
    "duration": 56,
    "start_time": "2024-03-10T20:27:40.213Z"
   },
   {
    "duration": 86,
    "start_time": "2024-03-10T20:27:43.731Z"
   },
   {
    "duration": 7,
    "start_time": "2024-03-10T20:27:45.015Z"
   },
   {
    "duration": 4,
    "start_time": "2024-03-10T20:27:47.513Z"
   },
   {
    "duration": 8,
    "start_time": "2024-03-10T20:27:47.949Z"
   },
   {
    "duration": 12,
    "start_time": "2024-03-10T20:28:00.888Z"
   },
   {
    "duration": 60,
    "start_time": "2024-03-10T20:31:10.061Z"
   },
   {
    "duration": 11,
    "start_time": "2024-03-10T20:32:04.928Z"
   },
   {
    "duration": 36,
    "start_time": "2024-03-10T20:32:28.420Z"
   },
   {
    "duration": 66,
    "start_time": "2024-03-10T20:32:30.385Z"
   },
   {
    "duration": 10,
    "start_time": "2024-03-10T20:32:31.219Z"
   },
   {
    "duration": 10,
    "start_time": "2024-03-10T20:32:32.233Z"
   },
   {
    "duration": 13,
    "start_time": "2024-03-10T20:32:36.004Z"
   },
   {
    "duration": 11,
    "start_time": "2024-03-10T20:32:43.290Z"
   },
   {
    "duration": 1215,
    "start_time": "2024-03-10T20:32:46.924Z"
   },
   {
    "duration": 57,
    "start_time": "2024-03-10T20:32:58.412Z"
   },
   {
    "duration": 1609,
    "start_time": "2024-03-10T20:34:24.556Z"
   },
   {
    "duration": 76,
    "start_time": "2024-03-10T20:34:33.892Z"
   },
   {
    "duration": 101,
    "start_time": "2024-03-10T20:39:11.295Z"
   },
   {
    "duration": 95,
    "start_time": "2024-03-10T20:39:25.632Z"
   },
   {
    "duration": 97,
    "start_time": "2024-03-10T20:39:43.638Z"
   },
   {
    "duration": 72,
    "start_time": "2024-03-10T20:40:47.826Z"
   },
   {
    "duration": 1289,
    "start_time": "2024-03-10T20:42:41.711Z"
   },
   {
    "duration": 62,
    "start_time": "2024-03-10T20:43:00.483Z"
   },
   {
    "duration": 61,
    "start_time": "2024-03-10T20:45:35.800Z"
   },
   {
    "duration": 61,
    "start_time": "2024-03-10T20:46:18.162Z"
   },
   {
    "duration": 99,
    "start_time": "2024-03-10T20:46:48.775Z"
   },
   {
    "duration": 60,
    "start_time": "2024-03-10T20:46:55.474Z"
   },
   {
    "duration": 17,
    "start_time": "2024-03-10T20:52:01.353Z"
   },
   {
    "duration": 27,
    "start_time": "2024-03-10T20:52:15.158Z"
   },
   {
    "duration": 13,
    "start_time": "2024-03-10T20:52:33.444Z"
   },
   {
    "duration": 44,
    "start_time": "2024-03-10T20:53:15.175Z"
   },
   {
    "duration": 16,
    "start_time": "2024-03-10T20:53:16.559Z"
   },
   {
    "duration": 60,
    "start_time": "2024-03-10T20:54:02.822Z"
   },
   {
    "duration": 3,
    "start_time": "2024-03-10T20:54:16.694Z"
   },
   {
    "duration": 5,
    "start_time": "2024-03-10T20:54:26.413Z"
   },
   {
    "duration": 4,
    "start_time": "2024-03-10T20:54:41.051Z"
   },
   {
    "duration": 5,
    "start_time": "2024-03-10T20:54:42.068Z"
   },
   {
    "duration": 50,
    "start_time": "2024-03-10T20:54:50.871Z"
   },
   {
    "duration": 4,
    "start_time": "2024-03-10T20:54:51.737Z"
   },
   {
    "duration": 5,
    "start_time": "2024-03-10T20:54:52.271Z"
   },
   {
    "duration": 5,
    "start_time": "2024-03-10T20:55:08.560Z"
   },
   {
    "duration": 5,
    "start_time": "2024-03-10T20:55:09.462Z"
   },
   {
    "duration": 50,
    "start_time": "2024-03-10T20:55:14.079Z"
   },
   {
    "duration": 5,
    "start_time": "2024-03-10T20:55:14.961Z"
   },
   {
    "duration": 5,
    "start_time": "2024-03-10T20:55:15.547Z"
   },
   {
    "duration": 3,
    "start_time": "2024-03-10T20:55:23.348Z"
   },
   {
    "duration": 5,
    "start_time": "2024-03-10T20:55:23.966Z"
   },
   {
    "duration": 8,
    "start_time": "2024-03-10T20:55:39.252Z"
   },
   {
    "duration": 14,
    "start_time": "2024-03-10T20:55:39.720Z"
   },
   {
    "duration": 8,
    "start_time": "2024-03-10T20:55:39.970Z"
   },
   {
    "duration": 16,
    "start_time": "2024-03-10T20:55:40.186Z"
   },
   {
    "duration": 33,
    "start_time": "2024-03-10T20:55:48.809Z"
   },
   {
    "duration": 9,
    "start_time": "2024-03-10T20:55:49.875Z"
   },
   {
    "duration": 6,
    "start_time": "2024-03-10T20:55:51.056Z"
   },
   {
    "duration": 11,
    "start_time": "2024-03-10T20:55:51.890Z"
   },
   {
    "duration": 14,
    "start_time": "2024-03-10T20:55:53.124Z"
   },
   {
    "duration": 12,
    "start_time": "2024-03-10T20:55:54.341Z"
   },
   {
    "duration": 15,
    "start_time": "2024-03-10T20:55:57.243Z"
   },
   {
    "duration": 14,
    "start_time": "2024-03-10T20:56:38.308Z"
   },
   {
    "duration": 7,
    "start_time": "2024-03-10T20:56:56.844Z"
   },
   {
    "duration": 12,
    "start_time": "2024-03-10T20:56:58.361Z"
   },
   {
    "duration": 7,
    "start_time": "2024-03-10T20:57:06.847Z"
   },
   {
    "duration": 5,
    "start_time": "2024-03-10T20:57:15.883Z"
   },
   {
    "duration": 3,
    "start_time": "2024-03-10T20:57:17.565Z"
   },
   {
    "duration": 191,
    "start_time": "2024-03-10T20:57:18.251Z"
   },
   {
    "duration": 17,
    "start_time": "2024-03-10T20:57:19.288Z"
   },
   {
    "duration": 33,
    "start_time": "2024-03-10T20:57:19.885Z"
   },
   {
    "duration": 17,
    "start_time": "2024-03-10T20:57:20.104Z"
   },
   {
    "duration": 58,
    "start_time": "2024-03-10T20:57:20.322Z"
   },
   {
    "duration": 69,
    "start_time": "2024-03-10T20:57:21.004Z"
   },
   {
    "duration": 72,
    "start_time": "2024-03-10T20:57:21.268Z"
   },
   {
    "duration": 5,
    "start_time": "2024-03-10T20:57:21.550Z"
   },
   {
    "duration": 7,
    "start_time": "2024-03-10T20:57:22.283Z"
   },
   {
    "duration": 7,
    "start_time": "2024-03-10T20:57:22.969Z"
   },
   {
    "duration": 86,
    "start_time": "2024-03-10T20:57:23.517Z"
   },
   {
    "duration": 21,
    "start_time": "2024-03-10T20:57:24.367Z"
   },
   {
    "duration": 49,
    "start_time": "2024-03-10T20:57:25.967Z"
   },
   {
    "duration": 44,
    "start_time": "2024-03-10T20:57:27.437Z"
   },
   {
    "duration": 29,
    "start_time": "2024-03-10T20:57:28.169Z"
   },
   {
    "duration": 7,
    "start_time": "2024-03-10T20:57:28.703Z"
   },
   {
    "duration": 22,
    "start_time": "2024-03-10T20:57:29.844Z"
   },
   {
    "duration": 8,
    "start_time": "2024-03-10T20:57:30.874Z"
   },
   {
    "duration": 385,
    "start_time": "2024-03-10T20:57:31.589Z"
   },
   {
    "duration": 19,
    "start_time": "2024-03-10T20:57:33.238Z"
   },
   {
    "duration": 14,
    "start_time": "2024-03-10T20:57:34.322Z"
   },
   {
    "duration": 73,
    "start_time": "2024-03-10T20:57:35.129Z"
   },
   {
    "duration": 16,
    "start_time": "2024-03-10T20:57:37.524Z"
   },
   {
    "duration": 6,
    "start_time": "2024-03-10T20:57:39.225Z"
   },
   {
    "duration": 34,
    "start_time": "2024-03-10T20:57:39.808Z"
   },
   {
    "duration": 28,
    "start_time": "2024-03-10T20:57:42.824Z"
   },
   {
    "duration": 56,
    "start_time": "2024-03-10T20:57:45.877Z"
   },
   {
    "duration": 7,
    "start_time": "2024-03-10T20:57:46.327Z"
   },
   {
    "duration": 8,
    "start_time": "2024-03-10T20:57:48.859Z"
   },
   {
    "duration": 8,
    "start_time": "2024-03-10T20:57:49.877Z"
   },
   {
    "duration": 4,
    "start_time": "2024-03-10T20:57:56.746Z"
   },
   {
    "duration": 9,
    "start_time": "2024-03-10T20:57:57.217Z"
   },
   {
    "duration": 9,
    "start_time": "2024-03-10T20:58:01.547Z"
   },
   {
    "duration": 31,
    "start_time": "2024-03-10T20:58:05.117Z"
   },
   {
    "duration": 64,
    "start_time": "2024-03-10T20:58:07.713Z"
   },
   {
    "duration": 8,
    "start_time": "2024-03-10T20:58:10.867Z"
   },
   {
    "duration": 54,
    "start_time": "2024-03-10T20:58:46.461Z"
   },
   {
    "duration": 4,
    "start_time": "2024-03-10T20:58:52.231Z"
   },
   {
    "duration": 57,
    "start_time": "2024-03-10T20:59:12.870Z"
   },
   {
    "duration": 4,
    "start_time": "2024-03-10T20:59:13.770Z"
   },
   {
    "duration": 5,
    "start_time": "2024-03-10T20:59:14.803Z"
   },
   {
    "duration": 85,
    "start_time": "2024-03-10T20:59:16.621Z"
   },
   {
    "duration": 8,
    "start_time": "2024-03-10T20:59:17.486Z"
   },
   {
    "duration": 4,
    "start_time": "2024-03-10T20:59:19.641Z"
   },
   {
    "duration": 7,
    "start_time": "2024-03-10T20:59:24.459Z"
   },
   {
    "duration": 22,
    "start_time": "2024-03-10T20:59:37.645Z"
   },
   {
    "duration": 7,
    "start_time": "2024-03-10T20:59:40.446Z"
   },
   {
    "duration": 5,
    "start_time": "2024-03-10T20:59:49.649Z"
   },
   {
    "duration": 12,
    "start_time": "2024-03-10T21:00:00.507Z"
   },
   {
    "duration": 10,
    "start_time": "2024-03-10T21:00:06.003Z"
   },
   {
    "duration": 10,
    "start_time": "2024-03-10T21:00:10.121Z"
   },
   {
    "duration": 9,
    "start_time": "2024-03-10T21:00:15.938Z"
   },
   {
    "duration": 10,
    "start_time": "2024-03-10T21:00:21.841Z"
   },
   {
    "duration": 11,
    "start_time": "2024-03-10T21:00:30.877Z"
   },
   {
    "duration": 14,
    "start_time": "2024-03-10T21:00:36.782Z"
   },
   {
    "duration": 35,
    "start_time": "2024-03-10T21:02:44.169Z"
   },
   {
    "duration": 66,
    "start_time": "2024-03-10T21:02:46.235Z"
   },
   {
    "duration": 8,
    "start_time": "2024-03-10T21:02:46.770Z"
   },
   {
    "duration": 64,
    "start_time": "2024-03-10T21:02:55.056Z"
   },
   {
    "duration": 4,
    "start_time": "2024-03-10T21:02:55.973Z"
   },
   {
    "duration": 6,
    "start_time": "2024-03-10T21:02:56.589Z"
   },
   {
    "duration": 83,
    "start_time": "2024-03-10T21:02:58.673Z"
   },
   {
    "duration": 8,
    "start_time": "2024-03-10T21:03:03.257Z"
   },
   {
    "duration": 4,
    "start_time": "2024-03-10T21:03:06.642Z"
   },
   {
    "duration": 7,
    "start_time": "2024-03-10T21:03:07.408Z"
   },
   {
    "duration": 5,
    "start_time": "2024-03-10T21:04:50.643Z"
   },
   {
    "duration": 79,
    "start_time": "2024-03-10T21:04:53.542Z"
   },
   {
    "duration": 8,
    "start_time": "2024-03-10T21:04:54.091Z"
   },
   {
    "duration": 4,
    "start_time": "2024-03-10T21:04:56.826Z"
   },
   {
    "duration": 8,
    "start_time": "2024-03-10T21:04:57.376Z"
   },
   {
    "duration": 4,
    "start_time": "2024-03-10T21:05:04.822Z"
   },
   {
    "duration": 8,
    "start_time": "2024-03-10T21:05:04.829Z"
   },
   {
    "duration": 198,
    "start_time": "2024-03-10T21:05:04.839Z"
   },
   {
    "duration": 11,
    "start_time": "2024-03-10T21:05:05.039Z"
   },
   {
    "duration": 42,
    "start_time": "2024-03-10T21:05:05.053Z"
   },
   {
    "duration": 20,
    "start_time": "2024-03-10T21:05:05.097Z"
   },
   {
    "duration": 75,
    "start_time": "2024-03-10T21:05:05.119Z"
   },
   {
    "duration": 70,
    "start_time": "2024-03-10T21:05:05.196Z"
   },
   {
    "duration": 77,
    "start_time": "2024-03-10T21:05:05.268Z"
   },
   {
    "duration": 5,
    "start_time": "2024-03-10T21:05:05.347Z"
   },
   {
    "duration": 31,
    "start_time": "2024-03-10T21:05:05.354Z"
   },
   {
    "duration": 8,
    "start_time": "2024-03-10T21:05:05.387Z"
   },
   {
    "duration": 79,
    "start_time": "2024-03-10T21:05:05.397Z"
   },
   {
    "duration": 19,
    "start_time": "2024-03-10T21:05:05.479Z"
   },
   {
    "duration": 60,
    "start_time": "2024-03-10T21:05:05.500Z"
   },
   {
    "duration": 45,
    "start_time": "2024-03-10T21:05:05.562Z"
   },
   {
    "duration": 28,
    "start_time": "2024-03-10T21:05:05.609Z"
   },
   {
    "duration": 15,
    "start_time": "2024-03-10T21:05:05.640Z"
   },
   {
    "duration": 44,
    "start_time": "2024-03-10T21:05:05.656Z"
   },
   {
    "duration": 8,
    "start_time": "2024-03-10T21:05:05.703Z"
   },
   {
    "duration": 404,
    "start_time": "2024-03-10T21:05:05.713Z"
   },
   {
    "duration": 19,
    "start_time": "2024-03-10T21:05:06.119Z"
   },
   {
    "duration": 14,
    "start_time": "2024-03-10T21:05:06.139Z"
   },
   {
    "duration": 86,
    "start_time": "2024-03-10T21:05:06.154Z"
   },
   {
    "duration": 17,
    "start_time": "2024-03-10T21:05:06.242Z"
   },
   {
    "duration": 6,
    "start_time": "2024-03-10T21:05:06.261Z"
   },
   {
    "duration": 54,
    "start_time": "2024-03-10T21:05:06.269Z"
   },
   {
    "duration": 28,
    "start_time": "2024-03-10T21:05:06.324Z"
   },
   {
    "duration": 72,
    "start_time": "2024-03-10T21:05:06.355Z"
   },
   {
    "duration": 6,
    "start_time": "2024-03-10T21:05:06.429Z"
   },
   {
    "duration": 9,
    "start_time": "2024-03-10T21:05:06.437Z"
   },
   {
    "duration": 18,
    "start_time": "2024-03-10T21:05:06.447Z"
   },
   {
    "duration": 10,
    "start_time": "2024-03-10T21:05:06.467Z"
   },
   {
    "duration": 25,
    "start_time": "2024-03-10T21:05:06.479Z"
   },
   {
    "duration": 11,
    "start_time": "2024-03-10T21:05:06.506Z"
   },
   {
    "duration": 34,
    "start_time": "2024-03-10T21:05:06.518Z"
   },
   {
    "duration": 79,
    "start_time": "2024-03-10T21:05:06.554Z"
   },
   {
    "duration": 8,
    "start_time": "2024-03-10T21:05:06.634Z"
   },
   {
    "duration": 74,
    "start_time": "2024-03-10T21:05:06.643Z"
   },
   {
    "duration": 57,
    "start_time": "2024-03-10T21:05:06.719Z"
   },
   {
    "duration": 14,
    "start_time": "2024-03-10T21:05:06.779Z"
   },
   {
    "duration": 12,
    "start_time": "2024-03-10T21:05:06.794Z"
   },
   {
    "duration": 102,
    "start_time": "2024-03-10T21:05:06.807Z"
   },
   {
    "duration": 7,
    "start_time": "2024-03-10T21:05:06.911Z"
   },
   {
    "duration": 4,
    "start_time": "2024-03-10T21:05:06.920Z"
   },
   {
    "duration": 11,
    "start_time": "2024-03-10T21:05:06.925Z"
   },
   {
    "duration": 23,
    "start_time": "2024-03-10T21:05:06.937Z"
   },
   {
    "duration": 32,
    "start_time": "2024-03-10T21:05:06.962Z"
   },
   {
    "duration": 7,
    "start_time": "2024-03-10T21:05:06.996Z"
   },
   {
    "duration": 15,
    "start_time": "2024-03-10T21:05:07.004Z"
   },
   {
    "duration": 9,
    "start_time": "2024-03-10T21:05:07.021Z"
   },
   {
    "duration": 11,
    "start_time": "2024-03-10T21:05:07.032Z"
   },
   {
    "duration": 11,
    "start_time": "2024-03-10T21:05:07.044Z"
   },
   {
    "duration": 3,
    "start_time": "2024-03-10T21:05:26.404Z"
   },
   {
    "duration": 3,
    "start_time": "2024-03-10T21:05:31.171Z"
   },
   {
    "duration": 186,
    "start_time": "2024-03-10T21:05:31.671Z"
   },
   {
    "duration": 11,
    "start_time": "2024-03-10T21:05:32.507Z"
   },
   {
    "duration": 22,
    "start_time": "2024-03-10T21:05:35.256Z"
   },
   {
    "duration": 18,
    "start_time": "2024-03-10T21:05:35.788Z"
   },
   {
    "duration": 77,
    "start_time": "2024-03-10T21:05:37.322Z"
   },
   {
    "duration": 67,
    "start_time": "2024-03-10T21:05:38.807Z"
   },
   {
    "duration": 58,
    "start_time": "2024-03-10T21:05:39.423Z"
   },
   {
    "duration": 6,
    "start_time": "2024-03-10T21:05:40.290Z"
   },
   {
    "duration": 7,
    "start_time": "2024-03-10T21:05:40.774Z"
   },
   {
    "duration": 7,
    "start_time": "2024-03-10T21:05:42.525Z"
   },
   {
    "duration": 75,
    "start_time": "2024-03-10T21:05:43.142Z"
   },
   {
    "duration": 20,
    "start_time": "2024-03-10T21:05:44.041Z"
   },
   {
    "duration": 43,
    "start_time": "2024-03-10T21:06:06.618Z"
   },
   {
    "duration": 43,
    "start_time": "2024-03-10T21:06:09.366Z"
   },
   {
    "duration": 29,
    "start_time": "2024-03-10T21:06:10.166Z"
   },
   {
    "duration": 8,
    "start_time": "2024-03-10T21:06:11.067Z"
   },
   {
    "duration": 19,
    "start_time": "2024-03-10T21:06:12.401Z"
   },
   {
    "duration": 8,
    "start_time": "2024-03-10T21:06:14.839Z"
   },
   {
    "duration": 358,
    "start_time": "2024-03-10T21:06:15.639Z"
   },
   {
    "duration": 20,
    "start_time": "2024-03-10T21:06:19.069Z"
   },
   {
    "duration": 13,
    "start_time": "2024-03-10T21:06:20.178Z"
   },
   {
    "duration": 69,
    "start_time": "2024-03-10T21:06:21.385Z"
   },
   {
    "duration": 21,
    "start_time": "2024-03-10T21:06:22.092Z"
   },
   {
    "duration": 6,
    "start_time": "2024-03-10T21:06:22.554Z"
   },
   {
    "duration": 34,
    "start_time": "2024-03-10T21:06:23.219Z"
   },
   {
    "duration": 28,
    "start_time": "2024-03-10T21:06:28.702Z"
   },
   {
    "duration": 53,
    "start_time": "2024-03-10T21:06:30.074Z"
   },
   {
    "duration": 6,
    "start_time": "2024-03-10T21:06:30.727Z"
   },
   {
    "duration": 10,
    "start_time": "2024-03-10T21:06:31.356Z"
   },
   {
    "duration": 8,
    "start_time": "2024-03-10T21:06:32.306Z"
   },
   {
    "duration": 4,
    "start_time": "2024-03-10T21:06:35.091Z"
   },
   {
    "duration": 9,
    "start_time": "2024-03-10T21:06:36.256Z"
   },
   {
    "duration": 10,
    "start_time": "2024-03-10T21:06:41.842Z"
   },
   {
    "duration": 14,
    "start_time": "2024-03-10T21:08:07.519Z"
   },
   {
    "duration": 16,
    "start_time": "2024-03-10T21:08:12.271Z"
   },
   {
    "duration": 11,
    "start_time": "2024-03-10T21:08:23.291Z"
   },
   {
    "duration": 32,
    "start_time": "2024-03-10T21:08:26.992Z"
   },
   {
    "duration": 70,
    "start_time": "2024-03-10T21:08:28.391Z"
   },
   {
    "duration": 8,
    "start_time": "2024-03-10T21:08:31.028Z"
   },
   {
    "duration": 60,
    "start_time": "2024-03-10T21:08:31.594Z"
   },
   {
    "duration": 36,
    "start_time": "2024-03-10T21:09:20.794Z"
   },
   {
    "duration": 67,
    "start_time": "2024-03-10T21:09:22.292Z"
   },
   {
    "duration": 7,
    "start_time": "2024-03-10T21:09:22.992Z"
   },
   {
    "duration": 60,
    "start_time": "2024-03-10T21:09:25.326Z"
   },
   {
    "duration": 5,
    "start_time": "2024-03-10T21:09:30.733Z"
   },
   {
    "duration": 5,
    "start_time": "2024-03-10T21:09:34.080Z"
   },
   {
    "duration": 82,
    "start_time": "2024-03-10T21:09:41.681Z"
   },
   {
    "duration": 7,
    "start_time": "2024-03-10T21:09:42.550Z"
   },
   {
    "duration": 4,
    "start_time": "2024-03-10T21:09:46.151Z"
   },
   {
    "duration": 7,
    "start_time": "2024-03-10T21:09:47.019Z"
   },
   {
    "duration": 23,
    "start_time": "2024-03-10T21:09:49.669Z"
   },
   {
    "duration": 7,
    "start_time": "2024-03-10T21:09:51.385Z"
   },
   {
    "duration": 5,
    "start_time": "2024-03-10T21:09:53.185Z"
   },
   {
    "duration": 10,
    "start_time": "2024-03-10T21:09:53.937Z"
   },
   {
    "duration": 9,
    "start_time": "2024-03-10T21:09:59.621Z"
   },
   {
    "duration": 10,
    "start_time": "2024-03-10T21:10:46.970Z"
   },
   {
    "duration": 11,
    "start_time": "2024-03-10T21:10:51.837Z"
   },
   {
    "duration": 11,
    "start_time": "2024-03-10T21:10:59.542Z"
   },
   {
    "duration": 10,
    "start_time": "2024-03-10T21:11:08.759Z"
   },
   {
    "duration": 4,
    "start_time": "2024-03-10T21:12:27.366Z"
   },
   {
    "duration": 3,
    "start_time": "2024-03-10T21:12:28.817Z"
   },
   {
    "duration": 186,
    "start_time": "2024-03-10T21:12:29.500Z"
   },
   {
    "duration": 11,
    "start_time": "2024-03-10T21:12:29.950Z"
   },
   {
    "duration": 10,
    "start_time": "2024-03-10T21:12:53.892Z"
   },
   {
    "duration": 3,
    "start_time": "2024-03-10T21:12:58.692Z"
   },
   {
    "duration": 3,
    "start_time": "2024-03-10T21:13:00.646Z"
   },
   {
    "duration": 179,
    "start_time": "2024-03-10T21:13:06.443Z"
   },
   {
    "duration": 9,
    "start_time": "2024-03-10T21:13:06.962Z"
   },
   {
    "duration": 25,
    "start_time": "2024-03-10T21:13:09.829Z"
   },
   {
    "duration": 18,
    "start_time": "2024-03-10T21:13:11.329Z"
   },
   {
    "duration": 63,
    "start_time": "2024-03-10T21:13:15.265Z"
   },
   {
    "duration": 69,
    "start_time": "2024-03-10T21:13:16.648Z"
   },
   {
    "duration": 76,
    "start_time": "2024-03-10T21:13:17.733Z"
   },
   {
    "duration": 6,
    "start_time": "2024-03-10T21:13:18.483Z"
   },
   {
    "duration": 9,
    "start_time": "2024-03-10T21:13:19.299Z"
   },
   {
    "duration": 8,
    "start_time": "2024-03-10T21:13:20.232Z"
   },
   {
    "duration": 82,
    "start_time": "2024-03-10T21:13:20.801Z"
   },
   {
    "duration": 15,
    "start_time": "2024-03-10T21:13:21.400Z"
   },
   {
    "duration": 44,
    "start_time": "2024-03-10T21:13:23.200Z"
   },
   {
    "duration": 44,
    "start_time": "2024-03-10T21:13:24.102Z"
   },
   {
    "duration": 28,
    "start_time": "2024-03-10T21:13:24.333Z"
   },
   {
    "duration": 8,
    "start_time": "2024-03-10T21:13:24.600Z"
   },
   {
    "duration": 17,
    "start_time": "2024-03-10T21:13:24.851Z"
   },
   {
    "duration": 9,
    "start_time": "2024-03-10T21:13:25.268Z"
   },
   {
    "duration": 393,
    "start_time": "2024-03-10T21:13:25.684Z"
   },
   {
    "duration": 25,
    "start_time": "2024-03-10T21:13:26.079Z"
   },
   {
    "duration": 18,
    "start_time": "2024-03-10T21:13:26.451Z"
   },
   {
    "duration": 67,
    "start_time": "2024-03-10T21:13:26.871Z"
   },
   {
    "duration": 18,
    "start_time": "2024-03-10T21:13:27.101Z"
   },
   {
    "duration": 6,
    "start_time": "2024-03-10T21:13:27.352Z"
   },
   {
    "duration": 33,
    "start_time": "2024-03-10T21:13:27.568Z"
   },
   {
    "duration": 27,
    "start_time": "2024-03-10T21:13:28.435Z"
   },
   {
    "duration": 54,
    "start_time": "2024-03-10T21:13:28.936Z"
   },
   {
    "duration": 6,
    "start_time": "2024-03-10T21:13:29.170Z"
   },
   {
    "duration": 9,
    "start_time": "2024-03-10T21:13:29.553Z"
   },
   {
    "duration": 7,
    "start_time": "2024-03-10T21:13:29.769Z"
   },
   {
    "duration": 4,
    "start_time": "2024-03-10T21:13:30.486Z"
   },
   {
    "duration": 9,
    "start_time": "2024-03-10T21:13:30.770Z"
   },
   {
    "duration": 11,
    "start_time": "2024-03-10T21:13:32.436Z"
   },
   {
    "duration": 36,
    "start_time": "2024-03-10T21:13:32.919Z"
   },
   {
    "duration": 66,
    "start_time": "2024-03-10T21:13:33.436Z"
   },
   {
    "duration": 8,
    "start_time": "2024-03-10T21:13:33.670Z"
   },
   {
    "duration": 65,
    "start_time": "2024-03-10T21:13:34.154Z"
   },
   {
    "duration": 4,
    "start_time": "2024-03-10T21:13:34.405Z"
   },
   {
    "duration": 5,
    "start_time": "2024-03-10T21:13:34.637Z"
   },
   {
    "duration": 81,
    "start_time": "2024-03-10T21:13:34.854Z"
   },
   {
    "duration": 8,
    "start_time": "2024-03-10T21:13:35.070Z"
   },
   {
    "duration": 4,
    "start_time": "2024-03-10T21:13:35.320Z"
   },
   {
    "duration": 9,
    "start_time": "2024-03-10T21:13:35.504Z"
   },
   {
    "duration": 22,
    "start_time": "2024-03-10T21:13:35.721Z"
   },
   {
    "duration": 8,
    "start_time": "2024-03-10T21:13:36.404Z"
   },
   {
    "duration": 7,
    "start_time": "2024-03-10T21:13:37.222Z"
   },
   {
    "duration": 10,
    "start_time": "2024-03-10T21:13:37.655Z"
   },
   {
    "duration": 10,
    "start_time": "2024-03-10T21:13:38.489Z"
   },
   {
    "duration": 10,
    "start_time": "2024-03-10T21:13:39.126Z"
   },
   {
    "duration": 10,
    "start_time": "2024-03-10T21:13:39.939Z"
   },
   {
    "duration": 1299,
    "start_time": "2024-03-10T22:38:53.814Z"
   },
   {
    "duration": 3,
    "start_time": "2024-03-10T22:38:55.115Z"
   },
   {
    "duration": 232,
    "start_time": "2024-03-10T22:38:55.119Z"
   },
   {
    "duration": 13,
    "start_time": "2024-03-10T22:38:55.353Z"
   },
   {
    "duration": 53,
    "start_time": "2024-03-10T22:38:55.367Z"
   },
   {
    "duration": 18,
    "start_time": "2024-03-10T22:38:55.422Z"
   },
   {
    "duration": 94,
    "start_time": "2024-03-10T22:38:55.442Z"
   },
   {
    "duration": 78,
    "start_time": "2024-03-10T22:38:55.538Z"
   },
   {
    "duration": 75,
    "start_time": "2024-03-10T22:38:55.618Z"
   },
   {
    "duration": 6,
    "start_time": "2024-03-10T22:38:55.695Z"
   },
   {
    "duration": 22,
    "start_time": "2024-03-10T22:38:55.703Z"
   },
   {
    "duration": 61,
    "start_time": "2024-03-10T22:38:55.727Z"
   },
   {
    "duration": 111,
    "start_time": "2024-03-10T22:38:55.790Z"
   },
   {
    "duration": 14,
    "start_time": "2024-03-10T22:38:55.903Z"
   },
   {
    "duration": 84,
    "start_time": "2024-03-10T22:38:55.919Z"
   },
   {
    "duration": 46,
    "start_time": "2024-03-10T22:38:56.005Z"
   },
   {
    "duration": 29,
    "start_time": "2024-03-10T22:38:56.053Z"
   },
   {
    "duration": 8,
    "start_time": "2024-03-10T22:38:56.092Z"
   },
   {
    "duration": 28,
    "start_time": "2024-03-10T22:38:56.101Z"
   },
   {
    "duration": 9,
    "start_time": "2024-03-10T22:38:56.130Z"
   },
   {
    "duration": 499,
    "start_time": "2024-03-10T22:38:56.140Z"
   },
   {
    "duration": 24,
    "start_time": "2024-03-10T22:38:56.641Z"
   },
   {
    "duration": 27,
    "start_time": "2024-03-10T22:38:56.667Z"
   },
   {
    "duration": 74,
    "start_time": "2024-03-10T22:38:56.696Z"
   },
   {
    "duration": 30,
    "start_time": "2024-03-10T22:38:56.772Z"
   },
   {
    "duration": 6,
    "start_time": "2024-03-10T22:38:56.804Z"
   },
   {
    "duration": 35,
    "start_time": "2024-03-10T22:38:56.812Z"
   },
   {
    "duration": 44,
    "start_time": "2024-03-10T22:38:56.850Z"
   },
   {
    "duration": 57,
    "start_time": "2024-03-10T22:38:56.896Z"
   },
   {
    "duration": 7,
    "start_time": "2024-03-10T22:38:56.955Z"
   },
   {
    "duration": 12,
    "start_time": "2024-03-10T22:38:56.964Z"
   },
   {
    "duration": 10,
    "start_time": "2024-03-10T22:38:56.991Z"
   },
   {
    "duration": 8,
    "start_time": "2024-03-10T22:38:57.002Z"
   },
   {
    "duration": 13,
    "start_time": "2024-03-10T22:38:57.011Z"
   },
   {
    "duration": 409,
    "start_time": "2024-03-10T22:38:57.026Z"
   },
   {
    "duration": 70,
    "start_time": "2024-03-10T22:38:57.437Z"
   },
   {
    "duration": 146,
    "start_time": "2024-03-10T22:38:57.509Z"
   },
   {
    "duration": 11,
    "start_time": "2024-03-10T22:38:57.658Z"
   },
   {
    "duration": 78,
    "start_time": "2024-03-10T22:38:57.691Z"
   },
   {
    "duration": 21,
    "start_time": "2024-03-10T22:38:57.771Z"
   },
   {
    "duration": 13,
    "start_time": "2024-03-10T22:38:57.794Z"
   },
   {
    "duration": 99,
    "start_time": "2024-03-10T22:38:57.809Z"
   },
   {
    "duration": 10,
    "start_time": "2024-03-10T22:38:57.911Z"
   },
   {
    "duration": 8,
    "start_time": "2024-03-10T22:38:57.924Z"
   },
   {
    "duration": 15,
    "start_time": "2024-03-10T22:38:57.934Z"
   },
   {
    "duration": 44,
    "start_time": "2024-03-10T22:38:57.951Z"
   },
   {
    "duration": 10,
    "start_time": "2024-03-10T22:38:57.997Z"
   },
   {
    "duration": 19,
    "start_time": "2024-03-10T22:38:58.009Z"
   },
   {
    "duration": 25,
    "start_time": "2024-03-10T22:38:58.030Z"
   },
   {
    "duration": 19,
    "start_time": "2024-03-10T22:38:58.057Z"
   },
   {
    "duration": 46,
    "start_time": "2024-03-10T22:38:58.078Z"
   },
   {
    "duration": 18,
    "start_time": "2024-03-10T22:38:58.126Z"
   },
   {
    "duration": 1218,
    "start_time": "2024-03-30T10:10:47.102Z"
   },
   {
    "duration": 2,
    "start_time": "2024-03-30T10:10:48.322Z"
   },
   {
    "duration": 295,
    "start_time": "2024-03-30T10:10:48.326Z"
   },
   {
    "duration": 15,
    "start_time": "2024-03-30T10:10:48.622Z"
   },
   {
    "duration": 24,
    "start_time": "2024-03-30T10:10:48.638Z"
   },
   {
    "duration": 24,
    "start_time": "2024-03-30T10:10:48.663Z"
   },
   {
    "duration": 69,
    "start_time": "2024-03-30T10:10:48.689Z"
   },
   {
    "duration": 91,
    "start_time": "2024-03-30T10:10:48.760Z"
   },
   {
    "duration": 71,
    "start_time": "2024-03-30T10:10:48.852Z"
   },
   {
    "duration": 6,
    "start_time": "2024-03-30T10:10:48.926Z"
   },
   {
    "duration": 7,
    "start_time": "2024-03-30T10:10:48.933Z"
   },
   {
    "duration": 9,
    "start_time": "2024-03-30T10:10:48.942Z"
   },
   {
    "duration": 97,
    "start_time": "2024-03-30T10:10:48.952Z"
   },
   {
    "duration": 14,
    "start_time": "2024-03-30T10:10:49.050Z"
   },
   {
    "duration": 58,
    "start_time": "2024-03-30T10:10:49.065Z"
   },
   {
    "duration": 41,
    "start_time": "2024-03-30T10:10:49.124Z"
   },
   {
    "duration": 37,
    "start_time": "2024-03-30T10:10:49.167Z"
   },
   {
    "duration": 14,
    "start_time": "2024-03-30T10:10:49.205Z"
   },
   {
    "duration": 17,
    "start_time": "2024-03-30T10:10:49.221Z"
   },
   {
    "duration": 9,
    "start_time": "2024-03-30T10:10:49.240Z"
   },
   {
    "duration": 453,
    "start_time": "2024-03-30T10:10:49.250Z"
   },
   {
    "duration": 21,
    "start_time": "2024-03-30T10:10:49.704Z"
   },
   {
    "duration": 13,
    "start_time": "2024-03-30T10:10:49.727Z"
   },
   {
    "duration": 81,
    "start_time": "2024-03-30T10:10:49.741Z"
   },
   {
    "duration": 16,
    "start_time": "2024-03-30T10:10:49.824Z"
   },
   {
    "duration": 6,
    "start_time": "2024-03-30T10:10:49.842Z"
   },
   {
    "duration": 56,
    "start_time": "2024-03-30T10:10:49.850Z"
   },
   {
    "duration": 27,
    "start_time": "2024-03-30T10:10:49.910Z"
   },
   {
    "duration": 66,
    "start_time": "2024-03-30T10:10:49.938Z"
   },
   {
    "duration": 6,
    "start_time": "2024-03-30T10:10:50.006Z"
   },
   {
    "duration": 17,
    "start_time": "2024-03-30T10:10:50.014Z"
   },
   {
    "duration": 19,
    "start_time": "2024-03-30T10:10:50.033Z"
   },
   {
    "duration": 15,
    "start_time": "2024-03-30T10:10:50.054Z"
   },
   {
    "duration": 9,
    "start_time": "2024-03-30T10:10:50.071Z"
   },
   {
    "duration": 167,
    "start_time": "2024-03-30T10:10:50.082Z"
   },
   {
    "duration": 50,
    "start_time": "2024-03-30T10:10:50.251Z"
   },
   {
    "duration": 122,
    "start_time": "2024-03-30T10:10:50.303Z"
   },
   {
    "duration": 8,
    "start_time": "2024-03-30T10:10:50.426Z"
   },
   {
    "duration": 94,
    "start_time": "2024-03-30T10:10:50.435Z"
   },
   {
    "duration": 3,
    "start_time": "2024-03-30T10:10:50.531Z"
   },
   {
    "duration": 7,
    "start_time": "2024-03-30T10:10:50.536Z"
   },
   {
    "duration": 89,
    "start_time": "2024-03-30T10:10:50.544Z"
   },
   {
    "duration": 7,
    "start_time": "2024-03-30T10:10:50.634Z"
   },
   {
    "duration": 14,
    "start_time": "2024-03-30T10:10:50.642Z"
   },
   {
    "duration": 11,
    "start_time": "2024-03-30T10:10:50.657Z"
   },
   {
    "duration": 29,
    "start_time": "2024-03-30T10:10:50.670Z"
   },
   {
    "duration": 7,
    "start_time": "2024-03-30T10:10:50.700Z"
   },
   {
    "duration": 9,
    "start_time": "2024-03-30T10:10:50.709Z"
   },
   {
    "duration": 15,
    "start_time": "2024-03-30T10:10:50.719Z"
   },
   {
    "duration": 9,
    "start_time": "2024-03-30T10:10:50.735Z"
   },
   {
    "duration": 14,
    "start_time": "2024-03-30T10:10:50.746Z"
   },
   {
    "duration": 10,
    "start_time": "2024-03-30T10:10:50.782Z"
   },
   {
    "duration": 1445,
    "start_time": "2024-05-15T16:27:09.487Z"
   },
   {
    "duration": 3,
    "start_time": "2024-05-15T16:27:10.934Z"
   },
   {
    "duration": 873,
    "start_time": "2024-05-15T16:27:10.941Z"
   },
   {
    "duration": 17,
    "start_time": "2024-05-15T16:27:11.815Z"
   },
   {
    "duration": 28,
    "start_time": "2024-05-15T16:27:11.833Z"
   },
   {
    "duration": 19,
    "start_time": "2024-05-15T16:27:11.862Z"
   },
   {
    "duration": 90,
    "start_time": "2024-05-15T16:27:11.882Z"
   },
   {
    "duration": 80,
    "start_time": "2024-05-15T16:27:11.974Z"
   },
   {
    "duration": 66,
    "start_time": "2024-05-15T16:27:12.057Z"
   },
   {
    "duration": 5,
    "start_time": "2024-05-15T16:27:12.125Z"
   },
   {
    "duration": 13,
    "start_time": "2024-05-15T16:27:12.131Z"
   },
   {
    "duration": 40,
    "start_time": "2024-05-15T16:27:12.145Z"
   },
   {
    "duration": 81,
    "start_time": "2024-05-15T16:27:12.187Z"
   },
   {
    "duration": 17,
    "start_time": "2024-05-15T16:27:12.270Z"
   },
   {
    "duration": 55,
    "start_time": "2024-05-15T16:27:12.289Z"
   },
   {
    "duration": 39,
    "start_time": "2024-05-15T16:27:12.346Z"
   },
   {
    "duration": 39,
    "start_time": "2024-05-15T16:27:12.387Z"
   },
   {
    "duration": 30,
    "start_time": "2024-05-15T16:27:12.428Z"
   },
   {
    "duration": 57,
    "start_time": "2024-05-15T16:27:12.459Z"
   },
   {
    "duration": 8,
    "start_time": "2024-05-15T16:27:12.517Z"
   },
   {
    "duration": 461,
    "start_time": "2024-05-15T16:27:12.526Z"
   },
   {
    "duration": 32,
    "start_time": "2024-05-15T16:27:12.988Z"
   },
   {
    "duration": 29,
    "start_time": "2024-05-15T16:27:13.022Z"
   },
   {
    "duration": 103,
    "start_time": "2024-05-15T16:27:13.053Z"
   },
   {
    "duration": 14,
    "start_time": "2024-05-15T16:27:13.157Z"
   },
   {
    "duration": 6,
    "start_time": "2024-05-15T16:27:13.172Z"
   },
   {
    "duration": 45,
    "start_time": "2024-05-15T16:27:13.181Z"
   },
   {
    "duration": 25,
    "start_time": "2024-05-15T16:27:13.227Z"
   },
   {
    "duration": 76,
    "start_time": "2024-05-15T16:27:13.253Z"
   },
   {
    "duration": 7,
    "start_time": "2024-05-15T16:27:13.330Z"
   },
   {
    "duration": 230,
    "start_time": "2024-05-15T16:27:13.338Z"
   },
   {
    "duration": 23,
    "start_time": "2024-05-15T16:27:13.569Z"
   },
   {
    "duration": 11,
    "start_time": "2024-05-15T16:27:13.594Z"
   },
   {
    "duration": 30,
    "start_time": "2024-05-15T16:27:13.608Z"
   },
   {
    "duration": 172,
    "start_time": "2024-05-15T16:27:13.639Z"
   },
   {
    "duration": 33,
    "start_time": "2024-05-15T16:27:13.813Z"
   },
   {
    "duration": 168,
    "start_time": "2024-05-15T16:27:13.848Z"
   },
   {
    "duration": 7,
    "start_time": "2024-05-15T16:27:14.018Z"
   },
   {
    "duration": 119,
    "start_time": "2024-05-15T16:27:14.026Z"
   },
   {
    "duration": 4,
    "start_time": "2024-05-15T16:27:14.147Z"
   },
   {
    "duration": 27,
    "start_time": "2024-05-15T16:27:14.153Z"
   },
   {
    "duration": 95,
    "start_time": "2024-05-15T16:27:14.182Z"
   },
   {
    "duration": 8,
    "start_time": "2024-05-15T16:27:14.279Z"
   },
   {
    "duration": 30,
    "start_time": "2024-05-15T16:27:14.289Z"
   },
   {
    "duration": 43,
    "start_time": "2024-05-15T16:27:14.321Z"
   },
   {
    "duration": 74,
    "start_time": "2024-05-15T16:27:14.365Z"
   },
   {
    "duration": 13,
    "start_time": "2024-05-15T16:27:14.440Z"
   },
   {
    "duration": 23,
    "start_time": "2024-05-15T16:27:14.455Z"
   },
   {
    "duration": 26,
    "start_time": "2024-05-15T16:27:14.480Z"
   },
   {
    "duration": 11,
    "start_time": "2024-05-15T16:27:14.508Z"
   },
   {
    "duration": 16,
    "start_time": "2024-05-15T16:27:14.520Z"
   },
   {
    "duration": 30,
    "start_time": "2024-05-15T16:27:14.537Z"
   },
   {
    "duration": 1264,
    "start_time": "2024-05-15T16:27:58.487Z"
   },
   {
    "duration": 3,
    "start_time": "2024-05-15T16:27:59.752Z"
   },
   {
    "duration": 195,
    "start_time": "2024-05-15T16:27:59.756Z"
   },
   {
    "duration": 13,
    "start_time": "2024-05-15T16:27:59.953Z"
   },
   {
    "duration": 44,
    "start_time": "2024-05-15T16:27:59.967Z"
   },
   {
    "duration": 30,
    "start_time": "2024-05-15T16:28:00.013Z"
   },
   {
    "duration": 170,
    "start_time": "2024-05-15T16:28:00.044Z"
   },
   {
    "duration": 90,
    "start_time": "2024-05-15T16:28:00.217Z"
   },
   {
    "duration": 59,
    "start_time": "2024-05-15T16:28:00.309Z"
   },
   {
    "duration": 150,
    "start_time": "2024-05-15T16:28:00.372Z"
   },
   {
    "duration": 95,
    "start_time": "2024-05-15T16:28:00.523Z"
   },
   {
    "duration": 57,
    "start_time": "2024-05-15T16:28:00.620Z"
   },
   {
    "duration": 134,
    "start_time": "2024-05-15T16:28:00.679Z"
   },
   {
    "duration": 15,
    "start_time": "2024-05-15T16:28:00.815Z"
   },
   {
    "duration": 115,
    "start_time": "2024-05-15T16:28:00.831Z"
   },
   {
    "duration": 49,
    "start_time": "2024-05-15T16:28:00.948Z"
   },
   {
    "duration": 50,
    "start_time": "2024-05-15T16:28:00.999Z"
   },
   {
    "duration": 46,
    "start_time": "2024-05-15T16:28:01.051Z"
   },
   {
    "duration": 53,
    "start_time": "2024-05-15T16:28:01.100Z"
   },
   {
    "duration": 58,
    "start_time": "2024-05-15T16:28:01.155Z"
   },
   {
    "duration": 501,
    "start_time": "2024-05-15T16:28:01.215Z"
   },
   {
    "duration": 20,
    "start_time": "2024-05-15T16:28:01.718Z"
   },
   {
    "duration": 23,
    "start_time": "2024-05-15T16:28:01.740Z"
   },
   {
    "duration": 103,
    "start_time": "2024-05-15T16:28:01.765Z"
   },
   {
    "duration": 16,
    "start_time": "2024-05-15T16:28:01.870Z"
   },
   {
    "duration": 22,
    "start_time": "2024-05-15T16:28:01.888Z"
   },
   {
    "duration": 46,
    "start_time": "2024-05-15T16:28:01.912Z"
   },
   {
    "duration": 25,
    "start_time": "2024-05-15T16:28:01.962Z"
   },
   {
    "duration": 91,
    "start_time": "2024-05-15T16:28:01.989Z"
   },
   {
    "duration": 7,
    "start_time": "2024-05-15T16:28:02.081Z"
   },
   {
    "duration": 23,
    "start_time": "2024-05-15T16:28:02.090Z"
   },
   {
    "duration": 8,
    "start_time": "2024-05-15T16:28:02.114Z"
   },
   {
    "duration": 22,
    "start_time": "2024-05-15T16:28:02.123Z"
   },
   {
    "duration": 21,
    "start_time": "2024-05-15T16:28:02.147Z"
   },
   {
    "duration": 160,
    "start_time": "2024-05-15T16:28:02.170Z"
   },
   {
    "duration": 0,
    "start_time": "2024-05-15T16:28:02.331Z"
   },
   {
    "duration": 1,
    "start_time": "2024-05-15T16:28:02.332Z"
   },
   {
    "duration": 0,
    "start_time": "2024-05-15T16:28:02.333Z"
   },
   {
    "duration": 0,
    "start_time": "2024-05-15T16:28:02.334Z"
   },
   {
    "duration": 0,
    "start_time": "2024-05-15T16:28:02.335Z"
   },
   {
    "duration": 0,
    "start_time": "2024-05-15T16:28:02.337Z"
   },
   {
    "duration": 0,
    "start_time": "2024-05-15T16:28:02.338Z"
   },
   {
    "duration": 0,
    "start_time": "2024-05-15T16:28:02.339Z"
   },
   {
    "duration": 0,
    "start_time": "2024-05-15T16:28:02.340Z"
   },
   {
    "duration": 0,
    "start_time": "2024-05-15T16:28:02.341Z"
   },
   {
    "duration": 0,
    "start_time": "2024-05-15T16:28:02.342Z"
   },
   {
    "duration": 0,
    "start_time": "2024-05-15T16:28:02.343Z"
   },
   {
    "duration": 0,
    "start_time": "2024-05-15T16:28:02.344Z"
   },
   {
    "duration": 0,
    "start_time": "2024-05-15T16:28:02.345Z"
   },
   {
    "duration": 0,
    "start_time": "2024-05-15T16:28:02.346Z"
   },
   {
    "duration": 0,
    "start_time": "2024-05-15T16:28:02.347Z"
   },
   {
    "duration": 0,
    "start_time": "2024-05-15T16:28:02.348Z"
   },
   {
    "duration": 1148,
    "start_time": "2024-05-15T16:28:59.641Z"
   },
   {
    "duration": 3,
    "start_time": "2024-05-15T16:29:00.793Z"
   },
   {
    "duration": 248,
    "start_time": "2024-05-15T16:29:00.797Z"
   },
   {
    "duration": 13,
    "start_time": "2024-05-15T16:29:01.047Z"
   },
   {
    "duration": 62,
    "start_time": "2024-05-15T16:29:01.061Z"
   },
   {
    "duration": 69,
    "start_time": "2024-05-15T16:29:01.125Z"
   },
   {
    "duration": 152,
    "start_time": "2024-05-15T16:29:01.195Z"
   },
   {
    "duration": 227,
    "start_time": "2024-05-15T16:29:01.348Z"
   },
   {
    "duration": 215,
    "start_time": "2024-05-15T16:29:01.577Z"
   },
   {
    "duration": 43,
    "start_time": "2024-05-15T16:29:01.794Z"
   },
   {
    "duration": 102,
    "start_time": "2024-05-15T16:29:01.839Z"
   },
   {
    "duration": 147,
    "start_time": "2024-05-15T16:29:01.943Z"
   },
   {
    "duration": 250,
    "start_time": "2024-05-15T16:29:02.092Z"
   },
   {
    "duration": 17,
    "start_time": "2024-05-15T16:29:02.344Z"
   },
   {
    "duration": 80,
    "start_time": "2024-05-15T16:29:02.362Z"
   },
   {
    "duration": 44,
    "start_time": "2024-05-15T16:29:02.443Z"
   },
   {
    "duration": 27,
    "start_time": "2024-05-15T16:29:02.489Z"
   },
   {
    "duration": 44,
    "start_time": "2024-05-15T16:29:02.517Z"
   },
   {
    "duration": 68,
    "start_time": "2024-05-15T16:29:02.563Z"
   },
   {
    "duration": 28,
    "start_time": "2024-05-15T16:29:02.633Z"
   },
   {
    "duration": 516,
    "start_time": "2024-05-15T16:29:02.662Z"
   },
   {
    "duration": 24,
    "start_time": "2024-05-15T16:29:03.180Z"
   },
   {
    "duration": 77,
    "start_time": "2024-05-15T16:29:03.206Z"
   },
   {
    "duration": 149,
    "start_time": "2024-05-15T16:29:03.285Z"
   },
   {
    "duration": 43,
    "start_time": "2024-05-15T16:29:03.436Z"
   },
   {
    "duration": 33,
    "start_time": "2024-05-15T16:29:03.481Z"
   },
   {
    "duration": 113,
    "start_time": "2024-05-15T16:29:03.516Z"
   },
   {
    "duration": 65,
    "start_time": "2024-05-15T16:29:03.632Z"
   },
   {
    "duration": 93,
    "start_time": "2024-05-15T16:29:03.698Z"
   },
   {
    "duration": 7,
    "start_time": "2024-05-15T16:29:03.793Z"
   },
   {
    "duration": 65,
    "start_time": "2024-05-15T16:29:03.801Z"
   },
   {
    "duration": 20,
    "start_time": "2024-05-15T16:29:03.868Z"
   },
   {
    "duration": 32,
    "start_time": "2024-05-15T16:29:03.889Z"
   },
   {
    "duration": 44,
    "start_time": "2024-05-15T16:29:03.923Z"
   },
   {
    "duration": 162,
    "start_time": "2024-05-15T16:29:03.968Z"
   },
   {
    "duration": 33,
    "start_time": "2024-05-15T16:29:04.132Z"
   },
   {
    "duration": 127,
    "start_time": "2024-05-15T16:29:04.194Z"
   },
   {
    "duration": 7,
    "start_time": "2024-05-15T16:29:04.323Z"
   },
   {
    "duration": 84,
    "start_time": "2024-05-15T16:29:04.332Z"
   },
   {
    "duration": 4,
    "start_time": "2024-05-15T16:29:04.418Z"
   },
   {
    "duration": 5,
    "start_time": "2024-05-15T16:29:04.425Z"
   },
   {
    "duration": 103,
    "start_time": "2024-05-15T16:29:04.432Z"
   },
   {
    "duration": 7,
    "start_time": "2024-05-15T16:29:04.536Z"
   },
   {
    "duration": 34,
    "start_time": "2024-05-15T16:29:04.544Z"
   },
   {
    "duration": 21,
    "start_time": "2024-05-15T16:29:04.579Z"
   },
   {
    "duration": 31,
    "start_time": "2024-05-15T16:29:04.602Z"
   },
   {
    "duration": 120,
    "start_time": "2024-05-15T16:29:04.634Z"
   },
   {
    "duration": 0,
    "start_time": "2024-05-15T16:29:04.755Z"
   },
   {
    "duration": 0,
    "start_time": "2024-05-15T16:29:04.757Z"
   },
   {
    "duration": 0,
    "start_time": "2024-05-15T16:29:04.758Z"
   },
   {
    "duration": 0,
    "start_time": "2024-05-15T16:29:04.759Z"
   },
   {
    "duration": 0,
    "start_time": "2024-05-15T16:29:04.760Z"
   },
   {
    "duration": 993,
    "start_time": "2024-05-15T16:29:43.011Z"
   },
   {
    "duration": 4,
    "start_time": "2024-05-15T16:29:44.006Z"
   },
   {
    "duration": 201,
    "start_time": "2024-05-15T16:29:44.012Z"
   },
   {
    "duration": 16,
    "start_time": "2024-05-15T16:29:44.214Z"
   },
   {
    "duration": 25,
    "start_time": "2024-05-15T16:29:44.231Z"
   },
   {
    "duration": 60,
    "start_time": "2024-05-15T16:29:44.257Z"
   },
   {
    "duration": 72,
    "start_time": "2024-05-15T16:29:44.319Z"
   },
   {
    "duration": 79,
    "start_time": "2024-05-15T16:29:44.392Z"
   },
   {
    "duration": 74,
    "start_time": "2024-05-15T16:29:44.473Z"
   },
   {
    "duration": 5,
    "start_time": "2024-05-15T16:29:44.550Z"
   },
   {
    "duration": 25,
    "start_time": "2024-05-15T16:29:44.557Z"
   },
   {
    "duration": 21,
    "start_time": "2024-05-15T16:29:44.583Z"
   },
   {
    "duration": 92,
    "start_time": "2024-05-15T16:29:44.606Z"
   },
   {
    "duration": 16,
    "start_time": "2024-05-15T16:29:44.700Z"
   },
   {
    "duration": 46,
    "start_time": "2024-05-15T16:29:44.717Z"
   },
   {
    "duration": 67,
    "start_time": "2024-05-15T16:29:44.764Z"
   },
   {
    "duration": 27,
    "start_time": "2024-05-15T16:29:44.833Z"
   },
   {
    "duration": 18,
    "start_time": "2024-05-15T16:29:44.861Z"
   },
   {
    "duration": 35,
    "start_time": "2024-05-15T16:29:44.880Z"
   },
   {
    "duration": 8,
    "start_time": "2024-05-15T16:29:44.917Z"
   },
   {
    "duration": 805,
    "start_time": "2024-05-15T16:29:44.927Z"
   },
   {
    "duration": 0,
    "start_time": "2024-05-15T16:29:45.735Z"
   },
   {
    "duration": 0,
    "start_time": "2024-05-15T16:29:45.736Z"
   },
   {
    "duration": 0,
    "start_time": "2024-05-15T16:29:45.737Z"
   },
   {
    "duration": 0,
    "start_time": "2024-05-15T16:29:45.738Z"
   },
   {
    "duration": 0,
    "start_time": "2024-05-15T16:29:45.739Z"
   },
   {
    "duration": 0,
    "start_time": "2024-05-15T16:29:45.740Z"
   },
   {
    "duration": 0,
    "start_time": "2024-05-15T16:29:45.741Z"
   },
   {
    "duration": 0,
    "start_time": "2024-05-15T16:29:45.742Z"
   },
   {
    "duration": 0,
    "start_time": "2024-05-15T16:29:45.743Z"
   },
   {
    "duration": 0,
    "start_time": "2024-05-15T16:29:45.744Z"
   },
   {
    "duration": 0,
    "start_time": "2024-05-15T16:29:45.745Z"
   },
   {
    "duration": 0,
    "start_time": "2024-05-15T16:29:45.746Z"
   },
   {
    "duration": 0,
    "start_time": "2024-05-15T16:29:45.747Z"
   },
   {
    "duration": 0,
    "start_time": "2024-05-15T16:29:45.748Z"
   },
   {
    "duration": 0,
    "start_time": "2024-05-15T16:29:45.749Z"
   },
   {
    "duration": 0,
    "start_time": "2024-05-15T16:29:45.750Z"
   },
   {
    "duration": 0,
    "start_time": "2024-05-15T16:29:45.751Z"
   },
   {
    "duration": 0,
    "start_time": "2024-05-15T16:29:45.752Z"
   },
   {
    "duration": 0,
    "start_time": "2024-05-15T16:29:45.753Z"
   },
   {
    "duration": 0,
    "start_time": "2024-05-15T16:29:45.753Z"
   },
   {
    "duration": 0,
    "start_time": "2024-05-15T16:29:45.754Z"
   },
   {
    "duration": 0,
    "start_time": "2024-05-15T16:29:45.755Z"
   },
   {
    "duration": 0,
    "start_time": "2024-05-15T16:29:45.756Z"
   },
   {
    "duration": 0,
    "start_time": "2024-05-15T16:29:45.795Z"
   },
   {
    "duration": 0,
    "start_time": "2024-05-15T16:29:45.796Z"
   },
   {
    "duration": 0,
    "start_time": "2024-05-15T16:29:45.798Z"
   },
   {
    "duration": 0,
    "start_time": "2024-05-15T16:29:45.800Z"
   },
   {
    "duration": 0,
    "start_time": "2024-05-15T16:29:45.801Z"
   },
   {
    "duration": 0,
    "start_time": "2024-05-15T16:29:45.803Z"
   },
   {
    "duration": 0,
    "start_time": "2024-05-15T16:29:45.804Z"
   },
   {
    "duration": 0,
    "start_time": "2024-05-15T16:29:45.805Z"
   },
   {
    "duration": 1204,
    "start_time": "2024-05-15T16:30:07.905Z"
   },
   {
    "duration": 3,
    "start_time": "2024-05-15T16:30:09.110Z"
   },
   {
    "duration": 211,
    "start_time": "2024-05-15T16:30:09.115Z"
   },
   {
    "duration": 22,
    "start_time": "2024-05-15T16:30:09.328Z"
   },
   {
    "duration": 28,
    "start_time": "2024-05-15T16:30:09.352Z"
   },
   {
    "duration": 37,
    "start_time": "2024-05-15T16:30:09.381Z"
   },
   {
    "duration": 99,
    "start_time": "2024-05-15T16:30:09.420Z"
   },
   {
    "duration": 69,
    "start_time": "2024-05-15T16:30:09.520Z"
   },
   {
    "duration": 64,
    "start_time": "2024-05-15T16:30:09.591Z"
   },
   {
    "duration": 10,
    "start_time": "2024-05-15T16:30:09.657Z"
   },
   {
    "duration": 15,
    "start_time": "2024-05-15T16:30:09.668Z"
   },
   {
    "duration": 26,
    "start_time": "2024-05-15T16:30:09.684Z"
   },
   {
    "duration": 72,
    "start_time": "2024-05-15T16:30:09.712Z"
   },
   {
    "duration": 20,
    "start_time": "2024-05-15T16:30:09.786Z"
   },
   {
    "duration": 53,
    "start_time": "2024-05-15T16:30:09.808Z"
   },
   {
    "duration": 54,
    "start_time": "2024-05-15T16:30:09.863Z"
   },
   {
    "duration": 26,
    "start_time": "2024-05-15T16:30:09.918Z"
   },
   {
    "duration": 26,
    "start_time": "2024-05-15T16:30:09.945Z"
   },
   {
    "duration": 24,
    "start_time": "2024-05-15T16:30:09.973Z"
   },
   {
    "duration": 20,
    "start_time": "2024-05-15T16:30:09.999Z"
   },
   {
    "duration": 446,
    "start_time": "2024-05-15T16:30:10.021Z"
   },
   {
    "duration": 26,
    "start_time": "2024-05-15T16:30:10.468Z"
   },
   {
    "duration": 17,
    "start_time": "2024-05-15T16:30:10.496Z"
   },
   {
    "duration": 83,
    "start_time": "2024-05-15T16:30:10.514Z"
   },
   {
    "duration": 18,
    "start_time": "2024-05-15T16:30:10.599Z"
   },
   {
    "duration": 31,
    "start_time": "2024-05-15T16:30:10.618Z"
   },
   {
    "duration": 60,
    "start_time": "2024-05-15T16:30:10.650Z"
   },
   {
    "duration": 23,
    "start_time": "2024-05-15T16:30:10.714Z"
   },
   {
    "duration": 81,
    "start_time": "2024-05-15T16:30:10.738Z"
   },
   {
    "duration": 6,
    "start_time": "2024-05-15T16:30:10.820Z"
   },
   {
    "duration": 35,
    "start_time": "2024-05-15T16:30:10.827Z"
   },
   {
    "duration": 20,
    "start_time": "2024-05-15T16:30:10.864Z"
   },
   {
    "duration": 17,
    "start_time": "2024-05-15T16:30:10.885Z"
   },
   {
    "duration": 29,
    "start_time": "2024-05-15T16:30:10.903Z"
   },
   {
    "duration": 173,
    "start_time": "2024-05-15T16:30:10.934Z"
   },
   {
    "duration": 34,
    "start_time": "2024-05-15T16:30:11.109Z"
   },
   {
    "duration": 152,
    "start_time": "2024-05-15T16:30:11.144Z"
   },
   {
    "duration": 14,
    "start_time": "2024-05-15T16:30:11.298Z"
   },
   {
    "duration": 61,
    "start_time": "2024-05-15T16:30:11.314Z"
   },
   {
    "duration": 3,
    "start_time": "2024-05-15T16:30:11.377Z"
   },
   {
    "duration": 5,
    "start_time": "2024-05-15T16:30:11.393Z"
   },
   {
    "duration": 105,
    "start_time": "2024-05-15T16:30:11.399Z"
   },
   {
    "duration": 7,
    "start_time": "2024-05-15T16:30:11.506Z"
   },
   {
    "duration": 17,
    "start_time": "2024-05-15T16:30:11.515Z"
   },
   {
    "duration": 70,
    "start_time": "2024-05-15T16:30:11.533Z"
   },
   {
    "duration": 35,
    "start_time": "2024-05-15T16:30:11.605Z"
   },
   {
    "duration": 127,
    "start_time": "2024-05-15T16:30:11.642Z"
   },
   {
    "duration": 0,
    "start_time": "2024-05-15T16:30:11.770Z"
   },
   {
    "duration": 0,
    "start_time": "2024-05-15T16:30:11.771Z"
   },
   {
    "duration": 0,
    "start_time": "2024-05-15T16:30:11.772Z"
   },
   {
    "duration": 0,
    "start_time": "2024-05-15T16:30:11.773Z"
   },
   {
    "duration": 0,
    "start_time": "2024-05-15T16:30:11.774Z"
   },
   {
    "duration": 1231,
    "start_time": "2024-05-15T16:30:29.612Z"
   },
   {
    "duration": 3,
    "start_time": "2024-05-15T16:30:30.845Z"
   },
   {
    "duration": 336,
    "start_time": "2024-05-15T16:30:30.849Z"
   },
   {
    "duration": 17,
    "start_time": "2024-05-15T16:30:31.187Z"
   },
   {
    "duration": 122,
    "start_time": "2024-05-15T16:30:31.206Z"
   },
   {
    "duration": 96,
    "start_time": "2024-05-15T16:30:31.330Z"
   },
   {
    "duration": 96,
    "start_time": "2024-05-15T16:30:31.427Z"
   },
   {
    "duration": 86,
    "start_time": "2024-05-15T16:30:31.524Z"
   },
   {
    "duration": 58,
    "start_time": "2024-05-15T16:30:31.611Z"
   },
   {
    "duration": 29,
    "start_time": "2024-05-15T16:30:31.672Z"
   },
   {
    "duration": 20,
    "start_time": "2024-05-15T16:30:31.703Z"
   },
   {
    "duration": 38,
    "start_time": "2024-05-15T16:30:31.725Z"
   },
   {
    "duration": 104,
    "start_time": "2024-05-15T16:30:31.765Z"
   },
   {
    "duration": 14,
    "start_time": "2024-05-15T16:30:31.871Z"
   },
   {
    "duration": 79,
    "start_time": "2024-05-15T16:30:31.886Z"
   },
   {
    "duration": 67,
    "start_time": "2024-05-15T16:30:31.967Z"
   },
   {
    "duration": 35,
    "start_time": "2024-05-15T16:30:32.036Z"
   },
   {
    "duration": 114,
    "start_time": "2024-05-15T16:30:32.073Z"
   },
   {
    "duration": 91,
    "start_time": "2024-05-15T16:30:32.188Z"
   },
   {
    "duration": 12,
    "start_time": "2024-05-15T16:30:32.281Z"
   },
   {
    "duration": 436,
    "start_time": "2024-05-15T16:30:32.295Z"
   },
   {
    "duration": 19,
    "start_time": "2024-05-15T16:30:32.733Z"
   },
   {
    "duration": 156,
    "start_time": "2024-05-15T16:30:32.754Z"
   },
   {
    "duration": 204,
    "start_time": "2024-05-15T16:30:32.911Z"
   },
   {
    "duration": 15,
    "start_time": "2024-05-15T16:30:33.116Z"
   },
   {
    "duration": 56,
    "start_time": "2024-05-15T16:30:33.133Z"
   },
   {
    "duration": 119,
    "start_time": "2024-05-15T16:30:33.191Z"
   },
   {
    "duration": 86,
    "start_time": "2024-05-15T16:30:33.314Z"
   },
   {
    "duration": 156,
    "start_time": "2024-05-15T16:30:33.402Z"
   },
   {
    "duration": 135,
    "start_time": "2024-05-15T16:30:33.559Z"
   },
   {
    "duration": 95,
    "start_time": "2024-05-15T16:30:33.696Z"
   },
   {
    "duration": 66,
    "start_time": "2024-05-15T16:30:33.793Z"
   },
   {
    "duration": 64,
    "start_time": "2024-05-15T16:30:33.860Z"
   },
   {
    "duration": 84,
    "start_time": "2024-05-15T16:30:33.927Z"
   },
   {
    "duration": 252,
    "start_time": "2024-05-15T16:30:34.013Z"
   },
   {
    "duration": 33,
    "start_time": "2024-05-15T16:30:34.267Z"
   },
   {
    "duration": 197,
    "start_time": "2024-05-15T16:30:34.301Z"
   },
   {
    "duration": 140,
    "start_time": "2024-05-15T16:30:34.501Z"
   },
   {
    "duration": 115,
    "start_time": "2024-05-15T16:30:34.642Z"
   },
   {
    "duration": 3,
    "start_time": "2024-05-15T16:30:34.758Z"
   },
   {
    "duration": 12,
    "start_time": "2024-05-15T16:30:34.763Z"
   },
   {
    "duration": 109,
    "start_time": "2024-05-15T16:30:34.777Z"
   },
   {
    "duration": 6,
    "start_time": "2024-05-15T16:30:34.887Z"
   },
   {
    "duration": 94,
    "start_time": "2024-05-15T16:30:34.895Z"
   },
   {
    "duration": 20,
    "start_time": "2024-05-15T16:30:34.991Z"
   },
   {
    "duration": 58,
    "start_time": "2024-05-15T16:30:35.013Z"
   },
   {
    "duration": 55,
    "start_time": "2024-05-15T16:30:35.072Z"
   },
   {
    "duration": 78,
    "start_time": "2024-05-15T16:30:35.128Z"
   },
   {
    "duration": 91,
    "start_time": "2024-05-15T16:30:35.208Z"
   },
   {
    "duration": 79,
    "start_time": "2024-05-15T16:30:35.301Z"
   },
   {
    "duration": 39,
    "start_time": "2024-05-15T16:30:35.381Z"
   },
   {
    "duration": 39,
    "start_time": "2024-05-15T16:30:35.422Z"
   },
   {
    "duration": 3,
    "start_time": "2024-05-15T16:30:57.240Z"
   },
   {
    "duration": 3,
    "start_time": "2024-05-15T16:30:58.190Z"
   },
   {
    "duration": 197,
    "start_time": "2024-05-15T16:30:58.958Z"
   },
   {
    "duration": 13,
    "start_time": "2024-05-15T16:31:11.995Z"
   },
   {
    "duration": 27,
    "start_time": "2024-05-15T16:31:16.196Z"
   },
   {
    "duration": 15,
    "start_time": "2024-05-15T16:31:18.235Z"
   },
   {
    "duration": 69,
    "start_time": "2024-05-15T16:31:42.053Z"
   },
   {
    "duration": 59,
    "start_time": "2024-05-15T16:31:42.620Z"
   },
   {
    "duration": 7,
    "start_time": "2024-05-15T16:31:45.608Z"
   },
   {
    "duration": 7,
    "start_time": "2024-05-15T16:31:47.179Z"
   },
   {
    "duration": 7,
    "start_time": "2024-05-15T16:31:58.710Z"
   },
   {
    "duration": 74,
    "start_time": "2024-05-15T16:31:59.672Z"
   },
   {
    "duration": 13,
    "start_time": "2024-05-15T16:32:08.771Z"
   },
   {
    "duration": 48,
    "start_time": "2024-05-15T16:32:57.560Z"
   },
   {
    "duration": 26,
    "start_time": "2024-05-15T16:32:58.343Z"
   },
   {
    "duration": 8,
    "start_time": "2024-05-15T16:32:59.511Z"
   },
   {
    "duration": 17,
    "start_time": "2024-05-15T16:33:01.310Z"
   },
   {
    "duration": 37,
    "start_time": "2024-05-15T16:33:48.293Z"
   },
   {
    "duration": 6,
    "start_time": "2024-05-15T16:34:16.385Z"
   },
   {
    "duration": 355,
    "start_time": "2024-05-15T16:34:21.019Z"
   },
   {
    "duration": 10,
    "start_time": "2024-05-15T16:34:29.649Z"
   },
   {
    "duration": 13,
    "start_time": "2024-05-15T16:34:40.493Z"
   },
   {
    "duration": 78,
    "start_time": "2024-05-15T16:34:45.295Z"
   },
   {
    "duration": 17,
    "start_time": "2024-05-15T16:34:45.726Z"
   },
   {
    "duration": 7,
    "start_time": "2024-05-15T16:34:46.259Z"
   },
   {
    "duration": 37,
    "start_time": "2024-05-15T16:34:48.094Z"
   },
   {
    "duration": 34,
    "start_time": "2024-05-15T16:34:59.982Z"
   },
   {
    "duration": 48,
    "start_time": "2024-05-15T16:35:14.170Z"
   },
   {
    "duration": 7,
    "start_time": "2024-05-15T16:35:15.237Z"
   },
   {
    "duration": 7,
    "start_time": "2024-05-15T16:35:19.120Z"
   },
   {
    "duration": 8,
    "start_time": "2024-05-15T16:35:19.653Z"
   },
   {
    "duration": 4,
    "start_time": "2024-05-15T16:35:33.591Z"
   },
   {
    "duration": 9,
    "start_time": "2024-05-15T16:35:35.430Z"
   },
   {
    "duration": 14,
    "start_time": "2024-05-15T16:36:14.488Z"
   },
   {
    "duration": 28,
    "start_time": "2024-05-15T16:36:15.855Z"
   },
   {
    "duration": 70,
    "start_time": "2024-05-15T16:36:22.353Z"
   },
   {
    "duration": 7,
    "start_time": "2024-05-15T16:36:23.340Z"
   },
   {
    "duration": 56,
    "start_time": "2024-05-15T16:36:26.411Z"
   },
   {
    "duration": 3,
    "start_time": "2024-05-15T16:36:27.742Z"
   },
   {
    "duration": 4,
    "start_time": "2024-05-15T16:36:29.159Z"
   },
   {
    "duration": 84,
    "start_time": "2024-05-15T16:36:34.594Z"
   },
   {
    "duration": 7,
    "start_time": "2024-05-15T16:36:35.191Z"
   },
   {
    "duration": 4,
    "start_time": "2024-05-15T16:36:47.480Z"
   },
   {
    "duration": 7,
    "start_time": "2024-05-15T16:36:48.014Z"
   },
   {
    "duration": 20,
    "start_time": "2024-05-15T16:36:52.265Z"
   },
   {
    "duration": 7,
    "start_time": "2024-05-15T16:36:59.651Z"
   },
   {
    "duration": 6,
    "start_time": "2024-05-15T16:37:24.359Z"
   },
   {
    "duration": 10,
    "start_time": "2024-05-15T16:37:29.244Z"
   },
   {
    "duration": 10,
    "start_time": "2024-05-15T16:37:31.160Z"
   },
   {
    "duration": 10,
    "start_time": "2024-05-15T16:37:32.918Z"
   },
   {
    "duration": 10,
    "start_time": "2024-05-15T16:37:52.783Z"
   }
  ],
  "kernelspec": {
   "display_name": "Python 3 (ipykernel)",
   "language": "python",
   "name": "python3"
  },
  "language_info": {
   "codemirror_mode": {
    "name": "ipython",
    "version": 3
   },
   "file_extension": ".py",
   "mimetype": "text/x-python",
   "name": "python",
   "nbconvert_exporter": "python",
   "pygments_lexer": "ipython3",
   "version": "3.9.5"
  },
  "toc": {
   "base_numbering": 1,
   "nav_menu": {},
   "number_sections": true,
   "sideBar": true,
   "skip_h1_title": true,
   "title_cell": "Table of Contents",
   "title_sidebar": "Contents",
   "toc_cell": false,
   "toc_position": {
    "height": "calc(100% - 180px)",
    "left": "10px",
    "top": "150px",
    "width": "512px"
   },
   "toc_section_display": true,
   "toc_window_display": true
  }
 },
 "nbformat": 4,
 "nbformat_minor": 2
}
